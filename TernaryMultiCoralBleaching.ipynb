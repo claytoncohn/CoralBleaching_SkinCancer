{
  "nbformat": 4,
  "nbformat_minor": 0,
  "metadata": {
    "colab": {
      "name": "TernaryMultiCoralBleaching.ipynb",
      "provenance": [],
      "collapsed_sections": [],
      "machine_shape": "hm",
      "authorship_tag": "ABX9TyNCzio/3Dlo0Ii3oKe/Q13C",
      "include_colab_link": true
    },
    "kernelspec": {
      "name": "python3",
      "display_name": "Python 3"
    },
    "accelerator": "GPU"
  },
  "cells": [
    {
      "cell_type": "markdown",
      "metadata": {
        "id": "view-in-github",
        "colab_type": "text"
      },
      "source": [
        "<a href=\"https://colab.research.google.com/github/claytoncohn/CoralBleaching_SkinCancer/blob/master/TernaryMultiCoralBleaching.ipynb\" target=\"_parent\"><img src=\"https://colab.research.google.com/assets/colab-badge.svg\" alt=\"Open In Colab\"/></a>"
      ]
    },
    {
      "cell_type": "markdown",
      "metadata": {
        "id": "erJHJpl3RO4E"
      },
      "source": [
        "This notebook is created by Clayton Cohn for the purposes of detecting the existence of causal chains in the Coral Bleaching and Skin Cancer datasets using BERT.\n",
        "\n",
        "BERT will be fine-tuned for ternary classification: 0 indicating the absense of a causal relation, 1 indicating the presence of a valid causal relation, and 2 indicating the presence an invalid causal relation. After that, it will be put through another round of classification to see if the model can identify the correct relation.\n",
        "\n",
        "The code in this notebook is originally adopted from:\n",
        "\n",
        "https://colab.research.google.com/drive/1ywsvwO6thOVOrfagjjfuxEf6xVRxbUNO#scrollTo=IUM0UA1qJaVB\n",
        "\n",
        "I have adapted it for use with the Skin Cancer and Coral Bleaching datasets below:\n",
        "\n",
        "https://knowledge.depaul.edu/display/DNLP/Tasks+and+Data\n",
        "---\n"
      ]
    },
    {
      "cell_type": "markdown",
      "metadata": {
        "id": "-sIkXqo1TP-D"
      },
      "source": [
        "Mount Drive to Colab."
      ]
    },
    {
      "cell_type": "code",
      "metadata": {
        "id": "3_c3XEJBTpRV",
        "outputId": "9aa1c33a-24fd-4ac5-a770-be3313ee3fb7",
        "colab": {
          "base_uri": "https://localhost:8080/",
          "height": 34
        }
      },
      "source": [
        "from google.colab import drive\n",
        "drive.mount('/content/drive')"
      ],
      "execution_count": 1,
      "outputs": [
        {
          "output_type": "stream",
          "text": [
            "Drive already mounted at /content/drive; to attempt to forcibly remount, call drive.mount(\"/content/drive\", force_remount=True).\n"
          ],
          "name": "stdout"
        }
      ]
    },
    {
      "cell_type": "markdown",
      "metadata": {
        "id": "4hxMggnJU1VX"
      },
      "source": [
        "Import the desired dataset."
      ]
    },
    {
      "cell_type": "code",
      "metadata": {
        "id": "zZ0A4ZXpRDuV",
        "outputId": "32d6535c-f746-4d72-8733-7ed052c909ff",
        "colab": {
          "base_uri": "https://localhost:8080/",
          "height": 359
        }
      },
      "source": [
        "import pandas as pd\n",
        "\n",
        "DATA_PATH = \"drive/My Drive/colab/data/\"\n",
        "DATA_NAME = \"EBA1415-CoralBleaching-big-sentences.tsv\"\n",
        "\n",
        "df = pd.read_csv(DATA_PATH + DATA_NAME, delimiter='\\t', header=None, names=['essay', 'relation', 's_num', 'sentence'])\n",
        "df.head(10)"
      ],
      "execution_count": 2,
      "outputs": [
        {
          "output_type": "execute_result",
          "data": {
            "text/html": [
              "<div>\n",
              "<style scoped>\n",
              "    .dataframe tbody tr th:only-of-type {\n",
              "        vertical-align: middle;\n",
              "    }\n",
              "\n",
              "    .dataframe tbody tr th {\n",
              "        vertical-align: top;\n",
              "    }\n",
              "\n",
              "    .dataframe thead th {\n",
              "        text-align: right;\n",
              "    }\n",
              "</style>\n",
              "<table border=\"1\" class=\"dataframe\">\n",
              "  <thead>\n",
              "    <tr style=\"text-align: right;\">\n",
              "      <th></th>\n",
              "      <th>essay</th>\n",
              "      <th>relation</th>\n",
              "      <th>s_num</th>\n",
              "      <th>sentence</th>\n",
              "    </tr>\n",
              "  </thead>\n",
              "  <tbody>\n",
              "    <tr>\n",
              "      <th>0</th>\n",
              "      <td>EBA1415_KNKC_1_CB_ES-05410</td>\n",
              "      <td>O</td>\n",
              "      <td>1.0</td>\n",
              "      <td>Coral and zooxanthellae depend an each other i...</td>\n",
              "    </tr>\n",
              "    <tr>\n",
              "      <th>1</th>\n",
              "      <td>EBA1415_KNKC_1_CB_ES-05410</td>\n",
              "      <td>R-7-50</td>\n",
              "      <td>2.0</td>\n",
              "      <td>If the coral dies, or gets bleached, then the ...</td>\n",
              "    </tr>\n",
              "    <tr>\n",
              "      <th>2</th>\n",
              "      <td>EBA1415_KNKC_1_CB_ES-05410</td>\n",
              "      <td>O</td>\n",
              "      <td>3.0</td>\n",
              "      <td>Or the other way around.</td>\n",
              "    </tr>\n",
              "    <tr>\n",
              "      <th>3</th>\n",
              "      <td>EBA1415_KNKC_1_CB_ES-05410</td>\n",
              "      <td>O</td>\n",
              "      <td>4.0</td>\n",
              "      <td>In the text Shifting Trade Winds, it talks abo...</td>\n",
              "    </tr>\n",
              "    <tr>\n",
              "      <th>4</th>\n",
              "      <td>EBA1415_KNKC_1_CB_ES-05410</td>\n",
              "      <td>R-3-1</td>\n",
              "      <td>5.0</td>\n",
              "      <td>And another source states how when the water t...</td>\n",
              "    </tr>\n",
              "    <tr>\n",
              "      <th>5</th>\n",
              "      <td>EBA1415_KNKC_1_CB_ES-05410</td>\n",
              "      <td>O</td>\n",
              "      <td>6.0</td>\n",
              "      <td>When trade winds weaken, sea levels rises inch...</td>\n",
              "    </tr>\n",
              "    <tr>\n",
              "      <th>6</th>\n",
              "      <td>EBA1415_KNKC_1_CB_ES-05410</td>\n",
              "      <td>O</td>\n",
              "      <td>7.0</td>\n",
              "      <td>Which is bad for coral and zooxanthellae becau...</td>\n",
              "    </tr>\n",
              "    <tr>\n",
              "      <th>7</th>\n",
              "      <td>EBA1415_KNKC_1_CB_ES-05410</td>\n",
              "      <td>O</td>\n",
              "      <td>8.0</td>\n",
              "      <td>If the zooxanthellae can't get a light source ...</td>\n",
              "    </tr>\n",
              "    <tr>\n",
              "      <th>8</th>\n",
              "      <td>EBA1415_KNKC_1_CB_ES-05410</td>\n",
              "      <td>R-5B-50</td>\n",
              "      <td>9.1</td>\n",
              "      <td>Which can affect the coral because if the zoox...</td>\n",
              "    </tr>\n",
              "    <tr>\n",
              "      <th>9</th>\n",
              "      <td>EBA1415_KNKC_1_CB_ES-05410</td>\n",
              "      <td>R-50-7</td>\n",
              "      <td>9.2</td>\n",
              "      <td>Which can affect the coral because if the zoox...</td>\n",
              "    </tr>\n",
              "  </tbody>\n",
              "</table>\n",
              "</div>"
            ],
            "text/plain": [
              "                        essay  ...                                           sentence\n",
              "0  EBA1415_KNKC_1_CB_ES-05410  ...  Coral and zooxanthellae depend an each other i...\n",
              "1  EBA1415_KNKC_1_CB_ES-05410  ...  If the coral dies, or gets bleached, then the ...\n",
              "2  EBA1415_KNKC_1_CB_ES-05410  ...                           Or the other way around.\n",
              "3  EBA1415_KNKC_1_CB_ES-05410  ...  In the text Shifting Trade Winds, it talks abo...\n",
              "4  EBA1415_KNKC_1_CB_ES-05410  ...  And another source states how when the water t...\n",
              "5  EBA1415_KNKC_1_CB_ES-05410  ...  When trade winds weaken, sea levels rises inch...\n",
              "6  EBA1415_KNKC_1_CB_ES-05410  ...  Which is bad for coral and zooxanthellae becau...\n",
              "7  EBA1415_KNKC_1_CB_ES-05410  ...  If the zooxanthellae can't get a light source ...\n",
              "8  EBA1415_KNKC_1_CB_ES-05410  ...  Which can affect the coral because if the zoox...\n",
              "9  EBA1415_KNKC_1_CB_ES-05410  ...  Which can affect the coral because if the zoox...\n",
              "\n",
              "[10 rows x 4 columns]"
            ]
          },
          "metadata": {
            "tags": []
          },
          "execution_count": 2
        }
      ]
    },
    {
      "cell_type": "markdown",
      "metadata": {
        "id": "zHshYuNpgq9o"
      },
      "source": [
        "Must transform relation labels to ternary labels.\n"
      ]
    },
    {
      "cell_type": "code",
      "metadata": {
        "id": "JcYIL8FWgzJs",
        "outputId": "8a11050b-b741-4db9-a063-56f8f704b8e9",
        "colab": {
          "base_uri": "https://localhost:8080/",
          "height": 34
        }
      },
      "source": [
        "relations_pd = df.relation.copy(deep=True)\n",
        "\n",
        "relations = [\n",
        "                   \"1,2\", \"1,3\", \"1,4\", \"1,5\", \"1,5B\", \"1,14\", \"1,6\", \"1,7\", \"1,50\",\n",
        "                   \"2,3\", \"2,4\", \"2,5\", \"2,5B\", \"2,14\", \"2,6\", \"2,7\", \"2,50\",\n",
        "                   \"3,4\", \"3,5\", \"3,5B\", \"3,14\", \"3,6\", \"3,7\", \"3,50\",\n",
        "                   \"4,5\", \"4,5B\", \"4,14\", \"4,6\", \"4,7\", \"4,50\",\n",
        "                   \"5,5B\", \"5,14\", \"5,6\", \"5,7\", \"5,50\",\n",
        "                   \"5B,14\", \"5B,6\", \"5B,7\", \"5B,50\",\n",
        "                   \"11,12\", \"11,13\", \"11,14\", \"11,6\", \"11,7\", \"11,50\",\n",
        "                   \"12,13\", \"12,14\", \"12,6\", \"12,7\", \"12,50\",\n",
        "                   \"13,14\", \"13,6\", \"13,7\",\"13,50\",\n",
        "                   \"14,6\", \"14,7\", \"14,50\",\n",
        "                   \"6,7\", \"6,50\",\n",
        "                   \"7,50\"\n",
        "                  ]\n",
        "print(\"{} unique coral bleaching relations\".format(len(relations)))\n",
        "\n",
        "for i, rel in relations_pd.items():\n",
        "  chain = rel.split(\"-\")\n",
        "\n",
        "  if chain[0] == \"O\":\n",
        "    relations_pd.at[i] = 0\n",
        "    continue\n",
        "  \n",
        "  chain = chain[1] + \",\" + chain[2]\n",
        "\n",
        "  if chain in relations:\n",
        "    relations_pd.at[i] = 1\n",
        "  else: \n",
        "    relations_pd.at[i] = 2"
      ],
      "execution_count": 3,
      "outputs": [
        {
          "output_type": "stream",
          "text": [
            "60 unique coral bleaching relations\n"
          ],
          "name": "stdout"
        }
      ]
    },
    {
      "cell_type": "code",
      "metadata": {
        "id": "ME4ZcO_Wt2Ij",
        "outputId": "6ebbd413-2674-4bea-c63d-8a87ce47c239",
        "colab": {
          "base_uri": "https://localhost:8080/",
          "height": 359
        }
      },
      "source": [
        "df_ternary = df.copy(deep=True)\n",
        "df_ternary.relation = relations_pd\n",
        "df_ternary.head(10)"
      ],
      "execution_count": 4,
      "outputs": [
        {
          "output_type": "execute_result",
          "data": {
            "text/html": [
              "<div>\n",
              "<style scoped>\n",
              "    .dataframe tbody tr th:only-of-type {\n",
              "        vertical-align: middle;\n",
              "    }\n",
              "\n",
              "    .dataframe tbody tr th {\n",
              "        vertical-align: top;\n",
              "    }\n",
              "\n",
              "    .dataframe thead th {\n",
              "        text-align: right;\n",
              "    }\n",
              "</style>\n",
              "<table border=\"1\" class=\"dataframe\">\n",
              "  <thead>\n",
              "    <tr style=\"text-align: right;\">\n",
              "      <th></th>\n",
              "      <th>essay</th>\n",
              "      <th>relation</th>\n",
              "      <th>s_num</th>\n",
              "      <th>sentence</th>\n",
              "    </tr>\n",
              "  </thead>\n",
              "  <tbody>\n",
              "    <tr>\n",
              "      <th>0</th>\n",
              "      <td>EBA1415_KNKC_1_CB_ES-05410</td>\n",
              "      <td>0</td>\n",
              "      <td>1.0</td>\n",
              "      <td>Coral and zooxanthellae depend an each other i...</td>\n",
              "    </tr>\n",
              "    <tr>\n",
              "      <th>1</th>\n",
              "      <td>EBA1415_KNKC_1_CB_ES-05410</td>\n",
              "      <td>1</td>\n",
              "      <td>2.0</td>\n",
              "      <td>If the coral dies, or gets bleached, then the ...</td>\n",
              "    </tr>\n",
              "    <tr>\n",
              "      <th>2</th>\n",
              "      <td>EBA1415_KNKC_1_CB_ES-05410</td>\n",
              "      <td>0</td>\n",
              "      <td>3.0</td>\n",
              "      <td>Or the other way around.</td>\n",
              "    </tr>\n",
              "    <tr>\n",
              "      <th>3</th>\n",
              "      <td>EBA1415_KNKC_1_CB_ES-05410</td>\n",
              "      <td>0</td>\n",
              "      <td>4.0</td>\n",
              "      <td>In the text Shifting Trade Winds, it talks abo...</td>\n",
              "    </tr>\n",
              "    <tr>\n",
              "      <th>4</th>\n",
              "      <td>EBA1415_KNKC_1_CB_ES-05410</td>\n",
              "      <td>2</td>\n",
              "      <td>5.0</td>\n",
              "      <td>And another source states how when the water t...</td>\n",
              "    </tr>\n",
              "    <tr>\n",
              "      <th>5</th>\n",
              "      <td>EBA1415_KNKC_1_CB_ES-05410</td>\n",
              "      <td>0</td>\n",
              "      <td>6.0</td>\n",
              "      <td>When trade winds weaken, sea levels rises inch...</td>\n",
              "    </tr>\n",
              "    <tr>\n",
              "      <th>6</th>\n",
              "      <td>EBA1415_KNKC_1_CB_ES-05410</td>\n",
              "      <td>0</td>\n",
              "      <td>7.0</td>\n",
              "      <td>Which is bad for coral and zooxanthellae becau...</td>\n",
              "    </tr>\n",
              "    <tr>\n",
              "      <th>7</th>\n",
              "      <td>EBA1415_KNKC_1_CB_ES-05410</td>\n",
              "      <td>0</td>\n",
              "      <td>8.0</td>\n",
              "      <td>If the zooxanthellae can't get a light source ...</td>\n",
              "    </tr>\n",
              "    <tr>\n",
              "      <th>8</th>\n",
              "      <td>EBA1415_KNKC_1_CB_ES-05410</td>\n",
              "      <td>1</td>\n",
              "      <td>9.1</td>\n",
              "      <td>Which can affect the coral because if the zoox...</td>\n",
              "    </tr>\n",
              "    <tr>\n",
              "      <th>9</th>\n",
              "      <td>EBA1415_KNKC_1_CB_ES-05410</td>\n",
              "      <td>2</td>\n",
              "      <td>9.2</td>\n",
              "      <td>Which can affect the coral because if the zoox...</td>\n",
              "    </tr>\n",
              "  </tbody>\n",
              "</table>\n",
              "</div>"
            ],
            "text/plain": [
              "                        essay  ...                                           sentence\n",
              "0  EBA1415_KNKC_1_CB_ES-05410  ...  Coral and zooxanthellae depend an each other i...\n",
              "1  EBA1415_KNKC_1_CB_ES-05410  ...  If the coral dies, or gets bleached, then the ...\n",
              "2  EBA1415_KNKC_1_CB_ES-05410  ...                           Or the other way around.\n",
              "3  EBA1415_KNKC_1_CB_ES-05410  ...  In the text Shifting Trade Winds, it talks abo...\n",
              "4  EBA1415_KNKC_1_CB_ES-05410  ...  And another source states how when the water t...\n",
              "5  EBA1415_KNKC_1_CB_ES-05410  ...  When trade winds weaken, sea levels rises inch...\n",
              "6  EBA1415_KNKC_1_CB_ES-05410  ...  Which is bad for coral and zooxanthellae becau...\n",
              "7  EBA1415_KNKC_1_CB_ES-05410  ...  If the zooxanthellae can't get a light source ...\n",
              "8  EBA1415_KNKC_1_CB_ES-05410  ...  Which can affect the coral because if the zoox...\n",
              "9  EBA1415_KNKC_1_CB_ES-05410  ...  Which can affect the coral because if the zoox...\n",
              "\n",
              "[10 rows x 4 columns]"
            ]
          },
          "metadata": {
            "tags": []
          },
          "execution_count": 4
        }
      ]
    },
    {
      "cell_type": "markdown",
      "metadata": {
        "id": "eukpkXF6vdeT"
      },
      "source": [
        "Next, we must address the issue that some sentences have multiple relations. This could be a problem if a sentence has one valid relation and one invalid one (the same sentence will have multiple labels). To correct this, we will remove the duplicate instances and define each sentence to be 1 if it contains *at least one* causal relation. Otherwise, it will be classified as -1 if it has at least one invalid causal relation, and -1 otherwise.\n",
        "\n",
        "The parse was provided by @TrentonMcKinney on StackOverflow:\n",
        "https://stackoverflow.com/questions/63697275/regex-string-for-different-versions/63697498#63697498"
      ]
    },
    {
      "cell_type": "code",
      "metadata": {
        "id": "xTpiRii5wNJs",
        "outputId": "9c201ee7-7331-4564-e018-d7d26ae4df6e",
        "colab": {
          "base_uri": "https://localhost:8080/",
          "height": 824
        }
      },
      "source": [
        "df_duplicate_sentences = df_ternary[df_ternary.s_num.astype(str).str.split('.', expand=True)[1] != '0']\n",
        "df_duplicate_sentences.head(25)"
      ],
      "execution_count": 5,
      "outputs": [
        {
          "output_type": "execute_result",
          "data": {
            "text/html": [
              "<div>\n",
              "<style scoped>\n",
              "    .dataframe tbody tr th:only-of-type {\n",
              "        vertical-align: middle;\n",
              "    }\n",
              "\n",
              "    .dataframe tbody tr th {\n",
              "        vertical-align: top;\n",
              "    }\n",
              "\n",
              "    .dataframe thead th {\n",
              "        text-align: right;\n",
              "    }\n",
              "</style>\n",
              "<table border=\"1\" class=\"dataframe\">\n",
              "  <thead>\n",
              "    <tr style=\"text-align: right;\">\n",
              "      <th></th>\n",
              "      <th>essay</th>\n",
              "      <th>relation</th>\n",
              "      <th>s_num</th>\n",
              "      <th>sentence</th>\n",
              "    </tr>\n",
              "  </thead>\n",
              "  <tbody>\n",
              "    <tr>\n",
              "      <th>8</th>\n",
              "      <td>EBA1415_KNKC_1_CB_ES-05410</td>\n",
              "      <td>1</td>\n",
              "      <td>9.1</td>\n",
              "      <td>Which can affect the coral because if the zoox...</td>\n",
              "    </tr>\n",
              "    <tr>\n",
              "      <th>9</th>\n",
              "      <td>EBA1415_KNKC_1_CB_ES-05410</td>\n",
              "      <td>2</td>\n",
              "      <td>9.2</td>\n",
              "      <td>Which can affect the coral because if the zoox...</td>\n",
              "    </tr>\n",
              "    <tr>\n",
              "      <th>23</th>\n",
              "      <td>EBA1415post_WSKT_1_CB_ES-05486</td>\n",
              "      <td>1</td>\n",
              "      <td>23.1</td>\n",
              "      <td>This is a problem because corals need co2 in o...</td>\n",
              "    </tr>\n",
              "    <tr>\n",
              "      <th>24</th>\n",
              "      <td>EBA1415post_WSKT_1_CB_ES-05486</td>\n",
              "      <td>1</td>\n",
              "      <td>23.2</td>\n",
              "      <td>This is a problem because corals need co2 in o...</td>\n",
              "    </tr>\n",
              "    <tr>\n",
              "      <th>35</th>\n",
              "      <td>EBA1415_KYNS_4_CB_ES-05388</td>\n",
              "      <td>0</td>\n",
              "      <td>34.1</td>\n",
              "      <td>In the text it states \"This is because</td>\n",
              "    </tr>\n",
              "    <tr>\n",
              "      <th>36</th>\n",
              "      <td>EBA1415_KYNS_4_CB_ES-05388</td>\n",
              "      <td>0</td>\n",
              "      <td>34.2</td>\n",
              "      <td>Ran out time //</td>\n",
              "    </tr>\n",
              "    <tr>\n",
              "      <th>38</th>\n",
              "      <td>EBA1415_KYLS_5_CB_ES-05647</td>\n",
              "      <td>1</td>\n",
              "      <td>36.1</td>\n",
              "      <td>The reason why coral reefs are 'bleach' becaus...</td>\n",
              "    </tr>\n",
              "    <tr>\n",
              "      <th>39</th>\n",
              "      <td>EBA1415_KYLS_5_CB_ES-05647</td>\n",
              "      <td>1</td>\n",
              "      <td>36.2</td>\n",
              "      <td>The reason why coral reefs are 'bleach' becaus...</td>\n",
              "    </tr>\n",
              "    <tr>\n",
              "      <th>44</th>\n",
              "      <td>EBA1415_KYLS_5_CB_ES-05647</td>\n",
              "      <td>1</td>\n",
              "      <td>41.1</td>\n",
              "      <td>The reasons is if the winds weaken where the P...</td>\n",
              "    </tr>\n",
              "    <tr>\n",
              "      <th>45</th>\n",
              "      <td>EBA1415_KYLS_5_CB_ES-05647</td>\n",
              "      <td>1</td>\n",
              "      <td>41.2</td>\n",
              "      <td>The reasons is if the winds weaken where the P...</td>\n",
              "    </tr>\n",
              "    <tr>\n",
              "      <th>64</th>\n",
              "      <td>EBA1415_TRJA_11_CB_ES-06108</td>\n",
              "      <td>1</td>\n",
              "      <td>60.1</td>\n",
              "      <td>Another thing that can lead to differences of ...</td>\n",
              "    </tr>\n",
              "    <tr>\n",
              "      <th>65</th>\n",
              "      <td>EBA1415_TRJA_11_CB_ES-06108</td>\n",
              "      <td>1</td>\n",
              "      <td>60.2</td>\n",
              "      <td>Another thing that can lead to differences of ...</td>\n",
              "    </tr>\n",
              "    <tr>\n",
              "      <th>66</th>\n",
              "      <td>EBA1415_TRJA_11_CB_ES-06108</td>\n",
              "      <td>1</td>\n",
              "      <td>61.1</td>\n",
              "      <td>The storms increase the amount of fresh water,...</td>\n",
              "    </tr>\n",
              "    <tr>\n",
              "      <th>67</th>\n",
              "      <td>EBA1415_TRJA_11_CB_ES-06108</td>\n",
              "      <td>1</td>\n",
              "      <td>61.2</td>\n",
              "      <td>The storms increase the amount of fresh water,...</td>\n",
              "    </tr>\n",
              "    <tr>\n",
              "      <th>74</th>\n",
              "      <td>EBA1415_TWDG_11_CB_ES-05698</td>\n",
              "      <td>1</td>\n",
              "      <td>68.1</td>\n",
              "      <td>I don't know exactly the differences in the ra...</td>\n",
              "    </tr>\n",
              "    <tr>\n",
              "      <th>75</th>\n",
              "      <td>EBA1415_TWDG_11_CB_ES-05698</td>\n",
              "      <td>1</td>\n",
              "      <td>68.2</td>\n",
              "      <td>I don't know exactly the differences in the ra...</td>\n",
              "    </tr>\n",
              "    <tr>\n",
              "      <th>85</th>\n",
              "      <td>EBA1415_SDMK_4_CB_ES-04768</td>\n",
              "      <td>1</td>\n",
              "      <td>78.1</td>\n",
              "      <td>Environmental stressors cause the coral to eje...</td>\n",
              "    </tr>\n",
              "    <tr>\n",
              "      <th>86</th>\n",
              "      <td>EBA1415_SDMK_4_CB_ES-04768</td>\n",
              "      <td>1</td>\n",
              "      <td>78.2</td>\n",
              "      <td>Environmental stressors cause the coral to eje...</td>\n",
              "    </tr>\n",
              "    <tr>\n",
              "      <th>91</th>\n",
              "      <td>EBA1415_SDMK_4_CB_ES-04768</td>\n",
              "      <td>1</td>\n",
              "      <td>83.1</td>\n",
              "      <td>It seems that when the trade winds push the co...</td>\n",
              "    </tr>\n",
              "    <tr>\n",
              "      <th>92</th>\n",
              "      <td>EBA1415_SDMK_4_CB_ES-04768</td>\n",
              "      <td>1</td>\n",
              "      <td>83.2</td>\n",
              "      <td>It seems that when the trade winds push the co...</td>\n",
              "    </tr>\n",
              "    <tr>\n",
              "      <th>108</th>\n",
              "      <td>EBA1415_SERS_1314_CB-05103</td>\n",
              "      <td>1</td>\n",
              "      <td>99.1</td>\n",
              "      <td>The reason why corals are bleached are due to ...</td>\n",
              "    </tr>\n",
              "    <tr>\n",
              "      <th>109</th>\n",
              "      <td>EBA1415_SERS_1314_CB-05103</td>\n",
              "      <td>1</td>\n",
              "      <td>99.2</td>\n",
              "      <td>The reason why corals are bleached are due to ...</td>\n",
              "    </tr>\n",
              "    <tr>\n",
              "      <th>110</th>\n",
              "      <td>EBA1415_SERS_1314_CB-05103</td>\n",
              "      <td>1</td>\n",
              "      <td>100.1</td>\n",
              "      <td>It forces the coral to eject their food-produc...</td>\n",
              "    </tr>\n",
              "    <tr>\n",
              "      <th>111</th>\n",
              "      <td>EBA1415_SERS_1314_CB-05103</td>\n",
              "      <td>1</td>\n",
              "      <td>100.2</td>\n",
              "      <td>It forces the coral to eject their food-produc...</td>\n",
              "    </tr>\n",
              "    <tr>\n",
              "      <th>113</th>\n",
              "      <td>EBA1415_TTKP_45_CB_ES-04921</td>\n",
              "      <td>1</td>\n",
              "      <td>102.1</td>\n",
              "      <td>They expel the algae living in their tissues, ...</td>\n",
              "    </tr>\n",
              "  </tbody>\n",
              "</table>\n",
              "</div>"
            ],
            "text/plain": [
              "                              essay  ...                                           sentence\n",
              "8        EBA1415_KNKC_1_CB_ES-05410  ...  Which can affect the coral because if the zoox...\n",
              "9        EBA1415_KNKC_1_CB_ES-05410  ...  Which can affect the coral because if the zoox...\n",
              "23   EBA1415post_WSKT_1_CB_ES-05486  ...  This is a problem because corals need co2 in o...\n",
              "24   EBA1415post_WSKT_1_CB_ES-05486  ...  This is a problem because corals need co2 in o...\n",
              "35       EBA1415_KYNS_4_CB_ES-05388  ...            In the text it states \"This is because \n",
              "36       EBA1415_KYNS_4_CB_ES-05388  ...                                    Ran out time //\n",
              "38       EBA1415_KYLS_5_CB_ES-05647  ...  The reason why coral reefs are 'bleach' becaus...\n",
              "39       EBA1415_KYLS_5_CB_ES-05647  ...  The reason why coral reefs are 'bleach' becaus...\n",
              "44       EBA1415_KYLS_5_CB_ES-05647  ...  The reasons is if the winds weaken where the P...\n",
              "45       EBA1415_KYLS_5_CB_ES-05647  ...  The reasons is if the winds weaken where the P...\n",
              "64      EBA1415_TRJA_11_CB_ES-06108  ...  Another thing that can lead to differences of ...\n",
              "65      EBA1415_TRJA_11_CB_ES-06108  ...  Another thing that can lead to differences of ...\n",
              "66      EBA1415_TRJA_11_CB_ES-06108  ...  The storms increase the amount of fresh water,...\n",
              "67      EBA1415_TRJA_11_CB_ES-06108  ...  The storms increase the amount of fresh water,...\n",
              "74      EBA1415_TWDG_11_CB_ES-05698  ...  I don't know exactly the differences in the ra...\n",
              "75      EBA1415_TWDG_11_CB_ES-05698  ...  I don't know exactly the differences in the ra...\n",
              "85       EBA1415_SDMK_4_CB_ES-04768  ...  Environmental stressors cause the coral to eje...\n",
              "86       EBA1415_SDMK_4_CB_ES-04768  ...  Environmental stressors cause the coral to eje...\n",
              "91       EBA1415_SDMK_4_CB_ES-04768  ...  It seems that when the trade winds push the co...\n",
              "92       EBA1415_SDMK_4_CB_ES-04768  ...  It seems that when the trade winds push the co...\n",
              "108      EBA1415_SERS_1314_CB-05103  ...  The reason why corals are bleached are due to ...\n",
              "109      EBA1415_SERS_1314_CB-05103  ...  The reason why corals are bleached are due to ...\n",
              "110      EBA1415_SERS_1314_CB-05103  ...  It forces the coral to eject their food-produc...\n",
              "111      EBA1415_SERS_1314_CB-05103  ...  It forces the coral to eject their food-produc...\n",
              "113     EBA1415_TTKP_45_CB_ES-04921  ...  They expel the algae living in their tissues, ...\n",
              "\n",
              "[25 rows x 4 columns]"
            ]
          },
          "metadata": {
            "tags": []
          },
          "execution_count": 5
        }
      ]
    },
    {
      "cell_type": "markdown",
      "metadata": {
        "id": "5T1KuyexCk6l"
      },
      "source": [
        "Now that the duplicates are isolated, they need to be evaluated. If there is at least one relation, one copy of the sentence will be kept as true. If there are no relations, one copy will be kept as false."
      ]
    },
    {
      "cell_type": "code",
      "metadata": {
        "id": "7EVJKEEGCjy3",
        "outputId": "82543871-9bfa-4ed4-a902-d546316d482b",
        "colab": {
          "base_uri": "https://localhost:8080/",
          "height": 929
        }
      },
      "source": [
        "import numpy as np\n",
        "\n",
        "current = -1\n",
        "\n",
        "same_arr_inds = []\n",
        "drop_list = []\n",
        "\n",
        "for i, row in df_duplicate_sentences.iterrows():\n",
        "  s_num = str(df_duplicate_sentences.loc[i].s_num)\n",
        "  first_num, second_num = s_num.split(\".\")\n",
        "\n",
        "  if first_num != current:\n",
        "    current = first_num\n",
        "\n",
        "    if len(same_arr_inds) > 1:\n",
        "\n",
        "      valid_flag = False\n",
        "      invalid_flag = False\n",
        "\n",
        "      for n in same_arr_inds:\n",
        "\n",
        "        if df_duplicate_sentences.loc[n].relation == 1:\n",
        "          valid_flag = True\n",
        "          break\n",
        "\n",
        "        if df_duplicate_sentences.loc[n].relation == -1:\n",
        "          invalid_flag = True \n",
        "\n",
        "      left = same_arr_inds[0]\n",
        "      right = same_arr_inds[1:]\n",
        "\n",
        "      if valid_flag == True:\n",
        "        df_duplicate_sentences.loc[left].relation = 1\n",
        "      elif invalid_flag == True:\n",
        "        df_duplicate_sentences.loc[left].relation = -1\n",
        "      else:\n",
        "        df_duplicate_sentences.loc[left].relation = 0\n",
        "\n",
        "      drop_list += right   \n",
        "\n",
        "    same_arr_inds = []\n",
        "  same_arr_inds.append(i)\n",
        "\n",
        "df_ternary.drop(drop_list, inplace=True)   \n",
        "\n",
        "df_ternary.head(25)"
      ],
      "execution_count": 6,
      "outputs": [
        {
          "output_type": "stream",
          "text": [
            "/usr/local/lib/python3.6/dist-packages/pandas/core/generic.py:5165: SettingWithCopyWarning: \n",
            "A value is trying to be set on a copy of a slice from a DataFrame\n",
            "\n",
            "See the caveats in the documentation: https://pandas.pydata.org/pandas-docs/stable/user_guide/indexing.html#returning-a-view-versus-a-copy\n",
            "  self[name] = value\n"
          ],
          "name": "stderr"
        },
        {
          "output_type": "execute_result",
          "data": {
            "text/html": [
              "<div>\n",
              "<style scoped>\n",
              "    .dataframe tbody tr th:only-of-type {\n",
              "        vertical-align: middle;\n",
              "    }\n",
              "\n",
              "    .dataframe tbody tr th {\n",
              "        vertical-align: top;\n",
              "    }\n",
              "\n",
              "    .dataframe thead th {\n",
              "        text-align: right;\n",
              "    }\n",
              "</style>\n",
              "<table border=\"1\" class=\"dataframe\">\n",
              "  <thead>\n",
              "    <tr style=\"text-align: right;\">\n",
              "      <th></th>\n",
              "      <th>essay</th>\n",
              "      <th>relation</th>\n",
              "      <th>s_num</th>\n",
              "      <th>sentence</th>\n",
              "    </tr>\n",
              "  </thead>\n",
              "  <tbody>\n",
              "    <tr>\n",
              "      <th>0</th>\n",
              "      <td>EBA1415_KNKC_1_CB_ES-05410</td>\n",
              "      <td>0</td>\n",
              "      <td>1.0</td>\n",
              "      <td>Coral and zooxanthellae depend an each other i...</td>\n",
              "    </tr>\n",
              "    <tr>\n",
              "      <th>1</th>\n",
              "      <td>EBA1415_KNKC_1_CB_ES-05410</td>\n",
              "      <td>1</td>\n",
              "      <td>2.0</td>\n",
              "      <td>If the coral dies, or gets bleached, then the ...</td>\n",
              "    </tr>\n",
              "    <tr>\n",
              "      <th>2</th>\n",
              "      <td>EBA1415_KNKC_1_CB_ES-05410</td>\n",
              "      <td>0</td>\n",
              "      <td>3.0</td>\n",
              "      <td>Or the other way around.</td>\n",
              "    </tr>\n",
              "    <tr>\n",
              "      <th>3</th>\n",
              "      <td>EBA1415_KNKC_1_CB_ES-05410</td>\n",
              "      <td>0</td>\n",
              "      <td>4.0</td>\n",
              "      <td>In the text Shifting Trade Winds, it talks abo...</td>\n",
              "    </tr>\n",
              "    <tr>\n",
              "      <th>4</th>\n",
              "      <td>EBA1415_KNKC_1_CB_ES-05410</td>\n",
              "      <td>2</td>\n",
              "      <td>5.0</td>\n",
              "      <td>And another source states how when the water t...</td>\n",
              "    </tr>\n",
              "    <tr>\n",
              "      <th>5</th>\n",
              "      <td>EBA1415_KNKC_1_CB_ES-05410</td>\n",
              "      <td>0</td>\n",
              "      <td>6.0</td>\n",
              "      <td>When trade winds weaken, sea levels rises inch...</td>\n",
              "    </tr>\n",
              "    <tr>\n",
              "      <th>6</th>\n",
              "      <td>EBA1415_KNKC_1_CB_ES-05410</td>\n",
              "      <td>0</td>\n",
              "      <td>7.0</td>\n",
              "      <td>Which is bad for coral and zooxanthellae becau...</td>\n",
              "    </tr>\n",
              "    <tr>\n",
              "      <th>7</th>\n",
              "      <td>EBA1415_KNKC_1_CB_ES-05410</td>\n",
              "      <td>0</td>\n",
              "      <td>8.0</td>\n",
              "      <td>If the zooxanthellae can't get a light source ...</td>\n",
              "    </tr>\n",
              "    <tr>\n",
              "      <th>8</th>\n",
              "      <td>EBA1415_KNKC_1_CB_ES-05410</td>\n",
              "      <td>1</td>\n",
              "      <td>9.1</td>\n",
              "      <td>Which can affect the coral because if the zoox...</td>\n",
              "    </tr>\n",
              "    <tr>\n",
              "      <th>10</th>\n",
              "      <td>EBA1415_KNKC_1_CB_ES-05410</td>\n",
              "      <td>1</td>\n",
              "      <td>10.0</td>\n",
              "      <td>So shifitng trade is what leads to the differe...</td>\n",
              "    </tr>\n",
              "    <tr>\n",
              "      <th>11</th>\n",
              "      <td>EBA1415post_WSKT_1_CB_ES-05486</td>\n",
              "      <td>0</td>\n",
              "      <td>11.0</td>\n",
              "      <td>Corals are invertebrate animals living togethe...</td>\n",
              "    </tr>\n",
              "    <tr>\n",
              "      <th>12</th>\n",
              "      <td>EBA1415post_WSKT_1_CB_ES-05486</td>\n",
              "      <td>0</td>\n",
              "      <td>12.0</td>\n",
              "      <td>Corals + polyps have a symbiotic relationship ...</td>\n",
              "    </tr>\n",
              "    <tr>\n",
              "      <th>13</th>\n",
              "      <td>EBA1415post_WSKT_1_CB_ES-05486</td>\n",
              "      <td>0</td>\n",
              "      <td>13.0</td>\n",
              "      <td>They give some food, from which they make from...</td>\n",
              "    </tr>\n",
              "    <tr>\n",
              "      <th>14</th>\n",
              "      <td>EBA1415post_WSKT_1_CB_ES-05486</td>\n",
              "      <td>0</td>\n",
              "      <td>14.0</td>\n",
              "      <td>They also give corals their color./</td>\n",
              "    </tr>\n",
              "    <tr>\n",
              "      <th>15</th>\n",
              "      <td>EBA1415post_WSKT_1_CB_ES-05486</td>\n",
              "      <td>0</td>\n",
              "      <td>15.0</td>\n",
              "      <td>However, corals have been substainining physic...</td>\n",
              "    </tr>\n",
              "    <tr>\n",
              "      <th>16</th>\n",
              "      <td>EBA1415post_WSKT_1_CB_ES-05486</td>\n",
              "      <td>0</td>\n",
              "      <td>16.0</td>\n",
              "      <td>To stay healthy a coral needs a constant tempe...</td>\n",
              "    </tr>\n",
              "    <tr>\n",
              "      <th>17</th>\n",
              "      <td>EBA1415post_WSKT_1_CB_ES-05486</td>\n",
              "      <td>0</td>\n",
              "      <td>17.0</td>\n",
              "      <td>A specific phyiscal that has been affecting co...</td>\n",
              "    </tr>\n",
              "    <tr>\n",
              "      <th>18</th>\n",
              "      <td>EBA1415post_WSKT_1_CB_ES-05486</td>\n",
              "      <td>0</td>\n",
              "      <td>18.0</td>\n",
              "      <td>Coral bleaching is a phenomenon in which coral...</td>\n",
              "    </tr>\n",
              "    <tr>\n",
              "      <th>19</th>\n",
              "      <td>EBA1415post_WSKT_1_CB_ES-05486</td>\n",
              "      <td>1</td>\n",
              "      <td>19.0</td>\n",
              "      <td>Coral bleaching can be led to by the rise of w...</td>\n",
              "    </tr>\n",
              "    <tr>\n",
              "      <th>20</th>\n",
              "      <td>EBA1415post_WSKT_1_CB_ES-05486</td>\n",
              "      <td>2</td>\n",
              "      <td>20.0</td>\n",
              "      <td>According to the graph \"Trade Winds + coral Bl...</td>\n",
              "    </tr>\n",
              "    <tr>\n",
              "      <th>21</th>\n",
              "      <td>EBA1415post_WSKT_1_CB_ES-05486</td>\n",
              "      <td>0</td>\n",
              "      <td>21.0</td>\n",
              "      <td>If the trade winds become weaker than that aff...</td>\n",
              "    </tr>\n",
              "    <tr>\n",
              "      <th>22</th>\n",
              "      <td>EBA1415post_WSKT_1_CB_ES-05486</td>\n",
              "      <td>1</td>\n",
              "      <td>22.0</td>\n",
              "      <td>When this occurs, it makes it harder for coral...</td>\n",
              "    </tr>\n",
              "    <tr>\n",
              "      <th>23</th>\n",
              "      <td>EBA1415post_WSKT_1_CB_ES-05486</td>\n",
              "      <td>1</td>\n",
              "      <td>23.1</td>\n",
              "      <td>This is a problem because corals need co2 in o...</td>\n",
              "    </tr>\n",
              "    <tr>\n",
              "      <th>25</th>\n",
              "      <td>EBA1415post_WSKT_1_CB_ES-05486</td>\n",
              "      <td>1</td>\n",
              "      <td>24.0</td>\n",
              "      <td>Corals recieve 50% to 95% of their energy from...</td>\n",
              "    </tr>\n",
              "    <tr>\n",
              "      <th>26</th>\n",
              "      <td>EBA1415_KYNS_4_CB_ES-05388</td>\n",
              "      <td>0</td>\n",
              "      <td>25.0</td>\n",
              "      <td>The differences between rates to coral bleachi...</td>\n",
              "    </tr>\n",
              "  </tbody>\n",
              "</table>\n",
              "</div>"
            ],
            "text/plain": [
              "                             essay  ...                                           sentence\n",
              "0       EBA1415_KNKC_1_CB_ES-05410  ...  Coral and zooxanthellae depend an each other i...\n",
              "1       EBA1415_KNKC_1_CB_ES-05410  ...  If the coral dies, or gets bleached, then the ...\n",
              "2       EBA1415_KNKC_1_CB_ES-05410  ...                           Or the other way around.\n",
              "3       EBA1415_KNKC_1_CB_ES-05410  ...  In the text Shifting Trade Winds, it talks abo...\n",
              "4       EBA1415_KNKC_1_CB_ES-05410  ...  And another source states how when the water t...\n",
              "5       EBA1415_KNKC_1_CB_ES-05410  ...  When trade winds weaken, sea levels rises inch...\n",
              "6       EBA1415_KNKC_1_CB_ES-05410  ...  Which is bad for coral and zooxanthellae becau...\n",
              "7       EBA1415_KNKC_1_CB_ES-05410  ...  If the zooxanthellae can't get a light source ...\n",
              "8       EBA1415_KNKC_1_CB_ES-05410  ...  Which can affect the coral because if the zoox...\n",
              "10      EBA1415_KNKC_1_CB_ES-05410  ...  So shifitng trade is what leads to the differe...\n",
              "11  EBA1415post_WSKT_1_CB_ES-05486  ...  Corals are invertebrate animals living togethe...\n",
              "12  EBA1415post_WSKT_1_CB_ES-05486  ...  Corals + polyps have a symbiotic relationship ...\n",
              "13  EBA1415post_WSKT_1_CB_ES-05486  ...  They give some food, from which they make from...\n",
              "14  EBA1415post_WSKT_1_CB_ES-05486  ...                They also give corals their color./\n",
              "15  EBA1415post_WSKT_1_CB_ES-05486  ...  However, corals have been substainining physic...\n",
              "16  EBA1415post_WSKT_1_CB_ES-05486  ...  To stay healthy a coral needs a constant tempe...\n",
              "17  EBA1415post_WSKT_1_CB_ES-05486  ...  A specific phyiscal that has been affecting co...\n",
              "18  EBA1415post_WSKT_1_CB_ES-05486  ...  Coral bleaching is a phenomenon in which coral...\n",
              "19  EBA1415post_WSKT_1_CB_ES-05486  ...  Coral bleaching can be led to by the rise of w...\n",
              "20  EBA1415post_WSKT_1_CB_ES-05486  ...  According to the graph \"Trade Winds + coral Bl...\n",
              "21  EBA1415post_WSKT_1_CB_ES-05486  ...  If the trade winds become weaker than that aff...\n",
              "22  EBA1415post_WSKT_1_CB_ES-05486  ...  When this occurs, it makes it harder for coral...\n",
              "23  EBA1415post_WSKT_1_CB_ES-05486  ...  This is a problem because corals need co2 in o...\n",
              "25  EBA1415post_WSKT_1_CB_ES-05486  ...  Corals recieve 50% to 95% of their energy from...\n",
              "26      EBA1415_KYNS_4_CB_ES-05388  ...  The differences between rates to coral bleachi...\n",
              "\n",
              "[25 rows x 4 columns]"
            ]
          },
          "metadata": {
            "tags": []
          },
          "execution_count": 6
        }
      ]
    },
    {
      "cell_type": "markdown",
      "metadata": {
        "id": "BYx1K7po088X"
      },
      "source": [
        "Let's take a look at the class breakdown."
      ]
    },
    {
      "cell_type": "code",
      "metadata": {
        "id": "Bo5Zacna0_bF",
        "outputId": "99cfe070-1f8f-42c6-d5e6-294d8195b1d8",
        "colab": {
          "base_uri": "https://localhost:8080/",
          "height": 85
        }
      },
      "source": [
        "df_ternary[\"relation\"].value_counts()\n"
      ],
      "execution_count": 7,
      "outputs": [
        {
          "output_type": "execute_result",
          "data": {
            "text/plain": [
              "0    5550\n",
              "1    2352\n",
              "2      77\n",
              "Name: relation, dtype: int64"
            ]
          },
          "metadata": {
            "tags": []
          },
          "execution_count": 7
        }
      ]
    },
    {
      "cell_type": "markdown",
      "metadata": {
        "id": "NlaxtpXCJOsD"
      },
      "source": [
        "Data is prepped and cleaned at this point. Next is implementation."
      ]
    },
    {
      "cell_type": "markdown",
      "metadata": {
        "id": "IcLd8RGsKMDp"
      },
      "source": [
        "Make sure PyTorch is installed - will use with Hugging Face Transformers"
      ]
    },
    {
      "cell_type": "code",
      "metadata": {
        "id": "5F-hxvOQKEXU",
        "outputId": "472a76cd-5ce8-4c39-c0e9-24b92955fb2d",
        "colab": {
          "base_uri": "https://localhost:8080/",
          "height": 343
        }
      },
      "source": [
        "!pip install pytorch-pretrained-bert pytorch-nlp\n",
        "import torch"
      ],
      "execution_count": 8,
      "outputs": [
        {
          "output_type": "stream",
          "text": [
            "Requirement already satisfied: pytorch-pretrained-bert in /usr/local/lib/python3.6/dist-packages (0.6.2)\n",
            "Requirement already satisfied: pytorch-nlp in /usr/local/lib/python3.6/dist-packages (0.5.0)\n",
            "Requirement already satisfied: tqdm in /usr/local/lib/python3.6/dist-packages (from pytorch-pretrained-bert) (4.41.1)\n",
            "Requirement already satisfied: regex in /usr/local/lib/python3.6/dist-packages (from pytorch-pretrained-bert) (2019.12.20)\n",
            "Requirement already satisfied: requests in /usr/local/lib/python3.6/dist-packages (from pytorch-pretrained-bert) (2.23.0)\n",
            "Requirement already satisfied: boto3 in /usr/local/lib/python3.6/dist-packages (from pytorch-pretrained-bert) (1.15.11)\n",
            "Requirement already satisfied: torch>=0.4.1 in /usr/local/lib/python3.6/dist-packages (from pytorch-pretrained-bert) (1.6.0+cu101)\n",
            "Requirement already satisfied: numpy in /usr/local/lib/python3.6/dist-packages (from pytorch-pretrained-bert) (1.18.5)\n",
            "Requirement already satisfied: idna<3,>=2.5 in /usr/local/lib/python3.6/dist-packages (from requests->pytorch-pretrained-bert) (2.10)\n",
            "Requirement already satisfied: urllib3!=1.25.0,!=1.25.1,<1.26,>=1.21.1 in /usr/local/lib/python3.6/dist-packages (from requests->pytorch-pretrained-bert) (1.24.3)\n",
            "Requirement already satisfied: chardet<4,>=3.0.2 in /usr/local/lib/python3.6/dist-packages (from requests->pytorch-pretrained-bert) (3.0.4)\n",
            "Requirement already satisfied: certifi>=2017.4.17 in /usr/local/lib/python3.6/dist-packages (from requests->pytorch-pretrained-bert) (2020.6.20)\n",
            "Requirement already satisfied: jmespath<1.0.0,>=0.7.1 in /usr/local/lib/python3.6/dist-packages (from boto3->pytorch-pretrained-bert) (0.10.0)\n",
            "Requirement already satisfied: botocore<1.19.0,>=1.18.11 in /usr/local/lib/python3.6/dist-packages (from boto3->pytorch-pretrained-bert) (1.18.11)\n",
            "Requirement already satisfied: s3transfer<0.4.0,>=0.3.0 in /usr/local/lib/python3.6/dist-packages (from boto3->pytorch-pretrained-bert) (0.3.3)\n",
            "Requirement already satisfied: future in /usr/local/lib/python3.6/dist-packages (from torch>=0.4.1->pytorch-pretrained-bert) (0.16.0)\n",
            "Requirement already satisfied: python-dateutil<3.0.0,>=2.1 in /usr/local/lib/python3.6/dist-packages (from botocore<1.19.0,>=1.18.11->boto3->pytorch-pretrained-bert) (2.8.1)\n",
            "Requirement already satisfied: six>=1.5 in /usr/local/lib/python3.6/dist-packages (from python-dateutil<3.0.0,>=2.1->botocore<1.19.0,>=1.18.11->boto3->pytorch-pretrained-bert) (1.15.0)\n"
          ],
          "name": "stdout"
        }
      ]
    },
    {
      "cell_type": "markdown",
      "metadata": {
        "id": "B_1Hz8o0Kfxf"
      },
      "source": [
        "Set up GPU."
      ]
    },
    {
      "cell_type": "code",
      "metadata": {
        "id": "jlm1ouSfB2SF",
        "outputId": "af96f2b0-2a74-4fb0-c3a8-0b50b708908f",
        "colab": {
          "base_uri": "https://localhost:8080/",
          "height": 69
        }
      },
      "source": [
        "# Colab currenly defaults to TensorFlow 1.15, but we need 2.0 or greater\n",
        "\n",
        "%tensorflow_version 2.x\n",
        "import tensorflow as tf\n",
        "print(tf.__version__)\n",
        "\n",
        "device_name = tf.test.gpu_device_name()\n",
        "if device_name != '/device:GPU:0':\n",
        "  raise SystemError('GPU device not found')\n",
        "print('Found GPU at: {}'.format(device_name))\n",
        "\n",
        "device = torch.device(\"cuda\" if torch.cuda.is_available() else \"cpu\")\n",
        "n_gpu = torch.cuda.device_count()\n",
        "torch.cuda.get_device_name(0)"
      ],
      "execution_count": 9,
      "outputs": [
        {
          "output_type": "stream",
          "text": [
            "2.3.0\n",
            "Found GPU at: /device:GPU:0\n"
          ],
          "name": "stdout"
        },
        {
          "output_type": "execute_result",
          "data": {
            "application/vnd.google.colaboratory.intrinsic+json": {
              "type": "string"
            },
            "text/plain": [
              "'Tesla V100-SXM2-16GB'"
            ]
          },
          "metadata": {
            "tags": []
          },
          "execution_count": 9
        }
      ]
    },
    {
      "cell_type": "markdown",
      "metadata": {
        "id": "URhQvinCK2Ql"
      },
      "source": [
        "Extract sentences and labels from DataFrame. Must also add special [CLS] and [SEP] tokens for BERT."
      ]
    },
    {
      "cell_type": "code",
      "metadata": {
        "id": "zpdHxLWxK582"
      },
      "source": [
        "sentences = df_ternary.sentence.values\n",
        "sentences = [\"[CLS] \" + sentence + \" [SEP]\" for sentence in sentences]\n",
        "\n",
        "labels = df_ternary.relation.values"
      ],
      "execution_count": 10,
      "outputs": []
    },
    {
      "cell_type": "markdown",
      "metadata": {
        "id": "tcOIwLrnNlX_"
      },
      "source": [
        "Tokenize sentences for BERT."
      ]
    },
    {
      "cell_type": "code",
      "metadata": {
        "id": "OExIMOaGNmvn",
        "outputId": "87977675-4a70-489f-c018-393dc99da562",
        "colab": {
          "base_uri": "https://localhost:8080/",
          "height": 54
        }
      },
      "source": [
        "from pytorch_pretrained_bert import BertTokenizer\n",
        "\n",
        "tokenizer = BertTokenizer.from_pretrained('bert-base-uncased', do_lower_case=True)\n",
        "tokenized_texts = [tokenizer.tokenize(sent) for sent in sentences]\n",
        "print (\"First sentence tokenized: \",tokenized_texts[0])"
      ],
      "execution_count": 11,
      "outputs": [
        {
          "output_type": "stream",
          "text": [
            "First sentence tokenized:  ['[CLS]', 'coral', 'and', 'zoo', '##xa', '##nt', '##hell', '##ae', 'depend', 'an', 'each', 'other', 'in', 'order', 'to', 'live', '.', '[SEP]']\n"
          ],
          "name": "stdout"
        }
      ]
    },
    {
      "cell_type": "markdown",
      "metadata": {
        "id": "rnmI0gzNN3Vq"
      },
      "source": [
        "For each tokenized input sentence, we need to create:\n",
        "\n",
        "1. input ids:\n",
        "    a sequence of integers identifying each input token to its index number \n",
        "    in the BERT tokenizer vocabulary\n",
        "\n",
        "2. segment mask: (optional) a sequence of 1s and 0s used to identify whether the input is one \n",
        "    sentence or two sentences long. For one sentence inputs, this is simply a sequence of 0s. \n",
        "    For two sentence inputs, there is a 0 for each token of the first sentence, followed by a \n",
        "    1 for each token of the second sentence\n",
        "\n",
        "3. attention mask: (optional) \n",
        "    a sequence of 1s and 0s, with 1s for all input tokens and 0s for all padding tokens \n",
        "\n",
        "4. labels: based on the labels from the data set\n",
        "\n",
        "Additionally, we will get rid of the sentences greater than MAX_LEN."
      ]
    },
    {
      "cell_type": "code",
      "metadata": {
        "id": "Ugn41x7EN4pR",
        "outputId": "5af3e737-360f-46cd-c987-782641edd3d6",
        "colab": {
          "base_uri": "https://localhost:8080/",
          "height": 34
        }
      },
      "source": [
        "MAX_LEN = 128\n",
        "\n",
        "original_length = len(tokenized_texts)\n",
        "\n",
        "labels = [labels[i] for i in range(len(tokenized_texts)) if len(tokenized_texts[i]) <= MAX_LEN]\n",
        "tokenized_texts = [tokenized_texts[i] for i in range(len(tokenized_texts)) if len(tokenized_texts[i]) <= MAX_LEN]\n",
        "print(\"Removed {0} sentences greater than {1}\".format(original_length - len(tokenized_texts),MAX_LEN))\n"
      ],
      "execution_count": 12,
      "outputs": [
        {
          "output_type": "stream",
          "text": [
            "Removed 10 sentences greater than 128\n"
          ],
          "name": "stdout"
        }
      ]
    },
    {
      "cell_type": "markdown",
      "metadata": {
        "id": "EHuInneMOJjZ"
      },
      "source": [
        "Convert BERT tokens to corresponding ID numbers in BERT vocabulary.\n",
        "After conversion, pad the sequences."
      ]
    },
    {
      "cell_type": "code",
      "metadata": {
        "id": "GIAxr7uHONoj"
      },
      "source": [
        "from keras.preprocessing.sequence import pad_sequences\n",
        "\n",
        "input_ids = [tokenizer.convert_tokens_to_ids(x) for x in tokenized_texts]\n",
        "input_ids = pad_sequences(input_ids, maxlen=MAX_LEN, dtype=\"long\", truncating=\"post\", padding=\"post\")"
      ],
      "execution_count": 13,
      "outputs": []
    },
    {
      "cell_type": "markdown",
      "metadata": {
        "id": "-3kqp7kuPSdu"
      },
      "source": [
        "Create attention masks."
      ]
    },
    {
      "cell_type": "code",
      "metadata": {
        "id": "jQoscnkCPG3x"
      },
      "source": [
        "attention_masks = []\n",
        "\n",
        "for seq in input_ids:\n",
        "  seq_mask = [float(i>0) for i in seq]\n",
        "  attention_masks.append(seq_mask)"
      ],
      "execution_count": 14,
      "outputs": []
    },
    {
      "cell_type": "markdown",
      "metadata": {
        "id": "1Pb-muSYO1Nv"
      },
      "source": [
        "Split data into train, validation, test."
      ]
    },
    {
      "cell_type": "code",
      "metadata": {
        "id": "Hcbb-2F-O3Da"
      },
      "source": [
        "from sklearn.model_selection import train_test_split\n",
        "\n",
        "train_inputs, validation_inputs, train_labels, validation_labels = train_test_split(input_ids, labels, \n",
        "                                                            random_state=2018, test_size=0.1)\n",
        "train_masks, validation_masks, _, _ = train_test_split(attention_masks, input_ids,\n",
        "                                             random_state=2018, test_size=0.1)"
      ],
      "execution_count": 15,
      "outputs": []
    },
    {
      "cell_type": "markdown",
      "metadata": {
        "id": "4joL_R9rPjNE"
      },
      "source": [
        "Convert sets into Torch tensors."
      ]
    },
    {
      "cell_type": "code",
      "metadata": {
        "id": "Nl-2-b_oPlJ7"
      },
      "source": [
        "train_inputs = torch.tensor(train_inputs)\n",
        "validation_inputs = torch.tensor(validation_inputs)\n",
        "train_labels = torch.tensor(train_labels)\n",
        "validation_labels = torch.tensor(validation_labels)\n",
        "train_masks = torch.tensor(train_masks)\n",
        "validation_masks = torch.tensor(validation_masks)"
      ],
      "execution_count": 16,
      "outputs": []
    },
    {
      "cell_type": "markdown",
      "metadata": {
        "id": "lxaO7WoRPqMq"
      },
      "source": [
        "Create an iterator of our data with torch DataLoader. This helps save on memory during training because, unlike a for loop, \n",
        "the entire dataset does not need to be loaded into memory."
      ]
    },
    {
      "cell_type": "code",
      "metadata": {
        "id": "hBbQRbq-PxMt"
      },
      "source": [
        "BATCH_SIZE = 32\n",
        "\n",
        "from torch.utils.data import TensorDataset, DataLoader, RandomSampler, SequentialSampler\n",
        "\n",
        "train_data = TensorDataset(train_inputs, train_masks, train_labels)\n",
        "train_sampler = RandomSampler(train_data)\n",
        "train_dataloader = DataLoader(train_data, sampler=train_sampler, batch_size=BATCH_SIZE)\n",
        "\n",
        "validation_data = TensorDataset(validation_inputs, validation_masks, validation_labels)\n",
        "validation_sampler = SequentialSampler(validation_data)\n",
        "validation_dataloader = DataLoader(validation_data, sampler=validation_sampler, batch_size=BATCH_SIZE)"
      ],
      "execution_count": 17,
      "outputs": []
    },
    {
      "cell_type": "markdown",
      "metadata": {
        "id": "Zyd5a3FmQqSb"
      },
      "source": [
        "Create model."
      ]
    },
    {
      "cell_type": "code",
      "metadata": {
        "id": "T9tTfNw-Qpsa",
        "outputId": "1a5decb1-50fa-45cd-caf4-fc66f9c938f0",
        "colab": {
          "base_uri": "https://localhost:8080/",
          "height": 1000
        }
      },
      "source": [
        "from pytorch_pretrained_bert import BertAdam, BertForSequenceClassification\n",
        "model = BertForSequenceClassification.from_pretrained(\"bert-base-uncased\", num_labels=len(labels))\n",
        "model.cuda()"
      ],
      "execution_count": 18,
      "outputs": [
        {
          "output_type": "execute_result",
          "data": {
            "text/plain": [
              "BertForSequenceClassification(\n",
              "  (bert): BertModel(\n",
              "    (embeddings): BertEmbeddings(\n",
              "      (word_embeddings): Embedding(30522, 768, padding_idx=0)\n",
              "      (position_embeddings): Embedding(512, 768)\n",
              "      (token_type_embeddings): Embedding(2, 768)\n",
              "      (LayerNorm): BertLayerNorm()\n",
              "      (dropout): Dropout(p=0.1, inplace=False)\n",
              "    )\n",
              "    (encoder): BertEncoder(\n",
              "      (layer): ModuleList(\n",
              "        (0): BertLayer(\n",
              "          (attention): BertAttention(\n",
              "            (self): BertSelfAttention(\n",
              "              (query): Linear(in_features=768, out_features=768, bias=True)\n",
              "              (key): Linear(in_features=768, out_features=768, bias=True)\n",
              "              (value): Linear(in_features=768, out_features=768, bias=True)\n",
              "              (dropout): Dropout(p=0.1, inplace=False)\n",
              "            )\n",
              "            (output): BertSelfOutput(\n",
              "              (dense): Linear(in_features=768, out_features=768, bias=True)\n",
              "              (LayerNorm): BertLayerNorm()\n",
              "              (dropout): Dropout(p=0.1, inplace=False)\n",
              "            )\n",
              "          )\n",
              "          (intermediate): BertIntermediate(\n",
              "            (dense): Linear(in_features=768, out_features=3072, bias=True)\n",
              "          )\n",
              "          (output): BertOutput(\n",
              "            (dense): Linear(in_features=3072, out_features=768, bias=True)\n",
              "            (LayerNorm): BertLayerNorm()\n",
              "            (dropout): Dropout(p=0.1, inplace=False)\n",
              "          )\n",
              "        )\n",
              "        (1): BertLayer(\n",
              "          (attention): BertAttention(\n",
              "            (self): BertSelfAttention(\n",
              "              (query): Linear(in_features=768, out_features=768, bias=True)\n",
              "              (key): Linear(in_features=768, out_features=768, bias=True)\n",
              "              (value): Linear(in_features=768, out_features=768, bias=True)\n",
              "              (dropout): Dropout(p=0.1, inplace=False)\n",
              "            )\n",
              "            (output): BertSelfOutput(\n",
              "              (dense): Linear(in_features=768, out_features=768, bias=True)\n",
              "              (LayerNorm): BertLayerNorm()\n",
              "              (dropout): Dropout(p=0.1, inplace=False)\n",
              "            )\n",
              "          )\n",
              "          (intermediate): BertIntermediate(\n",
              "            (dense): Linear(in_features=768, out_features=3072, bias=True)\n",
              "          )\n",
              "          (output): BertOutput(\n",
              "            (dense): Linear(in_features=3072, out_features=768, bias=True)\n",
              "            (LayerNorm): BertLayerNorm()\n",
              "            (dropout): Dropout(p=0.1, inplace=False)\n",
              "          )\n",
              "        )\n",
              "        (2): BertLayer(\n",
              "          (attention): BertAttention(\n",
              "            (self): BertSelfAttention(\n",
              "              (query): Linear(in_features=768, out_features=768, bias=True)\n",
              "              (key): Linear(in_features=768, out_features=768, bias=True)\n",
              "              (value): Linear(in_features=768, out_features=768, bias=True)\n",
              "              (dropout): Dropout(p=0.1, inplace=False)\n",
              "            )\n",
              "            (output): BertSelfOutput(\n",
              "              (dense): Linear(in_features=768, out_features=768, bias=True)\n",
              "              (LayerNorm): BertLayerNorm()\n",
              "              (dropout): Dropout(p=0.1, inplace=False)\n",
              "            )\n",
              "          )\n",
              "          (intermediate): BertIntermediate(\n",
              "            (dense): Linear(in_features=768, out_features=3072, bias=True)\n",
              "          )\n",
              "          (output): BertOutput(\n",
              "            (dense): Linear(in_features=3072, out_features=768, bias=True)\n",
              "            (LayerNorm): BertLayerNorm()\n",
              "            (dropout): Dropout(p=0.1, inplace=False)\n",
              "          )\n",
              "        )\n",
              "        (3): BertLayer(\n",
              "          (attention): BertAttention(\n",
              "            (self): BertSelfAttention(\n",
              "              (query): Linear(in_features=768, out_features=768, bias=True)\n",
              "              (key): Linear(in_features=768, out_features=768, bias=True)\n",
              "              (value): Linear(in_features=768, out_features=768, bias=True)\n",
              "              (dropout): Dropout(p=0.1, inplace=False)\n",
              "            )\n",
              "            (output): BertSelfOutput(\n",
              "              (dense): Linear(in_features=768, out_features=768, bias=True)\n",
              "              (LayerNorm): BertLayerNorm()\n",
              "              (dropout): Dropout(p=0.1, inplace=False)\n",
              "            )\n",
              "          )\n",
              "          (intermediate): BertIntermediate(\n",
              "            (dense): Linear(in_features=768, out_features=3072, bias=True)\n",
              "          )\n",
              "          (output): BertOutput(\n",
              "            (dense): Linear(in_features=3072, out_features=768, bias=True)\n",
              "            (LayerNorm): BertLayerNorm()\n",
              "            (dropout): Dropout(p=0.1, inplace=False)\n",
              "          )\n",
              "        )\n",
              "        (4): BertLayer(\n",
              "          (attention): BertAttention(\n",
              "            (self): BertSelfAttention(\n",
              "              (query): Linear(in_features=768, out_features=768, bias=True)\n",
              "              (key): Linear(in_features=768, out_features=768, bias=True)\n",
              "              (value): Linear(in_features=768, out_features=768, bias=True)\n",
              "              (dropout): Dropout(p=0.1, inplace=False)\n",
              "            )\n",
              "            (output): BertSelfOutput(\n",
              "              (dense): Linear(in_features=768, out_features=768, bias=True)\n",
              "              (LayerNorm): BertLayerNorm()\n",
              "              (dropout): Dropout(p=0.1, inplace=False)\n",
              "            )\n",
              "          )\n",
              "          (intermediate): BertIntermediate(\n",
              "            (dense): Linear(in_features=768, out_features=3072, bias=True)\n",
              "          )\n",
              "          (output): BertOutput(\n",
              "            (dense): Linear(in_features=3072, out_features=768, bias=True)\n",
              "            (LayerNorm): BertLayerNorm()\n",
              "            (dropout): Dropout(p=0.1, inplace=False)\n",
              "          )\n",
              "        )\n",
              "        (5): BertLayer(\n",
              "          (attention): BertAttention(\n",
              "            (self): BertSelfAttention(\n",
              "              (query): Linear(in_features=768, out_features=768, bias=True)\n",
              "              (key): Linear(in_features=768, out_features=768, bias=True)\n",
              "              (value): Linear(in_features=768, out_features=768, bias=True)\n",
              "              (dropout): Dropout(p=0.1, inplace=False)\n",
              "            )\n",
              "            (output): BertSelfOutput(\n",
              "              (dense): Linear(in_features=768, out_features=768, bias=True)\n",
              "              (LayerNorm): BertLayerNorm()\n",
              "              (dropout): Dropout(p=0.1, inplace=False)\n",
              "            )\n",
              "          )\n",
              "          (intermediate): BertIntermediate(\n",
              "            (dense): Linear(in_features=768, out_features=3072, bias=True)\n",
              "          )\n",
              "          (output): BertOutput(\n",
              "            (dense): Linear(in_features=3072, out_features=768, bias=True)\n",
              "            (LayerNorm): BertLayerNorm()\n",
              "            (dropout): Dropout(p=0.1, inplace=False)\n",
              "          )\n",
              "        )\n",
              "        (6): BertLayer(\n",
              "          (attention): BertAttention(\n",
              "            (self): BertSelfAttention(\n",
              "              (query): Linear(in_features=768, out_features=768, bias=True)\n",
              "              (key): Linear(in_features=768, out_features=768, bias=True)\n",
              "              (value): Linear(in_features=768, out_features=768, bias=True)\n",
              "              (dropout): Dropout(p=0.1, inplace=False)\n",
              "            )\n",
              "            (output): BertSelfOutput(\n",
              "              (dense): Linear(in_features=768, out_features=768, bias=True)\n",
              "              (LayerNorm): BertLayerNorm()\n",
              "              (dropout): Dropout(p=0.1, inplace=False)\n",
              "            )\n",
              "          )\n",
              "          (intermediate): BertIntermediate(\n",
              "            (dense): Linear(in_features=768, out_features=3072, bias=True)\n",
              "          )\n",
              "          (output): BertOutput(\n",
              "            (dense): Linear(in_features=3072, out_features=768, bias=True)\n",
              "            (LayerNorm): BertLayerNorm()\n",
              "            (dropout): Dropout(p=0.1, inplace=False)\n",
              "          )\n",
              "        )\n",
              "        (7): BertLayer(\n",
              "          (attention): BertAttention(\n",
              "            (self): BertSelfAttention(\n",
              "              (query): Linear(in_features=768, out_features=768, bias=True)\n",
              "              (key): Linear(in_features=768, out_features=768, bias=True)\n",
              "              (value): Linear(in_features=768, out_features=768, bias=True)\n",
              "              (dropout): Dropout(p=0.1, inplace=False)\n",
              "            )\n",
              "            (output): BertSelfOutput(\n",
              "              (dense): Linear(in_features=768, out_features=768, bias=True)\n",
              "              (LayerNorm): BertLayerNorm()\n",
              "              (dropout): Dropout(p=0.1, inplace=False)\n",
              "            )\n",
              "          )\n",
              "          (intermediate): BertIntermediate(\n",
              "            (dense): Linear(in_features=768, out_features=3072, bias=True)\n",
              "          )\n",
              "          (output): BertOutput(\n",
              "            (dense): Linear(in_features=3072, out_features=768, bias=True)\n",
              "            (LayerNorm): BertLayerNorm()\n",
              "            (dropout): Dropout(p=0.1, inplace=False)\n",
              "          )\n",
              "        )\n",
              "        (8): BertLayer(\n",
              "          (attention): BertAttention(\n",
              "            (self): BertSelfAttention(\n",
              "              (query): Linear(in_features=768, out_features=768, bias=True)\n",
              "              (key): Linear(in_features=768, out_features=768, bias=True)\n",
              "              (value): Linear(in_features=768, out_features=768, bias=True)\n",
              "              (dropout): Dropout(p=0.1, inplace=False)\n",
              "            )\n",
              "            (output): BertSelfOutput(\n",
              "              (dense): Linear(in_features=768, out_features=768, bias=True)\n",
              "              (LayerNorm): BertLayerNorm()\n",
              "              (dropout): Dropout(p=0.1, inplace=False)\n",
              "            )\n",
              "          )\n",
              "          (intermediate): BertIntermediate(\n",
              "            (dense): Linear(in_features=768, out_features=3072, bias=True)\n",
              "          )\n",
              "          (output): BertOutput(\n",
              "            (dense): Linear(in_features=3072, out_features=768, bias=True)\n",
              "            (LayerNorm): BertLayerNorm()\n",
              "            (dropout): Dropout(p=0.1, inplace=False)\n",
              "          )\n",
              "        )\n",
              "        (9): BertLayer(\n",
              "          (attention): BertAttention(\n",
              "            (self): BertSelfAttention(\n",
              "              (query): Linear(in_features=768, out_features=768, bias=True)\n",
              "              (key): Linear(in_features=768, out_features=768, bias=True)\n",
              "              (value): Linear(in_features=768, out_features=768, bias=True)\n",
              "              (dropout): Dropout(p=0.1, inplace=False)\n",
              "            )\n",
              "            (output): BertSelfOutput(\n",
              "              (dense): Linear(in_features=768, out_features=768, bias=True)\n",
              "              (LayerNorm): BertLayerNorm()\n",
              "              (dropout): Dropout(p=0.1, inplace=False)\n",
              "            )\n",
              "          )\n",
              "          (intermediate): BertIntermediate(\n",
              "            (dense): Linear(in_features=768, out_features=3072, bias=True)\n",
              "          )\n",
              "          (output): BertOutput(\n",
              "            (dense): Linear(in_features=3072, out_features=768, bias=True)\n",
              "            (LayerNorm): BertLayerNorm()\n",
              "            (dropout): Dropout(p=0.1, inplace=False)\n",
              "          )\n",
              "        )\n",
              "        (10): BertLayer(\n",
              "          (attention): BertAttention(\n",
              "            (self): BertSelfAttention(\n",
              "              (query): Linear(in_features=768, out_features=768, bias=True)\n",
              "              (key): Linear(in_features=768, out_features=768, bias=True)\n",
              "              (value): Linear(in_features=768, out_features=768, bias=True)\n",
              "              (dropout): Dropout(p=0.1, inplace=False)\n",
              "            )\n",
              "            (output): BertSelfOutput(\n",
              "              (dense): Linear(in_features=768, out_features=768, bias=True)\n",
              "              (LayerNorm): BertLayerNorm()\n",
              "              (dropout): Dropout(p=0.1, inplace=False)\n",
              "            )\n",
              "          )\n",
              "          (intermediate): BertIntermediate(\n",
              "            (dense): Linear(in_features=768, out_features=3072, bias=True)\n",
              "          )\n",
              "          (output): BertOutput(\n",
              "            (dense): Linear(in_features=3072, out_features=768, bias=True)\n",
              "            (LayerNorm): BertLayerNorm()\n",
              "            (dropout): Dropout(p=0.1, inplace=False)\n",
              "          )\n",
              "        )\n",
              "        (11): BertLayer(\n",
              "          (attention): BertAttention(\n",
              "            (self): BertSelfAttention(\n",
              "              (query): Linear(in_features=768, out_features=768, bias=True)\n",
              "              (key): Linear(in_features=768, out_features=768, bias=True)\n",
              "              (value): Linear(in_features=768, out_features=768, bias=True)\n",
              "              (dropout): Dropout(p=0.1, inplace=False)\n",
              "            )\n",
              "            (output): BertSelfOutput(\n",
              "              (dense): Linear(in_features=768, out_features=768, bias=True)\n",
              "              (LayerNorm): BertLayerNorm()\n",
              "              (dropout): Dropout(p=0.1, inplace=False)\n",
              "            )\n",
              "          )\n",
              "          (intermediate): BertIntermediate(\n",
              "            (dense): Linear(in_features=768, out_features=3072, bias=True)\n",
              "          )\n",
              "          (output): BertOutput(\n",
              "            (dense): Linear(in_features=3072, out_features=768, bias=True)\n",
              "            (LayerNorm): BertLayerNorm()\n",
              "            (dropout): Dropout(p=0.1, inplace=False)\n",
              "          )\n",
              "        )\n",
              "      )\n",
              "    )\n",
              "    (pooler): BertPooler(\n",
              "      (dense): Linear(in_features=768, out_features=768, bias=True)\n",
              "      (activation): Tanh()\n",
              "    )\n",
              "  )\n",
              "  (dropout): Dropout(p=0.1, inplace=False)\n",
              "  (classifier): Linear(in_features=768, out_features=7969, bias=True)\n",
              ")"
            ]
          },
          "metadata": {
            "tags": []
          },
          "execution_count": 18
        }
      ]
    },
    {
      "cell_type": "markdown",
      "metadata": {
        "id": "4vGJNoJ9Rfqd"
      },
      "source": [
        "Now that we have our model loaded we need to grab the training hyperparameters from within the stored model.\n",
        "\n",
        "For the purposes of fine-tuning, the authors recommend the following hyperparameter ranges:\n",
        "\n",
        "*   Batch size: 16, 32\n",
        "*    Learning rate (Adam): 5e-5, 3e-5, 2e-5\n",
        "*    Number of epochs: 2, 3, 4"
      ]
    },
    {
      "cell_type": "code",
      "metadata": {
        "id": "KgwH7ustRiOI",
        "outputId": "47ea85cd-97a7-4e32-af4c-108996de1f45",
        "colab": {
          "base_uri": "https://localhost:8080/",
          "height": 34
        }
      },
      "source": [
        "LEARNING_RATE = 2e-5\n",
        "WARMUP = .1\n",
        "\n",
        "param_optimizer = list(model.named_parameters())\n",
        "no_decay = ['bias', 'gamma', 'beta']\n",
        "optimizer_grouped_parameters = [\n",
        "    {'params': [p for n, p in param_optimizer if not any(nd in n for nd in no_decay)],\n",
        "     'weight_decay_rate': 0.01},\n",
        "    {'params': [p for n, p in param_optimizer if any(nd in n for nd in no_decay)],\n",
        "     'weight_decay_rate': 0.0}\n",
        "]\n",
        "\n",
        "optimizer = BertAdam(optimizer_grouped_parameters,\n",
        "                     lr=LEARNING_RATE,\n",
        "                     warmup=WARMUP)"
      ],
      "execution_count": 19,
      "outputs": [
        {
          "output_type": "stream",
          "text": [
            "t_total value of -1 results in schedule not being applied\n"
          ],
          "name": "stderr"
        }
      ]
    },
    {
      "cell_type": "markdown",
      "metadata": {
        "id": "i5259TkfSK9s"
      },
      "source": [
        "Time for training."
      ]
    },
    {
      "cell_type": "code",
      "metadata": {
        "id": "HwfUmMUFSMTk",
        "outputId": "76c73fbc-1283-468d-d357-0aea4981d13b",
        "colab": {
          "base_uri": "https://localhost:8080/",
          "height": 275
        }
      },
      "source": [
        "from tqdm import trange\n",
        "\n",
        "EPOCHS = 4\n",
        "\n",
        "t = [] \n",
        "\n",
        "# Store our loss and accuracy for plotting\n",
        "train_loss_set = []\n",
        "\n",
        "# Function to calculate the accuracy of our predictions vs labels\n",
        "def flat_accuracy(preds, labels):\n",
        "    pred_flat = np.argmax(preds, axis=1).flatten()\n",
        "    labels_flat = labels.flatten()\n",
        "    return np.sum(pred_flat == labels_flat) / len(labels_flat)\n",
        "\n",
        "# trange is a tqdm wrapper around the normal python range\n",
        "for _ in trange(EPOCHS, desc=\"Epoch\"):\n",
        "  \n",
        "  # Training\n",
        "  \n",
        "  # Set our model to training mode (as opposed to evaluation mode)\n",
        "  model.train()\n",
        "  \n",
        "  # Tracking variables\n",
        "  tr_loss = 0\n",
        "  nb_tr_examples, nb_tr_steps = 0, 0\n",
        "  \n",
        "  # Train the data for one epoch\n",
        "  for step, batch in enumerate(train_dataloader):\n",
        "    # Add batch to GPU\n",
        "    batch = tuple(t.to(device) for t in batch)\n",
        "    # Unpack the inputs from our dataloader\n",
        "    b_input_ids, b_input_mask, b_labels = batch\n",
        "    # Clear out the gradients (by default they accumulate)\n",
        "    optimizer.zero_grad()\n",
        "    # Forward pass\n",
        "    loss = model(b_input_ids, token_type_ids=None, attention_mask=b_input_mask, labels=b_labels)\n",
        "    train_loss_set.append(loss.item())    \n",
        "    # Backward pass\n",
        "    loss.backward()\n",
        "    # Update parameters and take a step using the computed gradient\n",
        "    optimizer.step()\n",
        "    \n",
        "    # Update tracking variables\n",
        "    tr_loss += loss.item()\n",
        "    nb_tr_examples += b_input_ids.size(0)\n",
        "    nb_tr_steps += 1\n",
        "\n",
        "  print(\"Train loss: {}\".format(tr_loss/nb_tr_steps))\n",
        "    \n",
        "    \n",
        "  # Validation\n",
        "\n",
        "  # Put model in evaluation mode to evaluate loss on the validation set\n",
        "  model.eval()\n",
        "\n",
        "  # Tracking variables \n",
        "  eval_loss, eval_accuracy = 0, 0\n",
        "  nb_eval_steps, nb_eval_examples = 0, 0\n",
        "\n",
        "  # Evaluate data for one epoch\n",
        "  for batch in validation_dataloader:\n",
        "    # Add batch to GPU\n",
        "    batch = tuple(t.to(device) for t in batch)\n",
        "    # Unpack the inputs from our dataloader\n",
        "    b_input_ids, b_input_mask, b_labels = batch\n",
        "    # Telling the model not to compute or store gradients, saving memory and speeding up validation\n",
        "    with torch.no_grad():\n",
        "      # Forward pass, calculate logit predictions\n",
        "      logits = model(b_input_ids, token_type_ids=None, attention_mask=b_input_mask)\n",
        "    \n",
        "    # Move logits and labels to CPU\n",
        "    logits = logits.detach().cpu().numpy()\n",
        "    label_ids = b_labels.to('cpu').numpy()\n",
        "\n",
        "    tmp_eval_accuracy = flat_accuracy(logits, label_ids)\n",
        "    \n",
        "    eval_accuracy += tmp_eval_accuracy\n",
        "    nb_eval_steps += 1\n",
        "\n",
        "  print(\"Validation Accuracy: {}\".format(eval_accuracy/nb_eval_steps))"
      ],
      "execution_count": 20,
      "outputs": [
        {
          "output_type": "stream",
          "text": [
            "\rEpoch:   0%|          | 0/4 [00:00<?, ?it/s]/usr/local/lib/python3.6/dist-packages/pytorch_pretrained_bert/optimization.py:275: UserWarning: This overload of add_ is deprecated:\n",
            "\tadd_(Number alpha, Tensor other)\n",
            "Consider using one of the following signatures instead:\n",
            "\tadd_(Tensor other, *, Number alpha) (Triggered internally at  /pytorch/torch/csrc/utils/python_arg_parser.cpp:766.)\n",
            "  next_m.mul_(beta1).add_(1 - beta1, grad)\n"
          ],
          "name": "stderr"
        },
        {
          "output_type": "stream",
          "text": [
            "Train loss: 0.9534529833992322\n"
          ],
          "name": "stdout"
        },
        {
          "output_type": "stream",
          "text": [
            "\rEpoch:  25%|██▌       | 1/4 [01:13<03:41, 73.68s/it]"
          ],
          "name": "stderr"
        },
        {
          "output_type": "stream",
          "text": [
            "Validation Accuracy: 0.8754741379310345\n",
            "Train loss: 0.27690566860967214\n"
          ],
          "name": "stdout"
        },
        {
          "output_type": "stream",
          "text": [
            "\rEpoch:  50%|█████     | 2/4 [02:27<02:27, 73.77s/it]"
          ],
          "name": "stderr"
        },
        {
          "output_type": "stream",
          "text": [
            "Validation Accuracy: 0.8819827586206896\n",
            "Train loss: 0.18743848567207655\n"
          ],
          "name": "stdout"
        },
        {
          "output_type": "stream",
          "text": [
            "\rEpoch:  75%|███████▌  | 3/4 [03:41<01:13, 73.78s/it]"
          ],
          "name": "stderr"
        },
        {
          "output_type": "stream",
          "text": [
            "Validation Accuracy: 0.8796120689655172\n",
            "Train loss: 0.1344964363715715\n"
          ],
          "name": "stdout"
        },
        {
          "output_type": "stream",
          "text": [
            "Epoch: 100%|██████████| 4/4 [04:55<00:00, 73.83s/it]"
          ],
          "name": "stderr"
        },
        {
          "output_type": "stream",
          "text": [
            "Validation Accuracy: 0.8732327586206897\n"
          ],
          "name": "stdout"
        },
        {
          "output_type": "stream",
          "text": [
            "\n"
          ],
          "name": "stderr"
        }
      ]
    },
    {
      "cell_type": "markdown",
      "metadata": {
        "id": "3QibYE0QZny6"
      },
      "source": [
        "Snapshot of loss over time."
      ]
    },
    {
      "cell_type": "code",
      "metadata": {
        "id": "JCTp25qbZr5q",
        "outputId": "06ee8aa4-4b4a-41fe-d31f-65270622fe19",
        "colab": {
          "base_uri": "https://localhost:8080/",
          "height": 513
        }
      },
      "source": [
        "import matplotlib.pyplot as plt\n",
        "% matplotlib inline\n",
        "\n",
        "plt.figure(figsize=(15,8))\n",
        "plt.title(\"Training loss\")\n",
        "plt.xlabel(\"Batch\")\n",
        "plt.ylabel(\"Loss\")\n",
        "plt.plot(train_loss_set)\n",
        "plt.show()"
      ],
      "execution_count": 21,
      "outputs": [
        {
          "output_type": "display_data",
          "data": {
            "image/png": "[encoded data removed]",
            "text/plain": [
              "<Figure size 1080x576 with 1 Axes>"
            ]
          },
          "metadata": {
            "tags": [],
            "needs_background": "light"
          }
        }
      ]
    },
    {
      "cell_type": "markdown",
      "metadata": {
        "id": "Pmpb0zgKES4e"
      },
      "source": [
        "Test model on testing data."
      ]
    },
    {
      "cell_type": "code",
      "metadata": {
        "id": "f7QLVJUaEXbM",
        "outputId": "cf548263-5404-4429-a7ee-7bd64e37a740",
        "colab": {
          "base_uri": "https://localhost:8080/",
          "height": 1000
        }
      },
      "source": [
        "DATA_NAME = \"EBA1415-CoralBleaching-little-sentences.tsv\"\n",
        "\n",
        "df_test = pd.read_csv(DATA_PATH + DATA_NAME, delimiter='\\t', header=None, names=['essay', 'relation', 's_num', 'sentence'])\n",
        "\n",
        "df_test.head(50)"
      ],
      "execution_count": 22,
      "outputs": [
        {
          "output_type": "execute_result",
          "data": {
            "text/html": [
              "<div>\n",
              "<style scoped>\n",
              "    .dataframe tbody tr th:only-of-type {\n",
              "        vertical-align: middle;\n",
              "    }\n",
              "\n",
              "    .dataframe tbody tr th {\n",
              "        vertical-align: top;\n",
              "    }\n",
              "\n",
              "    .dataframe thead th {\n",
              "        text-align: right;\n",
              "    }\n",
              "</style>\n",
              "<table border=\"1\" class=\"dataframe\">\n",
              "  <thead>\n",
              "    <tr style=\"text-align: right;\">\n",
              "      <th></th>\n",
              "      <th>essay</th>\n",
              "      <th>relation</th>\n",
              "      <th>s_num</th>\n",
              "      <th>sentence</th>\n",
              "    </tr>\n",
              "  </thead>\n",
              "  <tbody>\n",
              "    <tr>\n",
              "      <th>0</th>\n",
              "      <td>EBA1415_TFBM_2_CB_ES-05548</td>\n",
              "      <td>O</td>\n",
              "      <td>1.0</td>\n",
              "      <td>No essay  //</td>\n",
              "    </tr>\n",
              "    <tr>\n",
              "      <th>1</th>\n",
              "      <td>EBA1415_TRJA_11_CB_ES-06110</td>\n",
              "      <td>O</td>\n",
              "      <td>2.0</td>\n",
              "      <td>Somethings that lead to the differences are.. ...</td>\n",
              "    </tr>\n",
              "    <tr>\n",
              "      <th>2</th>\n",
              "      <td>EBA1415_TRJA_11_CB_ES-06110</td>\n",
              "      <td>O</td>\n",
              "      <td>3.0</td>\n",
              "      <td>Some have been bleach all white it is a phenom...</td>\n",
              "    </tr>\n",
              "    <tr>\n",
              "      <th>3</th>\n",
              "      <td>EBA1415_TRJA_11_CB_ES-06110</td>\n",
              "      <td>O</td>\n",
              "      <td>4.0</td>\n",
              "      <td>Coral bleaching is most noticeable in the Paci...</td>\n",
              "    </tr>\n",
              "    <tr>\n",
              "      <th>4</th>\n",
              "      <td>EBA1415_TRJA_11_CB_ES-06110</td>\n",
              "      <td>O</td>\n",
              "      <td>5.0</td>\n",
              "      <td>That ocean covers about 1/3 of the surface of ...</td>\n",
              "    </tr>\n",
              "    <tr>\n",
              "      <th>5</th>\n",
              "      <td>EBA1415_TRJA_11_CB_ES-06110</td>\n",
              "      <td>O</td>\n",
              "      <td>6.0</td>\n",
              "      <td>The invertebrate animals live together in Colo...</td>\n",
              "    </tr>\n",
              "    <tr>\n",
              "      <th>6</th>\n",
              "      <td>EBA1415_TRJA_11_CB_ES-06110</td>\n",
              "      <td>R-7-50</td>\n",
              "      <td>7.0</td>\n",
              "      <td>The different type of algae living within the ...</td>\n",
              "    </tr>\n",
              "    <tr>\n",
              "      <th>7</th>\n",
              "      <td>EBA1415_RHSG_2_CB_ES-05081</td>\n",
              "      <td>R-1-50</td>\n",
              "      <td>8.0</td>\n",
              "      <td>There are several things that cause coral blea...</td>\n",
              "    </tr>\n",
              "    <tr>\n",
              "      <th>8</th>\n",
              "      <td>EBA1415_RHSG_2_CB_ES-05081</td>\n",
              "      <td>O</td>\n",
              "      <td>9.0</td>\n",
              "      <td>The trade winds make sea water rise.</td>\n",
              "    </tr>\n",
              "    <tr>\n",
              "      <th>9</th>\n",
              "      <td>EBA1415_RHSG_2_CB_ES-05081</td>\n",
              "      <td>R-1-3</td>\n",
              "      <td>10.0</td>\n",
              "      <td>The trade winds also change water temperature</td>\n",
              "    </tr>\n",
              "    <tr>\n",
              "      <th>10</th>\n",
              "      <td>EBA1415_RHSG_2_CB_ES-05081</td>\n",
              "      <td>O</td>\n",
              "      <td>11.0</td>\n",
              "      <td>(2) Coral is made up of small animals called p...</td>\n",
              "    </tr>\n",
              "    <tr>\n",
              "      <th>11</th>\n",
              "      <td>EBA1415_RHSG_2_CB_ES-05081</td>\n",
              "      <td>O</td>\n",
              "      <td>12.0</td>\n",
              "      <td>Coral reefs are only found in clear, shallow, ...</td>\n",
              "    </tr>\n",
              "    <tr>\n",
              "      <th>12</th>\n",
              "      <td>EBA1415_RHSG_2_CB_ES-05081</td>\n",
              "      <td>O</td>\n",
              "      <td>13.0</td>\n",
              "      <td>They live there because the algae that live in...</td>\n",
              "    </tr>\n",
              "    <tr>\n",
              "      <th>13</th>\n",
              "      <td>EBA1415_RHSG_2_CB_ES-05081</td>\n",
              "      <td>O</td>\n",
              "      <td>14.0</td>\n",
              "      <td>The algae use energy from sunlight to</td>\n",
              "    </tr>\n",
              "    <tr>\n",
              "      <th>14</th>\n",
              "      <td>EBA1415_RHSG_2_CB_ES-05081</td>\n",
              "      <td>O</td>\n",
              "      <td>15.0</td>\n",
              "      <td>Ran out of time   //</td>\n",
              "    </tr>\n",
              "    <tr>\n",
              "      <th>15</th>\n",
              "      <td>EBA1415_KYNS_4_CB_ES-05390</td>\n",
              "      <td>R-1-50</td>\n",
              "      <td>16.0</td>\n",
              "      <td>What lead to differences in the rates of coral...</td>\n",
              "    </tr>\n",
              "    <tr>\n",
              "      <th>16</th>\n",
              "      <td>EBA1415_KYNS_4_CB_ES-05390</td>\n",
              "      <td>O</td>\n",
              "      <td>17.0</td>\n",
              "      <td>Coral bleaching is when a coral loses its color.</td>\n",
              "    </tr>\n",
              "    <tr>\n",
              "      <th>17</th>\n",
              "      <td>EBA1415_KYNS_4_CB_ES-05390</td>\n",
              "      <td>O</td>\n",
              "      <td>18.0</td>\n",
              "      <td>One cause is shifting trade winds.</td>\n",
              "    </tr>\n",
              "    <tr>\n",
              "      <th>18</th>\n",
              "      <td>EBA1415_KYNS_4_CB_ES-05390</td>\n",
              "      <td>R-1-2</td>\n",
              "      <td>19.0</td>\n",
              "      <td>Trade winds travel from east to west, causing ...</td>\n",
              "    </tr>\n",
              "    <tr>\n",
              "      <th>19</th>\n",
              "      <td>EBA1415_KYNS_4_CB_ES-05390</td>\n",
              "      <td>O</td>\n",
              "      <td>20.0</td>\n",
              "      <td>Tradewinds constantly shift, causing major cha...</td>\n",
              "    </tr>\n",
              "    <tr>\n",
              "      <th>20</th>\n",
              "      <td>EBA1415_KYNS_4_CB_ES-05390</td>\n",
              "      <td>R-1-3</td>\n",
              "      <td>21.1</td>\n",
              "      <td>Weaker trade winds cause higher water temperat...</td>\n",
              "    </tr>\n",
              "    <tr>\n",
              "      <th>21</th>\n",
              "      <td>EBA1415_KYNS_4_CB_ES-05390</td>\n",
              "      <td>R-3-50</td>\n",
              "      <td>21.2</td>\n",
              "      <td>Weaker trade winds cause higher water temperat...</td>\n",
              "    </tr>\n",
              "    <tr>\n",
              "      <th>22</th>\n",
              "      <td>EBA1415_KYNS_4_CB_ES-05390</td>\n",
              "      <td>O</td>\n",
              "      <td>22.0</td>\n",
              "      <td>In order for coral to survive, it needs photos...</td>\n",
              "    </tr>\n",
              "    <tr>\n",
              "      <th>23</th>\n",
              "      <td>EBA1415_KYNS_4_CB_ES-05390</td>\n",
              "      <td>O</td>\n",
              "      <td>23.0</td>\n",
              "      <td>Algae lives in the coral tissues, called zooxa...</td>\n",
              "    </tr>\n",
              "    <tr>\n",
              "      <th>24</th>\n",
              "      <td>EBA1415_KYNS_4_CB_ES-05390</td>\n",
              "      <td>O</td>\n",
              "      <td>24.0</td>\n",
              "      <td>Coral and zooxanthellae need each other to sur...</td>\n",
              "    </tr>\n",
              "    <tr>\n",
              "      <th>25</th>\n",
              "      <td>EBA1415_KYNS_4_CB_ES-05390</td>\n",
              "      <td>R-4-5</td>\n",
              "      <td>25.0</td>\n",
              "      <td>Zooxanthellae gets energy fron the sun, combin...</td>\n",
              "    </tr>\n",
              "    <tr>\n",
              "      <th>26</th>\n",
              "      <td>EBA1415_KYNS_4_CB_ES-05390</td>\n",
              "      <td>R-4-5</td>\n",
              "      <td>26.0</td>\n",
              "      <td>During this process, carbon is passed to the c...</td>\n",
              "    </tr>\n",
              "    <tr>\n",
              "      <th>27</th>\n",
              "      <td>EBA1415_KYNS_4_CB_ES-05390</td>\n",
              "      <td>R-3-5</td>\n",
              "      <td>27.0</td>\n",
              "      <td>In order for coral to survive, it needs water ...</td>\n",
              "    </tr>\n",
              "    <tr>\n",
              "      <th>28</th>\n",
              "      <td>EBA1415_KYNS_4_CB_ES-05390</td>\n",
              "      <td>R-3-4</td>\n",
              "      <td>28.0</td>\n",
              "      <td>When water temperature increases, the amount o...</td>\n",
              "    </tr>\n",
              "    <tr>\n",
              "      <th>29</th>\n",
              "      <td>EBA1415_KYNS_4_CB_ES-05390</td>\n",
              "      <td>R-3-14</td>\n",
              "      <td>29.1</td>\n",
              "      <td>When the water temperature is constantly chang...</td>\n",
              "    </tr>\n",
              "    <tr>\n",
              "      <th>30</th>\n",
              "      <td>EBA1415_KYNS_4_CB_ES-05390</td>\n",
              "      <td>R-1-3</td>\n",
              "      <td>29.2</td>\n",
              "      <td>When the water temperature is constantly chang...</td>\n",
              "    </tr>\n",
              "    <tr>\n",
              "      <th>31</th>\n",
              "      <td>EBA1415_KYNS_4_CB_ES-05390</td>\n",
              "      <td>R-14-50</td>\n",
              "      <td>30.1</td>\n",
              "      <td>Coral bleaching happens when the coral is unhe...</td>\n",
              "    </tr>\n",
              "    <tr>\n",
              "      <th>32</th>\n",
              "      <td>EBA1415_KYNS_4_CB_ES-05390</td>\n",
              "      <td>R-14-7</td>\n",
              "      <td>30.2</td>\n",
              "      <td>Coral bleaching happens when the coral is unhe...</td>\n",
              "    </tr>\n",
              "    <tr>\n",
              "      <th>33</th>\n",
              "      <td>EBA1415_KYNS_4_CB_ES-05390</td>\n",
              "      <td>R-1-3</td>\n",
              "      <td>31.1</td>\n",
              "      <td>Trade winds affect the balance of water temper...</td>\n",
              "    </tr>\n",
              "    <tr>\n",
              "      <th>34</th>\n",
              "      <td>EBA1415_KYNS_4_CB_ES-05390</td>\n",
              "      <td>R-3-7</td>\n",
              "      <td>31.2</td>\n",
              "      <td>Trade winds affect the balance of water temper...</td>\n",
              "    </tr>\n",
              "    <tr>\n",
              "      <th>35</th>\n",
              "      <td>EBA1415_KYNS_4_CB_ES-05390</td>\n",
              "      <td>O</td>\n",
              "      <td>32.0</td>\n",
              "      <td>Without the zooxanthellae, coral will not surv...</td>\n",
              "    </tr>\n",
              "    <tr>\n",
              "      <th>36</th>\n",
              "      <td>EBA1415_KYNS_4_CB_ES-05390</td>\n",
              "      <td>O</td>\n",
              "      <td>33.0</td>\n",
              "      <td>Without the coral, the zooxanthellae will also...</td>\n",
              "    </tr>\n",
              "    <tr>\n",
              "      <th>37</th>\n",
              "      <td>EBA1415_KYNS_4_CB_ES-05390</td>\n",
              "      <td>R-7-14</td>\n",
              "      <td>34.1</td>\n",
              "      <td>When the zooxanthellae dies or is ejected, the...</td>\n",
              "    </tr>\n",
              "    <tr>\n",
              "      <th>38</th>\n",
              "      <td>EBA1415_KYNS_4_CB_ES-05390</td>\n",
              "      <td>R-14-50</td>\n",
              "      <td>34.2</td>\n",
              "      <td>When the zooxanthellae dies or is ejected, the...</td>\n",
              "    </tr>\n",
              "    <tr>\n",
              "      <th>39</th>\n",
              "      <td>EBA1415_TWPK_3_CB_ES-05049</td>\n",
              "      <td>O</td>\n",
              "      <td>35.0</td>\n",
              "      <td>The main thing that was mentioned alot was the...</td>\n",
              "    </tr>\n",
              "    <tr>\n",
              "      <th>40</th>\n",
              "      <td>EBA1415_TWPK_3_CB_ES-05049</td>\n",
              "      <td>R-4-50</td>\n",
              "      <td>36.0</td>\n",
              "      <td>The coral basically lives off of all those res...</td>\n",
              "    </tr>\n",
              "    <tr>\n",
              "      <th>41</th>\n",
              "      <td>EBA1415_TWPK_3_CB_ES-05049</td>\n",
              "      <td>O</td>\n",
              "      <td>37.0</td>\n",
              "      <td>Also the shift and changing in the wind also e...</td>\n",
              "    </tr>\n",
              "    <tr>\n",
              "      <th>42</th>\n",
              "      <td>EBA1415_TWPK_3_CB_ES-05049</td>\n",
              "      <td>R-13-50</td>\n",
              "      <td>38.0</td>\n",
              "      <td>The coral was also sensitive like if the water...</td>\n",
              "    </tr>\n",
              "    <tr>\n",
              "      <th>43</th>\n",
              "      <td>EBA1415_TWPK_3_CB_ES-05049</td>\n",
              "      <td>O</td>\n",
              "      <td>39.0</td>\n",
              "      <td>Ran out of time   //</td>\n",
              "    </tr>\n",
              "    <tr>\n",
              "      <th>44</th>\n",
              "      <td>EBA1415post_TWNB_3_CB_ES-05893</td>\n",
              "      <td>O</td>\n",
              "      <td>40.0</td>\n",
              "      <td>Coral bleaching can happen depending in the en...</td>\n",
              "    </tr>\n",
              "    <tr>\n",
              "      <th>45</th>\n",
              "      <td>EBA1415post_TWNB_3_CB_ES-05893</td>\n",
              "      <td>O</td>\n",
              "      <td>41.0</td>\n",
              "      <td>Coral bleaching is mostly found in the Pacific...</td>\n",
              "    </tr>\n",
              "    <tr>\n",
              "      <th>46</th>\n",
              "      <td>EBA1415post_TWNB_3_CB_ES-05893</td>\n",
              "      <td>O</td>\n",
              "      <td>42.0</td>\n",
              "      <td>People that noticed coral bleaching would keep...</td>\n",
              "    </tr>\n",
              "    <tr>\n",
              "      <th>47</th>\n",
              "      <td>EBA1415post_TWNB_3_CB_ES-05893</td>\n",
              "      <td>O</td>\n",
              "      <td>43.0</td>\n",
              "      <td>In 1998 coral bleaching was very wich was abou...</td>\n",
              "    </tr>\n",
              "    <tr>\n",
              "      <th>48</th>\n",
              "      <td>EBA1415post_TWNB_3_CB_ES-05893</td>\n",
              "      <td>R-5-50</td>\n",
              "      <td>44.0</td>\n",
              "      <td>Coral need photoosynthesis because without it ...</td>\n",
              "    </tr>\n",
              "    <tr>\n",
              "      <th>49</th>\n",
              "      <td>EBA1415post_TWNB_3_CB_ES-05893</td>\n",
              "      <td>O</td>\n",
              "      <td>45.0</td>\n",
              "      <td>Coral bleaching happens when the coral does no...</td>\n",
              "    </tr>\n",
              "  </tbody>\n",
              "</table>\n",
              "</div>"
            ],
            "text/plain": [
              "                             essay  ...                                           sentence\n",
              "0       EBA1415_TFBM_2_CB_ES-05548  ...                                       No essay  //\n",
              "1      EBA1415_TRJA_11_CB_ES-06110  ...  Somethings that lead to the differences are.. ...\n",
              "2      EBA1415_TRJA_11_CB_ES-06110  ...  Some have been bleach all white it is a phenom...\n",
              "3      EBA1415_TRJA_11_CB_ES-06110  ...  Coral bleaching is most noticeable in the Paci...\n",
              "4      EBA1415_TRJA_11_CB_ES-06110  ...  That ocean covers about 1/3 of the surface of ...\n",
              "5      EBA1415_TRJA_11_CB_ES-06110  ...  The invertebrate animals live together in Colo...\n",
              "6      EBA1415_TRJA_11_CB_ES-06110  ...  The different type of algae living within the ...\n",
              "7       EBA1415_RHSG_2_CB_ES-05081  ...  There are several things that cause coral blea...\n",
              "8       EBA1415_RHSG_2_CB_ES-05081  ...               The trade winds make sea water rise.\n",
              "9       EBA1415_RHSG_2_CB_ES-05081  ...      The trade winds also change water temperature\n",
              "10      EBA1415_RHSG_2_CB_ES-05081  ...  (2) Coral is made up of small animals called p...\n",
              "11      EBA1415_RHSG_2_CB_ES-05081  ...  Coral reefs are only found in clear, shallow, ...\n",
              "12      EBA1415_RHSG_2_CB_ES-05081  ...  They live there because the algae that live in...\n",
              "13      EBA1415_RHSG_2_CB_ES-05081  ...              The algae use energy from sunlight to\n",
              "14      EBA1415_RHSG_2_CB_ES-05081  ...                               Ran out of time   //\n",
              "15      EBA1415_KYNS_4_CB_ES-05390  ...  What lead to differences in the rates of coral...\n",
              "16      EBA1415_KYNS_4_CB_ES-05390  ...   Coral bleaching is when a coral loses its color.\n",
              "17      EBA1415_KYNS_4_CB_ES-05390  ...                 One cause is shifting trade winds.\n",
              "18      EBA1415_KYNS_4_CB_ES-05390  ...  Trade winds travel from east to west, causing ...\n",
              "19      EBA1415_KYNS_4_CB_ES-05390  ...  Tradewinds constantly shift, causing major cha...\n",
              "20      EBA1415_KYNS_4_CB_ES-05390  ...  Weaker trade winds cause higher water temperat...\n",
              "21      EBA1415_KYNS_4_CB_ES-05390  ...  Weaker trade winds cause higher water temperat...\n",
              "22      EBA1415_KYNS_4_CB_ES-05390  ...  In order for coral to survive, it needs photos...\n",
              "23      EBA1415_KYNS_4_CB_ES-05390  ...  Algae lives in the coral tissues, called zooxa...\n",
              "24      EBA1415_KYNS_4_CB_ES-05390  ...  Coral and zooxanthellae need each other to sur...\n",
              "25      EBA1415_KYNS_4_CB_ES-05390  ...  Zooxanthellae gets energy fron the sun, combin...\n",
              "26      EBA1415_KYNS_4_CB_ES-05390  ...  During this process, carbon is passed to the c...\n",
              "27      EBA1415_KYNS_4_CB_ES-05390  ...  In order for coral to survive, it needs water ...\n",
              "28      EBA1415_KYNS_4_CB_ES-05390  ...  When water temperature increases, the amount o...\n",
              "29      EBA1415_KYNS_4_CB_ES-05390  ...  When the water temperature is constantly chang...\n",
              "30      EBA1415_KYNS_4_CB_ES-05390  ...  When the water temperature is constantly chang...\n",
              "31      EBA1415_KYNS_4_CB_ES-05390  ...  Coral bleaching happens when the coral is unhe...\n",
              "32      EBA1415_KYNS_4_CB_ES-05390  ...  Coral bleaching happens when the coral is unhe...\n",
              "33      EBA1415_KYNS_4_CB_ES-05390  ...  Trade winds affect the balance of water temper...\n",
              "34      EBA1415_KYNS_4_CB_ES-05390  ...  Trade winds affect the balance of water temper...\n",
              "35      EBA1415_KYNS_4_CB_ES-05390  ...  Without the zooxanthellae, coral will not surv...\n",
              "36      EBA1415_KYNS_4_CB_ES-05390  ...  Without the coral, the zooxanthellae will also...\n",
              "37      EBA1415_KYNS_4_CB_ES-05390  ...  When the zooxanthellae dies or is ejected, the...\n",
              "38      EBA1415_KYNS_4_CB_ES-05390  ...  When the zooxanthellae dies or is ejected, the...\n",
              "39      EBA1415_TWPK_3_CB_ES-05049  ...  The main thing that was mentioned alot was the...\n",
              "40      EBA1415_TWPK_3_CB_ES-05049  ...  The coral basically lives off of all those res...\n",
              "41      EBA1415_TWPK_3_CB_ES-05049  ...  Also the shift and changing in the wind also e...\n",
              "42      EBA1415_TWPK_3_CB_ES-05049  ...  The coral was also sensitive like if the water...\n",
              "43      EBA1415_TWPK_3_CB_ES-05049  ...                               Ran out of time   //\n",
              "44  EBA1415post_TWNB_3_CB_ES-05893  ...  Coral bleaching can happen depending in the en...\n",
              "45  EBA1415post_TWNB_3_CB_ES-05893  ...  Coral bleaching is mostly found in the Pacific...\n",
              "46  EBA1415post_TWNB_3_CB_ES-05893  ...  People that noticed coral bleaching would keep...\n",
              "47  EBA1415post_TWNB_3_CB_ES-05893  ...  In 1998 coral bleaching was very wich was abou...\n",
              "48  EBA1415post_TWNB_3_CB_ES-05893  ...  Coral need photoosynthesis because without it ...\n",
              "49  EBA1415post_TWNB_3_CB_ES-05893  ...  Coral bleaching happens when the coral does no...\n",
              "\n",
              "[50 rows x 4 columns]"
            ]
          },
          "metadata": {
            "tags": []
          },
          "execution_count": 22
        }
      ]
    },
    {
      "cell_type": "markdown",
      "metadata": {
        "id": "pldMJt9JEyCD"
      },
      "source": [
        "Convert testing data labels to ternary."
      ]
    },
    {
      "cell_type": "code",
      "metadata": {
        "id": "5BDFqhFtE3h0",
        "outputId": "7987c799-1111-42c1-97d0-fc94a23254ec",
        "colab": {
          "base_uri": "https://localhost:8080/",
          "height": 1000
        }
      },
      "source": [
        "relations_test_pd = df_test.relation.copy(deep=True)\n",
        "df_ternary_test = df_test.copy(deep=True)\n",
        "\n",
        "for i, rel in relations_test_pd.items():\n",
        "  chain = rel.split(\"-\")\n",
        "\n",
        "  if chain[0] == \"O\":\n",
        "    relations_test_pd.at[i] = 0\n",
        "    continue\n",
        "  \n",
        "  chain = chain[1] + \",\" + chain[2]\n",
        "\n",
        "  if chain in relations:\n",
        "    relations_test_pd.at[i] = 1\n",
        "  else: \n",
        "    relations_test_pd.at[i] = 2\n",
        "\n",
        "df_ternary_test.relation = relations_test_pd\n",
        "df_ternary_test.head(50)"
      ],
      "execution_count": 23,
      "outputs": [
        {
          "output_type": "execute_result",
          "data": {
            "text/html": [
              "<div>\n",
              "<style scoped>\n",
              "    .dataframe tbody tr th:only-of-type {\n",
              "        vertical-align: middle;\n",
              "    }\n",
              "\n",
              "    .dataframe tbody tr th {\n",
              "        vertical-align: top;\n",
              "    }\n",
              "\n",
              "    .dataframe thead th {\n",
              "        text-align: right;\n",
              "    }\n",
              "</style>\n",
              "<table border=\"1\" class=\"dataframe\">\n",
              "  <thead>\n",
              "    <tr style=\"text-align: right;\">\n",
              "      <th></th>\n",
              "      <th>essay</th>\n",
              "      <th>relation</th>\n",
              "      <th>s_num</th>\n",
              "      <th>sentence</th>\n",
              "    </tr>\n",
              "  </thead>\n",
              "  <tbody>\n",
              "    <tr>\n",
              "      <th>0</th>\n",
              "      <td>EBA1415_TFBM_2_CB_ES-05548</td>\n",
              "      <td>0</td>\n",
              "      <td>1.0</td>\n",
              "      <td>No essay  //</td>\n",
              "    </tr>\n",
              "    <tr>\n",
              "      <th>1</th>\n",
              "      <td>EBA1415_TRJA_11_CB_ES-06110</td>\n",
              "      <td>0</td>\n",
              "      <td>2.0</td>\n",
              "      <td>Somethings that lead to the differences are.. ...</td>\n",
              "    </tr>\n",
              "    <tr>\n",
              "      <th>2</th>\n",
              "      <td>EBA1415_TRJA_11_CB_ES-06110</td>\n",
              "      <td>0</td>\n",
              "      <td>3.0</td>\n",
              "      <td>Some have been bleach all white it is a phenom...</td>\n",
              "    </tr>\n",
              "    <tr>\n",
              "      <th>3</th>\n",
              "      <td>EBA1415_TRJA_11_CB_ES-06110</td>\n",
              "      <td>0</td>\n",
              "      <td>4.0</td>\n",
              "      <td>Coral bleaching is most noticeable in the Paci...</td>\n",
              "    </tr>\n",
              "    <tr>\n",
              "      <th>4</th>\n",
              "      <td>EBA1415_TRJA_11_CB_ES-06110</td>\n",
              "      <td>0</td>\n",
              "      <td>5.0</td>\n",
              "      <td>That ocean covers about 1/3 of the surface of ...</td>\n",
              "    </tr>\n",
              "    <tr>\n",
              "      <th>5</th>\n",
              "      <td>EBA1415_TRJA_11_CB_ES-06110</td>\n",
              "      <td>0</td>\n",
              "      <td>6.0</td>\n",
              "      <td>The invertebrate animals live together in Colo...</td>\n",
              "    </tr>\n",
              "    <tr>\n",
              "      <th>6</th>\n",
              "      <td>EBA1415_TRJA_11_CB_ES-06110</td>\n",
              "      <td>1</td>\n",
              "      <td>7.0</td>\n",
              "      <td>The different type of algae living within the ...</td>\n",
              "    </tr>\n",
              "    <tr>\n",
              "      <th>7</th>\n",
              "      <td>EBA1415_RHSG_2_CB_ES-05081</td>\n",
              "      <td>1</td>\n",
              "      <td>8.0</td>\n",
              "      <td>There are several things that cause coral blea...</td>\n",
              "    </tr>\n",
              "    <tr>\n",
              "      <th>8</th>\n",
              "      <td>EBA1415_RHSG_2_CB_ES-05081</td>\n",
              "      <td>0</td>\n",
              "      <td>9.0</td>\n",
              "      <td>The trade winds make sea water rise.</td>\n",
              "    </tr>\n",
              "    <tr>\n",
              "      <th>9</th>\n",
              "      <td>EBA1415_RHSG_2_CB_ES-05081</td>\n",
              "      <td>1</td>\n",
              "      <td>10.0</td>\n",
              "      <td>The trade winds also change water temperature</td>\n",
              "    </tr>\n",
              "    <tr>\n",
              "      <th>10</th>\n",
              "      <td>EBA1415_RHSG_2_CB_ES-05081</td>\n",
              "      <td>0</td>\n",
              "      <td>11.0</td>\n",
              "      <td>(2) Coral is made up of small animals called p...</td>\n",
              "    </tr>\n",
              "    <tr>\n",
              "      <th>11</th>\n",
              "      <td>EBA1415_RHSG_2_CB_ES-05081</td>\n",
              "      <td>0</td>\n",
              "      <td>12.0</td>\n",
              "      <td>Coral reefs are only found in clear, shallow, ...</td>\n",
              "    </tr>\n",
              "    <tr>\n",
              "      <th>12</th>\n",
              "      <td>EBA1415_RHSG_2_CB_ES-05081</td>\n",
              "      <td>0</td>\n",
              "      <td>13.0</td>\n",
              "      <td>They live there because the algae that live in...</td>\n",
              "    </tr>\n",
              "    <tr>\n",
              "      <th>13</th>\n",
              "      <td>EBA1415_RHSG_2_CB_ES-05081</td>\n",
              "      <td>0</td>\n",
              "      <td>14.0</td>\n",
              "      <td>The algae use energy from sunlight to</td>\n",
              "    </tr>\n",
              "    <tr>\n",
              "      <th>14</th>\n",
              "      <td>EBA1415_RHSG_2_CB_ES-05081</td>\n",
              "      <td>0</td>\n",
              "      <td>15.0</td>\n",
              "      <td>Ran out of time   //</td>\n",
              "    </tr>\n",
              "    <tr>\n",
              "      <th>15</th>\n",
              "      <td>EBA1415_KYNS_4_CB_ES-05390</td>\n",
              "      <td>1</td>\n",
              "      <td>16.0</td>\n",
              "      <td>What lead to differences in the rates of coral...</td>\n",
              "    </tr>\n",
              "    <tr>\n",
              "      <th>16</th>\n",
              "      <td>EBA1415_KYNS_4_CB_ES-05390</td>\n",
              "      <td>0</td>\n",
              "      <td>17.0</td>\n",
              "      <td>Coral bleaching is when a coral loses its color.</td>\n",
              "    </tr>\n",
              "    <tr>\n",
              "      <th>17</th>\n",
              "      <td>EBA1415_KYNS_4_CB_ES-05390</td>\n",
              "      <td>0</td>\n",
              "      <td>18.0</td>\n",
              "      <td>One cause is shifting trade winds.</td>\n",
              "    </tr>\n",
              "    <tr>\n",
              "      <th>18</th>\n",
              "      <td>EBA1415_KYNS_4_CB_ES-05390</td>\n",
              "      <td>1</td>\n",
              "      <td>19.0</td>\n",
              "      <td>Trade winds travel from east to west, causing ...</td>\n",
              "    </tr>\n",
              "    <tr>\n",
              "      <th>19</th>\n",
              "      <td>EBA1415_KYNS_4_CB_ES-05390</td>\n",
              "      <td>0</td>\n",
              "      <td>20.0</td>\n",
              "      <td>Tradewinds constantly shift, causing major cha...</td>\n",
              "    </tr>\n",
              "    <tr>\n",
              "      <th>20</th>\n",
              "      <td>EBA1415_KYNS_4_CB_ES-05390</td>\n",
              "      <td>1</td>\n",
              "      <td>21.1</td>\n",
              "      <td>Weaker trade winds cause higher water temperat...</td>\n",
              "    </tr>\n",
              "    <tr>\n",
              "      <th>21</th>\n",
              "      <td>EBA1415_KYNS_4_CB_ES-05390</td>\n",
              "      <td>1</td>\n",
              "      <td>21.2</td>\n",
              "      <td>Weaker trade winds cause higher water temperat...</td>\n",
              "    </tr>\n",
              "    <tr>\n",
              "      <th>22</th>\n",
              "      <td>EBA1415_KYNS_4_CB_ES-05390</td>\n",
              "      <td>0</td>\n",
              "      <td>22.0</td>\n",
              "      <td>In order for coral to survive, it needs photos...</td>\n",
              "    </tr>\n",
              "    <tr>\n",
              "      <th>23</th>\n",
              "      <td>EBA1415_KYNS_4_CB_ES-05390</td>\n",
              "      <td>0</td>\n",
              "      <td>23.0</td>\n",
              "      <td>Algae lives in the coral tissues, called zooxa...</td>\n",
              "    </tr>\n",
              "    <tr>\n",
              "      <th>24</th>\n",
              "      <td>EBA1415_KYNS_4_CB_ES-05390</td>\n",
              "      <td>0</td>\n",
              "      <td>24.0</td>\n",
              "      <td>Coral and zooxanthellae need each other to sur...</td>\n",
              "    </tr>\n",
              "    <tr>\n",
              "      <th>25</th>\n",
              "      <td>EBA1415_KYNS_4_CB_ES-05390</td>\n",
              "      <td>1</td>\n",
              "      <td>25.0</td>\n",
              "      <td>Zooxanthellae gets energy fron the sun, combin...</td>\n",
              "    </tr>\n",
              "    <tr>\n",
              "      <th>26</th>\n",
              "      <td>EBA1415_KYNS_4_CB_ES-05390</td>\n",
              "      <td>1</td>\n",
              "      <td>26.0</td>\n",
              "      <td>During this process, carbon is passed to the c...</td>\n",
              "    </tr>\n",
              "    <tr>\n",
              "      <th>27</th>\n",
              "      <td>EBA1415_KYNS_4_CB_ES-05390</td>\n",
              "      <td>1</td>\n",
              "      <td>27.0</td>\n",
              "      <td>In order for coral to survive, it needs water ...</td>\n",
              "    </tr>\n",
              "    <tr>\n",
              "      <th>28</th>\n",
              "      <td>EBA1415_KYNS_4_CB_ES-05390</td>\n",
              "      <td>1</td>\n",
              "      <td>28.0</td>\n",
              "      <td>When water temperature increases, the amount o...</td>\n",
              "    </tr>\n",
              "    <tr>\n",
              "      <th>29</th>\n",
              "      <td>EBA1415_KYNS_4_CB_ES-05390</td>\n",
              "      <td>1</td>\n",
              "      <td>29.1</td>\n",
              "      <td>When the water temperature is constantly chang...</td>\n",
              "    </tr>\n",
              "    <tr>\n",
              "      <th>30</th>\n",
              "      <td>EBA1415_KYNS_4_CB_ES-05390</td>\n",
              "      <td>1</td>\n",
              "      <td>29.2</td>\n",
              "      <td>When the water temperature is constantly chang...</td>\n",
              "    </tr>\n",
              "    <tr>\n",
              "      <th>31</th>\n",
              "      <td>EBA1415_KYNS_4_CB_ES-05390</td>\n",
              "      <td>1</td>\n",
              "      <td>30.1</td>\n",
              "      <td>Coral bleaching happens when the coral is unhe...</td>\n",
              "    </tr>\n",
              "    <tr>\n",
              "      <th>32</th>\n",
              "      <td>EBA1415_KYNS_4_CB_ES-05390</td>\n",
              "      <td>1</td>\n",
              "      <td>30.2</td>\n",
              "      <td>Coral bleaching happens when the coral is unhe...</td>\n",
              "    </tr>\n",
              "    <tr>\n",
              "      <th>33</th>\n",
              "      <td>EBA1415_KYNS_4_CB_ES-05390</td>\n",
              "      <td>1</td>\n",
              "      <td>31.1</td>\n",
              "      <td>Trade winds affect the balance of water temper...</td>\n",
              "    </tr>\n",
              "    <tr>\n",
              "      <th>34</th>\n",
              "      <td>EBA1415_KYNS_4_CB_ES-05390</td>\n",
              "      <td>1</td>\n",
              "      <td>31.2</td>\n",
              "      <td>Trade winds affect the balance of water temper...</td>\n",
              "    </tr>\n",
              "    <tr>\n",
              "      <th>35</th>\n",
              "      <td>EBA1415_KYNS_4_CB_ES-05390</td>\n",
              "      <td>0</td>\n",
              "      <td>32.0</td>\n",
              "      <td>Without the zooxanthellae, coral will not surv...</td>\n",
              "    </tr>\n",
              "    <tr>\n",
              "      <th>36</th>\n",
              "      <td>EBA1415_KYNS_4_CB_ES-05390</td>\n",
              "      <td>0</td>\n",
              "      <td>33.0</td>\n",
              "      <td>Without the coral, the zooxanthellae will also...</td>\n",
              "    </tr>\n",
              "    <tr>\n",
              "      <th>37</th>\n",
              "      <td>EBA1415_KYNS_4_CB_ES-05390</td>\n",
              "      <td>2</td>\n",
              "      <td>34.1</td>\n",
              "      <td>When the zooxanthellae dies or is ejected, the...</td>\n",
              "    </tr>\n",
              "    <tr>\n",
              "      <th>38</th>\n",
              "      <td>EBA1415_KYNS_4_CB_ES-05390</td>\n",
              "      <td>1</td>\n",
              "      <td>34.2</td>\n",
              "      <td>When the zooxanthellae dies or is ejected, the...</td>\n",
              "    </tr>\n",
              "    <tr>\n",
              "      <th>39</th>\n",
              "      <td>EBA1415_TWPK_3_CB_ES-05049</td>\n",
              "      <td>0</td>\n",
              "      <td>35.0</td>\n",
              "      <td>The main thing that was mentioned alot was the...</td>\n",
              "    </tr>\n",
              "    <tr>\n",
              "      <th>40</th>\n",
              "      <td>EBA1415_TWPK_3_CB_ES-05049</td>\n",
              "      <td>1</td>\n",
              "      <td>36.0</td>\n",
              "      <td>The coral basically lives off of all those res...</td>\n",
              "    </tr>\n",
              "    <tr>\n",
              "      <th>41</th>\n",
              "      <td>EBA1415_TWPK_3_CB_ES-05049</td>\n",
              "      <td>0</td>\n",
              "      <td>37.0</td>\n",
              "      <td>Also the shift and changing in the wind also e...</td>\n",
              "    </tr>\n",
              "    <tr>\n",
              "      <th>42</th>\n",
              "      <td>EBA1415_TWPK_3_CB_ES-05049</td>\n",
              "      <td>1</td>\n",
              "      <td>38.0</td>\n",
              "      <td>The coral was also sensitive like if the water...</td>\n",
              "    </tr>\n",
              "    <tr>\n",
              "      <th>43</th>\n",
              "      <td>EBA1415_TWPK_3_CB_ES-05049</td>\n",
              "      <td>0</td>\n",
              "      <td>39.0</td>\n",
              "      <td>Ran out of time   //</td>\n",
              "    </tr>\n",
              "    <tr>\n",
              "      <th>44</th>\n",
              "      <td>EBA1415post_TWNB_3_CB_ES-05893</td>\n",
              "      <td>0</td>\n",
              "      <td>40.0</td>\n",
              "      <td>Coral bleaching can happen depending in the en...</td>\n",
              "    </tr>\n",
              "    <tr>\n",
              "      <th>45</th>\n",
              "      <td>EBA1415post_TWNB_3_CB_ES-05893</td>\n",
              "      <td>0</td>\n",
              "      <td>41.0</td>\n",
              "      <td>Coral bleaching is mostly found in the Pacific...</td>\n",
              "    </tr>\n",
              "    <tr>\n",
              "      <th>46</th>\n",
              "      <td>EBA1415post_TWNB_3_CB_ES-05893</td>\n",
              "      <td>0</td>\n",
              "      <td>42.0</td>\n",
              "      <td>People that noticed coral bleaching would keep...</td>\n",
              "    </tr>\n",
              "    <tr>\n",
              "      <th>47</th>\n",
              "      <td>EBA1415post_TWNB_3_CB_ES-05893</td>\n",
              "      <td>0</td>\n",
              "      <td>43.0</td>\n",
              "      <td>In 1998 coral bleaching was very wich was abou...</td>\n",
              "    </tr>\n",
              "    <tr>\n",
              "      <th>48</th>\n",
              "      <td>EBA1415post_TWNB_3_CB_ES-05893</td>\n",
              "      <td>1</td>\n",
              "      <td>44.0</td>\n",
              "      <td>Coral need photoosynthesis because without it ...</td>\n",
              "    </tr>\n",
              "    <tr>\n",
              "      <th>49</th>\n",
              "      <td>EBA1415post_TWNB_3_CB_ES-05893</td>\n",
              "      <td>0</td>\n",
              "      <td>45.0</td>\n",
              "      <td>Coral bleaching happens when the coral does no...</td>\n",
              "    </tr>\n",
              "  </tbody>\n",
              "</table>\n",
              "</div>"
            ],
            "text/plain": [
              "                             essay  ...                                           sentence\n",
              "0       EBA1415_TFBM_2_CB_ES-05548  ...                                       No essay  //\n",
              "1      EBA1415_TRJA_11_CB_ES-06110  ...  Somethings that lead to the differences are.. ...\n",
              "2      EBA1415_TRJA_11_CB_ES-06110  ...  Some have been bleach all white it is a phenom...\n",
              "3      EBA1415_TRJA_11_CB_ES-06110  ...  Coral bleaching is most noticeable in the Paci...\n",
              "4      EBA1415_TRJA_11_CB_ES-06110  ...  That ocean covers about 1/3 of the surface of ...\n",
              "5      EBA1415_TRJA_11_CB_ES-06110  ...  The invertebrate animals live together in Colo...\n",
              "6      EBA1415_TRJA_11_CB_ES-06110  ...  The different type of algae living within the ...\n",
              "7       EBA1415_RHSG_2_CB_ES-05081  ...  There are several things that cause coral blea...\n",
              "8       EBA1415_RHSG_2_CB_ES-05081  ...               The trade winds make sea water rise.\n",
              "9       EBA1415_RHSG_2_CB_ES-05081  ...      The trade winds also change water temperature\n",
              "10      EBA1415_RHSG_2_CB_ES-05081  ...  (2) Coral is made up of small animals called p...\n",
              "11      EBA1415_RHSG_2_CB_ES-05081  ...  Coral reefs are only found in clear, shallow, ...\n",
              "12      EBA1415_RHSG_2_CB_ES-05081  ...  They live there because the algae that live in...\n",
              "13      EBA1415_RHSG_2_CB_ES-05081  ...              The algae use energy from sunlight to\n",
              "14      EBA1415_RHSG_2_CB_ES-05081  ...                               Ran out of time   //\n",
              "15      EBA1415_KYNS_4_CB_ES-05390  ...  What lead to differences in the rates of coral...\n",
              "16      EBA1415_KYNS_4_CB_ES-05390  ...   Coral bleaching is when a coral loses its color.\n",
              "17      EBA1415_KYNS_4_CB_ES-05390  ...                 One cause is shifting trade winds.\n",
              "18      EBA1415_KYNS_4_CB_ES-05390  ...  Trade winds travel from east to west, causing ...\n",
              "19      EBA1415_KYNS_4_CB_ES-05390  ...  Tradewinds constantly shift, causing major cha...\n",
              "20      EBA1415_KYNS_4_CB_ES-05390  ...  Weaker trade winds cause higher water temperat...\n",
              "21      EBA1415_KYNS_4_CB_ES-05390  ...  Weaker trade winds cause higher water temperat...\n",
              "22      EBA1415_KYNS_4_CB_ES-05390  ...  In order for coral to survive, it needs photos...\n",
              "23      EBA1415_KYNS_4_CB_ES-05390  ...  Algae lives in the coral tissues, called zooxa...\n",
              "24      EBA1415_KYNS_4_CB_ES-05390  ...  Coral and zooxanthellae need each other to sur...\n",
              "25      EBA1415_KYNS_4_CB_ES-05390  ...  Zooxanthellae gets energy fron the sun, combin...\n",
              "26      EBA1415_KYNS_4_CB_ES-05390  ...  During this process, carbon is passed to the c...\n",
              "27      EBA1415_KYNS_4_CB_ES-05390  ...  In order for coral to survive, it needs water ...\n",
              "28      EBA1415_KYNS_4_CB_ES-05390  ...  When water temperature increases, the amount o...\n",
              "29      EBA1415_KYNS_4_CB_ES-05390  ...  When the water temperature is constantly chang...\n",
              "30      EBA1415_KYNS_4_CB_ES-05390  ...  When the water temperature is constantly chang...\n",
              "31      EBA1415_KYNS_4_CB_ES-05390  ...  Coral bleaching happens when the coral is unhe...\n",
              "32      EBA1415_KYNS_4_CB_ES-05390  ...  Coral bleaching happens when the coral is unhe...\n",
              "33      EBA1415_KYNS_4_CB_ES-05390  ...  Trade winds affect the balance of water temper...\n",
              "34      EBA1415_KYNS_4_CB_ES-05390  ...  Trade winds affect the balance of water temper...\n",
              "35      EBA1415_KYNS_4_CB_ES-05390  ...  Without the zooxanthellae, coral will not surv...\n",
              "36      EBA1415_KYNS_4_CB_ES-05390  ...  Without the coral, the zooxanthellae will also...\n",
              "37      EBA1415_KYNS_4_CB_ES-05390  ...  When the zooxanthellae dies or is ejected, the...\n",
              "38      EBA1415_KYNS_4_CB_ES-05390  ...  When the zooxanthellae dies or is ejected, the...\n",
              "39      EBA1415_TWPK_3_CB_ES-05049  ...  The main thing that was mentioned alot was the...\n",
              "40      EBA1415_TWPK_3_CB_ES-05049  ...  The coral basically lives off of all those res...\n",
              "41      EBA1415_TWPK_3_CB_ES-05049  ...  Also the shift and changing in the wind also e...\n",
              "42      EBA1415_TWPK_3_CB_ES-05049  ...  The coral was also sensitive like if the water...\n",
              "43      EBA1415_TWPK_3_CB_ES-05049  ...                               Ran out of time   //\n",
              "44  EBA1415post_TWNB_3_CB_ES-05893  ...  Coral bleaching can happen depending in the en...\n",
              "45  EBA1415post_TWNB_3_CB_ES-05893  ...  Coral bleaching is mostly found in the Pacific...\n",
              "46  EBA1415post_TWNB_3_CB_ES-05893  ...  People that noticed coral bleaching would keep...\n",
              "47  EBA1415post_TWNB_3_CB_ES-05893  ...  In 1998 coral bleaching was very wich was abou...\n",
              "48  EBA1415post_TWNB_3_CB_ES-05893  ...  Coral need photoosynthesis because without it ...\n",
              "49  EBA1415post_TWNB_3_CB_ES-05893  ...  Coral bleaching happens when the coral does no...\n",
              "\n",
              "[50 rows x 4 columns]"
            ]
          },
          "metadata": {
            "tags": []
          },
          "execution_count": 23
        }
      ]
    },
    {
      "cell_type": "markdown",
      "metadata": {
        "id": "ai8edFpVFl60"
      },
      "source": [
        "Identify duplicates in test set.\n"
      ]
    },
    {
      "cell_type": "code",
      "metadata": {
        "id": "swy0mf54GZmI",
        "outputId": "88867882-e2db-41f2-8434-a3326d945bb2",
        "colab": {
          "base_uri": "https://localhost:8080/",
          "height": 824
        }
      },
      "source": [
        "df_duplicate_sentences_test = df_ternary_test[df_ternary_test.s_num.astype(str).str.split('.', expand=True)[1] != '0']\n",
        "df_duplicate_sentences_test.head(25)"
      ],
      "execution_count": 24,
      "outputs": [
        {
          "output_type": "execute_result",
          "data": {
            "text/html": [
              "<div>\n",
              "<style scoped>\n",
              "    .dataframe tbody tr th:only-of-type {\n",
              "        vertical-align: middle;\n",
              "    }\n",
              "\n",
              "    .dataframe tbody tr th {\n",
              "        vertical-align: top;\n",
              "    }\n",
              "\n",
              "    .dataframe thead th {\n",
              "        text-align: right;\n",
              "    }\n",
              "</style>\n",
              "<table border=\"1\" class=\"dataframe\">\n",
              "  <thead>\n",
              "    <tr style=\"text-align: right;\">\n",
              "      <th></th>\n",
              "      <th>essay</th>\n",
              "      <th>relation</th>\n",
              "      <th>s_num</th>\n",
              "      <th>sentence</th>\n",
              "    </tr>\n",
              "  </thead>\n",
              "  <tbody>\n",
              "    <tr>\n",
              "      <th>20</th>\n",
              "      <td>EBA1415_KYNS_4_CB_ES-05390</td>\n",
              "      <td>1</td>\n",
              "      <td>21.1</td>\n",
              "      <td>Weaker trade winds cause higher water temperat...</td>\n",
              "    </tr>\n",
              "    <tr>\n",
              "      <th>21</th>\n",
              "      <td>EBA1415_KYNS_4_CB_ES-05390</td>\n",
              "      <td>1</td>\n",
              "      <td>21.2</td>\n",
              "      <td>Weaker trade winds cause higher water temperat...</td>\n",
              "    </tr>\n",
              "    <tr>\n",
              "      <th>29</th>\n",
              "      <td>EBA1415_KYNS_4_CB_ES-05390</td>\n",
              "      <td>1</td>\n",
              "      <td>29.1</td>\n",
              "      <td>When the water temperature is constantly chang...</td>\n",
              "    </tr>\n",
              "    <tr>\n",
              "      <th>30</th>\n",
              "      <td>EBA1415_KYNS_4_CB_ES-05390</td>\n",
              "      <td>1</td>\n",
              "      <td>29.2</td>\n",
              "      <td>When the water temperature is constantly chang...</td>\n",
              "    </tr>\n",
              "    <tr>\n",
              "      <th>31</th>\n",
              "      <td>EBA1415_KYNS_4_CB_ES-05390</td>\n",
              "      <td>1</td>\n",
              "      <td>30.1</td>\n",
              "      <td>Coral bleaching happens when the coral is unhe...</td>\n",
              "    </tr>\n",
              "    <tr>\n",
              "      <th>32</th>\n",
              "      <td>EBA1415_KYNS_4_CB_ES-05390</td>\n",
              "      <td>1</td>\n",
              "      <td>30.2</td>\n",
              "      <td>Coral bleaching happens when the coral is unhe...</td>\n",
              "    </tr>\n",
              "    <tr>\n",
              "      <th>33</th>\n",
              "      <td>EBA1415_KYNS_4_CB_ES-05390</td>\n",
              "      <td>1</td>\n",
              "      <td>31.1</td>\n",
              "      <td>Trade winds affect the balance of water temper...</td>\n",
              "    </tr>\n",
              "    <tr>\n",
              "      <th>34</th>\n",
              "      <td>EBA1415_KYNS_4_CB_ES-05390</td>\n",
              "      <td>1</td>\n",
              "      <td>31.2</td>\n",
              "      <td>Trade winds affect the balance of water temper...</td>\n",
              "    </tr>\n",
              "    <tr>\n",
              "      <th>37</th>\n",
              "      <td>EBA1415_KYNS_4_CB_ES-05390</td>\n",
              "      <td>2</td>\n",
              "      <td>34.1</td>\n",
              "      <td>When the zooxanthellae dies or is ejected, the...</td>\n",
              "    </tr>\n",
              "    <tr>\n",
              "      <th>38</th>\n",
              "      <td>EBA1415_KYNS_4_CB_ES-05390</td>\n",
              "      <td>1</td>\n",
              "      <td>34.2</td>\n",
              "      <td>When the zooxanthellae dies or is ejected, the...</td>\n",
              "    </tr>\n",
              "    <tr>\n",
              "      <th>66</th>\n",
              "      <td>EBA1415_TFMV_3_CB_ES-05848</td>\n",
              "      <td>1</td>\n",
              "      <td>62.1</td>\n",
              "      <td>If the coral has to much stress it turns white...</td>\n",
              "    </tr>\n",
              "    <tr>\n",
              "      <th>67</th>\n",
              "      <td>EBA1415_TFMV_3_CB_ES-05848</td>\n",
              "      <td>1</td>\n",
              "      <td>62.2</td>\n",
              "      <td>If the coral has to much stress it turns white...</td>\n",
              "    </tr>\n",
              "    <tr>\n",
              "      <th>74</th>\n",
              "      <td>EBA1415_WSKT_6_CB_ES-05341</td>\n",
              "      <td>1</td>\n",
              "      <td>69.1</td>\n",
              "      <td>Changing the water temperature changes the amo...</td>\n",
              "    </tr>\n",
              "    <tr>\n",
              "      <th>75</th>\n",
              "      <td>EBA1415_WSKT_6_CB_ES-05341</td>\n",
              "      <td>1</td>\n",
              "      <td>69.2</td>\n",
              "      <td>Changing the water temperature changes the amo...</td>\n",
              "    </tr>\n",
              "    <tr>\n",
              "      <th>114</th>\n",
              "      <td>EBA1415_ERAM_7_CB_ES-04965</td>\n",
              "      <td>1</td>\n",
              "      <td>108.1</td>\n",
              "      <td>If it has lower than normal carbon dioxide, co...</td>\n",
              "    </tr>\n",
              "    <tr>\n",
              "      <th>115</th>\n",
              "      <td>EBA1415_ERAM_7_CB_ES-04965</td>\n",
              "      <td>1</td>\n",
              "      <td>108.2</td>\n",
              "      <td>If it has lower than normal carbon dioxide, co...</td>\n",
              "    </tr>\n",
              "    <tr>\n",
              "      <th>127</th>\n",
              "      <td>EBA1415_TWJB_5_CB_ES-05070</td>\n",
              "      <td>1</td>\n",
              "      <td>120.1</td>\n",
              "      <td>When the coral gets stressed they eject their ...</td>\n",
              "    </tr>\n",
              "    <tr>\n",
              "      <th>128</th>\n",
              "      <td>EBA1415_TWJB_5_CB_ES-05070</td>\n",
              "      <td>1</td>\n",
              "      <td>120.2</td>\n",
              "      <td>When the coral gets stressed they eject their ...</td>\n",
              "    </tr>\n",
              "    <tr>\n",
              "      <th>129</th>\n",
              "      <td>EBA1415_TWJB_5_CB_ES-05070</td>\n",
              "      <td>1</td>\n",
              "      <td>121.1</td>\n",
              "      <td>Also when the trade winds go down, and the wat...</td>\n",
              "    </tr>\n",
              "    <tr>\n",
              "      <th>130</th>\n",
              "      <td>EBA1415_TWJB_5_CB_ES-05070</td>\n",
              "      <td>1</td>\n",
              "      <td>121.2</td>\n",
              "      <td>Also when the trade winds go down, and the wat...</td>\n",
              "    </tr>\n",
              "    <tr>\n",
              "      <th>131</th>\n",
              "      <td>EBA1415_TWJB_5_CB_ES-05070</td>\n",
              "      <td>1</td>\n",
              "      <td>121.3</td>\n",
              "      <td>Also when the trade winds go down, and the wat...</td>\n",
              "    </tr>\n",
              "    <tr>\n",
              "      <th>170</th>\n",
              "      <td>EBA1415_TWNB_3_CB_ES-06186</td>\n",
              "      <td>1</td>\n",
              "      <td>161.1</td>\n",
              "      <td>Coral bleaching is one example of how environm...</td>\n",
              "    </tr>\n",
              "    <tr>\n",
              "      <th>171</th>\n",
              "      <td>EBA1415_TWNB_3_CB_ES-06186</td>\n",
              "      <td>2</td>\n",
              "      <td>161.2</td>\n",
              "      <td>Coral bleaching is one example of how environm...</td>\n",
              "    </tr>\n",
              "    <tr>\n",
              "      <th>197</th>\n",
              "      <td>EBA1415_SEAL_78_CB-04805</td>\n",
              "      <td>1</td>\n",
              "      <td>187.1</td>\n",
              "      <td>In 1998, when there were higher water temperat...</td>\n",
              "    </tr>\n",
              "    <tr>\n",
              "      <th>198</th>\n",
              "      <td>EBA1415_SEAL_78_CB-04805</td>\n",
              "      <td>1</td>\n",
              "      <td>187.2</td>\n",
              "      <td>In 1998, when there were higher water temperat...</td>\n",
              "    </tr>\n",
              "  </tbody>\n",
              "</table>\n",
              "</div>"
            ],
            "text/plain": [
              "                          essay  ...                                           sentence\n",
              "20   EBA1415_KYNS_4_CB_ES-05390  ...  Weaker trade winds cause higher water temperat...\n",
              "21   EBA1415_KYNS_4_CB_ES-05390  ...  Weaker trade winds cause higher water temperat...\n",
              "29   EBA1415_KYNS_4_CB_ES-05390  ...  When the water temperature is constantly chang...\n",
              "30   EBA1415_KYNS_4_CB_ES-05390  ...  When the water temperature is constantly chang...\n",
              "31   EBA1415_KYNS_4_CB_ES-05390  ...  Coral bleaching happens when the coral is unhe...\n",
              "32   EBA1415_KYNS_4_CB_ES-05390  ...  Coral bleaching happens when the coral is unhe...\n",
              "33   EBA1415_KYNS_4_CB_ES-05390  ...  Trade winds affect the balance of water temper...\n",
              "34   EBA1415_KYNS_4_CB_ES-05390  ...  Trade winds affect the balance of water temper...\n",
              "37   EBA1415_KYNS_4_CB_ES-05390  ...  When the zooxanthellae dies or is ejected, the...\n",
              "38   EBA1415_KYNS_4_CB_ES-05390  ...  When the zooxanthellae dies or is ejected, the...\n",
              "66   EBA1415_TFMV_3_CB_ES-05848  ...  If the coral has to much stress it turns white...\n",
              "67   EBA1415_TFMV_3_CB_ES-05848  ...  If the coral has to much stress it turns white...\n",
              "74   EBA1415_WSKT_6_CB_ES-05341  ...  Changing the water temperature changes the amo...\n",
              "75   EBA1415_WSKT_6_CB_ES-05341  ...  Changing the water temperature changes the amo...\n",
              "114  EBA1415_ERAM_7_CB_ES-04965  ...  If it has lower than normal carbon dioxide, co...\n",
              "115  EBA1415_ERAM_7_CB_ES-04965  ...  If it has lower than normal carbon dioxide, co...\n",
              "127  EBA1415_TWJB_5_CB_ES-05070  ...  When the coral gets stressed they eject their ...\n",
              "128  EBA1415_TWJB_5_CB_ES-05070  ...  When the coral gets stressed they eject their ...\n",
              "129  EBA1415_TWJB_5_CB_ES-05070  ...  Also when the trade winds go down, and the wat...\n",
              "130  EBA1415_TWJB_5_CB_ES-05070  ...  Also when the trade winds go down, and the wat...\n",
              "131  EBA1415_TWJB_5_CB_ES-05070  ...  Also when the trade winds go down, and the wat...\n",
              "170  EBA1415_TWNB_3_CB_ES-06186  ...  Coral bleaching is one example of how environm...\n",
              "171  EBA1415_TWNB_3_CB_ES-06186  ...  Coral bleaching is one example of how environm...\n",
              "197    EBA1415_SEAL_78_CB-04805  ...  In 1998, when there were higher water temperat...\n",
              "198    EBA1415_SEAL_78_CB-04805  ...  In 1998, when there were higher water temperat...\n",
              "\n",
              "[25 rows x 4 columns]"
            ]
          },
          "metadata": {
            "tags": []
          },
          "execution_count": 24
        }
      ]
    },
    {
      "cell_type": "markdown",
      "metadata": {
        "id": "7hXQD5NRHFRV"
      },
      "source": [
        "Remove duplicates from test set."
      ]
    },
    {
      "cell_type": "code",
      "metadata": {
        "id": "h-gIOuDPHHQP",
        "outputId": "49d9fb09-8899-4c38-9484-66d6153ce303",
        "colab": {
          "base_uri": "https://localhost:8080/",
          "height": 929
        }
      },
      "source": [
        "current = -1\n",
        "\n",
        "same_arr_inds = []\n",
        "drop_list = []\n",
        "\n",
        "for i, row in df_duplicate_sentences_test.iterrows():\n",
        "  s_num = str(df_duplicate_sentences_test.loc[i].s_num)\n",
        "  first_num, second_num = s_num.split(\".\")\n",
        "\n",
        "  if first_num != current:\n",
        "    current = first_num\n",
        "\n",
        "    if len(same_arr_inds) > 1:\n",
        "\n",
        "      valid_flag = False\n",
        "      invalid_flag = False\n",
        "\n",
        "      for n in same_arr_inds:\n",
        "\n",
        "        if df_duplicate_sentences_test.loc[n].relation == 1:\n",
        "          valid_flag = True\n",
        "          break\n",
        "\n",
        "        if df_duplicate_sentences_test.loc[n].relation == -1:\n",
        "          invalid_flag = True \n",
        "\n",
        "      left = same_arr_inds[0]\n",
        "      right = same_arr_inds[1:]\n",
        "\n",
        "      if valid_flag == True:\n",
        "        df_duplicate_sentences_test.loc[left].relation = 1\n",
        "      elif invalid_flag == True:\n",
        "        df_duplicate_sentences_test.loc[left].relation = -1\n",
        "      else:\n",
        "        df_duplicate_sentences_test.loc[left].relation = 0\n",
        "\n",
        "      drop_list += right   \n",
        "\n",
        "    same_arr_inds = []\n",
        "  same_arr_inds.append(i)\n",
        "\n",
        "df_ternary_test.drop(drop_list, inplace=True)   \n",
        "\n",
        "df_ternary_test.head(25)"
      ],
      "execution_count": 25,
      "outputs": [
        {
          "output_type": "stream",
          "text": [
            "/usr/local/lib/python3.6/dist-packages/pandas/core/generic.py:5165: SettingWithCopyWarning: \n",
            "A value is trying to be set on a copy of a slice from a DataFrame\n",
            "\n",
            "See the caveats in the documentation: https://pandas.pydata.org/pandas-docs/stable/user_guide/indexing.html#returning-a-view-versus-a-copy\n",
            "  self[name] = value\n"
          ],
          "name": "stderr"
        },
        {
          "output_type": "execute_result",
          "data": {
            "text/html": [
              "<div>\n",
              "<style scoped>\n",
              "    .dataframe tbody tr th:only-of-type {\n",
              "        vertical-align: middle;\n",
              "    }\n",
              "\n",
              "    .dataframe tbody tr th {\n",
              "        vertical-align: top;\n",
              "    }\n",
              "\n",
              "    .dataframe thead th {\n",
              "        text-align: right;\n",
              "    }\n",
              "</style>\n",
              "<table border=\"1\" class=\"dataframe\">\n",
              "  <thead>\n",
              "    <tr style=\"text-align: right;\">\n",
              "      <th></th>\n",
              "      <th>essay</th>\n",
              "      <th>relation</th>\n",
              "      <th>s_num</th>\n",
              "      <th>sentence</th>\n",
              "    </tr>\n",
              "  </thead>\n",
              "  <tbody>\n",
              "    <tr>\n",
              "      <th>0</th>\n",
              "      <td>EBA1415_TFBM_2_CB_ES-05548</td>\n",
              "      <td>0</td>\n",
              "      <td>1.0</td>\n",
              "      <td>No essay  //</td>\n",
              "    </tr>\n",
              "    <tr>\n",
              "      <th>1</th>\n",
              "      <td>EBA1415_TRJA_11_CB_ES-06110</td>\n",
              "      <td>0</td>\n",
              "      <td>2.0</td>\n",
              "      <td>Somethings that lead to the differences are.. ...</td>\n",
              "    </tr>\n",
              "    <tr>\n",
              "      <th>2</th>\n",
              "      <td>EBA1415_TRJA_11_CB_ES-06110</td>\n",
              "      <td>0</td>\n",
              "      <td>3.0</td>\n",
              "      <td>Some have been bleach all white it is a phenom...</td>\n",
              "    </tr>\n",
              "    <tr>\n",
              "      <th>3</th>\n",
              "      <td>EBA1415_TRJA_11_CB_ES-06110</td>\n",
              "      <td>0</td>\n",
              "      <td>4.0</td>\n",
              "      <td>Coral bleaching is most noticeable in the Paci...</td>\n",
              "    </tr>\n",
              "    <tr>\n",
              "      <th>4</th>\n",
              "      <td>EBA1415_TRJA_11_CB_ES-06110</td>\n",
              "      <td>0</td>\n",
              "      <td>5.0</td>\n",
              "      <td>That ocean covers about 1/3 of the surface of ...</td>\n",
              "    </tr>\n",
              "    <tr>\n",
              "      <th>5</th>\n",
              "      <td>EBA1415_TRJA_11_CB_ES-06110</td>\n",
              "      <td>0</td>\n",
              "      <td>6.0</td>\n",
              "      <td>The invertebrate animals live together in Colo...</td>\n",
              "    </tr>\n",
              "    <tr>\n",
              "      <th>6</th>\n",
              "      <td>EBA1415_TRJA_11_CB_ES-06110</td>\n",
              "      <td>1</td>\n",
              "      <td>7.0</td>\n",
              "      <td>The different type of algae living within the ...</td>\n",
              "    </tr>\n",
              "    <tr>\n",
              "      <th>7</th>\n",
              "      <td>EBA1415_RHSG_2_CB_ES-05081</td>\n",
              "      <td>1</td>\n",
              "      <td>8.0</td>\n",
              "      <td>There are several things that cause coral blea...</td>\n",
              "    </tr>\n",
              "    <tr>\n",
              "      <th>8</th>\n",
              "      <td>EBA1415_RHSG_2_CB_ES-05081</td>\n",
              "      <td>0</td>\n",
              "      <td>9.0</td>\n",
              "      <td>The trade winds make sea water rise.</td>\n",
              "    </tr>\n",
              "    <tr>\n",
              "      <th>9</th>\n",
              "      <td>EBA1415_RHSG_2_CB_ES-05081</td>\n",
              "      <td>1</td>\n",
              "      <td>10.0</td>\n",
              "      <td>The trade winds also change water temperature</td>\n",
              "    </tr>\n",
              "    <tr>\n",
              "      <th>10</th>\n",
              "      <td>EBA1415_RHSG_2_CB_ES-05081</td>\n",
              "      <td>0</td>\n",
              "      <td>11.0</td>\n",
              "      <td>(2) Coral is made up of small animals called p...</td>\n",
              "    </tr>\n",
              "    <tr>\n",
              "      <th>11</th>\n",
              "      <td>EBA1415_RHSG_2_CB_ES-05081</td>\n",
              "      <td>0</td>\n",
              "      <td>12.0</td>\n",
              "      <td>Coral reefs are only found in clear, shallow, ...</td>\n",
              "    </tr>\n",
              "    <tr>\n",
              "      <th>12</th>\n",
              "      <td>EBA1415_RHSG_2_CB_ES-05081</td>\n",
              "      <td>0</td>\n",
              "      <td>13.0</td>\n",
              "      <td>They live there because the algae that live in...</td>\n",
              "    </tr>\n",
              "    <tr>\n",
              "      <th>13</th>\n",
              "      <td>EBA1415_RHSG_2_CB_ES-05081</td>\n",
              "      <td>0</td>\n",
              "      <td>14.0</td>\n",
              "      <td>The algae use energy from sunlight to</td>\n",
              "    </tr>\n",
              "    <tr>\n",
              "      <th>14</th>\n",
              "      <td>EBA1415_RHSG_2_CB_ES-05081</td>\n",
              "      <td>0</td>\n",
              "      <td>15.0</td>\n",
              "      <td>Ran out of time   //</td>\n",
              "    </tr>\n",
              "    <tr>\n",
              "      <th>15</th>\n",
              "      <td>EBA1415_KYNS_4_CB_ES-05390</td>\n",
              "      <td>1</td>\n",
              "      <td>16.0</td>\n",
              "      <td>What lead to differences in the rates of coral...</td>\n",
              "    </tr>\n",
              "    <tr>\n",
              "      <th>16</th>\n",
              "      <td>EBA1415_KYNS_4_CB_ES-05390</td>\n",
              "      <td>0</td>\n",
              "      <td>17.0</td>\n",
              "      <td>Coral bleaching is when a coral loses its color.</td>\n",
              "    </tr>\n",
              "    <tr>\n",
              "      <th>17</th>\n",
              "      <td>EBA1415_KYNS_4_CB_ES-05390</td>\n",
              "      <td>0</td>\n",
              "      <td>18.0</td>\n",
              "      <td>One cause is shifting trade winds.</td>\n",
              "    </tr>\n",
              "    <tr>\n",
              "      <th>18</th>\n",
              "      <td>EBA1415_KYNS_4_CB_ES-05390</td>\n",
              "      <td>1</td>\n",
              "      <td>19.0</td>\n",
              "      <td>Trade winds travel from east to west, causing ...</td>\n",
              "    </tr>\n",
              "    <tr>\n",
              "      <th>19</th>\n",
              "      <td>EBA1415_KYNS_4_CB_ES-05390</td>\n",
              "      <td>0</td>\n",
              "      <td>20.0</td>\n",
              "      <td>Tradewinds constantly shift, causing major cha...</td>\n",
              "    </tr>\n",
              "    <tr>\n",
              "      <th>20</th>\n",
              "      <td>EBA1415_KYNS_4_CB_ES-05390</td>\n",
              "      <td>1</td>\n",
              "      <td>21.1</td>\n",
              "      <td>Weaker trade winds cause higher water temperat...</td>\n",
              "    </tr>\n",
              "    <tr>\n",
              "      <th>22</th>\n",
              "      <td>EBA1415_KYNS_4_CB_ES-05390</td>\n",
              "      <td>0</td>\n",
              "      <td>22.0</td>\n",
              "      <td>In order for coral to survive, it needs photos...</td>\n",
              "    </tr>\n",
              "    <tr>\n",
              "      <th>23</th>\n",
              "      <td>EBA1415_KYNS_4_CB_ES-05390</td>\n",
              "      <td>0</td>\n",
              "      <td>23.0</td>\n",
              "      <td>Algae lives in the coral tissues, called zooxa...</td>\n",
              "    </tr>\n",
              "    <tr>\n",
              "      <th>24</th>\n",
              "      <td>EBA1415_KYNS_4_CB_ES-05390</td>\n",
              "      <td>0</td>\n",
              "      <td>24.0</td>\n",
              "      <td>Coral and zooxanthellae need each other to sur...</td>\n",
              "    </tr>\n",
              "    <tr>\n",
              "      <th>25</th>\n",
              "      <td>EBA1415_KYNS_4_CB_ES-05390</td>\n",
              "      <td>1</td>\n",
              "      <td>25.0</td>\n",
              "      <td>Zooxanthellae gets energy fron the sun, combin...</td>\n",
              "    </tr>\n",
              "  </tbody>\n",
              "</table>\n",
              "</div>"
            ],
            "text/plain": [
              "                          essay  ...                                           sentence\n",
              "0    EBA1415_TFBM_2_CB_ES-05548  ...                                       No essay  //\n",
              "1   EBA1415_TRJA_11_CB_ES-06110  ...  Somethings that lead to the differences are.. ...\n",
              "2   EBA1415_TRJA_11_CB_ES-06110  ...  Some have been bleach all white it is a phenom...\n",
              "3   EBA1415_TRJA_11_CB_ES-06110  ...  Coral bleaching is most noticeable in the Paci...\n",
              "4   EBA1415_TRJA_11_CB_ES-06110  ...  That ocean covers about 1/3 of the surface of ...\n",
              "5   EBA1415_TRJA_11_CB_ES-06110  ...  The invertebrate animals live together in Colo...\n",
              "6   EBA1415_TRJA_11_CB_ES-06110  ...  The different type of algae living within the ...\n",
              "7    EBA1415_RHSG_2_CB_ES-05081  ...  There are several things that cause coral blea...\n",
              "8    EBA1415_RHSG_2_CB_ES-05081  ...               The trade winds make sea water rise.\n",
              "9    EBA1415_RHSG_2_CB_ES-05081  ...      The trade winds also change water temperature\n",
              "10   EBA1415_RHSG_2_CB_ES-05081  ...  (2) Coral is made up of small animals called p...\n",
              "11   EBA1415_RHSG_2_CB_ES-05081  ...  Coral reefs are only found in clear, shallow, ...\n",
              "12   EBA1415_RHSG_2_CB_ES-05081  ...  They live there because the algae that live in...\n",
              "13   EBA1415_RHSG_2_CB_ES-05081  ...              The algae use energy from sunlight to\n",
              "14   EBA1415_RHSG_2_CB_ES-05081  ...                               Ran out of time   //\n",
              "15   EBA1415_KYNS_4_CB_ES-05390  ...  What lead to differences in the rates of coral...\n",
              "16   EBA1415_KYNS_4_CB_ES-05390  ...   Coral bleaching is when a coral loses its color.\n",
              "17   EBA1415_KYNS_4_CB_ES-05390  ...                 One cause is shifting trade winds.\n",
              "18   EBA1415_KYNS_4_CB_ES-05390  ...  Trade winds travel from east to west, causing ...\n",
              "19   EBA1415_KYNS_4_CB_ES-05390  ...  Tradewinds constantly shift, causing major cha...\n",
              "20   EBA1415_KYNS_4_CB_ES-05390  ...  Weaker trade winds cause higher water temperat...\n",
              "22   EBA1415_KYNS_4_CB_ES-05390  ...  In order for coral to survive, it needs photos...\n",
              "23   EBA1415_KYNS_4_CB_ES-05390  ...  Algae lives in the coral tissues, called zooxa...\n",
              "24   EBA1415_KYNS_4_CB_ES-05390  ...  Coral and zooxanthellae need each other to sur...\n",
              "25   EBA1415_KYNS_4_CB_ES-05390  ...  Zooxanthellae gets energy fron the sun, combin...\n",
              "\n",
              "[25 rows x 4 columns]"
            ]
          },
          "metadata": {
            "tags": []
          },
          "execution_count": 25
        }
      ]
    },
    {
      "cell_type": "markdown",
      "metadata": {
        "id": "CvnLfXgy4aG2"
      },
      "source": [
        "We must grab the original labels to use later for the additional classification step."
      ]
    },
    {
      "cell_type": "code",
      "metadata": {
        "id": "Ebws1VVh4gUk",
        "outputId": "945d979b-047d-46fd-c343-65b7d4c5c007",
        "colab": {
          "base_uri": "https://localhost:8080/",
          "height": 841
        }
      },
      "source": [
        "inds = df_ternary_test.index.values.tolist()\n",
        "df_multi_test = df_test.copy(deep=True)\n",
        "df_multi_test = df_multi_test[df_multi_test.index.isin(inds)]\n",
        "print(\"Test size:\",len(df_multi_test))\n",
        "df_multi_test.head(25)"
      ],
      "execution_count": 26,
      "outputs": [
        {
          "output_type": "stream",
          "text": [
            "Test size: 2079\n"
          ],
          "name": "stdout"
        },
        {
          "output_type": "execute_result",
          "data": {
            "text/html": [
              "<div>\n",
              "<style scoped>\n",
              "    .dataframe tbody tr th:only-of-type {\n",
              "        vertical-align: middle;\n",
              "    }\n",
              "\n",
              "    .dataframe tbody tr th {\n",
              "        vertical-align: top;\n",
              "    }\n",
              "\n",
              "    .dataframe thead th {\n",
              "        text-align: right;\n",
              "    }\n",
              "</style>\n",
              "<table border=\"1\" class=\"dataframe\">\n",
              "  <thead>\n",
              "    <tr style=\"text-align: right;\">\n",
              "      <th></th>\n",
              "      <th>essay</th>\n",
              "      <th>relation</th>\n",
              "      <th>s_num</th>\n",
              "      <th>sentence</th>\n",
              "    </tr>\n",
              "  </thead>\n",
              "  <tbody>\n",
              "    <tr>\n",
              "      <th>0</th>\n",
              "      <td>EBA1415_TFBM_2_CB_ES-05548</td>\n",
              "      <td>O</td>\n",
              "      <td>1.0</td>\n",
              "      <td>No essay  //</td>\n",
              "    </tr>\n",
              "    <tr>\n",
              "      <th>1</th>\n",
              "      <td>EBA1415_TRJA_11_CB_ES-06110</td>\n",
              "      <td>O</td>\n",
              "      <td>2.0</td>\n",
              "      <td>Somethings that lead to the differences are.. ...</td>\n",
              "    </tr>\n",
              "    <tr>\n",
              "      <th>2</th>\n",
              "      <td>EBA1415_TRJA_11_CB_ES-06110</td>\n",
              "      <td>O</td>\n",
              "      <td>3.0</td>\n",
              "      <td>Some have been bleach all white it is a phenom...</td>\n",
              "    </tr>\n",
              "    <tr>\n",
              "      <th>3</th>\n",
              "      <td>EBA1415_TRJA_11_CB_ES-06110</td>\n",
              "      <td>O</td>\n",
              "      <td>4.0</td>\n",
              "      <td>Coral bleaching is most noticeable in the Paci...</td>\n",
              "    </tr>\n",
              "    <tr>\n",
              "      <th>4</th>\n",
              "      <td>EBA1415_TRJA_11_CB_ES-06110</td>\n",
              "      <td>O</td>\n",
              "      <td>5.0</td>\n",
              "      <td>That ocean covers about 1/3 of the surface of ...</td>\n",
              "    </tr>\n",
              "    <tr>\n",
              "      <th>5</th>\n",
              "      <td>EBA1415_TRJA_11_CB_ES-06110</td>\n",
              "      <td>O</td>\n",
              "      <td>6.0</td>\n",
              "      <td>The invertebrate animals live together in Colo...</td>\n",
              "    </tr>\n",
              "    <tr>\n",
              "      <th>6</th>\n",
              "      <td>EBA1415_TRJA_11_CB_ES-06110</td>\n",
              "      <td>R-7-50</td>\n",
              "      <td>7.0</td>\n",
              "      <td>The different type of algae living within the ...</td>\n",
              "    </tr>\n",
              "    <tr>\n",
              "      <th>7</th>\n",
              "      <td>EBA1415_RHSG_2_CB_ES-05081</td>\n",
              "      <td>R-1-50</td>\n",
              "      <td>8.0</td>\n",
              "      <td>There are several things that cause coral blea...</td>\n",
              "    </tr>\n",
              "    <tr>\n",
              "      <th>8</th>\n",
              "      <td>EBA1415_RHSG_2_CB_ES-05081</td>\n",
              "      <td>O</td>\n",
              "      <td>9.0</td>\n",
              "      <td>The trade winds make sea water rise.</td>\n",
              "    </tr>\n",
              "    <tr>\n",
              "      <th>9</th>\n",
              "      <td>EBA1415_RHSG_2_CB_ES-05081</td>\n",
              "      <td>R-1-3</td>\n",
              "      <td>10.0</td>\n",
              "      <td>The trade winds also change water temperature</td>\n",
              "    </tr>\n",
              "    <tr>\n",
              "      <th>10</th>\n",
              "      <td>EBA1415_RHSG_2_CB_ES-05081</td>\n",
              "      <td>O</td>\n",
              "      <td>11.0</td>\n",
              "      <td>(2) Coral is made up of small animals called p...</td>\n",
              "    </tr>\n",
              "    <tr>\n",
              "      <th>11</th>\n",
              "      <td>EBA1415_RHSG_2_CB_ES-05081</td>\n",
              "      <td>O</td>\n",
              "      <td>12.0</td>\n",
              "      <td>Coral reefs are only found in clear, shallow, ...</td>\n",
              "    </tr>\n",
              "    <tr>\n",
              "      <th>12</th>\n",
              "      <td>EBA1415_RHSG_2_CB_ES-05081</td>\n",
              "      <td>O</td>\n",
              "      <td>13.0</td>\n",
              "      <td>They live there because the algae that live in...</td>\n",
              "    </tr>\n",
              "    <tr>\n",
              "      <th>13</th>\n",
              "      <td>EBA1415_RHSG_2_CB_ES-05081</td>\n",
              "      <td>O</td>\n",
              "      <td>14.0</td>\n",
              "      <td>The algae use energy from sunlight to</td>\n",
              "    </tr>\n",
              "    <tr>\n",
              "      <th>14</th>\n",
              "      <td>EBA1415_RHSG_2_CB_ES-05081</td>\n",
              "      <td>O</td>\n",
              "      <td>15.0</td>\n",
              "      <td>Ran out of time   //</td>\n",
              "    </tr>\n",
              "    <tr>\n",
              "      <th>15</th>\n",
              "      <td>EBA1415_KYNS_4_CB_ES-05390</td>\n",
              "      <td>R-1-50</td>\n",
              "      <td>16.0</td>\n",
              "      <td>What lead to differences in the rates of coral...</td>\n",
              "    </tr>\n",
              "    <tr>\n",
              "      <th>16</th>\n",
              "      <td>EBA1415_KYNS_4_CB_ES-05390</td>\n",
              "      <td>O</td>\n",
              "      <td>17.0</td>\n",
              "      <td>Coral bleaching is when a coral loses its color.</td>\n",
              "    </tr>\n",
              "    <tr>\n",
              "      <th>17</th>\n",
              "      <td>EBA1415_KYNS_4_CB_ES-05390</td>\n",
              "      <td>O</td>\n",
              "      <td>18.0</td>\n",
              "      <td>One cause is shifting trade winds.</td>\n",
              "    </tr>\n",
              "    <tr>\n",
              "      <th>18</th>\n",
              "      <td>EBA1415_KYNS_4_CB_ES-05390</td>\n",
              "      <td>R-1-2</td>\n",
              "      <td>19.0</td>\n",
              "      <td>Trade winds travel from east to west, causing ...</td>\n",
              "    </tr>\n",
              "    <tr>\n",
              "      <th>19</th>\n",
              "      <td>EBA1415_KYNS_4_CB_ES-05390</td>\n",
              "      <td>O</td>\n",
              "      <td>20.0</td>\n",
              "      <td>Tradewinds constantly shift, causing major cha...</td>\n",
              "    </tr>\n",
              "    <tr>\n",
              "      <th>20</th>\n",
              "      <td>EBA1415_KYNS_4_CB_ES-05390</td>\n",
              "      <td>R-1-3</td>\n",
              "      <td>21.1</td>\n",
              "      <td>Weaker trade winds cause higher water temperat...</td>\n",
              "    </tr>\n",
              "    <tr>\n",
              "      <th>22</th>\n",
              "      <td>EBA1415_KYNS_4_CB_ES-05390</td>\n",
              "      <td>O</td>\n",
              "      <td>22.0</td>\n",
              "      <td>In order for coral to survive, it needs photos...</td>\n",
              "    </tr>\n",
              "    <tr>\n",
              "      <th>23</th>\n",
              "      <td>EBA1415_KYNS_4_CB_ES-05390</td>\n",
              "      <td>O</td>\n",
              "      <td>23.0</td>\n",
              "      <td>Algae lives in the coral tissues, called zooxa...</td>\n",
              "    </tr>\n",
              "    <tr>\n",
              "      <th>24</th>\n",
              "      <td>EBA1415_KYNS_4_CB_ES-05390</td>\n",
              "      <td>O</td>\n",
              "      <td>24.0</td>\n",
              "      <td>Coral and zooxanthellae need each other to sur...</td>\n",
              "    </tr>\n",
              "    <tr>\n",
              "      <th>25</th>\n",
              "      <td>EBA1415_KYNS_4_CB_ES-05390</td>\n",
              "      <td>R-4-5</td>\n",
              "      <td>25.0</td>\n",
              "      <td>Zooxanthellae gets energy fron the sun, combin...</td>\n",
              "    </tr>\n",
              "  </tbody>\n",
              "</table>\n",
              "</div>"
            ],
            "text/plain": [
              "                          essay  ...                                           sentence\n",
              "0    EBA1415_TFBM_2_CB_ES-05548  ...                                       No essay  //\n",
              "1   EBA1415_TRJA_11_CB_ES-06110  ...  Somethings that lead to the differences are.. ...\n",
              "2   EBA1415_TRJA_11_CB_ES-06110  ...  Some have been bleach all white it is a phenom...\n",
              "3   EBA1415_TRJA_11_CB_ES-06110  ...  Coral bleaching is most noticeable in the Paci...\n",
              "4   EBA1415_TRJA_11_CB_ES-06110  ...  That ocean covers about 1/3 of the surface of ...\n",
              "5   EBA1415_TRJA_11_CB_ES-06110  ...  The invertebrate animals live together in Colo...\n",
              "6   EBA1415_TRJA_11_CB_ES-06110  ...  The different type of algae living within the ...\n",
              "7    EBA1415_RHSG_2_CB_ES-05081  ...  There are several things that cause coral blea...\n",
              "8    EBA1415_RHSG_2_CB_ES-05081  ...               The trade winds make sea water rise.\n",
              "9    EBA1415_RHSG_2_CB_ES-05081  ...      The trade winds also change water temperature\n",
              "10   EBA1415_RHSG_2_CB_ES-05081  ...  (2) Coral is made up of small animals called p...\n",
              "11   EBA1415_RHSG_2_CB_ES-05081  ...  Coral reefs are only found in clear, shallow, ...\n",
              "12   EBA1415_RHSG_2_CB_ES-05081  ...  They live there because the algae that live in...\n",
              "13   EBA1415_RHSG_2_CB_ES-05081  ...              The algae use energy from sunlight to\n",
              "14   EBA1415_RHSG_2_CB_ES-05081  ...                               Ran out of time   //\n",
              "15   EBA1415_KYNS_4_CB_ES-05390  ...  What lead to differences in the rates of coral...\n",
              "16   EBA1415_KYNS_4_CB_ES-05390  ...   Coral bleaching is when a coral loses its color.\n",
              "17   EBA1415_KYNS_4_CB_ES-05390  ...                 One cause is shifting trade winds.\n",
              "18   EBA1415_KYNS_4_CB_ES-05390  ...  Trade winds travel from east to west, causing ...\n",
              "19   EBA1415_KYNS_4_CB_ES-05390  ...  Tradewinds constantly shift, causing major cha...\n",
              "20   EBA1415_KYNS_4_CB_ES-05390  ...  Weaker trade winds cause higher water temperat...\n",
              "22   EBA1415_KYNS_4_CB_ES-05390  ...  In order for coral to survive, it needs photos...\n",
              "23   EBA1415_KYNS_4_CB_ES-05390  ...  Algae lives in the coral tissues, called zooxa...\n",
              "24   EBA1415_KYNS_4_CB_ES-05390  ...  Coral and zooxanthellae need each other to sur...\n",
              "25   EBA1415_KYNS_4_CB_ES-05390  ...  Zooxanthellae gets energy fron the sun, combin...\n",
              "\n",
              "[25 rows x 4 columns]"
            ]
          },
          "metadata": {
            "tags": []
          },
          "execution_count": 26
        }
      ]
    },
    {
      "cell_type": "markdown",
      "metadata": {
        "id": "e4dzTF_y7XAV"
      },
      "source": [
        "We must reset the indexes so that they match up with the indexes of the test set predictions."
      ]
    },
    {
      "cell_type": "code",
      "metadata": {
        "id": "Bb9yyHRl7b7w",
        "outputId": "058241ba-d97b-44f5-b6a9-c74c627d9399",
        "colab": {
          "base_uri": "https://localhost:8080/",
          "height": 824
        }
      },
      "source": [
        "df_multi_test = df_multi_test.reset_index(drop=True)\n",
        "df_multi_test.head(25)"
      ],
      "execution_count": 27,
      "outputs": [
        {
          "output_type": "execute_result",
          "data": {
            "text/html": [
              "<div>\n",
              "<style scoped>\n",
              "    .dataframe tbody tr th:only-of-type {\n",
              "        vertical-align: middle;\n",
              "    }\n",
              "\n",
              "    .dataframe tbody tr th {\n",
              "        vertical-align: top;\n",
              "    }\n",
              "\n",
              "    .dataframe thead th {\n",
              "        text-align: right;\n",
              "    }\n",
              "</style>\n",
              "<table border=\"1\" class=\"dataframe\">\n",
              "  <thead>\n",
              "    <tr style=\"text-align: right;\">\n",
              "      <th></th>\n",
              "      <th>essay</th>\n",
              "      <th>relation</th>\n",
              "      <th>s_num</th>\n",
              "      <th>sentence</th>\n",
              "    </tr>\n",
              "  </thead>\n",
              "  <tbody>\n",
              "    <tr>\n",
              "      <th>0</th>\n",
              "      <td>EBA1415_TFBM_2_CB_ES-05548</td>\n",
              "      <td>O</td>\n",
              "      <td>1.0</td>\n",
              "      <td>No essay  //</td>\n",
              "    </tr>\n",
              "    <tr>\n",
              "      <th>1</th>\n",
              "      <td>EBA1415_TRJA_11_CB_ES-06110</td>\n",
              "      <td>O</td>\n",
              "      <td>2.0</td>\n",
              "      <td>Somethings that lead to the differences are.. ...</td>\n",
              "    </tr>\n",
              "    <tr>\n",
              "      <th>2</th>\n",
              "      <td>EBA1415_TRJA_11_CB_ES-06110</td>\n",
              "      <td>O</td>\n",
              "      <td>3.0</td>\n",
              "      <td>Some have been bleach all white it is a phenom...</td>\n",
              "    </tr>\n",
              "    <tr>\n",
              "      <th>3</th>\n",
              "      <td>EBA1415_TRJA_11_CB_ES-06110</td>\n",
              "      <td>O</td>\n",
              "      <td>4.0</td>\n",
              "      <td>Coral bleaching is most noticeable in the Paci...</td>\n",
              "    </tr>\n",
              "    <tr>\n",
              "      <th>4</th>\n",
              "      <td>EBA1415_TRJA_11_CB_ES-06110</td>\n",
              "      <td>O</td>\n",
              "      <td>5.0</td>\n",
              "      <td>That ocean covers about 1/3 of the surface of ...</td>\n",
              "    </tr>\n",
              "    <tr>\n",
              "      <th>5</th>\n",
              "      <td>EBA1415_TRJA_11_CB_ES-06110</td>\n",
              "      <td>O</td>\n",
              "      <td>6.0</td>\n",
              "      <td>The invertebrate animals live together in Colo...</td>\n",
              "    </tr>\n",
              "    <tr>\n",
              "      <th>6</th>\n",
              "      <td>EBA1415_TRJA_11_CB_ES-06110</td>\n",
              "      <td>R-7-50</td>\n",
              "      <td>7.0</td>\n",
              "      <td>The different type of algae living within the ...</td>\n",
              "    </tr>\n",
              "    <tr>\n",
              "      <th>7</th>\n",
              "      <td>EBA1415_RHSG_2_CB_ES-05081</td>\n",
              "      <td>R-1-50</td>\n",
              "      <td>8.0</td>\n",
              "      <td>There are several things that cause coral blea...</td>\n",
              "    </tr>\n",
              "    <tr>\n",
              "      <th>8</th>\n",
              "      <td>EBA1415_RHSG_2_CB_ES-05081</td>\n",
              "      <td>O</td>\n",
              "      <td>9.0</td>\n",
              "      <td>The trade winds make sea water rise.</td>\n",
              "    </tr>\n",
              "    <tr>\n",
              "      <th>9</th>\n",
              "      <td>EBA1415_RHSG_2_CB_ES-05081</td>\n",
              "      <td>R-1-3</td>\n",
              "      <td>10.0</td>\n",
              "      <td>The trade winds also change water temperature</td>\n",
              "    </tr>\n",
              "    <tr>\n",
              "      <th>10</th>\n",
              "      <td>EBA1415_RHSG_2_CB_ES-05081</td>\n",
              "      <td>O</td>\n",
              "      <td>11.0</td>\n",
              "      <td>(2) Coral is made up of small animals called p...</td>\n",
              "    </tr>\n",
              "    <tr>\n",
              "      <th>11</th>\n",
              "      <td>EBA1415_RHSG_2_CB_ES-05081</td>\n",
              "      <td>O</td>\n",
              "      <td>12.0</td>\n",
              "      <td>Coral reefs are only found in clear, shallow, ...</td>\n",
              "    </tr>\n",
              "    <tr>\n",
              "      <th>12</th>\n",
              "      <td>EBA1415_RHSG_2_CB_ES-05081</td>\n",
              "      <td>O</td>\n",
              "      <td>13.0</td>\n",
              "      <td>They live there because the algae that live in...</td>\n",
              "    </tr>\n",
              "    <tr>\n",
              "      <th>13</th>\n",
              "      <td>EBA1415_RHSG_2_CB_ES-05081</td>\n",
              "      <td>O</td>\n",
              "      <td>14.0</td>\n",
              "      <td>The algae use energy from sunlight to</td>\n",
              "    </tr>\n",
              "    <tr>\n",
              "      <th>14</th>\n",
              "      <td>EBA1415_RHSG_2_CB_ES-05081</td>\n",
              "      <td>O</td>\n",
              "      <td>15.0</td>\n",
              "      <td>Ran out of time   //</td>\n",
              "    </tr>\n",
              "    <tr>\n",
              "      <th>15</th>\n",
              "      <td>EBA1415_KYNS_4_CB_ES-05390</td>\n",
              "      <td>R-1-50</td>\n",
              "      <td>16.0</td>\n",
              "      <td>What lead to differences in the rates of coral...</td>\n",
              "    </tr>\n",
              "    <tr>\n",
              "      <th>16</th>\n",
              "      <td>EBA1415_KYNS_4_CB_ES-05390</td>\n",
              "      <td>O</td>\n",
              "      <td>17.0</td>\n",
              "      <td>Coral bleaching is when a coral loses its color.</td>\n",
              "    </tr>\n",
              "    <tr>\n",
              "      <th>17</th>\n",
              "      <td>EBA1415_KYNS_4_CB_ES-05390</td>\n",
              "      <td>O</td>\n",
              "      <td>18.0</td>\n",
              "      <td>One cause is shifting trade winds.</td>\n",
              "    </tr>\n",
              "    <tr>\n",
              "      <th>18</th>\n",
              "      <td>EBA1415_KYNS_4_CB_ES-05390</td>\n",
              "      <td>R-1-2</td>\n",
              "      <td>19.0</td>\n",
              "      <td>Trade winds travel from east to west, causing ...</td>\n",
              "    </tr>\n",
              "    <tr>\n",
              "      <th>19</th>\n",
              "      <td>EBA1415_KYNS_4_CB_ES-05390</td>\n",
              "      <td>O</td>\n",
              "      <td>20.0</td>\n",
              "      <td>Tradewinds constantly shift, causing major cha...</td>\n",
              "    </tr>\n",
              "    <tr>\n",
              "      <th>20</th>\n",
              "      <td>EBA1415_KYNS_4_CB_ES-05390</td>\n",
              "      <td>R-1-3</td>\n",
              "      <td>21.1</td>\n",
              "      <td>Weaker trade winds cause higher water temperat...</td>\n",
              "    </tr>\n",
              "    <tr>\n",
              "      <th>21</th>\n",
              "      <td>EBA1415_KYNS_4_CB_ES-05390</td>\n",
              "      <td>O</td>\n",
              "      <td>22.0</td>\n",
              "      <td>In order for coral to survive, it needs photos...</td>\n",
              "    </tr>\n",
              "    <tr>\n",
              "      <th>22</th>\n",
              "      <td>EBA1415_KYNS_4_CB_ES-05390</td>\n",
              "      <td>O</td>\n",
              "      <td>23.0</td>\n",
              "      <td>Algae lives in the coral tissues, called zooxa...</td>\n",
              "    </tr>\n",
              "    <tr>\n",
              "      <th>23</th>\n",
              "      <td>EBA1415_KYNS_4_CB_ES-05390</td>\n",
              "      <td>O</td>\n",
              "      <td>24.0</td>\n",
              "      <td>Coral and zooxanthellae need each other to sur...</td>\n",
              "    </tr>\n",
              "    <tr>\n",
              "      <th>24</th>\n",
              "      <td>EBA1415_KYNS_4_CB_ES-05390</td>\n",
              "      <td>R-4-5</td>\n",
              "      <td>25.0</td>\n",
              "      <td>Zooxanthellae gets energy fron the sun, combin...</td>\n",
              "    </tr>\n",
              "  </tbody>\n",
              "</table>\n",
              "</div>"
            ],
            "text/plain": [
              "                          essay  ...                                           sentence\n",
              "0    EBA1415_TFBM_2_CB_ES-05548  ...                                       No essay  //\n",
              "1   EBA1415_TRJA_11_CB_ES-06110  ...  Somethings that lead to the differences are.. ...\n",
              "2   EBA1415_TRJA_11_CB_ES-06110  ...  Some have been bleach all white it is a phenom...\n",
              "3   EBA1415_TRJA_11_CB_ES-06110  ...  Coral bleaching is most noticeable in the Paci...\n",
              "4   EBA1415_TRJA_11_CB_ES-06110  ...  That ocean covers about 1/3 of the surface of ...\n",
              "5   EBA1415_TRJA_11_CB_ES-06110  ...  The invertebrate animals live together in Colo...\n",
              "6   EBA1415_TRJA_11_CB_ES-06110  ...  The different type of algae living within the ...\n",
              "7    EBA1415_RHSG_2_CB_ES-05081  ...  There are several things that cause coral blea...\n",
              "8    EBA1415_RHSG_2_CB_ES-05081  ...               The trade winds make sea water rise.\n",
              "9    EBA1415_RHSG_2_CB_ES-05081  ...      The trade winds also change water temperature\n",
              "10   EBA1415_RHSG_2_CB_ES-05081  ...  (2) Coral is made up of small animals called p...\n",
              "11   EBA1415_RHSG_2_CB_ES-05081  ...  Coral reefs are only found in clear, shallow, ...\n",
              "12   EBA1415_RHSG_2_CB_ES-05081  ...  They live there because the algae that live in...\n",
              "13   EBA1415_RHSG_2_CB_ES-05081  ...              The algae use energy from sunlight to\n",
              "14   EBA1415_RHSG_2_CB_ES-05081  ...                               Ran out of time   //\n",
              "15   EBA1415_KYNS_4_CB_ES-05390  ...  What lead to differences in the rates of coral...\n",
              "16   EBA1415_KYNS_4_CB_ES-05390  ...   Coral bleaching is when a coral loses its color.\n",
              "17   EBA1415_KYNS_4_CB_ES-05390  ...                 One cause is shifting trade winds.\n",
              "18   EBA1415_KYNS_4_CB_ES-05390  ...  Trade winds travel from east to west, causing ...\n",
              "19   EBA1415_KYNS_4_CB_ES-05390  ...  Tradewinds constantly shift, causing major cha...\n",
              "20   EBA1415_KYNS_4_CB_ES-05390  ...  Weaker trade winds cause higher water temperat...\n",
              "21   EBA1415_KYNS_4_CB_ES-05390  ...  In order for coral to survive, it needs photos...\n",
              "22   EBA1415_KYNS_4_CB_ES-05390  ...  Algae lives in the coral tissues, called zooxa...\n",
              "23   EBA1415_KYNS_4_CB_ES-05390  ...  Coral and zooxanthellae need each other to sur...\n",
              "24   EBA1415_KYNS_4_CB_ES-05390  ...  Zooxanthellae gets energy fron the sun, combin...\n",
              "\n",
              "[25 rows x 4 columns]"
            ]
          },
          "metadata": {
            "tags": []
          },
          "execution_count": 27
        }
      ]
    },
    {
      "cell_type": "markdown",
      "metadata": {
        "id": "TTjNjwI12jI1"
      },
      "source": [
        "Let's take a look at the class breakdown for the test set."
      ]
    },
    {
      "cell_type": "code",
      "metadata": {
        "id": "uPm_CVaK2hky",
        "outputId": "4c7f0bb1-c555-4e18-a4e2-792b9aa6d3fc",
        "colab": {
          "base_uri": "https://localhost:8080/",
          "height": 85
        }
      },
      "source": [
        "df_ternary_test[\"relation\"].value_counts()"
      ],
      "execution_count": 28,
      "outputs": [
        {
          "output_type": "execute_result",
          "data": {
            "text/plain": [
              "0    1474\n",
              "1     587\n",
              "2      18\n",
              "Name: relation, dtype: int64"
            ]
          },
          "metadata": {
            "tags": []
          },
          "execution_count": 28
        }
      ]
    },
    {
      "cell_type": "markdown",
      "metadata": {
        "id": "EfFfcc44HqdI"
      },
      "source": [
        "# Extract sentences and labels from test data."
      ]
    },
    {
      "cell_type": "code",
      "metadata": {
        "id": "PomTzpRjHp0r",
        "outputId": "cf434f75-feb6-4ef4-8e38-2933f955c105",
        "colab": {
          "base_uri": "https://localhost:8080/",
          "height": 34
        }
      },
      "source": [
        "sentences_test = df_ternary_test.sentence.values\n",
        "sentences_test = [\"[CLS] \" + sentence + \" [SEP]\" for sentence in sentences_test]\n",
        "\n",
        "tokenized_texts_test = [tokenizer.tokenize(sentence) for sentence in sentences_test]\n",
        "labels_test = df_ternary_test.relation.values.astype(int)\n",
        "labels_test"
      ],
      "execution_count": 29,
      "outputs": [
        {
          "output_type": "execute_result",
          "data": {
            "text/plain": [
              "array([0, 0, 0, ..., 0, 0, 0])"
            ]
          },
          "metadata": {
            "tags": []
          },
          "execution_count": 29
        }
      ]
    },
    {
      "cell_type": "markdown",
      "metadata": {
        "id": "j21brSBMIW9Y"
      },
      "source": [
        "Tokenize test set essays."
      ]
    },
    {
      "cell_type": "code",
      "metadata": {
        "id": "JtM-j9FZIYvP"
      },
      "source": [
        "input_ids_test = [tokenizer.convert_tokens_to_ids(x) for x in tokenized_texts_test]\n",
        "input_ids_test = pad_sequences(input_ids_test, maxlen=MAX_LEN, dtype=\"long\", truncating=\"post\", padding=\"post\")"
      ],
      "execution_count": 30,
      "outputs": []
    },
    {
      "cell_type": "markdown",
      "metadata": {
        "id": "0rnQgbv2IhlZ"
      },
      "source": [
        "Set test set attention masks."
      ]
    },
    {
      "cell_type": "code",
      "metadata": {
        "id": "kPV2hsUPIgKD"
      },
      "source": [
        "attention_masks_test = []\n",
        "\n",
        "for seq in input_ids_test:\n",
        "  seq_mask = [float(i>0) for i in seq]\n",
        "  attention_masks_test.append(seq_mask)"
      ],
      "execution_count": 31,
      "outputs": []
    },
    {
      "cell_type": "markdown",
      "metadata": {
        "id": "w5FwRQuDIo0V"
      },
      "source": [
        "Tensorize and load data."
      ]
    },
    {
      "cell_type": "code",
      "metadata": {
        "id": "-8DwjhE0Idt0"
      },
      "source": [
        "prediction_inputs = torch.tensor(input_ids_test)\n",
        "prediction_masks = torch.tensor(attention_masks_test)\n",
        "prediction_labels = torch.tensor(labels_test)\n",
        "\n",
        "prediction_data = TensorDataset(prediction_inputs, prediction_masks, prediction_labels)\n",
        "prediction_sampler = SequentialSampler(prediction_data)\n",
        "prediction_dataloader = DataLoader(prediction_data, sampler=prediction_sampler, batch_size=BATCH_SIZE)"
      ],
      "execution_count": 32,
      "outputs": []
    },
    {
      "cell_type": "markdown",
      "metadata": {
        "id": "OdjmvRg6JKGW"
      },
      "source": [
        "Evaluate test set."
      ]
    },
    {
      "cell_type": "code",
      "metadata": {
        "id": "HvleeCpEJOMj"
      },
      "source": [
        "model.eval()\n",
        "\n",
        "predictions_test, true_labels_test = [], []\n",
        "\n",
        "# Predict \n",
        "for batch in prediction_dataloader:\n",
        "  # Add batch to GPU\n",
        "  batch = tuple(t.to(device) for t in batch)\n",
        "  # Unpack the inputs from our dataloader\n",
        "  b_input_ids, b_input_mask, b_labels = batch\n",
        "  # Telling the model not to compute or store gradients, saving memory and speeding up prediction\n",
        "  with torch.no_grad():\n",
        "    # Forward pass, calculate logit predictions\n",
        "    logits = model(b_input_ids, token_type_ids=None, attention_mask=b_input_mask)\n",
        "\n",
        "  # Move logits and labels to CPU\n",
        "  logits_test = logits.detach().cpu().numpy()\n",
        "  label_ids_test = b_labels.to('cpu').numpy()\n",
        "  \n",
        "  # Store predictions and true labels\n",
        "  predictions_test.append(logits_test)\n",
        "  true_labels_test.append(label_ids_test)"
      ],
      "execution_count": 33,
      "outputs": []
    },
    {
      "cell_type": "markdown",
      "metadata": {
        "id": "iU7c-AihNHUD"
      },
      "source": [
        "Print confusion matrix."
      ]
    },
    {
      "cell_type": "code",
      "metadata": {
        "id": "8jOQnGHINJqG",
        "outputId": "5d208957-d76c-4c5c-f830-9bdf7b8f5d91",
        "colab": {
          "base_uri": "https://localhost:8080/",
          "height": 170
        }
      },
      "source": [
        "from sklearn.metrics import confusion_matrix\n",
        "\n",
        "flat_predictions_test = [item for sublist in predictions_test for item in sublist]\n",
        "flat_predictions_test = np.argmax(flat_predictions_test, axis=1).flatten()\n",
        "flat_true_labels_test = [item for sublist in true_labels_test for item in sublist]\n",
        "\n",
        "y_pred = flat_predictions_test\n",
        "y = flat_true_labels_test\n",
        "\n",
        "stats = confusion_matrix(y, y_pred).ravel()\n",
        "\n",
        "print(\"\\t\\t\\t      Predicted\\n\")\n",
        "print(\"\\t\\t\\tNone\\tValid\\tInvalid\")\n",
        "print(\"\\n\\t\\tNone\\t{}     {}        {}\".format(stats[0], stats[1], stats[2]))\n",
        "print(\"      Actual\")\n",
        "print(\"\\t\\tValid\\t{}      {}        {}\".format(stats[3], stats[4], stats[5]))\n",
        "print(\"\\n\\t\\tInvalid\\t {}       {}        {}\".format(stats[6], stats[7], stats[8]))"
      ],
      "execution_count": 34,
      "outputs": [
        {
          "output_type": "stream",
          "text": [
            "\t\t\t      Predicted\n",
            "\n",
            "\t\t\tNone\tValid\tInvalid\n",
            "\n",
            "\t\tNone\t1302     172        0\n",
            "      Actual\n",
            "\t\tValid\t83      504        0\n",
            "\n",
            "\t\tInvalid\t 6       12        0\n"
          ],
          "name": "stdout"
        }
      ]
    },
    {
      "cell_type": "markdown",
      "metadata": {
        "id": "t3_FXfJ78CKb"
      },
      "source": [
        "Now we must isolate the predictions. We will start with the negative class."
      ]
    },
    {
      "cell_type": "code",
      "metadata": {
        "id": "lxxkzX6c8FMi",
        "outputId": "297ab682-aca7-4efd-e425-02bb51f8e8f4",
        "colab": {
          "base_uri": "https://localhost:8080/",
          "height": 34
        }
      },
      "source": [
        "test_pred_norelation_inds = [i for i in range(len(y_pred)) if y_pred[i] == 0]\n",
        "test_pred_norelation_arr = [y_pred[i] for i in test_pred_norelation_inds]\n",
        "print(\"Predicted no relation:\",len(test_pred_norelation_inds))"
      ],
      "execution_count": 35,
      "outputs": [
        {
          "output_type": "stream",
          "text": [
            "Predicted no relation: 1391\n"
          ],
          "name": "stdout"
        }
      ]
    },
    {
      "cell_type": "markdown",
      "metadata": {
        "id": "TbeKylKY9UPy"
      },
      "source": [
        "Isolate corresponding actual labels."
      ]
    },
    {
      "cell_type": "code",
      "metadata": {
        "id": "75Za8hTD9XKo",
        "outputId": "da5c9631-976f-4b33-acef-53cc92cd8abc",
        "colab": {
          "base_uri": "https://localhost:8080/",
          "height": 34
        }
      },
      "source": [
        "test_true_norelation_inds = [i for i in range(len(y)) if y[i] == 0]\n",
        "test_true_norelation_arr = [y[i] for i in test_pred_norelation_inds]\n",
        "print(\"Actual no relation:\",len(test_true_norelation_inds))"
      ],
      "execution_count": 36,
      "outputs": [
        {
          "output_type": "stream",
          "text": [
            "Actual no relation: 1474\n"
          ],
          "name": "stdout"
        }
      ]
    },
    {
      "cell_type": "markdown",
      "metadata": {
        "id": "0_h6Cgja-Cco"
      },
      "source": [
        "Let's take a look at the stats for just the negative class."
      ]
    },
    {
      "cell_type": "code",
      "metadata": {
        "id": "CtvoRCCS9vEy",
        "outputId": "971e2585-d8ae-4bbe-df60-c271a21914f8",
        "colab": {
          "base_uri": "https://localhost:8080/",
          "height": 170
        }
      },
      "source": [
        "test_pred_norelation_all_inds = [i for i in range(len(y_pred)) if y_pred[i] == 0 or  y[i] == 0]\n",
        "test_pred_norelation_all_arr = [y_pred[i] for i in test_pred_norelation_all_inds]\n",
        "test_true_norelation_all_arr = [y[i] for i in test_pred_norelation_all_inds]\n",
        "\n",
        "neg_stats = confusion_matrix(test_true_norelation_all_arr, test_pred_norelation_all_arr).ravel()\n",
        "\n",
        "print(\"\\t\\t\\t      Predicted\\n\")\n",
        "print(\"\\t\\t\\tNone\\tValid\\tInvalid\")\n",
        "print(\"\\n\\t\\tNone\\t{}     {}        {}\".format(neg_stats[0], neg_stats[1], neg_stats[2]))\n",
        "print(\"      Actual\")\n",
        "print(\"\\t\\tValid\\t{}      {}        {}\".format(neg_stats[3], neg_stats[4], neg_stats[5]))\n",
        "print(\"\\n\\t\\tInvalid\\t {}       {}        {}\".format(neg_stats[6], neg_stats[7], neg_stats[8]))"
      ],
      "execution_count": 37,
      "outputs": [
        {
          "output_type": "stream",
          "text": [
            "\t\t\t      Predicted\n",
            "\n",
            "\t\t\tNone\tValid\tInvalid\n",
            "\n",
            "\t\tNone\t1302     172        0\n",
            "      Actual\n",
            "\t\tValid\t83      0        0\n",
            "\n",
            "\t\tInvalid\t 6       0        0\n"
          ],
          "name": "stdout"
        }
      ]
    },
    {
      "cell_type": "markdown",
      "metadata": {
        "id": "C0AjGOW5BrkD"
      },
      "source": [
        "Get precision, recall, and F1 for negative class."
      ]
    },
    {
      "cell_type": "code",
      "metadata": {
        "id": "VWpVtcFq9vBx",
        "outputId": "f3577ba9-a246-4386-87c1-992a71c789bc",
        "colab": {
          "base_uri": "https://localhost:8080/",
          "height": 102
        }
      },
      "source": [
        "neg_prec = neg_stats[0] / (neg_stats[0] + neg_stats[3] + neg_stats[6])\n",
        "neg_rec = neg_stats[0] / (neg_stats[0] + neg_stats[1] + neg_stats[2])\n",
        "neg_f1 = 2*neg_prec*neg_rec / (neg_prec + neg_rec)\n",
        "\n",
        "print(\"Negative class metrics:\\n\")\n",
        "print(\"Precision: \",neg_prec)\n",
        "print(\"Recall:    \",neg_rec)\n",
        "print(\"F1:        \",neg_f1)"
      ],
      "execution_count": 38,
      "outputs": [
        {
          "output_type": "stream",
          "text": [
            "Negative class metrics:\n",
            "\n",
            "Precision:  0.9360172537742631\n",
            "Recall:     0.8833107191316146\n",
            "F1:         0.9089005235602093\n"
          ],
          "name": "stdout"
        }
      ]
    },
    {
      "cell_type": "markdown",
      "metadata": {
        "id": "EILoHtfRMlqK"
      },
      "source": [
        "Get negative accuracy"
      ]
    },
    {
      "cell_type": "code",
      "metadata": {
        "id": "H4ySsvSYMklz",
        "outputId": "35954526-df3e-4882-c5ae-bf0aeb83ab2a",
        "colab": {
          "base_uri": "https://localhost:8080/",
          "height": 85
        }
      },
      "source": [
        "num_neg_predict = 0\n",
        "neg_correct = 0\n",
        "neg_incorrect = 0\n",
        "\n",
        "for i in range(len(y)):\n",
        "  if y_pred[i] == 0:\n",
        "    num_neg_predict += 1\n",
        "    if y[i] == 0:\n",
        "      neg_correct += 1\n",
        "    else: \n",
        "      neg_incorrect += 1\n",
        "\n",
        "print(\"Total predicted negative:\",num_neg_predict)\n",
        "print(\"Negatives predicted correctly:\", neg_correct)\n",
        "print(\"Negatives predicted incorrectly:\", neg_incorrect)\n",
        "print(\"Negative accuracy:\", neg_correct/num_neg_predict)"
      ],
      "execution_count": 39,
      "outputs": [
        {
          "output_type": "stream",
          "text": [
            "Total predicted negative: 1391\n",
            "Negatives predicted correctly: 1302\n",
            "Negatives predicted incorrectly: 89\n",
            "Negative accuracy: 0.9360172537742631\n"
          ],
          "name": "stdout"
        }
      ]
    },
    {
      "cell_type": "markdown",
      "metadata": {
        "id": "Bm5e6DuFDAPE"
      },
      "source": [
        "Now we must isolate the valid and invalid predictions so that we can run them through the multilabel classifier."
      ]
    },
    {
      "cell_type": "code",
      "metadata": {
        "id": "PF4eFNwK9u9_",
        "outputId": "03203227-8abd-4083-db65-ac450134df2d",
        "colab": {
          "base_uri": "https://localhost:8080/",
          "height": 51
        }
      },
      "source": [
        "# Get array of all instances predicted valid\n",
        "\n",
        "test_pred_valid_inds = [i for i in range(len(y_pred)) if y_pred[i] == 1]\n",
        "test_true_valid_inds = [i for i in range(len(y)) if y[i] == 1]\n",
        "print(\"Predicted valid:\",len(test_pred_valid_inds))\n",
        "print(\"Actual valid:\",len(test_true_valid_inds))"
      ],
      "execution_count": 40,
      "outputs": [
        {
          "output_type": "stream",
          "text": [
            "Predicted valid: 688\n",
            "Actual valid: 587\n"
          ],
          "name": "stdout"
        }
      ]
    },
    {
      "cell_type": "code",
      "metadata": {
        "id": "A9LRXrfCDg7d",
        "outputId": "ca9f0551-1a92-4bae-b0ef-ca32bb16169a",
        "colab": {
          "base_uri": "https://localhost:8080/",
          "height": 51
        }
      },
      "source": [
        "# Get array of all instances predicted invalid\n",
        "\n",
        "test_pred_invalid_inds = [i for i in range(len(y_pred)) if y_pred[i] == 2]\n",
        "test_true_invalid_inds = [i for i in range(len(y)) if y[i] == 2]\n",
        "print(\"Predicted invalid:\",len(test_pred_invalid_inds))\n",
        "print(\"Actual invalid:\",len(test_true_invalid_inds))"
      ],
      "execution_count": 41,
      "outputs": [
        {
          "output_type": "stream",
          "text": [
            "Predicted invalid: 0\n",
            "Actual invalid: 18\n"
          ],
          "name": "stdout"
        }
      ]
    },
    {
      "cell_type": "code",
      "metadata": {
        "id": "4aLutiX43Vji",
        "outputId": "81620d87-8fe5-44e9-e4e7-75f1692a012a",
        "colab": {
          "base_uri": "https://localhost:8080/",
          "height": 841
        }
      },
      "source": [
        "# Create dataframe of valid predictions\n",
        "\n",
        "df_multi_test_valid = df_multi_test.copy(deep=True)\n",
        "df_multi_test_valid = df_multi_test_valid[df_multi_test_valid.index.isin(test_pred_valid_inds)]\n",
        "print(\"Test size (valid predictions):\",len(df_multi_test_valid))\n",
        "df_multi_test_valid.head(25)"
      ],
      "execution_count": 42,
      "outputs": [
        {
          "output_type": "stream",
          "text": [
            "Test size (valid predictions): 688\n"
          ],
          "name": "stdout"
        },
        {
          "output_type": "execute_result",
          "data": {
            "text/html": [
              "<div>\n",
              "<style scoped>\n",
              "    .dataframe tbody tr th:only-of-type {\n",
              "        vertical-align: middle;\n",
              "    }\n",
              "\n",
              "    .dataframe tbody tr th {\n",
              "        vertical-align: top;\n",
              "    }\n",
              "\n",
              "    .dataframe thead th {\n",
              "        text-align: right;\n",
              "    }\n",
              "</style>\n",
              "<table border=\"1\" class=\"dataframe\">\n",
              "  <thead>\n",
              "    <tr style=\"text-align: right;\">\n",
              "      <th></th>\n",
              "      <th>essay</th>\n",
              "      <th>relation</th>\n",
              "      <th>s_num</th>\n",
              "      <th>sentence</th>\n",
              "    </tr>\n",
              "  </thead>\n",
              "  <tbody>\n",
              "    <tr>\n",
              "      <th>6</th>\n",
              "      <td>EBA1415_TRJA_11_CB_ES-06110</td>\n",
              "      <td>R-7-50</td>\n",
              "      <td>7.0</td>\n",
              "      <td>The different type of algae living within the ...</td>\n",
              "    </tr>\n",
              "    <tr>\n",
              "      <th>7</th>\n",
              "      <td>EBA1415_RHSG_2_CB_ES-05081</td>\n",
              "      <td>R-1-50</td>\n",
              "      <td>8.0</td>\n",
              "      <td>There are several things that cause coral blea...</td>\n",
              "    </tr>\n",
              "    <tr>\n",
              "      <th>9</th>\n",
              "      <td>EBA1415_RHSG_2_CB_ES-05081</td>\n",
              "      <td>R-1-3</td>\n",
              "      <td>10.0</td>\n",
              "      <td>The trade winds also change water temperature</td>\n",
              "    </tr>\n",
              "    <tr>\n",
              "      <th>15</th>\n",
              "      <td>EBA1415_KYNS_4_CB_ES-05390</td>\n",
              "      <td>R-1-50</td>\n",
              "      <td>16.0</td>\n",
              "      <td>What lead to differences in the rates of coral...</td>\n",
              "    </tr>\n",
              "    <tr>\n",
              "      <th>17</th>\n",
              "      <td>EBA1415_KYNS_4_CB_ES-05390</td>\n",
              "      <td>O</td>\n",
              "      <td>18.0</td>\n",
              "      <td>One cause is shifting trade winds.</td>\n",
              "    </tr>\n",
              "    <tr>\n",
              "      <th>18</th>\n",
              "      <td>EBA1415_KYNS_4_CB_ES-05390</td>\n",
              "      <td>R-1-2</td>\n",
              "      <td>19.0</td>\n",
              "      <td>Trade winds travel from east to west, causing ...</td>\n",
              "    </tr>\n",
              "    <tr>\n",
              "      <th>19</th>\n",
              "      <td>EBA1415_KYNS_4_CB_ES-05390</td>\n",
              "      <td>O</td>\n",
              "      <td>20.0</td>\n",
              "      <td>Tradewinds constantly shift, causing major cha...</td>\n",
              "    </tr>\n",
              "    <tr>\n",
              "      <th>20</th>\n",
              "      <td>EBA1415_KYNS_4_CB_ES-05390</td>\n",
              "      <td>R-1-3</td>\n",
              "      <td>21.1</td>\n",
              "      <td>Weaker trade winds cause higher water temperat...</td>\n",
              "    </tr>\n",
              "    <tr>\n",
              "      <th>27</th>\n",
              "      <td>EBA1415_KYNS_4_CB_ES-05390</td>\n",
              "      <td>R-3-4</td>\n",
              "      <td>28.0</td>\n",
              "      <td>When water temperature increases, the amount o...</td>\n",
              "    </tr>\n",
              "    <tr>\n",
              "      <th>28</th>\n",
              "      <td>EBA1415_KYNS_4_CB_ES-05390</td>\n",
              "      <td>R-3-14</td>\n",
              "      <td>29.1</td>\n",
              "      <td>When the water temperature is constantly chang...</td>\n",
              "    </tr>\n",
              "    <tr>\n",
              "      <th>29</th>\n",
              "      <td>EBA1415_KYNS_4_CB_ES-05390</td>\n",
              "      <td>R-14-50</td>\n",
              "      <td>30.1</td>\n",
              "      <td>Coral bleaching happens when the coral is unhe...</td>\n",
              "    </tr>\n",
              "    <tr>\n",
              "      <th>30</th>\n",
              "      <td>EBA1415_KYNS_4_CB_ES-05390</td>\n",
              "      <td>R-1-3</td>\n",
              "      <td>31.1</td>\n",
              "      <td>Trade winds affect the balance of water temper...</td>\n",
              "    </tr>\n",
              "    <tr>\n",
              "      <th>33</th>\n",
              "      <td>EBA1415_KYNS_4_CB_ES-05390</td>\n",
              "      <td>R-7-14</td>\n",
              "      <td>34.1</td>\n",
              "      <td>When the zooxanthellae dies or is ejected, the...</td>\n",
              "    </tr>\n",
              "    <tr>\n",
              "      <th>36</th>\n",
              "      <td>EBA1415_TWPK_3_CB_ES-05049</td>\n",
              "      <td>O</td>\n",
              "      <td>37.0</td>\n",
              "      <td>Also the shift and changing in the wind also e...</td>\n",
              "    </tr>\n",
              "    <tr>\n",
              "      <th>42</th>\n",
              "      <td>EBA1415post_TWNB_3_CB_ES-05893</td>\n",
              "      <td>O</td>\n",
              "      <td>43.0</td>\n",
              "      <td>In 1998 coral bleaching was very wich was abou...</td>\n",
              "    </tr>\n",
              "    <tr>\n",
              "      <th>44</th>\n",
              "      <td>EBA1415post_TWNB_3_CB_ES-05893</td>\n",
              "      <td>O</td>\n",
              "      <td>45.0</td>\n",
              "      <td>Coral bleaching happens when the coral does no...</td>\n",
              "    </tr>\n",
              "    <tr>\n",
              "      <th>46</th>\n",
              "      <td>EBA1415post_TWNB_3_CB_ES-05893</td>\n",
              "      <td>R-3-5</td>\n",
              "      <td>47.0</td>\n",
              "      <td>Coral need water temperatures between 70-85oF ...</td>\n",
              "    </tr>\n",
              "    <tr>\n",
              "      <th>48</th>\n",
              "      <td>EBA1415post_TWNB_3_CB_ES-05893</td>\n",
              "      <td>O</td>\n",
              "      <td>49.0</td>\n",
              "      <td>And without coral zooxanthellae will die.</td>\n",
              "    </tr>\n",
              "    <tr>\n",
              "      <th>49</th>\n",
              "      <td>EBA1415post_TWNB_3_CB_ES-05893</td>\n",
              "      <td>R-7-50</td>\n",
              "      <td>50.0</td>\n",
              "      <td>During bleaching corals turn white due to the ...</td>\n",
              "    </tr>\n",
              "    <tr>\n",
              "      <th>55</th>\n",
              "      <td>EBA1415_TFMV_3_CB_ES-05848</td>\n",
              "      <td>R-6-50</td>\n",
              "      <td>56.0</td>\n",
              "      <td>The main cause of Coral Bleaching is because o...</td>\n",
              "    </tr>\n",
              "    <tr>\n",
              "      <th>56</th>\n",
              "      <td>EBA1415_TFMV_3_CB_ES-05848</td>\n",
              "      <td>R-6-5</td>\n",
              "      <td>57.0</td>\n",
              "      <td>When corals have to much stress, it is hard to...</td>\n",
              "    </tr>\n",
              "    <tr>\n",
              "      <th>61</th>\n",
              "      <td>EBA1415_TFMV_3_CB_ES-05848</td>\n",
              "      <td>R-6-50</td>\n",
              "      <td>62.1</td>\n",
              "      <td>If the coral has to much stress it turns white...</td>\n",
              "    </tr>\n",
              "    <tr>\n",
              "      <th>68</th>\n",
              "      <td>EBA1415_WSKT_6_CB_ES-05341</td>\n",
              "      <td>R-3-4</td>\n",
              "      <td>69.1</td>\n",
              "      <td>Changing the water temperature changes the amo...</td>\n",
              "    </tr>\n",
              "    <tr>\n",
              "      <th>69</th>\n",
              "      <td>EBA1415_WSKT_6_CB_ES-05341</td>\n",
              "      <td>R-4-14</td>\n",
              "      <td>70.0</td>\n",
              "      <td>This effect threatens the delicate balance req...</td>\n",
              "    </tr>\n",
              "    <tr>\n",
              "      <th>70</th>\n",
              "      <td>EBA1415_WSKT_6_CB_ES-05341</td>\n",
              "      <td>O</td>\n",
              "      <td>71.0</td>\n",
              "      <td>Unhealthy coral can't bleach, decreasing the c...</td>\n",
              "    </tr>\n",
              "  </tbody>\n",
              "</table>\n",
              "</div>"
            ],
            "text/plain": [
              "                             essay  ...                                           sentence\n",
              "6      EBA1415_TRJA_11_CB_ES-06110  ...  The different type of algae living within the ...\n",
              "7       EBA1415_RHSG_2_CB_ES-05081  ...  There are several things that cause coral blea...\n",
              "9       EBA1415_RHSG_2_CB_ES-05081  ...      The trade winds also change water temperature\n",
              "15      EBA1415_KYNS_4_CB_ES-05390  ...  What lead to differences in the rates of coral...\n",
              "17      EBA1415_KYNS_4_CB_ES-05390  ...                 One cause is shifting trade winds.\n",
              "18      EBA1415_KYNS_4_CB_ES-05390  ...  Trade winds travel from east to west, causing ...\n",
              "19      EBA1415_KYNS_4_CB_ES-05390  ...  Tradewinds constantly shift, causing major cha...\n",
              "20      EBA1415_KYNS_4_CB_ES-05390  ...  Weaker trade winds cause higher water temperat...\n",
              "27      EBA1415_KYNS_4_CB_ES-05390  ...  When water temperature increases, the amount o...\n",
              "28      EBA1415_KYNS_4_CB_ES-05390  ...  When the water temperature is constantly chang...\n",
              "29      EBA1415_KYNS_4_CB_ES-05390  ...  Coral bleaching happens when the coral is unhe...\n",
              "30      EBA1415_KYNS_4_CB_ES-05390  ...  Trade winds affect the balance of water temper...\n",
              "33      EBA1415_KYNS_4_CB_ES-05390  ...  When the zooxanthellae dies or is ejected, the...\n",
              "36      EBA1415_TWPK_3_CB_ES-05049  ...  Also the shift and changing in the wind also e...\n",
              "42  EBA1415post_TWNB_3_CB_ES-05893  ...  In 1998 coral bleaching was very wich was abou...\n",
              "44  EBA1415post_TWNB_3_CB_ES-05893  ...  Coral bleaching happens when the coral does no...\n",
              "46  EBA1415post_TWNB_3_CB_ES-05893  ...  Coral need water temperatures between 70-85oF ...\n",
              "48  EBA1415post_TWNB_3_CB_ES-05893  ...          And without coral zooxanthellae will die.\n",
              "49  EBA1415post_TWNB_3_CB_ES-05893  ...  During bleaching corals turn white due to the ...\n",
              "55      EBA1415_TFMV_3_CB_ES-05848  ...  The main cause of Coral Bleaching is because o...\n",
              "56      EBA1415_TFMV_3_CB_ES-05848  ...  When corals have to much stress, it is hard to...\n",
              "61      EBA1415_TFMV_3_CB_ES-05848  ...  If the coral has to much stress it turns white...\n",
              "68      EBA1415_WSKT_6_CB_ES-05341  ...  Changing the water temperature changes the amo...\n",
              "69      EBA1415_WSKT_6_CB_ES-05341  ...  This effect threatens the delicate balance req...\n",
              "70      EBA1415_WSKT_6_CB_ES-05341  ...  Unhealthy coral can't bleach, decreasing the c...\n",
              "\n",
              "[25 rows x 4 columns]"
            ]
          },
          "metadata": {
            "tags": []
          },
          "execution_count": 42
        }
      ]
    },
    {
      "cell_type": "code",
      "metadata": {
        "id": "8ignFfljmc26",
        "outputId": "803ac719-6c1c-4c1d-8846-7ed89c8b07a9",
        "colab": {
          "base_uri": "https://localhost:8080/",
          "height": 204
        }
      },
      "source": [
        "# Going to edit iteratively (lazily)...will fix later.\n",
        "\n",
        "for i, row in df_multi_test_valid.iterrows():\n",
        "  r = row.relation\n",
        "\n",
        "  if r == 'O': continue\n",
        "  r_split = r.split(\"-\")\n",
        "  r = r_split[1] + \",\" + r_split[2]\n",
        "  df_multi_test_valid.at[i, \"relation\"] = r\n",
        "  \n",
        "df_multi_test_valid.head()"
      ],
      "execution_count": 43,
      "outputs": [
        {
          "output_type": "execute_result",
          "data": {
            "text/html": [
              "<div>\n",
              "<style scoped>\n",
              "    .dataframe tbody tr th:only-of-type {\n",
              "        vertical-align: middle;\n",
              "    }\n",
              "\n",
              "    .dataframe tbody tr th {\n",
              "        vertical-align: top;\n",
              "    }\n",
              "\n",
              "    .dataframe thead th {\n",
              "        text-align: right;\n",
              "    }\n",
              "</style>\n",
              "<table border=\"1\" class=\"dataframe\">\n",
              "  <thead>\n",
              "    <tr style=\"text-align: right;\">\n",
              "      <th></th>\n",
              "      <th>essay</th>\n",
              "      <th>relation</th>\n",
              "      <th>s_num</th>\n",
              "      <th>sentence</th>\n",
              "    </tr>\n",
              "  </thead>\n",
              "  <tbody>\n",
              "    <tr>\n",
              "      <th>6</th>\n",
              "      <td>EBA1415_TRJA_11_CB_ES-06110</td>\n",
              "      <td>7,50</td>\n",
              "      <td>7.0</td>\n",
              "      <td>The different type of algae living within the ...</td>\n",
              "    </tr>\n",
              "    <tr>\n",
              "      <th>7</th>\n",
              "      <td>EBA1415_RHSG_2_CB_ES-05081</td>\n",
              "      <td>1,50</td>\n",
              "      <td>8.0</td>\n",
              "      <td>There are several things that cause coral blea...</td>\n",
              "    </tr>\n",
              "    <tr>\n",
              "      <th>9</th>\n",
              "      <td>EBA1415_RHSG_2_CB_ES-05081</td>\n",
              "      <td>1,3</td>\n",
              "      <td>10.0</td>\n",
              "      <td>The trade winds also change water temperature</td>\n",
              "    </tr>\n",
              "    <tr>\n",
              "      <th>15</th>\n",
              "      <td>EBA1415_KYNS_4_CB_ES-05390</td>\n",
              "      <td>1,50</td>\n",
              "      <td>16.0</td>\n",
              "      <td>What lead to differences in the rates of coral...</td>\n",
              "    </tr>\n",
              "    <tr>\n",
              "      <th>17</th>\n",
              "      <td>EBA1415_KYNS_4_CB_ES-05390</td>\n",
              "      <td>O</td>\n",
              "      <td>18.0</td>\n",
              "      <td>One cause is shifting trade winds.</td>\n",
              "    </tr>\n",
              "  </tbody>\n",
              "</table>\n",
              "</div>"
            ],
            "text/plain": [
              "                          essay  ...                                           sentence\n",
              "6   EBA1415_TRJA_11_CB_ES-06110  ...  The different type of algae living within the ...\n",
              "7    EBA1415_RHSG_2_CB_ES-05081  ...  There are several things that cause coral blea...\n",
              "9    EBA1415_RHSG_2_CB_ES-05081  ...      The trade winds also change water temperature\n",
              "15   EBA1415_KYNS_4_CB_ES-05390  ...  What lead to differences in the rates of coral...\n",
              "17   EBA1415_KYNS_4_CB_ES-05390  ...                 One cause is shifting trade winds.\n",
              "\n",
              "[5 rows x 4 columns]"
            ]
          },
          "metadata": {
            "tags": []
          },
          "execution_count": 43
        }
      ]
    },
    {
      "cell_type": "code",
      "metadata": {
        "id": "gtYT9VxJ3Vxh",
        "outputId": "42184afa-816e-4caf-e37a-c17028e4e3f0",
        "colab": {
          "base_uri": "https://localhost:8080/",
          "height": 66
        }
      },
      "source": [
        "# Create dataframe of invalid predictions\n",
        "\n",
        "df_multi_test_invalid = df_multi_test.copy(deep=True)\n",
        "df_multi_test_invalid = df_multi_test_invalid[df_multi_test_invalid.index.isin(test_pred_invalid_inds)]\n",
        "print(\"Test size (invalid predictions):\",len(df_multi_test_invalid))\n",
        "df_multi_test_invalid.head(25)"
      ],
      "execution_count": 44,
      "outputs": [
        {
          "output_type": "stream",
          "text": [
            "Test size (invalid predictions): 0\n"
          ],
          "name": "stdout"
        },
        {
          "output_type": "execute_result",
          "data": {
            "text/html": [
              "<div>\n",
              "<style scoped>\n",
              "    .dataframe tbody tr th:only-of-type {\n",
              "        vertical-align: middle;\n",
              "    }\n",
              "\n",
              "    .dataframe tbody tr th {\n",
              "        vertical-align: top;\n",
              "    }\n",
              "\n",
              "    .dataframe thead th {\n",
              "        text-align: right;\n",
              "    }\n",
              "</style>\n",
              "<table border=\"1\" class=\"dataframe\">\n",
              "  <thead>\n",
              "    <tr style=\"text-align: right;\">\n",
              "      <th></th>\n",
              "      <th>essay</th>\n",
              "      <th>relation</th>\n",
              "      <th>s_num</th>\n",
              "      <th>sentence</th>\n",
              "    </tr>\n",
              "  </thead>\n",
              "  <tbody>\n",
              "  </tbody>\n",
              "</table>\n",
              "</div>"
            ],
            "text/plain": [
              "Empty DataFrame\n",
              "Columns: [essay, relation, s_num, sentence]\n",
              "Index: []"
            ]
          },
          "metadata": {
            "tags": []
          },
          "execution_count": 44
        }
      ]
    },
    {
      "cell_type": "code",
      "metadata": {
        "id": "b0xw5ddamuk6",
        "outputId": "c99cdc11-f6a4-4159-9fa6-3a1cc1d77633",
        "colab": {
          "base_uri": "https://localhost:8080/",
          "height": 49
        }
      },
      "source": [
        "# Going to edit iteratively (lazily)...will fix later.\n",
        "\n",
        "for i, row in df_multi_test_invalid.iterrows():\n",
        "  r = row.relation\n",
        "\n",
        "  if r == 'O': continue\n",
        "  r_split = r.split(\"-\")\n",
        "  r = r_split[1] + \",\" + r_split[2]\n",
        "  df_multi_test_invalid.at[i, \"relation\"] = r\n",
        "  \n",
        "df_multi_test_invalid.head()"
      ],
      "execution_count": 45,
      "outputs": [
        {
          "output_type": "execute_result",
          "data": {
            "text/html": [
              "<div>\n",
              "<style scoped>\n",
              "    .dataframe tbody tr th:only-of-type {\n",
              "        vertical-align: middle;\n",
              "    }\n",
              "\n",
              "    .dataframe tbody tr th {\n",
              "        vertical-align: top;\n",
              "    }\n",
              "\n",
              "    .dataframe thead th {\n",
              "        text-align: right;\n",
              "    }\n",
              "</style>\n",
              "<table border=\"1\" class=\"dataframe\">\n",
              "  <thead>\n",
              "    <tr style=\"text-align: right;\">\n",
              "      <th></th>\n",
              "      <th>essay</th>\n",
              "      <th>relation</th>\n",
              "      <th>s_num</th>\n",
              "      <th>sentence</th>\n",
              "    </tr>\n",
              "  </thead>\n",
              "  <tbody>\n",
              "  </tbody>\n",
              "</table>\n",
              "</div>"
            ],
            "text/plain": [
              "Empty DataFrame\n",
              "Columns: [essay, relation, s_num, sentence]\n",
              "Index: []"
            ]
          },
          "metadata": {
            "tags": []
          },
          "execution_count": 45
        }
      ]
    },
    {
      "cell_type": "markdown",
      "metadata": {
        "id": "vwrKQ35WB8SX"
      },
      "source": [
        "Now we will fine-tune a BERT model just for the valid relations."
      ]
    },
    {
      "cell_type": "code",
      "metadata": {
        "id": "Gk61RXMdB7_6",
        "outputId": "66711cb7-9d45-4eff-c79c-ddef8becd538",
        "colab": {
          "base_uri": "https://localhost:8080/",
          "height": 204
        }
      },
      "source": [
        "# First must edit relations \n",
        "\n",
        "df_valid = df.copy(deep=True)\n",
        "\n",
        "# Going to edit iteratively (lazily)...will fix later.\n",
        "\n",
        "for i, row in df_valid.iterrows():\n",
        "  r = row.relation\n",
        "\n",
        "  if r == 'O': continue\n",
        "  r_split = r.split(\"-\")\n",
        "  r = r_split[1] + \",\" + r_split[2]\n",
        "  df_valid.at[i, \"relation\"] = r\n",
        "  \n",
        "df_valid.head()"
      ],
      "execution_count": 46,
      "outputs": [
        {
          "output_type": "execute_result",
          "data": {
            "text/html": [
              "<div>\n",
              "<style scoped>\n",
              "    .dataframe tbody tr th:only-of-type {\n",
              "        vertical-align: middle;\n",
              "    }\n",
              "\n",
              "    .dataframe tbody tr th {\n",
              "        vertical-align: top;\n",
              "    }\n",
              "\n",
              "    .dataframe thead th {\n",
              "        text-align: right;\n",
              "    }\n",
              "</style>\n",
              "<table border=\"1\" class=\"dataframe\">\n",
              "  <thead>\n",
              "    <tr style=\"text-align: right;\">\n",
              "      <th></th>\n",
              "      <th>essay</th>\n",
              "      <th>relation</th>\n",
              "      <th>s_num</th>\n",
              "      <th>sentence</th>\n",
              "    </tr>\n",
              "  </thead>\n",
              "  <tbody>\n",
              "    <tr>\n",
              "      <th>0</th>\n",
              "      <td>EBA1415_KNKC_1_CB_ES-05410</td>\n",
              "      <td>O</td>\n",
              "      <td>1.0</td>\n",
              "      <td>Coral and zooxanthellae depend an each other i...</td>\n",
              "    </tr>\n",
              "    <tr>\n",
              "      <th>1</th>\n",
              "      <td>EBA1415_KNKC_1_CB_ES-05410</td>\n",
              "      <td>7,50</td>\n",
              "      <td>2.0</td>\n",
              "      <td>If the coral dies, or gets bleached, then the ...</td>\n",
              "    </tr>\n",
              "    <tr>\n",
              "      <th>2</th>\n",
              "      <td>EBA1415_KNKC_1_CB_ES-05410</td>\n",
              "      <td>O</td>\n",
              "      <td>3.0</td>\n",
              "      <td>Or the other way around.</td>\n",
              "    </tr>\n",
              "    <tr>\n",
              "      <th>3</th>\n",
              "      <td>EBA1415_KNKC_1_CB_ES-05410</td>\n",
              "      <td>O</td>\n",
              "      <td>4.0</td>\n",
              "      <td>In the text Shifting Trade Winds, it talks abo...</td>\n",
              "    </tr>\n",
              "    <tr>\n",
              "      <th>4</th>\n",
              "      <td>EBA1415_KNKC_1_CB_ES-05410</td>\n",
              "      <td>3,1</td>\n",
              "      <td>5.0</td>\n",
              "      <td>And another source states how when the water t...</td>\n",
              "    </tr>\n",
              "  </tbody>\n",
              "</table>\n",
              "</div>"
            ],
            "text/plain": [
              "                        essay  ...                                           sentence\n",
              "0  EBA1415_KNKC_1_CB_ES-05410  ...  Coral and zooxanthellae depend an each other i...\n",
              "1  EBA1415_KNKC_1_CB_ES-05410  ...  If the coral dies, or gets bleached, then the ...\n",
              "2  EBA1415_KNKC_1_CB_ES-05410  ...                           Or the other way around.\n",
              "3  EBA1415_KNKC_1_CB_ES-05410  ...  In the text Shifting Trade Winds, it talks abo...\n",
              "4  EBA1415_KNKC_1_CB_ES-05410  ...  And another source states how when the water t...\n",
              "\n",
              "[5 rows x 4 columns]"
            ]
          },
          "metadata": {
            "tags": []
          },
          "execution_count": 46
        }
      ]
    },
    {
      "cell_type": "code",
      "metadata": {
        "id": "OHQC9EcTB78r",
        "outputId": "1d05d78c-b2ba-4bec-e90e-b29bbd9158f2",
        "colab": {
          "base_uri": "https://localhost:8080/",
          "height": 204
        }
      },
      "source": [
        "# Now isolate the valid ones\n",
        "\n",
        "df_valid = df_valid[df_valid['relation'].isin(relations)]\n",
        "df_valid.head()"
      ],
      "execution_count": 47,
      "outputs": [
        {
          "output_type": "execute_result",
          "data": {
            "text/html": [
              "<div>\n",
              "<style scoped>\n",
              "    .dataframe tbody tr th:only-of-type {\n",
              "        vertical-align: middle;\n",
              "    }\n",
              "\n",
              "    .dataframe tbody tr th {\n",
              "        vertical-align: top;\n",
              "    }\n",
              "\n",
              "    .dataframe thead th {\n",
              "        text-align: right;\n",
              "    }\n",
              "</style>\n",
              "<table border=\"1\" class=\"dataframe\">\n",
              "  <thead>\n",
              "    <tr style=\"text-align: right;\">\n",
              "      <th></th>\n",
              "      <th>essay</th>\n",
              "      <th>relation</th>\n",
              "      <th>s_num</th>\n",
              "      <th>sentence</th>\n",
              "    </tr>\n",
              "  </thead>\n",
              "  <tbody>\n",
              "    <tr>\n",
              "      <th>1</th>\n",
              "      <td>EBA1415_KNKC_1_CB_ES-05410</td>\n",
              "      <td>7,50</td>\n",
              "      <td>2.0</td>\n",
              "      <td>If the coral dies, or gets bleached, then the ...</td>\n",
              "    </tr>\n",
              "    <tr>\n",
              "      <th>8</th>\n",
              "      <td>EBA1415_KNKC_1_CB_ES-05410</td>\n",
              "      <td>5B,50</td>\n",
              "      <td>9.1</td>\n",
              "      <td>Which can affect the coral because if the zoox...</td>\n",
              "    </tr>\n",
              "    <tr>\n",
              "      <th>10</th>\n",
              "      <td>EBA1415_KNKC_1_CB_ES-05410</td>\n",
              "      <td>1,50</td>\n",
              "      <td>10.0</td>\n",
              "      <td>So shifitng trade is what leads to the differe...</td>\n",
              "    </tr>\n",
              "    <tr>\n",
              "      <th>19</th>\n",
              "      <td>EBA1415post_WSKT_1_CB_ES-05486</td>\n",
              "      <td>3,50</td>\n",
              "      <td>19.0</td>\n",
              "      <td>Coral bleaching can be led to by the rise of w...</td>\n",
              "    </tr>\n",
              "    <tr>\n",
              "      <th>22</th>\n",
              "      <td>EBA1415post_WSKT_1_CB_ES-05486</td>\n",
              "      <td>3,4</td>\n",
              "      <td>22.0</td>\n",
              "      <td>When this occurs, it makes it harder for coral...</td>\n",
              "    </tr>\n",
              "  </tbody>\n",
              "</table>\n",
              "</div>"
            ],
            "text/plain": [
              "                             essay  ...                                           sentence\n",
              "1       EBA1415_KNKC_1_CB_ES-05410  ...  If the coral dies, or gets bleached, then the ...\n",
              "8       EBA1415_KNKC_1_CB_ES-05410  ...  Which can affect the coral because if the zoox...\n",
              "10      EBA1415_KNKC_1_CB_ES-05410  ...  So shifitng trade is what leads to the differe...\n",
              "19  EBA1415post_WSKT_1_CB_ES-05486  ...  Coral bleaching can be led to by the rise of w...\n",
              "22  EBA1415post_WSKT_1_CB_ES-05486  ...  When this occurs, it makes it harder for coral...\n",
              "\n",
              "[5 rows x 4 columns]"
            ]
          },
          "metadata": {
            "tags": []
          },
          "execution_count": 47
        }
      ]
    },
    {
      "cell_type": "code",
      "metadata": {
        "id": "_7M4xhtpVTGR"
      },
      "source": [
        "# Create sentence and label lists\n",
        "sentences = df_valid.sentence.values\n",
        "\n",
        "# Add special tokens at the beginning and end of each sentence to comply with BERT\n",
        "sentences = [\"[CLS] \" + sentence + \" [SEP]\" for sentence in sentences]\n",
        "labels = df_valid.relation.values"
      ],
      "execution_count": 48,
      "outputs": []
    },
    {
      "cell_type": "code",
      "metadata": {
        "id": "bFBVb9SnV2lC",
        "outputId": "46334a1f-62a0-4a90-d337-8fae52ae2f59",
        "colab": {
          "base_uri": "https://localhost:8080/",
          "height": 54
        }
      },
      "source": [
        "# Now that our [CLS] and [SEP] tokens are in place, we are ready for tokenization\n",
        "tokenizer = BertTokenizer.from_pretrained('bert-base-uncased', do_lower_case=True)\n",
        "tokenized_texts = [tokenizer.tokenize(sent) for sent in sentences]\n",
        "print (\"First sentence tokenized: \",tokenized_texts[0])"
      ],
      "execution_count": 49,
      "outputs": [
        {
          "output_type": "stream",
          "text": [
            "First sentence tokenized:  ['[CLS]', 'if', 'the', 'coral', 'dies', ',', 'or', 'gets', 'b', '##lea', '##ched', ',', 'then', 'the', 'zoo', '##xa', '##nt', '##hell', '##ae', 'dies', '.', '[SEP]']\n"
          ],
          "name": "stdout"
        }
      ]
    },
    {
      "cell_type": "code",
      "metadata": {
        "id": "g6oMfrkJV2id",
        "outputId": "5aba8c2b-5c7a-42bb-89e7-6e8666bf367e",
        "colab": {
          "base_uri": "https://localhost:8080/",
          "height": 34
        }
      },
      "source": [
        "'''\n",
        "For each tokenized input sentence, we need to create:\n",
        "\n",
        "1. input ids:\n",
        "    a sequence of integers identifying each input token to its index number \n",
        "    in the BERT tokenizer vocabulary\n",
        "\n",
        "2. segment mask: (optional) a sequence of 1s and 0s used to identify whether the input is one \n",
        "    sentence or two sentences long. For one sentence inputs, this is simply a sequence of 0s. \n",
        "    For two sentence inputs, there is a 0 for each token of the first sentence, followed by a \n",
        "    1 for each token of the second sentence\n",
        "\n",
        "3. attention mask: (optional) \n",
        "    a sequence of 1s and 0s, with 1s for all input tokens and 0s for all padding tokens \n",
        "\n",
        "4. labels: based on the labels from the data set\n",
        "'''\n",
        "\n",
        "# For now, we will simply delete the tokenized_texts greater than MAX_LEN.\n",
        "\n",
        "# We need to strip out the sentences greater than MAX_LEN tokens\n",
        "original_length = len(tokenized_texts)\n",
        "\n",
        "labels = [labels[i] for i in range(len(tokenized_texts)) if len(tokenized_texts[i]) <= MAX_LEN]\n",
        "tokenized_texts = [tokenized_texts[i] for i in range(len(tokenized_texts)) if len(tokenized_texts[i]) <= MAX_LEN]\n",
        "print(\"Removed {0} sentences greater than {1}\".format(original_length - len(tokenized_texts),MAX_LEN))"
      ],
      "execution_count": 50,
      "outputs": [
        {
          "output_type": "stream",
          "text": [
            "Removed 3 sentences greater than 128\n"
          ],
          "name": "stdout"
        }
      ]
    },
    {
      "cell_type": "code",
      "metadata": {
        "id": "Qfkf30I7V2fo"
      },
      "source": [
        "# Use the BERT tokenizer to convert the tokens to their index numbers in the BERT vocabulary\n",
        "input_ids = [tokenizer.convert_tokens_to_ids(x) for x in tokenized_texts]"
      ],
      "execution_count": 51,
      "outputs": []
    },
    {
      "cell_type": "code",
      "metadata": {
        "id": "M1QC94d1V2cn"
      },
      "source": [
        "# Pad our input tokens\n",
        "input_ids = pad_sequences(input_ids, maxlen=MAX_LEN, dtype=\"long\", truncating=\"post\", padding=\"post\")"
      ],
      "execution_count": 52,
      "outputs": []
    },
    {
      "cell_type": "code",
      "metadata": {
        "id": "a4kn-_K5V2Zf"
      },
      "source": [
        "# Create attention masks\n",
        "attention_masks = []\n",
        "\n",
        "# Create a mask of 1s for each token followed by 0s for padding\n",
        "for seq in input_ids:\n",
        "  seq_mask = [float(i>0) for i in seq]\n",
        "  attention_masks.append(seq_mask)"
      ],
      "execution_count": 53,
      "outputs": []
    },
    {
      "cell_type": "code",
      "metadata": {
        "id": "Q-XO_erkWOWL",
        "outputId": "0830f2db-5394-4299-85c8-776d8cb67a12",
        "colab": {
          "base_uri": "https://localhost:8080/",
          "height": 71
        }
      },
      "source": [
        "# Now map each label to its corresponding integer\n",
        "print(\"Old labels: \",str(labels))\n",
        "labels = [relations.index(l) for l in labels]\n",
        "print(\"New labels: \",str(labels))"
      ],
      "execution_count": 54,
      "outputs": [
        {
          "output_type": "stream",
          "text": [
            "Old labels:  ['7,50', '5B,50', '1,50', '3,50', '3,4', '4,5', '5,5B', '5,5B', '4,50', '2,3', '3,50', '3,50', '13,50', '3,7', '3,50', '1,50', '1,3', '3,50', '3,50', '1,3', '13,50', '11,50', '11,12', '12,14', '1,50', '3,50', '3,50', '6,7', '6,7', '7,50', '1,2', '2,50', '3,5', '3,4', '4,14', '7,50', '6,7', '6,7', '7,50', '6,7', '7,50', '6,7', '7,50', '7,50', '7,50', '7,50', '7,50', '7,50', '6,50', '6,7', '6,7', '1,50', '5,50', '7,50', '1,3', '1,3', '3,50', '7,50', '1,7', '5B,50', '5B,50', '1,50', '1,3', '1,2', '3,5', '11,13', '14,50', '7,50', '1,2', '1,2', '6,7', '3,50', '1,50', '4,14', '4,14', '7,50', '1,2', '2,3', '3,50', '11,13', '12,50', '13,50', '6,7', '1,50', '1,2', '7,50', '7,50', '1,3', '5,5B', '6,7', '7,50', '5B,50', '11,12', '12,13', '13,14', '13,14', '3,50', '4,50', '3,5', '5,5B', '4,5', '6,7', '7,50', '3,50', '4,50', '7,50', '5,7', '3,7', '1,7', '1,3', '3,50', '1,3', '2,3', '11,50', '11,12', '12,13', '13,14', '14,50', '14,50', '1,3', '1,2', '1,2', '3,5', '3,4', '4,5', '5,7', '7,50', '7,50', '1,3', '3,50', '3,50', '1,50', '2,3', '11,50', '11,12', '12,13', '13,14', '13,14', '7,50', '3,50', '7,50', '6,7', '6,7', '1,50', '7,50', '1,3', '1,2', '1,50', '3,50', '5,7', '4,5B', '1,3', '11,13', '7,50', '7,50', '6,50', '7,50', '1,50', '1,50', '14,50', '1,50', '14,50', '3,50', '4,50', '3,50', '3,50', '1,50', '1,50', '3,50', '1,50', '3,50', '5B,50', '12,13', '12,50', '1,50', '3,50', '7,50', '7,50', '1,3', '1,3', '3,4', '4,5', '11,13', '13,14', '7,50', '1,50', '7,50', '5,50', '1,50', '7,50', '7,50', '3,5', '4,14', '6,50', '1,50', '3,50', '6,50', '6,7', '6,7', '3,50', '1,50', '11,13', '11,12', '12,13', '7,50', '3,4', '11,14', '13,14', '11,13', '6,7', '7,50', '6,7', '7,50', '4,5', '3,5', '3,4', '4,14', '11,13', '11,12', '12,13', '7,50', '3,50', '1,50', '11,50', '11,13', '13,50', '4,50', '13,50', '4,50', '11,50', '7,50', '6,7', '1,50', '3,50', '1,50', '1,4', '1,3', '4,7', '13,7', '7,50', '1,50', '1,50', '1,3', '3,50', '13,14', '14,50', '11,13', '7,50', '14,50', '7,50', '6,7', '13,50', '3,50', '3,50', '13,50', '13,14', '14,50', '3,50', '7,50', '7,50', '7,50', '14,6', '14,6', '3,50', '14,50', '11,13', '3,4', '4,14', '13,50', '11,50', '11,50', '3,5', '11,50', '11,12', '13,14', '13,50', '7,50', '3,5', '3,5', '7,50', '1,50', '1,3', '1,50', '1,3', '3,50', '3,5', '3,4', '7,50', '3,5', '1,2', '2,3', '6,7', '7,50', '1,50', '3,50', '2,3', '1,3', '3,4', '4,14', '11,14', '11,14', '11,12', '11,12', '12,13', '13,14', '3,4', '4,5B', '11,12', '12,13', '13,14', '4,50', '7,50', '5,50', '1,50', '3,50', '1,50', '1,2', '1,3', '3,5', '4,5B', '3,4', '5B,50', '1,50', '3,50', '7,50', '7,50', '7,50', '6,7', '6,7', '13,7', '1,3', '1,3', '3,50', '4,5B', '12,13', '11,12', '12,13', '11,13', '13,6', '6,7', '4,5', '1,3', '3,50', '3,50', '2,3', '4,5', '4,50', '3,5', '4,14', '11,12', '12,13', '13,14', '7,50', '1,50', '1,2', '1,2', '3,5', '3,4', '4,14', '14,50', '14,50', '3,7', '3,50', '1,50', '1,3', '7,50', '1,50', '1,3', '1,3', '4,50', '4,7', '7,50', '1,50', '1,3', '7,50', '1,50', '1,50', '3,50', '3,5', '3,50', '7,50', '3,5', '11,13', '1,2', '11,13', '6,50', '7,50', '1,50', '1,3', '3,50', '1,50', '5,50', '12,13', '13,14', '1,50', '11,13', '7,50', '1,3', '7,50', '1,50', '1,3', '7,50', '7,50', '7,50', '5B,7', '7,50', '7,50', '1,50', '1,50', '3,50', '3,50', '7,50', '6,7', '2,50', '2,50', '1,2', '3,4', '4,5', '6,7', '7,50', '1,3', '3,50', '3,7', '3,50', '3,7', '1,50', '7,50', '5,5B', '3,4', '4,5', '11,13', '11,13', '5,5B', '3,5', '3,5', '1,50', '3,50', '3,5', '7,50', '1,3', '3,50', '7,50', '3,50', '7,50', '3,5', '4,5', '4,50', '4,50', '11,12', '12,13', '13,14', '14,50', '7,50', '7,50', '3,50', '1,50', '1,50', '5,50', '1,50', '13,50', '4,50', '13,50', '4,50', '6,50', '7,50', '7,50', '4,14', '11,14', '5,5B', '3,50', '3,50', '3,50', '3,4', '4,14', '14,50', '1,50', '13,50', '3,50', '3,5', '3,4', '4,14', '11,50', '6,50', '6,50', '1,50', '1,3', '1,50', '3,50', '3,50', '11,50', '4,50', '3,5', '4,5', '4,5B', '4,50', '3,5', '7,50', '6,7', '6,50', '7,50', '7,50', '12,13', '11,12', '13,50', '3,50', '13,50', '7,50', '1,50', '1,3', '1,50', '3,50', '3,4', '4,14', '14,50', '5,50', '7,50', '1,50', '3,5', '1,3', '3,5B', '5B,50', '5,5B', '3,50', '1,50', '3,6', '1,3', '1,3', '1,3', '3,50', '5,5B', '3,50', '3,50', '1,50', '1,50', '1,50', '7,50', '7,50', '7,50', '1,50', '1,3', '3,4', '4,50', '4,5', '1,50', '2,3', '3,4', '4,5', '4,50', '5,50', '7,50', '4,5', '4,5', '5,5B', '5,5B', '1,50', '1,50', '3,50', '1,50', '5,5B', '5B,7', '5,5B', '5B,7', '7,50', '7,50', '14,50', '7,50', '6,7', '7,50', '5,50', '7,50', '6,7', '6,7', '7,50', '11,12', '12,50', '12,50', '5B,50', '3,50', '1,50', '1,50', '1,2', '1,2', '6,7', '7,50', '7,50', '1,50', '7,50', '1,50', '6,7', '7,50', '6,7', '6,7', '7,50', '4,5B', '3,5', '11,13', '13,50', '13,50', '1,2', '2,3', '1,3', '7,50', '1,50', '1,50', '3,4', '4,7', '7,50', '7,50', '7,50', '7,50', '3,50', '3,4', '1,3', '1,3', '3,50', '2,3', '1,3', '3,50', '11,50', '6,50', '1,3', '4,14', '3,4', '4,5', '1,3', '3,6', '6,50', '1,50', '3,50', '3,4', '4,14', '11,13', '13,14', '6,7', '5B,50', '5B,50', '1,50', '13,50', '7,50', '1,50', '3,4', '11,12', '12,13', '12,13', '13,14', '13,14', '7,50', '7,50', '7,50', '5B,7', '7,50', '3,50', '1,50', '6,7', '3,50', '3,50', '1,3', '3,50', '3,50', '6,50', '6,7', '6,50', '6,50', '3,5', '14,50', '7,50', '5,50', '1,3', '5,50', '4,50', '4,14', '6,7', '3,6', '6,7', '1,3', '1,5', '3,5', '3,4', '4,14', '4,7', '7,50', '1,3', '3,50', '7,50', '11,13', '11,12', '12,13', '7,50', '14,50', '7,50', '3,50', '1,50', '6,7', '6,50', '6,7', '6,50', '3,50', '5B,50', '1,50', '3,5', '1,3', '2,50', '7,50', '14,50', '11,13', '3,4', '4,14', '3,50', '1,50', '1,50', '1,3', '1,3', '3,50', '4,50', '1,4', '1,50', '3,50', '1,50', '3,50', '1,50', '5,50', '3,5', '4,14', '11,14', '11,14', '11,13', '12,14', '14,50', '3,50', '1,50', '3,7', '7,50', '3,5', '3,50', '3,50', '3,5', '13,50', '3,50', '1,50', '7,50', '11,12', '12,50', '7,50', '11,13', '11,12', '12,14', '12,13', '12,14', '12,13', '1,50', '1,3', '3,4', '4,14', '7,50', '7,50', '3,5', '5,50', '13,14', '7,50', '3,5', '7,50', '7,50', '13,50', '7,50', '1,50', '7,50', '3,50', '3,6', '3,6', '6,7', '3,50', '1,50', '3,50', '1,50', '2,3', '7,50', '3,50', '1,50', '3,50', '1,50', '1,50', '1,50', '3,50', '3,4', '1,4', '11,13', '13,14', '7,50', '4,50', '11,14', '7,50', '6,7', '1,3', '11,50', '3,5', '11,50', '3,5', '1,3', '3,4', '11,13', '13,14', '4,50', '6,50', '4,5', '4,50', '6,7', '6,7', '7,50', '1,50', '3,50', '5,5B', '1,50', '1,2', '7,50', '7,50', '11,13', '11,13', '3,5', '4,14', '4,14', '4,50', '1,50', '5,5B', '7,50', '1,50', '1,2', '2,3', '2,3', '3,50', '5,5B', '3,4', '4,5', '3,4', '11,13', '11,12', '12,13', '13,14', '13,50', '1,50', '1,3', '11,13', '12,50', '12,7', '4,7', '7,50', '13,50', '1,50', '6,50', '13,14', '6,7', '6,7', '7,50', '1,3', '1,3', '1,3', '3,50', '7,50', '4,5', '1,50', '5,50', '1,50', '1,2', '1,3', '7,50', '3,50', '7,50', '3,50', '1,50', '3,4', '4,14', '1,50', '3,50', '5,5B', '4,5', '11,13', '11,12', '14,50', '1,50', '13,50', '13,50', '7,50', '7,50', '1,3', '1,3', '5,50', '11,13', '12,13', '7,50', '3,50', '1,50', '6,50', '1,50', '4,14', '13,14', '1,50', '3,50', '1,50', '3,50', '1,2', '1,50', '13,14', '11,13', '6,7', '7,50', '7,50', '6,50', '13,50', '13,14', '1,3', '13,50', '1,50', '1,3', '1,50', '1,3', '1,3', '1,3', '3,50', '3,50', '1,50', '4,14', '3,4', '4,50', '3,5', '4,50', '4,14', '7,50', '4,5', '3,5', '1,2', '1,2', '3,50', '1,50', '3,50', '1,50', '13,50', '5,50', '11,12', '12,13', '13,14', '13,14', '4,5', '7,50', '7,50', '7,50', '6,7', '7,50', '3,6', '11,12', '3,50', '3,50', '3,4', '4,5', '3,5', '3,4', '4,14', '3,50', '11,50', '4,50', '4,5', '4,5B', '1,2', '4,5', '1,50', '1,3', '1,3', '1,3', '3,50', '1,50', '1,3', '7,50', '1,50', '1,50', '1,50', '1,3', '7,50', '7,50', '1,50', '3,4', '4,5', '1,2', '4,14', '1,50', '3,50', '3,5', '3,4', '4,6', '4,6', '6,7', '6,7', '7,50', '7,50', '7,50', '6,7', '1,3', '3,50', '1,50', '3,50', '4,14', '3,50', '1,50', '1,50', '4,5', '3,5', '2,50', '3,50', '1,2', '7,50', '4,50', '11,12', '12,13', '13,14', '3,50', '3,7', '3,50', '4,50', '3,4', '11,13', '12,13', '1,2', '2,3', '1,3', '1,50', '3,50', '1,50', '3,5', '1,50', '7,50', '1,2', '2,3', '1,3', '3,50', '7,50', '5,5B', '6,7', '1,3', '7,50', '7,50', '6,7', '7,50', '6,7', '7,50', '1,50', '1,3', '3,4', '4,7', '1,50', '11,50', '13,50', '3,50', '1,50', '13,50', '3,50', '14,50', '7,50', '1,50', '7,50', '11,50', '3,50', '1,3', '3,4', '4,50', '4,14', '4,14', '11,13', '13,14', '6,7', '14,50', '1,50', '1,3', '1,3', '1,2', '3,5', '3,4', '4,14', '14,50', '11,12', '12,13', '13,14', '3,50', '3,50', '4,50', '6,7', '7,50', '7,50', '3,50', '1,50', '3,50', '1,50', '1,2', '1,50', '3,50', '3,50', '1,50', '3,50', '1,50', '7,50', '5,50', '1,50', '5,50', '4,50', '1,2', '3,50', '7,50', '6,7', '1,2', '11,13', '13,7', '1,50', '13,50', '11,13', '11,12', '12,13', '13,14', '1,50', '13,50', '11,13', '3,50', '3,50', '1,50', '3,50', '1,3', '1,2', '2,3', '2,3', '3,4', '4,50', '3,4', '3,4', '4,50', '3,50', '3,4', '1,3', '3,50', '1,50', '3,50', '3,50', '3,4', '4,14', '14,50', '14,50', '3,50', '1,50', '7,50', '3,4', '7,50', '7,50', '1,50', '3,50', '3,50', '1,50', '7,50', '7,50', '1,50', '1,3', '1,50', '3,50', '3,50', '1,50', '1,50', '1,50', '1,3', '6,7', '7,50', '1,50', '1,3', '3,5', '1,50', '5,50', '1,50', '3,4', '4,50', '13,50', '13,50', '1,50', '3,50', '1,50', '11,50', '3,50', '3,50', '7,50', '3,7', '3,7', '1,50', '3,50', '6,50', '6,7', '1,2', '1,3', '3,50', '3,50', '11,13', '13,14', '14,7', '3,50', '3,4', '4,5', '1,50', '1,3', '3,50', '11,13', '11,50', '1,50', '1,50', '3,50', '3,4', '4,14', '11,12', '12,13', '13,14', '7,50', '1,50', '4,50', '4,50', '3,5', '6,50', '7,50', '11,13', '3,50', '3,50', '7,50', '6,7', '6,50', '7,50', '1,3', '3,50', '3,50', '7,50', '3,50', '11,12', '12,13', '13,50', '13,50', '1,50', '1,50', '13,50', '7,50', '3,5', '3,4', '7,50', '1,2', '1,3', '1,3', '3,50', '13,14', '3,50', '4,5', '3,5', '1,50', '1,3', '3,7', '7,50', '3,50', '7,50', '3,5', '1,2', '1,3', '3,6', '6,7', '7,50', '14,50', '7,50', '7,50', '14,50', '7,50', '7,50', '7,50', '3,50', '1,3', '1,3', '7,50', '13,50', '11,13', '6,50', '6,7', '3,4', '1,3', '4,50', '12,13', '13,50', '13,50', '13,50', '3,50', '1,50', '7,50', '1,50', '1,3', '7,50', '7,50', '1,50', '1,3', '5,50', '3,50', '11,50', '11,13', '13,50', '6,50', '11,50', '14,50', '7,50', '7,50', '5,50', '6,7', '6,50', '6,7', '13,50', '3,50', '11,14', '1,50', '5,50', '11,12', '12,13', '13,14', '6,7', '7,50', '3,5', '3,5', '11,13', '7,50', '3,4', '4,14', '13,14', '13,14', '3,4', '4,14', '7,50', '1,2', '1,3', '1,50', '3,4', '1,4', '3,50', '1,3', '6,7', '7,50', '3,7', '5B,50', '3,50', '3,50', '3,5', '1,50', '3,50', '13,50', '5B,50', '12,50', '11,6', '11,12', '1,3', '6,50', '6,50', '7,50', '7,50', '14,6', '6,50', '7,50', '3,50', '1,50', '4,50', '1,3', '1,3', '3,50', '3,4', '4,14', '11,14', '11,13', '12,13', '11,12', '11,12', '12,13', '7,50', '3,50', '6,50', '3,50', '3,50', '1,50', '3,4', '4,50', '4,50', '11,12', '12,14', '14,50', '12,14', '14,50', '5,50', '3,4', '4,50', '1,2', '1,50', '1,50', '13,50', '13,50', '1,50', '5,5B', '5,5B', '7,50', '6,7', '7,50', '7,50', '1,50', '7,50', '13,50', '4,50', '3,50', '11,50', '11,13', '12,13', '13,14', '3,4', '4,14', '11,13', '13,14', '13,14', '7,50', '11,13', '1,50', '1,3', '1,3', '1,50', '3,5', '6,7', '7,50', '3,5', '3,5', '3,5', '13,50', '13,14', '1,3', '7,50', '1,3', '3,50', '11,12', '13,50', '7,50', '1,3', '5,50', '6,7', '7,50', '5B,50', '1,3', '7,50', '1,50', '1,3', '3,4', '4,5', '3,5', '7,50', '3,50', '5B,50', '1,3', '5,5B', '1,3', '3,5', '3,5', '5,6', '6,7', '2,3', '6,7', '3,5', '11,12', '12,13', '13,14', '4,50', '3,4', '13,50', '13,14', '11,12', '13,14', '14,50', '14,50', '5,5B', '7,50', '3,50', '1,50', '3,50', '1,50', '1,50', '1,50', '7,50', '3,5', '4,14', '11,12', '12,13', '13,50', '13,50', '4,5', '3,4', '4,14', '7,50', '7,50', '6,7', '7,50', '1,50', '3,50', '5,7', '7,50', '7,50', '3,5', '3,14', '14,50', '7,50', '1,50', '7,50', '3,50', '3,50', '7,50', '1,2', '1,3', '3,50', '1,50', '3,50', '2,3', '2,3', '1,50', '3,50', '1,50', '1,50', '3,6', '6,7', '3,6', '7,50', '1,50', '1,50', '3,50', '1,50', '1,3', '4,50', '1,50', '1,50', '1,50', '3,50', '7,50', '5,50', '11,50', '11,13', '12,13', '1,3', '11,50', '13,50', '4,50', '3,50', '1,50', '1,50', '1,50', '3,50', '1,50', '3,50', '1,3', '7,50', '1,3', '3,50', '7,50', '7,50', '1,50', '3,50', '1,3', '1,3', '3,50', '4,5', '7,50', '1,50', '13,14', '4,50', '6,50', '1,3', '3,5', '1,3', '1,3', '3,5', '3,50', '1,3', '7,50', '7,50', '7,50', '11,50', '1,50', '1,50', '3,50', '5,50', '1,50', '2,3', '3,50', '3,14', '3,50', '3,14', '1,2', '1,50', '3,50', '4,50', '5B,50', '11,50', '11,13', '13,14', '1,2', '2,3', '2,3', '1,50', '1,4', '4,7', '4,7', '7,50', '1,50', '3,50', '14,50', '7,50', '7,50', '5,5B', '7,50', '6,7', '7,50', '3,50', '1,50', '3,50', '1,50', '7,50', '1,50', '1,4', '3,4', '4,5', '12,13', '6,7', '1,3', '1,3', '3,5', '5,50', '11,50', '3,50', '1,3', '1,3', '11,14', '3,50', '11,50', '5,50', '3,50', '3,50', '3,50', '1,50', '4,5', '5,5B', '4,5', '3,4', '4,14', '11,14', '11,12', '12,13', '13,14', '13,14', '3,5', '3,4', '7,50', '3,5', '3,50', '3,50', '3,50', '1,3', '1,3', '1,2', '1,3', '4,50', '6,50', '7,50', '6,50', '7,50', '6,7', '3,50', '5,50', '3,50', '5,50', '1,50', '3,50', '6,7', '7,50', '1,50', '11,50', '11,12', '12,13', '13,14', '13,14', '1,5', '5,50', '5,50', '4,50', '1,50', '7,50', '5,50', '1,2', '4,5', '11,13', '11,12', '12,13', '13,50', '3,4', '4,14', '4,14', '14,50', '14,50', '1,50', '1,50', '1,3', '3,50', '3,7', '7,50', '7,50', '1,3', '3,4', '5,7', '5,7', '7,50', '7,50', '3,6', '13,6', '3,7', '13,7', '7,50', '7,50', '1,3', '1,3', '6,50', '3,4', '4,6', '6,7', '7,50', '1,3', '3,4', '4,14', '7,50', '6,7', '3,50', '1,50', '2,3', '11,13', '11,12', '12,13', '13,14', '1,50', '1,3', '3,4', '7,50', '4,50', '3,50', '1,50', '1,3', '3,50', '4,50', '3,50', '4,50', '7,50', '3,4', '4,50', '11,13', '13,50', '13,50', '7,50', '7,50', '7,50', '14,50', '14,50', '3,50', '1,5', '1,2', '4,5', '3,50', '11,50', '13,50', '3,5', '11,13', '11,13', '6,50', '3,50', '3,5', '4,14', '13,50', '14,50', '13,14', '6,50', '6,7', '3,50', '1,3', '3,50', '3,5', '5,7', '7,50', '3,50', '6,50', '3,50', '1,50', '1,6', '1,6', '6,50', '3,50', '3,6', '1,50', '1,50', '7,50', '2,3', '7,50', '6,50', '6,50', '6,7', '3,5', '3,50', '1,50', '4,50', '4,14', '11,12', '12,13', '13,14', '14,50', '7,50', '3,50', '1,50', '1,2', '1,2', '1,3', '1,3', '3,50', '3,50', '3,4', '1,3', '3,6', '3,6', '6,7', '7,50', '14,50', '7,50', '1,2', '2,3', '7,50', '7,50', '7,50', '5,50', '11,50', '1,50', '1,50', '11,50', '5B,7', '7,50', '13,50', '1,50', '3,50', '3,50', '1,3', '4,5', '6,7', '7,50', '1,2', '1,3', '7,50', '6,7', '1,50', '13,50', '7,50', '7,50', '3,4', '4,14', '13,14', '14,50', '14,50', '6,50', '3,50', '1,50', '3,50', '1,50', '3,50', '1,50', '7,50', '3,7', '1,3', '3,50', '1,50', '1,50', '4,50', '3,50', '2,3', '3,50', '4,50', '4,5', '13,50', '11,13', '11,12', '12,13', '13,14', '3,5', '3,50', '4,50', '1,50', '3,50', '1,2', '3,5', '2,3', '3,7', '1,3', '1,50', '3,50', '3,5', '4,50', '3,5', '14,50', '13,50', '7,50', '11,50', '13,50', '7,50', '11,50', '6,7', '6,7', '4,50', '3,50', '7,50', '5B,14', '1,50', '1,6', '1,6', '1,3', '1,50', '1,2', '1,3', '2,4', '2,7', '2,7', '2,4', '1,50', '1,50', '1,3', '3,50', '7,50', '3,50', '11,50', '1,50', '1,50', '1,3', '11,14', '11,14', '13,14', '6,50', '1,50', '11,50', '1,50', '1,3', '7,50', '5B,50', '3,50', '3,50', '7,50', '1,3', '3,50', '3,5', '3,4', '4,14', '4,5', '7,50', '13,14', '11,14', '3,14', '4,14', '6,7', '3,50', '1,50', '1,50', '3,50', '4,14', '11,50', '11,12', '12,14', '1,50', '3,50', '6,50', '3,50', '3,50', '2,6', '3,50', '1,50', '5,7', '1,50', '3,4', '5,5B', '11,12', '12,13', '6,50', '7,50', '7,50', '3,4', '7,50', '1,50', '5,50', '1,50', '2,3', '4,5', '5,5B', '7,50', '5,7', '1,3', '3,4', '4,14', '4,14', '1,3', '3,50', '3,50', '3,50', '3,5', '11,13', '11,12', '12,13', '13,14', '13,14', '4,50', '1,50', '2,3', '3,50', '3,50', '3,4', '11,13', '11,12', '12,13', '13,50', '1,50', '1,2', '3,50', '6,7', '7,50', '7,50', '3,4', '4,14', '4,14', '11,13', '11,12', '6,50', '7,50', '7,50', '1,50', '3,50', '1,3', '3,50', '1,50', '3,50', '3,50', '6,50', '6,50', '6,7', '1,50', '3,50', '3,50', '3,50', '3,50', '3,4', '4,5', '7,50', '3,4', '7,50', '3,7', '1,3', '1,3', '3,4', '3,4', '4,5', '5,7', '5,7', '7,50', '3,50', '1,50', '1,50', '3,7', '4,7', '11,12', '6,7', '7,50', '7,50', '11,13', '1,50', '1,50', '1,50', '1,50', '12,14', '6,7', '7,50', '1,50', '3,50', '1,50', '2,3', '1,50', '1,50', '1,3', '1,3', '3,4', '3,14', '4,14', '11,13', '4,50', '7,50', '1,50', '3,50', '14,50', '14,50', '4,5B', '13,50', '11,13', '11,12', '12,13', '12,13', '13,14', '3,50', '1,50', '3,50', '7,50', '6,7', '7,50', '7,50', '1,50', '1,3', '3,50', '11,50', '11,12', '11,13', '11,12', '1,3', '1,50', '3,50', '3,4', '6,7', '7,50', '1,2', '2,3', '3,4', '4,5', '3,5', '14,50', '11,50', '11,12', '12,13', '1,50', '13,50', '3,50', '4,50', '13,50', '11,13', '13,14', '3,5', '3,4', '4,14', '11,13', '13,50', '14,50', '1,50', '1,2', '11,50', '4,50', '3,50', '3,50', '4,50', '1,50', '6,7', '1,2', '1,2', '3,50', '3,6', '5,5B', '12,13', '11,13', '13,14', '7,50', '3,50', '3,7', '7,50', '6,7', '7,50', '5,5B', '7,50', '6,50', '4,14', '11,14', '1,50', '1,50', '1,50', '1,3', '3,50', '7,50', '7,50', '1,50', '1,3', '1,2', '5,50', '6,7', '7,50', '5,5B', '1,2', '3,4', '4,50', '4,50', '13,14', '3,50', '1,50', '7,50', '3,50', '3,5', '5,7', '6,7', '2,3', '3,50', '1,3', '3,50', '7,50', '7,50', '5,7', '7,50', '3,7', '3,5', '7,50', '14,50', '6,7', '11,12', '12,13', '13,14', '13,14', '11,50', '11,50', '11,13', '7,50', '4,14', '3,50', '3,50', '3,50', '5B,7', '1,50', '1,2', '6,50', '6,7', '7,50', '7,50', '13,50', '1,50', '7,50', '3,50', '1,2', '1,2', '3,4', '4,14', '4,14', '11,12', '12,13', '13,14', '13,14', '7,50', '14,50', '7,50', '1,3', '1,50', '13,50', '1,50', '13,50', '4,50', '5,50', '1,3', '6,7', '7,50', '3,5', '4,14', '11,14', '11,14', '5B,50', '3,50', '1,50', '2,3', '1,50', '3,5', '3,5', '4,14', '5B,50', '5B,50', '1,2', '2,3', '5,5B', '4,5', '4,50', '3,5', '1,50', '4,14', '3,4', '7,50', '6,50', '6,50', '7,50', '13,14', '7,50', '1,50', '3,50', '7,50', '1,2', '5,5B', '13,50', '3,50', '1,50', '1,50', '6,7', '7,50', '7,50', '2,50', '1,50', '3,4', '4,5', '3,50', '7,50', '1,3', '3,4', '4,14', '7,50', '5,5B', '5B,14', '11,13', '13,14', '14,50', '14,50', '4,50', '11,14', '13,14', '7,50', '1,50', '1,50', '3,50', '13,50', '11,12', '12,13', '13,50', '3,50', '5,5B', '7,50', '5B,50', '7,50', '1,2', '13,14', '13,50', '3,4', '4,14', '4,14', '6,50', '6,7', '3,50', '3,50', '1,50', '1,50', '1,50', '1,3', '3,50', '11,50', '11,13', '13,14', '6,7', '7,50', '7,50', '4,5', '6,50', '6,7', '7,50', '6,50', '7,50', '4,50', '1,50', '13,50', '3,50', '1,3', '1,3', '3,5', '13,50', '11,12', '12,13', '13,50', '13,50', '1,50', '3,50', '7,50', '3,5', '11,13', '11,12', '12,13', '1,50', '3,50', '1,3', '1,3', '3,50', '1,50', '13,50', '12,13', '1,3', '1,3', '3,4', '4,14', '11,50', '7,50', '7,50', '1,50', '3,50', '5,50', '7,50', '1,50', '3,50', '5,50', '11,50', '11,50', '13,50', '12,13', '6,7', '7,50', '13,50', '7,50', '11,50', '1,50', '1,3', '1,3', '3,4', '6,7', '1,50', '11,50', '11,13', '11,12', '12,13', '13,14', '14,50', '4,50', '4,5', '4,5', '4,50', '1,50', '1,2', '14,50', '1,50', '1,50', '3,50', '1,50', '3,50', '1,50', '1,3', '3,5', '5,5B', '5,5B', '5B,50', '5,50', '3,5', '14,50', '7,50', '7,50', '7,50', '1,50', '1,50', '1,2', '3,5', '1,3', '3,50', '1,6', '6,7', '7,50', '13,50', '11,13', '11,12', '12,13', '6,7', '7,50', '4,50', '4,5', '3,14', '4,14', '4,50', '7,50', '6,7', '1,50', '4,14', '6,7', '7,50', '4,50', '1,50', '7,50', '6,50', '6,50', '7,50', '1,3', '3,50', '1,3', '3,50', '3,6', '6,7', '6,50', '6,7', '6,7', '6,50', '5,50', '11,12', '11,12', '7,50', '14,50', '6,50', '7,50', '1,3', '1,50', '1,50', '3,5', '1,3', '3,14', '7,50', '1,2', '1,2', '2,3', '1,3', '3,5', '1,3', '14,50', '7,50', '6,7', '3,7', '1,3', '7,50', '1,50', '1,2', '3,5', '5,5B', '1,50', '3,50', '4,50', '7,50', '1,2', '2,3', '1,50', '11,50', '1,3', '11,50', '11,13', '12,13', '11,50', '1,50', '7,50', '1,50', '1,3', '1,3', '1,3', '3,50', '1,2', '1,50', '1,50', '1,3', '3,4', '4,14', '3,50', '11,13', '4,5', '4,5', '4,14', '5B,50', '1,2', '1,3', '1,50', '3,50', '1,2', '3,50', '3,50', '7,50', '1,50', '1,50', '1,3', '1,50', '3,50', '13,50', '1,3', '3,5', '11,13', '2,50', '3,50', '1,50', '3,4', '13,14', '3,50', '3,5', '1,2', '1,3', '4,50', '4,5B', '6,50', '6,50', '7,50', '1,50', '1,2', '1,3', '1,50', '3,4', '6,50', '6,50', '4,5', '4,5', '1,2', '1,2', '1,50', '1,50', '1,3', '1,3', '3,50', '7,50', '11,14', '7,50', '7,50', '13,14', '11,13', '12,13', '5B,50', '5B,50', '4,5B', '5B,7', '7,50', '1,4', '1,3', '3,4', '1,3', '11,12', '11,13', '12,50', '13,50', '12,50', '13,50', '1,50', '3,50', '1,2', '1,3', '11,50', '1,50', '3,50', '1,3', '3,50', '1,2', '1,50', '5,50', '1,50', '1,2', '1,2', '1,50', '1,3', '3,7', '3,7', '3,4', '3,5B', '14,50', '1,7', '7,50', '11,50', '1,50', '7,50', '7,50', '6,7', '7,50', '4,5', '1,50', '1,2', '1,50', '3,4', '5,5B', '1,2', '1,4', '1,4', '4,14', '14,50', '4,14', '14,7', '7,50', '7,50', '14,50', '7,50', '7,50', '1,3', '1,50', '13,50', '1,2', '13,50', '1,50', '4,50', '13,50', '1,3', '3,4', '4,14', '11,13', '3,50', '1,3', '3,50', '1,50', '11,12', '12,13', '13,14', '13,14', '5B,14', '5B,14', '5B,50', '5B,50', '6,7', '7,50', '7,50', '3,5', '11,12', '12,14', '12,13', '12,13', '12,14', '7,50', '3,5', '2,3', '3,5', '5,50', '5B,50', '7,50', '3,50', '1,2', '6,7', '7,50', '11,13', '11,50', '3,50', '3,50', '1,50', '1,50', '1,3', '1,3', '3,7', '7,50', '7,50', '6,7', '1,2', '3,4', '4,5', '5,14', '5,14', '13,14', '6,7', '1,3', '3,50', '3,4', '7,50', '14,6', '14,6', '1,3', '1,3', '3,50', '3,5', '11,13', '11,50', '11,14', '3,4', '4,14', '1,50', '1,3', '1,3', '3,5', '7,50', '7,50', '1,3', '3,5', '3,4', '4,50', '1,50', '11,12', '12,13', '13,14', '13,14', '14,50', '4,50', '14,50', '5,50', '3,5', '3,4', '1,50', '13,50', '6,7', '6,7', '7,50', '7,50', '11,50', '11,12', '4,50', '7,50', '3,50', '14,50', '11,14', '13,14', '1,14', '1,50', '5B,50', '1,2', '3,4', '4,14', '4,14', '14,50', '7,50', '7,50', '3,50', '5,50', '1,2', '7,50', '1,2', '3,4', '4,5', '11,13', '13,14', '13,14', '1,50', '11,50', '6,7', '1,50', '4,50', '7,50', '7,50', '1,50', '3,50', '1,3', '1,3', '7,50', '6,7', '3,50', '1,3', '5,50', '3,5', '3,4', '11,13', '5,7', '7,50', '7,50', '7,50', '1,50', '11,50', '1,3', '11,14', '11,13', '13,14', '14,50', '7,50', '7,50', '3,5', '11,13', '11,13', '13,14', '1,50', '3,50', '3,50', '1,50', '1,50', '6,7', '3,50', '3,4', '4,50', '13,14', '1,3', '3,50', '3,5', '7,50', '7,50', '7,50', '5B,50', '5B,50', '2,3', '3,5B', '7,50', '6,7', '7,50', '1,2', '2,50', '11,13', '11,12', '12,13', '13,14', '4,5', '3,5', '11,13', '13,14', '7,50', '7,50', '3,50', '1,50', '6,50', '6,50', '3,50', '3,4', '4,50', '3,4', '3,4', '4,5B', '5B,50', '5B,50', '3,4', '4,14', '6,7', '7,50', '11,12', '13,14', '7,50', '1,50', '3,50', '3,4', '4,50', '4,5', '7,50', '1,2', '1,2', '2,3', '1,50', '1,50', '6,50', '7,50', '1,3', '11,13', '3,50', '4,50', '11,13', '13,14', '6,50', '7,50', '5,50', '7,50', '13,50', '3,50', '1,3', '3,7', '7,50', '1,50', '1,2', '2,50', '1,50', '1,50', '3,50', '4,50', '1,50', '5,50', '7,50', '1,50', '1,3', '3,50', '11,50', '13,50', '7,50', '14,50', '4,14', '11,13', '11,12', '12,13', '13,14', '6,7', '7,50', '3,4', '4,7', '4,7', '4,14', '11,14', '11,14', '11,12', '12,13', '13,14', '6,7', '6,7', '7,50', '7,50', '1,2', '2,3', '3,7', '3,7', '4,50', '7,50', '6,7', '13,6', '3,6', '3,4', '4,5B', '13,14', '6,7', '7,50', '7,50', '1,50', '1,2', '2,3', '2,3', '2,3', '3,4', '4,5', '11,12', '11,12', '12,7', '6,7', '6,7', '7,50', '3,50', '1,3', '1,3', '3,50', '3,50', '1,50', '3,50', '3,4', '4,50', '11,12', '12,13', '13,14', '14,50', '7,50', '7,50', '1,3', '3,50', '3,50', '3,50', '3,50', '3,50', '1,2', '1,50', '3,50', '11,50', '13,50', '4,50', '7,50', '11,12', '12,13', '13,50', '7,50', '3,50', '2,3', '4,5', '1,3', '3,5', '1,3', '3,50', '7,50', '1,50', '5,50', '1,50', '3,50', '4,5', '7,50', '1,50', '1,50', '1,2', '1,2', '3,5', '6,7', '6,7', '7,50', '1,50', '1,3', '1,2', '1,3', '3,50', '7,50', '1,50', '11,50', '11,13', '7,50', '13,50', '11,50', '13,50', '13,50', '11,50', '13,14', '1,50', '1,3', '1,50', '1,50', '7,50', '7,50', '1,3', '3,50', '5,5B', '5,5B', '5,14', '13,14', '13,14', '3,5', '3,4', '1,2', '1,2', '1,2', '6,7', '7,50', '7,50', '14,50', '6,50', '7,50', '6,50', '1,50', '1,3', '3,50', '1,50', '5,50', '1,50', '3,50', '13,50', '12,13', '13,50', '6,7', '7,50', '7,50', '11,50', '7,50', '3,5', '3,4', '4,14', '1,50', '7,50', '5,5B', '5B,50', '4,5', '3,5', '4,5', '11,13', '11,13', '11,12', '13,14', '2,3']\n",
            "New labels:  [59, 38, 8, 23, 17, 24, 30, 30, 29, 9, 23, 23, 53, 22, 23, 8, 1, 23, 23, 1, 53, 44, 39, 46, 8, 23, 23, 57, 57, 59, 0, 16, 18, 17, 26, 59, 57, 57, 59, 57, 59, 57, 59, 59, 59, 59, 59, 59, 58, 57, 57, 8, 34, 59, 1, 1, 23, 59, 7, 38, 38, 8, 1, 0, 18, 40, 56, 59, 0, 0, 57, 23, 8, 26, 26, 59, 0, 9, 23, 40, 49, 53, 57, 8, 0, 59, 59, 1, 30, 57, 59, 38, 39, 45, 50, 50, 23, 29, 18, 30, 24, 57, 59, 23, 29, 59, 33, 22, 7, 1, 23, 1, 9, 44, 39, 45, 50, 56, 56, 1, 0, 0, 18, 17, 24, 33, 59, 59, 1, 23, 23, 8, 9, 44, 39, 45, 50, 50, 59, 23, 59, 57, 57, 8, 59, 1, 0, 8, 23, 33, 25, 1, 40, 59, 59, 58, 59, 8, 8, 56, 8, 56, 23, 29, 23, 23, 8, 8, 23, 8, 23, 38, 45, 49, 8, 23, 59, 59, 1, 1, 17, 24, 40, 50, 59, 8, 59, 34, 8, 59, 59, 18, 26, 58, 8, 23, 58, 57, 57, 23, 8, 40, 39, 45, 59, 17, 41, 50, 40, 57, 59, 57, 59, 24, 18, 17, 26, 40, 39, 45, 59, 23, 8, 44, 40, 53, 29, 53, 29, 44, 59, 57, 8, 23, 8, 2, 1, 28, 52, 59, 8, 8, 1, 23, 50, 56, 40, 59, 56, 59, 57, 53, 23, 23, 53, 50, 56, 23, 59, 59, 59, 54, 54, 23, 56, 40, 17, 26, 53, 44, 44, 18, 44, 39, 50, 53, 59, 18, 18, 59, 8, 1, 8, 1, 23, 18, 17, 59, 18, 0, 9, 57, 59, 8, 23, 9, 1, 17, 26, 41, 41, 39, 39, 45, 50, 17, 25, 39, 45, 50, 29, 59, 34, 8, 23, 8, 0, 1, 18, 25, 17, 38, 8, 23, 59, 59, 59, 57, 57, 52, 1, 1, 23, 25, 45, 39, 45, 40, 51, 57, 24, 1, 23, 23, 9, 24, 29, 18, 26, 39, 45, 50, 59, 8, 0, 0, 18, 17, 26, 56, 56, 22, 23, 8, 1, 59, 8, 1, 1, 29, 28, 59, 8, 1, 59, 8, 8, 23, 18, 23, 59, 18, 40, 0, 40, 58, 59, 8, 1, 23, 8, 34, 45, 50, 8, 40, 59, 1, 59, 8, 1, 59, 59, 59, 37, 59, 59, 8, 8, 23, 23, 59, 57, 16, 16, 0, 17, 24, 57, 59, 1, 23, 22, 23, 22, 8, 59, 30, 17, 24, 40, 40, 30, 18, 18, 8, 23, 18, 59, 1, 23, 59, 23, 59, 18, 24, 29, 29, 39, 45, 50, 56, 59, 59, 23, 8, 8, 34, 8, 53, 29, 53, 29, 58, 59, 59, 26, 41, 30, 23, 23, 23, 17, 26, 56, 8, 53, 23, 18, 17, 26, 44, 58, 58, 8, 1, 8, 23, 23, 44, 29, 18, 24, 25, 29, 18, 59, 57, 58, 59, 59, 45, 39, 53, 23, 53, 59, 8, 1, 8, 23, 17, 26, 56, 34, 59, 8, 18, 1, 19, 38, 30, 23, 8, 21, 1, 1, 1, 23, 30, 23, 23, 8, 8, 8, 59, 59, 59, 8, 1, 17, 29, 24, 8, 9, 17, 24, 29, 34, 59, 24, 24, 30, 30, 8, 8, 23, 8, 30, 37, 30, 37, 59, 59, 56, 59, 57, 59, 34, 59, 57, 57, 59, 39, 49, 49, 38, 23, 8, 8, 0, 0, 57, 59, 59, 8, 59, 8, 57, 59, 57, 57, 59, 25, 18, 40, 53, 53, 0, 9, 1, 59, 8, 8, 17, 28, 59, 59, 59, 59, 23, 17, 1, 1, 23, 9, 1, 23, 44, 58, 1, 26, 17, 24, 1, 21, 58, 8, 23, 17, 26, 40, 50, 57, 38, 38, 8, 53, 59, 8, 17, 39, 45, 45, 50, 50, 59, 59, 59, 37, 59, 23, 8, 57, 23, 23, 1, 23, 23, 58, 57, 58, 58, 18, 56, 59, 34, 1, 34, 29, 26, 57, 21, 57, 1, 3, 18, 17, 26, 28, 59, 1, 23, 59, 40, 39, 45, 59, 56, 59, 23, 8, 57, 58, 57, 58, 23, 38, 8, 18, 1, 16, 59, 56, 40, 17, 26, 23, 8, 8, 1, 1, 23, 29, 2, 8, 23, 8, 23, 8, 34, 18, 26, 41, 41, 40, 46, 56, 23, 8, 22, 59, 18, 23, 23, 18, 53, 23, 8, 59, 39, 49, 59, 40, 39, 46, 45, 46, 45, 8, 1, 17, 26, 59, 59, 18, 34, 50, 59, 18, 59, 59, 53, 59, 8, 59, 23, 21, 21, 57, 23, 8, 23, 8, 9, 59, 23, 8, 23, 8, 8, 8, 23, 17, 2, 40, 50, 59, 29, 41, 59, 57, 1, 44, 18, 44, 18, 1, 17, 40, 50, 29, 58, 24, 29, 57, 57, 59, 8, 23, 30, 8, 0, 59, 59, 40, 40, 18, 26, 26, 29, 8, 30, 59, 8, 0, 9, 9, 23, 30, 17, 24, 17, 40, 39, 45, 50, 53, 8, 1, 40, 49, 48, 28, 59, 53, 8, 58, 50, 57, 57, 59, 1, 1, 1, 23, 59, 24, 8, 34, 8, 0, 1, 59, 23, 59, 23, 8, 17, 26, 8, 23, 30, 24, 40, 39, 56, 8, 53, 53, 59, 59, 1, 1, 34, 40, 45, 59, 23, 8, 58, 8, 26, 50, 8, 23, 8, 23, 0, 8, 50, 40, 57, 59, 59, 58, 53, 50, 1, 53, 8, 1, 8, 1, 1, 1, 23, 23, 8, 26, 17, 29, 18, 29, 26, 59, 24, 18, 0, 0, 23, 8, 23, 8, 53, 34, 39, 45, 50, 50, 24, 59, 59, 59, 57, 59, 21, 39, 23, 23, 17, 24, 18, 17, 26, 23, 44, 29, 24, 25, 0, 24, 8, 1, 1, 1, 23, 8, 1, 59, 8, 8, 8, 1, 59, 59, 8, 17, 24, 0, 26, 8, 23, 18, 17, 27, 27, 57, 57, 59, 59, 59, 57, 1, 23, 8, 23, 26, 23, 8, 8, 24, 18, 16, 23, 0, 59, 29, 39, 45, 50, 23, 22, 23, 29, 17, 40, 45, 0, 9, 1, 8, 23, 8, 18, 8, 59, 0, 9, 1, 23, 59, 30, 57, 1, 59, 59, 57, 59, 57, 59, 8, 1, 17, 28, 8, 44, 53, 23, 8, 53, 23, 56, 59, 8, 59, 44, 23, 1, 17, 29, 26, 26, 40, 50, 57, 56, 8, 1, 1, 0, 18, 17, 26, 56, 39, 45, 50, 23, 23, 29, 57, 59, 59, 23, 8, 23, 8, 0, 8, 23, 23, 8, 23, 8, 59, 34, 8, 34, 29, 0, 23, 59, 57, 0, 40, 52, 8, 53, 40, 39, 45, 50, 8, 53, 40, 23, 23, 8, 23, 1, 0, 9, 9, 17, 29, 17, 17, 29, 23, 17, 1, 23, 8, 23, 23, 17, 26, 56, 56, 23, 8, 59, 17, 59, 59, 8, 23, 23, 8, 59, 59, 8, 1, 8, 23, 23, 8, 8, 8, 1, 57, 59, 8, 1, 18, 8, 34, 8, 17, 29, 53, 53, 8, 23, 8, 44, 23, 23, 59, 22, 22, 8, 23, 58, 57, 0, 1, 23, 23, 40, 50, 55, 23, 17, 24, 8, 1, 23, 40, 44, 8, 8, 23, 17, 26, 39, 45, 50, 59, 8, 29, 29, 18, 58, 59, 40, 23, 23, 59, 57, 58, 59, 1, 23, 23, 59, 23, 39, 45, 53, 53, 8, 8, 53, 59, 18, 17, 59, 0, 1, 1, 23, 50, 23, 24, 18, 8, 1, 22, 59, 23, 59, 18, 0, 1, 21, 57, 59, 56, 59, 59, 56, 59, 59, 59, 23, 1, 1, 59, 53, 40, 58, 57, 17, 1, 29, 45, 53, 53, 53, 23, 8, 59, 8, 1, 59, 59, 8, 1, 34, 23, 44, 40, 53, 58, 44, 56, 59, 59, 34, 57, 58, 57, 53, 23, 41, 8, 34, 39, 45, 50, 57, 59, 18, 18, 40, 59, 17, 26, 50, 50, 17, 26, 59, 0, 1, 8, 17, 2, 23, 1, 57, 59, 22, 38, 23, 23, 18, 8, 23, 53, 38, 49, 42, 39, 1, 58, 58, 59, 59, 54, 58, 59, 23, 8, 29, 1, 1, 23, 17, 26, 41, 40, 45, 39, 39, 45, 59, 23, 58, 23, 23, 8, 17, 29, 29, 39, 46, 56, 46, 56, 34, 17, 29, 0, 8, 8, 53, 53, 8, 30, 30, 59, 57, 59, 59, 8, 59, 53, 29, 23, 44, 40, 45, 50, 17, 26, 40, 50, 50, 59, 40, 8, 1, 1, 8, 18, 57, 59, 18, 18, 18, 53, 50, 1, 59, 1, 23, 39, 53, 59, 1, 34, 57, 59, 38, 1, 59, 8, 1, 17, 24, 18, 59, 23, 38, 1, 30, 1, 18, 18, 32, 57, 9, 57, 18, 39, 45, 50, 29, 17, 53, 50, 39, 50, 56, 56, 30, 59, 23, 8, 23, 8, 8, 8, 59, 18, 26, 39, 45, 53, 53, 24, 17, 26, 59, 59, 57, 59, 8, 23, 33, 59, 59, 18, 20, 56, 59, 8, 59, 23, 23, 59, 0, 1, 23, 8, 23, 9, 9, 8, 23, 8, 8, 21, 57, 21, 59, 8, 8, 23, 8, 1, 29, 8, 8, 8, 23, 59, 34, 44, 40, 45, 1, 44, 53, 29, 23, 8, 8, 8, 23, 8, 23, 1, 59, 1, 23, 59, 59, 8, 23, 1, 1, 23, 24, 59, 8, 50, 29, 58, 1, 18, 1, 1, 18, 23, 1, 59, 59, 59, 44, 8, 8, 23, 34, 8, 9, 23, 20, 23, 20, 0, 8, 23, 29, 38, 44, 40, 50, 0, 9, 9, 8, 2, 28, 28, 59, 8, 23, 56, 59, 59, 30, 59, 57, 59, 23, 8, 23, 8, 59, 8, 2, 17, 24, 45, 57, 1, 1, 18, 34, 44, 23, 1, 1, 41, 23, 44, 34, 23, 23, 23, 8, 24, 30, 24, 17, 26, 41, 39, 45, 50, 50, 18, 17, 59, 18, 23, 23, 23, 1, 1, 0, 1, 29, 58, 59, 58, 59, 57, 23, 34, 23, 34, 8, 23, 57, 59, 8, 44, 39, 45, 50, 50, 3, 34, 34, 29, 8, 59, 34, 0, 24, 40, 39, 45, 53, 17, 26, 26, 56, 56, 8, 8, 1, 23, 22, 59, 59, 1, 17, 33, 33, 59, 59, 21, 51, 22, 52, 59, 59, 1, 1, 58, 17, 27, 57, 59, 1, 17, 26, 59, 57, 23, 8, 9, 40, 39, 45, 50, 8, 1, 17, 59, 29, 23, 8, 1, 23, 29, 23, 29, 59, 17, 29, 40, 53, 53, 59, 59, 59, 56, 56, 23, 3, 0, 24, 23, 44, 53, 18, 40, 40, 58, 23, 18, 26, 53, 56, 50, 58, 57, 23, 1, 23, 18, 33, 59, 23, 58, 23, 8, 6, 6, 58, 23, 21, 8, 8, 59, 9, 59, 58, 58, 57, 18, 23, 8, 29, 26, 39, 45, 50, 56, 59, 23, 8, 0, 0, 1, 1, 23, 23, 17, 1, 21, 21, 57, 59, 56, 59, 0, 9, 59, 59, 59, 34, 44, 8, 8, 44, 37, 59, 53, 8, 23, 23, 1, 24, 57, 59, 0, 1, 59, 57, 8, 53, 59, 59, 17, 26, 50, 56, 56, 58, 23, 8, 23, 8, 23, 8, 59, 22, 1, 23, 8, 8, 29, 23, 9, 23, 29, 24, 53, 40, 39, 45, 50, 18, 23, 29, 8, 23, 0, 18, 9, 22, 1, 8, 23, 18, 29, 18, 56, 53, 59, 44, 53, 59, 44, 57, 57, 29, 23, 59, 35, 8, 6, 6, 1, 8, 0, 1, 10, 15, 15, 10, 8, 8, 1, 23, 59, 23, 44, 8, 8, 1, 41, 41, 50, 58, 8, 44, 8, 1, 59, 38, 23, 23, 59, 1, 23, 18, 17, 26, 24, 59, 50, 41, 20, 26, 57, 23, 8, 8, 23, 26, 44, 39, 46, 8, 23, 58, 23, 23, 14, 23, 8, 33, 8, 17, 30, 39, 45, 58, 59, 59, 17, 59, 8, 34, 8, 9, 24, 30, 59, 33, 1, 17, 26, 26, 1, 23, 23, 23, 18, 40, 39, 45, 50, 50, 29, 8, 9, 23, 23, 17, 40, 39, 45, 53, 8, 0, 23, 57, 59, 59, 17, 26, 26, 40, 39, 58, 59, 59, 8, 23, 1, 23, 8, 23, 23, 58, 58, 57, 8, 23, 23, 23, 23, 17, 24, 59, 17, 59, 22, 1, 1, 17, 17, 24, 33, 33, 59, 23, 8, 8, 22, 28, 39, 57, 59, 59, 40, 8, 8, 8, 8, 46, 57, 59, 8, 23, 8, 9, 8, 8, 1, 1, 17, 20, 26, 40, 29, 59, 8, 23, 56, 56, 25, 53, 40, 39, 45, 45, 50, 23, 8, 23, 59, 57, 59, 59, 8, 1, 23, 44, 39, 40, 39, 1, 8, 23, 17, 57, 59, 0, 9, 17, 24, 18, 56, 44, 39, 45, 8, 53, 23, 29, 53, 40, 50, 18, 17, 26, 40, 53, 56, 8, 0, 44, 29, 23, 23, 29, 8, 57, 0, 0, 23, 21, 30, 45, 40, 50, 59, 23, 22, 59, 57, 59, 30, 59, 58, 26, 41, 8, 8, 8, 1, 23, 59, 59, 8, 1, 0, 34, 57, 59, 30, 0, 17, 29, 29, 50, 23, 8, 59, 23, 18, 33, 57, 9, 23, 1, 23, 59, 59, 33, 59, 22, 18, 59, 56, 57, 39, 45, 50, 50, 44, 44, 40, 59, 26, 23, 23, 23, 37, 8, 0, 58, 57, 59, 59, 53, 8, 59, 23, 0, 0, 17, 26, 26, 39, 45, 50, 50, 59, 56, 59, 1, 8, 53, 8, 53, 29, 34, 1, 57, 59, 18, 26, 41, 41, 38, 23, 8, 9, 8, 18, 18, 26, 38, 38, 0, 9, 30, 24, 29, 18, 8, 26, 17, 59, 58, 58, 59, 50, 59, 8, 23, 59, 0, 30, 53, 23, 8, 8, 57, 59, 59, 16, 8, 17, 24, 23, 59, 1, 17, 26, 59, 30, 35, 40, 50, 56, 56, 29, 41, 50, 59, 8, 8, 23, 53, 39, 45, 53, 23, 30, 59, 38, 59, 0, 50, 53, 17, 26, 26, 58, 57, 23, 23, 8, 8, 8, 1, 23, 44, 40, 50, 57, 59, 59, 24, 58, 57, 59, 58, 59, 29, 8, 53, 23, 1, 1, 18, 53, 39, 45, 53, 53, 8, 23, 59, 18, 40, 39, 45, 8, 23, 1, 1, 23, 8, 53, 45, 1, 1, 17, 26, 44, 59, 59, 8, 23, 34, 59, 8, 23, 34, 44, 44, 53, 45, 57, 59, 53, 59, 44, 8, 1, 1, 17, 57, 8, 44, 40, 39, 45, 50, 56, 29, 24, 24, 29, 8, 0, 56, 8, 8, 23, 8, 23, 8, 1, 18, 30, 30, 38, 34, 18, 56, 59, 59, 59, 8, 8, 0, 18, 1, 23, 6, 57, 59, 53, 40, 39, 45, 57, 59, 29, 24, 20, 26, 29, 59, 57, 8, 26, 57, 59, 29, 8, 59, 58, 58, 59, 1, 23, 1, 23, 21, 57, 58, 57, 57, 58, 34, 39, 39, 59, 56, 58, 59, 1, 8, 8, 18, 1, 20, 59, 0, 0, 9, 1, 18, 1, 56, 59, 57, 22, 1, 59, 8, 0, 18, 30, 8, 23, 29, 59, 0, 9, 8, 44, 1, 44, 40, 45, 44, 8, 59, 8, 1, 1, 1, 23, 0, 8, 8, 1, 17, 26, 23, 40, 24, 24, 26, 38, 0, 1, 8, 23, 0, 23, 23, 59, 8, 8, 1, 8, 23, 53, 1, 18, 40, 16, 23, 8, 17, 50, 23, 18, 0, 1, 29, 25, 58, 58, 59, 8, 0, 1, 8, 17, 58, 58, 24, 24, 0, 0, 8, 8, 1, 1, 23, 59, 41, 59, 59, 50, 40, 45, 38, 38, 25, 37, 59, 2, 1, 17, 1, 39, 40, 49, 53, 49, 53, 8, 23, 0, 1, 44, 8, 23, 1, 23, 0, 8, 34, 8, 0, 0, 8, 1, 22, 22, 17, 19, 56, 7, 59, 44, 8, 59, 59, 57, 59, 24, 8, 0, 8, 17, 30, 0, 2, 2, 26, 56, 26, 55, 59, 59, 56, 59, 59, 1, 8, 53, 0, 53, 8, 29, 53, 1, 17, 26, 40, 23, 1, 23, 8, 39, 45, 50, 50, 35, 35, 38, 38, 57, 59, 59, 18, 39, 46, 45, 45, 46, 59, 18, 9, 18, 34, 38, 59, 23, 0, 57, 59, 40, 44, 23, 23, 8, 8, 1, 1, 22, 59, 59, 57, 0, 17, 24, 31, 31, 50, 57, 1, 23, 17, 59, 54, 54, 1, 1, 23, 18, 40, 44, 41, 17, 26, 8, 1, 1, 18, 59, 59, 1, 18, 17, 29, 8, 39, 45, 50, 50, 56, 29, 56, 34, 18, 17, 8, 53, 57, 57, 59, 59, 44, 39, 29, 59, 23, 56, 41, 50, 5, 8, 38, 0, 17, 26, 26, 56, 59, 59, 23, 34, 0, 59, 0, 17, 24, 40, 50, 50, 8, 44, 57, 8, 29, 59, 59, 8, 23, 1, 1, 59, 57, 23, 1, 34, 18, 17, 40, 33, 59, 59, 59, 8, 44, 1, 41, 40, 50, 56, 59, 59, 18, 40, 40, 50, 8, 23, 23, 8, 8, 57, 23, 17, 29, 50, 1, 23, 18, 59, 59, 59, 38, 38, 9, 19, 59, 57, 59, 0, 16, 40, 39, 45, 50, 24, 18, 40, 50, 59, 59, 23, 8, 58, 58, 23, 17, 29, 17, 17, 25, 38, 38, 17, 26, 57, 59, 39, 50, 59, 8, 23, 17, 29, 24, 59, 0, 0, 9, 8, 8, 58, 59, 1, 40, 23, 29, 40, 50, 58, 59, 34, 59, 53, 23, 1, 22, 59, 8, 0, 16, 8, 8, 23, 29, 8, 34, 59, 8, 1, 23, 44, 53, 59, 56, 26, 40, 39, 45, 50, 57, 59, 17, 28, 28, 26, 41, 41, 39, 45, 50, 57, 57, 59, 59, 0, 9, 22, 22, 29, 59, 57, 51, 21, 17, 25, 50, 57, 59, 59, 8, 0, 9, 9, 9, 17, 24, 39, 39, 48, 57, 57, 59, 23, 1, 1, 23, 23, 8, 23, 17, 29, 39, 45, 50, 56, 59, 59, 1, 23, 23, 23, 23, 23, 0, 8, 23, 44, 53, 29, 59, 39, 45, 53, 59, 23, 9, 24, 1, 18, 1, 23, 59, 8, 34, 8, 23, 24, 59, 8, 8, 0, 0, 18, 57, 57, 59, 8, 1, 0, 1, 23, 59, 8, 44, 40, 59, 53, 44, 53, 53, 44, 50, 8, 1, 8, 8, 59, 59, 1, 23, 30, 30, 31, 50, 50, 18, 17, 0, 0, 0, 57, 59, 59, 56, 58, 59, 58, 8, 1, 23, 8, 34, 8, 23, 53, 45, 53, 57, 59, 59, 44, 59, 18, 17, 26, 8, 59, 30, 38, 24, 18, 24, 40, 40, 39, 50, 9]\n"
          ],
          "name": "stdout"
        }
      ]
    },
    {
      "cell_type": "code",
      "metadata": {
        "id": "ukooT2GLWVDu"
      },
      "source": [
        "# Use train_test_split to split our data into train and validation sets for training\n",
        "\n",
        "train_inputs, validation_inputs, train_labels, validation_labels = train_test_split(input_ids, labels, \n",
        "                                                            random_state=2018, test_size=0.1)\n",
        "train_masks, validation_masks, _, _ = train_test_split(attention_masks, input_ids,\n",
        "                                             random_state=2018, test_size=0.1)"
      ],
      "execution_count": 55,
      "outputs": []
    },
    {
      "cell_type": "code",
      "metadata": {
        "id": "8yYmGATtWWpc"
      },
      "source": [
        "# Convert all of our data into torch tensors, the required datatype for our model\n",
        "\n",
        "train_inputs = torch.tensor(train_inputs)\n",
        "validation_inputs = torch.tensor(validation_inputs)\n",
        "train_labels = torch.tensor(train_labels)\n",
        "validation_labels = torch.tensor(validation_labels)\n",
        "train_masks = torch.tensor(train_masks)\n",
        "validation_masks = torch.tensor(validation_masks)"
      ],
      "execution_count": 56,
      "outputs": []
    },
    {
      "cell_type": "code",
      "metadata": {
        "id": "zS7ZO78cWYfO"
      },
      "source": [
        "# Create an iterator of our data with torch DataLoader. This helps save on memory during training because, unlike a for loop, \n",
        "# with an iterator the entire dataset does not need to be loaded into memory\n",
        "\n",
        "train_data = TensorDataset(train_inputs, train_masks, train_labels)\n",
        "train_sampler = RandomSampler(train_data)\n",
        "train_dataloader = DataLoader(train_data, sampler=train_sampler, batch_size=BATCH_SIZE)\n",
        "\n",
        "validation_data = TensorDataset(validation_inputs, validation_masks, validation_labels)\n",
        "validation_sampler = SequentialSampler(validation_data)\n",
        "validation_dataloader = DataLoader(validation_data, sampler=validation_sampler, batch_size=BATCH_SIZE)"
      ],
      "execution_count": 57,
      "outputs": []
    },
    {
      "cell_type": "code",
      "metadata": {
        "id": "djyfxGW2Wb96",
        "outputId": "ba7940e4-bac8-42b1-94e4-11bf33a05fd6",
        "colab": {
          "base_uri": "https://localhost:8080/",
          "height": 1000
        }
      },
      "source": [
        "# This is where the fine-tuning comes in. We must train the model for our specific task.\n",
        "\n",
        "# We will first modify pre-trained BERT for our specific task, then continue training on our data until the entire model\n",
        "#   is well-suited for our task.\n",
        "\n",
        "model = BertForSequenceClassification.from_pretrained(\"bert-base-uncased\", num_labels=len(labels))\n",
        "model.cuda()"
      ],
      "execution_count": 58,
      "outputs": [
        {
          "output_type": "execute_result",
          "data": {
            "text/plain": [
              "BertForSequenceClassification(\n",
              "  (bert): BertModel(\n",
              "    (embeddings): BertEmbeddings(\n",
              "      (word_embeddings): Embedding(30522, 768, padding_idx=0)\n",
              "      (position_embeddings): Embedding(512, 768)\n",
              "      (token_type_embeddings): Embedding(2, 768)\n",
              "      (LayerNorm): BertLayerNorm()\n",
              "      (dropout): Dropout(p=0.1, inplace=False)\n",
              "    )\n",
              "    (encoder): BertEncoder(\n",
              "      (layer): ModuleList(\n",
              "        (0): BertLayer(\n",
              "          (attention): BertAttention(\n",
              "            (self): BertSelfAttention(\n",
              "              (query): Linear(in_features=768, out_features=768, bias=True)\n",
              "              (key): Linear(in_features=768, out_features=768, bias=True)\n",
              "              (value): Linear(in_features=768, out_features=768, bias=True)\n",
              "              (dropout): Dropout(p=0.1, inplace=False)\n",
              "            )\n",
              "            (output): BertSelfOutput(\n",
              "              (dense): Linear(in_features=768, out_features=768, bias=True)\n",
              "              (LayerNorm): BertLayerNorm()\n",
              "              (dropout): Dropout(p=0.1, inplace=False)\n",
              "            )\n",
              "          )\n",
              "          (intermediate): BertIntermediate(\n",
              "            (dense): Linear(in_features=768, out_features=3072, bias=True)\n",
              "          )\n",
              "          (output): BertOutput(\n",
              "            (dense): Linear(in_features=3072, out_features=768, bias=True)\n",
              "            (LayerNorm): BertLayerNorm()\n",
              "            (dropout): Dropout(p=0.1, inplace=False)\n",
              "          )\n",
              "        )\n",
              "        (1): BertLayer(\n",
              "          (attention): BertAttention(\n",
              "            (self): BertSelfAttention(\n",
              "              (query): Linear(in_features=768, out_features=768, bias=True)\n",
              "              (key): Linear(in_features=768, out_features=768, bias=True)\n",
              "              (value): Linear(in_features=768, out_features=768, bias=True)\n",
              "              (dropout): Dropout(p=0.1, inplace=False)\n",
              "            )\n",
              "            (output): BertSelfOutput(\n",
              "              (dense): Linear(in_features=768, out_features=768, bias=True)\n",
              "              (LayerNorm): BertLayerNorm()\n",
              "              (dropout): Dropout(p=0.1, inplace=False)\n",
              "            )\n",
              "          )\n",
              "          (intermediate): BertIntermediate(\n",
              "            (dense): Linear(in_features=768, out_features=3072, bias=True)\n",
              "          )\n",
              "          (output): BertOutput(\n",
              "            (dense): Linear(in_features=3072, out_features=768, bias=True)\n",
              "            (LayerNorm): BertLayerNorm()\n",
              "            (dropout): Dropout(p=0.1, inplace=False)\n",
              "          )\n",
              "        )\n",
              "        (2): BertLayer(\n",
              "          (attention): BertAttention(\n",
              "            (self): BertSelfAttention(\n",
              "              (query): Linear(in_features=768, out_features=768, bias=True)\n",
              "              (key): Linear(in_features=768, out_features=768, bias=True)\n",
              "              (value): Linear(in_features=768, out_features=768, bias=True)\n",
              "              (dropout): Dropout(p=0.1, inplace=False)\n",
              "            )\n",
              "            (output): BertSelfOutput(\n",
              "              (dense): Linear(in_features=768, out_features=768, bias=True)\n",
              "              (LayerNorm): BertLayerNorm()\n",
              "              (dropout): Dropout(p=0.1, inplace=False)\n",
              "            )\n",
              "          )\n",
              "          (intermediate): BertIntermediate(\n",
              "            (dense): Linear(in_features=768, out_features=3072, bias=True)\n",
              "          )\n",
              "          (output): BertOutput(\n",
              "            (dense): Linear(in_features=3072, out_features=768, bias=True)\n",
              "            (LayerNorm): BertLayerNorm()\n",
              "            (dropout): Dropout(p=0.1, inplace=False)\n",
              "          )\n",
              "        )\n",
              "        (3): BertLayer(\n",
              "          (attention): BertAttention(\n",
              "            (self): BertSelfAttention(\n",
              "              (query): Linear(in_features=768, out_features=768, bias=True)\n",
              "              (key): Linear(in_features=768, out_features=768, bias=True)\n",
              "              (value): Linear(in_features=768, out_features=768, bias=True)\n",
              "              (dropout): Dropout(p=0.1, inplace=False)\n",
              "            )\n",
              "            (output): BertSelfOutput(\n",
              "              (dense): Linear(in_features=768, out_features=768, bias=True)\n",
              "              (LayerNorm): BertLayerNorm()\n",
              "              (dropout): Dropout(p=0.1, inplace=False)\n",
              "            )\n",
              "          )\n",
              "          (intermediate): BertIntermediate(\n",
              "            (dense): Linear(in_features=768, out_features=3072, bias=True)\n",
              "          )\n",
              "          (output): BertOutput(\n",
              "            (dense): Linear(in_features=3072, out_features=768, bias=True)\n",
              "            (LayerNorm): BertLayerNorm()\n",
              "            (dropout): Dropout(p=0.1, inplace=False)\n",
              "          )\n",
              "        )\n",
              "        (4): BertLayer(\n",
              "          (attention): BertAttention(\n",
              "            (self): BertSelfAttention(\n",
              "              (query): Linear(in_features=768, out_features=768, bias=True)\n",
              "              (key): Linear(in_features=768, out_features=768, bias=True)\n",
              "              (value): Linear(in_features=768, out_features=768, bias=True)\n",
              "              (dropout): Dropout(p=0.1, inplace=False)\n",
              "            )\n",
              "            (output): BertSelfOutput(\n",
              "              (dense): Linear(in_features=768, out_features=768, bias=True)\n",
              "              (LayerNorm): BertLayerNorm()\n",
              "              (dropout): Dropout(p=0.1, inplace=False)\n",
              "            )\n",
              "          )\n",
              "          (intermediate): BertIntermediate(\n",
              "            (dense): Linear(in_features=768, out_features=3072, bias=True)\n",
              "          )\n",
              "          (output): BertOutput(\n",
              "            (dense): Linear(in_features=3072, out_features=768, bias=True)\n",
              "            (LayerNorm): BertLayerNorm()\n",
              "            (dropout): Dropout(p=0.1, inplace=False)\n",
              "          )\n",
              "        )\n",
              "        (5): BertLayer(\n",
              "          (attention): BertAttention(\n",
              "            (self): BertSelfAttention(\n",
              "              (query): Linear(in_features=768, out_features=768, bias=True)\n",
              "              (key): Linear(in_features=768, out_features=768, bias=True)\n",
              "              (value): Linear(in_features=768, out_features=768, bias=True)\n",
              "              (dropout): Dropout(p=0.1, inplace=False)\n",
              "            )\n",
              "            (output): BertSelfOutput(\n",
              "              (dense): Linear(in_features=768, out_features=768, bias=True)\n",
              "              (LayerNorm): BertLayerNorm()\n",
              "              (dropout): Dropout(p=0.1, inplace=False)\n",
              "            )\n",
              "          )\n",
              "          (intermediate): BertIntermediate(\n",
              "            (dense): Linear(in_features=768, out_features=3072, bias=True)\n",
              "          )\n",
              "          (output): BertOutput(\n",
              "            (dense): Linear(in_features=3072, out_features=768, bias=True)\n",
              "            (LayerNorm): BertLayerNorm()\n",
              "            (dropout): Dropout(p=0.1, inplace=False)\n",
              "          )\n",
              "        )\n",
              "        (6): BertLayer(\n",
              "          (attention): BertAttention(\n",
              "            (self): BertSelfAttention(\n",
              "              (query): Linear(in_features=768, out_features=768, bias=True)\n",
              "              (key): Linear(in_features=768, out_features=768, bias=True)\n",
              "              (value): Linear(in_features=768, out_features=768, bias=True)\n",
              "              (dropout): Dropout(p=0.1, inplace=False)\n",
              "            )\n",
              "            (output): BertSelfOutput(\n",
              "              (dense): Linear(in_features=768, out_features=768, bias=True)\n",
              "              (LayerNorm): BertLayerNorm()\n",
              "              (dropout): Dropout(p=0.1, inplace=False)\n",
              "            )\n",
              "          )\n",
              "          (intermediate): BertIntermediate(\n",
              "            (dense): Linear(in_features=768, out_features=3072, bias=True)\n",
              "          )\n",
              "          (output): BertOutput(\n",
              "            (dense): Linear(in_features=3072, out_features=768, bias=True)\n",
              "            (LayerNorm): BertLayerNorm()\n",
              "            (dropout): Dropout(p=0.1, inplace=False)\n",
              "          )\n",
              "        )\n",
              "        (7): BertLayer(\n",
              "          (attention): BertAttention(\n",
              "            (self): BertSelfAttention(\n",
              "              (query): Linear(in_features=768, out_features=768, bias=True)\n",
              "              (key): Linear(in_features=768, out_features=768, bias=True)\n",
              "              (value): Linear(in_features=768, out_features=768, bias=True)\n",
              "              (dropout): Dropout(p=0.1, inplace=False)\n",
              "            )\n",
              "            (output): BertSelfOutput(\n",
              "              (dense): Linear(in_features=768, out_features=768, bias=True)\n",
              "              (LayerNorm): BertLayerNorm()\n",
              "              (dropout): Dropout(p=0.1, inplace=False)\n",
              "            )\n",
              "          )\n",
              "          (intermediate): BertIntermediate(\n",
              "            (dense): Linear(in_features=768, out_features=3072, bias=True)\n",
              "          )\n",
              "          (output): BertOutput(\n",
              "            (dense): Linear(in_features=3072, out_features=768, bias=True)\n",
              "            (LayerNorm): BertLayerNorm()\n",
              "            (dropout): Dropout(p=0.1, inplace=False)\n",
              "          )\n",
              "        )\n",
              "        (8): BertLayer(\n",
              "          (attention): BertAttention(\n",
              "            (self): BertSelfAttention(\n",
              "              (query): Linear(in_features=768, out_features=768, bias=True)\n",
              "              (key): Linear(in_features=768, out_features=768, bias=True)\n",
              "              (value): Linear(in_features=768, out_features=768, bias=True)\n",
              "              (dropout): Dropout(p=0.1, inplace=False)\n",
              "            )\n",
              "            (output): BertSelfOutput(\n",
              "              (dense): Linear(in_features=768, out_features=768, bias=True)\n",
              "              (LayerNorm): BertLayerNorm()\n",
              "              (dropout): Dropout(p=0.1, inplace=False)\n",
              "            )\n",
              "          )\n",
              "          (intermediate): BertIntermediate(\n",
              "            (dense): Linear(in_features=768, out_features=3072, bias=True)\n",
              "          )\n",
              "          (output): BertOutput(\n",
              "            (dense): Linear(in_features=3072, out_features=768, bias=True)\n",
              "            (LayerNorm): BertLayerNorm()\n",
              "            (dropout): Dropout(p=0.1, inplace=False)\n",
              "          )\n",
              "        )\n",
              "        (9): BertLayer(\n",
              "          (attention): BertAttention(\n",
              "            (self): BertSelfAttention(\n",
              "              (query): Linear(in_features=768, out_features=768, bias=True)\n",
              "              (key): Linear(in_features=768, out_features=768, bias=True)\n",
              "              (value): Linear(in_features=768, out_features=768, bias=True)\n",
              "              (dropout): Dropout(p=0.1, inplace=False)\n",
              "            )\n",
              "            (output): BertSelfOutput(\n",
              "              (dense): Linear(in_features=768, out_features=768, bias=True)\n",
              "              (LayerNorm): BertLayerNorm()\n",
              "              (dropout): Dropout(p=0.1, inplace=False)\n",
              "            )\n",
              "          )\n",
              "          (intermediate): BertIntermediate(\n",
              "            (dense): Linear(in_features=768, out_features=3072, bias=True)\n",
              "          )\n",
              "          (output): BertOutput(\n",
              "            (dense): Linear(in_features=3072, out_features=768, bias=True)\n",
              "            (LayerNorm): BertLayerNorm()\n",
              "            (dropout): Dropout(p=0.1, inplace=False)\n",
              "          )\n",
              "        )\n",
              "        (10): BertLayer(\n",
              "          (attention): BertAttention(\n",
              "            (self): BertSelfAttention(\n",
              "              (query): Linear(in_features=768, out_features=768, bias=True)\n",
              "              (key): Linear(in_features=768, out_features=768, bias=True)\n",
              "              (value): Linear(in_features=768, out_features=768, bias=True)\n",
              "              (dropout): Dropout(p=0.1, inplace=False)\n",
              "            )\n",
              "            (output): BertSelfOutput(\n",
              "              (dense): Linear(in_features=768, out_features=768, bias=True)\n",
              "              (LayerNorm): BertLayerNorm()\n",
              "              (dropout): Dropout(p=0.1, inplace=False)\n",
              "            )\n",
              "          )\n",
              "          (intermediate): BertIntermediate(\n",
              "            (dense): Linear(in_features=768, out_features=3072, bias=True)\n",
              "          )\n",
              "          (output): BertOutput(\n",
              "            (dense): Linear(in_features=3072, out_features=768, bias=True)\n",
              "            (LayerNorm): BertLayerNorm()\n",
              "            (dropout): Dropout(p=0.1, inplace=False)\n",
              "          )\n",
              "        )\n",
              "        (11): BertLayer(\n",
              "          (attention): BertAttention(\n",
              "            (self): BertSelfAttention(\n",
              "              (query): Linear(in_features=768, out_features=768, bias=True)\n",
              "              (key): Linear(in_features=768, out_features=768, bias=True)\n",
              "              (value): Linear(in_features=768, out_features=768, bias=True)\n",
              "              (dropout): Dropout(p=0.1, inplace=False)\n",
              "            )\n",
              "            (output): BertSelfOutput(\n",
              "              (dense): Linear(in_features=768, out_features=768, bias=True)\n",
              "              (LayerNorm): BertLayerNorm()\n",
              "              (dropout): Dropout(p=0.1, inplace=False)\n",
              "            )\n",
              "          )\n",
              "          (intermediate): BertIntermediate(\n",
              "            (dense): Linear(in_features=768, out_features=3072, bias=True)\n",
              "          )\n",
              "          (output): BertOutput(\n",
              "            (dense): Linear(in_features=3072, out_features=768, bias=True)\n",
              "            (LayerNorm): BertLayerNorm()\n",
              "            (dropout): Dropout(p=0.1, inplace=False)\n",
              "          )\n",
              "        )\n",
              "      )\n",
              "    )\n",
              "    (pooler): BertPooler(\n",
              "      (dense): Linear(in_features=768, out_features=768, bias=True)\n",
              "      (activation): Tanh()\n",
              "    )\n",
              "  )\n",
              "  (dropout): Dropout(p=0.1, inplace=False)\n",
              "  (classifier): Linear(in_features=768, out_features=3100, bias=True)\n",
              ")"
            ]
          },
          "metadata": {
            "tags": []
          },
          "execution_count": 58
        }
      ]
    },
    {
      "cell_type": "code",
      "metadata": {
        "id": "HPtYqoRsWjnT"
      },
      "source": [
        "'''\n",
        "Now that we have our model loaded we need to grab the training hyperparameters from within the stored model.\n",
        "\n",
        "For the purposes of fine-tuning, the authors recommend the following hyperparameter ranges:\n",
        "\n",
        "Batch size: 16, 32\n",
        "Learning rate (Adam): 5e-5, 3e-5, 2e-5\n",
        "Number of epochs: 2, 3, 4\n",
        "'''\n",
        "\n",
        "param_optimizer = list(model.named_parameters())\n",
        "no_decay = ['bias', 'gamma', 'beta']\n",
        "optimizer_grouped_parameters = [\n",
        "    {'params': [p for n, p in param_optimizer if not any(nd in n for nd in no_decay)],\n",
        "     'weight_decay_rate': 0.01},\n",
        "    {'params': [p for n, p in param_optimizer if any(nd in n for nd in no_decay)],\n",
        "     'weight_decay_rate': 0.0}\n",
        "]"
      ],
      "execution_count": 59,
      "outputs": []
    },
    {
      "cell_type": "code",
      "metadata": {
        "id": "6wRLpwmyWnFZ",
        "outputId": "ecf104b4-70a8-478f-8249-c197d24d9b07",
        "colab": {
          "base_uri": "https://localhost:8080/",
          "height": 34
        }
      },
      "source": [
        "optimizer = BertAdam(optimizer_grouped_parameters,\n",
        "                     lr=LEARNING_RATE,\n",
        "                     warmup=WARMUP)"
      ],
      "execution_count": 60,
      "outputs": [
        {
          "output_type": "stream",
          "text": [
            "t_total value of -1 results in schedule not being applied\n"
          ],
          "name": "stderr"
        }
      ]
    },
    {
      "cell_type": "code",
      "metadata": {
        "id": "uMEbb1g5Wrsd",
        "outputId": "941aca3f-1f2b-4081-e6c0-8d46fc77394a",
        "colab": {
          "base_uri": "https://localhost:8080/",
          "height": 170
        }
      },
      "source": [
        "t = [] \n",
        "\n",
        "# Store our loss and accuracy for plotting\n",
        "train_loss_set = []\n",
        "\n",
        "# trange is a tqdm wrapper around the normal python range\n",
        "for _ in trange(EPOCHS, desc=\"Epoch\"):\n",
        "  \n",
        "  # Training\n",
        "  \n",
        "  # Set our model to training mode (as opposed to evaluation mode)\n",
        "  model.train()\n",
        "  \n",
        "  # Tracking variables\n",
        "  tr_loss = 0\n",
        "  nb_tr_examples, nb_tr_steps = 0, 0\n",
        "  \n",
        "  # Train the data for one epoch\n",
        "  for step, batch in enumerate(train_dataloader):\n",
        "    # Add batch to GPU\n",
        "    batch = tuple(t.to(device) for t in batch)\n",
        "    # Unpack the inputs from our dataloader\n",
        "    b_input_ids, b_input_mask, b_labels = batch\n",
        "    # Clear out the gradients (by default they accumulate)\n",
        "    optimizer.zero_grad()\n",
        "    # Forward pass\n",
        "    loss = model(b_input_ids, token_type_ids=None, attention_mask=b_input_mask, labels=b_labels)\n",
        "    train_loss_set.append(loss.item())    \n",
        "    # Backward pass\n",
        "    loss.backward()\n",
        "    # Update parameters and take a step using the computed gradient\n",
        "    optimizer.step()\n",
        "    \n",
        "    # Update tracking variables\n",
        "    tr_loss += loss.item()\n",
        "    nb_tr_examples += b_input_ids.size(0)\n",
        "    nb_tr_steps += 1\n",
        "\n",
        "  print(\"Train loss: {}\".format(tr_loss/nb_tr_steps))\n",
        "    \n",
        "    \n",
        "  # Validation\n",
        "\n",
        "  # Put model in evaluation mode to evaluate loss on the validation set\n",
        "  model.eval()\n",
        "\n",
        "  # Tracking variables \n",
        "  eval_loss, eval_accuracy = 0, 0\n",
        "  nb_eval_steps, nb_eval_examples = 0, 0\n",
        "\n",
        "  # Evaluate data for one epoch\n",
        "  for batch in validation_dataloader:\n",
        "    # Add batch to GPU\n",
        "    batch = tuple(t.to(device) for t in batch)\n",
        "    # Unpack the inputs from our dataloader\n",
        "    b_input_ids, b_input_mask, b_labels = batch\n",
        "    # Telling the model not to compute or store gradients, saving memory and speeding up validation\n",
        "    with torch.no_grad():\n",
        "      # Forward pass, calculate logit predictions\n",
        "      logits = model(b_input_ids, token_type_ids=None, attention_mask=b_input_mask)\n",
        "    \n",
        "    # Move logits and labels to CPU\n",
        "    logits = logits.detach().cpu().numpy()\n",
        "    label_ids = b_labels.to('cpu').numpy()\n",
        "\n",
        "    tmp_eval_accuracy = flat_accuracy(logits, label_ids)\n",
        "    \n",
        "    eval_accuracy += tmp_eval_accuracy\n",
        "    nb_eval_steps += 1\n",
        "\n",
        "  print(\"Validation Accuracy: {}\".format(eval_accuracy/nb_eval_steps))"
      ],
      "execution_count": 61,
      "outputs": [
        {
          "output_type": "stream",
          "text": [
            "\rEpoch:   0%|          | 0/4 [00:00<?, ?it/s]"
          ],
          "name": "stderr"
        },
        {
          "output_type": "stream",
          "text": [
            "Train loss: 3.8436760021881624\n"
          ],
          "name": "stdout"
        },
        {
          "output_type": "stream",
          "text": [
            "\rEpoch:  25%|██▌       | 1/4 [00:28<01:26, 28.68s/it]"
          ],
          "name": "stderr"
        },
        {
          "output_type": "stream",
          "text": [
            "Validation Accuracy: 0.4622159090909091\n",
            "Train loss: 1.9030552425167777\n"
          ],
          "name": "stdout"
        },
        {
          "output_type": "stream",
          "text": [
            "\rEpoch:  50%|█████     | 2/4 [00:57<00:57, 28.67s/it]"
          ],
          "name": "stderr"
        },
        {
          "output_type": "stream",
          "text": [
            "Validation Accuracy: 0.5775568181818181\n",
            "Train loss: 1.4708759852431037\n"
          ],
          "name": "stdout"
        },
        {
          "output_type": "stream",
          "text": [
            "\rEpoch:  75%|███████▌  | 3/4 [01:25<00:28, 28.65s/it]"
          ],
          "name": "stderr"
        },
        {
          "output_type": "stream",
          "text": [
            "Validation Accuracy: 0.5650568181818182\n",
            "Train loss: 1.2427516240965237\n"
          ],
          "name": "stdout"
        },
        {
          "output_type": "stream",
          "text": [
            "Epoch: 100%|██████████| 4/4 [01:54<00:00, 28.65s/it]"
          ],
          "name": "stderr"
        },
        {
          "output_type": "stream",
          "text": [
            "Validation Accuracy: 0.5511363636363636\n"
          ],
          "name": "stdout"
        },
        {
          "output_type": "stream",
          "text": [
            "\n"
          ],
          "name": "stderr"
        }
      ]
    },
    {
      "cell_type": "markdown",
      "metadata": {
        "id": "iW-99ItFn6Ti"
      },
      "source": [
        "Now we will evaluate the instances guessed valid with the valid-trained BERT."
      ]
    },
    {
      "cell_type": "code",
      "metadata": {
        "id": "hOEfaDDF_smP",
        "outputId": "d3cf9e10-5c32-4ae8-889d-52780bf3c72e",
        "colab": {
          "base_uri": "https://localhost:8080/",
          "height": 119
        }
      },
      "source": [
        "sentences_test_valid = df_multi_test_valid.sentence.values\n",
        "sentences_test_valid = [\"[CLS] \" + sentence + \" [SEP]\" for sentence in sentences_test_valid]\n",
        "\n",
        "tokenized_texts_test_valid = [tokenizer.tokenize(sentence) for sentence in sentences_test_valid]\n",
        "labels_test_valid = df_multi_test_valid.relation.values\n",
        "labels_test_valid[:50]"
      ],
      "execution_count": 62,
      "outputs": [
        {
          "output_type": "execute_result",
          "data": {
            "text/plain": [
              "array(['7,50', '1,50', '1,3', '1,50', 'O', '1,2', 'O', '1,3', '3,4',\n",
              "       '3,14', '14,50', '1,3', '7,14', 'O', 'O', 'O', '3,5', 'O', '7,50',\n",
              "       '6,50', '6,5', '6,50', '3,4', '4,14', 'O', 'O', 'O', '3,50',\n",
              "       '3,50', '13,14', '4,50', '4,5B', 'O', '1,50', '1,50', '6,7', '1,3',\n",
              "       '6,50', '6,7', '6,7', '7,50', 'O', '14,50', '3,4', '4,14', 'O',\n",
              "       '4,5B', '7,50', '7,50', '3,50'], dtype=object)"
            ]
          },
          "metadata": {
            "tags": []
          },
          "execution_count": 62
        }
      ]
    },
    {
      "cell_type": "code",
      "metadata": {
        "id": "5I-OFsFCHBx1",
        "outputId": "507c3b8e-6008-4d5b-c089-145c23b0b1b5",
        "colab": {
          "base_uri": "https://localhost:8080/",
          "height": 139
        }
      },
      "source": [
        "# Now map each label to its corresponding integer\n",
        "print(\"Old labels: \",str(labels_test_valid[:50]))\n",
        "labels_test_valid = [relations.index(l) if l in relations else 999 for l in labels_test_valid]\n",
        "print(\"New labels: \",str(labels_test_valid))"
      ],
      "execution_count": 63,
      "outputs": [
        {
          "output_type": "stream",
          "text": [
            "Old labels:  ['7,50' '1,50' '1,3' '1,50' 'O' '1,2' 'O' '1,3' '3,4' '3,14' '14,50' '1,3'\n",
            " '7,14' 'O' 'O' 'O' '3,5' 'O' '7,50' '6,50' '6,5' '6,50' '3,4' '4,14' 'O'\n",
            " 'O' 'O' '3,50' '3,50' '13,14' '4,50' '4,5B' 'O' '1,50' '1,50' '6,7' '1,3'\n",
            " '6,50' '6,7' '6,7' '7,50' 'O' '14,50' '3,4' '4,14' 'O' '4,5B' '7,50'\n",
            " '7,50' '3,50']\n",
            "New labels:  [59, 8, 1, 8, 999, 0, 999, 1, 17, 20, 56, 1, 999, 999, 999, 999, 18, 999, 59, 58, 999, 58, 17, 26, 999, 999, 999, 23, 23, 50, 29, 25, 999, 8, 8, 57, 1, 58, 57, 57, 59, 999, 56, 17, 26, 999, 25, 59, 59, 23, 999, 56, 56, 8, 0, 23, 23, 17, 29, 8, 8, 1, 999, 999, 26, 18, 57, 39, 17, 8, 1, 8, 999, 23, 44, 39, 17, 999, 999, 33, 999, 999, 24, 24, 999, 999, 59, 24, 23, 1, 34, 999, 23, 8, 17, 26, 40, 50, 59, 23, 23, 23, 999, 53, 8, 0, 8, 1, 38, 59, 999, 999, 1, 40, 44, 59, 59, 24, 24, 999, 9, 8, 23, 8, 999, 23, 18, 17, 17, 17, 8, 999, 999, 999, 8, 1, 53, 30, 999, 8, 23, 53, 59, 999, 59, 999, 24, 50, 1, 17, 999, 999, 23, 1, 8, 59, 0, 999, 999, 17, 29, 25, 57, 999, 17, 26, 0, 999, 999, 24, 999, 999, 999, 59, 59, 999, 999, 999, 59, 999, 29, 18, 40, 29, 999, 8, 17, 999, 8, 24, 8, 26, 999, 8, 0, 9, 17, 26, 57, 59, 999, 59, 8, 999, 999, 29, 30, 38, 999, 59, 18, 999, 1, 999, 999, 39, 18, 40, 999, 39, 45, 29, 999, 44, 1, 999, 999, 999, 39, 45, 9, 29, 50, 999, 18, 23, 59, 7, 0, 22, 22, 8, 999, 999, 57, 999, 18, 23, 23, 1, 53, 50, 59, 59, 40, 999, 3, 50, 1, 1, 999, 30, 999, 23, 23, 999, 8, 18, 17, 26, 41, 58, 999, 999, 1, 23, 8, 999, 18, 8, 1, 23, 59, 59, 23, 999, 58, 57, 59, 999, 999, 23, 17, 17, 23, 39, 999, 59, 56, 59, 18, 1, 8, 53, 40, 30, 999, 999, 999, 18, 999, 23, 44, 40, 44, 59, 57, 999, 59, 18, 999, 59, 59, 40, 1, 23, 8, 0, 1, 23, 8, 999, 999, 39, 40, 39, 50, 50, 23, 59, 17, 999, 39, 999, 999, 59, 8, 0, 1, 999, 8, 8, 8, 8, 999, 18, 30, 59, 8, 59, 17, 26, 59, 8, 1, 8, 999, 9, 999, 17, 26, 41, 40, 999, 57, 59, 23, 34, 59, 999, 1, 999, 1, 999, 0, 23, 999, 999, 57, 59, 59, 999, 58, 57, 58, 999, 9, 8, 999, 999, 0, 23, 8, 999, 59, 999, 999, 999, 57, 999, 999, 999, 999, 39, 999, 1, 22, 57, 57, 34, 8, 999, 59, 23, 23, 24, 17, 17, 26, 8, 5, 0, 999, 39, 57, 57, 53, 39, 0, 25, 8, 8, 8, 17, 17, 23, 18, 59, 1, 21, 59, 1, 58, 23, 17, 21, 1, 29, 999, 999, 57, 56, 59, 0, 999, 59, 999, 999, 999, 8, 41, 23, 17, 57, 57, 59, 39, 999, 999, 999, 53, 39, 50, 59, 999, 8, 999, 999, 999, 1, 29, 38, 44, 39, 50, 59, 999, 8, 999, 999, 999, 17, 39, 16, 999, 8, 50, 59, 999, 999, 999, 999, 18, 23, 1, 56, 29, 26, 41, 999, 23, 59, 23, 1, 17, 30, 999, 999, 999, 999, 39, 8, 23, 1, 999, 17, 1, 57, 59, 1, 999, 59, 999, 57, 29, 44, 39, 50, 1, 999, 59, 999, 999, 999, 56, 40, 39, 999, 59, 8, 0, 59, 57, 40, 29, 39, 39, 50, 999, 59, 999, 0, 44, 44, 59, 999, 999, 23, 49, 50, 56, 57, 59, 57, 999, 999, 8, 999, 999, 8, 1, 1, 57, 37, 17, 56, 1, 1, 999, 34, 8, 58, 59, 999, 0, 24, 1, 57, 59, 40, 17, 8, 23, 17, 999, 8, 999, 999, 999, 18, 999, 17, 17, 41, 40, 39, 57, 59, 8, 1, 23, 8, 18, 999, 8, 999, 23, 8, 8, 0, 23, 1, 59, 59, 999, 24, 999, 23, 17, 26, 40, 999, 999, 44, 40, 50, 44, 44, 1, 0, 999, 999, 59, 8, 58, 999, 3, 999, 8, 999, 999, 999, 24, 29, 999, 59, 18, 999, 8, 999, 59, 56, 59, 59, 56, 999, 59, 999]\n"
          ],
          "name": "stdout"
        }
      ]
    },
    {
      "cell_type": "code",
      "metadata": {
        "id": "EPDGWq1WHCH6"
      },
      "source": [
        "input_ids_test_valid = [tokenizer.convert_tokens_to_ids(x) for x in tokenized_texts_test_valid]\n",
        "input_ids_test_valid = pad_sequences(input_ids_test_valid, maxlen=MAX_LEN, dtype=\"long\", truncating=\"post\", padding=\"post\")"
      ],
      "execution_count": 64,
      "outputs": []
    },
    {
      "cell_type": "code",
      "metadata": {
        "id": "bwhFVpPrHCAX"
      },
      "source": [
        "attention_masks_test_valid = []\n",
        "\n",
        "for seq in input_ids_test_valid:\n",
        "  seq_mask = [float(i>0) for i in seq]\n",
        "  attention_masks_test_valid.append(seq_mask)"
      ],
      "execution_count": 65,
      "outputs": []
    },
    {
      "cell_type": "code",
      "metadata": {
        "id": "umYINSxdI-yj"
      },
      "source": [
        "prediction_inputs_valid = torch.tensor(input_ids_test_valid)\n",
        "prediction_masks_valid = torch.tensor(attention_masks_test_valid)\n",
        "prediction_labels_valid = torch.tensor(labels_test_valid)\n",
        "\n",
        "prediction_data_valid = TensorDataset(prediction_inputs_valid, prediction_masks_valid, prediction_labels_valid)\n",
        "prediction_sampler_valid = SequentialSampler(prediction_data_valid)\n",
        "prediction_dataloader_valid = DataLoader(prediction_data_valid, sampler=prediction_sampler_valid, batch_size=BATCH_SIZE)"
      ],
      "execution_count": 66,
      "outputs": []
    },
    {
      "cell_type": "code",
      "metadata": {
        "id": "Chf5Q8Df7N1v"
      },
      "source": [
        "model.eval()\n",
        "\n",
        "predictions_test_valid, true_labels_test_valid = [], []\n",
        "\n",
        "# Predict \n",
        "for batch in prediction_dataloader_valid:\n",
        "  # Add batch to GPU\n",
        "  batch = tuple(t.to(device) for t in batch)\n",
        "  # Unpack the inputs from our dataloader\n",
        "  b_input_ids, b_input_mask, b_labels = batch\n",
        "  # Telling the model not to compute or store gradients, saving memory and speeding up prediction\n",
        "  with torch.no_grad():\n",
        "    # Forward pass, calculate logit predictions\n",
        "    logits = model(b_input_ids, token_type_ids=None, attention_mask=b_input_mask)\n",
        "\n",
        "  # Move logits and labels to CPU\n",
        "  logits_test = logits.detach().cpu().numpy()\n",
        "  label_ids_test = b_labels.to('cpu').numpy()\n",
        "  \n",
        "  # Store predictions and true labels\n",
        "  predictions_test_valid.append(logits_test)\n",
        "  true_labels_test_valid.append(label_ids_test)"
      ],
      "execution_count": 67,
      "outputs": []
    },
    {
      "cell_type": "code",
      "metadata": {
        "id": "w2v82SWToac6",
        "outputId": "c0aedbbd-1af5-40de-cce8-955a42c9c6b4",
        "colab": {
          "base_uri": "https://localhost:8080/",
          "height": 547
        }
      },
      "source": [
        "flat_predictions_test_valid = [item for sublist in predictions_test_valid for item in sublist]\n",
        "flat_predictions_test_valid = np.argmax(flat_predictions_test_valid, axis=1).flatten()\n",
        "flat_true_labels_test_valid = [item for sublist in true_labels_test_valid for item in sublist]\n",
        "\n",
        "y_pred_valid = flat_predictions_test_valid\n",
        "y_valid = flat_true_labels_test_valid\n",
        "\n",
        "print(y_pred_valid)\n",
        "print(y_valid)"
      ],
      "execution_count": 68,
      "outputs": [
        {
          "output_type": "stream",
          "text": [
            "[59  8  1  8  8  0  1 23 17  1 59  1 59  8  8 29 18 59 59 58 34 57 17 26\n",
            " 53 59 23 23 23 50 29 18 23  8 34 59 59 58 57 57 59  0 56 17 26 58 17 23\n",
            " 23 23 23 23 56  8  0 23  8 17 23  8  8 17 17 50 26 18 57 45 26  8  1  8\n",
            "  1 23 44 39 24 24 29 59 34 56 24 24 59 59 59 24 23  1 34 38  8 59 17 26\n",
            " 40 50 59 23 23 23 53 59  8  0  8 23 59 59 58  8 23 40 44 59 59 24 24 59\n",
            "  9  8 23  8  8 23 18 23 26 29  8 53 40 23 23 23 53 59 59 23 23 53 59 56\n",
            " 59 23 24 50 23 17 58 56 23  1  1 59  1  8  1 17 26 29 59 59 17 26  0 44\n",
            "  1 24 18 26 44 59 59 58 59 59 59  8 29 18 40 29 17  1 17  8  8 24 23 26\n",
            " 56  8  0  9 17 26 57 59 59 59  1  8 30 29 34 23 58 57 18  8  1 18 50 39\n",
            " 18 40 50 39 50 29  8 44 23 44 40 50 39 50  9 29 50 17 18 23 59  8  0  9\n",
            " 29  8 23 58 57 56 18 23 23  1 53 50 59 59 45 24 34 53  1 26 18 30 59  8\n",
            " 23 26  8 18 17 26 41 58 57  8  1 23  8 23 59  8  1 23 59 59 23 29 58 57\n",
            " 59  8  1 23 17 23 23 39 30 59 56 59 18  1  8 53 40 30 53 56 23 18  1 23\n",
            " 44 40 40 59 57  8 59 18 59 59 59 40  1 23  8  0 23 23  8 58  1 39 40 39\n",
            " 50 50 23 59 17 23 45 23 59 59  8  0 23 34  8  8  8  8 23 18 30 59  8 59\n",
            " 17 26 59  8  1  8  1  9 30 17 26 41 40 50 57 59 23 34 59 56  1 23  1  1\n",
            "  0 23 23 30 57 59 59 59 58 57 58  1  9  8 23 29  0 23  8 34 59 29 56 58\n",
            " 57 56 26 17 40 40 23  1 17 58 59 29  8 40 59  9 59 24 18 17 26  8  1  0\n",
            " 40 39 57 57 53 39  0 26 23  8 23 17 29 23 18 59  1 57 59  1  8 23 17 59\n",
            " 23 29 57 58 57 56 59  0 59 59 18 40 59 23 39 23 26 58 59 59 39 59  8 23\n",
            " 53 39 50 59 59  8  0 17 29  1 29 59 44 39 50 59 59  8  0  9 59 17 39 23\n",
            " 56  8 50 59 56 58 59 59 59 23  1 56 29 26 44 23 23 59 23  1 17 24 29 30\n",
            " 40 44 39 23 23  1 17 17 57 57 59 23 24 59 34 57 29 44 39 50  1 59 59 59\n",
            " 59 59 56 40 39 50 59  8  0 59 57 40 29 40 39 50 57 59 23  0 44 59 59  8\n",
            " 18 23 39 50 59 57 59 57 59 58  8 34 30  8  1  0 57 59 24 56  1  1 30 34\n",
            "  8 56 59 56  0 24  1 57 59 50 26  8 23 24 59 23 23  8 58 18 26 17 17 41\n",
            " 40 39 57 59  8  1 23  8  1  1 23 23 23 23  8  0 23  1 59 59  8 24 56 23\n",
            " 17 26 50 40  8 44 40 50 53  8  1  0 57 38 59  8 58  1  1  8  8 23 17 26\n",
            " 24 29 57 59 18  1  8  1 59 56 59 59 56 56 59 59]\n",
            "[59, 8, 1, 8, 999, 0, 999, 1, 17, 20, 56, 1, 999, 999, 999, 999, 18, 999, 59, 58, 999, 58, 17, 26, 999, 999, 999, 23, 23, 50, 29, 25, 999, 8, 8, 57, 1, 58, 57, 57, 59, 999, 56, 17, 26, 999, 25, 59, 59, 23, 999, 56, 56, 8, 0, 23, 23, 17, 29, 8, 8, 1, 999, 999, 26, 18, 57, 39, 17, 8, 1, 8, 999, 23, 44, 39, 17, 999, 999, 33, 999, 999, 24, 24, 999, 999, 59, 24, 23, 1, 34, 999, 23, 8, 17, 26, 40, 50, 59, 23, 23, 23, 999, 53, 8, 0, 8, 1, 38, 59, 999, 999, 1, 40, 44, 59, 59, 24, 24, 999, 9, 8, 23, 8, 999, 23, 18, 17, 17, 17, 8, 999, 999, 999, 8, 1, 53, 30, 999, 8, 23, 53, 59, 999, 59, 999, 24, 50, 1, 17, 999, 999, 23, 1, 8, 59, 0, 999, 999, 17, 29, 25, 57, 999, 17, 26, 0, 999, 999, 24, 999, 999, 999, 59, 59, 999, 999, 999, 59, 999, 29, 18, 40, 29, 999, 8, 17, 999, 8, 24, 8, 26, 999, 8, 0, 9, 17, 26, 57, 59, 999, 59, 8, 999, 999, 29, 30, 38, 999, 59, 18, 999, 1, 999, 999, 39, 18, 40, 999, 39, 45, 29, 999, 44, 1, 999, 999, 999, 39, 45, 9, 29, 50, 999, 18, 23, 59, 7, 0, 22, 22, 8, 999, 999, 57, 999, 18, 23, 23, 1, 53, 50, 59, 59, 40, 999, 3, 50, 1, 1, 999, 30, 999, 23, 23, 999, 8, 18, 17, 26, 41, 58, 999, 999, 1, 23, 8, 999, 18, 8, 1, 23, 59, 59, 23, 999, 58, 57, 59, 999, 999, 23, 17, 17, 23, 39, 999, 59, 56, 59, 18, 1, 8, 53, 40, 30, 999, 999, 999, 18, 999, 23, 44, 40, 44, 59, 57, 999, 59, 18, 999, 59, 59, 40, 1, 23, 8, 0, 1, 23, 8, 999, 999, 39, 40, 39, 50, 50, 23, 59, 17, 999, 39, 999, 999, 59, 8, 0, 1, 999, 8, 8, 8, 8, 999, 18, 30, 59, 8, 59, 17, 26, 59, 8, 1, 8, 999, 9, 999, 17, 26, 41, 40, 999, 57, 59, 23, 34, 59, 999, 1, 999, 1, 999, 0, 23, 999, 999, 57, 59, 59, 999, 58, 57, 58, 999, 9, 8, 999, 999, 0, 23, 8, 999, 59, 999, 999, 999, 57, 999, 999, 999, 999, 39, 999, 1, 22, 57, 57, 34, 8, 999, 59, 23, 23, 24, 17, 17, 26, 8, 5, 0, 999, 39, 57, 57, 53, 39, 0, 25, 8, 8, 8, 17, 17, 23, 18, 59, 1, 21, 59, 1, 58, 23, 17, 21, 1, 29, 999, 999, 57, 56, 59, 0, 999, 59, 999, 999, 999, 8, 41, 23, 17, 57, 57, 59, 39, 999, 999, 999, 53, 39, 50, 59, 999, 8, 999, 999, 999, 1, 29, 38, 44, 39, 50, 59, 999, 8, 999, 999, 999, 17, 39, 16, 999, 8, 50, 59, 999, 999, 999, 999, 18, 23, 1, 56, 29, 26, 41, 999, 23, 59, 23, 1, 17, 30, 999, 999, 999, 999, 39, 8, 23, 1, 999, 17, 1, 57, 59, 1, 999, 59, 999, 57, 29, 44, 39, 50, 1, 999, 59, 999, 999, 999, 56, 40, 39, 999, 59, 8, 0, 59, 57, 40, 29, 39, 39, 50, 999, 59, 999, 0, 44, 44, 59, 999, 999, 23, 49, 50, 56, 57, 59, 57, 999, 999, 8, 999, 999, 8, 1, 1, 57, 37, 17, 56, 1, 1, 999, 34, 8, 58, 59, 999, 0, 24, 1, 57, 59, 40, 17, 8, 23, 17, 999, 8, 999, 999, 999, 18, 999, 17, 17, 41, 40, 39, 57, 59, 8, 1, 23, 8, 18, 999, 8, 999, 23, 8, 8, 0, 23, 1, 59, 59, 999, 24, 999, 23, 17, 26, 40, 999, 999, 44, 40, 50, 44, 44, 1, 0, 999, 999, 59, 8, 58, 999, 3, 999, 8, 999, 999, 999, 24, 29, 999, 59, 18, 999, 8, 999, 59, 56, 59, 59, 56, 999, 59, 999]\n"
          ],
          "name": "stdout"
        }
      ]
    },
    {
      "cell_type": "markdown",
      "metadata": {
        "id": "bcojJiATJmo1"
      },
      "source": [
        "Extract stats."
      ]
    },
    {
      "cell_type": "code",
      "metadata": {
        "id": "s7w_wefFJls4",
        "outputId": "d7278622-d5a6-409c-c92d-77d01086e6d0",
        "colab": {
          "base_uri": "https://localhost:8080/",
          "height": 802
        }
      },
      "source": [
        "from sklearn.metrics import classification_report\n",
        "valid_class_report = classification_report(y_valid, y_pred_valid)\n",
        "print(valid_class_report)"
      ],
      "execution_count": 69,
      "outputs": [
        {
          "output_type": "stream",
          "text": [
            "              precision    recall  f1-score   support\n",
            "\n",
            "           0       0.82      0.95      0.88        19\n",
            "           1       0.58      0.67      0.62        45\n",
            "           3       0.00      0.00      0.00         2\n",
            "           5       0.00      0.00      0.00         1\n",
            "           7       0.00      0.00      0.00         1\n",
            "           8       0.65      0.77      0.71        64\n",
            "           9       0.62      1.00      0.77         5\n",
            "          16       0.00      0.00      0.00         1\n",
            "          17       0.71      0.67      0.69        36\n",
            "          18       0.70      0.84      0.76        19\n",
            "          20       0.00      0.00      0.00         1\n",
            "          21       0.00      0.00      0.00         2\n",
            "          22       0.00      0.00      0.00         3\n",
            "          23       0.46      0.89      0.61        47\n",
            "          24       0.63      1.00      0.77        12\n",
            "          25       0.00      0.00      0.00         4\n",
            "          26       0.52      1.00      0.68        13\n",
            "          29       0.50      0.86      0.63        14\n",
            "          30       0.30      0.50      0.37         6\n",
            "          33       0.00      0.00      0.00         1\n",
            "          34       0.25      0.75      0.38         4\n",
            "          37       0.00      0.00      0.00         1\n",
            "          38       0.00      0.00      0.00         3\n",
            "          39       0.90      0.82      0.86        22\n",
            "          40       0.54      0.81      0.65        16\n",
            "          41       1.00      0.60      0.75         5\n",
            "          44       0.62      0.67      0.64        12\n",
            "          45       0.00      0.00      0.00         2\n",
            "          49       0.00      0.00      0.00         1\n",
            "          50       0.58      0.93      0.72        15\n",
            "          53       0.50      0.86      0.63         7\n",
            "          56       0.38      0.75      0.50        12\n",
            "          57       0.71      0.79      0.75        28\n",
            "          58       0.33      0.70      0.45        10\n",
            "          59       0.58      0.96      0.72        70\n",
            "         999       0.00      0.00      0.00       184\n",
            "\n",
            "    accuracy                           0.57       688\n",
            "   macro avg       0.36      0.49      0.40       688\n",
            "weighted avg       0.42      0.57      0.48       688\n",
            "\n"
          ],
          "name": "stdout"
        },
        {
          "output_type": "stream",
          "text": [
            "/usr/local/lib/python3.6/dist-packages/sklearn/metrics/_classification.py:1272: UndefinedMetricWarning: Precision and F-score are ill-defined and being set to 0.0 in labels with no predicted samples. Use `zero_division` parameter to control this behavior.\n",
            "  _warn_prf(average, modifier, msg_start, len(result))\n"
          ],
          "name": "stderr"
        }
      ]
    },
    {
      "cell_type": "markdown",
      "metadata": {
        "id": "dmWfDCVnLR35"
      },
      "source": [
        "Extract accuracy of valid relations."
      ]
    },
    {
      "cell_type": "code",
      "metadata": {
        "id": "TxdJyixCn5uC",
        "outputId": "732f98a7-d0f8-431b-9b9d-3b4b4cbfb415",
        "colab": {
          "base_uri": "https://localhost:8080/",
          "height": 85
        }
      },
      "source": [
        "p = 0\n",
        "n = 0\n",
        "for i in range(len(y_pred_valid)):\n",
        "  if y_pred_valid[i] == y_valid[i]:\n",
        "    p += 1\n",
        "  else:\n",
        "    n += 1\n",
        "\n",
        "print(\"Valid guessed correctly:\",p)\n",
        "print(\"Valid guessed incorrectly:\",n)\n",
        "print(\"Total valid:\", p + n)\n",
        "print(\"Valid accuracy:\", p/(p+n))"
      ],
      "execution_count": 70,
      "outputs": [
        {
          "output_type": "stream",
          "text": [
            "Valid guessed correctly: 394\n",
            "Valid guessed incorrectly: 294\n",
            "Total valid: 688\n",
            "Valid accuracy: 0.5726744186046512\n"
          ],
          "name": "stdout"
        }
      ]
    },
    {
      "cell_type": "markdown",
      "metadata": {
        "id": "X7nFrfwiMQNO"
      },
      "source": [
        "Let's recap with the negative and valid classes."
      ]
    },
    {
      "cell_type": "code",
      "metadata": {
        "id": "BdGH0tUFn5qq",
        "outputId": "946426cc-690f-4e43-8197-4dc41c82c516",
        "colab": {
          "base_uri": "https://localhost:8080/",
          "height": 85
        }
      },
      "source": [
        "print(\"Negatives predicted correctly:\", neg_correct)\n",
        "print(\"Negatives predicted incorrectly:\", neg_incorrect)\n",
        "print(\"Total predicted negative:\",num_neg_predict)\n",
        "print(\"Negative accuracy:\", neg_correct/num_neg_predict)"
      ],
      "execution_count": 71,
      "outputs": [
        {
          "output_type": "stream",
          "text": [
            "Negatives predicted correctly: 1302\n",
            "Negatives predicted incorrectly: 89\n",
            "Total predicted negative: 1391\n",
            "Negative accuracy: 0.9360172537742631\n"
          ],
          "name": "stdout"
        }
      ]
    },
    {
      "cell_type": "code",
      "metadata": {
        "id": "E5dv2aeYn5nD",
        "outputId": "f3cc5097-2889-49bc-cb97-fc7f4985de17",
        "colab": {
          "base_uri": "https://localhost:8080/",
          "height": 34
        }
      },
      "source": [
        "# Total accuracy with valid and no relation\n",
        "\n",
        "print((neg_correct+p)/(num_neg_predict+p+n))"
      ],
      "execution_count": 72,
      "outputs": [
        {
          "output_type": "stream",
          "text": [
            "0.8157768157768158\n"
          ],
          "name": "stdout"
        }
      ]
    },
    {
      "cell_type": "markdown",
      "metadata": {
        "id": "iWkdFQarYEiU"
      },
      "source": [
        "Now for the invalid relations."
      ]
    },
    {
      "cell_type": "code",
      "metadata": {
        "id": "LB1nLxH5bv_w",
        "outputId": "d99b9517-6f06-47ff-82ea-ff7a03cdd2e9",
        "colab": {
          "base_uri": "https://localhost:8080/",
          "height": 204
        }
      },
      "source": [
        "# First must edit relations \n",
        "\n",
        "df_valid = df.copy(deep=True)\n",
        "\n",
        "# Going to edit iteratively (lazily)...will fix later.\n",
        "\n",
        "for i, row in df_valid.iterrows():\n",
        "  r = row.relation\n",
        "\n",
        "  if r == 'O': continue\n",
        "  r_split = r.split(\"-\")\n",
        "  r = r_split[1] + \",\" + r_split[2]\n",
        "  df_valid.at[i, \"relation\"] = r\n",
        "  \n",
        "df_valid.head()"
      ],
      "execution_count": 73,
      "outputs": [
        {
          "output_type": "execute_result",
          "data": {
            "text/html": [
              "<div>\n",
              "<style scoped>\n",
              "    .dataframe tbody tr th:only-of-type {\n",
              "        vertical-align: middle;\n",
              "    }\n",
              "\n",
              "    .dataframe tbody tr th {\n",
              "        vertical-align: top;\n",
              "    }\n",
              "\n",
              "    .dataframe thead th {\n",
              "        text-align: right;\n",
              "    }\n",
              "</style>\n",
              "<table border=\"1\" class=\"dataframe\">\n",
              "  <thead>\n",
              "    <tr style=\"text-align: right;\">\n",
              "      <th></th>\n",
              "      <th>essay</th>\n",
              "      <th>relation</th>\n",
              "      <th>s_num</th>\n",
              "      <th>sentence</th>\n",
              "    </tr>\n",
              "  </thead>\n",
              "  <tbody>\n",
              "    <tr>\n",
              "      <th>0</th>\n",
              "      <td>EBA1415_KNKC_1_CB_ES-05410</td>\n",
              "      <td>O</td>\n",
              "      <td>1.0</td>\n",
              "      <td>Coral and zooxanthellae depend an each other i...</td>\n",
              "    </tr>\n",
              "    <tr>\n",
              "      <th>1</th>\n",
              "      <td>EBA1415_KNKC_1_CB_ES-05410</td>\n",
              "      <td>7,50</td>\n",
              "      <td>2.0</td>\n",
              "      <td>If the coral dies, or gets bleached, then the ...</td>\n",
              "    </tr>\n",
              "    <tr>\n",
              "      <th>2</th>\n",
              "      <td>EBA1415_KNKC_1_CB_ES-05410</td>\n",
              "      <td>O</td>\n",
              "      <td>3.0</td>\n",
              "      <td>Or the other way around.</td>\n",
              "    </tr>\n",
              "    <tr>\n",
              "      <th>3</th>\n",
              "      <td>EBA1415_KNKC_1_CB_ES-05410</td>\n",
              "      <td>O</td>\n",
              "      <td>4.0</td>\n",
              "      <td>In the text Shifting Trade Winds, it talks abo...</td>\n",
              "    </tr>\n",
              "    <tr>\n",
              "      <th>4</th>\n",
              "      <td>EBA1415_KNKC_1_CB_ES-05410</td>\n",
              "      <td>3,1</td>\n",
              "      <td>5.0</td>\n",
              "      <td>And another source states how when the water t...</td>\n",
              "    </tr>\n",
              "  </tbody>\n",
              "</table>\n",
              "</div>"
            ],
            "text/plain": [
              "                        essay  ...                                           sentence\n",
              "0  EBA1415_KNKC_1_CB_ES-05410  ...  Coral and zooxanthellae depend an each other i...\n",
              "1  EBA1415_KNKC_1_CB_ES-05410  ...  If the coral dies, or gets bleached, then the ...\n",
              "2  EBA1415_KNKC_1_CB_ES-05410  ...                           Or the other way around.\n",
              "3  EBA1415_KNKC_1_CB_ES-05410  ...  In the text Shifting Trade Winds, it talks abo...\n",
              "4  EBA1415_KNKC_1_CB_ES-05410  ...  And another source states how when the water t...\n",
              "\n",
              "[5 rows x 4 columns]"
            ]
          },
          "metadata": {
            "tags": []
          },
          "execution_count": 73
        }
      ]
    },
    {
      "cell_type": "code",
      "metadata": {
        "id": "I_UgSnj7bwie",
        "outputId": "2f1d76af-d2b3-48a8-e422-e85b2d0d0153",
        "colab": {
          "base_uri": "https://localhost:8080/",
          "height": 824
        }
      },
      "source": [
        "# Now isolate the valid ones\n",
        "\n",
        "df_valid = df_valid[~df_valid['relation'].isin(relations)]\n",
        "df_valid = df_valid[df_valid['relation'] != \"O\"]\n",
        "df_valid.head(25)"
      ],
      "execution_count": 74,
      "outputs": [
        {
          "output_type": "execute_result",
          "data": {
            "text/html": [
              "<div>\n",
              "<style scoped>\n",
              "    .dataframe tbody tr th:only-of-type {\n",
              "        vertical-align: middle;\n",
              "    }\n",
              "\n",
              "    .dataframe tbody tr th {\n",
              "        vertical-align: top;\n",
              "    }\n",
              "\n",
              "    .dataframe thead th {\n",
              "        text-align: right;\n",
              "    }\n",
              "</style>\n",
              "<table border=\"1\" class=\"dataframe\">\n",
              "  <thead>\n",
              "    <tr style=\"text-align: right;\">\n",
              "      <th></th>\n",
              "      <th>essay</th>\n",
              "      <th>relation</th>\n",
              "      <th>s_num</th>\n",
              "      <th>sentence</th>\n",
              "    </tr>\n",
              "  </thead>\n",
              "  <tbody>\n",
              "    <tr>\n",
              "      <th>4</th>\n",
              "      <td>EBA1415_KNKC_1_CB_ES-05410</td>\n",
              "      <td>3,1</td>\n",
              "      <td>5.0</td>\n",
              "      <td>And another source states how when the water t...</td>\n",
              "    </tr>\n",
              "    <tr>\n",
              "      <th>9</th>\n",
              "      <td>EBA1415_KNKC_1_CB_ES-05410</td>\n",
              "      <td>50,7</td>\n",
              "      <td>9.2</td>\n",
              "      <td>Which can affect the coral because if the zoox...</td>\n",
              "    </tr>\n",
              "    <tr>\n",
              "      <th>20</th>\n",
              "      <td>EBA1415post_WSKT_1_CB_ES-05486</td>\n",
              "      <td>3,1</td>\n",
              "      <td>20.0</td>\n",
              "      <td>According to the graph \"Trade Winds + coral Bl...</td>\n",
              "    </tr>\n",
              "    <tr>\n",
              "      <th>178</th>\n",
              "      <td>EBA1415_TRJA_11_CB_ES-06102</td>\n",
              "      <td>3,1</td>\n",
              "      <td>163.0</td>\n",
              "      <td>When the water is at a cold degrees like in th...</td>\n",
              "    </tr>\n",
              "    <tr>\n",
              "      <th>179</th>\n",
              "      <td>EBA1415_TRJA_11_CB_ES-06102</td>\n",
              "      <td>3,2</td>\n",
              "      <td>164.0</td>\n",
              "      <td>If the water is at a near cold degrees like in...</td>\n",
              "    </tr>\n",
              "    <tr>\n",
              "      <th>198</th>\n",
              "      <td>EBA1415post_TWNB_2_CB_ES-04975</td>\n",
              "      <td>6,14</td>\n",
              "      <td>182.2</td>\n",
              "      <td>Coral bleaching is one example of how environm...</td>\n",
              "    </tr>\n",
              "    <tr>\n",
              "      <th>465</th>\n",
              "      <td>EBA1415_SDMK_7_CB_ES-04782</td>\n",
              "      <td>3,1</td>\n",
              "      <td>427.1</td>\n",
              "      <td>In the chart it shows that because the water t...</td>\n",
              "    </tr>\n",
              "    <tr>\n",
              "      <th>474</th>\n",
              "      <td>EBA1415_SDMK_7_CB_ES-04782</td>\n",
              "      <td>6,14</td>\n",
              "      <td>434.2</td>\n",
              "      <td>Coral bleaching is one example of how environm...</td>\n",
              "    </tr>\n",
              "    <tr>\n",
              "      <th>601</th>\n",
              "      <td>EBA1415_TWMD_45_CB_ES-04996</td>\n",
              "      <td>4,3</td>\n",
              "      <td>547.0</td>\n",
              "      <td>But when the amount of CO2 decreases, it effec...</td>\n",
              "    </tr>\n",
              "    <tr>\n",
              "      <th>602</th>\n",
              "      <td>EBA1415_TWMD_45_CB_ES-04996</td>\n",
              "      <td>4,3</td>\n",
              "      <td>548.0</td>\n",
              "      <td>It also threatens the corals balance of water ...</td>\n",
              "    </tr>\n",
              "    <tr>\n",
              "      <th>683</th>\n",
              "      <td>EBA1415_KYNS_4_CB_ES-05389</td>\n",
              "      <td>6,14</td>\n",
              "      <td>617.1</td>\n",
              "      <td>Enviornmental stressors can negatively affect ...</td>\n",
              "    </tr>\n",
              "    <tr>\n",
              "      <th>696</th>\n",
              "      <td>EBA1415_SDLC_2_CB_ES-06283</td>\n",
              "      <td>6,14</td>\n",
              "      <td>626.2</td>\n",
              "      <td>Another factor for coral bleaching is environm...</td>\n",
              "    </tr>\n",
              "    <tr>\n",
              "      <th>728</th>\n",
              "      <td>EBA1415_KNKC_1_CB_ES-05423</td>\n",
              "      <td>11,3</td>\n",
              "      <td>655.2</td>\n",
              "      <td>One cause that makes the coral bleach is extre...</td>\n",
              "    </tr>\n",
              "    <tr>\n",
              "      <th>861</th>\n",
              "      <td>EBA1415_SEKL_2_CB-05697</td>\n",
              "      <td>50,50</td>\n",
              "      <td>779.0</td>\n",
              "      <td>A reason that there are so much differences in...</td>\n",
              "    </tr>\n",
              "    <tr>\n",
              "      <th>871</th>\n",
              "      <td>EBA1415post_TWDG_11_CB_ES-06041</td>\n",
              "      <td>3,1</td>\n",
              "      <td>789.0</td>\n",
              "      <td>When the water temps are high the trade winds ...</td>\n",
              "    </tr>\n",
              "    <tr>\n",
              "      <th>928</th>\n",
              "      <td>EBA1415_SDLC_6_CB_ES-04749</td>\n",
              "      <td>7,13</td>\n",
              "      <td>841.1</td>\n",
              "      <td>This algae can die from the lack of salt in th...</td>\n",
              "    </tr>\n",
              "    <tr>\n",
              "      <th>929</th>\n",
              "      <td>EBA1415_SDLC_6_CB_ES-04749</td>\n",
              "      <td>7,1</td>\n",
              "      <td>841.2</td>\n",
              "      <td>This algae can die from the lack of salt in th...</td>\n",
              "    </tr>\n",
              "    <tr>\n",
              "      <th>963</th>\n",
              "      <td>EBA1415_LRJE_7_CB_ES-05135</td>\n",
              "      <td>3,1</td>\n",
              "      <td>871.1</td>\n",
              "      <td>The higher the water temperatures, the weaker ...</td>\n",
              "    </tr>\n",
              "    <tr>\n",
              "      <th>1166</th>\n",
              "      <td>EBA1415_TFHC_1_CB_ES-05941</td>\n",
              "      <td>4,13</td>\n",
              "      <td>1064.2</td>\n",
              "      <td>(doc.2) This is a problem because \"as watr-tem...</td>\n",
              "    </tr>\n",
              "    <tr>\n",
              "      <th>1168</th>\n",
              "      <td>EBA1415_TFHC_1_CB_ES-05941</td>\n",
              "      <td>4,13</td>\n",
              "      <td>1065.0</td>\n",
              "      <td>This could also decrease salinity, which is al...</td>\n",
              "    </tr>\n",
              "    <tr>\n",
              "      <th>1170</th>\n",
              "      <td>EBA1415_TFHC_1_CB_ES-05941</td>\n",
              "      <td>7,14</td>\n",
              "      <td>1066.2</td>\n",
              "      <td>Increased stress on corals from the enviroment...</td>\n",
              "    </tr>\n",
              "    <tr>\n",
              "      <th>1171</th>\n",
              "      <td>EBA1415_TFHC_1_CB_ES-05941</td>\n",
              "      <td>7,14</td>\n",
              "      <td>1067.0</td>\n",
              "      <td>-(doc 5) this is a mjaor issue because this up...</td>\n",
              "    </tr>\n",
              "    <tr>\n",
              "      <th>1185</th>\n",
              "      <td>EBA1415_SDMK_6_CB-04776</td>\n",
              "      <td>7,14</td>\n",
              "      <td>1078.0</td>\n",
              "      <td>Along with the shifting Trade Winds, the drop ...</td>\n",
              "    </tr>\n",
              "    <tr>\n",
              "      <th>1221</th>\n",
              "      <td>EBA1415_KNKC_3_CB_ES-05606</td>\n",
              "      <td>6,14</td>\n",
              "      <td>1113.1</td>\n",
              "      <td>Environmental stressor can negatively affect t...</td>\n",
              "    </tr>\n",
              "    <tr>\n",
              "      <th>1286</th>\n",
              "      <td>EBA1415_TRJB_1_CB_ES-5014</td>\n",
              "      <td>6,14</td>\n",
              "      <td>1175.2</td>\n",
              "      <td>Coral bleaching is one example of how environm...</td>\n",
              "    </tr>\n",
              "  </tbody>\n",
              "</table>\n",
              "</div>"
            ],
            "text/plain": [
              "                                essay  ...                                           sentence\n",
              "4          EBA1415_KNKC_1_CB_ES-05410  ...  And another source states how when the water t...\n",
              "9          EBA1415_KNKC_1_CB_ES-05410  ...  Which can affect the coral because if the zoox...\n",
              "20     EBA1415post_WSKT_1_CB_ES-05486  ...  According to the graph \"Trade Winds + coral Bl...\n",
              "178       EBA1415_TRJA_11_CB_ES-06102  ...  When the water is at a cold degrees like in th...\n",
              "179       EBA1415_TRJA_11_CB_ES-06102  ...  If the water is at a near cold degrees like in...\n",
              "198    EBA1415post_TWNB_2_CB_ES-04975  ...  Coral bleaching is one example of how environm...\n",
              "465        EBA1415_SDMK_7_CB_ES-04782  ...  In the chart it shows that because the water t...\n",
              "474        EBA1415_SDMK_7_CB_ES-04782  ...  Coral bleaching is one example of how environm...\n",
              "601       EBA1415_TWMD_45_CB_ES-04996  ...  But when the amount of CO2 decreases, it effec...\n",
              "602       EBA1415_TWMD_45_CB_ES-04996  ...  It also threatens the corals balance of water ...\n",
              "683        EBA1415_KYNS_4_CB_ES-05389  ...  Enviornmental stressors can negatively affect ...\n",
              "696        EBA1415_SDLC_2_CB_ES-06283  ...  Another factor for coral bleaching is environm...\n",
              "728        EBA1415_KNKC_1_CB_ES-05423  ...  One cause that makes the coral bleach is extre...\n",
              "861           EBA1415_SEKL_2_CB-05697  ...  A reason that there are so much differences in...\n",
              "871   EBA1415post_TWDG_11_CB_ES-06041  ...  When the water temps are high the trade winds ...\n",
              "928        EBA1415_SDLC_6_CB_ES-04749  ...  This algae can die from the lack of salt in th...\n",
              "929        EBA1415_SDLC_6_CB_ES-04749  ...  This algae can die from the lack of salt in th...\n",
              "963        EBA1415_LRJE_7_CB_ES-05135  ...  The higher the water temperatures, the weaker ...\n",
              "1166       EBA1415_TFHC_1_CB_ES-05941  ...  (doc.2) This is a problem because \"as watr-tem...\n",
              "1168       EBA1415_TFHC_1_CB_ES-05941  ...  This could also decrease salinity, which is al...\n",
              "1170       EBA1415_TFHC_1_CB_ES-05941  ...  Increased stress on corals from the enviroment...\n",
              "1171       EBA1415_TFHC_1_CB_ES-05941  ...  -(doc 5) this is a mjaor issue because this up...\n",
              "1185          EBA1415_SDMK_6_CB-04776  ...  Along with the shifting Trade Winds, the drop ...\n",
              "1221       EBA1415_KNKC_3_CB_ES-05606  ...  Environmental stressor can negatively affect t...\n",
              "1286        EBA1415_TRJB_1_CB_ES-5014  ...  Coral bleaching is one example of how environm...\n",
              "\n",
              "[25 rows x 4 columns]"
            ]
          },
          "metadata": {
            "tags": []
          },
          "execution_count": 74
        }
      ]
    },
    {
      "cell_type": "code",
      "metadata": {
        "id": "-iD4-6f7bwyL"
      },
      "source": [
        "# Create sentence and label lists\n",
        "sentences = df_valid.sentence.values\n",
        "\n",
        "# Add special tokens at the beginning and end of each sentence to comply with BERT\n",
        "sentences = [\"[CLS] \" + sentence + \" [SEP]\" for sentence in sentences]\n",
        "labels = df_valid.relation.values"
      ],
      "execution_count": 75,
      "outputs": []
    },
    {
      "cell_type": "code",
      "metadata": {
        "id": "zlYQ00oWbwsl",
        "outputId": "d833f9a3-4ad0-4962-9c99-3af5369472d2",
        "colab": {
          "base_uri": "https://localhost:8080/",
          "height": 54
        }
      },
      "source": [
        "# Now that our [CLS] and [SEP] tokens are in place, we are ready for tokenization\n",
        "tokenizer = BertTokenizer.from_pretrained('bert-base-uncased', do_lower_case=True)\n",
        "tokenized_texts = [tokenizer.tokenize(sent) for sent in sentences]\n",
        "print (\"First sentence tokenized: \",tokenized_texts[0])"
      ],
      "execution_count": 76,
      "outputs": [
        {
          "output_type": "stream",
          "text": [
            "First sentence tokenized:  ['[CLS]', 'and', 'another', 'source', 'states', 'how', 'when', 'the', 'water', 'temperature', 'rises', ',', 'the', 'trade', 'winds', 'weaken', '.', '[SEP]']\n"
          ],
          "name": "stdout"
        }
      ]
    },
    {
      "cell_type": "code",
      "metadata": {
        "id": "2i51bkv2bwpW",
        "outputId": "b1e7b501-bf38-4f3a-fe83-dcce3a336d24",
        "colab": {
          "base_uri": "https://localhost:8080/",
          "height": 34
        }
      },
      "source": [
        "'''\n",
        "For each tokenized input sentence, we need to create:\n",
        "\n",
        "1. input ids:\n",
        "    a sequence of integers identifying each input token to its index number \n",
        "    in the BERT tokenizer vocabulary\n",
        "\n",
        "2. segment mask: (optional) a sequence of 1s and 0s used to identify whether the input is one \n",
        "    sentence or two sentences long. For one sentence inputs, this is simply a sequence of 0s. \n",
        "    For two sentence inputs, there is a 0 for each token of the first sentence, followed by a \n",
        "    1 for each token of the second sentence\n",
        "\n",
        "3. attention mask: (optional) \n",
        "    a sequence of 1s and 0s, with 1s for all input tokens and 0s for all padding tokens \n",
        "\n",
        "4. labels: based on the labels from the data set\n",
        "'''\n",
        "\n",
        "# For now, we will simply delete the tokenized_texts greater than MAX_LEN.\n",
        "\n",
        "# We need to strip out the sentences greater than MAX_LEN tokens\n",
        "original_length = len(tokenized_texts)\n",
        "\n",
        "labels = [labels[i] for i in range(len(tokenized_texts)) if len(tokenized_texts[i]) <= MAX_LEN]\n",
        "tokenized_texts = [tokenized_texts[i] for i in range(len(tokenized_texts)) if len(tokenized_texts[i]) <= MAX_LEN]\n",
        "print(\"Removed {0} sentences greater than {1}\".format(original_length - len(tokenized_texts),MAX_LEN))"
      ],
      "execution_count": 77,
      "outputs": [
        {
          "output_type": "stream",
          "text": [
            "Removed 3 sentences greater than 128\n"
          ],
          "name": "stdout"
        }
      ]
    },
    {
      "cell_type": "code",
      "metadata": {
        "id": "6zm8c-QsdhIX"
      },
      "source": [
        "# Use the BERT tokenizer to convert the tokens to their index numbers in the BERT vocabulary\n",
        "input_ids = [tokenizer.convert_tokens_to_ids(x) for x in tokenized_texts]"
      ],
      "execution_count": 78,
      "outputs": []
    },
    {
      "cell_type": "code",
      "metadata": {
        "id": "tGI5o9GldhTn"
      },
      "source": [
        "# Pad our input tokens\n",
        "input_ids = pad_sequences(input_ids, maxlen=MAX_LEN, dtype=\"long\", truncating=\"post\", padding=\"post\")"
      ],
      "execution_count": 79,
      "outputs": []
    },
    {
      "cell_type": "code",
      "metadata": {
        "id": "7MnDtCQddhj8"
      },
      "source": [
        "# Create attention masks\n",
        "attention_masks = []\n",
        "\n",
        "# Create a mask of 1s for each token followed by 0s for padding\n",
        "for seq in input_ids:\n",
        "  seq_mask = [float(i>0) for i in seq]\n",
        "  attention_masks.append(seq_mask)"
      ],
      "execution_count": 80,
      "outputs": []
    },
    {
      "cell_type": "code",
      "metadata": {
        "id": "hcao4S31d3m5",
        "outputId": "fd9b8e50-ec4e-41a0-a300-9143ca3d9e73",
        "colab": {
          "base_uri": "https://localhost:8080/",
          "height": 71
        }
      },
      "source": [
        "# At this point we must convert our labels from strings to ints (required for tensorization)\n",
        "\n",
        "# First we are going to create an array of all possible labels\n",
        "label_types_invalid = {}\n",
        "for i in range(len(labels)):\n",
        "  if labels[i] not in label_types_invalid:\n",
        "    label_types_invalid.update({labels[i] : len(label_types_invalid)})\n",
        "print(\"Total labels_types: {0}\\nLabels: {1}\".format(len(label_types_invalid),str(label_types_invalid)))"
      ],
      "execution_count": 81,
      "outputs": [
        {
          "output_type": "stream",
          "text": [
            "Total labels_types: 38\n",
            "Labels: {'3,1': 0, '50,7': 1, '3,2': 2, '6,14': 3, '4,3': 4, '11,3': 5, '50,50': 6, '7,13': 7, '7,1': 8, '4,13': 9, '7,14': 10, '50,1': 11, '14,11': 12, '7,5B': 13, '50,3': 14, '11,11': 15, '12,11': 16, '13,11': 17, '12,5B': 18, '5,4': 19, 'OTHER,13': 20, '11,OTHER': 21, '3,13': 22, '13,12': 23, '1,11': 24, '7,5': 25, '1,13': 26, '5,13': 27, '5B,5': 28, '11,1': 29, '5,3': 30, '4,11': 31, '11,4': 32, '2,1': 33, '6,5B': 34, '13,4': 35, '7,6': 36, '13,5': 37}\n"
          ],
          "name": "stdout"
        }
      ]
    },
    {
      "cell_type": "code",
      "metadata": {
        "id": "qQ5j-mF6dhgR",
        "outputId": "b4ac71bb-9e87-4362-8653-0381fdefca15",
        "colab": {
          "base_uri": "https://localhost:8080/",
          "height": 71
        }
      },
      "source": [
        "# Now map each label to its corresponding integer\n",
        "print(\"Old labels: \",str(labels))\n",
        "labels = [label_types_invalid[l] if l in label_types_invalid else 999 for l in labels]\n",
        "print(\"New labels: \",str(labels))"
      ],
      "execution_count": 82,
      "outputs": [
        {
          "output_type": "stream",
          "text": [
            "Old labels:  ['3,1', '50,7', '3,1', '3,1', '3,2', '6,14', '3,1', '6,14', '4,3', '4,3', '6,14', '6,14', '11,3', '50,50', '3,1', '7,13', '7,1', '3,1', '4,13', '4,13', '7,14', '7,14', '7,14', '6,14', '6,14', '50,50', '50,1', '3,1', '6,14', '50,50', '50,7', '14,11', '14,11', '6,14', '6,14', '7,5B', '7,5B', '6,14', '50,3', '4,3', '11,11', '12,11', '13,11', '6,14', '3,1', '3,1', '12,5B', '5,4', '13,11', '13,11', 'OTHER,13', '11,OTHER', '11,OTHER', 'OTHER,13', '7,5B', '6,14', '50,3', '50,3', '3,13', '13,12', '1,11', '7,14', '7,5', '6,14', '6,14', '11,3', '6,14', '7,5B', '1,13', '5,13', '6,14', '6,14', '6,14', '6,14', '4,3', '3,1', '5B,5', '6,14', '5B,5', '6,14', '6,14', '6,14', '3,1', '6,14', '3,1', '3,1', '7,5B', '50,7', '50,7', '50,1', '4,13', '6,14', '11,1', '11,1', '11,3', '6,14', '6,14', '3,13', '3,13', '6,14', '3,13', '6,14', '6,14', '6,14', '6,14', '6,14', '5,3', '6,14', '6,14', '6,14', '7,5B', '50,1', '5B,5', '6,14', '11,3', '13,12', '6,14', '6,14', '4,11', '11,4', '2,1', '6,5B', '13,4', '6,14', '11,4', '1,13', '5B,5', '50,50', '11,3', '7,6', '7,6', '6,14', '50,3', '13,5', '50,7', '6,14', '6,14', '3,1', '13,12', '50,7', '6,14']\n",
            "New labels:  [0, 1, 0, 0, 2, 3, 0, 3, 4, 4, 3, 3, 5, 6, 0, 7, 8, 0, 9, 9, 10, 10, 10, 3, 3, 6, 11, 0, 3, 6, 1, 12, 12, 3, 3, 13, 13, 3, 14, 4, 15, 16, 17, 3, 0, 0, 18, 19, 17, 17, 20, 21, 21, 20, 13, 3, 14, 14, 22, 23, 24, 10, 25, 3, 3, 5, 3, 13, 26, 27, 3, 3, 3, 3, 4, 0, 28, 3, 28, 3, 3, 3, 0, 3, 0, 0, 13, 1, 1, 11, 9, 3, 29, 29, 5, 3, 3, 22, 22, 3, 22, 3, 3, 3, 3, 3, 30, 3, 3, 3, 13, 11, 28, 3, 5, 23, 3, 3, 31, 32, 33, 34, 35, 3, 32, 26, 28, 6, 5, 36, 36, 3, 14, 37, 1, 3, 3, 0, 23, 1, 3]\n"
          ],
          "name": "stdout"
        }
      ]
    },
    {
      "cell_type": "code",
      "metadata": {
        "id": "HVcvhjFNeVCX"
      },
      "source": [
        "# Use train_test_split to split our data into train and validation sets for training\n",
        "\n",
        "train_inputs, validation_inputs, train_labels, validation_labels = train_test_split(input_ids, labels, \n",
        "                                                            random_state=2018, test_size=0.1)\n",
        "train_masks, validation_masks, _, _ = train_test_split(attention_masks, input_ids,\n",
        "                                             random_state=2018, test_size=0.1)"
      ],
      "execution_count": 83,
      "outputs": []
    },
    {
      "cell_type": "code",
      "metadata": {
        "id": "eJu4Ab0Gdhc0"
      },
      "source": [
        "# Convert all of our data into torch tensors, the required datatype for our model\n",
        "\n",
        "train_inputs = torch.tensor(train_inputs)\n",
        "validation_inputs = torch.tensor(validation_inputs)\n",
        "train_labels = torch.tensor(train_labels)\n",
        "validation_labels = torch.tensor(validation_labels)\n",
        "train_masks = torch.tensor(train_masks)\n",
        "validation_masks = torch.tensor(validation_masks)"
      ],
      "execution_count": 84,
      "outputs": []
    },
    {
      "cell_type": "code",
      "metadata": {
        "id": "9wE8R6nNehby"
      },
      "source": [
        "# Create an iterator of our data with torch DataLoader. This helps save on memory during training because, unlike a for loop, \n",
        "# with an iterator the entire dataset does not need to be loaded into memory\n",
        "\n",
        "train_data = TensorDataset(train_inputs, train_masks, train_labels)\n",
        "train_sampler = RandomSampler(train_data)\n",
        "train_dataloader = DataLoader(train_data, sampler=train_sampler, batch_size=BATCH_SIZE)\n",
        "\n",
        "validation_data = TensorDataset(validation_inputs, validation_masks, validation_labels)\n",
        "validation_sampler = SequentialSampler(validation_data)\n",
        "validation_dataloader = DataLoader(validation_data, sampler=validation_sampler, batch_size=BATCH_SIZE)"
      ],
      "execution_count": 85,
      "outputs": []
    },
    {
      "cell_type": "code",
      "metadata": {
        "id": "x7PTr8LVehlr",
        "outputId": "383c4036-b5bb-4db6-a039-920206744dd6",
        "colab": {
          "base_uri": "https://localhost:8080/",
          "height": 1000
        }
      },
      "source": [
        "# This is where the fine-tuning comes in. We must train the model for our specific task.\n",
        "\n",
        "# We will first modify pre-trained BERT for our specific task, then continue training on our data until the entire model\n",
        "#   is well-suited for our task.\n",
        "\n",
        "model = BertForSequenceClassification.from_pretrained(\"bert-base-uncased\", num_labels=len(labels))\n",
        "model.cuda()"
      ],
      "execution_count": 86,
      "outputs": [
        {
          "output_type": "execute_result",
          "data": {
            "text/plain": [
              "BertForSequenceClassification(\n",
              "  (bert): BertModel(\n",
              "    (embeddings): BertEmbeddings(\n",
              "      (word_embeddings): Embedding(30522, 768, padding_idx=0)\n",
              "      (position_embeddings): Embedding(512, 768)\n",
              "      (token_type_embeddings): Embedding(2, 768)\n",
              "      (LayerNorm): BertLayerNorm()\n",
              "      (dropout): Dropout(p=0.1, inplace=False)\n",
              "    )\n",
              "    (encoder): BertEncoder(\n",
              "      (layer): ModuleList(\n",
              "        (0): BertLayer(\n",
              "          (attention): BertAttention(\n",
              "            (self): BertSelfAttention(\n",
              "              (query): Linear(in_features=768, out_features=768, bias=True)\n",
              "              (key): Linear(in_features=768, out_features=768, bias=True)\n",
              "              (value): Linear(in_features=768, out_features=768, bias=True)\n",
              "              (dropout): Dropout(p=0.1, inplace=False)\n",
              "            )\n",
              "            (output): BertSelfOutput(\n",
              "              (dense): Linear(in_features=768, out_features=768, bias=True)\n",
              "              (LayerNorm): BertLayerNorm()\n",
              "              (dropout): Dropout(p=0.1, inplace=False)\n",
              "            )\n",
              "          )\n",
              "          (intermediate): BertIntermediate(\n",
              "            (dense): Linear(in_features=768, out_features=3072, bias=True)\n",
              "          )\n",
              "          (output): BertOutput(\n",
              "            (dense): Linear(in_features=3072, out_features=768, bias=True)\n",
              "            (LayerNorm): BertLayerNorm()\n",
              "            (dropout): Dropout(p=0.1, inplace=False)\n",
              "          )\n",
              "        )\n",
              "        (1): BertLayer(\n",
              "          (attention): BertAttention(\n",
              "            (self): BertSelfAttention(\n",
              "              (query): Linear(in_features=768, out_features=768, bias=True)\n",
              "              (key): Linear(in_features=768, out_features=768, bias=True)\n",
              "              (value): Linear(in_features=768, out_features=768, bias=True)\n",
              "              (dropout): Dropout(p=0.1, inplace=False)\n",
              "            )\n",
              "            (output): BertSelfOutput(\n",
              "              (dense): Linear(in_features=768, out_features=768, bias=True)\n",
              "              (LayerNorm): BertLayerNorm()\n",
              "              (dropout): Dropout(p=0.1, inplace=False)\n",
              "            )\n",
              "          )\n",
              "          (intermediate): BertIntermediate(\n",
              "            (dense): Linear(in_features=768, out_features=3072, bias=True)\n",
              "          )\n",
              "          (output): BertOutput(\n",
              "            (dense): Linear(in_features=3072, out_features=768, bias=True)\n",
              "            (LayerNorm): BertLayerNorm()\n",
              "            (dropout): Dropout(p=0.1, inplace=False)\n",
              "          )\n",
              "        )\n",
              "        (2): BertLayer(\n",
              "          (attention): BertAttention(\n",
              "            (self): BertSelfAttention(\n",
              "              (query): Linear(in_features=768, out_features=768, bias=True)\n",
              "              (key): Linear(in_features=768, out_features=768, bias=True)\n",
              "              (value): Linear(in_features=768, out_features=768, bias=True)\n",
              "              (dropout): Dropout(p=0.1, inplace=False)\n",
              "            )\n",
              "            (output): BertSelfOutput(\n",
              "              (dense): Linear(in_features=768, out_features=768, bias=True)\n",
              "              (LayerNorm): BertLayerNorm()\n",
              "              (dropout): Dropout(p=0.1, inplace=False)\n",
              "            )\n",
              "          )\n",
              "          (intermediate): BertIntermediate(\n",
              "            (dense): Linear(in_features=768, out_features=3072, bias=True)\n",
              "          )\n",
              "          (output): BertOutput(\n",
              "            (dense): Linear(in_features=3072, out_features=768, bias=True)\n",
              "            (LayerNorm): BertLayerNorm()\n",
              "            (dropout): Dropout(p=0.1, inplace=False)\n",
              "          )\n",
              "        )\n",
              "        (3): BertLayer(\n",
              "          (attention): BertAttention(\n",
              "            (self): BertSelfAttention(\n",
              "              (query): Linear(in_features=768, out_features=768, bias=True)\n",
              "              (key): Linear(in_features=768, out_features=768, bias=True)\n",
              "              (value): Linear(in_features=768, out_features=768, bias=True)\n",
              "              (dropout): Dropout(p=0.1, inplace=False)\n",
              "            )\n",
              "            (output): BertSelfOutput(\n",
              "              (dense): Linear(in_features=768, out_features=768, bias=True)\n",
              "              (LayerNorm): BertLayerNorm()\n",
              "              (dropout): Dropout(p=0.1, inplace=False)\n",
              "            )\n",
              "          )\n",
              "          (intermediate): BertIntermediate(\n",
              "            (dense): Linear(in_features=768, out_features=3072, bias=True)\n",
              "          )\n",
              "          (output): BertOutput(\n",
              "            (dense): Linear(in_features=3072, out_features=768, bias=True)\n",
              "            (LayerNorm): BertLayerNorm()\n",
              "            (dropout): Dropout(p=0.1, inplace=False)\n",
              "          )\n",
              "        )\n",
              "        (4): BertLayer(\n",
              "          (attention): BertAttention(\n",
              "            (self): BertSelfAttention(\n",
              "              (query): Linear(in_features=768, out_features=768, bias=True)\n",
              "              (key): Linear(in_features=768, out_features=768, bias=True)\n",
              "              (value): Linear(in_features=768, out_features=768, bias=True)\n",
              "              (dropout): Dropout(p=0.1, inplace=False)\n",
              "            )\n",
              "            (output): BertSelfOutput(\n",
              "              (dense): Linear(in_features=768, out_features=768, bias=True)\n",
              "              (LayerNorm): BertLayerNorm()\n",
              "              (dropout): Dropout(p=0.1, inplace=False)\n",
              "            )\n",
              "          )\n",
              "          (intermediate): BertIntermediate(\n",
              "            (dense): Linear(in_features=768, out_features=3072, bias=True)\n",
              "          )\n",
              "          (output): BertOutput(\n",
              "            (dense): Linear(in_features=3072, out_features=768, bias=True)\n",
              "            (LayerNorm): BertLayerNorm()\n",
              "            (dropout): Dropout(p=0.1, inplace=False)\n",
              "          )\n",
              "        )\n",
              "        (5): BertLayer(\n",
              "          (attention): BertAttention(\n",
              "            (self): BertSelfAttention(\n",
              "              (query): Linear(in_features=768, out_features=768, bias=True)\n",
              "              (key): Linear(in_features=768, out_features=768, bias=True)\n",
              "              (value): Linear(in_features=768, out_features=768, bias=True)\n",
              "              (dropout): Dropout(p=0.1, inplace=False)\n",
              "            )\n",
              "            (output): BertSelfOutput(\n",
              "              (dense): Linear(in_features=768, out_features=768, bias=True)\n",
              "              (LayerNorm): BertLayerNorm()\n",
              "              (dropout): Dropout(p=0.1, inplace=False)\n",
              "            )\n",
              "          )\n",
              "          (intermediate): BertIntermediate(\n",
              "            (dense): Linear(in_features=768, out_features=3072, bias=True)\n",
              "          )\n",
              "          (output): BertOutput(\n",
              "            (dense): Linear(in_features=3072, out_features=768, bias=True)\n",
              "            (LayerNorm): BertLayerNorm()\n",
              "            (dropout): Dropout(p=0.1, inplace=False)\n",
              "          )\n",
              "        )\n",
              "        (6): BertLayer(\n",
              "          (attention): BertAttention(\n",
              "            (self): BertSelfAttention(\n",
              "              (query): Linear(in_features=768, out_features=768, bias=True)\n",
              "              (key): Linear(in_features=768, out_features=768, bias=True)\n",
              "              (value): Linear(in_features=768, out_features=768, bias=True)\n",
              "              (dropout): Dropout(p=0.1, inplace=False)\n",
              "            )\n",
              "            (output): BertSelfOutput(\n",
              "              (dense): Linear(in_features=768, out_features=768, bias=True)\n",
              "              (LayerNorm): BertLayerNorm()\n",
              "              (dropout): Dropout(p=0.1, inplace=False)\n",
              "            )\n",
              "          )\n",
              "          (intermediate): BertIntermediate(\n",
              "            (dense): Linear(in_features=768, out_features=3072, bias=True)\n",
              "          )\n",
              "          (output): BertOutput(\n",
              "            (dense): Linear(in_features=3072, out_features=768, bias=True)\n",
              "            (LayerNorm): BertLayerNorm()\n",
              "            (dropout): Dropout(p=0.1, inplace=False)\n",
              "          )\n",
              "        )\n",
              "        (7): BertLayer(\n",
              "          (attention): BertAttention(\n",
              "            (self): BertSelfAttention(\n",
              "              (query): Linear(in_features=768, out_features=768, bias=True)\n",
              "              (key): Linear(in_features=768, out_features=768, bias=True)\n",
              "              (value): Linear(in_features=768, out_features=768, bias=True)\n",
              "              (dropout): Dropout(p=0.1, inplace=False)\n",
              "            )\n",
              "            (output): BertSelfOutput(\n",
              "              (dense): Linear(in_features=768, out_features=768, bias=True)\n",
              "              (LayerNorm): BertLayerNorm()\n",
              "              (dropout): Dropout(p=0.1, inplace=False)\n",
              "            )\n",
              "          )\n",
              "          (intermediate): BertIntermediate(\n",
              "            (dense): Linear(in_features=768, out_features=3072, bias=True)\n",
              "          )\n",
              "          (output): BertOutput(\n",
              "            (dense): Linear(in_features=3072, out_features=768, bias=True)\n",
              "            (LayerNorm): BertLayerNorm()\n",
              "            (dropout): Dropout(p=0.1, inplace=False)\n",
              "          )\n",
              "        )\n",
              "        (8): BertLayer(\n",
              "          (attention): BertAttention(\n",
              "            (self): BertSelfAttention(\n",
              "              (query): Linear(in_features=768, out_features=768, bias=True)\n",
              "              (key): Linear(in_features=768, out_features=768, bias=True)\n",
              "              (value): Linear(in_features=768, out_features=768, bias=True)\n",
              "              (dropout): Dropout(p=0.1, inplace=False)\n",
              "            )\n",
              "            (output): BertSelfOutput(\n",
              "              (dense): Linear(in_features=768, out_features=768, bias=True)\n",
              "              (LayerNorm): BertLayerNorm()\n",
              "              (dropout): Dropout(p=0.1, inplace=False)\n",
              "            )\n",
              "          )\n",
              "          (intermediate): BertIntermediate(\n",
              "            (dense): Linear(in_features=768, out_features=3072, bias=True)\n",
              "          )\n",
              "          (output): BertOutput(\n",
              "            (dense): Linear(in_features=3072, out_features=768, bias=True)\n",
              "            (LayerNorm): BertLayerNorm()\n",
              "            (dropout): Dropout(p=0.1, inplace=False)\n",
              "          )\n",
              "        )\n",
              "        (9): BertLayer(\n",
              "          (attention): BertAttention(\n",
              "            (self): BertSelfAttention(\n",
              "              (query): Linear(in_features=768, out_features=768, bias=True)\n",
              "              (key): Linear(in_features=768, out_features=768, bias=True)\n",
              "              (value): Linear(in_features=768, out_features=768, bias=True)\n",
              "              (dropout): Dropout(p=0.1, inplace=False)\n",
              "            )\n",
              "            (output): BertSelfOutput(\n",
              "              (dense): Linear(in_features=768, out_features=768, bias=True)\n",
              "              (LayerNorm): BertLayerNorm()\n",
              "              (dropout): Dropout(p=0.1, inplace=False)\n",
              "            )\n",
              "          )\n",
              "          (intermediate): BertIntermediate(\n",
              "            (dense): Linear(in_features=768, out_features=3072, bias=True)\n",
              "          )\n",
              "          (output): BertOutput(\n",
              "            (dense): Linear(in_features=3072, out_features=768, bias=True)\n",
              "            (LayerNorm): BertLayerNorm()\n",
              "            (dropout): Dropout(p=0.1, inplace=False)\n",
              "          )\n",
              "        )\n",
              "        (10): BertLayer(\n",
              "          (attention): BertAttention(\n",
              "            (self): BertSelfAttention(\n",
              "              (query): Linear(in_features=768, out_features=768, bias=True)\n",
              "              (key): Linear(in_features=768, out_features=768, bias=True)\n",
              "              (value): Linear(in_features=768, out_features=768, bias=True)\n",
              "              (dropout): Dropout(p=0.1, inplace=False)\n",
              "            )\n",
              "            (output): BertSelfOutput(\n",
              "              (dense): Linear(in_features=768, out_features=768, bias=True)\n",
              "              (LayerNorm): BertLayerNorm()\n",
              "              (dropout): Dropout(p=0.1, inplace=False)\n",
              "            )\n",
              "          )\n",
              "          (intermediate): BertIntermediate(\n",
              "            (dense): Linear(in_features=768, out_features=3072, bias=True)\n",
              "          )\n",
              "          (output): BertOutput(\n",
              "            (dense): Linear(in_features=3072, out_features=768, bias=True)\n",
              "            (LayerNorm): BertLayerNorm()\n",
              "            (dropout): Dropout(p=0.1, inplace=False)\n",
              "          )\n",
              "        )\n",
              "        (11): BertLayer(\n",
              "          (attention): BertAttention(\n",
              "            (self): BertSelfAttention(\n",
              "              (query): Linear(in_features=768, out_features=768, bias=True)\n",
              "              (key): Linear(in_features=768, out_features=768, bias=True)\n",
              "              (value): Linear(in_features=768, out_features=768, bias=True)\n",
              "              (dropout): Dropout(p=0.1, inplace=False)\n",
              "            )\n",
              "            (output): BertSelfOutput(\n",
              "              (dense): Linear(in_features=768, out_features=768, bias=True)\n",
              "              (LayerNorm): BertLayerNorm()\n",
              "              (dropout): Dropout(p=0.1, inplace=False)\n",
              "            )\n",
              "          )\n",
              "          (intermediate): BertIntermediate(\n",
              "            (dense): Linear(in_features=768, out_features=3072, bias=True)\n",
              "          )\n",
              "          (output): BertOutput(\n",
              "            (dense): Linear(in_features=3072, out_features=768, bias=True)\n",
              "            (LayerNorm): BertLayerNorm()\n",
              "            (dropout): Dropout(p=0.1, inplace=False)\n",
              "          )\n",
              "        )\n",
              "      )\n",
              "    )\n",
              "    (pooler): BertPooler(\n",
              "      (dense): Linear(in_features=768, out_features=768, bias=True)\n",
              "      (activation): Tanh()\n",
              "    )\n",
              "  )\n",
              "  (dropout): Dropout(p=0.1, inplace=False)\n",
              "  (classifier): Linear(in_features=768, out_features=141, bias=True)\n",
              ")"
            ]
          },
          "metadata": {
            "tags": []
          },
          "execution_count": 86
        }
      ]
    },
    {
      "cell_type": "code",
      "metadata": {
        "id": "Fi_AIorWehv0"
      },
      "source": [
        "'''\n",
        "Now that we have our model loaded we need to grab the training hyperparameters from within the stored model.\n",
        "\n",
        "For the purposes of fine-tuning, the authors recommend the following hyperparameter ranges:\n",
        "\n",
        "Batch size: 16, 32\n",
        "Learning rate (Adam): 5e-5, 3e-5, 2e-5\n",
        "Number of epochs: 2, 3, 4\n",
        "'''\n",
        "\n",
        "param_optimizer = list(model.named_parameters())\n",
        "no_decay = ['bias', 'gamma', 'beta']\n",
        "optimizer_grouped_parameters = [\n",
        "    {'params': [p for n, p in param_optimizer if not any(nd in n for nd in no_decay)],\n",
        "     'weight_decay_rate': 0.01},\n",
        "    {'params': [p for n, p in param_optimizer if any(nd in n for nd in no_decay)],\n",
        "     'weight_decay_rate': 0.0}\n",
        "]"
      ],
      "execution_count": 87,
      "outputs": []
    },
    {
      "cell_type": "code",
      "metadata": {
        "id": "8Yx_qyEzeh5Y",
        "outputId": "e304b130-3cd2-4a56-fb3e-4fc7c33546a4",
        "colab": {
          "base_uri": "https://localhost:8080/",
          "height": 34
        }
      },
      "source": [
        "optimizer = BertAdam(optimizer_grouped_parameters,\n",
        "                     lr=LEARNING_RATE,\n",
        "                     warmup=WARMUP)"
      ],
      "execution_count": 88,
      "outputs": [
        {
          "output_type": "stream",
          "text": [
            "t_total value of -1 results in schedule not being applied\n"
          ],
          "name": "stderr"
        }
      ]
    },
    {
      "cell_type": "code",
      "metadata": {
        "id": "YQSMlvKTeiFK",
        "outputId": "87c8ebe6-3f44-4c99-983e-5cd04e45c3bc",
        "colab": {
          "base_uri": "https://localhost:8080/",
          "height": 170
        }
      },
      "source": [
        "t = [] \n",
        "\n",
        "# Store our loss and accuracy for plotting\n",
        "train_loss_set = []\n",
        "\n",
        "# trange is a tqdm wrapper around the normal python range\n",
        "for _ in trange(EPOCHS, desc=\"Epoch\"):\n",
        "  \n",
        "  # Training\n",
        "  \n",
        "  # Set our model to training mode (as opposed to evaluation mode)\n",
        "  model.train()\n",
        "  \n",
        "  # Tracking variables\n",
        "  tr_loss = 0\n",
        "  nb_tr_examples, nb_tr_steps = 0, 0\n",
        "  \n",
        "  # Train the data for one epoch\n",
        "  for step, batch in enumerate(train_dataloader):\n",
        "    # Add batch to GPU\n",
        "    batch = tuple(t.to(device) for t in batch)\n",
        "    # Unpack the inputs from our dataloader\n",
        "    b_input_ids, b_input_mask, b_labels = batch\n",
        "    # Clear out the gradients (by default they accumulate)\n",
        "    optimizer.zero_grad()\n",
        "    # Forward pass\n",
        "    loss = model(b_input_ids, token_type_ids=None, attention_mask=b_input_mask, labels=b_labels)\n",
        "    train_loss_set.append(loss.item())    \n",
        "    # Backward pass\n",
        "    loss.backward()\n",
        "    # Update parameters and take a step using the computed gradient\n",
        "    optimizer.step()\n",
        "    \n",
        "    # Update tracking variables\n",
        "    tr_loss += loss.item()\n",
        "    nb_tr_examples += b_input_ids.size(0)\n",
        "    nb_tr_steps += 1\n",
        "\n",
        "  print(\"Train loss: {}\".format(tr_loss/nb_tr_steps))\n",
        "    \n",
        "    \n",
        "  # Validation\n",
        "\n",
        "  # Put model in evaluation mode to evaluate loss on the validation set\n",
        "  model.eval()\n",
        "\n",
        "  # Tracking variables \n",
        "  eval_loss, eval_accuracy = 0, 0\n",
        "  nb_eval_steps, nb_eval_examples = 0, 0\n",
        "\n",
        "  # Evaluate data for one epoch\n",
        "  for batch in validation_dataloader:\n",
        "    # Add batch to GPU\n",
        "    batch = tuple(t.to(device) for t in batch)\n",
        "    # Unpack the inputs from our dataloader\n",
        "    b_input_ids, b_input_mask, b_labels = batch\n",
        "    # Telling the model not to compute or store gradients, saving memory and speeding up validation\n",
        "    with torch.no_grad():\n",
        "      # Forward pass, calculate logit predictions\n",
        "      logits = model(b_input_ids, token_type_ids=None, attention_mask=b_input_mask)\n",
        "    \n",
        "    # Move logits and labels to CPU\n",
        "    logits = logits.detach().cpu().numpy()\n",
        "    label_ids = b_labels.to('cpu').numpy()\n",
        "\n",
        "    tmp_eval_accuracy = flat_accuracy(logits, label_ids)\n",
        "    \n",
        "    eval_accuracy += tmp_eval_accuracy\n",
        "    nb_eval_steps += 1\n",
        "\n",
        "  print(\"Validation Accuracy: {}\".format(eval_accuracy/nb_eval_steps))"
      ],
      "execution_count": 89,
      "outputs": [
        {
          "output_type": "stream",
          "text": [
            "Epoch:  25%|██▌       | 1/4 [00:01<00:04,  1.35s/it]"
          ],
          "name": "stderr"
        },
        {
          "output_type": "stream",
          "text": [
            "Train loss: 4.8739094734191895\n",
            "Validation Accuracy: 0.4\n"
          ],
          "name": "stdout"
        },
        {
          "output_type": "stream",
          "text": [
            "\rEpoch:  50%|█████     | 2/4 [00:02<00:02,  1.34s/it]"
          ],
          "name": "stderr"
        },
        {
          "output_type": "stream",
          "text": [
            "Train loss: 4.212332010269165\n",
            "Validation Accuracy: 0.4\n"
          ],
          "name": "stdout"
        },
        {
          "output_type": "stream",
          "text": [
            "\rEpoch:  75%|███████▌  | 3/4 [00:03<00:01,  1.33s/it]"
          ],
          "name": "stderr"
        },
        {
          "output_type": "stream",
          "text": [
            "Train loss: 3.6990057229995728\n",
            "Validation Accuracy: 0.4666666666666667\n"
          ],
          "name": "stdout"
        },
        {
          "output_type": "stream",
          "text": [
            "Epoch: 100%|██████████| 4/4 [00:05<00:00,  1.33s/it]"
          ],
          "name": "stderr"
        },
        {
          "output_type": "stream",
          "text": [
            "Train loss: 3.2384601831436157\n",
            "Validation Accuracy: 0.4666666666666667\n"
          ],
          "name": "stdout"
        },
        {
          "output_type": "stream",
          "text": [
            "\n"
          ],
          "name": "stderr"
        }
      ]
    },
    {
      "cell_type": "code",
      "metadata": {
        "id": "AAKswcVdezqq",
        "outputId": "4425feb1-10c8-4f66-f7aa-a1726b34fe3a",
        "colab": {
          "base_uri": "https://localhost:8080/",
          "height": 34
        }
      },
      "source": [
        "sentences_test_valid = df_multi_test_invalid.sentence.values\n",
        "sentences_test_valid = [\"[CLS] \" + sentence + \" [SEP]\" for sentence in sentences_test_valid]\n",
        "\n",
        "tokenized_texts_test_valid = [tokenizer.tokenize(sentence) for sentence in sentences_test_valid]\n",
        "labels_test_valid = df_multi_test_invalid.relation.values\n",
        "labels_test_valid[:50]"
      ],
      "execution_count": 90,
      "outputs": [
        {
          "output_type": "execute_result",
          "data": {
            "text/plain": [
              "array([], dtype=object)"
            ]
          },
          "metadata": {
            "tags": []
          },
          "execution_count": 90
        }
      ]
    },
    {
      "cell_type": "code",
      "metadata": {
        "id": "M8po6BKpez3m",
        "outputId": "25a86d37-76ce-42c1-b7bc-29e29fa94605",
        "colab": {
          "base_uri": "https://localhost:8080/",
          "height": 51
        }
      },
      "source": [
        "# Now map each label to its corresponding integer\n",
        "print(\"Old labels: \",str(labels_test_valid[:50]))\n",
        "labels_test_valid = [label_types_invalid[l] if l in label_types_invalid else 999 for l in labels_test_valid]\n",
        "print(\"New labels: \",str(labels_test_valid))"
      ],
      "execution_count": 91,
      "outputs": [
        {
          "output_type": "stream",
          "text": [
            "Old labels:  []\n",
            "New labels:  []\n"
          ],
          "name": "stdout"
        }
      ]
    },
    {
      "cell_type": "code",
      "metadata": {
        "id": "e0p3IpCVe0EQ"
      },
      "source": [
        "input_ids_test_valid = [tokenizer.convert_tokens_to_ids(x) for x in tokenized_texts_test_valid]\n",
        "input_ids_test_valid = pad_sequences(input_ids_test_valid, maxlen=MAX_LEN, dtype=\"long\", truncating=\"post\", padding=\"post\")"
      ],
      "execution_count": 92,
      "outputs": []
    },
    {
      "cell_type": "code",
      "metadata": {
        "id": "QGUdwkm5e0Tt"
      },
      "source": [
        "attention_masks_test_valid = []\n",
        "\n",
        "for seq in input_ids_test_valid:\n",
        "  seq_mask = [float(i>0) for i in seq]\n",
        "  attention_masks_test_valid.append(seq_mask)"
      ],
      "execution_count": 93,
      "outputs": []
    },
    {
      "cell_type": "code",
      "metadata": {
        "id": "1-UNkY1CgI1p"
      },
      "source": [
        "prediction_inputs_valid = torch.tensor(input_ids_test_valid)\n",
        "prediction_masks_valid = torch.tensor(attention_masks_test_valid)\n",
        "prediction_labels_valid = torch.tensor(labels_test_valid)\n",
        "\n",
        "prediction_data_valid = TensorDataset(prediction_inputs_valid, prediction_masks_valid, prediction_labels_valid)\n",
        "prediction_sampler_valid = SequentialSampler(prediction_data_valid)\n",
        "prediction_dataloader_valid = DataLoader(prediction_data_valid, sampler=prediction_sampler_valid, batch_size=BATCH_SIZE)"
      ],
      "execution_count": 94,
      "outputs": []
    },
    {
      "cell_type": "code",
      "metadata": {
        "id": "784AsRMlgJIQ"
      },
      "source": [
        "model.eval()\n",
        "\n",
        "predictions_test_valid, true_labels_test_valid = [], []\n",
        "\n",
        "# Predict \n",
        "for batch in prediction_dataloader_valid:\n",
        "  # Add batch to GPU\n",
        "  batch = tuple(t.to(device) for t in batch)\n",
        "  # Unpack the inputs from our dataloader\n",
        "  b_input_ids, b_input_mask, b_labels = batch\n",
        "  # Telling the model not to compute or store gradients, saving memory and speeding up prediction\n",
        "  with torch.no_grad():\n",
        "    # Forward pass, calculate logit predictions\n",
        "    logits = model(b_input_ids, token_type_ids=None, attention_mask=b_input_mask)\n",
        "\n",
        "  # Move logits and labels to CPU\n",
        "  logits_test = logits.detach().cpu().numpy()\n",
        "  label_ids_test = b_labels.to('cpu').numpy()\n",
        "  \n",
        "  # Store predictions and true labels\n",
        "  predictions_test_valid.append(logits_test)\n",
        "  true_labels_test_valid.append(label_ids_test)"
      ],
      "execution_count": 95,
      "outputs": []
    },
    {
      "cell_type": "code",
      "metadata": {
        "id": "B4i-Fnn6gJDR",
        "outputId": "08557f15-d917-4cda-9383-28ea5a8fb175",
        "colab": {
          "base_uri": "https://localhost:8080/",
          "height": 51
        }
      },
      "source": [
        "flat_predictions_test_valid = [item for sublist in predictions_test_valid for item in sublist]\n",
        "if (len(labels_test_valid) > 0): flat_predictions_test_valid = np.argmax(flat_predictions_test_valid, axis=1).flatten()\n",
        "flat_true_labels_test_valid = [item for sublist in true_labels_test_valid for item in sublist]\n",
        "\n",
        "y_pred_invalid = flat_predictions_test_valid\n",
        "y_invalid = flat_true_labels_test_valid\n",
        "\n",
        "print(y_pred_invalid)\n",
        "print(y_invalid)"
      ],
      "execution_count": 96,
      "outputs": [
        {
          "output_type": "stream",
          "text": [
            "[]\n",
            "[]\n"
          ],
          "name": "stdout"
        }
      ]
    },
    {
      "cell_type": "code",
      "metadata": {
        "id": "ubOu2h00gI9k"
      },
      "source": [
        "from sklearn.metrics import classification_report\n",
        "if (len(labels_test_valid) > 0): \n",
        "  invalid_classification_report = classification_report(y_invalid, y_pred_invalid)\n",
        "  print(invalid_classification_report)\n",
        "else: invalid_classification_report = \"\""
      ],
      "execution_count": 97,
      "outputs": []
    },
    {
      "cell_type": "code",
      "metadata": {
        "id": "RnsKHzwFe0cV",
        "outputId": "38f0417e-45c0-43bb-cae0-32d2f990bed7",
        "colab": {
          "base_uri": "https://localhost:8080/",
          "height": 85
        }
      },
      "source": [
        "p_i = 0\n",
        "n_i = 0\n",
        "for i in range(len(y_pred_invalid)):\n",
        "  if y_pred_invalid[i] == y_invalid[i]:\n",
        "    p_i += 1\n",
        "  else:\n",
        "    n_i += 1\n",
        "\n",
        "print(\"Invalid guessed correctly:\",p_i)\n",
        "print(\"Invalid guessed incorrectly:\",n_i)\n",
        "print(\"Total invalid:\", p_i + n_i)\n",
        "if (len(labels_test_valid) > 0): print(\"Invalid accuracy:\", p_i/(p_i+n_i))\n",
        "else: print(\"Invalid accuracy:\",0)"
      ],
      "execution_count": 98,
      "outputs": [
        {
          "output_type": "stream",
          "text": [
            "Invalid guessed correctly: 0\n",
            "Invalid guessed incorrectly: 0\n",
            "Total invalid: 0\n",
            "Invalid accuracy: 0\n"
          ],
          "name": "stdout"
        }
      ]
    },
    {
      "cell_type": "markdown",
      "metadata": {
        "id": "4_hz3TvpRDAp"
      },
      "source": [
        "Let's recap with the negative and valid classes."
      ]
    },
    {
      "cell_type": "code",
      "metadata": {
        "id": "HPm2k8fmRDAr",
        "outputId": "74575018-ada3-4b2c-c332-72bb80d6583b",
        "colab": {
          "base_uri": "https://localhost:8080/",
          "height": 85
        }
      },
      "source": [
        "print(\"Negatives predicted correctly:\", neg_correct)\n",
        "print(\"Negatives predicted incorrectly:\", neg_incorrect)\n",
        "print(\"Total predicted negative:\",num_neg_predict)\n",
        "print(\"Negative accuracy:\", neg_correct/num_neg_predict)"
      ],
      "execution_count": 99,
      "outputs": [
        {
          "output_type": "stream",
          "text": [
            "Negatives predicted correctly: 1302\n",
            "Negatives predicted incorrectly: 89\n",
            "Total predicted negative: 1391\n",
            "Negative accuracy: 0.9360172537742631\n"
          ],
          "name": "stdout"
        }
      ]
    },
    {
      "cell_type": "code",
      "metadata": {
        "id": "1EEkh5RDaS0W",
        "outputId": "078eb156-2aee-4894-f55c-14e74eef3958",
        "colab": {
          "base_uri": "https://localhost:8080/",
          "height": 85
        }
      },
      "source": [
        "print(\"Valid guessed correctly:\",p)\n",
        "print(\"Valid guessed incorrectly:\",n)\n",
        "print(\"Total valid:\", p + n)\n",
        "print(\"Valid accuracy:\", p/(p+n))"
      ],
      "execution_count": 100,
      "outputs": [
        {
          "output_type": "stream",
          "text": [
            "Valid guessed correctly: 394\n",
            "Valid guessed incorrectly: 294\n",
            "Total valid: 688\n",
            "Valid accuracy: 0.5726744186046512\n"
          ],
          "name": "stdout"
        }
      ]
    },
    {
      "cell_type": "markdown",
      "metadata": {
        "id": "RaaGueWhafzz"
      },
      "source": [
        "Total accuracy"
      ]
    },
    {
      "cell_type": "code",
      "metadata": {
        "id": "E4ib5TMZRDAt",
        "outputId": "9c5e94f6-3111-4aca-eec3-2362d807474a",
        "colab": {
          "base_uri": "https://localhost:8080/",
          "height": 323
        }
      },
      "source": [
        "total_preds = num_neg_predict + p + n + p_i + n_i\n",
        "print(\"Total guesses:\", total_preds)\n",
        "\n",
        "print(\"\\nCorrect negative guesses:\", neg_correct)\n",
        "print(\"Incorrect negative guesses:\", neg_incorrect)\n",
        "print(\"Total negative guesses:\", neg_correct + neg_incorrect)\n",
        "print(\"Negatige accuracy:\", neg_correct/num_neg_predict)\n",
        "\n",
        "print(\"\\nCorrect valid guesses:\", p)\n",
        "print(\"Incorrect valid guesses:\", n)\n",
        "print(\"Total valid guesses:\", p + n)\n",
        "print(\"Valid accuracy:\", p/(p+n))\n",
        "\n",
        "print(\"\\nCorrect invalid guesses:\", p_i)\n",
        "print(\"Incorrect invalid guesses:\", n_i)\n",
        "print(\"Total invalid guesses:\", p_i + n_i)\n",
        "print(\"Invalid accuracy:\", p_i/(p_i+n_i) if p_i+n_i else 0)\n",
        "\n",
        "print(\"\\nTotal accuracy:\", (neg_correct+p+p_i)/total_preds)"
      ],
      "execution_count": 101,
      "outputs": [
        {
          "output_type": "stream",
          "text": [
            "Total guesses: 2079\n",
            "\n",
            "Correct negative guesses: 1302\n",
            "Incorrect negative guesses: 89\n",
            "Total negative guesses: 1391\n",
            "Negatige accuracy: 0.9360172537742631\n",
            "\n",
            "Correct valid guesses: 394\n",
            "Incorrect valid guesses: 294\n",
            "Total valid guesses: 688\n",
            "Valid accuracy: 0.5726744186046512\n",
            "\n",
            "Correct invalid guesses: 0\n",
            "Incorrect invalid guesses: 0\n",
            "Total invalid guesses: 0\n",
            "Invalid accuracy: 0\n",
            "\n",
            "Total accuracy: 0.8157768157768158\n"
          ],
          "name": "stdout"
        }
      ]
    },
    {
      "cell_type": "markdown",
      "metadata": {
        "id": "S0F6KoUpr4Wk"
      },
      "source": [
        "Next we will calculate the precisions, recalls, and metrics for each class. We will start with the no relation class."
      ]
    },
    {
      "cell_type": "code",
      "metadata": {
        "id": "lV0FXQJIr8qf",
        "outputId": "f3bc4753-5460-46db-e95b-1b7c1983dff3",
        "colab": {
          "base_uri": "https://localhost:8080/",
          "height": 238
        }
      },
      "source": [
        "tp_nor = 0\n",
        "tn_nor = 0\n",
        "fp_nor = 0\n",
        "fn_nor = 0\n",
        "\n",
        "for i in range(len(y_pred)):\n",
        "  if y_pred[i] == 0 and y[i] == 0:\n",
        "    tp_nor += 1\n",
        "  elif y_pred[i] == 0 and y[i] != 0:\n",
        "    fp_nor += 1\n",
        "  elif y_pred[i] != 0 and y[i] == 0:\n",
        "    fn_nor += 1\n",
        "  else: \n",
        "    tn_nor += 1\n",
        "\n",
        "prec_nor = tp_nor/(tp_nor+fp_nor)\n",
        "rec_nor = tp_nor/(tp_nor+fn_nor)\n",
        "f1_nor = 2*prec_nor*rec_nor / (prec_nor + rec_nor)\n",
        "\n",
        "tnr_nor = tn_nor/(tn_nor+fp_nor)\n",
        "fpr_nor = fp_nor/(fp_nor+tn_nor)\n",
        "\n",
        "print(\"No relation total:           \",tp_nor + tn_nor + fp_nor + fn_nor)\n",
        "print(\"No relation true positive:   \",tp_nor)\n",
        "print(\"No relation false positive:  \",fp_nor)\n",
        "print(\"No relation false negative:  \",fn_nor)\n",
        "print(\"No relation true negative:   \",tn_nor)\n",
        "\n",
        "print(\"\\nNo relation precision:       \", prec_nor)\n",
        "print(\"No relation recall:          \", rec_nor)\n",
        "print(\"No relation f1:              \", f1_nor)\n",
        "\n",
        "print(\"\\nNo relation specificity:     \", tnr_nor)\n",
        "print(\"No relation specificity:     \", tnr_nor)\n",
        "print(\"No relation FPR:             \", fpr_nor)"
      ],
      "execution_count": 102,
      "outputs": [
        {
          "output_type": "stream",
          "text": [
            "No relation total:            2079\n",
            "No relation true positive:    1302\n",
            "No relation false positive:   89\n",
            "No relation false negative:   172\n",
            "No relation true negative:    516\n",
            "\n",
            "No relation precision:        0.9360172537742631\n",
            "No relation recall:           0.8833107191316146\n",
            "No relation f1:               0.9089005235602093\n",
            "\n",
            "No relation specificity:      0.8528925619834711\n",
            "No relation specificity:      0.8528925619834711\n",
            "No relation FPR:              0.14710743801652892\n"
          ],
          "name": "stdout"
        }
      ]
    },
    {
      "cell_type": "code",
      "metadata": {
        "id": "IKqGQ-272pn2"
      },
      "source": [
        "if len(invalid_classification_report) > 0:\n",
        "  invalid_class_report_str = invalid_classification_report.splitlines()\n",
        "  invalid_class_report_str"
      ],
      "execution_count": 103,
      "outputs": []
    },
    {
      "cell_type": "code",
      "metadata": {
        "id": "ZoS-18bjSuhv"
      },
      "source": [
        "if len(invalid_classification_report) > 0:\n",
        "  invalid_class_macro = np.array(invalid_class_report_str[len(invalid_class_report_str) - 2].split()[2:-1]).astype(np.float)\n",
        "  invalid_class_macro"
      ],
      "execution_count": 104,
      "outputs": []
    },
    {
      "cell_type": "code",
      "metadata": {
        "id": "tYSRmmOsTpbH"
      },
      "source": [
        "if len(invalid_classification_report) > 0:\n",
        "  invalid_class_weighted = np.array(invalid_class_report_str[len(invalid_class_report_str) - 1].split()[2:-1]).astype(np.float)\n"
      ],
      "execution_count": 105,
      "outputs": []
    },
    {
      "cell_type": "code",
      "metadata": {
        "id": "Z2whD2oPT7oO"
      },
      "source": [
        "if len(invalid_classification_report) > 0:\n",
        "  invalid_class_support = float(invalid_class_report_str[-1].split()[-1])"
      ],
      "execution_count": 106,
      "outputs": []
    },
    {
      "cell_type": "code",
      "metadata": {
        "id": "qx8iPQ9pbGU_",
        "outputId": "454fa046-e980-4cda-95d4-c0a657753a9b",
        "colab": {
          "base_uri": "https://localhost:8080/",
          "height": 731
        }
      },
      "source": [
        "valid_class_report_str = valid_class_report.splitlines()\n",
        "valid_class_report_str"
      ],
      "execution_count": 107,
      "outputs": [
        {
          "output_type": "execute_result",
          "data": {
            "text/plain": [
              "['              precision    recall  f1-score   support',\n",
              " '',\n",
              " '           0       0.82      0.95      0.88        19',\n",
              " '           1       0.58      0.67      0.62        45',\n",
              " '           3       0.00      0.00      0.00         2',\n",
              " '           5       0.00      0.00      0.00         1',\n",
              " '           7       0.00      0.00      0.00         1',\n",
              " '           8       0.65      0.77      0.71        64',\n",
              " '           9       0.62      1.00      0.77         5',\n",
              " '          16       0.00      0.00      0.00         1',\n",
              " '          17       0.71      0.67      0.69        36',\n",
              " '          18       0.70      0.84      0.76        19',\n",
              " '          20       0.00      0.00      0.00         1',\n",
              " '          21       0.00      0.00      0.00         2',\n",
              " '          22       0.00      0.00      0.00         3',\n",
              " '          23       0.46      0.89      0.61        47',\n",
              " '          24       0.63      1.00      0.77        12',\n",
              " '          25       0.00      0.00      0.00         4',\n",
              " '          26       0.52      1.00      0.68        13',\n",
              " '          29       0.50      0.86      0.63        14',\n",
              " '          30       0.30      0.50      0.37         6',\n",
              " '          33       0.00      0.00      0.00         1',\n",
              " '          34       0.25      0.75      0.38         4',\n",
              " '          37       0.00      0.00      0.00         1',\n",
              " '          38       0.00      0.00      0.00         3',\n",
              " '          39       0.90      0.82      0.86        22',\n",
              " '          40       0.54      0.81      0.65        16',\n",
              " '          41       1.00      0.60      0.75         5',\n",
              " '          44       0.62      0.67      0.64        12',\n",
              " '          45       0.00      0.00      0.00         2',\n",
              " '          49       0.00      0.00      0.00         1',\n",
              " '          50       0.58      0.93      0.72        15',\n",
              " '          53       0.50      0.86      0.63         7',\n",
              " '          56       0.38      0.75      0.50        12',\n",
              " '          57       0.71      0.79      0.75        28',\n",
              " '          58       0.33      0.70      0.45        10',\n",
              " '          59       0.58      0.96      0.72        70',\n",
              " '         999       0.00      0.00      0.00       184',\n",
              " '',\n",
              " '    accuracy                           0.57       688',\n",
              " '   macro avg       0.36      0.49      0.40       688',\n",
              " 'weighted avg       0.42      0.57      0.48       688']"
            ]
          },
          "metadata": {
            "tags": []
          },
          "execution_count": 107
        }
      ]
    },
    {
      "cell_type": "code",
      "metadata": {
        "id": "0_4Lt96RUZhQ",
        "outputId": "47325809-4565-46bb-f0b3-6415ab5b4168",
        "colab": {
          "base_uri": "https://localhost:8080/",
          "height": 34
        }
      },
      "source": [
        "valid_class_macro = np.array(valid_class_report_str[len(valid_class_report_str) - 2].split()[2:-1]).astype(np.float)\n",
        "valid_class_macro"
      ],
      "execution_count": 108,
      "outputs": [
        {
          "output_type": "execute_result",
          "data": {
            "text/plain": [
              "array([0.36, 0.49, 0.4 ])"
            ]
          },
          "metadata": {
            "tags": []
          },
          "execution_count": 108
        }
      ]
    },
    {
      "cell_type": "code",
      "metadata": {
        "id": "YVA3MicnbMo3",
        "outputId": "6202e5a8-01fa-472d-da2c-71eefcd4e5cb",
        "colab": {
          "base_uri": "https://localhost:8080/",
          "height": 34
        }
      },
      "source": [
        "valid_class_weighted = np.array(valid_class_report_str[len(valid_class_report_str) - 1].split()[2:-1]).astype(np.float)\n",
        "valid_class_weighted"
      ],
      "execution_count": 109,
      "outputs": [
        {
          "output_type": "execute_result",
          "data": {
            "text/plain": [
              "array([0.42, 0.57, 0.48])"
            ]
          },
          "metadata": {
            "tags": []
          },
          "execution_count": 109
        }
      ]
    },
    {
      "cell_type": "code",
      "metadata": {
        "id": "t9NdKeohbVnY",
        "outputId": "daecf229-6fce-4411-ed8e-719042a2694d",
        "colab": {
          "base_uri": "https://localhost:8080/",
          "height": 34
        }
      },
      "source": [
        "valid_class_support = int(valid_class_report_str[-1].split()[-1])\n",
        "valid_class_weighted\n",
        "valid_class_support"
      ],
      "execution_count": 110,
      "outputs": [
        {
          "output_type": "execute_result",
          "data": {
            "text/plain": [
              "688"
            ]
          },
          "metadata": {
            "tags": []
          },
          "execution_count": 110
        }
      ]
    },
    {
      "cell_type": "code",
      "metadata": {
        "id": "bDJFBKwWegQ3"
      },
      "source": [
        "valid_precision_macro = valid_class_macro[0]\n",
        "valid_recall_macro = valid_class_macro[1]\n",
        "valid_f1_macro = valid_class_macro[2]\n",
        "\n",
        "if len(invalid_classification_report) > 0:\n",
        "  invalid_precision_macro = invalid_class_macro[0]\n",
        "  invalid_recall_macro = invalid_class_macro[1]\n",
        "  invalid_f1_macro = invalid_class_macro[2]\n",
        "\n",
        "valid_precision_micro = valid_class_weighted[0]\n",
        "valid_recall_micro = valid_class_weighted[1]\n",
        "valid_f1_micro = valid_class_weighted[2]\n",
        "\n",
        "\n",
        "if len(invalid_classification_report) > 0:\n",
        "  invalid_precision_micro = invalid_class_weighted[0]\n",
        "  invalid_recall_micro = invalid_class_weighted[1]\n",
        "  invalid_f1_micro = invalid_class_weighted[2]"
      ],
      "execution_count": 111,
      "outputs": []
    },
    {
      "cell_type": "code",
      "metadata": {
        "id": "ly0dI1umq4xZ",
        "outputId": "ec386fc7-d6b5-40fa-aebb-6b11fd468ab2",
        "colab": {
          "base_uri": "https://localhost:8080/",
          "height": 51
        }
      },
      "source": [
        "if len(invalid_classification_report) > 0:\n",
        "  total_macro_prec = valid_precision_macro + invalid_precision_macro + neg_prec\n",
        "  total_macro_prec /= 3\n",
        "  print(\"Total macro precision:\",total_macro_prec)\n",
        "\n",
        "  total_micro_prec = (valid_precision_micro*valid_class_support) + (invalid_precision_micro*invalid_class_support) + (neg_prec*num_neg_predict)\n",
        "  total_micro_prec /= valid_class_support + invalid_class_support + num_neg_predict\n",
        "  print(\"Total micro precision:\",total_micro_prec)\n",
        "\n",
        "else:\n",
        "  total_macro_prec = valid_precision_macro + neg_prec\n",
        "  total_macro_prec /= 2\n",
        "  print(\"Total macro precision:\",total_macro_prec)\n",
        "\n",
        "  total_micro_prec = (valid_precision_micro*valid_class_support) + (neg_prec*num_neg_predict)\n",
        "  total_micro_prec /= valid_class_support + num_neg_predict\n",
        "  print(\"Total micro precision:\",total_micro_prec)"
      ],
      "execution_count": 112,
      "outputs": [
        {
          "output_type": "stream",
          "text": [
            "Total macro precision: 0.6480086268871316\n",
            "Total micro precision: 0.7652525252525253\n"
          ],
          "name": "stdout"
        }
      ]
    },
    {
      "cell_type": "code",
      "metadata": {
        "id": "WXTMZ6gnu4B5",
        "outputId": "1c080d7a-0470-45b3-d12e-10b6be937336",
        "colab": {
          "base_uri": "https://localhost:8080/",
          "height": 51
        }
      },
      "source": [
        "if len(invalid_classification_report) > 0:\n",
        "  total_macro_rec = valid_recall_macro + invalid_recall_macro + neg_rec\n",
        "  total_macro_rec /= 3\n",
        "  print(\"Total macro recall:\",total_macro_rec)\n",
        "\n",
        "  total_micro_rec = (valid_recall_micro*valid_class_support) + (invalid_recall_micro*invalid_class_support) + (neg_rec*num_neg_predict)\n",
        "  total_micro_rec /= valid_class_support + invalid_class_support + num_neg_predict\n",
        "  print(\"Total micro recall:\",total_micro_rec)\n",
        "\n",
        "else:\n",
        "  total_macro_rec = valid_recall_macro + neg_rec\n",
        "  total_macro_rec /= 2\n",
        "  print(\"Total macro recall:\",total_macro_rec)\n",
        "\n",
        "  total_micro_rec = (valid_recall_micro*valid_class_support) + (neg_rec*num_neg_predict)\n",
        "  total_micro_rec /= valid_class_support + num_neg_predict\n",
        "  print(\"Total micro recall:\",total_micro_rec)"
      ],
      "execution_count": 113,
      "outputs": [
        {
          "output_type": "stream",
          "text": [
            "Total macro recall: 0.6866553595658074\n",
            "Total micro recall: 0.7796273257874342\n"
          ],
          "name": "stdout"
        }
      ]
    },
    {
      "cell_type": "code",
      "metadata": {
        "id": "aI4B9efInYUR",
        "outputId": "4dbc2842-670e-4668-862b-c6226afd4a41",
        "colab": {
          "base_uri": "https://localhost:8080/",
          "height": 51
        }
      },
      "source": [
        "if len(invalid_classification_report) > 0:\n",
        "  total_macro_f1 = valid_f1_macro + invalid_f1_macro + neg_rec\n",
        "  total_macro_f1 /= 3\n",
        "  print(\"Total macro f1:\",total_macro_f1)\n",
        "\n",
        "  total_micro_f1 = (valid_f1_micro*valid_class_support) + (invalid_f1_micro*invalid_class_support) + (neg_f1*num_neg_predict)\n",
        "  total_micro_f1 /= valid_class_support + invalid_class_support + num_neg_predict\n",
        "  print(\"Total micro f1:\",total_micro_f1)\n",
        "  \n",
        "else:\n",
        "  total_macro_f1 = valid_f1_macro + neg_rec\n",
        "  total_macro_f1 /= 2\n",
        "  print(\"Total macro f1:\",total_macro_f1)\n",
        "\n",
        "  total_micro_f1 = (valid_f1_micro*valid_class_support) + (neg_f1*num_neg_predict)\n",
        "  total_micro_f1 /= valid_class_support + num_neg_predict\n",
        "  print(\"Total micro f1:\",total_micro_f1)"
      ],
      "execution_count": 114,
      "outputs": [
        {
          "output_type": "stream",
          "text": [
            "Total macro f1: 0.6416553595658073\n",
            "Total micro f1: 0.7669651891641419\n"
          ],
          "name": "stdout"
        }
      ]
    },
    {
      "cell_type": "code",
      "metadata": {
        "id": "jGfutCA6spjy",
        "outputId": "3510a64d-9450-4609-b50a-164168d9d69f",
        "colab": {
          "base_uri": "https://localhost:8080/",
          "height": 170
        }
      },
      "source": [
        "print(\"Total metrics (macro):\")\n",
        "print(\"Total macro precision:\",total_macro_prec)\n",
        "print(\"Total macro recall:\",total_macro_rec)\n",
        "print(\"Total macro f1:\",total_macro_f1)\n",
        "\n",
        "print(\"\\nTotal metrics (micro):\")\n",
        "print(\"Total micro precision:\",total_micro_prec)\n",
        "print(\"Total micro recall:\",total_micro_rec)\n",
        "print(\"Total micro f1:\",total_micro_f1)"
      ],
      "execution_count": 115,
      "outputs": [
        {
          "output_type": "stream",
          "text": [
            "Total metrics (macro):\n",
            "Total macro precision: 0.6480086268871316\n",
            "Total macro recall: 0.6866553595658074\n",
            "Total macro f1: 0.6416553595658073\n",
            "\n",
            "Total metrics (micro):\n",
            "Total micro precision: 0.7652525252525253\n",
            "Total micro recall: 0.7796273257874342\n",
            "Total micro f1: 0.7669651891641419\n"
          ],
          "name": "stdout"
        }
      ]
    }
  ]
}