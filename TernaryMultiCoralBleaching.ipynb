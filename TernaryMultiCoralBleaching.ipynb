{
  "nbformat": 4,
  "nbformat_minor": 0,
  "metadata": {
    "colab": {
      "name": "TernaryMultiCoralBleaching.ipynb",
      "provenance": [],
      "collapsed_sections": [],
      "machine_shape": "hm",
      "authorship_tag": "ABX9TyMWomWpfzm0BJAOgzKS0ccC",
      "include_colab_link": true
    },
    "kernelspec": {
      "name": "python3",
      "display_name": "Python 3"
    },
    "accelerator": "GPU"
  },
  "cells": [
    {
      "cell_type": "markdown",
      "metadata": {
        "id": "view-in-github",
        "colab_type": "text"
      },
      "source": [
        "<a href=\"https://colab.research.google.com/github/claytoncohn/CoralBleaching_SkinCancer/blob/master/TernaryMultiCoralBleaching.ipynb\" target=\"_parent\"><img src=\"https://colab.research.google.com/assets/colab-badge.svg\" alt=\"Open In Colab\"/></a>"
      ]
    },
    {
      "cell_type": "markdown",
      "metadata": {
        "id": "erJHJpl3RO4E",
        "colab_type": "text"
      },
      "source": [
        "This notebook is created by Clayton Cohn for the purposes of detecting the existence of causal chains in the Coral Bleaching and Skin Cancer datasets using BERT.\n",
        "\n",
        "BERT will be fine-tuned for ternary classification: 0 indicating the absense of a causal relation, 1 indicating the presence of a valid causal relation, and 2 indicating the presence an invalid causal relation. After that, it will be put through another round of classification to see if the model can identify the correct relation.\n",
        "\n",
        "The code in this notebook is originally adopted from:\n",
        "\n",
        "https://colab.research.google.com/drive/1ywsvwO6thOVOrfagjjfuxEf6xVRxbUNO#scrollTo=IUM0UA1qJaVB\n",
        "\n",
        "I have adapted it for use with the Skin Cancer and Coral Bleaching datasets below:\n",
        "\n",
        "https://knowledge.depaul.edu/display/DNLP/Tasks+and+Data\n",
        "---\n"
      ]
    },
    {
      "cell_type": "markdown",
      "metadata": {
        "id": "-sIkXqo1TP-D",
        "colab_type": "text"
      },
      "source": [
        "Mount Drive to Colab."
      ]
    },
    {
      "cell_type": "code",
      "metadata": {
        "id": "3_c3XEJBTpRV",
        "colab_type": "code",
        "colab": {
          "base_uri": "https://localhost:8080/",
          "height": 34
        },
        "outputId": "7ca32a00-fd2c-408d-9e3f-4324b50e1ae0"
      },
      "source": [
        "from google.colab import drive\n",
        "drive.mount('/content/drive')"
      ],
      "execution_count": 1,
      "outputs": [
        {
          "output_type": "stream",
          "text": [
            "Mounted at /content/drive\n"
          ],
          "name": "stdout"
        }
      ]
    },
    {
      "cell_type": "markdown",
      "metadata": {
        "id": "4hxMggnJU1VX",
        "colab_type": "text"
      },
      "source": [
        "Import the desired dataset.\n",
        "\n",
        "**Note: the Coral Bleaching data had to be preprocessed to remove extraneous \"did not finish\" notations. Otherwise, Pandas would not be able to properly import it.**"
      ]
    },
    {
      "cell_type": "code",
      "metadata": {
        "id": "zZ0A4ZXpRDuV",
        "colab_type": "code",
        "colab": {
          "base_uri": "https://localhost:8080/",
          "height": 359
        },
        "outputId": "0c60e5a5-20e4-4872-9dfb-3f434e235bfe"
      },
      "source": [
        "import pandas as pd\n",
        "\n",
        "DATA_PATH = \"drive/My Drive/colab/data/\"\n",
        "DATA_NAME = \"EBA1415-CoralBleaching-big-sentences.tsv\"\n",
        "\n",
        "df = pd.read_csv(DATA_PATH + DATA_NAME, delimiter='\\t', header=None, names=['essay', 'relation', 's_num', 'sentence'])\n",
        "df.head(10)"
      ],
      "execution_count": 2,
      "outputs": [
        {
          "output_type": "execute_result",
          "data": {
            "text/html": [
              "<div>\n",
              "<style scoped>\n",
              "    .dataframe tbody tr th:only-of-type {\n",
              "        vertical-align: middle;\n",
              "    }\n",
              "\n",
              "    .dataframe tbody tr th {\n",
              "        vertical-align: top;\n",
              "    }\n",
              "\n",
              "    .dataframe thead th {\n",
              "        text-align: right;\n",
              "    }\n",
              "</style>\n",
              "<table border=\"1\" class=\"dataframe\">\n",
              "  <thead>\n",
              "    <tr style=\"text-align: right;\">\n",
              "      <th></th>\n",
              "      <th>essay</th>\n",
              "      <th>relation</th>\n",
              "      <th>s_num</th>\n",
              "      <th>sentence</th>\n",
              "    </tr>\n",
              "  </thead>\n",
              "  <tbody>\n",
              "    <tr>\n",
              "      <th>0</th>\n",
              "      <td>EBA1415_KNKC_1_CB_ES-05410</td>\n",
              "      <td>O</td>\n",
              "      <td>1.0</td>\n",
              "      <td>Coral and zooxanthellae depend an each other i...</td>\n",
              "    </tr>\n",
              "    <tr>\n",
              "      <th>1</th>\n",
              "      <td>EBA1415_KNKC_1_CB_ES-05410</td>\n",
              "      <td>R-7-50</td>\n",
              "      <td>2.0</td>\n",
              "      <td>If the coral dies, or gets bleached, then the ...</td>\n",
              "    </tr>\n",
              "    <tr>\n",
              "      <th>2</th>\n",
              "      <td>EBA1415_KNKC_1_CB_ES-05410</td>\n",
              "      <td>O</td>\n",
              "      <td>3.0</td>\n",
              "      <td>Or the other way around.</td>\n",
              "    </tr>\n",
              "    <tr>\n",
              "      <th>3</th>\n",
              "      <td>EBA1415_KNKC_1_CB_ES-05410</td>\n",
              "      <td>O</td>\n",
              "      <td>4.0</td>\n",
              "      <td>In the text Shifting Trade Winds, it talks abo...</td>\n",
              "    </tr>\n",
              "    <tr>\n",
              "      <th>4</th>\n",
              "      <td>EBA1415_KNKC_1_CB_ES-05410</td>\n",
              "      <td>R-3-1</td>\n",
              "      <td>5.0</td>\n",
              "      <td>And another source states how when the water t...</td>\n",
              "    </tr>\n",
              "    <tr>\n",
              "      <th>5</th>\n",
              "      <td>EBA1415_KNKC_1_CB_ES-05410</td>\n",
              "      <td>O</td>\n",
              "      <td>6.0</td>\n",
              "      <td>When trade winds weaken, sea levels rises inch...</td>\n",
              "    </tr>\n",
              "    <tr>\n",
              "      <th>6</th>\n",
              "      <td>EBA1415_KNKC_1_CB_ES-05410</td>\n",
              "      <td>O</td>\n",
              "      <td>7.0</td>\n",
              "      <td>Which is bad for coral and zooxanthellae becau...</td>\n",
              "    </tr>\n",
              "    <tr>\n",
              "      <th>7</th>\n",
              "      <td>EBA1415_KNKC_1_CB_ES-05410</td>\n",
              "      <td>O</td>\n",
              "      <td>8.0</td>\n",
              "      <td>If the zooxanthellae can't get a light source ...</td>\n",
              "    </tr>\n",
              "    <tr>\n",
              "      <th>8</th>\n",
              "      <td>EBA1415_KNKC_1_CB_ES-05410</td>\n",
              "      <td>R-5B-50</td>\n",
              "      <td>9.1</td>\n",
              "      <td>Which can affect the coral because if the zoox...</td>\n",
              "    </tr>\n",
              "    <tr>\n",
              "      <th>9</th>\n",
              "      <td>EBA1415_KNKC_1_CB_ES-05410</td>\n",
              "      <td>R-50-7</td>\n",
              "      <td>9.2</td>\n",
              "      <td>Which can affect the coral because if the zoox...</td>\n",
              "    </tr>\n",
              "  </tbody>\n",
              "</table>\n",
              "</div>"
            ],
            "text/plain": [
              "                        essay  ...                                           sentence\n",
              "0  EBA1415_KNKC_1_CB_ES-05410  ...  Coral and zooxanthellae depend an each other i...\n",
              "1  EBA1415_KNKC_1_CB_ES-05410  ...  If the coral dies, or gets bleached, then the ...\n",
              "2  EBA1415_KNKC_1_CB_ES-05410  ...                           Or the other way around.\n",
              "3  EBA1415_KNKC_1_CB_ES-05410  ...  In the text Shifting Trade Winds, it talks abo...\n",
              "4  EBA1415_KNKC_1_CB_ES-05410  ...  And another source states how when the water t...\n",
              "5  EBA1415_KNKC_1_CB_ES-05410  ...  When trade winds weaken, sea levels rises inch...\n",
              "6  EBA1415_KNKC_1_CB_ES-05410  ...  Which is bad for coral and zooxanthellae becau...\n",
              "7  EBA1415_KNKC_1_CB_ES-05410  ...  If the zooxanthellae can't get a light source ...\n",
              "8  EBA1415_KNKC_1_CB_ES-05410  ...  Which can affect the coral because if the zoox...\n",
              "9  EBA1415_KNKC_1_CB_ES-05410  ...  Which can affect the coral because if the zoox...\n",
              "\n",
              "[10 rows x 4 columns]"
            ]
          },
          "metadata": {
            "tags": []
          },
          "execution_count": 2
        }
      ]
    },
    {
      "cell_type": "markdown",
      "metadata": {
        "id": "zHshYuNpgq9o",
        "colab_type": "text"
      },
      "source": [
        "Must transform relation labels to ternary labels.\n"
      ]
    },
    {
      "cell_type": "code",
      "metadata": {
        "id": "JcYIL8FWgzJs",
        "colab_type": "code",
        "colab": {
          "base_uri": "https://localhost:8080/",
          "height": 34
        },
        "outputId": "fa902e0c-3a52-4ded-a985-30d535ba30d5"
      },
      "source": [
        "relations_pd = df.relation.copy(deep=True)\n",
        "\n",
        "relations = [\n",
        "                   \"1,2\", \"1,3\", \"1,4\", \"1,5\", \"1,5B\", \"1,14\", \"1,6\", \"1,7\", \"1,50\",\n",
        "                   \"2,3\", \"2,4\", \"2,5\", \"2,5B\", \"2,14\", \"2,6\", \"2,7\", \"2,50\",\n",
        "                   \"3,4\", \"3,5\", \"3,5B\", \"3,14\", \"3,6\", \"3,7\", \"3,50\",\n",
        "                   \"4,5\", \"4,5B\", \"4,14\", \"4,6\", \"4,7\", \"4,50\",\n",
        "                   \"5,5B\", \"5,14\", \"5,6\", \"5,7\", \"5,50\",\n",
        "                   \"5B,14\", \"5B,6\", \"5B,7\", \"5B,50\",\n",
        "                   \"11,12\", \"11,13\", \"11,14\", \"11,6\", \"11,7\", \"11,50\",\n",
        "                   \"12,13\", \"12,14\", \"12,6\", \"12,7\", \"12,50\",\n",
        "                   \"13,14\", \"13,6\", \"13,7\",\"13,50\",\n",
        "                   \"14,6\", \"14,7\", \"14,50\",\n",
        "                   \"6,7\", \"6,50\",\n",
        "                   \"7,50\"\n",
        "            ]\n",
        "\n",
        "print(\"{} unique relations\".format(len(relations)))\n",
        "\n",
        "for i, rel in relations_pd.items():\n",
        "  chain = rel.split(\"-\")\n",
        "\n",
        "  if chain[0] == \"O\":\n",
        "    relations_pd.at[i] = 0\n",
        "    continue\n",
        "  \n",
        "  chain = chain[1] + \",\" + chain[2]\n",
        "\n",
        "  if chain in relations:\n",
        "    relations_pd.at[i] = 1\n",
        "  else: \n",
        "    relations_pd.at[i] = 2"
      ],
      "execution_count": 3,
      "outputs": [
        {
          "output_type": "stream",
          "text": [
            "60 unique relations\n"
          ],
          "name": "stdout"
        }
      ]
    },
    {
      "cell_type": "code",
      "metadata": {
        "id": "ME4ZcO_Wt2Ij",
        "colab_type": "code",
        "colab": {
          "base_uri": "https://localhost:8080/",
          "height": 359
        },
        "outputId": "72a9c419-f12d-4463-99a9-79b8b9a88e8b"
      },
      "source": [
        "df_ternary = df.copy(deep=True)\n",
        "df_ternary.relation = relations_pd\n",
        "df_ternary.head(10)"
      ],
      "execution_count": 4,
      "outputs": [
        {
          "output_type": "execute_result",
          "data": {
            "text/html": [
              "<div>\n",
              "<style scoped>\n",
              "    .dataframe tbody tr th:only-of-type {\n",
              "        vertical-align: middle;\n",
              "    }\n",
              "\n",
              "    .dataframe tbody tr th {\n",
              "        vertical-align: top;\n",
              "    }\n",
              "\n",
              "    .dataframe thead th {\n",
              "        text-align: right;\n",
              "    }\n",
              "</style>\n",
              "<table border=\"1\" class=\"dataframe\">\n",
              "  <thead>\n",
              "    <tr style=\"text-align: right;\">\n",
              "      <th></th>\n",
              "      <th>essay</th>\n",
              "      <th>relation</th>\n",
              "      <th>s_num</th>\n",
              "      <th>sentence</th>\n",
              "    </tr>\n",
              "  </thead>\n",
              "  <tbody>\n",
              "    <tr>\n",
              "      <th>0</th>\n",
              "      <td>EBA1415_KNKC_1_CB_ES-05410</td>\n",
              "      <td>0</td>\n",
              "      <td>1.0</td>\n",
              "      <td>Coral and zooxanthellae depend an each other i...</td>\n",
              "    </tr>\n",
              "    <tr>\n",
              "      <th>1</th>\n",
              "      <td>EBA1415_KNKC_1_CB_ES-05410</td>\n",
              "      <td>1</td>\n",
              "      <td>2.0</td>\n",
              "      <td>If the coral dies, or gets bleached, then the ...</td>\n",
              "    </tr>\n",
              "    <tr>\n",
              "      <th>2</th>\n",
              "      <td>EBA1415_KNKC_1_CB_ES-05410</td>\n",
              "      <td>0</td>\n",
              "      <td>3.0</td>\n",
              "      <td>Or the other way around.</td>\n",
              "    </tr>\n",
              "    <tr>\n",
              "      <th>3</th>\n",
              "      <td>EBA1415_KNKC_1_CB_ES-05410</td>\n",
              "      <td>0</td>\n",
              "      <td>4.0</td>\n",
              "      <td>In the text Shifting Trade Winds, it talks abo...</td>\n",
              "    </tr>\n",
              "    <tr>\n",
              "      <th>4</th>\n",
              "      <td>EBA1415_KNKC_1_CB_ES-05410</td>\n",
              "      <td>2</td>\n",
              "      <td>5.0</td>\n",
              "      <td>And another source states how when the water t...</td>\n",
              "    </tr>\n",
              "    <tr>\n",
              "      <th>5</th>\n",
              "      <td>EBA1415_KNKC_1_CB_ES-05410</td>\n",
              "      <td>0</td>\n",
              "      <td>6.0</td>\n",
              "      <td>When trade winds weaken, sea levels rises inch...</td>\n",
              "    </tr>\n",
              "    <tr>\n",
              "      <th>6</th>\n",
              "      <td>EBA1415_KNKC_1_CB_ES-05410</td>\n",
              "      <td>0</td>\n",
              "      <td>7.0</td>\n",
              "      <td>Which is bad for coral and zooxanthellae becau...</td>\n",
              "    </tr>\n",
              "    <tr>\n",
              "      <th>7</th>\n",
              "      <td>EBA1415_KNKC_1_CB_ES-05410</td>\n",
              "      <td>0</td>\n",
              "      <td>8.0</td>\n",
              "      <td>If the zooxanthellae can't get a light source ...</td>\n",
              "    </tr>\n",
              "    <tr>\n",
              "      <th>8</th>\n",
              "      <td>EBA1415_KNKC_1_CB_ES-05410</td>\n",
              "      <td>1</td>\n",
              "      <td>9.1</td>\n",
              "      <td>Which can affect the coral because if the zoox...</td>\n",
              "    </tr>\n",
              "    <tr>\n",
              "      <th>9</th>\n",
              "      <td>EBA1415_KNKC_1_CB_ES-05410</td>\n",
              "      <td>2</td>\n",
              "      <td>9.2</td>\n",
              "      <td>Which can affect the coral because if the zoox...</td>\n",
              "    </tr>\n",
              "  </tbody>\n",
              "</table>\n",
              "</div>"
            ],
            "text/plain": [
              "                        essay  ...                                           sentence\n",
              "0  EBA1415_KNKC_1_CB_ES-05410  ...  Coral and zooxanthellae depend an each other i...\n",
              "1  EBA1415_KNKC_1_CB_ES-05410  ...  If the coral dies, or gets bleached, then the ...\n",
              "2  EBA1415_KNKC_1_CB_ES-05410  ...                           Or the other way around.\n",
              "3  EBA1415_KNKC_1_CB_ES-05410  ...  In the text Shifting Trade Winds, it talks abo...\n",
              "4  EBA1415_KNKC_1_CB_ES-05410  ...  And another source states how when the water t...\n",
              "5  EBA1415_KNKC_1_CB_ES-05410  ...  When trade winds weaken, sea levels rises inch...\n",
              "6  EBA1415_KNKC_1_CB_ES-05410  ...  Which is bad for coral and zooxanthellae becau...\n",
              "7  EBA1415_KNKC_1_CB_ES-05410  ...  If the zooxanthellae can't get a light source ...\n",
              "8  EBA1415_KNKC_1_CB_ES-05410  ...  Which can affect the coral because if the zoox...\n",
              "9  EBA1415_KNKC_1_CB_ES-05410  ...  Which can affect the coral because if the zoox...\n",
              "\n",
              "[10 rows x 4 columns]"
            ]
          },
          "metadata": {
            "tags": []
          },
          "execution_count": 4
        }
      ]
    },
    {
      "cell_type": "markdown",
      "metadata": {
        "id": "eukpkXF6vdeT",
        "colab_type": "text"
      },
      "source": [
        "Next, we must address the issue that some sentences have multiple relations. This could be a problem if a sentence has one valid relation and one invalid one (the same sentence will have multiple labels). To correct this, we will remove the duplicate instances and define each sentence to be 1 if it contains *at least one* causal relation. Otherwise, it will be classified as -1 if it has at least one invalid causal relation, and -1 otherwise.\n",
        "\n",
        "The parse was provided by @TrentonMcKinney on StackOverflow:\n",
        "https://stackoverflow.com/questions/63697275/regex-string-for-different-versions/63697498#63697498"
      ]
    },
    {
      "cell_type": "code",
      "metadata": {
        "id": "xTpiRii5wNJs",
        "colab_type": "code",
        "colab": {
          "base_uri": "https://localhost:8080/",
          "height": 824
        },
        "outputId": "21062b1b-e47a-4acc-c0e7-0b454ffe1d66"
      },
      "source": [
        "df_duplicate_sentences = df_ternary[df_ternary.s_num.astype(str).str.split('.', expand=True)[1] != '0']\n",
        "df_duplicate_sentences.head(25)"
      ],
      "execution_count": 5,
      "outputs": [
        {
          "output_type": "execute_result",
          "data": {
            "text/html": [
              "<div>\n",
              "<style scoped>\n",
              "    .dataframe tbody tr th:only-of-type {\n",
              "        vertical-align: middle;\n",
              "    }\n",
              "\n",
              "    .dataframe tbody tr th {\n",
              "        vertical-align: top;\n",
              "    }\n",
              "\n",
              "    .dataframe thead th {\n",
              "        text-align: right;\n",
              "    }\n",
              "</style>\n",
              "<table border=\"1\" class=\"dataframe\">\n",
              "  <thead>\n",
              "    <tr style=\"text-align: right;\">\n",
              "      <th></th>\n",
              "      <th>essay</th>\n",
              "      <th>relation</th>\n",
              "      <th>s_num</th>\n",
              "      <th>sentence</th>\n",
              "    </tr>\n",
              "  </thead>\n",
              "  <tbody>\n",
              "    <tr>\n",
              "      <th>8</th>\n",
              "      <td>EBA1415_KNKC_1_CB_ES-05410</td>\n",
              "      <td>1</td>\n",
              "      <td>9.1</td>\n",
              "      <td>Which can affect the coral because if the zoox...</td>\n",
              "    </tr>\n",
              "    <tr>\n",
              "      <th>9</th>\n",
              "      <td>EBA1415_KNKC_1_CB_ES-05410</td>\n",
              "      <td>2</td>\n",
              "      <td>9.2</td>\n",
              "      <td>Which can affect the coral because if the zoox...</td>\n",
              "    </tr>\n",
              "    <tr>\n",
              "      <th>23</th>\n",
              "      <td>EBA1415post_WSKT_1_CB_ES-05486</td>\n",
              "      <td>1</td>\n",
              "      <td>23.1</td>\n",
              "      <td>This is a problem because corals need co2 in o...</td>\n",
              "    </tr>\n",
              "    <tr>\n",
              "      <th>24</th>\n",
              "      <td>EBA1415post_WSKT_1_CB_ES-05486</td>\n",
              "      <td>1</td>\n",
              "      <td>23.2</td>\n",
              "      <td>This is a problem because corals need co2 in o...</td>\n",
              "    </tr>\n",
              "    <tr>\n",
              "      <th>35</th>\n",
              "      <td>EBA1415_KYNS_4_CB_ES-05388</td>\n",
              "      <td>0</td>\n",
              "      <td>34.1</td>\n",
              "      <td>In the text it states \"This is because</td>\n",
              "    </tr>\n",
              "    <tr>\n",
              "      <th>36</th>\n",
              "      <td>EBA1415_KYNS_4_CB_ES-05388</td>\n",
              "      <td>0</td>\n",
              "      <td>34.2</td>\n",
              "      <td>Ran out time //</td>\n",
              "    </tr>\n",
              "    <tr>\n",
              "      <th>38</th>\n",
              "      <td>EBA1415_KYLS_5_CB_ES-05647</td>\n",
              "      <td>1</td>\n",
              "      <td>36.1</td>\n",
              "      <td>The reason why coral reefs are 'bleach' becaus...</td>\n",
              "    </tr>\n",
              "    <tr>\n",
              "      <th>39</th>\n",
              "      <td>EBA1415_KYLS_5_CB_ES-05647</td>\n",
              "      <td>1</td>\n",
              "      <td>36.2</td>\n",
              "      <td>The reason why coral reefs are 'bleach' becaus...</td>\n",
              "    </tr>\n",
              "    <tr>\n",
              "      <th>44</th>\n",
              "      <td>EBA1415_KYLS_5_CB_ES-05647</td>\n",
              "      <td>1</td>\n",
              "      <td>41.1</td>\n",
              "      <td>The reasons is if the winds weaken where the P...</td>\n",
              "    </tr>\n",
              "    <tr>\n",
              "      <th>45</th>\n",
              "      <td>EBA1415_KYLS_5_CB_ES-05647</td>\n",
              "      <td>1</td>\n",
              "      <td>41.2</td>\n",
              "      <td>The reasons is if the winds weaken where the P...</td>\n",
              "    </tr>\n",
              "    <tr>\n",
              "      <th>64</th>\n",
              "      <td>EBA1415_TRJA_11_CB_ES-06108</td>\n",
              "      <td>1</td>\n",
              "      <td>60.1</td>\n",
              "      <td>Another thing that can lead to differences of ...</td>\n",
              "    </tr>\n",
              "    <tr>\n",
              "      <th>65</th>\n",
              "      <td>EBA1415_TRJA_11_CB_ES-06108</td>\n",
              "      <td>1</td>\n",
              "      <td>60.2</td>\n",
              "      <td>Another thing that can lead to differences of ...</td>\n",
              "    </tr>\n",
              "    <tr>\n",
              "      <th>66</th>\n",
              "      <td>EBA1415_TRJA_11_CB_ES-06108</td>\n",
              "      <td>1</td>\n",
              "      <td>61.1</td>\n",
              "      <td>The storms increase the amount of fresh water,...</td>\n",
              "    </tr>\n",
              "    <tr>\n",
              "      <th>67</th>\n",
              "      <td>EBA1415_TRJA_11_CB_ES-06108</td>\n",
              "      <td>1</td>\n",
              "      <td>61.2</td>\n",
              "      <td>The storms increase the amount of fresh water,...</td>\n",
              "    </tr>\n",
              "    <tr>\n",
              "      <th>74</th>\n",
              "      <td>EBA1415_TWDG_11_CB_ES-05698</td>\n",
              "      <td>1</td>\n",
              "      <td>68.1</td>\n",
              "      <td>I don't know exactly the differences in the ra...</td>\n",
              "    </tr>\n",
              "    <tr>\n",
              "      <th>75</th>\n",
              "      <td>EBA1415_TWDG_11_CB_ES-05698</td>\n",
              "      <td>1</td>\n",
              "      <td>68.2</td>\n",
              "      <td>I don't know exactly the differences in the ra...</td>\n",
              "    </tr>\n",
              "    <tr>\n",
              "      <th>85</th>\n",
              "      <td>EBA1415_SDMK_4_CB_ES-04768</td>\n",
              "      <td>1</td>\n",
              "      <td>78.1</td>\n",
              "      <td>Environmental stressors cause the coral to eje...</td>\n",
              "    </tr>\n",
              "    <tr>\n",
              "      <th>86</th>\n",
              "      <td>EBA1415_SDMK_4_CB_ES-04768</td>\n",
              "      <td>1</td>\n",
              "      <td>78.2</td>\n",
              "      <td>Environmental stressors cause the coral to eje...</td>\n",
              "    </tr>\n",
              "    <tr>\n",
              "      <th>91</th>\n",
              "      <td>EBA1415_SDMK_4_CB_ES-04768</td>\n",
              "      <td>1</td>\n",
              "      <td>83.1</td>\n",
              "      <td>It seems that when the trade winds push the co...</td>\n",
              "    </tr>\n",
              "    <tr>\n",
              "      <th>92</th>\n",
              "      <td>EBA1415_SDMK_4_CB_ES-04768</td>\n",
              "      <td>1</td>\n",
              "      <td>83.2</td>\n",
              "      <td>It seems that when the trade winds push the co...</td>\n",
              "    </tr>\n",
              "    <tr>\n",
              "      <th>108</th>\n",
              "      <td>EBA1415_SERS_1314_CB-05103</td>\n",
              "      <td>1</td>\n",
              "      <td>99.1</td>\n",
              "      <td>The reason why corals are bleached are due to ...</td>\n",
              "    </tr>\n",
              "    <tr>\n",
              "      <th>109</th>\n",
              "      <td>EBA1415_SERS_1314_CB-05103</td>\n",
              "      <td>1</td>\n",
              "      <td>99.2</td>\n",
              "      <td>The reason why corals are bleached are due to ...</td>\n",
              "    </tr>\n",
              "    <tr>\n",
              "      <th>110</th>\n",
              "      <td>EBA1415_SERS_1314_CB-05103</td>\n",
              "      <td>1</td>\n",
              "      <td>100.1</td>\n",
              "      <td>It forces the coral to eject their food-produc...</td>\n",
              "    </tr>\n",
              "    <tr>\n",
              "      <th>111</th>\n",
              "      <td>EBA1415_SERS_1314_CB-05103</td>\n",
              "      <td>1</td>\n",
              "      <td>100.2</td>\n",
              "      <td>It forces the coral to eject their food-produc...</td>\n",
              "    </tr>\n",
              "    <tr>\n",
              "      <th>113</th>\n",
              "      <td>EBA1415_TTKP_45_CB_ES-04921</td>\n",
              "      <td>1</td>\n",
              "      <td>102.1</td>\n",
              "      <td>They expel the algae living in their tissues, ...</td>\n",
              "    </tr>\n",
              "  </tbody>\n",
              "</table>\n",
              "</div>"
            ],
            "text/plain": [
              "                              essay  ...                                           sentence\n",
              "8        EBA1415_KNKC_1_CB_ES-05410  ...  Which can affect the coral because if the zoox...\n",
              "9        EBA1415_KNKC_1_CB_ES-05410  ...  Which can affect the coral because if the zoox...\n",
              "23   EBA1415post_WSKT_1_CB_ES-05486  ...  This is a problem because corals need co2 in o...\n",
              "24   EBA1415post_WSKT_1_CB_ES-05486  ...  This is a problem because corals need co2 in o...\n",
              "35       EBA1415_KYNS_4_CB_ES-05388  ...            In the text it states \"This is because \n",
              "36       EBA1415_KYNS_4_CB_ES-05388  ...                                    Ran out time //\n",
              "38       EBA1415_KYLS_5_CB_ES-05647  ...  The reason why coral reefs are 'bleach' becaus...\n",
              "39       EBA1415_KYLS_5_CB_ES-05647  ...  The reason why coral reefs are 'bleach' becaus...\n",
              "44       EBA1415_KYLS_5_CB_ES-05647  ...  The reasons is if the winds weaken where the P...\n",
              "45       EBA1415_KYLS_5_CB_ES-05647  ...  The reasons is if the winds weaken where the P...\n",
              "64      EBA1415_TRJA_11_CB_ES-06108  ...  Another thing that can lead to differences of ...\n",
              "65      EBA1415_TRJA_11_CB_ES-06108  ...  Another thing that can lead to differences of ...\n",
              "66      EBA1415_TRJA_11_CB_ES-06108  ...  The storms increase the amount of fresh water,...\n",
              "67      EBA1415_TRJA_11_CB_ES-06108  ...  The storms increase the amount of fresh water,...\n",
              "74      EBA1415_TWDG_11_CB_ES-05698  ...  I don't know exactly the differences in the ra...\n",
              "75      EBA1415_TWDG_11_CB_ES-05698  ...  I don't know exactly the differences in the ra...\n",
              "85       EBA1415_SDMK_4_CB_ES-04768  ...  Environmental stressors cause the coral to eje...\n",
              "86       EBA1415_SDMK_4_CB_ES-04768  ...  Environmental stressors cause the coral to eje...\n",
              "91       EBA1415_SDMK_4_CB_ES-04768  ...  It seems that when the trade winds push the co...\n",
              "92       EBA1415_SDMK_4_CB_ES-04768  ...  It seems that when the trade winds push the co...\n",
              "108      EBA1415_SERS_1314_CB-05103  ...  The reason why corals are bleached are due to ...\n",
              "109      EBA1415_SERS_1314_CB-05103  ...  The reason why corals are bleached are due to ...\n",
              "110      EBA1415_SERS_1314_CB-05103  ...  It forces the coral to eject their food-produc...\n",
              "111      EBA1415_SERS_1314_CB-05103  ...  It forces the coral to eject their food-produc...\n",
              "113     EBA1415_TTKP_45_CB_ES-04921  ...  They expel the algae living in their tissues, ...\n",
              "\n",
              "[25 rows x 4 columns]"
            ]
          },
          "metadata": {
            "tags": []
          },
          "execution_count": 5
        }
      ]
    },
    {
      "cell_type": "markdown",
      "metadata": {
        "id": "5T1KuyexCk6l",
        "colab_type": "text"
      },
      "source": [
        "Now that the duplicates are isolated, they need to be evaluated. If there is at least one relation, one copy of the sentence will be kept as true. If there are no relations, one copy will be kept as false."
      ]
    },
    {
      "cell_type": "code",
      "metadata": {
        "id": "7EVJKEEGCjy3",
        "colab_type": "code",
        "colab": {
          "base_uri": "https://localhost:8080/",
          "height": 929
        },
        "outputId": "5962da15-2365-446b-bc71-a610dd338f06"
      },
      "source": [
        "import numpy as np\n",
        "\n",
        "current = -1\n",
        "\n",
        "same_arr_inds = []\n",
        "drop_list = []\n",
        "\n",
        "for i, row in df_duplicate_sentences.iterrows():\n",
        "  s_num = str(df_duplicate_sentences.loc[i].s_num)\n",
        "  first_num, second_num = s_num.split(\".\")\n",
        "\n",
        "  if first_num != current:\n",
        "    current = first_num\n",
        "\n",
        "    if len(same_arr_inds) > 1:\n",
        "\n",
        "      valid_flag = False\n",
        "      invalid_flag = False\n",
        "\n",
        "      for n in same_arr_inds:\n",
        "\n",
        "        if df_duplicate_sentences.loc[n].relation == 1:\n",
        "          valid_flag = True\n",
        "          break\n",
        "\n",
        "        if df_duplicate_sentences.loc[n].relation == -1:\n",
        "          invalid_flag = True \n",
        "\n",
        "      left = same_arr_inds[0]\n",
        "      right = same_arr_inds[1:]\n",
        "\n",
        "      if valid_flag == True:\n",
        "        df_duplicate_sentences.loc[left].relation = 1\n",
        "      elif invalid_flag == True:\n",
        "        df_duplicate_sentences.loc[left].relation = -1\n",
        "      else:\n",
        "        df_duplicate_sentences.loc[left].relation = 0\n",
        "\n",
        "      drop_list += right   \n",
        "\n",
        "    same_arr_inds = []\n",
        "  same_arr_inds.append(i)\n",
        "\n",
        "df_ternary.drop(drop_list, inplace=True)   \n",
        "\n",
        "df_ternary.head(25)"
      ],
      "execution_count": 6,
      "outputs": [
        {
          "output_type": "stream",
          "text": [
            "/usr/local/lib/python3.6/dist-packages/pandas/core/generic.py:5303: SettingWithCopyWarning: \n",
            "A value is trying to be set on a copy of a slice from a DataFrame\n",
            "\n",
            "See the caveats in the documentation: https://pandas.pydata.org/pandas-docs/stable/user_guide/indexing.html#returning-a-view-versus-a-copy\n",
            "  self[name] = value\n"
          ],
          "name": "stderr"
        },
        {
          "output_type": "execute_result",
          "data": {
            "text/html": [
              "<div>\n",
              "<style scoped>\n",
              "    .dataframe tbody tr th:only-of-type {\n",
              "        vertical-align: middle;\n",
              "    }\n",
              "\n",
              "    .dataframe tbody tr th {\n",
              "        vertical-align: top;\n",
              "    }\n",
              "\n",
              "    .dataframe thead th {\n",
              "        text-align: right;\n",
              "    }\n",
              "</style>\n",
              "<table border=\"1\" class=\"dataframe\">\n",
              "  <thead>\n",
              "    <tr style=\"text-align: right;\">\n",
              "      <th></th>\n",
              "      <th>essay</th>\n",
              "      <th>relation</th>\n",
              "      <th>s_num</th>\n",
              "      <th>sentence</th>\n",
              "    </tr>\n",
              "  </thead>\n",
              "  <tbody>\n",
              "    <tr>\n",
              "      <th>0</th>\n",
              "      <td>EBA1415_KNKC_1_CB_ES-05410</td>\n",
              "      <td>0</td>\n",
              "      <td>1.0</td>\n",
              "      <td>Coral and zooxanthellae depend an each other i...</td>\n",
              "    </tr>\n",
              "    <tr>\n",
              "      <th>1</th>\n",
              "      <td>EBA1415_KNKC_1_CB_ES-05410</td>\n",
              "      <td>1</td>\n",
              "      <td>2.0</td>\n",
              "      <td>If the coral dies, or gets bleached, then the ...</td>\n",
              "    </tr>\n",
              "    <tr>\n",
              "      <th>2</th>\n",
              "      <td>EBA1415_KNKC_1_CB_ES-05410</td>\n",
              "      <td>0</td>\n",
              "      <td>3.0</td>\n",
              "      <td>Or the other way around.</td>\n",
              "    </tr>\n",
              "    <tr>\n",
              "      <th>3</th>\n",
              "      <td>EBA1415_KNKC_1_CB_ES-05410</td>\n",
              "      <td>0</td>\n",
              "      <td>4.0</td>\n",
              "      <td>In the text Shifting Trade Winds, it talks abo...</td>\n",
              "    </tr>\n",
              "    <tr>\n",
              "      <th>4</th>\n",
              "      <td>EBA1415_KNKC_1_CB_ES-05410</td>\n",
              "      <td>2</td>\n",
              "      <td>5.0</td>\n",
              "      <td>And another source states how when the water t...</td>\n",
              "    </tr>\n",
              "    <tr>\n",
              "      <th>5</th>\n",
              "      <td>EBA1415_KNKC_1_CB_ES-05410</td>\n",
              "      <td>0</td>\n",
              "      <td>6.0</td>\n",
              "      <td>When trade winds weaken, sea levels rises inch...</td>\n",
              "    </tr>\n",
              "    <tr>\n",
              "      <th>6</th>\n",
              "      <td>EBA1415_KNKC_1_CB_ES-05410</td>\n",
              "      <td>0</td>\n",
              "      <td>7.0</td>\n",
              "      <td>Which is bad for coral and zooxanthellae becau...</td>\n",
              "    </tr>\n",
              "    <tr>\n",
              "      <th>7</th>\n",
              "      <td>EBA1415_KNKC_1_CB_ES-05410</td>\n",
              "      <td>0</td>\n",
              "      <td>8.0</td>\n",
              "      <td>If the zooxanthellae can't get a light source ...</td>\n",
              "    </tr>\n",
              "    <tr>\n",
              "      <th>8</th>\n",
              "      <td>EBA1415_KNKC_1_CB_ES-05410</td>\n",
              "      <td>1</td>\n",
              "      <td>9.1</td>\n",
              "      <td>Which can affect the coral because if the zoox...</td>\n",
              "    </tr>\n",
              "    <tr>\n",
              "      <th>10</th>\n",
              "      <td>EBA1415_KNKC_1_CB_ES-05410</td>\n",
              "      <td>1</td>\n",
              "      <td>10.0</td>\n",
              "      <td>So shifitng trade is what leads to the differe...</td>\n",
              "    </tr>\n",
              "    <tr>\n",
              "      <th>11</th>\n",
              "      <td>EBA1415post_WSKT_1_CB_ES-05486</td>\n",
              "      <td>0</td>\n",
              "      <td>11.0</td>\n",
              "      <td>Corals are invertebrate animals living togethe...</td>\n",
              "    </tr>\n",
              "    <tr>\n",
              "      <th>12</th>\n",
              "      <td>EBA1415post_WSKT_1_CB_ES-05486</td>\n",
              "      <td>0</td>\n",
              "      <td>12.0</td>\n",
              "      <td>Corals + polyps have a symbiotic relationship ...</td>\n",
              "    </tr>\n",
              "    <tr>\n",
              "      <th>13</th>\n",
              "      <td>EBA1415post_WSKT_1_CB_ES-05486</td>\n",
              "      <td>0</td>\n",
              "      <td>13.0</td>\n",
              "      <td>They give some food, from which they make from...</td>\n",
              "    </tr>\n",
              "    <tr>\n",
              "      <th>14</th>\n",
              "      <td>EBA1415post_WSKT_1_CB_ES-05486</td>\n",
              "      <td>0</td>\n",
              "      <td>14.0</td>\n",
              "      <td>They also give corals their color./</td>\n",
              "    </tr>\n",
              "    <tr>\n",
              "      <th>15</th>\n",
              "      <td>EBA1415post_WSKT_1_CB_ES-05486</td>\n",
              "      <td>0</td>\n",
              "      <td>15.0</td>\n",
              "      <td>However, corals have been substainining physic...</td>\n",
              "    </tr>\n",
              "    <tr>\n",
              "      <th>16</th>\n",
              "      <td>EBA1415post_WSKT_1_CB_ES-05486</td>\n",
              "      <td>0</td>\n",
              "      <td>16.0</td>\n",
              "      <td>To stay healthy a coral needs a constant tempe...</td>\n",
              "    </tr>\n",
              "    <tr>\n",
              "      <th>17</th>\n",
              "      <td>EBA1415post_WSKT_1_CB_ES-05486</td>\n",
              "      <td>0</td>\n",
              "      <td>17.0</td>\n",
              "      <td>A specific phyiscal that has been affecting co...</td>\n",
              "    </tr>\n",
              "    <tr>\n",
              "      <th>18</th>\n",
              "      <td>EBA1415post_WSKT_1_CB_ES-05486</td>\n",
              "      <td>0</td>\n",
              "      <td>18.0</td>\n",
              "      <td>Coral bleaching is a phenomenon in which coral...</td>\n",
              "    </tr>\n",
              "    <tr>\n",
              "      <th>19</th>\n",
              "      <td>EBA1415post_WSKT_1_CB_ES-05486</td>\n",
              "      <td>1</td>\n",
              "      <td>19.0</td>\n",
              "      <td>Coral bleaching can be led to by the rise of w...</td>\n",
              "    </tr>\n",
              "    <tr>\n",
              "      <th>20</th>\n",
              "      <td>EBA1415post_WSKT_1_CB_ES-05486</td>\n",
              "      <td>2</td>\n",
              "      <td>20.0</td>\n",
              "      <td>According to the graph \"Trade Winds + coral Bl...</td>\n",
              "    </tr>\n",
              "    <tr>\n",
              "      <th>21</th>\n",
              "      <td>EBA1415post_WSKT_1_CB_ES-05486</td>\n",
              "      <td>0</td>\n",
              "      <td>21.0</td>\n",
              "      <td>If the trade winds become weaker than that aff...</td>\n",
              "    </tr>\n",
              "    <tr>\n",
              "      <th>22</th>\n",
              "      <td>EBA1415post_WSKT_1_CB_ES-05486</td>\n",
              "      <td>1</td>\n",
              "      <td>22.0</td>\n",
              "      <td>When this occurs, it makes it harder for coral...</td>\n",
              "    </tr>\n",
              "    <tr>\n",
              "      <th>23</th>\n",
              "      <td>EBA1415post_WSKT_1_CB_ES-05486</td>\n",
              "      <td>1</td>\n",
              "      <td>23.1</td>\n",
              "      <td>This is a problem because corals need co2 in o...</td>\n",
              "    </tr>\n",
              "    <tr>\n",
              "      <th>25</th>\n",
              "      <td>EBA1415post_WSKT_1_CB_ES-05486</td>\n",
              "      <td>1</td>\n",
              "      <td>24.0</td>\n",
              "      <td>Corals recieve 50% to 95% of their energy from...</td>\n",
              "    </tr>\n",
              "    <tr>\n",
              "      <th>26</th>\n",
              "      <td>EBA1415_KYNS_4_CB_ES-05388</td>\n",
              "      <td>0</td>\n",
              "      <td>25.0</td>\n",
              "      <td>The differences between rates to coral bleachi...</td>\n",
              "    </tr>\n",
              "  </tbody>\n",
              "</table>\n",
              "</div>"
            ],
            "text/plain": [
              "                             essay  ...                                           sentence\n",
              "0       EBA1415_KNKC_1_CB_ES-05410  ...  Coral and zooxanthellae depend an each other i...\n",
              "1       EBA1415_KNKC_1_CB_ES-05410  ...  If the coral dies, or gets bleached, then the ...\n",
              "2       EBA1415_KNKC_1_CB_ES-05410  ...                           Or the other way around.\n",
              "3       EBA1415_KNKC_1_CB_ES-05410  ...  In the text Shifting Trade Winds, it talks abo...\n",
              "4       EBA1415_KNKC_1_CB_ES-05410  ...  And another source states how when the water t...\n",
              "5       EBA1415_KNKC_1_CB_ES-05410  ...  When trade winds weaken, sea levels rises inch...\n",
              "6       EBA1415_KNKC_1_CB_ES-05410  ...  Which is bad for coral and zooxanthellae becau...\n",
              "7       EBA1415_KNKC_1_CB_ES-05410  ...  If the zooxanthellae can't get a light source ...\n",
              "8       EBA1415_KNKC_1_CB_ES-05410  ...  Which can affect the coral because if the zoox...\n",
              "10      EBA1415_KNKC_1_CB_ES-05410  ...  So shifitng trade is what leads to the differe...\n",
              "11  EBA1415post_WSKT_1_CB_ES-05486  ...  Corals are invertebrate animals living togethe...\n",
              "12  EBA1415post_WSKT_1_CB_ES-05486  ...  Corals + polyps have a symbiotic relationship ...\n",
              "13  EBA1415post_WSKT_1_CB_ES-05486  ...  They give some food, from which they make from...\n",
              "14  EBA1415post_WSKT_1_CB_ES-05486  ...                They also give corals their color./\n",
              "15  EBA1415post_WSKT_1_CB_ES-05486  ...  However, corals have been substainining physic...\n",
              "16  EBA1415post_WSKT_1_CB_ES-05486  ...  To stay healthy a coral needs a constant tempe...\n",
              "17  EBA1415post_WSKT_1_CB_ES-05486  ...  A specific phyiscal that has been affecting co...\n",
              "18  EBA1415post_WSKT_1_CB_ES-05486  ...  Coral bleaching is a phenomenon in which coral...\n",
              "19  EBA1415post_WSKT_1_CB_ES-05486  ...  Coral bleaching can be led to by the rise of w...\n",
              "20  EBA1415post_WSKT_1_CB_ES-05486  ...  According to the graph \"Trade Winds + coral Bl...\n",
              "21  EBA1415post_WSKT_1_CB_ES-05486  ...  If the trade winds become weaker than that aff...\n",
              "22  EBA1415post_WSKT_1_CB_ES-05486  ...  When this occurs, it makes it harder for coral...\n",
              "23  EBA1415post_WSKT_1_CB_ES-05486  ...  This is a problem because corals need co2 in o...\n",
              "25  EBA1415post_WSKT_1_CB_ES-05486  ...  Corals recieve 50% to 95% of their energy from...\n",
              "26      EBA1415_KYNS_4_CB_ES-05388  ...  The differences between rates to coral bleachi...\n",
              "\n",
              "[25 rows x 4 columns]"
            ]
          },
          "metadata": {
            "tags": []
          },
          "execution_count": 6
        }
      ]
    },
    {
      "cell_type": "markdown",
      "metadata": {
        "id": "BYx1K7po088X",
        "colab_type": "text"
      },
      "source": [
        "Let's take a look at the class breakdown."
      ]
    },
    {
      "cell_type": "code",
      "metadata": {
        "id": "Bo5Zacna0_bF",
        "colab_type": "code",
        "colab": {
          "base_uri": "https://localhost:8080/",
          "height": 85
        },
        "outputId": "df1b7d81-c98b-43f4-f271-7c0f85089016"
      },
      "source": [
        "df_ternary[\"relation\"].value_counts()\n"
      ],
      "execution_count": 7,
      "outputs": [
        {
          "output_type": "execute_result",
          "data": {
            "text/plain": [
              "0    5550\n",
              "1    2352\n",
              "2      77\n",
              "Name: relation, dtype: int64"
            ]
          },
          "metadata": {
            "tags": []
          },
          "execution_count": 7
        }
      ]
    },
    {
      "cell_type": "markdown",
      "metadata": {
        "id": "NlaxtpXCJOsD",
        "colab_type": "text"
      },
      "source": [
        "Data is prepped and cleaned at this point. Next is implementation."
      ]
    },
    {
      "cell_type": "markdown",
      "metadata": {
        "id": "IcLd8RGsKMDp",
        "colab_type": "text"
      },
      "source": [
        "Make sure PyTorch is installed - will use with Hugging Face Transformers"
      ]
    },
    {
      "cell_type": "code",
      "metadata": {
        "id": "5F-hxvOQKEXU",
        "colab_type": "code",
        "colab": {
          "base_uri": "https://localhost:8080/",
          "height": 462
        },
        "outputId": "11b67b0b-2e37-44c4-d295-8e9aca21b305"
      },
      "source": [
        "!pip install pytorch-pretrained-bert pytorch-nlp\n",
        "import torch"
      ],
      "execution_count": 8,
      "outputs": [
        {
          "output_type": "stream",
          "text": [
            "Collecting pytorch-pretrained-bert\n",
            "\u001b[?25l  Downloading https://files.pythonhosted.org/packages/d7/e0/c08d5553b89973d9a240605b9c12404bcf8227590de62bae27acbcfe076b/pytorch_pretrained_bert-0.6.2-py3-none-any.whl (123kB)\n",
            "\u001b[K     |████████████████████████████████| 133kB 5.3MB/s \n",
            "\u001b[?25hCollecting pytorch-nlp\n",
            "\u001b[?25l  Downloading https://files.pythonhosted.org/packages/4f/51/f0ee1efb75f7cc2e3065c5da1363d6be2eec79691b2821594f3f2329528c/pytorch_nlp-0.5.0-py3-none-any.whl (90kB)\n",
            "\u001b[K     |████████████████████████████████| 92kB 4.5MB/s \n",
            "\u001b[?25hRequirement already satisfied: tqdm in /usr/local/lib/python3.6/dist-packages (from pytorch-pretrained-bert) (4.41.1)\n",
            "Requirement already satisfied: numpy in /usr/local/lib/python3.6/dist-packages (from pytorch-pretrained-bert) (1.18.5)\n",
            "Requirement already satisfied: requests in /usr/local/lib/python3.6/dist-packages (from pytorch-pretrained-bert) (2.23.0)\n",
            "Requirement already satisfied: regex in /usr/local/lib/python3.6/dist-packages (from pytorch-pretrained-bert) (2019.12.20)\n",
            "Requirement already satisfied: boto3 in /usr/local/lib/python3.6/dist-packages (from pytorch-pretrained-bert) (1.14.63)\n",
            "Requirement already satisfied: torch>=0.4.1 in /usr/local/lib/python3.6/dist-packages (from pytorch-pretrained-bert) (1.6.0+cu101)\n",
            "Requirement already satisfied: chardet<4,>=3.0.2 in /usr/local/lib/python3.6/dist-packages (from requests->pytorch-pretrained-bert) (3.0.4)\n",
            "Requirement already satisfied: urllib3!=1.25.0,!=1.25.1,<1.26,>=1.21.1 in /usr/local/lib/python3.6/dist-packages (from requests->pytorch-pretrained-bert) (1.24.3)\n",
            "Requirement already satisfied: idna<3,>=2.5 in /usr/local/lib/python3.6/dist-packages (from requests->pytorch-pretrained-bert) (2.10)\n",
            "Requirement already satisfied: certifi>=2017.4.17 in /usr/local/lib/python3.6/dist-packages (from requests->pytorch-pretrained-bert) (2020.6.20)\n",
            "Requirement already satisfied: s3transfer<0.4.0,>=0.3.0 in /usr/local/lib/python3.6/dist-packages (from boto3->pytorch-pretrained-bert) (0.3.3)\n",
            "Requirement already satisfied: jmespath<1.0.0,>=0.7.1 in /usr/local/lib/python3.6/dist-packages (from boto3->pytorch-pretrained-bert) (0.10.0)\n",
            "Requirement already satisfied: botocore<1.18.0,>=1.17.63 in /usr/local/lib/python3.6/dist-packages (from boto3->pytorch-pretrained-bert) (1.17.63)\n",
            "Requirement already satisfied: future in /usr/local/lib/python3.6/dist-packages (from torch>=0.4.1->pytorch-pretrained-bert) (0.16.0)\n",
            "Requirement already satisfied: docutils<0.16,>=0.10 in /usr/local/lib/python3.6/dist-packages (from botocore<1.18.0,>=1.17.63->boto3->pytorch-pretrained-bert) (0.15.2)\n",
            "Requirement already satisfied: python-dateutil<3.0.0,>=2.1 in /usr/local/lib/python3.6/dist-packages (from botocore<1.18.0,>=1.17.63->boto3->pytorch-pretrained-bert) (2.8.1)\n",
            "Requirement already satisfied: six>=1.5 in /usr/local/lib/python3.6/dist-packages (from python-dateutil<3.0.0,>=2.1->botocore<1.18.0,>=1.17.63->boto3->pytorch-pretrained-bert) (1.15.0)\n",
            "Installing collected packages: pytorch-pretrained-bert, pytorch-nlp\n",
            "Successfully installed pytorch-nlp-0.5.0 pytorch-pretrained-bert-0.6.2\n"
          ],
          "name": "stdout"
        }
      ]
    },
    {
      "cell_type": "markdown",
      "metadata": {
        "id": "B_1Hz8o0Kfxf",
        "colab_type": "text"
      },
      "source": [
        "Set up GPU."
      ]
    },
    {
      "cell_type": "code",
      "metadata": {
        "id": "jlm1ouSfB2SF",
        "colab_type": "code",
        "colab": {
          "base_uri": "https://localhost:8080/",
          "height": 69
        },
        "outputId": "9bda96de-f7e8-4d56-f3e7-dac6490a456b"
      },
      "source": [
        "# Colab currenly defaults to TensorFlow 1.15, but we need 2.0 or greater\n",
        "\n",
        "%tensorflow_version 2.x\n",
        "import tensorflow as tf\n",
        "print(tf.__version__)\n",
        "\n",
        "device_name = tf.test.gpu_device_name()\n",
        "if device_name != '/device:GPU:0':\n",
        "  raise SystemError('GPU device not found')\n",
        "print('Found GPU at: {}'.format(device_name))\n",
        "\n",
        "device = torch.device(\"cuda\" if torch.cuda.is_available() else \"cpu\")\n",
        "n_gpu = torch.cuda.device_count()\n",
        "torch.cuda.get_device_name(0)"
      ],
      "execution_count": 9,
      "outputs": [
        {
          "output_type": "stream",
          "text": [
            "2.3.0\n",
            "Found GPU at: /device:GPU:0\n"
          ],
          "name": "stdout"
        },
        {
          "output_type": "execute_result",
          "data": {
            "application/vnd.google.colaboratory.intrinsic+json": {
              "type": "string"
            },
            "text/plain": [
              "'Tesla V100-SXM2-16GB'"
            ]
          },
          "metadata": {
            "tags": []
          },
          "execution_count": 9
        }
      ]
    },
    {
      "cell_type": "markdown",
      "metadata": {
        "id": "URhQvinCK2Ql",
        "colab_type": "text"
      },
      "source": [
        "Extract sentences and labels from DataFrame. Must also add special [CLS] and [SEP] tokens for BERT."
      ]
    },
    {
      "cell_type": "code",
      "metadata": {
        "id": "zpdHxLWxK582",
        "colab_type": "code",
        "colab": {}
      },
      "source": [
        "sentences = df_ternary.sentence.values\n",
        "sentences = [\"[CLS] \" + sentence + \" [SEP]\" for sentence in sentences]\n",
        "\n",
        "labels = df_ternary.relation.values"
      ],
      "execution_count": 10,
      "outputs": []
    },
    {
      "cell_type": "markdown",
      "metadata": {
        "id": "tcOIwLrnNlX_",
        "colab_type": "text"
      },
      "source": [
        "Tokenize sentences for BERT."
      ]
    },
    {
      "cell_type": "code",
      "metadata": {
        "id": "OExIMOaGNmvn",
        "colab_type": "code",
        "colab": {
          "base_uri": "https://localhost:8080/",
          "height": 71
        },
        "outputId": "c76916b6-0226-4019-959c-e1dd41d3449d"
      },
      "source": [
        "from pytorch_pretrained_bert import BertTokenizer\n",
        "\n",
        "tokenizer = BertTokenizer.from_pretrained('bert-base-uncased', do_lower_case=True)\n",
        "tokenized_texts = [tokenizer.tokenize(sent) for sent in sentences]\n",
        "print (\"First sentence tokenized: \",tokenized_texts[0])"
      ],
      "execution_count": 11,
      "outputs": [
        {
          "output_type": "stream",
          "text": [
            "100%|██████████| 231508/231508 [00:00<00:00, 680981.98B/s]\n"
          ],
          "name": "stderr"
        },
        {
          "output_type": "stream",
          "text": [
            "First sentence tokenized:  ['[CLS]', 'coral', 'and', 'zoo', '##xa', '##nt', '##hell', '##ae', 'depend', 'an', 'each', 'other', 'in', 'order', 'to', 'live', '.', '[SEP]']\n"
          ],
          "name": "stdout"
        }
      ]
    },
    {
      "cell_type": "markdown",
      "metadata": {
        "id": "rnmI0gzNN3Vq",
        "colab_type": "text"
      },
      "source": [
        "For each tokenized input sentence, we need to create:\n",
        "\n",
        "1. input ids:\n",
        "    a sequence of integers identifying each input token to its index number \n",
        "    in the BERT tokenizer vocabulary\n",
        "\n",
        "2. segment mask: (optional) a sequence of 1s and 0s used to identify whether the input is one \n",
        "    sentence or two sentences long. For one sentence inputs, this is simply a sequence of 0s. \n",
        "    For two sentence inputs, there is a 0 for each token of the first sentence, followed by a \n",
        "    1 for each token of the second sentence\n",
        "\n",
        "3. attention mask: (optional) \n",
        "    a sequence of 1s and 0s, with 1s for all input tokens and 0s for all padding tokens \n",
        "\n",
        "4. labels: based on the labels from the data set\n",
        "\n",
        "Additionally, we will get rid of the sentences greater than MAX_LEN."
      ]
    },
    {
      "cell_type": "code",
      "metadata": {
        "id": "Ugn41x7EN4pR",
        "colab_type": "code",
        "colab": {
          "base_uri": "https://localhost:8080/",
          "height": 34
        },
        "outputId": "c4d9a043-e295-4657-8dae-53579ca0ab5a"
      },
      "source": [
        "MAX_LEN = 128\n",
        "\n",
        "original_length = len(tokenized_texts)\n",
        "\n",
        "labels = [labels[i] for i in range(len(tokenized_texts)) if len(tokenized_texts[i]) <= MAX_LEN]\n",
        "tokenized_texts = [tokenized_texts[i] for i in range(len(tokenized_texts)) if len(tokenized_texts[i]) <= MAX_LEN]\n",
        "print(\"Removed {0} sentences greater than {1}\".format(original_length - len(tokenized_texts),MAX_LEN))\n"
      ],
      "execution_count": 12,
      "outputs": [
        {
          "output_type": "stream",
          "text": [
            "Removed 10 sentences greater than 128\n"
          ],
          "name": "stdout"
        }
      ]
    },
    {
      "cell_type": "markdown",
      "metadata": {
        "id": "EHuInneMOJjZ",
        "colab_type": "text"
      },
      "source": [
        "Convert BERT tokens to corresponding ID numbers in BERT vocabulary.\n",
        "After conversion, pad the sequences."
      ]
    },
    {
      "cell_type": "code",
      "metadata": {
        "id": "GIAxr7uHONoj",
        "colab_type": "code",
        "colab": {}
      },
      "source": [
        "from keras.preprocessing.sequence import pad_sequences\n",
        "\n",
        "input_ids = [tokenizer.convert_tokens_to_ids(x) for x in tokenized_texts]\n",
        "input_ids = pad_sequences(input_ids, maxlen=MAX_LEN, dtype=\"long\", truncating=\"post\", padding=\"post\")"
      ],
      "execution_count": 13,
      "outputs": []
    },
    {
      "cell_type": "markdown",
      "metadata": {
        "id": "-3kqp7kuPSdu",
        "colab_type": "text"
      },
      "source": [
        "Create attention masks."
      ]
    },
    {
      "cell_type": "code",
      "metadata": {
        "id": "jQoscnkCPG3x",
        "colab_type": "code",
        "colab": {}
      },
      "source": [
        "attention_masks = []\n",
        "\n",
        "for seq in input_ids:\n",
        "  seq_mask = [float(i>0) for i in seq]\n",
        "  attention_masks.append(seq_mask)"
      ],
      "execution_count": 14,
      "outputs": []
    },
    {
      "cell_type": "markdown",
      "metadata": {
        "id": "1Pb-muSYO1Nv",
        "colab_type": "text"
      },
      "source": [
        "Split data into train, validation, test."
      ]
    },
    {
      "cell_type": "code",
      "metadata": {
        "id": "Hcbb-2F-O3Da",
        "colab_type": "code",
        "colab": {}
      },
      "source": [
        "from sklearn.model_selection import train_test_split\n",
        "\n",
        "train_inputs, validation_inputs, train_labels, validation_labels = train_test_split(input_ids, labels, \n",
        "                                                            random_state=2018, test_size=0.1)\n",
        "train_masks, validation_masks, _, _ = train_test_split(attention_masks, input_ids,\n",
        "                                             random_state=2018, test_size=0.1)"
      ],
      "execution_count": 15,
      "outputs": []
    },
    {
      "cell_type": "markdown",
      "metadata": {
        "id": "4joL_R9rPjNE",
        "colab_type": "text"
      },
      "source": [
        "Convert sets into Torch tensors."
      ]
    },
    {
      "cell_type": "code",
      "metadata": {
        "id": "Nl-2-b_oPlJ7",
        "colab_type": "code",
        "colab": {}
      },
      "source": [
        "train_inputs = torch.tensor(train_inputs)\n",
        "validation_inputs = torch.tensor(validation_inputs)\n",
        "train_labels = torch.tensor(train_labels)\n",
        "validation_labels = torch.tensor(validation_labels)\n",
        "train_masks = torch.tensor(train_masks)\n",
        "validation_masks = torch.tensor(validation_masks)"
      ],
      "execution_count": 16,
      "outputs": []
    },
    {
      "cell_type": "markdown",
      "metadata": {
        "id": "lxaO7WoRPqMq",
        "colab_type": "text"
      },
      "source": [
        "Create an iterator of our data with torch DataLoader. This helps save on memory during training because, unlike a for loop, \n",
        "the entire dataset does not need to be loaded into memory."
      ]
    },
    {
      "cell_type": "code",
      "metadata": {
        "id": "hBbQRbq-PxMt",
        "colab_type": "code",
        "colab": {}
      },
      "source": [
        "BATCH_SIZE = 32\n",
        "\n",
        "from torch.utils.data import TensorDataset, DataLoader, RandomSampler, SequentialSampler\n",
        "\n",
        "train_data = TensorDataset(train_inputs, train_masks, train_labels)\n",
        "train_sampler = RandomSampler(train_data)\n",
        "train_dataloader = DataLoader(train_data, sampler=train_sampler, batch_size=BATCH_SIZE)\n",
        "\n",
        "validation_data = TensorDataset(validation_inputs, validation_masks, validation_labels)\n",
        "validation_sampler = SequentialSampler(validation_data)\n",
        "validation_dataloader = DataLoader(validation_data, sampler=validation_sampler, batch_size=BATCH_SIZE)"
      ],
      "execution_count": 17,
      "outputs": []
    },
    {
      "cell_type": "markdown",
      "metadata": {
        "id": "Zyd5a3FmQqSb",
        "colab_type": "text"
      },
      "source": [
        "Create model."
      ]
    },
    {
      "cell_type": "code",
      "metadata": {
        "id": "T9tTfNw-Qpsa",
        "colab_type": "code",
        "colab": {
          "base_uri": "https://localhost:8080/",
          "height": 1000
        },
        "outputId": "fea952e8-55ac-472a-b94b-dfb66b6fa1d3"
      },
      "source": [
        "from pytorch_pretrained_bert import BertAdam, BertForSequenceClassification\n",
        "model = BertForSequenceClassification.from_pretrained(\"bert-base-uncased\", num_labels=len(labels))\n",
        "model.cuda()"
      ],
      "execution_count": 18,
      "outputs": [
        {
          "output_type": "stream",
          "text": [
            "100%|██████████| 407873900/407873900 [00:16<00:00, 25418882.65B/s]\n"
          ],
          "name": "stderr"
        },
        {
          "output_type": "execute_result",
          "data": {
            "text/plain": [
              "BertForSequenceClassification(\n",
              "  (bert): BertModel(\n",
              "    (embeddings): BertEmbeddings(\n",
              "      (word_embeddings): Embedding(30522, 768, padding_idx=0)\n",
              "      (position_embeddings): Embedding(512, 768)\n",
              "      (token_type_embeddings): Embedding(2, 768)\n",
              "      (LayerNorm): BertLayerNorm()\n",
              "      (dropout): Dropout(p=0.1, inplace=False)\n",
              "    )\n",
              "    (encoder): BertEncoder(\n",
              "      (layer): ModuleList(\n",
              "        (0): BertLayer(\n",
              "          (attention): BertAttention(\n",
              "            (self): BertSelfAttention(\n",
              "              (query): Linear(in_features=768, out_features=768, bias=True)\n",
              "              (key): Linear(in_features=768, out_features=768, bias=True)\n",
              "              (value): Linear(in_features=768, out_features=768, bias=True)\n",
              "              (dropout): Dropout(p=0.1, inplace=False)\n",
              "            )\n",
              "            (output): BertSelfOutput(\n",
              "              (dense): Linear(in_features=768, out_features=768, bias=True)\n",
              "              (LayerNorm): BertLayerNorm()\n",
              "              (dropout): Dropout(p=0.1, inplace=False)\n",
              "            )\n",
              "          )\n",
              "          (intermediate): BertIntermediate(\n",
              "            (dense): Linear(in_features=768, out_features=3072, bias=True)\n",
              "          )\n",
              "          (output): BertOutput(\n",
              "            (dense): Linear(in_features=3072, out_features=768, bias=True)\n",
              "            (LayerNorm): BertLayerNorm()\n",
              "            (dropout): Dropout(p=0.1, inplace=False)\n",
              "          )\n",
              "        )\n",
              "        (1): BertLayer(\n",
              "          (attention): BertAttention(\n",
              "            (self): BertSelfAttention(\n",
              "              (query): Linear(in_features=768, out_features=768, bias=True)\n",
              "              (key): Linear(in_features=768, out_features=768, bias=True)\n",
              "              (value): Linear(in_features=768, out_features=768, bias=True)\n",
              "              (dropout): Dropout(p=0.1, inplace=False)\n",
              "            )\n",
              "            (output): BertSelfOutput(\n",
              "              (dense): Linear(in_features=768, out_features=768, bias=True)\n",
              "              (LayerNorm): BertLayerNorm()\n",
              "              (dropout): Dropout(p=0.1, inplace=False)\n",
              "            )\n",
              "          )\n",
              "          (intermediate): BertIntermediate(\n",
              "            (dense): Linear(in_features=768, out_features=3072, bias=True)\n",
              "          )\n",
              "          (output): BertOutput(\n",
              "            (dense): Linear(in_features=3072, out_features=768, bias=True)\n",
              "            (LayerNorm): BertLayerNorm()\n",
              "            (dropout): Dropout(p=0.1, inplace=False)\n",
              "          )\n",
              "        )\n",
              "        (2): BertLayer(\n",
              "          (attention): BertAttention(\n",
              "            (self): BertSelfAttention(\n",
              "              (query): Linear(in_features=768, out_features=768, bias=True)\n",
              "              (key): Linear(in_features=768, out_features=768, bias=True)\n",
              "              (value): Linear(in_features=768, out_features=768, bias=True)\n",
              "              (dropout): Dropout(p=0.1, inplace=False)\n",
              "            )\n",
              "            (output): BertSelfOutput(\n",
              "              (dense): Linear(in_features=768, out_features=768, bias=True)\n",
              "              (LayerNorm): BertLayerNorm()\n",
              "              (dropout): Dropout(p=0.1, inplace=False)\n",
              "            )\n",
              "          )\n",
              "          (intermediate): BertIntermediate(\n",
              "            (dense): Linear(in_features=768, out_features=3072, bias=True)\n",
              "          )\n",
              "          (output): BertOutput(\n",
              "            (dense): Linear(in_features=3072, out_features=768, bias=True)\n",
              "            (LayerNorm): BertLayerNorm()\n",
              "            (dropout): Dropout(p=0.1, inplace=False)\n",
              "          )\n",
              "        )\n",
              "        (3): BertLayer(\n",
              "          (attention): BertAttention(\n",
              "            (self): BertSelfAttention(\n",
              "              (query): Linear(in_features=768, out_features=768, bias=True)\n",
              "              (key): Linear(in_features=768, out_features=768, bias=True)\n",
              "              (value): Linear(in_features=768, out_features=768, bias=True)\n",
              "              (dropout): Dropout(p=0.1, inplace=False)\n",
              "            )\n",
              "            (output): BertSelfOutput(\n",
              "              (dense): Linear(in_features=768, out_features=768, bias=True)\n",
              "              (LayerNorm): BertLayerNorm()\n",
              "              (dropout): Dropout(p=0.1, inplace=False)\n",
              "            )\n",
              "          )\n",
              "          (intermediate): BertIntermediate(\n",
              "            (dense): Linear(in_features=768, out_features=3072, bias=True)\n",
              "          )\n",
              "          (output): BertOutput(\n",
              "            (dense): Linear(in_features=3072, out_features=768, bias=True)\n",
              "            (LayerNorm): BertLayerNorm()\n",
              "            (dropout): Dropout(p=0.1, inplace=False)\n",
              "          )\n",
              "        )\n",
              "        (4): BertLayer(\n",
              "          (attention): BertAttention(\n",
              "            (self): BertSelfAttention(\n",
              "              (query): Linear(in_features=768, out_features=768, bias=True)\n",
              "              (key): Linear(in_features=768, out_features=768, bias=True)\n",
              "              (value): Linear(in_features=768, out_features=768, bias=True)\n",
              "              (dropout): Dropout(p=0.1, inplace=False)\n",
              "            )\n",
              "            (output): BertSelfOutput(\n",
              "              (dense): Linear(in_features=768, out_features=768, bias=True)\n",
              "              (LayerNorm): BertLayerNorm()\n",
              "              (dropout): Dropout(p=0.1, inplace=False)\n",
              "            )\n",
              "          )\n",
              "          (intermediate): BertIntermediate(\n",
              "            (dense): Linear(in_features=768, out_features=3072, bias=True)\n",
              "          )\n",
              "          (output): BertOutput(\n",
              "            (dense): Linear(in_features=3072, out_features=768, bias=True)\n",
              "            (LayerNorm): BertLayerNorm()\n",
              "            (dropout): Dropout(p=0.1, inplace=False)\n",
              "          )\n",
              "        )\n",
              "        (5): BertLayer(\n",
              "          (attention): BertAttention(\n",
              "            (self): BertSelfAttention(\n",
              "              (query): Linear(in_features=768, out_features=768, bias=True)\n",
              "              (key): Linear(in_features=768, out_features=768, bias=True)\n",
              "              (value): Linear(in_features=768, out_features=768, bias=True)\n",
              "              (dropout): Dropout(p=0.1, inplace=False)\n",
              "            )\n",
              "            (output): BertSelfOutput(\n",
              "              (dense): Linear(in_features=768, out_features=768, bias=True)\n",
              "              (LayerNorm): BertLayerNorm()\n",
              "              (dropout): Dropout(p=0.1, inplace=False)\n",
              "            )\n",
              "          )\n",
              "          (intermediate): BertIntermediate(\n",
              "            (dense): Linear(in_features=768, out_features=3072, bias=True)\n",
              "          )\n",
              "          (output): BertOutput(\n",
              "            (dense): Linear(in_features=3072, out_features=768, bias=True)\n",
              "            (LayerNorm): BertLayerNorm()\n",
              "            (dropout): Dropout(p=0.1, inplace=False)\n",
              "          )\n",
              "        )\n",
              "        (6): BertLayer(\n",
              "          (attention): BertAttention(\n",
              "            (self): BertSelfAttention(\n",
              "              (query): Linear(in_features=768, out_features=768, bias=True)\n",
              "              (key): Linear(in_features=768, out_features=768, bias=True)\n",
              "              (value): Linear(in_features=768, out_features=768, bias=True)\n",
              "              (dropout): Dropout(p=0.1, inplace=False)\n",
              "            )\n",
              "            (output): BertSelfOutput(\n",
              "              (dense): Linear(in_features=768, out_features=768, bias=True)\n",
              "              (LayerNorm): BertLayerNorm()\n",
              "              (dropout): Dropout(p=0.1, inplace=False)\n",
              "            )\n",
              "          )\n",
              "          (intermediate): BertIntermediate(\n",
              "            (dense): Linear(in_features=768, out_features=3072, bias=True)\n",
              "          )\n",
              "          (output): BertOutput(\n",
              "            (dense): Linear(in_features=3072, out_features=768, bias=True)\n",
              "            (LayerNorm): BertLayerNorm()\n",
              "            (dropout): Dropout(p=0.1, inplace=False)\n",
              "          )\n",
              "        )\n",
              "        (7): BertLayer(\n",
              "          (attention): BertAttention(\n",
              "            (self): BertSelfAttention(\n",
              "              (query): Linear(in_features=768, out_features=768, bias=True)\n",
              "              (key): Linear(in_features=768, out_features=768, bias=True)\n",
              "              (value): Linear(in_features=768, out_features=768, bias=True)\n",
              "              (dropout): Dropout(p=0.1, inplace=False)\n",
              "            )\n",
              "            (output): BertSelfOutput(\n",
              "              (dense): Linear(in_features=768, out_features=768, bias=True)\n",
              "              (LayerNorm): BertLayerNorm()\n",
              "              (dropout): Dropout(p=0.1, inplace=False)\n",
              "            )\n",
              "          )\n",
              "          (intermediate): BertIntermediate(\n",
              "            (dense): Linear(in_features=768, out_features=3072, bias=True)\n",
              "          )\n",
              "          (output): BertOutput(\n",
              "            (dense): Linear(in_features=3072, out_features=768, bias=True)\n",
              "            (LayerNorm): BertLayerNorm()\n",
              "            (dropout): Dropout(p=0.1, inplace=False)\n",
              "          )\n",
              "        )\n",
              "        (8): BertLayer(\n",
              "          (attention): BertAttention(\n",
              "            (self): BertSelfAttention(\n",
              "              (query): Linear(in_features=768, out_features=768, bias=True)\n",
              "              (key): Linear(in_features=768, out_features=768, bias=True)\n",
              "              (value): Linear(in_features=768, out_features=768, bias=True)\n",
              "              (dropout): Dropout(p=0.1, inplace=False)\n",
              "            )\n",
              "            (output): BertSelfOutput(\n",
              "              (dense): Linear(in_features=768, out_features=768, bias=True)\n",
              "              (LayerNorm): BertLayerNorm()\n",
              "              (dropout): Dropout(p=0.1, inplace=False)\n",
              "            )\n",
              "          )\n",
              "          (intermediate): BertIntermediate(\n",
              "            (dense): Linear(in_features=768, out_features=3072, bias=True)\n",
              "          )\n",
              "          (output): BertOutput(\n",
              "            (dense): Linear(in_features=3072, out_features=768, bias=True)\n",
              "            (LayerNorm): BertLayerNorm()\n",
              "            (dropout): Dropout(p=0.1, inplace=False)\n",
              "          )\n",
              "        )\n",
              "        (9): BertLayer(\n",
              "          (attention): BertAttention(\n",
              "            (self): BertSelfAttention(\n",
              "              (query): Linear(in_features=768, out_features=768, bias=True)\n",
              "              (key): Linear(in_features=768, out_features=768, bias=True)\n",
              "              (value): Linear(in_features=768, out_features=768, bias=True)\n",
              "              (dropout): Dropout(p=0.1, inplace=False)\n",
              "            )\n",
              "            (output): BertSelfOutput(\n",
              "              (dense): Linear(in_features=768, out_features=768, bias=True)\n",
              "              (LayerNorm): BertLayerNorm()\n",
              "              (dropout): Dropout(p=0.1, inplace=False)\n",
              "            )\n",
              "          )\n",
              "          (intermediate): BertIntermediate(\n",
              "            (dense): Linear(in_features=768, out_features=3072, bias=True)\n",
              "          )\n",
              "          (output): BertOutput(\n",
              "            (dense): Linear(in_features=3072, out_features=768, bias=True)\n",
              "            (LayerNorm): BertLayerNorm()\n",
              "            (dropout): Dropout(p=0.1, inplace=False)\n",
              "          )\n",
              "        )\n",
              "        (10): BertLayer(\n",
              "          (attention): BertAttention(\n",
              "            (self): BertSelfAttention(\n",
              "              (query): Linear(in_features=768, out_features=768, bias=True)\n",
              "              (key): Linear(in_features=768, out_features=768, bias=True)\n",
              "              (value): Linear(in_features=768, out_features=768, bias=True)\n",
              "              (dropout): Dropout(p=0.1, inplace=False)\n",
              "            )\n",
              "            (output): BertSelfOutput(\n",
              "              (dense): Linear(in_features=768, out_features=768, bias=True)\n",
              "              (LayerNorm): BertLayerNorm()\n",
              "              (dropout): Dropout(p=0.1, inplace=False)\n",
              "            )\n",
              "          )\n",
              "          (intermediate): BertIntermediate(\n",
              "            (dense): Linear(in_features=768, out_features=3072, bias=True)\n",
              "          )\n",
              "          (output): BertOutput(\n",
              "            (dense): Linear(in_features=3072, out_features=768, bias=True)\n",
              "            (LayerNorm): BertLayerNorm()\n",
              "            (dropout): Dropout(p=0.1, inplace=False)\n",
              "          )\n",
              "        )\n",
              "        (11): BertLayer(\n",
              "          (attention): BertAttention(\n",
              "            (self): BertSelfAttention(\n",
              "              (query): Linear(in_features=768, out_features=768, bias=True)\n",
              "              (key): Linear(in_features=768, out_features=768, bias=True)\n",
              "              (value): Linear(in_features=768, out_features=768, bias=True)\n",
              "              (dropout): Dropout(p=0.1, inplace=False)\n",
              "            )\n",
              "            (output): BertSelfOutput(\n",
              "              (dense): Linear(in_features=768, out_features=768, bias=True)\n",
              "              (LayerNorm): BertLayerNorm()\n",
              "              (dropout): Dropout(p=0.1, inplace=False)\n",
              "            )\n",
              "          )\n",
              "          (intermediate): BertIntermediate(\n",
              "            (dense): Linear(in_features=768, out_features=3072, bias=True)\n",
              "          )\n",
              "          (output): BertOutput(\n",
              "            (dense): Linear(in_features=3072, out_features=768, bias=True)\n",
              "            (LayerNorm): BertLayerNorm()\n",
              "            (dropout): Dropout(p=0.1, inplace=False)\n",
              "          )\n",
              "        )\n",
              "      )\n",
              "    )\n",
              "    (pooler): BertPooler(\n",
              "      (dense): Linear(in_features=768, out_features=768, bias=True)\n",
              "      (activation): Tanh()\n",
              "    )\n",
              "  )\n",
              "  (dropout): Dropout(p=0.1, inplace=False)\n",
              "  (classifier): Linear(in_features=768, out_features=7969, bias=True)\n",
              ")"
            ]
          },
          "metadata": {
            "tags": []
          },
          "execution_count": 18
        }
      ]
    },
    {
      "cell_type": "markdown",
      "metadata": {
        "id": "4vGJNoJ9Rfqd",
        "colab_type": "text"
      },
      "source": [
        "Now that we have our model loaded we need to grab the training hyperparameters from within the stored model.\n",
        "\n",
        "For the purposes of fine-tuning, the authors recommend the following hyperparameter ranges:\n",
        "\n",
        "*   Batch size: 16, 32\n",
        "*    Learning rate (Adam): 5e-5, 3e-5, 2e-5\n",
        "*    Number of epochs: 2, 3, 4"
      ]
    },
    {
      "cell_type": "code",
      "metadata": {
        "id": "KgwH7ustRiOI",
        "colab_type": "code",
        "colab": {
          "base_uri": "https://localhost:8080/",
          "height": 34
        },
        "outputId": "f613aba4-23e2-4fb4-8d01-95c145b46099"
      },
      "source": [
        "LEARNING_RATE = 2e-5\n",
        "WARMUP = .1\n",
        "\n",
        "param_optimizer = list(model.named_parameters())\n",
        "no_decay = ['bias', 'gamma', 'beta']\n",
        "optimizer_grouped_parameters = [\n",
        "    {'params': [p for n, p in param_optimizer if not any(nd in n for nd in no_decay)],\n",
        "     'weight_decay_rate': 0.01},\n",
        "    {'params': [p for n, p in param_optimizer if any(nd in n for nd in no_decay)],\n",
        "     'weight_decay_rate': 0.0}\n",
        "]\n",
        "\n",
        "optimizer = BertAdam(optimizer_grouped_parameters,\n",
        "                     lr=LEARNING_RATE,\n",
        "                     warmup=WARMUP)"
      ],
      "execution_count": 19,
      "outputs": [
        {
          "output_type": "stream",
          "text": [
            "t_total value of -1 results in schedule not being applied\n"
          ],
          "name": "stderr"
        }
      ]
    },
    {
      "cell_type": "markdown",
      "metadata": {
        "id": "i5259TkfSK9s",
        "colab_type": "text"
      },
      "source": [
        "Time for training."
      ]
    },
    {
      "cell_type": "code",
      "metadata": {
        "id": "HwfUmMUFSMTk",
        "colab_type": "code",
        "colab": {
          "base_uri": "https://localhost:8080/",
          "height": 275
        },
        "outputId": "0ef97838-3d14-4d44-a492-ab07359145ce"
      },
      "source": [
        "from tqdm import trange\n",
        "\n",
        "EPOCHS = 4\n",
        "\n",
        "t = [] \n",
        "\n",
        "# Store our loss and accuracy for plotting\n",
        "train_loss_set = []\n",
        "\n",
        "# Function to calculate the accuracy of our predictions vs labels\n",
        "def flat_accuracy(preds, labels):\n",
        "    pred_flat = np.argmax(preds, axis=1).flatten()\n",
        "    labels_flat = labels.flatten()\n",
        "    return np.sum(pred_flat == labels_flat) / len(labels_flat)\n",
        "\n",
        "# trange is a tqdm wrapper around the normal python range\n",
        "for _ in trange(EPOCHS, desc=\"Epoch\"):\n",
        "  \n",
        "  # Training\n",
        "  \n",
        "  # Set our model to training mode (as opposed to evaluation mode)\n",
        "  model.train()\n",
        "  \n",
        "  # Tracking variables\n",
        "  tr_loss = 0\n",
        "  nb_tr_examples, nb_tr_steps = 0, 0\n",
        "  \n",
        "  # Train the data for one epoch\n",
        "  for step, batch in enumerate(train_dataloader):\n",
        "    # Add batch to GPU\n",
        "    batch = tuple(t.to(device) for t in batch)\n",
        "    # Unpack the inputs from our dataloader\n",
        "    b_input_ids, b_input_mask, b_labels = batch\n",
        "    # Clear out the gradients (by default they accumulate)\n",
        "    optimizer.zero_grad()\n",
        "    # Forward pass\n",
        "    loss = model(b_input_ids, token_type_ids=None, attention_mask=b_input_mask, labels=b_labels)\n",
        "    train_loss_set.append(loss.item())    \n",
        "    # Backward pass\n",
        "    loss.backward()\n",
        "    # Update parameters and take a step using the computed gradient\n",
        "    optimizer.step()\n",
        "    \n",
        "    # Update tracking variables\n",
        "    tr_loss += loss.item()\n",
        "    nb_tr_examples += b_input_ids.size(0)\n",
        "    nb_tr_steps += 1\n",
        "\n",
        "  print(\"Train loss: {}\".format(tr_loss/nb_tr_steps))\n",
        "    \n",
        "    \n",
        "  # Validation\n",
        "\n",
        "  # Put model in evaluation mode to evaluate loss on the validation set\n",
        "  model.eval()\n",
        "\n",
        "  # Tracking variables \n",
        "  eval_loss, eval_accuracy = 0, 0\n",
        "  nb_eval_steps, nb_eval_examples = 0, 0\n",
        "\n",
        "  # Evaluate data for one epoch\n",
        "  for batch in validation_dataloader:\n",
        "    # Add batch to GPU\n",
        "    batch = tuple(t.to(device) for t in batch)\n",
        "    # Unpack the inputs from our dataloader\n",
        "    b_input_ids, b_input_mask, b_labels = batch\n",
        "    # Telling the model not to compute or store gradients, saving memory and speeding up validation\n",
        "    with torch.no_grad():\n",
        "      # Forward pass, calculate logit predictions\n",
        "      logits = model(b_input_ids, token_type_ids=None, attention_mask=b_input_mask)\n",
        "    \n",
        "    # Move logits and labels to CPU\n",
        "    logits = logits.detach().cpu().numpy()\n",
        "    label_ids = b_labels.to('cpu').numpy()\n",
        "\n",
        "    tmp_eval_accuracy = flat_accuracy(logits, label_ids)\n",
        "    \n",
        "    eval_accuracy += tmp_eval_accuracy\n",
        "    nb_eval_steps += 1\n",
        "\n",
        "  print(\"Validation Accuracy: {}\".format(eval_accuracy/nb_eval_steps))"
      ],
      "execution_count": 20,
      "outputs": [
        {
          "output_type": "stream",
          "text": [
            "\rEpoch:   0%|          | 0/4 [00:00<?, ?it/s]/usr/local/lib/python3.6/dist-packages/pytorch_pretrained_bert/optimization.py:275: UserWarning: This overload of add_ is deprecated:\n",
            "\tadd_(Number alpha, Tensor other)\n",
            "Consider using one of the following signatures instead:\n",
            "\tadd_(Tensor other, *, Number alpha) (Triggered internally at  /pytorch/torch/csrc/utils/python_arg_parser.cpp:766.)\n",
            "  next_m.mul_(beta1).add_(1 - beta1, grad)\n"
          ],
          "name": "stderr"
        },
        {
          "output_type": "stream",
          "text": [
            "Train loss: 0.9397513710955778\n"
          ],
          "name": "stdout"
        },
        {
          "output_type": "stream",
          "text": [
            "\rEpoch:  25%|██▌       | 1/4 [01:14<03:42, 74.30s/it]"
          ],
          "name": "stderr"
        },
        {
          "output_type": "stream",
          "text": [
            "Validation Accuracy: 0.8744827586206897\n",
            "Train loss: 0.2546930351191097\n"
          ],
          "name": "stdout"
        },
        {
          "output_type": "stream",
          "text": [
            "\rEpoch:  50%|█████     | 2/4 [02:28<02:28, 74.17s/it]"
          ],
          "name": "stderr"
        },
        {
          "output_type": "stream",
          "text": [
            "Validation Accuracy: 0.8744827586206897\n",
            "Train loss: 0.16578893144097592\n"
          ],
          "name": "stdout"
        },
        {
          "output_type": "stream",
          "text": [
            "\rEpoch:  75%|███████▌  | 3/4 [03:42<01:14, 74.12s/it]"
          ],
          "name": "stderr"
        },
        {
          "output_type": "stream",
          "text": [
            "Validation Accuracy: 0.8742241379310345\n",
            "Train loss: 0.11324220589465565\n"
          ],
          "name": "stdout"
        },
        {
          "output_type": "stream",
          "text": [
            "Epoch: 100%|██████████| 4/4 [04:56<00:00, 74.02s/it]"
          ],
          "name": "stderr"
        },
        {
          "output_type": "stream",
          "text": [
            "Validation Accuracy: 0.8807327586206897\n"
          ],
          "name": "stdout"
        },
        {
          "output_type": "stream",
          "text": [
            "\n"
          ],
          "name": "stderr"
        }
      ]
    },
    {
      "cell_type": "markdown",
      "metadata": {
        "id": "3QibYE0QZny6",
        "colab_type": "text"
      },
      "source": [
        "Snapshot of loss over time."
      ]
    },
    {
      "cell_type": "code",
      "metadata": {
        "id": "JCTp25qbZr5q",
        "colab_type": "code",
        "colab": {
          "base_uri": "https://localhost:8080/",
          "height": 513
        },
        "outputId": "7a3edb08-fbae-4391-9c59-ec9d950ae076"
      },
      "source": [
        "import matplotlib.pyplot as plt\n",
        "% matplotlib inline\n",
        "\n",
        "plt.figure(figsize=(15,8))\n",
        "plt.title(\"Training loss\")\n",
        "plt.xlabel(\"Batch\")\n",
        "plt.ylabel(\"Loss\")\n",
        "plt.plot(train_loss_set)\n",
        "plt.show()"
      ],
      "execution_count": 21,
      "outputs": [
        {
          "output_type": "display_data",
          "data": {
            "image/png": "[encoded data removed]",
            "text/plain": [
              "<Figure size 1080x576 with 1 Axes>"
            ]
          },
          "metadata": {
            "tags": [],
            "needs_background": "light"
          }
        }
      ]
    },
    {
      "cell_type": "code",
      "metadata": {
        "id": "O2AxdyzHS_l7",
        "colab_type": "code",
        "colab": {}
      },
      "source": [
        ""
      ],
      "execution_count": 21,
      "outputs": []
    },
    {
      "cell_type": "code",
      "metadata": {
        "id": "zjLlDr9jS_jb",
        "colab_type": "code",
        "colab": {}
      },
      "source": [
        ""
      ],
      "execution_count": 21,
      "outputs": []
    },
    {
      "cell_type": "code",
      "metadata": {
        "id": "VibMUNimS_gi",
        "colab_type": "code",
        "colab": {}
      },
      "source": [
        ""
      ],
      "execution_count": 21,
      "outputs": []
    },
    {
      "cell_type": "markdown",
      "metadata": {
        "id": "Pmpb0zgKES4e",
        "colab_type": "text"
      },
      "source": [
        "Test model on testing data."
      ]
    },
    {
      "cell_type": "code",
      "metadata": {
        "id": "f7QLVJUaEXbM",
        "colab_type": "code",
        "colab": {
          "base_uri": "https://localhost:8080/",
          "height": 1000
        },
        "outputId": "3b419f86-060e-436a-addc-6fc5ddc1055e"
      },
      "source": [
        "DATA_NAME = \"EBA1415-CoralBleaching-little-sentences.tsv\"\n",
        "\n",
        "df_test = pd.read_csv(DATA_PATH + DATA_NAME, delimiter='\\t', header=None, names=['essay', 'relation', 's_num', 'sentence'])\n",
        "\n",
        "df_test.head(50)"
      ],
      "execution_count": 22,
      "outputs": [
        {
          "output_type": "execute_result",
          "data": {
            "text/html": [
              "<div>\n",
              "<style scoped>\n",
              "    .dataframe tbody tr th:only-of-type {\n",
              "        vertical-align: middle;\n",
              "    }\n",
              "\n",
              "    .dataframe tbody tr th {\n",
              "        vertical-align: top;\n",
              "    }\n",
              "\n",
              "    .dataframe thead th {\n",
              "        text-align: right;\n",
              "    }\n",
              "</style>\n",
              "<table border=\"1\" class=\"dataframe\">\n",
              "  <thead>\n",
              "    <tr style=\"text-align: right;\">\n",
              "      <th></th>\n",
              "      <th>essay</th>\n",
              "      <th>relation</th>\n",
              "      <th>s_num</th>\n",
              "      <th>sentence</th>\n",
              "    </tr>\n",
              "  </thead>\n",
              "  <tbody>\n",
              "    <tr>\n",
              "      <th>0</th>\n",
              "      <td>EBA1415_TFBM_2_CB_ES-05548</td>\n",
              "      <td>O</td>\n",
              "      <td>1.0</td>\n",
              "      <td>No essay  //</td>\n",
              "    </tr>\n",
              "    <tr>\n",
              "      <th>1</th>\n",
              "      <td>EBA1415_TRJA_11_CB_ES-06110</td>\n",
              "      <td>O</td>\n",
              "      <td>2.0</td>\n",
              "      <td>Somethings that lead to the differences are.. ...</td>\n",
              "    </tr>\n",
              "    <tr>\n",
              "      <th>2</th>\n",
              "      <td>EBA1415_TRJA_11_CB_ES-06110</td>\n",
              "      <td>O</td>\n",
              "      <td>3.0</td>\n",
              "      <td>Some have been bleach all white it is a phenom...</td>\n",
              "    </tr>\n",
              "    <tr>\n",
              "      <th>3</th>\n",
              "      <td>EBA1415_TRJA_11_CB_ES-06110</td>\n",
              "      <td>O</td>\n",
              "      <td>4.0</td>\n",
              "      <td>Coral bleaching is most noticeable in the Paci...</td>\n",
              "    </tr>\n",
              "    <tr>\n",
              "      <th>4</th>\n",
              "      <td>EBA1415_TRJA_11_CB_ES-06110</td>\n",
              "      <td>O</td>\n",
              "      <td>5.0</td>\n",
              "      <td>That ocean covers about 1/3 of the surface of ...</td>\n",
              "    </tr>\n",
              "    <tr>\n",
              "      <th>5</th>\n",
              "      <td>EBA1415_TRJA_11_CB_ES-06110</td>\n",
              "      <td>O</td>\n",
              "      <td>6.0</td>\n",
              "      <td>The invertebrate animals live together in Colo...</td>\n",
              "    </tr>\n",
              "    <tr>\n",
              "      <th>6</th>\n",
              "      <td>EBA1415_TRJA_11_CB_ES-06110</td>\n",
              "      <td>R-7-50</td>\n",
              "      <td>7.0</td>\n",
              "      <td>The different type of algae living within the ...</td>\n",
              "    </tr>\n",
              "    <tr>\n",
              "      <th>7</th>\n",
              "      <td>EBA1415_RHSG_2_CB_ES-05081</td>\n",
              "      <td>R-1-50</td>\n",
              "      <td>8.0</td>\n",
              "      <td>There are several things that cause coral blea...</td>\n",
              "    </tr>\n",
              "    <tr>\n",
              "      <th>8</th>\n",
              "      <td>EBA1415_RHSG_2_CB_ES-05081</td>\n",
              "      <td>O</td>\n",
              "      <td>9.0</td>\n",
              "      <td>The trade winds make sea water rise.</td>\n",
              "    </tr>\n",
              "    <tr>\n",
              "      <th>9</th>\n",
              "      <td>EBA1415_RHSG_2_CB_ES-05081</td>\n",
              "      <td>R-1-3</td>\n",
              "      <td>10.0</td>\n",
              "      <td>The trade winds also change water temperature</td>\n",
              "    </tr>\n",
              "    <tr>\n",
              "      <th>10</th>\n",
              "      <td>EBA1415_RHSG_2_CB_ES-05081</td>\n",
              "      <td>O</td>\n",
              "      <td>11.0</td>\n",
              "      <td>(2) Coral is made up of small animals called p...</td>\n",
              "    </tr>\n",
              "    <tr>\n",
              "      <th>11</th>\n",
              "      <td>EBA1415_RHSG_2_CB_ES-05081</td>\n",
              "      <td>O</td>\n",
              "      <td>12.0</td>\n",
              "      <td>Coral reefs are only found in clear, shallow, ...</td>\n",
              "    </tr>\n",
              "    <tr>\n",
              "      <th>12</th>\n",
              "      <td>EBA1415_RHSG_2_CB_ES-05081</td>\n",
              "      <td>O</td>\n",
              "      <td>13.0</td>\n",
              "      <td>They live there because the algae that live in...</td>\n",
              "    </tr>\n",
              "    <tr>\n",
              "      <th>13</th>\n",
              "      <td>EBA1415_RHSG_2_CB_ES-05081</td>\n",
              "      <td>O</td>\n",
              "      <td>14.0</td>\n",
              "      <td>The algae use energy from sunlight to</td>\n",
              "    </tr>\n",
              "    <tr>\n",
              "      <th>14</th>\n",
              "      <td>EBA1415_RHSG_2_CB_ES-05081</td>\n",
              "      <td>O</td>\n",
              "      <td>15.0</td>\n",
              "      <td>Ran out of time   //</td>\n",
              "    </tr>\n",
              "    <tr>\n",
              "      <th>15</th>\n",
              "      <td>EBA1415_KYNS_4_CB_ES-05390</td>\n",
              "      <td>R-1-50</td>\n",
              "      <td>16.0</td>\n",
              "      <td>What lead to differences in the rates of coral...</td>\n",
              "    </tr>\n",
              "    <tr>\n",
              "      <th>16</th>\n",
              "      <td>EBA1415_KYNS_4_CB_ES-05390</td>\n",
              "      <td>O</td>\n",
              "      <td>17.0</td>\n",
              "      <td>Coral bleaching is when a coral loses its color.</td>\n",
              "    </tr>\n",
              "    <tr>\n",
              "      <th>17</th>\n",
              "      <td>EBA1415_KYNS_4_CB_ES-05390</td>\n",
              "      <td>O</td>\n",
              "      <td>18.0</td>\n",
              "      <td>One cause is shifting trade winds.</td>\n",
              "    </tr>\n",
              "    <tr>\n",
              "      <th>18</th>\n",
              "      <td>EBA1415_KYNS_4_CB_ES-05390</td>\n",
              "      <td>R-1-2</td>\n",
              "      <td>19.0</td>\n",
              "      <td>Trade winds travel from east to west, causing ...</td>\n",
              "    </tr>\n",
              "    <tr>\n",
              "      <th>19</th>\n",
              "      <td>EBA1415_KYNS_4_CB_ES-05390</td>\n",
              "      <td>O</td>\n",
              "      <td>20.0</td>\n",
              "      <td>Tradewinds constantly shift, causing major cha...</td>\n",
              "    </tr>\n",
              "    <tr>\n",
              "      <th>20</th>\n",
              "      <td>EBA1415_KYNS_4_CB_ES-05390</td>\n",
              "      <td>R-1-3</td>\n",
              "      <td>21.1</td>\n",
              "      <td>Weaker trade winds cause higher water temperat...</td>\n",
              "    </tr>\n",
              "    <tr>\n",
              "      <th>21</th>\n",
              "      <td>EBA1415_KYNS_4_CB_ES-05390</td>\n",
              "      <td>R-3-50</td>\n",
              "      <td>21.2</td>\n",
              "      <td>Weaker trade winds cause higher water temperat...</td>\n",
              "    </tr>\n",
              "    <tr>\n",
              "      <th>22</th>\n",
              "      <td>EBA1415_KYNS_4_CB_ES-05390</td>\n",
              "      <td>O</td>\n",
              "      <td>22.0</td>\n",
              "      <td>In order for coral to survive, it needs photos...</td>\n",
              "    </tr>\n",
              "    <tr>\n",
              "      <th>23</th>\n",
              "      <td>EBA1415_KYNS_4_CB_ES-05390</td>\n",
              "      <td>O</td>\n",
              "      <td>23.0</td>\n",
              "      <td>Algae lives in the coral tissues, called zooxa...</td>\n",
              "    </tr>\n",
              "    <tr>\n",
              "      <th>24</th>\n",
              "      <td>EBA1415_KYNS_4_CB_ES-05390</td>\n",
              "      <td>O</td>\n",
              "      <td>24.0</td>\n",
              "      <td>Coral and zooxanthellae need each other to sur...</td>\n",
              "    </tr>\n",
              "    <tr>\n",
              "      <th>25</th>\n",
              "      <td>EBA1415_KYNS_4_CB_ES-05390</td>\n",
              "      <td>R-4-5</td>\n",
              "      <td>25.0</td>\n",
              "      <td>Zooxanthellae gets energy fron the sun, combin...</td>\n",
              "    </tr>\n",
              "    <tr>\n",
              "      <th>26</th>\n",
              "      <td>EBA1415_KYNS_4_CB_ES-05390</td>\n",
              "      <td>R-4-5</td>\n",
              "      <td>26.0</td>\n",
              "      <td>During this process, carbon is passed to the c...</td>\n",
              "    </tr>\n",
              "    <tr>\n",
              "      <th>27</th>\n",
              "      <td>EBA1415_KYNS_4_CB_ES-05390</td>\n",
              "      <td>R-3-5</td>\n",
              "      <td>27.0</td>\n",
              "      <td>In order for coral to survive, it needs water ...</td>\n",
              "    </tr>\n",
              "    <tr>\n",
              "      <th>28</th>\n",
              "      <td>EBA1415_KYNS_4_CB_ES-05390</td>\n",
              "      <td>R-3-4</td>\n",
              "      <td>28.0</td>\n",
              "      <td>When water temperature increases, the amount o...</td>\n",
              "    </tr>\n",
              "    <tr>\n",
              "      <th>29</th>\n",
              "      <td>EBA1415_KYNS_4_CB_ES-05390</td>\n",
              "      <td>R-3-14</td>\n",
              "      <td>29.1</td>\n",
              "      <td>When the water temperature is constantly chang...</td>\n",
              "    </tr>\n",
              "    <tr>\n",
              "      <th>30</th>\n",
              "      <td>EBA1415_KYNS_4_CB_ES-05390</td>\n",
              "      <td>R-1-3</td>\n",
              "      <td>29.2</td>\n",
              "      <td>When the water temperature is constantly chang...</td>\n",
              "    </tr>\n",
              "    <tr>\n",
              "      <th>31</th>\n",
              "      <td>EBA1415_KYNS_4_CB_ES-05390</td>\n",
              "      <td>R-14-50</td>\n",
              "      <td>30.1</td>\n",
              "      <td>Coral bleaching happens when the coral is unhe...</td>\n",
              "    </tr>\n",
              "    <tr>\n",
              "      <th>32</th>\n",
              "      <td>EBA1415_KYNS_4_CB_ES-05390</td>\n",
              "      <td>R-14-7</td>\n",
              "      <td>30.2</td>\n",
              "      <td>Coral bleaching happens when the coral is unhe...</td>\n",
              "    </tr>\n",
              "    <tr>\n",
              "      <th>33</th>\n",
              "      <td>EBA1415_KYNS_4_CB_ES-05390</td>\n",
              "      <td>R-1-3</td>\n",
              "      <td>31.1</td>\n",
              "      <td>Trade winds affect the balance of water temper...</td>\n",
              "    </tr>\n",
              "    <tr>\n",
              "      <th>34</th>\n",
              "      <td>EBA1415_KYNS_4_CB_ES-05390</td>\n",
              "      <td>R-3-7</td>\n",
              "      <td>31.2</td>\n",
              "      <td>Trade winds affect the balance of water temper...</td>\n",
              "    </tr>\n",
              "    <tr>\n",
              "      <th>35</th>\n",
              "      <td>EBA1415_KYNS_4_CB_ES-05390</td>\n",
              "      <td>O</td>\n",
              "      <td>32.0</td>\n",
              "      <td>Without the zooxanthellae, coral will not surv...</td>\n",
              "    </tr>\n",
              "    <tr>\n",
              "      <th>36</th>\n",
              "      <td>EBA1415_KYNS_4_CB_ES-05390</td>\n",
              "      <td>O</td>\n",
              "      <td>33.0</td>\n",
              "      <td>Without the coral, the zooxanthellae will also...</td>\n",
              "    </tr>\n",
              "    <tr>\n",
              "      <th>37</th>\n",
              "      <td>EBA1415_KYNS_4_CB_ES-05390</td>\n",
              "      <td>R-7-14</td>\n",
              "      <td>34.1</td>\n",
              "      <td>When the zooxanthellae dies or is ejected, the...</td>\n",
              "    </tr>\n",
              "    <tr>\n",
              "      <th>38</th>\n",
              "      <td>EBA1415_KYNS_4_CB_ES-05390</td>\n",
              "      <td>R-14-50</td>\n",
              "      <td>34.2</td>\n",
              "      <td>When the zooxanthellae dies or is ejected, the...</td>\n",
              "    </tr>\n",
              "    <tr>\n",
              "      <th>39</th>\n",
              "      <td>EBA1415_TWPK_3_CB_ES-05049</td>\n",
              "      <td>O</td>\n",
              "      <td>35.0</td>\n",
              "      <td>The main thing that was mentioned alot was the...</td>\n",
              "    </tr>\n",
              "    <tr>\n",
              "      <th>40</th>\n",
              "      <td>EBA1415_TWPK_3_CB_ES-05049</td>\n",
              "      <td>R-4-50</td>\n",
              "      <td>36.0</td>\n",
              "      <td>The coral basically lives off of all those res...</td>\n",
              "    </tr>\n",
              "    <tr>\n",
              "      <th>41</th>\n",
              "      <td>EBA1415_TWPK_3_CB_ES-05049</td>\n",
              "      <td>O</td>\n",
              "      <td>37.0</td>\n",
              "      <td>Also the shift and changing in the wind also e...</td>\n",
              "    </tr>\n",
              "    <tr>\n",
              "      <th>42</th>\n",
              "      <td>EBA1415_TWPK_3_CB_ES-05049</td>\n",
              "      <td>R-13-50</td>\n",
              "      <td>38.0</td>\n",
              "      <td>The coral was also sensitive like if the water...</td>\n",
              "    </tr>\n",
              "    <tr>\n",
              "      <th>43</th>\n",
              "      <td>EBA1415_TWPK_3_CB_ES-05049</td>\n",
              "      <td>O</td>\n",
              "      <td>39.0</td>\n",
              "      <td>Ran out of time   //</td>\n",
              "    </tr>\n",
              "    <tr>\n",
              "      <th>44</th>\n",
              "      <td>EBA1415post_TWNB_3_CB_ES-05893</td>\n",
              "      <td>O</td>\n",
              "      <td>40.0</td>\n",
              "      <td>Coral bleaching can happen depending in the en...</td>\n",
              "    </tr>\n",
              "    <tr>\n",
              "      <th>45</th>\n",
              "      <td>EBA1415post_TWNB_3_CB_ES-05893</td>\n",
              "      <td>O</td>\n",
              "      <td>41.0</td>\n",
              "      <td>Coral bleaching is mostly found in the Pacific...</td>\n",
              "    </tr>\n",
              "    <tr>\n",
              "      <th>46</th>\n",
              "      <td>EBA1415post_TWNB_3_CB_ES-05893</td>\n",
              "      <td>O</td>\n",
              "      <td>42.0</td>\n",
              "      <td>People that noticed coral bleaching would keep...</td>\n",
              "    </tr>\n",
              "    <tr>\n",
              "      <th>47</th>\n",
              "      <td>EBA1415post_TWNB_3_CB_ES-05893</td>\n",
              "      <td>O</td>\n",
              "      <td>43.0</td>\n",
              "      <td>In 1998 coral bleaching was very wich was abou...</td>\n",
              "    </tr>\n",
              "    <tr>\n",
              "      <th>48</th>\n",
              "      <td>EBA1415post_TWNB_3_CB_ES-05893</td>\n",
              "      <td>R-5-50</td>\n",
              "      <td>44.0</td>\n",
              "      <td>Coral need photoosynthesis because without it ...</td>\n",
              "    </tr>\n",
              "    <tr>\n",
              "      <th>49</th>\n",
              "      <td>EBA1415post_TWNB_3_CB_ES-05893</td>\n",
              "      <td>O</td>\n",
              "      <td>45.0</td>\n",
              "      <td>Coral bleaching happens when the coral does no...</td>\n",
              "    </tr>\n",
              "  </tbody>\n",
              "</table>\n",
              "</div>"
            ],
            "text/plain": [
              "                             essay  ...                                           sentence\n",
              "0       EBA1415_TFBM_2_CB_ES-05548  ...                                       No essay  //\n",
              "1      EBA1415_TRJA_11_CB_ES-06110  ...  Somethings that lead to the differences are.. ...\n",
              "2      EBA1415_TRJA_11_CB_ES-06110  ...  Some have been bleach all white it is a phenom...\n",
              "3      EBA1415_TRJA_11_CB_ES-06110  ...  Coral bleaching is most noticeable in the Paci...\n",
              "4      EBA1415_TRJA_11_CB_ES-06110  ...  That ocean covers about 1/3 of the surface of ...\n",
              "5      EBA1415_TRJA_11_CB_ES-06110  ...  The invertebrate animals live together in Colo...\n",
              "6      EBA1415_TRJA_11_CB_ES-06110  ...  The different type of algae living within the ...\n",
              "7       EBA1415_RHSG_2_CB_ES-05081  ...  There are several things that cause coral blea...\n",
              "8       EBA1415_RHSG_2_CB_ES-05081  ...               The trade winds make sea water rise.\n",
              "9       EBA1415_RHSG_2_CB_ES-05081  ...      The trade winds also change water temperature\n",
              "10      EBA1415_RHSG_2_CB_ES-05081  ...  (2) Coral is made up of small animals called p...\n",
              "11      EBA1415_RHSG_2_CB_ES-05081  ...  Coral reefs are only found in clear, shallow, ...\n",
              "12      EBA1415_RHSG_2_CB_ES-05081  ...  They live there because the algae that live in...\n",
              "13      EBA1415_RHSG_2_CB_ES-05081  ...              The algae use energy from sunlight to\n",
              "14      EBA1415_RHSG_2_CB_ES-05081  ...                               Ran out of time   //\n",
              "15      EBA1415_KYNS_4_CB_ES-05390  ...  What lead to differences in the rates of coral...\n",
              "16      EBA1415_KYNS_4_CB_ES-05390  ...   Coral bleaching is when a coral loses its color.\n",
              "17      EBA1415_KYNS_4_CB_ES-05390  ...                 One cause is shifting trade winds.\n",
              "18      EBA1415_KYNS_4_CB_ES-05390  ...  Trade winds travel from east to west, causing ...\n",
              "19      EBA1415_KYNS_4_CB_ES-05390  ...  Tradewinds constantly shift, causing major cha...\n",
              "20      EBA1415_KYNS_4_CB_ES-05390  ...  Weaker trade winds cause higher water temperat...\n",
              "21      EBA1415_KYNS_4_CB_ES-05390  ...  Weaker trade winds cause higher water temperat...\n",
              "22      EBA1415_KYNS_4_CB_ES-05390  ...  In order for coral to survive, it needs photos...\n",
              "23      EBA1415_KYNS_4_CB_ES-05390  ...  Algae lives in the coral tissues, called zooxa...\n",
              "24      EBA1415_KYNS_4_CB_ES-05390  ...  Coral and zooxanthellae need each other to sur...\n",
              "25      EBA1415_KYNS_4_CB_ES-05390  ...  Zooxanthellae gets energy fron the sun, combin...\n",
              "26      EBA1415_KYNS_4_CB_ES-05390  ...  During this process, carbon is passed to the c...\n",
              "27      EBA1415_KYNS_4_CB_ES-05390  ...  In order for coral to survive, it needs water ...\n",
              "28      EBA1415_KYNS_4_CB_ES-05390  ...  When water temperature increases, the amount o...\n",
              "29      EBA1415_KYNS_4_CB_ES-05390  ...  When the water temperature is constantly chang...\n",
              "30      EBA1415_KYNS_4_CB_ES-05390  ...  When the water temperature is constantly chang...\n",
              "31      EBA1415_KYNS_4_CB_ES-05390  ...  Coral bleaching happens when the coral is unhe...\n",
              "32      EBA1415_KYNS_4_CB_ES-05390  ...  Coral bleaching happens when the coral is unhe...\n",
              "33      EBA1415_KYNS_4_CB_ES-05390  ...  Trade winds affect the balance of water temper...\n",
              "34      EBA1415_KYNS_4_CB_ES-05390  ...  Trade winds affect the balance of water temper...\n",
              "35      EBA1415_KYNS_4_CB_ES-05390  ...  Without the zooxanthellae, coral will not surv...\n",
              "36      EBA1415_KYNS_4_CB_ES-05390  ...  Without the coral, the zooxanthellae will also...\n",
              "37      EBA1415_KYNS_4_CB_ES-05390  ...  When the zooxanthellae dies or is ejected, the...\n",
              "38      EBA1415_KYNS_4_CB_ES-05390  ...  When the zooxanthellae dies or is ejected, the...\n",
              "39      EBA1415_TWPK_3_CB_ES-05049  ...  The main thing that was mentioned alot was the...\n",
              "40      EBA1415_TWPK_3_CB_ES-05049  ...  The coral basically lives off of all those res...\n",
              "41      EBA1415_TWPK_3_CB_ES-05049  ...  Also the shift and changing in the wind also e...\n",
              "42      EBA1415_TWPK_3_CB_ES-05049  ...  The coral was also sensitive like if the water...\n",
              "43      EBA1415_TWPK_3_CB_ES-05049  ...                               Ran out of time   //\n",
              "44  EBA1415post_TWNB_3_CB_ES-05893  ...  Coral bleaching can happen depending in the en...\n",
              "45  EBA1415post_TWNB_3_CB_ES-05893  ...  Coral bleaching is mostly found in the Pacific...\n",
              "46  EBA1415post_TWNB_3_CB_ES-05893  ...  People that noticed coral bleaching would keep...\n",
              "47  EBA1415post_TWNB_3_CB_ES-05893  ...  In 1998 coral bleaching was very wich was abou...\n",
              "48  EBA1415post_TWNB_3_CB_ES-05893  ...  Coral need photoosynthesis because without it ...\n",
              "49  EBA1415post_TWNB_3_CB_ES-05893  ...  Coral bleaching happens when the coral does no...\n",
              "\n",
              "[50 rows x 4 columns]"
            ]
          },
          "metadata": {
            "tags": []
          },
          "execution_count": 22
        }
      ]
    },
    {
      "cell_type": "markdown",
      "metadata": {
        "id": "pldMJt9JEyCD",
        "colab_type": "text"
      },
      "source": [
        "Convert testing data labels to ternary."
      ]
    },
    {
      "cell_type": "code",
      "metadata": {
        "id": "5BDFqhFtE3h0",
        "colab_type": "code",
        "colab": {
          "base_uri": "https://localhost:8080/",
          "height": 1000
        },
        "outputId": "d2328e06-91d8-4680-85ef-7ec3d37ea6c4"
      },
      "source": [
        "relations_test_pd = df_test.relation.copy(deep=True)\n",
        "df_ternary_test = df_test.copy(deep=True)\n",
        "\n",
        "for i, rel in relations_test_pd.items():\n",
        "  chain = rel.split(\"-\")\n",
        "\n",
        "  if chain[0] == \"O\":\n",
        "    relations_test_pd.at[i] = 0\n",
        "    continue\n",
        "  \n",
        "  chain = chain[1] + \",\" + chain[2]\n",
        "\n",
        "  if chain in relations:\n",
        "    relations_test_pd.at[i] = 1\n",
        "  else: \n",
        "    relations_test_pd.at[i] = 2\n",
        "\n",
        "df_ternary_test.relation = relations_test_pd\n",
        "df_ternary_test.head(50)"
      ],
      "execution_count": 23,
      "outputs": [
        {
          "output_type": "execute_result",
          "data": {
            "text/html": [
              "<div>\n",
              "<style scoped>\n",
              "    .dataframe tbody tr th:only-of-type {\n",
              "        vertical-align: middle;\n",
              "    }\n",
              "\n",
              "    .dataframe tbody tr th {\n",
              "        vertical-align: top;\n",
              "    }\n",
              "\n",
              "    .dataframe thead th {\n",
              "        text-align: right;\n",
              "    }\n",
              "</style>\n",
              "<table border=\"1\" class=\"dataframe\">\n",
              "  <thead>\n",
              "    <tr style=\"text-align: right;\">\n",
              "      <th></th>\n",
              "      <th>essay</th>\n",
              "      <th>relation</th>\n",
              "      <th>s_num</th>\n",
              "      <th>sentence</th>\n",
              "    </tr>\n",
              "  </thead>\n",
              "  <tbody>\n",
              "    <tr>\n",
              "      <th>0</th>\n",
              "      <td>EBA1415_TFBM_2_CB_ES-05548</td>\n",
              "      <td>0</td>\n",
              "      <td>1.0</td>\n",
              "      <td>No essay  //</td>\n",
              "    </tr>\n",
              "    <tr>\n",
              "      <th>1</th>\n",
              "      <td>EBA1415_TRJA_11_CB_ES-06110</td>\n",
              "      <td>0</td>\n",
              "      <td>2.0</td>\n",
              "      <td>Somethings that lead to the differences are.. ...</td>\n",
              "    </tr>\n",
              "    <tr>\n",
              "      <th>2</th>\n",
              "      <td>EBA1415_TRJA_11_CB_ES-06110</td>\n",
              "      <td>0</td>\n",
              "      <td>3.0</td>\n",
              "      <td>Some have been bleach all white it is a phenom...</td>\n",
              "    </tr>\n",
              "    <tr>\n",
              "      <th>3</th>\n",
              "      <td>EBA1415_TRJA_11_CB_ES-06110</td>\n",
              "      <td>0</td>\n",
              "      <td>4.0</td>\n",
              "      <td>Coral bleaching is most noticeable in the Paci...</td>\n",
              "    </tr>\n",
              "    <tr>\n",
              "      <th>4</th>\n",
              "      <td>EBA1415_TRJA_11_CB_ES-06110</td>\n",
              "      <td>0</td>\n",
              "      <td>5.0</td>\n",
              "      <td>That ocean covers about 1/3 of the surface of ...</td>\n",
              "    </tr>\n",
              "    <tr>\n",
              "      <th>5</th>\n",
              "      <td>EBA1415_TRJA_11_CB_ES-06110</td>\n",
              "      <td>0</td>\n",
              "      <td>6.0</td>\n",
              "      <td>The invertebrate animals live together in Colo...</td>\n",
              "    </tr>\n",
              "    <tr>\n",
              "      <th>6</th>\n",
              "      <td>EBA1415_TRJA_11_CB_ES-06110</td>\n",
              "      <td>1</td>\n",
              "      <td>7.0</td>\n",
              "      <td>The different type of algae living within the ...</td>\n",
              "    </tr>\n",
              "    <tr>\n",
              "      <th>7</th>\n",
              "      <td>EBA1415_RHSG_2_CB_ES-05081</td>\n",
              "      <td>1</td>\n",
              "      <td>8.0</td>\n",
              "      <td>There are several things that cause coral blea...</td>\n",
              "    </tr>\n",
              "    <tr>\n",
              "      <th>8</th>\n",
              "      <td>EBA1415_RHSG_2_CB_ES-05081</td>\n",
              "      <td>0</td>\n",
              "      <td>9.0</td>\n",
              "      <td>The trade winds make sea water rise.</td>\n",
              "    </tr>\n",
              "    <tr>\n",
              "      <th>9</th>\n",
              "      <td>EBA1415_RHSG_2_CB_ES-05081</td>\n",
              "      <td>1</td>\n",
              "      <td>10.0</td>\n",
              "      <td>The trade winds also change water temperature</td>\n",
              "    </tr>\n",
              "    <tr>\n",
              "      <th>10</th>\n",
              "      <td>EBA1415_RHSG_2_CB_ES-05081</td>\n",
              "      <td>0</td>\n",
              "      <td>11.0</td>\n",
              "      <td>(2) Coral is made up of small animals called p...</td>\n",
              "    </tr>\n",
              "    <tr>\n",
              "      <th>11</th>\n",
              "      <td>EBA1415_RHSG_2_CB_ES-05081</td>\n",
              "      <td>0</td>\n",
              "      <td>12.0</td>\n",
              "      <td>Coral reefs are only found in clear, shallow, ...</td>\n",
              "    </tr>\n",
              "    <tr>\n",
              "      <th>12</th>\n",
              "      <td>EBA1415_RHSG_2_CB_ES-05081</td>\n",
              "      <td>0</td>\n",
              "      <td>13.0</td>\n",
              "      <td>They live there because the algae that live in...</td>\n",
              "    </tr>\n",
              "    <tr>\n",
              "      <th>13</th>\n",
              "      <td>EBA1415_RHSG_2_CB_ES-05081</td>\n",
              "      <td>0</td>\n",
              "      <td>14.0</td>\n",
              "      <td>The algae use energy from sunlight to</td>\n",
              "    </tr>\n",
              "    <tr>\n",
              "      <th>14</th>\n",
              "      <td>EBA1415_RHSG_2_CB_ES-05081</td>\n",
              "      <td>0</td>\n",
              "      <td>15.0</td>\n",
              "      <td>Ran out of time   //</td>\n",
              "    </tr>\n",
              "    <tr>\n",
              "      <th>15</th>\n",
              "      <td>EBA1415_KYNS_4_CB_ES-05390</td>\n",
              "      <td>1</td>\n",
              "      <td>16.0</td>\n",
              "      <td>What lead to differences in the rates of coral...</td>\n",
              "    </tr>\n",
              "    <tr>\n",
              "      <th>16</th>\n",
              "      <td>EBA1415_KYNS_4_CB_ES-05390</td>\n",
              "      <td>0</td>\n",
              "      <td>17.0</td>\n",
              "      <td>Coral bleaching is when a coral loses its color.</td>\n",
              "    </tr>\n",
              "    <tr>\n",
              "      <th>17</th>\n",
              "      <td>EBA1415_KYNS_4_CB_ES-05390</td>\n",
              "      <td>0</td>\n",
              "      <td>18.0</td>\n",
              "      <td>One cause is shifting trade winds.</td>\n",
              "    </tr>\n",
              "    <tr>\n",
              "      <th>18</th>\n",
              "      <td>EBA1415_KYNS_4_CB_ES-05390</td>\n",
              "      <td>1</td>\n",
              "      <td>19.0</td>\n",
              "      <td>Trade winds travel from east to west, causing ...</td>\n",
              "    </tr>\n",
              "    <tr>\n",
              "      <th>19</th>\n",
              "      <td>EBA1415_KYNS_4_CB_ES-05390</td>\n",
              "      <td>0</td>\n",
              "      <td>20.0</td>\n",
              "      <td>Tradewinds constantly shift, causing major cha...</td>\n",
              "    </tr>\n",
              "    <tr>\n",
              "      <th>20</th>\n",
              "      <td>EBA1415_KYNS_4_CB_ES-05390</td>\n",
              "      <td>1</td>\n",
              "      <td>21.1</td>\n",
              "      <td>Weaker trade winds cause higher water temperat...</td>\n",
              "    </tr>\n",
              "    <tr>\n",
              "      <th>21</th>\n",
              "      <td>EBA1415_KYNS_4_CB_ES-05390</td>\n",
              "      <td>1</td>\n",
              "      <td>21.2</td>\n",
              "      <td>Weaker trade winds cause higher water temperat...</td>\n",
              "    </tr>\n",
              "    <tr>\n",
              "      <th>22</th>\n",
              "      <td>EBA1415_KYNS_4_CB_ES-05390</td>\n",
              "      <td>0</td>\n",
              "      <td>22.0</td>\n",
              "      <td>In order for coral to survive, it needs photos...</td>\n",
              "    </tr>\n",
              "    <tr>\n",
              "      <th>23</th>\n",
              "      <td>EBA1415_KYNS_4_CB_ES-05390</td>\n",
              "      <td>0</td>\n",
              "      <td>23.0</td>\n",
              "      <td>Algae lives in the coral tissues, called zooxa...</td>\n",
              "    </tr>\n",
              "    <tr>\n",
              "      <th>24</th>\n",
              "      <td>EBA1415_KYNS_4_CB_ES-05390</td>\n",
              "      <td>0</td>\n",
              "      <td>24.0</td>\n",
              "      <td>Coral and zooxanthellae need each other to sur...</td>\n",
              "    </tr>\n",
              "    <tr>\n",
              "      <th>25</th>\n",
              "      <td>EBA1415_KYNS_4_CB_ES-05390</td>\n",
              "      <td>1</td>\n",
              "      <td>25.0</td>\n",
              "      <td>Zooxanthellae gets energy fron the sun, combin...</td>\n",
              "    </tr>\n",
              "    <tr>\n",
              "      <th>26</th>\n",
              "      <td>EBA1415_KYNS_4_CB_ES-05390</td>\n",
              "      <td>1</td>\n",
              "      <td>26.0</td>\n",
              "      <td>During this process, carbon is passed to the c...</td>\n",
              "    </tr>\n",
              "    <tr>\n",
              "      <th>27</th>\n",
              "      <td>EBA1415_KYNS_4_CB_ES-05390</td>\n",
              "      <td>1</td>\n",
              "      <td>27.0</td>\n",
              "      <td>In order for coral to survive, it needs water ...</td>\n",
              "    </tr>\n",
              "    <tr>\n",
              "      <th>28</th>\n",
              "      <td>EBA1415_KYNS_4_CB_ES-05390</td>\n",
              "      <td>1</td>\n",
              "      <td>28.0</td>\n",
              "      <td>When water temperature increases, the amount o...</td>\n",
              "    </tr>\n",
              "    <tr>\n",
              "      <th>29</th>\n",
              "      <td>EBA1415_KYNS_4_CB_ES-05390</td>\n",
              "      <td>1</td>\n",
              "      <td>29.1</td>\n",
              "      <td>When the water temperature is constantly chang...</td>\n",
              "    </tr>\n",
              "    <tr>\n",
              "      <th>30</th>\n",
              "      <td>EBA1415_KYNS_4_CB_ES-05390</td>\n",
              "      <td>1</td>\n",
              "      <td>29.2</td>\n",
              "      <td>When the water temperature is constantly chang...</td>\n",
              "    </tr>\n",
              "    <tr>\n",
              "      <th>31</th>\n",
              "      <td>EBA1415_KYNS_4_CB_ES-05390</td>\n",
              "      <td>1</td>\n",
              "      <td>30.1</td>\n",
              "      <td>Coral bleaching happens when the coral is unhe...</td>\n",
              "    </tr>\n",
              "    <tr>\n",
              "      <th>32</th>\n",
              "      <td>EBA1415_KYNS_4_CB_ES-05390</td>\n",
              "      <td>1</td>\n",
              "      <td>30.2</td>\n",
              "      <td>Coral bleaching happens when the coral is unhe...</td>\n",
              "    </tr>\n",
              "    <tr>\n",
              "      <th>33</th>\n",
              "      <td>EBA1415_KYNS_4_CB_ES-05390</td>\n",
              "      <td>1</td>\n",
              "      <td>31.1</td>\n",
              "      <td>Trade winds affect the balance of water temper...</td>\n",
              "    </tr>\n",
              "    <tr>\n",
              "      <th>34</th>\n",
              "      <td>EBA1415_KYNS_4_CB_ES-05390</td>\n",
              "      <td>1</td>\n",
              "      <td>31.2</td>\n",
              "      <td>Trade winds affect the balance of water temper...</td>\n",
              "    </tr>\n",
              "    <tr>\n",
              "      <th>35</th>\n",
              "      <td>EBA1415_KYNS_4_CB_ES-05390</td>\n",
              "      <td>0</td>\n",
              "      <td>32.0</td>\n",
              "      <td>Without the zooxanthellae, coral will not surv...</td>\n",
              "    </tr>\n",
              "    <tr>\n",
              "      <th>36</th>\n",
              "      <td>EBA1415_KYNS_4_CB_ES-05390</td>\n",
              "      <td>0</td>\n",
              "      <td>33.0</td>\n",
              "      <td>Without the coral, the zooxanthellae will also...</td>\n",
              "    </tr>\n",
              "    <tr>\n",
              "      <th>37</th>\n",
              "      <td>EBA1415_KYNS_4_CB_ES-05390</td>\n",
              "      <td>2</td>\n",
              "      <td>34.1</td>\n",
              "      <td>When the zooxanthellae dies or is ejected, the...</td>\n",
              "    </tr>\n",
              "    <tr>\n",
              "      <th>38</th>\n",
              "      <td>EBA1415_KYNS_4_CB_ES-05390</td>\n",
              "      <td>1</td>\n",
              "      <td>34.2</td>\n",
              "      <td>When the zooxanthellae dies or is ejected, the...</td>\n",
              "    </tr>\n",
              "    <tr>\n",
              "      <th>39</th>\n",
              "      <td>EBA1415_TWPK_3_CB_ES-05049</td>\n",
              "      <td>0</td>\n",
              "      <td>35.0</td>\n",
              "      <td>The main thing that was mentioned alot was the...</td>\n",
              "    </tr>\n",
              "    <tr>\n",
              "      <th>40</th>\n",
              "      <td>EBA1415_TWPK_3_CB_ES-05049</td>\n",
              "      <td>1</td>\n",
              "      <td>36.0</td>\n",
              "      <td>The coral basically lives off of all those res...</td>\n",
              "    </tr>\n",
              "    <tr>\n",
              "      <th>41</th>\n",
              "      <td>EBA1415_TWPK_3_CB_ES-05049</td>\n",
              "      <td>0</td>\n",
              "      <td>37.0</td>\n",
              "      <td>Also the shift and changing in the wind also e...</td>\n",
              "    </tr>\n",
              "    <tr>\n",
              "      <th>42</th>\n",
              "      <td>EBA1415_TWPK_3_CB_ES-05049</td>\n",
              "      <td>1</td>\n",
              "      <td>38.0</td>\n",
              "      <td>The coral was also sensitive like if the water...</td>\n",
              "    </tr>\n",
              "    <tr>\n",
              "      <th>43</th>\n",
              "      <td>EBA1415_TWPK_3_CB_ES-05049</td>\n",
              "      <td>0</td>\n",
              "      <td>39.0</td>\n",
              "      <td>Ran out of time   //</td>\n",
              "    </tr>\n",
              "    <tr>\n",
              "      <th>44</th>\n",
              "      <td>EBA1415post_TWNB_3_CB_ES-05893</td>\n",
              "      <td>0</td>\n",
              "      <td>40.0</td>\n",
              "      <td>Coral bleaching can happen depending in the en...</td>\n",
              "    </tr>\n",
              "    <tr>\n",
              "      <th>45</th>\n",
              "      <td>EBA1415post_TWNB_3_CB_ES-05893</td>\n",
              "      <td>0</td>\n",
              "      <td>41.0</td>\n",
              "      <td>Coral bleaching is mostly found in the Pacific...</td>\n",
              "    </tr>\n",
              "    <tr>\n",
              "      <th>46</th>\n",
              "      <td>EBA1415post_TWNB_3_CB_ES-05893</td>\n",
              "      <td>0</td>\n",
              "      <td>42.0</td>\n",
              "      <td>People that noticed coral bleaching would keep...</td>\n",
              "    </tr>\n",
              "    <tr>\n",
              "      <th>47</th>\n",
              "      <td>EBA1415post_TWNB_3_CB_ES-05893</td>\n",
              "      <td>0</td>\n",
              "      <td>43.0</td>\n",
              "      <td>In 1998 coral bleaching was very wich was abou...</td>\n",
              "    </tr>\n",
              "    <tr>\n",
              "      <th>48</th>\n",
              "      <td>EBA1415post_TWNB_3_CB_ES-05893</td>\n",
              "      <td>1</td>\n",
              "      <td>44.0</td>\n",
              "      <td>Coral need photoosynthesis because without it ...</td>\n",
              "    </tr>\n",
              "    <tr>\n",
              "      <th>49</th>\n",
              "      <td>EBA1415post_TWNB_3_CB_ES-05893</td>\n",
              "      <td>0</td>\n",
              "      <td>45.0</td>\n",
              "      <td>Coral bleaching happens when the coral does no...</td>\n",
              "    </tr>\n",
              "  </tbody>\n",
              "</table>\n",
              "</div>"
            ],
            "text/plain": [
              "                             essay  ...                                           sentence\n",
              "0       EBA1415_TFBM_2_CB_ES-05548  ...                                       No essay  //\n",
              "1      EBA1415_TRJA_11_CB_ES-06110  ...  Somethings that lead to the differences are.. ...\n",
              "2      EBA1415_TRJA_11_CB_ES-06110  ...  Some have been bleach all white it is a phenom...\n",
              "3      EBA1415_TRJA_11_CB_ES-06110  ...  Coral bleaching is most noticeable in the Paci...\n",
              "4      EBA1415_TRJA_11_CB_ES-06110  ...  That ocean covers about 1/3 of the surface of ...\n",
              "5      EBA1415_TRJA_11_CB_ES-06110  ...  The invertebrate animals live together in Colo...\n",
              "6      EBA1415_TRJA_11_CB_ES-06110  ...  The different type of algae living within the ...\n",
              "7       EBA1415_RHSG_2_CB_ES-05081  ...  There are several things that cause coral blea...\n",
              "8       EBA1415_RHSG_2_CB_ES-05081  ...               The trade winds make sea water rise.\n",
              "9       EBA1415_RHSG_2_CB_ES-05081  ...      The trade winds also change water temperature\n",
              "10      EBA1415_RHSG_2_CB_ES-05081  ...  (2) Coral is made up of small animals called p...\n",
              "11      EBA1415_RHSG_2_CB_ES-05081  ...  Coral reefs are only found in clear, shallow, ...\n",
              "12      EBA1415_RHSG_2_CB_ES-05081  ...  They live there because the algae that live in...\n",
              "13      EBA1415_RHSG_2_CB_ES-05081  ...              The algae use energy from sunlight to\n",
              "14      EBA1415_RHSG_2_CB_ES-05081  ...                               Ran out of time   //\n",
              "15      EBA1415_KYNS_4_CB_ES-05390  ...  What lead to differences in the rates of coral...\n",
              "16      EBA1415_KYNS_4_CB_ES-05390  ...   Coral bleaching is when a coral loses its color.\n",
              "17      EBA1415_KYNS_4_CB_ES-05390  ...                 One cause is shifting trade winds.\n",
              "18      EBA1415_KYNS_4_CB_ES-05390  ...  Trade winds travel from east to west, causing ...\n",
              "19      EBA1415_KYNS_4_CB_ES-05390  ...  Tradewinds constantly shift, causing major cha...\n",
              "20      EBA1415_KYNS_4_CB_ES-05390  ...  Weaker trade winds cause higher water temperat...\n",
              "21      EBA1415_KYNS_4_CB_ES-05390  ...  Weaker trade winds cause higher water temperat...\n",
              "22      EBA1415_KYNS_4_CB_ES-05390  ...  In order for coral to survive, it needs photos...\n",
              "23      EBA1415_KYNS_4_CB_ES-05390  ...  Algae lives in the coral tissues, called zooxa...\n",
              "24      EBA1415_KYNS_4_CB_ES-05390  ...  Coral and zooxanthellae need each other to sur...\n",
              "25      EBA1415_KYNS_4_CB_ES-05390  ...  Zooxanthellae gets energy fron the sun, combin...\n",
              "26      EBA1415_KYNS_4_CB_ES-05390  ...  During this process, carbon is passed to the c...\n",
              "27      EBA1415_KYNS_4_CB_ES-05390  ...  In order for coral to survive, it needs water ...\n",
              "28      EBA1415_KYNS_4_CB_ES-05390  ...  When water temperature increases, the amount o...\n",
              "29      EBA1415_KYNS_4_CB_ES-05390  ...  When the water temperature is constantly chang...\n",
              "30      EBA1415_KYNS_4_CB_ES-05390  ...  When the water temperature is constantly chang...\n",
              "31      EBA1415_KYNS_4_CB_ES-05390  ...  Coral bleaching happens when the coral is unhe...\n",
              "32      EBA1415_KYNS_4_CB_ES-05390  ...  Coral bleaching happens when the coral is unhe...\n",
              "33      EBA1415_KYNS_4_CB_ES-05390  ...  Trade winds affect the balance of water temper...\n",
              "34      EBA1415_KYNS_4_CB_ES-05390  ...  Trade winds affect the balance of water temper...\n",
              "35      EBA1415_KYNS_4_CB_ES-05390  ...  Without the zooxanthellae, coral will not surv...\n",
              "36      EBA1415_KYNS_4_CB_ES-05390  ...  Without the coral, the zooxanthellae will also...\n",
              "37      EBA1415_KYNS_4_CB_ES-05390  ...  When the zooxanthellae dies or is ejected, the...\n",
              "38      EBA1415_KYNS_4_CB_ES-05390  ...  When the zooxanthellae dies or is ejected, the...\n",
              "39      EBA1415_TWPK_3_CB_ES-05049  ...  The main thing that was mentioned alot was the...\n",
              "40      EBA1415_TWPK_3_CB_ES-05049  ...  The coral basically lives off of all those res...\n",
              "41      EBA1415_TWPK_3_CB_ES-05049  ...  Also the shift and changing in the wind also e...\n",
              "42      EBA1415_TWPK_3_CB_ES-05049  ...  The coral was also sensitive like if the water...\n",
              "43      EBA1415_TWPK_3_CB_ES-05049  ...                               Ran out of time   //\n",
              "44  EBA1415post_TWNB_3_CB_ES-05893  ...  Coral bleaching can happen depending in the en...\n",
              "45  EBA1415post_TWNB_3_CB_ES-05893  ...  Coral bleaching is mostly found in the Pacific...\n",
              "46  EBA1415post_TWNB_3_CB_ES-05893  ...  People that noticed coral bleaching would keep...\n",
              "47  EBA1415post_TWNB_3_CB_ES-05893  ...  In 1998 coral bleaching was very wich was abou...\n",
              "48  EBA1415post_TWNB_3_CB_ES-05893  ...  Coral need photoosynthesis because without it ...\n",
              "49  EBA1415post_TWNB_3_CB_ES-05893  ...  Coral bleaching happens when the coral does no...\n",
              "\n",
              "[50 rows x 4 columns]"
            ]
          },
          "metadata": {
            "tags": []
          },
          "execution_count": 23
        }
      ]
    },
    {
      "cell_type": "markdown",
      "metadata": {
        "id": "ai8edFpVFl60",
        "colab_type": "text"
      },
      "source": [
        "Identify duplicates in test set.\n"
      ]
    },
    {
      "cell_type": "code",
      "metadata": {
        "id": "swy0mf54GZmI",
        "colab_type": "code",
        "colab": {
          "base_uri": "https://localhost:8080/",
          "height": 824
        },
        "outputId": "83b52906-29ed-4713-9985-4edfd449eb83"
      },
      "source": [
        "df_duplicate_sentences_test = df_ternary_test[df_ternary_test.s_num.astype(str).str.split('.', expand=True)[1] != '0']\n",
        "df_duplicate_sentences_test.head(25)"
      ],
      "execution_count": 24,
      "outputs": [
        {
          "output_type": "execute_result",
          "data": {
            "text/html": [
              "<div>\n",
              "<style scoped>\n",
              "    .dataframe tbody tr th:only-of-type {\n",
              "        vertical-align: middle;\n",
              "    }\n",
              "\n",
              "    .dataframe tbody tr th {\n",
              "        vertical-align: top;\n",
              "    }\n",
              "\n",
              "    .dataframe thead th {\n",
              "        text-align: right;\n",
              "    }\n",
              "</style>\n",
              "<table border=\"1\" class=\"dataframe\">\n",
              "  <thead>\n",
              "    <tr style=\"text-align: right;\">\n",
              "      <th></th>\n",
              "      <th>essay</th>\n",
              "      <th>relation</th>\n",
              "      <th>s_num</th>\n",
              "      <th>sentence</th>\n",
              "    </tr>\n",
              "  </thead>\n",
              "  <tbody>\n",
              "    <tr>\n",
              "      <th>20</th>\n",
              "      <td>EBA1415_KYNS_4_CB_ES-05390</td>\n",
              "      <td>1</td>\n",
              "      <td>21.1</td>\n",
              "      <td>Weaker trade winds cause higher water temperat...</td>\n",
              "    </tr>\n",
              "    <tr>\n",
              "      <th>21</th>\n",
              "      <td>EBA1415_KYNS_4_CB_ES-05390</td>\n",
              "      <td>1</td>\n",
              "      <td>21.2</td>\n",
              "      <td>Weaker trade winds cause higher water temperat...</td>\n",
              "    </tr>\n",
              "    <tr>\n",
              "      <th>29</th>\n",
              "      <td>EBA1415_KYNS_4_CB_ES-05390</td>\n",
              "      <td>1</td>\n",
              "      <td>29.1</td>\n",
              "      <td>When the water temperature is constantly chang...</td>\n",
              "    </tr>\n",
              "    <tr>\n",
              "      <th>30</th>\n",
              "      <td>EBA1415_KYNS_4_CB_ES-05390</td>\n",
              "      <td>1</td>\n",
              "      <td>29.2</td>\n",
              "      <td>When the water temperature is constantly chang...</td>\n",
              "    </tr>\n",
              "    <tr>\n",
              "      <th>31</th>\n",
              "      <td>EBA1415_KYNS_4_CB_ES-05390</td>\n",
              "      <td>1</td>\n",
              "      <td>30.1</td>\n",
              "      <td>Coral bleaching happens when the coral is unhe...</td>\n",
              "    </tr>\n",
              "    <tr>\n",
              "      <th>32</th>\n",
              "      <td>EBA1415_KYNS_4_CB_ES-05390</td>\n",
              "      <td>1</td>\n",
              "      <td>30.2</td>\n",
              "      <td>Coral bleaching happens when the coral is unhe...</td>\n",
              "    </tr>\n",
              "    <tr>\n",
              "      <th>33</th>\n",
              "      <td>EBA1415_KYNS_4_CB_ES-05390</td>\n",
              "      <td>1</td>\n",
              "      <td>31.1</td>\n",
              "      <td>Trade winds affect the balance of water temper...</td>\n",
              "    </tr>\n",
              "    <tr>\n",
              "      <th>34</th>\n",
              "      <td>EBA1415_KYNS_4_CB_ES-05390</td>\n",
              "      <td>1</td>\n",
              "      <td>31.2</td>\n",
              "      <td>Trade winds affect the balance of water temper...</td>\n",
              "    </tr>\n",
              "    <tr>\n",
              "      <th>37</th>\n",
              "      <td>EBA1415_KYNS_4_CB_ES-05390</td>\n",
              "      <td>2</td>\n",
              "      <td>34.1</td>\n",
              "      <td>When the zooxanthellae dies or is ejected, the...</td>\n",
              "    </tr>\n",
              "    <tr>\n",
              "      <th>38</th>\n",
              "      <td>EBA1415_KYNS_4_CB_ES-05390</td>\n",
              "      <td>1</td>\n",
              "      <td>34.2</td>\n",
              "      <td>When the zooxanthellae dies or is ejected, the...</td>\n",
              "    </tr>\n",
              "    <tr>\n",
              "      <th>66</th>\n",
              "      <td>EBA1415_TFMV_3_CB_ES-05848</td>\n",
              "      <td>1</td>\n",
              "      <td>62.1</td>\n",
              "      <td>If the coral has to much stress it turns white...</td>\n",
              "    </tr>\n",
              "    <tr>\n",
              "      <th>67</th>\n",
              "      <td>EBA1415_TFMV_3_CB_ES-05848</td>\n",
              "      <td>1</td>\n",
              "      <td>62.2</td>\n",
              "      <td>If the coral has to much stress it turns white...</td>\n",
              "    </tr>\n",
              "    <tr>\n",
              "      <th>74</th>\n",
              "      <td>EBA1415_WSKT_6_CB_ES-05341</td>\n",
              "      <td>1</td>\n",
              "      <td>69.1</td>\n",
              "      <td>Changing the water temperature changes the amo...</td>\n",
              "    </tr>\n",
              "    <tr>\n",
              "      <th>75</th>\n",
              "      <td>EBA1415_WSKT_6_CB_ES-05341</td>\n",
              "      <td>1</td>\n",
              "      <td>69.2</td>\n",
              "      <td>Changing the water temperature changes the amo...</td>\n",
              "    </tr>\n",
              "    <tr>\n",
              "      <th>114</th>\n",
              "      <td>EBA1415_ERAM_7_CB_ES-04965</td>\n",
              "      <td>1</td>\n",
              "      <td>108.1</td>\n",
              "      <td>If it has lower than normal carbon dioxide, co...</td>\n",
              "    </tr>\n",
              "    <tr>\n",
              "      <th>115</th>\n",
              "      <td>EBA1415_ERAM_7_CB_ES-04965</td>\n",
              "      <td>1</td>\n",
              "      <td>108.2</td>\n",
              "      <td>If it has lower than normal carbon dioxide, co...</td>\n",
              "    </tr>\n",
              "    <tr>\n",
              "      <th>127</th>\n",
              "      <td>EBA1415_TWJB_5_CB_ES-05070</td>\n",
              "      <td>1</td>\n",
              "      <td>120.1</td>\n",
              "      <td>When the coral gets stressed they eject their ...</td>\n",
              "    </tr>\n",
              "    <tr>\n",
              "      <th>128</th>\n",
              "      <td>EBA1415_TWJB_5_CB_ES-05070</td>\n",
              "      <td>1</td>\n",
              "      <td>120.2</td>\n",
              "      <td>When the coral gets stressed they eject their ...</td>\n",
              "    </tr>\n",
              "    <tr>\n",
              "      <th>129</th>\n",
              "      <td>EBA1415_TWJB_5_CB_ES-05070</td>\n",
              "      <td>1</td>\n",
              "      <td>121.1</td>\n",
              "      <td>Also when the trade winds go down, and the wat...</td>\n",
              "    </tr>\n",
              "    <tr>\n",
              "      <th>130</th>\n",
              "      <td>EBA1415_TWJB_5_CB_ES-05070</td>\n",
              "      <td>1</td>\n",
              "      <td>121.2</td>\n",
              "      <td>Also when the trade winds go down, and the wat...</td>\n",
              "    </tr>\n",
              "    <tr>\n",
              "      <th>131</th>\n",
              "      <td>EBA1415_TWJB_5_CB_ES-05070</td>\n",
              "      <td>1</td>\n",
              "      <td>121.3</td>\n",
              "      <td>Also when the trade winds go down, and the wat...</td>\n",
              "    </tr>\n",
              "    <tr>\n",
              "      <th>170</th>\n",
              "      <td>EBA1415_TWNB_3_CB_ES-06186</td>\n",
              "      <td>1</td>\n",
              "      <td>161.1</td>\n",
              "      <td>Coral bleaching is one example of how environm...</td>\n",
              "    </tr>\n",
              "    <tr>\n",
              "      <th>171</th>\n",
              "      <td>EBA1415_TWNB_3_CB_ES-06186</td>\n",
              "      <td>2</td>\n",
              "      <td>161.2</td>\n",
              "      <td>Coral bleaching is one example of how environm...</td>\n",
              "    </tr>\n",
              "    <tr>\n",
              "      <th>197</th>\n",
              "      <td>EBA1415_SEAL_78_CB-04805</td>\n",
              "      <td>1</td>\n",
              "      <td>187.1</td>\n",
              "      <td>In 1998, when there were higher water temperat...</td>\n",
              "    </tr>\n",
              "    <tr>\n",
              "      <th>198</th>\n",
              "      <td>EBA1415_SEAL_78_CB-04805</td>\n",
              "      <td>1</td>\n",
              "      <td>187.2</td>\n",
              "      <td>In 1998, when there were higher water temperat...</td>\n",
              "    </tr>\n",
              "  </tbody>\n",
              "</table>\n",
              "</div>"
            ],
            "text/plain": [
              "                          essay  ...                                           sentence\n",
              "20   EBA1415_KYNS_4_CB_ES-05390  ...  Weaker trade winds cause higher water temperat...\n",
              "21   EBA1415_KYNS_4_CB_ES-05390  ...  Weaker trade winds cause higher water temperat...\n",
              "29   EBA1415_KYNS_4_CB_ES-05390  ...  When the water temperature is constantly chang...\n",
              "30   EBA1415_KYNS_4_CB_ES-05390  ...  When the water temperature is constantly chang...\n",
              "31   EBA1415_KYNS_4_CB_ES-05390  ...  Coral bleaching happens when the coral is unhe...\n",
              "32   EBA1415_KYNS_4_CB_ES-05390  ...  Coral bleaching happens when the coral is unhe...\n",
              "33   EBA1415_KYNS_4_CB_ES-05390  ...  Trade winds affect the balance of water temper...\n",
              "34   EBA1415_KYNS_4_CB_ES-05390  ...  Trade winds affect the balance of water temper...\n",
              "37   EBA1415_KYNS_4_CB_ES-05390  ...  When the zooxanthellae dies or is ejected, the...\n",
              "38   EBA1415_KYNS_4_CB_ES-05390  ...  When the zooxanthellae dies or is ejected, the...\n",
              "66   EBA1415_TFMV_3_CB_ES-05848  ...  If the coral has to much stress it turns white...\n",
              "67   EBA1415_TFMV_3_CB_ES-05848  ...  If the coral has to much stress it turns white...\n",
              "74   EBA1415_WSKT_6_CB_ES-05341  ...  Changing the water temperature changes the amo...\n",
              "75   EBA1415_WSKT_6_CB_ES-05341  ...  Changing the water temperature changes the amo...\n",
              "114  EBA1415_ERAM_7_CB_ES-04965  ...  If it has lower than normal carbon dioxide, co...\n",
              "115  EBA1415_ERAM_7_CB_ES-04965  ...  If it has lower than normal carbon dioxide, co...\n",
              "127  EBA1415_TWJB_5_CB_ES-05070  ...  When the coral gets stressed they eject their ...\n",
              "128  EBA1415_TWJB_5_CB_ES-05070  ...  When the coral gets stressed they eject their ...\n",
              "129  EBA1415_TWJB_5_CB_ES-05070  ...  Also when the trade winds go down, and the wat...\n",
              "130  EBA1415_TWJB_5_CB_ES-05070  ...  Also when the trade winds go down, and the wat...\n",
              "131  EBA1415_TWJB_5_CB_ES-05070  ...  Also when the trade winds go down, and the wat...\n",
              "170  EBA1415_TWNB_3_CB_ES-06186  ...  Coral bleaching is one example of how environm...\n",
              "171  EBA1415_TWNB_3_CB_ES-06186  ...  Coral bleaching is one example of how environm...\n",
              "197    EBA1415_SEAL_78_CB-04805  ...  In 1998, when there were higher water temperat...\n",
              "198    EBA1415_SEAL_78_CB-04805  ...  In 1998, when there were higher water temperat...\n",
              "\n",
              "[25 rows x 4 columns]"
            ]
          },
          "metadata": {
            "tags": []
          },
          "execution_count": 24
        }
      ]
    },
    {
      "cell_type": "markdown",
      "metadata": {
        "id": "7hXQD5NRHFRV",
        "colab_type": "text"
      },
      "source": [
        "Remove duplicates from test set."
      ]
    },
    {
      "cell_type": "code",
      "metadata": {
        "id": "h-gIOuDPHHQP",
        "colab_type": "code",
        "colab": {
          "base_uri": "https://localhost:8080/",
          "height": 929
        },
        "outputId": "9d37a777-4a8b-4a2b-e39f-999725b1a120"
      },
      "source": [
        "current = -1\n",
        "\n",
        "same_arr_inds = []\n",
        "drop_list = []\n",
        "\n",
        "for i, row in df_duplicate_sentences_test.iterrows():\n",
        "  s_num = str(df_duplicate_sentences_test.loc[i].s_num)\n",
        "  first_num, second_num = s_num.split(\".\")\n",
        "\n",
        "  if first_num != current:\n",
        "    current = first_num\n",
        "\n",
        "    if len(same_arr_inds) > 1:\n",
        "\n",
        "      valid_flag = False\n",
        "      invalid_flag = False\n",
        "\n",
        "      for n in same_arr_inds:\n",
        "\n",
        "        if df_duplicate_sentences_test.loc[n].relation == 1:\n",
        "          valid_flag = True\n",
        "          break\n",
        "\n",
        "        if df_duplicate_sentences_test.loc[n].relation == -1:\n",
        "          invalid_flag = True \n",
        "\n",
        "      left = same_arr_inds[0]\n",
        "      right = same_arr_inds[1:]\n",
        "\n",
        "      if valid_flag == True:\n",
        "        df_duplicate_sentences_test.loc[left].relation = 1\n",
        "      elif invalid_flag == True:\n",
        "        df_duplicate_sentences_test.loc[left].relation = -1\n",
        "      else:\n",
        "        df_duplicate_sentences_test.loc[left].relation = 0\n",
        "\n",
        "      drop_list += right   \n",
        "\n",
        "    same_arr_inds = []\n",
        "  same_arr_inds.append(i)\n",
        "\n",
        "df_ternary_test.drop(drop_list, inplace=True)   \n",
        "\n",
        "df_ternary_test.head(25)"
      ],
      "execution_count": 25,
      "outputs": [
        {
          "output_type": "stream",
          "text": [
            "/usr/local/lib/python3.6/dist-packages/pandas/core/generic.py:5303: SettingWithCopyWarning: \n",
            "A value is trying to be set on a copy of a slice from a DataFrame\n",
            "\n",
            "See the caveats in the documentation: https://pandas.pydata.org/pandas-docs/stable/user_guide/indexing.html#returning-a-view-versus-a-copy\n",
            "  self[name] = value\n"
          ],
          "name": "stderr"
        },
        {
          "output_type": "execute_result",
          "data": {
            "text/html": [
              "<div>\n",
              "<style scoped>\n",
              "    .dataframe tbody tr th:only-of-type {\n",
              "        vertical-align: middle;\n",
              "    }\n",
              "\n",
              "    .dataframe tbody tr th {\n",
              "        vertical-align: top;\n",
              "    }\n",
              "\n",
              "    .dataframe thead th {\n",
              "        text-align: right;\n",
              "    }\n",
              "</style>\n",
              "<table border=\"1\" class=\"dataframe\">\n",
              "  <thead>\n",
              "    <tr style=\"text-align: right;\">\n",
              "      <th></th>\n",
              "      <th>essay</th>\n",
              "      <th>relation</th>\n",
              "      <th>s_num</th>\n",
              "      <th>sentence</th>\n",
              "    </tr>\n",
              "  </thead>\n",
              "  <tbody>\n",
              "    <tr>\n",
              "      <th>0</th>\n",
              "      <td>EBA1415_TFBM_2_CB_ES-05548</td>\n",
              "      <td>0</td>\n",
              "      <td>1.0</td>\n",
              "      <td>No essay  //</td>\n",
              "    </tr>\n",
              "    <tr>\n",
              "      <th>1</th>\n",
              "      <td>EBA1415_TRJA_11_CB_ES-06110</td>\n",
              "      <td>0</td>\n",
              "      <td>2.0</td>\n",
              "      <td>Somethings that lead to the differences are.. ...</td>\n",
              "    </tr>\n",
              "    <tr>\n",
              "      <th>2</th>\n",
              "      <td>EBA1415_TRJA_11_CB_ES-06110</td>\n",
              "      <td>0</td>\n",
              "      <td>3.0</td>\n",
              "      <td>Some have been bleach all white it is a phenom...</td>\n",
              "    </tr>\n",
              "    <tr>\n",
              "      <th>3</th>\n",
              "      <td>EBA1415_TRJA_11_CB_ES-06110</td>\n",
              "      <td>0</td>\n",
              "      <td>4.0</td>\n",
              "      <td>Coral bleaching is most noticeable in the Paci...</td>\n",
              "    </tr>\n",
              "    <tr>\n",
              "      <th>4</th>\n",
              "      <td>EBA1415_TRJA_11_CB_ES-06110</td>\n",
              "      <td>0</td>\n",
              "      <td>5.0</td>\n",
              "      <td>That ocean covers about 1/3 of the surface of ...</td>\n",
              "    </tr>\n",
              "    <tr>\n",
              "      <th>5</th>\n",
              "      <td>EBA1415_TRJA_11_CB_ES-06110</td>\n",
              "      <td>0</td>\n",
              "      <td>6.0</td>\n",
              "      <td>The invertebrate animals live together in Colo...</td>\n",
              "    </tr>\n",
              "    <tr>\n",
              "      <th>6</th>\n",
              "      <td>EBA1415_TRJA_11_CB_ES-06110</td>\n",
              "      <td>1</td>\n",
              "      <td>7.0</td>\n",
              "      <td>The different type of algae living within the ...</td>\n",
              "    </tr>\n",
              "    <tr>\n",
              "      <th>7</th>\n",
              "      <td>EBA1415_RHSG_2_CB_ES-05081</td>\n",
              "      <td>1</td>\n",
              "      <td>8.0</td>\n",
              "      <td>There are several things that cause coral blea...</td>\n",
              "    </tr>\n",
              "    <tr>\n",
              "      <th>8</th>\n",
              "      <td>EBA1415_RHSG_2_CB_ES-05081</td>\n",
              "      <td>0</td>\n",
              "      <td>9.0</td>\n",
              "      <td>The trade winds make sea water rise.</td>\n",
              "    </tr>\n",
              "    <tr>\n",
              "      <th>9</th>\n",
              "      <td>EBA1415_RHSG_2_CB_ES-05081</td>\n",
              "      <td>1</td>\n",
              "      <td>10.0</td>\n",
              "      <td>The trade winds also change water temperature</td>\n",
              "    </tr>\n",
              "    <tr>\n",
              "      <th>10</th>\n",
              "      <td>EBA1415_RHSG_2_CB_ES-05081</td>\n",
              "      <td>0</td>\n",
              "      <td>11.0</td>\n",
              "      <td>(2) Coral is made up of small animals called p...</td>\n",
              "    </tr>\n",
              "    <tr>\n",
              "      <th>11</th>\n",
              "      <td>EBA1415_RHSG_2_CB_ES-05081</td>\n",
              "      <td>0</td>\n",
              "      <td>12.0</td>\n",
              "      <td>Coral reefs are only found in clear, shallow, ...</td>\n",
              "    </tr>\n",
              "    <tr>\n",
              "      <th>12</th>\n",
              "      <td>EBA1415_RHSG_2_CB_ES-05081</td>\n",
              "      <td>0</td>\n",
              "      <td>13.0</td>\n",
              "      <td>They live there because the algae that live in...</td>\n",
              "    </tr>\n",
              "    <tr>\n",
              "      <th>13</th>\n",
              "      <td>EBA1415_RHSG_2_CB_ES-05081</td>\n",
              "      <td>0</td>\n",
              "      <td>14.0</td>\n",
              "      <td>The algae use energy from sunlight to</td>\n",
              "    </tr>\n",
              "    <tr>\n",
              "      <th>14</th>\n",
              "      <td>EBA1415_RHSG_2_CB_ES-05081</td>\n",
              "      <td>0</td>\n",
              "      <td>15.0</td>\n",
              "      <td>Ran out of time   //</td>\n",
              "    </tr>\n",
              "    <tr>\n",
              "      <th>15</th>\n",
              "      <td>EBA1415_KYNS_4_CB_ES-05390</td>\n",
              "      <td>1</td>\n",
              "      <td>16.0</td>\n",
              "      <td>What lead to differences in the rates of coral...</td>\n",
              "    </tr>\n",
              "    <tr>\n",
              "      <th>16</th>\n",
              "      <td>EBA1415_KYNS_4_CB_ES-05390</td>\n",
              "      <td>0</td>\n",
              "      <td>17.0</td>\n",
              "      <td>Coral bleaching is when a coral loses its color.</td>\n",
              "    </tr>\n",
              "    <tr>\n",
              "      <th>17</th>\n",
              "      <td>EBA1415_KYNS_4_CB_ES-05390</td>\n",
              "      <td>0</td>\n",
              "      <td>18.0</td>\n",
              "      <td>One cause is shifting trade winds.</td>\n",
              "    </tr>\n",
              "    <tr>\n",
              "      <th>18</th>\n",
              "      <td>EBA1415_KYNS_4_CB_ES-05390</td>\n",
              "      <td>1</td>\n",
              "      <td>19.0</td>\n",
              "      <td>Trade winds travel from east to west, causing ...</td>\n",
              "    </tr>\n",
              "    <tr>\n",
              "      <th>19</th>\n",
              "      <td>EBA1415_KYNS_4_CB_ES-05390</td>\n",
              "      <td>0</td>\n",
              "      <td>20.0</td>\n",
              "      <td>Tradewinds constantly shift, causing major cha...</td>\n",
              "    </tr>\n",
              "    <tr>\n",
              "      <th>20</th>\n",
              "      <td>EBA1415_KYNS_4_CB_ES-05390</td>\n",
              "      <td>1</td>\n",
              "      <td>21.1</td>\n",
              "      <td>Weaker trade winds cause higher water temperat...</td>\n",
              "    </tr>\n",
              "    <tr>\n",
              "      <th>22</th>\n",
              "      <td>EBA1415_KYNS_4_CB_ES-05390</td>\n",
              "      <td>0</td>\n",
              "      <td>22.0</td>\n",
              "      <td>In order for coral to survive, it needs photos...</td>\n",
              "    </tr>\n",
              "    <tr>\n",
              "      <th>23</th>\n",
              "      <td>EBA1415_KYNS_4_CB_ES-05390</td>\n",
              "      <td>0</td>\n",
              "      <td>23.0</td>\n",
              "      <td>Algae lives in the coral tissues, called zooxa...</td>\n",
              "    </tr>\n",
              "    <tr>\n",
              "      <th>24</th>\n",
              "      <td>EBA1415_KYNS_4_CB_ES-05390</td>\n",
              "      <td>0</td>\n",
              "      <td>24.0</td>\n",
              "      <td>Coral and zooxanthellae need each other to sur...</td>\n",
              "    </tr>\n",
              "    <tr>\n",
              "      <th>25</th>\n",
              "      <td>EBA1415_KYNS_4_CB_ES-05390</td>\n",
              "      <td>1</td>\n",
              "      <td>25.0</td>\n",
              "      <td>Zooxanthellae gets energy fron the sun, combin...</td>\n",
              "    </tr>\n",
              "  </tbody>\n",
              "</table>\n",
              "</div>"
            ],
            "text/plain": [
              "                          essay  ...                                           sentence\n",
              "0    EBA1415_TFBM_2_CB_ES-05548  ...                                       No essay  //\n",
              "1   EBA1415_TRJA_11_CB_ES-06110  ...  Somethings that lead to the differences are.. ...\n",
              "2   EBA1415_TRJA_11_CB_ES-06110  ...  Some have been bleach all white it is a phenom...\n",
              "3   EBA1415_TRJA_11_CB_ES-06110  ...  Coral bleaching is most noticeable in the Paci...\n",
              "4   EBA1415_TRJA_11_CB_ES-06110  ...  That ocean covers about 1/3 of the surface of ...\n",
              "5   EBA1415_TRJA_11_CB_ES-06110  ...  The invertebrate animals live together in Colo...\n",
              "6   EBA1415_TRJA_11_CB_ES-06110  ...  The different type of algae living within the ...\n",
              "7    EBA1415_RHSG_2_CB_ES-05081  ...  There are several things that cause coral blea...\n",
              "8    EBA1415_RHSG_2_CB_ES-05081  ...               The trade winds make sea water rise.\n",
              "9    EBA1415_RHSG_2_CB_ES-05081  ...      The trade winds also change water temperature\n",
              "10   EBA1415_RHSG_2_CB_ES-05081  ...  (2) Coral is made up of small animals called p...\n",
              "11   EBA1415_RHSG_2_CB_ES-05081  ...  Coral reefs are only found in clear, shallow, ...\n",
              "12   EBA1415_RHSG_2_CB_ES-05081  ...  They live there because the algae that live in...\n",
              "13   EBA1415_RHSG_2_CB_ES-05081  ...              The algae use energy from sunlight to\n",
              "14   EBA1415_RHSG_2_CB_ES-05081  ...                               Ran out of time   //\n",
              "15   EBA1415_KYNS_4_CB_ES-05390  ...  What lead to differences in the rates of coral...\n",
              "16   EBA1415_KYNS_4_CB_ES-05390  ...   Coral bleaching is when a coral loses its color.\n",
              "17   EBA1415_KYNS_4_CB_ES-05390  ...                 One cause is shifting trade winds.\n",
              "18   EBA1415_KYNS_4_CB_ES-05390  ...  Trade winds travel from east to west, causing ...\n",
              "19   EBA1415_KYNS_4_CB_ES-05390  ...  Tradewinds constantly shift, causing major cha...\n",
              "20   EBA1415_KYNS_4_CB_ES-05390  ...  Weaker trade winds cause higher water temperat...\n",
              "22   EBA1415_KYNS_4_CB_ES-05390  ...  In order for coral to survive, it needs photos...\n",
              "23   EBA1415_KYNS_4_CB_ES-05390  ...  Algae lives in the coral tissues, called zooxa...\n",
              "24   EBA1415_KYNS_4_CB_ES-05390  ...  Coral and zooxanthellae need each other to sur...\n",
              "25   EBA1415_KYNS_4_CB_ES-05390  ...  Zooxanthellae gets energy fron the sun, combin...\n",
              "\n",
              "[25 rows x 4 columns]"
            ]
          },
          "metadata": {
            "tags": []
          },
          "execution_count": 25
        }
      ]
    },
    {
      "cell_type": "markdown",
      "metadata": {
        "id": "CvnLfXgy4aG2",
        "colab_type": "text"
      },
      "source": [
        "We must grab the original labels to use later for the additional classification step."
      ]
    },
    {
      "cell_type": "code",
      "metadata": {
        "id": "Ebws1VVh4gUk",
        "colab_type": "code",
        "colab": {
          "base_uri": "https://localhost:8080/",
          "height": 841
        },
        "outputId": "cbf229a6-d39c-443a-83b0-d3e84abf1c10"
      },
      "source": [
        "inds = df_ternary_test.index.values.tolist()\n",
        "df_multi_test = df_test.copy(deep=True)\n",
        "df_multi_test = df_multi_test[df_multi_test.index.isin(inds)]\n",
        "print(\"Test size:\",len(df_multi_test))\n",
        "df_multi_test.head(25)"
      ],
      "execution_count": 83,
      "outputs": [
        {
          "output_type": "stream",
          "text": [
            "Test size: 2079\n"
          ],
          "name": "stdout"
        },
        {
          "output_type": "execute_result",
          "data": {
            "text/html": [
              "<div>\n",
              "<style scoped>\n",
              "    .dataframe tbody tr th:only-of-type {\n",
              "        vertical-align: middle;\n",
              "    }\n",
              "\n",
              "    .dataframe tbody tr th {\n",
              "        vertical-align: top;\n",
              "    }\n",
              "\n",
              "    .dataframe thead th {\n",
              "        text-align: right;\n",
              "    }\n",
              "</style>\n",
              "<table border=\"1\" class=\"dataframe\">\n",
              "  <thead>\n",
              "    <tr style=\"text-align: right;\">\n",
              "      <th></th>\n",
              "      <th>essay</th>\n",
              "      <th>relation</th>\n",
              "      <th>s_num</th>\n",
              "      <th>sentence</th>\n",
              "    </tr>\n",
              "  </thead>\n",
              "  <tbody>\n",
              "    <tr>\n",
              "      <th>0</th>\n",
              "      <td>EBA1415_TFBM_2_CB_ES-05548</td>\n",
              "      <td>O</td>\n",
              "      <td>1.0</td>\n",
              "      <td>No essay  //</td>\n",
              "    </tr>\n",
              "    <tr>\n",
              "      <th>1</th>\n",
              "      <td>EBA1415_TRJA_11_CB_ES-06110</td>\n",
              "      <td>O</td>\n",
              "      <td>2.0</td>\n",
              "      <td>Somethings that lead to the differences are.. ...</td>\n",
              "    </tr>\n",
              "    <tr>\n",
              "      <th>2</th>\n",
              "      <td>EBA1415_TRJA_11_CB_ES-06110</td>\n",
              "      <td>O</td>\n",
              "      <td>3.0</td>\n",
              "      <td>Some have been bleach all white it is a phenom...</td>\n",
              "    </tr>\n",
              "    <tr>\n",
              "      <th>3</th>\n",
              "      <td>EBA1415_TRJA_11_CB_ES-06110</td>\n",
              "      <td>O</td>\n",
              "      <td>4.0</td>\n",
              "      <td>Coral bleaching is most noticeable in the Paci...</td>\n",
              "    </tr>\n",
              "    <tr>\n",
              "      <th>4</th>\n",
              "      <td>EBA1415_TRJA_11_CB_ES-06110</td>\n",
              "      <td>O</td>\n",
              "      <td>5.0</td>\n",
              "      <td>That ocean covers about 1/3 of the surface of ...</td>\n",
              "    </tr>\n",
              "    <tr>\n",
              "      <th>5</th>\n",
              "      <td>EBA1415_TRJA_11_CB_ES-06110</td>\n",
              "      <td>O</td>\n",
              "      <td>6.0</td>\n",
              "      <td>The invertebrate animals live together in Colo...</td>\n",
              "    </tr>\n",
              "    <tr>\n",
              "      <th>6</th>\n",
              "      <td>EBA1415_TRJA_11_CB_ES-06110</td>\n",
              "      <td>R-7-50</td>\n",
              "      <td>7.0</td>\n",
              "      <td>The different type of algae living within the ...</td>\n",
              "    </tr>\n",
              "    <tr>\n",
              "      <th>7</th>\n",
              "      <td>EBA1415_RHSG_2_CB_ES-05081</td>\n",
              "      <td>R-1-50</td>\n",
              "      <td>8.0</td>\n",
              "      <td>There are several things that cause coral blea...</td>\n",
              "    </tr>\n",
              "    <tr>\n",
              "      <th>8</th>\n",
              "      <td>EBA1415_RHSG_2_CB_ES-05081</td>\n",
              "      <td>O</td>\n",
              "      <td>9.0</td>\n",
              "      <td>The trade winds make sea water rise.</td>\n",
              "    </tr>\n",
              "    <tr>\n",
              "      <th>9</th>\n",
              "      <td>EBA1415_RHSG_2_CB_ES-05081</td>\n",
              "      <td>R-1-3</td>\n",
              "      <td>10.0</td>\n",
              "      <td>The trade winds also change water temperature</td>\n",
              "    </tr>\n",
              "    <tr>\n",
              "      <th>10</th>\n",
              "      <td>EBA1415_RHSG_2_CB_ES-05081</td>\n",
              "      <td>O</td>\n",
              "      <td>11.0</td>\n",
              "      <td>(2) Coral is made up of small animals called p...</td>\n",
              "    </tr>\n",
              "    <tr>\n",
              "      <th>11</th>\n",
              "      <td>EBA1415_RHSG_2_CB_ES-05081</td>\n",
              "      <td>O</td>\n",
              "      <td>12.0</td>\n",
              "      <td>Coral reefs are only found in clear, shallow, ...</td>\n",
              "    </tr>\n",
              "    <tr>\n",
              "      <th>12</th>\n",
              "      <td>EBA1415_RHSG_2_CB_ES-05081</td>\n",
              "      <td>O</td>\n",
              "      <td>13.0</td>\n",
              "      <td>They live there because the algae that live in...</td>\n",
              "    </tr>\n",
              "    <tr>\n",
              "      <th>13</th>\n",
              "      <td>EBA1415_RHSG_2_CB_ES-05081</td>\n",
              "      <td>O</td>\n",
              "      <td>14.0</td>\n",
              "      <td>The algae use energy from sunlight to</td>\n",
              "    </tr>\n",
              "    <tr>\n",
              "      <th>14</th>\n",
              "      <td>EBA1415_RHSG_2_CB_ES-05081</td>\n",
              "      <td>O</td>\n",
              "      <td>15.0</td>\n",
              "      <td>Ran out of time   //</td>\n",
              "    </tr>\n",
              "    <tr>\n",
              "      <th>15</th>\n",
              "      <td>EBA1415_KYNS_4_CB_ES-05390</td>\n",
              "      <td>R-1-50</td>\n",
              "      <td>16.0</td>\n",
              "      <td>What lead to differences in the rates of coral...</td>\n",
              "    </tr>\n",
              "    <tr>\n",
              "      <th>16</th>\n",
              "      <td>EBA1415_KYNS_4_CB_ES-05390</td>\n",
              "      <td>O</td>\n",
              "      <td>17.0</td>\n",
              "      <td>Coral bleaching is when a coral loses its color.</td>\n",
              "    </tr>\n",
              "    <tr>\n",
              "      <th>17</th>\n",
              "      <td>EBA1415_KYNS_4_CB_ES-05390</td>\n",
              "      <td>O</td>\n",
              "      <td>18.0</td>\n",
              "      <td>One cause is shifting trade winds.</td>\n",
              "    </tr>\n",
              "    <tr>\n",
              "      <th>18</th>\n",
              "      <td>EBA1415_KYNS_4_CB_ES-05390</td>\n",
              "      <td>R-1-2</td>\n",
              "      <td>19.0</td>\n",
              "      <td>Trade winds travel from east to west, causing ...</td>\n",
              "    </tr>\n",
              "    <tr>\n",
              "      <th>19</th>\n",
              "      <td>EBA1415_KYNS_4_CB_ES-05390</td>\n",
              "      <td>O</td>\n",
              "      <td>20.0</td>\n",
              "      <td>Tradewinds constantly shift, causing major cha...</td>\n",
              "    </tr>\n",
              "    <tr>\n",
              "      <th>20</th>\n",
              "      <td>EBA1415_KYNS_4_CB_ES-05390</td>\n",
              "      <td>R-1-3</td>\n",
              "      <td>21.1</td>\n",
              "      <td>Weaker trade winds cause higher water temperat...</td>\n",
              "    </tr>\n",
              "    <tr>\n",
              "      <th>22</th>\n",
              "      <td>EBA1415_KYNS_4_CB_ES-05390</td>\n",
              "      <td>O</td>\n",
              "      <td>22.0</td>\n",
              "      <td>In order for coral to survive, it needs photos...</td>\n",
              "    </tr>\n",
              "    <tr>\n",
              "      <th>23</th>\n",
              "      <td>EBA1415_KYNS_4_CB_ES-05390</td>\n",
              "      <td>O</td>\n",
              "      <td>23.0</td>\n",
              "      <td>Algae lives in the coral tissues, called zooxa...</td>\n",
              "    </tr>\n",
              "    <tr>\n",
              "      <th>24</th>\n",
              "      <td>EBA1415_KYNS_4_CB_ES-05390</td>\n",
              "      <td>O</td>\n",
              "      <td>24.0</td>\n",
              "      <td>Coral and zooxanthellae need each other to sur...</td>\n",
              "    </tr>\n",
              "    <tr>\n",
              "      <th>25</th>\n",
              "      <td>EBA1415_KYNS_4_CB_ES-05390</td>\n",
              "      <td>R-4-5</td>\n",
              "      <td>25.0</td>\n",
              "      <td>Zooxanthellae gets energy fron the sun, combin...</td>\n",
              "    </tr>\n",
              "  </tbody>\n",
              "</table>\n",
              "</div>"
            ],
            "text/plain": [
              "                          essay  ...                                           sentence\n",
              "0    EBA1415_TFBM_2_CB_ES-05548  ...                                       No essay  //\n",
              "1   EBA1415_TRJA_11_CB_ES-06110  ...  Somethings that lead to the differences are.. ...\n",
              "2   EBA1415_TRJA_11_CB_ES-06110  ...  Some have been bleach all white it is a phenom...\n",
              "3   EBA1415_TRJA_11_CB_ES-06110  ...  Coral bleaching is most noticeable in the Paci...\n",
              "4   EBA1415_TRJA_11_CB_ES-06110  ...  That ocean covers about 1/3 of the surface of ...\n",
              "5   EBA1415_TRJA_11_CB_ES-06110  ...  The invertebrate animals live together in Colo...\n",
              "6   EBA1415_TRJA_11_CB_ES-06110  ...  The different type of algae living within the ...\n",
              "7    EBA1415_RHSG_2_CB_ES-05081  ...  There are several things that cause coral blea...\n",
              "8    EBA1415_RHSG_2_CB_ES-05081  ...               The trade winds make sea water rise.\n",
              "9    EBA1415_RHSG_2_CB_ES-05081  ...      The trade winds also change water temperature\n",
              "10   EBA1415_RHSG_2_CB_ES-05081  ...  (2) Coral is made up of small animals called p...\n",
              "11   EBA1415_RHSG_2_CB_ES-05081  ...  Coral reefs are only found in clear, shallow, ...\n",
              "12   EBA1415_RHSG_2_CB_ES-05081  ...  They live there because the algae that live in...\n",
              "13   EBA1415_RHSG_2_CB_ES-05081  ...              The algae use energy from sunlight to\n",
              "14   EBA1415_RHSG_2_CB_ES-05081  ...                               Ran out of time   //\n",
              "15   EBA1415_KYNS_4_CB_ES-05390  ...  What lead to differences in the rates of coral...\n",
              "16   EBA1415_KYNS_4_CB_ES-05390  ...   Coral bleaching is when a coral loses its color.\n",
              "17   EBA1415_KYNS_4_CB_ES-05390  ...                 One cause is shifting trade winds.\n",
              "18   EBA1415_KYNS_4_CB_ES-05390  ...  Trade winds travel from east to west, causing ...\n",
              "19   EBA1415_KYNS_4_CB_ES-05390  ...  Tradewinds constantly shift, causing major cha...\n",
              "20   EBA1415_KYNS_4_CB_ES-05390  ...  Weaker trade winds cause higher water temperat...\n",
              "22   EBA1415_KYNS_4_CB_ES-05390  ...  In order for coral to survive, it needs photos...\n",
              "23   EBA1415_KYNS_4_CB_ES-05390  ...  Algae lives in the coral tissues, called zooxa...\n",
              "24   EBA1415_KYNS_4_CB_ES-05390  ...  Coral and zooxanthellae need each other to sur...\n",
              "25   EBA1415_KYNS_4_CB_ES-05390  ...  Zooxanthellae gets energy fron the sun, combin...\n",
              "\n",
              "[25 rows x 4 columns]"
            ]
          },
          "metadata": {
            "tags": []
          },
          "execution_count": 83
        }
      ]
    },
    {
      "cell_type": "markdown",
      "metadata": {
        "id": "e4dzTF_y7XAV",
        "colab_type": "text"
      },
      "source": [
        "We must reset the indexes so that they match up with the indexes of the test set predictions."
      ]
    },
    {
      "cell_type": "code",
      "metadata": {
        "id": "Bb9yyHRl7b7w",
        "colab_type": "code",
        "colab": {
          "base_uri": "https://localhost:8080/",
          "height": 824
        },
        "outputId": "80df7c10-1866-40b2-8a5b-326fcd65659c"
      },
      "source": [
        "df_multi_test = df_multi_test.reset_index(drop=True)\n",
        "df_multi_test.head(25)"
      ],
      "execution_count": 84,
      "outputs": [
        {
          "output_type": "execute_result",
          "data": {
            "text/html": [
              "<div>\n",
              "<style scoped>\n",
              "    .dataframe tbody tr th:only-of-type {\n",
              "        vertical-align: middle;\n",
              "    }\n",
              "\n",
              "    .dataframe tbody tr th {\n",
              "        vertical-align: top;\n",
              "    }\n",
              "\n",
              "    .dataframe thead th {\n",
              "        text-align: right;\n",
              "    }\n",
              "</style>\n",
              "<table border=\"1\" class=\"dataframe\">\n",
              "  <thead>\n",
              "    <tr style=\"text-align: right;\">\n",
              "      <th></th>\n",
              "      <th>essay</th>\n",
              "      <th>relation</th>\n",
              "      <th>s_num</th>\n",
              "      <th>sentence</th>\n",
              "    </tr>\n",
              "  </thead>\n",
              "  <tbody>\n",
              "    <tr>\n",
              "      <th>0</th>\n",
              "      <td>EBA1415_TFBM_2_CB_ES-05548</td>\n",
              "      <td>O</td>\n",
              "      <td>1.0</td>\n",
              "      <td>No essay  //</td>\n",
              "    </tr>\n",
              "    <tr>\n",
              "      <th>1</th>\n",
              "      <td>EBA1415_TRJA_11_CB_ES-06110</td>\n",
              "      <td>O</td>\n",
              "      <td>2.0</td>\n",
              "      <td>Somethings that lead to the differences are.. ...</td>\n",
              "    </tr>\n",
              "    <tr>\n",
              "      <th>2</th>\n",
              "      <td>EBA1415_TRJA_11_CB_ES-06110</td>\n",
              "      <td>O</td>\n",
              "      <td>3.0</td>\n",
              "      <td>Some have been bleach all white it is a phenom...</td>\n",
              "    </tr>\n",
              "    <tr>\n",
              "      <th>3</th>\n",
              "      <td>EBA1415_TRJA_11_CB_ES-06110</td>\n",
              "      <td>O</td>\n",
              "      <td>4.0</td>\n",
              "      <td>Coral bleaching is most noticeable in the Paci...</td>\n",
              "    </tr>\n",
              "    <tr>\n",
              "      <th>4</th>\n",
              "      <td>EBA1415_TRJA_11_CB_ES-06110</td>\n",
              "      <td>O</td>\n",
              "      <td>5.0</td>\n",
              "      <td>That ocean covers about 1/3 of the surface of ...</td>\n",
              "    </tr>\n",
              "    <tr>\n",
              "      <th>5</th>\n",
              "      <td>EBA1415_TRJA_11_CB_ES-06110</td>\n",
              "      <td>O</td>\n",
              "      <td>6.0</td>\n",
              "      <td>The invertebrate animals live together in Colo...</td>\n",
              "    </tr>\n",
              "    <tr>\n",
              "      <th>6</th>\n",
              "      <td>EBA1415_TRJA_11_CB_ES-06110</td>\n",
              "      <td>R-7-50</td>\n",
              "      <td>7.0</td>\n",
              "      <td>The different type of algae living within the ...</td>\n",
              "    </tr>\n",
              "    <tr>\n",
              "      <th>7</th>\n",
              "      <td>EBA1415_RHSG_2_CB_ES-05081</td>\n",
              "      <td>R-1-50</td>\n",
              "      <td>8.0</td>\n",
              "      <td>There are several things that cause coral blea...</td>\n",
              "    </tr>\n",
              "    <tr>\n",
              "      <th>8</th>\n",
              "      <td>EBA1415_RHSG_2_CB_ES-05081</td>\n",
              "      <td>O</td>\n",
              "      <td>9.0</td>\n",
              "      <td>The trade winds make sea water rise.</td>\n",
              "    </tr>\n",
              "    <tr>\n",
              "      <th>9</th>\n",
              "      <td>EBA1415_RHSG_2_CB_ES-05081</td>\n",
              "      <td>R-1-3</td>\n",
              "      <td>10.0</td>\n",
              "      <td>The trade winds also change water temperature</td>\n",
              "    </tr>\n",
              "    <tr>\n",
              "      <th>10</th>\n",
              "      <td>EBA1415_RHSG_2_CB_ES-05081</td>\n",
              "      <td>O</td>\n",
              "      <td>11.0</td>\n",
              "      <td>(2) Coral is made up of small animals called p...</td>\n",
              "    </tr>\n",
              "    <tr>\n",
              "      <th>11</th>\n",
              "      <td>EBA1415_RHSG_2_CB_ES-05081</td>\n",
              "      <td>O</td>\n",
              "      <td>12.0</td>\n",
              "      <td>Coral reefs are only found in clear, shallow, ...</td>\n",
              "    </tr>\n",
              "    <tr>\n",
              "      <th>12</th>\n",
              "      <td>EBA1415_RHSG_2_CB_ES-05081</td>\n",
              "      <td>O</td>\n",
              "      <td>13.0</td>\n",
              "      <td>They live there because the algae that live in...</td>\n",
              "    </tr>\n",
              "    <tr>\n",
              "      <th>13</th>\n",
              "      <td>EBA1415_RHSG_2_CB_ES-05081</td>\n",
              "      <td>O</td>\n",
              "      <td>14.0</td>\n",
              "      <td>The algae use energy from sunlight to</td>\n",
              "    </tr>\n",
              "    <tr>\n",
              "      <th>14</th>\n",
              "      <td>EBA1415_RHSG_2_CB_ES-05081</td>\n",
              "      <td>O</td>\n",
              "      <td>15.0</td>\n",
              "      <td>Ran out of time   //</td>\n",
              "    </tr>\n",
              "    <tr>\n",
              "      <th>15</th>\n",
              "      <td>EBA1415_KYNS_4_CB_ES-05390</td>\n",
              "      <td>R-1-50</td>\n",
              "      <td>16.0</td>\n",
              "      <td>What lead to differences in the rates of coral...</td>\n",
              "    </tr>\n",
              "    <tr>\n",
              "      <th>16</th>\n",
              "      <td>EBA1415_KYNS_4_CB_ES-05390</td>\n",
              "      <td>O</td>\n",
              "      <td>17.0</td>\n",
              "      <td>Coral bleaching is when a coral loses its color.</td>\n",
              "    </tr>\n",
              "    <tr>\n",
              "      <th>17</th>\n",
              "      <td>EBA1415_KYNS_4_CB_ES-05390</td>\n",
              "      <td>O</td>\n",
              "      <td>18.0</td>\n",
              "      <td>One cause is shifting trade winds.</td>\n",
              "    </tr>\n",
              "    <tr>\n",
              "      <th>18</th>\n",
              "      <td>EBA1415_KYNS_4_CB_ES-05390</td>\n",
              "      <td>R-1-2</td>\n",
              "      <td>19.0</td>\n",
              "      <td>Trade winds travel from east to west, causing ...</td>\n",
              "    </tr>\n",
              "    <tr>\n",
              "      <th>19</th>\n",
              "      <td>EBA1415_KYNS_4_CB_ES-05390</td>\n",
              "      <td>O</td>\n",
              "      <td>20.0</td>\n",
              "      <td>Tradewinds constantly shift, causing major cha...</td>\n",
              "    </tr>\n",
              "    <tr>\n",
              "      <th>20</th>\n",
              "      <td>EBA1415_KYNS_4_CB_ES-05390</td>\n",
              "      <td>R-1-3</td>\n",
              "      <td>21.1</td>\n",
              "      <td>Weaker trade winds cause higher water temperat...</td>\n",
              "    </tr>\n",
              "    <tr>\n",
              "      <th>21</th>\n",
              "      <td>EBA1415_KYNS_4_CB_ES-05390</td>\n",
              "      <td>O</td>\n",
              "      <td>22.0</td>\n",
              "      <td>In order for coral to survive, it needs photos...</td>\n",
              "    </tr>\n",
              "    <tr>\n",
              "      <th>22</th>\n",
              "      <td>EBA1415_KYNS_4_CB_ES-05390</td>\n",
              "      <td>O</td>\n",
              "      <td>23.0</td>\n",
              "      <td>Algae lives in the coral tissues, called zooxa...</td>\n",
              "    </tr>\n",
              "    <tr>\n",
              "      <th>23</th>\n",
              "      <td>EBA1415_KYNS_4_CB_ES-05390</td>\n",
              "      <td>O</td>\n",
              "      <td>24.0</td>\n",
              "      <td>Coral and zooxanthellae need each other to sur...</td>\n",
              "    </tr>\n",
              "    <tr>\n",
              "      <th>24</th>\n",
              "      <td>EBA1415_KYNS_4_CB_ES-05390</td>\n",
              "      <td>R-4-5</td>\n",
              "      <td>25.0</td>\n",
              "      <td>Zooxanthellae gets energy fron the sun, combin...</td>\n",
              "    </tr>\n",
              "  </tbody>\n",
              "</table>\n",
              "</div>"
            ],
            "text/plain": [
              "                          essay  ...                                           sentence\n",
              "0    EBA1415_TFBM_2_CB_ES-05548  ...                                       No essay  //\n",
              "1   EBA1415_TRJA_11_CB_ES-06110  ...  Somethings that lead to the differences are.. ...\n",
              "2   EBA1415_TRJA_11_CB_ES-06110  ...  Some have been bleach all white it is a phenom...\n",
              "3   EBA1415_TRJA_11_CB_ES-06110  ...  Coral bleaching is most noticeable in the Paci...\n",
              "4   EBA1415_TRJA_11_CB_ES-06110  ...  That ocean covers about 1/3 of the surface of ...\n",
              "5   EBA1415_TRJA_11_CB_ES-06110  ...  The invertebrate animals live together in Colo...\n",
              "6   EBA1415_TRJA_11_CB_ES-06110  ...  The different type of algae living within the ...\n",
              "7    EBA1415_RHSG_2_CB_ES-05081  ...  There are several things that cause coral blea...\n",
              "8    EBA1415_RHSG_2_CB_ES-05081  ...               The trade winds make sea water rise.\n",
              "9    EBA1415_RHSG_2_CB_ES-05081  ...      The trade winds also change water temperature\n",
              "10   EBA1415_RHSG_2_CB_ES-05081  ...  (2) Coral is made up of small animals called p...\n",
              "11   EBA1415_RHSG_2_CB_ES-05081  ...  Coral reefs are only found in clear, shallow, ...\n",
              "12   EBA1415_RHSG_2_CB_ES-05081  ...  They live there because the algae that live in...\n",
              "13   EBA1415_RHSG_2_CB_ES-05081  ...              The algae use energy from sunlight to\n",
              "14   EBA1415_RHSG_2_CB_ES-05081  ...                               Ran out of time   //\n",
              "15   EBA1415_KYNS_4_CB_ES-05390  ...  What lead to differences in the rates of coral...\n",
              "16   EBA1415_KYNS_4_CB_ES-05390  ...   Coral bleaching is when a coral loses its color.\n",
              "17   EBA1415_KYNS_4_CB_ES-05390  ...                 One cause is shifting trade winds.\n",
              "18   EBA1415_KYNS_4_CB_ES-05390  ...  Trade winds travel from east to west, causing ...\n",
              "19   EBA1415_KYNS_4_CB_ES-05390  ...  Tradewinds constantly shift, causing major cha...\n",
              "20   EBA1415_KYNS_4_CB_ES-05390  ...  Weaker trade winds cause higher water temperat...\n",
              "21   EBA1415_KYNS_4_CB_ES-05390  ...  In order for coral to survive, it needs photos...\n",
              "22   EBA1415_KYNS_4_CB_ES-05390  ...  Algae lives in the coral tissues, called zooxa...\n",
              "23   EBA1415_KYNS_4_CB_ES-05390  ...  Coral and zooxanthellae need each other to sur...\n",
              "24   EBA1415_KYNS_4_CB_ES-05390  ...  Zooxanthellae gets energy fron the sun, combin...\n",
              "\n",
              "[25 rows x 4 columns]"
            ]
          },
          "metadata": {
            "tags": []
          },
          "execution_count": 84
        }
      ]
    },
    {
      "cell_type": "markdown",
      "metadata": {
        "id": "TTjNjwI12jI1",
        "colab_type": "text"
      },
      "source": [
        "Let's take a look at the class breakdown for the test set."
      ]
    },
    {
      "cell_type": "code",
      "metadata": {
        "id": "uPm_CVaK2hky",
        "colab_type": "code",
        "colab": {
          "base_uri": "https://localhost:8080/",
          "height": 85
        },
        "outputId": "b5a2d9c2-a67c-4ff2-f42f-8445286c6910"
      },
      "source": [
        "df_ternary_test[\"relation\"].value_counts()"
      ],
      "execution_count": 26,
      "outputs": [
        {
          "output_type": "execute_result",
          "data": {
            "text/plain": [
              "0    1474\n",
              "1     587\n",
              "2      18\n",
              "Name: relation, dtype: int64"
            ]
          },
          "metadata": {
            "tags": []
          },
          "execution_count": 26
        }
      ]
    },
    {
      "cell_type": "markdown",
      "metadata": {
        "id": "EfFfcc44HqdI",
        "colab_type": "text"
      },
      "source": [
        "Extract sentences and labels from test data."
      ]
    },
    {
      "cell_type": "code",
      "metadata": {
        "id": "PomTzpRjHp0r",
        "colab_type": "code",
        "colab": {
          "base_uri": "https://localhost:8080/",
          "height": 34
        },
        "outputId": "906b6fa2-a218-4938-ed23-72d75ae011e2"
      },
      "source": [
        "sentences_test = df_ternary_test.sentence.values\n",
        "sentences_test = [\"[CLS] \" + sentence + \" [SEP]\" for sentence in sentences_test]\n",
        "\n",
        "tokenized_texts_test = [tokenizer.tokenize(sentence) for sentence in sentences_test]\n",
        "labels_test = df_ternary_test.relation.values.astype(int)\n",
        "labels_test"
      ],
      "execution_count": 27,
      "outputs": [
        {
          "output_type": "execute_result",
          "data": {
            "text/plain": [
              "array([0, 0, 0, ..., 0, 0, 0])"
            ]
          },
          "metadata": {
            "tags": []
          },
          "execution_count": 27
        }
      ]
    },
    {
      "cell_type": "markdown",
      "metadata": {
        "id": "j21brSBMIW9Y",
        "colab_type": "text"
      },
      "source": [
        "Tokenize test set essays."
      ]
    },
    {
      "cell_type": "code",
      "metadata": {
        "id": "JtM-j9FZIYvP",
        "colab_type": "code",
        "colab": {}
      },
      "source": [
        "input_ids_test = [tokenizer.convert_tokens_to_ids(x) for x in tokenized_texts_test]\n",
        "input_ids_test = pad_sequences(input_ids_test, maxlen=MAX_LEN, dtype=\"long\", truncating=\"post\", padding=\"post\")"
      ],
      "execution_count": 28,
      "outputs": []
    },
    {
      "cell_type": "markdown",
      "metadata": {
        "id": "0rnQgbv2IhlZ",
        "colab_type": "text"
      },
      "source": [
        "Set test set attention masks."
      ]
    },
    {
      "cell_type": "code",
      "metadata": {
        "id": "kPV2hsUPIgKD",
        "colab_type": "code",
        "colab": {}
      },
      "source": [
        "attention_masks_test = []\n",
        "\n",
        "for seq in input_ids_test:\n",
        "  seq_mask = [float(i>0) for i in seq]\n",
        "  attention_masks_test.append(seq_mask)"
      ],
      "execution_count": 29,
      "outputs": []
    },
    {
      "cell_type": "markdown",
      "metadata": {
        "id": "w5FwRQuDIo0V",
        "colab_type": "text"
      },
      "source": [
        "Tensorize and load data."
      ]
    },
    {
      "cell_type": "code",
      "metadata": {
        "id": "-8DwjhE0Idt0",
        "colab_type": "code",
        "colab": {}
      },
      "source": [
        "prediction_inputs = torch.tensor(input_ids_test)\n",
        "prediction_masks = torch.tensor(attention_masks_test)\n",
        "prediction_labels = torch.tensor(labels_test)\n",
        "\n",
        "prediction_data = TensorDataset(prediction_inputs, prediction_masks, prediction_labels)\n",
        "prediction_sampler = SequentialSampler(prediction_data)\n",
        "prediction_dataloader = DataLoader(prediction_data, sampler=prediction_sampler, batch_size=BATCH_SIZE)"
      ],
      "execution_count": 30,
      "outputs": []
    },
    {
      "cell_type": "markdown",
      "metadata": {
        "id": "OdjmvRg6JKGW",
        "colab_type": "text"
      },
      "source": [
        "Evaluate test set."
      ]
    },
    {
      "cell_type": "code",
      "metadata": {
        "id": "HvleeCpEJOMj",
        "colab_type": "code",
        "colab": {}
      },
      "source": [
        "model.eval()\n",
        "\n",
        "predictions_test, true_labels_test = [], []\n",
        "\n",
        "# Predict \n",
        "for batch in prediction_dataloader:\n",
        "  # Add batch to GPU\n",
        "  batch = tuple(t.to(device) for t in batch)\n",
        "  # Unpack the inputs from our dataloader\n",
        "  b_input_ids, b_input_mask, b_labels = batch\n",
        "  # Telling the model not to compute or store gradients, saving memory and speeding up prediction\n",
        "  with torch.no_grad():\n",
        "    # Forward pass, calculate logit predictions\n",
        "    logits = model(b_input_ids, token_type_ids=None, attention_mask=b_input_mask)\n",
        "\n",
        "  # Move logits and labels to CPU\n",
        "  logits_test = logits.detach().cpu().numpy()\n",
        "  label_ids_test = b_labels.to('cpu').numpy()\n",
        "  \n",
        "  # Store predictions and true labels\n",
        "  predictions_test.append(logits_test)\n",
        "  true_labels_test.append(label_ids_test)"
      ],
      "execution_count": 31,
      "outputs": []
    },
    {
      "cell_type": "markdown",
      "metadata": {
        "id": "iU7c-AihNHUD",
        "colab_type": "text"
      },
      "source": [
        "Print confusion matrix."
      ]
    },
    {
      "cell_type": "code",
      "metadata": {
        "id": "8jOQnGHINJqG",
        "colab_type": "code",
        "colab": {
          "base_uri": "https://localhost:8080/",
          "height": 170
        },
        "outputId": "0bbda62a-344f-43ae-d4c3-b00b5702f7c6"
      },
      "source": [
        "from sklearn.metrics import confusion_matrix\n",
        "\n",
        "flat_predictions_test = [item for sublist in predictions_test for item in sublist]\n",
        "flat_predictions_test = np.argmax(flat_predictions_test, axis=1).flatten()\n",
        "flat_true_labels_test = [item for sublist in true_labels_test for item in sublist]\n",
        "\n",
        "y_pred = flat_predictions_test\n",
        "y = flat_true_labels_test\n",
        "\n",
        "stats = confusion_matrix(y, y_pred).ravel()\n",
        "\n",
        "print(\"\\t\\t\\t      Predicted\\n\")\n",
        "print(\"\\t\\t\\tNone\\tValid\\tInvalid\")\n",
        "print(\"\\n\\t\\tNone\\t{}     {}        {}\".format(stats[0], stats[1], stats[2]))\n",
        "print(\"      Actual\")\n",
        "print(\"\\t\\tValid\\t{}      {}        {}\".format(stats[3], stats[4], stats[5]))\n",
        "print(\"\\n\\t\\tInvalid\\t {}       {}        {}\".format(stats[6], stats[7], stats[8]))"
      ],
      "execution_count": 32,
      "outputs": [
        {
          "output_type": "stream",
          "text": [
            "\t\t\t      Predicted\n",
            "\n",
            "\t\t\tNone\tValid\tInvalid\n",
            "\n",
            "\t\tNone\t1384     90        0\n",
            "      Actual\n",
            "\t\tValid\t138      449        0\n",
            "\n",
            "\t\tInvalid\t 8       10        0\n"
          ],
          "name": "stdout"
        }
      ]
    },
    {
      "cell_type": "markdown",
      "metadata": {
        "id": "t3_FXfJ78CKb",
        "colab_type": "text"
      },
      "source": [
        "Now we must isolate the predictions. We will start with the negative class."
      ]
    },
    {
      "cell_type": "code",
      "metadata": {
        "id": "lxxkzX6c8FMi",
        "colab_type": "code",
        "colab": {
          "base_uri": "https://localhost:8080/",
          "height": 34
        },
        "outputId": "1922558a-a7f8-4db3-b5ab-20c438daa577"
      },
      "source": [
        "test_pred_norelation_inds = [i for i in range(len(y_pred)) if y_pred[i] == 0]\n",
        "test_pred_norelation_arr = [y_pred[i] for i in test_pred_norelation_inds]\n",
        "print(\"Predicted no relation:\",len(test_pred_norelation_inds))"
      ],
      "execution_count": 115,
      "outputs": [
        {
          "output_type": "stream",
          "text": [
            "Predicted no relation: 1530\n"
          ],
          "name": "stdout"
        }
      ]
    },
    {
      "cell_type": "markdown",
      "metadata": {
        "id": "TbeKylKY9UPy",
        "colab_type": "text"
      },
      "source": [
        "Isolate corresponding actual labels."
      ]
    },
    {
      "cell_type": "code",
      "metadata": {
        "id": "75Za8hTD9XKo",
        "colab_type": "code",
        "colab": {
          "base_uri": "https://localhost:8080/",
          "height": 34
        },
        "outputId": "e9fcc5b8-6b66-49de-ea7e-d2f5021f43e3"
      },
      "source": [
        "test_true_norelation_inds = [i for i in range(len(y)) if y[i] == 0]\n",
        "test_true_norelation_arr = [y[i] for i in test_pred_norelation_inds]\n",
        "print(\"Actual no relation:\",len(test_true_norelation_inds))"
      ],
      "execution_count": 116,
      "outputs": [
        {
          "output_type": "stream",
          "text": [
            "Actual no relation: 1474\n"
          ],
          "name": "stdout"
        }
      ]
    },
    {
      "cell_type": "markdown",
      "metadata": {
        "id": "0_h6Cgja-Cco",
        "colab_type": "text"
      },
      "source": [
        "Let's take a look at the stats for just the negative class."
      ]
    },
    {
      "cell_type": "code",
      "metadata": {
        "id": "CtvoRCCS9vEy",
        "colab_type": "code",
        "colab": {
          "base_uri": "https://localhost:8080/",
          "height": 170
        },
        "outputId": "fe888313-ce28-4bf2-a3fd-97c1d890d50d"
      },
      "source": [
        "test_pred_norelation_all_inds = [i for i in range(len(y_pred)) if y_pred[i] == 0 or  y[i] == 0]\n",
        "test_pred_norelation_all_arr = [y_pred[i] for i in test_pred_norelation_all_inds]\n",
        "test_true_norelation_all_arr = [y[i] for i in test_pred_norelation_all_inds]\n",
        "\n",
        "neg_stats = confusion_matrix(test_true_norelation_all_arr, test_pred_norelation_all_arr).ravel()\n",
        "\n",
        "print(\"\\t\\t\\t      Predicted\\n\")\n",
        "print(\"\\t\\t\\tNone\\tValid\\tInvalid\")\n",
        "print(\"\\n\\t\\tNone\\t{}     {}        {}\".format(neg_stats[0], neg_stats[1], neg_stats[2]))\n",
        "print(\"      Actual\")\n",
        "print(\"\\t\\tValid\\t{}      {}        {}\".format(neg_stats[3], neg_stats[4], neg_stats[5]))\n",
        "print(\"\\n\\t\\tInvalid\\t {}       {}        {}\".format(neg_stats[6], neg_stats[7], neg_stats[8]))"
      ],
      "execution_count": 117,
      "outputs": [
        {
          "output_type": "stream",
          "text": [
            "\t\t\t      Predicted\n",
            "\n",
            "\t\t\tNone\tValid\tInvalid\n",
            "\n",
            "\t\tNone\t1384     90        0\n",
            "      Actual\n",
            "\t\tValid\t138      0        0\n",
            "\n",
            "\t\tInvalid\t 8       0        0\n"
          ],
          "name": "stdout"
        }
      ]
    },
    {
      "cell_type": "markdown",
      "metadata": {
        "id": "C0AjGOW5BrkD",
        "colab_type": "text"
      },
      "source": [
        "Get precision, recall, and F1 for negative class."
      ]
    },
    {
      "cell_type": "code",
      "metadata": {
        "id": "VWpVtcFq9vBx",
        "colab_type": "code",
        "colab": {
          "base_uri": "https://localhost:8080/",
          "height": 102
        },
        "outputId": "d2fecd14-52fd-48cc-882e-981fa6a40e44"
      },
      "source": [
        "neg_prec = neg_stats[0] / (neg_stats[0] + neg_stats[3] + neg_stats[6])\n",
        "neg_rec = neg_stats[0] / (neg_stats[0] + neg_stats[1] + neg_stats[2])\n",
        "neg_f1 = 2*neg_prec*neg_rec / (neg_prec + neg_rec)\n",
        "\n",
        "print(\"Negative class metrics:\\n\")\n",
        "print(\"Precision: \",neg_prec)\n",
        "print(\"Recall:    \",neg_rec)\n",
        "print(\"F1:        \",neg_f1)\n"
      ],
      "execution_count": 118,
      "outputs": [
        {
          "output_type": "stream",
          "text": [
            "Negative class metrics:\n",
            "\n",
            "Precision:  0.9045751633986928\n",
            "Recall:     0.9389416553595658\n",
            "F1:         0.9214380825565911\n"
          ],
          "name": "stdout"
        }
      ]
    },
    {
      "cell_type": "markdown",
      "metadata": {
        "id": "Bm5e6DuFDAPE",
        "colab_type": "text"
      },
      "source": [
        "Now we must isolate the valid and invalid predictions so that we can run them through the multilabel classifier."
      ]
    },
    {
      "cell_type": "code",
      "metadata": {
        "id": "PF4eFNwK9u9_",
        "colab_type": "code",
        "colab": {
          "base_uri": "https://localhost:8080/",
          "height": 51
        },
        "outputId": "b9b669a9-2556-4f57-fa56-205a4b160bc1"
      },
      "source": [
        "# Get array of all instances predicted valid\n",
        "\n",
        "test_pred_valid_inds = [i for i in range(len(y_pred)) if y_pred[i] == 1]\n",
        "test_true_valid_inds = [i for i in range(len(y)) if y[i] == 1]\n",
        "print(\"Predicted valid:\",len(test_pred_valid_inds))\n",
        "print(\"Actual valid:\",len(test_true_valid_inds))"
      ],
      "execution_count": 119,
      "outputs": [
        {
          "output_type": "stream",
          "text": [
            "Predicted valid: 549\n",
            "Actual valid: 587\n"
          ],
          "name": "stdout"
        }
      ]
    },
    {
      "cell_type": "code",
      "metadata": {
        "colab_type": "code",
        "id": "A9LRXrfCDg7d",
        "colab": {
          "base_uri": "https://localhost:8080/",
          "height": 51
        },
        "outputId": "5067a49f-dc1a-40d0-ee71-1cd5c995b827"
      },
      "source": [
        "# Get array of all instances predicted invalid\n",
        "\n",
        "test_pred_invalid_inds = [i for i in range(len(y_pred)) if y_pred[i] == 2]\n",
        "test_true_invalid_inds = [i for i in range(len(y)) if y[i] == 2]\n",
        "print(\"Predicted invalid:\",len(test_pred_invalid_inds))\n",
        "print(\"Actual invalid:\",len(test_true_invalid_inds))"
      ],
      "execution_count": 120,
      "outputs": [
        {
          "output_type": "stream",
          "text": [
            "Predicted invalid: 0\n",
            "Actual invalid: 18\n"
          ],
          "name": "stdout"
        }
      ]
    },
    {
      "cell_type": "code",
      "metadata": {
        "id": "4aLutiX43Vji",
        "colab_type": "code",
        "colab": {
          "base_uri": "https://localhost:8080/",
          "height": 841
        },
        "outputId": "f2c287f8-71c7-4d09-9d90-f887d876f34e"
      },
      "source": [
        "# Create dataframe of valid predictions\n",
        "\n",
        "df_multi_test_valid = df_multi_test.copy(deep=True)\n",
        "df_multi_test_valid = df_multi_test_valid[df_multi_test_valid.index.isin(test_pred_valid_inds)]\n",
        "print(\"Test size (valid predictions):\",len(df_multi_test_valid))\n",
        "df_multi_test_valid.head(25)"
      ],
      "execution_count": 121,
      "outputs": [
        {
          "output_type": "stream",
          "text": [
            "Test size (valid predictions): 549\n"
          ],
          "name": "stdout"
        },
        {
          "output_type": "execute_result",
          "data": {
            "text/html": [
              "<div>\n",
              "<style scoped>\n",
              "    .dataframe tbody tr th:only-of-type {\n",
              "        vertical-align: middle;\n",
              "    }\n",
              "\n",
              "    .dataframe tbody tr th {\n",
              "        vertical-align: top;\n",
              "    }\n",
              "\n",
              "    .dataframe thead th {\n",
              "        text-align: right;\n",
              "    }\n",
              "</style>\n",
              "<table border=\"1\" class=\"dataframe\">\n",
              "  <thead>\n",
              "    <tr style=\"text-align: right;\">\n",
              "      <th></th>\n",
              "      <th>essay</th>\n",
              "      <th>relation</th>\n",
              "      <th>s_num</th>\n",
              "      <th>sentence</th>\n",
              "    </tr>\n",
              "  </thead>\n",
              "  <tbody>\n",
              "    <tr>\n",
              "      <th>6</th>\n",
              "      <td>EBA1415_TRJA_11_CB_ES-06110</td>\n",
              "      <td>R-7-50</td>\n",
              "      <td>7.0</td>\n",
              "      <td>The different type of algae living within the ...</td>\n",
              "    </tr>\n",
              "    <tr>\n",
              "      <th>7</th>\n",
              "      <td>EBA1415_RHSG_2_CB_ES-05081</td>\n",
              "      <td>R-1-50</td>\n",
              "      <td>8.0</td>\n",
              "      <td>There are several things that cause coral blea...</td>\n",
              "    </tr>\n",
              "    <tr>\n",
              "      <th>8</th>\n",
              "      <td>EBA1415_RHSG_2_CB_ES-05081</td>\n",
              "      <td>O</td>\n",
              "      <td>9.0</td>\n",
              "      <td>The trade winds make sea water rise.</td>\n",
              "    </tr>\n",
              "    <tr>\n",
              "      <th>9</th>\n",
              "      <td>EBA1415_RHSG_2_CB_ES-05081</td>\n",
              "      <td>R-1-3</td>\n",
              "      <td>10.0</td>\n",
              "      <td>The trade winds also change water temperature</td>\n",
              "    </tr>\n",
              "    <tr>\n",
              "      <th>15</th>\n",
              "      <td>EBA1415_KYNS_4_CB_ES-05390</td>\n",
              "      <td>R-1-50</td>\n",
              "      <td>16.0</td>\n",
              "      <td>What lead to differences in the rates of coral...</td>\n",
              "    </tr>\n",
              "    <tr>\n",
              "      <th>18</th>\n",
              "      <td>EBA1415_KYNS_4_CB_ES-05390</td>\n",
              "      <td>R-1-2</td>\n",
              "      <td>19.0</td>\n",
              "      <td>Trade winds travel from east to west, causing ...</td>\n",
              "    </tr>\n",
              "    <tr>\n",
              "      <th>20</th>\n",
              "      <td>EBA1415_KYNS_4_CB_ES-05390</td>\n",
              "      <td>R-1-3</td>\n",
              "      <td>21.1</td>\n",
              "      <td>Weaker trade winds cause higher water temperat...</td>\n",
              "    </tr>\n",
              "    <tr>\n",
              "      <th>27</th>\n",
              "      <td>EBA1415_KYNS_4_CB_ES-05390</td>\n",
              "      <td>R-3-4</td>\n",
              "      <td>28.0</td>\n",
              "      <td>When water temperature increases, the amount o...</td>\n",
              "    </tr>\n",
              "    <tr>\n",
              "      <th>28</th>\n",
              "      <td>EBA1415_KYNS_4_CB_ES-05390</td>\n",
              "      <td>R-3-14</td>\n",
              "      <td>29.1</td>\n",
              "      <td>When the water temperature is constantly chang...</td>\n",
              "    </tr>\n",
              "    <tr>\n",
              "      <th>29</th>\n",
              "      <td>EBA1415_KYNS_4_CB_ES-05390</td>\n",
              "      <td>R-14-50</td>\n",
              "      <td>30.1</td>\n",
              "      <td>Coral bleaching happens when the coral is unhe...</td>\n",
              "    </tr>\n",
              "    <tr>\n",
              "      <th>30</th>\n",
              "      <td>EBA1415_KYNS_4_CB_ES-05390</td>\n",
              "      <td>R-1-3</td>\n",
              "      <td>31.1</td>\n",
              "      <td>Trade winds affect the balance of water temper...</td>\n",
              "    </tr>\n",
              "    <tr>\n",
              "      <th>33</th>\n",
              "      <td>EBA1415_KYNS_4_CB_ES-05390</td>\n",
              "      <td>R-7-14</td>\n",
              "      <td>34.1</td>\n",
              "      <td>When the zooxanthellae dies or is ejected, the...</td>\n",
              "    </tr>\n",
              "    <tr>\n",
              "      <th>46</th>\n",
              "      <td>EBA1415post_TWNB_3_CB_ES-05893</td>\n",
              "      <td>R-3-5</td>\n",
              "      <td>47.0</td>\n",
              "      <td>Coral need water temperatures between 70-85oF ...</td>\n",
              "    </tr>\n",
              "    <tr>\n",
              "      <th>47</th>\n",
              "      <td>EBA1415post_TWNB_3_CB_ES-05893</td>\n",
              "      <td>R-7-50</td>\n",
              "      <td>48.0</td>\n",
              "      <td>Without zooxanthallae coral will die.</td>\n",
              "    </tr>\n",
              "    <tr>\n",
              "      <th>48</th>\n",
              "      <td>EBA1415post_TWNB_3_CB_ES-05893</td>\n",
              "      <td>O</td>\n",
              "      <td>49.0</td>\n",
              "      <td>And without coral zooxanthellae will die.</td>\n",
              "    </tr>\n",
              "    <tr>\n",
              "      <th>49</th>\n",
              "      <td>EBA1415post_TWNB_3_CB_ES-05893</td>\n",
              "      <td>R-7-50</td>\n",
              "      <td>50.0</td>\n",
              "      <td>During bleaching corals turn white due to the ...</td>\n",
              "    </tr>\n",
              "    <tr>\n",
              "      <th>55</th>\n",
              "      <td>EBA1415_TFMV_3_CB_ES-05848</td>\n",
              "      <td>R-6-50</td>\n",
              "      <td>56.0</td>\n",
              "      <td>The main cause of Coral Bleaching is because o...</td>\n",
              "    </tr>\n",
              "    <tr>\n",
              "      <th>56</th>\n",
              "      <td>EBA1415_TFMV_3_CB_ES-05848</td>\n",
              "      <td>R-6-5</td>\n",
              "      <td>57.0</td>\n",
              "      <td>When corals have to much stress, it is hard to...</td>\n",
              "    </tr>\n",
              "    <tr>\n",
              "      <th>61</th>\n",
              "      <td>EBA1415_TFMV_3_CB_ES-05848</td>\n",
              "      <td>R-6-50</td>\n",
              "      <td>62.1</td>\n",
              "      <td>If the coral has to much stress it turns white...</td>\n",
              "    </tr>\n",
              "    <tr>\n",
              "      <th>69</th>\n",
              "      <td>EBA1415_WSKT_6_CB_ES-05341</td>\n",
              "      <td>R-4-14</td>\n",
              "      <td>70.0</td>\n",
              "      <td>This effect threatens the delicate balance req...</td>\n",
              "    </tr>\n",
              "    <tr>\n",
              "      <th>70</th>\n",
              "      <td>EBA1415_WSKT_6_CB_ES-05341</td>\n",
              "      <td>O</td>\n",
              "      <td>71.0</td>\n",
              "      <td>Unhealthy coral can't bleach, decreasing the c...</td>\n",
              "    </tr>\n",
              "    <tr>\n",
              "      <th>72</th>\n",
              "      <td>EBA1415_WSKT_6_CB_ES-05341</td>\n",
              "      <td>O</td>\n",
              "      <td>73.0</td>\n",
              "      <td>The zooxanthellae dies making the coral vulner...</td>\n",
              "    </tr>\n",
              "    <tr>\n",
              "      <th>83</th>\n",
              "      <td>EBA1415_TRWH_8_CB_ES-06081</td>\n",
              "      <td>R-3-50</td>\n",
              "      <td>84.0</td>\n",
              "      <td>The difference betten the rates of coral bleac...</td>\n",
              "    </tr>\n",
              "    <tr>\n",
              "      <th>93</th>\n",
              "      <td>EBA1415_TWJB_7_CB_ES-06223</td>\n",
              "      <td>R-3-50</td>\n",
              "      <td>94.0</td>\n",
              "      <td>This can be caused by changing temperatures.</td>\n",
              "    </tr>\n",
              "    <tr>\n",
              "      <th>95</th>\n",
              "      <td>EBA1415_TWJB_7_CB_ES-06223</td>\n",
              "      <td>R-13-14</td>\n",
              "      <td>96.0</td>\n",
              "      <td>Then the ocean salinity decreases in shallow w...</td>\n",
              "    </tr>\n",
              "  </tbody>\n",
              "</table>\n",
              "</div>"
            ],
            "text/plain": [
              "                             essay  ...                                           sentence\n",
              "6      EBA1415_TRJA_11_CB_ES-06110  ...  The different type of algae living within the ...\n",
              "7       EBA1415_RHSG_2_CB_ES-05081  ...  There are several things that cause coral blea...\n",
              "8       EBA1415_RHSG_2_CB_ES-05081  ...               The trade winds make sea water rise.\n",
              "9       EBA1415_RHSG_2_CB_ES-05081  ...      The trade winds also change water temperature\n",
              "15      EBA1415_KYNS_4_CB_ES-05390  ...  What lead to differences in the rates of coral...\n",
              "18      EBA1415_KYNS_4_CB_ES-05390  ...  Trade winds travel from east to west, causing ...\n",
              "20      EBA1415_KYNS_4_CB_ES-05390  ...  Weaker trade winds cause higher water temperat...\n",
              "27      EBA1415_KYNS_4_CB_ES-05390  ...  When water temperature increases, the amount o...\n",
              "28      EBA1415_KYNS_4_CB_ES-05390  ...  When the water temperature is constantly chang...\n",
              "29      EBA1415_KYNS_4_CB_ES-05390  ...  Coral bleaching happens when the coral is unhe...\n",
              "30      EBA1415_KYNS_4_CB_ES-05390  ...  Trade winds affect the balance of water temper...\n",
              "33      EBA1415_KYNS_4_CB_ES-05390  ...  When the zooxanthellae dies or is ejected, the...\n",
              "46  EBA1415post_TWNB_3_CB_ES-05893  ...  Coral need water temperatures between 70-85oF ...\n",
              "47  EBA1415post_TWNB_3_CB_ES-05893  ...              Without zooxanthallae coral will die.\n",
              "48  EBA1415post_TWNB_3_CB_ES-05893  ...          And without coral zooxanthellae will die.\n",
              "49  EBA1415post_TWNB_3_CB_ES-05893  ...  During bleaching corals turn white due to the ...\n",
              "55      EBA1415_TFMV_3_CB_ES-05848  ...  The main cause of Coral Bleaching is because o...\n",
              "56      EBA1415_TFMV_3_CB_ES-05848  ...  When corals have to much stress, it is hard to...\n",
              "61      EBA1415_TFMV_3_CB_ES-05848  ...  If the coral has to much stress it turns white...\n",
              "69      EBA1415_WSKT_6_CB_ES-05341  ...  This effect threatens the delicate balance req...\n",
              "70      EBA1415_WSKT_6_CB_ES-05341  ...  Unhealthy coral can't bleach, decreasing the c...\n",
              "72      EBA1415_WSKT_6_CB_ES-05341  ...  The zooxanthellae dies making the coral vulner...\n",
              "83      EBA1415_TRWH_8_CB_ES-06081  ...  The difference betten the rates of coral bleac...\n",
              "93      EBA1415_TWJB_7_CB_ES-06223  ...       This can be caused by changing temperatures.\n",
              "95      EBA1415_TWJB_7_CB_ES-06223  ...  Then the ocean salinity decreases in shallow w...\n",
              "\n",
              "[25 rows x 4 columns]"
            ]
          },
          "metadata": {
            "tags": []
          },
          "execution_count": 121
        }
      ]
    },
    {
      "cell_type": "code",
      "metadata": {
        "id": "gtYT9VxJ3Vxh",
        "colab_type": "code",
        "colab": {
          "base_uri": "https://localhost:8080/",
          "height": 66
        },
        "outputId": "98dda855-a448-4d8e-959c-122834732359"
      },
      "source": [
        "# Create dataframe of invalid predictions\n",
        "\n",
        "df_multi_test_invalid = df_multi_test.copy(deep=True)\n",
        "df_multi_test_invalid = df_multi_test_invalid[df_multi_test_invalid.index.isin(test_pred_invalid_inds)]\n",
        "print(\"Test size (invalid predictions):\",len(df_multi_test_invalid))\n",
        "df_multi_test_invalid.head(25)"
      ],
      "execution_count": 122,
      "outputs": [
        {
          "output_type": "stream",
          "text": [
            "Test size (invalid predictions): 0\n"
          ],
          "name": "stdout"
        },
        {
          "output_type": "execute_result",
          "data": {
            "text/html": [
              "<div>\n",
              "<style scoped>\n",
              "    .dataframe tbody tr th:only-of-type {\n",
              "        vertical-align: middle;\n",
              "    }\n",
              "\n",
              "    .dataframe tbody tr th {\n",
              "        vertical-align: top;\n",
              "    }\n",
              "\n",
              "    .dataframe thead th {\n",
              "        text-align: right;\n",
              "    }\n",
              "</style>\n",
              "<table border=\"1\" class=\"dataframe\">\n",
              "  <thead>\n",
              "    <tr style=\"text-align: right;\">\n",
              "      <th></th>\n",
              "      <th>essay</th>\n",
              "      <th>relation</th>\n",
              "      <th>s_num</th>\n",
              "      <th>sentence</th>\n",
              "    </tr>\n",
              "  </thead>\n",
              "  <tbody>\n",
              "  </tbody>\n",
              "</table>\n",
              "</div>"
            ],
            "text/plain": [
              "Empty DataFrame\n",
              "Columns: [essay, relation, s_num, sentence]\n",
              "Index: []"
            ]
          },
          "metadata": {
            "tags": []
          },
          "execution_count": 122
        }
      ]
    },
    {
      "cell_type": "code",
      "metadata": {
        "id": "3UlFwK-_3Vr1",
        "colab_type": "code",
        "colab": {}
      },
      "source": [
        ""
      ],
      "execution_count": null,
      "outputs": []
    },
    {
      "cell_type": "code",
      "metadata": {
        "id": "snlFYG0i3VcA",
        "colab_type": "code",
        "colab": {}
      },
      "source": [
        ""
      ],
      "execution_count": null,
      "outputs": []
    },
    {
      "cell_type": "code",
      "metadata": {
        "id": "cOyiKsye3VUh",
        "colab_type": "code",
        "colab": {}
      },
      "source": [
        ""
      ],
      "execution_count": null,
      "outputs": []
    },
    {
      "cell_type": "markdown",
      "metadata": {
        "id": "12xhNn75MAc9",
        "colab_type": "text"
      },
      "source": [
        "Examine statistics from test set."
      ]
    },
    {
      "cell_type": "code",
      "metadata": {
        "id": "JfeL1wTlMCj6",
        "colab_type": "code",
        "colab": {
          "base_uri": "https://localhost:8080/",
          "height": 119
        },
        "outputId": "2e1da8ac-c416-47fb-aef7-70801022e6cb"
      },
      "source": [
        "from sklearn.metrics import classification_report\n",
        "\n",
        "classification_dict = classification_report(y, y_pred, labels=None, target_names=None, \\\n",
        "                      sample_weight=None, digits=2, output_dict=True, zero_division=1)\n",
        "\n",
        "for k,v in classification_dict.items():\n",
        "  print(k, v)"
      ],
      "execution_count": 33,
      "outputs": [
        {
          "output_type": "stream",
          "text": [
            "0 {'precision': 0.9045751633986928, 'recall': 0.9389416553595658, 'f1-score': 0.9214380825565911, 'support': 1474}\n",
            "1 {'precision': 0.8178506375227687, 'recall': 0.7649063032367973, 'f1-score': 0.7904929577464789, 'support': 587}\n",
            "2 {'precision': 1.0, 'recall': 0.0, 'f1-score': 0.0, 'support': 18}\n",
            "accuracy 0.8816738816738817\n",
            "macro avg {'precision': 0.9074752669738205, 'recall': 0.567949319532121, 'f1-score': 0.5706436801010234, 'support': 2079}\n",
            "weighted avg {'precision': 0.8809149182662522, 'recall': 0.8816738816738817, 'f1-score': 0.8764882635332364, 'support': 2079}\n"
          ],
          "name": "stdout"
        }
      ]
    },
    {
      "cell_type": "code",
      "metadata": {
        "id": "TcARyj2NVMkl",
        "colab_type": "code",
        "colab": {}
      },
      "source": [
        ""
      ],
      "execution_count": 33,
      "outputs": []
    },
    {
      "cell_type": "code",
      "metadata": {
        "id": "8rUrefSAW1-L",
        "colab_type": "code",
        "colab": {}
      },
      "source": [
        ""
      ],
      "execution_count": 33,
      "outputs": []
    },
    {
      "cell_type": "code",
      "metadata": {
        "id": "r1dsiCDvW2Ih",
        "colab_type": "code",
        "colab": {}
      },
      "source": [
        ""
      ],
      "execution_count": 33,
      "outputs": []
    },
    {
      "cell_type": "code",
      "metadata": {
        "id": "S2KehHiCW2Sa",
        "colab_type": "code",
        "colab": {}
      },
      "source": [
        ""
      ],
      "execution_count": 33,
      "outputs": []
    },
    {
      "cell_type": "code",
      "metadata": {
        "id": "SZrBvKnFVMiH",
        "colab_type": "code",
        "colab": {}
      },
      "source": [
        ""
      ],
      "execution_count": 33,
      "outputs": []
    },
    {
      "cell_type": "code",
      "metadata": {
        "id": "fsV7B264VMe6",
        "colab_type": "code",
        "colab": {}
      },
      "source": [
        ""
      ],
      "execution_count": 33,
      "outputs": []
    },
    {
      "cell_type": "markdown",
      "metadata": {
        "id": "vwrKQ35WB8SX",
        "colab_type": "text"
      },
      "source": [
        "Now we will fine-tune a BERT model just for the valid relations."
      ]
    },
    {
      "cell_type": "code",
      "metadata": {
        "id": "Gk61RXMdB7_6",
        "colab_type": "code",
        "colab": {
          "base_uri": "https://localhost:8080/",
          "height": 204
        },
        "outputId": "33fc58f0-dc4e-4252-e709-cde39c888009"
      },
      "source": [
        "# First must edit relations \n",
        "\n",
        "df_valid = df.copy(deep=True)\n",
        "\n",
        "# Going to edit iteratively (lazily)...will fix later.\n",
        "\n",
        "for i, row in df_valid.iterrows():\n",
        "  r = row.relation\n",
        "\n",
        "  if r == 'O': continue\n",
        "  r_split = r.split(\"-\")\n",
        "  r = r_split[1] + \",\" + r_split[2]\n",
        "  df_valid.at[i, \"relation\"] = r\n",
        "  \n",
        "df_valid.head()"
      ],
      "execution_count": 34,
      "outputs": [
        {
          "output_type": "execute_result",
          "data": {
            "text/html": [
              "<div>\n",
              "<style scoped>\n",
              "    .dataframe tbody tr th:only-of-type {\n",
              "        vertical-align: middle;\n",
              "    }\n",
              "\n",
              "    .dataframe tbody tr th {\n",
              "        vertical-align: top;\n",
              "    }\n",
              "\n",
              "    .dataframe thead th {\n",
              "        text-align: right;\n",
              "    }\n",
              "</style>\n",
              "<table border=\"1\" class=\"dataframe\">\n",
              "  <thead>\n",
              "    <tr style=\"text-align: right;\">\n",
              "      <th></th>\n",
              "      <th>essay</th>\n",
              "      <th>relation</th>\n",
              "      <th>s_num</th>\n",
              "      <th>sentence</th>\n",
              "    </tr>\n",
              "  </thead>\n",
              "  <tbody>\n",
              "    <tr>\n",
              "      <th>0</th>\n",
              "      <td>EBA1415_KNKC_1_CB_ES-05410</td>\n",
              "      <td>O</td>\n",
              "      <td>1.0</td>\n",
              "      <td>Coral and zooxanthellae depend an each other i...</td>\n",
              "    </tr>\n",
              "    <tr>\n",
              "      <th>1</th>\n",
              "      <td>EBA1415_KNKC_1_CB_ES-05410</td>\n",
              "      <td>7,50</td>\n",
              "      <td>2.0</td>\n",
              "      <td>If the coral dies, or gets bleached, then the ...</td>\n",
              "    </tr>\n",
              "    <tr>\n",
              "      <th>2</th>\n",
              "      <td>EBA1415_KNKC_1_CB_ES-05410</td>\n",
              "      <td>O</td>\n",
              "      <td>3.0</td>\n",
              "      <td>Or the other way around.</td>\n",
              "    </tr>\n",
              "    <tr>\n",
              "      <th>3</th>\n",
              "      <td>EBA1415_KNKC_1_CB_ES-05410</td>\n",
              "      <td>O</td>\n",
              "      <td>4.0</td>\n",
              "      <td>In the text Shifting Trade Winds, it talks abo...</td>\n",
              "    </tr>\n",
              "    <tr>\n",
              "      <th>4</th>\n",
              "      <td>EBA1415_KNKC_1_CB_ES-05410</td>\n",
              "      <td>3,1</td>\n",
              "      <td>5.0</td>\n",
              "      <td>And another source states how when the water t...</td>\n",
              "    </tr>\n",
              "  </tbody>\n",
              "</table>\n",
              "</div>"
            ],
            "text/plain": [
              "                        essay  ...                                           sentence\n",
              "0  EBA1415_KNKC_1_CB_ES-05410  ...  Coral and zooxanthellae depend an each other i...\n",
              "1  EBA1415_KNKC_1_CB_ES-05410  ...  If the coral dies, or gets bleached, then the ...\n",
              "2  EBA1415_KNKC_1_CB_ES-05410  ...                           Or the other way around.\n",
              "3  EBA1415_KNKC_1_CB_ES-05410  ...  In the text Shifting Trade Winds, it talks abo...\n",
              "4  EBA1415_KNKC_1_CB_ES-05410  ...  And another source states how when the water t...\n",
              "\n",
              "[5 rows x 4 columns]"
            ]
          },
          "metadata": {
            "tags": []
          },
          "execution_count": 34
        }
      ]
    },
    {
      "cell_type": "code",
      "metadata": {
        "id": "OHQC9EcTB78r",
        "colab_type": "code",
        "colab": {
          "base_uri": "https://localhost:8080/",
          "height": 204
        },
        "outputId": "432b2ea5-a35d-4777-d9de-d8652d48bb73"
      },
      "source": [
        "# Now isolate the valid ones\n",
        "\n",
        "df_valid = df_valid[df_valid['relation'].isin(relations)]\n",
        "df_valid.head()"
      ],
      "execution_count": 35,
      "outputs": [
        {
          "output_type": "execute_result",
          "data": {
            "text/html": [
              "<div>\n",
              "<style scoped>\n",
              "    .dataframe tbody tr th:only-of-type {\n",
              "        vertical-align: middle;\n",
              "    }\n",
              "\n",
              "    .dataframe tbody tr th {\n",
              "        vertical-align: top;\n",
              "    }\n",
              "\n",
              "    .dataframe thead th {\n",
              "        text-align: right;\n",
              "    }\n",
              "</style>\n",
              "<table border=\"1\" class=\"dataframe\">\n",
              "  <thead>\n",
              "    <tr style=\"text-align: right;\">\n",
              "      <th></th>\n",
              "      <th>essay</th>\n",
              "      <th>relation</th>\n",
              "      <th>s_num</th>\n",
              "      <th>sentence</th>\n",
              "    </tr>\n",
              "  </thead>\n",
              "  <tbody>\n",
              "    <tr>\n",
              "      <th>1</th>\n",
              "      <td>EBA1415_KNKC_1_CB_ES-05410</td>\n",
              "      <td>7,50</td>\n",
              "      <td>2.0</td>\n",
              "      <td>If the coral dies, or gets bleached, then the ...</td>\n",
              "    </tr>\n",
              "    <tr>\n",
              "      <th>8</th>\n",
              "      <td>EBA1415_KNKC_1_CB_ES-05410</td>\n",
              "      <td>5B,50</td>\n",
              "      <td>9.1</td>\n",
              "      <td>Which can affect the coral because if the zoox...</td>\n",
              "    </tr>\n",
              "    <tr>\n",
              "      <th>10</th>\n",
              "      <td>EBA1415_KNKC_1_CB_ES-05410</td>\n",
              "      <td>1,50</td>\n",
              "      <td>10.0</td>\n",
              "      <td>So shifitng trade is what leads to the differe...</td>\n",
              "    </tr>\n",
              "    <tr>\n",
              "      <th>19</th>\n",
              "      <td>EBA1415post_WSKT_1_CB_ES-05486</td>\n",
              "      <td>3,50</td>\n",
              "      <td>19.0</td>\n",
              "      <td>Coral bleaching can be led to by the rise of w...</td>\n",
              "    </tr>\n",
              "    <tr>\n",
              "      <th>22</th>\n",
              "      <td>EBA1415post_WSKT_1_CB_ES-05486</td>\n",
              "      <td>3,4</td>\n",
              "      <td>22.0</td>\n",
              "      <td>When this occurs, it makes it harder for coral...</td>\n",
              "    </tr>\n",
              "  </tbody>\n",
              "</table>\n",
              "</div>"
            ],
            "text/plain": [
              "                             essay  ...                                           sentence\n",
              "1       EBA1415_KNKC_1_CB_ES-05410  ...  If the coral dies, or gets bleached, then the ...\n",
              "8       EBA1415_KNKC_1_CB_ES-05410  ...  Which can affect the coral because if the zoox...\n",
              "10      EBA1415_KNKC_1_CB_ES-05410  ...  So shifitng trade is what leads to the differe...\n",
              "19  EBA1415post_WSKT_1_CB_ES-05486  ...  Coral bleaching can be led to by the rise of w...\n",
              "22  EBA1415post_WSKT_1_CB_ES-05486  ...  When this occurs, it makes it harder for coral...\n",
              "\n",
              "[5 rows x 4 columns]"
            ]
          },
          "metadata": {
            "tags": []
          },
          "execution_count": 35
        }
      ]
    },
    {
      "cell_type": "code",
      "metadata": {
        "id": "_7M4xhtpVTGR",
        "colab_type": "code",
        "colab": {}
      },
      "source": [
        "# Create sentence and label lists\n",
        "sentences = df_valid.sentence.values\n",
        "\n",
        "# Add special tokens at the beginning and end of each sentence to comply with BERT\n",
        "sentences = [\"[CLS] \" + sentence + \" [SEP]\" for sentence in sentences]\n",
        "labels = df_valid.relation.values"
      ],
      "execution_count": 36,
      "outputs": []
    },
    {
      "cell_type": "code",
      "metadata": {
        "id": "bFBVb9SnV2lC",
        "colab_type": "code",
        "colab": {
          "base_uri": "https://localhost:8080/",
          "height": 54
        },
        "outputId": "e8a457c2-89b5-4374-e677-ff604a2e08fc"
      },
      "source": [
        "# Now that our [CLS] and [SEP] tokens are in place, we are ready for tokenization\n",
        "tokenizer = BertTokenizer.from_pretrained('bert-base-uncased', do_lower_case=True)\n",
        "tokenized_texts = [tokenizer.tokenize(sent) for sent in sentences]\n",
        "print (\"First sentence tokenized: \",tokenized_texts[0])"
      ],
      "execution_count": 37,
      "outputs": [
        {
          "output_type": "stream",
          "text": [
            "First sentence tokenized:  ['[CLS]', 'if', 'the', 'coral', 'dies', ',', 'or', 'gets', 'b', '##lea', '##ched', ',', 'then', 'the', 'zoo', '##xa', '##nt', '##hell', '##ae', 'dies', '.', '[SEP]']\n"
          ],
          "name": "stdout"
        }
      ]
    },
    {
      "cell_type": "code",
      "metadata": {
        "id": "g6oMfrkJV2id",
        "colab_type": "code",
        "colab": {
          "base_uri": "https://localhost:8080/",
          "height": 34
        },
        "outputId": "123a8833-1021-4298-b76b-66e349c1f0cf"
      },
      "source": [
        "'''\n",
        "For each tokenized input sentence, we need to create:\n",
        "\n",
        "1. input ids:\n",
        "    a sequence of integers identifying each input token to its index number \n",
        "    in the BERT tokenizer vocabulary\n",
        "\n",
        "2. segment mask: (optional) a sequence of 1s and 0s used to identify whether the input is one \n",
        "    sentence or two sentences long. For one sentence inputs, this is simply a sequence of 0s. \n",
        "    For two sentence inputs, there is a 0 for each token of the first sentence, followed by a \n",
        "    1 for each token of the second sentence\n",
        "\n",
        "3. attention mask: (optional) \n",
        "    a sequence of 1s and 0s, with 1s for all input tokens and 0s for all padding tokens \n",
        "\n",
        "4. labels: based on the labels from the data set\n",
        "'''\n",
        "\n",
        "# For now, we will simply delete the tokenized_texts greater than MAX_LEN.\n",
        "\n",
        "# We need to strip out the sentences greater than MAX_LEN tokens\n",
        "original_length = len(tokenized_texts)\n",
        "\n",
        "labels = [labels[i] for i in range(len(tokenized_texts)) if len(tokenized_texts[i]) <= MAX_LEN]\n",
        "tokenized_texts = [tokenized_texts[i] for i in range(len(tokenized_texts)) if len(tokenized_texts[i]) <= MAX_LEN]\n",
        "print(\"Removed {0} sentences greater than {1}\".format(original_length - len(tokenized_texts),MAX_LEN))"
      ],
      "execution_count": 38,
      "outputs": [
        {
          "output_type": "stream",
          "text": [
            "Removed 3 sentences greater than 128\n"
          ],
          "name": "stdout"
        }
      ]
    },
    {
      "cell_type": "code",
      "metadata": {
        "id": "Qfkf30I7V2fo",
        "colab_type": "code",
        "colab": {}
      },
      "source": [
        "# Use the BERT tokenizer to convert the tokens to their index numbers in the BERT vocabulary\n",
        "input_ids = [tokenizer.convert_tokens_to_ids(x) for x in tokenized_texts]"
      ],
      "execution_count": 39,
      "outputs": []
    },
    {
      "cell_type": "code",
      "metadata": {
        "id": "M1QC94d1V2cn",
        "colab_type": "code",
        "colab": {}
      },
      "source": [
        "# Pad our input tokens\n",
        "input_ids = pad_sequences(input_ids, maxlen=MAX_LEN, dtype=\"long\", truncating=\"post\", padding=\"post\")"
      ],
      "execution_count": 40,
      "outputs": []
    },
    {
      "cell_type": "code",
      "metadata": {
        "id": "a4kn-_K5V2Zf",
        "colab_type": "code",
        "colab": {}
      },
      "source": [
        "# Create attention masks\n",
        "attention_masks = []\n",
        "\n",
        "# Create a mask of 1s for each token followed by 0s for padding\n",
        "for seq in input_ids:\n",
        "  seq_mask = [float(i>0) for i in seq]\n",
        "  attention_masks.append(seq_mask)"
      ],
      "execution_count": 41,
      "outputs": []
    },
    {
      "cell_type": "code",
      "metadata": {
        "id": "-VXOKpUTV2Wv",
        "colab_type": "code",
        "colab": {
          "base_uri": "https://localhost:8080/",
          "height": 71
        },
        "outputId": "ef481cf0-97e2-49b9-9100-0379f3941508"
      },
      "source": [
        "# At this point we must convert our labels from strings to ints (required for tensorization)\n",
        "\n",
        "# First we are going to create an array of all possible labels\n",
        "label_types = {}\n",
        "for i in range(len(labels)):\n",
        "  if labels[i] not in label_types:\n",
        "    label_types.update({labels[i] : len(label_types)})\n",
        "print(\"Total labels_types: {0}\\nLabels: {1}\".format(len(label_types),str(label_types)))"
      ],
      "execution_count": 42,
      "outputs": [
        {
          "output_type": "stream",
          "text": [
            "Total labels_types: 53\n",
            "Labels: {'7,50': 0, '5B,50': 1, '1,50': 2, '3,50': 3, '3,4': 4, '4,5': 5, '5,5B': 6, '4,50': 7, '2,3': 8, '13,50': 9, '3,7': 10, '1,3': 11, '11,50': 12, '11,12': 13, '12,14': 14, '6,7': 15, '1,2': 16, '2,50': 17, '3,5': 18, '4,14': 19, '6,50': 20, '5,50': 21, '1,7': 22, '11,13': 23, '14,50': 24, '12,50': 25, '12,13': 26, '13,14': 27, '5,7': 28, '4,5B': 29, '11,14': 30, '1,4': 31, '4,7': 32, '13,7': 33, '14,6': 34, '13,6': 35, '5B,7': 36, '3,5B': 37, '3,6': 38, '1,5': 39, '12,7': 40, '4,6': 41, '14,7': 42, '11,6': 43, '5,6': 44, '3,14': 45, '1,6': 46, '5B,14': 47, '2,4': 48, '2,7': 49, '2,6': 50, '5,14': 51, '1,14': 52}\n"
          ],
          "name": "stdout"
        }
      ]
    },
    {
      "cell_type": "code",
      "metadata": {
        "id": "Q-XO_erkWOWL",
        "colab_type": "code",
        "colab": {
          "base_uri": "https://localhost:8080/",
          "height": 71
        },
        "outputId": "8cbd4c5f-7429-43a5-d5f4-7ce34235bdf4"
      },
      "source": [
        "# Now map each label to its corresponding integer\n",
        "print(\"Old labels: \",str(labels))\n",
        "labels = [label_types.get(l) for l in labels]\n",
        "print(\"New labels: \",str(labels))"
      ],
      "execution_count": 43,
      "outputs": [
        {
          "output_type": "stream",
          "text": [
            "Old labels:  ['7,50', '5B,50', '1,50', '3,50', '3,4', '4,5', '5,5B', '5,5B', '4,50', '2,3', '3,50', '3,50', '13,50', '3,7', '3,50', '1,50', '1,3', '3,50', '3,50', '1,3', '13,50', '11,50', '11,12', '12,14', '1,50', '3,50', '3,50', '6,7', '6,7', '7,50', '1,2', '2,50', '3,5', '3,4', '4,14', '7,50', '6,7', '6,7', '7,50', '6,7', '7,50', '6,7', '7,50', '7,50', '7,50', '7,50', '7,50', '7,50', '6,50', '6,7', '6,7', '1,50', '5,50', '7,50', '1,3', '1,3', '3,50', '7,50', '1,7', '5B,50', '5B,50', '1,50', '1,3', '1,2', '3,5', '11,13', '14,50', '7,50', '1,2', '1,2', '6,7', '3,50', '1,50', '4,14', '4,14', '7,50', '1,2', '2,3', '3,50', '11,13', '12,50', '13,50', '6,7', '1,50', '1,2', '7,50', '7,50', '1,3', '5,5B', '6,7', '7,50', '5B,50', '11,12', '12,13', '13,14', '13,14', '3,50', '4,50', '3,5', '5,5B', '4,5', '6,7', '7,50', '3,50', '4,50', '7,50', '5,7', '3,7', '1,7', '1,3', '3,50', '1,3', '2,3', '11,50', '11,12', '12,13', '13,14', '14,50', '14,50', '1,3', '1,2', '1,2', '3,5', '3,4', '4,5', '5,7', '7,50', '7,50', '1,3', '3,50', '3,50', '1,50', '2,3', '11,50', '11,12', '12,13', '13,14', '13,14', '7,50', '3,50', '7,50', '6,7', '6,7', '1,50', '7,50', '1,3', '1,2', '1,50', '3,50', '5,7', '4,5B', '1,3', '11,13', '7,50', '7,50', '6,50', '7,50', '1,50', '1,50', '14,50', '1,50', '14,50', '3,50', '4,50', '3,50', '3,50', '1,50', '1,50', '3,50', '1,50', '3,50', '5B,50', '12,13', '12,50', '1,50', '3,50', '7,50', '7,50', '1,3', '1,3', '3,4', '4,5', '11,13', '13,14', '7,50', '1,50', '7,50', '5,50', '1,50', '7,50', '7,50', '3,5', '4,14', '6,50', '1,50', '3,50', '6,50', '6,7', '6,7', '3,50', '1,50', '11,13', '11,12', '12,13', '7,50', '3,4', '11,14', '13,14', '11,13', '6,7', '7,50', '6,7', '7,50', '4,5', '3,5', '3,4', '4,14', '11,13', '11,12', '12,13', '7,50', '3,50', '1,50', '11,50', '11,13', '13,50', '4,50', '13,50', '4,50', '11,50', '7,50', '6,7', '1,50', '3,50', '1,50', '1,4', '1,3', '4,7', '13,7', '7,50', '1,50', '1,50', '1,3', '3,50', '13,14', '14,50', '11,13', '7,50', '14,50', '7,50', '6,7', '13,50', '3,50', '3,50', '13,50', '13,14', '14,50', '3,50', '7,50', '7,50', '7,50', '14,6', '14,6', '3,50', '14,50', '11,13', '3,4', '4,14', '13,50', '11,50', '11,50', '3,5', '11,50', '11,12', '13,14', '13,50', '7,50', '3,5', '3,5', '7,50', '1,50', '1,3', '1,50', '1,3', '3,50', '3,5', '3,4', '7,50', '3,5', '1,2', '2,3', '6,7', '7,50', '1,50', '3,50', '2,3', '1,3', '3,4', '4,14', '11,14', '11,14', '11,12', '11,12', '12,13', '13,14', '3,4', '4,5B', '11,12', '12,13', '13,14', '4,50', '7,50', '5,50', '1,50', '3,50', '1,50', '1,2', '1,3', '3,5', '4,5B', '3,4', '5B,50', '1,50', '3,50', '7,50', '7,50', '7,50', '6,7', '6,7', '13,7', '1,3', '1,3', '3,50', '4,5B', '12,13', '11,12', '12,13', '11,13', '13,6', '6,7', '4,5', '1,3', '3,50', '3,50', '2,3', '4,5', '4,50', '3,5', '4,14', '11,12', '12,13', '13,14', '7,50', '1,50', '1,2', '1,2', '3,5', '3,4', '4,14', '14,50', '14,50', '3,7', '3,50', '1,50', '1,3', '7,50', '1,50', '1,3', '1,3', '4,50', '4,7', '7,50', '1,50', '1,3', '7,50', '1,50', '1,50', '3,50', '3,5', '3,50', '7,50', '3,5', '11,13', '1,2', '11,13', '6,50', '7,50', '1,50', '1,3', '3,50', '1,50', '5,50', '12,13', '13,14', '1,50', '11,13', '7,50', '1,3', '7,50', '1,50', '1,3', '7,50', '7,50', '7,50', '5B,7', '7,50', '7,50', '1,50', '1,50', '3,50', '3,50', '7,50', '6,7', '2,50', '2,50', '1,2', '3,4', '4,5', '6,7', '7,50', '1,3', '3,50', '3,7', '3,50', '3,7', '1,50', '7,50', '5,5B', '3,4', '4,5', '11,13', '11,13', '5,5B', '3,5', '3,5', '1,50', '3,50', '3,5', '7,50', '1,3', '3,50', '7,50', '3,50', '7,50', '3,5', '4,5', '4,50', '4,50', '11,12', '12,13', '13,14', '14,50', '7,50', '7,50', '3,50', '1,50', '1,50', '5,50', '1,50', '13,50', '4,50', '13,50', '4,50', '6,50', '7,50', '7,50', '4,14', '11,14', '5,5B', '3,50', '3,50', '3,50', '3,4', '4,14', '14,50', '1,50', '13,50', '3,50', '3,5', '3,4', '4,14', '11,50', '6,50', '6,50', '1,50', '1,3', '1,50', '3,50', '3,50', '11,50', '4,50', '3,5', '4,5', '4,5B', '4,50', '3,5', '7,50', '6,7', '6,50', '7,50', '7,50', '12,13', '11,12', '13,50', '3,50', '13,50', '7,50', '1,50', '1,3', '1,50', '3,50', '3,4', '4,14', '14,50', '5,50', '7,50', '1,50', '3,5', '1,3', '3,5B', '5B,50', '5,5B', '3,50', '1,50', '3,6', '1,3', '1,3', '1,3', '3,50', '5,5B', '3,50', '3,50', '1,50', '1,50', '1,50', '7,50', '7,50', '7,50', '1,50', '1,3', '3,4', '4,50', '4,5', '1,50', '2,3', '3,4', '4,5', '4,50', '5,50', '7,50', '4,5', '4,5', '5,5B', '5,5B', '1,50', '1,50', '3,50', '1,50', '5,5B', '5B,7', '5,5B', '5B,7', '7,50', '7,50', '14,50', '7,50', '6,7', '7,50', '5,50', '7,50', '6,7', '6,7', '7,50', '11,12', '12,50', '12,50', '5B,50', '3,50', '1,50', '1,50', '1,2', '1,2', '6,7', '7,50', '7,50', '1,50', '7,50', '1,50', '6,7', '7,50', '6,7', '6,7', '7,50', '4,5B', '3,5', '11,13', '13,50', '13,50', '1,2', '2,3', '1,3', '7,50', '1,50', '1,50', '3,4', '4,7', '7,50', '7,50', '7,50', '7,50', '3,50', '3,4', '1,3', '1,3', '3,50', '2,3', '1,3', '3,50', '11,50', '6,50', '1,3', '4,14', '3,4', '4,5', '1,3', '3,6', '6,50', '1,50', '3,50', '3,4', '4,14', '11,13', '13,14', '6,7', '5B,50', '5B,50', '1,50', '13,50', '7,50', '1,50', '3,4', '11,12', '12,13', '12,13', '13,14', '13,14', '7,50', '7,50', '7,50', '5B,7', '7,50', '3,50', '1,50', '6,7', '3,50', '3,50', '1,3', '3,50', '3,50', '6,50', '6,7', '6,50', '6,50', '3,5', '14,50', '7,50', '5,50', '1,3', '5,50', '4,50', '4,14', '6,7', '3,6', '6,7', '1,3', '1,5', '3,5', '3,4', '4,14', '4,7', '7,50', '1,3', '3,50', '7,50', '11,13', '11,12', '12,13', '7,50', '14,50', '7,50', '3,50', '1,50', '6,7', '6,50', '6,7', '6,50', '3,50', '5B,50', '1,50', '3,5', '1,3', '2,50', '7,50', '14,50', '11,13', '3,4', '4,14', '3,50', '1,50', '1,50', '1,3', '1,3', '3,50', '4,50', '1,4', '1,50', '3,50', '1,50', '3,50', '1,50', '5,50', '3,5', '4,14', '11,14', '11,14', '11,13', '12,14', '14,50', '3,50', '1,50', '3,7', '7,50', '3,5', '3,50', '3,50', '3,5', '13,50', '3,50', '1,50', '7,50', '11,12', '12,50', '7,50', '11,13', '11,12', '12,14', '12,13', '12,14', '12,13', '1,50', '1,3', '3,4', '4,14', '7,50', '7,50', '3,5', '5,50', '13,14', '7,50', '3,5', '7,50', '7,50', '13,50', '7,50', '1,50', '7,50', '3,50', '3,6', '3,6', '6,7', '3,50', '1,50', '3,50', '1,50', '2,3', '7,50', '3,50', '1,50', '3,50', '1,50', '1,50', '1,50', '3,50', '3,4', '1,4', '11,13', '13,14', '7,50', '4,50', '11,14', '7,50', '6,7', '1,3', '11,50', '3,5', '11,50', '3,5', '1,3', '3,4', '11,13', '13,14', '4,50', '6,50', '4,5', '4,50', '6,7', '6,7', '7,50', '1,50', '3,50', '5,5B', '1,50', '1,2', '7,50', '7,50', '11,13', '11,13', '3,5', '4,14', '4,14', '4,50', '1,50', '5,5B', '7,50', '1,50', '1,2', '2,3', '2,3', '3,50', '5,5B', '3,4', '4,5', '3,4', '11,13', '11,12', '12,13', '13,14', '13,50', '1,50', '1,3', '11,13', '12,50', '12,7', '4,7', '7,50', '13,50', '1,50', '6,50', '13,14', '6,7', '6,7', '7,50', '1,3', '1,3', '1,3', '3,50', '7,50', '4,5', '1,50', '5,50', '1,50', '1,2', '1,3', '7,50', '3,50', '7,50', '3,50', '1,50', '3,4', '4,14', '1,50', '3,50', '5,5B', '4,5', '11,13', '11,12', '14,50', '1,50', '13,50', '13,50', '7,50', '7,50', '1,3', '1,3', '5,50', '11,13', '12,13', '7,50', '3,50', '1,50', '6,50', '1,50', '4,14', '13,14', '1,50', '3,50', '1,50', '3,50', '1,2', '1,50', '13,14', '11,13', '6,7', '7,50', '7,50', '6,50', '13,50', '13,14', '1,3', '13,50', '1,50', '1,3', '1,50', '1,3', '1,3', '1,3', '3,50', '3,50', '1,50', '4,14', '3,4', '4,50', '3,5', '4,50', '4,14', '7,50', '4,5', '3,5', '1,2', '1,2', '3,50', '1,50', '3,50', '1,50', '13,50', '5,50', '11,12', '12,13', '13,14', '13,14', '4,5', '7,50', '7,50', '7,50', '6,7', '7,50', '3,6', '11,12', '3,50', '3,50', '3,4', '4,5', '3,5', '3,4', '4,14', '3,50', '11,50', '4,50', '4,5', '4,5B', '1,2', '4,5', '1,50', '1,3', '1,3', '1,3', '3,50', '1,50', '1,3', '7,50', '1,50', '1,50', '1,50', '1,3', '7,50', '7,50', '1,50', '3,4', '4,5', '1,2', '4,14', '1,50', '3,50', '3,5', '3,4', '4,6', '4,6', '6,7', '6,7', '7,50', '7,50', '7,50', '6,7', '1,3', '3,50', '1,50', '3,50', '4,14', '3,50', '1,50', '1,50', '4,5', '3,5', '2,50', '3,50', '1,2', '7,50', '4,50', '11,12', '12,13', '13,14', '3,50', '3,7', '3,50', '4,50', '3,4', '11,13', '12,13', '1,2', '2,3', '1,3', '1,50', '3,50', '1,50', '3,5', '1,50', '7,50', '1,2', '2,3', '1,3', '3,50', '7,50', '5,5B', '6,7', '1,3', '7,50', '7,50', '6,7', '7,50', '6,7', '7,50', '1,50', '1,3', '3,4', '4,7', '1,50', '11,50', '13,50', '3,50', '1,50', '13,50', '3,50', '14,50', '7,50', '1,50', '7,50', '11,50', '3,50', '1,3', '3,4', '4,50', '4,14', '4,14', '11,13', '13,14', '6,7', '14,50', '1,50', '1,3', '1,3', '1,2', '3,5', '3,4', '4,14', '14,50', '11,12', '12,13', '13,14', '3,50', '3,50', '4,50', '6,7', '7,50', '7,50', '3,50', '1,50', '3,50', '1,50', '1,2', '1,50', '3,50', '3,50', '1,50', '3,50', '1,50', '7,50', '5,50', '1,50', '5,50', '4,50', '1,2', '3,50', '7,50', '6,7', '1,2', '11,13', '13,7', '1,50', '13,50', '11,13', '11,12', '12,13', '13,14', '1,50', '13,50', '11,13', '3,50', '3,50', '1,50', '3,50', '1,3', '1,2', '2,3', '2,3', '3,4', '4,50', '3,4', '3,4', '4,50', '3,50', '3,4', '1,3', '3,50', '1,50', '3,50', '3,50', '3,4', '4,14', '14,50', '14,50', '3,50', '1,50', '7,50', '3,4', '7,50', '7,50', '1,50', '3,50', '3,50', '1,50', '7,50', '7,50', '1,50', '1,3', '1,50', '3,50', '3,50', '1,50', '1,50', '1,50', '1,3', '6,7', '7,50', '1,50', '1,3', '3,5', '1,50', '5,50', '1,50', '3,4', '4,50', '13,50', '13,50', '1,50', '3,50', '1,50', '11,50', '3,50', '3,50', '7,50', '3,7', '3,7', '1,50', '3,50', '6,50', '6,7', '1,2', '1,3', '3,50', '3,50', '11,13', '13,14', '14,7', '3,50', '3,4', '4,5', '1,50', '1,3', '3,50', '11,13', '11,50', '1,50', '1,50', '3,50', '3,4', '4,14', '11,12', '12,13', '13,14', '7,50', '1,50', '4,50', '4,50', '3,5', '6,50', '7,50', '11,13', '3,50', '3,50', '7,50', '6,7', '6,50', '7,50', '1,3', '3,50', '3,50', '7,50', '3,50', '11,12', '12,13', '13,50', '13,50', '1,50', '1,50', '13,50', '7,50', '3,5', '3,4', '7,50', '1,2', '1,3', '1,3', '3,50', '13,14', '3,50', '4,5', '3,5', '1,50', '1,3', '3,7', '7,50', '3,50', '7,50', '3,5', '1,2', '1,3', '3,6', '6,7', '7,50', '14,50', '7,50', '7,50', '14,50', '7,50', '7,50', '7,50', '3,50', '1,3', '1,3', '7,50', '13,50', '11,13', '6,50', '6,7', '3,4', '1,3', '4,50', '12,13', '13,50', '13,50', '13,50', '3,50', '1,50', '7,50', '1,50', '1,3', '7,50', '7,50', '1,50', '1,3', '5,50', '3,50', '11,50', '11,13', '13,50', '6,50', '11,50', '14,50', '7,50', '7,50', '5,50', '6,7', '6,50', '6,7', '13,50', '3,50', '11,14', '1,50', '5,50', '11,12', '12,13', '13,14', '6,7', '7,50', '3,5', '3,5', '11,13', '7,50', '3,4', '4,14', '13,14', '13,14', '3,4', '4,14', '7,50', '1,2', '1,3', '1,50', '3,4', '1,4', '3,50', '1,3', '6,7', '7,50', '3,7', '5B,50', '3,50', '3,50', '3,5', '1,50', '3,50', '13,50', '5B,50', '12,50', '11,6', '11,12', '1,3', '6,50', '6,50', '7,50', '7,50', '14,6', '6,50', '7,50', '3,50', '1,50', '4,50', '1,3', '1,3', '3,50', '3,4', '4,14', '11,14', '11,13', '12,13', '11,12', '11,12', '12,13', '7,50', '3,50', '6,50', '3,50', '3,50', '1,50', '3,4', '4,50', '4,50', '11,12', '12,14', '14,50', '12,14', '14,50', '5,50', '3,4', '4,50', '1,2', '1,50', '1,50', '13,50', '13,50', '1,50', '5,5B', '5,5B', '7,50', '6,7', '7,50', '7,50', '1,50', '7,50', '13,50', '4,50', '3,50', '11,50', '11,13', '12,13', '13,14', '3,4', '4,14', '11,13', '13,14', '13,14', '7,50', '11,13', '1,50', '1,3', '1,3', '1,50', '3,5', '6,7', '7,50', '3,5', '3,5', '3,5', '13,50', '13,14', '1,3', '7,50', '1,3', '3,50', '11,12', '13,50', '7,50', '1,3', '5,50', '6,7', '7,50', '5B,50', '1,3', '7,50', '1,50', '1,3', '3,4', '4,5', '3,5', '7,50', '3,50', '5B,50', '1,3', '5,5B', '1,3', '3,5', '3,5', '5,6', '6,7', '2,3', '6,7', '3,5', '11,12', '12,13', '13,14', '4,50', '3,4', '13,50', '13,14', '11,12', '13,14', '14,50', '14,50', '5,5B', '7,50', '3,50', '1,50', '3,50', '1,50', '1,50', '1,50', '7,50', '3,5', '4,14', '11,12', '12,13', '13,50', '13,50', '4,5', '3,4', '4,14', '7,50', '7,50', '6,7', '7,50', '1,50', '3,50', '5,7', '7,50', '7,50', '3,5', '3,14', '14,50', '7,50', '1,50', '7,50', '3,50', '3,50', '7,50', '1,2', '1,3', '3,50', '1,50', '3,50', '2,3', '2,3', '1,50', '3,50', '1,50', '1,50', '3,6', '6,7', '3,6', '7,50', '1,50', '1,50', '3,50', '1,50', '1,3', '4,50', '1,50', '1,50', '1,50', '3,50', '7,50', '5,50', '11,50', '11,13', '12,13', '1,3', '11,50', '13,50', '4,50', '3,50', '1,50', '1,50', '1,50', '3,50', '1,50', '3,50', '1,3', '7,50', '1,3', '3,50', '7,50', '7,50', '1,50', '3,50', '1,3', '1,3', '3,50', '4,5', '7,50', '1,50', '13,14', '4,50', '6,50', '1,3', '3,5', '1,3', '1,3', '3,5', '3,50', '1,3', '7,50', '7,50', '7,50', '11,50', '1,50', '1,50', '3,50', '5,50', '1,50', '2,3', '3,50', '3,14', '3,50', '3,14', '1,2', '1,50', '3,50', '4,50', '5B,50', '11,50', '11,13', '13,14', '1,2', '2,3', '2,3', '1,50', '1,4', '4,7', '4,7', '7,50', '1,50', '3,50', '14,50', '7,50', '7,50', '5,5B', '7,50', '6,7', '7,50', '3,50', '1,50', '3,50', '1,50', '7,50', '1,50', '1,4', '3,4', '4,5', '12,13', '6,7', '1,3', '1,3', '3,5', '5,50', '11,50', '3,50', '1,3', '1,3', '11,14', '3,50', '11,50', '5,50', '3,50', '3,50', '3,50', '1,50', '4,5', '5,5B', '4,5', '3,4', '4,14', '11,14', '11,12', '12,13', '13,14', '13,14', '3,5', '3,4', '7,50', '3,5', '3,50', '3,50', '3,50', '1,3', '1,3', '1,2', '1,3', '4,50', '6,50', '7,50', '6,50', '7,50', '6,7', '3,50', '5,50', '3,50', '5,50', '1,50', '3,50', '6,7', '7,50', '1,50', '11,50', '11,12', '12,13', '13,14', '13,14', '1,5', '5,50', '5,50', '4,50', '1,50', '7,50', '5,50', '1,2', '4,5', '11,13', '11,12', '12,13', '13,50', '3,4', '4,14', '4,14', '14,50', '14,50', '1,50', '1,50', '1,3', '3,50', '3,7', '7,50', '7,50', '1,3', '3,4', '5,7', '5,7', '7,50', '7,50', '3,6', '13,6', '3,7', '13,7', '7,50', '7,50', '1,3', '1,3', '6,50', '3,4', '4,6', '6,7', '7,50', '1,3', '3,4', '4,14', '7,50', '6,7', '3,50', '1,50', '2,3', '11,13', '11,12', '12,13', '13,14', '1,50', '1,3', '3,4', '7,50', '4,50', '3,50', '1,50', '1,3', '3,50', '4,50', '3,50', '4,50', '7,50', '3,4', '4,50', '11,13', '13,50', '13,50', '7,50', '7,50', '7,50', '14,50', '14,50', '3,50', '1,5', '1,2', '4,5', '3,50', '11,50', '13,50', '3,5', '11,13', '11,13', '6,50', '3,50', '3,5', '4,14', '13,50', '14,50', '13,14', '6,50', '6,7', '3,50', '1,3', '3,50', '3,5', '5,7', '7,50', '3,50', '6,50', '3,50', '1,50', '1,6', '1,6', '6,50', '3,50', '3,6', '1,50', '1,50', '7,50', '2,3', '7,50', '6,50', '6,50', '6,7', '3,5', '3,50', '1,50', '4,50', '4,14', '11,12', '12,13', '13,14', '14,50', '7,50', '3,50', '1,50', '1,2', '1,2', '1,3', '1,3', '3,50', '3,50', '3,4', '1,3', '3,6', '3,6', '6,7', '7,50', '14,50', '7,50', '1,2', '2,3', '7,50', '7,50', '7,50', '5,50', '11,50', '1,50', '1,50', '11,50', '5B,7', '7,50', '13,50', '1,50', '3,50', '3,50', '1,3', '4,5', '6,7', '7,50', '1,2', '1,3', '7,50', '6,7', '1,50', '13,50', '7,50', '7,50', '3,4', '4,14', '13,14', '14,50', '14,50', '6,50', '3,50', '1,50', '3,50', '1,50', '3,50', '1,50', '7,50', '3,7', '1,3', '3,50', '1,50', '1,50', '4,50', '3,50', '2,3', '3,50', '4,50', '4,5', '13,50', '11,13', '11,12', '12,13', '13,14', '3,5', '3,50', '4,50', '1,50', '3,50', '1,2', '3,5', '2,3', '3,7', '1,3', '1,50', '3,50', '3,5', '4,50', '3,5', '14,50', '13,50', '7,50', '11,50', '13,50', '7,50', '11,50', '6,7', '6,7', '4,50', '3,50', '7,50', '5B,14', '1,50', '1,6', '1,6', '1,3', '1,50', '1,2', '1,3', '2,4', '2,7', '2,7', '2,4', '1,50', '1,50', '1,3', '3,50', '7,50', '3,50', '11,50', '1,50', '1,50', '1,3', '11,14', '11,14', '13,14', '6,50', '1,50', '11,50', '1,50', '1,3', '7,50', '5B,50', '3,50', '3,50', '7,50', '1,3', '3,50', '3,5', '3,4', '4,14', '4,5', '7,50', '13,14', '11,14', '3,14', '4,14', '6,7', '3,50', '1,50', '1,50', '3,50', '4,14', '11,50', '11,12', '12,14', '1,50', '3,50', '6,50', '3,50', '3,50', '2,6', '3,50', '1,50', '5,7', '1,50', '3,4', '5,5B', '11,12', '12,13', '6,50', '7,50', '7,50', '3,4', '7,50', '1,50', '5,50', '1,50', '2,3', '4,5', '5,5B', '7,50', '5,7', '1,3', '3,4', '4,14', '4,14', '1,3', '3,50', '3,50', '3,50', '3,5', '11,13', '11,12', '12,13', '13,14', '13,14', '4,50', '1,50', '2,3', '3,50', '3,50', '3,4', '11,13', '11,12', '12,13', '13,50', '1,50', '1,2', '3,50', '6,7', '7,50', '7,50', '3,4', '4,14', '4,14', '11,13', '11,12', '6,50', '7,50', '7,50', '1,50', '3,50', '1,3', '3,50', '1,50', '3,50', '3,50', '6,50', '6,50', '6,7', '1,50', '3,50', '3,50', '3,50', '3,50', '3,4', '4,5', '7,50', '3,4', '7,50', '3,7', '1,3', '1,3', '3,4', '3,4', '4,5', '5,7', '5,7', '7,50', '3,50', '1,50', '1,50', '3,7', '4,7', '11,12', '6,7', '7,50', '7,50', '11,13', '1,50', '1,50', '1,50', '1,50', '12,14', '6,7', '7,50', '1,50', '3,50', '1,50', '2,3', '1,50', '1,50', '1,3', '1,3', '3,4', '3,14', '4,14', '11,13', '4,50', '7,50', '1,50', '3,50', '14,50', '14,50', '4,5B', '13,50', '11,13', '11,12', '12,13', '12,13', '13,14', '3,50', '1,50', '3,50', '7,50', '6,7', '7,50', '7,50', '1,50', '1,3', '3,50', '11,50', '11,12', '11,13', '11,12', '1,3', '1,50', '3,50', '3,4', '6,7', '7,50', '1,2', '2,3', '3,4', '4,5', '3,5', '14,50', '11,50', '11,12', '12,13', '1,50', '13,50', '3,50', '4,50', '13,50', '11,13', '13,14', '3,5', '3,4', '4,14', '11,13', '13,50', '14,50', '1,50', '1,2', '11,50', '4,50', '3,50', '3,50', '4,50', '1,50', '6,7', '1,2', '1,2', '3,50', '3,6', '5,5B', '12,13', '11,13', '13,14', '7,50', '3,50', '3,7', '7,50', '6,7', '7,50', '5,5B', '7,50', '6,50', '4,14', '11,14', '1,50', '1,50', '1,50', '1,3', '3,50', '7,50', '7,50', '1,50', '1,3', '1,2', '5,50', '6,7', '7,50', '5,5B', '1,2', '3,4', '4,50', '4,50', '13,14', '3,50', '1,50', '7,50', '3,50', '3,5', '5,7', '6,7', '2,3', '3,50', '1,3', '3,50', '7,50', '7,50', '5,7', '7,50', '3,7', '3,5', '7,50', '14,50', '6,7', '11,12', '12,13', '13,14', '13,14', '11,50', '11,50', '11,13', '7,50', '4,14', '3,50', '3,50', '3,50', '5B,7', '1,50', '1,2', '6,50', '6,7', '7,50', '7,50', '13,50', '1,50', '7,50', '3,50', '1,2', '1,2', '3,4', '4,14', '4,14', '11,12', '12,13', '13,14', '13,14', '7,50', '14,50', '7,50', '1,3', '1,50', '13,50', '1,50', '13,50', '4,50', '5,50', '1,3', '6,7', '7,50', '3,5', '4,14', '11,14', '11,14', '5B,50', '3,50', '1,50', '2,3', '1,50', '3,5', '3,5', '4,14', '5B,50', '5B,50', '1,2', '2,3', '5,5B', '4,5', '4,50', '3,5', '1,50', '4,14', '3,4', '7,50', '6,50', '6,50', '7,50', '13,14', '7,50', '1,50', '3,50', '7,50', '1,2', '5,5B', '13,50', '3,50', '1,50', '1,50', '6,7', '7,50', '7,50', '2,50', '1,50', '3,4', '4,5', '3,50', '7,50', '1,3', '3,4', '4,14', '7,50', '5,5B', '5B,14', '11,13', '13,14', '14,50', '14,50', '4,50', '11,14', '13,14', '7,50', '1,50', '1,50', '3,50', '13,50', '11,12', '12,13', '13,50', '3,50', '5,5B', '7,50', '5B,50', '7,50', '1,2', '13,14', '13,50', '3,4', '4,14', '4,14', '6,50', '6,7', '3,50', '3,50', '1,50', '1,50', '1,50', '1,3', '3,50', '11,50', '11,13', '13,14', '6,7', '7,50', '7,50', '4,5', '6,50', '6,7', '7,50', '6,50', '7,50', '4,50', '1,50', '13,50', '3,50', '1,3', '1,3', '3,5', '13,50', '11,12', '12,13', '13,50', '13,50', '1,50', '3,50', '7,50', '3,5', '11,13', '11,12', '12,13', '1,50', '3,50', '1,3', '1,3', '3,50', '1,50', '13,50', '12,13', '1,3', '1,3', '3,4', '4,14', '11,50', '7,50', '7,50', '1,50', '3,50', '5,50', '7,50', '1,50', '3,50', '5,50', '11,50', '11,50', '13,50', '12,13', '6,7', '7,50', '13,50', '7,50', '11,50', '1,50', '1,3', '1,3', '3,4', '6,7', '1,50', '11,50', '11,13', '11,12', '12,13', '13,14', '14,50', '4,50', '4,5', '4,5', '4,50', '1,50', '1,2', '14,50', '1,50', '1,50', '3,50', '1,50', '3,50', '1,50', '1,3', '3,5', '5,5B', '5,5B', '5B,50', '5,50', '3,5', '14,50', '7,50', '7,50', '7,50', '1,50', '1,50', '1,2', '3,5', '1,3', '3,50', '1,6', '6,7', '7,50', '13,50', '11,13', '11,12', '12,13', '6,7', '7,50', '4,50', '4,5', '3,14', '4,14', '4,50', '7,50', '6,7', '1,50', '4,14', '6,7', '7,50', '4,50', '1,50', '7,50', '6,50', '6,50', '7,50', '1,3', '3,50', '1,3', '3,50', '3,6', '6,7', '6,50', '6,7', '6,7', '6,50', '5,50', '11,12', '11,12', '7,50', '14,50', '6,50', '7,50', '1,3', '1,50', '1,50', '3,5', '1,3', '3,14', '7,50', '1,2', '1,2', '2,3', '1,3', '3,5', '1,3', '14,50', '7,50', '6,7', '3,7', '1,3', '7,50', '1,50', '1,2', '3,5', '5,5B', '1,50', '3,50', '4,50', '7,50', '1,2', '2,3', '1,50', '11,50', '1,3', '11,50', '11,13', '12,13', '11,50', '1,50', '7,50', '1,50', '1,3', '1,3', '1,3', '3,50', '1,2', '1,50', '1,50', '1,3', '3,4', '4,14', '3,50', '11,13', '4,5', '4,5', '4,14', '5B,50', '1,2', '1,3', '1,50', '3,50', '1,2', '3,50', '3,50', '7,50', '1,50', '1,50', '1,3', '1,50', '3,50', '13,50', '1,3', '3,5', '11,13', '2,50', '3,50', '1,50', '3,4', '13,14', '3,50', '3,5', '1,2', '1,3', '4,50', '4,5B', '6,50', '6,50', '7,50', '1,50', '1,2', '1,3', '1,50', '3,4', '6,50', '6,50', '4,5', '4,5', '1,2', '1,2', '1,50', '1,50', '1,3', '1,3', '3,50', '7,50', '11,14', '7,50', '7,50', '13,14', '11,13', '12,13', '5B,50', '5B,50', '4,5B', '5B,7', '7,50', '1,4', '1,3', '3,4', '1,3', '11,12', '11,13', '12,50', '13,50', '12,50', '13,50', '1,50', '3,50', '1,2', '1,3', '11,50', '1,50', '3,50', '1,3', '3,50', '1,2', '1,50', '5,50', '1,50', '1,2', '1,2', '1,50', '1,3', '3,7', '3,7', '3,4', '3,5B', '14,50', '1,7', '7,50', '11,50', '1,50', '7,50', '7,50', '6,7', '7,50', '4,5', '1,50', '1,2', '1,50', '3,4', '5,5B', '1,2', '1,4', '1,4', '4,14', '14,50', '4,14', '14,7', '7,50', '7,50', '14,50', '7,50', '7,50', '1,3', '1,50', '13,50', '1,2', '13,50', '1,50', '4,50', '13,50', '1,3', '3,4', '4,14', '11,13', '3,50', '1,3', '3,50', '1,50', '11,12', '12,13', '13,14', '13,14', '5B,14', '5B,14', '5B,50', '5B,50', '6,7', '7,50', '7,50', '3,5', '11,12', '12,14', '12,13', '12,13', '12,14', '7,50', '3,5', '2,3', '3,5', '5,50', '5B,50', '7,50', '3,50', '1,2', '6,7', '7,50', '11,13', '11,50', '3,50', '3,50', '1,50', '1,50', '1,3', '1,3', '3,7', '7,50', '7,50', '6,7', '1,2', '3,4', '4,5', '5,14', '5,14', '13,14', '6,7', '1,3', '3,50', '3,4', '7,50', '14,6', '14,6', '1,3', '1,3', '3,50', '3,5', '11,13', '11,50', '11,14', '3,4', '4,14', '1,50', '1,3', '1,3', '3,5', '7,50', '7,50', '1,3', '3,5', '3,4', '4,50', '1,50', '11,12', '12,13', '13,14', '13,14', '14,50', '4,50', '14,50', '5,50', '3,5', '3,4', '1,50', '13,50', '6,7', '6,7', '7,50', '7,50', '11,50', '11,12', '4,50', '7,50', '3,50', '14,50', '11,14', '13,14', '1,14', '1,50', '5B,50', '1,2', '3,4', '4,14', '4,14', '14,50', '7,50', '7,50', '3,50', '5,50', '1,2', '7,50', '1,2', '3,4', '4,5', '11,13', '13,14', '13,14', '1,50', '11,50', '6,7', '1,50', '4,50', '7,50', '7,50', '1,50', '3,50', '1,3', '1,3', '7,50', '6,7', '3,50', '1,3', '5,50', '3,5', '3,4', '11,13', '5,7', '7,50', '7,50', '7,50', '1,50', '11,50', '1,3', '11,14', '11,13', '13,14', '14,50', '7,50', '7,50', '3,5', '11,13', '11,13', '13,14', '1,50', '3,50', '3,50', '1,50', '1,50', '6,7', '3,50', '3,4', '4,50', '13,14', '1,3', '3,50', '3,5', '7,50', '7,50', '7,50', '5B,50', '5B,50', '2,3', '3,5B', '7,50', '6,7', '7,50', '1,2', '2,50', '11,13', '11,12', '12,13', '13,14', '4,5', '3,5', '11,13', '13,14', '7,50', '7,50', '3,50', '1,50', '6,50', '6,50', '3,50', '3,4', '4,50', '3,4', '3,4', '4,5B', '5B,50', '5B,50', '3,4', '4,14', '6,7', '7,50', '11,12', '13,14', '7,50', '1,50', '3,50', '3,4', '4,50', '4,5', '7,50', '1,2', '1,2', '2,3', '1,50', '1,50', '6,50', '7,50', '1,3', '11,13', '3,50', '4,50', '11,13', '13,14', '6,50', '7,50', '5,50', '7,50', '13,50', '3,50', '1,3', '3,7', '7,50', '1,50', '1,2', '2,50', '1,50', '1,50', '3,50', '4,50', '1,50', '5,50', '7,50', '1,50', '1,3', '3,50', '11,50', '13,50', '7,50', '14,50', '4,14', '11,13', '11,12', '12,13', '13,14', '6,7', '7,50', '3,4', '4,7', '4,7', '4,14', '11,14', '11,14', '11,12', '12,13', '13,14', '6,7', '6,7', '7,50', '7,50', '1,2', '2,3', '3,7', '3,7', '4,50', '7,50', '6,7', '13,6', '3,6', '3,4', '4,5B', '13,14', '6,7', '7,50', '7,50', '1,50', '1,2', '2,3', '2,3', '2,3', '3,4', '4,5', '11,12', '11,12', '12,7', '6,7', '6,7', '7,50', '3,50', '1,3', '1,3', '3,50', '3,50', '1,50', '3,50', '3,4', '4,50', '11,12', '12,13', '13,14', '14,50', '7,50', '7,50', '1,3', '3,50', '3,50', '3,50', '3,50', '3,50', '1,2', '1,50', '3,50', '11,50', '13,50', '4,50', '7,50', '11,12', '12,13', '13,50', '7,50', '3,50', '2,3', '4,5', '1,3', '3,5', '1,3', '3,50', '7,50', '1,50', '5,50', '1,50', '3,50', '4,5', '7,50', '1,50', '1,50', '1,2', '1,2', '3,5', '6,7', '6,7', '7,50', '1,50', '1,3', '1,2', '1,3', '3,50', '7,50', '1,50', '11,50', '11,13', '7,50', '13,50', '11,50', '13,50', '13,50', '11,50', '13,14', '1,50', '1,3', '1,50', '1,50', '7,50', '7,50', '1,3', '3,50', '5,5B', '5,5B', '5,14', '13,14', '13,14', '3,5', '3,4', '1,2', '1,2', '1,2', '6,7', '7,50', '7,50', '14,50', '6,50', '7,50', '6,50', '1,50', '1,3', '3,50', '1,50', '5,50', '1,50', '3,50', '13,50', '12,13', '13,50', '6,7', '7,50', '7,50', '11,50', '7,50', '3,5', '3,4', '4,14', '1,50', '7,50', '5,5B', '5B,50', '4,5', '3,5', '4,5', '11,13', '11,13', '11,12', '13,14', '2,3']\n",
            "New labels:  [0, 1, 2, 3, 4, 5, 6, 6, 7, 8, 3, 3, 9, 10, 3, 2, 11, 3, 3, 11, 9, 12, 13, 14, 2, 3, 3, 15, 15, 0, 16, 17, 18, 4, 19, 0, 15, 15, 0, 15, 0, 15, 0, 0, 0, 0, 0, 0, 20, 15, 15, 2, 21, 0, 11, 11, 3, 0, 22, 1, 1, 2, 11, 16, 18, 23, 24, 0, 16, 16, 15, 3, 2, 19, 19, 0, 16, 8, 3, 23, 25, 9, 15, 2, 16, 0, 0, 11, 6, 15, 0, 1, 13, 26, 27, 27, 3, 7, 18, 6, 5, 15, 0, 3, 7, 0, 28, 10, 22, 11, 3, 11, 8, 12, 13, 26, 27, 24, 24, 11, 16, 16, 18, 4, 5, 28, 0, 0, 11, 3, 3, 2, 8, 12, 13, 26, 27, 27, 0, 3, 0, 15, 15, 2, 0, 11, 16, 2, 3, 28, 29, 11, 23, 0, 0, 20, 0, 2, 2, 24, 2, 24, 3, 7, 3, 3, 2, 2, 3, 2, 3, 1, 26, 25, 2, 3, 0, 0, 11, 11, 4, 5, 23, 27, 0, 2, 0, 21, 2, 0, 0, 18, 19, 20, 2, 3, 20, 15, 15, 3, 2, 23, 13, 26, 0, 4, 30, 27, 23, 15, 0, 15, 0, 5, 18, 4, 19, 23, 13, 26, 0, 3, 2, 12, 23, 9, 7, 9, 7, 12, 0, 15, 2, 3, 2, 31, 11, 32, 33, 0, 2, 2, 11, 3, 27, 24, 23, 0, 24, 0, 15, 9, 3, 3, 9, 27, 24, 3, 0, 0, 0, 34, 34, 3, 24, 23, 4, 19, 9, 12, 12, 18, 12, 13, 27, 9, 0, 18, 18, 0, 2, 11, 2, 11, 3, 18, 4, 0, 18, 16, 8, 15, 0, 2, 3, 8, 11, 4, 19, 30, 30, 13, 13, 26, 27, 4, 29, 13, 26, 27, 7, 0, 21, 2, 3, 2, 16, 11, 18, 29, 4, 1, 2, 3, 0, 0, 0, 15, 15, 33, 11, 11, 3, 29, 26, 13, 26, 23, 35, 15, 5, 11, 3, 3, 8, 5, 7, 18, 19, 13, 26, 27, 0, 2, 16, 16, 18, 4, 19, 24, 24, 10, 3, 2, 11, 0, 2, 11, 11, 7, 32, 0, 2, 11, 0, 2, 2, 3, 18, 3, 0, 18, 23, 16, 23, 20, 0, 2, 11, 3, 2, 21, 26, 27, 2, 23, 0, 11, 0, 2, 11, 0, 0, 0, 36, 0, 0, 2, 2, 3, 3, 0, 15, 17, 17, 16, 4, 5, 15, 0, 11, 3, 10, 3, 10, 2, 0, 6, 4, 5, 23, 23, 6, 18, 18, 2, 3, 18, 0, 11, 3, 0, 3, 0, 18, 5, 7, 7, 13, 26, 27, 24, 0, 0, 3, 2, 2, 21, 2, 9, 7, 9, 7, 20, 0, 0, 19, 30, 6, 3, 3, 3, 4, 19, 24, 2, 9, 3, 18, 4, 19, 12, 20, 20, 2, 11, 2, 3, 3, 12, 7, 18, 5, 29, 7, 18, 0, 15, 20, 0, 0, 26, 13, 9, 3, 9, 0, 2, 11, 2, 3, 4, 19, 24, 21, 0, 2, 18, 11, 37, 1, 6, 3, 2, 38, 11, 11, 11, 3, 6, 3, 3, 2, 2, 2, 0, 0, 0, 2, 11, 4, 7, 5, 2, 8, 4, 5, 7, 21, 0, 5, 5, 6, 6, 2, 2, 3, 2, 6, 36, 6, 36, 0, 0, 24, 0, 15, 0, 21, 0, 15, 15, 0, 13, 25, 25, 1, 3, 2, 2, 16, 16, 15, 0, 0, 2, 0, 2, 15, 0, 15, 15, 0, 29, 18, 23, 9, 9, 16, 8, 11, 0, 2, 2, 4, 32, 0, 0, 0, 0, 3, 4, 11, 11, 3, 8, 11, 3, 12, 20, 11, 19, 4, 5, 11, 38, 20, 2, 3, 4, 19, 23, 27, 15, 1, 1, 2, 9, 0, 2, 4, 13, 26, 26, 27, 27, 0, 0, 0, 36, 0, 3, 2, 15, 3, 3, 11, 3, 3, 20, 15, 20, 20, 18, 24, 0, 21, 11, 21, 7, 19, 15, 38, 15, 11, 39, 18, 4, 19, 32, 0, 11, 3, 0, 23, 13, 26, 0, 24, 0, 3, 2, 15, 20, 15, 20, 3, 1, 2, 18, 11, 17, 0, 24, 23, 4, 19, 3, 2, 2, 11, 11, 3, 7, 31, 2, 3, 2, 3, 2, 21, 18, 19, 30, 30, 23, 14, 24, 3, 2, 10, 0, 18, 3, 3, 18, 9, 3, 2, 0, 13, 25, 0, 23, 13, 14, 26, 14, 26, 2, 11, 4, 19, 0, 0, 18, 21, 27, 0, 18, 0, 0, 9, 0, 2, 0, 3, 38, 38, 15, 3, 2, 3, 2, 8, 0, 3, 2, 3, 2, 2, 2, 3, 4, 31, 23, 27, 0, 7, 30, 0, 15, 11, 12, 18, 12, 18, 11, 4, 23, 27, 7, 20, 5, 7, 15, 15, 0, 2, 3, 6, 2, 16, 0, 0, 23, 23, 18, 19, 19, 7, 2, 6, 0, 2, 16, 8, 8, 3, 6, 4, 5, 4, 23, 13, 26, 27, 9, 2, 11, 23, 25, 40, 32, 0, 9, 2, 20, 27, 15, 15, 0, 11, 11, 11, 3, 0, 5, 2, 21, 2, 16, 11, 0, 3, 0, 3, 2, 4, 19, 2, 3, 6, 5, 23, 13, 24, 2, 9, 9, 0, 0, 11, 11, 21, 23, 26, 0, 3, 2, 20, 2, 19, 27, 2, 3, 2, 3, 16, 2, 27, 23, 15, 0, 0, 20, 9, 27, 11, 9, 2, 11, 2, 11, 11, 11, 3, 3, 2, 19, 4, 7, 18, 7, 19, 0, 5, 18, 16, 16, 3, 2, 3, 2, 9, 21, 13, 26, 27, 27, 5, 0, 0, 0, 15, 0, 38, 13, 3, 3, 4, 5, 18, 4, 19, 3, 12, 7, 5, 29, 16, 5, 2, 11, 11, 11, 3, 2, 11, 0, 2, 2, 2, 11, 0, 0, 2, 4, 5, 16, 19, 2, 3, 18, 4, 41, 41, 15, 15, 0, 0, 0, 15, 11, 3, 2, 3, 19, 3, 2, 2, 5, 18, 17, 3, 16, 0, 7, 13, 26, 27, 3, 10, 3, 7, 4, 23, 26, 16, 8, 11, 2, 3, 2, 18, 2, 0, 16, 8, 11, 3, 0, 6, 15, 11, 0, 0, 15, 0, 15, 0, 2, 11, 4, 32, 2, 12, 9, 3, 2, 9, 3, 24, 0, 2, 0, 12, 3, 11, 4, 7, 19, 19, 23, 27, 15, 24, 2, 11, 11, 16, 18, 4, 19, 24, 13, 26, 27, 3, 3, 7, 15, 0, 0, 3, 2, 3, 2, 16, 2, 3, 3, 2, 3, 2, 0, 21, 2, 21, 7, 16, 3, 0, 15, 16, 23, 33, 2, 9, 23, 13, 26, 27, 2, 9, 23, 3, 3, 2, 3, 11, 16, 8, 8, 4, 7, 4, 4, 7, 3, 4, 11, 3, 2, 3, 3, 4, 19, 24, 24, 3, 2, 0, 4, 0, 0, 2, 3, 3, 2, 0, 0, 2, 11, 2, 3, 3, 2, 2, 2, 11, 15, 0, 2, 11, 18, 2, 21, 2, 4, 7, 9, 9, 2, 3, 2, 12, 3, 3, 0, 10, 10, 2, 3, 20, 15, 16, 11, 3, 3, 23, 27, 42, 3, 4, 5, 2, 11, 3, 23, 12, 2, 2, 3, 4, 19, 13, 26, 27, 0, 2, 7, 7, 18, 20, 0, 23, 3, 3, 0, 15, 20, 0, 11, 3, 3, 0, 3, 13, 26, 9, 9, 2, 2, 9, 0, 18, 4, 0, 16, 11, 11, 3, 27, 3, 5, 18, 2, 11, 10, 0, 3, 0, 18, 16, 11, 38, 15, 0, 24, 0, 0, 24, 0, 0, 0, 3, 11, 11, 0, 9, 23, 20, 15, 4, 11, 7, 26, 9, 9, 9, 3, 2, 0, 2, 11, 0, 0, 2, 11, 21, 3, 12, 23, 9, 20, 12, 24, 0, 0, 21, 15, 20, 15, 9, 3, 30, 2, 21, 13, 26, 27, 15, 0, 18, 18, 23, 0, 4, 19, 27, 27, 4, 19, 0, 16, 11, 2, 4, 31, 3, 11, 15, 0, 10, 1, 3, 3, 18, 2, 3, 9, 1, 25, 43, 13, 11, 20, 20, 0, 0, 34, 20, 0, 3, 2, 7, 11, 11, 3, 4, 19, 30, 23, 26, 13, 13, 26, 0, 3, 20, 3, 3, 2, 4, 7, 7, 13, 14, 24, 14, 24, 21, 4, 7, 16, 2, 2, 9, 9, 2, 6, 6, 0, 15, 0, 0, 2, 0, 9, 7, 3, 12, 23, 26, 27, 4, 19, 23, 27, 27, 0, 23, 2, 11, 11, 2, 18, 15, 0, 18, 18, 18, 9, 27, 11, 0, 11, 3, 13, 9, 0, 11, 21, 15, 0, 1, 11, 0, 2, 11, 4, 5, 18, 0, 3, 1, 11, 6, 11, 18, 18, 44, 15, 8, 15, 18, 13, 26, 27, 7, 4, 9, 27, 13, 27, 24, 24, 6, 0, 3, 2, 3, 2, 2, 2, 0, 18, 19, 13, 26, 9, 9, 5, 4, 19, 0, 0, 15, 0, 2, 3, 28, 0, 0, 18, 45, 24, 0, 2, 0, 3, 3, 0, 16, 11, 3, 2, 3, 8, 8, 2, 3, 2, 2, 38, 15, 38, 0, 2, 2, 3, 2, 11, 7, 2, 2, 2, 3, 0, 21, 12, 23, 26, 11, 12, 9, 7, 3, 2, 2, 2, 3, 2, 3, 11, 0, 11, 3, 0, 0, 2, 3, 11, 11, 3, 5, 0, 2, 27, 7, 20, 11, 18, 11, 11, 18, 3, 11, 0, 0, 0, 12, 2, 2, 3, 21, 2, 8, 3, 45, 3, 45, 16, 2, 3, 7, 1, 12, 23, 27, 16, 8, 8, 2, 31, 32, 32, 0, 2, 3, 24, 0, 0, 6, 0, 15, 0, 3, 2, 3, 2, 0, 2, 31, 4, 5, 26, 15, 11, 11, 18, 21, 12, 3, 11, 11, 30, 3, 12, 21, 3, 3, 3, 2, 5, 6, 5, 4, 19, 30, 13, 26, 27, 27, 18, 4, 0, 18, 3, 3, 3, 11, 11, 16, 11, 7, 20, 0, 20, 0, 15, 3, 21, 3, 21, 2, 3, 15, 0, 2, 12, 13, 26, 27, 27, 39, 21, 21, 7, 2, 0, 21, 16, 5, 23, 13, 26, 9, 4, 19, 19, 24, 24, 2, 2, 11, 3, 10, 0, 0, 11, 4, 28, 28, 0, 0, 38, 35, 10, 33, 0, 0, 11, 11, 20, 4, 41, 15, 0, 11, 4, 19, 0, 15, 3, 2, 8, 23, 13, 26, 27, 2, 11, 4, 0, 7, 3, 2, 11, 3, 7, 3, 7, 0, 4, 7, 23, 9, 9, 0, 0, 0, 24, 24, 3, 39, 16, 5, 3, 12, 9, 18, 23, 23, 20, 3, 18, 19, 9, 24, 27, 20, 15, 3, 11, 3, 18, 28, 0, 3, 20, 3, 2, 46, 46, 20, 3, 38, 2, 2, 0, 8, 0, 20, 20, 15, 18, 3, 2, 7, 19, 13, 26, 27, 24, 0, 3, 2, 16, 16, 11, 11, 3, 3, 4, 11, 38, 38, 15, 0, 24, 0, 16, 8, 0, 0, 0, 21, 12, 2, 2, 12, 36, 0, 9, 2, 3, 3, 11, 5, 15, 0, 16, 11, 0, 15, 2, 9, 0, 0, 4, 19, 27, 24, 24, 20, 3, 2, 3, 2, 3, 2, 0, 10, 11, 3, 2, 2, 7, 3, 8, 3, 7, 5, 9, 23, 13, 26, 27, 18, 3, 7, 2, 3, 16, 18, 8, 10, 11, 2, 3, 18, 7, 18, 24, 9, 0, 12, 9, 0, 12, 15, 15, 7, 3, 0, 47, 2, 46, 46, 11, 2, 16, 11, 48, 49, 49, 48, 2, 2, 11, 3, 0, 3, 12, 2, 2, 11, 30, 30, 27, 20, 2, 12, 2, 11, 0, 1, 3, 3, 0, 11, 3, 18, 4, 19, 5, 0, 27, 30, 45, 19, 15, 3, 2, 2, 3, 19, 12, 13, 14, 2, 3, 20, 3, 3, 50, 3, 2, 28, 2, 4, 6, 13, 26, 20, 0, 0, 4, 0, 2, 21, 2, 8, 5, 6, 0, 28, 11, 4, 19, 19, 11, 3, 3, 3, 18, 23, 13, 26, 27, 27, 7, 2, 8, 3, 3, 4, 23, 13, 26, 9, 2, 16, 3, 15, 0, 0, 4, 19, 19, 23, 13, 20, 0, 0, 2, 3, 11, 3, 2, 3, 3, 20, 20, 15, 2, 3, 3, 3, 3, 4, 5, 0, 4, 0, 10, 11, 11, 4, 4, 5, 28, 28, 0, 3, 2, 2, 10, 32, 13, 15, 0, 0, 23, 2, 2, 2, 2, 14, 15, 0, 2, 3, 2, 8, 2, 2, 11, 11, 4, 45, 19, 23, 7, 0, 2, 3, 24, 24, 29, 9, 23, 13, 26, 26, 27, 3, 2, 3, 0, 15, 0, 0, 2, 11, 3, 12, 13, 23, 13, 11, 2, 3, 4, 15, 0, 16, 8, 4, 5, 18, 24, 12, 13, 26, 2, 9, 3, 7, 9, 23, 27, 18, 4, 19, 23, 9, 24, 2, 16, 12, 7, 3, 3, 7, 2, 15, 16, 16, 3, 38, 6, 26, 23, 27, 0, 3, 10, 0, 15, 0, 6, 0, 20, 19, 30, 2, 2, 2, 11, 3, 0, 0, 2, 11, 16, 21, 15, 0, 6, 16, 4, 7, 7, 27, 3, 2, 0, 3, 18, 28, 15, 8, 3, 11, 3, 0, 0, 28, 0, 10, 18, 0, 24, 15, 13, 26, 27, 27, 12, 12, 23, 0, 19, 3, 3, 3, 36, 2, 16, 20, 15, 0, 0, 9, 2, 0, 3, 16, 16, 4, 19, 19, 13, 26, 27, 27, 0, 24, 0, 11, 2, 9, 2, 9, 7, 21, 11, 15, 0, 18, 19, 30, 30, 1, 3, 2, 8, 2, 18, 18, 19, 1, 1, 16, 8, 6, 5, 7, 18, 2, 19, 4, 0, 20, 20, 0, 27, 0, 2, 3, 0, 16, 6, 9, 3, 2, 2, 15, 0, 0, 17, 2, 4, 5, 3, 0, 11, 4, 19, 0, 6, 47, 23, 27, 24, 24, 7, 30, 27, 0, 2, 2, 3, 9, 13, 26, 9, 3, 6, 0, 1, 0, 16, 27, 9, 4, 19, 19, 20, 15, 3, 3, 2, 2, 2, 11, 3, 12, 23, 27, 15, 0, 0, 5, 20, 15, 0, 20, 0, 7, 2, 9, 3, 11, 11, 18, 9, 13, 26, 9, 9, 2, 3, 0, 18, 23, 13, 26, 2, 3, 11, 11, 3, 2, 9, 26, 11, 11, 4, 19, 12, 0, 0, 2, 3, 21, 0, 2, 3, 21, 12, 12, 9, 26, 15, 0, 9, 0, 12, 2, 11, 11, 4, 15, 2, 12, 23, 13, 26, 27, 24, 7, 5, 5, 7, 2, 16, 24, 2, 2, 3, 2, 3, 2, 11, 18, 6, 6, 1, 21, 18, 24, 0, 0, 0, 2, 2, 16, 18, 11, 3, 46, 15, 0, 9, 23, 13, 26, 15, 0, 7, 5, 45, 19, 7, 0, 15, 2, 19, 15, 0, 7, 2, 0, 20, 20, 0, 11, 3, 11, 3, 38, 15, 20, 15, 15, 20, 21, 13, 13, 0, 24, 20, 0, 11, 2, 2, 18, 11, 45, 0, 16, 16, 8, 11, 18, 11, 24, 0, 15, 10, 11, 0, 2, 16, 18, 6, 2, 3, 7, 0, 16, 8, 2, 12, 11, 12, 23, 26, 12, 2, 0, 2, 11, 11, 11, 3, 16, 2, 2, 11, 4, 19, 3, 23, 5, 5, 19, 1, 16, 11, 2, 3, 16, 3, 3, 0, 2, 2, 11, 2, 3, 9, 11, 18, 23, 17, 3, 2, 4, 27, 3, 18, 16, 11, 7, 29, 20, 20, 0, 2, 16, 11, 2, 4, 20, 20, 5, 5, 16, 16, 2, 2, 11, 11, 3, 0, 30, 0, 0, 27, 23, 26, 1, 1, 29, 36, 0, 31, 11, 4, 11, 13, 23, 25, 9, 25, 9, 2, 3, 16, 11, 12, 2, 3, 11, 3, 16, 2, 21, 2, 16, 16, 2, 11, 10, 10, 4, 37, 24, 22, 0, 12, 2, 0, 0, 15, 0, 5, 2, 16, 2, 4, 6, 16, 31, 31, 19, 24, 19, 42, 0, 0, 24, 0, 0, 11, 2, 9, 16, 9, 2, 7, 9, 11, 4, 19, 23, 3, 11, 3, 2, 13, 26, 27, 27, 47, 47, 1, 1, 15, 0, 0, 18, 13, 14, 26, 26, 14, 0, 18, 8, 18, 21, 1, 0, 3, 16, 15, 0, 23, 12, 3, 3, 2, 2, 11, 11, 10, 0, 0, 15, 16, 4, 5, 51, 51, 27, 15, 11, 3, 4, 0, 34, 34, 11, 11, 3, 18, 23, 12, 30, 4, 19, 2, 11, 11, 18, 0, 0, 11, 18, 4, 7, 2, 13, 26, 27, 27, 24, 7, 24, 21, 18, 4, 2, 9, 15, 15, 0, 0, 12, 13, 7, 0, 3, 24, 30, 27, 52, 2, 1, 16, 4, 19, 19, 24, 0, 0, 3, 21, 16, 0, 16, 4, 5, 23, 27, 27, 2, 12, 15, 2, 7, 0, 0, 2, 3, 11, 11, 0, 15, 3, 11, 21, 18, 4, 23, 28, 0, 0, 0, 2, 12, 11, 30, 23, 27, 24, 0, 0, 18, 23, 23, 27, 2, 3, 3, 2, 2, 15, 3, 4, 7, 27, 11, 3, 18, 0, 0, 0, 1, 1, 8, 37, 0, 15, 0, 16, 17, 23, 13, 26, 27, 5, 18, 23, 27, 0, 0, 3, 2, 20, 20, 3, 4, 7, 4, 4, 29, 1, 1, 4, 19, 15, 0, 13, 27, 0, 2, 3, 4, 7, 5, 0, 16, 16, 8, 2, 2, 20, 0, 11, 23, 3, 7, 23, 27, 20, 0, 21, 0, 9, 3, 11, 10, 0, 2, 16, 17, 2, 2, 3, 7, 2, 21, 0, 2, 11, 3, 12, 9, 0, 24, 19, 23, 13, 26, 27, 15, 0, 4, 32, 32, 19, 30, 30, 13, 26, 27, 15, 15, 0, 0, 16, 8, 10, 10, 7, 0, 15, 35, 38, 4, 29, 27, 15, 0, 0, 2, 16, 8, 8, 8, 4, 5, 13, 13, 40, 15, 15, 0, 3, 11, 11, 3, 3, 2, 3, 4, 7, 13, 26, 27, 24, 0, 0, 11, 3, 3, 3, 3, 3, 16, 2, 3, 12, 9, 7, 0, 13, 26, 9, 0, 3, 8, 5, 11, 18, 11, 3, 0, 2, 21, 2, 3, 5, 0, 2, 2, 16, 16, 18, 15, 15, 0, 2, 11, 16, 11, 3, 0, 2, 12, 23, 0, 9, 12, 9, 9, 12, 27, 2, 11, 2, 2, 0, 0, 11, 3, 6, 6, 51, 27, 27, 18, 4, 16, 16, 16, 15, 0, 0, 24, 20, 0, 20, 2, 11, 3, 2, 21, 2, 3, 9, 26, 9, 15, 0, 0, 12, 0, 18, 4, 19, 2, 0, 6, 1, 5, 18, 5, 23, 23, 13, 27, 8]\n"
          ],
          "name": "stdout"
        }
      ]
    },
    {
      "cell_type": "code",
      "metadata": {
        "id": "ukooT2GLWVDu",
        "colab_type": "code",
        "colab": {}
      },
      "source": [
        "# Use train_test_split to split our data into train and validation sets for training\n",
        "\n",
        "train_inputs, validation_inputs, train_labels, validation_labels = train_test_split(input_ids, labels, \n",
        "                                                            random_state=2018, test_size=0.1)\n",
        "train_masks, validation_masks, _, _ = train_test_split(attention_masks, input_ids,\n",
        "                                             random_state=2018, test_size=0.1)"
      ],
      "execution_count": 44,
      "outputs": []
    },
    {
      "cell_type": "code",
      "metadata": {
        "id": "8yYmGATtWWpc",
        "colab_type": "code",
        "colab": {}
      },
      "source": [
        "# Convert all of our data into torch tensors, the required datatype for our model\n",
        "\n",
        "train_inputs = torch.tensor(train_inputs)\n",
        "validation_inputs = torch.tensor(validation_inputs)\n",
        "train_labels = torch.tensor(train_labels)\n",
        "validation_labels = torch.tensor(validation_labels)\n",
        "train_masks = torch.tensor(train_masks)\n",
        "validation_masks = torch.tensor(validation_masks)"
      ],
      "execution_count": 45,
      "outputs": []
    },
    {
      "cell_type": "code",
      "metadata": {
        "id": "zS7ZO78cWYfO",
        "colab_type": "code",
        "colab": {}
      },
      "source": [
        "# Create an iterator of our data with torch DataLoader. This helps save on memory during training because, unlike a for loop, \n",
        "# with an iterator the entire dataset does not need to be loaded into memory\n",
        "\n",
        "train_data = TensorDataset(train_inputs, train_masks, train_labels)\n",
        "train_sampler = RandomSampler(train_data)\n",
        "train_dataloader = DataLoader(train_data, sampler=train_sampler, batch_size=BATCH_SIZE)\n",
        "\n",
        "validation_data = TensorDataset(validation_inputs, validation_masks, validation_labels)\n",
        "validation_sampler = SequentialSampler(validation_data)\n",
        "validation_dataloader = DataLoader(validation_data, sampler=validation_sampler, batch_size=BATCH_SIZE)"
      ],
      "execution_count": 46,
      "outputs": []
    },
    {
      "cell_type": "code",
      "metadata": {
        "id": "djyfxGW2Wb96",
        "colab_type": "code",
        "colab": {
          "base_uri": "https://localhost:8080/",
          "height": 1000
        },
        "outputId": "53087c70-1f44-4db9-98c7-88b0ceeb6e09"
      },
      "source": [
        "# This is where the fine-tuning comes in. We must train the model for our specific task.\n",
        "\n",
        "# We will first modify pre-trained BERT for our specific task, then continue training on our data until the entire model\n",
        "#   is well-suited for our task.\n",
        "\n",
        "model = BertForSequenceClassification.from_pretrained(\"bert-base-uncased\", num_labels=len(labels))\n",
        "model.cuda()"
      ],
      "execution_count": 47,
      "outputs": [
        {
          "output_type": "execute_result",
          "data": {
            "text/plain": [
              "BertForSequenceClassification(\n",
              "  (bert): BertModel(\n",
              "    (embeddings): BertEmbeddings(\n",
              "      (word_embeddings): Embedding(30522, 768, padding_idx=0)\n",
              "      (position_embeddings): Embedding(512, 768)\n",
              "      (token_type_embeddings): Embedding(2, 768)\n",
              "      (LayerNorm): BertLayerNorm()\n",
              "      (dropout): Dropout(p=0.1, inplace=False)\n",
              "    )\n",
              "    (encoder): BertEncoder(\n",
              "      (layer): ModuleList(\n",
              "        (0): BertLayer(\n",
              "          (attention): BertAttention(\n",
              "            (self): BertSelfAttention(\n",
              "              (query): Linear(in_features=768, out_features=768, bias=True)\n",
              "              (key): Linear(in_features=768, out_features=768, bias=True)\n",
              "              (value): Linear(in_features=768, out_features=768, bias=True)\n",
              "              (dropout): Dropout(p=0.1, inplace=False)\n",
              "            )\n",
              "            (output): BertSelfOutput(\n",
              "              (dense): Linear(in_features=768, out_features=768, bias=True)\n",
              "              (LayerNorm): BertLayerNorm()\n",
              "              (dropout): Dropout(p=0.1, inplace=False)\n",
              "            )\n",
              "          )\n",
              "          (intermediate): BertIntermediate(\n",
              "            (dense): Linear(in_features=768, out_features=3072, bias=True)\n",
              "          )\n",
              "          (output): BertOutput(\n",
              "            (dense): Linear(in_features=3072, out_features=768, bias=True)\n",
              "            (LayerNorm): BertLayerNorm()\n",
              "            (dropout): Dropout(p=0.1, inplace=False)\n",
              "          )\n",
              "        )\n",
              "        (1): BertLayer(\n",
              "          (attention): BertAttention(\n",
              "            (self): BertSelfAttention(\n",
              "              (query): Linear(in_features=768, out_features=768, bias=True)\n",
              "              (key): Linear(in_features=768, out_features=768, bias=True)\n",
              "              (value): Linear(in_features=768, out_features=768, bias=True)\n",
              "              (dropout): Dropout(p=0.1, inplace=False)\n",
              "            )\n",
              "            (output): BertSelfOutput(\n",
              "              (dense): Linear(in_features=768, out_features=768, bias=True)\n",
              "              (LayerNorm): BertLayerNorm()\n",
              "              (dropout): Dropout(p=0.1, inplace=False)\n",
              "            )\n",
              "          )\n",
              "          (intermediate): BertIntermediate(\n",
              "            (dense): Linear(in_features=768, out_features=3072, bias=True)\n",
              "          )\n",
              "          (output): BertOutput(\n",
              "            (dense): Linear(in_features=3072, out_features=768, bias=True)\n",
              "            (LayerNorm): BertLayerNorm()\n",
              "            (dropout): Dropout(p=0.1, inplace=False)\n",
              "          )\n",
              "        )\n",
              "        (2): BertLayer(\n",
              "          (attention): BertAttention(\n",
              "            (self): BertSelfAttention(\n",
              "              (query): Linear(in_features=768, out_features=768, bias=True)\n",
              "              (key): Linear(in_features=768, out_features=768, bias=True)\n",
              "              (value): Linear(in_features=768, out_features=768, bias=True)\n",
              "              (dropout): Dropout(p=0.1, inplace=False)\n",
              "            )\n",
              "            (output): BertSelfOutput(\n",
              "              (dense): Linear(in_features=768, out_features=768, bias=True)\n",
              "              (LayerNorm): BertLayerNorm()\n",
              "              (dropout): Dropout(p=0.1, inplace=False)\n",
              "            )\n",
              "          )\n",
              "          (intermediate): BertIntermediate(\n",
              "            (dense): Linear(in_features=768, out_features=3072, bias=True)\n",
              "          )\n",
              "          (output): BertOutput(\n",
              "            (dense): Linear(in_features=3072, out_features=768, bias=True)\n",
              "            (LayerNorm): BertLayerNorm()\n",
              "            (dropout): Dropout(p=0.1, inplace=False)\n",
              "          )\n",
              "        )\n",
              "        (3): BertLayer(\n",
              "          (attention): BertAttention(\n",
              "            (self): BertSelfAttention(\n",
              "              (query): Linear(in_features=768, out_features=768, bias=True)\n",
              "              (key): Linear(in_features=768, out_features=768, bias=True)\n",
              "              (value): Linear(in_features=768, out_features=768, bias=True)\n",
              "              (dropout): Dropout(p=0.1, inplace=False)\n",
              "            )\n",
              "            (output): BertSelfOutput(\n",
              "              (dense): Linear(in_features=768, out_features=768, bias=True)\n",
              "              (LayerNorm): BertLayerNorm()\n",
              "              (dropout): Dropout(p=0.1, inplace=False)\n",
              "            )\n",
              "          )\n",
              "          (intermediate): BertIntermediate(\n",
              "            (dense): Linear(in_features=768, out_features=3072, bias=True)\n",
              "          )\n",
              "          (output): BertOutput(\n",
              "            (dense): Linear(in_features=3072, out_features=768, bias=True)\n",
              "            (LayerNorm): BertLayerNorm()\n",
              "            (dropout): Dropout(p=0.1, inplace=False)\n",
              "          )\n",
              "        )\n",
              "        (4): BertLayer(\n",
              "          (attention): BertAttention(\n",
              "            (self): BertSelfAttention(\n",
              "              (query): Linear(in_features=768, out_features=768, bias=True)\n",
              "              (key): Linear(in_features=768, out_features=768, bias=True)\n",
              "              (value): Linear(in_features=768, out_features=768, bias=True)\n",
              "              (dropout): Dropout(p=0.1, inplace=False)\n",
              "            )\n",
              "            (output): BertSelfOutput(\n",
              "              (dense): Linear(in_features=768, out_features=768, bias=True)\n",
              "              (LayerNorm): BertLayerNorm()\n",
              "              (dropout): Dropout(p=0.1, inplace=False)\n",
              "            )\n",
              "          )\n",
              "          (intermediate): BertIntermediate(\n",
              "            (dense): Linear(in_features=768, out_features=3072, bias=True)\n",
              "          )\n",
              "          (output): BertOutput(\n",
              "            (dense): Linear(in_features=3072, out_features=768, bias=True)\n",
              "            (LayerNorm): BertLayerNorm()\n",
              "            (dropout): Dropout(p=0.1, inplace=False)\n",
              "          )\n",
              "        )\n",
              "        (5): BertLayer(\n",
              "          (attention): BertAttention(\n",
              "            (self): BertSelfAttention(\n",
              "              (query): Linear(in_features=768, out_features=768, bias=True)\n",
              "              (key): Linear(in_features=768, out_features=768, bias=True)\n",
              "              (value): Linear(in_features=768, out_features=768, bias=True)\n",
              "              (dropout): Dropout(p=0.1, inplace=False)\n",
              "            )\n",
              "            (output): BertSelfOutput(\n",
              "              (dense): Linear(in_features=768, out_features=768, bias=True)\n",
              "              (LayerNorm): BertLayerNorm()\n",
              "              (dropout): Dropout(p=0.1, inplace=False)\n",
              "            )\n",
              "          )\n",
              "          (intermediate): BertIntermediate(\n",
              "            (dense): Linear(in_features=768, out_features=3072, bias=True)\n",
              "          )\n",
              "          (output): BertOutput(\n",
              "            (dense): Linear(in_features=3072, out_features=768, bias=True)\n",
              "            (LayerNorm): BertLayerNorm()\n",
              "            (dropout): Dropout(p=0.1, inplace=False)\n",
              "          )\n",
              "        )\n",
              "        (6): BertLayer(\n",
              "          (attention): BertAttention(\n",
              "            (self): BertSelfAttention(\n",
              "              (query): Linear(in_features=768, out_features=768, bias=True)\n",
              "              (key): Linear(in_features=768, out_features=768, bias=True)\n",
              "              (value): Linear(in_features=768, out_features=768, bias=True)\n",
              "              (dropout): Dropout(p=0.1, inplace=False)\n",
              "            )\n",
              "            (output): BertSelfOutput(\n",
              "              (dense): Linear(in_features=768, out_features=768, bias=True)\n",
              "              (LayerNorm): BertLayerNorm()\n",
              "              (dropout): Dropout(p=0.1, inplace=False)\n",
              "            )\n",
              "          )\n",
              "          (intermediate): BertIntermediate(\n",
              "            (dense): Linear(in_features=768, out_features=3072, bias=True)\n",
              "          )\n",
              "          (output): BertOutput(\n",
              "            (dense): Linear(in_features=3072, out_features=768, bias=True)\n",
              "            (LayerNorm): BertLayerNorm()\n",
              "            (dropout): Dropout(p=0.1, inplace=False)\n",
              "          )\n",
              "        )\n",
              "        (7): BertLayer(\n",
              "          (attention): BertAttention(\n",
              "            (self): BertSelfAttention(\n",
              "              (query): Linear(in_features=768, out_features=768, bias=True)\n",
              "              (key): Linear(in_features=768, out_features=768, bias=True)\n",
              "              (value): Linear(in_features=768, out_features=768, bias=True)\n",
              "              (dropout): Dropout(p=0.1, inplace=False)\n",
              "            )\n",
              "            (output): BertSelfOutput(\n",
              "              (dense): Linear(in_features=768, out_features=768, bias=True)\n",
              "              (LayerNorm): BertLayerNorm()\n",
              "              (dropout): Dropout(p=0.1, inplace=False)\n",
              "            )\n",
              "          )\n",
              "          (intermediate): BertIntermediate(\n",
              "            (dense): Linear(in_features=768, out_features=3072, bias=True)\n",
              "          )\n",
              "          (output): BertOutput(\n",
              "            (dense): Linear(in_features=3072, out_features=768, bias=True)\n",
              "            (LayerNorm): BertLayerNorm()\n",
              "            (dropout): Dropout(p=0.1, inplace=False)\n",
              "          )\n",
              "        )\n",
              "        (8): BertLayer(\n",
              "          (attention): BertAttention(\n",
              "            (self): BertSelfAttention(\n",
              "              (query): Linear(in_features=768, out_features=768, bias=True)\n",
              "              (key): Linear(in_features=768, out_features=768, bias=True)\n",
              "              (value): Linear(in_features=768, out_features=768, bias=True)\n",
              "              (dropout): Dropout(p=0.1, inplace=False)\n",
              "            )\n",
              "            (output): BertSelfOutput(\n",
              "              (dense): Linear(in_features=768, out_features=768, bias=True)\n",
              "              (LayerNorm): BertLayerNorm()\n",
              "              (dropout): Dropout(p=0.1, inplace=False)\n",
              "            )\n",
              "          )\n",
              "          (intermediate): BertIntermediate(\n",
              "            (dense): Linear(in_features=768, out_features=3072, bias=True)\n",
              "          )\n",
              "          (output): BertOutput(\n",
              "            (dense): Linear(in_features=3072, out_features=768, bias=True)\n",
              "            (LayerNorm): BertLayerNorm()\n",
              "            (dropout): Dropout(p=0.1, inplace=False)\n",
              "          )\n",
              "        )\n",
              "        (9): BertLayer(\n",
              "          (attention): BertAttention(\n",
              "            (self): BertSelfAttention(\n",
              "              (query): Linear(in_features=768, out_features=768, bias=True)\n",
              "              (key): Linear(in_features=768, out_features=768, bias=True)\n",
              "              (value): Linear(in_features=768, out_features=768, bias=True)\n",
              "              (dropout): Dropout(p=0.1, inplace=False)\n",
              "            )\n",
              "            (output): BertSelfOutput(\n",
              "              (dense): Linear(in_features=768, out_features=768, bias=True)\n",
              "              (LayerNorm): BertLayerNorm()\n",
              "              (dropout): Dropout(p=0.1, inplace=False)\n",
              "            )\n",
              "          )\n",
              "          (intermediate): BertIntermediate(\n",
              "            (dense): Linear(in_features=768, out_features=3072, bias=True)\n",
              "          )\n",
              "          (output): BertOutput(\n",
              "            (dense): Linear(in_features=3072, out_features=768, bias=True)\n",
              "            (LayerNorm): BertLayerNorm()\n",
              "            (dropout): Dropout(p=0.1, inplace=False)\n",
              "          )\n",
              "        )\n",
              "        (10): BertLayer(\n",
              "          (attention): BertAttention(\n",
              "            (self): BertSelfAttention(\n",
              "              (query): Linear(in_features=768, out_features=768, bias=True)\n",
              "              (key): Linear(in_features=768, out_features=768, bias=True)\n",
              "              (value): Linear(in_features=768, out_features=768, bias=True)\n",
              "              (dropout): Dropout(p=0.1, inplace=False)\n",
              "            )\n",
              "            (output): BertSelfOutput(\n",
              "              (dense): Linear(in_features=768, out_features=768, bias=True)\n",
              "              (LayerNorm): BertLayerNorm()\n",
              "              (dropout): Dropout(p=0.1, inplace=False)\n",
              "            )\n",
              "          )\n",
              "          (intermediate): BertIntermediate(\n",
              "            (dense): Linear(in_features=768, out_features=3072, bias=True)\n",
              "          )\n",
              "          (output): BertOutput(\n",
              "            (dense): Linear(in_features=3072, out_features=768, bias=True)\n",
              "            (LayerNorm): BertLayerNorm()\n",
              "            (dropout): Dropout(p=0.1, inplace=False)\n",
              "          )\n",
              "        )\n",
              "        (11): BertLayer(\n",
              "          (attention): BertAttention(\n",
              "            (self): BertSelfAttention(\n",
              "              (query): Linear(in_features=768, out_features=768, bias=True)\n",
              "              (key): Linear(in_features=768, out_features=768, bias=True)\n",
              "              (value): Linear(in_features=768, out_features=768, bias=True)\n",
              "              (dropout): Dropout(p=0.1, inplace=False)\n",
              "            )\n",
              "            (output): BertSelfOutput(\n",
              "              (dense): Linear(in_features=768, out_features=768, bias=True)\n",
              "              (LayerNorm): BertLayerNorm()\n",
              "              (dropout): Dropout(p=0.1, inplace=False)\n",
              "            )\n",
              "          )\n",
              "          (intermediate): BertIntermediate(\n",
              "            (dense): Linear(in_features=768, out_features=3072, bias=True)\n",
              "          )\n",
              "          (output): BertOutput(\n",
              "            (dense): Linear(in_features=3072, out_features=768, bias=True)\n",
              "            (LayerNorm): BertLayerNorm()\n",
              "            (dropout): Dropout(p=0.1, inplace=False)\n",
              "          )\n",
              "        )\n",
              "      )\n",
              "    )\n",
              "    (pooler): BertPooler(\n",
              "      (dense): Linear(in_features=768, out_features=768, bias=True)\n",
              "      (activation): Tanh()\n",
              "    )\n",
              "  )\n",
              "  (dropout): Dropout(p=0.1, inplace=False)\n",
              "  (classifier): Linear(in_features=768, out_features=3100, bias=True)\n",
              ")"
            ]
          },
          "metadata": {
            "tags": []
          },
          "execution_count": 47
        }
      ]
    },
    {
      "cell_type": "code",
      "metadata": {
        "id": "HPtYqoRsWjnT",
        "colab_type": "code",
        "colab": {}
      },
      "source": [
        "'''\n",
        "Now that we have our model loaded we need to grab the training hyperparameters from within the stored model.\n",
        "\n",
        "For the purposes of fine-tuning, the authors recommend the following hyperparameter ranges:\n",
        "\n",
        "Batch size: 16, 32\n",
        "Learning rate (Adam): 5e-5, 3e-5, 2e-5\n",
        "Number of epochs: 2, 3, 4\n",
        "'''\n",
        "\n",
        "param_optimizer = list(model.named_parameters())\n",
        "no_decay = ['bias', 'gamma', 'beta']\n",
        "optimizer_grouped_parameters = [\n",
        "    {'params': [p for n, p in param_optimizer if not any(nd in n for nd in no_decay)],\n",
        "     'weight_decay_rate': 0.01},\n",
        "    {'params': [p for n, p in param_optimizer if any(nd in n for nd in no_decay)],\n",
        "     'weight_decay_rate': 0.0}\n",
        "]"
      ],
      "execution_count": 48,
      "outputs": []
    },
    {
      "cell_type": "code",
      "metadata": {
        "id": "6wRLpwmyWnFZ",
        "colab_type": "code",
        "colab": {
          "base_uri": "https://localhost:8080/",
          "height": 34
        },
        "outputId": "5adbd6bf-97b8-4a71-cf47-7004372cc3ab"
      },
      "source": [
        "optimizer = BertAdam(optimizer_grouped_parameters,\n",
        "                     lr=LEARNING_RATE,\n",
        "                     warmup=WARMUP)"
      ],
      "execution_count": 49,
      "outputs": [
        {
          "output_type": "stream",
          "text": [
            "t_total value of -1 results in schedule not being applied\n"
          ],
          "name": "stderr"
        }
      ]
    },
    {
      "cell_type": "code",
      "metadata": {
        "id": "uMEbb1g5Wrsd",
        "colab_type": "code",
        "colab": {
          "base_uri": "https://localhost:8080/",
          "height": 170
        },
        "outputId": "5d123057-520c-4643-b911-e9d47c4b2874"
      },
      "source": [
        "t = [] \n",
        "\n",
        "# Store our loss and accuracy for plotting\n",
        "train_loss_set = []\n",
        "\n",
        "# trange is a tqdm wrapper around the normal python range\n",
        "for _ in trange(EPOCHS, desc=\"Epoch\"):\n",
        "  \n",
        "  # Training\n",
        "  \n",
        "  # Set our model to training mode (as opposed to evaluation mode)\n",
        "  model.train()\n",
        "  \n",
        "  # Tracking variables\n",
        "  tr_loss = 0\n",
        "  nb_tr_examples, nb_tr_steps = 0, 0\n",
        "  \n",
        "  # Train the data for one epoch\n",
        "  for step, batch in enumerate(train_dataloader):\n",
        "    # Add batch to GPU\n",
        "    batch = tuple(t.to(device) for t in batch)\n",
        "    # Unpack the inputs from our dataloader\n",
        "    b_input_ids, b_input_mask, b_labels = batch\n",
        "    # Clear out the gradients (by default they accumulate)\n",
        "    optimizer.zero_grad()\n",
        "    # Forward pass\n",
        "    loss = model(b_input_ids, token_type_ids=None, attention_mask=b_input_mask, labels=b_labels)\n",
        "    train_loss_set.append(loss.item())    \n",
        "    # Backward pass\n",
        "    loss.backward()\n",
        "    # Update parameters and take a step using the computed gradient\n",
        "    optimizer.step()\n",
        "    \n",
        "    # Update tracking variables\n",
        "    tr_loss += loss.item()\n",
        "    nb_tr_examples += b_input_ids.size(0)\n",
        "    nb_tr_steps += 1\n",
        "\n",
        "  print(\"Train loss: {}\".format(tr_loss/nb_tr_steps))\n",
        "    \n",
        "    \n",
        "  # Validation\n",
        "\n",
        "  # Put model in evaluation mode to evaluate loss on the validation set\n",
        "  model.eval()\n",
        "\n",
        "  # Tracking variables \n",
        "  eval_loss, eval_accuracy = 0, 0\n",
        "  nb_eval_steps, nb_eval_examples = 0, 0\n",
        "\n",
        "  # Evaluate data for one epoch\n",
        "  for batch in validation_dataloader:\n",
        "    # Add batch to GPU\n",
        "    batch = tuple(t.to(device) for t in batch)\n",
        "    # Unpack the inputs from our dataloader\n",
        "    b_input_ids, b_input_mask, b_labels = batch\n",
        "    # Telling the model not to compute or store gradients, saving memory and speeding up validation\n",
        "    with torch.no_grad():\n",
        "      # Forward pass, calculate logit predictions\n",
        "      logits = model(b_input_ids, token_type_ids=None, attention_mask=b_input_mask)\n",
        "    \n",
        "    # Move logits and labels to CPU\n",
        "    logits = logits.detach().cpu().numpy()\n",
        "    label_ids = b_labels.to('cpu').numpy()\n",
        "\n",
        "    tmp_eval_accuracy = flat_accuracy(logits, label_ids)\n",
        "    \n",
        "    eval_accuracy += tmp_eval_accuracy\n",
        "    nb_eval_steps += 1\n",
        "\n",
        "  print(\"Validation Accuracy: {}\".format(eval_accuracy/nb_eval_steps))"
      ],
      "execution_count": 50,
      "outputs": [
        {
          "output_type": "stream",
          "text": [
            "\rEpoch:   0%|          | 0/4 [00:00<?, ?it/s]"
          ],
          "name": "stderr"
        },
        {
          "output_type": "stream",
          "text": [
            "Train loss: 3.9290196624669163\n"
          ],
          "name": "stdout"
        },
        {
          "output_type": "stream",
          "text": [
            "\rEpoch:  25%|██▌       | 1/4 [00:28<01:26, 28.83s/it]"
          ],
          "name": "stderr"
        },
        {
          "output_type": "stream",
          "text": [
            "Validation Accuracy: 0.4625\n",
            "Train loss: 1.8904100344939665\n"
          ],
          "name": "stdout"
        },
        {
          "output_type": "stream",
          "text": [
            "\rEpoch:  50%|█████     | 2/4 [00:57<00:57, 28.82s/it]"
          ],
          "name": "stderr"
        },
        {
          "output_type": "stream",
          "text": [
            "Validation Accuracy: 0.5275568181818182\n",
            "Train loss: 1.4828593216159127\n"
          ],
          "name": "stdout"
        },
        {
          "output_type": "stream",
          "text": [
            "\rEpoch:  75%|███████▌  | 3/4 [01:26<00:28, 28.81s/it]"
          ],
          "name": "stderr"
        },
        {
          "output_type": "stream",
          "text": [
            "Validation Accuracy: 0.5588068181818182\n",
            "Train loss: 1.265827672725374\n"
          ],
          "name": "stdout"
        },
        {
          "output_type": "stream",
          "text": [
            "Epoch: 100%|██████████| 4/4 [01:55<00:00, 28.79s/it]"
          ],
          "name": "stderr"
        },
        {
          "output_type": "stream",
          "text": [
            "Validation Accuracy: 0.5758522727272728\n"
          ],
          "name": "stdout"
        },
        {
          "output_type": "stream",
          "text": [
            "\n"
          ],
          "name": "stderr"
        }
      ]
    },
    {
      "cell_type": "code",
      "metadata": {
        "id": "HPa01M-7XpxG",
        "colab_type": "code",
        "colab": {}
      },
      "source": [
        ""
      ],
      "execution_count": 50,
      "outputs": []
    },
    {
      "cell_type": "code",
      "metadata": {
        "id": "YuF6UAjYXpuN",
        "colab_type": "code",
        "colab": {}
      },
      "source": [
        ""
      ],
      "execution_count": 50,
      "outputs": []
    },
    {
      "cell_type": "code",
      "metadata": {
        "id": "tdnN0l28XprT",
        "colab_type": "code",
        "colab": {}
      },
      "source": [
        ""
      ],
      "execution_count": 50,
      "outputs": []
    },
    {
      "cell_type": "code",
      "metadata": {
        "id": "ANw0q2euXpn7",
        "colab_type": "code",
        "colab": {}
      },
      "source": [
        ""
      ],
      "execution_count": 50,
      "outputs": []
    },
    {
      "cell_type": "code",
      "metadata": {
        "id": "Jm5jwB5lYCTk",
        "colab_type": "code",
        "colab": {}
      },
      "source": [
        ""
      ],
      "execution_count": 50,
      "outputs": []
    },
    {
      "cell_type": "code",
      "metadata": {
        "id": "zsHLcxd1YCcT",
        "colab_type": "code",
        "colab": {}
      },
      "source": [
        ""
      ],
      "execution_count": 50,
      "outputs": []
    },
    {
      "cell_type": "code",
      "metadata": {
        "id": "ptUbVCAeYCQz",
        "colab_type": "code",
        "colab": {}
      },
      "source": [
        ""
      ],
      "execution_count": 50,
      "outputs": []
    },
    {
      "cell_type": "markdown",
      "metadata": {
        "id": "iWkdFQarYEiU",
        "colab_type": "text"
      },
      "source": [
        "Now for the invalid relations."
      ]
    },
    {
      "cell_type": "code",
      "metadata": {
        "colab_type": "code",
        "id": "2sK7Cz3_YC6q",
        "colab": {
          "base_uri": "https://localhost:8080/",
          "height": 204
        },
        "outputId": "18f9fdd6-b125-49ee-b2ee-8fdbbaca1be7"
      },
      "source": [
        "# First must edit relations \n",
        "\n",
        "df_invalid = df.copy(deep=True)\n",
        "\n",
        "# Going to edit iteratively (lazily)...will fix later.\n",
        "\n",
        "for i, row in df_invalid.iterrows():\n",
        "  r = row.relation\n",
        "\n",
        "  if r == 'O': continue\n",
        "  r_split = r.split(\"-\")\n",
        "  r = r_split[1] + \",\" + r_split[2]\n",
        "  df_invalid.at[i, \"relation\"] = r\n",
        "  \n",
        "df_invalid.head()"
      ],
      "execution_count": 51,
      "outputs": [
        {
          "output_type": "execute_result",
          "data": {
            "text/html": [
              "<div>\n",
              "<style scoped>\n",
              "    .dataframe tbody tr th:only-of-type {\n",
              "        vertical-align: middle;\n",
              "    }\n",
              "\n",
              "    .dataframe tbody tr th {\n",
              "        vertical-align: top;\n",
              "    }\n",
              "\n",
              "    .dataframe thead th {\n",
              "        text-align: right;\n",
              "    }\n",
              "</style>\n",
              "<table border=\"1\" class=\"dataframe\">\n",
              "  <thead>\n",
              "    <tr style=\"text-align: right;\">\n",
              "      <th></th>\n",
              "      <th>essay</th>\n",
              "      <th>relation</th>\n",
              "      <th>s_num</th>\n",
              "      <th>sentence</th>\n",
              "    </tr>\n",
              "  </thead>\n",
              "  <tbody>\n",
              "    <tr>\n",
              "      <th>0</th>\n",
              "      <td>EBA1415_KNKC_1_CB_ES-05410</td>\n",
              "      <td>O</td>\n",
              "      <td>1.0</td>\n",
              "      <td>Coral and zooxanthellae depend an each other i...</td>\n",
              "    </tr>\n",
              "    <tr>\n",
              "      <th>1</th>\n",
              "      <td>EBA1415_KNKC_1_CB_ES-05410</td>\n",
              "      <td>7,50</td>\n",
              "      <td>2.0</td>\n",
              "      <td>If the coral dies, or gets bleached, then the ...</td>\n",
              "    </tr>\n",
              "    <tr>\n",
              "      <th>2</th>\n",
              "      <td>EBA1415_KNKC_1_CB_ES-05410</td>\n",
              "      <td>O</td>\n",
              "      <td>3.0</td>\n",
              "      <td>Or the other way around.</td>\n",
              "    </tr>\n",
              "    <tr>\n",
              "      <th>3</th>\n",
              "      <td>EBA1415_KNKC_1_CB_ES-05410</td>\n",
              "      <td>O</td>\n",
              "      <td>4.0</td>\n",
              "      <td>In the text Shifting Trade Winds, it talks abo...</td>\n",
              "    </tr>\n",
              "    <tr>\n",
              "      <th>4</th>\n",
              "      <td>EBA1415_KNKC_1_CB_ES-05410</td>\n",
              "      <td>3,1</td>\n",
              "      <td>5.0</td>\n",
              "      <td>And another source states how when the water t...</td>\n",
              "    </tr>\n",
              "  </tbody>\n",
              "</table>\n",
              "</div>"
            ],
            "text/plain": [
              "                        essay  ...                                           sentence\n",
              "0  EBA1415_KNKC_1_CB_ES-05410  ...  Coral and zooxanthellae depend an each other i...\n",
              "1  EBA1415_KNKC_1_CB_ES-05410  ...  If the coral dies, or gets bleached, then the ...\n",
              "2  EBA1415_KNKC_1_CB_ES-05410  ...                           Or the other way around.\n",
              "3  EBA1415_KNKC_1_CB_ES-05410  ...  In the text Shifting Trade Winds, it talks abo...\n",
              "4  EBA1415_KNKC_1_CB_ES-05410  ...  And another source states how when the water t...\n",
              "\n",
              "[5 rows x 4 columns]"
            ]
          },
          "metadata": {
            "tags": []
          },
          "execution_count": 51
        }
      ]
    },
    {
      "cell_type": "code",
      "metadata": {
        "colab_type": "code",
        "id": "dQLMJIywYC66",
        "colab": {
          "base_uri": "https://localhost:8080/",
          "height": 359
        },
        "outputId": "5440f32c-0249-4636-dcf6-7894b356d765"
      },
      "source": [
        "# Now isolate the valid ones\n",
        "\n",
        "df_invalid = df_invalid[~df_invalid['relation'].isin(relations)]\n",
        "df_invalid = df_invalid[df_invalid['relation'] != \"O\"]\n",
        "df_invalid.head(10)"
      ],
      "execution_count": 52,
      "outputs": [
        {
          "output_type": "execute_result",
          "data": {
            "text/html": [
              "<div>\n",
              "<style scoped>\n",
              "    .dataframe tbody tr th:only-of-type {\n",
              "        vertical-align: middle;\n",
              "    }\n",
              "\n",
              "    .dataframe tbody tr th {\n",
              "        vertical-align: top;\n",
              "    }\n",
              "\n",
              "    .dataframe thead th {\n",
              "        text-align: right;\n",
              "    }\n",
              "</style>\n",
              "<table border=\"1\" class=\"dataframe\">\n",
              "  <thead>\n",
              "    <tr style=\"text-align: right;\">\n",
              "      <th></th>\n",
              "      <th>essay</th>\n",
              "      <th>relation</th>\n",
              "      <th>s_num</th>\n",
              "      <th>sentence</th>\n",
              "    </tr>\n",
              "  </thead>\n",
              "  <tbody>\n",
              "    <tr>\n",
              "      <th>4</th>\n",
              "      <td>EBA1415_KNKC_1_CB_ES-05410</td>\n",
              "      <td>3,1</td>\n",
              "      <td>5.0</td>\n",
              "      <td>And another source states how when the water t...</td>\n",
              "    </tr>\n",
              "    <tr>\n",
              "      <th>9</th>\n",
              "      <td>EBA1415_KNKC_1_CB_ES-05410</td>\n",
              "      <td>50,7</td>\n",
              "      <td>9.2</td>\n",
              "      <td>Which can affect the coral because if the zoox...</td>\n",
              "    </tr>\n",
              "    <tr>\n",
              "      <th>20</th>\n",
              "      <td>EBA1415post_WSKT_1_CB_ES-05486</td>\n",
              "      <td>3,1</td>\n",
              "      <td>20.0</td>\n",
              "      <td>According to the graph \"Trade Winds + coral Bl...</td>\n",
              "    </tr>\n",
              "    <tr>\n",
              "      <th>178</th>\n",
              "      <td>EBA1415_TRJA_11_CB_ES-06102</td>\n",
              "      <td>3,1</td>\n",
              "      <td>163.0</td>\n",
              "      <td>When the water is at a cold degrees like in th...</td>\n",
              "    </tr>\n",
              "    <tr>\n",
              "      <th>179</th>\n",
              "      <td>EBA1415_TRJA_11_CB_ES-06102</td>\n",
              "      <td>3,2</td>\n",
              "      <td>164.0</td>\n",
              "      <td>If the water is at a near cold degrees like in...</td>\n",
              "    </tr>\n",
              "    <tr>\n",
              "      <th>198</th>\n",
              "      <td>EBA1415post_TWNB_2_CB_ES-04975</td>\n",
              "      <td>6,14</td>\n",
              "      <td>182.2</td>\n",
              "      <td>Coral bleaching is one example of how environm...</td>\n",
              "    </tr>\n",
              "    <tr>\n",
              "      <th>465</th>\n",
              "      <td>EBA1415_SDMK_7_CB_ES-04782</td>\n",
              "      <td>3,1</td>\n",
              "      <td>427.1</td>\n",
              "      <td>In the chart it shows that because the water t...</td>\n",
              "    </tr>\n",
              "    <tr>\n",
              "      <th>474</th>\n",
              "      <td>EBA1415_SDMK_7_CB_ES-04782</td>\n",
              "      <td>6,14</td>\n",
              "      <td>434.2</td>\n",
              "      <td>Coral bleaching is one example of how environm...</td>\n",
              "    </tr>\n",
              "    <tr>\n",
              "      <th>601</th>\n",
              "      <td>EBA1415_TWMD_45_CB_ES-04996</td>\n",
              "      <td>4,3</td>\n",
              "      <td>547.0</td>\n",
              "      <td>But when the amount of CO2 decreases, it effec...</td>\n",
              "    </tr>\n",
              "    <tr>\n",
              "      <th>602</th>\n",
              "      <td>EBA1415_TWMD_45_CB_ES-04996</td>\n",
              "      <td>4,3</td>\n",
              "      <td>548.0</td>\n",
              "      <td>It also threatens the corals balance of water ...</td>\n",
              "    </tr>\n",
              "  </tbody>\n",
              "</table>\n",
              "</div>"
            ],
            "text/plain": [
              "                              essay  ...                                           sentence\n",
              "4        EBA1415_KNKC_1_CB_ES-05410  ...  And another source states how when the water t...\n",
              "9        EBA1415_KNKC_1_CB_ES-05410  ...  Which can affect the coral because if the zoox...\n",
              "20   EBA1415post_WSKT_1_CB_ES-05486  ...  According to the graph \"Trade Winds + coral Bl...\n",
              "178     EBA1415_TRJA_11_CB_ES-06102  ...  When the water is at a cold degrees like in th...\n",
              "179     EBA1415_TRJA_11_CB_ES-06102  ...  If the water is at a near cold degrees like in...\n",
              "198  EBA1415post_TWNB_2_CB_ES-04975  ...  Coral bleaching is one example of how environm...\n",
              "465      EBA1415_SDMK_7_CB_ES-04782  ...  In the chart it shows that because the water t...\n",
              "474      EBA1415_SDMK_7_CB_ES-04782  ...  Coral bleaching is one example of how environm...\n",
              "601     EBA1415_TWMD_45_CB_ES-04996  ...  But when the amount of CO2 decreases, it effec...\n",
              "602     EBA1415_TWMD_45_CB_ES-04996  ...  It also threatens the corals balance of water ...\n",
              "\n",
              "[10 rows x 4 columns]"
            ]
          },
          "metadata": {
            "tags": []
          },
          "execution_count": 52
        }
      ]
    },
    {
      "cell_type": "code",
      "metadata": {
        "colab_type": "code",
        "id": "x9l-N8j9YC7D",
        "colab": {}
      },
      "source": [
        "# Create sentence and label lists\n",
        "sentences = df_invalid.sentence.values\n",
        "\n",
        "# Add special tokens at the beginning and end of each sentence to comply with BERT\n",
        "sentences = [\"[CLS] \" + sentence + \" [SEP]\" for sentence in sentences]\n",
        "labels = df_invalid.relation.values"
      ],
      "execution_count": 53,
      "outputs": []
    },
    {
      "cell_type": "code",
      "metadata": {
        "colab_type": "code",
        "id": "l9asjzzOYC7W",
        "colab": {
          "base_uri": "https://localhost:8080/",
          "height": 54
        },
        "outputId": "fc52e49f-7eaa-4702-d6e4-4ad54e04e15f"
      },
      "source": [
        "# Now that our [CLS] and [SEP] tokens are in place, we are ready for tokenization\n",
        "tokenizer = BertTokenizer.from_pretrained('bert-base-uncased', do_lower_case=True)\n",
        "tokenized_texts = [tokenizer.tokenize(sent) for sent in sentences]\n",
        "print (\"First sentence tokenized: \",tokenized_texts[0])"
      ],
      "execution_count": 54,
      "outputs": [
        {
          "output_type": "stream",
          "text": [
            "First sentence tokenized:  ['[CLS]', 'and', 'another', 'source', 'states', 'how', 'when', 'the', 'water', 'temperature', 'rises', ',', 'the', 'trade', 'winds', 'weaken', '.', '[SEP]']\n"
          ],
          "name": "stdout"
        }
      ]
    },
    {
      "cell_type": "code",
      "metadata": {
        "colab_type": "code",
        "id": "8R-uq84KYC7l",
        "colab": {
          "base_uri": "https://localhost:8080/",
          "height": 34
        },
        "outputId": "d3ace401-96c0-498b-f840-b56d129eda9d"
      },
      "source": [
        "'''\n",
        "For each tokenized input sentence, we need to create:\n",
        "\n",
        "1. input ids:\n",
        "    a sequence of integers identifying each input token to its index number \n",
        "    in the BERT tokenizer vocabulary\n",
        "\n",
        "2. segment mask: (optional) a sequence of 1s and 0s used to identify whether the input is one \n",
        "    sentence or two sentences long. For one sentence inputs, this is simply a sequence of 0s. \n",
        "    For two sentence inputs, there is a 0 for each token of the first sentence, followed by a \n",
        "    1 for each token of the second sentence\n",
        "\n",
        "3. attention mask: (optional) \n",
        "    a sequence of 1s and 0s, with 1s for all input tokens and 0s for all padding tokens \n",
        "\n",
        "4. labels: based on the labels from the data set\n",
        "'''\n",
        "\n",
        "# For now, we will simply delete the tokenized_texts greater than MAX_LEN.\n",
        "\n",
        "# We need to strip out the sentences greater than MAX_LEN tokens\n",
        "original_length = len(tokenized_texts)\n",
        "\n",
        "labels = [labels[i] for i in range(len(tokenized_texts)) if len(tokenized_texts[i]) <= MAX_LEN]\n",
        "tokenized_texts = [tokenized_texts[i] for i in range(len(tokenized_texts)) if len(tokenized_texts[i]) <= MAX_LEN]\n",
        "print(\"Removed {0} sentences greater than {1}\".format(original_length - len(tokenized_texts),MAX_LEN))"
      ],
      "execution_count": 55,
      "outputs": [
        {
          "output_type": "stream",
          "text": [
            "Removed 3 sentences greater than 128\n"
          ],
          "name": "stdout"
        }
      ]
    },
    {
      "cell_type": "code",
      "metadata": {
        "colab_type": "code",
        "id": "1iCYwffQYC7y",
        "colab": {}
      },
      "source": [
        "# Use the BERT tokenizer to convert the tokens to their index numbers in the BERT vocabulary\n",
        "input_ids = [tokenizer.convert_tokens_to_ids(x) for x in tokenized_texts]"
      ],
      "execution_count": 56,
      "outputs": []
    },
    {
      "cell_type": "code",
      "metadata": {
        "colab_type": "code",
        "id": "cgOHlj_BYC77",
        "colab": {}
      },
      "source": [
        "# Pad our input tokens\n",
        "input_ids = pad_sequences(input_ids, maxlen=MAX_LEN, dtype=\"long\", truncating=\"post\", padding=\"post\")"
      ],
      "execution_count": 57,
      "outputs": []
    },
    {
      "cell_type": "code",
      "metadata": {
        "colab_type": "code",
        "id": "w2zQQy3KYC7-",
        "colab": {}
      },
      "source": [
        "# Create attention masks\n",
        "attention_masks = []\n",
        "\n",
        "# Create a mask of 1s for each token followed by 0s for padding\n",
        "for seq in input_ids:\n",
        "  seq_mask = [float(i>0) for i in seq]\n",
        "  attention_masks.append(seq_mask)"
      ],
      "execution_count": 58,
      "outputs": []
    },
    {
      "cell_type": "code",
      "metadata": {
        "colab_type": "code",
        "id": "mb70PmQpYC8X",
        "colab": {
          "base_uri": "https://localhost:8080/",
          "height": 71
        },
        "outputId": "5183cf0e-274f-438c-cd3f-f784f3bcc6af"
      },
      "source": [
        "# At this point we must convert our labels from strings to ints (required for tensorization)\n",
        "\n",
        "# First we are going to create an array of all possible labels\n",
        "label_types = {}\n",
        "for i in range(len(labels)):\n",
        "  if labels[i] not in label_types:\n",
        "    label_types.update({labels[i] : len(label_types)})\n",
        "print(\"Total labels_types: {0}\\nLabels: {1}\".format(len(label_types),str(label_types)))"
      ],
      "execution_count": 59,
      "outputs": [
        {
          "output_type": "stream",
          "text": [
            "Total labels_types: 38\n",
            "Labels: {'3,1': 0, '50,7': 1, '3,2': 2, '6,14': 3, '4,3': 4, '11,3': 5, '50,50': 6, '7,13': 7, '7,1': 8, '4,13': 9, '7,14': 10, '50,1': 11, '14,11': 12, '7,5B': 13, '50,3': 14, '11,11': 15, '12,11': 16, '13,11': 17, '12,5B': 18, '5,4': 19, 'OTHER,13': 20, '11,OTHER': 21, '3,13': 22, '13,12': 23, '1,11': 24, '7,5': 25, '1,13': 26, '5,13': 27, '5B,5': 28, '11,1': 29, '5,3': 30, '4,11': 31, '11,4': 32, '2,1': 33, '6,5B': 34, '13,4': 35, '7,6': 36, '13,5': 37}\n"
          ],
          "name": "stdout"
        }
      ]
    },
    {
      "cell_type": "code",
      "metadata": {
        "colab_type": "code",
        "id": "4mm3HXhnYC8h",
        "colab": {
          "base_uri": "https://localhost:8080/",
          "height": 71
        },
        "outputId": "93d1f8e7-56f7-474c-bec6-269399274544"
      },
      "source": [
        "# Now map each label to its corresponding integer\n",
        "print(\"Old labels: \",str(labels))\n",
        "labels = [label_types.get(l) for l in labels]\n",
        "print(\"New labels: \",str(labels))"
      ],
      "execution_count": 60,
      "outputs": [
        {
          "output_type": "stream",
          "text": [
            "Old labels:  ['3,1', '50,7', '3,1', '3,1', '3,2', '6,14', '3,1', '6,14', '4,3', '4,3', '6,14', '6,14', '11,3', '50,50', '3,1', '7,13', '7,1', '3,1', '4,13', '4,13', '7,14', '7,14', '7,14', '6,14', '6,14', '50,50', '50,1', '3,1', '6,14', '50,50', '50,7', '14,11', '14,11', '6,14', '6,14', '7,5B', '7,5B', '6,14', '50,3', '4,3', '11,11', '12,11', '13,11', '6,14', '3,1', '3,1', '12,5B', '5,4', '13,11', '13,11', 'OTHER,13', '11,OTHER', '11,OTHER', 'OTHER,13', '7,5B', '6,14', '50,3', '50,3', '3,13', '13,12', '1,11', '7,14', '7,5', '6,14', '6,14', '11,3', '6,14', '7,5B', '1,13', '5,13', '6,14', '6,14', '6,14', '6,14', '4,3', '3,1', '5B,5', '6,14', '5B,5', '6,14', '6,14', '6,14', '3,1', '6,14', '3,1', '3,1', '7,5B', '50,7', '50,7', '50,1', '4,13', '6,14', '11,1', '11,1', '11,3', '6,14', '6,14', '3,13', '3,13', '6,14', '3,13', '6,14', '6,14', '6,14', '6,14', '6,14', '5,3', '6,14', '6,14', '6,14', '7,5B', '50,1', '5B,5', '6,14', '11,3', '13,12', '6,14', '6,14', '4,11', '11,4', '2,1', '6,5B', '13,4', '6,14', '11,4', '1,13', '5B,5', '50,50', '11,3', '7,6', '7,6', '6,14', '50,3', '13,5', '50,7', '6,14', '6,14', '3,1', '13,12', '50,7', '6,14']\n",
            "New labels:  [0, 1, 0, 0, 2, 3, 0, 3, 4, 4, 3, 3, 5, 6, 0, 7, 8, 0, 9, 9, 10, 10, 10, 3, 3, 6, 11, 0, 3, 6, 1, 12, 12, 3, 3, 13, 13, 3, 14, 4, 15, 16, 17, 3, 0, 0, 18, 19, 17, 17, 20, 21, 21, 20, 13, 3, 14, 14, 22, 23, 24, 10, 25, 3, 3, 5, 3, 13, 26, 27, 3, 3, 3, 3, 4, 0, 28, 3, 28, 3, 3, 3, 0, 3, 0, 0, 13, 1, 1, 11, 9, 3, 29, 29, 5, 3, 3, 22, 22, 3, 22, 3, 3, 3, 3, 3, 30, 3, 3, 3, 13, 11, 28, 3, 5, 23, 3, 3, 31, 32, 33, 34, 35, 3, 32, 26, 28, 6, 5, 36, 36, 3, 14, 37, 1, 3, 3, 0, 23, 1, 3]\n"
          ],
          "name": "stdout"
        }
      ]
    },
    {
      "cell_type": "code",
      "metadata": {
        "colab_type": "code",
        "id": "kK0ArKsNYC8q",
        "colab": {}
      },
      "source": [
        "# Use train_test_split to split our data into train and validation sets for training\n",
        "\n",
        "train_inputs, validation_inputs, train_labels, validation_labels = train_test_split(input_ids, labels, \n",
        "                                                            random_state=2018, test_size=0.1)\n",
        "train_masks, validation_masks, _, _ = train_test_split(attention_masks, input_ids,\n",
        "                                             random_state=2018, test_size=0.1)"
      ],
      "execution_count": 61,
      "outputs": []
    },
    {
      "cell_type": "code",
      "metadata": {
        "colab_type": "code",
        "id": "0ErlOSwoYC8t",
        "colab": {}
      },
      "source": [
        "# Convert all of our data into torch tensors, the required datatype for our model\n",
        "\n",
        "train_inputs = torch.tensor(train_inputs)\n",
        "validation_inputs = torch.tensor(validation_inputs)\n",
        "train_labels = torch.tensor(train_labels)\n",
        "validation_labels = torch.tensor(validation_labels)\n",
        "train_masks = torch.tensor(train_masks)\n",
        "validation_masks = torch.tensor(validation_masks)"
      ],
      "execution_count": 62,
      "outputs": []
    },
    {
      "cell_type": "code",
      "metadata": {
        "colab_type": "code",
        "id": "gzETYWUWYC8x",
        "colab": {}
      },
      "source": [
        "# Create an iterator of our data with torch DataLoader. This helps save on memory during training because, unlike a for loop, \n",
        "# with an iterator the entire dataset does not need to be loaded into memory\n",
        "\n",
        "train_data = TensorDataset(train_inputs, train_masks, train_labels)\n",
        "train_sampler = RandomSampler(train_data)\n",
        "train_dataloader = DataLoader(train_data, sampler=train_sampler, batch_size=BATCH_SIZE)\n",
        "\n",
        "validation_data = TensorDataset(validation_inputs, validation_masks, validation_labels)\n",
        "validation_sampler = SequentialSampler(validation_data)\n",
        "validation_dataloader = DataLoader(validation_data, sampler=validation_sampler, batch_size=BATCH_SIZE)"
      ],
      "execution_count": 63,
      "outputs": []
    },
    {
      "cell_type": "code",
      "metadata": {
        "colab_type": "code",
        "id": "JhUc5jXtYC8_",
        "colab": {
          "base_uri": "https://localhost:8080/",
          "height": 1000
        },
        "outputId": "8c6ced0c-10ce-4d3b-bfc8-fea10982d812"
      },
      "source": [
        "# This is where the fine-tuning comes in. We must train the model for our specific task.\n",
        "\n",
        "# We will first modify pre-trained BERT for our specific task, then continue training on our data until the entire model\n",
        "#   is well-suited for our task.\n",
        "\n",
        "model = BertForSequenceClassification.from_pretrained(\"bert-base-uncased\", num_labels=len(labels))\n",
        "model.cuda()"
      ],
      "execution_count": 64,
      "outputs": [
        {
          "output_type": "execute_result",
          "data": {
            "text/plain": [
              "BertForSequenceClassification(\n",
              "  (bert): BertModel(\n",
              "    (embeddings): BertEmbeddings(\n",
              "      (word_embeddings): Embedding(30522, 768, padding_idx=0)\n",
              "      (position_embeddings): Embedding(512, 768)\n",
              "      (token_type_embeddings): Embedding(2, 768)\n",
              "      (LayerNorm): BertLayerNorm()\n",
              "      (dropout): Dropout(p=0.1, inplace=False)\n",
              "    )\n",
              "    (encoder): BertEncoder(\n",
              "      (layer): ModuleList(\n",
              "        (0): BertLayer(\n",
              "          (attention): BertAttention(\n",
              "            (self): BertSelfAttention(\n",
              "              (query): Linear(in_features=768, out_features=768, bias=True)\n",
              "              (key): Linear(in_features=768, out_features=768, bias=True)\n",
              "              (value): Linear(in_features=768, out_features=768, bias=True)\n",
              "              (dropout): Dropout(p=0.1, inplace=False)\n",
              "            )\n",
              "            (output): BertSelfOutput(\n",
              "              (dense): Linear(in_features=768, out_features=768, bias=True)\n",
              "              (LayerNorm): BertLayerNorm()\n",
              "              (dropout): Dropout(p=0.1, inplace=False)\n",
              "            )\n",
              "          )\n",
              "          (intermediate): BertIntermediate(\n",
              "            (dense): Linear(in_features=768, out_features=3072, bias=True)\n",
              "          )\n",
              "          (output): BertOutput(\n",
              "            (dense): Linear(in_features=3072, out_features=768, bias=True)\n",
              "            (LayerNorm): BertLayerNorm()\n",
              "            (dropout): Dropout(p=0.1, inplace=False)\n",
              "          )\n",
              "        )\n",
              "        (1): BertLayer(\n",
              "          (attention): BertAttention(\n",
              "            (self): BertSelfAttention(\n",
              "              (query): Linear(in_features=768, out_features=768, bias=True)\n",
              "              (key): Linear(in_features=768, out_features=768, bias=True)\n",
              "              (value): Linear(in_features=768, out_features=768, bias=True)\n",
              "              (dropout): Dropout(p=0.1, inplace=False)\n",
              "            )\n",
              "            (output): BertSelfOutput(\n",
              "              (dense): Linear(in_features=768, out_features=768, bias=True)\n",
              "              (LayerNorm): BertLayerNorm()\n",
              "              (dropout): Dropout(p=0.1, inplace=False)\n",
              "            )\n",
              "          )\n",
              "          (intermediate): BertIntermediate(\n",
              "            (dense): Linear(in_features=768, out_features=3072, bias=True)\n",
              "          )\n",
              "          (output): BertOutput(\n",
              "            (dense): Linear(in_features=3072, out_features=768, bias=True)\n",
              "            (LayerNorm): BertLayerNorm()\n",
              "            (dropout): Dropout(p=0.1, inplace=False)\n",
              "          )\n",
              "        )\n",
              "        (2): BertLayer(\n",
              "          (attention): BertAttention(\n",
              "            (self): BertSelfAttention(\n",
              "              (query): Linear(in_features=768, out_features=768, bias=True)\n",
              "              (key): Linear(in_features=768, out_features=768, bias=True)\n",
              "              (value): Linear(in_features=768, out_features=768, bias=True)\n",
              "              (dropout): Dropout(p=0.1, inplace=False)\n",
              "            )\n",
              "            (output): BertSelfOutput(\n",
              "              (dense): Linear(in_features=768, out_features=768, bias=True)\n",
              "              (LayerNorm): BertLayerNorm()\n",
              "              (dropout): Dropout(p=0.1, inplace=False)\n",
              "            )\n",
              "          )\n",
              "          (intermediate): BertIntermediate(\n",
              "            (dense): Linear(in_features=768, out_features=3072, bias=True)\n",
              "          )\n",
              "          (output): BertOutput(\n",
              "            (dense): Linear(in_features=3072, out_features=768, bias=True)\n",
              "            (LayerNorm): BertLayerNorm()\n",
              "            (dropout): Dropout(p=0.1, inplace=False)\n",
              "          )\n",
              "        )\n",
              "        (3): BertLayer(\n",
              "          (attention): BertAttention(\n",
              "            (self): BertSelfAttention(\n",
              "              (query): Linear(in_features=768, out_features=768, bias=True)\n",
              "              (key): Linear(in_features=768, out_features=768, bias=True)\n",
              "              (value): Linear(in_features=768, out_features=768, bias=True)\n",
              "              (dropout): Dropout(p=0.1, inplace=False)\n",
              "            )\n",
              "            (output): BertSelfOutput(\n",
              "              (dense): Linear(in_features=768, out_features=768, bias=True)\n",
              "              (LayerNorm): BertLayerNorm()\n",
              "              (dropout): Dropout(p=0.1, inplace=False)\n",
              "            )\n",
              "          )\n",
              "          (intermediate): BertIntermediate(\n",
              "            (dense): Linear(in_features=768, out_features=3072, bias=True)\n",
              "          )\n",
              "          (output): BertOutput(\n",
              "            (dense): Linear(in_features=3072, out_features=768, bias=True)\n",
              "            (LayerNorm): BertLayerNorm()\n",
              "            (dropout): Dropout(p=0.1, inplace=False)\n",
              "          )\n",
              "        )\n",
              "        (4): BertLayer(\n",
              "          (attention): BertAttention(\n",
              "            (self): BertSelfAttention(\n",
              "              (query): Linear(in_features=768, out_features=768, bias=True)\n",
              "              (key): Linear(in_features=768, out_features=768, bias=True)\n",
              "              (value): Linear(in_features=768, out_features=768, bias=True)\n",
              "              (dropout): Dropout(p=0.1, inplace=False)\n",
              "            )\n",
              "            (output): BertSelfOutput(\n",
              "              (dense): Linear(in_features=768, out_features=768, bias=True)\n",
              "              (LayerNorm): BertLayerNorm()\n",
              "              (dropout): Dropout(p=0.1, inplace=False)\n",
              "            )\n",
              "          )\n",
              "          (intermediate): BertIntermediate(\n",
              "            (dense): Linear(in_features=768, out_features=3072, bias=True)\n",
              "          )\n",
              "          (output): BertOutput(\n",
              "            (dense): Linear(in_features=3072, out_features=768, bias=True)\n",
              "            (LayerNorm): BertLayerNorm()\n",
              "            (dropout): Dropout(p=0.1, inplace=False)\n",
              "          )\n",
              "        )\n",
              "        (5): BertLayer(\n",
              "          (attention): BertAttention(\n",
              "            (self): BertSelfAttention(\n",
              "              (query): Linear(in_features=768, out_features=768, bias=True)\n",
              "              (key): Linear(in_features=768, out_features=768, bias=True)\n",
              "              (value): Linear(in_features=768, out_features=768, bias=True)\n",
              "              (dropout): Dropout(p=0.1, inplace=False)\n",
              "            )\n",
              "            (output): BertSelfOutput(\n",
              "              (dense): Linear(in_features=768, out_features=768, bias=True)\n",
              "              (LayerNorm): BertLayerNorm()\n",
              "              (dropout): Dropout(p=0.1, inplace=False)\n",
              "            )\n",
              "          )\n",
              "          (intermediate): BertIntermediate(\n",
              "            (dense): Linear(in_features=768, out_features=3072, bias=True)\n",
              "          )\n",
              "          (output): BertOutput(\n",
              "            (dense): Linear(in_features=3072, out_features=768, bias=True)\n",
              "            (LayerNorm): BertLayerNorm()\n",
              "            (dropout): Dropout(p=0.1, inplace=False)\n",
              "          )\n",
              "        )\n",
              "        (6): BertLayer(\n",
              "          (attention): BertAttention(\n",
              "            (self): BertSelfAttention(\n",
              "              (query): Linear(in_features=768, out_features=768, bias=True)\n",
              "              (key): Linear(in_features=768, out_features=768, bias=True)\n",
              "              (value): Linear(in_features=768, out_features=768, bias=True)\n",
              "              (dropout): Dropout(p=0.1, inplace=False)\n",
              "            )\n",
              "            (output): BertSelfOutput(\n",
              "              (dense): Linear(in_features=768, out_features=768, bias=True)\n",
              "              (LayerNorm): BertLayerNorm()\n",
              "              (dropout): Dropout(p=0.1, inplace=False)\n",
              "            )\n",
              "          )\n",
              "          (intermediate): BertIntermediate(\n",
              "            (dense): Linear(in_features=768, out_features=3072, bias=True)\n",
              "          )\n",
              "          (output): BertOutput(\n",
              "            (dense): Linear(in_features=3072, out_features=768, bias=True)\n",
              "            (LayerNorm): BertLayerNorm()\n",
              "            (dropout): Dropout(p=0.1, inplace=False)\n",
              "          )\n",
              "        )\n",
              "        (7): BertLayer(\n",
              "          (attention): BertAttention(\n",
              "            (self): BertSelfAttention(\n",
              "              (query): Linear(in_features=768, out_features=768, bias=True)\n",
              "              (key): Linear(in_features=768, out_features=768, bias=True)\n",
              "              (value): Linear(in_features=768, out_features=768, bias=True)\n",
              "              (dropout): Dropout(p=0.1, inplace=False)\n",
              "            )\n",
              "            (output): BertSelfOutput(\n",
              "              (dense): Linear(in_features=768, out_features=768, bias=True)\n",
              "              (LayerNorm): BertLayerNorm()\n",
              "              (dropout): Dropout(p=0.1, inplace=False)\n",
              "            )\n",
              "          )\n",
              "          (intermediate): BertIntermediate(\n",
              "            (dense): Linear(in_features=768, out_features=3072, bias=True)\n",
              "          )\n",
              "          (output): BertOutput(\n",
              "            (dense): Linear(in_features=3072, out_features=768, bias=True)\n",
              "            (LayerNorm): BertLayerNorm()\n",
              "            (dropout): Dropout(p=0.1, inplace=False)\n",
              "          )\n",
              "        )\n",
              "        (8): BertLayer(\n",
              "          (attention): BertAttention(\n",
              "            (self): BertSelfAttention(\n",
              "              (query): Linear(in_features=768, out_features=768, bias=True)\n",
              "              (key): Linear(in_features=768, out_features=768, bias=True)\n",
              "              (value): Linear(in_features=768, out_features=768, bias=True)\n",
              "              (dropout): Dropout(p=0.1, inplace=False)\n",
              "            )\n",
              "            (output): BertSelfOutput(\n",
              "              (dense): Linear(in_features=768, out_features=768, bias=True)\n",
              "              (LayerNorm): BertLayerNorm()\n",
              "              (dropout): Dropout(p=0.1, inplace=False)\n",
              "            )\n",
              "          )\n",
              "          (intermediate): BertIntermediate(\n",
              "            (dense): Linear(in_features=768, out_features=3072, bias=True)\n",
              "          )\n",
              "          (output): BertOutput(\n",
              "            (dense): Linear(in_features=3072, out_features=768, bias=True)\n",
              "            (LayerNorm): BertLayerNorm()\n",
              "            (dropout): Dropout(p=0.1, inplace=False)\n",
              "          )\n",
              "        )\n",
              "        (9): BertLayer(\n",
              "          (attention): BertAttention(\n",
              "            (self): BertSelfAttention(\n",
              "              (query): Linear(in_features=768, out_features=768, bias=True)\n",
              "              (key): Linear(in_features=768, out_features=768, bias=True)\n",
              "              (value): Linear(in_features=768, out_features=768, bias=True)\n",
              "              (dropout): Dropout(p=0.1, inplace=False)\n",
              "            )\n",
              "            (output): BertSelfOutput(\n",
              "              (dense): Linear(in_features=768, out_features=768, bias=True)\n",
              "              (LayerNorm): BertLayerNorm()\n",
              "              (dropout): Dropout(p=0.1, inplace=False)\n",
              "            )\n",
              "          )\n",
              "          (intermediate): BertIntermediate(\n",
              "            (dense): Linear(in_features=768, out_features=3072, bias=True)\n",
              "          )\n",
              "          (output): BertOutput(\n",
              "            (dense): Linear(in_features=3072, out_features=768, bias=True)\n",
              "            (LayerNorm): BertLayerNorm()\n",
              "            (dropout): Dropout(p=0.1, inplace=False)\n",
              "          )\n",
              "        )\n",
              "        (10): BertLayer(\n",
              "          (attention): BertAttention(\n",
              "            (self): BertSelfAttention(\n",
              "              (query): Linear(in_features=768, out_features=768, bias=True)\n",
              "              (key): Linear(in_features=768, out_features=768, bias=True)\n",
              "              (value): Linear(in_features=768, out_features=768, bias=True)\n",
              "              (dropout): Dropout(p=0.1, inplace=False)\n",
              "            )\n",
              "            (output): BertSelfOutput(\n",
              "              (dense): Linear(in_features=768, out_features=768, bias=True)\n",
              "              (LayerNorm): BertLayerNorm()\n",
              "              (dropout): Dropout(p=0.1, inplace=False)\n",
              "            )\n",
              "          )\n",
              "          (intermediate): BertIntermediate(\n",
              "            (dense): Linear(in_features=768, out_features=3072, bias=True)\n",
              "          )\n",
              "          (output): BertOutput(\n",
              "            (dense): Linear(in_features=3072, out_features=768, bias=True)\n",
              "            (LayerNorm): BertLayerNorm()\n",
              "            (dropout): Dropout(p=0.1, inplace=False)\n",
              "          )\n",
              "        )\n",
              "        (11): BertLayer(\n",
              "          (attention): BertAttention(\n",
              "            (self): BertSelfAttention(\n",
              "              (query): Linear(in_features=768, out_features=768, bias=True)\n",
              "              (key): Linear(in_features=768, out_features=768, bias=True)\n",
              "              (value): Linear(in_features=768, out_features=768, bias=True)\n",
              "              (dropout): Dropout(p=0.1, inplace=False)\n",
              "            )\n",
              "            (output): BertSelfOutput(\n",
              "              (dense): Linear(in_features=768, out_features=768, bias=True)\n",
              "              (LayerNorm): BertLayerNorm()\n",
              "              (dropout): Dropout(p=0.1, inplace=False)\n",
              "            )\n",
              "          )\n",
              "          (intermediate): BertIntermediate(\n",
              "            (dense): Linear(in_features=768, out_features=3072, bias=True)\n",
              "          )\n",
              "          (output): BertOutput(\n",
              "            (dense): Linear(in_features=3072, out_features=768, bias=True)\n",
              "            (LayerNorm): BertLayerNorm()\n",
              "            (dropout): Dropout(p=0.1, inplace=False)\n",
              "          )\n",
              "        )\n",
              "      )\n",
              "    )\n",
              "    (pooler): BertPooler(\n",
              "      (dense): Linear(in_features=768, out_features=768, bias=True)\n",
              "      (activation): Tanh()\n",
              "    )\n",
              "  )\n",
              "  (dropout): Dropout(p=0.1, inplace=False)\n",
              "  (classifier): Linear(in_features=768, out_features=141, bias=True)\n",
              ")"
            ]
          },
          "metadata": {
            "tags": []
          },
          "execution_count": 64
        }
      ]
    },
    {
      "cell_type": "code",
      "metadata": {
        "colab_type": "code",
        "id": "tMcrP_8IYC9Q",
        "colab": {}
      },
      "source": [
        "'''\n",
        "Now that we have our model loaded we need to grab the training hyperparameters from within the stored model.\n",
        "\n",
        "For the purposes of fine-tuning, the authors recommend the following hyperparameter ranges:\n",
        "\n",
        "Batch size: 16, 32\n",
        "Learning rate (Adam): 5e-5, 3e-5, 2e-5\n",
        "Number of epochs: 2, 3, 4\n",
        "'''\n",
        "\n",
        "param_optimizer = list(model.named_parameters())\n",
        "no_decay = ['bias', 'gamma', 'beta']\n",
        "optimizer_grouped_parameters = [\n",
        "    {'params': [p for n, p in param_optimizer if not any(nd in n for nd in no_decay)],\n",
        "     'weight_decay_rate': 0.01},\n",
        "    {'params': [p for n, p in param_optimizer if any(nd in n for nd in no_decay)],\n",
        "     'weight_decay_rate': 0.0}\n",
        "]"
      ],
      "execution_count": 65,
      "outputs": []
    },
    {
      "cell_type": "code",
      "metadata": {
        "colab_type": "code",
        "id": "sMov0LrpYC9h",
        "colab": {
          "base_uri": "https://localhost:8080/",
          "height": 34
        },
        "outputId": "bb99a9e4-0704-4c70-98f7-aa7fb9e4a56a"
      },
      "source": [
        "optimizer = BertAdam(optimizer_grouped_parameters,\n",
        "                     lr=LEARNING_RATE,\n",
        "                     warmup=WARMUP)"
      ],
      "execution_count": 66,
      "outputs": [
        {
          "output_type": "stream",
          "text": [
            "t_total value of -1 results in schedule not being applied\n"
          ],
          "name": "stderr"
        }
      ]
    },
    {
      "cell_type": "code",
      "metadata": {
        "colab_type": "code",
        "id": "cebPdGQqYC94",
        "colab": {
          "base_uri": "https://localhost:8080/",
          "height": 170
        },
        "outputId": "c5fa4c44-9c64-4133-a358-c2c78b299f88"
      },
      "source": [
        "t = [] \n",
        "\n",
        "# Store our loss and accuracy for plotting\n",
        "train_loss_set = []\n",
        "\n",
        "# trange is a tqdm wrapper around the normal python range\n",
        "for _ in trange(EPOCHS, desc=\"Epoch\"):\n",
        "  \n",
        "  # Training\n",
        "  \n",
        "  # Set our model to training mode (as opposed to evaluation mode)\n",
        "  model.train()\n",
        "  \n",
        "  # Tracking variables\n",
        "  tr_loss = 0\n",
        "  nb_tr_examples, nb_tr_steps = 0, 0\n",
        "  \n",
        "  # Train the data for one epoch\n",
        "  for step, batch in enumerate(train_dataloader):\n",
        "    # Add batch to GPU\n",
        "    batch = tuple(t.to(device) for t in batch)\n",
        "    # Unpack the inputs from our dataloader\n",
        "    b_input_ids, b_input_mask, b_labels = batch\n",
        "    # Clear out the gradients (by default they accumulate)\n",
        "    optimizer.zero_grad()\n",
        "    # Forward pass\n",
        "    loss = model(b_input_ids, token_type_ids=None, attention_mask=b_input_mask, labels=b_labels)\n",
        "    train_loss_set.append(loss.item())    \n",
        "    # Backward pass\n",
        "    loss.backward()\n",
        "    # Update parameters and take a step using the computed gradient\n",
        "    optimizer.step()\n",
        "    \n",
        "    # Update tracking variables\n",
        "    tr_loss += loss.item()\n",
        "    nb_tr_examples += b_input_ids.size(0)\n",
        "    nb_tr_steps += 1\n",
        "\n",
        "  print(\"Train loss: {}\".format(tr_loss/nb_tr_steps))\n",
        "    \n",
        "    \n",
        "  # Validation\n",
        "\n",
        "  # Put model in evaluation mode to evaluate loss on the validation set\n",
        "  model.eval()\n",
        "\n",
        "  # Tracking variables \n",
        "  eval_loss, eval_accuracy = 0, 0\n",
        "  nb_eval_steps, nb_eval_examples = 0, 0\n",
        "\n",
        "  # Evaluate data for one epoch\n",
        "  for batch in validation_dataloader:\n",
        "    # Add batch to GPU\n",
        "    batch = tuple(t.to(device) for t in batch)\n",
        "    # Unpack the inputs from our dataloader\n",
        "    b_input_ids, b_input_mask, b_labels = batch\n",
        "    # Telling the model not to compute or store gradients, saving memory and speeding up validation\n",
        "    with torch.no_grad():\n",
        "      # Forward pass, calculate logit predictions\n",
        "      logits = model(b_input_ids, token_type_ids=None, attention_mask=b_input_mask)\n",
        "    \n",
        "    # Move logits and labels to CPU\n",
        "    logits = logits.detach().cpu().numpy()\n",
        "    label_ids = b_labels.to('cpu').numpy()\n",
        "\n",
        "    tmp_eval_accuracy = flat_accuracy(logits, label_ids)\n",
        "    \n",
        "    eval_accuracy += tmp_eval_accuracy\n",
        "    nb_eval_steps += 1\n",
        "\n",
        "  print(\"Validation Accuracy: {}\".format(eval_accuracy/nb_eval_steps))"
      ],
      "execution_count": 67,
      "outputs": [
        {
          "output_type": "stream",
          "text": [
            "Epoch:  25%|██▌       | 1/4 [00:01<00:04,  1.35s/it]"
          ],
          "name": "stderr"
        },
        {
          "output_type": "stream",
          "text": [
            "Train loss: 4.7199766635894775\n",
            "Validation Accuracy: 0.4\n"
          ],
          "name": "stdout"
        },
        {
          "output_type": "stream",
          "text": [
            "\rEpoch:  50%|█████     | 2/4 [00:02<00:02,  1.34s/it]"
          ],
          "name": "stderr"
        },
        {
          "output_type": "stream",
          "text": [
            "Train loss: 3.954107642173767\n",
            "Validation Accuracy: 0.4\n"
          ],
          "name": "stdout"
        },
        {
          "output_type": "stream",
          "text": [
            "\rEpoch:  75%|███████▌  | 3/4 [00:03<00:01,  1.34s/it]"
          ],
          "name": "stderr"
        },
        {
          "output_type": "stream",
          "text": [
            "Train loss: 3.3400965332984924\n",
            "Validation Accuracy: 0.4666666666666667\n"
          ],
          "name": "stdout"
        },
        {
          "output_type": "stream",
          "text": [
            "Epoch: 100%|██████████| 4/4 [00:05<00:00,  1.33s/it]"
          ],
          "name": "stderr"
        },
        {
          "output_type": "stream",
          "text": [
            "Train loss: 2.9229109287261963\n",
            "Validation Accuracy: 0.4666666666666667\n"
          ],
          "name": "stdout"
        },
        {
          "output_type": "stream",
          "text": [
            "\n"
          ],
          "name": "stderr"
        }
      ]
    }
  ]
}