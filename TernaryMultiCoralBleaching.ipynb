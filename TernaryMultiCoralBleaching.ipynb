{
  "nbformat": 4,
  "nbformat_minor": 0,
  "metadata": {
    "colab": {
      "name": "TernaryMultiCoralBleaching.ipynb",
      "provenance": [],
      "collapsed_sections": [],
      "machine_shape": "hm",
      "authorship_tag": "ABX9TyOia+T7VnZpyuTcoj4tm/Pn",
      "include_colab_link": true
    },
    "kernelspec": {
      "name": "python3",
      "display_name": "Python 3"
    },
    "accelerator": "GPU"
  },
  "cells": [
    {
      "cell_type": "markdown",
      "metadata": {
        "id": "view-in-github",
        "colab_type": "text"
      },
      "source": [
        "<a href=\"https://colab.research.google.com/github/claytoncohn/CoralBleaching_SkinCancer/blob/master/TernaryMultiCoralBleaching.ipynb\" target=\"_parent\"><img src=\"https://colab.research.google.com/assets/colab-badge.svg\" alt=\"Open In Colab\"/></a>"
      ]
    },
    {
      "cell_type": "markdown",
      "metadata": {
        "id": "erJHJpl3RO4E",
        "colab_type": "text"
      },
      "source": [
        "This notebook is created by Clayton Cohn for the purposes of detecting the existence of causal chains in the Coral Bleaching and Skin Cancer datasets using BERT.\n",
        "\n",
        "BERT will be fine-tuned for ternary classification: 0 indicating the absense of a causal relation, 1 indicating the presence of a valid causal relation, and 2 indicating the presence an invalid causal relation. After that, it will be put through another round of classification to see if the model can identify the correct relation.\n",
        "\n",
        "The code in this notebook is originally adopted from:\n",
        "\n",
        "https://colab.research.google.com/drive/1ywsvwO6thOVOrfagjjfuxEf6xVRxbUNO#scrollTo=IUM0UA1qJaVB\n",
        "\n",
        "I have adapted it for use with the Skin Cancer and Coral Bleaching datasets below:\n",
        "\n",
        "https://knowledge.depaul.edu/display/DNLP/Tasks+and+Data\n",
        "---\n"
      ]
    },
    {
      "cell_type": "markdown",
      "metadata": {
        "id": "-sIkXqo1TP-D",
        "colab_type": "text"
      },
      "source": [
        "Mount Drive to Colab."
      ]
    },
    {
      "cell_type": "code",
      "metadata": {
        "id": "3_c3XEJBTpRV",
        "colab_type": "code",
        "colab": {
          "base_uri": "https://localhost:8080/",
          "height": 34
        },
        "outputId": "3d69eed4-686c-44cd-ccd9-17265caa3897"
      },
      "source": [
        "from google.colab import drive\n",
        "drive.mount('/content/drive')"
      ],
      "execution_count": 1,
      "outputs": [
        {
          "output_type": "stream",
          "text": [
            "Drive already mounted at /content/drive; to attempt to forcibly remount, call drive.mount(\"/content/drive\", force_remount=True).\n"
          ],
          "name": "stdout"
        }
      ]
    },
    {
      "cell_type": "markdown",
      "metadata": {
        "id": "4hxMggnJU1VX",
        "colab_type": "text"
      },
      "source": [
        "Import the desired dataset.\n",
        "\n",
        "**Note: the Coral Bleaching data had to be preprocessed to remove extraneous \"did not finish\" notations. Otherwise, Pandas would not be able to properly import it.**"
      ]
    },
    {
      "cell_type": "code",
      "metadata": {
        "id": "zZ0A4ZXpRDuV",
        "colab_type": "code",
        "colab": {
          "base_uri": "https://localhost:8080/",
          "height": 359
        },
        "outputId": "937610c3-0c8f-4ff1-80e7-959e4e7f5619"
      },
      "source": [
        "import pandas as pd\n",
        "\n",
        "DATA_PATH = \"drive/My Drive/colab/data/\"\n",
        "DATA_NAME = \"EBA1415-CoralBleaching-big-sentences.tsv\"\n",
        "\n",
        "df = pd.read_csv(DATA_PATH + DATA_NAME, delimiter='\\t', header=None, names=['essay', 'relation', 's_num', 'sentence'])\n",
        "df.head(10)"
      ],
      "execution_count": 2,
      "outputs": [
        {
          "output_type": "execute_result",
          "data": {
            "text/html": [
              "<div>\n",
              "<style scoped>\n",
              "    .dataframe tbody tr th:only-of-type {\n",
              "        vertical-align: middle;\n",
              "    }\n",
              "\n",
              "    .dataframe tbody tr th {\n",
              "        vertical-align: top;\n",
              "    }\n",
              "\n",
              "    .dataframe thead th {\n",
              "        text-align: right;\n",
              "    }\n",
              "</style>\n",
              "<table border=\"1\" class=\"dataframe\">\n",
              "  <thead>\n",
              "    <tr style=\"text-align: right;\">\n",
              "      <th></th>\n",
              "      <th>essay</th>\n",
              "      <th>relation</th>\n",
              "      <th>s_num</th>\n",
              "      <th>sentence</th>\n",
              "    </tr>\n",
              "  </thead>\n",
              "  <tbody>\n",
              "    <tr>\n",
              "      <th>0</th>\n",
              "      <td>EBA1415_KNKC_1_CB_ES-05410</td>\n",
              "      <td>O</td>\n",
              "      <td>1.0</td>\n",
              "      <td>Coral and zooxanthellae depend an each other i...</td>\n",
              "    </tr>\n",
              "    <tr>\n",
              "      <th>1</th>\n",
              "      <td>EBA1415_KNKC_1_CB_ES-05410</td>\n",
              "      <td>R-7-50</td>\n",
              "      <td>2.0</td>\n",
              "      <td>If the coral dies, or gets bleached, then the ...</td>\n",
              "    </tr>\n",
              "    <tr>\n",
              "      <th>2</th>\n",
              "      <td>EBA1415_KNKC_1_CB_ES-05410</td>\n",
              "      <td>O</td>\n",
              "      <td>3.0</td>\n",
              "      <td>Or the other way around.</td>\n",
              "    </tr>\n",
              "    <tr>\n",
              "      <th>3</th>\n",
              "      <td>EBA1415_KNKC_1_CB_ES-05410</td>\n",
              "      <td>O</td>\n",
              "      <td>4.0</td>\n",
              "      <td>In the text Shifting Trade Winds, it talks abo...</td>\n",
              "    </tr>\n",
              "    <tr>\n",
              "      <th>4</th>\n",
              "      <td>EBA1415_KNKC_1_CB_ES-05410</td>\n",
              "      <td>R-3-1</td>\n",
              "      <td>5.0</td>\n",
              "      <td>And another source states how when the water t...</td>\n",
              "    </tr>\n",
              "    <tr>\n",
              "      <th>5</th>\n",
              "      <td>EBA1415_KNKC_1_CB_ES-05410</td>\n",
              "      <td>O</td>\n",
              "      <td>6.0</td>\n",
              "      <td>When trade winds weaken, sea levels rises inch...</td>\n",
              "    </tr>\n",
              "    <tr>\n",
              "      <th>6</th>\n",
              "      <td>EBA1415_KNKC_1_CB_ES-05410</td>\n",
              "      <td>O</td>\n",
              "      <td>7.0</td>\n",
              "      <td>Which is bad for coral and zooxanthellae becau...</td>\n",
              "    </tr>\n",
              "    <tr>\n",
              "      <th>7</th>\n",
              "      <td>EBA1415_KNKC_1_CB_ES-05410</td>\n",
              "      <td>O</td>\n",
              "      <td>8.0</td>\n",
              "      <td>If the zooxanthellae can't get a light source ...</td>\n",
              "    </tr>\n",
              "    <tr>\n",
              "      <th>8</th>\n",
              "      <td>EBA1415_KNKC_1_CB_ES-05410</td>\n",
              "      <td>R-5B-50</td>\n",
              "      <td>9.1</td>\n",
              "      <td>Which can affect the coral because if the zoox...</td>\n",
              "    </tr>\n",
              "    <tr>\n",
              "      <th>9</th>\n",
              "      <td>EBA1415_KNKC_1_CB_ES-05410</td>\n",
              "      <td>R-50-7</td>\n",
              "      <td>9.2</td>\n",
              "      <td>Which can affect the coral because if the zoox...</td>\n",
              "    </tr>\n",
              "  </tbody>\n",
              "</table>\n",
              "</div>"
            ],
            "text/plain": [
              "                        essay  ...                                           sentence\n",
              "0  EBA1415_KNKC_1_CB_ES-05410  ...  Coral and zooxanthellae depend an each other i...\n",
              "1  EBA1415_KNKC_1_CB_ES-05410  ...  If the coral dies, or gets bleached, then the ...\n",
              "2  EBA1415_KNKC_1_CB_ES-05410  ...                           Or the other way around.\n",
              "3  EBA1415_KNKC_1_CB_ES-05410  ...  In the text Shifting Trade Winds, it talks abo...\n",
              "4  EBA1415_KNKC_1_CB_ES-05410  ...  And another source states how when the water t...\n",
              "5  EBA1415_KNKC_1_CB_ES-05410  ...  When trade winds weaken, sea levels rises inch...\n",
              "6  EBA1415_KNKC_1_CB_ES-05410  ...  Which is bad for coral and zooxanthellae becau...\n",
              "7  EBA1415_KNKC_1_CB_ES-05410  ...  If the zooxanthellae can't get a light source ...\n",
              "8  EBA1415_KNKC_1_CB_ES-05410  ...  Which can affect the coral because if the zoox...\n",
              "9  EBA1415_KNKC_1_CB_ES-05410  ...  Which can affect the coral because if the zoox...\n",
              "\n",
              "[10 rows x 4 columns]"
            ]
          },
          "metadata": {
            "tags": []
          },
          "execution_count": 2
        }
      ]
    },
    {
      "cell_type": "markdown",
      "metadata": {
        "id": "zHshYuNpgq9o",
        "colab_type": "text"
      },
      "source": [
        "Must transform relation labels to ternary labels.\n"
      ]
    },
    {
      "cell_type": "code",
      "metadata": {
        "id": "JcYIL8FWgzJs",
        "colab_type": "code",
        "colab": {
          "base_uri": "https://localhost:8080/",
          "height": 34
        },
        "outputId": "f9827eb5-0026-4f6f-dda4-2bcc1a097b97"
      },
      "source": [
        "relations_pd = df.relation.copy(deep=True)\n",
        "\n",
        "relations = [\n",
        "                   \"1,2\", \"1,3\", \"1,4\", \"1,5\", \"1,5B\", \"1,14\", \"1,6\", \"1,7\", \"1,50\",\n",
        "                   \"2,3\", \"2,4\", \"2,5\", \"2,5B\", \"2,14\", \"2,6\", \"2,7\", \"2,50\",\n",
        "                   \"3,4\", \"3,5\", \"3,5B\", \"3,14\", \"3,6\", \"3,7\", \"3,50\",\n",
        "                   \"4,5\", \"4,5B\", \"4,14\", \"4,6\", \"4,7\", \"4,50\",\n",
        "                   \"5,5B\", \"5,14\", \"5,6\", \"5,7\", \"5,50\",\n",
        "                   \"5B,14\", \"5B,6\", \"5B,7\", \"5B,50\",\n",
        "                   \"11,12\", \"11,13\", \"11,14\", \"11,6\", \"11,7\", \"11,50\",\n",
        "                   \"12,13\", \"12,14\", \"12,6\", \"12,7\", \"12,50\",\n",
        "                   \"13,14\", \"13,6\", \"13,7\",\"13,50\",\n",
        "                   \"14,6\", \"14,7\", \"14,50\",\n",
        "                   \"6,7\", \"6,50\",\n",
        "                   \"7,50\"\n",
        "            ]\n",
        "\n",
        "print(\"{} unique relations\".format(len(relations)))\n",
        "\n",
        "for i, rel in relations_pd.items():\n",
        "  chain = rel.split(\"-\")\n",
        "\n",
        "  if chain[0] == \"O\":\n",
        "    relations_pd.at[i] = 0\n",
        "    continue\n",
        "  \n",
        "  chain = chain[1] + \",\" + chain[2]\n",
        "\n",
        "  if chain in relations:\n",
        "    relations_pd.at[i] = 1\n",
        "  else: \n",
        "    relations_pd.at[i] = 2"
      ],
      "execution_count": 3,
      "outputs": [
        {
          "output_type": "stream",
          "text": [
            "60 unique relations\n"
          ],
          "name": "stdout"
        }
      ]
    },
    {
      "cell_type": "code",
      "metadata": {
        "id": "ME4ZcO_Wt2Ij",
        "colab_type": "code",
        "colab": {
          "base_uri": "https://localhost:8080/",
          "height": 359
        },
        "outputId": "3dca52c8-02eb-4d2a-c656-0b65f679b8d1"
      },
      "source": [
        "df_ternary = df.copy(deep=True)\n",
        "df_ternary.relation = relations_pd\n",
        "df_ternary.head(10)"
      ],
      "execution_count": 4,
      "outputs": [
        {
          "output_type": "execute_result",
          "data": {
            "text/html": [
              "<div>\n",
              "<style scoped>\n",
              "    .dataframe tbody tr th:only-of-type {\n",
              "        vertical-align: middle;\n",
              "    }\n",
              "\n",
              "    .dataframe tbody tr th {\n",
              "        vertical-align: top;\n",
              "    }\n",
              "\n",
              "    .dataframe thead th {\n",
              "        text-align: right;\n",
              "    }\n",
              "</style>\n",
              "<table border=\"1\" class=\"dataframe\">\n",
              "  <thead>\n",
              "    <tr style=\"text-align: right;\">\n",
              "      <th></th>\n",
              "      <th>essay</th>\n",
              "      <th>relation</th>\n",
              "      <th>s_num</th>\n",
              "      <th>sentence</th>\n",
              "    </tr>\n",
              "  </thead>\n",
              "  <tbody>\n",
              "    <tr>\n",
              "      <th>0</th>\n",
              "      <td>EBA1415_KNKC_1_CB_ES-05410</td>\n",
              "      <td>0</td>\n",
              "      <td>1.0</td>\n",
              "      <td>Coral and zooxanthellae depend an each other i...</td>\n",
              "    </tr>\n",
              "    <tr>\n",
              "      <th>1</th>\n",
              "      <td>EBA1415_KNKC_1_CB_ES-05410</td>\n",
              "      <td>1</td>\n",
              "      <td>2.0</td>\n",
              "      <td>If the coral dies, or gets bleached, then the ...</td>\n",
              "    </tr>\n",
              "    <tr>\n",
              "      <th>2</th>\n",
              "      <td>EBA1415_KNKC_1_CB_ES-05410</td>\n",
              "      <td>0</td>\n",
              "      <td>3.0</td>\n",
              "      <td>Or the other way around.</td>\n",
              "    </tr>\n",
              "    <tr>\n",
              "      <th>3</th>\n",
              "      <td>EBA1415_KNKC_1_CB_ES-05410</td>\n",
              "      <td>0</td>\n",
              "      <td>4.0</td>\n",
              "      <td>In the text Shifting Trade Winds, it talks abo...</td>\n",
              "    </tr>\n",
              "    <tr>\n",
              "      <th>4</th>\n",
              "      <td>EBA1415_KNKC_1_CB_ES-05410</td>\n",
              "      <td>2</td>\n",
              "      <td>5.0</td>\n",
              "      <td>And another source states how when the water t...</td>\n",
              "    </tr>\n",
              "    <tr>\n",
              "      <th>5</th>\n",
              "      <td>EBA1415_KNKC_1_CB_ES-05410</td>\n",
              "      <td>0</td>\n",
              "      <td>6.0</td>\n",
              "      <td>When trade winds weaken, sea levels rises inch...</td>\n",
              "    </tr>\n",
              "    <tr>\n",
              "      <th>6</th>\n",
              "      <td>EBA1415_KNKC_1_CB_ES-05410</td>\n",
              "      <td>0</td>\n",
              "      <td>7.0</td>\n",
              "      <td>Which is bad for coral and zooxanthellae becau...</td>\n",
              "    </tr>\n",
              "    <tr>\n",
              "      <th>7</th>\n",
              "      <td>EBA1415_KNKC_1_CB_ES-05410</td>\n",
              "      <td>0</td>\n",
              "      <td>8.0</td>\n",
              "      <td>If the zooxanthellae can't get a light source ...</td>\n",
              "    </tr>\n",
              "    <tr>\n",
              "      <th>8</th>\n",
              "      <td>EBA1415_KNKC_1_CB_ES-05410</td>\n",
              "      <td>1</td>\n",
              "      <td>9.1</td>\n",
              "      <td>Which can affect the coral because if the zoox...</td>\n",
              "    </tr>\n",
              "    <tr>\n",
              "      <th>9</th>\n",
              "      <td>EBA1415_KNKC_1_CB_ES-05410</td>\n",
              "      <td>2</td>\n",
              "      <td>9.2</td>\n",
              "      <td>Which can affect the coral because if the zoox...</td>\n",
              "    </tr>\n",
              "  </tbody>\n",
              "</table>\n",
              "</div>"
            ],
            "text/plain": [
              "                        essay  ...                                           sentence\n",
              "0  EBA1415_KNKC_1_CB_ES-05410  ...  Coral and zooxanthellae depend an each other i...\n",
              "1  EBA1415_KNKC_1_CB_ES-05410  ...  If the coral dies, or gets bleached, then the ...\n",
              "2  EBA1415_KNKC_1_CB_ES-05410  ...                           Or the other way around.\n",
              "3  EBA1415_KNKC_1_CB_ES-05410  ...  In the text Shifting Trade Winds, it talks abo...\n",
              "4  EBA1415_KNKC_1_CB_ES-05410  ...  And another source states how when the water t...\n",
              "5  EBA1415_KNKC_1_CB_ES-05410  ...  When trade winds weaken, sea levels rises inch...\n",
              "6  EBA1415_KNKC_1_CB_ES-05410  ...  Which is bad for coral and zooxanthellae becau...\n",
              "7  EBA1415_KNKC_1_CB_ES-05410  ...  If the zooxanthellae can't get a light source ...\n",
              "8  EBA1415_KNKC_1_CB_ES-05410  ...  Which can affect the coral because if the zoox...\n",
              "9  EBA1415_KNKC_1_CB_ES-05410  ...  Which can affect the coral because if the zoox...\n",
              "\n",
              "[10 rows x 4 columns]"
            ]
          },
          "metadata": {
            "tags": []
          },
          "execution_count": 4
        }
      ]
    },
    {
      "cell_type": "markdown",
      "metadata": {
        "id": "eukpkXF6vdeT",
        "colab_type": "text"
      },
      "source": [
        "Next, we must address the issue that some sentences have multiple relations. This could be a problem if a sentence has one valid relation and one invalid one (the same sentence will have multiple labels). To correct this, we will remove the duplicate instances and define each sentence to be 1 if it contains *at least one* causal relation. Otherwise, it will be classified as -1 if it has at least one invalid causal relation, and -1 otherwise.\n",
        "\n",
        "The parse was provided by @TrentonMcKinney on StackOverflow:\n",
        "https://stackoverflow.com/questions/63697275/regex-string-for-different-versions/63697498#63697498"
      ]
    },
    {
      "cell_type": "code",
      "metadata": {
        "id": "xTpiRii5wNJs",
        "colab_type": "code",
        "colab": {
          "base_uri": "https://localhost:8080/",
          "height": 824
        },
        "outputId": "271465eb-f265-4531-9198-60c0924c6aa2"
      },
      "source": [
        "df_duplicate_sentences = df_ternary[df_ternary.s_num.astype(str).str.split('.', expand=True)[1] != '0']\n",
        "df_duplicate_sentences.head(25)"
      ],
      "execution_count": 5,
      "outputs": [
        {
          "output_type": "execute_result",
          "data": {
            "text/html": [
              "<div>\n",
              "<style scoped>\n",
              "    .dataframe tbody tr th:only-of-type {\n",
              "        vertical-align: middle;\n",
              "    }\n",
              "\n",
              "    .dataframe tbody tr th {\n",
              "        vertical-align: top;\n",
              "    }\n",
              "\n",
              "    .dataframe thead th {\n",
              "        text-align: right;\n",
              "    }\n",
              "</style>\n",
              "<table border=\"1\" class=\"dataframe\">\n",
              "  <thead>\n",
              "    <tr style=\"text-align: right;\">\n",
              "      <th></th>\n",
              "      <th>essay</th>\n",
              "      <th>relation</th>\n",
              "      <th>s_num</th>\n",
              "      <th>sentence</th>\n",
              "    </tr>\n",
              "  </thead>\n",
              "  <tbody>\n",
              "    <tr>\n",
              "      <th>8</th>\n",
              "      <td>EBA1415_KNKC_1_CB_ES-05410</td>\n",
              "      <td>1</td>\n",
              "      <td>9.1</td>\n",
              "      <td>Which can affect the coral because if the zoox...</td>\n",
              "    </tr>\n",
              "    <tr>\n",
              "      <th>9</th>\n",
              "      <td>EBA1415_KNKC_1_CB_ES-05410</td>\n",
              "      <td>2</td>\n",
              "      <td>9.2</td>\n",
              "      <td>Which can affect the coral because if the zoox...</td>\n",
              "    </tr>\n",
              "    <tr>\n",
              "      <th>23</th>\n",
              "      <td>EBA1415post_WSKT_1_CB_ES-05486</td>\n",
              "      <td>1</td>\n",
              "      <td>23.1</td>\n",
              "      <td>This is a problem because corals need co2 in o...</td>\n",
              "    </tr>\n",
              "    <tr>\n",
              "      <th>24</th>\n",
              "      <td>EBA1415post_WSKT_1_CB_ES-05486</td>\n",
              "      <td>1</td>\n",
              "      <td>23.2</td>\n",
              "      <td>This is a problem because corals need co2 in o...</td>\n",
              "    </tr>\n",
              "    <tr>\n",
              "      <th>35</th>\n",
              "      <td>EBA1415_KYNS_4_CB_ES-05388</td>\n",
              "      <td>0</td>\n",
              "      <td>34.1</td>\n",
              "      <td>In the text it states \"This is because</td>\n",
              "    </tr>\n",
              "    <tr>\n",
              "      <th>36</th>\n",
              "      <td>EBA1415_KYNS_4_CB_ES-05388</td>\n",
              "      <td>0</td>\n",
              "      <td>34.2</td>\n",
              "      <td>Ran out time //</td>\n",
              "    </tr>\n",
              "    <tr>\n",
              "      <th>38</th>\n",
              "      <td>EBA1415_KYLS_5_CB_ES-05647</td>\n",
              "      <td>1</td>\n",
              "      <td>36.1</td>\n",
              "      <td>The reason why coral reefs are 'bleach' becaus...</td>\n",
              "    </tr>\n",
              "    <tr>\n",
              "      <th>39</th>\n",
              "      <td>EBA1415_KYLS_5_CB_ES-05647</td>\n",
              "      <td>1</td>\n",
              "      <td>36.2</td>\n",
              "      <td>The reason why coral reefs are 'bleach' becaus...</td>\n",
              "    </tr>\n",
              "    <tr>\n",
              "      <th>44</th>\n",
              "      <td>EBA1415_KYLS_5_CB_ES-05647</td>\n",
              "      <td>1</td>\n",
              "      <td>41.1</td>\n",
              "      <td>The reasons is if the winds weaken where the P...</td>\n",
              "    </tr>\n",
              "    <tr>\n",
              "      <th>45</th>\n",
              "      <td>EBA1415_KYLS_5_CB_ES-05647</td>\n",
              "      <td>1</td>\n",
              "      <td>41.2</td>\n",
              "      <td>The reasons is if the winds weaken where the P...</td>\n",
              "    </tr>\n",
              "    <tr>\n",
              "      <th>64</th>\n",
              "      <td>EBA1415_TRJA_11_CB_ES-06108</td>\n",
              "      <td>1</td>\n",
              "      <td>60.1</td>\n",
              "      <td>Another thing that can lead to differences of ...</td>\n",
              "    </tr>\n",
              "    <tr>\n",
              "      <th>65</th>\n",
              "      <td>EBA1415_TRJA_11_CB_ES-06108</td>\n",
              "      <td>1</td>\n",
              "      <td>60.2</td>\n",
              "      <td>Another thing that can lead to differences of ...</td>\n",
              "    </tr>\n",
              "    <tr>\n",
              "      <th>66</th>\n",
              "      <td>EBA1415_TRJA_11_CB_ES-06108</td>\n",
              "      <td>1</td>\n",
              "      <td>61.1</td>\n",
              "      <td>The storms increase the amount of fresh water,...</td>\n",
              "    </tr>\n",
              "    <tr>\n",
              "      <th>67</th>\n",
              "      <td>EBA1415_TRJA_11_CB_ES-06108</td>\n",
              "      <td>1</td>\n",
              "      <td>61.2</td>\n",
              "      <td>The storms increase the amount of fresh water,...</td>\n",
              "    </tr>\n",
              "    <tr>\n",
              "      <th>74</th>\n",
              "      <td>EBA1415_TWDG_11_CB_ES-05698</td>\n",
              "      <td>1</td>\n",
              "      <td>68.1</td>\n",
              "      <td>I don't know exactly the differences in the ra...</td>\n",
              "    </tr>\n",
              "    <tr>\n",
              "      <th>75</th>\n",
              "      <td>EBA1415_TWDG_11_CB_ES-05698</td>\n",
              "      <td>1</td>\n",
              "      <td>68.2</td>\n",
              "      <td>I don't know exactly the differences in the ra...</td>\n",
              "    </tr>\n",
              "    <tr>\n",
              "      <th>85</th>\n",
              "      <td>EBA1415_SDMK_4_CB_ES-04768</td>\n",
              "      <td>1</td>\n",
              "      <td>78.1</td>\n",
              "      <td>Environmental stressors cause the coral to eje...</td>\n",
              "    </tr>\n",
              "    <tr>\n",
              "      <th>86</th>\n",
              "      <td>EBA1415_SDMK_4_CB_ES-04768</td>\n",
              "      <td>1</td>\n",
              "      <td>78.2</td>\n",
              "      <td>Environmental stressors cause the coral to eje...</td>\n",
              "    </tr>\n",
              "    <tr>\n",
              "      <th>91</th>\n",
              "      <td>EBA1415_SDMK_4_CB_ES-04768</td>\n",
              "      <td>1</td>\n",
              "      <td>83.1</td>\n",
              "      <td>It seems that when the trade winds push the co...</td>\n",
              "    </tr>\n",
              "    <tr>\n",
              "      <th>92</th>\n",
              "      <td>EBA1415_SDMK_4_CB_ES-04768</td>\n",
              "      <td>1</td>\n",
              "      <td>83.2</td>\n",
              "      <td>It seems that when the trade winds push the co...</td>\n",
              "    </tr>\n",
              "    <tr>\n",
              "      <th>108</th>\n",
              "      <td>EBA1415_SERS_1314_CB-05103</td>\n",
              "      <td>1</td>\n",
              "      <td>99.1</td>\n",
              "      <td>The reason why corals are bleached are due to ...</td>\n",
              "    </tr>\n",
              "    <tr>\n",
              "      <th>109</th>\n",
              "      <td>EBA1415_SERS_1314_CB-05103</td>\n",
              "      <td>1</td>\n",
              "      <td>99.2</td>\n",
              "      <td>The reason why corals are bleached are due to ...</td>\n",
              "    </tr>\n",
              "    <tr>\n",
              "      <th>110</th>\n",
              "      <td>EBA1415_SERS_1314_CB-05103</td>\n",
              "      <td>1</td>\n",
              "      <td>100.1</td>\n",
              "      <td>It forces the coral to eject their food-produc...</td>\n",
              "    </tr>\n",
              "    <tr>\n",
              "      <th>111</th>\n",
              "      <td>EBA1415_SERS_1314_CB-05103</td>\n",
              "      <td>1</td>\n",
              "      <td>100.2</td>\n",
              "      <td>It forces the coral to eject their food-produc...</td>\n",
              "    </tr>\n",
              "    <tr>\n",
              "      <th>113</th>\n",
              "      <td>EBA1415_TTKP_45_CB_ES-04921</td>\n",
              "      <td>1</td>\n",
              "      <td>102.1</td>\n",
              "      <td>They expel the algae living in their tissues, ...</td>\n",
              "    </tr>\n",
              "  </tbody>\n",
              "</table>\n",
              "</div>"
            ],
            "text/plain": [
              "                              essay  ...                                           sentence\n",
              "8        EBA1415_KNKC_1_CB_ES-05410  ...  Which can affect the coral because if the zoox...\n",
              "9        EBA1415_KNKC_1_CB_ES-05410  ...  Which can affect the coral because if the zoox...\n",
              "23   EBA1415post_WSKT_1_CB_ES-05486  ...  This is a problem because corals need co2 in o...\n",
              "24   EBA1415post_WSKT_1_CB_ES-05486  ...  This is a problem because corals need co2 in o...\n",
              "35       EBA1415_KYNS_4_CB_ES-05388  ...            In the text it states \"This is because \n",
              "36       EBA1415_KYNS_4_CB_ES-05388  ...                                    Ran out time //\n",
              "38       EBA1415_KYLS_5_CB_ES-05647  ...  The reason why coral reefs are 'bleach' becaus...\n",
              "39       EBA1415_KYLS_5_CB_ES-05647  ...  The reason why coral reefs are 'bleach' becaus...\n",
              "44       EBA1415_KYLS_5_CB_ES-05647  ...  The reasons is if the winds weaken where the P...\n",
              "45       EBA1415_KYLS_5_CB_ES-05647  ...  The reasons is if the winds weaken where the P...\n",
              "64      EBA1415_TRJA_11_CB_ES-06108  ...  Another thing that can lead to differences of ...\n",
              "65      EBA1415_TRJA_11_CB_ES-06108  ...  Another thing that can lead to differences of ...\n",
              "66      EBA1415_TRJA_11_CB_ES-06108  ...  The storms increase the amount of fresh water,...\n",
              "67      EBA1415_TRJA_11_CB_ES-06108  ...  The storms increase the amount of fresh water,...\n",
              "74      EBA1415_TWDG_11_CB_ES-05698  ...  I don't know exactly the differences in the ra...\n",
              "75      EBA1415_TWDG_11_CB_ES-05698  ...  I don't know exactly the differences in the ra...\n",
              "85       EBA1415_SDMK_4_CB_ES-04768  ...  Environmental stressors cause the coral to eje...\n",
              "86       EBA1415_SDMK_4_CB_ES-04768  ...  Environmental stressors cause the coral to eje...\n",
              "91       EBA1415_SDMK_4_CB_ES-04768  ...  It seems that when the trade winds push the co...\n",
              "92       EBA1415_SDMK_4_CB_ES-04768  ...  It seems that when the trade winds push the co...\n",
              "108      EBA1415_SERS_1314_CB-05103  ...  The reason why corals are bleached are due to ...\n",
              "109      EBA1415_SERS_1314_CB-05103  ...  The reason why corals are bleached are due to ...\n",
              "110      EBA1415_SERS_1314_CB-05103  ...  It forces the coral to eject their food-produc...\n",
              "111      EBA1415_SERS_1314_CB-05103  ...  It forces the coral to eject their food-produc...\n",
              "113     EBA1415_TTKP_45_CB_ES-04921  ...  They expel the algae living in their tissues, ...\n",
              "\n",
              "[25 rows x 4 columns]"
            ]
          },
          "metadata": {
            "tags": []
          },
          "execution_count": 5
        }
      ]
    },
    {
      "cell_type": "markdown",
      "metadata": {
        "id": "5T1KuyexCk6l",
        "colab_type": "text"
      },
      "source": [
        "Now that the duplicates are isolated, they need to be evaluated. If there is at least one relation, one copy of the sentence will be kept as true. If there are no relations, one copy will be kept as false."
      ]
    },
    {
      "cell_type": "code",
      "metadata": {
        "id": "7EVJKEEGCjy3",
        "colab_type": "code",
        "colab": {
          "base_uri": "https://localhost:8080/",
          "height": 929
        },
        "outputId": "e92ba0f2-05b5-48ae-b72f-b15ebea33114"
      },
      "source": [
        "import numpy as np\n",
        "\n",
        "current = -1\n",
        "\n",
        "same_arr_inds = []\n",
        "drop_list = []\n",
        "\n",
        "for i, row in df_duplicate_sentences.iterrows():\n",
        "  s_num = str(df_duplicate_sentences.loc[i].s_num)\n",
        "  first_num, second_num = s_num.split(\".\")\n",
        "\n",
        "  if first_num != current:\n",
        "    current = first_num\n",
        "\n",
        "    if len(same_arr_inds) > 1:\n",
        "\n",
        "      valid_flag = False\n",
        "      invalid_flag = False\n",
        "\n",
        "      for n in same_arr_inds:\n",
        "\n",
        "        if df_duplicate_sentences.loc[n].relation == 1:\n",
        "          valid_flag = True\n",
        "          break\n",
        "\n",
        "        if df_duplicate_sentences.loc[n].relation == -1:\n",
        "          invalid_flag = True \n",
        "\n",
        "      left = same_arr_inds[0]\n",
        "      right = same_arr_inds[1:]\n",
        "\n",
        "      if valid_flag == True:\n",
        "        df_duplicate_sentences.loc[left].relation = 1\n",
        "      elif invalid_flag == True:\n",
        "        df_duplicate_sentences.loc[left].relation = -1\n",
        "      else:\n",
        "        df_duplicate_sentences.loc[left].relation = 0\n",
        "\n",
        "      drop_list += right   \n",
        "\n",
        "    same_arr_inds = []\n",
        "  same_arr_inds.append(i)\n",
        "\n",
        "df_ternary.drop(drop_list, inplace=True)   \n",
        "\n",
        "df_ternary.head(25)"
      ],
      "execution_count": 6,
      "outputs": [
        {
          "output_type": "stream",
          "text": [
            "/usr/local/lib/python3.6/dist-packages/pandas/core/generic.py:5303: SettingWithCopyWarning: \n",
            "A value is trying to be set on a copy of a slice from a DataFrame\n",
            "\n",
            "See the caveats in the documentation: https://pandas.pydata.org/pandas-docs/stable/user_guide/indexing.html#returning-a-view-versus-a-copy\n",
            "  self[name] = value\n"
          ],
          "name": "stderr"
        },
        {
          "output_type": "execute_result",
          "data": {
            "text/html": [
              "<div>\n",
              "<style scoped>\n",
              "    .dataframe tbody tr th:only-of-type {\n",
              "        vertical-align: middle;\n",
              "    }\n",
              "\n",
              "    .dataframe tbody tr th {\n",
              "        vertical-align: top;\n",
              "    }\n",
              "\n",
              "    .dataframe thead th {\n",
              "        text-align: right;\n",
              "    }\n",
              "</style>\n",
              "<table border=\"1\" class=\"dataframe\">\n",
              "  <thead>\n",
              "    <tr style=\"text-align: right;\">\n",
              "      <th></th>\n",
              "      <th>essay</th>\n",
              "      <th>relation</th>\n",
              "      <th>s_num</th>\n",
              "      <th>sentence</th>\n",
              "    </tr>\n",
              "  </thead>\n",
              "  <tbody>\n",
              "    <tr>\n",
              "      <th>0</th>\n",
              "      <td>EBA1415_KNKC_1_CB_ES-05410</td>\n",
              "      <td>0</td>\n",
              "      <td>1.0</td>\n",
              "      <td>Coral and zooxanthellae depend an each other i...</td>\n",
              "    </tr>\n",
              "    <tr>\n",
              "      <th>1</th>\n",
              "      <td>EBA1415_KNKC_1_CB_ES-05410</td>\n",
              "      <td>1</td>\n",
              "      <td>2.0</td>\n",
              "      <td>If the coral dies, or gets bleached, then the ...</td>\n",
              "    </tr>\n",
              "    <tr>\n",
              "      <th>2</th>\n",
              "      <td>EBA1415_KNKC_1_CB_ES-05410</td>\n",
              "      <td>0</td>\n",
              "      <td>3.0</td>\n",
              "      <td>Or the other way around.</td>\n",
              "    </tr>\n",
              "    <tr>\n",
              "      <th>3</th>\n",
              "      <td>EBA1415_KNKC_1_CB_ES-05410</td>\n",
              "      <td>0</td>\n",
              "      <td>4.0</td>\n",
              "      <td>In the text Shifting Trade Winds, it talks abo...</td>\n",
              "    </tr>\n",
              "    <tr>\n",
              "      <th>4</th>\n",
              "      <td>EBA1415_KNKC_1_CB_ES-05410</td>\n",
              "      <td>2</td>\n",
              "      <td>5.0</td>\n",
              "      <td>And another source states how when the water t...</td>\n",
              "    </tr>\n",
              "    <tr>\n",
              "      <th>5</th>\n",
              "      <td>EBA1415_KNKC_1_CB_ES-05410</td>\n",
              "      <td>0</td>\n",
              "      <td>6.0</td>\n",
              "      <td>When trade winds weaken, sea levels rises inch...</td>\n",
              "    </tr>\n",
              "    <tr>\n",
              "      <th>6</th>\n",
              "      <td>EBA1415_KNKC_1_CB_ES-05410</td>\n",
              "      <td>0</td>\n",
              "      <td>7.0</td>\n",
              "      <td>Which is bad for coral and zooxanthellae becau...</td>\n",
              "    </tr>\n",
              "    <tr>\n",
              "      <th>7</th>\n",
              "      <td>EBA1415_KNKC_1_CB_ES-05410</td>\n",
              "      <td>0</td>\n",
              "      <td>8.0</td>\n",
              "      <td>If the zooxanthellae can't get a light source ...</td>\n",
              "    </tr>\n",
              "    <tr>\n",
              "      <th>8</th>\n",
              "      <td>EBA1415_KNKC_1_CB_ES-05410</td>\n",
              "      <td>1</td>\n",
              "      <td>9.1</td>\n",
              "      <td>Which can affect the coral because if the zoox...</td>\n",
              "    </tr>\n",
              "    <tr>\n",
              "      <th>10</th>\n",
              "      <td>EBA1415_KNKC_1_CB_ES-05410</td>\n",
              "      <td>1</td>\n",
              "      <td>10.0</td>\n",
              "      <td>So shifitng trade is what leads to the differe...</td>\n",
              "    </tr>\n",
              "    <tr>\n",
              "      <th>11</th>\n",
              "      <td>EBA1415post_WSKT_1_CB_ES-05486</td>\n",
              "      <td>0</td>\n",
              "      <td>11.0</td>\n",
              "      <td>Corals are invertebrate animals living togethe...</td>\n",
              "    </tr>\n",
              "    <tr>\n",
              "      <th>12</th>\n",
              "      <td>EBA1415post_WSKT_1_CB_ES-05486</td>\n",
              "      <td>0</td>\n",
              "      <td>12.0</td>\n",
              "      <td>Corals + polyps have a symbiotic relationship ...</td>\n",
              "    </tr>\n",
              "    <tr>\n",
              "      <th>13</th>\n",
              "      <td>EBA1415post_WSKT_1_CB_ES-05486</td>\n",
              "      <td>0</td>\n",
              "      <td>13.0</td>\n",
              "      <td>They give some food, from which they make from...</td>\n",
              "    </tr>\n",
              "    <tr>\n",
              "      <th>14</th>\n",
              "      <td>EBA1415post_WSKT_1_CB_ES-05486</td>\n",
              "      <td>0</td>\n",
              "      <td>14.0</td>\n",
              "      <td>They also give corals their color./</td>\n",
              "    </tr>\n",
              "    <tr>\n",
              "      <th>15</th>\n",
              "      <td>EBA1415post_WSKT_1_CB_ES-05486</td>\n",
              "      <td>0</td>\n",
              "      <td>15.0</td>\n",
              "      <td>However, corals have been substainining physic...</td>\n",
              "    </tr>\n",
              "    <tr>\n",
              "      <th>16</th>\n",
              "      <td>EBA1415post_WSKT_1_CB_ES-05486</td>\n",
              "      <td>0</td>\n",
              "      <td>16.0</td>\n",
              "      <td>To stay healthy a coral needs a constant tempe...</td>\n",
              "    </tr>\n",
              "    <tr>\n",
              "      <th>17</th>\n",
              "      <td>EBA1415post_WSKT_1_CB_ES-05486</td>\n",
              "      <td>0</td>\n",
              "      <td>17.0</td>\n",
              "      <td>A specific phyiscal that has been affecting co...</td>\n",
              "    </tr>\n",
              "    <tr>\n",
              "      <th>18</th>\n",
              "      <td>EBA1415post_WSKT_1_CB_ES-05486</td>\n",
              "      <td>0</td>\n",
              "      <td>18.0</td>\n",
              "      <td>Coral bleaching is a phenomenon in which coral...</td>\n",
              "    </tr>\n",
              "    <tr>\n",
              "      <th>19</th>\n",
              "      <td>EBA1415post_WSKT_1_CB_ES-05486</td>\n",
              "      <td>1</td>\n",
              "      <td>19.0</td>\n",
              "      <td>Coral bleaching can be led to by the rise of w...</td>\n",
              "    </tr>\n",
              "    <tr>\n",
              "      <th>20</th>\n",
              "      <td>EBA1415post_WSKT_1_CB_ES-05486</td>\n",
              "      <td>2</td>\n",
              "      <td>20.0</td>\n",
              "      <td>According to the graph \"Trade Winds + coral Bl...</td>\n",
              "    </tr>\n",
              "    <tr>\n",
              "      <th>21</th>\n",
              "      <td>EBA1415post_WSKT_1_CB_ES-05486</td>\n",
              "      <td>0</td>\n",
              "      <td>21.0</td>\n",
              "      <td>If the trade winds become weaker than that aff...</td>\n",
              "    </tr>\n",
              "    <tr>\n",
              "      <th>22</th>\n",
              "      <td>EBA1415post_WSKT_1_CB_ES-05486</td>\n",
              "      <td>1</td>\n",
              "      <td>22.0</td>\n",
              "      <td>When this occurs, it makes it harder for coral...</td>\n",
              "    </tr>\n",
              "    <tr>\n",
              "      <th>23</th>\n",
              "      <td>EBA1415post_WSKT_1_CB_ES-05486</td>\n",
              "      <td>1</td>\n",
              "      <td>23.1</td>\n",
              "      <td>This is a problem because corals need co2 in o...</td>\n",
              "    </tr>\n",
              "    <tr>\n",
              "      <th>25</th>\n",
              "      <td>EBA1415post_WSKT_1_CB_ES-05486</td>\n",
              "      <td>1</td>\n",
              "      <td>24.0</td>\n",
              "      <td>Corals recieve 50% to 95% of their energy from...</td>\n",
              "    </tr>\n",
              "    <tr>\n",
              "      <th>26</th>\n",
              "      <td>EBA1415_KYNS_4_CB_ES-05388</td>\n",
              "      <td>0</td>\n",
              "      <td>25.0</td>\n",
              "      <td>The differences between rates to coral bleachi...</td>\n",
              "    </tr>\n",
              "  </tbody>\n",
              "</table>\n",
              "</div>"
            ],
            "text/plain": [
              "                             essay  ...                                           sentence\n",
              "0       EBA1415_KNKC_1_CB_ES-05410  ...  Coral and zooxanthellae depend an each other i...\n",
              "1       EBA1415_KNKC_1_CB_ES-05410  ...  If the coral dies, or gets bleached, then the ...\n",
              "2       EBA1415_KNKC_1_CB_ES-05410  ...                           Or the other way around.\n",
              "3       EBA1415_KNKC_1_CB_ES-05410  ...  In the text Shifting Trade Winds, it talks abo...\n",
              "4       EBA1415_KNKC_1_CB_ES-05410  ...  And another source states how when the water t...\n",
              "5       EBA1415_KNKC_1_CB_ES-05410  ...  When trade winds weaken, sea levels rises inch...\n",
              "6       EBA1415_KNKC_1_CB_ES-05410  ...  Which is bad for coral and zooxanthellae becau...\n",
              "7       EBA1415_KNKC_1_CB_ES-05410  ...  If the zooxanthellae can't get a light source ...\n",
              "8       EBA1415_KNKC_1_CB_ES-05410  ...  Which can affect the coral because if the zoox...\n",
              "10      EBA1415_KNKC_1_CB_ES-05410  ...  So shifitng trade is what leads to the differe...\n",
              "11  EBA1415post_WSKT_1_CB_ES-05486  ...  Corals are invertebrate animals living togethe...\n",
              "12  EBA1415post_WSKT_1_CB_ES-05486  ...  Corals + polyps have a symbiotic relationship ...\n",
              "13  EBA1415post_WSKT_1_CB_ES-05486  ...  They give some food, from which they make from...\n",
              "14  EBA1415post_WSKT_1_CB_ES-05486  ...                They also give corals their color./\n",
              "15  EBA1415post_WSKT_1_CB_ES-05486  ...  However, corals have been substainining physic...\n",
              "16  EBA1415post_WSKT_1_CB_ES-05486  ...  To stay healthy a coral needs a constant tempe...\n",
              "17  EBA1415post_WSKT_1_CB_ES-05486  ...  A specific phyiscal that has been affecting co...\n",
              "18  EBA1415post_WSKT_1_CB_ES-05486  ...  Coral bleaching is a phenomenon in which coral...\n",
              "19  EBA1415post_WSKT_1_CB_ES-05486  ...  Coral bleaching can be led to by the rise of w...\n",
              "20  EBA1415post_WSKT_1_CB_ES-05486  ...  According to the graph \"Trade Winds + coral Bl...\n",
              "21  EBA1415post_WSKT_1_CB_ES-05486  ...  If the trade winds become weaker than that aff...\n",
              "22  EBA1415post_WSKT_1_CB_ES-05486  ...  When this occurs, it makes it harder for coral...\n",
              "23  EBA1415post_WSKT_1_CB_ES-05486  ...  This is a problem because corals need co2 in o...\n",
              "25  EBA1415post_WSKT_1_CB_ES-05486  ...  Corals recieve 50% to 95% of their energy from...\n",
              "26      EBA1415_KYNS_4_CB_ES-05388  ...  The differences between rates to coral bleachi...\n",
              "\n",
              "[25 rows x 4 columns]"
            ]
          },
          "metadata": {
            "tags": []
          },
          "execution_count": 6
        }
      ]
    },
    {
      "cell_type": "markdown",
      "metadata": {
        "id": "BYx1K7po088X",
        "colab_type": "text"
      },
      "source": [
        "Let's take a look at the class breakdown."
      ]
    },
    {
      "cell_type": "code",
      "metadata": {
        "id": "Bo5Zacna0_bF",
        "colab_type": "code",
        "colab": {
          "base_uri": "https://localhost:8080/",
          "height": 85
        },
        "outputId": "cb5a1c2c-0d8c-4702-ae76-16e27aac32ee"
      },
      "source": [
        "df_ternary[\"relation\"].value_counts()\n"
      ],
      "execution_count": 7,
      "outputs": [
        {
          "output_type": "execute_result",
          "data": {
            "text/plain": [
              "0    5550\n",
              "1    2352\n",
              "2      77\n",
              "Name: relation, dtype: int64"
            ]
          },
          "metadata": {
            "tags": []
          },
          "execution_count": 7
        }
      ]
    },
    {
      "cell_type": "markdown",
      "metadata": {
        "id": "NlaxtpXCJOsD",
        "colab_type": "text"
      },
      "source": [
        "Data is prepped and cleaned at this point. Next is implementation."
      ]
    },
    {
      "cell_type": "markdown",
      "metadata": {
        "id": "IcLd8RGsKMDp",
        "colab_type": "text"
      },
      "source": [
        "Make sure PyTorch is installed - will use with Hugging Face Transformers"
      ]
    },
    {
      "cell_type": "code",
      "metadata": {
        "id": "5F-hxvOQKEXU",
        "colab_type": "code",
        "colab": {
          "base_uri": "https://localhost:8080/",
          "height": 360
        },
        "outputId": "2a6e9c0b-ce2c-4d0e-f893-32ec28896b01"
      },
      "source": [
        "!pip install pytorch-pretrained-bert pytorch-nlp\n",
        "import torch"
      ],
      "execution_count": 8,
      "outputs": [
        {
          "output_type": "stream",
          "text": [
            "Requirement already satisfied: pytorch-pretrained-bert in /usr/local/lib/python3.6/dist-packages (0.6.2)\n",
            "Requirement already satisfied: pytorch-nlp in /usr/local/lib/python3.6/dist-packages (0.5.0)\n",
            "Requirement already satisfied: tqdm in /usr/local/lib/python3.6/dist-packages (from pytorch-pretrained-bert) (4.41.1)\n",
            "Requirement already satisfied: regex in /usr/local/lib/python3.6/dist-packages (from pytorch-pretrained-bert) (2019.12.20)\n",
            "Requirement already satisfied: torch>=0.4.1 in /usr/local/lib/python3.6/dist-packages (from pytorch-pretrained-bert) (1.6.0+cu101)\n",
            "Requirement already satisfied: requests in /usr/local/lib/python3.6/dist-packages (from pytorch-pretrained-bert) (2.23.0)\n",
            "Requirement already satisfied: boto3 in /usr/local/lib/python3.6/dist-packages (from pytorch-pretrained-bert) (1.14.63)\n",
            "Requirement already satisfied: numpy in /usr/local/lib/python3.6/dist-packages (from pytorch-pretrained-bert) (1.18.5)\n",
            "Requirement already satisfied: future in /usr/local/lib/python3.6/dist-packages (from torch>=0.4.1->pytorch-pretrained-bert) (0.16.0)\n",
            "Requirement already satisfied: urllib3!=1.25.0,!=1.25.1,<1.26,>=1.21.1 in /usr/local/lib/python3.6/dist-packages (from requests->pytorch-pretrained-bert) (1.24.3)\n",
            "Requirement already satisfied: chardet<4,>=3.0.2 in /usr/local/lib/python3.6/dist-packages (from requests->pytorch-pretrained-bert) (3.0.4)\n",
            "Requirement already satisfied: certifi>=2017.4.17 in /usr/local/lib/python3.6/dist-packages (from requests->pytorch-pretrained-bert) (2020.6.20)\n",
            "Requirement already satisfied: idna<3,>=2.5 in /usr/local/lib/python3.6/dist-packages (from requests->pytorch-pretrained-bert) (2.10)\n",
            "Requirement already satisfied: s3transfer<0.4.0,>=0.3.0 in /usr/local/lib/python3.6/dist-packages (from boto3->pytorch-pretrained-bert) (0.3.3)\n",
            "Requirement already satisfied: botocore<1.18.0,>=1.17.63 in /usr/local/lib/python3.6/dist-packages (from boto3->pytorch-pretrained-bert) (1.17.63)\n",
            "Requirement already satisfied: jmespath<1.0.0,>=0.7.1 in /usr/local/lib/python3.6/dist-packages (from boto3->pytorch-pretrained-bert) (0.10.0)\n",
            "Requirement already satisfied: docutils<0.16,>=0.10 in /usr/local/lib/python3.6/dist-packages (from botocore<1.18.0,>=1.17.63->boto3->pytorch-pretrained-bert) (0.15.2)\n",
            "Requirement already satisfied: python-dateutil<3.0.0,>=2.1 in /usr/local/lib/python3.6/dist-packages (from botocore<1.18.0,>=1.17.63->boto3->pytorch-pretrained-bert) (2.8.1)\n",
            "Requirement already satisfied: six>=1.5 in /usr/local/lib/python3.6/dist-packages (from python-dateutil<3.0.0,>=2.1->botocore<1.18.0,>=1.17.63->boto3->pytorch-pretrained-bert) (1.15.0)\n"
          ],
          "name": "stdout"
        }
      ]
    },
    {
      "cell_type": "markdown",
      "metadata": {
        "id": "B_1Hz8o0Kfxf",
        "colab_type": "text"
      },
      "source": [
        "Set up GPU."
      ]
    },
    {
      "cell_type": "code",
      "metadata": {
        "id": "jlm1ouSfB2SF",
        "colab_type": "code",
        "colab": {
          "base_uri": "https://localhost:8080/",
          "height": 69
        },
        "outputId": "3f1239cc-f512-40f3-a386-025ab4f3f719"
      },
      "source": [
        "# Colab currenly defaults to TensorFlow 1.15, but we need 2.0 or greater\n",
        "\n",
        "%tensorflow_version 2.x\n",
        "import tensorflow as tf\n",
        "print(tf.__version__)\n",
        "\n",
        "device_name = tf.test.gpu_device_name()\n",
        "if device_name != '/device:GPU:0':\n",
        "  raise SystemError('GPU device not found')\n",
        "print('Found GPU at: {}'.format(device_name))\n",
        "\n",
        "device = torch.device(\"cuda\" if torch.cuda.is_available() else \"cpu\")\n",
        "n_gpu = torch.cuda.device_count()\n",
        "torch.cuda.get_device_name(0)"
      ],
      "execution_count": 9,
      "outputs": [
        {
          "output_type": "stream",
          "text": [
            "2.3.0\n",
            "Found GPU at: /device:GPU:0\n"
          ],
          "name": "stdout"
        },
        {
          "output_type": "execute_result",
          "data": {
            "application/vnd.google.colaboratory.intrinsic+json": {
              "type": "string"
            },
            "text/plain": [
              "'Tesla V100-SXM2-16GB'"
            ]
          },
          "metadata": {
            "tags": []
          },
          "execution_count": 9
        }
      ]
    },
    {
      "cell_type": "markdown",
      "metadata": {
        "id": "URhQvinCK2Ql",
        "colab_type": "text"
      },
      "source": [
        "Extract sentences and labels from DataFrame. Must also add special [CLS] and [SEP] tokens for BERT."
      ]
    },
    {
      "cell_type": "code",
      "metadata": {
        "id": "zpdHxLWxK582",
        "colab_type": "code",
        "colab": {}
      },
      "source": [
        "sentences = df_ternary.sentence.values\n",
        "sentences = [\"[CLS] \" + sentence + \" [SEP]\" for sentence in sentences]\n",
        "\n",
        "labels = df_ternary.relation.values"
      ],
      "execution_count": 10,
      "outputs": []
    },
    {
      "cell_type": "markdown",
      "metadata": {
        "id": "tcOIwLrnNlX_",
        "colab_type": "text"
      },
      "source": [
        "Tokenize sentences for BERT."
      ]
    },
    {
      "cell_type": "code",
      "metadata": {
        "id": "OExIMOaGNmvn",
        "colab_type": "code",
        "colab": {
          "base_uri": "https://localhost:8080/",
          "height": 54
        },
        "outputId": "259afa9b-c0dd-4843-d7f3-9a5fe2a250a7"
      },
      "source": [
        "from pytorch_pretrained_bert import BertTokenizer\n",
        "\n",
        "tokenizer = BertTokenizer.from_pretrained('bert-base-uncased', do_lower_case=True)\n",
        "tokenized_texts = [tokenizer.tokenize(sent) for sent in sentences]\n",
        "print (\"First sentence tokenized: \",tokenized_texts[0])"
      ],
      "execution_count": 11,
      "outputs": [
        {
          "output_type": "stream",
          "text": [
            "First sentence tokenized:  ['[CLS]', 'coral', 'and', 'zoo', '##xa', '##nt', '##hell', '##ae', 'depend', 'an', 'each', 'other', 'in', 'order', 'to', 'live', '.', '[SEP]']\n"
          ],
          "name": "stdout"
        }
      ]
    },
    {
      "cell_type": "markdown",
      "metadata": {
        "id": "rnmI0gzNN3Vq",
        "colab_type": "text"
      },
      "source": [
        "For each tokenized input sentence, we need to create:\n",
        "\n",
        "1. input ids:\n",
        "    a sequence of integers identifying each input token to its index number \n",
        "    in the BERT tokenizer vocabulary\n",
        "\n",
        "2. segment mask: (optional) a sequence of 1s and 0s used to identify whether the input is one \n",
        "    sentence or two sentences long. For one sentence inputs, this is simply a sequence of 0s. \n",
        "    For two sentence inputs, there is a 0 for each token of the first sentence, followed by a \n",
        "    1 for each token of the second sentence\n",
        "\n",
        "3. attention mask: (optional) \n",
        "    a sequence of 1s and 0s, with 1s for all input tokens and 0s for all padding tokens \n",
        "\n",
        "4. labels: based on the labels from the data set\n",
        "\n",
        "Additionally, we will get rid of the sentences greater than MAX_LEN."
      ]
    },
    {
      "cell_type": "code",
      "metadata": {
        "id": "Ugn41x7EN4pR",
        "colab_type": "code",
        "colab": {
          "base_uri": "https://localhost:8080/",
          "height": 34
        },
        "outputId": "74bf7e57-3913-411a-bead-946c74a4aed5"
      },
      "source": [
        "MAX_LEN = 128\n",
        "\n",
        "original_length = len(tokenized_texts)\n",
        "\n",
        "labels = [labels[i] for i in range(len(tokenized_texts)) if len(tokenized_texts[i]) <= MAX_LEN]\n",
        "tokenized_texts = [tokenized_texts[i] for i in range(len(tokenized_texts)) if len(tokenized_texts[i]) <= MAX_LEN]\n",
        "print(\"Removed {0} sentences greater than {1}\".format(original_length - len(tokenized_texts),MAX_LEN))\n"
      ],
      "execution_count": 12,
      "outputs": [
        {
          "output_type": "stream",
          "text": [
            "Removed 10 sentences greater than 128\n"
          ],
          "name": "stdout"
        }
      ]
    },
    {
      "cell_type": "markdown",
      "metadata": {
        "id": "EHuInneMOJjZ",
        "colab_type": "text"
      },
      "source": [
        "Convert BERT tokens to corresponding ID numbers in BERT vocabulary.\n",
        "After conversion, pad the sequences."
      ]
    },
    {
      "cell_type": "code",
      "metadata": {
        "id": "GIAxr7uHONoj",
        "colab_type": "code",
        "colab": {}
      },
      "source": [
        "from keras.preprocessing.sequence import pad_sequences\n",
        "\n",
        "input_ids = [tokenizer.convert_tokens_to_ids(x) for x in tokenized_texts]\n",
        "input_ids = pad_sequences(input_ids, maxlen=MAX_LEN, dtype=\"long\", truncating=\"post\", padding=\"post\")"
      ],
      "execution_count": 13,
      "outputs": []
    },
    {
      "cell_type": "markdown",
      "metadata": {
        "id": "-3kqp7kuPSdu",
        "colab_type": "text"
      },
      "source": [
        "Create attention masks."
      ]
    },
    {
      "cell_type": "code",
      "metadata": {
        "id": "jQoscnkCPG3x",
        "colab_type": "code",
        "colab": {}
      },
      "source": [
        "attention_masks = []\n",
        "\n",
        "for seq in input_ids:\n",
        "  seq_mask = [float(i>0) for i in seq]\n",
        "  attention_masks.append(seq_mask)"
      ],
      "execution_count": 14,
      "outputs": []
    },
    {
      "cell_type": "markdown",
      "metadata": {
        "id": "1Pb-muSYO1Nv",
        "colab_type": "text"
      },
      "source": [
        "Split data into train, validation, test."
      ]
    },
    {
      "cell_type": "code",
      "metadata": {
        "id": "Hcbb-2F-O3Da",
        "colab_type": "code",
        "colab": {}
      },
      "source": [
        "from sklearn.model_selection import train_test_split\n",
        "\n",
        "train_inputs, validation_inputs, train_labels, validation_labels = train_test_split(input_ids, labels, \n",
        "                                                            random_state=2018, test_size=0.1)\n",
        "train_masks, validation_masks, _, _ = train_test_split(attention_masks, input_ids,\n",
        "                                             random_state=2018, test_size=0.1)"
      ],
      "execution_count": 15,
      "outputs": []
    },
    {
      "cell_type": "markdown",
      "metadata": {
        "id": "4joL_R9rPjNE",
        "colab_type": "text"
      },
      "source": [
        "Convert sets into Torch tensors."
      ]
    },
    {
      "cell_type": "code",
      "metadata": {
        "id": "Nl-2-b_oPlJ7",
        "colab_type": "code",
        "colab": {}
      },
      "source": [
        "train_inputs = torch.tensor(train_inputs)\n",
        "validation_inputs = torch.tensor(validation_inputs)\n",
        "train_labels = torch.tensor(train_labels)\n",
        "validation_labels = torch.tensor(validation_labels)\n",
        "train_masks = torch.tensor(train_masks)\n",
        "validation_masks = torch.tensor(validation_masks)"
      ],
      "execution_count": 16,
      "outputs": []
    },
    {
      "cell_type": "markdown",
      "metadata": {
        "id": "lxaO7WoRPqMq",
        "colab_type": "text"
      },
      "source": [
        "Create an iterator of our data with torch DataLoader. This helps save on memory during training because, unlike a for loop, \n",
        "the entire dataset does not need to be loaded into memory."
      ]
    },
    {
      "cell_type": "code",
      "metadata": {
        "id": "hBbQRbq-PxMt",
        "colab_type": "code",
        "colab": {}
      },
      "source": [
        "BATCH_SIZE = 32\n",
        "\n",
        "from torch.utils.data import TensorDataset, DataLoader, RandomSampler, SequentialSampler\n",
        "\n",
        "train_data = TensorDataset(train_inputs, train_masks, train_labels)\n",
        "train_sampler = RandomSampler(train_data)\n",
        "train_dataloader = DataLoader(train_data, sampler=train_sampler, batch_size=BATCH_SIZE)\n",
        "\n",
        "validation_data = TensorDataset(validation_inputs, validation_masks, validation_labels)\n",
        "validation_sampler = SequentialSampler(validation_data)\n",
        "validation_dataloader = DataLoader(validation_data, sampler=validation_sampler, batch_size=BATCH_SIZE)"
      ],
      "execution_count": 17,
      "outputs": []
    },
    {
      "cell_type": "markdown",
      "metadata": {
        "id": "Zyd5a3FmQqSb",
        "colab_type": "text"
      },
      "source": [
        "Create model."
      ]
    },
    {
      "cell_type": "code",
      "metadata": {
        "id": "T9tTfNw-Qpsa",
        "colab_type": "code",
        "colab": {
          "base_uri": "https://localhost:8080/",
          "height": 1000
        },
        "outputId": "7be0d4e7-7354-486d-9f62-e3522b06cca8"
      },
      "source": [
        "from pytorch_pretrained_bert import BertAdam, BertForSequenceClassification\n",
        "model = BertForSequenceClassification.from_pretrained(\"bert-base-uncased\", num_labels=len(labels))\n",
        "model.cuda()"
      ],
      "execution_count": 18,
      "outputs": [
        {
          "output_type": "execute_result",
          "data": {
            "text/plain": [
              "BertForSequenceClassification(\n",
              "  (bert): BertModel(\n",
              "    (embeddings): BertEmbeddings(\n",
              "      (word_embeddings): Embedding(30522, 768, padding_idx=0)\n",
              "      (position_embeddings): Embedding(512, 768)\n",
              "      (token_type_embeddings): Embedding(2, 768)\n",
              "      (LayerNorm): BertLayerNorm()\n",
              "      (dropout): Dropout(p=0.1, inplace=False)\n",
              "    )\n",
              "    (encoder): BertEncoder(\n",
              "      (layer): ModuleList(\n",
              "        (0): BertLayer(\n",
              "          (attention): BertAttention(\n",
              "            (self): BertSelfAttention(\n",
              "              (query): Linear(in_features=768, out_features=768, bias=True)\n",
              "              (key): Linear(in_features=768, out_features=768, bias=True)\n",
              "              (value): Linear(in_features=768, out_features=768, bias=True)\n",
              "              (dropout): Dropout(p=0.1, inplace=False)\n",
              "            )\n",
              "            (output): BertSelfOutput(\n",
              "              (dense): Linear(in_features=768, out_features=768, bias=True)\n",
              "              (LayerNorm): BertLayerNorm()\n",
              "              (dropout): Dropout(p=0.1, inplace=False)\n",
              "            )\n",
              "          )\n",
              "          (intermediate): BertIntermediate(\n",
              "            (dense): Linear(in_features=768, out_features=3072, bias=True)\n",
              "          )\n",
              "          (output): BertOutput(\n",
              "            (dense): Linear(in_features=3072, out_features=768, bias=True)\n",
              "            (LayerNorm): BertLayerNorm()\n",
              "            (dropout): Dropout(p=0.1, inplace=False)\n",
              "          )\n",
              "        )\n",
              "        (1): BertLayer(\n",
              "          (attention): BertAttention(\n",
              "            (self): BertSelfAttention(\n",
              "              (query): Linear(in_features=768, out_features=768, bias=True)\n",
              "              (key): Linear(in_features=768, out_features=768, bias=True)\n",
              "              (value): Linear(in_features=768, out_features=768, bias=True)\n",
              "              (dropout): Dropout(p=0.1, inplace=False)\n",
              "            )\n",
              "            (output): BertSelfOutput(\n",
              "              (dense): Linear(in_features=768, out_features=768, bias=True)\n",
              "              (LayerNorm): BertLayerNorm()\n",
              "              (dropout): Dropout(p=0.1, inplace=False)\n",
              "            )\n",
              "          )\n",
              "          (intermediate): BertIntermediate(\n",
              "            (dense): Linear(in_features=768, out_features=3072, bias=True)\n",
              "          )\n",
              "          (output): BertOutput(\n",
              "            (dense): Linear(in_features=3072, out_features=768, bias=True)\n",
              "            (LayerNorm): BertLayerNorm()\n",
              "            (dropout): Dropout(p=0.1, inplace=False)\n",
              "          )\n",
              "        )\n",
              "        (2): BertLayer(\n",
              "          (attention): BertAttention(\n",
              "            (self): BertSelfAttention(\n",
              "              (query): Linear(in_features=768, out_features=768, bias=True)\n",
              "              (key): Linear(in_features=768, out_features=768, bias=True)\n",
              "              (value): Linear(in_features=768, out_features=768, bias=True)\n",
              "              (dropout): Dropout(p=0.1, inplace=False)\n",
              "            )\n",
              "            (output): BertSelfOutput(\n",
              "              (dense): Linear(in_features=768, out_features=768, bias=True)\n",
              "              (LayerNorm): BertLayerNorm()\n",
              "              (dropout): Dropout(p=0.1, inplace=False)\n",
              "            )\n",
              "          )\n",
              "          (intermediate): BertIntermediate(\n",
              "            (dense): Linear(in_features=768, out_features=3072, bias=True)\n",
              "          )\n",
              "          (output): BertOutput(\n",
              "            (dense): Linear(in_features=3072, out_features=768, bias=True)\n",
              "            (LayerNorm): BertLayerNorm()\n",
              "            (dropout): Dropout(p=0.1, inplace=False)\n",
              "          )\n",
              "        )\n",
              "        (3): BertLayer(\n",
              "          (attention): BertAttention(\n",
              "            (self): BertSelfAttention(\n",
              "              (query): Linear(in_features=768, out_features=768, bias=True)\n",
              "              (key): Linear(in_features=768, out_features=768, bias=True)\n",
              "              (value): Linear(in_features=768, out_features=768, bias=True)\n",
              "              (dropout): Dropout(p=0.1, inplace=False)\n",
              "            )\n",
              "            (output): BertSelfOutput(\n",
              "              (dense): Linear(in_features=768, out_features=768, bias=True)\n",
              "              (LayerNorm): BertLayerNorm()\n",
              "              (dropout): Dropout(p=0.1, inplace=False)\n",
              "            )\n",
              "          )\n",
              "          (intermediate): BertIntermediate(\n",
              "            (dense): Linear(in_features=768, out_features=3072, bias=True)\n",
              "          )\n",
              "          (output): BertOutput(\n",
              "            (dense): Linear(in_features=3072, out_features=768, bias=True)\n",
              "            (LayerNorm): BertLayerNorm()\n",
              "            (dropout): Dropout(p=0.1, inplace=False)\n",
              "          )\n",
              "        )\n",
              "        (4): BertLayer(\n",
              "          (attention): BertAttention(\n",
              "            (self): BertSelfAttention(\n",
              "              (query): Linear(in_features=768, out_features=768, bias=True)\n",
              "              (key): Linear(in_features=768, out_features=768, bias=True)\n",
              "              (value): Linear(in_features=768, out_features=768, bias=True)\n",
              "              (dropout): Dropout(p=0.1, inplace=False)\n",
              "            )\n",
              "            (output): BertSelfOutput(\n",
              "              (dense): Linear(in_features=768, out_features=768, bias=True)\n",
              "              (LayerNorm): BertLayerNorm()\n",
              "              (dropout): Dropout(p=0.1, inplace=False)\n",
              "            )\n",
              "          )\n",
              "          (intermediate): BertIntermediate(\n",
              "            (dense): Linear(in_features=768, out_features=3072, bias=True)\n",
              "          )\n",
              "          (output): BertOutput(\n",
              "            (dense): Linear(in_features=3072, out_features=768, bias=True)\n",
              "            (LayerNorm): BertLayerNorm()\n",
              "            (dropout): Dropout(p=0.1, inplace=False)\n",
              "          )\n",
              "        )\n",
              "        (5): BertLayer(\n",
              "          (attention): BertAttention(\n",
              "            (self): BertSelfAttention(\n",
              "              (query): Linear(in_features=768, out_features=768, bias=True)\n",
              "              (key): Linear(in_features=768, out_features=768, bias=True)\n",
              "              (value): Linear(in_features=768, out_features=768, bias=True)\n",
              "              (dropout): Dropout(p=0.1, inplace=False)\n",
              "            )\n",
              "            (output): BertSelfOutput(\n",
              "              (dense): Linear(in_features=768, out_features=768, bias=True)\n",
              "              (LayerNorm): BertLayerNorm()\n",
              "              (dropout): Dropout(p=0.1, inplace=False)\n",
              "            )\n",
              "          )\n",
              "          (intermediate): BertIntermediate(\n",
              "            (dense): Linear(in_features=768, out_features=3072, bias=True)\n",
              "          )\n",
              "          (output): BertOutput(\n",
              "            (dense): Linear(in_features=3072, out_features=768, bias=True)\n",
              "            (LayerNorm): BertLayerNorm()\n",
              "            (dropout): Dropout(p=0.1, inplace=False)\n",
              "          )\n",
              "        )\n",
              "        (6): BertLayer(\n",
              "          (attention): BertAttention(\n",
              "            (self): BertSelfAttention(\n",
              "              (query): Linear(in_features=768, out_features=768, bias=True)\n",
              "              (key): Linear(in_features=768, out_features=768, bias=True)\n",
              "              (value): Linear(in_features=768, out_features=768, bias=True)\n",
              "              (dropout): Dropout(p=0.1, inplace=False)\n",
              "            )\n",
              "            (output): BertSelfOutput(\n",
              "              (dense): Linear(in_features=768, out_features=768, bias=True)\n",
              "              (LayerNorm): BertLayerNorm()\n",
              "              (dropout): Dropout(p=0.1, inplace=False)\n",
              "            )\n",
              "          )\n",
              "          (intermediate): BertIntermediate(\n",
              "            (dense): Linear(in_features=768, out_features=3072, bias=True)\n",
              "          )\n",
              "          (output): BertOutput(\n",
              "            (dense): Linear(in_features=3072, out_features=768, bias=True)\n",
              "            (LayerNorm): BertLayerNorm()\n",
              "            (dropout): Dropout(p=0.1, inplace=False)\n",
              "          )\n",
              "        )\n",
              "        (7): BertLayer(\n",
              "          (attention): BertAttention(\n",
              "            (self): BertSelfAttention(\n",
              "              (query): Linear(in_features=768, out_features=768, bias=True)\n",
              "              (key): Linear(in_features=768, out_features=768, bias=True)\n",
              "              (value): Linear(in_features=768, out_features=768, bias=True)\n",
              "              (dropout): Dropout(p=0.1, inplace=False)\n",
              "            )\n",
              "            (output): BertSelfOutput(\n",
              "              (dense): Linear(in_features=768, out_features=768, bias=True)\n",
              "              (LayerNorm): BertLayerNorm()\n",
              "              (dropout): Dropout(p=0.1, inplace=False)\n",
              "            )\n",
              "          )\n",
              "          (intermediate): BertIntermediate(\n",
              "            (dense): Linear(in_features=768, out_features=3072, bias=True)\n",
              "          )\n",
              "          (output): BertOutput(\n",
              "            (dense): Linear(in_features=3072, out_features=768, bias=True)\n",
              "            (LayerNorm): BertLayerNorm()\n",
              "            (dropout): Dropout(p=0.1, inplace=False)\n",
              "          )\n",
              "        )\n",
              "        (8): BertLayer(\n",
              "          (attention): BertAttention(\n",
              "            (self): BertSelfAttention(\n",
              "              (query): Linear(in_features=768, out_features=768, bias=True)\n",
              "              (key): Linear(in_features=768, out_features=768, bias=True)\n",
              "              (value): Linear(in_features=768, out_features=768, bias=True)\n",
              "              (dropout): Dropout(p=0.1, inplace=False)\n",
              "            )\n",
              "            (output): BertSelfOutput(\n",
              "              (dense): Linear(in_features=768, out_features=768, bias=True)\n",
              "              (LayerNorm): BertLayerNorm()\n",
              "              (dropout): Dropout(p=0.1, inplace=False)\n",
              "            )\n",
              "          )\n",
              "          (intermediate): BertIntermediate(\n",
              "            (dense): Linear(in_features=768, out_features=3072, bias=True)\n",
              "          )\n",
              "          (output): BertOutput(\n",
              "            (dense): Linear(in_features=3072, out_features=768, bias=True)\n",
              "            (LayerNorm): BertLayerNorm()\n",
              "            (dropout): Dropout(p=0.1, inplace=False)\n",
              "          )\n",
              "        )\n",
              "        (9): BertLayer(\n",
              "          (attention): BertAttention(\n",
              "            (self): BertSelfAttention(\n",
              "              (query): Linear(in_features=768, out_features=768, bias=True)\n",
              "              (key): Linear(in_features=768, out_features=768, bias=True)\n",
              "              (value): Linear(in_features=768, out_features=768, bias=True)\n",
              "              (dropout): Dropout(p=0.1, inplace=False)\n",
              "            )\n",
              "            (output): BertSelfOutput(\n",
              "              (dense): Linear(in_features=768, out_features=768, bias=True)\n",
              "              (LayerNorm): BertLayerNorm()\n",
              "              (dropout): Dropout(p=0.1, inplace=False)\n",
              "            )\n",
              "          )\n",
              "          (intermediate): BertIntermediate(\n",
              "            (dense): Linear(in_features=768, out_features=3072, bias=True)\n",
              "          )\n",
              "          (output): BertOutput(\n",
              "            (dense): Linear(in_features=3072, out_features=768, bias=True)\n",
              "            (LayerNorm): BertLayerNorm()\n",
              "            (dropout): Dropout(p=0.1, inplace=False)\n",
              "          )\n",
              "        )\n",
              "        (10): BertLayer(\n",
              "          (attention): BertAttention(\n",
              "            (self): BertSelfAttention(\n",
              "              (query): Linear(in_features=768, out_features=768, bias=True)\n",
              "              (key): Linear(in_features=768, out_features=768, bias=True)\n",
              "              (value): Linear(in_features=768, out_features=768, bias=True)\n",
              "              (dropout): Dropout(p=0.1, inplace=False)\n",
              "            )\n",
              "            (output): BertSelfOutput(\n",
              "              (dense): Linear(in_features=768, out_features=768, bias=True)\n",
              "              (LayerNorm): BertLayerNorm()\n",
              "              (dropout): Dropout(p=0.1, inplace=False)\n",
              "            )\n",
              "          )\n",
              "          (intermediate): BertIntermediate(\n",
              "            (dense): Linear(in_features=768, out_features=3072, bias=True)\n",
              "          )\n",
              "          (output): BertOutput(\n",
              "            (dense): Linear(in_features=3072, out_features=768, bias=True)\n",
              "            (LayerNorm): BertLayerNorm()\n",
              "            (dropout): Dropout(p=0.1, inplace=False)\n",
              "          )\n",
              "        )\n",
              "        (11): BertLayer(\n",
              "          (attention): BertAttention(\n",
              "            (self): BertSelfAttention(\n",
              "              (query): Linear(in_features=768, out_features=768, bias=True)\n",
              "              (key): Linear(in_features=768, out_features=768, bias=True)\n",
              "              (value): Linear(in_features=768, out_features=768, bias=True)\n",
              "              (dropout): Dropout(p=0.1, inplace=False)\n",
              "            )\n",
              "            (output): BertSelfOutput(\n",
              "              (dense): Linear(in_features=768, out_features=768, bias=True)\n",
              "              (LayerNorm): BertLayerNorm()\n",
              "              (dropout): Dropout(p=0.1, inplace=False)\n",
              "            )\n",
              "          )\n",
              "          (intermediate): BertIntermediate(\n",
              "            (dense): Linear(in_features=768, out_features=3072, bias=True)\n",
              "          )\n",
              "          (output): BertOutput(\n",
              "            (dense): Linear(in_features=3072, out_features=768, bias=True)\n",
              "            (LayerNorm): BertLayerNorm()\n",
              "            (dropout): Dropout(p=0.1, inplace=False)\n",
              "          )\n",
              "        )\n",
              "      )\n",
              "    )\n",
              "    (pooler): BertPooler(\n",
              "      (dense): Linear(in_features=768, out_features=768, bias=True)\n",
              "      (activation): Tanh()\n",
              "    )\n",
              "  )\n",
              "  (dropout): Dropout(p=0.1, inplace=False)\n",
              "  (classifier): Linear(in_features=768, out_features=7969, bias=True)\n",
              ")"
            ]
          },
          "metadata": {
            "tags": []
          },
          "execution_count": 18
        }
      ]
    },
    {
      "cell_type": "markdown",
      "metadata": {
        "id": "4vGJNoJ9Rfqd",
        "colab_type": "text"
      },
      "source": [
        "Now that we have our model loaded we need to grab the training hyperparameters from within the stored model.\n",
        "\n",
        "For the purposes of fine-tuning, the authors recommend the following hyperparameter ranges:\n",
        "\n",
        "*   Batch size: 16, 32\n",
        "*    Learning rate (Adam): 5e-5, 3e-5, 2e-5\n",
        "*    Number of epochs: 2, 3, 4"
      ]
    },
    {
      "cell_type": "code",
      "metadata": {
        "id": "KgwH7ustRiOI",
        "colab_type": "code",
        "colab": {
          "base_uri": "https://localhost:8080/",
          "height": 34
        },
        "outputId": "d444be47-145f-49a4-a16f-21bd105d84e9"
      },
      "source": [
        "LEARNING_RATE = 2e-5\n",
        "WARMUP = .1\n",
        "\n",
        "param_optimizer = list(model.named_parameters())\n",
        "no_decay = ['bias', 'gamma', 'beta']\n",
        "optimizer_grouped_parameters = [\n",
        "    {'params': [p for n, p in param_optimizer if not any(nd in n for nd in no_decay)],\n",
        "     'weight_decay_rate': 0.01},\n",
        "    {'params': [p for n, p in param_optimizer if any(nd in n for nd in no_decay)],\n",
        "     'weight_decay_rate': 0.0}\n",
        "]\n",
        "\n",
        "optimizer = BertAdam(optimizer_grouped_parameters,\n",
        "                     lr=LEARNING_RATE,\n",
        "                     warmup=WARMUP)"
      ],
      "execution_count": 19,
      "outputs": [
        {
          "output_type": "stream",
          "text": [
            "t_total value of -1 results in schedule not being applied\n"
          ],
          "name": "stderr"
        }
      ]
    },
    {
      "cell_type": "markdown",
      "metadata": {
        "id": "i5259TkfSK9s",
        "colab_type": "text"
      },
      "source": [
        "Time for training."
      ]
    },
    {
      "cell_type": "code",
      "metadata": {
        "id": "HwfUmMUFSMTk",
        "colab_type": "code",
        "colab": {
          "base_uri": "https://localhost:8080/",
          "height": 275
        },
        "outputId": "5db49dec-9d76-438e-bbf6-e53f444fccdf"
      },
      "source": [
        "from tqdm import trange\n",
        "\n",
        "EPOCHS = 4\n",
        "\n",
        "t = [] \n",
        "\n",
        "# Store our loss and accuracy for plotting\n",
        "train_loss_set = []\n",
        "\n",
        "# Function to calculate the accuracy of our predictions vs labels\n",
        "def flat_accuracy(preds, labels):\n",
        "    pred_flat = np.argmax(preds, axis=1).flatten()\n",
        "    labels_flat = labels.flatten()\n",
        "    return np.sum(pred_flat == labels_flat) / len(labels_flat)\n",
        "\n",
        "# trange is a tqdm wrapper around the normal python range\n",
        "for _ in trange(EPOCHS, desc=\"Epoch\"):\n",
        "  \n",
        "  # Training\n",
        "  \n",
        "  # Set our model to training mode (as opposed to evaluation mode)\n",
        "  model.train()\n",
        "  \n",
        "  # Tracking variables\n",
        "  tr_loss = 0\n",
        "  nb_tr_examples, nb_tr_steps = 0, 0\n",
        "  \n",
        "  # Train the data for one epoch\n",
        "  for step, batch in enumerate(train_dataloader):\n",
        "    # Add batch to GPU\n",
        "    batch = tuple(t.to(device) for t in batch)\n",
        "    # Unpack the inputs from our dataloader\n",
        "    b_input_ids, b_input_mask, b_labels = batch\n",
        "    # Clear out the gradients (by default they accumulate)\n",
        "    optimizer.zero_grad()\n",
        "    # Forward pass\n",
        "    loss = model(b_input_ids, token_type_ids=None, attention_mask=b_input_mask, labels=b_labels)\n",
        "    train_loss_set.append(loss.item())    \n",
        "    # Backward pass\n",
        "    loss.backward()\n",
        "    # Update parameters and take a step using the computed gradient\n",
        "    optimizer.step()\n",
        "    \n",
        "    # Update tracking variables\n",
        "    tr_loss += loss.item()\n",
        "    nb_tr_examples += b_input_ids.size(0)\n",
        "    nb_tr_steps += 1\n",
        "\n",
        "  print(\"Train loss: {}\".format(tr_loss/nb_tr_steps))\n",
        "    \n",
        "    \n",
        "  # Validation\n",
        "\n",
        "  # Put model in evaluation mode to evaluate loss on the validation set\n",
        "  model.eval()\n",
        "\n",
        "  # Tracking variables \n",
        "  eval_loss, eval_accuracy = 0, 0\n",
        "  nb_eval_steps, nb_eval_examples = 0, 0\n",
        "\n",
        "  # Evaluate data for one epoch\n",
        "  for batch in validation_dataloader:\n",
        "    # Add batch to GPU\n",
        "    batch = tuple(t.to(device) for t in batch)\n",
        "    # Unpack the inputs from our dataloader\n",
        "    b_input_ids, b_input_mask, b_labels = batch\n",
        "    # Telling the model not to compute or store gradients, saving memory and speeding up validation\n",
        "    with torch.no_grad():\n",
        "      # Forward pass, calculate logit predictions\n",
        "      logits = model(b_input_ids, token_type_ids=None, attention_mask=b_input_mask)\n",
        "    \n",
        "    # Move logits and labels to CPU\n",
        "    logits = logits.detach().cpu().numpy()\n",
        "    label_ids = b_labels.to('cpu').numpy()\n",
        "\n",
        "    tmp_eval_accuracy = flat_accuracy(logits, label_ids)\n",
        "    \n",
        "    eval_accuracy += tmp_eval_accuracy\n",
        "    nb_eval_steps += 1\n",
        "\n",
        "  print(\"Validation Accuracy: {}\".format(eval_accuracy/nb_eval_steps))"
      ],
      "execution_count": 20,
      "outputs": [
        {
          "output_type": "stream",
          "text": [
            "\rEpoch:   0%|          | 0/4 [00:00<?, ?it/s]/usr/local/lib/python3.6/dist-packages/pytorch_pretrained_bert/optimization.py:275: UserWarning: This overload of add_ is deprecated:\n",
            "\tadd_(Number alpha, Tensor other)\n",
            "Consider using one of the following signatures instead:\n",
            "\tadd_(Tensor other, *, Number alpha) (Triggered internally at  /pytorch/torch/csrc/utils/python_arg_parser.cpp:766.)\n",
            "  next_m.mul_(beta1).add_(1 - beta1, grad)\n"
          ],
          "name": "stderr"
        },
        {
          "output_type": "stream",
          "text": [
            "Train loss: 1.0233097870813477\n"
          ],
          "name": "stdout"
        },
        {
          "output_type": "stream",
          "text": [
            "\rEpoch:  25%|██▌       | 1/4 [01:14<03:43, 74.34s/it]"
          ],
          "name": "stderr"
        },
        {
          "output_type": "stream",
          "text": [
            "Validation Accuracy: 0.8882327586206897\n",
            "Train loss: 0.2616100902027554\n"
          ],
          "name": "stdout"
        },
        {
          "output_type": "stream",
          "text": [
            "\rEpoch:  50%|█████     | 2/4 [02:28<02:28, 74.29s/it]"
          ],
          "name": "stderr"
        },
        {
          "output_type": "stream",
          "text": [
            "Validation Accuracy: 0.8882327586206897\n",
            "Train loss: 0.17255789163625904\n"
          ],
          "name": "stdout"
        },
        {
          "output_type": "stream",
          "text": [
            "\rEpoch:  75%|███████▌  | 3/4 [03:42<01:14, 74.26s/it]"
          ],
          "name": "stderr"
        },
        {
          "output_type": "stream",
          "text": [
            "Validation Accuracy: 0.879353448275862\n",
            "Train loss: 0.11885095935728815\n"
          ],
          "name": "stdout"
        },
        {
          "output_type": "stream",
          "text": [
            "Epoch: 100%|██████████| 4/4 [04:56<00:00, 74.19s/it]"
          ],
          "name": "stderr"
        },
        {
          "output_type": "stream",
          "text": [
            "Validation Accuracy: 0.8707327586206897\n"
          ],
          "name": "stdout"
        },
        {
          "output_type": "stream",
          "text": [
            "\n"
          ],
          "name": "stderr"
        }
      ]
    },
    {
      "cell_type": "markdown",
      "metadata": {
        "id": "3QibYE0QZny6",
        "colab_type": "text"
      },
      "source": [
        "Snapshot of loss over time."
      ]
    },
    {
      "cell_type": "code",
      "metadata": {
        "id": "JCTp25qbZr5q",
        "colab_type": "code",
        "colab": {
          "base_uri": "https://localhost:8080/",
          "height": 513
        },
        "outputId": "01467647-5c44-40e0-be41-8b194427d922"
      },
      "source": [
        "import matplotlib.pyplot as plt\n",
        "% matplotlib inline\n",
        "\n",
        "plt.figure(figsize=(15,8))\n",
        "plt.title(\"Training loss\")\n",
        "plt.xlabel(\"Batch\")\n",
        "plt.ylabel(\"Loss\")\n",
        "plt.plot(train_loss_set)\n",
        "plt.show()"
      ],
      "execution_count": 21,
      "outputs": [
        {
          "output_type": "display_data",
          "data": {
            "image/png": "[encoded data removed]",
            "text/plain": [
              "<Figure size 1080x576 with 1 Axes>"
            ]
          },
          "metadata": {
            "tags": [],
            "needs_background": "light"
          }
        }
      ]
    },
    {
      "cell_type": "markdown",
      "metadata": {
        "id": "Pmpb0zgKES4e",
        "colab_type": "text"
      },
      "source": [
        "Test model on testing data."
      ]
    },
    {
      "cell_type": "code",
      "metadata": {
        "id": "f7QLVJUaEXbM",
        "colab_type": "code",
        "colab": {
          "base_uri": "https://localhost:8080/",
          "height": 1000
        },
        "outputId": "2c3f9242-d539-446c-e8aa-a93d313553ef"
      },
      "source": [
        "DATA_NAME = \"EBA1415-CoralBleaching-little-sentences.tsv\"\n",
        "\n",
        "df_test = pd.read_csv(DATA_PATH + DATA_NAME, delimiter='\\t', header=None, names=['essay', 'relation', 's_num', 'sentence'])\n",
        "\n",
        "df_test.head(50)"
      ],
      "execution_count": 22,
      "outputs": [
        {
          "output_type": "execute_result",
          "data": {
            "text/html": [
              "<div>\n",
              "<style scoped>\n",
              "    .dataframe tbody tr th:only-of-type {\n",
              "        vertical-align: middle;\n",
              "    }\n",
              "\n",
              "    .dataframe tbody tr th {\n",
              "        vertical-align: top;\n",
              "    }\n",
              "\n",
              "    .dataframe thead th {\n",
              "        text-align: right;\n",
              "    }\n",
              "</style>\n",
              "<table border=\"1\" class=\"dataframe\">\n",
              "  <thead>\n",
              "    <tr style=\"text-align: right;\">\n",
              "      <th></th>\n",
              "      <th>essay</th>\n",
              "      <th>relation</th>\n",
              "      <th>s_num</th>\n",
              "      <th>sentence</th>\n",
              "    </tr>\n",
              "  </thead>\n",
              "  <tbody>\n",
              "    <tr>\n",
              "      <th>0</th>\n",
              "      <td>EBA1415_TFBM_2_CB_ES-05548</td>\n",
              "      <td>O</td>\n",
              "      <td>1.0</td>\n",
              "      <td>No essay  //</td>\n",
              "    </tr>\n",
              "    <tr>\n",
              "      <th>1</th>\n",
              "      <td>EBA1415_TRJA_11_CB_ES-06110</td>\n",
              "      <td>O</td>\n",
              "      <td>2.0</td>\n",
              "      <td>Somethings that lead to the differences are.. ...</td>\n",
              "    </tr>\n",
              "    <tr>\n",
              "      <th>2</th>\n",
              "      <td>EBA1415_TRJA_11_CB_ES-06110</td>\n",
              "      <td>O</td>\n",
              "      <td>3.0</td>\n",
              "      <td>Some have been bleach all white it is a phenom...</td>\n",
              "    </tr>\n",
              "    <tr>\n",
              "      <th>3</th>\n",
              "      <td>EBA1415_TRJA_11_CB_ES-06110</td>\n",
              "      <td>O</td>\n",
              "      <td>4.0</td>\n",
              "      <td>Coral bleaching is most noticeable in the Paci...</td>\n",
              "    </tr>\n",
              "    <tr>\n",
              "      <th>4</th>\n",
              "      <td>EBA1415_TRJA_11_CB_ES-06110</td>\n",
              "      <td>O</td>\n",
              "      <td>5.0</td>\n",
              "      <td>That ocean covers about 1/3 of the surface of ...</td>\n",
              "    </tr>\n",
              "    <tr>\n",
              "      <th>5</th>\n",
              "      <td>EBA1415_TRJA_11_CB_ES-06110</td>\n",
              "      <td>O</td>\n",
              "      <td>6.0</td>\n",
              "      <td>The invertebrate animals live together in Colo...</td>\n",
              "    </tr>\n",
              "    <tr>\n",
              "      <th>6</th>\n",
              "      <td>EBA1415_TRJA_11_CB_ES-06110</td>\n",
              "      <td>R-7-50</td>\n",
              "      <td>7.0</td>\n",
              "      <td>The different type of algae living within the ...</td>\n",
              "    </tr>\n",
              "    <tr>\n",
              "      <th>7</th>\n",
              "      <td>EBA1415_RHSG_2_CB_ES-05081</td>\n",
              "      <td>R-1-50</td>\n",
              "      <td>8.0</td>\n",
              "      <td>There are several things that cause coral blea...</td>\n",
              "    </tr>\n",
              "    <tr>\n",
              "      <th>8</th>\n",
              "      <td>EBA1415_RHSG_2_CB_ES-05081</td>\n",
              "      <td>O</td>\n",
              "      <td>9.0</td>\n",
              "      <td>The trade winds make sea water rise.</td>\n",
              "    </tr>\n",
              "    <tr>\n",
              "      <th>9</th>\n",
              "      <td>EBA1415_RHSG_2_CB_ES-05081</td>\n",
              "      <td>R-1-3</td>\n",
              "      <td>10.0</td>\n",
              "      <td>The trade winds also change water temperature</td>\n",
              "    </tr>\n",
              "    <tr>\n",
              "      <th>10</th>\n",
              "      <td>EBA1415_RHSG_2_CB_ES-05081</td>\n",
              "      <td>O</td>\n",
              "      <td>11.0</td>\n",
              "      <td>(2) Coral is made up of small animals called p...</td>\n",
              "    </tr>\n",
              "    <tr>\n",
              "      <th>11</th>\n",
              "      <td>EBA1415_RHSG_2_CB_ES-05081</td>\n",
              "      <td>O</td>\n",
              "      <td>12.0</td>\n",
              "      <td>Coral reefs are only found in clear, shallow, ...</td>\n",
              "    </tr>\n",
              "    <tr>\n",
              "      <th>12</th>\n",
              "      <td>EBA1415_RHSG_2_CB_ES-05081</td>\n",
              "      <td>O</td>\n",
              "      <td>13.0</td>\n",
              "      <td>They live there because the algae that live in...</td>\n",
              "    </tr>\n",
              "    <tr>\n",
              "      <th>13</th>\n",
              "      <td>EBA1415_RHSG_2_CB_ES-05081</td>\n",
              "      <td>O</td>\n",
              "      <td>14.0</td>\n",
              "      <td>The algae use energy from sunlight to</td>\n",
              "    </tr>\n",
              "    <tr>\n",
              "      <th>14</th>\n",
              "      <td>EBA1415_RHSG_2_CB_ES-05081</td>\n",
              "      <td>O</td>\n",
              "      <td>15.0</td>\n",
              "      <td>Ran out of time   //</td>\n",
              "    </tr>\n",
              "    <tr>\n",
              "      <th>15</th>\n",
              "      <td>EBA1415_KYNS_4_CB_ES-05390</td>\n",
              "      <td>R-1-50</td>\n",
              "      <td>16.0</td>\n",
              "      <td>What lead to differences in the rates of coral...</td>\n",
              "    </tr>\n",
              "    <tr>\n",
              "      <th>16</th>\n",
              "      <td>EBA1415_KYNS_4_CB_ES-05390</td>\n",
              "      <td>O</td>\n",
              "      <td>17.0</td>\n",
              "      <td>Coral bleaching is when a coral loses its color.</td>\n",
              "    </tr>\n",
              "    <tr>\n",
              "      <th>17</th>\n",
              "      <td>EBA1415_KYNS_4_CB_ES-05390</td>\n",
              "      <td>O</td>\n",
              "      <td>18.0</td>\n",
              "      <td>One cause is shifting trade winds.</td>\n",
              "    </tr>\n",
              "    <tr>\n",
              "      <th>18</th>\n",
              "      <td>EBA1415_KYNS_4_CB_ES-05390</td>\n",
              "      <td>R-1-2</td>\n",
              "      <td>19.0</td>\n",
              "      <td>Trade winds travel from east to west, causing ...</td>\n",
              "    </tr>\n",
              "    <tr>\n",
              "      <th>19</th>\n",
              "      <td>EBA1415_KYNS_4_CB_ES-05390</td>\n",
              "      <td>O</td>\n",
              "      <td>20.0</td>\n",
              "      <td>Tradewinds constantly shift, causing major cha...</td>\n",
              "    </tr>\n",
              "    <tr>\n",
              "      <th>20</th>\n",
              "      <td>EBA1415_KYNS_4_CB_ES-05390</td>\n",
              "      <td>R-1-3</td>\n",
              "      <td>21.1</td>\n",
              "      <td>Weaker trade winds cause higher water temperat...</td>\n",
              "    </tr>\n",
              "    <tr>\n",
              "      <th>21</th>\n",
              "      <td>EBA1415_KYNS_4_CB_ES-05390</td>\n",
              "      <td>R-3-50</td>\n",
              "      <td>21.2</td>\n",
              "      <td>Weaker trade winds cause higher water temperat...</td>\n",
              "    </tr>\n",
              "    <tr>\n",
              "      <th>22</th>\n",
              "      <td>EBA1415_KYNS_4_CB_ES-05390</td>\n",
              "      <td>O</td>\n",
              "      <td>22.0</td>\n",
              "      <td>In order for coral to survive, it needs photos...</td>\n",
              "    </tr>\n",
              "    <tr>\n",
              "      <th>23</th>\n",
              "      <td>EBA1415_KYNS_4_CB_ES-05390</td>\n",
              "      <td>O</td>\n",
              "      <td>23.0</td>\n",
              "      <td>Algae lives in the coral tissues, called zooxa...</td>\n",
              "    </tr>\n",
              "    <tr>\n",
              "      <th>24</th>\n",
              "      <td>EBA1415_KYNS_4_CB_ES-05390</td>\n",
              "      <td>O</td>\n",
              "      <td>24.0</td>\n",
              "      <td>Coral and zooxanthellae need each other to sur...</td>\n",
              "    </tr>\n",
              "    <tr>\n",
              "      <th>25</th>\n",
              "      <td>EBA1415_KYNS_4_CB_ES-05390</td>\n",
              "      <td>R-4-5</td>\n",
              "      <td>25.0</td>\n",
              "      <td>Zooxanthellae gets energy fron the sun, combin...</td>\n",
              "    </tr>\n",
              "    <tr>\n",
              "      <th>26</th>\n",
              "      <td>EBA1415_KYNS_4_CB_ES-05390</td>\n",
              "      <td>R-4-5</td>\n",
              "      <td>26.0</td>\n",
              "      <td>During this process, carbon is passed to the c...</td>\n",
              "    </tr>\n",
              "    <tr>\n",
              "      <th>27</th>\n",
              "      <td>EBA1415_KYNS_4_CB_ES-05390</td>\n",
              "      <td>R-3-5</td>\n",
              "      <td>27.0</td>\n",
              "      <td>In order for coral to survive, it needs water ...</td>\n",
              "    </tr>\n",
              "    <tr>\n",
              "      <th>28</th>\n",
              "      <td>EBA1415_KYNS_4_CB_ES-05390</td>\n",
              "      <td>R-3-4</td>\n",
              "      <td>28.0</td>\n",
              "      <td>When water temperature increases, the amount o...</td>\n",
              "    </tr>\n",
              "    <tr>\n",
              "      <th>29</th>\n",
              "      <td>EBA1415_KYNS_4_CB_ES-05390</td>\n",
              "      <td>R-3-14</td>\n",
              "      <td>29.1</td>\n",
              "      <td>When the water temperature is constantly chang...</td>\n",
              "    </tr>\n",
              "    <tr>\n",
              "      <th>30</th>\n",
              "      <td>EBA1415_KYNS_4_CB_ES-05390</td>\n",
              "      <td>R-1-3</td>\n",
              "      <td>29.2</td>\n",
              "      <td>When the water temperature is constantly chang...</td>\n",
              "    </tr>\n",
              "    <tr>\n",
              "      <th>31</th>\n",
              "      <td>EBA1415_KYNS_4_CB_ES-05390</td>\n",
              "      <td>R-14-50</td>\n",
              "      <td>30.1</td>\n",
              "      <td>Coral bleaching happens when the coral is unhe...</td>\n",
              "    </tr>\n",
              "    <tr>\n",
              "      <th>32</th>\n",
              "      <td>EBA1415_KYNS_4_CB_ES-05390</td>\n",
              "      <td>R-14-7</td>\n",
              "      <td>30.2</td>\n",
              "      <td>Coral bleaching happens when the coral is unhe...</td>\n",
              "    </tr>\n",
              "    <tr>\n",
              "      <th>33</th>\n",
              "      <td>EBA1415_KYNS_4_CB_ES-05390</td>\n",
              "      <td>R-1-3</td>\n",
              "      <td>31.1</td>\n",
              "      <td>Trade winds affect the balance of water temper...</td>\n",
              "    </tr>\n",
              "    <tr>\n",
              "      <th>34</th>\n",
              "      <td>EBA1415_KYNS_4_CB_ES-05390</td>\n",
              "      <td>R-3-7</td>\n",
              "      <td>31.2</td>\n",
              "      <td>Trade winds affect the balance of water temper...</td>\n",
              "    </tr>\n",
              "    <tr>\n",
              "      <th>35</th>\n",
              "      <td>EBA1415_KYNS_4_CB_ES-05390</td>\n",
              "      <td>O</td>\n",
              "      <td>32.0</td>\n",
              "      <td>Without the zooxanthellae, coral will not surv...</td>\n",
              "    </tr>\n",
              "    <tr>\n",
              "      <th>36</th>\n",
              "      <td>EBA1415_KYNS_4_CB_ES-05390</td>\n",
              "      <td>O</td>\n",
              "      <td>33.0</td>\n",
              "      <td>Without the coral, the zooxanthellae will also...</td>\n",
              "    </tr>\n",
              "    <tr>\n",
              "      <th>37</th>\n",
              "      <td>EBA1415_KYNS_4_CB_ES-05390</td>\n",
              "      <td>R-7-14</td>\n",
              "      <td>34.1</td>\n",
              "      <td>When the zooxanthellae dies or is ejected, the...</td>\n",
              "    </tr>\n",
              "    <tr>\n",
              "      <th>38</th>\n",
              "      <td>EBA1415_KYNS_4_CB_ES-05390</td>\n",
              "      <td>R-14-50</td>\n",
              "      <td>34.2</td>\n",
              "      <td>When the zooxanthellae dies or is ejected, the...</td>\n",
              "    </tr>\n",
              "    <tr>\n",
              "      <th>39</th>\n",
              "      <td>EBA1415_TWPK_3_CB_ES-05049</td>\n",
              "      <td>O</td>\n",
              "      <td>35.0</td>\n",
              "      <td>The main thing that was mentioned alot was the...</td>\n",
              "    </tr>\n",
              "    <tr>\n",
              "      <th>40</th>\n",
              "      <td>EBA1415_TWPK_3_CB_ES-05049</td>\n",
              "      <td>R-4-50</td>\n",
              "      <td>36.0</td>\n",
              "      <td>The coral basically lives off of all those res...</td>\n",
              "    </tr>\n",
              "    <tr>\n",
              "      <th>41</th>\n",
              "      <td>EBA1415_TWPK_3_CB_ES-05049</td>\n",
              "      <td>O</td>\n",
              "      <td>37.0</td>\n",
              "      <td>Also the shift and changing in the wind also e...</td>\n",
              "    </tr>\n",
              "    <tr>\n",
              "      <th>42</th>\n",
              "      <td>EBA1415_TWPK_3_CB_ES-05049</td>\n",
              "      <td>R-13-50</td>\n",
              "      <td>38.0</td>\n",
              "      <td>The coral was also sensitive like if the water...</td>\n",
              "    </tr>\n",
              "    <tr>\n",
              "      <th>43</th>\n",
              "      <td>EBA1415_TWPK_3_CB_ES-05049</td>\n",
              "      <td>O</td>\n",
              "      <td>39.0</td>\n",
              "      <td>Ran out of time   //</td>\n",
              "    </tr>\n",
              "    <tr>\n",
              "      <th>44</th>\n",
              "      <td>EBA1415post_TWNB_3_CB_ES-05893</td>\n",
              "      <td>O</td>\n",
              "      <td>40.0</td>\n",
              "      <td>Coral bleaching can happen depending in the en...</td>\n",
              "    </tr>\n",
              "    <tr>\n",
              "      <th>45</th>\n",
              "      <td>EBA1415post_TWNB_3_CB_ES-05893</td>\n",
              "      <td>O</td>\n",
              "      <td>41.0</td>\n",
              "      <td>Coral bleaching is mostly found in the Pacific...</td>\n",
              "    </tr>\n",
              "    <tr>\n",
              "      <th>46</th>\n",
              "      <td>EBA1415post_TWNB_3_CB_ES-05893</td>\n",
              "      <td>O</td>\n",
              "      <td>42.0</td>\n",
              "      <td>People that noticed coral bleaching would keep...</td>\n",
              "    </tr>\n",
              "    <tr>\n",
              "      <th>47</th>\n",
              "      <td>EBA1415post_TWNB_3_CB_ES-05893</td>\n",
              "      <td>O</td>\n",
              "      <td>43.0</td>\n",
              "      <td>In 1998 coral bleaching was very wich was abou...</td>\n",
              "    </tr>\n",
              "    <tr>\n",
              "      <th>48</th>\n",
              "      <td>EBA1415post_TWNB_3_CB_ES-05893</td>\n",
              "      <td>R-5-50</td>\n",
              "      <td>44.0</td>\n",
              "      <td>Coral need photoosynthesis because without it ...</td>\n",
              "    </tr>\n",
              "    <tr>\n",
              "      <th>49</th>\n",
              "      <td>EBA1415post_TWNB_3_CB_ES-05893</td>\n",
              "      <td>O</td>\n",
              "      <td>45.0</td>\n",
              "      <td>Coral bleaching happens when the coral does no...</td>\n",
              "    </tr>\n",
              "  </tbody>\n",
              "</table>\n",
              "</div>"
            ],
            "text/plain": [
              "                             essay  ...                                           sentence\n",
              "0       EBA1415_TFBM_2_CB_ES-05548  ...                                       No essay  //\n",
              "1      EBA1415_TRJA_11_CB_ES-06110  ...  Somethings that lead to the differences are.. ...\n",
              "2      EBA1415_TRJA_11_CB_ES-06110  ...  Some have been bleach all white it is a phenom...\n",
              "3      EBA1415_TRJA_11_CB_ES-06110  ...  Coral bleaching is most noticeable in the Paci...\n",
              "4      EBA1415_TRJA_11_CB_ES-06110  ...  That ocean covers about 1/3 of the surface of ...\n",
              "5      EBA1415_TRJA_11_CB_ES-06110  ...  The invertebrate animals live together in Colo...\n",
              "6      EBA1415_TRJA_11_CB_ES-06110  ...  The different type of algae living within the ...\n",
              "7       EBA1415_RHSG_2_CB_ES-05081  ...  There are several things that cause coral blea...\n",
              "8       EBA1415_RHSG_2_CB_ES-05081  ...               The trade winds make sea water rise.\n",
              "9       EBA1415_RHSG_2_CB_ES-05081  ...      The trade winds also change water temperature\n",
              "10      EBA1415_RHSG_2_CB_ES-05081  ...  (2) Coral is made up of small animals called p...\n",
              "11      EBA1415_RHSG_2_CB_ES-05081  ...  Coral reefs are only found in clear, shallow, ...\n",
              "12      EBA1415_RHSG_2_CB_ES-05081  ...  They live there because the algae that live in...\n",
              "13      EBA1415_RHSG_2_CB_ES-05081  ...              The algae use energy from sunlight to\n",
              "14      EBA1415_RHSG_2_CB_ES-05081  ...                               Ran out of time   //\n",
              "15      EBA1415_KYNS_4_CB_ES-05390  ...  What lead to differences in the rates of coral...\n",
              "16      EBA1415_KYNS_4_CB_ES-05390  ...   Coral bleaching is when a coral loses its color.\n",
              "17      EBA1415_KYNS_4_CB_ES-05390  ...                 One cause is shifting trade winds.\n",
              "18      EBA1415_KYNS_4_CB_ES-05390  ...  Trade winds travel from east to west, causing ...\n",
              "19      EBA1415_KYNS_4_CB_ES-05390  ...  Tradewinds constantly shift, causing major cha...\n",
              "20      EBA1415_KYNS_4_CB_ES-05390  ...  Weaker trade winds cause higher water temperat...\n",
              "21      EBA1415_KYNS_4_CB_ES-05390  ...  Weaker trade winds cause higher water temperat...\n",
              "22      EBA1415_KYNS_4_CB_ES-05390  ...  In order for coral to survive, it needs photos...\n",
              "23      EBA1415_KYNS_4_CB_ES-05390  ...  Algae lives in the coral tissues, called zooxa...\n",
              "24      EBA1415_KYNS_4_CB_ES-05390  ...  Coral and zooxanthellae need each other to sur...\n",
              "25      EBA1415_KYNS_4_CB_ES-05390  ...  Zooxanthellae gets energy fron the sun, combin...\n",
              "26      EBA1415_KYNS_4_CB_ES-05390  ...  During this process, carbon is passed to the c...\n",
              "27      EBA1415_KYNS_4_CB_ES-05390  ...  In order for coral to survive, it needs water ...\n",
              "28      EBA1415_KYNS_4_CB_ES-05390  ...  When water temperature increases, the amount o...\n",
              "29      EBA1415_KYNS_4_CB_ES-05390  ...  When the water temperature is constantly chang...\n",
              "30      EBA1415_KYNS_4_CB_ES-05390  ...  When the water temperature is constantly chang...\n",
              "31      EBA1415_KYNS_4_CB_ES-05390  ...  Coral bleaching happens when the coral is unhe...\n",
              "32      EBA1415_KYNS_4_CB_ES-05390  ...  Coral bleaching happens when the coral is unhe...\n",
              "33      EBA1415_KYNS_4_CB_ES-05390  ...  Trade winds affect the balance of water temper...\n",
              "34      EBA1415_KYNS_4_CB_ES-05390  ...  Trade winds affect the balance of water temper...\n",
              "35      EBA1415_KYNS_4_CB_ES-05390  ...  Without the zooxanthellae, coral will not surv...\n",
              "36      EBA1415_KYNS_4_CB_ES-05390  ...  Without the coral, the zooxanthellae will also...\n",
              "37      EBA1415_KYNS_4_CB_ES-05390  ...  When the zooxanthellae dies or is ejected, the...\n",
              "38      EBA1415_KYNS_4_CB_ES-05390  ...  When the zooxanthellae dies or is ejected, the...\n",
              "39      EBA1415_TWPK_3_CB_ES-05049  ...  The main thing that was mentioned alot was the...\n",
              "40      EBA1415_TWPK_3_CB_ES-05049  ...  The coral basically lives off of all those res...\n",
              "41      EBA1415_TWPK_3_CB_ES-05049  ...  Also the shift and changing in the wind also e...\n",
              "42      EBA1415_TWPK_3_CB_ES-05049  ...  The coral was also sensitive like if the water...\n",
              "43      EBA1415_TWPK_3_CB_ES-05049  ...                               Ran out of time   //\n",
              "44  EBA1415post_TWNB_3_CB_ES-05893  ...  Coral bleaching can happen depending in the en...\n",
              "45  EBA1415post_TWNB_3_CB_ES-05893  ...  Coral bleaching is mostly found in the Pacific...\n",
              "46  EBA1415post_TWNB_3_CB_ES-05893  ...  People that noticed coral bleaching would keep...\n",
              "47  EBA1415post_TWNB_3_CB_ES-05893  ...  In 1998 coral bleaching was very wich was abou...\n",
              "48  EBA1415post_TWNB_3_CB_ES-05893  ...  Coral need photoosynthesis because without it ...\n",
              "49  EBA1415post_TWNB_3_CB_ES-05893  ...  Coral bleaching happens when the coral does no...\n",
              "\n",
              "[50 rows x 4 columns]"
            ]
          },
          "metadata": {
            "tags": []
          },
          "execution_count": 22
        }
      ]
    },
    {
      "cell_type": "markdown",
      "metadata": {
        "id": "pldMJt9JEyCD",
        "colab_type": "text"
      },
      "source": [
        "Convert testing data labels to ternary."
      ]
    },
    {
      "cell_type": "code",
      "metadata": {
        "id": "5BDFqhFtE3h0",
        "colab_type": "code",
        "colab": {
          "base_uri": "https://localhost:8080/",
          "height": 1000
        },
        "outputId": "c8c4b444-e8bc-4dc9-e550-54e5ec55daaa"
      },
      "source": [
        "relations_test_pd = df_test.relation.copy(deep=True)\n",
        "df_ternary_test = df_test.copy(deep=True)\n",
        "\n",
        "for i, rel in relations_test_pd.items():\n",
        "  chain = rel.split(\"-\")\n",
        "\n",
        "  if chain[0] == \"O\":\n",
        "    relations_test_pd.at[i] = 0\n",
        "    continue\n",
        "  \n",
        "  chain = chain[1] + \",\" + chain[2]\n",
        "\n",
        "  if chain in relations:\n",
        "    relations_test_pd.at[i] = 1\n",
        "  else: \n",
        "    relations_test_pd.at[i] = 2\n",
        "\n",
        "df_ternary_test.relation = relations_test_pd\n",
        "df_ternary_test.head(50)"
      ],
      "execution_count": 23,
      "outputs": [
        {
          "output_type": "execute_result",
          "data": {
            "text/html": [
              "<div>\n",
              "<style scoped>\n",
              "    .dataframe tbody tr th:only-of-type {\n",
              "        vertical-align: middle;\n",
              "    }\n",
              "\n",
              "    .dataframe tbody tr th {\n",
              "        vertical-align: top;\n",
              "    }\n",
              "\n",
              "    .dataframe thead th {\n",
              "        text-align: right;\n",
              "    }\n",
              "</style>\n",
              "<table border=\"1\" class=\"dataframe\">\n",
              "  <thead>\n",
              "    <tr style=\"text-align: right;\">\n",
              "      <th></th>\n",
              "      <th>essay</th>\n",
              "      <th>relation</th>\n",
              "      <th>s_num</th>\n",
              "      <th>sentence</th>\n",
              "    </tr>\n",
              "  </thead>\n",
              "  <tbody>\n",
              "    <tr>\n",
              "      <th>0</th>\n",
              "      <td>EBA1415_TFBM_2_CB_ES-05548</td>\n",
              "      <td>0</td>\n",
              "      <td>1.0</td>\n",
              "      <td>No essay  //</td>\n",
              "    </tr>\n",
              "    <tr>\n",
              "      <th>1</th>\n",
              "      <td>EBA1415_TRJA_11_CB_ES-06110</td>\n",
              "      <td>0</td>\n",
              "      <td>2.0</td>\n",
              "      <td>Somethings that lead to the differences are.. ...</td>\n",
              "    </tr>\n",
              "    <tr>\n",
              "      <th>2</th>\n",
              "      <td>EBA1415_TRJA_11_CB_ES-06110</td>\n",
              "      <td>0</td>\n",
              "      <td>3.0</td>\n",
              "      <td>Some have been bleach all white it is a phenom...</td>\n",
              "    </tr>\n",
              "    <tr>\n",
              "      <th>3</th>\n",
              "      <td>EBA1415_TRJA_11_CB_ES-06110</td>\n",
              "      <td>0</td>\n",
              "      <td>4.0</td>\n",
              "      <td>Coral bleaching is most noticeable in the Paci...</td>\n",
              "    </tr>\n",
              "    <tr>\n",
              "      <th>4</th>\n",
              "      <td>EBA1415_TRJA_11_CB_ES-06110</td>\n",
              "      <td>0</td>\n",
              "      <td>5.0</td>\n",
              "      <td>That ocean covers about 1/3 of the surface of ...</td>\n",
              "    </tr>\n",
              "    <tr>\n",
              "      <th>5</th>\n",
              "      <td>EBA1415_TRJA_11_CB_ES-06110</td>\n",
              "      <td>0</td>\n",
              "      <td>6.0</td>\n",
              "      <td>The invertebrate animals live together in Colo...</td>\n",
              "    </tr>\n",
              "    <tr>\n",
              "      <th>6</th>\n",
              "      <td>EBA1415_TRJA_11_CB_ES-06110</td>\n",
              "      <td>1</td>\n",
              "      <td>7.0</td>\n",
              "      <td>The different type of algae living within the ...</td>\n",
              "    </tr>\n",
              "    <tr>\n",
              "      <th>7</th>\n",
              "      <td>EBA1415_RHSG_2_CB_ES-05081</td>\n",
              "      <td>1</td>\n",
              "      <td>8.0</td>\n",
              "      <td>There are several things that cause coral blea...</td>\n",
              "    </tr>\n",
              "    <tr>\n",
              "      <th>8</th>\n",
              "      <td>EBA1415_RHSG_2_CB_ES-05081</td>\n",
              "      <td>0</td>\n",
              "      <td>9.0</td>\n",
              "      <td>The trade winds make sea water rise.</td>\n",
              "    </tr>\n",
              "    <tr>\n",
              "      <th>9</th>\n",
              "      <td>EBA1415_RHSG_2_CB_ES-05081</td>\n",
              "      <td>1</td>\n",
              "      <td>10.0</td>\n",
              "      <td>The trade winds also change water temperature</td>\n",
              "    </tr>\n",
              "    <tr>\n",
              "      <th>10</th>\n",
              "      <td>EBA1415_RHSG_2_CB_ES-05081</td>\n",
              "      <td>0</td>\n",
              "      <td>11.0</td>\n",
              "      <td>(2) Coral is made up of small animals called p...</td>\n",
              "    </tr>\n",
              "    <tr>\n",
              "      <th>11</th>\n",
              "      <td>EBA1415_RHSG_2_CB_ES-05081</td>\n",
              "      <td>0</td>\n",
              "      <td>12.0</td>\n",
              "      <td>Coral reefs are only found in clear, shallow, ...</td>\n",
              "    </tr>\n",
              "    <tr>\n",
              "      <th>12</th>\n",
              "      <td>EBA1415_RHSG_2_CB_ES-05081</td>\n",
              "      <td>0</td>\n",
              "      <td>13.0</td>\n",
              "      <td>They live there because the algae that live in...</td>\n",
              "    </tr>\n",
              "    <tr>\n",
              "      <th>13</th>\n",
              "      <td>EBA1415_RHSG_2_CB_ES-05081</td>\n",
              "      <td>0</td>\n",
              "      <td>14.0</td>\n",
              "      <td>The algae use energy from sunlight to</td>\n",
              "    </tr>\n",
              "    <tr>\n",
              "      <th>14</th>\n",
              "      <td>EBA1415_RHSG_2_CB_ES-05081</td>\n",
              "      <td>0</td>\n",
              "      <td>15.0</td>\n",
              "      <td>Ran out of time   //</td>\n",
              "    </tr>\n",
              "    <tr>\n",
              "      <th>15</th>\n",
              "      <td>EBA1415_KYNS_4_CB_ES-05390</td>\n",
              "      <td>1</td>\n",
              "      <td>16.0</td>\n",
              "      <td>What lead to differences in the rates of coral...</td>\n",
              "    </tr>\n",
              "    <tr>\n",
              "      <th>16</th>\n",
              "      <td>EBA1415_KYNS_4_CB_ES-05390</td>\n",
              "      <td>0</td>\n",
              "      <td>17.0</td>\n",
              "      <td>Coral bleaching is when a coral loses its color.</td>\n",
              "    </tr>\n",
              "    <tr>\n",
              "      <th>17</th>\n",
              "      <td>EBA1415_KYNS_4_CB_ES-05390</td>\n",
              "      <td>0</td>\n",
              "      <td>18.0</td>\n",
              "      <td>One cause is shifting trade winds.</td>\n",
              "    </tr>\n",
              "    <tr>\n",
              "      <th>18</th>\n",
              "      <td>EBA1415_KYNS_4_CB_ES-05390</td>\n",
              "      <td>1</td>\n",
              "      <td>19.0</td>\n",
              "      <td>Trade winds travel from east to west, causing ...</td>\n",
              "    </tr>\n",
              "    <tr>\n",
              "      <th>19</th>\n",
              "      <td>EBA1415_KYNS_4_CB_ES-05390</td>\n",
              "      <td>0</td>\n",
              "      <td>20.0</td>\n",
              "      <td>Tradewinds constantly shift, causing major cha...</td>\n",
              "    </tr>\n",
              "    <tr>\n",
              "      <th>20</th>\n",
              "      <td>EBA1415_KYNS_4_CB_ES-05390</td>\n",
              "      <td>1</td>\n",
              "      <td>21.1</td>\n",
              "      <td>Weaker trade winds cause higher water temperat...</td>\n",
              "    </tr>\n",
              "    <tr>\n",
              "      <th>21</th>\n",
              "      <td>EBA1415_KYNS_4_CB_ES-05390</td>\n",
              "      <td>1</td>\n",
              "      <td>21.2</td>\n",
              "      <td>Weaker trade winds cause higher water temperat...</td>\n",
              "    </tr>\n",
              "    <tr>\n",
              "      <th>22</th>\n",
              "      <td>EBA1415_KYNS_4_CB_ES-05390</td>\n",
              "      <td>0</td>\n",
              "      <td>22.0</td>\n",
              "      <td>In order for coral to survive, it needs photos...</td>\n",
              "    </tr>\n",
              "    <tr>\n",
              "      <th>23</th>\n",
              "      <td>EBA1415_KYNS_4_CB_ES-05390</td>\n",
              "      <td>0</td>\n",
              "      <td>23.0</td>\n",
              "      <td>Algae lives in the coral tissues, called zooxa...</td>\n",
              "    </tr>\n",
              "    <tr>\n",
              "      <th>24</th>\n",
              "      <td>EBA1415_KYNS_4_CB_ES-05390</td>\n",
              "      <td>0</td>\n",
              "      <td>24.0</td>\n",
              "      <td>Coral and zooxanthellae need each other to sur...</td>\n",
              "    </tr>\n",
              "    <tr>\n",
              "      <th>25</th>\n",
              "      <td>EBA1415_KYNS_4_CB_ES-05390</td>\n",
              "      <td>1</td>\n",
              "      <td>25.0</td>\n",
              "      <td>Zooxanthellae gets energy fron the sun, combin...</td>\n",
              "    </tr>\n",
              "    <tr>\n",
              "      <th>26</th>\n",
              "      <td>EBA1415_KYNS_4_CB_ES-05390</td>\n",
              "      <td>1</td>\n",
              "      <td>26.0</td>\n",
              "      <td>During this process, carbon is passed to the c...</td>\n",
              "    </tr>\n",
              "    <tr>\n",
              "      <th>27</th>\n",
              "      <td>EBA1415_KYNS_4_CB_ES-05390</td>\n",
              "      <td>1</td>\n",
              "      <td>27.0</td>\n",
              "      <td>In order for coral to survive, it needs water ...</td>\n",
              "    </tr>\n",
              "    <tr>\n",
              "      <th>28</th>\n",
              "      <td>EBA1415_KYNS_4_CB_ES-05390</td>\n",
              "      <td>1</td>\n",
              "      <td>28.0</td>\n",
              "      <td>When water temperature increases, the amount o...</td>\n",
              "    </tr>\n",
              "    <tr>\n",
              "      <th>29</th>\n",
              "      <td>EBA1415_KYNS_4_CB_ES-05390</td>\n",
              "      <td>1</td>\n",
              "      <td>29.1</td>\n",
              "      <td>When the water temperature is constantly chang...</td>\n",
              "    </tr>\n",
              "    <tr>\n",
              "      <th>30</th>\n",
              "      <td>EBA1415_KYNS_4_CB_ES-05390</td>\n",
              "      <td>1</td>\n",
              "      <td>29.2</td>\n",
              "      <td>When the water temperature is constantly chang...</td>\n",
              "    </tr>\n",
              "    <tr>\n",
              "      <th>31</th>\n",
              "      <td>EBA1415_KYNS_4_CB_ES-05390</td>\n",
              "      <td>1</td>\n",
              "      <td>30.1</td>\n",
              "      <td>Coral bleaching happens when the coral is unhe...</td>\n",
              "    </tr>\n",
              "    <tr>\n",
              "      <th>32</th>\n",
              "      <td>EBA1415_KYNS_4_CB_ES-05390</td>\n",
              "      <td>1</td>\n",
              "      <td>30.2</td>\n",
              "      <td>Coral bleaching happens when the coral is unhe...</td>\n",
              "    </tr>\n",
              "    <tr>\n",
              "      <th>33</th>\n",
              "      <td>EBA1415_KYNS_4_CB_ES-05390</td>\n",
              "      <td>1</td>\n",
              "      <td>31.1</td>\n",
              "      <td>Trade winds affect the balance of water temper...</td>\n",
              "    </tr>\n",
              "    <tr>\n",
              "      <th>34</th>\n",
              "      <td>EBA1415_KYNS_4_CB_ES-05390</td>\n",
              "      <td>1</td>\n",
              "      <td>31.2</td>\n",
              "      <td>Trade winds affect the balance of water temper...</td>\n",
              "    </tr>\n",
              "    <tr>\n",
              "      <th>35</th>\n",
              "      <td>EBA1415_KYNS_4_CB_ES-05390</td>\n",
              "      <td>0</td>\n",
              "      <td>32.0</td>\n",
              "      <td>Without the zooxanthellae, coral will not surv...</td>\n",
              "    </tr>\n",
              "    <tr>\n",
              "      <th>36</th>\n",
              "      <td>EBA1415_KYNS_4_CB_ES-05390</td>\n",
              "      <td>0</td>\n",
              "      <td>33.0</td>\n",
              "      <td>Without the coral, the zooxanthellae will also...</td>\n",
              "    </tr>\n",
              "    <tr>\n",
              "      <th>37</th>\n",
              "      <td>EBA1415_KYNS_4_CB_ES-05390</td>\n",
              "      <td>2</td>\n",
              "      <td>34.1</td>\n",
              "      <td>When the zooxanthellae dies or is ejected, the...</td>\n",
              "    </tr>\n",
              "    <tr>\n",
              "      <th>38</th>\n",
              "      <td>EBA1415_KYNS_4_CB_ES-05390</td>\n",
              "      <td>1</td>\n",
              "      <td>34.2</td>\n",
              "      <td>When the zooxanthellae dies or is ejected, the...</td>\n",
              "    </tr>\n",
              "    <tr>\n",
              "      <th>39</th>\n",
              "      <td>EBA1415_TWPK_3_CB_ES-05049</td>\n",
              "      <td>0</td>\n",
              "      <td>35.0</td>\n",
              "      <td>The main thing that was mentioned alot was the...</td>\n",
              "    </tr>\n",
              "    <tr>\n",
              "      <th>40</th>\n",
              "      <td>EBA1415_TWPK_3_CB_ES-05049</td>\n",
              "      <td>1</td>\n",
              "      <td>36.0</td>\n",
              "      <td>The coral basically lives off of all those res...</td>\n",
              "    </tr>\n",
              "    <tr>\n",
              "      <th>41</th>\n",
              "      <td>EBA1415_TWPK_3_CB_ES-05049</td>\n",
              "      <td>0</td>\n",
              "      <td>37.0</td>\n",
              "      <td>Also the shift and changing in the wind also e...</td>\n",
              "    </tr>\n",
              "    <tr>\n",
              "      <th>42</th>\n",
              "      <td>EBA1415_TWPK_3_CB_ES-05049</td>\n",
              "      <td>1</td>\n",
              "      <td>38.0</td>\n",
              "      <td>The coral was also sensitive like if the water...</td>\n",
              "    </tr>\n",
              "    <tr>\n",
              "      <th>43</th>\n",
              "      <td>EBA1415_TWPK_3_CB_ES-05049</td>\n",
              "      <td>0</td>\n",
              "      <td>39.0</td>\n",
              "      <td>Ran out of time   //</td>\n",
              "    </tr>\n",
              "    <tr>\n",
              "      <th>44</th>\n",
              "      <td>EBA1415post_TWNB_3_CB_ES-05893</td>\n",
              "      <td>0</td>\n",
              "      <td>40.0</td>\n",
              "      <td>Coral bleaching can happen depending in the en...</td>\n",
              "    </tr>\n",
              "    <tr>\n",
              "      <th>45</th>\n",
              "      <td>EBA1415post_TWNB_3_CB_ES-05893</td>\n",
              "      <td>0</td>\n",
              "      <td>41.0</td>\n",
              "      <td>Coral bleaching is mostly found in the Pacific...</td>\n",
              "    </tr>\n",
              "    <tr>\n",
              "      <th>46</th>\n",
              "      <td>EBA1415post_TWNB_3_CB_ES-05893</td>\n",
              "      <td>0</td>\n",
              "      <td>42.0</td>\n",
              "      <td>People that noticed coral bleaching would keep...</td>\n",
              "    </tr>\n",
              "    <tr>\n",
              "      <th>47</th>\n",
              "      <td>EBA1415post_TWNB_3_CB_ES-05893</td>\n",
              "      <td>0</td>\n",
              "      <td>43.0</td>\n",
              "      <td>In 1998 coral bleaching was very wich was abou...</td>\n",
              "    </tr>\n",
              "    <tr>\n",
              "      <th>48</th>\n",
              "      <td>EBA1415post_TWNB_3_CB_ES-05893</td>\n",
              "      <td>1</td>\n",
              "      <td>44.0</td>\n",
              "      <td>Coral need photoosynthesis because without it ...</td>\n",
              "    </tr>\n",
              "    <tr>\n",
              "      <th>49</th>\n",
              "      <td>EBA1415post_TWNB_3_CB_ES-05893</td>\n",
              "      <td>0</td>\n",
              "      <td>45.0</td>\n",
              "      <td>Coral bleaching happens when the coral does no...</td>\n",
              "    </tr>\n",
              "  </tbody>\n",
              "</table>\n",
              "</div>"
            ],
            "text/plain": [
              "                             essay  ...                                           sentence\n",
              "0       EBA1415_TFBM_2_CB_ES-05548  ...                                       No essay  //\n",
              "1      EBA1415_TRJA_11_CB_ES-06110  ...  Somethings that lead to the differences are.. ...\n",
              "2      EBA1415_TRJA_11_CB_ES-06110  ...  Some have been bleach all white it is a phenom...\n",
              "3      EBA1415_TRJA_11_CB_ES-06110  ...  Coral bleaching is most noticeable in the Paci...\n",
              "4      EBA1415_TRJA_11_CB_ES-06110  ...  That ocean covers about 1/3 of the surface of ...\n",
              "5      EBA1415_TRJA_11_CB_ES-06110  ...  The invertebrate animals live together in Colo...\n",
              "6      EBA1415_TRJA_11_CB_ES-06110  ...  The different type of algae living within the ...\n",
              "7       EBA1415_RHSG_2_CB_ES-05081  ...  There are several things that cause coral blea...\n",
              "8       EBA1415_RHSG_2_CB_ES-05081  ...               The trade winds make sea water rise.\n",
              "9       EBA1415_RHSG_2_CB_ES-05081  ...      The trade winds also change water temperature\n",
              "10      EBA1415_RHSG_2_CB_ES-05081  ...  (2) Coral is made up of small animals called p...\n",
              "11      EBA1415_RHSG_2_CB_ES-05081  ...  Coral reefs are only found in clear, shallow, ...\n",
              "12      EBA1415_RHSG_2_CB_ES-05081  ...  They live there because the algae that live in...\n",
              "13      EBA1415_RHSG_2_CB_ES-05081  ...              The algae use energy from sunlight to\n",
              "14      EBA1415_RHSG_2_CB_ES-05081  ...                               Ran out of time   //\n",
              "15      EBA1415_KYNS_4_CB_ES-05390  ...  What lead to differences in the rates of coral...\n",
              "16      EBA1415_KYNS_4_CB_ES-05390  ...   Coral bleaching is when a coral loses its color.\n",
              "17      EBA1415_KYNS_4_CB_ES-05390  ...                 One cause is shifting trade winds.\n",
              "18      EBA1415_KYNS_4_CB_ES-05390  ...  Trade winds travel from east to west, causing ...\n",
              "19      EBA1415_KYNS_4_CB_ES-05390  ...  Tradewinds constantly shift, causing major cha...\n",
              "20      EBA1415_KYNS_4_CB_ES-05390  ...  Weaker trade winds cause higher water temperat...\n",
              "21      EBA1415_KYNS_4_CB_ES-05390  ...  Weaker trade winds cause higher water temperat...\n",
              "22      EBA1415_KYNS_4_CB_ES-05390  ...  In order for coral to survive, it needs photos...\n",
              "23      EBA1415_KYNS_4_CB_ES-05390  ...  Algae lives in the coral tissues, called zooxa...\n",
              "24      EBA1415_KYNS_4_CB_ES-05390  ...  Coral and zooxanthellae need each other to sur...\n",
              "25      EBA1415_KYNS_4_CB_ES-05390  ...  Zooxanthellae gets energy fron the sun, combin...\n",
              "26      EBA1415_KYNS_4_CB_ES-05390  ...  During this process, carbon is passed to the c...\n",
              "27      EBA1415_KYNS_4_CB_ES-05390  ...  In order for coral to survive, it needs water ...\n",
              "28      EBA1415_KYNS_4_CB_ES-05390  ...  When water temperature increases, the amount o...\n",
              "29      EBA1415_KYNS_4_CB_ES-05390  ...  When the water temperature is constantly chang...\n",
              "30      EBA1415_KYNS_4_CB_ES-05390  ...  When the water temperature is constantly chang...\n",
              "31      EBA1415_KYNS_4_CB_ES-05390  ...  Coral bleaching happens when the coral is unhe...\n",
              "32      EBA1415_KYNS_4_CB_ES-05390  ...  Coral bleaching happens when the coral is unhe...\n",
              "33      EBA1415_KYNS_4_CB_ES-05390  ...  Trade winds affect the balance of water temper...\n",
              "34      EBA1415_KYNS_4_CB_ES-05390  ...  Trade winds affect the balance of water temper...\n",
              "35      EBA1415_KYNS_4_CB_ES-05390  ...  Without the zooxanthellae, coral will not surv...\n",
              "36      EBA1415_KYNS_4_CB_ES-05390  ...  Without the coral, the zooxanthellae will also...\n",
              "37      EBA1415_KYNS_4_CB_ES-05390  ...  When the zooxanthellae dies or is ejected, the...\n",
              "38      EBA1415_KYNS_4_CB_ES-05390  ...  When the zooxanthellae dies or is ejected, the...\n",
              "39      EBA1415_TWPK_3_CB_ES-05049  ...  The main thing that was mentioned alot was the...\n",
              "40      EBA1415_TWPK_3_CB_ES-05049  ...  The coral basically lives off of all those res...\n",
              "41      EBA1415_TWPK_3_CB_ES-05049  ...  Also the shift and changing in the wind also e...\n",
              "42      EBA1415_TWPK_3_CB_ES-05049  ...  The coral was also sensitive like if the water...\n",
              "43      EBA1415_TWPK_3_CB_ES-05049  ...                               Ran out of time   //\n",
              "44  EBA1415post_TWNB_3_CB_ES-05893  ...  Coral bleaching can happen depending in the en...\n",
              "45  EBA1415post_TWNB_3_CB_ES-05893  ...  Coral bleaching is mostly found in the Pacific...\n",
              "46  EBA1415post_TWNB_3_CB_ES-05893  ...  People that noticed coral bleaching would keep...\n",
              "47  EBA1415post_TWNB_3_CB_ES-05893  ...  In 1998 coral bleaching was very wich was abou...\n",
              "48  EBA1415post_TWNB_3_CB_ES-05893  ...  Coral need photoosynthesis because without it ...\n",
              "49  EBA1415post_TWNB_3_CB_ES-05893  ...  Coral bleaching happens when the coral does no...\n",
              "\n",
              "[50 rows x 4 columns]"
            ]
          },
          "metadata": {
            "tags": []
          },
          "execution_count": 23
        }
      ]
    },
    {
      "cell_type": "markdown",
      "metadata": {
        "id": "ai8edFpVFl60",
        "colab_type": "text"
      },
      "source": [
        "Identify duplicates in test set.\n"
      ]
    },
    {
      "cell_type": "code",
      "metadata": {
        "id": "swy0mf54GZmI",
        "colab_type": "code",
        "colab": {
          "base_uri": "https://localhost:8080/",
          "height": 824
        },
        "outputId": "4c58f65e-dc9b-4ac8-d341-e29bde1e1ee3"
      },
      "source": [
        "df_duplicate_sentences_test = df_ternary_test[df_ternary_test.s_num.astype(str).str.split('.', expand=True)[1] != '0']\n",
        "df_duplicate_sentences_test.head(25)"
      ],
      "execution_count": 24,
      "outputs": [
        {
          "output_type": "execute_result",
          "data": {
            "text/html": [
              "<div>\n",
              "<style scoped>\n",
              "    .dataframe tbody tr th:only-of-type {\n",
              "        vertical-align: middle;\n",
              "    }\n",
              "\n",
              "    .dataframe tbody tr th {\n",
              "        vertical-align: top;\n",
              "    }\n",
              "\n",
              "    .dataframe thead th {\n",
              "        text-align: right;\n",
              "    }\n",
              "</style>\n",
              "<table border=\"1\" class=\"dataframe\">\n",
              "  <thead>\n",
              "    <tr style=\"text-align: right;\">\n",
              "      <th></th>\n",
              "      <th>essay</th>\n",
              "      <th>relation</th>\n",
              "      <th>s_num</th>\n",
              "      <th>sentence</th>\n",
              "    </tr>\n",
              "  </thead>\n",
              "  <tbody>\n",
              "    <tr>\n",
              "      <th>20</th>\n",
              "      <td>EBA1415_KYNS_4_CB_ES-05390</td>\n",
              "      <td>1</td>\n",
              "      <td>21.1</td>\n",
              "      <td>Weaker trade winds cause higher water temperat...</td>\n",
              "    </tr>\n",
              "    <tr>\n",
              "      <th>21</th>\n",
              "      <td>EBA1415_KYNS_4_CB_ES-05390</td>\n",
              "      <td>1</td>\n",
              "      <td>21.2</td>\n",
              "      <td>Weaker trade winds cause higher water temperat...</td>\n",
              "    </tr>\n",
              "    <tr>\n",
              "      <th>29</th>\n",
              "      <td>EBA1415_KYNS_4_CB_ES-05390</td>\n",
              "      <td>1</td>\n",
              "      <td>29.1</td>\n",
              "      <td>When the water temperature is constantly chang...</td>\n",
              "    </tr>\n",
              "    <tr>\n",
              "      <th>30</th>\n",
              "      <td>EBA1415_KYNS_4_CB_ES-05390</td>\n",
              "      <td>1</td>\n",
              "      <td>29.2</td>\n",
              "      <td>When the water temperature is constantly chang...</td>\n",
              "    </tr>\n",
              "    <tr>\n",
              "      <th>31</th>\n",
              "      <td>EBA1415_KYNS_4_CB_ES-05390</td>\n",
              "      <td>1</td>\n",
              "      <td>30.1</td>\n",
              "      <td>Coral bleaching happens when the coral is unhe...</td>\n",
              "    </tr>\n",
              "    <tr>\n",
              "      <th>32</th>\n",
              "      <td>EBA1415_KYNS_4_CB_ES-05390</td>\n",
              "      <td>1</td>\n",
              "      <td>30.2</td>\n",
              "      <td>Coral bleaching happens when the coral is unhe...</td>\n",
              "    </tr>\n",
              "    <tr>\n",
              "      <th>33</th>\n",
              "      <td>EBA1415_KYNS_4_CB_ES-05390</td>\n",
              "      <td>1</td>\n",
              "      <td>31.1</td>\n",
              "      <td>Trade winds affect the balance of water temper...</td>\n",
              "    </tr>\n",
              "    <tr>\n",
              "      <th>34</th>\n",
              "      <td>EBA1415_KYNS_4_CB_ES-05390</td>\n",
              "      <td>1</td>\n",
              "      <td>31.2</td>\n",
              "      <td>Trade winds affect the balance of water temper...</td>\n",
              "    </tr>\n",
              "    <tr>\n",
              "      <th>37</th>\n",
              "      <td>EBA1415_KYNS_4_CB_ES-05390</td>\n",
              "      <td>2</td>\n",
              "      <td>34.1</td>\n",
              "      <td>When the zooxanthellae dies or is ejected, the...</td>\n",
              "    </tr>\n",
              "    <tr>\n",
              "      <th>38</th>\n",
              "      <td>EBA1415_KYNS_4_CB_ES-05390</td>\n",
              "      <td>1</td>\n",
              "      <td>34.2</td>\n",
              "      <td>When the zooxanthellae dies or is ejected, the...</td>\n",
              "    </tr>\n",
              "    <tr>\n",
              "      <th>66</th>\n",
              "      <td>EBA1415_TFMV_3_CB_ES-05848</td>\n",
              "      <td>1</td>\n",
              "      <td>62.1</td>\n",
              "      <td>If the coral has to much stress it turns white...</td>\n",
              "    </tr>\n",
              "    <tr>\n",
              "      <th>67</th>\n",
              "      <td>EBA1415_TFMV_3_CB_ES-05848</td>\n",
              "      <td>1</td>\n",
              "      <td>62.2</td>\n",
              "      <td>If the coral has to much stress it turns white...</td>\n",
              "    </tr>\n",
              "    <tr>\n",
              "      <th>74</th>\n",
              "      <td>EBA1415_WSKT_6_CB_ES-05341</td>\n",
              "      <td>1</td>\n",
              "      <td>69.1</td>\n",
              "      <td>Changing the water temperature changes the amo...</td>\n",
              "    </tr>\n",
              "    <tr>\n",
              "      <th>75</th>\n",
              "      <td>EBA1415_WSKT_6_CB_ES-05341</td>\n",
              "      <td>1</td>\n",
              "      <td>69.2</td>\n",
              "      <td>Changing the water temperature changes the amo...</td>\n",
              "    </tr>\n",
              "    <tr>\n",
              "      <th>114</th>\n",
              "      <td>EBA1415_ERAM_7_CB_ES-04965</td>\n",
              "      <td>1</td>\n",
              "      <td>108.1</td>\n",
              "      <td>If it has lower than normal carbon dioxide, co...</td>\n",
              "    </tr>\n",
              "    <tr>\n",
              "      <th>115</th>\n",
              "      <td>EBA1415_ERAM_7_CB_ES-04965</td>\n",
              "      <td>1</td>\n",
              "      <td>108.2</td>\n",
              "      <td>If it has lower than normal carbon dioxide, co...</td>\n",
              "    </tr>\n",
              "    <tr>\n",
              "      <th>127</th>\n",
              "      <td>EBA1415_TWJB_5_CB_ES-05070</td>\n",
              "      <td>1</td>\n",
              "      <td>120.1</td>\n",
              "      <td>When the coral gets stressed they eject their ...</td>\n",
              "    </tr>\n",
              "    <tr>\n",
              "      <th>128</th>\n",
              "      <td>EBA1415_TWJB_5_CB_ES-05070</td>\n",
              "      <td>1</td>\n",
              "      <td>120.2</td>\n",
              "      <td>When the coral gets stressed they eject their ...</td>\n",
              "    </tr>\n",
              "    <tr>\n",
              "      <th>129</th>\n",
              "      <td>EBA1415_TWJB_5_CB_ES-05070</td>\n",
              "      <td>1</td>\n",
              "      <td>121.1</td>\n",
              "      <td>Also when the trade winds go down, and the wat...</td>\n",
              "    </tr>\n",
              "    <tr>\n",
              "      <th>130</th>\n",
              "      <td>EBA1415_TWJB_5_CB_ES-05070</td>\n",
              "      <td>1</td>\n",
              "      <td>121.2</td>\n",
              "      <td>Also when the trade winds go down, and the wat...</td>\n",
              "    </tr>\n",
              "    <tr>\n",
              "      <th>131</th>\n",
              "      <td>EBA1415_TWJB_5_CB_ES-05070</td>\n",
              "      <td>1</td>\n",
              "      <td>121.3</td>\n",
              "      <td>Also when the trade winds go down, and the wat...</td>\n",
              "    </tr>\n",
              "    <tr>\n",
              "      <th>170</th>\n",
              "      <td>EBA1415_TWNB_3_CB_ES-06186</td>\n",
              "      <td>1</td>\n",
              "      <td>161.1</td>\n",
              "      <td>Coral bleaching is one example of how environm...</td>\n",
              "    </tr>\n",
              "    <tr>\n",
              "      <th>171</th>\n",
              "      <td>EBA1415_TWNB_3_CB_ES-06186</td>\n",
              "      <td>2</td>\n",
              "      <td>161.2</td>\n",
              "      <td>Coral bleaching is one example of how environm...</td>\n",
              "    </tr>\n",
              "    <tr>\n",
              "      <th>197</th>\n",
              "      <td>EBA1415_SEAL_78_CB-04805</td>\n",
              "      <td>1</td>\n",
              "      <td>187.1</td>\n",
              "      <td>In 1998, when there were higher water temperat...</td>\n",
              "    </tr>\n",
              "    <tr>\n",
              "      <th>198</th>\n",
              "      <td>EBA1415_SEAL_78_CB-04805</td>\n",
              "      <td>1</td>\n",
              "      <td>187.2</td>\n",
              "      <td>In 1998, when there were higher water temperat...</td>\n",
              "    </tr>\n",
              "  </tbody>\n",
              "</table>\n",
              "</div>"
            ],
            "text/plain": [
              "                          essay  ...                                           sentence\n",
              "20   EBA1415_KYNS_4_CB_ES-05390  ...  Weaker trade winds cause higher water temperat...\n",
              "21   EBA1415_KYNS_4_CB_ES-05390  ...  Weaker trade winds cause higher water temperat...\n",
              "29   EBA1415_KYNS_4_CB_ES-05390  ...  When the water temperature is constantly chang...\n",
              "30   EBA1415_KYNS_4_CB_ES-05390  ...  When the water temperature is constantly chang...\n",
              "31   EBA1415_KYNS_4_CB_ES-05390  ...  Coral bleaching happens when the coral is unhe...\n",
              "32   EBA1415_KYNS_4_CB_ES-05390  ...  Coral bleaching happens when the coral is unhe...\n",
              "33   EBA1415_KYNS_4_CB_ES-05390  ...  Trade winds affect the balance of water temper...\n",
              "34   EBA1415_KYNS_4_CB_ES-05390  ...  Trade winds affect the balance of water temper...\n",
              "37   EBA1415_KYNS_4_CB_ES-05390  ...  When the zooxanthellae dies or is ejected, the...\n",
              "38   EBA1415_KYNS_4_CB_ES-05390  ...  When the zooxanthellae dies or is ejected, the...\n",
              "66   EBA1415_TFMV_3_CB_ES-05848  ...  If the coral has to much stress it turns white...\n",
              "67   EBA1415_TFMV_3_CB_ES-05848  ...  If the coral has to much stress it turns white...\n",
              "74   EBA1415_WSKT_6_CB_ES-05341  ...  Changing the water temperature changes the amo...\n",
              "75   EBA1415_WSKT_6_CB_ES-05341  ...  Changing the water temperature changes the amo...\n",
              "114  EBA1415_ERAM_7_CB_ES-04965  ...  If it has lower than normal carbon dioxide, co...\n",
              "115  EBA1415_ERAM_7_CB_ES-04965  ...  If it has lower than normal carbon dioxide, co...\n",
              "127  EBA1415_TWJB_5_CB_ES-05070  ...  When the coral gets stressed they eject their ...\n",
              "128  EBA1415_TWJB_5_CB_ES-05070  ...  When the coral gets stressed they eject their ...\n",
              "129  EBA1415_TWJB_5_CB_ES-05070  ...  Also when the trade winds go down, and the wat...\n",
              "130  EBA1415_TWJB_5_CB_ES-05070  ...  Also when the trade winds go down, and the wat...\n",
              "131  EBA1415_TWJB_5_CB_ES-05070  ...  Also when the trade winds go down, and the wat...\n",
              "170  EBA1415_TWNB_3_CB_ES-06186  ...  Coral bleaching is one example of how environm...\n",
              "171  EBA1415_TWNB_3_CB_ES-06186  ...  Coral bleaching is one example of how environm...\n",
              "197    EBA1415_SEAL_78_CB-04805  ...  In 1998, when there were higher water temperat...\n",
              "198    EBA1415_SEAL_78_CB-04805  ...  In 1998, when there were higher water temperat...\n",
              "\n",
              "[25 rows x 4 columns]"
            ]
          },
          "metadata": {
            "tags": []
          },
          "execution_count": 24
        }
      ]
    },
    {
      "cell_type": "markdown",
      "metadata": {
        "id": "7hXQD5NRHFRV",
        "colab_type": "text"
      },
      "source": [
        "Remove duplicates from test set."
      ]
    },
    {
      "cell_type": "code",
      "metadata": {
        "id": "h-gIOuDPHHQP",
        "colab_type": "code",
        "colab": {
          "base_uri": "https://localhost:8080/",
          "height": 929
        },
        "outputId": "043b0432-152b-4d0e-b725-47275ba5d75a"
      },
      "source": [
        "current = -1\n",
        "\n",
        "same_arr_inds = []\n",
        "drop_list = []\n",
        "\n",
        "for i, row in df_duplicate_sentences_test.iterrows():\n",
        "  s_num = str(df_duplicate_sentences_test.loc[i].s_num)\n",
        "  first_num, second_num = s_num.split(\".\")\n",
        "\n",
        "  if first_num != current:\n",
        "    current = first_num\n",
        "\n",
        "    if len(same_arr_inds) > 1:\n",
        "\n",
        "      valid_flag = False\n",
        "      invalid_flag = False\n",
        "\n",
        "      for n in same_arr_inds:\n",
        "\n",
        "        if df_duplicate_sentences_test.loc[n].relation == 1:\n",
        "          valid_flag = True\n",
        "          break\n",
        "\n",
        "        if df_duplicate_sentences_test.loc[n].relation == -1:\n",
        "          invalid_flag = True \n",
        "\n",
        "      left = same_arr_inds[0]\n",
        "      right = same_arr_inds[1:]\n",
        "\n",
        "      if valid_flag == True:\n",
        "        df_duplicate_sentences_test.loc[left].relation = 1\n",
        "      elif invalid_flag == True:\n",
        "        df_duplicate_sentences_test.loc[left].relation = -1\n",
        "      else:\n",
        "        df_duplicate_sentences_test.loc[left].relation = 0\n",
        "\n",
        "      drop_list += right   \n",
        "\n",
        "    same_arr_inds = []\n",
        "  same_arr_inds.append(i)\n",
        "\n",
        "df_ternary_test.drop(drop_list, inplace=True)   \n",
        "\n",
        "df_ternary_test.head(25)"
      ],
      "execution_count": 25,
      "outputs": [
        {
          "output_type": "stream",
          "text": [
            "/usr/local/lib/python3.6/dist-packages/pandas/core/generic.py:5303: SettingWithCopyWarning: \n",
            "A value is trying to be set on a copy of a slice from a DataFrame\n",
            "\n",
            "See the caveats in the documentation: https://pandas.pydata.org/pandas-docs/stable/user_guide/indexing.html#returning-a-view-versus-a-copy\n",
            "  self[name] = value\n"
          ],
          "name": "stderr"
        },
        {
          "output_type": "execute_result",
          "data": {
            "text/html": [
              "<div>\n",
              "<style scoped>\n",
              "    .dataframe tbody tr th:only-of-type {\n",
              "        vertical-align: middle;\n",
              "    }\n",
              "\n",
              "    .dataframe tbody tr th {\n",
              "        vertical-align: top;\n",
              "    }\n",
              "\n",
              "    .dataframe thead th {\n",
              "        text-align: right;\n",
              "    }\n",
              "</style>\n",
              "<table border=\"1\" class=\"dataframe\">\n",
              "  <thead>\n",
              "    <tr style=\"text-align: right;\">\n",
              "      <th></th>\n",
              "      <th>essay</th>\n",
              "      <th>relation</th>\n",
              "      <th>s_num</th>\n",
              "      <th>sentence</th>\n",
              "    </tr>\n",
              "  </thead>\n",
              "  <tbody>\n",
              "    <tr>\n",
              "      <th>0</th>\n",
              "      <td>EBA1415_TFBM_2_CB_ES-05548</td>\n",
              "      <td>0</td>\n",
              "      <td>1.0</td>\n",
              "      <td>No essay  //</td>\n",
              "    </tr>\n",
              "    <tr>\n",
              "      <th>1</th>\n",
              "      <td>EBA1415_TRJA_11_CB_ES-06110</td>\n",
              "      <td>0</td>\n",
              "      <td>2.0</td>\n",
              "      <td>Somethings that lead to the differences are.. ...</td>\n",
              "    </tr>\n",
              "    <tr>\n",
              "      <th>2</th>\n",
              "      <td>EBA1415_TRJA_11_CB_ES-06110</td>\n",
              "      <td>0</td>\n",
              "      <td>3.0</td>\n",
              "      <td>Some have been bleach all white it is a phenom...</td>\n",
              "    </tr>\n",
              "    <tr>\n",
              "      <th>3</th>\n",
              "      <td>EBA1415_TRJA_11_CB_ES-06110</td>\n",
              "      <td>0</td>\n",
              "      <td>4.0</td>\n",
              "      <td>Coral bleaching is most noticeable in the Paci...</td>\n",
              "    </tr>\n",
              "    <tr>\n",
              "      <th>4</th>\n",
              "      <td>EBA1415_TRJA_11_CB_ES-06110</td>\n",
              "      <td>0</td>\n",
              "      <td>5.0</td>\n",
              "      <td>That ocean covers about 1/3 of the surface of ...</td>\n",
              "    </tr>\n",
              "    <tr>\n",
              "      <th>5</th>\n",
              "      <td>EBA1415_TRJA_11_CB_ES-06110</td>\n",
              "      <td>0</td>\n",
              "      <td>6.0</td>\n",
              "      <td>The invertebrate animals live together in Colo...</td>\n",
              "    </tr>\n",
              "    <tr>\n",
              "      <th>6</th>\n",
              "      <td>EBA1415_TRJA_11_CB_ES-06110</td>\n",
              "      <td>1</td>\n",
              "      <td>7.0</td>\n",
              "      <td>The different type of algae living within the ...</td>\n",
              "    </tr>\n",
              "    <tr>\n",
              "      <th>7</th>\n",
              "      <td>EBA1415_RHSG_2_CB_ES-05081</td>\n",
              "      <td>1</td>\n",
              "      <td>8.0</td>\n",
              "      <td>There are several things that cause coral blea...</td>\n",
              "    </tr>\n",
              "    <tr>\n",
              "      <th>8</th>\n",
              "      <td>EBA1415_RHSG_2_CB_ES-05081</td>\n",
              "      <td>0</td>\n",
              "      <td>9.0</td>\n",
              "      <td>The trade winds make sea water rise.</td>\n",
              "    </tr>\n",
              "    <tr>\n",
              "      <th>9</th>\n",
              "      <td>EBA1415_RHSG_2_CB_ES-05081</td>\n",
              "      <td>1</td>\n",
              "      <td>10.0</td>\n",
              "      <td>The trade winds also change water temperature</td>\n",
              "    </tr>\n",
              "    <tr>\n",
              "      <th>10</th>\n",
              "      <td>EBA1415_RHSG_2_CB_ES-05081</td>\n",
              "      <td>0</td>\n",
              "      <td>11.0</td>\n",
              "      <td>(2) Coral is made up of small animals called p...</td>\n",
              "    </tr>\n",
              "    <tr>\n",
              "      <th>11</th>\n",
              "      <td>EBA1415_RHSG_2_CB_ES-05081</td>\n",
              "      <td>0</td>\n",
              "      <td>12.0</td>\n",
              "      <td>Coral reefs are only found in clear, shallow, ...</td>\n",
              "    </tr>\n",
              "    <tr>\n",
              "      <th>12</th>\n",
              "      <td>EBA1415_RHSG_2_CB_ES-05081</td>\n",
              "      <td>0</td>\n",
              "      <td>13.0</td>\n",
              "      <td>They live there because the algae that live in...</td>\n",
              "    </tr>\n",
              "    <tr>\n",
              "      <th>13</th>\n",
              "      <td>EBA1415_RHSG_2_CB_ES-05081</td>\n",
              "      <td>0</td>\n",
              "      <td>14.0</td>\n",
              "      <td>The algae use energy from sunlight to</td>\n",
              "    </tr>\n",
              "    <tr>\n",
              "      <th>14</th>\n",
              "      <td>EBA1415_RHSG_2_CB_ES-05081</td>\n",
              "      <td>0</td>\n",
              "      <td>15.0</td>\n",
              "      <td>Ran out of time   //</td>\n",
              "    </tr>\n",
              "    <tr>\n",
              "      <th>15</th>\n",
              "      <td>EBA1415_KYNS_4_CB_ES-05390</td>\n",
              "      <td>1</td>\n",
              "      <td>16.0</td>\n",
              "      <td>What lead to differences in the rates of coral...</td>\n",
              "    </tr>\n",
              "    <tr>\n",
              "      <th>16</th>\n",
              "      <td>EBA1415_KYNS_4_CB_ES-05390</td>\n",
              "      <td>0</td>\n",
              "      <td>17.0</td>\n",
              "      <td>Coral bleaching is when a coral loses its color.</td>\n",
              "    </tr>\n",
              "    <tr>\n",
              "      <th>17</th>\n",
              "      <td>EBA1415_KYNS_4_CB_ES-05390</td>\n",
              "      <td>0</td>\n",
              "      <td>18.0</td>\n",
              "      <td>One cause is shifting trade winds.</td>\n",
              "    </tr>\n",
              "    <tr>\n",
              "      <th>18</th>\n",
              "      <td>EBA1415_KYNS_4_CB_ES-05390</td>\n",
              "      <td>1</td>\n",
              "      <td>19.0</td>\n",
              "      <td>Trade winds travel from east to west, causing ...</td>\n",
              "    </tr>\n",
              "    <tr>\n",
              "      <th>19</th>\n",
              "      <td>EBA1415_KYNS_4_CB_ES-05390</td>\n",
              "      <td>0</td>\n",
              "      <td>20.0</td>\n",
              "      <td>Tradewinds constantly shift, causing major cha...</td>\n",
              "    </tr>\n",
              "    <tr>\n",
              "      <th>20</th>\n",
              "      <td>EBA1415_KYNS_4_CB_ES-05390</td>\n",
              "      <td>1</td>\n",
              "      <td>21.1</td>\n",
              "      <td>Weaker trade winds cause higher water temperat...</td>\n",
              "    </tr>\n",
              "    <tr>\n",
              "      <th>22</th>\n",
              "      <td>EBA1415_KYNS_4_CB_ES-05390</td>\n",
              "      <td>0</td>\n",
              "      <td>22.0</td>\n",
              "      <td>In order for coral to survive, it needs photos...</td>\n",
              "    </tr>\n",
              "    <tr>\n",
              "      <th>23</th>\n",
              "      <td>EBA1415_KYNS_4_CB_ES-05390</td>\n",
              "      <td>0</td>\n",
              "      <td>23.0</td>\n",
              "      <td>Algae lives in the coral tissues, called zooxa...</td>\n",
              "    </tr>\n",
              "    <tr>\n",
              "      <th>24</th>\n",
              "      <td>EBA1415_KYNS_4_CB_ES-05390</td>\n",
              "      <td>0</td>\n",
              "      <td>24.0</td>\n",
              "      <td>Coral and zooxanthellae need each other to sur...</td>\n",
              "    </tr>\n",
              "    <tr>\n",
              "      <th>25</th>\n",
              "      <td>EBA1415_KYNS_4_CB_ES-05390</td>\n",
              "      <td>1</td>\n",
              "      <td>25.0</td>\n",
              "      <td>Zooxanthellae gets energy fron the sun, combin...</td>\n",
              "    </tr>\n",
              "  </tbody>\n",
              "</table>\n",
              "</div>"
            ],
            "text/plain": [
              "                          essay  ...                                           sentence\n",
              "0    EBA1415_TFBM_2_CB_ES-05548  ...                                       No essay  //\n",
              "1   EBA1415_TRJA_11_CB_ES-06110  ...  Somethings that lead to the differences are.. ...\n",
              "2   EBA1415_TRJA_11_CB_ES-06110  ...  Some have been bleach all white it is a phenom...\n",
              "3   EBA1415_TRJA_11_CB_ES-06110  ...  Coral bleaching is most noticeable in the Paci...\n",
              "4   EBA1415_TRJA_11_CB_ES-06110  ...  That ocean covers about 1/3 of the surface of ...\n",
              "5   EBA1415_TRJA_11_CB_ES-06110  ...  The invertebrate animals live together in Colo...\n",
              "6   EBA1415_TRJA_11_CB_ES-06110  ...  The different type of algae living within the ...\n",
              "7    EBA1415_RHSG_2_CB_ES-05081  ...  There are several things that cause coral blea...\n",
              "8    EBA1415_RHSG_2_CB_ES-05081  ...               The trade winds make sea water rise.\n",
              "9    EBA1415_RHSG_2_CB_ES-05081  ...      The trade winds also change water temperature\n",
              "10   EBA1415_RHSG_2_CB_ES-05081  ...  (2) Coral is made up of small animals called p...\n",
              "11   EBA1415_RHSG_2_CB_ES-05081  ...  Coral reefs are only found in clear, shallow, ...\n",
              "12   EBA1415_RHSG_2_CB_ES-05081  ...  They live there because the algae that live in...\n",
              "13   EBA1415_RHSG_2_CB_ES-05081  ...              The algae use energy from sunlight to\n",
              "14   EBA1415_RHSG_2_CB_ES-05081  ...                               Ran out of time   //\n",
              "15   EBA1415_KYNS_4_CB_ES-05390  ...  What lead to differences in the rates of coral...\n",
              "16   EBA1415_KYNS_4_CB_ES-05390  ...   Coral bleaching is when a coral loses its color.\n",
              "17   EBA1415_KYNS_4_CB_ES-05390  ...                 One cause is shifting trade winds.\n",
              "18   EBA1415_KYNS_4_CB_ES-05390  ...  Trade winds travel from east to west, causing ...\n",
              "19   EBA1415_KYNS_4_CB_ES-05390  ...  Tradewinds constantly shift, causing major cha...\n",
              "20   EBA1415_KYNS_4_CB_ES-05390  ...  Weaker trade winds cause higher water temperat...\n",
              "22   EBA1415_KYNS_4_CB_ES-05390  ...  In order for coral to survive, it needs photos...\n",
              "23   EBA1415_KYNS_4_CB_ES-05390  ...  Algae lives in the coral tissues, called zooxa...\n",
              "24   EBA1415_KYNS_4_CB_ES-05390  ...  Coral and zooxanthellae need each other to sur...\n",
              "25   EBA1415_KYNS_4_CB_ES-05390  ...  Zooxanthellae gets energy fron the sun, combin...\n",
              "\n",
              "[25 rows x 4 columns]"
            ]
          },
          "metadata": {
            "tags": []
          },
          "execution_count": 25
        }
      ]
    },
    {
      "cell_type": "markdown",
      "metadata": {
        "id": "CvnLfXgy4aG2",
        "colab_type": "text"
      },
      "source": [
        "We must grab the original labels to use later for the additional classification step."
      ]
    },
    {
      "cell_type": "code",
      "metadata": {
        "id": "Ebws1VVh4gUk",
        "colab_type": "code",
        "colab": {
          "base_uri": "https://localhost:8080/",
          "height": 841
        },
        "outputId": "a7b177d2-ad6c-4a8a-c0ef-782dd7f7f9d6"
      },
      "source": [
        "inds = df_ternary_test.index.values.tolist()\n",
        "df_multi_test = df_test.copy(deep=True)\n",
        "df_multi_test = df_multi_test[df_multi_test.index.isin(inds)]\n",
        "print(\"Test size:\",len(df_multi_test))\n",
        "df_multi_test.head(25)"
      ],
      "execution_count": 26,
      "outputs": [
        {
          "output_type": "stream",
          "text": [
            "Test size: 2079\n"
          ],
          "name": "stdout"
        },
        {
          "output_type": "execute_result",
          "data": {
            "text/html": [
              "<div>\n",
              "<style scoped>\n",
              "    .dataframe tbody tr th:only-of-type {\n",
              "        vertical-align: middle;\n",
              "    }\n",
              "\n",
              "    .dataframe tbody tr th {\n",
              "        vertical-align: top;\n",
              "    }\n",
              "\n",
              "    .dataframe thead th {\n",
              "        text-align: right;\n",
              "    }\n",
              "</style>\n",
              "<table border=\"1\" class=\"dataframe\">\n",
              "  <thead>\n",
              "    <tr style=\"text-align: right;\">\n",
              "      <th></th>\n",
              "      <th>essay</th>\n",
              "      <th>relation</th>\n",
              "      <th>s_num</th>\n",
              "      <th>sentence</th>\n",
              "    </tr>\n",
              "  </thead>\n",
              "  <tbody>\n",
              "    <tr>\n",
              "      <th>0</th>\n",
              "      <td>EBA1415_TFBM_2_CB_ES-05548</td>\n",
              "      <td>O</td>\n",
              "      <td>1.0</td>\n",
              "      <td>No essay  //</td>\n",
              "    </tr>\n",
              "    <tr>\n",
              "      <th>1</th>\n",
              "      <td>EBA1415_TRJA_11_CB_ES-06110</td>\n",
              "      <td>O</td>\n",
              "      <td>2.0</td>\n",
              "      <td>Somethings that lead to the differences are.. ...</td>\n",
              "    </tr>\n",
              "    <tr>\n",
              "      <th>2</th>\n",
              "      <td>EBA1415_TRJA_11_CB_ES-06110</td>\n",
              "      <td>O</td>\n",
              "      <td>3.0</td>\n",
              "      <td>Some have been bleach all white it is a phenom...</td>\n",
              "    </tr>\n",
              "    <tr>\n",
              "      <th>3</th>\n",
              "      <td>EBA1415_TRJA_11_CB_ES-06110</td>\n",
              "      <td>O</td>\n",
              "      <td>4.0</td>\n",
              "      <td>Coral bleaching is most noticeable in the Paci...</td>\n",
              "    </tr>\n",
              "    <tr>\n",
              "      <th>4</th>\n",
              "      <td>EBA1415_TRJA_11_CB_ES-06110</td>\n",
              "      <td>O</td>\n",
              "      <td>5.0</td>\n",
              "      <td>That ocean covers about 1/3 of the surface of ...</td>\n",
              "    </tr>\n",
              "    <tr>\n",
              "      <th>5</th>\n",
              "      <td>EBA1415_TRJA_11_CB_ES-06110</td>\n",
              "      <td>O</td>\n",
              "      <td>6.0</td>\n",
              "      <td>The invertebrate animals live together in Colo...</td>\n",
              "    </tr>\n",
              "    <tr>\n",
              "      <th>6</th>\n",
              "      <td>EBA1415_TRJA_11_CB_ES-06110</td>\n",
              "      <td>R-7-50</td>\n",
              "      <td>7.0</td>\n",
              "      <td>The different type of algae living within the ...</td>\n",
              "    </tr>\n",
              "    <tr>\n",
              "      <th>7</th>\n",
              "      <td>EBA1415_RHSG_2_CB_ES-05081</td>\n",
              "      <td>R-1-50</td>\n",
              "      <td>8.0</td>\n",
              "      <td>There are several things that cause coral blea...</td>\n",
              "    </tr>\n",
              "    <tr>\n",
              "      <th>8</th>\n",
              "      <td>EBA1415_RHSG_2_CB_ES-05081</td>\n",
              "      <td>O</td>\n",
              "      <td>9.0</td>\n",
              "      <td>The trade winds make sea water rise.</td>\n",
              "    </tr>\n",
              "    <tr>\n",
              "      <th>9</th>\n",
              "      <td>EBA1415_RHSG_2_CB_ES-05081</td>\n",
              "      <td>R-1-3</td>\n",
              "      <td>10.0</td>\n",
              "      <td>The trade winds also change water temperature</td>\n",
              "    </tr>\n",
              "    <tr>\n",
              "      <th>10</th>\n",
              "      <td>EBA1415_RHSG_2_CB_ES-05081</td>\n",
              "      <td>O</td>\n",
              "      <td>11.0</td>\n",
              "      <td>(2) Coral is made up of small animals called p...</td>\n",
              "    </tr>\n",
              "    <tr>\n",
              "      <th>11</th>\n",
              "      <td>EBA1415_RHSG_2_CB_ES-05081</td>\n",
              "      <td>O</td>\n",
              "      <td>12.0</td>\n",
              "      <td>Coral reefs are only found in clear, shallow, ...</td>\n",
              "    </tr>\n",
              "    <tr>\n",
              "      <th>12</th>\n",
              "      <td>EBA1415_RHSG_2_CB_ES-05081</td>\n",
              "      <td>O</td>\n",
              "      <td>13.0</td>\n",
              "      <td>They live there because the algae that live in...</td>\n",
              "    </tr>\n",
              "    <tr>\n",
              "      <th>13</th>\n",
              "      <td>EBA1415_RHSG_2_CB_ES-05081</td>\n",
              "      <td>O</td>\n",
              "      <td>14.0</td>\n",
              "      <td>The algae use energy from sunlight to</td>\n",
              "    </tr>\n",
              "    <tr>\n",
              "      <th>14</th>\n",
              "      <td>EBA1415_RHSG_2_CB_ES-05081</td>\n",
              "      <td>O</td>\n",
              "      <td>15.0</td>\n",
              "      <td>Ran out of time   //</td>\n",
              "    </tr>\n",
              "    <tr>\n",
              "      <th>15</th>\n",
              "      <td>EBA1415_KYNS_4_CB_ES-05390</td>\n",
              "      <td>R-1-50</td>\n",
              "      <td>16.0</td>\n",
              "      <td>What lead to differences in the rates of coral...</td>\n",
              "    </tr>\n",
              "    <tr>\n",
              "      <th>16</th>\n",
              "      <td>EBA1415_KYNS_4_CB_ES-05390</td>\n",
              "      <td>O</td>\n",
              "      <td>17.0</td>\n",
              "      <td>Coral bleaching is when a coral loses its color.</td>\n",
              "    </tr>\n",
              "    <tr>\n",
              "      <th>17</th>\n",
              "      <td>EBA1415_KYNS_4_CB_ES-05390</td>\n",
              "      <td>O</td>\n",
              "      <td>18.0</td>\n",
              "      <td>One cause is shifting trade winds.</td>\n",
              "    </tr>\n",
              "    <tr>\n",
              "      <th>18</th>\n",
              "      <td>EBA1415_KYNS_4_CB_ES-05390</td>\n",
              "      <td>R-1-2</td>\n",
              "      <td>19.0</td>\n",
              "      <td>Trade winds travel from east to west, causing ...</td>\n",
              "    </tr>\n",
              "    <tr>\n",
              "      <th>19</th>\n",
              "      <td>EBA1415_KYNS_4_CB_ES-05390</td>\n",
              "      <td>O</td>\n",
              "      <td>20.0</td>\n",
              "      <td>Tradewinds constantly shift, causing major cha...</td>\n",
              "    </tr>\n",
              "    <tr>\n",
              "      <th>20</th>\n",
              "      <td>EBA1415_KYNS_4_CB_ES-05390</td>\n",
              "      <td>R-1-3</td>\n",
              "      <td>21.1</td>\n",
              "      <td>Weaker trade winds cause higher water temperat...</td>\n",
              "    </tr>\n",
              "    <tr>\n",
              "      <th>22</th>\n",
              "      <td>EBA1415_KYNS_4_CB_ES-05390</td>\n",
              "      <td>O</td>\n",
              "      <td>22.0</td>\n",
              "      <td>In order for coral to survive, it needs photos...</td>\n",
              "    </tr>\n",
              "    <tr>\n",
              "      <th>23</th>\n",
              "      <td>EBA1415_KYNS_4_CB_ES-05390</td>\n",
              "      <td>O</td>\n",
              "      <td>23.0</td>\n",
              "      <td>Algae lives in the coral tissues, called zooxa...</td>\n",
              "    </tr>\n",
              "    <tr>\n",
              "      <th>24</th>\n",
              "      <td>EBA1415_KYNS_4_CB_ES-05390</td>\n",
              "      <td>O</td>\n",
              "      <td>24.0</td>\n",
              "      <td>Coral and zooxanthellae need each other to sur...</td>\n",
              "    </tr>\n",
              "    <tr>\n",
              "      <th>25</th>\n",
              "      <td>EBA1415_KYNS_4_CB_ES-05390</td>\n",
              "      <td>R-4-5</td>\n",
              "      <td>25.0</td>\n",
              "      <td>Zooxanthellae gets energy fron the sun, combin...</td>\n",
              "    </tr>\n",
              "  </tbody>\n",
              "</table>\n",
              "</div>"
            ],
            "text/plain": [
              "                          essay  ...                                           sentence\n",
              "0    EBA1415_TFBM_2_CB_ES-05548  ...                                       No essay  //\n",
              "1   EBA1415_TRJA_11_CB_ES-06110  ...  Somethings that lead to the differences are.. ...\n",
              "2   EBA1415_TRJA_11_CB_ES-06110  ...  Some have been bleach all white it is a phenom...\n",
              "3   EBA1415_TRJA_11_CB_ES-06110  ...  Coral bleaching is most noticeable in the Paci...\n",
              "4   EBA1415_TRJA_11_CB_ES-06110  ...  That ocean covers about 1/3 of the surface of ...\n",
              "5   EBA1415_TRJA_11_CB_ES-06110  ...  The invertebrate animals live together in Colo...\n",
              "6   EBA1415_TRJA_11_CB_ES-06110  ...  The different type of algae living within the ...\n",
              "7    EBA1415_RHSG_2_CB_ES-05081  ...  There are several things that cause coral blea...\n",
              "8    EBA1415_RHSG_2_CB_ES-05081  ...               The trade winds make sea water rise.\n",
              "9    EBA1415_RHSG_2_CB_ES-05081  ...      The trade winds also change water temperature\n",
              "10   EBA1415_RHSG_2_CB_ES-05081  ...  (2) Coral is made up of small animals called p...\n",
              "11   EBA1415_RHSG_2_CB_ES-05081  ...  Coral reefs are only found in clear, shallow, ...\n",
              "12   EBA1415_RHSG_2_CB_ES-05081  ...  They live there because the algae that live in...\n",
              "13   EBA1415_RHSG_2_CB_ES-05081  ...              The algae use energy from sunlight to\n",
              "14   EBA1415_RHSG_2_CB_ES-05081  ...                               Ran out of time   //\n",
              "15   EBA1415_KYNS_4_CB_ES-05390  ...  What lead to differences in the rates of coral...\n",
              "16   EBA1415_KYNS_4_CB_ES-05390  ...   Coral bleaching is when a coral loses its color.\n",
              "17   EBA1415_KYNS_4_CB_ES-05390  ...                 One cause is shifting trade winds.\n",
              "18   EBA1415_KYNS_4_CB_ES-05390  ...  Trade winds travel from east to west, causing ...\n",
              "19   EBA1415_KYNS_4_CB_ES-05390  ...  Tradewinds constantly shift, causing major cha...\n",
              "20   EBA1415_KYNS_4_CB_ES-05390  ...  Weaker trade winds cause higher water temperat...\n",
              "22   EBA1415_KYNS_4_CB_ES-05390  ...  In order for coral to survive, it needs photos...\n",
              "23   EBA1415_KYNS_4_CB_ES-05390  ...  Algae lives in the coral tissues, called zooxa...\n",
              "24   EBA1415_KYNS_4_CB_ES-05390  ...  Coral and zooxanthellae need each other to sur...\n",
              "25   EBA1415_KYNS_4_CB_ES-05390  ...  Zooxanthellae gets energy fron the sun, combin...\n",
              "\n",
              "[25 rows x 4 columns]"
            ]
          },
          "metadata": {
            "tags": []
          },
          "execution_count": 26
        }
      ]
    },
    {
      "cell_type": "markdown",
      "metadata": {
        "id": "e4dzTF_y7XAV",
        "colab_type": "text"
      },
      "source": [
        "We must reset the indexes so that they match up with the indexes of the test set predictions."
      ]
    },
    {
      "cell_type": "code",
      "metadata": {
        "id": "Bb9yyHRl7b7w",
        "colab_type": "code",
        "colab": {
          "base_uri": "https://localhost:8080/",
          "height": 824
        },
        "outputId": "9bd08c1c-154e-4c0b-f0b2-e5dc182d74ce"
      },
      "source": [
        "df_multi_test = df_multi_test.reset_index(drop=True)\n",
        "df_multi_test.head(25)"
      ],
      "execution_count": 27,
      "outputs": [
        {
          "output_type": "execute_result",
          "data": {
            "text/html": [
              "<div>\n",
              "<style scoped>\n",
              "    .dataframe tbody tr th:only-of-type {\n",
              "        vertical-align: middle;\n",
              "    }\n",
              "\n",
              "    .dataframe tbody tr th {\n",
              "        vertical-align: top;\n",
              "    }\n",
              "\n",
              "    .dataframe thead th {\n",
              "        text-align: right;\n",
              "    }\n",
              "</style>\n",
              "<table border=\"1\" class=\"dataframe\">\n",
              "  <thead>\n",
              "    <tr style=\"text-align: right;\">\n",
              "      <th></th>\n",
              "      <th>essay</th>\n",
              "      <th>relation</th>\n",
              "      <th>s_num</th>\n",
              "      <th>sentence</th>\n",
              "    </tr>\n",
              "  </thead>\n",
              "  <tbody>\n",
              "    <tr>\n",
              "      <th>0</th>\n",
              "      <td>EBA1415_TFBM_2_CB_ES-05548</td>\n",
              "      <td>O</td>\n",
              "      <td>1.0</td>\n",
              "      <td>No essay  //</td>\n",
              "    </tr>\n",
              "    <tr>\n",
              "      <th>1</th>\n",
              "      <td>EBA1415_TRJA_11_CB_ES-06110</td>\n",
              "      <td>O</td>\n",
              "      <td>2.0</td>\n",
              "      <td>Somethings that lead to the differences are.. ...</td>\n",
              "    </tr>\n",
              "    <tr>\n",
              "      <th>2</th>\n",
              "      <td>EBA1415_TRJA_11_CB_ES-06110</td>\n",
              "      <td>O</td>\n",
              "      <td>3.0</td>\n",
              "      <td>Some have been bleach all white it is a phenom...</td>\n",
              "    </tr>\n",
              "    <tr>\n",
              "      <th>3</th>\n",
              "      <td>EBA1415_TRJA_11_CB_ES-06110</td>\n",
              "      <td>O</td>\n",
              "      <td>4.0</td>\n",
              "      <td>Coral bleaching is most noticeable in the Paci...</td>\n",
              "    </tr>\n",
              "    <tr>\n",
              "      <th>4</th>\n",
              "      <td>EBA1415_TRJA_11_CB_ES-06110</td>\n",
              "      <td>O</td>\n",
              "      <td>5.0</td>\n",
              "      <td>That ocean covers about 1/3 of the surface of ...</td>\n",
              "    </tr>\n",
              "    <tr>\n",
              "      <th>5</th>\n",
              "      <td>EBA1415_TRJA_11_CB_ES-06110</td>\n",
              "      <td>O</td>\n",
              "      <td>6.0</td>\n",
              "      <td>The invertebrate animals live together in Colo...</td>\n",
              "    </tr>\n",
              "    <tr>\n",
              "      <th>6</th>\n",
              "      <td>EBA1415_TRJA_11_CB_ES-06110</td>\n",
              "      <td>R-7-50</td>\n",
              "      <td>7.0</td>\n",
              "      <td>The different type of algae living within the ...</td>\n",
              "    </tr>\n",
              "    <tr>\n",
              "      <th>7</th>\n",
              "      <td>EBA1415_RHSG_2_CB_ES-05081</td>\n",
              "      <td>R-1-50</td>\n",
              "      <td>8.0</td>\n",
              "      <td>There are several things that cause coral blea...</td>\n",
              "    </tr>\n",
              "    <tr>\n",
              "      <th>8</th>\n",
              "      <td>EBA1415_RHSG_2_CB_ES-05081</td>\n",
              "      <td>O</td>\n",
              "      <td>9.0</td>\n",
              "      <td>The trade winds make sea water rise.</td>\n",
              "    </tr>\n",
              "    <tr>\n",
              "      <th>9</th>\n",
              "      <td>EBA1415_RHSG_2_CB_ES-05081</td>\n",
              "      <td>R-1-3</td>\n",
              "      <td>10.0</td>\n",
              "      <td>The trade winds also change water temperature</td>\n",
              "    </tr>\n",
              "    <tr>\n",
              "      <th>10</th>\n",
              "      <td>EBA1415_RHSG_2_CB_ES-05081</td>\n",
              "      <td>O</td>\n",
              "      <td>11.0</td>\n",
              "      <td>(2) Coral is made up of small animals called p...</td>\n",
              "    </tr>\n",
              "    <tr>\n",
              "      <th>11</th>\n",
              "      <td>EBA1415_RHSG_2_CB_ES-05081</td>\n",
              "      <td>O</td>\n",
              "      <td>12.0</td>\n",
              "      <td>Coral reefs are only found in clear, shallow, ...</td>\n",
              "    </tr>\n",
              "    <tr>\n",
              "      <th>12</th>\n",
              "      <td>EBA1415_RHSG_2_CB_ES-05081</td>\n",
              "      <td>O</td>\n",
              "      <td>13.0</td>\n",
              "      <td>They live there because the algae that live in...</td>\n",
              "    </tr>\n",
              "    <tr>\n",
              "      <th>13</th>\n",
              "      <td>EBA1415_RHSG_2_CB_ES-05081</td>\n",
              "      <td>O</td>\n",
              "      <td>14.0</td>\n",
              "      <td>The algae use energy from sunlight to</td>\n",
              "    </tr>\n",
              "    <tr>\n",
              "      <th>14</th>\n",
              "      <td>EBA1415_RHSG_2_CB_ES-05081</td>\n",
              "      <td>O</td>\n",
              "      <td>15.0</td>\n",
              "      <td>Ran out of time   //</td>\n",
              "    </tr>\n",
              "    <tr>\n",
              "      <th>15</th>\n",
              "      <td>EBA1415_KYNS_4_CB_ES-05390</td>\n",
              "      <td>R-1-50</td>\n",
              "      <td>16.0</td>\n",
              "      <td>What lead to differences in the rates of coral...</td>\n",
              "    </tr>\n",
              "    <tr>\n",
              "      <th>16</th>\n",
              "      <td>EBA1415_KYNS_4_CB_ES-05390</td>\n",
              "      <td>O</td>\n",
              "      <td>17.0</td>\n",
              "      <td>Coral bleaching is when a coral loses its color.</td>\n",
              "    </tr>\n",
              "    <tr>\n",
              "      <th>17</th>\n",
              "      <td>EBA1415_KYNS_4_CB_ES-05390</td>\n",
              "      <td>O</td>\n",
              "      <td>18.0</td>\n",
              "      <td>One cause is shifting trade winds.</td>\n",
              "    </tr>\n",
              "    <tr>\n",
              "      <th>18</th>\n",
              "      <td>EBA1415_KYNS_4_CB_ES-05390</td>\n",
              "      <td>R-1-2</td>\n",
              "      <td>19.0</td>\n",
              "      <td>Trade winds travel from east to west, causing ...</td>\n",
              "    </tr>\n",
              "    <tr>\n",
              "      <th>19</th>\n",
              "      <td>EBA1415_KYNS_4_CB_ES-05390</td>\n",
              "      <td>O</td>\n",
              "      <td>20.0</td>\n",
              "      <td>Tradewinds constantly shift, causing major cha...</td>\n",
              "    </tr>\n",
              "    <tr>\n",
              "      <th>20</th>\n",
              "      <td>EBA1415_KYNS_4_CB_ES-05390</td>\n",
              "      <td>R-1-3</td>\n",
              "      <td>21.1</td>\n",
              "      <td>Weaker trade winds cause higher water temperat...</td>\n",
              "    </tr>\n",
              "    <tr>\n",
              "      <th>21</th>\n",
              "      <td>EBA1415_KYNS_4_CB_ES-05390</td>\n",
              "      <td>O</td>\n",
              "      <td>22.0</td>\n",
              "      <td>In order for coral to survive, it needs photos...</td>\n",
              "    </tr>\n",
              "    <tr>\n",
              "      <th>22</th>\n",
              "      <td>EBA1415_KYNS_4_CB_ES-05390</td>\n",
              "      <td>O</td>\n",
              "      <td>23.0</td>\n",
              "      <td>Algae lives in the coral tissues, called zooxa...</td>\n",
              "    </tr>\n",
              "    <tr>\n",
              "      <th>23</th>\n",
              "      <td>EBA1415_KYNS_4_CB_ES-05390</td>\n",
              "      <td>O</td>\n",
              "      <td>24.0</td>\n",
              "      <td>Coral and zooxanthellae need each other to sur...</td>\n",
              "    </tr>\n",
              "    <tr>\n",
              "      <th>24</th>\n",
              "      <td>EBA1415_KYNS_4_CB_ES-05390</td>\n",
              "      <td>R-4-5</td>\n",
              "      <td>25.0</td>\n",
              "      <td>Zooxanthellae gets energy fron the sun, combin...</td>\n",
              "    </tr>\n",
              "  </tbody>\n",
              "</table>\n",
              "</div>"
            ],
            "text/plain": [
              "                          essay  ...                                           sentence\n",
              "0    EBA1415_TFBM_2_CB_ES-05548  ...                                       No essay  //\n",
              "1   EBA1415_TRJA_11_CB_ES-06110  ...  Somethings that lead to the differences are.. ...\n",
              "2   EBA1415_TRJA_11_CB_ES-06110  ...  Some have been bleach all white it is a phenom...\n",
              "3   EBA1415_TRJA_11_CB_ES-06110  ...  Coral bleaching is most noticeable in the Paci...\n",
              "4   EBA1415_TRJA_11_CB_ES-06110  ...  That ocean covers about 1/3 of the surface of ...\n",
              "5   EBA1415_TRJA_11_CB_ES-06110  ...  The invertebrate animals live together in Colo...\n",
              "6   EBA1415_TRJA_11_CB_ES-06110  ...  The different type of algae living within the ...\n",
              "7    EBA1415_RHSG_2_CB_ES-05081  ...  There are several things that cause coral blea...\n",
              "8    EBA1415_RHSG_2_CB_ES-05081  ...               The trade winds make sea water rise.\n",
              "9    EBA1415_RHSG_2_CB_ES-05081  ...      The trade winds also change water temperature\n",
              "10   EBA1415_RHSG_2_CB_ES-05081  ...  (2) Coral is made up of small animals called p...\n",
              "11   EBA1415_RHSG_2_CB_ES-05081  ...  Coral reefs are only found in clear, shallow, ...\n",
              "12   EBA1415_RHSG_2_CB_ES-05081  ...  They live there because the algae that live in...\n",
              "13   EBA1415_RHSG_2_CB_ES-05081  ...              The algae use energy from sunlight to\n",
              "14   EBA1415_RHSG_2_CB_ES-05081  ...                               Ran out of time   //\n",
              "15   EBA1415_KYNS_4_CB_ES-05390  ...  What lead to differences in the rates of coral...\n",
              "16   EBA1415_KYNS_4_CB_ES-05390  ...   Coral bleaching is when a coral loses its color.\n",
              "17   EBA1415_KYNS_4_CB_ES-05390  ...                 One cause is shifting trade winds.\n",
              "18   EBA1415_KYNS_4_CB_ES-05390  ...  Trade winds travel from east to west, causing ...\n",
              "19   EBA1415_KYNS_4_CB_ES-05390  ...  Tradewinds constantly shift, causing major cha...\n",
              "20   EBA1415_KYNS_4_CB_ES-05390  ...  Weaker trade winds cause higher water temperat...\n",
              "21   EBA1415_KYNS_4_CB_ES-05390  ...  In order for coral to survive, it needs photos...\n",
              "22   EBA1415_KYNS_4_CB_ES-05390  ...  Algae lives in the coral tissues, called zooxa...\n",
              "23   EBA1415_KYNS_4_CB_ES-05390  ...  Coral and zooxanthellae need each other to sur...\n",
              "24   EBA1415_KYNS_4_CB_ES-05390  ...  Zooxanthellae gets energy fron the sun, combin...\n",
              "\n",
              "[25 rows x 4 columns]"
            ]
          },
          "metadata": {
            "tags": []
          },
          "execution_count": 27
        }
      ]
    },
    {
      "cell_type": "markdown",
      "metadata": {
        "id": "TTjNjwI12jI1",
        "colab_type": "text"
      },
      "source": [
        "Let's take a look at the class breakdown for the test set."
      ]
    },
    {
      "cell_type": "code",
      "metadata": {
        "id": "uPm_CVaK2hky",
        "colab_type": "code",
        "colab": {
          "base_uri": "https://localhost:8080/",
          "height": 85
        },
        "outputId": "4a9abd8b-1706-4d94-c594-f25e19ced8e8"
      },
      "source": [
        "df_ternary_test[\"relation\"].value_counts()"
      ],
      "execution_count": 28,
      "outputs": [
        {
          "output_type": "execute_result",
          "data": {
            "text/plain": [
              "0    1474\n",
              "1     587\n",
              "2      18\n",
              "Name: relation, dtype: int64"
            ]
          },
          "metadata": {
            "tags": []
          },
          "execution_count": 28
        }
      ]
    },
    {
      "cell_type": "markdown",
      "metadata": {
        "id": "EfFfcc44HqdI",
        "colab_type": "text"
      },
      "source": [
        "# Extract sentences and labels from test data."
      ]
    },
    {
      "cell_type": "code",
      "metadata": {
        "id": "PomTzpRjHp0r",
        "colab_type": "code",
        "colab": {
          "base_uri": "https://localhost:8080/",
          "height": 34
        },
        "outputId": "0ac1a244-f1b0-4f1a-fae1-394b1b27ce7f"
      },
      "source": [
        "sentences_test = df_ternary_test.sentence.values\n",
        "sentences_test = [\"[CLS] \" + sentence + \" [SEP]\" for sentence in sentences_test]\n",
        "\n",
        "tokenized_texts_test = [tokenizer.tokenize(sentence) for sentence in sentences_test]\n",
        "labels_test = df_ternary_test.relation.values.astype(int)\n",
        "labels_test"
      ],
      "execution_count": 29,
      "outputs": [
        {
          "output_type": "execute_result",
          "data": {
            "text/plain": [
              "array([0, 0, 0, ..., 0, 0, 0])"
            ]
          },
          "metadata": {
            "tags": []
          },
          "execution_count": 29
        }
      ]
    },
    {
      "cell_type": "markdown",
      "metadata": {
        "id": "j21brSBMIW9Y",
        "colab_type": "text"
      },
      "source": [
        "Tokenize test set essays."
      ]
    },
    {
      "cell_type": "code",
      "metadata": {
        "id": "JtM-j9FZIYvP",
        "colab_type": "code",
        "colab": {}
      },
      "source": [
        "input_ids_test = [tokenizer.convert_tokens_to_ids(x) for x in tokenized_texts_test]\n",
        "input_ids_test = pad_sequences(input_ids_test, maxlen=MAX_LEN, dtype=\"long\", truncating=\"post\", padding=\"post\")"
      ],
      "execution_count": 30,
      "outputs": []
    },
    {
      "cell_type": "markdown",
      "metadata": {
        "id": "0rnQgbv2IhlZ",
        "colab_type": "text"
      },
      "source": [
        "Set test set attention masks."
      ]
    },
    {
      "cell_type": "code",
      "metadata": {
        "id": "kPV2hsUPIgKD",
        "colab_type": "code",
        "colab": {}
      },
      "source": [
        "attention_masks_test = []\n",
        "\n",
        "for seq in input_ids_test:\n",
        "  seq_mask = [float(i>0) for i in seq]\n",
        "  attention_masks_test.append(seq_mask)"
      ],
      "execution_count": 31,
      "outputs": []
    },
    {
      "cell_type": "markdown",
      "metadata": {
        "id": "w5FwRQuDIo0V",
        "colab_type": "text"
      },
      "source": [
        "Tensorize and load data."
      ]
    },
    {
      "cell_type": "code",
      "metadata": {
        "id": "-8DwjhE0Idt0",
        "colab_type": "code",
        "colab": {}
      },
      "source": [
        "prediction_inputs = torch.tensor(input_ids_test)\n",
        "prediction_masks = torch.tensor(attention_masks_test)\n",
        "prediction_labels = torch.tensor(labels_test)\n",
        "\n",
        "prediction_data = TensorDataset(prediction_inputs, prediction_masks, prediction_labels)\n",
        "prediction_sampler = SequentialSampler(prediction_data)\n",
        "prediction_dataloader = DataLoader(prediction_data, sampler=prediction_sampler, batch_size=BATCH_SIZE)"
      ],
      "execution_count": 32,
      "outputs": []
    },
    {
      "cell_type": "markdown",
      "metadata": {
        "id": "OdjmvRg6JKGW",
        "colab_type": "text"
      },
      "source": [
        "Evaluate test set."
      ]
    },
    {
      "cell_type": "code",
      "metadata": {
        "id": "HvleeCpEJOMj",
        "colab_type": "code",
        "colab": {}
      },
      "source": [
        "model.eval()\n",
        "\n",
        "predictions_test, true_labels_test = [], []\n",
        "\n",
        "# Predict \n",
        "for batch in prediction_dataloader:\n",
        "  # Add batch to GPU\n",
        "  batch = tuple(t.to(device) for t in batch)\n",
        "  # Unpack the inputs from our dataloader\n",
        "  b_input_ids, b_input_mask, b_labels = batch\n",
        "  # Telling the model not to compute or store gradients, saving memory and speeding up prediction\n",
        "  with torch.no_grad():\n",
        "    # Forward pass, calculate logit predictions\n",
        "    logits = model(b_input_ids, token_type_ids=None, attention_mask=b_input_mask)\n",
        "\n",
        "  # Move logits and labels to CPU\n",
        "  logits_test = logits.detach().cpu().numpy()\n",
        "  label_ids_test = b_labels.to('cpu').numpy()\n",
        "  \n",
        "  # Store predictions and true labels\n",
        "  predictions_test.append(logits_test)\n",
        "  true_labels_test.append(label_ids_test)"
      ],
      "execution_count": 33,
      "outputs": []
    },
    {
      "cell_type": "markdown",
      "metadata": {
        "id": "iU7c-AihNHUD",
        "colab_type": "text"
      },
      "source": [
        "Print confusion matrix."
      ]
    },
    {
      "cell_type": "code",
      "metadata": {
        "id": "8jOQnGHINJqG",
        "colab_type": "code",
        "colab": {
          "base_uri": "https://localhost:8080/",
          "height": 170
        },
        "outputId": "c206823a-df29-4e93-9d85-c7b0de072761"
      },
      "source": [
        "from sklearn.metrics import confusion_matrix\n",
        "\n",
        "flat_predictions_test = [item for sublist in predictions_test for item in sublist]\n",
        "flat_predictions_test = np.argmax(flat_predictions_test, axis=1).flatten()\n",
        "flat_true_labels_test = [item for sublist in true_labels_test for item in sublist]\n",
        "\n",
        "y_pred = flat_predictions_test\n",
        "y = flat_true_labels_test\n",
        "\n",
        "stats = confusion_matrix(y, y_pred).ravel()\n",
        "\n",
        "print(\"\\t\\t\\t      Predicted\\n\")\n",
        "print(\"\\t\\t\\tNone\\tValid\\tInvalid\")\n",
        "print(\"\\n\\t\\tNone\\t{}     {}        {}\".format(stats[0], stats[1], stats[2]))\n",
        "print(\"      Actual\")\n",
        "print(\"\\t\\tValid\\t{}      {}        {}\".format(stats[3], stats[4], stats[5]))\n",
        "print(\"\\n\\t\\tInvalid\\t {}       {}        {}\".format(stats[6], stats[7], stats[8]))"
      ],
      "execution_count": 34,
      "outputs": [
        {
          "output_type": "stream",
          "text": [
            "\t\t\t      Predicted\n",
            "\n",
            "\t\t\tNone\tValid\tInvalid\n",
            "\n",
            "\t\tNone\t1320     154        0\n",
            "      Actual\n",
            "\t\tValid\t97      490        0\n",
            "\n",
            "\t\tInvalid\t 7       11        0\n"
          ],
          "name": "stdout"
        }
      ]
    },
    {
      "cell_type": "markdown",
      "metadata": {
        "id": "t3_FXfJ78CKb",
        "colab_type": "text"
      },
      "source": [
        "Now we must isolate the predictions. We will start with the negative class."
      ]
    },
    {
      "cell_type": "code",
      "metadata": {
        "id": "lxxkzX6c8FMi",
        "colab_type": "code",
        "colab": {
          "base_uri": "https://localhost:8080/",
          "height": 34
        },
        "outputId": "eae71f65-0972-4cf9-c101-4ef85e4161a3"
      },
      "source": [
        "test_pred_norelation_inds = [i for i in range(len(y_pred)) if y_pred[i] == 0]\n",
        "test_pred_norelation_arr = [y_pred[i] for i in test_pred_norelation_inds]\n",
        "print(\"Predicted no relation:\",len(test_pred_norelation_inds))"
      ],
      "execution_count": 35,
      "outputs": [
        {
          "output_type": "stream",
          "text": [
            "Predicted no relation: 1424\n"
          ],
          "name": "stdout"
        }
      ]
    },
    {
      "cell_type": "markdown",
      "metadata": {
        "id": "TbeKylKY9UPy",
        "colab_type": "text"
      },
      "source": [
        "Isolate corresponding actual labels."
      ]
    },
    {
      "cell_type": "code",
      "metadata": {
        "id": "75Za8hTD9XKo",
        "colab_type": "code",
        "colab": {
          "base_uri": "https://localhost:8080/",
          "height": 34
        },
        "outputId": "bdc8e600-7ae8-4d8d-c20a-acadc77137c1"
      },
      "source": [
        "test_true_norelation_inds = [i for i in range(len(y)) if y[i] == 0]\n",
        "test_true_norelation_arr = [y[i] for i in test_pred_norelation_inds]\n",
        "print(\"Actual no relation:\",len(test_true_norelation_inds))"
      ],
      "execution_count": 36,
      "outputs": [
        {
          "output_type": "stream",
          "text": [
            "Actual no relation: 1474\n"
          ],
          "name": "stdout"
        }
      ]
    },
    {
      "cell_type": "markdown",
      "metadata": {
        "id": "0_h6Cgja-Cco",
        "colab_type": "text"
      },
      "source": [
        "Let's take a look at the stats for just the negative class."
      ]
    },
    {
      "cell_type": "code",
      "metadata": {
        "id": "CtvoRCCS9vEy",
        "colab_type": "code",
        "colab": {
          "base_uri": "https://localhost:8080/",
          "height": 170
        },
        "outputId": "f7042695-d123-4f19-8159-c734dfae9c0f"
      },
      "source": [
        "test_pred_norelation_all_inds = [i for i in range(len(y_pred)) if y_pred[i] == 0 or  y[i] == 0]\n",
        "test_pred_norelation_all_arr = [y_pred[i] for i in test_pred_norelation_all_inds]\n",
        "test_true_norelation_all_arr = [y[i] for i in test_pred_norelation_all_inds]\n",
        "\n",
        "neg_stats = confusion_matrix(test_true_norelation_all_arr, test_pred_norelation_all_arr).ravel()\n",
        "\n",
        "print(\"\\t\\t\\t      Predicted\\n\")\n",
        "print(\"\\t\\t\\tNone\\tValid\\tInvalid\")\n",
        "print(\"\\n\\t\\tNone\\t{}     {}        {}\".format(neg_stats[0], neg_stats[1], neg_stats[2]))\n",
        "print(\"      Actual\")\n",
        "print(\"\\t\\tValid\\t{}      {}        {}\".format(neg_stats[3], neg_stats[4], neg_stats[5]))\n",
        "print(\"\\n\\t\\tInvalid\\t {}       {}        {}\".format(neg_stats[6], neg_stats[7], neg_stats[8]))"
      ],
      "execution_count": 37,
      "outputs": [
        {
          "output_type": "stream",
          "text": [
            "\t\t\t      Predicted\n",
            "\n",
            "\t\t\tNone\tValid\tInvalid\n",
            "\n",
            "\t\tNone\t1320     154        0\n",
            "      Actual\n",
            "\t\tValid\t97      0        0\n",
            "\n",
            "\t\tInvalid\t 7       0        0\n"
          ],
          "name": "stdout"
        }
      ]
    },
    {
      "cell_type": "markdown",
      "metadata": {
        "id": "C0AjGOW5BrkD",
        "colab_type": "text"
      },
      "source": [
        "Get precision, recall, and F1 for negative class."
      ]
    },
    {
      "cell_type": "code",
      "metadata": {
        "id": "VWpVtcFq9vBx",
        "colab_type": "code",
        "colab": {
          "base_uri": "https://localhost:8080/",
          "height": 102
        },
        "outputId": "03148424-e01d-43ec-d117-24b48f44400a"
      },
      "source": [
        "neg_prec = neg_stats[0] / (neg_stats[0] + neg_stats[3] + neg_stats[6])\n",
        "neg_rec = neg_stats[0] / (neg_stats[0] + neg_stats[1] + neg_stats[2])\n",
        "neg_f1 = 2*neg_prec*neg_rec / (neg_prec + neg_rec)\n",
        "\n",
        "print(\"Negative class metrics:\\n\")\n",
        "print(\"Precision: \",neg_prec)\n",
        "print(\"Recall:    \",neg_rec)\n",
        "print(\"F1:        \",neg_f1)"
      ],
      "execution_count": 38,
      "outputs": [
        {
          "output_type": "stream",
          "text": [
            "Negative class metrics:\n",
            "\n",
            "Precision:  0.9269662921348315\n",
            "Recall:     0.8955223880597015\n",
            "F1:         0.9109730848861284\n"
          ],
          "name": "stdout"
        }
      ]
    },
    {
      "cell_type": "markdown",
      "metadata": {
        "id": "EILoHtfRMlqK",
        "colab_type": "text"
      },
      "source": [
        "Get negative accuracy"
      ]
    },
    {
      "cell_type": "code",
      "metadata": {
        "id": "H4ySsvSYMklz",
        "colab_type": "code",
        "colab": {
          "base_uri": "https://localhost:8080/",
          "height": 85
        },
        "outputId": "73854388-9b12-42be-9a41-0ad17d0c8ee0"
      },
      "source": [
        "num_neg_predict = 0\n",
        "neg_correct = 0\n",
        "neg_incorrect = 0\n",
        "\n",
        "for i in range(len(y)):\n",
        "  if y_pred[i] == 0:\n",
        "    num_neg_predict += 1\n",
        "    if y[i] == 0:\n",
        "      neg_correct += 1\n",
        "    else: \n",
        "      neg_incorrect += 1\n",
        "\n",
        "print(\"Total predicted negative:\",num_neg_predict)\n",
        "print(\"Negatives predicted correctly:\", neg_correct)\n",
        "print(\"Negatives predicted incorrectly:\", neg_incorrect)\n",
        "print(\"Negative accuracy:\", neg_correct/num_neg_predict)"
      ],
      "execution_count": 39,
      "outputs": [
        {
          "output_type": "stream",
          "text": [
            "Total predicted negative: 1424\n",
            "Negatives predicted correctly: 1320\n",
            "Negatives predicted incorrectly: 104\n",
            "Negative accuracy: 0.9269662921348315\n"
          ],
          "name": "stdout"
        }
      ]
    },
    {
      "cell_type": "markdown",
      "metadata": {
        "id": "Bm5e6DuFDAPE",
        "colab_type": "text"
      },
      "source": [
        "Now we must isolate the valid and invalid predictions so that we can run them through the multilabel classifier."
      ]
    },
    {
      "cell_type": "code",
      "metadata": {
        "id": "PF4eFNwK9u9_",
        "colab_type": "code",
        "colab": {
          "base_uri": "https://localhost:8080/",
          "height": 51
        },
        "outputId": "7da2fae3-e3c8-4cdc-ee90-1c2e7c6fa8e7"
      },
      "source": [
        "# Get array of all instances predicted valid\n",
        "\n",
        "test_pred_valid_inds = [i for i in range(len(y_pred)) if y_pred[i] == 1]\n",
        "test_true_valid_inds = [i for i in range(len(y)) if y[i] == 1]\n",
        "print(\"Predicted valid:\",len(test_pred_valid_inds))\n",
        "print(\"Actual valid:\",len(test_true_valid_inds))"
      ],
      "execution_count": 40,
      "outputs": [
        {
          "output_type": "stream",
          "text": [
            "Predicted valid: 655\n",
            "Actual valid: 587\n"
          ],
          "name": "stdout"
        }
      ]
    },
    {
      "cell_type": "code",
      "metadata": {
        "colab_type": "code",
        "id": "A9LRXrfCDg7d",
        "colab": {
          "base_uri": "https://localhost:8080/",
          "height": 51
        },
        "outputId": "2dcd04d2-8c34-44ba-a010-9aea7e208dad"
      },
      "source": [
        "# Get array of all instances predicted invalid\n",
        "\n",
        "test_pred_invalid_inds = [i for i in range(len(y_pred)) if y_pred[i] == 2]\n",
        "test_true_invalid_inds = [i for i in range(len(y)) if y[i] == 2]\n",
        "print(\"Predicted invalid:\",len(test_pred_invalid_inds))\n",
        "print(\"Actual invalid:\",len(test_true_invalid_inds))"
      ],
      "execution_count": 41,
      "outputs": [
        {
          "output_type": "stream",
          "text": [
            "Predicted invalid: 0\n",
            "Actual invalid: 18\n"
          ],
          "name": "stdout"
        }
      ]
    },
    {
      "cell_type": "code",
      "metadata": {
        "id": "4aLutiX43Vji",
        "colab_type": "code",
        "colab": {
          "base_uri": "https://localhost:8080/",
          "height": 841
        },
        "outputId": "94b70a3f-487f-4898-99a2-42089dfa9830"
      },
      "source": [
        "# Create dataframe of valid predictions\n",
        "\n",
        "df_multi_test_valid = df_multi_test.copy(deep=True)\n",
        "df_multi_test_valid = df_multi_test_valid[df_multi_test_valid.index.isin(test_pred_valid_inds)]\n",
        "print(\"Test size (valid predictions):\",len(df_multi_test_valid))\n",
        "df_multi_test_valid.head(25)"
      ],
      "execution_count": 42,
      "outputs": [
        {
          "output_type": "stream",
          "text": [
            "Test size (valid predictions): 655\n"
          ],
          "name": "stdout"
        },
        {
          "output_type": "execute_result",
          "data": {
            "text/html": [
              "<div>\n",
              "<style scoped>\n",
              "    .dataframe tbody tr th:only-of-type {\n",
              "        vertical-align: middle;\n",
              "    }\n",
              "\n",
              "    .dataframe tbody tr th {\n",
              "        vertical-align: top;\n",
              "    }\n",
              "\n",
              "    .dataframe thead th {\n",
              "        text-align: right;\n",
              "    }\n",
              "</style>\n",
              "<table border=\"1\" class=\"dataframe\">\n",
              "  <thead>\n",
              "    <tr style=\"text-align: right;\">\n",
              "      <th></th>\n",
              "      <th>essay</th>\n",
              "      <th>relation</th>\n",
              "      <th>s_num</th>\n",
              "      <th>sentence</th>\n",
              "    </tr>\n",
              "  </thead>\n",
              "  <tbody>\n",
              "    <tr>\n",
              "      <th>6</th>\n",
              "      <td>EBA1415_TRJA_11_CB_ES-06110</td>\n",
              "      <td>R-7-50</td>\n",
              "      <td>7.0</td>\n",
              "      <td>The different type of algae living within the ...</td>\n",
              "    </tr>\n",
              "    <tr>\n",
              "      <th>7</th>\n",
              "      <td>EBA1415_RHSG_2_CB_ES-05081</td>\n",
              "      <td>R-1-50</td>\n",
              "      <td>8.0</td>\n",
              "      <td>There are several things that cause coral blea...</td>\n",
              "    </tr>\n",
              "    <tr>\n",
              "      <th>8</th>\n",
              "      <td>EBA1415_RHSG_2_CB_ES-05081</td>\n",
              "      <td>O</td>\n",
              "      <td>9.0</td>\n",
              "      <td>The trade winds make sea water rise.</td>\n",
              "    </tr>\n",
              "    <tr>\n",
              "      <th>9</th>\n",
              "      <td>EBA1415_RHSG_2_CB_ES-05081</td>\n",
              "      <td>R-1-3</td>\n",
              "      <td>10.0</td>\n",
              "      <td>The trade winds also change water temperature</td>\n",
              "    </tr>\n",
              "    <tr>\n",
              "      <th>15</th>\n",
              "      <td>EBA1415_KYNS_4_CB_ES-05390</td>\n",
              "      <td>R-1-50</td>\n",
              "      <td>16.0</td>\n",
              "      <td>What lead to differences in the rates of coral...</td>\n",
              "    </tr>\n",
              "    <tr>\n",
              "      <th>18</th>\n",
              "      <td>EBA1415_KYNS_4_CB_ES-05390</td>\n",
              "      <td>R-1-2</td>\n",
              "      <td>19.0</td>\n",
              "      <td>Trade winds travel from east to west, causing ...</td>\n",
              "    </tr>\n",
              "    <tr>\n",
              "      <th>19</th>\n",
              "      <td>EBA1415_KYNS_4_CB_ES-05390</td>\n",
              "      <td>O</td>\n",
              "      <td>20.0</td>\n",
              "      <td>Tradewinds constantly shift, causing major cha...</td>\n",
              "    </tr>\n",
              "    <tr>\n",
              "      <th>20</th>\n",
              "      <td>EBA1415_KYNS_4_CB_ES-05390</td>\n",
              "      <td>R-1-3</td>\n",
              "      <td>21.1</td>\n",
              "      <td>Weaker trade winds cause higher water temperat...</td>\n",
              "    </tr>\n",
              "    <tr>\n",
              "      <th>27</th>\n",
              "      <td>EBA1415_KYNS_4_CB_ES-05390</td>\n",
              "      <td>R-3-4</td>\n",
              "      <td>28.0</td>\n",
              "      <td>When water temperature increases, the amount o...</td>\n",
              "    </tr>\n",
              "    <tr>\n",
              "      <th>28</th>\n",
              "      <td>EBA1415_KYNS_4_CB_ES-05390</td>\n",
              "      <td>R-3-14</td>\n",
              "      <td>29.1</td>\n",
              "      <td>When the water temperature is constantly chang...</td>\n",
              "    </tr>\n",
              "    <tr>\n",
              "      <th>29</th>\n",
              "      <td>EBA1415_KYNS_4_CB_ES-05390</td>\n",
              "      <td>R-14-50</td>\n",
              "      <td>30.1</td>\n",
              "      <td>Coral bleaching happens when the coral is unhe...</td>\n",
              "    </tr>\n",
              "    <tr>\n",
              "      <th>30</th>\n",
              "      <td>EBA1415_KYNS_4_CB_ES-05390</td>\n",
              "      <td>R-1-3</td>\n",
              "      <td>31.1</td>\n",
              "      <td>Trade winds affect the balance of water temper...</td>\n",
              "    </tr>\n",
              "    <tr>\n",
              "      <th>33</th>\n",
              "      <td>EBA1415_KYNS_4_CB_ES-05390</td>\n",
              "      <td>R-7-14</td>\n",
              "      <td>34.1</td>\n",
              "      <td>When the zooxanthellae dies or is ejected, the...</td>\n",
              "    </tr>\n",
              "    <tr>\n",
              "      <th>36</th>\n",
              "      <td>EBA1415_TWPK_3_CB_ES-05049</td>\n",
              "      <td>O</td>\n",
              "      <td>37.0</td>\n",
              "      <td>Also the shift and changing in the wind also e...</td>\n",
              "    </tr>\n",
              "    <tr>\n",
              "      <th>44</th>\n",
              "      <td>EBA1415post_TWNB_3_CB_ES-05893</td>\n",
              "      <td>O</td>\n",
              "      <td>45.0</td>\n",
              "      <td>Coral bleaching happens when the coral does no...</td>\n",
              "    </tr>\n",
              "    <tr>\n",
              "      <th>46</th>\n",
              "      <td>EBA1415post_TWNB_3_CB_ES-05893</td>\n",
              "      <td>R-3-5</td>\n",
              "      <td>47.0</td>\n",
              "      <td>Coral need water temperatures between 70-85oF ...</td>\n",
              "    </tr>\n",
              "    <tr>\n",
              "      <th>49</th>\n",
              "      <td>EBA1415post_TWNB_3_CB_ES-05893</td>\n",
              "      <td>R-7-50</td>\n",
              "      <td>50.0</td>\n",
              "      <td>During bleaching corals turn white due to the ...</td>\n",
              "    </tr>\n",
              "    <tr>\n",
              "      <th>55</th>\n",
              "      <td>EBA1415_TFMV_3_CB_ES-05848</td>\n",
              "      <td>R-6-50</td>\n",
              "      <td>56.0</td>\n",
              "      <td>The main cause of Coral Bleaching is because o...</td>\n",
              "    </tr>\n",
              "    <tr>\n",
              "      <th>56</th>\n",
              "      <td>EBA1415_TFMV_3_CB_ES-05848</td>\n",
              "      <td>R-6-5</td>\n",
              "      <td>57.0</td>\n",
              "      <td>When corals have to much stress, it is hard to...</td>\n",
              "    </tr>\n",
              "    <tr>\n",
              "      <th>61</th>\n",
              "      <td>EBA1415_TFMV_3_CB_ES-05848</td>\n",
              "      <td>R-6-50</td>\n",
              "      <td>62.1</td>\n",
              "      <td>If the coral has to much stress it turns white...</td>\n",
              "    </tr>\n",
              "    <tr>\n",
              "      <th>68</th>\n",
              "      <td>EBA1415_WSKT_6_CB_ES-05341</td>\n",
              "      <td>R-3-4</td>\n",
              "      <td>69.1</td>\n",
              "      <td>Changing the water temperature changes the amo...</td>\n",
              "    </tr>\n",
              "    <tr>\n",
              "      <th>69</th>\n",
              "      <td>EBA1415_WSKT_6_CB_ES-05341</td>\n",
              "      <td>R-4-14</td>\n",
              "      <td>70.0</td>\n",
              "      <td>This effect threatens the delicate balance req...</td>\n",
              "    </tr>\n",
              "    <tr>\n",
              "      <th>70</th>\n",
              "      <td>EBA1415_WSKT_6_CB_ES-05341</td>\n",
              "      <td>O</td>\n",
              "      <td>71.0</td>\n",
              "      <td>Unhealthy coral can't bleach, decreasing the c...</td>\n",
              "    </tr>\n",
              "    <tr>\n",
              "      <th>83</th>\n",
              "      <td>EBA1415_TRWH_8_CB_ES-06081</td>\n",
              "      <td>R-3-50</td>\n",
              "      <td>84.0</td>\n",
              "      <td>The difference betten the rates of coral bleac...</td>\n",
              "    </tr>\n",
              "    <tr>\n",
              "      <th>89</th>\n",
              "      <td>EBA1415_TTCM_910_CB_ES-04932</td>\n",
              "      <td>R-7-50</td>\n",
              "      <td>90.0</td>\n",
              "      <td>The reason why the corals are bleached is beca...</td>\n",
              "    </tr>\n",
              "  </tbody>\n",
              "</table>\n",
              "</div>"
            ],
            "text/plain": [
              "                             essay  ...                                           sentence\n",
              "6      EBA1415_TRJA_11_CB_ES-06110  ...  The different type of algae living within the ...\n",
              "7       EBA1415_RHSG_2_CB_ES-05081  ...  There are several things that cause coral blea...\n",
              "8       EBA1415_RHSG_2_CB_ES-05081  ...               The trade winds make sea water rise.\n",
              "9       EBA1415_RHSG_2_CB_ES-05081  ...      The trade winds also change water temperature\n",
              "15      EBA1415_KYNS_4_CB_ES-05390  ...  What lead to differences in the rates of coral...\n",
              "18      EBA1415_KYNS_4_CB_ES-05390  ...  Trade winds travel from east to west, causing ...\n",
              "19      EBA1415_KYNS_4_CB_ES-05390  ...  Tradewinds constantly shift, causing major cha...\n",
              "20      EBA1415_KYNS_4_CB_ES-05390  ...  Weaker trade winds cause higher water temperat...\n",
              "27      EBA1415_KYNS_4_CB_ES-05390  ...  When water temperature increases, the amount o...\n",
              "28      EBA1415_KYNS_4_CB_ES-05390  ...  When the water temperature is constantly chang...\n",
              "29      EBA1415_KYNS_4_CB_ES-05390  ...  Coral bleaching happens when the coral is unhe...\n",
              "30      EBA1415_KYNS_4_CB_ES-05390  ...  Trade winds affect the balance of water temper...\n",
              "33      EBA1415_KYNS_4_CB_ES-05390  ...  When the zooxanthellae dies or is ejected, the...\n",
              "36      EBA1415_TWPK_3_CB_ES-05049  ...  Also the shift and changing in the wind also e...\n",
              "44  EBA1415post_TWNB_3_CB_ES-05893  ...  Coral bleaching happens when the coral does no...\n",
              "46  EBA1415post_TWNB_3_CB_ES-05893  ...  Coral need water temperatures between 70-85oF ...\n",
              "49  EBA1415post_TWNB_3_CB_ES-05893  ...  During bleaching corals turn white due to the ...\n",
              "55      EBA1415_TFMV_3_CB_ES-05848  ...  The main cause of Coral Bleaching is because o...\n",
              "56      EBA1415_TFMV_3_CB_ES-05848  ...  When corals have to much stress, it is hard to...\n",
              "61      EBA1415_TFMV_3_CB_ES-05848  ...  If the coral has to much stress it turns white...\n",
              "68      EBA1415_WSKT_6_CB_ES-05341  ...  Changing the water temperature changes the amo...\n",
              "69      EBA1415_WSKT_6_CB_ES-05341  ...  This effect threatens the delicate balance req...\n",
              "70      EBA1415_WSKT_6_CB_ES-05341  ...  Unhealthy coral can't bleach, decreasing the c...\n",
              "83      EBA1415_TRWH_8_CB_ES-06081  ...  The difference betten the rates of coral bleac...\n",
              "89    EBA1415_TTCM_910_CB_ES-04932  ...  The reason why the corals are bleached is beca...\n",
              "\n",
              "[25 rows x 4 columns]"
            ]
          },
          "metadata": {
            "tags": []
          },
          "execution_count": 42
        }
      ]
    },
    {
      "cell_type": "code",
      "metadata": {
        "id": "8ignFfljmc26",
        "colab_type": "code",
        "colab": {
          "base_uri": "https://localhost:8080/",
          "height": 204
        },
        "outputId": "ec79d90f-fad3-42c2-c3a1-74722894b177"
      },
      "source": [
        "# Going to edit iteratively (lazily)...will fix later.\n",
        "\n",
        "for i, row in df_multi_test_valid.iterrows():\n",
        "  r = row.relation\n",
        "\n",
        "  if r == 'O': continue\n",
        "  r_split = r.split(\"-\")\n",
        "  r = r_split[1] + \",\" + r_split[2]\n",
        "  df_multi_test_valid.at[i, \"relation\"] = r\n",
        "  \n",
        "df_multi_test_valid.head()"
      ],
      "execution_count": 43,
      "outputs": [
        {
          "output_type": "execute_result",
          "data": {
            "text/html": [
              "<div>\n",
              "<style scoped>\n",
              "    .dataframe tbody tr th:only-of-type {\n",
              "        vertical-align: middle;\n",
              "    }\n",
              "\n",
              "    .dataframe tbody tr th {\n",
              "        vertical-align: top;\n",
              "    }\n",
              "\n",
              "    .dataframe thead th {\n",
              "        text-align: right;\n",
              "    }\n",
              "</style>\n",
              "<table border=\"1\" class=\"dataframe\">\n",
              "  <thead>\n",
              "    <tr style=\"text-align: right;\">\n",
              "      <th></th>\n",
              "      <th>essay</th>\n",
              "      <th>relation</th>\n",
              "      <th>s_num</th>\n",
              "      <th>sentence</th>\n",
              "    </tr>\n",
              "  </thead>\n",
              "  <tbody>\n",
              "    <tr>\n",
              "      <th>6</th>\n",
              "      <td>EBA1415_TRJA_11_CB_ES-06110</td>\n",
              "      <td>7,50</td>\n",
              "      <td>7.0</td>\n",
              "      <td>The different type of algae living within the ...</td>\n",
              "    </tr>\n",
              "    <tr>\n",
              "      <th>7</th>\n",
              "      <td>EBA1415_RHSG_2_CB_ES-05081</td>\n",
              "      <td>1,50</td>\n",
              "      <td>8.0</td>\n",
              "      <td>There are several things that cause coral blea...</td>\n",
              "    </tr>\n",
              "    <tr>\n",
              "      <th>8</th>\n",
              "      <td>EBA1415_RHSG_2_CB_ES-05081</td>\n",
              "      <td>O</td>\n",
              "      <td>9.0</td>\n",
              "      <td>The trade winds make sea water rise.</td>\n",
              "    </tr>\n",
              "    <tr>\n",
              "      <th>9</th>\n",
              "      <td>EBA1415_RHSG_2_CB_ES-05081</td>\n",
              "      <td>1,3</td>\n",
              "      <td>10.0</td>\n",
              "      <td>The trade winds also change water temperature</td>\n",
              "    </tr>\n",
              "    <tr>\n",
              "      <th>15</th>\n",
              "      <td>EBA1415_KYNS_4_CB_ES-05390</td>\n",
              "      <td>1,50</td>\n",
              "      <td>16.0</td>\n",
              "      <td>What lead to differences in the rates of coral...</td>\n",
              "    </tr>\n",
              "  </tbody>\n",
              "</table>\n",
              "</div>"
            ],
            "text/plain": [
              "                          essay  ...                                           sentence\n",
              "6   EBA1415_TRJA_11_CB_ES-06110  ...  The different type of algae living within the ...\n",
              "7    EBA1415_RHSG_2_CB_ES-05081  ...  There are several things that cause coral blea...\n",
              "8    EBA1415_RHSG_2_CB_ES-05081  ...               The trade winds make sea water rise.\n",
              "9    EBA1415_RHSG_2_CB_ES-05081  ...      The trade winds also change water temperature\n",
              "15   EBA1415_KYNS_4_CB_ES-05390  ...  What lead to differences in the rates of coral...\n",
              "\n",
              "[5 rows x 4 columns]"
            ]
          },
          "metadata": {
            "tags": []
          },
          "execution_count": 43
        }
      ]
    },
    {
      "cell_type": "code",
      "metadata": {
        "id": "gtYT9VxJ3Vxh",
        "colab_type": "code",
        "colab": {
          "base_uri": "https://localhost:8080/",
          "height": 66
        },
        "outputId": "b5a9da1c-d5d6-4052-adf4-fdbcef64cb1a"
      },
      "source": [
        "# Create dataframe of invalid predictions\n",
        "\n",
        "df_multi_test_invalid = df_multi_test.copy(deep=True)\n",
        "df_multi_test_invalid = df_multi_test_invalid[df_multi_test_invalid.index.isin(test_pred_invalid_inds)]\n",
        "print(\"Test size (invalid predictions):\",len(df_multi_test_invalid))\n",
        "df_multi_test_invalid.head(25)"
      ],
      "execution_count": 44,
      "outputs": [
        {
          "output_type": "stream",
          "text": [
            "Test size (invalid predictions): 0\n"
          ],
          "name": "stdout"
        },
        {
          "output_type": "execute_result",
          "data": {
            "text/html": [
              "<div>\n",
              "<style scoped>\n",
              "    .dataframe tbody tr th:only-of-type {\n",
              "        vertical-align: middle;\n",
              "    }\n",
              "\n",
              "    .dataframe tbody tr th {\n",
              "        vertical-align: top;\n",
              "    }\n",
              "\n",
              "    .dataframe thead th {\n",
              "        text-align: right;\n",
              "    }\n",
              "</style>\n",
              "<table border=\"1\" class=\"dataframe\">\n",
              "  <thead>\n",
              "    <tr style=\"text-align: right;\">\n",
              "      <th></th>\n",
              "      <th>essay</th>\n",
              "      <th>relation</th>\n",
              "      <th>s_num</th>\n",
              "      <th>sentence</th>\n",
              "    </tr>\n",
              "  </thead>\n",
              "  <tbody>\n",
              "  </tbody>\n",
              "</table>\n",
              "</div>"
            ],
            "text/plain": [
              "Empty DataFrame\n",
              "Columns: [essay, relation, s_num, sentence]\n",
              "Index: []"
            ]
          },
          "metadata": {
            "tags": []
          },
          "execution_count": 44
        }
      ]
    },
    {
      "cell_type": "code",
      "metadata": {
        "id": "b0xw5ddamuk6",
        "colab_type": "code",
        "colab": {
          "base_uri": "https://localhost:8080/",
          "height": 49
        },
        "outputId": "6453783f-568a-4b99-d273-6cabbcc680c0"
      },
      "source": [
        "# Going to edit iteratively (lazily)...will fix later.\n",
        "\n",
        "for i, row in df_multi_test_invalid.iterrows():\n",
        "  r = row.relation\n",
        "\n",
        "  if r == 'O': continue\n",
        "  r_split = r.split(\"-\")\n",
        "  r = r_split[1] + \",\" + r_split[2]\n",
        "  df_multi_test_invalid.at[i, \"relation\"] = r\n",
        "  \n",
        "df_multi_test_invalid.head()"
      ],
      "execution_count": 45,
      "outputs": [
        {
          "output_type": "execute_result",
          "data": {
            "text/html": [
              "<div>\n",
              "<style scoped>\n",
              "    .dataframe tbody tr th:only-of-type {\n",
              "        vertical-align: middle;\n",
              "    }\n",
              "\n",
              "    .dataframe tbody tr th {\n",
              "        vertical-align: top;\n",
              "    }\n",
              "\n",
              "    .dataframe thead th {\n",
              "        text-align: right;\n",
              "    }\n",
              "</style>\n",
              "<table border=\"1\" class=\"dataframe\">\n",
              "  <thead>\n",
              "    <tr style=\"text-align: right;\">\n",
              "      <th></th>\n",
              "      <th>essay</th>\n",
              "      <th>relation</th>\n",
              "      <th>s_num</th>\n",
              "      <th>sentence</th>\n",
              "    </tr>\n",
              "  </thead>\n",
              "  <tbody>\n",
              "  </tbody>\n",
              "</table>\n",
              "</div>"
            ],
            "text/plain": [
              "Empty DataFrame\n",
              "Columns: [essay, relation, s_num, sentence]\n",
              "Index: []"
            ]
          },
          "metadata": {
            "tags": []
          },
          "execution_count": 45
        }
      ]
    },
    {
      "cell_type": "markdown",
      "metadata": {
        "id": "vwrKQ35WB8SX",
        "colab_type": "text"
      },
      "source": [
        "Now we will fine-tune a BERT model just for the valid relations."
      ]
    },
    {
      "cell_type": "code",
      "metadata": {
        "id": "Gk61RXMdB7_6",
        "colab_type": "code",
        "colab": {
          "base_uri": "https://localhost:8080/",
          "height": 204
        },
        "outputId": "373bc79f-194e-41f3-8702-f5ac6f8d6a59"
      },
      "source": [
        "# First must edit relations \n",
        "\n",
        "df_valid = df.copy(deep=True)\n",
        "\n",
        "# Going to edit iteratively (lazily)...will fix later.\n",
        "\n",
        "for i, row in df_valid.iterrows():\n",
        "  r = row.relation\n",
        "\n",
        "  if r == 'O': continue\n",
        "  r_split = r.split(\"-\")\n",
        "  r = r_split[1] + \",\" + r_split[2]\n",
        "  df_valid.at[i, \"relation\"] = r\n",
        "  \n",
        "df_valid.head()"
      ],
      "execution_count": 46,
      "outputs": [
        {
          "output_type": "execute_result",
          "data": {
            "text/html": [
              "<div>\n",
              "<style scoped>\n",
              "    .dataframe tbody tr th:only-of-type {\n",
              "        vertical-align: middle;\n",
              "    }\n",
              "\n",
              "    .dataframe tbody tr th {\n",
              "        vertical-align: top;\n",
              "    }\n",
              "\n",
              "    .dataframe thead th {\n",
              "        text-align: right;\n",
              "    }\n",
              "</style>\n",
              "<table border=\"1\" class=\"dataframe\">\n",
              "  <thead>\n",
              "    <tr style=\"text-align: right;\">\n",
              "      <th></th>\n",
              "      <th>essay</th>\n",
              "      <th>relation</th>\n",
              "      <th>s_num</th>\n",
              "      <th>sentence</th>\n",
              "    </tr>\n",
              "  </thead>\n",
              "  <tbody>\n",
              "    <tr>\n",
              "      <th>0</th>\n",
              "      <td>EBA1415_KNKC_1_CB_ES-05410</td>\n",
              "      <td>O</td>\n",
              "      <td>1.0</td>\n",
              "      <td>Coral and zooxanthellae depend an each other i...</td>\n",
              "    </tr>\n",
              "    <tr>\n",
              "      <th>1</th>\n",
              "      <td>EBA1415_KNKC_1_CB_ES-05410</td>\n",
              "      <td>7,50</td>\n",
              "      <td>2.0</td>\n",
              "      <td>If the coral dies, or gets bleached, then the ...</td>\n",
              "    </tr>\n",
              "    <tr>\n",
              "      <th>2</th>\n",
              "      <td>EBA1415_KNKC_1_CB_ES-05410</td>\n",
              "      <td>O</td>\n",
              "      <td>3.0</td>\n",
              "      <td>Or the other way around.</td>\n",
              "    </tr>\n",
              "    <tr>\n",
              "      <th>3</th>\n",
              "      <td>EBA1415_KNKC_1_CB_ES-05410</td>\n",
              "      <td>O</td>\n",
              "      <td>4.0</td>\n",
              "      <td>In the text Shifting Trade Winds, it talks abo...</td>\n",
              "    </tr>\n",
              "    <tr>\n",
              "      <th>4</th>\n",
              "      <td>EBA1415_KNKC_1_CB_ES-05410</td>\n",
              "      <td>3,1</td>\n",
              "      <td>5.0</td>\n",
              "      <td>And another source states how when the water t...</td>\n",
              "    </tr>\n",
              "  </tbody>\n",
              "</table>\n",
              "</div>"
            ],
            "text/plain": [
              "                        essay  ...                                           sentence\n",
              "0  EBA1415_KNKC_1_CB_ES-05410  ...  Coral and zooxanthellae depend an each other i...\n",
              "1  EBA1415_KNKC_1_CB_ES-05410  ...  If the coral dies, or gets bleached, then the ...\n",
              "2  EBA1415_KNKC_1_CB_ES-05410  ...                           Or the other way around.\n",
              "3  EBA1415_KNKC_1_CB_ES-05410  ...  In the text Shifting Trade Winds, it talks abo...\n",
              "4  EBA1415_KNKC_1_CB_ES-05410  ...  And another source states how when the water t...\n",
              "\n",
              "[5 rows x 4 columns]"
            ]
          },
          "metadata": {
            "tags": []
          },
          "execution_count": 46
        }
      ]
    },
    {
      "cell_type": "code",
      "metadata": {
        "id": "OHQC9EcTB78r",
        "colab_type": "code",
        "colab": {
          "base_uri": "https://localhost:8080/",
          "height": 204
        },
        "outputId": "07af95cd-795b-4a9d-da72-e5077b889590"
      },
      "source": [
        "# Now isolate the valid ones\n",
        "\n",
        "df_valid = df_valid[df_valid['relation'].isin(relations)]\n",
        "df_valid.head()"
      ],
      "execution_count": 47,
      "outputs": [
        {
          "output_type": "execute_result",
          "data": {
            "text/html": [
              "<div>\n",
              "<style scoped>\n",
              "    .dataframe tbody tr th:only-of-type {\n",
              "        vertical-align: middle;\n",
              "    }\n",
              "\n",
              "    .dataframe tbody tr th {\n",
              "        vertical-align: top;\n",
              "    }\n",
              "\n",
              "    .dataframe thead th {\n",
              "        text-align: right;\n",
              "    }\n",
              "</style>\n",
              "<table border=\"1\" class=\"dataframe\">\n",
              "  <thead>\n",
              "    <tr style=\"text-align: right;\">\n",
              "      <th></th>\n",
              "      <th>essay</th>\n",
              "      <th>relation</th>\n",
              "      <th>s_num</th>\n",
              "      <th>sentence</th>\n",
              "    </tr>\n",
              "  </thead>\n",
              "  <tbody>\n",
              "    <tr>\n",
              "      <th>1</th>\n",
              "      <td>EBA1415_KNKC_1_CB_ES-05410</td>\n",
              "      <td>7,50</td>\n",
              "      <td>2.0</td>\n",
              "      <td>If the coral dies, or gets bleached, then the ...</td>\n",
              "    </tr>\n",
              "    <tr>\n",
              "      <th>8</th>\n",
              "      <td>EBA1415_KNKC_1_CB_ES-05410</td>\n",
              "      <td>5B,50</td>\n",
              "      <td>9.1</td>\n",
              "      <td>Which can affect the coral because if the zoox...</td>\n",
              "    </tr>\n",
              "    <tr>\n",
              "      <th>10</th>\n",
              "      <td>EBA1415_KNKC_1_CB_ES-05410</td>\n",
              "      <td>1,50</td>\n",
              "      <td>10.0</td>\n",
              "      <td>So shifitng trade is what leads to the differe...</td>\n",
              "    </tr>\n",
              "    <tr>\n",
              "      <th>19</th>\n",
              "      <td>EBA1415post_WSKT_1_CB_ES-05486</td>\n",
              "      <td>3,50</td>\n",
              "      <td>19.0</td>\n",
              "      <td>Coral bleaching can be led to by the rise of w...</td>\n",
              "    </tr>\n",
              "    <tr>\n",
              "      <th>22</th>\n",
              "      <td>EBA1415post_WSKT_1_CB_ES-05486</td>\n",
              "      <td>3,4</td>\n",
              "      <td>22.0</td>\n",
              "      <td>When this occurs, it makes it harder for coral...</td>\n",
              "    </tr>\n",
              "  </tbody>\n",
              "</table>\n",
              "</div>"
            ],
            "text/plain": [
              "                             essay  ...                                           sentence\n",
              "1       EBA1415_KNKC_1_CB_ES-05410  ...  If the coral dies, or gets bleached, then the ...\n",
              "8       EBA1415_KNKC_1_CB_ES-05410  ...  Which can affect the coral because if the zoox...\n",
              "10      EBA1415_KNKC_1_CB_ES-05410  ...  So shifitng trade is what leads to the differe...\n",
              "19  EBA1415post_WSKT_1_CB_ES-05486  ...  Coral bleaching can be led to by the rise of w...\n",
              "22  EBA1415post_WSKT_1_CB_ES-05486  ...  When this occurs, it makes it harder for coral...\n",
              "\n",
              "[5 rows x 4 columns]"
            ]
          },
          "metadata": {
            "tags": []
          },
          "execution_count": 47
        }
      ]
    },
    {
      "cell_type": "code",
      "metadata": {
        "id": "_7M4xhtpVTGR",
        "colab_type": "code",
        "colab": {}
      },
      "source": [
        "# Create sentence and label lists\n",
        "sentences = df_valid.sentence.values\n",
        "\n",
        "# Add special tokens at the beginning and end of each sentence to comply with BERT\n",
        "sentences = [\"[CLS] \" + sentence + \" [SEP]\" for sentence in sentences]\n",
        "labels = df_valid.relation.values"
      ],
      "execution_count": 48,
      "outputs": []
    },
    {
      "cell_type": "code",
      "metadata": {
        "id": "bFBVb9SnV2lC",
        "colab_type": "code",
        "colab": {
          "base_uri": "https://localhost:8080/",
          "height": 54
        },
        "outputId": "bbed5fb1-86e6-4247-befe-76e5d694780f"
      },
      "source": [
        "# Now that our [CLS] and [SEP] tokens are in place, we are ready for tokenization\n",
        "tokenizer = BertTokenizer.from_pretrained('bert-base-uncased', do_lower_case=True)\n",
        "tokenized_texts = [tokenizer.tokenize(sent) for sent in sentences]\n",
        "print (\"First sentence tokenized: \",tokenized_texts[0])"
      ],
      "execution_count": 49,
      "outputs": [
        {
          "output_type": "stream",
          "text": [
            "First sentence tokenized:  ['[CLS]', 'if', 'the', 'coral', 'dies', ',', 'or', 'gets', 'b', '##lea', '##ched', ',', 'then', 'the', 'zoo', '##xa', '##nt', '##hell', '##ae', 'dies', '.', '[SEP]']\n"
          ],
          "name": "stdout"
        }
      ]
    },
    {
      "cell_type": "code",
      "metadata": {
        "id": "g6oMfrkJV2id",
        "colab_type": "code",
        "colab": {
          "base_uri": "https://localhost:8080/",
          "height": 34
        },
        "outputId": "6401638e-17da-48b2-90fd-d22ad6191ef4"
      },
      "source": [
        "'''\n",
        "For each tokenized input sentence, we need to create:\n",
        "\n",
        "1. input ids:\n",
        "    a sequence of integers identifying each input token to its index number \n",
        "    in the BERT tokenizer vocabulary\n",
        "\n",
        "2. segment mask: (optional) a sequence of 1s and 0s used to identify whether the input is one \n",
        "    sentence or two sentences long. For one sentence inputs, this is simply a sequence of 0s. \n",
        "    For two sentence inputs, there is a 0 for each token of the first sentence, followed by a \n",
        "    1 for each token of the second sentence\n",
        "\n",
        "3. attention mask: (optional) \n",
        "    a sequence of 1s and 0s, with 1s for all input tokens and 0s for all padding tokens \n",
        "\n",
        "4. labels: based on the labels from the data set\n",
        "'''\n",
        "\n",
        "# For now, we will simply delete the tokenized_texts greater than MAX_LEN.\n",
        "\n",
        "# We need to strip out the sentences greater than MAX_LEN tokens\n",
        "original_length = len(tokenized_texts)\n",
        "\n",
        "labels = [labels[i] for i in range(len(tokenized_texts)) if len(tokenized_texts[i]) <= MAX_LEN]\n",
        "tokenized_texts = [tokenized_texts[i] for i in range(len(tokenized_texts)) if len(tokenized_texts[i]) <= MAX_LEN]\n",
        "print(\"Removed {0} sentences greater than {1}\".format(original_length - len(tokenized_texts),MAX_LEN))"
      ],
      "execution_count": 50,
      "outputs": [
        {
          "output_type": "stream",
          "text": [
            "Removed 3 sentences greater than 128\n"
          ],
          "name": "stdout"
        }
      ]
    },
    {
      "cell_type": "code",
      "metadata": {
        "id": "Qfkf30I7V2fo",
        "colab_type": "code",
        "colab": {}
      },
      "source": [
        "# Use the BERT tokenizer to convert the tokens to their index numbers in the BERT vocabulary\n",
        "input_ids = [tokenizer.convert_tokens_to_ids(x) for x in tokenized_texts]"
      ],
      "execution_count": 51,
      "outputs": []
    },
    {
      "cell_type": "code",
      "metadata": {
        "id": "M1QC94d1V2cn",
        "colab_type": "code",
        "colab": {}
      },
      "source": [
        "# Pad our input tokens\n",
        "input_ids = pad_sequences(input_ids, maxlen=MAX_LEN, dtype=\"long\", truncating=\"post\", padding=\"post\")"
      ],
      "execution_count": 52,
      "outputs": []
    },
    {
      "cell_type": "code",
      "metadata": {
        "id": "a4kn-_K5V2Zf",
        "colab_type": "code",
        "colab": {}
      },
      "source": [
        "# Create attention masks\n",
        "attention_masks = []\n",
        "\n",
        "# Create a mask of 1s for each token followed by 0s for padding\n",
        "for seq in input_ids:\n",
        "  seq_mask = [float(i>0) for i in seq]\n",
        "  attention_masks.append(seq_mask)"
      ],
      "execution_count": 53,
      "outputs": []
    },
    {
      "cell_type": "code",
      "metadata": {
        "id": "Q-XO_erkWOWL",
        "colab_type": "code",
        "colab": {
          "base_uri": "https://localhost:8080/",
          "height": 71
        },
        "outputId": "e3a9eb59-287b-4401-d01b-35cf6a9305c4"
      },
      "source": [
        "# Now map each label to its corresponding integer\n",
        "print(\"Old labels: \",str(labels))\n",
        "labels = [relations.index(l) for l in labels]\n",
        "print(\"New labels: \",str(labels))"
      ],
      "execution_count": 54,
      "outputs": [
        {
          "output_type": "stream",
          "text": [
            "Old labels:  ['7,50', '5B,50', '1,50', '3,50', '3,4', '4,5', '5,5B', '5,5B', '4,50', '2,3', '3,50', '3,50', '13,50', '3,7', '3,50', '1,50', '1,3', '3,50', '3,50', '1,3', '13,50', '11,50', '11,12', '12,14', '1,50', '3,50', '3,50', '6,7', '6,7', '7,50', '1,2', '2,50', '3,5', '3,4', '4,14', '7,50', '6,7', '6,7', '7,50', '6,7', '7,50', '6,7', '7,50', '7,50', '7,50', '7,50', '7,50', '7,50', '6,50', '6,7', '6,7', '1,50', '5,50', '7,50', '1,3', '1,3', '3,50', '7,50', '1,7', '5B,50', '5B,50', '1,50', '1,3', '1,2', '3,5', '11,13', '14,50', '7,50', '1,2', '1,2', '6,7', '3,50', '1,50', '4,14', '4,14', '7,50', '1,2', '2,3', '3,50', '11,13', '12,50', '13,50', '6,7', '1,50', '1,2', '7,50', '7,50', '1,3', '5,5B', '6,7', '7,50', '5B,50', '11,12', '12,13', '13,14', '13,14', '3,50', '4,50', '3,5', '5,5B', '4,5', '6,7', '7,50', '3,50', '4,50', '7,50', '5,7', '3,7', '1,7', '1,3', '3,50', '1,3', '2,3', '11,50', '11,12', '12,13', '13,14', '14,50', '14,50', '1,3', '1,2', '1,2', '3,5', '3,4', '4,5', '5,7', '7,50', '7,50', '1,3', '3,50', '3,50', '1,50', '2,3', '11,50', '11,12', '12,13', '13,14', '13,14', '7,50', '3,50', '7,50', '6,7', '6,7', '1,50', '7,50', '1,3', '1,2', '1,50', '3,50', '5,7', '4,5B', '1,3', '11,13', '7,50', '7,50', '6,50', '7,50', '1,50', '1,50', '14,50', '1,50', '14,50', '3,50', '4,50', '3,50', '3,50', '1,50', '1,50', '3,50', '1,50', '3,50', '5B,50', '12,13', '12,50', '1,50', '3,50', '7,50', '7,50', '1,3', '1,3', '3,4', '4,5', '11,13', '13,14', '7,50', '1,50', '7,50', '5,50', '1,50', '7,50', '7,50', '3,5', '4,14', '6,50', '1,50', '3,50', '6,50', '6,7', '6,7', '3,50', '1,50', '11,13', '11,12', '12,13', '7,50', '3,4', '11,14', '13,14', '11,13', '6,7', '7,50', '6,7', '7,50', '4,5', '3,5', '3,4', '4,14', '11,13', '11,12', '12,13', '7,50', '3,50', '1,50', '11,50', '11,13', '13,50', '4,50', '13,50', '4,50', '11,50', '7,50', '6,7', '1,50', '3,50', '1,50', '1,4', '1,3', '4,7', '13,7', '7,50', '1,50', '1,50', '1,3', '3,50', '13,14', '14,50', '11,13', '7,50', '14,50', '7,50', '6,7', '13,50', '3,50', '3,50', '13,50', '13,14', '14,50', '3,50', '7,50', '7,50', '7,50', '14,6', '14,6', '3,50', '14,50', '11,13', '3,4', '4,14', '13,50', '11,50', '11,50', '3,5', '11,50', '11,12', '13,14', '13,50', '7,50', '3,5', '3,5', '7,50', '1,50', '1,3', '1,50', '1,3', '3,50', '3,5', '3,4', '7,50', '3,5', '1,2', '2,3', '6,7', '7,50', '1,50', '3,50', '2,3', '1,3', '3,4', '4,14', '11,14', '11,14', '11,12', '11,12', '12,13', '13,14', '3,4', '4,5B', '11,12', '12,13', '13,14', '4,50', '7,50', '5,50', '1,50', '3,50', '1,50', '1,2', '1,3', '3,5', '4,5B', '3,4', '5B,50', '1,50', '3,50', '7,50', '7,50', '7,50', '6,7', '6,7', '13,7', '1,3', '1,3', '3,50', '4,5B', '12,13', '11,12', '12,13', '11,13', '13,6', '6,7', '4,5', '1,3', '3,50', '3,50', '2,3', '4,5', '4,50', '3,5', '4,14', '11,12', '12,13', '13,14', '7,50', '1,50', '1,2', '1,2', '3,5', '3,4', '4,14', '14,50', '14,50', '3,7', '3,50', '1,50', '1,3', '7,50', '1,50', '1,3', '1,3', '4,50', '4,7', '7,50', '1,50', '1,3', '7,50', '1,50', '1,50', '3,50', '3,5', '3,50', '7,50', '3,5', '11,13', '1,2', '11,13', '6,50', '7,50', '1,50', '1,3', '3,50', '1,50', '5,50', '12,13', '13,14', '1,50', '11,13', '7,50', '1,3', '7,50', '1,50', '1,3', '7,50', '7,50', '7,50', '5B,7', '7,50', '7,50', '1,50', '1,50', '3,50', '3,50', '7,50', '6,7', '2,50', '2,50', '1,2', '3,4', '4,5', '6,7', '7,50', '1,3', '3,50', '3,7', '3,50', '3,7', '1,50', '7,50', '5,5B', '3,4', '4,5', '11,13', '11,13', '5,5B', '3,5', '3,5', '1,50', '3,50', '3,5', '7,50', '1,3', '3,50', '7,50', '3,50', '7,50', '3,5', '4,5', '4,50', '4,50', '11,12', '12,13', '13,14', '14,50', '7,50', '7,50', '3,50', '1,50', '1,50', '5,50', '1,50', '13,50', '4,50', '13,50', '4,50', '6,50', '7,50', '7,50', '4,14', '11,14', '5,5B', '3,50', '3,50', '3,50', '3,4', '4,14', '14,50', '1,50', '13,50', '3,50', '3,5', '3,4', '4,14', '11,50', '6,50', '6,50', '1,50', '1,3', '1,50', '3,50', '3,50', '11,50', '4,50', '3,5', '4,5', '4,5B', '4,50', '3,5', '7,50', '6,7', '6,50', '7,50', '7,50', '12,13', '11,12', '13,50', '3,50', '13,50', '7,50', '1,50', '1,3', '1,50', '3,50', '3,4', '4,14', '14,50', '5,50', '7,50', '1,50', '3,5', '1,3', '3,5B', '5B,50', '5,5B', '3,50', '1,50', '3,6', '1,3', '1,3', '1,3', '3,50', '5,5B', '3,50', '3,50', '1,50', '1,50', '1,50', '7,50', '7,50', '7,50', '1,50', '1,3', '3,4', '4,50', '4,5', '1,50', '2,3', '3,4', '4,5', '4,50', '5,50', '7,50', '4,5', '4,5', '5,5B', '5,5B', '1,50', '1,50', '3,50', '1,50', '5,5B', '5B,7', '5,5B', '5B,7', '7,50', '7,50', '14,50', '7,50', '6,7', '7,50', '5,50', '7,50', '6,7', '6,7', '7,50', '11,12', '12,50', '12,50', '5B,50', '3,50', '1,50', '1,50', '1,2', '1,2', '6,7', '7,50', '7,50', '1,50', '7,50', '1,50', '6,7', '7,50', '6,7', '6,7', '7,50', '4,5B', '3,5', '11,13', '13,50', '13,50', '1,2', '2,3', '1,3', '7,50', '1,50', '1,50', '3,4', '4,7', '7,50', '7,50', '7,50', '7,50', '3,50', '3,4', '1,3', '1,3', '3,50', '2,3', '1,3', '3,50', '11,50', '6,50', '1,3', '4,14', '3,4', '4,5', '1,3', '3,6', '6,50', '1,50', '3,50', '3,4', '4,14', '11,13', '13,14', '6,7', '5B,50', '5B,50', '1,50', '13,50', '7,50', '1,50', '3,4', '11,12', '12,13', '12,13', '13,14', '13,14', '7,50', '7,50', '7,50', '5B,7', '7,50', '3,50', '1,50', '6,7', '3,50', '3,50', '1,3', '3,50', '3,50', '6,50', '6,7', '6,50', '6,50', '3,5', '14,50', '7,50', '5,50', '1,3', '5,50', '4,50', '4,14', '6,7', '3,6', '6,7', '1,3', '1,5', '3,5', '3,4', '4,14', '4,7', '7,50', '1,3', '3,50', '7,50', '11,13', '11,12', '12,13', '7,50', '14,50', '7,50', '3,50', '1,50', '6,7', '6,50', '6,7', '6,50', '3,50', '5B,50', '1,50', '3,5', '1,3', '2,50', '7,50', '14,50', '11,13', '3,4', '4,14', '3,50', '1,50', '1,50', '1,3', '1,3', '3,50', '4,50', '1,4', '1,50', '3,50', '1,50', '3,50', '1,50', '5,50', '3,5', '4,14', '11,14', '11,14', '11,13', '12,14', '14,50', '3,50', '1,50', '3,7', '7,50', '3,5', '3,50', '3,50', '3,5', '13,50', '3,50', '1,50', '7,50', '11,12', '12,50', '7,50', '11,13', '11,12', '12,14', '12,13', '12,14', '12,13', '1,50', '1,3', '3,4', '4,14', '7,50', '7,50', '3,5', '5,50', '13,14', '7,50', '3,5', '7,50', '7,50', '13,50', '7,50', '1,50', '7,50', '3,50', '3,6', '3,6', '6,7', '3,50', '1,50', '3,50', '1,50', '2,3', '7,50', '3,50', '1,50', '3,50', '1,50', '1,50', '1,50', '3,50', '3,4', '1,4', '11,13', '13,14', '7,50', '4,50', '11,14', '7,50', '6,7', '1,3', '11,50', '3,5', '11,50', '3,5', '1,3', '3,4', '11,13', '13,14', '4,50', '6,50', '4,5', '4,50', '6,7', '6,7', '7,50', '1,50', '3,50', '5,5B', '1,50', '1,2', '7,50', '7,50', '11,13', '11,13', '3,5', '4,14', '4,14', '4,50', '1,50', '5,5B', '7,50', '1,50', '1,2', '2,3', '2,3', '3,50', '5,5B', '3,4', '4,5', '3,4', '11,13', '11,12', '12,13', '13,14', '13,50', '1,50', '1,3', '11,13', '12,50', '12,7', '4,7', '7,50', '13,50', '1,50', '6,50', '13,14', '6,7', '6,7', '7,50', '1,3', '1,3', '1,3', '3,50', '7,50', '4,5', '1,50', '5,50', '1,50', '1,2', '1,3', '7,50', '3,50', '7,50', '3,50', '1,50', '3,4', '4,14', '1,50', '3,50', '5,5B', '4,5', '11,13', '11,12', '14,50', '1,50', '13,50', '13,50', '7,50', '7,50', '1,3', '1,3', '5,50', '11,13', '12,13', '7,50', '3,50', '1,50', '6,50', '1,50', '4,14', '13,14', '1,50', '3,50', '1,50', '3,50', '1,2', '1,50', '13,14', '11,13', '6,7', '7,50', '7,50', '6,50', '13,50', '13,14', '1,3', '13,50', '1,50', '1,3', '1,50', '1,3', '1,3', '1,3', '3,50', '3,50', '1,50', '4,14', '3,4', '4,50', '3,5', '4,50', '4,14', '7,50', '4,5', '3,5', '1,2', '1,2', '3,50', '1,50', '3,50', '1,50', '13,50', '5,50', '11,12', '12,13', '13,14', '13,14', '4,5', '7,50', '7,50', '7,50', '6,7', '7,50', '3,6', '11,12', '3,50', '3,50', '3,4', '4,5', '3,5', '3,4', '4,14', '3,50', '11,50', '4,50', '4,5', '4,5B', '1,2', '4,5', '1,50', '1,3', '1,3', '1,3', '3,50', '1,50', '1,3', '7,50', '1,50', '1,50', '1,50', '1,3', '7,50', '7,50', '1,50', '3,4', '4,5', '1,2', '4,14', '1,50', '3,50', '3,5', '3,4', '4,6', '4,6', '6,7', '6,7', '7,50', '7,50', '7,50', '6,7', '1,3', '3,50', '1,50', '3,50', '4,14', '3,50', '1,50', '1,50', '4,5', '3,5', '2,50', '3,50', '1,2', '7,50', '4,50', '11,12', '12,13', '13,14', '3,50', '3,7', '3,50', '4,50', '3,4', '11,13', '12,13', '1,2', '2,3', '1,3', '1,50', '3,50', '1,50', '3,5', '1,50', '7,50', '1,2', '2,3', '1,3', '3,50', '7,50', '5,5B', '6,7', '1,3', '7,50', '7,50', '6,7', '7,50', '6,7', '7,50', '1,50', '1,3', '3,4', '4,7', '1,50', '11,50', '13,50', '3,50', '1,50', '13,50', '3,50', '14,50', '7,50', '1,50', '7,50', '11,50', '3,50', '1,3', '3,4', '4,50', '4,14', '4,14', '11,13', '13,14', '6,7', '14,50', '1,50', '1,3', '1,3', '1,2', '3,5', '3,4', '4,14', '14,50', '11,12', '12,13', '13,14', '3,50', '3,50', '4,50', '6,7', '7,50', '7,50', '3,50', '1,50', '3,50', '1,50', '1,2', '1,50', '3,50', '3,50', '1,50', '3,50', '1,50', '7,50', '5,50', '1,50', '5,50', '4,50', '1,2', '3,50', '7,50', '6,7', '1,2', '11,13', '13,7', '1,50', '13,50', '11,13', '11,12', '12,13', '13,14', '1,50', '13,50', '11,13', '3,50', '3,50', '1,50', '3,50', '1,3', '1,2', '2,3', '2,3', '3,4', '4,50', '3,4', '3,4', '4,50', '3,50', '3,4', '1,3', '3,50', '1,50', '3,50', '3,50', '3,4', '4,14', '14,50', '14,50', '3,50', '1,50', '7,50', '3,4', '7,50', '7,50', '1,50', '3,50', '3,50', '1,50', '7,50', '7,50', '1,50', '1,3', '1,50', '3,50', '3,50', '1,50', '1,50', '1,50', '1,3', '6,7', '7,50', '1,50', '1,3', '3,5', '1,50', '5,50', '1,50', '3,4', '4,50', '13,50', '13,50', '1,50', '3,50', '1,50', '11,50', '3,50', '3,50', '7,50', '3,7', '3,7', '1,50', '3,50', '6,50', '6,7', '1,2', '1,3', '3,50', '3,50', '11,13', '13,14', '14,7', '3,50', '3,4', '4,5', '1,50', '1,3', '3,50', '11,13', '11,50', '1,50', '1,50', '3,50', '3,4', '4,14', '11,12', '12,13', '13,14', '7,50', '1,50', '4,50', '4,50', '3,5', '6,50', '7,50', '11,13', '3,50', '3,50', '7,50', '6,7', '6,50', '7,50', '1,3', '3,50', '3,50', '7,50', '3,50', '11,12', '12,13', '13,50', '13,50', '1,50', '1,50', '13,50', '7,50', '3,5', '3,4', '7,50', '1,2', '1,3', '1,3', '3,50', '13,14', '3,50', '4,5', '3,5', '1,50', '1,3', '3,7', '7,50', '3,50', '7,50', '3,5', '1,2', '1,3', '3,6', '6,7', '7,50', '14,50', '7,50', '7,50', '14,50', '7,50', '7,50', '7,50', '3,50', '1,3', '1,3', '7,50', '13,50', '11,13', '6,50', '6,7', '3,4', '1,3', '4,50', '12,13', '13,50', '13,50', '13,50', '3,50', '1,50', '7,50', '1,50', '1,3', '7,50', '7,50', '1,50', '1,3', '5,50', '3,50', '11,50', '11,13', '13,50', '6,50', '11,50', '14,50', '7,50', '7,50', '5,50', '6,7', '6,50', '6,7', '13,50', '3,50', '11,14', '1,50', '5,50', '11,12', '12,13', '13,14', '6,7', '7,50', '3,5', '3,5', '11,13', '7,50', '3,4', '4,14', '13,14', '13,14', '3,4', '4,14', '7,50', '1,2', '1,3', '1,50', '3,4', '1,4', '3,50', '1,3', '6,7', '7,50', '3,7', '5B,50', '3,50', '3,50', '3,5', '1,50', '3,50', '13,50', '5B,50', '12,50', '11,6', '11,12', '1,3', '6,50', '6,50', '7,50', '7,50', '14,6', '6,50', '7,50', '3,50', '1,50', '4,50', '1,3', '1,3', '3,50', '3,4', '4,14', '11,14', '11,13', '12,13', '11,12', '11,12', '12,13', '7,50', '3,50', '6,50', '3,50', '3,50', '1,50', '3,4', '4,50', '4,50', '11,12', '12,14', '14,50', '12,14', '14,50', '5,50', '3,4', '4,50', '1,2', '1,50', '1,50', '13,50', '13,50', '1,50', '5,5B', '5,5B', '7,50', '6,7', '7,50', '7,50', '1,50', '7,50', '13,50', '4,50', '3,50', '11,50', '11,13', '12,13', '13,14', '3,4', '4,14', '11,13', '13,14', '13,14', '7,50', '11,13', '1,50', '1,3', '1,3', '1,50', '3,5', '6,7', '7,50', '3,5', '3,5', '3,5', '13,50', '13,14', '1,3', '7,50', '1,3', '3,50', '11,12', '13,50', '7,50', '1,3', '5,50', '6,7', '7,50', '5B,50', '1,3', '7,50', '1,50', '1,3', '3,4', '4,5', '3,5', '7,50', '3,50', '5B,50', '1,3', '5,5B', '1,3', '3,5', '3,5', '5,6', '6,7', '2,3', '6,7', '3,5', '11,12', '12,13', '13,14', '4,50', '3,4', '13,50', '13,14', '11,12', '13,14', '14,50', '14,50', '5,5B', '7,50', '3,50', '1,50', '3,50', '1,50', '1,50', '1,50', '7,50', '3,5', '4,14', '11,12', '12,13', '13,50', '13,50', '4,5', '3,4', '4,14', '7,50', '7,50', '6,7', '7,50', '1,50', '3,50', '5,7', '7,50', '7,50', '3,5', '3,14', '14,50', '7,50', '1,50', '7,50', '3,50', '3,50', '7,50', '1,2', '1,3', '3,50', '1,50', '3,50', '2,3', '2,3', '1,50', '3,50', '1,50', '1,50', '3,6', '6,7', '3,6', '7,50', '1,50', '1,50', '3,50', '1,50', '1,3', '4,50', '1,50', '1,50', '1,50', '3,50', '7,50', '5,50', '11,50', '11,13', '12,13', '1,3', '11,50', '13,50', '4,50', '3,50', '1,50', '1,50', '1,50', '3,50', '1,50', '3,50', '1,3', '7,50', '1,3', '3,50', '7,50', '7,50', '1,50', '3,50', '1,3', '1,3', '3,50', '4,5', '7,50', '1,50', '13,14', '4,50', '6,50', '1,3', '3,5', '1,3', '1,3', '3,5', '3,50', '1,3', '7,50', '7,50', '7,50', '11,50', '1,50', '1,50', '3,50', '5,50', '1,50', '2,3', '3,50', '3,14', '3,50', '3,14', '1,2', '1,50', '3,50', '4,50', '5B,50', '11,50', '11,13', '13,14', '1,2', '2,3', '2,3', '1,50', '1,4', '4,7', '4,7', '7,50', '1,50', '3,50', '14,50', '7,50', '7,50', '5,5B', '7,50', '6,7', '7,50', '3,50', '1,50', '3,50', '1,50', '7,50', '1,50', '1,4', '3,4', '4,5', '12,13', '6,7', '1,3', '1,3', '3,5', '5,50', '11,50', '3,50', '1,3', '1,3', '11,14', '3,50', '11,50', '5,50', '3,50', '3,50', '3,50', '1,50', '4,5', '5,5B', '4,5', '3,4', '4,14', '11,14', '11,12', '12,13', '13,14', '13,14', '3,5', '3,4', '7,50', '3,5', '3,50', '3,50', '3,50', '1,3', '1,3', '1,2', '1,3', '4,50', '6,50', '7,50', '6,50', '7,50', '6,7', '3,50', '5,50', '3,50', '5,50', '1,50', '3,50', '6,7', '7,50', '1,50', '11,50', '11,12', '12,13', '13,14', '13,14', '1,5', '5,50', '5,50', '4,50', '1,50', '7,50', '5,50', '1,2', '4,5', '11,13', '11,12', '12,13', '13,50', '3,4', '4,14', '4,14', '14,50', '14,50', '1,50', '1,50', '1,3', '3,50', '3,7', '7,50', '7,50', '1,3', '3,4', '5,7', '5,7', '7,50', '7,50', '3,6', '13,6', '3,7', '13,7', '7,50', '7,50', '1,3', '1,3', '6,50', '3,4', '4,6', '6,7', '7,50', '1,3', '3,4', '4,14', '7,50', '6,7', '3,50', '1,50', '2,3', '11,13', '11,12', '12,13', '13,14', '1,50', '1,3', '3,4', '7,50', '4,50', '3,50', '1,50', '1,3', '3,50', '4,50', '3,50', '4,50', '7,50', '3,4', '4,50', '11,13', '13,50', '13,50', '7,50', '7,50', '7,50', '14,50', '14,50', '3,50', '1,5', '1,2', '4,5', '3,50', '11,50', '13,50', '3,5', '11,13', '11,13', '6,50', '3,50', '3,5', '4,14', '13,50', '14,50', '13,14', '6,50', '6,7', '3,50', '1,3', '3,50', '3,5', '5,7', '7,50', '3,50', '6,50', '3,50', '1,50', '1,6', '1,6', '6,50', '3,50', '3,6', '1,50', '1,50', '7,50', '2,3', '7,50', '6,50', '6,50', '6,7', '3,5', '3,50', '1,50', '4,50', '4,14', '11,12', '12,13', '13,14', '14,50', '7,50', '3,50', '1,50', '1,2', '1,2', '1,3', '1,3', '3,50', '3,50', '3,4', '1,3', '3,6', '3,6', '6,7', '7,50', '14,50', '7,50', '1,2', '2,3', '7,50', '7,50', '7,50', '5,50', '11,50', '1,50', '1,50', '11,50', '5B,7', '7,50', '13,50', '1,50', '3,50', '3,50', '1,3', '4,5', '6,7', '7,50', '1,2', '1,3', '7,50', '6,7', '1,50', '13,50', '7,50', '7,50', '3,4', '4,14', '13,14', '14,50', '14,50', '6,50', '3,50', '1,50', '3,50', '1,50', '3,50', '1,50', '7,50', '3,7', '1,3', '3,50', '1,50', '1,50', '4,50', '3,50', '2,3', '3,50', '4,50', '4,5', '13,50', '11,13', '11,12', '12,13', '13,14', '3,5', '3,50', '4,50', '1,50', '3,50', '1,2', '3,5', '2,3', '3,7', '1,3', '1,50', '3,50', '3,5', '4,50', '3,5', '14,50', '13,50', '7,50', '11,50', '13,50', '7,50', '11,50', '6,7', '6,7', '4,50', '3,50', '7,50', '5B,14', '1,50', '1,6', '1,6', '1,3', '1,50', '1,2', '1,3', '2,4', '2,7', '2,7', '2,4', '1,50', '1,50', '1,3', '3,50', '7,50', '3,50', '11,50', '1,50', '1,50', '1,3', '11,14', '11,14', '13,14', '6,50', '1,50', '11,50', '1,50', '1,3', '7,50', '5B,50', '3,50', '3,50', '7,50', '1,3', '3,50', '3,5', '3,4', '4,14', '4,5', '7,50', '13,14', '11,14', '3,14', '4,14', '6,7', '3,50', '1,50', '1,50', '3,50', '4,14', '11,50', '11,12', '12,14', '1,50', '3,50', '6,50', '3,50', '3,50', '2,6', '3,50', '1,50', '5,7', '1,50', '3,4', '5,5B', '11,12', '12,13', '6,50', '7,50', '7,50', '3,4', '7,50', '1,50', '5,50', '1,50', '2,3', '4,5', '5,5B', '7,50', '5,7', '1,3', '3,4', '4,14', '4,14', '1,3', '3,50', '3,50', '3,50', '3,5', '11,13', '11,12', '12,13', '13,14', '13,14', '4,50', '1,50', '2,3', '3,50', '3,50', '3,4', '11,13', '11,12', '12,13', '13,50', '1,50', '1,2', '3,50', '6,7', '7,50', '7,50', '3,4', '4,14', '4,14', '11,13', '11,12', '6,50', '7,50', '7,50', '1,50', '3,50', '1,3', '3,50', '1,50', '3,50', '3,50', '6,50', '6,50', '6,7', '1,50', '3,50', '3,50', '3,50', '3,50', '3,4', '4,5', '7,50', '3,4', '7,50', '3,7', '1,3', '1,3', '3,4', '3,4', '4,5', '5,7', '5,7', '7,50', '3,50', '1,50', '1,50', '3,7', '4,7', '11,12', '6,7', '7,50', '7,50', '11,13', '1,50', '1,50', '1,50', '1,50', '12,14', '6,7', '7,50', '1,50', '3,50', '1,50', '2,3', '1,50', '1,50', '1,3', '1,3', '3,4', '3,14', '4,14', '11,13', '4,50', '7,50', '1,50', '3,50', '14,50', '14,50', '4,5B', '13,50', '11,13', '11,12', '12,13', '12,13', '13,14', '3,50', '1,50', '3,50', '7,50', '6,7', '7,50', '7,50', '1,50', '1,3', '3,50', '11,50', '11,12', '11,13', '11,12', '1,3', '1,50', '3,50', '3,4', '6,7', '7,50', '1,2', '2,3', '3,4', '4,5', '3,5', '14,50', '11,50', '11,12', '12,13', '1,50', '13,50', '3,50', '4,50', '13,50', '11,13', '13,14', '3,5', '3,4', '4,14', '11,13', '13,50', '14,50', '1,50', '1,2', '11,50', '4,50', '3,50', '3,50', '4,50', '1,50', '6,7', '1,2', '1,2', '3,50', '3,6', '5,5B', '12,13', '11,13', '13,14', '7,50', '3,50', '3,7', '7,50', '6,7', '7,50', '5,5B', '7,50', '6,50', '4,14', '11,14', '1,50', '1,50', '1,50', '1,3', '3,50', '7,50', '7,50', '1,50', '1,3', '1,2', '5,50', '6,7', '7,50', '5,5B', '1,2', '3,4', '4,50', '4,50', '13,14', '3,50', '1,50', '7,50', '3,50', '3,5', '5,7', '6,7', '2,3', '3,50', '1,3', '3,50', '7,50', '7,50', '5,7', '7,50', '3,7', '3,5', '7,50', '14,50', '6,7', '11,12', '12,13', '13,14', '13,14', '11,50', '11,50', '11,13', '7,50', '4,14', '3,50', '3,50', '3,50', '5B,7', '1,50', '1,2', '6,50', '6,7', '7,50', '7,50', '13,50', '1,50', '7,50', '3,50', '1,2', '1,2', '3,4', '4,14', '4,14', '11,12', '12,13', '13,14', '13,14', '7,50', '14,50', '7,50', '1,3', '1,50', '13,50', '1,50', '13,50', '4,50', '5,50', '1,3', '6,7', '7,50', '3,5', '4,14', '11,14', '11,14', '5B,50', '3,50', '1,50', '2,3', '1,50', '3,5', '3,5', '4,14', '5B,50', '5B,50', '1,2', '2,3', '5,5B', '4,5', '4,50', '3,5', '1,50', '4,14', '3,4', '7,50', '6,50', '6,50', '7,50', '13,14', '7,50', '1,50', '3,50', '7,50', '1,2', '5,5B', '13,50', '3,50', '1,50', '1,50', '6,7', '7,50', '7,50', '2,50', '1,50', '3,4', '4,5', '3,50', '7,50', '1,3', '3,4', '4,14', '7,50', '5,5B', '5B,14', '11,13', '13,14', '14,50', '14,50', '4,50', '11,14', '13,14', '7,50', '1,50', '1,50', '3,50', '13,50', '11,12', '12,13', '13,50', '3,50', '5,5B', '7,50', '5B,50', '7,50', '1,2', '13,14', '13,50', '3,4', '4,14', '4,14', '6,50', '6,7', '3,50', '3,50', '1,50', '1,50', '1,50', '1,3', '3,50', '11,50', '11,13', '13,14', '6,7', '7,50', '7,50', '4,5', '6,50', '6,7', '7,50', '6,50', '7,50', '4,50', '1,50', '13,50', '3,50', '1,3', '1,3', '3,5', '13,50', '11,12', '12,13', '13,50', '13,50', '1,50', '3,50', '7,50', '3,5', '11,13', '11,12', '12,13', '1,50', '3,50', '1,3', '1,3', '3,50', '1,50', '13,50', '12,13', '1,3', '1,3', '3,4', '4,14', '11,50', '7,50', '7,50', '1,50', '3,50', '5,50', '7,50', '1,50', '3,50', '5,50', '11,50', '11,50', '13,50', '12,13', '6,7', '7,50', '13,50', '7,50', '11,50', '1,50', '1,3', '1,3', '3,4', '6,7', '1,50', '11,50', '11,13', '11,12', '12,13', '13,14', '14,50', '4,50', '4,5', '4,5', '4,50', '1,50', '1,2', '14,50', '1,50', '1,50', '3,50', '1,50', '3,50', '1,50', '1,3', '3,5', '5,5B', '5,5B', '5B,50', '5,50', '3,5', '14,50', '7,50', '7,50', '7,50', '1,50', '1,50', '1,2', '3,5', '1,3', '3,50', '1,6', '6,7', '7,50', '13,50', '11,13', '11,12', '12,13', '6,7', '7,50', '4,50', '4,5', '3,14', '4,14', '4,50', '7,50', '6,7', '1,50', '4,14', '6,7', '7,50', '4,50', '1,50', '7,50', '6,50', '6,50', '7,50', '1,3', '3,50', '1,3', '3,50', '3,6', '6,7', '6,50', '6,7', '6,7', '6,50', '5,50', '11,12', '11,12', '7,50', '14,50', '6,50', '7,50', '1,3', '1,50', '1,50', '3,5', '1,3', '3,14', '7,50', '1,2', '1,2', '2,3', '1,3', '3,5', '1,3', '14,50', '7,50', '6,7', '3,7', '1,3', '7,50', '1,50', '1,2', '3,5', '5,5B', '1,50', '3,50', '4,50', '7,50', '1,2', '2,3', '1,50', '11,50', '1,3', '11,50', '11,13', '12,13', '11,50', '1,50', '7,50', '1,50', '1,3', '1,3', '1,3', '3,50', '1,2', '1,50', '1,50', '1,3', '3,4', '4,14', '3,50', '11,13', '4,5', '4,5', '4,14', '5B,50', '1,2', '1,3', '1,50', '3,50', '1,2', '3,50', '3,50', '7,50', '1,50', '1,50', '1,3', '1,50', '3,50', '13,50', '1,3', '3,5', '11,13', '2,50', '3,50', '1,50', '3,4', '13,14', '3,50', '3,5', '1,2', '1,3', '4,50', '4,5B', '6,50', '6,50', '7,50', '1,50', '1,2', '1,3', '1,50', '3,4', '6,50', '6,50', '4,5', '4,5', '1,2', '1,2', '1,50', '1,50', '1,3', '1,3', '3,50', '7,50', '11,14', '7,50', '7,50', '13,14', '11,13', '12,13', '5B,50', '5B,50', '4,5B', '5B,7', '7,50', '1,4', '1,3', '3,4', '1,3', '11,12', '11,13', '12,50', '13,50', '12,50', '13,50', '1,50', '3,50', '1,2', '1,3', '11,50', '1,50', '3,50', '1,3', '3,50', '1,2', '1,50', '5,50', '1,50', '1,2', '1,2', '1,50', '1,3', '3,7', '3,7', '3,4', '3,5B', '14,50', '1,7', '7,50', '11,50', '1,50', '7,50', '7,50', '6,7', '7,50', '4,5', '1,50', '1,2', '1,50', '3,4', '5,5B', '1,2', '1,4', '1,4', '4,14', '14,50', '4,14', '14,7', '7,50', '7,50', '14,50', '7,50', '7,50', '1,3', '1,50', '13,50', '1,2', '13,50', '1,50', '4,50', '13,50', '1,3', '3,4', '4,14', '11,13', '3,50', '1,3', '3,50', '1,50', '11,12', '12,13', '13,14', '13,14', '5B,14', '5B,14', '5B,50', '5B,50', '6,7', '7,50', '7,50', '3,5', '11,12', '12,14', '12,13', '12,13', '12,14', '7,50', '3,5', '2,3', '3,5', '5,50', '5B,50', '7,50', '3,50', '1,2', '6,7', '7,50', '11,13', '11,50', '3,50', '3,50', '1,50', '1,50', '1,3', '1,3', '3,7', '7,50', '7,50', '6,7', '1,2', '3,4', '4,5', '5,14', '5,14', '13,14', '6,7', '1,3', '3,50', '3,4', '7,50', '14,6', '14,6', '1,3', '1,3', '3,50', '3,5', '11,13', '11,50', '11,14', '3,4', '4,14', '1,50', '1,3', '1,3', '3,5', '7,50', '7,50', '1,3', '3,5', '3,4', '4,50', '1,50', '11,12', '12,13', '13,14', '13,14', '14,50', '4,50', '14,50', '5,50', '3,5', '3,4', '1,50', '13,50', '6,7', '6,7', '7,50', '7,50', '11,50', '11,12', '4,50', '7,50', '3,50', '14,50', '11,14', '13,14', '1,14', '1,50', '5B,50', '1,2', '3,4', '4,14', '4,14', '14,50', '7,50', '7,50', '3,50', '5,50', '1,2', '7,50', '1,2', '3,4', '4,5', '11,13', '13,14', '13,14', '1,50', '11,50', '6,7', '1,50', '4,50', '7,50', '7,50', '1,50', '3,50', '1,3', '1,3', '7,50', '6,7', '3,50', '1,3', '5,50', '3,5', '3,4', '11,13', '5,7', '7,50', '7,50', '7,50', '1,50', '11,50', '1,3', '11,14', '11,13', '13,14', '14,50', '7,50', '7,50', '3,5', '11,13', '11,13', '13,14', '1,50', '3,50', '3,50', '1,50', '1,50', '6,7', '3,50', '3,4', '4,50', '13,14', '1,3', '3,50', '3,5', '7,50', '7,50', '7,50', '5B,50', '5B,50', '2,3', '3,5B', '7,50', '6,7', '7,50', '1,2', '2,50', '11,13', '11,12', '12,13', '13,14', '4,5', '3,5', '11,13', '13,14', '7,50', '7,50', '3,50', '1,50', '6,50', '6,50', '3,50', '3,4', '4,50', '3,4', '3,4', '4,5B', '5B,50', '5B,50', '3,4', '4,14', '6,7', '7,50', '11,12', '13,14', '7,50', '1,50', '3,50', '3,4', '4,50', '4,5', '7,50', '1,2', '1,2', '2,3', '1,50', '1,50', '6,50', '7,50', '1,3', '11,13', '3,50', '4,50', '11,13', '13,14', '6,50', '7,50', '5,50', '7,50', '13,50', '3,50', '1,3', '3,7', '7,50', '1,50', '1,2', '2,50', '1,50', '1,50', '3,50', '4,50', '1,50', '5,50', '7,50', '1,50', '1,3', '3,50', '11,50', '13,50', '7,50', '14,50', '4,14', '11,13', '11,12', '12,13', '13,14', '6,7', '7,50', '3,4', '4,7', '4,7', '4,14', '11,14', '11,14', '11,12', '12,13', '13,14', '6,7', '6,7', '7,50', '7,50', '1,2', '2,3', '3,7', '3,7', '4,50', '7,50', '6,7', '13,6', '3,6', '3,4', '4,5B', '13,14', '6,7', '7,50', '7,50', '1,50', '1,2', '2,3', '2,3', '2,3', '3,4', '4,5', '11,12', '11,12', '12,7', '6,7', '6,7', '7,50', '3,50', '1,3', '1,3', '3,50', '3,50', '1,50', '3,50', '3,4', '4,50', '11,12', '12,13', '13,14', '14,50', '7,50', '7,50', '1,3', '3,50', '3,50', '3,50', '3,50', '3,50', '1,2', '1,50', '3,50', '11,50', '13,50', '4,50', '7,50', '11,12', '12,13', '13,50', '7,50', '3,50', '2,3', '4,5', '1,3', '3,5', '1,3', '3,50', '7,50', '1,50', '5,50', '1,50', '3,50', '4,5', '7,50', '1,50', '1,50', '1,2', '1,2', '3,5', '6,7', '6,7', '7,50', '1,50', '1,3', '1,2', '1,3', '3,50', '7,50', '1,50', '11,50', '11,13', '7,50', '13,50', '11,50', '13,50', '13,50', '11,50', '13,14', '1,50', '1,3', '1,50', '1,50', '7,50', '7,50', '1,3', '3,50', '5,5B', '5,5B', '5,14', '13,14', '13,14', '3,5', '3,4', '1,2', '1,2', '1,2', '6,7', '7,50', '7,50', '14,50', '6,50', '7,50', '6,50', '1,50', '1,3', '3,50', '1,50', '5,50', '1,50', '3,50', '13,50', '12,13', '13,50', '6,7', '7,50', '7,50', '11,50', '7,50', '3,5', '3,4', '4,14', '1,50', '7,50', '5,5B', '5B,50', '4,5', '3,5', '4,5', '11,13', '11,13', '11,12', '13,14', '2,3']\n",
            "New labels:  [59, 38, 8, 23, 17, 24, 30, 30, 29, 9, 23, 23, 53, 22, 23, 8, 1, 23, 23, 1, 53, 44, 39, 46, 8, 23, 23, 57, 57, 59, 0, 16, 18, 17, 26, 59, 57, 57, 59, 57, 59, 57, 59, 59, 59, 59, 59, 59, 58, 57, 57, 8, 34, 59, 1, 1, 23, 59, 7, 38, 38, 8, 1, 0, 18, 40, 56, 59, 0, 0, 57, 23, 8, 26, 26, 59, 0, 9, 23, 40, 49, 53, 57, 8, 0, 59, 59, 1, 30, 57, 59, 38, 39, 45, 50, 50, 23, 29, 18, 30, 24, 57, 59, 23, 29, 59, 33, 22, 7, 1, 23, 1, 9, 44, 39, 45, 50, 56, 56, 1, 0, 0, 18, 17, 24, 33, 59, 59, 1, 23, 23, 8, 9, 44, 39, 45, 50, 50, 59, 23, 59, 57, 57, 8, 59, 1, 0, 8, 23, 33, 25, 1, 40, 59, 59, 58, 59, 8, 8, 56, 8, 56, 23, 29, 23, 23, 8, 8, 23, 8, 23, 38, 45, 49, 8, 23, 59, 59, 1, 1, 17, 24, 40, 50, 59, 8, 59, 34, 8, 59, 59, 18, 26, 58, 8, 23, 58, 57, 57, 23, 8, 40, 39, 45, 59, 17, 41, 50, 40, 57, 59, 57, 59, 24, 18, 17, 26, 40, 39, 45, 59, 23, 8, 44, 40, 53, 29, 53, 29, 44, 59, 57, 8, 23, 8, 2, 1, 28, 52, 59, 8, 8, 1, 23, 50, 56, 40, 59, 56, 59, 57, 53, 23, 23, 53, 50, 56, 23, 59, 59, 59, 54, 54, 23, 56, 40, 17, 26, 53, 44, 44, 18, 44, 39, 50, 53, 59, 18, 18, 59, 8, 1, 8, 1, 23, 18, 17, 59, 18, 0, 9, 57, 59, 8, 23, 9, 1, 17, 26, 41, 41, 39, 39, 45, 50, 17, 25, 39, 45, 50, 29, 59, 34, 8, 23, 8, 0, 1, 18, 25, 17, 38, 8, 23, 59, 59, 59, 57, 57, 52, 1, 1, 23, 25, 45, 39, 45, 40, 51, 57, 24, 1, 23, 23, 9, 24, 29, 18, 26, 39, 45, 50, 59, 8, 0, 0, 18, 17, 26, 56, 56, 22, 23, 8, 1, 59, 8, 1, 1, 29, 28, 59, 8, 1, 59, 8, 8, 23, 18, 23, 59, 18, 40, 0, 40, 58, 59, 8, 1, 23, 8, 34, 45, 50, 8, 40, 59, 1, 59, 8, 1, 59, 59, 59, 37, 59, 59, 8, 8, 23, 23, 59, 57, 16, 16, 0, 17, 24, 57, 59, 1, 23, 22, 23, 22, 8, 59, 30, 17, 24, 40, 40, 30, 18, 18, 8, 23, 18, 59, 1, 23, 59, 23, 59, 18, 24, 29, 29, 39, 45, 50, 56, 59, 59, 23, 8, 8, 34, 8, 53, 29, 53, 29, 58, 59, 59, 26, 41, 30, 23, 23, 23, 17, 26, 56, 8, 53, 23, 18, 17, 26, 44, 58, 58, 8, 1, 8, 23, 23, 44, 29, 18, 24, 25, 29, 18, 59, 57, 58, 59, 59, 45, 39, 53, 23, 53, 59, 8, 1, 8, 23, 17, 26, 56, 34, 59, 8, 18, 1, 19, 38, 30, 23, 8, 21, 1, 1, 1, 23, 30, 23, 23, 8, 8, 8, 59, 59, 59, 8, 1, 17, 29, 24, 8, 9, 17, 24, 29, 34, 59, 24, 24, 30, 30, 8, 8, 23, 8, 30, 37, 30, 37, 59, 59, 56, 59, 57, 59, 34, 59, 57, 57, 59, 39, 49, 49, 38, 23, 8, 8, 0, 0, 57, 59, 59, 8, 59, 8, 57, 59, 57, 57, 59, 25, 18, 40, 53, 53, 0, 9, 1, 59, 8, 8, 17, 28, 59, 59, 59, 59, 23, 17, 1, 1, 23, 9, 1, 23, 44, 58, 1, 26, 17, 24, 1, 21, 58, 8, 23, 17, 26, 40, 50, 57, 38, 38, 8, 53, 59, 8, 17, 39, 45, 45, 50, 50, 59, 59, 59, 37, 59, 23, 8, 57, 23, 23, 1, 23, 23, 58, 57, 58, 58, 18, 56, 59, 34, 1, 34, 29, 26, 57, 21, 57, 1, 3, 18, 17, 26, 28, 59, 1, 23, 59, 40, 39, 45, 59, 56, 59, 23, 8, 57, 58, 57, 58, 23, 38, 8, 18, 1, 16, 59, 56, 40, 17, 26, 23, 8, 8, 1, 1, 23, 29, 2, 8, 23, 8, 23, 8, 34, 18, 26, 41, 41, 40, 46, 56, 23, 8, 22, 59, 18, 23, 23, 18, 53, 23, 8, 59, 39, 49, 59, 40, 39, 46, 45, 46, 45, 8, 1, 17, 26, 59, 59, 18, 34, 50, 59, 18, 59, 59, 53, 59, 8, 59, 23, 21, 21, 57, 23, 8, 23, 8, 9, 59, 23, 8, 23, 8, 8, 8, 23, 17, 2, 40, 50, 59, 29, 41, 59, 57, 1, 44, 18, 44, 18, 1, 17, 40, 50, 29, 58, 24, 29, 57, 57, 59, 8, 23, 30, 8, 0, 59, 59, 40, 40, 18, 26, 26, 29, 8, 30, 59, 8, 0, 9, 9, 23, 30, 17, 24, 17, 40, 39, 45, 50, 53, 8, 1, 40, 49, 48, 28, 59, 53, 8, 58, 50, 57, 57, 59, 1, 1, 1, 23, 59, 24, 8, 34, 8, 0, 1, 59, 23, 59, 23, 8, 17, 26, 8, 23, 30, 24, 40, 39, 56, 8, 53, 53, 59, 59, 1, 1, 34, 40, 45, 59, 23, 8, 58, 8, 26, 50, 8, 23, 8, 23, 0, 8, 50, 40, 57, 59, 59, 58, 53, 50, 1, 53, 8, 1, 8, 1, 1, 1, 23, 23, 8, 26, 17, 29, 18, 29, 26, 59, 24, 18, 0, 0, 23, 8, 23, 8, 53, 34, 39, 45, 50, 50, 24, 59, 59, 59, 57, 59, 21, 39, 23, 23, 17, 24, 18, 17, 26, 23, 44, 29, 24, 25, 0, 24, 8, 1, 1, 1, 23, 8, 1, 59, 8, 8, 8, 1, 59, 59, 8, 17, 24, 0, 26, 8, 23, 18, 17, 27, 27, 57, 57, 59, 59, 59, 57, 1, 23, 8, 23, 26, 23, 8, 8, 24, 18, 16, 23, 0, 59, 29, 39, 45, 50, 23, 22, 23, 29, 17, 40, 45, 0, 9, 1, 8, 23, 8, 18, 8, 59, 0, 9, 1, 23, 59, 30, 57, 1, 59, 59, 57, 59, 57, 59, 8, 1, 17, 28, 8, 44, 53, 23, 8, 53, 23, 56, 59, 8, 59, 44, 23, 1, 17, 29, 26, 26, 40, 50, 57, 56, 8, 1, 1, 0, 18, 17, 26, 56, 39, 45, 50, 23, 23, 29, 57, 59, 59, 23, 8, 23, 8, 0, 8, 23, 23, 8, 23, 8, 59, 34, 8, 34, 29, 0, 23, 59, 57, 0, 40, 52, 8, 53, 40, 39, 45, 50, 8, 53, 40, 23, 23, 8, 23, 1, 0, 9, 9, 17, 29, 17, 17, 29, 23, 17, 1, 23, 8, 23, 23, 17, 26, 56, 56, 23, 8, 59, 17, 59, 59, 8, 23, 23, 8, 59, 59, 8, 1, 8, 23, 23, 8, 8, 8, 1, 57, 59, 8, 1, 18, 8, 34, 8, 17, 29, 53, 53, 8, 23, 8, 44, 23, 23, 59, 22, 22, 8, 23, 58, 57, 0, 1, 23, 23, 40, 50, 55, 23, 17, 24, 8, 1, 23, 40, 44, 8, 8, 23, 17, 26, 39, 45, 50, 59, 8, 29, 29, 18, 58, 59, 40, 23, 23, 59, 57, 58, 59, 1, 23, 23, 59, 23, 39, 45, 53, 53, 8, 8, 53, 59, 18, 17, 59, 0, 1, 1, 23, 50, 23, 24, 18, 8, 1, 22, 59, 23, 59, 18, 0, 1, 21, 57, 59, 56, 59, 59, 56, 59, 59, 59, 23, 1, 1, 59, 53, 40, 58, 57, 17, 1, 29, 45, 53, 53, 53, 23, 8, 59, 8, 1, 59, 59, 8, 1, 34, 23, 44, 40, 53, 58, 44, 56, 59, 59, 34, 57, 58, 57, 53, 23, 41, 8, 34, 39, 45, 50, 57, 59, 18, 18, 40, 59, 17, 26, 50, 50, 17, 26, 59, 0, 1, 8, 17, 2, 23, 1, 57, 59, 22, 38, 23, 23, 18, 8, 23, 53, 38, 49, 42, 39, 1, 58, 58, 59, 59, 54, 58, 59, 23, 8, 29, 1, 1, 23, 17, 26, 41, 40, 45, 39, 39, 45, 59, 23, 58, 23, 23, 8, 17, 29, 29, 39, 46, 56, 46, 56, 34, 17, 29, 0, 8, 8, 53, 53, 8, 30, 30, 59, 57, 59, 59, 8, 59, 53, 29, 23, 44, 40, 45, 50, 17, 26, 40, 50, 50, 59, 40, 8, 1, 1, 8, 18, 57, 59, 18, 18, 18, 53, 50, 1, 59, 1, 23, 39, 53, 59, 1, 34, 57, 59, 38, 1, 59, 8, 1, 17, 24, 18, 59, 23, 38, 1, 30, 1, 18, 18, 32, 57, 9, 57, 18, 39, 45, 50, 29, 17, 53, 50, 39, 50, 56, 56, 30, 59, 23, 8, 23, 8, 8, 8, 59, 18, 26, 39, 45, 53, 53, 24, 17, 26, 59, 59, 57, 59, 8, 23, 33, 59, 59, 18, 20, 56, 59, 8, 59, 23, 23, 59, 0, 1, 23, 8, 23, 9, 9, 8, 23, 8, 8, 21, 57, 21, 59, 8, 8, 23, 8, 1, 29, 8, 8, 8, 23, 59, 34, 44, 40, 45, 1, 44, 53, 29, 23, 8, 8, 8, 23, 8, 23, 1, 59, 1, 23, 59, 59, 8, 23, 1, 1, 23, 24, 59, 8, 50, 29, 58, 1, 18, 1, 1, 18, 23, 1, 59, 59, 59, 44, 8, 8, 23, 34, 8, 9, 23, 20, 23, 20, 0, 8, 23, 29, 38, 44, 40, 50, 0, 9, 9, 8, 2, 28, 28, 59, 8, 23, 56, 59, 59, 30, 59, 57, 59, 23, 8, 23, 8, 59, 8, 2, 17, 24, 45, 57, 1, 1, 18, 34, 44, 23, 1, 1, 41, 23, 44, 34, 23, 23, 23, 8, 24, 30, 24, 17, 26, 41, 39, 45, 50, 50, 18, 17, 59, 18, 23, 23, 23, 1, 1, 0, 1, 29, 58, 59, 58, 59, 57, 23, 34, 23, 34, 8, 23, 57, 59, 8, 44, 39, 45, 50, 50, 3, 34, 34, 29, 8, 59, 34, 0, 24, 40, 39, 45, 53, 17, 26, 26, 56, 56, 8, 8, 1, 23, 22, 59, 59, 1, 17, 33, 33, 59, 59, 21, 51, 22, 52, 59, 59, 1, 1, 58, 17, 27, 57, 59, 1, 17, 26, 59, 57, 23, 8, 9, 40, 39, 45, 50, 8, 1, 17, 59, 29, 23, 8, 1, 23, 29, 23, 29, 59, 17, 29, 40, 53, 53, 59, 59, 59, 56, 56, 23, 3, 0, 24, 23, 44, 53, 18, 40, 40, 58, 23, 18, 26, 53, 56, 50, 58, 57, 23, 1, 23, 18, 33, 59, 23, 58, 23, 8, 6, 6, 58, 23, 21, 8, 8, 59, 9, 59, 58, 58, 57, 18, 23, 8, 29, 26, 39, 45, 50, 56, 59, 23, 8, 0, 0, 1, 1, 23, 23, 17, 1, 21, 21, 57, 59, 56, 59, 0, 9, 59, 59, 59, 34, 44, 8, 8, 44, 37, 59, 53, 8, 23, 23, 1, 24, 57, 59, 0, 1, 59, 57, 8, 53, 59, 59, 17, 26, 50, 56, 56, 58, 23, 8, 23, 8, 23, 8, 59, 22, 1, 23, 8, 8, 29, 23, 9, 23, 29, 24, 53, 40, 39, 45, 50, 18, 23, 29, 8, 23, 0, 18, 9, 22, 1, 8, 23, 18, 29, 18, 56, 53, 59, 44, 53, 59, 44, 57, 57, 29, 23, 59, 35, 8, 6, 6, 1, 8, 0, 1, 10, 15, 15, 10, 8, 8, 1, 23, 59, 23, 44, 8, 8, 1, 41, 41, 50, 58, 8, 44, 8, 1, 59, 38, 23, 23, 59, 1, 23, 18, 17, 26, 24, 59, 50, 41, 20, 26, 57, 23, 8, 8, 23, 26, 44, 39, 46, 8, 23, 58, 23, 23, 14, 23, 8, 33, 8, 17, 30, 39, 45, 58, 59, 59, 17, 59, 8, 34, 8, 9, 24, 30, 59, 33, 1, 17, 26, 26, 1, 23, 23, 23, 18, 40, 39, 45, 50, 50, 29, 8, 9, 23, 23, 17, 40, 39, 45, 53, 8, 0, 23, 57, 59, 59, 17, 26, 26, 40, 39, 58, 59, 59, 8, 23, 1, 23, 8, 23, 23, 58, 58, 57, 8, 23, 23, 23, 23, 17, 24, 59, 17, 59, 22, 1, 1, 17, 17, 24, 33, 33, 59, 23, 8, 8, 22, 28, 39, 57, 59, 59, 40, 8, 8, 8, 8, 46, 57, 59, 8, 23, 8, 9, 8, 8, 1, 1, 17, 20, 26, 40, 29, 59, 8, 23, 56, 56, 25, 53, 40, 39, 45, 45, 50, 23, 8, 23, 59, 57, 59, 59, 8, 1, 23, 44, 39, 40, 39, 1, 8, 23, 17, 57, 59, 0, 9, 17, 24, 18, 56, 44, 39, 45, 8, 53, 23, 29, 53, 40, 50, 18, 17, 26, 40, 53, 56, 8, 0, 44, 29, 23, 23, 29, 8, 57, 0, 0, 23, 21, 30, 45, 40, 50, 59, 23, 22, 59, 57, 59, 30, 59, 58, 26, 41, 8, 8, 8, 1, 23, 59, 59, 8, 1, 0, 34, 57, 59, 30, 0, 17, 29, 29, 50, 23, 8, 59, 23, 18, 33, 57, 9, 23, 1, 23, 59, 59, 33, 59, 22, 18, 59, 56, 57, 39, 45, 50, 50, 44, 44, 40, 59, 26, 23, 23, 23, 37, 8, 0, 58, 57, 59, 59, 53, 8, 59, 23, 0, 0, 17, 26, 26, 39, 45, 50, 50, 59, 56, 59, 1, 8, 53, 8, 53, 29, 34, 1, 57, 59, 18, 26, 41, 41, 38, 23, 8, 9, 8, 18, 18, 26, 38, 38, 0, 9, 30, 24, 29, 18, 8, 26, 17, 59, 58, 58, 59, 50, 59, 8, 23, 59, 0, 30, 53, 23, 8, 8, 57, 59, 59, 16, 8, 17, 24, 23, 59, 1, 17, 26, 59, 30, 35, 40, 50, 56, 56, 29, 41, 50, 59, 8, 8, 23, 53, 39, 45, 53, 23, 30, 59, 38, 59, 0, 50, 53, 17, 26, 26, 58, 57, 23, 23, 8, 8, 8, 1, 23, 44, 40, 50, 57, 59, 59, 24, 58, 57, 59, 58, 59, 29, 8, 53, 23, 1, 1, 18, 53, 39, 45, 53, 53, 8, 23, 59, 18, 40, 39, 45, 8, 23, 1, 1, 23, 8, 53, 45, 1, 1, 17, 26, 44, 59, 59, 8, 23, 34, 59, 8, 23, 34, 44, 44, 53, 45, 57, 59, 53, 59, 44, 8, 1, 1, 17, 57, 8, 44, 40, 39, 45, 50, 56, 29, 24, 24, 29, 8, 0, 56, 8, 8, 23, 8, 23, 8, 1, 18, 30, 30, 38, 34, 18, 56, 59, 59, 59, 8, 8, 0, 18, 1, 23, 6, 57, 59, 53, 40, 39, 45, 57, 59, 29, 24, 20, 26, 29, 59, 57, 8, 26, 57, 59, 29, 8, 59, 58, 58, 59, 1, 23, 1, 23, 21, 57, 58, 57, 57, 58, 34, 39, 39, 59, 56, 58, 59, 1, 8, 8, 18, 1, 20, 59, 0, 0, 9, 1, 18, 1, 56, 59, 57, 22, 1, 59, 8, 0, 18, 30, 8, 23, 29, 59, 0, 9, 8, 44, 1, 44, 40, 45, 44, 8, 59, 8, 1, 1, 1, 23, 0, 8, 8, 1, 17, 26, 23, 40, 24, 24, 26, 38, 0, 1, 8, 23, 0, 23, 23, 59, 8, 8, 1, 8, 23, 53, 1, 18, 40, 16, 23, 8, 17, 50, 23, 18, 0, 1, 29, 25, 58, 58, 59, 8, 0, 1, 8, 17, 58, 58, 24, 24, 0, 0, 8, 8, 1, 1, 23, 59, 41, 59, 59, 50, 40, 45, 38, 38, 25, 37, 59, 2, 1, 17, 1, 39, 40, 49, 53, 49, 53, 8, 23, 0, 1, 44, 8, 23, 1, 23, 0, 8, 34, 8, 0, 0, 8, 1, 22, 22, 17, 19, 56, 7, 59, 44, 8, 59, 59, 57, 59, 24, 8, 0, 8, 17, 30, 0, 2, 2, 26, 56, 26, 55, 59, 59, 56, 59, 59, 1, 8, 53, 0, 53, 8, 29, 53, 1, 17, 26, 40, 23, 1, 23, 8, 39, 45, 50, 50, 35, 35, 38, 38, 57, 59, 59, 18, 39, 46, 45, 45, 46, 59, 18, 9, 18, 34, 38, 59, 23, 0, 57, 59, 40, 44, 23, 23, 8, 8, 1, 1, 22, 59, 59, 57, 0, 17, 24, 31, 31, 50, 57, 1, 23, 17, 59, 54, 54, 1, 1, 23, 18, 40, 44, 41, 17, 26, 8, 1, 1, 18, 59, 59, 1, 18, 17, 29, 8, 39, 45, 50, 50, 56, 29, 56, 34, 18, 17, 8, 53, 57, 57, 59, 59, 44, 39, 29, 59, 23, 56, 41, 50, 5, 8, 38, 0, 17, 26, 26, 56, 59, 59, 23, 34, 0, 59, 0, 17, 24, 40, 50, 50, 8, 44, 57, 8, 29, 59, 59, 8, 23, 1, 1, 59, 57, 23, 1, 34, 18, 17, 40, 33, 59, 59, 59, 8, 44, 1, 41, 40, 50, 56, 59, 59, 18, 40, 40, 50, 8, 23, 23, 8, 8, 57, 23, 17, 29, 50, 1, 23, 18, 59, 59, 59, 38, 38, 9, 19, 59, 57, 59, 0, 16, 40, 39, 45, 50, 24, 18, 40, 50, 59, 59, 23, 8, 58, 58, 23, 17, 29, 17, 17, 25, 38, 38, 17, 26, 57, 59, 39, 50, 59, 8, 23, 17, 29, 24, 59, 0, 0, 9, 8, 8, 58, 59, 1, 40, 23, 29, 40, 50, 58, 59, 34, 59, 53, 23, 1, 22, 59, 8, 0, 16, 8, 8, 23, 29, 8, 34, 59, 8, 1, 23, 44, 53, 59, 56, 26, 40, 39, 45, 50, 57, 59, 17, 28, 28, 26, 41, 41, 39, 45, 50, 57, 57, 59, 59, 0, 9, 22, 22, 29, 59, 57, 51, 21, 17, 25, 50, 57, 59, 59, 8, 0, 9, 9, 9, 17, 24, 39, 39, 48, 57, 57, 59, 23, 1, 1, 23, 23, 8, 23, 17, 29, 39, 45, 50, 56, 59, 59, 1, 23, 23, 23, 23, 23, 0, 8, 23, 44, 53, 29, 59, 39, 45, 53, 59, 23, 9, 24, 1, 18, 1, 23, 59, 8, 34, 8, 23, 24, 59, 8, 8, 0, 0, 18, 57, 57, 59, 8, 1, 0, 1, 23, 59, 8, 44, 40, 59, 53, 44, 53, 53, 44, 50, 8, 1, 8, 8, 59, 59, 1, 23, 30, 30, 31, 50, 50, 18, 17, 0, 0, 0, 57, 59, 59, 56, 58, 59, 58, 8, 1, 23, 8, 34, 8, 23, 53, 45, 53, 57, 59, 59, 44, 59, 18, 17, 26, 8, 59, 30, 38, 24, 18, 24, 40, 40, 39, 50, 9]\n"
          ],
          "name": "stdout"
        }
      ]
    },
    {
      "cell_type": "code",
      "metadata": {
        "id": "ukooT2GLWVDu",
        "colab_type": "code",
        "colab": {}
      },
      "source": [
        "# Use train_test_split to split our data into train and validation sets for training\n",
        "\n",
        "train_inputs, validation_inputs, train_labels, validation_labels = train_test_split(input_ids, labels, \n",
        "                                                            random_state=2018, test_size=0.1)\n",
        "train_masks, validation_masks, _, _ = train_test_split(attention_masks, input_ids,\n",
        "                                             random_state=2018, test_size=0.1)"
      ],
      "execution_count": 55,
      "outputs": []
    },
    {
      "cell_type": "code",
      "metadata": {
        "id": "8yYmGATtWWpc",
        "colab_type": "code",
        "colab": {}
      },
      "source": [
        "# Convert all of our data into torch tensors, the required datatype for our model\n",
        "\n",
        "train_inputs = torch.tensor(train_inputs)\n",
        "validation_inputs = torch.tensor(validation_inputs)\n",
        "train_labels = torch.tensor(train_labels)\n",
        "validation_labels = torch.tensor(validation_labels)\n",
        "train_masks = torch.tensor(train_masks)\n",
        "validation_masks = torch.tensor(validation_masks)"
      ],
      "execution_count": 56,
      "outputs": []
    },
    {
      "cell_type": "code",
      "metadata": {
        "id": "zS7ZO78cWYfO",
        "colab_type": "code",
        "colab": {}
      },
      "source": [
        "# Create an iterator of our data with torch DataLoader. This helps save on memory during training because, unlike a for loop, \n",
        "# with an iterator the entire dataset does not need to be loaded into memory\n",
        "\n",
        "train_data = TensorDataset(train_inputs, train_masks, train_labels)\n",
        "train_sampler = RandomSampler(train_data)\n",
        "train_dataloader = DataLoader(train_data, sampler=train_sampler, batch_size=BATCH_SIZE)\n",
        "\n",
        "validation_data = TensorDataset(validation_inputs, validation_masks, validation_labels)\n",
        "validation_sampler = SequentialSampler(validation_data)\n",
        "validation_dataloader = DataLoader(validation_data, sampler=validation_sampler, batch_size=BATCH_SIZE)"
      ],
      "execution_count": 57,
      "outputs": []
    },
    {
      "cell_type": "code",
      "metadata": {
        "id": "djyfxGW2Wb96",
        "colab_type": "code",
        "colab": {
          "base_uri": "https://localhost:8080/",
          "height": 1000
        },
        "outputId": "1cbf387f-252b-4e12-bcad-7fcc878461a1"
      },
      "source": [
        "# This is where the fine-tuning comes in. We must train the model for our specific task.\n",
        "\n",
        "# We will first modify pre-trained BERT for our specific task, then continue training on our data until the entire model\n",
        "#   is well-suited for our task.\n",
        "\n",
        "model = BertForSequenceClassification.from_pretrained(\"bert-base-uncased\", num_labels=len(labels))\n",
        "model.cuda()"
      ],
      "execution_count": 58,
      "outputs": [
        {
          "output_type": "execute_result",
          "data": {
            "text/plain": [
              "BertForSequenceClassification(\n",
              "  (bert): BertModel(\n",
              "    (embeddings): BertEmbeddings(\n",
              "      (word_embeddings): Embedding(30522, 768, padding_idx=0)\n",
              "      (position_embeddings): Embedding(512, 768)\n",
              "      (token_type_embeddings): Embedding(2, 768)\n",
              "      (LayerNorm): BertLayerNorm()\n",
              "      (dropout): Dropout(p=0.1, inplace=False)\n",
              "    )\n",
              "    (encoder): BertEncoder(\n",
              "      (layer): ModuleList(\n",
              "        (0): BertLayer(\n",
              "          (attention): BertAttention(\n",
              "            (self): BertSelfAttention(\n",
              "              (query): Linear(in_features=768, out_features=768, bias=True)\n",
              "              (key): Linear(in_features=768, out_features=768, bias=True)\n",
              "              (value): Linear(in_features=768, out_features=768, bias=True)\n",
              "              (dropout): Dropout(p=0.1, inplace=False)\n",
              "            )\n",
              "            (output): BertSelfOutput(\n",
              "              (dense): Linear(in_features=768, out_features=768, bias=True)\n",
              "              (LayerNorm): BertLayerNorm()\n",
              "              (dropout): Dropout(p=0.1, inplace=False)\n",
              "            )\n",
              "          )\n",
              "          (intermediate): BertIntermediate(\n",
              "            (dense): Linear(in_features=768, out_features=3072, bias=True)\n",
              "          )\n",
              "          (output): BertOutput(\n",
              "            (dense): Linear(in_features=3072, out_features=768, bias=True)\n",
              "            (LayerNorm): BertLayerNorm()\n",
              "            (dropout): Dropout(p=0.1, inplace=False)\n",
              "          )\n",
              "        )\n",
              "        (1): BertLayer(\n",
              "          (attention): BertAttention(\n",
              "            (self): BertSelfAttention(\n",
              "              (query): Linear(in_features=768, out_features=768, bias=True)\n",
              "              (key): Linear(in_features=768, out_features=768, bias=True)\n",
              "              (value): Linear(in_features=768, out_features=768, bias=True)\n",
              "              (dropout): Dropout(p=0.1, inplace=False)\n",
              "            )\n",
              "            (output): BertSelfOutput(\n",
              "              (dense): Linear(in_features=768, out_features=768, bias=True)\n",
              "              (LayerNorm): BertLayerNorm()\n",
              "              (dropout): Dropout(p=0.1, inplace=False)\n",
              "            )\n",
              "          )\n",
              "          (intermediate): BertIntermediate(\n",
              "            (dense): Linear(in_features=768, out_features=3072, bias=True)\n",
              "          )\n",
              "          (output): BertOutput(\n",
              "            (dense): Linear(in_features=3072, out_features=768, bias=True)\n",
              "            (LayerNorm): BertLayerNorm()\n",
              "            (dropout): Dropout(p=0.1, inplace=False)\n",
              "          )\n",
              "        )\n",
              "        (2): BertLayer(\n",
              "          (attention): BertAttention(\n",
              "            (self): BertSelfAttention(\n",
              "              (query): Linear(in_features=768, out_features=768, bias=True)\n",
              "              (key): Linear(in_features=768, out_features=768, bias=True)\n",
              "              (value): Linear(in_features=768, out_features=768, bias=True)\n",
              "              (dropout): Dropout(p=0.1, inplace=False)\n",
              "            )\n",
              "            (output): BertSelfOutput(\n",
              "              (dense): Linear(in_features=768, out_features=768, bias=True)\n",
              "              (LayerNorm): BertLayerNorm()\n",
              "              (dropout): Dropout(p=0.1, inplace=False)\n",
              "            )\n",
              "          )\n",
              "          (intermediate): BertIntermediate(\n",
              "            (dense): Linear(in_features=768, out_features=3072, bias=True)\n",
              "          )\n",
              "          (output): BertOutput(\n",
              "            (dense): Linear(in_features=3072, out_features=768, bias=True)\n",
              "            (LayerNorm): BertLayerNorm()\n",
              "            (dropout): Dropout(p=0.1, inplace=False)\n",
              "          )\n",
              "        )\n",
              "        (3): BertLayer(\n",
              "          (attention): BertAttention(\n",
              "            (self): BertSelfAttention(\n",
              "              (query): Linear(in_features=768, out_features=768, bias=True)\n",
              "              (key): Linear(in_features=768, out_features=768, bias=True)\n",
              "              (value): Linear(in_features=768, out_features=768, bias=True)\n",
              "              (dropout): Dropout(p=0.1, inplace=False)\n",
              "            )\n",
              "            (output): BertSelfOutput(\n",
              "              (dense): Linear(in_features=768, out_features=768, bias=True)\n",
              "              (LayerNorm): BertLayerNorm()\n",
              "              (dropout): Dropout(p=0.1, inplace=False)\n",
              "            )\n",
              "          )\n",
              "          (intermediate): BertIntermediate(\n",
              "            (dense): Linear(in_features=768, out_features=3072, bias=True)\n",
              "          )\n",
              "          (output): BertOutput(\n",
              "            (dense): Linear(in_features=3072, out_features=768, bias=True)\n",
              "            (LayerNorm): BertLayerNorm()\n",
              "            (dropout): Dropout(p=0.1, inplace=False)\n",
              "          )\n",
              "        )\n",
              "        (4): BertLayer(\n",
              "          (attention): BertAttention(\n",
              "            (self): BertSelfAttention(\n",
              "              (query): Linear(in_features=768, out_features=768, bias=True)\n",
              "              (key): Linear(in_features=768, out_features=768, bias=True)\n",
              "              (value): Linear(in_features=768, out_features=768, bias=True)\n",
              "              (dropout): Dropout(p=0.1, inplace=False)\n",
              "            )\n",
              "            (output): BertSelfOutput(\n",
              "              (dense): Linear(in_features=768, out_features=768, bias=True)\n",
              "              (LayerNorm): BertLayerNorm()\n",
              "              (dropout): Dropout(p=0.1, inplace=False)\n",
              "            )\n",
              "          )\n",
              "          (intermediate): BertIntermediate(\n",
              "            (dense): Linear(in_features=768, out_features=3072, bias=True)\n",
              "          )\n",
              "          (output): BertOutput(\n",
              "            (dense): Linear(in_features=3072, out_features=768, bias=True)\n",
              "            (LayerNorm): BertLayerNorm()\n",
              "            (dropout): Dropout(p=0.1, inplace=False)\n",
              "          )\n",
              "        )\n",
              "        (5): BertLayer(\n",
              "          (attention): BertAttention(\n",
              "            (self): BertSelfAttention(\n",
              "              (query): Linear(in_features=768, out_features=768, bias=True)\n",
              "              (key): Linear(in_features=768, out_features=768, bias=True)\n",
              "              (value): Linear(in_features=768, out_features=768, bias=True)\n",
              "              (dropout): Dropout(p=0.1, inplace=False)\n",
              "            )\n",
              "            (output): BertSelfOutput(\n",
              "              (dense): Linear(in_features=768, out_features=768, bias=True)\n",
              "              (LayerNorm): BertLayerNorm()\n",
              "              (dropout): Dropout(p=0.1, inplace=False)\n",
              "            )\n",
              "          )\n",
              "          (intermediate): BertIntermediate(\n",
              "            (dense): Linear(in_features=768, out_features=3072, bias=True)\n",
              "          )\n",
              "          (output): BertOutput(\n",
              "            (dense): Linear(in_features=3072, out_features=768, bias=True)\n",
              "            (LayerNorm): BertLayerNorm()\n",
              "            (dropout): Dropout(p=0.1, inplace=False)\n",
              "          )\n",
              "        )\n",
              "        (6): BertLayer(\n",
              "          (attention): BertAttention(\n",
              "            (self): BertSelfAttention(\n",
              "              (query): Linear(in_features=768, out_features=768, bias=True)\n",
              "              (key): Linear(in_features=768, out_features=768, bias=True)\n",
              "              (value): Linear(in_features=768, out_features=768, bias=True)\n",
              "              (dropout): Dropout(p=0.1, inplace=False)\n",
              "            )\n",
              "            (output): BertSelfOutput(\n",
              "              (dense): Linear(in_features=768, out_features=768, bias=True)\n",
              "              (LayerNorm): BertLayerNorm()\n",
              "              (dropout): Dropout(p=0.1, inplace=False)\n",
              "            )\n",
              "          )\n",
              "          (intermediate): BertIntermediate(\n",
              "            (dense): Linear(in_features=768, out_features=3072, bias=True)\n",
              "          )\n",
              "          (output): BertOutput(\n",
              "            (dense): Linear(in_features=3072, out_features=768, bias=True)\n",
              "            (LayerNorm): BertLayerNorm()\n",
              "            (dropout): Dropout(p=0.1, inplace=False)\n",
              "          )\n",
              "        )\n",
              "        (7): BertLayer(\n",
              "          (attention): BertAttention(\n",
              "            (self): BertSelfAttention(\n",
              "              (query): Linear(in_features=768, out_features=768, bias=True)\n",
              "              (key): Linear(in_features=768, out_features=768, bias=True)\n",
              "              (value): Linear(in_features=768, out_features=768, bias=True)\n",
              "              (dropout): Dropout(p=0.1, inplace=False)\n",
              "            )\n",
              "            (output): BertSelfOutput(\n",
              "              (dense): Linear(in_features=768, out_features=768, bias=True)\n",
              "              (LayerNorm): BertLayerNorm()\n",
              "              (dropout): Dropout(p=0.1, inplace=False)\n",
              "            )\n",
              "          )\n",
              "          (intermediate): BertIntermediate(\n",
              "            (dense): Linear(in_features=768, out_features=3072, bias=True)\n",
              "          )\n",
              "          (output): BertOutput(\n",
              "            (dense): Linear(in_features=3072, out_features=768, bias=True)\n",
              "            (LayerNorm): BertLayerNorm()\n",
              "            (dropout): Dropout(p=0.1, inplace=False)\n",
              "          )\n",
              "        )\n",
              "        (8): BertLayer(\n",
              "          (attention): BertAttention(\n",
              "            (self): BertSelfAttention(\n",
              "              (query): Linear(in_features=768, out_features=768, bias=True)\n",
              "              (key): Linear(in_features=768, out_features=768, bias=True)\n",
              "              (value): Linear(in_features=768, out_features=768, bias=True)\n",
              "              (dropout): Dropout(p=0.1, inplace=False)\n",
              "            )\n",
              "            (output): BertSelfOutput(\n",
              "              (dense): Linear(in_features=768, out_features=768, bias=True)\n",
              "              (LayerNorm): BertLayerNorm()\n",
              "              (dropout): Dropout(p=0.1, inplace=False)\n",
              "            )\n",
              "          )\n",
              "          (intermediate): BertIntermediate(\n",
              "            (dense): Linear(in_features=768, out_features=3072, bias=True)\n",
              "          )\n",
              "          (output): BertOutput(\n",
              "            (dense): Linear(in_features=3072, out_features=768, bias=True)\n",
              "            (LayerNorm): BertLayerNorm()\n",
              "            (dropout): Dropout(p=0.1, inplace=False)\n",
              "          )\n",
              "        )\n",
              "        (9): BertLayer(\n",
              "          (attention): BertAttention(\n",
              "            (self): BertSelfAttention(\n",
              "              (query): Linear(in_features=768, out_features=768, bias=True)\n",
              "              (key): Linear(in_features=768, out_features=768, bias=True)\n",
              "              (value): Linear(in_features=768, out_features=768, bias=True)\n",
              "              (dropout): Dropout(p=0.1, inplace=False)\n",
              "            )\n",
              "            (output): BertSelfOutput(\n",
              "              (dense): Linear(in_features=768, out_features=768, bias=True)\n",
              "              (LayerNorm): BertLayerNorm()\n",
              "              (dropout): Dropout(p=0.1, inplace=False)\n",
              "            )\n",
              "          )\n",
              "          (intermediate): BertIntermediate(\n",
              "            (dense): Linear(in_features=768, out_features=3072, bias=True)\n",
              "          )\n",
              "          (output): BertOutput(\n",
              "            (dense): Linear(in_features=3072, out_features=768, bias=True)\n",
              "            (LayerNorm): BertLayerNorm()\n",
              "            (dropout): Dropout(p=0.1, inplace=False)\n",
              "          )\n",
              "        )\n",
              "        (10): BertLayer(\n",
              "          (attention): BertAttention(\n",
              "            (self): BertSelfAttention(\n",
              "              (query): Linear(in_features=768, out_features=768, bias=True)\n",
              "              (key): Linear(in_features=768, out_features=768, bias=True)\n",
              "              (value): Linear(in_features=768, out_features=768, bias=True)\n",
              "              (dropout): Dropout(p=0.1, inplace=False)\n",
              "            )\n",
              "            (output): BertSelfOutput(\n",
              "              (dense): Linear(in_features=768, out_features=768, bias=True)\n",
              "              (LayerNorm): BertLayerNorm()\n",
              "              (dropout): Dropout(p=0.1, inplace=False)\n",
              "            )\n",
              "          )\n",
              "          (intermediate): BertIntermediate(\n",
              "            (dense): Linear(in_features=768, out_features=3072, bias=True)\n",
              "          )\n",
              "          (output): BertOutput(\n",
              "            (dense): Linear(in_features=3072, out_features=768, bias=True)\n",
              "            (LayerNorm): BertLayerNorm()\n",
              "            (dropout): Dropout(p=0.1, inplace=False)\n",
              "          )\n",
              "        )\n",
              "        (11): BertLayer(\n",
              "          (attention): BertAttention(\n",
              "            (self): BertSelfAttention(\n",
              "              (query): Linear(in_features=768, out_features=768, bias=True)\n",
              "              (key): Linear(in_features=768, out_features=768, bias=True)\n",
              "              (value): Linear(in_features=768, out_features=768, bias=True)\n",
              "              (dropout): Dropout(p=0.1, inplace=False)\n",
              "            )\n",
              "            (output): BertSelfOutput(\n",
              "              (dense): Linear(in_features=768, out_features=768, bias=True)\n",
              "              (LayerNorm): BertLayerNorm()\n",
              "              (dropout): Dropout(p=0.1, inplace=False)\n",
              "            )\n",
              "          )\n",
              "          (intermediate): BertIntermediate(\n",
              "            (dense): Linear(in_features=768, out_features=3072, bias=True)\n",
              "          )\n",
              "          (output): BertOutput(\n",
              "            (dense): Linear(in_features=3072, out_features=768, bias=True)\n",
              "            (LayerNorm): BertLayerNorm()\n",
              "            (dropout): Dropout(p=0.1, inplace=False)\n",
              "          )\n",
              "        )\n",
              "      )\n",
              "    )\n",
              "    (pooler): BertPooler(\n",
              "      (dense): Linear(in_features=768, out_features=768, bias=True)\n",
              "      (activation): Tanh()\n",
              "    )\n",
              "  )\n",
              "  (dropout): Dropout(p=0.1, inplace=False)\n",
              "  (classifier): Linear(in_features=768, out_features=3100, bias=True)\n",
              ")"
            ]
          },
          "metadata": {
            "tags": []
          },
          "execution_count": 58
        }
      ]
    },
    {
      "cell_type": "code",
      "metadata": {
        "id": "HPtYqoRsWjnT",
        "colab_type": "code",
        "colab": {}
      },
      "source": [
        "'''\n",
        "Now that we have our model loaded we need to grab the training hyperparameters from within the stored model.\n",
        "\n",
        "For the purposes of fine-tuning, the authors recommend the following hyperparameter ranges:\n",
        "\n",
        "Batch size: 16, 32\n",
        "Learning rate (Adam): 5e-5, 3e-5, 2e-5\n",
        "Number of epochs: 2, 3, 4\n",
        "'''\n",
        "\n",
        "param_optimizer = list(model.named_parameters())\n",
        "no_decay = ['bias', 'gamma', 'beta']\n",
        "optimizer_grouped_parameters = [\n",
        "    {'params': [p for n, p in param_optimizer if not any(nd in n for nd in no_decay)],\n",
        "     'weight_decay_rate': 0.01},\n",
        "    {'params': [p for n, p in param_optimizer if any(nd in n for nd in no_decay)],\n",
        "     'weight_decay_rate': 0.0}\n",
        "]"
      ],
      "execution_count": 59,
      "outputs": []
    },
    {
      "cell_type": "code",
      "metadata": {
        "id": "6wRLpwmyWnFZ",
        "colab_type": "code",
        "colab": {
          "base_uri": "https://localhost:8080/",
          "height": 34
        },
        "outputId": "2a6d71a0-922b-45e2-ccf1-c25f91c08f19"
      },
      "source": [
        "optimizer = BertAdam(optimizer_grouped_parameters,\n",
        "                     lr=LEARNING_RATE,\n",
        "                     warmup=WARMUP)"
      ],
      "execution_count": 60,
      "outputs": [
        {
          "output_type": "stream",
          "text": [
            "t_total value of -1 results in schedule not being applied\n"
          ],
          "name": "stderr"
        }
      ]
    },
    {
      "cell_type": "code",
      "metadata": {
        "id": "uMEbb1g5Wrsd",
        "colab_type": "code",
        "colab": {
          "base_uri": "https://localhost:8080/",
          "height": 170
        },
        "outputId": "2105c5b2-5302-4c03-a588-95bea9e047c5"
      },
      "source": [
        "t = [] \n",
        "\n",
        "# Store our loss and accuracy for plotting\n",
        "train_loss_set = []\n",
        "\n",
        "# trange is a tqdm wrapper around the normal python range\n",
        "for _ in trange(EPOCHS, desc=\"Epoch\"):\n",
        "  \n",
        "  # Training\n",
        "  \n",
        "  # Set our model to training mode (as opposed to evaluation mode)\n",
        "  model.train()\n",
        "  \n",
        "  # Tracking variables\n",
        "  tr_loss = 0\n",
        "  nb_tr_examples, nb_tr_steps = 0, 0\n",
        "  \n",
        "  # Train the data for one epoch\n",
        "  for step, batch in enumerate(train_dataloader):\n",
        "    # Add batch to GPU\n",
        "    batch = tuple(t.to(device) for t in batch)\n",
        "    # Unpack the inputs from our dataloader\n",
        "    b_input_ids, b_input_mask, b_labels = batch\n",
        "    # Clear out the gradients (by default they accumulate)\n",
        "    optimizer.zero_grad()\n",
        "    # Forward pass\n",
        "    loss = model(b_input_ids, token_type_ids=None, attention_mask=b_input_mask, labels=b_labels)\n",
        "    train_loss_set.append(loss.item())    \n",
        "    # Backward pass\n",
        "    loss.backward()\n",
        "    # Update parameters and take a step using the computed gradient\n",
        "    optimizer.step()\n",
        "    \n",
        "    # Update tracking variables\n",
        "    tr_loss += loss.item()\n",
        "    nb_tr_examples += b_input_ids.size(0)\n",
        "    nb_tr_steps += 1\n",
        "\n",
        "  print(\"Train loss: {}\".format(tr_loss/nb_tr_steps))\n",
        "    \n",
        "    \n",
        "  # Validation\n",
        "\n",
        "  # Put model in evaluation mode to evaluate loss on the validation set\n",
        "  model.eval()\n",
        "\n",
        "  # Tracking variables \n",
        "  eval_loss, eval_accuracy = 0, 0\n",
        "  nb_eval_steps, nb_eval_examples = 0, 0\n",
        "\n",
        "  # Evaluate data for one epoch\n",
        "  for batch in validation_dataloader:\n",
        "    # Add batch to GPU\n",
        "    batch = tuple(t.to(device) for t in batch)\n",
        "    # Unpack the inputs from our dataloader\n",
        "    b_input_ids, b_input_mask, b_labels = batch\n",
        "    # Telling the model not to compute or store gradients, saving memory and speeding up validation\n",
        "    with torch.no_grad():\n",
        "      # Forward pass, calculate logit predictions\n",
        "      logits = model(b_input_ids, token_type_ids=None, attention_mask=b_input_mask)\n",
        "    \n",
        "    # Move logits and labels to CPU\n",
        "    logits = logits.detach().cpu().numpy()\n",
        "    label_ids = b_labels.to('cpu').numpy()\n",
        "\n",
        "    tmp_eval_accuracy = flat_accuracy(logits, label_ids)\n",
        "    \n",
        "    eval_accuracy += tmp_eval_accuracy\n",
        "    nb_eval_steps += 1\n",
        "\n",
        "  print(\"Validation Accuracy: {}\".format(eval_accuracy/nb_eval_steps))"
      ],
      "execution_count": 61,
      "outputs": [
        {
          "output_type": "stream",
          "text": [
            "\rEpoch:   0%|          | 0/4 [00:00<?, ?it/s]"
          ],
          "name": "stderr"
        },
        {
          "output_type": "stream",
          "text": [
            "Train loss: 4.117844585667957\n"
          ],
          "name": "stdout"
        },
        {
          "output_type": "stream",
          "text": [
            "\rEpoch:  25%|██▌       | 1/4 [00:28<01:26, 28.91s/it]"
          ],
          "name": "stderr"
        },
        {
          "output_type": "stream",
          "text": [
            "Validation Accuracy: 0.4732954545454545\n",
            "Train loss: 1.9028657376766205\n"
          ],
          "name": "stdout"
        },
        {
          "output_type": "stream",
          "text": [
            "\rEpoch:  50%|█████     | 2/4 [00:57<00:57, 28.88s/it]"
          ],
          "name": "stderr"
        },
        {
          "output_type": "stream",
          "text": [
            "Validation Accuracy: 0.5389204545454545\n",
            "Train loss: 1.4997500255703926\n"
          ],
          "name": "stdout"
        },
        {
          "output_type": "stream",
          "text": [
            "\rEpoch:  75%|███████▌  | 3/4 [01:26<00:28, 28.88s/it]"
          ],
          "name": "stderr"
        },
        {
          "output_type": "stream",
          "text": [
            "Validation Accuracy: 0.5525568181818181\n",
            "Train loss: 1.2776985310695388\n"
          ],
          "name": "stdout"
        },
        {
          "output_type": "stream",
          "text": [
            "Epoch: 100%|██████████| 4/4 [01:55<00:00, 28.88s/it]"
          ],
          "name": "stderr"
        },
        {
          "output_type": "stream",
          "text": [
            "Validation Accuracy: 0.5448863636363637\n"
          ],
          "name": "stdout"
        },
        {
          "output_type": "stream",
          "text": [
            "\n"
          ],
          "name": "stderr"
        }
      ]
    },
    {
      "cell_type": "markdown",
      "metadata": {
        "id": "iW-99ItFn6Ti",
        "colab_type": "text"
      },
      "source": [
        "Now we will evaluate the instances guessed invalid with the valid-trained BERT."
      ]
    },
    {
      "cell_type": "code",
      "metadata": {
        "id": "hOEfaDDF_smP",
        "colab_type": "code",
        "colab": {
          "base_uri": "https://localhost:8080/",
          "height": 119
        },
        "outputId": "d014e86f-adf0-48df-feb0-f8717f10e4d4"
      },
      "source": [
        "sentences_test_valid = df_multi_test_valid.sentence.values\n",
        "sentences_test_valid = [\"[CLS] \" + sentence + \" [SEP]\" for sentence in sentences_test_valid]\n",
        "\n",
        "tokenized_texts_test_valid = [tokenizer.tokenize(sentence) for sentence in sentences_test_valid]\n",
        "labels_test_valid = df_multi_test_valid.relation.values\n",
        "labels_test_valid[:50]"
      ],
      "execution_count": 62,
      "outputs": [
        {
          "output_type": "execute_result",
          "data": {
            "text/plain": [
              "array(['7,50', '1,50', 'O', '1,3', '1,50', '1,2', 'O', '1,3', '3,4',\n",
              "       '3,14', '14,50', '1,3', '7,14', 'O', 'O', '3,5', '7,50', '6,50',\n",
              "       '6,5', '6,50', '3,4', '4,14', 'O', '3,50', '7,50', '3,50', '13,14',\n",
              "       '4,50', '4,5B', 'O', '1,50', '1,50', '6,7', '1,3', '7,50', '6,50',\n",
              "       '6,7', '6,7', '7,50', 'O', '14,50', '3,4', '4,14', 'O', '4,5B',\n",
              "       '7,50', '3,50', '14,50', '1,50', '1,2'], dtype=object)"
            ]
          },
          "metadata": {
            "tags": []
          },
          "execution_count": 62
        }
      ]
    },
    {
      "cell_type": "code",
      "metadata": {
        "id": "5I-OFsFCHBx1",
        "colab_type": "code",
        "colab": {
          "base_uri": "https://localhost:8080/",
          "height": 139
        },
        "outputId": "97ee9efb-4cb6-4f67-c049-8f90f00c22c8"
      },
      "source": [
        "# Now map each label to its corresponding integer\n",
        "print(\"Old labels: \",str(labels_test_valid[:50]))\n",
        "labels_test_valid = [relations.index(l) if l in relations else 999 for l in labels_test_valid]\n",
        "print(\"New labels: \",str(labels_test_valid))"
      ],
      "execution_count": 63,
      "outputs": [
        {
          "output_type": "stream",
          "text": [
            "Old labels:  ['7,50' '1,50' 'O' '1,3' '1,50' '1,2' 'O' '1,3' '3,4' '3,14' '14,50' '1,3'\n",
            " '7,14' 'O' 'O' '3,5' '7,50' '6,50' '6,5' '6,50' '3,4' '4,14' 'O' '3,50'\n",
            " '7,50' '3,50' '13,14' '4,50' '4,5B' 'O' '1,50' '1,50' '6,7' '1,3' '7,50'\n",
            " '6,50' '6,7' '6,7' '7,50' 'O' '14,50' '3,4' '4,14' 'O' '4,5B' '7,50'\n",
            " '3,50' '14,50' '1,50' '1,2']\n",
            "New labels:  [59, 8, 999, 1, 8, 0, 999, 1, 17, 20, 56, 1, 999, 999, 999, 18, 59, 58, 999, 58, 17, 26, 999, 23, 59, 23, 50, 29, 25, 999, 8, 8, 57, 1, 59, 58, 57, 57, 59, 999, 56, 17, 26, 999, 25, 59, 23, 56, 8, 0, 23, 23, 17, 29, 8, 8, 1, 999, 999, 18, 57, 39, 17, 8, 1, 8, 23, 44, 39, 17, 999, 33, 999, 24, 999, 999, 59, 59, 24, 999, 23, 1, 999, 23, 8, 17, 26, 40, 50, 59, 23, 23, 23, 999, 8, 0, 8, 1, 38, 59, 999, 1, 40, 44, 59, 59, 24, 24, 999, 999, 9, 8, 23, 8, 23, 17, 17, 17, 8, 999, 8, 1, 53, 30, 999, 8, 23, 53, 59, 999, 59, 59, 999, 24, 50, 1, 17, 23, 1, 8, 59, 0, 999, 999, 17, 29, 25, 57, 17, 26, 0, 999, 999, 999, 24, 999, 999, 59, 59, 999, 999, 59, 29, 18, 40, 29, 999, 8, 17, 8, 24, 8, 26, 999, 8, 8, 0, 9, 17, 26, 57, 59, 59, 8, 999, 999, 29, 30, 38, 59, 18, 999, 1, 999, 999, 39, 18, 40, 999, 999, 999, 39, 45, 999, 29, 44, 1, 999, 999, 999, 39, 45, 999, 9, 1, 29, 50, 999, 18, 23, 59, 7, 0, 22, 22, 8, 999, 999, 57, 999, 18, 23, 23, 1, 53, 50, 24, 59, 59, 40, 999, 3, 50, 1, 1, 999, 30, 999, 23, 23, 999, 999, 8, 18, 17, 26, 41, 58, 999, 999, 999, 1, 23, 8, 999, 18, 8, 1, 23, 59, 59, 23, 999, 58, 57, 59, 999, 17, 17, 23, 39, 999, 59, 56, 59, 18, 1, 53, 40, 30, 999, 999, 18, 999, 23, 999, 999, 44, 40, 44, 59, 57, 999, 59, 18, 999, 59, 59, 40, 1, 23, 8, 0, 1, 23, 8, 999, 39, 40, 39, 50, 50, 59, 999, 39, 999, 8, 0, 1, 8, 8, 999, 8, 8, 0, 18, 30, 59, 8, 999, 59, 17, 26, 59, 8, 1, 8, 9, 17, 26, 41, 40, 999, 57, 59, 23, 34, 59, 999, 1, 999, 1, 999, 0, 23, 999, 57, 59, 59, 999, 58, 57, 58, 999, 999, 9, 8, 999, 999, 0, 23, 8, 59, 999, 999, 999, 57, 999, 999, 999, 39, 999, 1, 22, 57, 8, 999, 59, 23, 23, 24, 17, 17, 26, 8, 0, 18, 999, 39, 57, 57, 53, 39, 0, 25, 8, 8, 8, 17, 17, 23, 18, 59, 1, 21, 59, 1, 1, 23, 17, 21, 1, 29, 999, 999, 57, 56, 59, 0, 999, 59, 999, 999, 999, 59, 999, 8, 41, 999, 23, 17, 57, 57, 59, 39, 999, 999, 999, 53, 39, 50, 59, 999, 8, 999, 999, 999, 29, 44, 39, 50, 59, 999, 999, 8, 999, 999, 17, 39, 16, 999, 8, 50, 59, 999, 999, 18, 23, 1, 56, 29, 26, 41, 999, 23, 59, 23, 1, 17, 999, 999, 999, 39, 8, 23, 1, 999, 17, 1, 57, 59, 1, 999, 59, 57, 29, 44, 39, 50, 999, 59, 999, 999, 40, 39, 999, 59, 8, 0, 59, 57, 40, 29, 39, 39, 50, 999, 59, 999, 0, 44, 44, 59, 999, 999, 49, 50, 57, 59, 57, 999, 8, 999, 999, 8, 1, 1, 57, 37, 56, 1, 1, 999, 34, 8, 58, 59, 0, 24, 1, 57, 59, 40, 17, 8, 23, 999, 17, 8, 59, 999, 999, 999, 18, 999, 999, 17, 17, 41, 40, 39, 57, 59, 8, 1, 23, 8, 18, 999, 8, 999, 8, 8, 0, 23, 1, 59, 59, 24, 999, 999, 23, 17, 26, 40, 999, 999, 44, 40, 50, 44, 44, 999, 0, 999, 59, 8, 58, 999, 3, 999, 999, 8, 999, 999, 999, 24, 29, 999, 59, 999, 18, 999, 8, 999, 999, 59, 56, 59, 59, 999, 56, 999, 59, 999]\n"
          ],
          "name": "stdout"
        }
      ]
    },
    {
      "cell_type": "code",
      "metadata": {
        "id": "EPDGWq1WHCH6",
        "colab_type": "code",
        "colab": {}
      },
      "source": [
        "input_ids_test_valid = [tokenizer.convert_tokens_to_ids(x) for x in tokenized_texts_test_valid]\n",
        "input_ids_test_valid = pad_sequences(input_ids_test_valid, maxlen=MAX_LEN, dtype=\"long\", truncating=\"post\", padding=\"post\")"
      ],
      "execution_count": 64,
      "outputs": []
    },
    {
      "cell_type": "code",
      "metadata": {
        "id": "bwhFVpPrHCAX",
        "colab_type": "code",
        "colab": {}
      },
      "source": [
        "attention_masks_test_valid = []\n",
        "\n",
        "for seq in input_ids_test_valid:\n",
        "  seq_mask = [float(i>0) for i in seq]\n",
        "  attention_masks_test_valid.append(seq_mask)"
      ],
      "execution_count": 65,
      "outputs": []
    },
    {
      "cell_type": "code",
      "metadata": {
        "id": "umYINSxdI-yj",
        "colab_type": "code",
        "colab": {}
      },
      "source": [
        "prediction_inputs_valid = torch.tensor(input_ids_test_valid)\n",
        "prediction_masks_valid = torch.tensor(attention_masks_test_valid)\n",
        "prediction_labels_valid = torch.tensor(labels_test_valid)\n",
        "\n",
        "prediction_data_valid = TensorDataset(prediction_inputs_valid, prediction_masks_valid, prediction_labels_valid)\n",
        "prediction_sampler_valid = SequentialSampler(prediction_data_valid)\n",
        "prediction_dataloader_valid = DataLoader(prediction_data_valid, sampler=prediction_sampler_valid, batch_size=BATCH_SIZE)"
      ],
      "execution_count": 66,
      "outputs": []
    },
    {
      "cell_type": "code",
      "metadata": {
        "colab_type": "code",
        "id": "Chf5Q8Df7N1v",
        "colab": {}
      },
      "source": [
        "model.eval()\n",
        "\n",
        "predictions_test_valid, true_labels_test_valid = [], []\n",
        "\n",
        "# Predict \n",
        "for batch in prediction_dataloader_valid:\n",
        "  # Add batch to GPU\n",
        "  batch = tuple(t.to(device) for t in batch)\n",
        "  # Unpack the inputs from our dataloader\n",
        "  b_input_ids, b_input_mask, b_labels = batch\n",
        "  # Telling the model not to compute or store gradients, saving memory and speeding up prediction\n",
        "  with torch.no_grad():\n",
        "    # Forward pass, calculate logit predictions\n",
        "    logits = model(b_input_ids, token_type_ids=None, attention_mask=b_input_mask)\n",
        "\n",
        "  # Move logits and labels to CPU\n",
        "  logits_test = logits.detach().cpu().numpy()\n",
        "  label_ids_test = b_labels.to('cpu').numpy()\n",
        "  \n",
        "  # Store predictions and true labels\n",
        "  predictions_test_valid.append(logits_test)\n",
        "  true_labels_test_valid.append(label_ids_test)"
      ],
      "execution_count": 67,
      "outputs": []
    },
    {
      "cell_type": "code",
      "metadata": {
        "id": "w2v82SWToac6",
        "colab_type": "code",
        "colab": {
          "base_uri": "https://localhost:8080/",
          "height": 530
        },
        "outputId": "e3ae9471-23ea-4fca-88ca-59a8c4e7ef50"
      },
      "source": [
        "flat_predictions_test_valid = [item for sublist in predictions_test_valid for item in sublist]\n",
        "flat_predictions_test_valid = np.argmax(flat_predictions_test_valid, axis=1).flatten()\n",
        "flat_true_labels_test_valid = [item for sublist in true_labels_test_valid for item in sublist]\n",
        "\n",
        "y_pred_valid = flat_predictions_test_valid\n",
        "y_valid = flat_true_labels_test_valid\n",
        "\n",
        "print(y_pred_valid)\n",
        "print(y_valid)"
      ],
      "execution_count": 68,
      "outputs": [
        {
          "output_type": "stream",
          "text": [
            "[59  8  1  1 59  0  1  1 17  1 59  1 59  8 29 18 59 58 18 57 17 26 56 23\n",
            " 59  1 50 17 18  1  8 23 57  1 29 58 57 57 59  0 56 17 26 58 24 59 23 23\n",
            "  8  0  8  8 17 23  8  8 17 17 50 18 57 45 17  8  1  8 23 44 45 17 24 59\n",
            " 56 24 24 56 59 59 24 59 23  1 57  8 59 17 26 40 50 59 23 23 23 53  8  0\n",
            " 59  1 59 59  8  1 40 44 59 59 24 24 30 59  9  8 23  8 23  1 26 17 44 40\n",
            " 23 23 23 59 59 23 23 53 59 56 59 59 23 24 50  1 17 23  1  1 59  1  8  1\n",
            " 17 17 29 59 17 26  0 26 57  1 24 26 40 59 59 57 59 59 29 18 40 29 17  9\n",
            " 17  8 24 17 29 56 57  8  0  9 17 26 57 59 59  8  8 18 29 59 59 57 18  8\n",
            "  1 18 50 39 18 40 23 18 50 39 50  8 29 44  1 40 59 40 39 50 40  9  8 29\n",
            " 50 17 18 23 59 59  0  9 17  8 23 57 57 56 18 23 23  1 53 50 24 59 59 45\n",
            " 24 30 50 18 17 18 30 59  8 23  8 24  8 18 17 26 26 58 57 59  8  1 23  8\n",
            "  0 34  8  1 23 59 59 23 17 58 57 59  0 17 23 23 39 18 59 56 59 18  1 40\n",
            " 40 30 53  1 18  1 23  8 59 44 40 44 59 57  8 59 18 59 59 59 40  1 23  8\n",
            "  0 23 23  8 58 39 40 45 50 50 59 23 45 57 59  0  1  8  8  8  8  8  0 18\n",
            " 30 59  8  8 59 17 26 59  8  1  8  9 17 26 26 40 50 57 59 23 34 59 56  1\n",
            " 18  1  1  0 23 23 57 59 59 59 58 57 58  8  1  0  8 23 29  0 23  8 59  8\n",
            " 57 23 57 58 26 40 45 23  1 17 57  8  0 59  9 59 24 18 17 26  8  0 18 40\n",
            " 45 57 57 53 45  0 17  8  8  1 17 17  1 18 59  1 57 59  1 23 23 17 57 23\n",
            " 29 57 58 57 56 59  0 59 59 18 40 59 59 29 23 45  8 23 17 58 59 59 45 59\n",
            "  8 23 53 45 50 59 59  8  0 17 17 29 44 45 50 59 59 59  8  0  1 17 39 23\n",
            " 56  8 50 59 59 59 18 23  1 56 29 26 26 23  8 59 23  1 17 17 40 40 45 23\n",
            " 23  1 17 17  1 57 59 23 24 59 57 29 44 45 50 59 59  8 59 40 45 50 59  8\n",
            "  0 59 57 40 29 40 45 50 57 59 23  0 44 23 57 23 18 45 50 57 59 57 59  8\n",
            " 59 18  8  0  0 57 59 56  1  1 18 34  8 56 59  0 24  1 57 59 50 17  8  8\n",
            " 18 17 23 59  8 56 58 18  8 26 17 17 26 40 45 57 59  8  1 23  8  1  0  8\n",
            " 23 23  8  0 23  1 59 59 24 24 56  8 17 26 50 44 59 44 40 50 44 44  1  0\n",
            " 57 59  8 58  1  1  8 59  8  1 17 26 24 29 57 59 59 18  1  8  1  8 59 56\n",
            " 59 59 23 56 56 59 17]\n",
            "[59, 8, 999, 1, 8, 0, 999, 1, 17, 20, 56, 1, 999, 999, 999, 18, 59, 58, 999, 58, 17, 26, 999, 23, 59, 23, 50, 29, 25, 999, 8, 8, 57, 1, 59, 58, 57, 57, 59, 999, 56, 17, 26, 999, 25, 59, 23, 56, 8, 0, 23, 23, 17, 29, 8, 8, 1, 999, 999, 18, 57, 39, 17, 8, 1, 8, 23, 44, 39, 17, 999, 33, 999, 24, 999, 999, 59, 59, 24, 999, 23, 1, 999, 23, 8, 17, 26, 40, 50, 59, 23, 23, 23, 999, 8, 0, 8, 1, 38, 59, 999, 1, 40, 44, 59, 59, 24, 24, 999, 999, 9, 8, 23, 8, 23, 17, 17, 17, 8, 999, 8, 1, 53, 30, 999, 8, 23, 53, 59, 999, 59, 59, 999, 24, 50, 1, 17, 23, 1, 8, 59, 0, 999, 999, 17, 29, 25, 57, 17, 26, 0, 999, 999, 999, 24, 999, 999, 59, 59, 999, 999, 59, 29, 18, 40, 29, 999, 8, 17, 8, 24, 8, 26, 999, 8, 8, 0, 9, 17, 26, 57, 59, 59, 8, 999, 999, 29, 30, 38, 59, 18, 999, 1, 999, 999, 39, 18, 40, 999, 999, 999, 39, 45, 999, 29, 44, 1, 999, 999, 999, 39, 45, 999, 9, 1, 29, 50, 999, 18, 23, 59, 7, 0, 22, 22, 8, 999, 999, 57, 999, 18, 23, 23, 1, 53, 50, 24, 59, 59, 40, 999, 3, 50, 1, 1, 999, 30, 999, 23, 23, 999, 999, 8, 18, 17, 26, 41, 58, 999, 999, 999, 1, 23, 8, 999, 18, 8, 1, 23, 59, 59, 23, 999, 58, 57, 59, 999, 17, 17, 23, 39, 999, 59, 56, 59, 18, 1, 53, 40, 30, 999, 999, 18, 999, 23, 999, 999, 44, 40, 44, 59, 57, 999, 59, 18, 999, 59, 59, 40, 1, 23, 8, 0, 1, 23, 8, 999, 39, 40, 39, 50, 50, 59, 999, 39, 999, 8, 0, 1, 8, 8, 999, 8, 8, 0, 18, 30, 59, 8, 999, 59, 17, 26, 59, 8, 1, 8, 9, 17, 26, 41, 40, 999, 57, 59, 23, 34, 59, 999, 1, 999, 1, 999, 0, 23, 999, 57, 59, 59, 999, 58, 57, 58, 999, 999, 9, 8, 999, 999, 0, 23, 8, 59, 999, 999, 999, 57, 999, 999, 999, 39, 999, 1, 22, 57, 8, 999, 59, 23, 23, 24, 17, 17, 26, 8, 0, 18, 999, 39, 57, 57, 53, 39, 0, 25, 8, 8, 8, 17, 17, 23, 18, 59, 1, 21, 59, 1, 1, 23, 17, 21, 1, 29, 999, 999, 57, 56, 59, 0, 999, 59, 999, 999, 999, 59, 999, 8, 41, 999, 23, 17, 57, 57, 59, 39, 999, 999, 999, 53, 39, 50, 59, 999, 8, 999, 999, 999, 29, 44, 39, 50, 59, 999, 999, 8, 999, 999, 17, 39, 16, 999, 8, 50, 59, 999, 999, 18, 23, 1, 56, 29, 26, 41, 999, 23, 59, 23, 1, 17, 999, 999, 999, 39, 8, 23, 1, 999, 17, 1, 57, 59, 1, 999, 59, 57, 29, 44, 39, 50, 999, 59, 999, 999, 40, 39, 999, 59, 8, 0, 59, 57, 40, 29, 39, 39, 50, 999, 59, 999, 0, 44, 44, 59, 999, 999, 49, 50, 57, 59, 57, 999, 8, 999, 999, 8, 1, 1, 57, 37, 56, 1, 1, 999, 34, 8, 58, 59, 0, 24, 1, 57, 59, 40, 17, 8, 23, 999, 17, 8, 59, 999, 999, 999, 18, 999, 999, 17, 17, 41, 40, 39, 57, 59, 8, 1, 23, 8, 18, 999, 8, 999, 8, 8, 0, 23, 1, 59, 59, 24, 999, 999, 23, 17, 26, 40, 999, 999, 44, 40, 50, 44, 44, 999, 0, 999, 59, 8, 58, 999, 3, 999, 999, 8, 999, 999, 999, 24, 29, 999, 59, 999, 18, 999, 8, 999, 999, 59, 56, 59, 59, 999, 56, 999, 59, 999]\n"
          ],
          "name": "stdout"
        }
      ]
    },
    {
      "cell_type": "markdown",
      "metadata": {
        "id": "bcojJiATJmo1",
        "colab_type": "text"
      },
      "source": [
        "Extract stats."
      ]
    },
    {
      "cell_type": "code",
      "metadata": {
        "id": "s7w_wefFJls4",
        "colab_type": "code",
        "colab": {
          "base_uri": "https://localhost:8080/",
          "height": 785
        },
        "outputId": "ac6d1380-6aee-4dd5-8fec-0c810c5fce14"
      },
      "source": [
        "from sklearn.metrics import classification_report\n",
        "print(classification_report(y_valid, y_pred_valid))"
      ],
      "execution_count": 69,
      "outputs": [
        {
          "output_type": "stream",
          "text": [
            "              precision    recall  f1-score   support\n",
            "\n",
            "           0       0.66      0.95      0.78        20\n",
            "           1       0.58      0.75      0.65        44\n",
            "           3       0.00      0.00      0.00         2\n",
            "           7       0.00      0.00      0.00         1\n",
            "           8       0.62      0.73      0.67        64\n",
            "           9       0.57      0.80      0.67         5\n",
            "          16       0.00      0.00      0.00         1\n",
            "          17       0.62      0.88      0.73        34\n",
            "          18       0.53      0.89      0.67        19\n",
            "          20       0.00      0.00      0.00         1\n",
            "          21       0.00      0.00      0.00         2\n",
            "          22       0.00      0.00      0.00         3\n",
            "          23       0.50      0.74      0.60        43\n",
            "          24       0.63      1.00      0.77        12\n",
            "          25       0.00      0.00      0.00         4\n",
            "          26       0.52      0.92      0.67        12\n",
            "          29       0.65      0.79      0.71        14\n",
            "          30       0.60      0.60      0.60         5\n",
            "          33       0.00      0.00      0.00         1\n",
            "          34       0.67      1.00      0.80         2\n",
            "          37       0.00      0.00      0.00         1\n",
            "          38       0.00      0.00      0.00         2\n",
            "          39       1.00      0.27      0.43        22\n",
            "          40       0.52      0.81      0.63        16\n",
            "          41       0.00      0.00      0.00         5\n",
            "          44       0.85      0.92      0.88        12\n",
            "          45       0.00      0.00      0.00         2\n",
            "          49       0.00      0.00      0.00         1\n",
            "          50       0.62      1.00      0.77        15\n",
            "          53       0.67      0.67      0.67         6\n",
            "          56       0.37      0.78      0.50         9\n",
            "          57       0.59      0.89      0.71        27\n",
            "          58       0.54      0.78      0.64         9\n",
            "          59       0.63      0.96      0.76        74\n",
            "         999       0.00      0.00      0.00       165\n",
            "\n",
            "    accuracy                           0.58       655\n",
            "   macro avg       0.37      0.49      0.41       655\n",
            "weighted avg       0.44      0.58      0.48       655\n",
            "\n"
          ],
          "name": "stdout"
        },
        {
          "output_type": "stream",
          "text": [
            "/usr/local/lib/python3.6/dist-packages/sklearn/metrics/_classification.py:1272: UndefinedMetricWarning: Precision and F-score are ill-defined and being set to 0.0 in labels with no predicted samples. Use `zero_division` parameter to control this behavior.\n",
            "  _warn_prf(average, modifier, msg_start, len(result))\n"
          ],
          "name": "stderr"
        }
      ]
    },
    {
      "cell_type": "markdown",
      "metadata": {
        "id": "dmWfDCVnLR35",
        "colab_type": "text"
      },
      "source": [
        "Extract accuracy of valid relations."
      ]
    },
    {
      "cell_type": "code",
      "metadata": {
        "id": "TxdJyixCn5uC",
        "colab_type": "code",
        "colab": {
          "base_uri": "https://localhost:8080/",
          "height": 85
        },
        "outputId": "18b17b9f-56dc-4716-d06a-8e7ca9530cb7"
      },
      "source": [
        "p = 0\n",
        "n = 0\n",
        "for i in range(len(y_pred_valid)):\n",
        "  if y_pred_valid[i] == y_valid[i]:\n",
        "    p += 1\n",
        "  else:\n",
        "    n += 1\n",
        "\n",
        "print(\"Valid guessed correctly:\",p)\n",
        "print(\"Valid guessed incorrectly:\",n)\n",
        "print(\"Total valid:\", p + n)\n",
        "print(\"Valid accuracy:\", p/(p+n))"
      ],
      "execution_count": 70,
      "outputs": [
        {
          "output_type": "stream",
          "text": [
            "Valid guessed correctly: 379\n",
            "Valid guessed incorrectly: 276\n",
            "Total valid: 655\n",
            "Valid accuracy: 0.5786259541984733\n"
          ],
          "name": "stdout"
        }
      ]
    },
    {
      "cell_type": "markdown",
      "metadata": {
        "id": "X7nFrfwiMQNO",
        "colab_type": "text"
      },
      "source": [
        "Let's recap with the negative and valid classes."
      ]
    },
    {
      "cell_type": "code",
      "metadata": {
        "id": "BdGH0tUFn5qq",
        "colab_type": "code",
        "colab": {
          "base_uri": "https://localhost:8080/",
          "height": 85
        },
        "outputId": "f0af9548-7790-4aa8-848b-69942342b119"
      },
      "source": [
        "print(\"Negatives predicted correctly:\", neg_correct)\n",
        "print(\"Negatives predicted incorrectly:\", neg_incorrect)\n",
        "print(\"Total predicted negative:\",num_neg_predict)\n",
        "print(\"Negative accuracy:\", neg_correct/num_neg_predict)"
      ],
      "execution_count": 71,
      "outputs": [
        {
          "output_type": "stream",
          "text": [
            "Negatives predicted correctly: 1320\n",
            "Negatives predicted incorrectly: 104\n",
            "Total predicted negative: 1424\n",
            "Negative accuracy: 0.9269662921348315\n"
          ],
          "name": "stdout"
        }
      ]
    },
    {
      "cell_type": "code",
      "metadata": {
        "id": "E5dv2aeYn5nD",
        "colab_type": "code",
        "colab": {
          "base_uri": "https://localhost:8080/",
          "height": 34
        },
        "outputId": "31589309-bcf3-4e20-f559-cfd4ae18323f"
      },
      "source": [
        "# Total accuracy with valid and no relation\n",
        "\n",
        "print((neg_correct+p)/(num_neg_predict+p+n))"
      ],
      "execution_count": 72,
      "outputs": [
        {
          "output_type": "stream",
          "text": [
            "0.8172198172198172\n"
          ],
          "name": "stdout"
        }
      ]
    },
    {
      "cell_type": "markdown",
      "metadata": {
        "id": "iWkdFQarYEiU",
        "colab_type": "text"
      },
      "source": [
        "Now for the invalid relations."
      ]
    },
    {
      "cell_type": "code",
      "metadata": {
        "colab_type": "code",
        "id": "o8vKvVyDRC-k",
        "colab": {
          "base_uri": "https://localhost:8080/",
          "height": 204
        },
        "outputId": "f481af72-8453-45ab-c57f-57abfc10ac07"
      },
      "source": [
        "# First must edit relations \n",
        "\n",
        "df_invalid = df.copy(deep=True)\n",
        "\n",
        "# Going to edit iteratively (lazily)...will fix later.\n",
        "\n",
        "for i, row in df_invalid.iterrows():\n",
        "  r = row.relation\n",
        "\n",
        "  if r == 'O': continue\n",
        "  r_split = r.split(\"-\")\n",
        "  r = r_split[1] + \",\" + r_split[2]\n",
        "  df_invalid.at[i, \"relation\"] = r\n",
        "  \n",
        "df_invalid.head()"
      ],
      "execution_count": 73,
      "outputs": [
        {
          "output_type": "execute_result",
          "data": {
            "text/html": [
              "<div>\n",
              "<style scoped>\n",
              "    .dataframe tbody tr th:only-of-type {\n",
              "        vertical-align: middle;\n",
              "    }\n",
              "\n",
              "    .dataframe tbody tr th {\n",
              "        vertical-align: top;\n",
              "    }\n",
              "\n",
              "    .dataframe thead th {\n",
              "        text-align: right;\n",
              "    }\n",
              "</style>\n",
              "<table border=\"1\" class=\"dataframe\">\n",
              "  <thead>\n",
              "    <tr style=\"text-align: right;\">\n",
              "      <th></th>\n",
              "      <th>essay</th>\n",
              "      <th>relation</th>\n",
              "      <th>s_num</th>\n",
              "      <th>sentence</th>\n",
              "    </tr>\n",
              "  </thead>\n",
              "  <tbody>\n",
              "    <tr>\n",
              "      <th>0</th>\n",
              "      <td>EBA1415_KNKC_1_CB_ES-05410</td>\n",
              "      <td>O</td>\n",
              "      <td>1.0</td>\n",
              "      <td>Coral and zooxanthellae depend an each other i...</td>\n",
              "    </tr>\n",
              "    <tr>\n",
              "      <th>1</th>\n",
              "      <td>EBA1415_KNKC_1_CB_ES-05410</td>\n",
              "      <td>7,50</td>\n",
              "      <td>2.0</td>\n",
              "      <td>If the coral dies, or gets bleached, then the ...</td>\n",
              "    </tr>\n",
              "    <tr>\n",
              "      <th>2</th>\n",
              "      <td>EBA1415_KNKC_1_CB_ES-05410</td>\n",
              "      <td>O</td>\n",
              "      <td>3.0</td>\n",
              "      <td>Or the other way around.</td>\n",
              "    </tr>\n",
              "    <tr>\n",
              "      <th>3</th>\n",
              "      <td>EBA1415_KNKC_1_CB_ES-05410</td>\n",
              "      <td>O</td>\n",
              "      <td>4.0</td>\n",
              "      <td>In the text Shifting Trade Winds, it talks abo...</td>\n",
              "    </tr>\n",
              "    <tr>\n",
              "      <th>4</th>\n",
              "      <td>EBA1415_KNKC_1_CB_ES-05410</td>\n",
              "      <td>3,1</td>\n",
              "      <td>5.0</td>\n",
              "      <td>And another source states how when the water t...</td>\n",
              "    </tr>\n",
              "  </tbody>\n",
              "</table>\n",
              "</div>"
            ],
            "text/plain": [
              "                        essay  ...                                           sentence\n",
              "0  EBA1415_KNKC_1_CB_ES-05410  ...  Coral and zooxanthellae depend an each other i...\n",
              "1  EBA1415_KNKC_1_CB_ES-05410  ...  If the coral dies, or gets bleached, then the ...\n",
              "2  EBA1415_KNKC_1_CB_ES-05410  ...                           Or the other way around.\n",
              "3  EBA1415_KNKC_1_CB_ES-05410  ...  In the text Shifting Trade Winds, it talks abo...\n",
              "4  EBA1415_KNKC_1_CB_ES-05410  ...  And another source states how when the water t...\n",
              "\n",
              "[5 rows x 4 columns]"
            ]
          },
          "metadata": {
            "tags": []
          },
          "execution_count": 73
        }
      ]
    },
    {
      "cell_type": "code",
      "metadata": {
        "colab_type": "code",
        "id": "64sqxyv2RC-z",
        "colab": {
          "base_uri": "https://localhost:8080/",
          "height": 204
        },
        "outputId": "fa311fe8-4fe0-4a3a-e918-fe4792230e3e"
      },
      "source": [
        "# Now isolate the invalid ones\n",
        "\n",
        "df_invalid = df_invalid[~df_invalid['relation'].isin(relations)]\n",
        "df_invalid = df_invalid[df_invalid['relation'] != \"O\"]\n",
        "df_invalid.head()"
      ],
      "execution_count": 74,
      "outputs": [
        {
          "output_type": "execute_result",
          "data": {
            "text/html": [
              "<div>\n",
              "<style scoped>\n",
              "    .dataframe tbody tr th:only-of-type {\n",
              "        vertical-align: middle;\n",
              "    }\n",
              "\n",
              "    .dataframe tbody tr th {\n",
              "        vertical-align: top;\n",
              "    }\n",
              "\n",
              "    .dataframe thead th {\n",
              "        text-align: right;\n",
              "    }\n",
              "</style>\n",
              "<table border=\"1\" class=\"dataframe\">\n",
              "  <thead>\n",
              "    <tr style=\"text-align: right;\">\n",
              "      <th></th>\n",
              "      <th>essay</th>\n",
              "      <th>relation</th>\n",
              "      <th>s_num</th>\n",
              "      <th>sentence</th>\n",
              "    </tr>\n",
              "  </thead>\n",
              "  <tbody>\n",
              "    <tr>\n",
              "      <th>4</th>\n",
              "      <td>EBA1415_KNKC_1_CB_ES-05410</td>\n",
              "      <td>3,1</td>\n",
              "      <td>5.0</td>\n",
              "      <td>And another source states how when the water t...</td>\n",
              "    </tr>\n",
              "    <tr>\n",
              "      <th>9</th>\n",
              "      <td>EBA1415_KNKC_1_CB_ES-05410</td>\n",
              "      <td>50,7</td>\n",
              "      <td>9.2</td>\n",
              "      <td>Which can affect the coral because if the zoox...</td>\n",
              "    </tr>\n",
              "    <tr>\n",
              "      <th>20</th>\n",
              "      <td>EBA1415post_WSKT_1_CB_ES-05486</td>\n",
              "      <td>3,1</td>\n",
              "      <td>20.0</td>\n",
              "      <td>According to the graph \"Trade Winds + coral Bl...</td>\n",
              "    </tr>\n",
              "    <tr>\n",
              "      <th>178</th>\n",
              "      <td>EBA1415_TRJA_11_CB_ES-06102</td>\n",
              "      <td>3,1</td>\n",
              "      <td>163.0</td>\n",
              "      <td>When the water is at a cold degrees like in th...</td>\n",
              "    </tr>\n",
              "    <tr>\n",
              "      <th>179</th>\n",
              "      <td>EBA1415_TRJA_11_CB_ES-06102</td>\n",
              "      <td>3,2</td>\n",
              "      <td>164.0</td>\n",
              "      <td>If the water is at a near cold degrees like in...</td>\n",
              "    </tr>\n",
              "  </tbody>\n",
              "</table>\n",
              "</div>"
            ],
            "text/plain": [
              "                              essay  ...                                           sentence\n",
              "4        EBA1415_KNKC_1_CB_ES-05410  ...  And another source states how when the water t...\n",
              "9        EBA1415_KNKC_1_CB_ES-05410  ...  Which can affect the coral because if the zoox...\n",
              "20   EBA1415post_WSKT_1_CB_ES-05486  ...  According to the graph \"Trade Winds + coral Bl...\n",
              "178     EBA1415_TRJA_11_CB_ES-06102  ...  When the water is at a cold degrees like in th...\n",
              "179     EBA1415_TRJA_11_CB_ES-06102  ...  If the water is at a near cold degrees like in...\n",
              "\n",
              "[5 rows x 4 columns]"
            ]
          },
          "metadata": {
            "tags": []
          },
          "execution_count": 74
        }
      ]
    },
    {
      "cell_type": "code",
      "metadata": {
        "colab_type": "code",
        "id": "yL8Ju3KNRC_I",
        "colab": {}
      },
      "source": [
        "# Create sentence and label lists\n",
        "sentences_invalid = df_invalid.sentence.values\n",
        "\n",
        "# Add special tokens at the beginning and end of each sentence to comply with BERT\n",
        "sentences_invalid = [\"[CLS] \" + sentence + \" [SEP]\" for sentence in sentences_invalid]\n",
        "labels_invalid = df_invalid.relation.values"
      ],
      "execution_count": 75,
      "outputs": []
    },
    {
      "cell_type": "code",
      "metadata": {
        "colab_type": "code",
        "id": "OflJ31ulRC_N",
        "colab": {
          "base_uri": "https://localhost:8080/",
          "height": 54
        },
        "outputId": "e6fcc726-553b-429d-bf80-987d40d012a6"
      },
      "source": [
        "# Now that our [CLS] and [SEP] tokens are in place, we are ready for tokenization\n",
        "tokenizer = BertTokenizer.from_pretrained('bert-base-uncased', do_lower_case=True)\n",
        "tokenized_texts_invalid = [tokenizer.tokenize(sent) for sent in sentences_invalid]\n",
        "print (\"First sentence tokenized: \",tokenized_texts_invalid[0])"
      ],
      "execution_count": 76,
      "outputs": [
        {
          "output_type": "stream",
          "text": [
            "First sentence tokenized:  ['[CLS]', 'and', 'another', 'source', 'states', 'how', 'when', 'the', 'water', 'temperature', 'rises', ',', 'the', 'trade', 'winds', 'weaken', '.', '[SEP]']\n"
          ],
          "name": "stdout"
        }
      ]
    },
    {
      "cell_type": "code",
      "metadata": {
        "colab_type": "code",
        "id": "hgpF-ySiRC_S",
        "colab": {
          "base_uri": "https://localhost:8080/",
          "height": 34
        },
        "outputId": "beb5a2e1-c260-48d7-f3d3-a7db6e30f005"
      },
      "source": [
        "# We need to strip out the sentences greater than MAX_LEN tokens\n",
        "original_length = len(tokenized_texts_invalid)\n",
        "\n",
        "labels_invalid = [labels_invalid[i] for i in range(len(tokenized_texts_invalid)) if len(tokenized_texts_invalid[i]) <= MAX_LEN]\n",
        "tokenized_texts_invalid = [tokenized_texts_invalid[i] for i in range(len(tokenized_texts_invalid)) if len(tokenized_texts_invalid[i]) <= MAX_LEN]\n",
        "print(\"Removed {0} sentences greater than {1}\".format(original_length - len(tokenized_texts_invalid),MAX_LEN))"
      ],
      "execution_count": 77,
      "outputs": [
        {
          "output_type": "stream",
          "text": [
            "Removed 3 sentences greater than 128\n"
          ],
          "name": "stdout"
        }
      ]
    },
    {
      "cell_type": "code",
      "metadata": {
        "colab_type": "code",
        "id": "6tLl1rC_RC_V",
        "colab": {}
      },
      "source": [
        "# Use the BERT tokenizer to convert the tokens to their index numbers in the BERT vocabulary\n",
        "input_ids_invalid = [tokenizer.convert_tokens_to_ids(x) for x in tokenized_texts_invalid]"
      ],
      "execution_count": 78,
      "outputs": []
    },
    {
      "cell_type": "code",
      "metadata": {
        "colab_type": "code",
        "id": "3nBGtD8yRC_Y",
        "colab": {}
      },
      "source": [
        "# Pad our input tokens\n",
        "input_ids_invalid = pad_sequences(input_ids_invalid, maxlen=MAX_LEN, dtype=\"long\", truncating=\"post\", padding=\"post\")"
      ],
      "execution_count": 79,
      "outputs": []
    },
    {
      "cell_type": "code",
      "metadata": {
        "colab_type": "code",
        "id": "zndPbz0iRC_a",
        "colab": {}
      },
      "source": [
        "# Create attention masks\n",
        "attention_masks_invalid = []\n",
        "\n",
        "# Create a mask of 1s for each token followed by 0s for padding\n",
        "for seq in input_ids_invalid:\n",
        "  seq_mask = [float(i>0) for i in seq]\n",
        "  attention_masks_invalid.append(seq_mask)"
      ],
      "execution_count": 80,
      "outputs": []
    },
    {
      "cell_type": "code",
      "metadata": {
        "colab_type": "code",
        "id": "CBFq2V40RC_e",
        "colab": {
          "base_uri": "https://localhost:8080/",
          "height": 71
        },
        "outputId": "03a48c8a-275d-4fb7-f0b9-a666c2f58f95"
      },
      "source": [
        "# At this point we must convert our labels from strings to ints (required for tensorization)\n",
        "\n",
        "# First we are going to create an array of all possible labels\n",
        "label_types_invalid = {}\n",
        "for i in range(len(labels_invalid)):\n",
        "  if labels_invalid[i] not in label_types_invalid:\n",
        "    label_types_invalid.update({labels_invalid[i] : len(label_types_invalid)})\n",
        "print(\"Total labels_types: {0}\\nLabels: {1}\".format(len(label_types_invalid),str(label_types_invalid)))"
      ],
      "execution_count": 81,
      "outputs": [
        {
          "output_type": "stream",
          "text": [
            "Total labels_types: 38\n",
            "Labels: {'3,1': 0, '50,7': 1, '3,2': 2, '6,14': 3, '4,3': 4, '11,3': 5, '50,50': 6, '7,13': 7, '7,1': 8, '4,13': 9, '7,14': 10, '50,1': 11, '14,11': 12, '7,5B': 13, '50,3': 14, '11,11': 15, '12,11': 16, '13,11': 17, '12,5B': 18, '5,4': 19, 'OTHER,13': 20, '11,OTHER': 21, '3,13': 22, '13,12': 23, '1,11': 24, '7,5': 25, '1,13': 26, '5,13': 27, '5B,5': 28, '11,1': 29, '5,3': 30, '4,11': 31, '11,4': 32, '2,1': 33, '6,5B': 34, '13,4': 35, '7,6': 36, '13,5': 37}\n"
          ],
          "name": "stdout"
        }
      ]
    },
    {
      "cell_type": "code",
      "metadata": {
        "id": "LWhCxlXWWuha",
        "colab_type": "code",
        "colab": {
          "base_uri": "https://localhost:8080/",
          "height": 71
        },
        "outputId": "0dc686cd-6cc6-4769-fc5c-ca4714a905b8"
      },
      "source": [
        "# Now map each label to its corresponding integer\n",
        "print(\"Old labels: \",str(labels_invalid))\n",
        "labels_invalid = [label_types_invalid.get(l) for l in labels_invalid]\n",
        "print(\"New labels: \",str(labels_invalid))"
      ],
      "execution_count": 82,
      "outputs": [
        {
          "output_type": "stream",
          "text": [
            "Old labels:  ['3,1', '50,7', '3,1', '3,1', '3,2', '6,14', '3,1', '6,14', '4,3', '4,3', '6,14', '6,14', '11,3', '50,50', '3,1', '7,13', '7,1', '3,1', '4,13', '4,13', '7,14', '7,14', '7,14', '6,14', '6,14', '50,50', '50,1', '3,1', '6,14', '50,50', '50,7', '14,11', '14,11', '6,14', '6,14', '7,5B', '7,5B', '6,14', '50,3', '4,3', '11,11', '12,11', '13,11', '6,14', '3,1', '3,1', '12,5B', '5,4', '13,11', '13,11', 'OTHER,13', '11,OTHER', '11,OTHER', 'OTHER,13', '7,5B', '6,14', '50,3', '50,3', '3,13', '13,12', '1,11', '7,14', '7,5', '6,14', '6,14', '11,3', '6,14', '7,5B', '1,13', '5,13', '6,14', '6,14', '6,14', '6,14', '4,3', '3,1', '5B,5', '6,14', '5B,5', '6,14', '6,14', '6,14', '3,1', '6,14', '3,1', '3,1', '7,5B', '50,7', '50,7', '50,1', '4,13', '6,14', '11,1', '11,1', '11,3', '6,14', '6,14', '3,13', '3,13', '6,14', '3,13', '6,14', '6,14', '6,14', '6,14', '6,14', '5,3', '6,14', '6,14', '6,14', '7,5B', '50,1', '5B,5', '6,14', '11,3', '13,12', '6,14', '6,14', '4,11', '11,4', '2,1', '6,5B', '13,4', '6,14', '11,4', '1,13', '5B,5', '50,50', '11,3', '7,6', '7,6', '6,14', '50,3', '13,5', '50,7', '6,14', '6,14', '3,1', '13,12', '50,7', '6,14']\n",
            "New labels:  [0, 1, 0, 0, 2, 3, 0, 3, 4, 4, 3, 3, 5, 6, 0, 7, 8, 0, 9, 9, 10, 10, 10, 3, 3, 6, 11, 0, 3, 6, 1, 12, 12, 3, 3, 13, 13, 3, 14, 4, 15, 16, 17, 3, 0, 0, 18, 19, 17, 17, 20, 21, 21, 20, 13, 3, 14, 14, 22, 23, 24, 10, 25, 3, 3, 5, 3, 13, 26, 27, 3, 3, 3, 3, 4, 0, 28, 3, 28, 3, 3, 3, 0, 3, 0, 0, 13, 1, 1, 11, 9, 3, 29, 29, 5, 3, 3, 22, 22, 3, 22, 3, 3, 3, 3, 3, 30, 3, 3, 3, 13, 11, 28, 3, 5, 23, 3, 3, 31, 32, 33, 34, 35, 3, 32, 26, 28, 6, 5, 36, 36, 3, 14, 37, 1, 3, 3, 0, 23, 1, 3]\n"
          ],
          "name": "stdout"
        }
      ]
    },
    {
      "cell_type": "code",
      "metadata": {
        "colab_type": "code",
        "id": "U7kgpR8rRC_j",
        "colab": {}
      },
      "source": [
        "# Use train_test_split to split our data into train and validation sets for training\n",
        "\n",
        "train_inputs_invalid, validation_inputs_invalid, train_labels_invalid, validation_labels_invalid = train_test_split(input_ids_invalid, labels_invalid, \n",
        "                                                            random_state=2018, test_size=0.1)\n",
        "train_masks_invalid, validation_masks_invalid, _, _ = train_test_split(attention_masks_invalid, input_ids_invalid,\n",
        "                                             random_state=2018, test_size=0.1)"
      ],
      "execution_count": 83,
      "outputs": []
    },
    {
      "cell_type": "code",
      "metadata": {
        "colab_type": "code",
        "id": "TszmJVoTRC_p",
        "colab": {}
      },
      "source": [
        "# Convert all of our data into torch tensors, the required datatype for our model\n",
        "\n",
        "train_inputs_invalid = torch.tensor(train_inputs_invalid)\n",
        "validation_inputs_invalid = torch.tensor(validation_inputs_invalid)\n",
        "train_labels_invalid = torch.tensor(train_labels_invalid)\n",
        "validation_labels_invalid = torch.tensor(validation_labels_invalid)\n",
        "train_masks_invalid = torch.tensor(train_masks_invalid)\n",
        "validation_masks_invalid = torch.tensor(validation_masks_invalid)"
      ],
      "execution_count": 84,
      "outputs": []
    },
    {
      "cell_type": "code",
      "metadata": {
        "colab_type": "code",
        "id": "y-UtwV5ARC_u",
        "colab": {}
      },
      "source": [
        "# Create an iterator of our data with torch DataLoader. This helps save on memory during training because, unlike a for loop, \n",
        "# with an iterator the entire dataset does not need to be loaded into memory\n",
        "\n",
        "train_data_invalid = TensorDataset(train_inputs_invalid, train_masks_invalid, train_labels_invalid)\n",
        "train_sampler_invalid = RandomSampler(train_data_invalid)\n",
        "train_dataloader_invalid = DataLoader(train_data_invalid, sampler=train_sampler_invalid, batch_size=BATCH_SIZE)\n",
        "\n",
        "validation_data_invalid = TensorDataset(validation_inputs_invalid, validation_masks_invalid, validation_labels_invalid)\n",
        "validation_sampler_invalid = SequentialSampler(validation_data_invalid)\n",
        "validation_dataloader_invalid = DataLoader(validation_data_invalid, sampler=validation_sampler_invalid, batch_size=BATCH_SIZE)"
      ],
      "execution_count": 85,
      "outputs": []
    },
    {
      "cell_type": "code",
      "metadata": {
        "colab_type": "code",
        "id": "nisqoQZ-RC_x",
        "colab": {
          "base_uri": "https://localhost:8080/",
          "height": 1000
        },
        "outputId": "31750b1a-ce70-451a-da81-dbb53c1b82b9"
      },
      "source": [
        "# This is where the fine-tuning comes in. We must train the model for our specific task.\n",
        "\n",
        "# We will first modify pre-trained BERT for our specific task, then continue training on our data until the entire model\n",
        "#   is well-suited for our task.\n",
        "\n",
        "model = BertForSequenceClassification.from_pretrained(\"bert-base-uncased\", num_labels=len(labels_invalid))\n",
        "model.cuda()"
      ],
      "execution_count": 86,
      "outputs": [
        {
          "output_type": "execute_result",
          "data": {
            "text/plain": [
              "BertForSequenceClassification(\n",
              "  (bert): BertModel(\n",
              "    (embeddings): BertEmbeddings(\n",
              "      (word_embeddings): Embedding(30522, 768, padding_idx=0)\n",
              "      (position_embeddings): Embedding(512, 768)\n",
              "      (token_type_embeddings): Embedding(2, 768)\n",
              "      (LayerNorm): BertLayerNorm()\n",
              "      (dropout): Dropout(p=0.1, inplace=False)\n",
              "    )\n",
              "    (encoder): BertEncoder(\n",
              "      (layer): ModuleList(\n",
              "        (0): BertLayer(\n",
              "          (attention): BertAttention(\n",
              "            (self): BertSelfAttention(\n",
              "              (query): Linear(in_features=768, out_features=768, bias=True)\n",
              "              (key): Linear(in_features=768, out_features=768, bias=True)\n",
              "              (value): Linear(in_features=768, out_features=768, bias=True)\n",
              "              (dropout): Dropout(p=0.1, inplace=False)\n",
              "            )\n",
              "            (output): BertSelfOutput(\n",
              "              (dense): Linear(in_features=768, out_features=768, bias=True)\n",
              "              (LayerNorm): BertLayerNorm()\n",
              "              (dropout): Dropout(p=0.1, inplace=False)\n",
              "            )\n",
              "          )\n",
              "          (intermediate): BertIntermediate(\n",
              "            (dense): Linear(in_features=768, out_features=3072, bias=True)\n",
              "          )\n",
              "          (output): BertOutput(\n",
              "            (dense): Linear(in_features=3072, out_features=768, bias=True)\n",
              "            (LayerNorm): BertLayerNorm()\n",
              "            (dropout): Dropout(p=0.1, inplace=False)\n",
              "          )\n",
              "        )\n",
              "        (1): BertLayer(\n",
              "          (attention): BertAttention(\n",
              "            (self): BertSelfAttention(\n",
              "              (query): Linear(in_features=768, out_features=768, bias=True)\n",
              "              (key): Linear(in_features=768, out_features=768, bias=True)\n",
              "              (value): Linear(in_features=768, out_features=768, bias=True)\n",
              "              (dropout): Dropout(p=0.1, inplace=False)\n",
              "            )\n",
              "            (output): BertSelfOutput(\n",
              "              (dense): Linear(in_features=768, out_features=768, bias=True)\n",
              "              (LayerNorm): BertLayerNorm()\n",
              "              (dropout): Dropout(p=0.1, inplace=False)\n",
              "            )\n",
              "          )\n",
              "          (intermediate): BertIntermediate(\n",
              "            (dense): Linear(in_features=768, out_features=3072, bias=True)\n",
              "          )\n",
              "          (output): BertOutput(\n",
              "            (dense): Linear(in_features=3072, out_features=768, bias=True)\n",
              "            (LayerNorm): BertLayerNorm()\n",
              "            (dropout): Dropout(p=0.1, inplace=False)\n",
              "          )\n",
              "        )\n",
              "        (2): BertLayer(\n",
              "          (attention): BertAttention(\n",
              "            (self): BertSelfAttention(\n",
              "              (query): Linear(in_features=768, out_features=768, bias=True)\n",
              "              (key): Linear(in_features=768, out_features=768, bias=True)\n",
              "              (value): Linear(in_features=768, out_features=768, bias=True)\n",
              "              (dropout): Dropout(p=0.1, inplace=False)\n",
              "            )\n",
              "            (output): BertSelfOutput(\n",
              "              (dense): Linear(in_features=768, out_features=768, bias=True)\n",
              "              (LayerNorm): BertLayerNorm()\n",
              "              (dropout): Dropout(p=0.1, inplace=False)\n",
              "            )\n",
              "          )\n",
              "          (intermediate): BertIntermediate(\n",
              "            (dense): Linear(in_features=768, out_features=3072, bias=True)\n",
              "          )\n",
              "          (output): BertOutput(\n",
              "            (dense): Linear(in_features=3072, out_features=768, bias=True)\n",
              "            (LayerNorm): BertLayerNorm()\n",
              "            (dropout): Dropout(p=0.1, inplace=False)\n",
              "          )\n",
              "        )\n",
              "        (3): BertLayer(\n",
              "          (attention): BertAttention(\n",
              "            (self): BertSelfAttention(\n",
              "              (query): Linear(in_features=768, out_features=768, bias=True)\n",
              "              (key): Linear(in_features=768, out_features=768, bias=True)\n",
              "              (value): Linear(in_features=768, out_features=768, bias=True)\n",
              "              (dropout): Dropout(p=0.1, inplace=False)\n",
              "            )\n",
              "            (output): BertSelfOutput(\n",
              "              (dense): Linear(in_features=768, out_features=768, bias=True)\n",
              "              (LayerNorm): BertLayerNorm()\n",
              "              (dropout): Dropout(p=0.1, inplace=False)\n",
              "            )\n",
              "          )\n",
              "          (intermediate): BertIntermediate(\n",
              "            (dense): Linear(in_features=768, out_features=3072, bias=True)\n",
              "          )\n",
              "          (output): BertOutput(\n",
              "            (dense): Linear(in_features=3072, out_features=768, bias=True)\n",
              "            (LayerNorm): BertLayerNorm()\n",
              "            (dropout): Dropout(p=0.1, inplace=False)\n",
              "          )\n",
              "        )\n",
              "        (4): BertLayer(\n",
              "          (attention): BertAttention(\n",
              "            (self): BertSelfAttention(\n",
              "              (query): Linear(in_features=768, out_features=768, bias=True)\n",
              "              (key): Linear(in_features=768, out_features=768, bias=True)\n",
              "              (value): Linear(in_features=768, out_features=768, bias=True)\n",
              "              (dropout): Dropout(p=0.1, inplace=False)\n",
              "            )\n",
              "            (output): BertSelfOutput(\n",
              "              (dense): Linear(in_features=768, out_features=768, bias=True)\n",
              "              (LayerNorm): BertLayerNorm()\n",
              "              (dropout): Dropout(p=0.1, inplace=False)\n",
              "            )\n",
              "          )\n",
              "          (intermediate): BertIntermediate(\n",
              "            (dense): Linear(in_features=768, out_features=3072, bias=True)\n",
              "          )\n",
              "          (output): BertOutput(\n",
              "            (dense): Linear(in_features=3072, out_features=768, bias=True)\n",
              "            (LayerNorm): BertLayerNorm()\n",
              "            (dropout): Dropout(p=0.1, inplace=False)\n",
              "          )\n",
              "        )\n",
              "        (5): BertLayer(\n",
              "          (attention): BertAttention(\n",
              "            (self): BertSelfAttention(\n",
              "              (query): Linear(in_features=768, out_features=768, bias=True)\n",
              "              (key): Linear(in_features=768, out_features=768, bias=True)\n",
              "              (value): Linear(in_features=768, out_features=768, bias=True)\n",
              "              (dropout): Dropout(p=0.1, inplace=False)\n",
              "            )\n",
              "            (output): BertSelfOutput(\n",
              "              (dense): Linear(in_features=768, out_features=768, bias=True)\n",
              "              (LayerNorm): BertLayerNorm()\n",
              "              (dropout): Dropout(p=0.1, inplace=False)\n",
              "            )\n",
              "          )\n",
              "          (intermediate): BertIntermediate(\n",
              "            (dense): Linear(in_features=768, out_features=3072, bias=True)\n",
              "          )\n",
              "          (output): BertOutput(\n",
              "            (dense): Linear(in_features=3072, out_features=768, bias=True)\n",
              "            (LayerNorm): BertLayerNorm()\n",
              "            (dropout): Dropout(p=0.1, inplace=False)\n",
              "          )\n",
              "        )\n",
              "        (6): BertLayer(\n",
              "          (attention): BertAttention(\n",
              "            (self): BertSelfAttention(\n",
              "              (query): Linear(in_features=768, out_features=768, bias=True)\n",
              "              (key): Linear(in_features=768, out_features=768, bias=True)\n",
              "              (value): Linear(in_features=768, out_features=768, bias=True)\n",
              "              (dropout): Dropout(p=0.1, inplace=False)\n",
              "            )\n",
              "            (output): BertSelfOutput(\n",
              "              (dense): Linear(in_features=768, out_features=768, bias=True)\n",
              "              (LayerNorm): BertLayerNorm()\n",
              "              (dropout): Dropout(p=0.1, inplace=False)\n",
              "            )\n",
              "          )\n",
              "          (intermediate): BertIntermediate(\n",
              "            (dense): Linear(in_features=768, out_features=3072, bias=True)\n",
              "          )\n",
              "          (output): BertOutput(\n",
              "            (dense): Linear(in_features=3072, out_features=768, bias=True)\n",
              "            (LayerNorm): BertLayerNorm()\n",
              "            (dropout): Dropout(p=0.1, inplace=False)\n",
              "          )\n",
              "        )\n",
              "        (7): BertLayer(\n",
              "          (attention): BertAttention(\n",
              "            (self): BertSelfAttention(\n",
              "              (query): Linear(in_features=768, out_features=768, bias=True)\n",
              "              (key): Linear(in_features=768, out_features=768, bias=True)\n",
              "              (value): Linear(in_features=768, out_features=768, bias=True)\n",
              "              (dropout): Dropout(p=0.1, inplace=False)\n",
              "            )\n",
              "            (output): BertSelfOutput(\n",
              "              (dense): Linear(in_features=768, out_features=768, bias=True)\n",
              "              (LayerNorm): BertLayerNorm()\n",
              "              (dropout): Dropout(p=0.1, inplace=False)\n",
              "            )\n",
              "          )\n",
              "          (intermediate): BertIntermediate(\n",
              "            (dense): Linear(in_features=768, out_features=3072, bias=True)\n",
              "          )\n",
              "          (output): BertOutput(\n",
              "            (dense): Linear(in_features=3072, out_features=768, bias=True)\n",
              "            (LayerNorm): BertLayerNorm()\n",
              "            (dropout): Dropout(p=0.1, inplace=False)\n",
              "          )\n",
              "        )\n",
              "        (8): BertLayer(\n",
              "          (attention): BertAttention(\n",
              "            (self): BertSelfAttention(\n",
              "              (query): Linear(in_features=768, out_features=768, bias=True)\n",
              "              (key): Linear(in_features=768, out_features=768, bias=True)\n",
              "              (value): Linear(in_features=768, out_features=768, bias=True)\n",
              "              (dropout): Dropout(p=0.1, inplace=False)\n",
              "            )\n",
              "            (output): BertSelfOutput(\n",
              "              (dense): Linear(in_features=768, out_features=768, bias=True)\n",
              "              (LayerNorm): BertLayerNorm()\n",
              "              (dropout): Dropout(p=0.1, inplace=False)\n",
              "            )\n",
              "          )\n",
              "          (intermediate): BertIntermediate(\n",
              "            (dense): Linear(in_features=768, out_features=3072, bias=True)\n",
              "          )\n",
              "          (output): BertOutput(\n",
              "            (dense): Linear(in_features=3072, out_features=768, bias=True)\n",
              "            (LayerNorm): BertLayerNorm()\n",
              "            (dropout): Dropout(p=0.1, inplace=False)\n",
              "          )\n",
              "        )\n",
              "        (9): BertLayer(\n",
              "          (attention): BertAttention(\n",
              "            (self): BertSelfAttention(\n",
              "              (query): Linear(in_features=768, out_features=768, bias=True)\n",
              "              (key): Linear(in_features=768, out_features=768, bias=True)\n",
              "              (value): Linear(in_features=768, out_features=768, bias=True)\n",
              "              (dropout): Dropout(p=0.1, inplace=False)\n",
              "            )\n",
              "            (output): BertSelfOutput(\n",
              "              (dense): Linear(in_features=768, out_features=768, bias=True)\n",
              "              (LayerNorm): BertLayerNorm()\n",
              "              (dropout): Dropout(p=0.1, inplace=False)\n",
              "            )\n",
              "          )\n",
              "          (intermediate): BertIntermediate(\n",
              "            (dense): Linear(in_features=768, out_features=3072, bias=True)\n",
              "          )\n",
              "          (output): BertOutput(\n",
              "            (dense): Linear(in_features=3072, out_features=768, bias=True)\n",
              "            (LayerNorm): BertLayerNorm()\n",
              "            (dropout): Dropout(p=0.1, inplace=False)\n",
              "          )\n",
              "        )\n",
              "        (10): BertLayer(\n",
              "          (attention): BertAttention(\n",
              "            (self): BertSelfAttention(\n",
              "              (query): Linear(in_features=768, out_features=768, bias=True)\n",
              "              (key): Linear(in_features=768, out_features=768, bias=True)\n",
              "              (value): Linear(in_features=768, out_features=768, bias=True)\n",
              "              (dropout): Dropout(p=0.1, inplace=False)\n",
              "            )\n",
              "            (output): BertSelfOutput(\n",
              "              (dense): Linear(in_features=768, out_features=768, bias=True)\n",
              "              (LayerNorm): BertLayerNorm()\n",
              "              (dropout): Dropout(p=0.1, inplace=False)\n",
              "            )\n",
              "          )\n",
              "          (intermediate): BertIntermediate(\n",
              "            (dense): Linear(in_features=768, out_features=3072, bias=True)\n",
              "          )\n",
              "          (output): BertOutput(\n",
              "            (dense): Linear(in_features=3072, out_features=768, bias=True)\n",
              "            (LayerNorm): BertLayerNorm()\n",
              "            (dropout): Dropout(p=0.1, inplace=False)\n",
              "          )\n",
              "        )\n",
              "        (11): BertLayer(\n",
              "          (attention): BertAttention(\n",
              "            (self): BertSelfAttention(\n",
              "              (query): Linear(in_features=768, out_features=768, bias=True)\n",
              "              (key): Linear(in_features=768, out_features=768, bias=True)\n",
              "              (value): Linear(in_features=768, out_features=768, bias=True)\n",
              "              (dropout): Dropout(p=0.1, inplace=False)\n",
              "            )\n",
              "            (output): BertSelfOutput(\n",
              "              (dense): Linear(in_features=768, out_features=768, bias=True)\n",
              "              (LayerNorm): BertLayerNorm()\n",
              "              (dropout): Dropout(p=0.1, inplace=False)\n",
              "            )\n",
              "          )\n",
              "          (intermediate): BertIntermediate(\n",
              "            (dense): Linear(in_features=768, out_features=3072, bias=True)\n",
              "          )\n",
              "          (output): BertOutput(\n",
              "            (dense): Linear(in_features=3072, out_features=768, bias=True)\n",
              "            (LayerNorm): BertLayerNorm()\n",
              "            (dropout): Dropout(p=0.1, inplace=False)\n",
              "          )\n",
              "        )\n",
              "      )\n",
              "    )\n",
              "    (pooler): BertPooler(\n",
              "      (dense): Linear(in_features=768, out_features=768, bias=True)\n",
              "      (activation): Tanh()\n",
              "    )\n",
              "  )\n",
              "  (dropout): Dropout(p=0.1, inplace=False)\n",
              "  (classifier): Linear(in_features=768, out_features=141, bias=True)\n",
              ")"
            ]
          },
          "metadata": {
            "tags": []
          },
          "execution_count": 86
        }
      ]
    },
    {
      "cell_type": "code",
      "metadata": {
        "colab_type": "code",
        "id": "8WB5NfmDRC_0",
        "colab": {}
      },
      "source": [
        "'''\n",
        "Now that we have our model loaded we need to grab the training hyperparameters from within the stored model.\n",
        "\n",
        "For the purposes of fine-tuning, the authors recommend the following hyperparameter ranges:\n",
        "\n",
        "Batch size: 16, 32\n",
        "Learning rate (Adam): 5e-5, 3e-5, 2e-5\n",
        "Number of epochs: 2, 3, 4\n",
        "'''\n",
        "\n",
        "param_optimizer = list(model.named_parameters())\n",
        "no_decay = ['bias', 'gamma', 'beta']\n",
        "optimizer_grouped_parameters = [\n",
        "    {'params': [p for n, p in param_optimizer if not any(nd in n for nd in no_decay)],\n",
        "     'weight_decay_rate': 0.01},\n",
        "    {'params': [p for n, p in param_optimizer if any(nd in n for nd in no_decay)],\n",
        "     'weight_decay_rate': 0.0}\n",
        "]"
      ],
      "execution_count": 87,
      "outputs": []
    },
    {
      "cell_type": "code",
      "metadata": {
        "colab_type": "code",
        "id": "WOkfQLiURC_3",
        "colab": {
          "base_uri": "https://localhost:8080/",
          "height": 34
        },
        "outputId": "a218b788-2d3c-4bf0-8d46-dacadd7506e7"
      },
      "source": [
        "optimizer = BertAdam(optimizer_grouped_parameters,\n",
        "                     lr=LEARNING_RATE,\n",
        "                     warmup=WARMUP)"
      ],
      "execution_count": 88,
      "outputs": [
        {
          "output_type": "stream",
          "text": [
            "t_total value of -1 results in schedule not being applied\n"
          ],
          "name": "stderr"
        }
      ]
    },
    {
      "cell_type": "code",
      "metadata": {
        "colab_type": "code",
        "id": "5Oadgf8sRC_5",
        "colab": {
          "base_uri": "https://localhost:8080/",
          "height": 170
        },
        "outputId": "0e02296f-ad9c-4b95-f174-3330c53e9dab"
      },
      "source": [
        "t = [] \n",
        "\n",
        "# Store our loss and accuracy for plotting\n",
        "train_loss_set = []\n",
        "\n",
        "# trange is a tqdm wrapper around the normal python range\n",
        "for _ in trange(EPOCHS, desc=\"Epoch\"):\n",
        "  \n",
        "  # Training\n",
        "  \n",
        "  # Set our model to training mode (as opposed to evaluation mode)\n",
        "  model.train()\n",
        "  \n",
        "  # Tracking variables\n",
        "  tr_loss = 0\n",
        "  nb_tr_examples, nb_tr_steps = 0, 0\n",
        "  \n",
        "  # Train the data for one epoch\n",
        "  for step, batch in enumerate(train_dataloader):\n",
        "    # Add batch to GPU\n",
        "    batch = tuple(t.to(device) for t in batch)\n",
        "    # Unpack the inputs from our dataloader\n",
        "    b_input_ids, b_input_mask, b_labels = batch\n",
        "    # Clear out the gradients (by default they accumulate)\n",
        "    optimizer.zero_grad()\n",
        "    # Forward pass\n",
        "    loss = model(b_input_ids, token_type_ids=None, attention_mask=b_input_mask, labels=b_labels)\n",
        "    train_loss_set.append(loss.item())    \n",
        "    # Backward pass\n",
        "    loss.backward()\n",
        "    # Update parameters and take a step using the computed gradient\n",
        "    optimizer.step()\n",
        "    \n",
        "    # Update tracking variables\n",
        "    tr_loss += loss.item()\n",
        "    nb_tr_examples += b_input_ids.size(0)\n",
        "    nb_tr_steps += 1\n",
        "\n",
        "  print(\"Train loss: {}\".format(tr_loss/nb_tr_steps))\n",
        "    \n",
        "    \n",
        "  # Validation\n",
        "\n",
        "  # Put model in evaluation mode to evaluate loss on the validation set\n",
        "  model.eval()\n",
        "\n",
        "  # Tracking variables \n",
        "  eval_loss, eval_accuracy = 0, 0\n",
        "  nb_eval_steps, nb_eval_examples = 0, 0\n",
        "\n",
        "  # Evaluate data for one epoch\n",
        "  for batch in validation_dataloader:\n",
        "    # Add batch to GPU\n",
        "    batch = tuple(t.to(device) for t in batch)\n",
        "    # Unpack the inputs from our dataloader\n",
        "    b_input_ids, b_input_mask, b_labels = batch\n",
        "    # Telling the model not to compute or store gradients, saving memory and speeding up validation\n",
        "    with torch.no_grad():\n",
        "      # Forward pass, calculate logit predictions\n",
        "      logits = model(b_input_ids, token_type_ids=None, attention_mask=b_input_mask)\n",
        "    \n",
        "    # Move logits and labels to CPU\n",
        "    logits = logits.detach().cpu().numpy()\n",
        "    label_ids = b_labels.to('cpu').numpy()\n",
        "\n",
        "    tmp_eval_accuracy = flat_accuracy(logits, label_ids)\n",
        "    \n",
        "    eval_accuracy += tmp_eval_accuracy\n",
        "    nb_eval_steps += 1\n",
        "\n",
        "  print(\"Validation Accuracy: {}\".format(eval_accuracy/nb_eval_steps))"
      ],
      "execution_count": 89,
      "outputs": [
        {
          "output_type": "stream",
          "text": [
            "\rEpoch:   0%|          | 0/4 [00:00<?, ?it/s]"
          ],
          "name": "stderr"
        },
        {
          "output_type": "stream",
          "text": [
            "Train loss: 2.763434582135894\n"
          ],
          "name": "stdout"
        },
        {
          "output_type": "stream",
          "text": [
            "\rEpoch:  25%|██▌       | 1/4 [00:28<01:26, 28.99s/it]"
          ],
          "name": "stderr"
        },
        {
          "output_type": "stream",
          "text": [
            "Validation Accuracy: 0.46590909090909094\n",
            "Train loss: 1.6435101330280304\n"
          ],
          "name": "stdout"
        },
        {
          "output_type": "stream",
          "text": [
            "\rEpoch:  50%|█████     | 2/4 [00:57<00:57, 28.97s/it]"
          ],
          "name": "stderr"
        },
        {
          "output_type": "stream",
          "text": [
            "Validation Accuracy: 0.5931818181818181\n",
            "Train loss: 1.3005200367082248\n"
          ],
          "name": "stdout"
        },
        {
          "output_type": "stream",
          "text": [
            "\rEpoch:  75%|███████▌  | 3/4 [01:26<00:28, 28.93s/it]"
          ],
          "name": "stderr"
        },
        {
          "output_type": "stream",
          "text": [
            "Validation Accuracy: 0.5730113636363636\n",
            "Train loss: 1.1199277889999477\n"
          ],
          "name": "stdout"
        },
        {
          "output_type": "stream",
          "text": [
            "Epoch: 100%|██████████| 4/4 [01:55<00:00, 28.91s/it]"
          ],
          "name": "stderr"
        },
        {
          "output_type": "stream",
          "text": [
            "Validation Accuracy: 0.5571022727272728\n"
          ],
          "name": "stdout"
        },
        {
          "output_type": "stream",
          "text": [
            "\n"
          ],
          "name": "stderr"
        }
      ]
    },
    {
      "cell_type": "markdown",
      "metadata": {
        "colab_type": "text",
        "id": "u7NMiSiFRC_-"
      },
      "source": [
        "Now we will evaluate the instances guessed invalid with the invalid-trained BERT."
      ]
    },
    {
      "cell_type": "code",
      "metadata": {
        "colab_type": "code",
        "id": "F6lFoay6RC_-",
        "colab": {
          "base_uri": "https://localhost:8080/",
          "height": 34
        },
        "outputId": "fbd45298-6c9a-49f1-9d20-d0485eac907e"
      },
      "source": [
        "sentences_test_invalid = df_multi_test_invalid.sentence.values\n",
        "sentences_test_invalid = [\"[CLS] \" + sentence + \" [SEP]\" for sentence in sentences_test_invalid]\n",
        "\n",
        "tokenized_texts_test_invalid = [tokenizer.tokenize(sentence) for sentence in sentences_test_invalid]\n",
        "labels_test_invalid = df_multi_test_invalid.relation.values\n",
        "labels_test_invalid[:50]"
      ],
      "execution_count": 90,
      "outputs": [
        {
          "output_type": "execute_result",
          "data": {
            "text/plain": [
              "array([], dtype=object)"
            ]
          },
          "metadata": {
            "tags": []
          },
          "execution_count": 90
        }
      ]
    },
    {
      "cell_type": "code",
      "metadata": {
        "colab_type": "code",
        "id": "-mJh-IKARDAB",
        "colab": {
          "base_uri": "https://localhost:8080/",
          "height": 51
        },
        "outputId": "8a2a7d63-aa56-410a-93aa-67dd6ce6c87e"
      },
      "source": [
        "# Now map each label to its corresponding integer\n",
        "print(\"Old labels: \",str(labels_test_invalid[:50]))\n",
        "labels_test_invalid = [relations.index(l) if l in relations else 999 for l in labels_test_invalid]\n",
        "print(\"New labels: \",str(labels_test_invalid))"
      ],
      "execution_count": 91,
      "outputs": [
        {
          "output_type": "stream",
          "text": [
            "Old labels:  []\n",
            "New labels:  []\n"
          ],
          "name": "stdout"
        }
      ]
    },
    {
      "cell_type": "code",
      "metadata": {
        "colab_type": "code",
        "id": "Jra7b14yRDAG",
        "colab": {}
      },
      "source": [
        "input_ids_test_invalid = [tokenizer.convert_tokens_to_ids(x) for x in tokenized_texts_test_invalid]\n",
        "input_ids_test_invalid = pad_sequences(input_ids_test_invalid, maxlen=MAX_LEN, dtype=\"long\", truncating=\"post\", padding=\"post\")"
      ],
      "execution_count": 92,
      "outputs": []
    },
    {
      "cell_type": "code",
      "metadata": {
        "colab_type": "code",
        "id": "x7iaiA8FRDAJ",
        "colab": {}
      },
      "source": [
        "attention_masks_test_invalid = []\n",
        "\n",
        "for seq in input_ids_test_invalid:\n",
        "  seq_mask = [float(i>0) for i in seq]\n",
        "  attention_masks_test_invalid.append(seq_mask)"
      ],
      "execution_count": 93,
      "outputs": []
    },
    {
      "cell_type": "code",
      "metadata": {
        "colab_type": "code",
        "id": "cu4Yf3PoRDAS",
        "colab": {}
      },
      "source": [
        "prediction_inputs_invalid = torch.tensor(input_ids_test_invalid)\n",
        "prediction_masks_invalid = torch.tensor(attention_masks_test_invalid)\n",
        "prediction_labels_invalid = torch.tensor(labels_test_invalid)\n",
        "\n",
        "prediction_data_invalid = TensorDataset(prediction_inputs_invalid, prediction_masks_invalid, prediction_labels_invalid)\n",
        "prediction_sampler_invalid = SequentialSampler(prediction_data_invalid)\n",
        "prediction_dataloader_invalid = DataLoader(prediction_data_invalid, sampler=prediction_sampler_invalid, batch_size=BATCH_SIZE)"
      ],
      "execution_count": 94,
      "outputs": []
    },
    {
      "cell_type": "code",
      "metadata": {
        "colab_type": "code",
        "id": "hLY_tFXWRDAe",
        "colab": {}
      },
      "source": [
        "model.eval()\n",
        "\n",
        "predictions_test_invalid, true_labels_test_invalid = [], []\n",
        "\n",
        "# Predict \n",
        "for batch in prediction_dataloader_invalid:\n",
        "  # Add batch to GPU\n",
        "  batch = tuple(t.to(device) for t in batch)\n",
        "  # Unpack the inputs from our dataloader\n",
        "  b_input_ids, b_input_mask, b_labels = batch\n",
        "  # Telling the model not to compute or store gradients, saving memory and speeding up prediction\n",
        "  with torch.no_grad():\n",
        "    # Forward pass, calculate logit predictions\n",
        "    logits = model(b_input_ids, token_type_ids=None, attention_mask=b_input_mask)\n",
        "\n",
        "  # Move logits and labels to CPU\n",
        "  logits_test = logits.detach().cpu().numpy()\n",
        "  label_ids_test = b_labels.to('cpu').numpy()\n",
        "  \n",
        "  # Store predictions and true labels\n",
        "  predictions_test_invalid.append(logits_test)\n",
        "  true_labels_test_invalid.append(label_ids_test)"
      ],
      "execution_count": 95,
      "outputs": []
    },
    {
      "cell_type": "code",
      "metadata": {
        "colab_type": "code",
        "id": "Q8EdIU2zRDAh",
        "colab": {
          "base_uri": "https://localhost:8080/",
          "height": 51
        },
        "outputId": "c8af5d02-02b9-4774-fb51-612d659d5cae"
      },
      "source": [
        "flat_predictions_test_invalid = [item for sublist in predictions_test_invalid for item in sublist]\n",
        "if (len(flat_predictions_test_invalid) > 0): \n",
        "  flat_predictions_test_invalid = np.argmax(flat_predictions_test_invalid, axis=1).flatten()\n",
        "flat_true_labels_test_invalid = [item for sublist in true_labels_test_invalid for item in sublist]\n",
        "\n",
        "y_pred_invalid = flat_predictions_test_invalid\n",
        "y_invalid = flat_true_labels_test_invalid\n",
        "\n",
        "print(y_pred_invalid)\n",
        "print(y_invalid)"
      ],
      "execution_count": 96,
      "outputs": [
        {
          "output_type": "stream",
          "text": [
            "[]\n",
            "[]\n"
          ],
          "name": "stdout"
        }
      ]
    },
    {
      "cell_type": "markdown",
      "metadata": {
        "colab_type": "text",
        "id": "zjVAZMSGRDAj"
      },
      "source": [
        "Extract stats."
      ]
    },
    {
      "cell_type": "code",
      "metadata": {
        "colab_type": "code",
        "id": "go4TgOfdRDAl",
        "colab": {}
      },
      "source": [
        "if (len(y_pred_invalid) > 0): print(classification_report(y_invalid, y_pred_invalid))"
      ],
      "execution_count": 97,
      "outputs": []
    },
    {
      "cell_type": "markdown",
      "metadata": {
        "colab_type": "text",
        "id": "H5n3QSZdRDAn"
      },
      "source": [
        "Extract accuracy of valid relations."
      ]
    },
    {
      "cell_type": "code",
      "metadata": {
        "colab_type": "code",
        "id": "zpMSt7nWRDAn",
        "colab": {
          "base_uri": "https://localhost:8080/",
          "height": 85
        },
        "outputId": "3d48d52b-8ad9-44a3-b6e2-14280edd4664"
      },
      "source": [
        "p_invalid = 0\n",
        "n_invalid = 0\n",
        "for i in range(len(y_pred_invalid)):\n",
        "  if y_pred_invalid[i] == y_invalid[i]:\n",
        "    p_invalid += 1\n",
        "  else:\n",
        "    n_invalid += 1\n",
        "\n",
        "print(\"Invalid guessed correctly:\",p_invalid)\n",
        "print(\"Invalid guessed incorrectly:\",n_invalid)\n",
        "print(\"Total invalid:\", p_invalid + n_invalid)\n",
        "if (p_invalid + n_invalid > 0): print(\"Invalid accuracy:\", p_invalid/(p_invalid+n_invalid))\n",
        "else: print(\"Invalid accuracy:\", 0)"
      ],
      "execution_count": 98,
      "outputs": [
        {
          "output_type": "stream",
          "text": [
            "Invalid guessed correctly: 0\n",
            "Invalid guessed incorrectly: 0\n",
            "Total invalid: 0\n",
            "Invalid accuracy: 0\n"
          ],
          "name": "stdout"
        }
      ]
    },
    {
      "cell_type": "markdown",
      "metadata": {
        "colab_type": "text",
        "id": "4_hz3TvpRDAp"
      },
      "source": [
        "Let's recap with the negative and valid classes."
      ]
    },
    {
      "cell_type": "code",
      "metadata": {
        "colab_type": "code",
        "id": "HPm2k8fmRDAr",
        "colab": {
          "base_uri": "https://localhost:8080/",
          "height": 85
        },
        "outputId": "ece13287-7cad-4880-c6f5-7069093bd93e"
      },
      "source": [
        "print(\"Negatives predicted correctly:\", neg_correct)\n",
        "print(\"Negatives predicted incorrectly:\", neg_incorrect)\n",
        "print(\"Total predicted negative:\",num_neg_predict)\n",
        "print(\"Negative accuracy:\", neg_correct/num_neg_predict)"
      ],
      "execution_count": 99,
      "outputs": [
        {
          "output_type": "stream",
          "text": [
            "Negatives predicted correctly: 1320\n",
            "Negatives predicted incorrectly: 104\n",
            "Total predicted negative: 1424\n",
            "Negative accuracy: 0.9269662921348315\n"
          ],
          "name": "stdout"
        }
      ]
    },
    {
      "cell_type": "code",
      "metadata": {
        "id": "1EEkh5RDaS0W",
        "colab_type": "code",
        "colab": {
          "base_uri": "https://localhost:8080/",
          "height": 85
        },
        "outputId": "04f180db-f95b-4f4a-8bbd-eb3fdaea5d7f"
      },
      "source": [
        "print(\"Valid guessed correctly:\",p)\n",
        "print(\"Valid guessed incorrectly:\",n)\n",
        "print(\"Total valid:\", p + n)\n",
        "print(\"Valid accuracy:\", p/(p+n))"
      ],
      "execution_count": 100,
      "outputs": [
        {
          "output_type": "stream",
          "text": [
            "Valid guessed correctly: 379\n",
            "Valid guessed incorrectly: 276\n",
            "Total valid: 655\n",
            "Valid accuracy: 0.5786259541984733\n"
          ],
          "name": "stdout"
        }
      ]
    },
    {
      "cell_type": "markdown",
      "metadata": {
        "id": "RaaGueWhafzz",
        "colab_type": "text"
      },
      "source": [
        "Total accuracy"
      ]
    },
    {
      "cell_type": "code",
      "metadata": {
        "colab_type": "code",
        "id": "E4ib5TMZRDAt",
        "colab": {
          "base_uri": "https://localhost:8080/",
          "height": 323
        },
        "outputId": "c31e2856-78fd-42eb-c4ea-b82aaadb5318"
      },
      "source": [
        "total_preds = num_neg_predict + p + n + p_invalid + n_invalid\n",
        "print(\"Total guesses:\", total_preds)\n",
        "\n",
        "print(\"\\nCorrect negative guesses:\", neg_correct)\n",
        "print(\"Incorrect negative guesses:\", neg_incorrect)\n",
        "print(\"Total negative guesses:\", neg_correct + neg_incorrect)\n",
        "print(\"Negatige accuracy:\", neg_correct/num_neg_predict)\n",
        "\n",
        "print(\"\\nCorrect valid guesses:\", p)\n",
        "print(\"Incorrect valid guesses:\", n)\n",
        "print(\"Total valid guesses:\", p + n)\n",
        "print(\"Valid accuracy:\", p/(p+n))\n",
        "\n",
        "print(\"\\nCorrect invalid guesses:\", p_invalid)\n",
        "print(\"Incorrect invalid guesses:\", n_invalid)\n",
        "print(\"Total invalid guesses:\", p_invalid + n_invalid)\n",
        "print(\"Invalid accuracy:\", p_invalid/(p_invalid+n_invalid) if p_invalid+n_invalid else 0)\n",
        "\n",
        "print(\"\\nTotal accuracy:\", (neg_correct+p+p_invalid)/total_preds)"
      ],
      "execution_count": 102,
      "outputs": [
        {
          "output_type": "stream",
          "text": [
            "Total guesses: 2079\n",
            "\n",
            "Correct negative guesses: 1320\n",
            "Incorrect negative guesses: 104\n",
            "Total negative guesses: 1424\n",
            "Negatige accuracy: 0.9269662921348315\n",
            "\n",
            "Correct valid guesses: 379\n",
            "Incorrect valid guesses: 276\n",
            "Total valid guesses: 655\n",
            "Valid accuracy: 0.5786259541984733\n",
            "\n",
            "Correct invalid guesses: 0\n",
            "Incorrect invalid guesses: 0\n",
            "Total invalid guesses: 0\n",
            "Invalid accuracy: 0\n",
            "\n",
            "Total accuracy: 0.8172198172198172\n"
          ],
          "name": "stdout"
        }
      ]
    }
  ]
}