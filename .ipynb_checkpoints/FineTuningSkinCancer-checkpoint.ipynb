{
 "cells": [
  {
   "cell_type": "markdown",
   "metadata": {},
   "source": [
    "# <center>Fine Tuning Bert using Skin Cancer Data</center>\n",
    "\n",
    "The code in this notebook is adopted from: https://colab.research.google.com/drive/1ywsvwO6thOVOrfagjjfuxEf6xVRxbUNO#scrollTo=IUM0UA1qJaVB\n",
    "\n",
    "Skin cancer data (big and little) can be found in the wiki: https://knowledge.depaul.edu/display/DNLP/Tasks+and+Data\n",
    "\n",
    "For this notebook, TensorFlow 1.15 is required\n",
    "\n",
    "Date: 24 August 2020\n",
    "This is a collaboration between Keith Cochran and Clayton Cohn where Skin Cancer essays can be classified.  This builds on the work from Simon Hughes involving causal reasoning chains. {Doctoral Dissertation: \"Automatic Inference of Causal Reasoning Chains from Student Essays\", 2019)"
   ]
  },
  {
   "cell_type": "code",
   "execution_count": 1,
   "metadata": {
    "colab": {
     "base_uri": "https://localhost:8080/",
     "height": 34
    },
    "colab_type": "code",
    "executionInfo": {
     "elapsed": 2391,
     "status": "ok",
     "timestamp": 1587144224293,
     "user": {
      "displayName": "Clayton Cohn",
      "photoUrl": "https://lh3.googleusercontent.com/a-/AOh14GiR5T0VrYZ_A0_satvSE1jZbcVxmApPyylw8Q-uxoo=s64",
      "userId": "10103672487987981310"
     },
     "user_tz": 300
    },
    "id": "pxGVOeMQOAfs",
    "outputId": "ea10eee9-a1aa-4fe0-883e-40075d3ce079"
   },
   "outputs": [
    {
     "name": "stderr",
     "output_type": "stream",
     "text": [
      "Using TensorFlow backend.\n"
     ]
    },
    {
     "name": "stdout",
     "output_type": "stream",
     "text": [
      "Torch version 1.5.1\n",
      "Tensorflow version 1.15.0\n",
      "pandas version 1.0.5.\n",
      "numpy version 1.18.5.\n",
      "2020-09-09 23:12 CT\n"
     ]
    }
   ],
   "source": [
    "import tensorflow as tf\n",
    "import torch\n",
    "from torch.utils.data import TensorDataset, DataLoader, RandomSampler, SequentialSampler\n",
    "from keras.preprocessing.sequence import pad_sequences\n",
    "from sklearn.model_selection import train_test_split\n",
    "from pytorch_pretrained_bert import BertTokenizer, BertConfig\n",
    "from pytorch_pretrained_bert import BertAdam, BertForSequenceClassification\n",
    "from tqdm import tqdm, trange\n",
    "import pandas as pd\n",
    "import io\n",
    "import numpy as np\n",
    "import matplotlib.pyplot as plt\n",
    "\n",
    "# If using Google Colab, uncomment this line to make matplotlib inline\n",
    "#% matplotlib inline\n",
    "\n",
    "print(\"Torch version {}\".format(torch.__version__))\n",
    "print(\"Tensorflow version {}\".format(tf.__version__))\n",
    "print('pandas version {}.'.format(pd.__version__))\n",
    "print('numpy version {}.'.format(np.__version__))\n",
    "\n",
    "# Get date and time\n",
    "import datetime\n",
    "import pytz\n",
    "\n",
    "start_date_raw = datetime.datetime.now(tz = pytz.timezone('US/Central'))\n",
    "start_date = str(start_date_raw)\n",
    "date = start_date.split(' ')\n",
    "time = date[1]\n",
    "date = date[0]\n",
    "h, m = [time.split(':')[0], time.split(':')[1]]\n",
    "\n",
    "DATE_TIME = date + ' ' + h + ':' + m + \" CT\"\n",
    "print(DATE_TIME)"
   ]
  },
  {
   "cell_type": "markdown",
   "metadata": {},
   "source": [
    "## <center>To use the GPU, do the following</center>\n",
    "\n",
    "<table><tr><th>Environment</th><th>Instruction</th></tr><tr><td>Colab</td><td>Edit->Notebook Settings->Hardware Accelerator and select GPU</td></tr>\n",
    "    <tr><td>ML PC</td><td>Device is found using the provided libraries</td></tr></table>\n",
    "\n"
   ]
  },
  {
   "cell_type": "code",
   "execution_count": 2,
   "metadata": {
    "colab": {
     "base_uri": "https://localhost:8080/",
     "height": 34
    },
    "colab_type": "code",
    "executionInfo": {
     "elapsed": 10509,
     "status": "ok",
     "timestamp": 1587144232544,
     "user": {
      "displayName": "Clayton Cohn",
      "photoUrl": "https://lh3.googleusercontent.com/a-/AOh14GiR5T0VrYZ_A0_satvSE1jZbcVxmApPyylw8Q-uxoo=s64",
      "userId": "10103672487987981310"
     },
     "user_tz": 300
    },
    "id": "HTpUC6-8UKsN",
    "outputId": "0526d979-63af-4726-f2e6-5428dae4951a"
   },
   "outputs": [
    {
     "name": "stdout",
     "output_type": "stream",
     "text": [
      "Found GPU at: /device:GPU:0\n",
      "Cuda Device: GeForce RTX 2080 Ti\n"
     ]
    }
   ],
   "source": [
    "device_name = tf.test.gpu_device_name()\n",
    "if device_name != '/device:GPU:0':\n",
    "  raise SystemError('GPU device not found')\n",
    "print('Found GPU at: {}'.format(device_name))\n",
    "\n",
    "device = torch.device(\"cuda\" if torch.cuda.is_available() else \"cpu\")\n",
    "n_gpu = torch.cuda.device_count()\n",
    "print('Cuda Device: {}'.format(torch.cuda.get_device_name(0)))"
   ]
  },
  {
   "cell_type": "markdown",
   "metadata": {},
   "source": [
    "## <center>Manual Parameters</center>\n",
    "\n",
    "| Hyper Parameter | Recommended Values         \n",
    "| :- | :-------------\n",
    "|EPOCHS| 2, 3, 4\n",
    "|BATCH_SIZE| 16, 32\n",
    "|MAX_LEN|Length of longest sentence\n",
    "|LEARNING_RATE|2e-5, 3e-5, 5e-5\n",
    "|WARMUP|.1\n",
    "|MODEL_TYPE| The model to use (i.e. 'bert-base-uncased')\n",
    "|BERT_PATH| The path to BERT\n",
    "|COST_SENSITIVITY|0 if unused\n",
    "|KFOLD|0 or a value for kfold cross-validation\n"
   ]
  },
  {
   "cell_type": "code",
   "execution_count": 3,
   "metadata": {
    "colab": {},
    "colab_type": "code",
    "id": "reOH412ibrsp"
   },
   "outputs": [],
   "source": [
    "# To modify values here, uncomment the value desired and comment the others with the same name.\n",
    "\n",
    "EPOCHS = 2\n",
    "#EPOCHS = 3\n",
    "#EPOCHS = 4\n",
    "\n",
    "#BATCH_SIZE = 16\n",
    "BATCH_SIZE = 32\n",
    "\n",
    "LEARNING_RATE = 2e-5\n",
    "#LEARNING_RATE = 3e-5\n",
    "#LEARNING_RATE = 5e-5\n",
    "\n",
    "MAX_LEN = 128\n",
    "WARMUP = .1\n",
    "\n",
    "# Model which is the target of fine-tuning\n",
    "#MODEL_TYPE = 'pre-trained_models/bert-base-uncased'\n",
    "#MODEL_TYPE = 'pre-trained_models/scibert_scivocab_uncased'\n",
    "MODEL_TYPE = 'pre-trained_models/biobert_v1.1_pubmed'\n",
    "\n",
    "BERT_PATH = MODEL_TYPE\n",
    "DATA_PATH = \"data\"\n",
    "STATS_PATH = \"stats\"\n",
    "\n",
    "PRETRAINING_MODEL_ID = \"none\"\n",
    "\n",
    "# Type of pretraining\n",
    "PRETRAINING_MODEL_TYPE = \"none\"\n",
    "#PRETRAINING_MODEL_TYPE = \"mlmnsp\"\n",
    "#PRETRAINING_MODEL_TYPE = \"nspmlm\"\n",
    "#PRETRAINING_MODEL_TYPE = \"both\"\n",
    "\n",
    "# Cost sensitivity\n",
    "COST_SENSITIVITY = 0\n",
    "\n",
    "# Set to do cross-validation\n",
    "KFOLD = 0\n",
    "\n",
    "NOTES = \"Initial skin cancer dataset fine-tuning\""
   ]
  },
  {
   "cell_type": "markdown",
   "metadata": {
    "colab": {
     "base_uri": "https://localhost:8080/",
     "height": 445
    },
    "colab_type": "code",
    "executionInfo": {
     "elapsed": 16306,
     "status": "ok",
     "timestamp": 1587144238396,
     "user": {
      "displayName": "Clayton Cohn",
      "photoUrl": "https://lh3.googleusercontent.com/a-/AOh14GiR5T0VrYZ_A0_satvSE1jZbcVxmApPyylw8Q-uxoo=s64",
      "userId": "10103672487987981310"
     },
     "user_tz": 300
    },
    "id": "Y8fXOdJIULEO",
    "outputId": "85fdb01a-a3a6-49b0-cdea-a923ba4213eb"
   },
   "source": [
    "Make sure PyTorch is installed - will use with Hugging Face Transformers\n",
    "<br>Hugging Face library currently accepted as most powerful PyTorch interface with BERT\n",
    "\n"
   ]
  },
  {
   "cell_type": "code",
   "execution_count": 4,
   "metadata": {},
   "outputs": [
    {
     "name": "stdout",
     "output_type": "stream",
     "text": [
      "Requirement already satisfied: pytorch-pretrained-bert in c:\\users\\keith\\anaconda3\\envs\\pythongpu\\lib\\site-packages (0.6.2)\n",
      "Requirement already satisfied: pytorch-nlp in c:\\users\\keith\\anaconda3\\envs\\pythongpu\\lib\\site-packages (0.4.0)\n",
      "Requirement already satisfied: requests in c:\\users\\keith\\anaconda3\\envs\\pythongpu\\lib\\site-packages (from pytorch-pretrained-bert) (2.21.0)\n",
      "Requirement already satisfied: regex in c:\\users\\keith\\anaconda3\\envs\\pythongpu\\lib\\site-packages (from pytorch-pretrained-bert) (2017.4.5)\n",
      "Requirement already satisfied: boto3 in c:\\users\\keith\\anaconda3\\envs\\pythongpu\\lib\\site-packages (from pytorch-pretrained-bert) (1.14.21)\n",
      "Requirement already satisfied: torch>=0.4.1 in c:\\users\\keith\\anaconda3\\envs\\pythongpu\\lib\\site-packages (from pytorch-pretrained-bert) (1.5.1)\n",
      "Requirement already satisfied: numpy in c:\\users\\keith\\anaconda3\\envs\\pythongpu\\lib\\site-packages (from pytorch-pretrained-bert) (1.18.5)\n",
      "Requirement already satisfied: tqdm in c:\\users\\keith\\anaconda3\\envs\\pythongpu\\lib\\site-packages (from pytorch-pretrained-bert) (4.31.1)\n",
      "Requirement already satisfied: pandas in c:\\users\\keith\\anaconda3\\envs\\pythongpu\\lib\\site-packages (from pytorch-nlp) (1.0.5)\n",
      "Requirement already satisfied: urllib3<1.25,>=1.21.1 in c:\\users\\keith\\anaconda3\\envs\\pythongpu\\lib\\site-packages (from requests->pytorch-pretrained-bert) (1.24.3)\n",
      "Requirement already satisfied: certifi>=2017.4.17 in c:\\users\\keith\\anaconda3\\envs\\pythongpu\\lib\\site-packages (from requests->pytorch-pretrained-bert) (2020.6.20)\n",
      "Requirement already satisfied: idna<2.9,>=2.5 in c:\\users\\keith\\anaconda3\\envs\\pythongpu\\lib\\site-packages (from requests->pytorch-pretrained-bert) (2.8)\n",
      "Requirement already satisfied: chardet<3.1.0,>=3.0.2 in c:\\users\\keith\\anaconda3\\envs\\pythongpu\\lib\\site-packages (from requests->pytorch-pretrained-bert) (3.0.4)\n",
      "Requirement already satisfied: botocore<1.18.0,>=1.17.21 in c:\\users\\keith\\anaconda3\\envs\\pythongpu\\lib\\site-packages (from boto3->pytorch-pretrained-bert) (1.17.21)\n",
      "Requirement already satisfied: s3transfer<0.4.0,>=0.3.0 in c:\\users\\keith\\anaconda3\\envs\\pythongpu\\lib\\site-packages (from boto3->pytorch-pretrained-bert) (0.3.3)\n",
      "Requirement already satisfied: jmespath<1.0.0,>=0.7.1 in c:\\users\\keith\\anaconda3\\envs\\pythongpu\\lib\\site-packages (from boto3->pytorch-pretrained-bert) (0.10.0)\n",
      "Requirement already satisfied: future in c:\\users\\keith\\anaconda3\\envs\\pythongpu\\lib\\site-packages (from torch>=0.4.1->pytorch-pretrained-bert) (0.18.2)\n",
      "Requirement already satisfied: python-dateutil>=2.6.1 in c:\\users\\keith\\anaconda3\\envs\\pythongpu\\lib\\site-packages (from pandas->pytorch-nlp) (2.8.1)\n",
      "Requirement already satisfied: pytz>=2017.2 in c:\\users\\keith\\anaconda3\\envs\\pythongpu\\lib\\site-packages (from pandas->pytorch-nlp) (2020.1)\n",
      "Requirement already satisfied: docutils<0.16,>=0.10 in c:\\users\\keith\\anaconda3\\envs\\pythongpu\\lib\\site-packages (from botocore<1.18.0,>=1.17.21->boto3->pytorch-pretrained-bert) (0.15.2)\n",
      "Requirement already satisfied: six>=1.5 in c:\\users\\keith\\anaconda3\\envs\\pythongpu\\lib\\site-packages (from python-dateutil>=2.6.1->pandas->pytorch-nlp) (1.15.0)\n"
     ]
    }
   ],
   "source": [
    "# Install\n",
    "!pip install pytorch-pretrained-bert pytorch-nlp"
   ]
  },
  {
   "cell_type": "code",
   "execution_count": 5,
   "metadata": {
    "colab": {
     "base_uri": "https://localhost:8080/",
     "height": 122
    },
    "colab_type": "code",
    "executionInfo": {
     "elapsed": 79471,
     "status": "ok",
     "timestamp": 1587144301710,
     "user": {
      "displayName": "Clayton Cohn",
      "photoUrl": "https://lh3.googleusercontent.com/a-/AOh14GiR5T0VrYZ_A0_satvSE1jZbcVxmApPyylw8Q-uxoo=s64",
      "userId": "10103672487987981310"
     },
     "user_tz": 300
    },
    "id": "tRZI3iBRWUsP",
    "outputId": "af32e2d9-33aa-49e0-8a92-8ba913cb0f13"
   },
   "outputs": [],
   "source": [
    "# Before importing the data, we must mount Google Drive to Colab notebook.\n",
    "\n",
    "# Each time the notebook is run, Colab must request authorization to remount to Google Drive.\n",
    "# I have not found a way arouund this yet. Even though I am a pro (paying) user, Colab\n",
    "#   will not allow me to let datasets persist after runtime ceases.\n",
    "\n",
    "#from google.colab import drive\n",
    "#drive.mount('/content/drive')"
   ]
  },
  {
   "cell_type": "code",
   "execution_count": 6,
   "metadata": {
    "colab": {},
    "colab_type": "code",
    "id": "1Zf9TEVWWUow",
    "scrolled": true
   },
   "outputs": [],
   "source": [
    "# Data from the DeepNLP Wiki \n",
    "DATA_NAME = \"EBA1415-SkinCancer-big-sentences.tsv\"\n",
    "df = pd.read_csv(DATA_PATH + \"/\" + DATA_NAME, delimiter='\\t', header=0, names=['file', 'relation', 's_num', 'sentence'])"
   ]
  },
  {
   "cell_type": "code",
   "execution_count": 7,
   "metadata": {
    "colab": {
     "base_uri": "https://localhost:8080/",
     "height": 359
    },
    "colab_type": "code",
    "executionInfo": {
     "elapsed": 81007,
     "status": "ok",
     "timestamp": 1587144303346,
     "user": {
      "displayName": "Clayton Cohn",
      "photoUrl": "https://lh3.googleusercontent.com/a-/AOh14GiR5T0VrYZ_A0_satvSE1jZbcVxmApPyylw8Q-uxoo=s64",
      "userId": "10103672487987981310"
     },
     "user_tz": 300
    },
    "id": "3DE3EqboWUmc",
    "outputId": "9e2d1a3d-e53e-4afa-b56a-45b249fc8c12"
   },
   "outputs": [
    {
     "data": {
      "text/html": [
       "<div>\n",
       "<style scoped>\n",
       "    .dataframe tbody tr th:only-of-type {\n",
       "        vertical-align: middle;\n",
       "    }\n",
       "\n",
       "    .dataframe tbody tr th {\n",
       "        vertical-align: top;\n",
       "    }\n",
       "\n",
       "    .dataframe thead th {\n",
       "        text-align: right;\n",
       "    }\n",
       "</style>\n",
       "<table border=\"1\" class=\"dataframe\">\n",
       "  <thead>\n",
       "    <tr style=\"text-align: right;\">\n",
       "      <th></th>\n",
       "      <th>file</th>\n",
       "      <th>relation</th>\n",
       "      <th>s_num</th>\n",
       "      <th>sentence</th>\n",
       "    </tr>\n",
       "  </thead>\n",
       "  <tbody>\n",
       "    <tr>\n",
       "      <th>0</th>\n",
       "      <td>EBA1415_TFHC_1_SC_ES-05947</td>\n",
       "      <td>O</td>\n",
       "      <td>1.0</td>\n",
       "      <td>This essay is about skin damage, latitude and ...</td>\n",
       "    </tr>\n",
       "    <tr>\n",
       "      <th>1</th>\n",
       "      <td>EBA1415_TFHC_1_SC_ES-05947</td>\n",
       "      <td>O</td>\n",
       "      <td>2.0</td>\n",
       "      <td>The skin damage is on our bodies that have num...</td>\n",
       "    </tr>\n",
       "    <tr>\n",
       "      <th>2</th>\n",
       "      <td>EBA1415_TFHC_1_SC_ES-05947</td>\n",
       "      <td>O</td>\n",
       "      <td>3.0</td>\n",
       "      <td>There are three main varieties of skin cancer ...</td>\n",
       "    </tr>\n",
       "    <tr>\n",
       "      <th>3</th>\n",
       "      <td>EBA1415_TFHC_1_SC_ES-05947</td>\n",
       "      <td>O</td>\n",
       "      <td>4.0</td>\n",
       "      <td>That would be what skin damage is.</td>\n",
       "    </tr>\n",
       "    <tr>\n",
       "      <th>4</th>\n",
       "      <td>EBA1415_TFHC_1_SC_ES-05947</td>\n",
       "      <td>R-1-2</td>\n",
       "      <td>5.0</td>\n",
       "      <td>Latitude and direct sunlight would be the cols...</td>\n",
       "    </tr>\n",
       "    <tr>\n",
       "      <th>5</th>\n",
       "      <td>EBA1415_TFHC_1_SC_ES-05947</td>\n",
       "      <td>R-1-2</td>\n",
       "      <td>6.0</td>\n",
       "      <td>The most yearound direct sunlight occurs betwe...</td>\n",
       "    </tr>\n",
       "    <tr>\n",
       "      <th>6</th>\n",
       "      <td>EBA1415_TFHC_1_SC_ES-05947</td>\n",
       "      <td>O</td>\n",
       "      <td>7.0</td>\n",
       "      <td>That would be latitude and direct sunlight.</td>\n",
       "    </tr>\n",
       "    <tr>\n",
       "      <th>7</th>\n",
       "      <td>EBA1415_TFHC_1_SC_ES-05947</td>\n",
       "      <td>O</td>\n",
       "      <td>8.0</td>\n",
       "      <td>Your skin protects you is that it acts as a wa...</td>\n",
       "    </tr>\n",
       "    <tr>\n",
       "      <th>8</th>\n",
       "      <td>EBA1415_TFHC_1_SC_ES-05947</td>\n",
       "      <td>R-12-3</td>\n",
       "      <td>9.0</td>\n",
       "      <td>Your skin does have some denses against solar ...</td>\n",
       "    </tr>\n",
       "    <tr>\n",
       "      <th>9</th>\n",
       "      <td>EBA1415_TFHC_1_SC_ES-05947</td>\n",
       "      <td>O</td>\n",
       "      <td>10.0</td>\n",
       "      <td>That would be your skin protects you.</td>\n",
       "    </tr>\n",
       "  </tbody>\n",
       "</table>\n",
       "</div>"
      ],
      "text/plain": [
       "                         file relation  s_num  \\\n",
       "0  EBA1415_TFHC_1_SC_ES-05947        O    1.0   \n",
       "1  EBA1415_TFHC_1_SC_ES-05947        O    2.0   \n",
       "2  EBA1415_TFHC_1_SC_ES-05947        O    3.0   \n",
       "3  EBA1415_TFHC_1_SC_ES-05947        O    4.0   \n",
       "4  EBA1415_TFHC_1_SC_ES-05947    R-1-2    5.0   \n",
       "5  EBA1415_TFHC_1_SC_ES-05947    R-1-2    6.0   \n",
       "6  EBA1415_TFHC_1_SC_ES-05947        O    7.0   \n",
       "7  EBA1415_TFHC_1_SC_ES-05947        O    8.0   \n",
       "8  EBA1415_TFHC_1_SC_ES-05947   R-12-3    9.0   \n",
       "9  EBA1415_TFHC_1_SC_ES-05947        O   10.0   \n",
       "\n",
       "                                            sentence  \n",
       "0  This essay is about skin damage, latitude and ...  \n",
       "1  The skin damage is on our bodies that have num...  \n",
       "2  There are three main varieties of skin cancer ...  \n",
       "3                 That would be what skin damage is.  \n",
       "4  Latitude and direct sunlight would be the cols...  \n",
       "5  The most yearound direct sunlight occurs betwe...  \n",
       "6        That would be latitude and direct sunlight.  \n",
       "7  Your skin protects you is that it acts as a wa...  \n",
       "8  Your skin does have some denses against solar ...  \n",
       "9              That would be your skin protects you.  "
      ]
     },
     "execution_count": 7,
     "metadata": {},
     "output_type": "execute_result"
    }
   ],
   "source": [
    "# Let's take a peak\n",
    "df.shape\n",
    "df.head(10)"
   ]
  },
  {
   "cell_type": "code",
   "execution_count": 8,
   "metadata": {
    "colab": {},
    "colab_type": "code",
    "id": "A8ylllfyWUid"
   },
   "outputs": [],
   "source": [
    "# Create sentence and label lists\n",
    "sentences = df.sentence.values\n",
    "\n",
    "# Add special tokens at the beginning and end of each sentence to comply with BERT\n",
    "sentences = [\"[CLS] \" + sentence + \" [SEP]\" for sentence in sentences]\n",
    "labels = df.relation.values"
   ]
  },
  {
   "cell_type": "code",
   "execution_count": 9,
   "metadata": {
    "colab": {
     "base_uri": "https://localhost:8080/",
     "height": 71
    },
    "colab_type": "code",
    "executionInfo": {
     "elapsed": 86299,
     "status": "ok",
     "timestamp": 1587144308722,
     "user": {
      "displayName": "Clayton Cohn",
      "photoUrl": "https://lh3.googleusercontent.com/a-/AOh14GiR5T0VrYZ_A0_satvSE1jZbcVxmApPyylw8Q-uxoo=s64",
      "userId": "10103672487987981310"
     },
     "user_tz": 300
    },
    "id": "9zkVE9ymZFOL",
    "outputId": "3ee271a2-c01d-4179-88da-539f2a73d0cc"
   },
   "outputs": [
    {
     "name": "stdout",
     "output_type": "stream",
     "text": [
      "First sentence tokenized:  ['[CLS]', 'this', 'essay', 'is', 'about', 'skin', 'damage', ',', 'latitude', 'and', 'direct', 'sunlight', ',', 'skin', 'cancer', 'and', 'latitude', ',', 'your', 'skin', 'protects', 'you', 'and', 'about', 'sun', '##burn', '##s', '.', '[SEP]']\n"
     ]
    }
   ],
   "source": [
    "# Now that our [CLS] and [SEP] tokens are in place, we are ready for tokenization\n",
    "tokenizer = BertTokenizer.from_pretrained(MODEL_TYPE, do_lower_case=True)\n",
    "tokenized_texts = [tokenizer.tokenize(sent) for sent in sentences]\n",
    "print (\"First sentence tokenized: \",tokenized_texts[0])"
   ]
  },
  {
   "cell_type": "code",
   "execution_count": 10,
   "metadata": {
    "colab": {
     "base_uri": "https://localhost:8080/",
     "height": 34
    },
    "colab_type": "code",
    "executionInfo": {
     "elapsed": 86264,
     "status": "ok",
     "timestamp": 1587144308723,
     "user": {
      "displayName": "Clayton Cohn",
      "photoUrl": "https://lh3.googleusercontent.com/a-/AOh14GiR5T0VrYZ_A0_satvSE1jZbcVxmApPyylw8Q-uxoo=s64",
      "userId": "10103672487987981310"
     },
     "user_tz": 300
    },
    "id": "6Lf1BD3oZFRR",
    "outputId": "a4035353-1444-4548-9b41-282c62e37dad"
   },
   "outputs": [
    {
     "name": "stdout",
     "output_type": "stream",
     "text": [
      "Removed 13 sentences greater than 128\n"
     ]
    }
   ],
   "source": [
    "'''\n",
    "For each tokenized input sentence, we need to create:\n",
    "\n",
    "1. input ids:\n",
    "    a sequence of integers identifying each input token to its index number \n",
    "    in the BERT tokenizer vocabulary\n",
    "\n",
    "2. segment mask: (optional) a sequence of 1s and 0s used to identify whether the input is one \n",
    "    sentence or two sentences long. For one sentence inputs, this is simply a sequence of 0s. \n",
    "    For two sentence inputs, there is a 0 for each token of the first sentence, followed by a \n",
    "    1 for each token of the second sentence\n",
    "\n",
    "3. attention mask: (optional) \n",
    "    a sequence of 1s and 0s, with 1s for all input tokens and 0s for all padding tokens \n",
    "\n",
    "4. labels: based on the labels from the data set\n",
    "'''\n",
    "\n",
    "# For now, we will simply delete the tokenized_texts greater than MAX_LEN.\n",
    "\n",
    "# We need to strip out the sentences greater than MAX_LEN tokens\n",
    "original_length = len(tokenized_texts)\n",
    "\n",
    "labels = [labels[i] for i in range(len(tokenized_texts)) if len(tokenized_texts[i]) <= MAX_LEN]\n",
    "tokenized_texts = [tokenized_texts[i] for i in range(len(tokenized_texts)) if len(tokenized_texts[i]) <= MAX_LEN]\n",
    "print(\"Removed {0} sentences greater than {1}\".format(original_length - len(tokenized_texts),MAX_LEN))"
   ]
  },
  {
   "cell_type": "code",
   "execution_count": 11,
   "metadata": {
    "colab": {},
    "colab_type": "code",
    "id": "Qr-MfjBVZFZ3"
   },
   "outputs": [],
   "source": [
    "# Use the BERT tokenizer to convert the tokens to their index numbers in the BERT vocabulary\n",
    "input_ids = [tokenizer.convert_tokens_to_ids(x) for x in tokenized_texts]"
   ]
  },
  {
   "cell_type": "code",
   "execution_count": 12,
   "metadata": {
    "colab": {},
    "colab_type": "code",
    "id": "oc2YEZ2gZFXF"
   },
   "outputs": [],
   "source": [
    "# Pad our input tokens\n",
    "input_ids = pad_sequences(input_ids, maxlen=MAX_LEN, dtype=\"long\", truncating=\"post\", padding=\"post\")"
   ]
  },
  {
   "cell_type": "code",
   "execution_count": 13,
   "metadata": {
    "colab": {},
    "colab_type": "code",
    "id": "--O5pAmKZFUu"
   },
   "outputs": [],
   "source": [
    "# Create attention masks\n",
    "attention_masks = []\n",
    "\n",
    "# Create a mask of 1s for each token followed by 0s for padding\n",
    "for seq in input_ids:\n",
    "  seq_mask = [float(i>0) for i in seq]\n",
    "  attention_masks.append(seq_mask)"
   ]
  },
  {
   "cell_type": "code",
   "execution_count": 14,
   "metadata": {
    "colab": {
     "base_uri": "https://localhost:8080/",
     "height": 71
    },
    "colab_type": "code",
    "executionInfo": {
     "elapsed": 86444,
     "status": "ok",
     "timestamp": 1587144309193,
     "user": {
      "displayName": "Clayton Cohn",
      "photoUrl": "https://lh3.googleusercontent.com/a-/AOh14GiR5T0VrYZ_A0_satvSE1jZbcVxmApPyylw8Q-uxoo=s64",
      "userId": "10103672487987981310"
     },
     "user_tz": 300
    },
    "id": "XUv2hrecsjkm",
    "outputId": "0cd3aed5-56e7-4618-d550-d40d6d5c8e4d"
   },
   "outputs": [
    {
     "name": "stdout",
     "output_type": "stream",
     "text": [
      "Total labels_types: 51\n",
      "Labels: {'O': 0, 'R-1-2': 1, 'R-12-3': 2, 'R-1-50': 3, 'R-2-3': 4, 'R-3-4': 5, 'R-5-6': 6, 'R-2-50': 7, 'R-4-5': 8, 'R-3-50': 9, 'R-2-5': 10, 'R-5-50': 11, 'R-4-50': 12, 'R-6-50': 13, 'R-2-4': 14, 'R-1-5': 15, 'R-11-50': 16, 'R-11-12': 17, 'R-4-4': 18, 'R-5-4': 19, 'R-4-6': 20, 'R-12-2': 21, 'R-3-6': 22, 'R-3-5': 23, 'R-1-3': 24, 'R-6-5': 25, 'R-5-5': 26, 'R-1-4': 27, 'R-12-12': 28, 'R-11-3': 29, 'R-12-5': 30, 'R-11-5': 31, 'R-12-50': 32, 'R-50-2': 33, 'R-2-2': 34, 'R-11-4': 35, 'R-6-4': 36, 'R-50-5': 37, 'R-12-4': 38, 'R-5-11': 39, 'R-50-4': 40, 'R-6-3': 41, 'R-2-6': 42, 'R-4-11': 43, 'R-2-1': 44, 'R-50-3': 45, 'R-5-12': 46, 'R-2-11': 47, 'R-3-11': 48, 'R-3-2': 49, 'R-50-1': 50}\n"
     ]
    }
   ],
   "source": [
    "# At this point we must convert our labels from strings to ints (required for tensorization)\n",
    "\n",
    "# First we are going to create an array of all possible labels\n",
    "label_types = {}\n",
    "for i in range(len(labels)):\n",
    "  if labels[i] not in label_types:\n",
    "    label_types.update({labels[i] : len(label_types)})\n",
    "print(\"Total labels_types: {0}\\nLabels: {1}\".format(len(label_types),str(label_types)))"
   ]
  },
  {
   "cell_type": "code",
   "execution_count": 15,
   "metadata": {
    "colab": {
     "base_uri": "https://localhost:8080/",
     "height": 71
    },
    "colab_type": "code",
    "executionInfo": {
     "elapsed": 86409,
     "status": "ok",
     "timestamp": 1587144309194,
     "user": {
      "displayName": "Clayton Cohn",
      "photoUrl": "https://lh3.googleusercontent.com/a-/AOh14GiR5T0VrYZ_A0_satvSE1jZbcVxmApPyylw8Q-uxoo=s64",
      "userId": "10103672487987981310"
     },
     "user_tz": 300
    },
    "id": "-BwKmV_V9l7C",
    "outputId": "aaed07d2-8389-4dcb-8976-6bcce7aa6152"
   },
   "outputs": [
    {
     "name": "stdout",
     "output_type": "stream",
     "text": [
      "Old labels:  ['O', 'O', 'O', 'O', 'R-1-2', 'R-1-2', 'O', 'O', 'R-12-3', 'O', 'O', 'O', 'O', 'O', 'O', 'O', 'O', 'O', 'O', 'O', 'O', 'O', 'O', 'O', 'R-1-50', 'R-1-2', 'R-2-3', 'O', 'R-3-4', 'O', 'R-5-6', 'O', 'O', 'O', 'O', 'O', 'R-2-50', 'R-2-50', 'R-1-2', 'R-1-50', 'O', 'O', 'O', 'O', 'O', 'O', 'O', 'O', 'O', 'O', 'O', 'O', 'O', 'O', 'R-5-6', 'R-4-5', 'O', 'O', 'R-1-2', 'R-1-2', 'O', 'O', 'O', 'O', 'O', 'O', 'O', 'R-3-50', 'O', 'R-1-2', 'R-2-5', 'R-5-50', 'O', 'R-2-3', 'O', 'R-3-4', 'O', 'R-5-50', 'O', 'R-3-50', 'R-1-50', 'R-2-50', 'O', 'O', 'O', 'R-1-50', 'O', 'O', 'O', 'R-4-50', 'R-1-50', 'R-2-50', 'O', 'R-1-50', 'R-2-50', 'R-1-50', 'R-5-50', 'O', 'R-5-50', 'R-4-5', 'O', 'O', 'O', 'R-5-50', 'R-3-50', 'O', 'R-5-6', 'R-2-5', 'O', 'R-2-5', 'R-1-2', 'O', 'R-3-4', 'O', 'R-2-3', 'R-2-5', 'O', 'R-3-50', 'R-5-50', 'R-5-50', 'R-5-50', 'O', 'O', 'R-5-6', 'R-6-50', 'R-5-6', 'O', 'R-4-5', 'R-4-5', 'R-5-50', 'O', 'O', 'O', 'O', 'O', 'O', 'O', 'O', 'O', 'O', 'O', 'O', 'O', 'O', 'R-1-50', 'O', 'R-1-2', 'R-2-50', 'R-2-4', 'R-1-2', 'R-5-50', 'R-1-5', 'O', 'R-5-6', 'R-6-50', 'O', 'O', 'O', 'R-1-50', 'R-2-50', 'R-1-2', 'R-2-50', 'R-2-3', 'R-11-50', 'R-11-12', 'R-12-3', 'R-11-50', 'R-5-50', 'R-5-6', 'R-4-5', 'R-4-5', 'R-5-6', 'O', 'O', 'R-5-50', 'O', 'O', 'O', 'O', 'O', 'O', 'O', 'O', 'O', 'O', 'R-4-50', 'R-4-50', 'O', 'O', 'O', 'O', 'R-1-2', 'R-2-3', 'R-3-4', 'R-1-50', 'O', 'O', 'O', 'O', 'O', 'O', 'R-5-50', 'R-2-50', 'R-2-3', 'R-3-50', 'R-3-4', 'R-4-4', 'R-3-4', 'R-5-50', 'R-5-50', 'O', 'R-2-50', 'R-2-50', 'R-2-50', 'R-2-4', 'R-1-50', 'R-3-50', 'O', 'O', 'O', 'O', 'R-5-50', 'O', 'O', 'O', 'R-2-50', 'R-5-50', 'R-1-2', 'R-5-6', 'R-6-50', 'O', 'R-5-50', 'R-5-50', 'R-2-50', 'O', 'R-2-50', 'R-4-5', 'R-5-6', 'R-6-50', 'R-5-50', 'O', 'O', 'R-2-50', 'O', 'R-12-3', 'O', 'R-1-2', 'R-2-50', 'O', 'R-2-3', 'R-1-2', 'R-5-50', 'R-5-6', 'R-4-5', 'R-5-6', 'O', 'O', 'R-5-6', 'R-6-50', 'R-5-50', 'R-4-5', 'O', 'O', 'R-5-50', 'R-3-50', 'O', 'O', 'O', 'R-6-50', 'O', 'R-5-50', 'R-5-50', 'R-4-5', 'O', 'R-5-6', 'R-6-50', 'O', 'O', 'O', 'O', 'R-1-50', 'R-3-50', 'R-5-50', 'R-2-3', 'R-1-2', 'R-2-3', 'O', 'R-5-50', 'O', 'O', 'O', 'O', 'R-5-4', 'R-5-6', 'R-5-50', 'R-1-50', 'R-2-50', 'R-5-50', 'R-2-4', 'R-4-6', 'R-6-50', 'R-5-6', 'R-2-50', 'O', 'O', 'R-1-2', 'R-2-50', 'R-2-50', 'O', 'R-2-50', 'R-2-3', 'O', 'O', 'O', 'O', 'O', 'O', 'R-1-2', 'R-1-50', 'R-3-4', 'O', 'R-5-50', 'R-6-50', 'O', 'R-5-6', 'R-6-50', 'O', 'R-5-50', 'R-5-50', 'O', 'O', 'O', 'R-6-50', 'R-5-6', 'R-5-6', 'O', 'R-5-50', 'O', 'R-2-50', 'R-1-2', 'O', 'O', 'O', 'O', 'R-3-4', 'R-5-50', 'R-3-50', 'O', 'O', 'R-2-50', 'O', 'O', 'O', 'O', 'O', 'R-5-50', 'R-4-5', 'R-5-6', 'O', 'O', 'R-5-6', 'R-6-50', 'R-4-6', 'R-5-50', 'R-4-5', 'R-5-50', 'O', 'R-3-50', 'R-4-5', 'O', 'O', 'O', 'O', 'R-1-50', 'R-2-4', 'R-4-50', 'O', 'O', 'O', 'R-5-50', 'R-5-6', 'R-6-50', 'R-5-50', 'R-5-4', 'O', 'O', 'O', 'O', 'O', 'O', 'O', 'R-12-3', 'O', 'O', 'O', 'R-5-50', 'R-5-50', 'R-4-5', 'R-4-5', 'R-5-50', 'O', 'O', 'R-5-50', 'R-5-4', 'R-5-4', 'R-2-5', 'R-3-50', 'O', 'O', 'O', 'O', 'O', 'O', 'R-2-50', 'O', 'R-2-50', 'R-1-2', 'R-1-2', 'R-2-5', 'R-12-2', 'O', 'O', 'R-5-50', 'R-2-5', 'O', 'O', 'O', 'O', 'R-5-50', 'R-5-6', 'O', 'O', 'O', 'R-1-50', 'O', 'O', 'O', 'O', 'O', 'O', 'O', 'O', 'R-1-50', 'O', 'R-4-50', 'R-2-3', 'R-3-4', 'R-3-4', 'R-1-2', 'O', 'O', 'R-2-50', 'R-2-50', 'R-5-6', 'R-6-50', 'R-5-6', 'R-2-5', 'R-6-50', 'R-5-50', 'O', 'O', 'O', 'O', 'O', 'O', 'O', 'O', 'O', 'O', 'O', 'O', 'O', 'R-5-50', 'R-3-50', 'R-3-4', 'O', 'O', 'R-3-50', 'R-5-6', 'R-6-50', 'O', 'R-5-6', 'R-6-50', 'R-6-50', 'O', 'O', 'O', 'R-3-50', 'R-5-50', 'R-3-50', 'R-2-50', 'O', 'R-3-50', 'R-2-50', 'O', 'R-2-3', 'O', 'R-5-6', 'O', 'R-5-4', 'R-3-4', 'R-4-6', 'O', 'O', 'R-3-4', 'R-4-5', 'R-4-50', 'O', 'O', 'R-6-50', 'R-5-6', 'O', 'R-5-50', 'R-4-5', 'R-5-6', 'R-6-50', 'R-5-6', 'R-5-50', 'O', 'O', 'O', 'O', 'O', 'O', 'R-1-2', 'R-3-6', 'R-6-50', 'O', 'O', 'O', 'O', 'O', 'O', 'R-2-50', 'O', 'O', 'O', 'O', 'O', 'O', 'O', 'O', 'O', 'O', 'O', 'R-11-12', 'R-12-3', 'R-4-5', 'R-5-6', 'O', 'O', 'O', 'O', 'R-2-50', 'R-3-50', 'O', 'O', 'O', 'R-3-4', 'R-5-50', 'R-5-50', 'R-5-6', 'R-6-50', 'R-5-50', 'O', 'R-11-50', 'R-5-50', 'R-1-50', 'R-1-50', 'R-1-50', 'R-11-50', 'R-5-50', 'R-5-50', 'R-11-50', 'R-11-50', 'O', 'O', 'O', 'O', 'O', 'O', 'R-1-2', 'R-1-50', 'R-2-50', 'O', 'O', 'O', 'R-5-6', 'R-6-50', 'O', 'O', 'O', 'R-5-50', 'R-5-6', 'R-6-50', 'R-5-6', 'R-5-50', 'R-5-50', 'R-3-50', 'R-3-4', 'O', 'R-1-50', 'R-1-2', 'O', 'O', 'O', 'R-3-50', 'R-2-50', 'R-2-50', 'R-6-50', 'O', 'R-1-2', 'O', 'O', 'O', 'R-1-2', 'R-2-50', 'R-2-3', 'R-12-3', 'R-5-6', 'R-6-50', 'O', 'O', 'O', 'O', 'O', 'O', 'R-3-4', 'O', 'O', 'O', 'R-5-50', 'R-5-6', 'R-6-50', 'R-5-6', 'O', 'O', 'O', 'O', 'O', 'R-1-50', 'R-5-50', 'R-5-50', 'R-3-5', 'R-4-5', 'O', 'O', 'R-5-6', 'R-6-50', 'O', 'R-5-50', 'R-1-50', 'R-1-2', 'R-1-2', 'O', 'R-2-3', 'R-3-4', 'O', 'R-5-50', 'R-1-50', 'R-2-5', 'O', 'O', 'O', 'O', 'O', 'O', 'O', 'O', 'O', 'O', 'O', 'R-3-50', 'R-1-3', 'R-2-3', 'O', 'R-1-2', 'R-1-3', 'R-1-2', 'R-6-5', 'R-5-50', 'R-6-50', 'R-4-6', 'R-1-2', 'R-1-3', 'R-2-50', 'O', 'R-5-6', 'R-6-50', 'O', 'R-5-50', 'R-2-5', 'R-2-3', 'R-1-2', 'R-1-50', 'O', 'R-1-50', 'R-3-50', 'R-5-50', 'O', 'R-1-50', 'R-3-50', 'R-5-50', 'R-1-50', 'R-3-50', 'R-1-2', 'R-2-3', 'R-3-50', 'R-5-50', 'R-3-50', 'R-2-3', 'R-3-4', 'R-5-50', 'R-5-4', 'R-4-6', 'R-5-6', 'R-5-6', 'R-5-50', 'R-5-6', 'O', 'O', 'O', 'O', 'R-1-2', 'R-1-2', 'R-1-50', 'R-2-50', 'R-2-50', 'O', 'R-2-50', 'R-3-50', 'O', 'O', 'O', 'O', 'R-6-50', 'R-5-50', 'O', 'O', 'O', 'O', 'O', 'O', 'R-2-3', 'R-1-2', 'R-1-2', 'R-2-3', 'R-3-5', 'R-4-5', 'O', 'O', 'O', 'R-5-6', 'R-6-50', 'O', 'O', 'O', 'O', 'O', 'O', 'O', 'O', 'R-4-5', 'R-5-6', 'O', 'O', 'O', 'O', 'O', 'R-4-5', 'O', 'R-2-50', 'R-1-2', 'R-1-2', 'R-5-6', 'R-6-50', 'R-1-50', 'R-2-50', 'R-5-50', 'R-5-50', 'R-5-50', 'O', 'O', 'R-1-50', 'R-1-3', 'R-1-2', 'R-3-4', 'R-4-6', 'R-5-50', 'O', 'R-5-6', 'R-6-50', 'O', 'O', 'O', 'O', 'R-2-50', 'O', 'O', 'O', 'O', 'R-1-50', 'R-3-4', 'R-1-3', 'R-2-3', 'R-1-2', 'R-2-50', 'R-3-5', 'R-3-4', 'R-5-6', 'R-5-6', 'O', 'O', 'O', 'O', 'O', 'O', 'O', 'O', 'O', 'O', 'R-11-12', 'R-12-3', 'R-11-12', 'R-11-12', 'R-12-3', 'O', 'O', 'R-5-6', 'R-4-5', 'R-5-6', 'O', 'O', 'O', 'R-5-6', 'R-6-50', 'R-5-6', 'O', 'R-2-50', 'R-2-3', 'O', 'O', 'O', 'O', 'R-2-50', 'R-1-2', 'O', 'R-1-2', 'R-1-2', 'R-1-2', 'R-2-50', 'O', 'R-11-12', 'R-11-12', 'R-12-3', 'R-1-50', 'R-1-50', 'O', 'O', 'O', 'O', 'R-12-3', 'O', 'R-3-4', 'O', 'R-2-50', 'R-2-50', 'R-3-50', 'O', 'R-3-4', 'O', 'R-2-50', 'R-5-6', 'R-4-5', 'R-5-6', 'R-6-50', 'O', 'O', 'O', 'R-1-2', 'O', 'R-1-2', 'R-1-50', 'R-1-2', 'R-11-12', 'R-12-3', 'O', 'O', 'O', 'O', 'O', 'O', 'O', 'O', 'O', 'O', 'O', 'O', 'O', 'O', 'O', 'O', 'R-3-50', 'R-1-3', 'O', 'O', 'O', 'O', 'O', 'O', 'R-6-50', 'R-2-50', 'R-1-50', 'R-2-50', 'O', 'O', 'R-2-50', 'R-1-2', 'R-1-2', 'R-2-50', 'O', 'R-1-2', 'R-5-50', 'R-5-6', 'R-6-50', 'O', 'O', 'R-3-50', 'O', 'R-2-50', 'R-1-2', 'O', 'R-5-50', 'R-12-3', 'O', 'O', 'O', 'O', 'O', 'O', 'O', 'O', 'O', 'O', 'R-2-50', 'O', 'O', 'O', 'O', 'O', 'R-2-50', 'O', 'R-3-4', 'R-3-6', 'R-5-6', 'R-6-50', 'O', 'R-5-6', 'R-2-50', 'R-4-50', 'O', 'R-4-6', 'R-6-50', 'R-2-50', 'R-2-50', 'R-1-2', 'O', 'R-5-50', 'O', 'O', 'O', 'R-1-2', 'O', 'R-2-50', 'R-2-3', 'R-3-4', 'O', 'R-3-4', 'R-4-6', 'R-6-50', 'O', 'O', 'O', 'O', 'O', 'O', 'R-11-12', 'R-12-3', 'O', 'O', 'O', 'O', 'O', 'O', 'O', 'R-1-50', 'O', 'O', 'O', 'R-1-50', 'R-5-50', 'R-11-12', 'R-12-3', 'R-3-5', 'R-5-6', 'R-5-6', 'R-6-50', 'R-2-4', 'R-4-5', 'R-5-50', 'R-5-5', 'O', 'R-1-50', 'R-1-50', 'R-2-50', 'R-2-3', 'R-3-4', 'R-4-50', 'O', 'R-1-50', 'R-1-2', 'R-1-2', 'O', 'O', 'O', 'O', 'O', 'O', 'O', 'O', 'O', 'O', 'R-5-50', 'O', 'R-4-5', 'R-2-4', 'R-2-4', 'O', 'O', 'O', 'R-5-50', 'R-5-50', 'R-5-50', 'O', 'O', 'O', 'R-1-50', 'O', 'R-1-50', 'R-11-50', 'R-1-2', 'R-2-5', 'R-2-5', 'R-5-6', 'R-1-50', 'R-12-3', 'O', 'O', 'R-1-50', 'O', 'O', 'R-11-50', 'R-5-50', 'R-1-50', 'R-3-50', 'R-2-50', 'R-1-50', 'O', 'O', 'O', 'O', 'R-3-50', 'R-3-4', 'O', 'R-5-50', 'R-5-4', 'R-5-4', 'R-5-50', 'O', 'O', 'O', 'R-1-50', 'R-2-50', 'R-2-4', 'O', 'R-3-4', 'O', 'O', 'O', 'O', 'O', 'O', 'R-5-50', 'R-5-6', 'O', 'O', 'O', 'O', 'O', 'R-5-6', 'R-6-50', 'O', 'R-5-6', 'R-5-50', 'R-5-50', 'O', 'R-4-5', 'O', 'O', 'O', 'O', 'O', 'O', 'O', 'O', 'O', 'O', 'O', 'O', 'O', 'R-2-50', 'O', 'O', 'R-3-4', 'R-4-5', 'O', 'O', 'O', 'O', 'R-4-5', 'R-5-6', 'R-1-50', 'R-2-50', 'R-1-2', 'R-1-2', 'R-1-2', 'O', 'O', 'O', 'O', 'O', 'R-12-3', 'O', 'R-12-3', 'O', 'O', 'O', 'O', 'O', 'R-3-50', 'R-3-50', 'O', 'R-1-2', 'R-2-3', 'O', 'O', 'O', 'O', 'O', 'R-1-50', 'R-1-4', 'R-2-4', 'R-1-2', 'R-5-50', 'O', 'R-12-3', 'R-11-12', 'R-5-50', 'O', 'R-3-50', 'O', 'R-3-4', 'O', 'R-5-50', 'R-5-6', 'R-6-50', 'R-5-50', 'R-3-50', 'O', 'O', 'O', 'O', 'O', 'O', 'O', 'O', 'R-12-3', 'R-11-12', 'R-12-12', 'O', 'O', 'R-4-5', 'R-5-6', 'O', 'O', 'O', 'R-5-6', 'O', 'O', 'O', 'O', 'O', 'O', 'O', 'O', 'R-4-5', 'R-5-6', 'O', 'O', 'R-5-6', 'R-6-50', 'R-1-50', 'R-1-2', 'R-2-50', 'R-1-50', 'R-2-3', 'R-3-4', 'R-6-50', 'R-11-3', 'R-3-5', 'R-3-50', 'O', 'R-2-3', 'R-3-4', 'R-12-3', 'O', 'O', 'R-2-50', 'R-1-50', 'R-5-50', 'R-3-4', 'R-5-50', 'O', 'O', 'R-1-50', 'R-3-50', 'R-2-50', 'R-1-50', 'R-1-2', 'R-1-3', 'O', 'O', 'O', 'O', 'O', 'O', 'O', 'R-5-50', 'R-5-6', 'R-6-50', 'O', 'R-1-2', 'R-2-50', 'O', 'O', 'O', 'O', 'O', 'O', 'O', 'O', 'O', 'O', 'O', 'O', 'O', 'R-1-50', 'R-5-50', 'R-11-50', 'R-1-50', 'R-11-50', 'R-5-50', 'O', 'R-2-50', 'R-11-12', 'R-2-50', 'R-12-2', 'R-12-3', 'R-12-5', 'O', 'R-1-5', 'O', 'R-1-2', 'R-11-5', 'R-2-5', 'R-5-50', 'R-5-50', 'O', 'R-6-50', 'O', 'R-11-50', 'R-1-50', 'R-5-50', 'O', 'O', 'O', 'O', 'O', 'O', 'O', 'R-3-50', 'R-3-50', 'O', 'O', 'O', 'O', 'O', 'O', 'O', 'O', 'R-2-50', 'R-2-50', 'R-12-50', 'R-5-50', 'R-5-50', 'R-1-50', 'O', 'O', 'O', 'O', 'R-5-50', 'O', 'O', 'R-5-6', 'R-6-50', 'R-5-50', 'R-5-6', 'O', 'O', 'O', 'O', 'O', 'O', 'R-1-2', 'R-1-2', 'R-1-2', 'O', 'O', 'R-2-5', 'R-4-5', 'O', 'R-5-6', 'R-6-50', 'O', 'O', 'O', 'O', 'O', 'O', 'O', 'O', 'O', 'O', 'O', 'O', 'R-4-5', 'O', 'O', 'O', 'O', 'R-5-6', 'R-6-50', 'R-5-50', 'R-11-50', 'R-1-50', 'R-1-50', 'R-1-50', 'R-11-50', 'R-11-12', 'R-12-3', 'R-11-50', 'R-5-50', 'R-5-50', 'R-5-50', 'R-11-50', 'R-1-50', 'O', 'R-2-50', 'O', 'O', 'O', 'O', 'O', 'O', 'O', 'O', 'O', 'R-4-5', 'R-5-50', 'R-5-6', 'R-6-50', 'O', 'O', 'O', 'O', 'O', 'O', 'O', 'O', 'O', 'O', 'O', 'O', 'R-5-50', 'R-5-6', 'R-6-50', 'R-4-5', 'R-5-6', 'R-5-50', 'O', 'O', 'O', 'R-3-50', 'R-5-50', 'R-3-4', 'R-3-4', 'R-4-6', 'R-3-50', 'R-3-4', 'R-5-50', 'R-5-6', 'R-6-50', 'R-6-50', 'O', 'O', 'R-2-3', 'R-1-3', 'R-3-4', 'O', 'R-3-4', 'R-3-6', 'R-2-5', 'R-5-50', 'R-5-6', 'R-4-5', 'R-5-6', 'O', 'R-5-6', 'R-6-50', 'R-5-6', 'R-5-50', 'R-2-50', 'R-3-50', 'R-2-3', 'R-3-4', 'R-2-5', 'O', 'R-6-50', 'R-2-50', 'R-5-50', 'R-5-50', 'R-5-50', 'R-5-50', 'R-1-50', 'R-1-50', 'R-1-50', 'R-3-50', 'R-2-50', 'R-5-50', 'O', 'O', 'O', 'R-3-50', 'R-12-3', 'R-2-3', 'R-11-12', 'R-4-6', 'O', 'O', 'R-1-50', 'R-1-2', 'R-2-3', 'R-2-4', 'R-4-5', 'R-5-6', 'R-5-6', 'R-6-50', 'R-5-50', 'O', 'O', 'O', 'R-5-50', 'R-5-6', 'O', 'R-5-50', 'R-5-6', 'R-6-50', 'R-1-50', 'R-2-50', 'R-4-50', 'R-1-2', 'R-1-50', 'R-4-5', 'O', 'R-5-6', 'O', 'O', 'O', 'O', 'O', 'R-5-50', 'R-11-50', 'R-2-50', 'R-1-2', 'R-11-3', 'R-3-50', 'R-1-2', 'R-2-3', 'R-3-4', 'R-4-50', 'R-5-6', 'R-6-50', 'O', 'R-2-50', 'R-3-50', 'O', 'R-1-50', 'R-2-50', 'R-1-2', 'R-1-50', 'R-11-12', 'R-12-50', 'R-11-12', 'R-12-3', 'R-11-50', 'R-5-4', 'R-5-4', 'R-6-50', 'R-5-50', 'R-2-50', 'R-2-50', 'O', 'O', 'O', 'O', 'O', 'O', 'O', 'R-11-12', 'R-12-3', 'O', 'O', 'R-11-50', 'R-11-12', 'R-12-3', 'R-11-50', 'R-11-50', 'R-5-50', 'R-5-50', 'R-6-50', 'O', 'O', 'R-1-2', 'R-1-2', 'R-1-2', 'R-1-50', 'O', 'O', 'O', 'O', 'O', 'O', 'O', 'O', 'O', 'R-2-50', 'R-5-50', 'R-6-50', 'R-5-6', 'R-1-2', 'R-2-50', 'O', 'O', 'O', 'O', 'O', 'R-3-50', 'R-3-50', 'R-1-3', 'R-1-50', 'R-12-3', 'R-3-4', 'O', 'O', 'O', 'R-1-2', 'R-1-2', 'O', 'O', 'R-2-5', 'R-4-5', 'R-4-5', 'O', 'R-5-6', 'R-6-50', 'R-2-50', 'R-50-2', 'R-1-2', 'R-50-2', 'R-2-3', 'R-1-3', 'R-1-2', 'R-2-50', 'R-3-50', 'O', 'O', 'O', 'R-4-5', 'R-3-4', 'R-5-6', 'R-6-50', 'O', 'R-2-3', 'R-1-2', 'R-3-4', 'R-4-6', 'R-6-50', 'O', 'O', 'O', 'O', 'O', 'O', 'O', 'O', 'R-1-2', 'O', 'R-1-50', 'O', 'O', 'O', 'R-12-3', 'R-11-12', 'R-11-12', 'R-12-3', 'R-5-6', 'R-5-50', 'R-5-6', 'O', 'R-5-50', 'R-5-50', 'O', 'O', 'O', 'O', 'O', 'O', 'O', 'R-1-2', 'R-2-2', 'O', 'O', 'R-3-4', 'R-11-12', 'R-12-3', 'R-4-5', 'O', 'O', 'O', 'O', 'O', 'O', 'O', 'O', 'O', 'R-1-50', 'R-6-50', 'O', 'O', 'O', 'O', 'R-1-2', 'R-2-50', 'R-2-50', 'O', 'R-3-4', 'R-11-12', 'R-12-3', 'O', 'R-4-5', 'R-5-6', 'R-5-6', 'R-6-50', 'O', 'O', 'O', 'O', 'O', 'O', 'R-4-5', 'R-5-6', 'O', 'O', 'O', 'O', 'O', 'O', 'O', 'O', 'O', 'R-2-50', 'R-2-3', 'R-3-4', 'R-1-2', 'R-1-50', 'R-2-3', 'O', 'R-11-12', 'R-12-3', 'R-11-50', 'R-11-4', 'R-6-50', 'R-4-50', 'O', 'O', 'O', 'O', 'R-5-50', 'R-5-50', 'R-5-50', 'O', 'O', 'R-2-50', 'O', 'R-5-50', 'R-2-3', 'R-3-4', 'R-3-50', 'R-2-4', 'R-5-50', 'O', 'O', 'O', 'R-2-50', 'R-1-2', 'O', 'R-2-4', 'R-4-5', 'R-5-6', 'R-1-50', 'R-3-50', 'R-1-3', 'R-11-50', 'O', 'O', 'R-2-50', 'O', 'O', 'O', 'O', 'O', 'O', 'O', 'R-2-50', 'O', 'O', 'O', 'O', 'R-2-4', 'R-2-50', 'R-5-6', 'R-6-50', 'O', 'R-5-50', 'O', 'R-1-2', 'R-1-2', 'O', 'O', 'R-12-3', 'O', 'O', 'R-5-50', 'R-1-50', 'R-2-5', 'R-5-50', 'R-4-50', 'R-2-4', 'R-5-6', 'R-6-50', 'R-1-50', 'R-3-50', 'R-3-50', 'R-2-3', 'O', 'R-2-50', 'R-1-50', 'O', 'O', 'O', 'O', 'O', 'O', 'O', 'O', 'R-6-50', 'O', 'O', 'O', 'R-2-50', 'R-1-2', 'O', 'O', 'R-12-3', 'O', 'R-5-50', 'R-5-6', 'R-6-50', 'R-4-5', 'R-5-50', 'O', 'R-1-50', 'R-1-2', 'R-1-2', 'R-2-3', 'R-5-50', 'R-4-5', 'R-5-6', 'R-6-50', 'O', 'O', 'O', 'O', 'O', 'O', 'R-4-5', 'O', 'O', 'R-3-50', 'R-3-50', 'R-3-50', 'R-12-3', 'R-11-50', 'R-2-50', 'R-1-2', 'R-5-50', 'R-4-50', 'O', 'O', 'O', 'O', 'O', 'R-3-4', 'O', 'R-6-4', 'R-6-50', 'R-6-50', 'O', 'O', 'O', 'O', 'R-1-2', 'O', 'R-5-50', 'O', 'R-5-50', 'O', 'R-1-2', 'R-2-50', 'R-2-5', 'O', 'R-11-12', 'R-12-3', 'O', 'R-5-50', 'R-6-50', 'R-5-6', 'O', 'R-2-50', 'R-1-50', 'R-1-50', 'R-2-50', 'R-5-50', 'O', 'O', 'R-1-2', 'O', 'O', 'R-3-50', 'R-5-50', 'R-1-50', 'R-2-50', 'R-2-50', 'R-1-2', 'O', 'O', 'O', 'R-2-50', 'R-3-4', 'R-5-50', 'R-3-5', 'R-6-50', 'R-2-50', 'R-2-3', 'O', 'R-3-4', 'R-3-6', 'R-6-5', 'R-5-50', 'R-5-50', 'R-5-50', 'R-5-50', 'O', 'R-5-6', 'R-6-50', 'R-5-6', 'O', 'R-2-50', 'R-2-50', 'R-2-50', 'R-3-50', 'R-3-4', 'R-3-50', 'R-11-3', 'O', 'R-5-50', 'R-3-50', 'O', 'R-3-4', 'O', 'O', 'O', 'O', 'O', 'R-5-4', 'R-5-6', 'R-6-50', 'R-5-50', 'O', 'O', 'O', 'O', 'O', 'O', 'O', 'O', 'O', 'O', 'O', 'O', 'O', 'O', 'O', 'R-12-3', 'O', 'O', 'O', 'O', 'O', 'O', 'R-4-5', 'R-5-6', 'R-2-3', 'R-3-50', 'R-2-3', 'R-5-50', 'R-2-5', 'R-5-50', 'O', 'R-2-3', 'R-2-5', 'O', 'O', 'O', 'O', 'O', 'O', 'O', 'O', 'O', 'O', 'O', 'R-2-50', 'R-2-50', 'O', 'R-11-3', 'R-3-50', 'R-1-2', 'R-5-50', 'O', 'O', 'O', 'O', 'O', 'O', 'O', 'R-1-2', 'O', 'R-1-2', 'O', 'O', 'O', 'O', 'O', 'O', 'O', 'O', 'R-2-3', 'O', 'O', 'O', 'R-4-5', 'R-4-6', 'O', 'R-4-6', 'R-6-50', 'R-6-50', 'R-5-50', 'R-5-50', 'R-3-50', 'R-5-50', 'R-3-50', 'O', 'O', 'O', 'O', 'O', 'O', 'O', 'O', 'R-1-50', 'O', 'O', 'O', 'O', 'O', 'O', 'O', 'O', 'R-11-12', 'R-11-12', 'R-12-3', 'R-11-12', 'R-12-3', 'R-5-50', 'O', 'R-4-5', 'O', 'R-1-50', 'R-1-50', 'O', 'O', 'O', 'O', 'O', 'O', 'O', 'O', 'R-2-50', 'R-1-2', 'R-2-5', 'R-4-5', 'O', 'O', 'R-5-6', 'R-6-50', 'R-5-6', 'R-2-50', 'R-2-50', 'R-1-2', 'O', 'O', 'R-2-5', 'R-5-6', 'R-6-50', 'O', 'R-3-6', 'R-5-50', 'R-3-50', 'O', 'R-3-50', 'R-2-3', 'R-2-5', 'O', 'O', 'O', 'O', 'R-5-4', 'R-2-4', 'O', 'O', 'O', 'O', 'O', 'R-1-50', 'R-2-50', 'R-1-2', 'R-1-5', 'R-1-2', 'R-2-3', 'R-3-50', 'R-1-2', 'O', 'R-12-3', 'R-11-12', 'R-12-3', 'R-11-12', 'R-12-3', 'R-5-50', 'R-4-5', 'O', 'R-5-6', 'R-6-50', 'R-5-50', 'R-5-50', 'R-5-6', 'R-6-50', 'O', 'O', 'O', 'O', 'O', 'O', 'R-1-2', 'O', 'R-3-50', 'R-2-50', 'R-2-50', 'R-1-50', 'O', 'R-11-12', 'R-11-12', 'R-12-3', 'R-6-50', 'R-4-6', 'R-5-4', 'R-5-50', 'O', 'O', 'O', 'O', 'O', 'R-1-2', 'R-5-50', 'R-6-50', 'O', 'O', 'O', 'O', 'O', 'O', 'O', 'O', 'O', 'O', 'O', 'O', 'O', 'O', 'R-5-50', 'R-4-5', 'R-5-6', 'R-6-50', 'O', 'R-12-3', 'O', 'R-5-6', 'R-6-50', 'O', 'O', 'O', 'O', 'O', 'O', 'O', 'O', 'R-5-50', 'R-2-50', 'R-4-50', 'O', 'O', 'R-1-2', 'R-2-2', 'O', 'O', 'R-5-6', 'R-6-50', 'R-5-50', 'R-5-50', 'O', 'R-2-5', 'R-5-50', 'R-2-5', 'O', 'R-1-50', 'R-1-2', 'R-1-2', 'R-1-50', 'O', 'O', 'R-1-50', 'R-2-50', 'R-2-50', 'R-1-2', 'R-2-50', 'R-2-50', 'R-5-50', 'R-2-50', 'R-1-50', 'O', 'O', 'O', 'O', 'R-2-50', 'R-1-2', 'O', 'O', 'O', 'O', 'O', 'O', 'R-2-50', 'R-1-50', 'O', 'R-1-2', 'R-1-2', 'R-1-2', 'R-2-50', 'R-5-50', 'O', 'R-5-4', 'R-4-6', 'R-5-6', 'R-6-50', 'R-5-50', 'R-5-50', 'R-4-5', 'O', 'O', 'R-2-50', 'O', 'R-3-50', 'R-3-4', 'R-2-3', 'R-2-3', 'R-1-3', 'R-1-2', 'R-2-50', 'R-5-50', 'R-5-4', 'R-4-50', 'R-4-50', 'R-4-5', 'R-6-50', 'R-3-50', 'R-2-3', 'O', 'R-3-50', 'R-1-50', 'R-5-50', 'R-3-50', 'R-1-50', 'R-5-50', 'R-1-2', 'R-3-4', 'R-5-6', 'R-6-50', 'R-5-50', 'R-3-50', 'R-1-50', 'O', 'O', 'O', 'O', 'O', 'R-4-5', 'R-5-6', 'R-5-4', 'R-3-4', 'R-3-4', 'R-4-50', 'O', 'O', 'O', 'O', 'O', 'O', 'O', 'O', 'R-1-2', 'R-2-3', 'R-3-50', 'R-3-50', 'O', 'O', 'O', 'R-3-5', 'R-3-5', 'R-2-5', 'O', 'R-2-3', 'R-3-50', 'R-3-5', 'R-11-50', 'O', 'R-11-50', 'R-2-50', 'O', 'O', 'R-1-50', 'R-1-50', 'R-5-50', 'R-1-50', 'R-1-50', 'R-5-50', 'R-5-50', 'R-5-50', 'R-1-50', 'R-5-50', 'R-2-50', 'R-1-2', 'R-2-50', 'R-2-50', 'O', 'R-1-2', 'R-2-3', 'R-3-4', 'R-3-50', 'R-11-12', 'R-12-50', 'R-1-5', 'R-5-50', 'R-5-6', 'R-6-50', 'R-3-50', 'R-1-50', 'O', 'R-2-3', 'R-1-50', 'R-11-12', 'R-12-3', 'R-11-12', 'R-12-3', 'R-5-6', 'R-6-50', 'O', 'R-50-2', 'R-2-4', 'R-3-50', 'R-3-4', 'O', 'O', 'O', 'O', 'R-5-50', 'R-4-5', 'O', 'O', 'R-5-6', 'R-5-50', 'R-5-50', 'R-5-50', 'O', 'O', 'R-1-2', 'R-2-50', 'R-5-50', 'O', 'R-11-12', 'R-12-2', 'O', 'R-5-50', 'O', 'O', 'O', 'O', 'O', 'O', 'O', 'R-2-50', 'R-3-50', 'R-3-50', 'R-2-3', 'R-1-2', 'O', 'O', 'O', 'O', 'R-12-3', 'R-11-12', 'R-12-3', 'O', 'O', 'O', 'O', 'O', 'R-5-50', 'O', 'O', 'R-12-3', 'O', 'O', 'O', 'R-12-3', 'O', 'O', 'O', 'O', 'O', 'O', 'O', 'O', 'R-1-50', 'R-1-2', 'R-1-2', 'R-2-3', 'R-3-50', 'R-5-50', 'R-5-50', 'R-4-5', 'R-2-4', 'R-6-50', 'R-5-6', 'R-5-50', 'O', 'O', 'R-1-50', 'R-2-50', 'R-5-50', 'O', 'R-1-50', 'R-2-50', 'R-5-50', 'R-1-2', 'O', 'R-1-2', 'R-2-3', 'R-3-50', 'R-5-50', 'O', 'O', 'O', 'R-6-50', 'R-5-50', 'O', 'R-3-4', 'R-2-3', 'R-4-6', 'R-5-6', 'R-5-6', 'R-6-50', 'O', 'O', 'O', 'O', 'O', 'O', 'O', 'O', 'O', 'R-5-50', 'O', 'O', 'R-1-50', 'O', 'O', 'O', 'O', 'O', 'O', 'O', 'O', 'O', 'R-1-2', 'R-1-2', 'O', 'O', 'O', 'O', 'O', 'R-1-50', 'R-1-2', 'R-2-3', 'R-5-50', 'R-5-6', 'R-6-50', 'R-5-50', 'O', 'O', 'R-2-50', 'R-5-50', 'O', 'O', 'O', 'O', 'R-2-50', 'R-3-50', 'R-3-4', 'R-4-5', 'R-5-6', 'R-3-50', 'R-2-50', 'O', 'O', 'O', 'O', 'O', 'O', 'O', 'O', 'R-5-50', 'R-6-50', 'R-6-5', 'R-3-5', 'R-3-4', 'O', 'R-1-50', 'O', 'O', 'O', 'O', 'R-3-50', 'O', 'O', 'R-6-50', 'R-5-50', 'R-4-5', 'R-3-50', 'O', 'O', 'R-5-50', 'O', 'O', 'O', 'O', 'R-1-2', 'O', 'O', 'R-4-5', 'R-2-4', 'R-5-50', 'R-5-6', 'R-6-50', 'O', 'O', 'O', 'O', 'O', 'R-5-50', 'R-11-50', 'R-2-50', 'R-1-50', 'R-5-50', 'R-11-50', 'R-2-50', 'R-1-50', 'R-1-50', 'O', 'R-11-50', 'R-5-50', 'R-5-50', 'R-5-50', 'R-5-50', 'O', 'O', 'O', 'O', 'O', 'R-5-6', 'R-6-50', 'O', 'O', 'O', 'R-5-50', 'R-5-50', 'O', 'O', 'O', 'O', 'O', 'O', 'O', 'O', 'R-2-5', 'R-5-50', 'R-1-3', 'R-1-2', 'R-1-3', 'R-1-2', 'R-2-3', 'O', 'O', 'O', 'O', 'R-11-50', 'R-1-50', 'R-1-50', 'R-1-2', 'R-3-50', 'O', 'R-11-12', 'R-11-12', 'R-12-3', 'R-3-50', 'R-2-3', 'R-3-50', 'R-3-4', 'O', 'R-5-50', 'R-4-6', 'O', 'O', 'O', 'R-2-50', 'O', 'O', 'O', 'O', 'O', 'O', 'O', 'O', 'R-12-3', 'R-4-5', 'R-5-6', 'O', 'O', 'O', 'O', 'O', 'R-1-2', 'R-2-50', 'R-1-50', 'R-2-50', 'R-5-50', 'R-5-6', 'R-5-50', 'O', 'R-2-50', 'O', 'R-2-50', 'R-2-3', 'R-3-4', 'O', 'R-11-12', 'R-12-2', 'R-1-50', 'R-1-2', 'R-2-50', 'O', 'O', 'R-5-50', 'R-3-50', 'R-1-50', 'R-5-6', 'R-6-50', 'O', 'R-5-50', 'R-3-4', 'O', 'R-1-2', 'R-2-50', 'R-2-3', 'R-3-4', 'R-1-50', 'O', 'O', 'R-1-2', 'R-1-2', 'R-2-50', 'R-3-4', 'R-4-50', 'R-4-50', 'R-11-12', 'R-12-3', 'O', 'R-5-6', 'R-6-50', 'R-6-50', 'O', 'O', 'O', 'O', 'R-2-50', 'O', 'R-3-5', 'O', 'R-5-6', 'R-6-50', 'O', 'O', 'O', 'O', 'O', 'R-1-50', 'R-1-2', 'R-2-50', 'O', 'O', 'O', 'R-5-50', 'O', 'O', 'O', 'R-5-50', 'R-5-6', 'R-6-50', 'R-2-3', 'O', 'O', 'O', 'O', 'R-2-3', 'O', 'R-11-3', 'R-11-3', 'R-11-12', 'R-11-12', 'R-12-3', 'O', 'O', 'R-5-50', 'R-5-50', 'R-5-50', 'R-5-50', 'R-5-50', 'R-1-50', 'R-1-3', 'R-3-4', 'R-1-2', 'R-1-2', 'O', 'O', 'O', 'O', 'O', 'R-4-50', 'R-3-4', 'R-2-50', 'O', 'O', 'O', 'O', 'O', 'O', 'O', 'O', 'O', 'R-12-50', 'R-5-50', 'O', 'O', 'O', 'O', 'O', 'O', 'O', 'O', 'O', 'R-5-50', 'R-5-6', 'R-6-50', 'O', 'O', 'O', 'R-4-5', 'R-2-4', 'R-2-4', 'R-4-50', 'O', 'R-1-50', 'R-1-2', 'R-2-4', 'R-4-50', 'R-1-2', 'O', 'R-6-50', 'R-5-50', 'O', 'O', 'R-2-50', 'R-2-5', 'R-50-5', 'R-5-4', 'R-1-50', 'R-2-50', 'R-1-50', 'R-2-4', 'R-4-50', 'O', 'O', 'O', 'O', 'R-1-50', 'R-1-2', 'R-2-5', 'R-2-5', 'R-5-4', 'R-5-50', 'R-5-50', 'R-1-50', 'R-6-50', 'R-5-50', 'R-1-50', 'R-5-50', 'R-3-50', 'R-1-50', 'R-5-50', 'R-3-50', 'R-3-50', 'R-1-50', 'R-5-50', 'R-1-50', 'R-1-2', 'R-1-2', 'O', 'O', 'O', 'R-1-50', 'R-3-50', 'R-1-2', 'R-2-5', 'R-5-50', 'R-6-50', 'R-11-50', 'O', 'O', 'O', 'O', 'O', 'R-1-3', 'R-1-2', 'R-2-50', 'R-3-50', 'R-3-50', 'R-2-50', 'O', 'R-3-4', 'R-5-50', 'O', 'O', 'O', 'R-6-50', 'O', 'O', 'R-3-50', 'R-3-50', 'R-2-3', 'R-2-50', 'R-5-6', 'R-3-6', 'O', 'R-5-50', 'R-5-6', 'R-6-50', 'O', 'O', 'O', 'R-3-50', 'O', 'O', 'O', 'O', 'O', 'O', 'O', 'O', 'O', 'O', 'O', 'O', 'O', 'O', 'R-5-50', 'R-3-5', 'R-5-50', 'R-3-4', 'R-2-3', 'O', 'O', 'O', 'R-5-6', 'R-6-50', 'O', 'R-1-2', 'O', 'O', 'O', 'O', 'O', 'R-4-5', 'R-5-50', 'R-1-2', 'R-2-3', 'R-3-5', 'R-5-50', 'R-3-5', 'O', 'O', 'O', 'O', 'O', 'R-1-50', 'R-2-50', 'R-2-50', 'R-1-2', 'R-2-4', 'R-5-50', 'R-5-6', 'R-6-50', 'O', 'O', 'O', 'R-1-3', 'R-3-4', 'O', 'R-11-50', 'R-5-50', 'R-3-50', 'R-11-50', 'R-2-50', 'R-5-6', 'R-6-50', 'R-5-6', 'R-6-50', 'O', 'O', 'R-11-12', 'R-12-3', 'R-3-50', 'R-2-3', 'O', 'R-11-12', 'R-12-3', 'R-1-2', 'O', 'O', 'R-5-50', 'R-1-50', 'R-1-2', 'R-1-50', 'R-5-6', 'R-4-5', 'R-5-6', 'O', 'O', 'O', 'R-5-50', 'R-5-50', 'O', 'O', 'R-1-50', 'R-1-2', 'O', 'R-1-2', 'R-1-50', 'R-1-2', 'R-2-50', 'R-1-50', 'R-6-50', 'R-5-6', 'R-5-6', 'R-6-50', 'R-4-6', 'R-5-6', 'R-6-50', 'R-6-50', 'O', 'O', 'O', 'R-2-50', 'O', 'O', 'O', 'O', 'O', 'O', 'O', 'O', 'O', 'R-1-2', 'R-5-6', 'R-6-50', 'O', 'O', 'O', 'R-2-50', 'R-1-2', 'R-2-4', 'O', 'O', 'O', 'O', 'R-4-5', 'R-5-6', 'R-2-4', 'O', 'R-5-6', 'R-6-50', 'R-5-6', 'R-5-50', 'R-5-50', 'R-11-12', 'R-12-3', 'O', 'R-11-12', 'R-12-3', 'O', 'O', 'O', 'R-2-50', 'R-5-50', 'O', 'O', 'O', 'R-1-50', 'O', 'O', 'R-1-3', 'O', 'R-3-4', 'O', 'O', 'O', 'O', 'O', 'R-3-50', 'R-2-50', 'R-1-2', 'R-1-50', 'O', 'O', 'O', 'R-1-2', 'R-3-4', 'R-2-3', 'R-3-50', 'O', 'O', 'O', 'O', 'O', 'O', 'R-2-50', 'R-1-2', 'R-1-2', 'O', 'R-3-50', 'R-2-3', 'R-1-5', 'R-5-6', 'O', 'O', 'O', 'O', 'O', 'O', 'O', 'O', 'O', 'O', 'O', 'O', 'O', 'R-12-3', 'O', 'O', 'R-11-12', 'R-12-3', 'O', 'O', 'R-1-3', 'R-1-2', 'R-1-3', 'R-4-5', 'O', 'O', 'O', 'R-6-50', 'R-5-50', 'R-5-50', 'O', 'R-3-50', 'R-1-50', 'R-2-50', 'R-5-50', 'R-1-50', 'R-2-50', 'R-5-50', 'R-3-50', 'R-1-50', 'R-2-50', 'R-1-2', 'R-1-2', 'R-2-50', 'R-5-50', 'R-5-50', 'R-5-50', 'R-5-6', 'R-6-50', 'O', 'R-3-50', 'R-2-3', 'R-5-50', 'R-5-6', 'R-4-5', 'R-5-6', 'R-5-6', 'R-6-50', 'O', 'O', 'O', 'R-5-50', 'R-3-50', 'R-5-50', 'R-3-50', 'O', 'O', 'O', 'O', 'O', 'O', 'O', 'O', 'R-3-50', 'R-2-4', 'R-5-50', 'R-5-6', 'R-6-50', 'R-5-4', 'R-2-3', 'R-3-50', 'O', 'O', 'O', 'O', 'O', 'O', 'O', 'R-3-50', 'R-2-3', 'R-1-50', 'R-1-2', 'R-1-50', 'R-12-3', 'R-11-12', 'R-12-3', 'O', 'R-11-12', 'R-12-3', 'R-11-12', 'R-12-3', 'R-5-50', 'O', 'R-5-50', 'R-5-50', 'O', 'O', 'O', 'R-1-50', 'R-1-2', 'R-2-50', 'R-1-2', 'R-2-50', 'R-3-50', 'O', 'R-3-50', 'R-5-50', 'O', 'O', 'R-5-6', 'R-6-50', 'R-6-50', 'R-5-50', 'R-2-50', 'R-2-50', 'R-5-50', 'O', 'R-1-2', 'O', 'R-2-50', 'O', 'O', 'R-2-5', 'O', 'O', 'O', 'R-2-5', 'O', 'O', 'O', 'R-2-50', 'O', 'O', 'O', 'O', 'R-1-2', 'R-2-50', 'O', 'O', 'R-12-3', 'R-3-4', 'O', 'O', 'R-5-50', 'R-5-50', 'R-5-50', 'O', 'O', 'O', 'O', 'O', 'O', 'O', 'O', 'R-5-6', 'R-6-50', 'O', 'O', 'O', 'O', 'O', 'O', 'O', 'R-5-50', 'R-5-50', 'O', 'O', 'O', 'R-5-50', 'R-4-5', 'O', 'O', 'R-5-50', 'O', 'O', 'O', 'O', 'R-1-50', 'O', 'O', 'R-1-50', 'R-2-3', 'R-3-50', 'R-5-6', 'R-6-50', 'O', 'O', 'O', 'O', 'O', 'O', 'O', 'R-1-50', 'O', 'O', 'O', 'O', 'O', 'O', 'O', 'O', 'O', 'O', 'O', 'R-1-2', 'R-1-2', 'O', 'O', 'R-5-50', 'R-5-6', 'R-6-50', 'R-2-5', 'R-4-5', 'O', 'R-12-3', 'O', 'O', 'O', 'R-2-50', 'R-2-50', 'O', 'R-2-50', 'R-1-50', 'R-5-50', 'R-3-50', 'R-5-50', 'R-4-5', 'O', 'R-6-50', 'R-3-50', 'R-3-50', 'R-12-3', 'R-11-12', 'R-12-3', 'R-11-12', 'R-12-3', 'R-3-50', 'R-1-50', 'R-1-50', 'R-1-2', 'R-2-50', 'O', 'O', 'O', 'O', 'O', 'O', 'O', 'O', 'O', 'R-11-12', 'R-12-3', 'R-4-5', 'R-5-6', 'O', 'O', 'R-5-6', 'R-6-50', 'R-1-50', 'R-5-50', 'R-1-50', 'R-1-3', 'R-3-50', 'R-5-50', 'R-5-50', 'R-5-50', 'R-5-50', 'R-5-50', 'R-1-50', 'O', 'O', 'R-2-50', 'R-2-50', 'O', 'R-5-50', 'O', 'O', 'O', 'O', 'O', 'O', 'R-5-50', 'R-5-50', 'O', 'O', 'O', 'O', 'O', 'R-2-3', 'R-3-4', 'O', 'R-11-12', 'R-12-3', 'R-11-12', 'R-11-12', 'R-12-3', 'R-4-5', 'R-5-6', 'R-6-50', 'O', 'O', 'O', 'R-1-50', 'R-1-2', 'R-2-50', 'R-2-50', 'R-3-50', 'R-11-12', 'R-11-12', 'R-12-3', 'O', 'R-5-6', 'R-6-50', 'R-5-50', 'R-5-50', 'R-1-50', 'R-2-50', 'R-1-50', 'R-5-50', 'R-2-5', 'R-1-2', 'O', 'R-1-50', 'O', 'O', 'O', 'O', 'O', 'O', 'O', 'O', 'O', 'O', 'O', 'R-1-2', 'R-2-50', 'R-2-3', 'R-1-2', 'R-2-3', 'R-3-4', 'R-4-6', 'R-12-3', 'O', 'R-11-12', 'R-12-3', 'R-11-50', 'R-2-50', 'R-1-50', 'O', 'O', 'O', 'O', 'O', 'R-5-50', 'R-5-50', 'R-5-6', 'O', 'O', 'O', 'O', 'O', 'O', 'R-2-50', 'R-2-50', 'O', 'R-1-2', 'R-1-2', 'O', 'R-3-50', 'O', 'O', 'R-2-50', 'O', 'R-3-4', 'O', 'R-6-50', 'R-5-6', 'O', 'O', 'O', 'O', 'R-2-50', 'R-2-4', 'R-4-50', 'O', 'O', 'O', 'R-2-50', 'R-1-2', 'O', 'R-1-5', 'R-5-50', 'R-5-6', 'R-6-50', 'R-2-5', 'O', 'R-1-2', 'O', 'O', 'O', 'O', 'O', 'O', 'O', 'O', 'O', 'O', 'O', 'R-12-3', 'R-11-12', 'R-11-12', 'R-12-3', 'R-4-5', 'R-5-6', 'R-5-6', 'R-6-50', 'R-4-5', 'R-4-5', 'O', 'O', 'O', 'O', 'R-4-5', 'O', 'O', 'O', 'R-12-3', 'O', 'O', 'R-2-50', 'R-2-5', 'R-11-5', 'O', 'O', 'O', 'R-2-50', 'R-1-2', 'O', 'O', 'O', 'R-11-12', 'R-12-2', 'R-5-50', 'R-5-50', 'O', 'O', 'O', 'O', 'O', 'R-1-50', 'R-5-50', 'R-3-50', 'R-1-2', 'R-3-4', 'R-4-5', 'R-5-6', 'R-5-6', 'R-6-50', 'R-5-50', 'R-5-50', 'R-5-50', 'R-1-50', 'O', 'R-5-50', 'R-4-5', 'O', 'R-5-6', 'O', 'O', 'O', 'O', 'O', 'O', 'O', 'O', 'O', 'O', 'O', 'R-12-3', 'O', 'O', 'O', 'O', 'O', 'R-12-3', 'O', 'R-5-50', 'O', 'O', 'O', 'O', 'R-5-6', 'R-6-50', 'O', 'R-5-50', 'O', 'O', 'O', 'R-3-4', 'O', 'R-6-50', 'O', 'O', 'O', 'O', 'O', 'R-1-50', 'R-1-2', 'R-1-2', 'R-1-50', 'R-1-50', 'R-1-2', 'O', 'O', 'R-4-5', 'R-5-6', 'R-5-50', 'R-5-50', 'R-3-50', 'R-3-50', 'R-2-3', 'R-5-50', 'R-2-5', 'O', 'R-12-3', 'O', 'O', 'R-2-50', 'R-1-2', 'R-2-3', 'O', 'R-1-50', 'R-5-50', 'R-5-50', 'R-1-5', 'R-6-50', 'R-5-6', 'O', 'R-5-50', 'R-2-50', 'O', 'O', 'O', 'R-3-4', 'R-11-12', 'O', 'O', 'O', 'O', 'O', 'O', 'O', 'O', 'O', 'R-1-5', 'R-1-2', 'R-2-50', 'R-2-50', 'O', 'R-2-4', 'R-5-50', 'R-6-50', 'O', 'R-2-50', 'O', 'O', 'O', 'O', 'O', 'R-5-50', 'R-5-6', 'O', 'O', 'O', 'O', 'O', 'R-2-50', 'O', 'O', 'R-2-50', 'R-2-5', 'O', 'O', 'O', 'O', 'O', 'O', 'R-2-5', 'O', 'O', 'O', 'O', 'O', 'R-5-50', 'R-2-5', 'R-1-2', 'O', 'O', 'O', 'R-5-50', 'R-5-50', 'O', 'O', 'O', 'R-1-50', 'O', 'R-12-2', 'O', 'O', 'O', 'R-3-50', 'R-5-4', 'R-5-50', 'O', 'R-12-4', 'O', 'O', 'O', 'R-1-50', 'R-2-50', 'O', 'R-3-50', 'O', 'R-11-50', 'R-11-12', 'R-12-3', 'R-1-50', 'R-1-2', 'R-1-2', 'R-2-3', 'R-2-3', 'O', 'R-1-50', 'O', 'O', 'O', 'R-5-6', 'R-6-50', 'R-1-50', 'R-3-50', 'R-3-6', 'R-3-6', 'R-6-50', 'R-5-6', 'R-6-50', 'O', 'O', 'O', 'O', 'O', 'O', 'O', 'O', 'O', 'O', 'O', 'O', 'O', 'O', 'O', 'O', 'O', 'O', 'O', 'O', 'O', 'O', 'O', 'O', 'O', 'R-5-11', 'R-5-11', 'R-2-5', 'R-4-5', 'O', 'R-2-5', 'O', 'O', 'R-2-50', 'O', 'O', 'O', 'O', 'O', 'R-2-50', 'O', 'R-5-50', 'R-5-50', 'O', 'R-3-50', 'R-4-50', 'O', 'O', 'R-2-50', 'O', 'R-4-5', 'R-5-50', 'O', 'R-3-50', 'R-4-6', 'R-6-50', 'R-5-50', 'R-1-3', 'R-1-2', 'R-3-50', 'R-2-50', 'O', 'R-3-4', 'R-4-6', 'O', 'O', 'O', 'O', 'O', 'O', 'O', 'O', 'R-1-50', 'R-1-50', 'R-1-2', 'O', 'R-1-2', 'R-1-2', 'R-1-50', 'R-1-2', 'O', 'O', 'R-2-5', 'O', 'O', 'O', 'R-3-50', 'R-3-5', 'R-3-5', 'R-5-6', 'R-5-50', 'O', 'O', 'R-1-50', 'O', 'O', 'R-1-50', 'R-1-2', 'R-1-50', 'R-3-50', 'O', 'O', 'R-1-2', 'R-2-50', 'O', 'R-5-50', 'R-2-50', 'O', 'R-5-50', 'R-1-50', 'R-2-50', 'R-2-50', 'R-1-50', 'R-1-50', 'R-1-50', 'O', 'O', 'O', 'O', 'O', 'R-1-2', 'R-2-3', 'R-3-4', 'O', 'R-4-5', 'O', 'O', 'R-5-50', 'R-5-6', 'R-6-50', 'R-3-50', 'R-2-3', 'R-3-50', 'R-2-50', 'O', 'O', 'O', 'O', 'O', 'R-11-12', 'R-12-3', 'O', 'R-2-4', 'R-4-5', 'O', 'R-5-6', 'R-6-50', 'R-5-50', 'R-2-50', 'R-1-50', 'R-2-50', 'R-1-50', 'O', 'R-2-50', 'O', 'R-1-50', 'O', 'O', 'O', 'O', 'O', 'O', 'O', 'R-2-50', 'R-1-50', 'O', 'R-2-50', 'R-1-50', 'R-5-6', 'R-5-6', 'R-6-50', 'R-5-6', 'O', 'O', 'O', 'O', 'O', 'O', 'O', 'R-4-5', 'O', 'R-3-50', 'R-2-3', 'O', 'R-3-50', 'O', 'O', 'O', 'O', 'R-3-50', 'R-2-3', 'R-3-50', 'R-1-3', 'R-1-50', 'R-1-2', 'R-1-50', 'R-5-50', 'R-4-5', 'O', 'R-5-50', 'R-3-50', 'R-3-50', 'R-3-4', 'O', 'O', 'R-5-50', 'O', 'R-2-50', 'R-12-2', 'R-1-50', 'R-2-50', 'O', 'R-2-50', 'R-1-2', 'O', 'R-1-2', 'R-1-3', 'R-12-3', 'R-2-5', 'R-5-50', 'R-6-50', 'R-5-50', 'R-3-50', 'R-2-50', 'O', 'O', 'R-4-50', 'O', 'O', 'O', 'R-1-50', 'R-1-50', 'R-1-50', 'R-12-3', 'O', 'R-5-6', 'R-4-5', 'O', 'O', 'O', 'O', 'R-2-5', 'R-5-50', 'R-5-50', 'R-4-5', 'O', 'O', 'O', 'R-1-2', 'O', 'O', 'O', 'O', 'O', 'R-5-4', 'R-5-50', 'O', 'R-5-6', 'R-6-50', 'R-5-50', 'R-1-50', 'R-1-2', 'R-2-50', 'O', 'R-3-50', 'R-4-50', 'R-5-50', 'R-3-50', 'R-1-50', 'O', 'O', 'O', 'R-2-50', 'O', 'R-12-5', 'R-2-50', 'R-5-4', 'R-5-6', 'R-6-50', 'O', 'O', 'O', 'O', 'O', 'R-50-4', 'O', 'O', 'O', 'O', 'O', 'R-2-4', 'R-3-4', 'O', 'R-3-4', 'R-2-3', 'R-2-3', 'R-3-50', 'O', 'R-11-12', 'R-12-3', 'R-11-12', 'O', 'R-3-50', 'R-3-50', 'R-1-50', 'R-1-2', 'R-2-3', 'O', 'R-1-50', 'R-1-2', 'R-2-50', 'R-1-50', 'R-2-50', 'R-5-50', 'R-2-5', 'R-5-50', 'O', 'R-6-50', 'O', 'R-11-3', 'O', 'O', 'O', 'O', 'O', 'O', 'O', 'O', 'R-11-12', 'R-12-3', 'R-5-50', 'R-4-5', 'R-5-6', 'R-6-50', 'R-5-50', 'O', 'R-1-2', 'O', 'O', 'O', 'O', 'O', 'O', 'O', 'O', 'O', 'O', 'R-1-2', 'R-2-50', 'R-1-3', 'R-3-50', 'R-1-2', 'R-2-3', 'O', 'R-5-6', 'R-6-50', 'O', 'O', 'O', 'R-12-3', 'R-3-4', 'R-1-2', 'R-1-50', 'R-5-6', 'R-6-50', 'O', 'O', 'R-2-50', 'R-2-50', 'O', 'R-1-2', 'R-2-50', 'R-1-50', 'O', 'R-11-12', 'R-12-3', 'R-3-50', 'R-2-50', 'R-1-2', 'R-1-2', 'R-2-50', 'R-2-50', 'R-2-50', 'O', 'R-5-50', 'R-5-4', 'R-4-6', 'O', 'R-3-4', 'R-3-50', 'O', 'R-3-4', 'R-6-3', 'R-1-50', 'R-2-50', 'R-1-2', 'R-1-50', 'O', 'O', 'O', 'O', 'R-2-50', 'R-3-50', 'R-3-6', 'R-3-4', 'R-1-2', 'R-2-50', 'O', 'O', 'O', 'O', 'O', 'O', 'O', 'O', 'O', 'O', 'O', 'O', 'R-2-50', 'R-1-2', 'R-2-3', 'R-2-3', 'O', 'R-3-4', 'O', 'R-11-12', 'R-11-12', 'R-12-3', 'O', 'R-5-6', 'O', 'O', 'O', 'O', 'O', 'R-5-6', 'O', 'R-1-2', 'R-2-3', 'R-3-6', 'R-3-6', 'R-3-6', 'R-3-50', 'R-3-50', 'O', 'O', 'O', 'R-3-50', 'O', 'R-12-3', 'R-3-4', 'R-5-50', 'O', 'O', 'R-2-50', 'O', 'O', 'O', 'R-2-50', 'R-5-6', 'R-4-5', 'R-5-6', 'R-6-50', 'O', 'R-5-6', 'R-5-50', 'R-2-50', 'O', 'O', 'O', 'O', 'O', 'O', 'O', 'R-12-3', 'O', 'O', 'O', 'O', 'O', 'R-1-50', 'O', 'O', 'O', 'O', 'O', 'O', 'R-1-2', 'R-1-50', 'R-1-50', 'O', 'O', 'O', 'R-3-4', 'R-11-12', 'R-11-12', 'R-12-3', 'O', 'R-5-50', 'R-1-2', 'R-2-5', 'R-4-5', 'R-5-6', 'R-6-50', 'R-4-50', 'R-5-50', 'R-5-50', 'O', 'O', 'O', 'O', 'O', 'R-4-5', 'R-5-6', 'O', 'O', 'R-11-50', 'R-2-50', 'R-1-50', 'R-1-2', 'R-2-50', 'R-11-12', 'R-12-3', 'R-3-50', 'R-2-50', 'R-4-6', 'R-6-50', 'R-2-50', 'R-12-2', 'R-12-2', 'R-2-50', 'O', 'O', 'R-5-50', 'R-5-6', 'R-5-50', 'R-6-50', 'R-2-50', 'R-2-3', 'R-3-50', 'O', 'R-4-50', 'O', 'R-5-50', 'R-5-6', 'R-6-50', 'R-4-6', 'R-4-5', 'R-5-6', 'R-5-50', 'R-1-50', 'R-1-2', 'R-1-3', 'R-2-3', 'O', 'O', 'O', 'O', 'O', 'O', 'O', 'O', 'R-5-50', 'R-1-50', 'O', 'O', 'O', 'O', 'O', 'O', 'O', 'O', 'O', 'O', 'O', 'O', 'O', 'R-3-4', 'O', 'O', 'O', 'O', 'O', 'R-2-5', 'O', 'R-2-50', 'O', 'O', 'R-2-50', 'R-1-50', 'R-1-50', 'R-2-50', 'R-5-4', 'R-5-4', 'R-4-50', 'R-1-2', 'O', 'O', 'O', 'O', 'O', 'R-5-50', 'O', 'O', 'R-5-50', 'R-11-5', 'R-11-12', 'R-12-3', 'R-11-12', 'O', 'O', 'O', 'R-1-50', 'O', 'R-1-2', 'O', 'R-3-50', 'O', 'R-3-4', 'R-5-50', 'R-5-50', 'R-5-50', 'R-2-50', 'R-1-50', 'R-5-50', 'R-3-50', 'R-5-50', 'O', 'R-5-50', 'R-5-50', 'R-5-50', 'R-5-6', 'R-5-50', 'R-1-50', 'R-1-2', 'R-2-50', 'O', 'O', 'O', 'R-2-5', 'R-1-2', 'R-3-5', 'R-5-50', 'R-2-50', 'R-1-2', 'R-1-2', 'O', 'R-1-2', 'R-2-50', 'R-1-50', 'R-3-50', 'R-3-50', 'R-11-3', 'R-3-4', 'R-3-50', 'R-4-50', 'R-2-50', 'R-4-50', 'R-5-6', 'R-6-50', 'R-2-50', 'R-1-2', 'O', 'O', 'R-2-5', 'R-5-6', 'R-6-50', 'O', 'O', 'R-1-50', 'R-1-2', 'R-2-3', 'R-2-50', 'R-1-50', 'O', 'O', 'R-2-50', 'O', 'R-2-50', 'R-1-3', 'O', 'R-2-4', 'R-4-6', 'O', 'R-5-50', 'O', 'R-5-50', 'O', 'R-5-4', 'R-4-6', 'R-4-6', 'O', 'O', 'R-4-6', 'O', 'R-1-50', 'R-2-50', 'R-1-2', 'O', 'O', 'R-5-50', 'R-4-5', 'R-5-6', 'R-6-50', 'R-5-50', 'R-5-50', 'O', 'R-1-50', 'O', 'O', 'R-1-2', 'R-2-5', 'R-5-50', 'R-4-50', 'R-5-4', 'O', 'O', 'O', 'O', 'O', 'R-11-12', 'R-12-3', 'R-11-12', 'R-12-3', 'O', 'R-1-5', 'R-1-50', 'R-5-50', 'R-1-50', 'O', 'R-2-50', 'R-2-5', 'R-5-6', 'O', 'O', 'O', 'O', 'O', 'O', 'O', 'O', 'O', 'R-2-50', 'R-6-50', 'O', 'R-2-6', 'R-6-50', 'O', 'O', 'O', 'O', 'R-12-3', 'O', 'R-5-50', 'R-6-50', 'O', 'R-5-6', 'O', 'R-5-6', 'R-4-5', 'O', 'O', 'O', 'O', 'O', 'R-1-2', 'R-1-2', 'O', 'O', 'O', 'O', 'O', 'R-4-5', 'O', 'R-5-6', 'R-6-50', 'O', 'O', 'R-1-2', 'R-3-50', 'R-1-50', 'R-3-5', 'R-3-50', 'R-3-5', 'R-5-6', 'R-3-5', 'R-5-6', 'O', 'O', 'O', 'R-2-50', 'R-1-2', 'R-1-50', 'O', 'R-1-50', 'R-3-50', 'R-1-2', 'R-2-3', 'O', 'R-2-50', 'R-1-2', 'R-1-50', 'O', 'O', 'O', 'O', 'O', 'O', 'O', 'O', 'O', 'O', 'R-1-50', 'R-1-2', 'R-1-3', 'R-1-3', 'R-1-2', 'O', 'R-2-50', 'R-3-4', 'R-2-3', 'O', 'R-5-50', 'R-5-50', 'R-5-50', 'O', 'R-6-50', 'O', 'O', 'O', 'O', 'O', 'O', 'O', 'O', 'O', 'O', 'R-1-50', 'R-2-50', 'R-1-50', 'R-1-2', 'R-1-2', 'R-2-3', 'R-3-4', 'R-4-50', 'R-1-50', 'O', 'R-5-50', 'R-11-50', 'O', 'R-1-50', 'O', 'O', 'O', 'O', 'R-1-2', 'O', 'R-4-5', 'O', 'O', 'O', 'O', 'O', 'O', 'O', 'O', 'O', 'O', 'R-3-4', 'R-4-50', 'R-4-50', 'R-5-50', 'O', 'O', 'O', 'O', 'O', 'O', 'O', 'O', 'O', 'O', 'O', 'O', 'R-1-2', 'R-3-4', 'R-5-6', 'R-6-50', 'O', 'O', 'O', 'O', 'O', 'O', 'O', 'R-1-50', 'R-5-50', 'O', 'O', 'O', 'O', 'O', 'O', 'O', 'R-3-50', 'R-2-3', 'O', 'O', 'R-1-2', 'R-2-50', 'O', 'R-2-4', 'R-3-4', 'R-4-50', 'O', 'O', 'O', 'R-5-6', 'R-6-50', 'R-5-50', 'O', 'O', 'O', 'O', 'O', 'R-3-50', 'R-5-50', 'R-5-50', 'O', 'O', 'R-5-50', 'R-5-50', 'R-1-50', 'R-1-50', 'R-1-2', 'R-1-2', 'O', 'O', 'R-2-50', 'R-1-2', 'O', 'R-1-50', 'O', 'R-5-6', 'O', 'R-5-6', 'R-6-50', 'O', 'R-12-3', 'R-11-12', 'R-3-50', 'R-1-50', 'R-3-4', 'R-1-2', 'R-2-3', 'R-4-5', 'O', 'R-4-5', 'R-5-6', 'R-3-5', 'R-1-3', 'R-5-50', 'R-1-50', 'R-1-50', 'R-5-50', 'R-5-50', 'R-1-50', 'R-5-50', 'R-5-50', 'O', 'R-4-5', 'R-5-50', 'R-1-50', 'R-1-2', 'R-2-3', 'R-3-50', 'R-1-50', 'R-1-50', 'O', 'O', 'R-3-50', 'R-2-3', 'O', 'R-5-50', 'R-1-50', 'O', 'O', 'O', 'O', 'O', 'O', 'R-5-50', 'R-4-5', 'R-5-6', 'R-6-50', 'O', 'O', 'O', 'O', 'O', 'O', 'O', 'O', 'O', 'O', 'O', 'R-1-50', 'R-3-50', 'R-5-50', 'O', 'O', 'O', 'O', 'O', 'R-1-50', 'R-1-2', 'R-1-2', 'R-2-3', 'O', 'O', 'R-3-50', 'R-3-4', 'R-3-4', 'R-12-3', 'R-3-5', 'R-5-50', 'R-5-50', 'O', 'O', 'O', 'O', 'R-1-2', 'R-2-50', 'R-3-4', 'O', 'R-11-12', 'R-12-3', 'R-11-12', 'R-12-3', 'R-11-12', 'R-11-12', 'R-12-3', 'R-5-50', 'R-5-5', 'R-5-6', 'R-5-50', 'R-5-50', 'O', 'O', 'O', 'O', 'O', 'O', 'O', 'O', 'R-4-5', 'R-5-50', 'R-4-5', 'O', 'R-5-6', 'R-6-50', 'R-5-50', 'R-5-50', 'R-5-50', 'R-1-2', 'R-2-50', 'R-2-50', 'R-4-50', 'R-2-50', 'R-3-4', 'R-4-50', 'O', 'O', 'R-2-4', 'O', 'O', 'O', 'O', 'O', 'O', 'O', 'R-5-50', 'R-2-5', 'O', 'O', 'R-5-6', 'R-6-50', 'R-2-50', 'R-1-50', 'R-1-50', 'O', 'O', 'O', 'O', 'O', 'R-3-4', 'R-3-6', 'O', 'O', 'O', 'O', 'R-2-5', 'R-2-4', 'O', 'R-5-50', 'O', 'O', 'O', 'O', 'O', 'R-1-50', 'O', 'R-1-2', 'O', 'O', 'O', 'R-4-50', 'R-3-4', 'R-2-3', 'R-5-50', 'R-4-5', 'R-5-6', 'R-6-50', 'R-5-50', 'R-1-2', 'R-1-50', 'O', 'R-3-4', 'R-11-12', 'R-12-3', 'O', 'O', 'O', 'O', 'O', 'O', 'O', 'O', 'O', 'O', 'R-3-4', 'R-4-50', 'O', 'R-4-50', 'R-5-50', 'R-5-50', 'O', 'O', 'O', 'R-5-6', 'R-6-50', 'R-6-50', 'O', 'O', 'O', 'O', 'O', 'O', 'O', 'R-2-50', 'R-2-50', 'O', 'O', 'O', 'O', 'R-5-50', 'R-5-4', 'R-5-6', 'R-2-6', 'O', 'R-1-50', 'O', 'R-1-2', 'R-5-50', 'O', 'R-6-50', 'O', 'R-5-6', 'R-6-50', 'R-5-50', 'R-5-50', 'O', 'O', 'O', 'O', 'R-3-4', 'R-2-4', 'O', 'O', 'O', 'O', 'R-4-50', 'R-3-50', 'R-4-50', 'R-3-50', 'R-2-4', 'O', 'O', 'O', 'O', 'R-2-50', 'O', 'O', 'O', 'O', 'R-3-50', 'R-1-3', 'R-1-2', 'O', 'R-5-4', 'R-4-6', 'R-5-6', 'R-6-50', 'O', 'R-1-50', 'O', 'O', 'R-12-3', 'R-11-12', 'O', 'R-11-12', 'R-11-12', 'R-12-3', 'R-11-12', 'R-12-50', 'R-11-50', 'R-2-50', 'O', 'R-2-50', 'R-4-50', 'R-4-50', 'R-4-50', 'O', 'R-6-50', 'O', 'O', 'O', 'O', 'O', 'O', 'R-3-4', 'O', 'R-5-50', 'R-5-6', 'R-6-50', 'R-5-50', 'O', 'O', 'O', 'O', 'R-2-50', 'R-5-50', 'R-1-50', 'R-4-50', 'O', 'O', 'O', 'R-3-50', 'R-1-2', 'R-1-50', 'R-5-50', 'R-4-5', 'O', 'R-5-50', 'R-5-6', 'O', 'O', 'O', 'O', 'R-4-5', 'O', 'O', 'O', 'O', 'R-1-50', 'R-2-50', 'R-1-50', 'R-2-50', 'O', 'R-1-50', 'R-1-2', 'O', 'R-1-50', 'O', 'R-2-50', 'O', 'R-2-50', 'R-1-50', 'R-1-2', 'R-1-50', 'R-1-50', 'O', 'O', 'O', 'R-5-50', 'R-3-50', 'R-2-3', 'R-5-50', 'R-1-3', 'R-1-2', 'R-1-50', 'R-1-3', 'R-1-2', 'R-1-50', 'O', 'R-4-5', 'O', 'R-5-6', 'R-6-50', 'O', 'R-3-50', 'R-5-50', 'R-2-3', 'R-1-2', 'R-1-50', 'O', 'O', 'O', 'O', 'O', 'O', 'O', 'O', 'O', 'R-5-50', 'R-4-5', 'R-5-6', 'O', 'O', 'R-5-6', 'R-6-50', 'R-6-50', 'O', 'R-5-50', 'R-2-50', 'R-1-50', 'R-1-2', 'R-2-50', 'R-2-4', 'R-4-50', 'R-6-50', 'O', 'R-5-6', 'O', 'O', 'O', 'O', 'O', 'O', 'O', 'O', 'O', 'O', 'O', 'R-2-50', 'R-5-50', 'O', 'R-3-50', 'R-2-50', 'O', 'O', 'R-1-50', 'R-1-2', 'R-3-4', 'R-11-12', 'R-12-3', 'R-11-12', 'R-12-3', 'O', 'R-5-6', 'R-6-50', 'R-5-50', 'R-4-5', 'O', 'O', 'R-1-2', 'R-2-50', 'R-5-6', 'R-6-50', 'O', 'O', 'O', 'O', 'R-12-3', 'O', 'O', 'O', 'O', 'O', 'O', 'O', 'O', 'O', 'O', 'O', 'O', 'R-1-50', 'R-2-50', 'R-2-3', 'O', 'O', 'O', 'O', 'O', 'O', 'O', 'O', 'O', 'R-2-50', 'R-1-2', 'R-2-3', 'R-3-50', 'R-1-2', 'R-2-50', 'O', 'R-11-12', 'R-12-3', 'R-3-4', 'R-5-6', 'R-6-50', 'R-5-6', 'R-6-50', 'O', 'O', 'O', 'O', 'O', 'O', 'O', 'O', 'R-5-50', 'R-2-5', 'R-5-4', 'R-5-6', 'R-5-6', 'R-6-50', 'O', 'O', 'O', 'O', 'O', 'O', 'R-4-5', 'R-5-6', 'R-6-50', 'O', 'R-1-50', 'R-4-50', 'R-5-50', 'R-1-50', 'O', 'O', 'O', 'O', 'R-4-5', 'R-4-5', 'O', 'O', 'O', 'O', 'O', 'O', 'O', 'O', 'O', 'R-5-50', 'R-3-4', 'R-4-5', 'O', 'R-4-6', 'O', 'O', 'O', 'O', 'R-3-4', 'O', 'O', 'O', 'O', 'O', 'O', 'O', 'O', 'O', 'R-6-50', 'R-5-6', 'R-5-6', 'R-5-50', 'R-2-50', 'R-5-50', 'R-1-50', 'R-3-50', 'R-1-50', 'R-5-50', 'R-2-50', 'R-1-2', 'R-2-5', 'O', 'O', 'O', 'R-2-5', 'O', 'O', 'O', 'R-4-5', 'O', 'O', 'O', 'R-5-6', 'R-6-50', 'R-5-6', 'O', 'O', 'R-3-50', 'O', 'O', 'O', 'R-6-50', 'R-1-2', 'R-2-50', 'R-1-50', 'O', 'O', 'O', 'O', 'R-3-50', 'R-2-50', 'O', 'O', 'O', 'O', 'O', 'O', 'O', 'O', 'R-5-50', 'O', 'O', 'O', 'O', 'O', 'O', 'R-5-50', 'R-1-2', 'R-2-50', 'O', 'O', 'R-3-4', 'O', 'O', 'R-1-50', 'R-5-50', 'R-1-50', 'R-1-2', 'O', 'R-2-3', 'R-2-4', 'R-4-5', 'R-4-5', 'R-5-6', 'R-4-6', 'O', 'R-4-50', 'R-4-50', 'R-5-50', 'R-4-11', 'R-12-3', 'O', 'R-1-50', 'R-1-2', 'R-2-50', 'O', 'R-1-2', 'R-1-50', 'O', 'R-1-50', 'R-11-50', 'R-2-50', 'R-5-50', 'R-5-50', 'R-5-6', 'O', 'R-2-50', 'R-1-50', 'R-5-50', 'R-4-50', 'R-2-50', 'R-1-50', 'R-5-50', 'R-4-50', 'R-11-5', 'O', 'R-4-5', 'R-5-6', 'R-4-5', 'R-4-5', 'R-12-3', 'O', 'R-11-12', 'R-12-3', 'O', 'R-11-12', 'R-12-3', 'O', 'O', 'O', 'O', 'O', 'R-1-50', 'R-1-2', 'R-1-2', 'O', 'R-5-50', 'R-4-5', 'R-5-6', 'O', 'O', 'R-5-6', 'R-6-50', 'R-5-6', 'R-5-50', 'R-5-50', 'R-1-50', 'O', 'O', 'O', 'O', 'O', 'R-1-2', 'R-1-50', 'O', 'R-2-3', 'R-5-50', 'O', 'O', 'R-5-6', 'R-5-6', 'R-6-50', 'R-6-50', 'O', 'O', 'O', 'O', 'R-5-50', 'O', 'O', 'O', 'R-4-5', 'R-4-5', 'O', 'O', 'R-2-50', 'R-3-50', 'R-1-50', 'O', 'R-3-50', 'R-1-50', 'R-2-3', 'R-1-50', 'O', 'O', 'R-1-2', 'O', 'R-2-3', 'R-3-50', 'R-1-2', 'R-2-50', 'R-2-3', 'O', 'O', 'R-3-5', 'O', 'R-6-50', 'R-3-50', 'R-5-6', 'R-6-50', 'R-4-50', 'O', 'R-6-50', 'R-2-50', 'O', 'R-12-3', 'R-3-4', 'R-11-12', 'R-12-3', 'R-2-50', 'R-5-50', 'O', 'O', 'O', 'O', 'R-3-50', 'R-2-3', 'R-5-6', 'R-6-50', 'O', 'R-2-50', 'O', 'R-3-5', 'R-2-3', 'O', 'O', 'O', 'R-2-50', 'R-2-50', 'O', 'R-5-6', 'R-6-50', 'R-6-50', 'O', 'R-5-6', 'O', 'O', 'O', 'O', 'O', 'O', 'O', 'O', 'O', 'O', 'O', 'R-3-50', 'R-3-4', 'R-11-12', 'O', 'O', 'O', 'R-4-5', 'R-5-6', 'O', 'R-2-50', 'R-1-50', 'R-1-50', 'R-2-50', 'O', 'O', 'O', 'R-11-12', 'R-12-3', 'R-11-12', 'R-12-3', 'R-5-50', 'R-5-6', 'R-5-6', 'R-6-50', 'R-5-50', 'R-1-50', 'R-5-50', 'O', 'O', 'O', 'O', 'R-3-50', 'R-2-50', 'R-3-50', 'R-2-50', 'O', 'O', 'R-3-4', 'R-12-3', 'R-5-50', 'O', 'O', 'R-5-50', 'R-6-50', 'O', 'O', 'O', 'R-1-2', 'R-1-50', 'R-3-5', 'R-5-50', 'R-1-2', 'O', 'O', 'O', 'R-4-5', 'R-5-6', 'O', 'O', 'O', 'O', 'O', 'O', 'O', 'O', 'R-12-3', 'O', 'R-2-50', 'R-5-6', 'R-5-6', 'R-6-50', 'O', 'O', 'R-2-50', 'R-5-50', 'O', 'R-2-50', 'R-1-50', 'R-1-50', 'R-1-50', 'O', 'O', 'O', 'R-1-50', 'R-5-50', 'R-5-50', 'O', 'O', 'O', 'R-2-50', 'R-1-50', 'R-2-1', 'O', 'O', 'R-1-50', 'R-1-2', 'R-2-4', 'R-4-50', 'R-2-50', 'R-5-6', 'O', 'O', 'O', 'O', 'O', 'O', 'O', 'O', 'O', 'O', 'O', 'O', 'O', 'O', 'O', 'O', 'O', 'O', 'R-1-2', 'O', 'O', 'O', 'O', 'O', 'R-1-50', 'R-5-50', 'R-1-50', 'R-5-50', 'O', 'R-1-2', 'R-1-2', 'R-2-4', 'R-1-50', 'R-1-2', 'R-2-3', 'R-3-4', 'R-5-50', 'R-5-50', 'R-5-4', 'R-4-50', 'O', 'R-5-6', 'R-6-50', 'R-1-50', 'R-5-50', 'R-2-50', 'O', 'R-1-50', 'R-2-50', 'O', 'O', 'O', 'O', 'R-1-50', 'O', 'R-5-6', 'R-6-50', 'O', 'O', 'O', 'R-1-50', 'R-1-50', 'R-1-2', 'R-2-3', 'O', 'R-12-3', 'R-11-12', 'O', 'O', 'R-11-50', 'R-5-50', 'R-3-5', 'R-5-6', 'R-5-6', 'R-6-50', 'O', 'R-5-50', 'R-5-4', 'O', 'O', 'O', 'O', 'O', 'O', 'O', 'R-4-50', 'R-3-50', 'O', 'R-4-50', 'R-3-4', 'O', 'O', 'R-5-50', 'R-2-6', 'R-2-6', 'R-6-50', 'O', 'O', 'R-2-50', 'R-3-50', 'R-3-50', 'R-2-50', 'O', 'O', 'O', 'R-2-50', 'R-4-6', 'O', 'R-11-12', 'R-12-2', 'R-11-12', 'R-12-2', 'R-4-5', 'R-5-6', 'R-5-6', 'O', 'R-5-6', 'R-6-50', 'R-4-6', 'R-5-50', 'R-5-50', 'R-5-50', 'O', 'O', 'O', 'O', 'O', 'O', 'O', 'O', 'O', 'O', 'O', 'R-5-50', 'O', 'O', 'R-2-50', 'R-1-2', 'R-2-3', 'R-2-3', 'R-3-4', 'R-5-50', 'R-4-5', 'R-6-5', 'O', 'R-5-6', 'R-6-50', 'R-5-50', 'O', 'O', 'R-5-50', 'R-5-4', 'O', 'R-5-6', 'R-6-50', 'O', 'R-2-4', 'O', 'R-5-6', 'R-11-50', 'R-11-5', 'R-12-50', 'R-12-5', 'R-3-50', 'R-3-4', 'R-2-3', 'R-2-50', 'R-1-2', 'R-3-4', 'R-4-5', 'R-5-50', 'R-1-2', 'O', 'R-1-50', 'R-5-50', 'R-3-50', 'R-5-50', 'O', 'O', 'O', 'O', 'O', 'O', 'O', 'O', 'O', 'R-2-50', 'O', 'O', 'O', 'R-3-4', 'O', 'R-1-3', 'R-1-50', 'R-1-50', 'O', 'R-2-3', 'R-1-50', 'O', 'R-5-50', 'O', 'R-5-50', 'R-5-6', 'R-6-50', 'O', 'O', 'O', 'R-1-50', 'R-1-2', 'R-2-50', 'R-2-5', 'O', 'R-1-50', 'O', 'O', 'R-4-5', 'O', 'R-6-50', 'O', 'O', 'O', 'O', 'O', 'O', 'O', 'R-1-2', 'R-2-3', 'O', 'O', 'R-12-3', 'O', 'O', 'O', 'O', 'R-1-2', 'R-1-2', 'R-1-2', 'R-6-50', 'R-3-6', 'R-2-3', 'R-1-2', 'R-2-5', 'R-5-50', 'O', 'R-5-50', 'R-1-5', 'R-2-5', 'R-5-50', 'R-2-50', 'R-1-50', 'O', 'R-2-50', 'R-1-50', 'O', 'O', 'R-5-50', 'R-5-6', 'R-5-50', 'R-5-50', 'R-5-50', 'O', 'O', 'R-1-50', 'R-1-50', 'O', 'O', 'R-1-50', 'R-2-50', 'R-1-50', 'R-3-50', 'R-3-4', 'R-3-50', 'R-11-12', 'R-11-12', 'R-12-3', 'R-3-50', 'R-5-50', 'R-4-5', 'O', 'O', 'R-6-50', 'R-5-6', 'R-1-50', 'R-3-50', 'R-5-50', 'R-3-50', 'R-2-3', 'O', 'R-5-6', 'R-6-50', 'O', 'O', 'O', 'O', 'O', 'O', 'O', 'O', 'O', 'O', 'R-11-12', 'R-12-3', 'O', 'R-4-5', 'R-5-6', 'R-6-50', 'O', 'R-4-5', 'R-1-50', 'R-4-50', 'R-2-50', 'R-4-50', 'O', 'O', 'R-5-50', 'O', 'O', 'O', 'R-5-50', 'O', 'O', 'R-5-50', 'R-5-6', 'R-6-50', 'R-5-50', 'O', 'R-2-3', 'R-4-50', 'O', 'O', 'O', 'O', 'O', 'O', 'O', 'O', 'O', 'O', 'R-11-12', 'R-12-3', 'R-2-1', 'R-1-5', 'R-5-50', 'R-2-1', 'R-4-50', 'O', 'O', 'O', 'R-5-50', 'R-5-50', 'R-4-5', 'R-5-50', 'R-5-50', 'R-5-6', 'R-6-50', 'R-5-50', 'O', 'O', 'O', 'O', 'O', 'O', 'O', 'O', 'O', 'O', 'O', 'O', 'R-1-50', 'R-1-50', 'R-3-50', 'R-3-50', 'R-2-3', 'R-3-4', 'R-3-4', 'R-2-50', 'R-2-5', 'R-5-50', 'O', 'O', 'O', 'O', 'O', 'O', 'R-1-50', 'R-2-50', 'R-1-2', 'R-1-50', 'O', 'O', 'O', 'O', 'R-3-50', 'R-2-3', 'R-3-5', 'R-1-3', 'R-1-2', 'R-2-50', 'R-11-50', 'R-2-50', 'R-4-50', 'O', 'O', 'O', 'O', 'R-12-3', 'R-2-50', 'R-1-50', 'R-1-2', 'O', 'O', 'R-2-50', 'R-3-4', 'R-3-4', 'R-2-4', 'R-4-50', 'O', 'O', 'R-5-6', 'R-3-50', 'O', 'O', 'O', 'O', 'R-2-50', 'R-2-50', 'O', 'R-1-50', 'R-5-50', 'O', 'R-6-50', 'R-5-6', 'R-2-5', 'R-1-5', 'R-4-5', 'R-5-6', 'O', 'O', 'R-5-6', 'R-6-50', 'R-5-50', 'R-5-50', 'O', 'O', 'O', 'O', 'O', 'R-1-50', 'O', 'R-1-2', 'R-2-50', 'O', 'R-2-3', 'O', 'O', 'O', 'O', 'O', 'O', 'O', 'O', 'R-3-6', 'R-3-6', 'R-5-4', 'O', 'O', 'R-5-6', 'O', 'O', 'R-5-50', 'R-5-6', 'R-4-5', 'O', 'O', 'O', 'O', 'R-1-50', 'R-2-50', 'R-1-2', 'R-2-3', 'O', 'R-11-12', 'R-12-3', 'R-3-5', 'R-5-6', 'R-4-5', 'O', 'O', 'R-5-6', 'R-6-50', 'R-5-50', 'R-5-50', 'O', 'O', 'O', 'R-3-50', 'R-2-3', 'R-5-50', 'O', 'R-2-50', 'O', 'O', 'R-2-50', 'O', 'R-2-3', 'R-2-3', 'R-3-50', 'R-5-50', 'R-5-6', 'R-6-50', 'O', 'O', 'R-5-6', 'R-6-50', 'R-5-50', 'O', 'O', 'O', 'O', 'O', 'O', 'R-3-4', 'R-2-3', 'R-4-50', 'R-4-5', 'R-5-6', 'R-6-50', 'O', 'R-1-2', 'R-3-50', 'R-2-3', 'R-5-50', 'R-2-50', 'R-1-50', 'R-1-2', 'R-2-3', 'R-2-3', 'R-3-4', 'R-4-6', 'R-2-4', 'R-5-4', 'O', 'O', 'R-5-6', 'R-6-50', 'O', 'R-5-50', 'R-50-5', 'R-50-5', 'O', 'O', 'O', 'O', 'O', 'O', 'O', 'R-2-50', 'R-6-50', 'R-5-6', 'R-6-50', 'O', 'O', 'O', 'O', 'R-2-5', 'R-2-50', 'O', 'R-1-5', 'R-1-5', 'R-5-6', 'R-6-50', 'O', 'R-5-6', 'R-5-50', 'R-50-5', 'R-50-5', 'O', 'R-4-5', 'O', 'O', 'O', 'O', 'O', 'O', 'O', 'R-1-50', 'R-1-2', 'R-1-50', 'R-1-2', 'O', 'O', 'O', 'R-3-4', 'O', 'R-11-12', 'R-12-3', 'R-5-6', 'O', 'O', 'O', 'O', 'O', 'O', 'O', 'R-2-50', 'R-1-2', 'R-2-50', 'R-5-4', 'R-5-50', 'O', 'O', 'R-5-50', 'R-2-50', 'R-5-50', 'R-2-50', 'R-5-50', 'R-4-5', 'R-5-6', 'O', 'O', 'O', 'O', 'O', 'R-5-50', 'O', 'O', 'O', 'O', 'R-2-50', 'R-1-2', 'O', 'O', 'O', 'O', 'O', 'O', 'R-2-50', 'R-1-2', 'R-2-3', 'R-2-50', 'R-11-12', 'R-12-50', 'O', 'O', 'O', 'O', 'O', 'O', 'O', 'O', 'O', 'O', 'O', 'O', 'O', 'R-5-50', 'R-5-6', 'R-6-50', 'R-5-50', 'R-3-50', 'O', 'O', 'O', 'R-2-50', 'R-1-2', 'R-2-5', 'R-2-5', 'R-5-50', 'R-5-6', 'R-5-6', 'R-6-50', 'O', 'O', 'O', 'R-11-12', 'R-12-3', 'R-11-12', 'R-12-3', 'R-5-50', 'O', 'O', 'O', 'O', 'O', 'O', 'O', 'R-1-50', 'R-1-50', 'R-1-2', 'R-2-50', 'R-2-3', 'O', 'R-3-4', 'R-4-50', 'R-5-50', 'O', 'R-4-6', 'R-6-50', 'R-5-6', 'R-5-50', 'R-5-50', 'O', 'R-2-50', 'O', 'O', 'O', 'O', 'O', 'O', 'O', 'O', 'O', 'R-5-6', 'R-6-50', 'R-1-50', 'R-1-2', 'R-2-3', 'R-3-50', 'R-2-50', 'R-1-3', 'R-2-3', 'R-11-12', 'R-12-3', 'R-11-12', 'R-12-3', 'R-11-50', 'R-3-50', 'R-1-50', 'R-5-50', 'R-5-50', 'O', 'O', 'O', 'O', 'O', 'O', 'R-5-50', 'R-5-4', 'R-3-50', 'R-2-3', 'R-5-50', 'R-4-5', 'R-2-50', 'R-1-2', 'R-2-3', 'R-3-50', 'R-2-50', 'R-2-5', 'R-4-6', 'R-6-50', 'R-5-50', 'R-5-50', 'O', 'R-1-50', 'R-1-50', 'O', 'O', 'R-1-50', 'R-11-50', 'R-1-50', 'R-1-2', 'R-2-3', 'R-3-4', 'R-3-6', 'R-11-12', 'R-11-12', 'R-12-3', 'R-1-2', 'O', 'R-1-2', 'R-11-12', 'O', 'O', 'O', 'O', 'O', 'O', 'R-2-50', 'O', 'O', 'O', 'O', 'O', 'O', 'R-1-2', 'O', 'R-1-2', 'R-1-2', 'R-2-3', 'O', 'O', 'O', 'O', 'R-12-3', 'R-3-4', 'O', 'R-12-3', 'R-11-12', 'R-5-4', 'R-5-6', 'R-5-6', 'R-5-6', 'R-5-50', 'O', 'O', 'O', 'O', 'O', 'R-3-50', 'R-3-4', 'R-5-50', 'R-5-6', 'R-6-50', 'R-5-50', 'R-5-50', 'R-5-50', 'R-5-6', 'R-6-50', 'O', 'O', 'O', 'O', 'R-2-50', 'R-1-50', 'R-1-50', 'R-2-50', 'R-1-50', 'R-1-2', 'R-2-50', 'R-1-50', 'O', 'R-3-4', 'R-2-50', 'R-2-50', 'R-2-50', 'R-2-4', 'R-4-5', 'O', 'O', 'R-3-50', 'R-2-3', 'O', 'O', 'O', 'O', 'O', 'O', 'O', 'O', 'O', 'O', 'O', 'O', 'O', 'R-2-50', 'R-1-50', 'R-5-6', 'R-6-50', 'R-5-6', 'R-6-50', 'O', 'R-3-4', 'R-12-3', 'O', 'O', 'O', 'R-3-50', 'O', 'O', 'O', 'O', 'O', 'O', 'O', 'O', 'R-3-50', 'R-2-3', 'R-3-4', 'O', 'O', 'O', 'R-3-50', 'R-3-50', 'R-3-4', 'O', 'R-3-4', 'R-3-50', 'R-4-5', 'R-3-4', 'O', 'O', 'R-5-50', 'R-5-50', 'R-3-50', 'R-5-50', 'R-3-50', 'R-5-50', 'R-6-50', 'R-5-50', 'R-3-50', 'R-2-3', 'R-3-6', 'R-6-50', 'R-5-4', 'R-3-4', 'R-4-50', 'O', 'R-5-6', 'R-12-2', 'R-2-50', 'R-5-50', 'R-1-2', 'O', 'O', 'O', 'O', 'O', 'O', 'O', 'R-1-2', 'R-1-2', 'R-1-2', 'R-2-3', 'O', 'R-5-6', 'R-4-5', 'R-5-6', 'O', 'R-5-50', 'O', 'O', 'O', 'O', 'O', 'O', 'O', 'O', 'O', 'O', 'R-5-50', 'R-5-50', 'R-4-5', 'R-5-6', 'O', 'O', 'O', 'O', 'R-5-6', 'R-6-50', 'R-5-6', 'O', 'R-4-5', 'R-5-50', 'R-5-50', 'R-5-50', 'R-5-6', 'R-5-4', 'R-5-4', 'R-5-6', 'O', 'O', 'O', 'R-4-5', 'R-5-50', 'O', 'O', 'O', 'O', 'O', 'O', 'O', 'O', 'O', 'O', 'O', 'O', 'O', 'O', 'R-4-5', 'O', 'O', 'O', 'O', 'O', 'R-1-2', 'R-2-50', 'O', 'R-3-4', 'R-3-4', 'R-11-12', 'R-11-12', 'R-12-3', 'O', 'R-4-5', 'O', 'O', 'R-2-4', 'R-5-6', 'O', 'R-4-5', 'R-5-6', 'R-6-50', 'R-5-50', 'O', 'O', 'O', 'O', 'R-1-2', 'R-3-6', 'R-11-12', 'R-12-3', 'O', 'R-5-4', 'R-5-6', 'R-5-6', 'R-6-50', 'R-5-6', 'O', 'O', 'O', 'O', 'O', 'R-2-3', 'R-1-2', 'O', 'R-4-5', 'R-5-6', 'O', 'R-5-50', 'R-2-50', 'R-2-5', 'R-5-6', 'R-4-6', 'O', 'O', 'R-5-50', 'O', 'O', 'O', 'O', 'O', 'O', 'O', 'R-1-50', 'R-5-6', 'R-4-5', 'O', 'O', 'O', 'O', 'R-4-5', 'O', 'R-2-50', 'R-1-2', 'R-1-2', 'R-2-3', 'R-2-3', 'O', 'R-2-50', 'R-5-50', 'R-3-50', 'R-2-50', 'R-5-50', 'R-3-50', 'O', 'R-2-50', 'O', 'R-4-5', 'O', 'O', 'O', 'O', 'R-1-50', 'R-1-50', 'O', 'O', 'R-5-50', 'O', 'O', 'O', 'R-2-50', 'R-2-5', 'R-5-50', 'R-5-50', 'R-5-50', 'O', 'O', 'O', 'O', 'O', 'O', 'O', 'O', 'O', 'O', 'O', 'O', 'R-2-50', 'R-2-50', 'R-2-50', 'R-5-50', 'O', 'R-2-50', 'O', 'O', 'R-5-50', 'R-5-50', 'R-2-5', 'R-2-4', 'R-3-4', 'R-5-50', 'R-1-50', 'R-3-50', 'R-2-50', 'O', 'O', 'O', 'O', 'O', 'O', 'R-1-2', 'R-2-50', 'R-5-6', 'R-5-50', 'O', 'O', 'O', 'O', 'O', 'O', 'O', 'O', 'O', 'O', 'O', 'R-5-6', 'R-6-50', 'R-5-50', 'O', 'R-5-50', 'R-3-50', 'O', 'R-5-50', 'R-5-6', 'R-6-50', 'R-5-50', 'R-2-50', 'R-1-2', 'R-1-2', 'R-2-3', 'R-3-50', 'R-3-50', 'O', 'O', 'O', 'O', 'O', 'O', 'O', 'O', 'O', 'O', 'R-3-50', 'O', 'R-5-6', 'R-4-5', 'R-5-6', 'O', 'O', 'R-6-50', 'R-5-5', 'R-12-3', 'R-3-50', 'R-5-50', 'R-2-50', 'R-2-50', 'R-3-50', 'R-3-4', 'R-5-50', 'O', 'O', 'O', 'O', 'O', 'O', 'R-2-50', 'R-1-50', 'R-1-50', 'R-2-50', 'R-2-50', 'R-2-3', 'R-5-50', 'R-4-5', 'R-5-6', 'R-4-50', 'R-6-50', 'R-5-50', 'R-5-50', 'O', 'R-2-50', 'O', 'O', 'O', 'R-1-2', 'R-2-3', 'R-3-50', 'O', 'R-11-12', 'R-12-3', 'O', 'R-2-50', 'R-11-50', 'R-11-50', 'O', 'O', 'O', 'O', 'O', 'O', 'O', 'R-4-50', 'O', 'O', 'R-5-50', 'R-5-6', 'R-6-50', 'R-5-50', 'O', 'R-11-12', 'R-11-12', 'R-12-3', 'O', 'O', 'R-5-50', 'O', 'O', 'O', 'O', 'O', 'R-1-2', 'O', 'R-1-50', 'R-1-2', 'O', 'R-11-12', 'R-12-3', 'R-11-12', 'R-11-12', 'R-12-3', 'R-11-3', 'R-11-3', 'R-11-12', 'R-12-3', 'R-12-5', 'R-5-50', 'R-5-50', 'R-5-50', 'R-4-5', 'R-4-5', 'R-5-50', 'R-4-5', 'R-2-4', 'O', 'R-1-2', 'R-3-50', 'R-2-50', 'R-3-50', 'R-4-5', 'R-5-6', 'R-6-50', 'R-4-6', 'R-2-50', 'R-1-2', 'O', 'O', 'O', 'O', 'R-1-2', 'R-1-3', 'R-3-50', 'R-2-50', 'O', 'R-5-6', 'R-6-50', 'O', 'O', 'O', 'R-5-50', 'R-5-4', 'R-4-50', 'O', 'O', 'O', 'O', 'O', 'O', 'O', 'O', 'O', 'O', 'O', 'O', 'R-2-50', 'R-11-3', 'R-1-3', 'R-11-12', 'R-12-3', 'R-11-5', 'R-5-6', 'R-6-50', 'R-2-5', 'R-5-50', 'R-1-50', 'R-1-2', 'R-1-50', 'R-1-2', 'R-1-50', 'R-1-3', 'R-3-50', 'O', 'O', 'O', 'R-11-50', 'R-1-50', 'O', 'R-1-50', 'R-11-50', 'R-1-50', 'R-11-50', 'O', 'R-1-50', 'R-11-50', 'R-12-3', 'O', 'O', 'R-3-50', 'R-2-3', 'R-1-2', 'R-1-50', 'O', 'R-11-12', 'R-11-12', 'R-12-3', 'R-1-50', 'R-11-50', 'O', 'R-1-2', 'R-1-2', 'R-2-5', 'R-2-5', 'R-5-50', 'R-5-50', 'R-5-50', 'R-4-5', 'O', 'R-5-6', 'R-6-50', 'R-5-6', 'O', 'O', 'O', 'O', 'O', 'O', 'O', 'O', 'O', 'O', 'R-2-50', 'R-1-50', 'R-2-50', 'R-1-50', 'O', 'R-1-2', 'R-2-50', 'R-2-50', 'O', 'O', 'O', 'O', 'O', 'R-3-4', 'O', 'R-11-12', 'R-11-12', 'R-12-3', 'R-5-50', 'R-5-6', 'R-5-6', 'R-6-50', 'O', 'O', 'O', 'O', 'O', 'O', 'R-5-50', 'R-4-5', 'R-5-6', 'R-2-50', 'R-3-4', 'R-3-6', 'R-1-2', 'R-2-50', 'R-1-50', 'O', 'O', 'R-11-12', 'R-12-3', 'R-11-3', 'R-5-50', 'O', 'O', 'O', 'O', 'R-1-2', 'R-12-50', 'R-12-50', 'R-12-3', 'R-12-2', 'R-3-4', 'R-5-50', 'O', 'O', 'R-5-50', 'R-4-5', 'R-3-50', 'R-5-50', 'R-3-5', 'R-3-50', 'O', 'O', 'O', 'O', 'O', 'R-5-6', 'R-6-50', 'R-5-50', 'O', 'O', 'O', 'O', 'R-3-4', 'O', 'O', 'R-3-50', 'R-3-4', 'R-3-4', 'R-4-6', 'O', 'O', 'O', 'R-3-50', 'O', 'O', 'O', 'O', 'O', 'R-5-50', 'O', 'R-2-4', 'O', 'O', 'O', 'R-5-50', 'R-3-50', 'O', 'O', 'O', 'O', 'O', 'R-2-50', 'R-1-2', 'O', 'R-3-50', 'R-5-50', 'O', 'R-3-50', 'R-5-50', 'R-2-3', 'R-4-5', 'R-5-50', 'R-6-50', 'R-2-3', 'R-3-50', 'R-1-2', 'O', 'O', 'R-12-3', 'R-1-50', 'R-2-50', 'R-5-50', 'R-2-50', 'R-1-2', 'R-1-2', 'R-5-50', 'R-4-5', 'R-2-4', 'R-2-4', 'O', 'O', 'O', 'O', 'R-5-6', 'R-6-50', 'R-4-5', 'O', 'O', 'O', 'O', 'O', 'R-5-50', 'R-2-50', 'R-2-50', 'R-1-3', 'R-1-2', 'R-2-3', 'R-3-4', 'R-1-4', 'R-5-50', 'R-4-5', 'R-5-6', 'R-6-50', 'R-5-50', 'R-5-50', 'R-5-50', 'R-2-50', 'R-1-50', 'R-1-2', 'R-3-50', 'R-2-3', 'R-2-50', 'R-5-50', 'R-5-6', 'R-6-50', 'R-1-50', 'R-1-50', 'R-1-50', 'R-5-50', 'R-5-6', 'R-6-50', 'O', 'R-5-50', 'O', 'R-5-50', 'R-5-50', 'R-5-50', 'O', 'R-1-2', 'R-1-50', 'R-2-50', 'R-2-50', 'R-1-2', 'R-1-2', 'R-1-3', 'R-2-3', 'O', 'R-3-4', 'O', 'R-11-12', 'R-11-12', 'R-12-3', 'R-1-50', 'R-2-3', 'O', 'R-1-50', 'O', 'O', 'O', 'O', 'O', 'O', 'R-1-50', 'R-1-50', 'R-1-2', 'R-2-50', 'R-2-50', 'O', 'O', 'O', 'R-5-50', 'R-5-50', 'R-1-50', 'O', 'O', 'R-12-3', 'R-5-6', 'R-6-50', 'O', 'O', 'O', 'O', 'O', 'O', 'O', 'O', 'R-5-50', 'O', 'O', 'O', 'O', 'R-1-50', 'R-2-50', 'R-1-2', 'R-2-50', 'O', 'O', 'O', 'O', 'R-2-50', 'R-1-2', 'R-2-5', 'R-5-50', 'R-5-50', 'R-1-5', 'R-2-4', 'O', 'R-2-3', 'R-3-4', 'R-2-4', 'R-4-50', 'O', 'O', 'R-4-5', 'R-5-6', 'O', 'O', 'O', 'O', 'O', 'O', 'R-5-50', 'O', 'O', 'O', 'O', 'O', 'O', 'R-5-6', 'R-5-50', 'R-5-50', 'R-2-50', 'R-1-2', 'O', 'O', 'O', 'R-1-50', 'R-5-50', 'R-5-4', 'R-5-6', 'R-5-6', 'R-6-50', 'R-3-4', 'R-11-12', 'R-12-3', 'R-5-50', 'R-3-50', 'R-1-50', 'O', 'O', 'O', 'O', 'O', 'R-5-50', 'R-5-50', 'O', 'O', 'O', 'O', 'R-3-4', 'R-3-6', 'R-3-50', 'O', 'R-1-50', 'R-1-2', 'R-2-50', 'O', 'O', 'O', 'O', 'O', 'O', 'O', 'O', 'O', 'O', 'R-11-50', 'R-3-50', 'R-1-2', 'R-1-3', 'O', 'O', 'R-5-6', 'R-5-6', 'R-6-50', 'R-5-50', 'R-11-12', 'R-11-12', 'R-12-3', 'R-11-12', 'R-11-12', 'R-3-50', 'R-1-2', 'O', 'R-1-2', 'O', 'R-2-4', 'O', 'R-1-50', 'R-1-2', 'R-2-50', 'O', 'R-12-3', 'O', 'R-4-50', 'R-4-50', 'O', 'O', 'R-5-50', 'R-5-50', 'O', 'O', 'O', 'O', 'O', 'O', 'R-1-2', 'R-3-4', 'R-2-3', 'O', 'O', 'O', 'O', 'O', 'O', 'R-5-50', 'R-5-6', 'R-6-50', 'R-5-6', 'R-5-50', 'O', 'O', 'O', 'R-6-50', 'R-5-4', 'R-2-5', 'R-4-50', 'O', 'O', 'O', 'O', 'O', 'O', 'O', 'O', 'O', 'O', 'O', 'O', 'O', 'O', 'O', 'R-4-5', 'O', 'O', 'R-1-2', 'R-1-2', 'O', 'R-1-2', 'O', 'R-1-2', 'O', 'R-1-50', 'R-1-50', 'R-1-50', 'R-3-50', 'R-2-3', 'R-2-5', 'R-2-4', 'R-2-5', 'R-2-4', 'R-4-50', 'R-5-50', 'R-3-50', 'R-3-50', 'R-2-3', 'R-1-2', 'R-1-4', 'R-1-2', 'R-12-50', 'R-3-50', 'R-1-2', 'R-1-50', 'O', 'O', 'O', 'O', 'O', 'O', 'O', 'O', 'O', 'O', 'O', 'R-11-12', 'R-12-3', 'R-3-50', 'O', 'R-5-50', 'R-4-5', 'O', 'R-5-6', 'R-6-50', 'O', 'O', 'O', 'O', 'R-1-50', 'R-1-2', 'R-2-5', 'R-2-5', 'R-5-6', 'R-6-50', 'R-1-2', 'R-5-50', 'R-2-5', 'R-5-50', 'O', 'O', 'O', 'O', 'O', 'O', 'O', 'O', 'O', 'O', 'O', 'O', 'R-1-50', 'R-3-50', 'R-4-50', 'R-1-50', 'R-1-2', 'R-2-50', 'R-1-2', 'R-5-50', 'R-1-2', 'R-3-50', 'R-1-3', 'R-1-3', 'R-3-4', 'R-4-50', 'R-5-50', 'R-4-50', 'R-5-6', 'R-6-50', 'O', 'O', 'O', 'O', 'O', 'O', 'O', 'R-5-50', 'O', 'R-5-50', 'O', 'O', 'O', 'R-3-50', 'R-3-4', 'O', 'R-5-50', 'R-4-5', 'R-6-50', 'O', 'O', 'O', 'R-5-6', 'R-6-50', 'R-3-5', 'R-1-5', 'R-5-50', 'O', 'R-12-3', 'O', 'R-3-4', 'O', 'R-12-3', 'R-11-3', 'O', 'O', 'R-1-3', 'O', 'R-2-50', 'R-1-50', 'R-12-50', 'R-2-50', 'O', 'R-2-4', 'R-1-50', 'R-1-50', 'R-1-2', 'R-1-50', 'R-2-3', 'R-3-50', 'R-12-50', 'O', 'R-11-12', 'R-12-3', 'O', 'O', 'R-3-50', 'R-3-50', 'R-3-50', 'R-5-50', 'O', 'R-2-50', 'O', 'O', 'O', 'O', 'R-2-50', 'R-3-50', 'R-5-50', 'R-5-50', 'R-1-50', 'R-1-2', 'R-2-50', 'R-1-50', 'O', 'O', 'R-6-50', 'R-5-6', 'O', 'R-4-50', 'O', 'O', 'O', 'O', 'O', 'O', 'O', 'O', 'O', 'O', 'O', 'O', 'O', 'O', 'R-2-50', 'R-2-3', 'R-3-50', 'O', 'O', 'O', 'O', 'O', 'O', 'O', 'O', 'O', 'O', 'O', 'O', 'O', 'R-1-50', 'R-5-50', 'R-1-2', 'R-1-2', 'R-2-50', 'R-5-50', 'R-5-6', 'R-5-50', 'O', 'R-5-6', 'O', 'O', 'R-3-50', 'R-2-3', 'R-1-2', 'R-1-50', 'R-2-3', 'O', 'O', 'O', 'O', 'O', 'O', 'O', 'O', 'O', 'O', 'O', 'O', 'O', 'R-12-3', 'O', 'R-3-50', 'R-2-50', 'R-11-12', 'R-12-3', 'R-5-50', 'O', 'O', 'O', 'R-2-50', 'O', 'O', 'R-5-50', 'O', 'O', 'O', 'O', 'O', 'O', 'O', 'O', 'R-2-50', 'R-1-50', 'R-1-2', 'R-1-50', 'R-3-50', 'O', 'R-4-5', 'R-5-50', 'R-6-50', 'O', 'O', 'R-3-50', 'R-2-5', 'R-4-5', 'R-5-6', 'O', 'R-6-50', 'R-5-6', 'R-5-50', 'O', 'R-12-3', 'R-1-2', 'R-2-50', 'R-3-50', 'R-3-50', 'O', 'R-5-6', 'R-5-6', 'R-6-50', 'O', 'O', 'R-2-50', 'R-1-2', 'R-2-50', 'R-3-50', 'O', 'R-2-50', 'R-5-50', 'R-4-5', 'R-5-6', 'R-6-50', 'R-5-50', 'R-5-50', 'O', 'O', 'R-4-5', 'O', 'R-5-6', 'R-6-50', 'R-3-4', 'O', 'O', 'R-2-50', 'O', 'R-2-4', 'R-5-50', 'R-2-5', 'R-5-6', 'R-5-6', 'R-6-50', 'R-5-50', 'O', 'O', 'O', 'O', 'O', 'O', 'O', 'R-1-50', 'R-2-3', 'R-5-50', 'R-5-6', 'O', 'O', 'R-4-50', 'R-1-50', 'O', 'O', 'O', 'O', 'O', 'O', 'O', 'R-1-50', 'O', 'R-3-4', 'R-3-4', 'R-5-50', 'O', 'O', 'R-2-50', 'R-3-50', 'R-2-50', 'R-3-50', 'O', 'R-1-3', 'R-3-50', 'R-3-50', 'R-5-6', 'R-6-50', 'O', 'O', 'O', 'O', 'R-5-6', 'R-6-4', 'R-6-50', 'O', 'O', 'R-5-6', 'R-6-50', 'O', 'R-5-6', 'O', 'O', 'O', 'O', 'O', 'O', 'O', 'O', 'O', 'O', 'O', 'O', 'O', 'O', 'R-1-50', 'R-2-50', 'R-2-3', 'R-3-50', 'R-2-3', 'R-11-12', 'R-12-3', 'R-11-12', 'R-11-12', 'R-12-3', 'R-5-50', 'O', 'O', 'R-6-50', 'O', 'O', 'O', 'O', 'O', 'O', 'O', 'O', 'O', 'O', 'O', 'O', 'O', 'R-2-3', 'R-3-4', 'R-3-5', 'O', 'R-6-50', 'R-6-50', 'R-5-50', 'R-3-5', 'R-1-2', 'R-2-3', 'R-3-5', 'R-3-5', 'R-5-50', 'R-11-12', 'R-11-50', 'R-5-50', 'R-2-50', 'R-5-50', 'R-5-50', 'O', 'R-5-50', 'R-5-50', 'R-5-50', 'R-2-4', 'R-2-5', 'O', 'R-5-50', 'O', 'O', 'R-1-50', 'O', 'R-1-50', 'R-1-2', 'R-2-50', 'O', 'R-1-50', 'R-11-12', 'R-12-3', 'R-11-12', 'R-12-3', 'O', 'O', 'R-12-3', 'O', 'O', 'R-4-6', 'O', 'R-5-50', 'R-5-6', 'R-6-50', 'R-6-50', 'O', 'R-1-50', 'R-5-50', 'R-5-50', 'R-5-6', 'R-1-50', 'R-1-3', 'R-1-2', 'O', 'O', 'R-12-3', 'R-5-50', 'R-5-6', 'R-6-50', 'R-5-6', 'R-5-50', 'R-5-50', 'O', 'O', 'R-1-50', 'R-1-50', 'O', 'R-1-2', 'R-12-3', 'O', 'O', 'O', 'O', 'R-3-50', 'R-1-2', 'R-1-2', 'R-12-3', 'R-11-12', 'R-11-12', 'R-12-3', 'R-2-3', 'R-12-3', 'R-5-50', 'R-5-6', 'R-4-5', 'R-5-6', 'O', 'O', 'O', 'O', 'O', 'R-5-6', 'R-6-50', 'R-5-50', 'R-5-50', 'O', 'O', 'O', 'R-1-50', 'R-1-2', 'O', 'O', 'R-5-50', 'O', 'R-5-6', 'R-6-50', 'O', 'O', 'R-5-50', 'O', 'O', 'O', 'R-3-50', 'R-2-3', 'R-11-12', 'R-12-3', 'R-3-4', 'R-3-4', 'R-2-3', 'O', 'O', 'O', 'O', 'O', 'O', 'O', 'O', 'R-2-50', 'R-2-50', 'R-6-50', 'R-5-6', 'R-5-6', 'R-6-50', 'O', 'O', 'O', 'O', 'O', 'R-5-50', 'R-5-6', 'R-6-50', 'O', 'R-6-50', 'O', 'O', 'O', 'O', 'O', 'O', 'R-5-50', 'R-4-5', 'R-5-6', 'R-6-50', 'R-5-50', 'O', 'R-5-6', 'O', 'O', 'O', 'O', 'O', 'O', 'R-2-50', 'R-1-50', 'O', 'O', 'O', 'O', 'O', 'O', 'O', 'O', 'R-1-50', 'O', 'R-2-3', 'O', 'O', 'O', 'O', 'O', 'O', 'O', 'O', 'O', 'O', 'R-2-3', 'R-3-50', 'R-1-50', 'R-1-50', 'R-5-50', 'R-5-6', 'R-6-50', 'R-5-50', 'R-1-50', 'R-2-50', 'R-5-50', 'R-1-50', 'R-2-50', 'R-5-50', 'O', 'O', 'O', 'O', 'O', 'R-2-5', 'R-1-5', 'O', 'O', 'R-4-5', 'R-5-6', 'O', 'O', 'O', 'O', 'R-1-50', 'R-3-50', 'R-3-50', 'R-2-50', 'R-1-50', 'R-1-2', 'R-2-50', 'R-2-5', 'R-5-50', 'R-5-50', 'O', 'O', 'O', 'O', 'O', 'R-2-50', 'R-1-50', 'R-2-50', 'R-1-50', 'O', 'O', 'R-2-50', 'R-5-50', 'O', 'R-2-50', 'R-5-50', 'O', 'R-2-5', 'O', 'O', 'R-2-50', 'O', 'O', 'O', 'O', 'O', 'O', 'O', 'O', 'R-3-4', 'R-4-6', 'R-5-50', 'R-4-5', 'O', 'O', 'R-12-3', 'R-12-2', 'O', 'R-12-50', 'O', 'O', 'R-3-50', 'R-5-50', 'R-1-50', 'O', 'O', 'O', 'R-2-5', 'O', 'O', 'O', 'O', 'O', 'O', 'O', 'R-2-50', 'O', 'R-6-50', 'R-5-6', 'O', 'R-2-50', 'R-2-50', 'R-1-2', 'R-2-50', 'R-5-6', 'R-5-50', 'R-5-6', 'R-6-50', 'R-5-50', 'O', 'O', 'O', 'R-2-50', 'O', 'R-2-50', 'O', 'R-1-2', 'R-2-50', 'R-5-6', 'R-6-50', 'R-6-50', 'R-5-50', 'O', 'R-1-2', 'O', 'O', 'R-2-50', 'O', 'R-12-3', 'O', 'R-2-4', 'R-5-6', 'R-6-50', 'R-2-50', 'R-1-50', 'R-3-50', 'O', 'O', 'O', 'O', 'O', 'O', 'O', 'O', 'R-3-4', 'R-5-5', 'O', 'O', 'O', 'O', 'R-5-6', 'R-6-50', 'R-5-50', 'R-5-50', 'R-2-50', 'R-2-50', 'O', 'O', 'O', 'O', 'O', 'O', 'R-1-50', 'R-1-3', 'R-3-50', 'R-3-50', 'R-3-5', 'R-4-5', 'R-5-50', 'R-5-4', 'O', 'O', 'R-1-50', 'R-2-50', 'R-4-50', 'R-5-50', 'R-2-50', 'R-4-50', 'R-1-50', 'R-5-50', 'O', 'O', 'O', 'O', 'R-2-50', 'R-1-2', 'R-3-4', 'R-5-4', 'R-4-50', 'R-5-50', 'R-2-5', 'O', 'O', 'O', 'O', 'R-1-50', 'R-1-50', 'R-1-50', 'R-1-2', 'R-2-3', 'R-3-50', 'R-1-50', 'R-11-50', 'O', 'R-2-50', 'R-1-50', 'R-1-2', 'O', 'R-2-3', 'R-3-50', 'O', 'R-5-6', 'O', 'O', 'R-5-6', 'R-6-50', 'O', 'O', 'O', 'O', 'O', 'O', 'O', 'O', 'O', 'O', 'O', 'R-1-50', 'O', 'O', 'O', 'O', 'O', 'O', 'R-12-3', 'O', 'O', 'R-5-50', 'R-2-50', 'R-1-2', 'R-1-50', 'R-3-50', 'O', 'R-5-6', 'R-3-6', 'R-11-12', 'R-12-3', 'R-11-12', 'O', 'O', 'R-2-50', 'R-3-50', 'R-5-50', 'R-5-50', 'R-5-50', 'O', 'O', 'O', 'O', 'O', 'O', 'O', 'O', 'O', 'R-12-3', 'O', 'O', 'O', 'O', 'O', 'O', 'O', 'O', 'O', 'O', 'O', 'O', 'O', 'R-12-3', 'O', 'O', 'O', 'O', 'O', 'O', 'O', 'O', 'R-5-50', 'R-4-5', 'O', 'O', 'O', 'O', 'O', 'O', 'O', 'O', 'O', 'O', 'O', 'R-1-50', 'R-2-50', 'R-1-50', 'R-1-2', 'O', 'O', 'O', 'O', 'R-12-3', 'O', 'R-4-5', 'O', 'O', 'O', 'O', 'R-5-50', 'O', 'R-1-50', 'R-4-50', 'R-1-50', 'R-1-50', 'O', 'O', 'O', 'O', 'O', 'R-4-5', 'R-5-50', 'O', 'R-5-6', 'R-6-50', 'O', 'O', 'O', 'O', 'O', 'O', 'O', 'O', 'R-3-50', 'R-3-50', 'O', 'R-3-4', 'R-5-50', 'R-5-50', 'R-2-50', 'R-1-50', 'R-1-50', 'R-2-5', 'R-2-3', 'R-5-50', 'R-3-50', 'O', 'O', 'R-1-50', 'R-1-2', 'R-5-50', 'R-4-5', 'R-5-6', 'R-5-6', 'R-6-50', 'O', 'O', 'R-4-5', 'R-4-5', 'R-5-50', 'R-3-4', 'R-4-50', 'R-4-50', 'O', 'O', 'O', 'O', 'O', 'O', 'O', 'R-2-50', 'O', 'O', 'O', 'O', 'R-1-3', 'R-1-2', 'R-1-3', 'R-1-3', 'R-5-50', 'R-3-50', 'R-2-50', 'O', 'R-1-2', 'O', 'R-2-50', 'R-3-50', 'R-3-4', 'R-3-4', 'R-5-6', 'R-6-50', 'R-4-5', 'R-5-6', 'R-6-50', 'O', 'O', 'R-1-50', 'R-1-4', 'R-1-2', 'R-1-4', 'R-1-2', 'R-1-2', 'R-2-3', 'R-1-2', 'R-3-50', 'O', 'O', 'R-1-50', 'O', 'O', 'R-3-4', 'R-3-4', 'O', 'R-4-5', 'R-5-50', 'R-3-50', 'R-2-50', 'R-3-50', 'R-2-50', 'R-1-50', 'R-1-50', 'R-1-2', 'R-1-2', 'O', 'R-5-6', 'O', 'O', 'R-5-6', 'R-6-50', 'R-5-50', 'O', 'O', 'O', 'O', 'O', 'O', 'O', 'O', 'R-2-50', 'R-2-50', 'R-5-50', 'R-5-6', 'R-6-50', 'R-1-50', 'O', 'R-2-50', 'O', 'O', 'O', 'R-5-50', 'O', 'O', 'O', 'O', 'O', 'O', 'O', 'O', 'R-1-2', 'R-2-50', 'R-12-4', 'R-12-3', 'O', 'R-3-4', 'R-4-5', 'R-5-6', 'O', 'R-6-50', 'O', 'R-2-50', 'O', 'O', 'O', 'O', 'O', 'O', 'O', 'O', 'O', 'O', 'R-1-50', 'R-1-2', 'R-5-50', 'R-5-4', 'R-4-6', 'O', 'O', 'O', 'R-5-50', 'O', 'O', 'R-5-50', 'R-11-5', 'R-11-12', 'R-12-3', 'R-11-12', 'R-12-3', 'O', 'O', 'O', 'O', 'O', 'R-1-2', 'R-1-2', 'R-2-50', 'O', 'O', 'R-2-3', 'R-3-50', 'R-11-12', 'R-5-6', 'R-6-50', 'O', 'R-2-50', 'O', 'R-1-50', 'O', 'R-3-4', 'R-4-6', 'R-3-50', 'O', 'R-5-6', 'R-6-50', 'O', 'R-5-50', 'O', 'O', 'O', 'O', 'O', 'O', 'O', 'R-3-4', 'R-4-50', 'O', 'O', 'O', 'O', 'O', 'O', 'O', 'O', 'R-11-12', 'R-12-3', 'O', 'R-4-5', 'O', 'O', 'R-5-6', 'R-6-50', 'R-5-50', 'R-4-5', 'R-12-2', 'R-2-5', 'R-5-50', 'R-5-50', 'R-2-50', 'R-3-50', 'O', 'R-1-2', 'O', 'R-1-50', 'O', 'R-1-50', 'O', 'R-4-5', 'O', 'O', 'O', 'R-4-50', 'R-5-4', 'O', 'O', 'O', 'O', 'O', 'O', 'O', 'O', 'O', 'R-5-50', 'R-5-6', 'R-5-50', 'R-5-6', 'O', 'R-2-50', 'O', 'R-1-3', 'O', 'O', 'O', 'R-2-50', 'O', 'O', 'O', 'O', 'O', 'R-2-50', 'R-5-50', 'R-1-2', 'R-5-50', 'O', 'R-1-2', 'O', 'R-1-3', 'R-3-50', 'O', 'O', 'O', 'O', 'O', 'O', 'R-3-4', 'R-3-6', 'R-3-6', 'O', 'R-5-50', 'R-5-50', 'R-5-4', 'R-5-6', 'R-6-50', 'R-4-6', 'R-3-5', 'O', 'R-1-2', 'R-1-3', 'R-1-2', 'R-1-3', 'R-1-2', 'R-3-50', 'R-1-3', 'R-3-50', 'R-2-50', 'R-3-50', 'O', 'O', 'O', 'O', 'R-3-5', 'O', 'O', 'O', 'O', 'O', 'R-2-50', 'O', 'O', 'O', 'O', 'O', 'R-2-50', 'R-1-2', 'R-2-3', 'R-5-50', 'O', 'O', 'O', 'O', 'R-5-50', 'R-2-5', 'R-2-50', 'R-3-6', 'R-6-50', 'R-1-3', 'R-3-50', 'O', 'O', 'R-5-50', 'O', 'R-2-50', 'R-1-2', 'R-1-2', 'R-12-50', 'R-3-4', 'R-3-50', 'R-2-5', 'R-5-6', 'R-6-50', 'R-5-6', 'R-2-50', 'R-5-50', 'R-2-4', 'R-5-50', 'O', 'O', 'R-1-2', 'R-1-2', 'R-2-3', 'R-1-2', 'R-3-50', 'R-2-3', 'R-2-3', 'R-3-50', 'R-3-4', 'R-4-6', 'R-3-6', 'O', 'R-11-12', 'R-12-3', 'R-11-12', 'R-12-3', 'R-3-4', 'R-3-5', 'R-5-6', 'O', 'R-5-6', 'R-6-50', 'R-5-50', 'R-5-50', 'O', 'O', 'R-5-50', 'R-6-50', 'R-5-6', 'R-12-2', 'O', 'R-1-2', 'R-2-4', 'R-1-2', 'R-2-50', 'R-2-4', 'O', 'O', 'O', 'O', 'R-3-50', 'O', 'O', 'O', 'R-3-4', 'R-4-5', 'R-5-6', 'O', 'O', 'R-5-6', 'R-6-50', 'O', 'R-2-50', 'R-12-3', 'R-50-3', 'R-2-50', 'R-4-50', 'R-2-4', 'O', 'O', 'R-2-50', 'R-1-2', 'R-1-2', 'O', 'R-5-50', 'R-2-50', 'O', 'O', 'R-12-50', 'R-3-50', 'O', 'R-5-50', 'R-3-50', 'R-2-50', 'R-1-2', 'R-1-3', 'R-1-2', 'R-1-2', 'R-2-3', 'R-3-50', 'O', 'O', 'R-2-50', 'R-2-3', 'R-1-2', 'R-3-50', 'R-3-4', 'O', 'O', 'R-5-4', 'R-5-50', 'O', 'R-5-6', 'O', 'R-5-50', 'R-6-50', 'R-5-6', 'R-6-50', 'O', 'O', 'R-4-5', 'O', 'R-3-50', 'R-2-3', 'R-1-2', 'R-1-50', 'R-1-50', 'R-12-3', 'O', 'R-12-3', 'R-5-12', 'O', 'R-6-50', 'O', 'R-5-50', 'R-5-50', 'R-4-5', 'R-3-4', 'R-5-50', 'R-1-50', 'R-2-50', 'O', 'O', 'O', 'R-5-50', 'R-5-50', 'R-5-50', 'O', 'O', 'O', 'O', 'O', 'R-3-50', 'R-1-50', 'R-1-2', 'R-1-3', 'R-3-50', 'R-5-6', 'R-5-6', 'R-6-50', 'O', 'O', 'R-12-3', 'O', 'R-1-50', 'R-2-50', 'R-2-50', 'O', 'O', 'R-5-6', 'R-4-5', 'O', 'O', 'O', 'R-2-50', 'R-2-50', 'R-2-3', 'R-2-11', 'R-2-3', 'R-3-11', 'O', 'O', 'O', 'O', 'O', 'O', 'O', 'O', 'O', 'O', 'R-12-3', 'R-4-5', 'R-4-5', 'O', 'R-6-50', 'R-5-50', 'O', 'O', 'O', 'O', 'R-4-5', 'O', 'O', 'O', 'O', 'O', 'O', 'O', 'O', 'O', 'O', 'O', 'O', 'R-5-50', 'R-5-6', 'R-6-50', 'O', 'R-1-3', 'R-1-2', 'R-2-3', 'R-5-6', 'R-6-50', 'R-5-50', 'R-5-50', 'R-3-50', 'O', 'O', 'O', 'O', 'O', 'R-1-50', 'R-2-50', 'R-1-50', 'R-2-50', 'R-1-2', 'R-1-2', 'R-1-50', 'R-5-50', 'O', 'R-5-50', 'O', 'O', 'R-2-50', 'R-1-2', 'R-5-50', 'O', 'O', 'O', 'O', 'O', 'O', 'O', 'O', 'O', 'O', 'O', 'O', 'O', 'O', 'O', 'O', 'R-2-50', 'O', 'R-1-50', 'R-1-50', 'R-1-2', 'O', 'O', 'O', 'O', 'O', 'R-12-3', 'R-1-50', 'R-2-50', 'R-2-50', 'R-1-50', 'O', 'O', 'O', 'O', 'O', 'O', 'O', 'O', 'O', 'O', 'O', 'R-2-50', 'R-1-2', 'O', 'R-1-5', 'O', 'R-12-3', 'O', 'O', 'O', 'O', 'R-1-50', 'R-1-2', 'R-1-50', 'R-1-5', 'R-5-50', 'R-5-6', 'R-6-50', 'R-3-5', 'R-2-5', 'R-1-2', 'O', 'O', 'O', 'R-3-50', 'R-2-50', 'R-3-50', 'R-2-50', 'R-1-50', 'R-1-50', 'R-5-50', 'O', 'O', 'O', 'O', 'O', 'O', 'O', 'R-1-2', 'R-2-50', 'O', 'R-5-50', 'R-2-50', 'R-5-50', 'R-1-50', 'R-2-50', 'R-1-50', 'R-1-2', 'O', 'R-2-3', 'R-5-50', 'R-4-5', 'O', 'R-5-50', 'O', 'O', 'O', 'O', 'O', 'O', 'O', 'R-3-50', 'R-3-4', 'R-2-50', 'R-1-2', 'R-1-2', 'R-1-2', 'R-2-3', 'O', 'O', 'R-3-50', 'R-3-50', 'R-2-3', 'R-1-50', 'R-1-2', 'R-2-3', 'R-3-4', 'R-3-2', 'R-4-50', 'R-4-50', 'R-5-50', 'R-5-50', 'R-5-4', 'R-5-6', 'R-6-50', 'O', 'R-1-50', 'R-2-50', 'R-1-50', 'R-1-2', 'O', 'O', 'O', 'O', 'R-2-3', 'R-3-50', 'O', 'O', 'O', 'O', 'O', 'O', 'R-12-3', 'O', 'R-2-50', 'O', 'R-2-50', 'R-1-2', 'R-1-2', 'R-2-50', 'O', 'O', 'R-5-6', 'O', 'R-2-50', 'R-3-50', 'R-3-50', 'R-2-3', 'R-1-3', 'R-3-50', 'O', 'R-5-50', 'O', 'R-5-6', 'O', 'O', 'R-5-6', 'R-6-50', 'O', 'R-2-3', 'O', 'R-5-6', 'O', 'O', 'O', 'R-5-6', 'R-6-50', 'R-2-50', 'O', 'O', 'O', 'O', 'R-2-5', 'R-4-5', 'O', 'R-5-50', 'O', 'O', 'O', 'O', 'R-2-5', 'R-6-50', 'R-4-50', 'R-2-50', 'R-1-50', 'R-6-50', 'R-4-50', 'R-2-50', 'R-1-50', 'R-1-2', 'R-2-3', 'R-2-3', 'R-3-50', 'R-3-4', 'R-12-3', 'R-12-3', 'R-3-4', 'R-6-50', 'O', 'O', 'R-6-50', 'O', 'O', 'R-12-50', 'R-2-50', 'O', 'O', 'R-1-2', 'R-12-2', 'R-12-3', 'R-3-4', 'R-4-50', 'O', 'O', 'O', 'O', 'R-11-12', 'R-12-3', 'R-5-6', 'R-6-50', 'O', 'R-1-2', 'R-1-2', 'R-1-2', 'R-2-3', 'O', 'R-1-50', 'R-5-50', 'O', 'O', 'R-1-50', 'R-1-50', 'R-1-2', 'R-1-3', 'R-2-50', 'O', 'R-5-50', 'R-5-4', 'R-11-12', 'R-12-5', 'O', 'R-2-50', 'R-1-2', 'R-1-2', 'R-1-50', 'O', 'O', 'R-5-50', 'O', 'R-5-6', 'R-6-50', 'R-6-50', 'O', 'O', 'O', 'R-3-50', 'R-5-50', 'O', 'O', 'O', 'O', 'O', 'O', 'O', 'O', 'R-3-50', 'O', 'O', 'O', 'O', 'O', 'O', 'R-5-50', 'O', 'O', 'O', 'O', 'R-4-5', 'O', 'O', 'O', 'R-2-50', 'R-2-50', 'O', 'O', 'R-2-50', 'O', 'R-2-50', 'R-1-50', 'R-1-2', 'R-1-2', 'R-2-50', 'R-2-5', 'O', 'R-2-5', 'R-5-6', 'R-6-50', 'O', 'R-5-6', 'R-5-50', 'R-4-5', 'R-5-6', 'O', 'O', 'R-12-3', 'O', 'O', 'O', 'O', 'O', 'R-5-50', 'R-5-4', 'R-2-50', 'R-3-4', 'O', 'O', 'O', 'O', 'O', 'O', 'O', 'O', 'R-5-50', 'O', 'O', 'R-5-6', 'R-6-50', 'R-6-50', 'R-5-5', 'R-2-50', 'R-1-50', 'R-1-2', 'R-3-50', 'R-3-50', 'O', 'R-5-50', 'R-3-5', 'O', 'O', 'R-5-50', 'R-2-50', 'R-5-50', 'R-5-50', 'R-2-50', 'R-1-2', 'O', 'R-5-50', 'R-5-50', 'O', 'O', 'O', 'R-2-50', 'R-2-50', 'R-2-50', 'O', 'O', 'O', 'O', 'R-3-4', 'R-11-12', 'R-12-3', 'O', 'O', 'O', 'O', 'O', 'O', 'R-2-50', 'R-3-50', 'O', 'O', 'R-5-50', 'R-5-4', 'R-5-6', 'O', 'O', 'O', 'O', 'O', 'R-5-6', 'R-6-50', 'R-5-6', 'R-5-50', 'R-5-50', 'R-5-50', 'R-2-50', 'R-3-50', 'O', 'O', 'O', 'O', 'R-1-2', 'R-2-3', 'O', 'R-12-3', 'R-11-12', 'R-12-3', 'O', 'O', 'O', 'O', 'O', 'O', 'R-5-50', 'R-4-5', 'O', 'R-5-6', 'R-6-50', 'R-5-50', 'O', 'O', 'O', 'O', 'R-5-50', 'R-4-5', 'R-4-5', 'O', 'R-5-6', 'R-6-50', 'O', 'O', 'O', 'O', 'O', 'O', 'O', 'R-3-50', 'R-3-4', 'R-3-4', 'R-5-6', 'R-6-50', 'R-1-3', 'R-3-50', 'R-1-2', 'R-2-50', 'R-1-2', 'R-1-50', 'R-1-50', 'R-1-50', 'O', 'O', 'O', 'O', 'O', 'O', 'O', 'O', 'O', 'O', 'O', 'O', 'O', 'O', 'O', 'O', 'R-11-12', 'R-12-3', 'O', 'R-11-12', 'R-12-3', 'R-11-12', 'R-12-3', 'R-3-5', 'O', 'R-5-6', 'R-6-50', 'O', 'R-3-50', 'R-12-3', 'R-11-12', 'R-11-50', 'R-2-50', 'O', 'O', 'O', 'O', 'O', 'O', 'R-5-50', 'O', 'R-5-6', 'R-6-50', 'R-5-50', 'O', 'O', 'O', 'R-3-50', 'R-1-3', 'O', 'O', 'O', 'O', 'O', 'R-1-2', 'R-2-50', 'O', 'R-1-3', 'R-1-2', 'O', 'O', 'O', 'O', 'R-1-50', 'R-3-50', 'R-2-3', 'R-3-50', 'R-2-3', 'O', 'O', 'O', 'R-2-50', 'O', 'O', 'O', 'O', 'O', 'O', 'O', 'O', 'O', 'R-1-50', 'O', 'R-2-50', 'R-5-50', 'R-5-50', 'R-2-50', 'R-1-50', 'R-2-50', 'R-1-50', 'O', 'R-2-1', 'R-1-2', 'R-2-50', 'R-1-2', 'R-2-50', 'R-1-50', 'R-1-50', 'R-1-2', 'R-2-3', 'R-4-50', 'O', 'R-4-50', 'R-12-3', 'R-3-50', 'R-5-50', 'R-5-4', 'R-5-6', 'R-6-50', 'R-5-50', 'R-5-50', 'R-5-50', 'R-5-50', 'R-1-50', 'R-1-2', 'R-2-5', 'O', 'O', 'O', 'R-6-50', 'O', 'O', 'R-2-50', 'O', 'O', 'R-5-6', 'R-6-50', 'R-5-50', 'O', 'O', 'O', 'O', 'O', 'O', 'R-2-50', 'O', 'O', 'O', 'O', 'O', 'O', 'R-1-2', 'R-2-4', 'R-4-5', 'R-5-6', 'R-5-6', 'R-6-50', 'R-5-50', 'R-3-50', 'R-2-4', 'R-4-50', 'R-3-50', 'R-3-4', 'R-11-12', 'R-12-3', 'O', 'O', 'O', 'O', 'O', 'O', 'O', 'O', 'O', 'O', 'O', 'O', 'O', 'O', 'O', 'R-5-6', 'R-6-50', 'R-6-50', 'R-3-50', 'R-5-6', 'R-3-50', 'R-3-50', 'R-1-2', 'R-2-3', 'O', 'O', 'O', 'O', 'R-2-4', 'R-4-6', 'R-11-12', 'R-12-3', 'R-3-4', 'O', 'O', 'R-2-50', 'R-5-50', 'O', 'R-2-50', 'O', 'O', 'O', 'R-1-2', 'O', 'O', 'R-2-50', 'R-5-50', 'R-2-50', 'R-5-50', 'O', 'R-1-50', 'R-1-50', 'R-1-2', 'R-1-2', 'R-2-3', 'R-5-50', 'O', 'O', 'O', 'O', 'O', 'O', 'O', 'O', 'O', 'O', 'O', 'O', 'R-1-50', 'O', 'R-1-2', 'R-2-3', 'O', 'O', 'R-5-50', 'R-5-6', 'R-5-6', 'R-6-50', 'R-11-12', 'R-12-3', 'O', 'R-1-3', 'R-1-2', 'R-1-2', 'R-1-3', 'R-3-50', 'O', 'O', 'R-1-50', 'R-1-5', 'R-1-50', 'O', 'O', 'O', 'O', 'O', 'O', 'O', 'O', 'O', 'R-1-50', 'O', 'O', 'R-2-50', 'R-1-50', 'R-1-2', 'R-2-50', 'R-5-50', 'R-2-5', 'R-5-50', 'O', 'R-2-50', 'R-2-50', 'R-1-50', 'R-1-2', 'R-2-50', 'R-1-2', 'O', 'R-2-5', 'O', 'R-1-3', 'O', 'O', 'O', 'R-3-50', 'R-2-3', 'R-1-2', 'R-5-50', 'R-2-4', 'R-4-5', 'O', 'R-6-50', 'R-2-50', 'O', 'O', 'R-2-50', 'O', 'R-2-3', 'R-12-3', 'O', 'R-3-4', 'R-4-50', 'R-5-50', 'R-5-6', 'R-6-50', 'O', 'R-4-6', 'R-5-6', 'R-2-50', 'R-3-50', 'R-5-50', 'O', 'O', 'O', 'R-5-50', 'R-4-5', 'R-6-5', 'R-5-6', 'R-6-50', 'R-5-50', 'O', 'R-2-50', 'R-3-50', 'R-5-50', 'R-2-50', 'R-3-50', 'R-5-50', 'O', 'O', 'R-5-50', 'O', 'O', 'R-5-50', 'R-3-50', 'R-1-3', 'R-2-3', 'R-3-4', 'O', 'R-2-50', 'O', 'O', 'R-2-4', 'O', 'R-2-50', 'O', 'O', 'O', 'O', 'O', 'O', 'O', 'O', 'O', 'O', 'O', 'R-3-50', 'R-2-3', 'R-1-2', 'R-2-3', 'R-3-50', 'R-5-6', 'R-6-50', 'R-5-50', 'O', 'O', 'O', 'R-2-3', 'R-3-4', 'R-2-50', 'R-2-50', 'R-3-4', 'R-5-50', 'R-6-50', 'O', 'O', 'O', 'O', 'O', 'R-3-50', 'R-5-50', 'R-3-50', 'R-5-50', 'R-5-6', 'R-5-50', 'R-2-50', 'R-1-50', 'R-1-2', 'R-2-50', 'O', 'R-5-50', 'R-4-50', 'R-2-5', 'R-5-50', 'R-50-1', 'R-4-50', 'R-1-50', 'O', 'R-2-50', 'O', 'R-5-50', 'R-5-6', 'R-6-50', 'R-5-50', 'O', 'O', 'O', 'O', 'O', 'O', 'O', 'O', 'O', 'R-1-50', 'O', 'O', 'O', 'R-1-50', 'R-1-2', 'R-2-50', 'R-2-50', 'R-1-2', 'R-1-50', 'R-1-2', 'R-2-3', 'O', 'R-12-3', 'O', 'R-3-5', 'R-11-12', 'R-11-12', 'R-12-3', 'R-11-12', 'R-12-3', 'R-5-50', 'R-5-6', 'O', 'R-5-5', 'R-5-50', 'R-5-50', 'R-5-50', 'R-11-50', 'R-1-50', 'R-1-50', 'R-11-50', 'R-5-50', 'O', 'O', 'O', 'O', 'R-5-4', 'R-5-6', 'R-6-50', 'O', 'O', 'O', 'R-3-50', 'R-1-50', 'R-12-3', 'R-3-4', 'O', 'R-5-50', 'R-5-50', 'O', 'O', 'O', 'O', 'O', 'O', 'O', 'O', 'R-1-2', 'O', 'O', 'R-12-3', 'O', 'R-4-5', 'R-5-6', 'R-5-6', 'R-11-12', 'R-12-3', 'O', 'R-5-6', 'R-5-50', 'R-5-50', 'R-4-5', 'R-5-6', 'O', 'O', 'R-5-6', 'R-6-50', 'O', 'R-2-50', 'O', 'R-5-50', 'O', 'R-1-2', 'R-2-50', 'O', 'O', 'R-2-50', 'R-2-50', 'R-1-2', 'O', 'O', 'R-12-3', 'R-50-5', 'O', 'R-5-50', 'R-1-50', 'O', 'O', 'O', 'R-2-5', 'R-2-50', 'O', 'O', 'R-2-4', 'O', 'R-1-2', 'R-2-3', 'O', 'O', 'O', 'R-1-50', 'R-3-50', 'R-5-50', 'R-5-50', 'R-3-50', 'R-1-50', 'R-5-50', 'R-6-50', 'R-1-50', 'R-1-2', 'R-2-3', 'R-3-50', 'O', 'O', 'O', 'O', 'O', 'O', 'O', 'O', 'O', 'R-1-3', 'R-3-4', 'R-4-50', 'O', 'O', 'O', 'O', 'O', 'O', 'O', 'O', 'R-5-50', 'R-5-50', 'R-5-6', 'R-6-50', 'O', 'O', 'O', 'O', 'O', 'O', 'O', 'O', 'O', 'O', 'O', 'O', 'O', 'R-5-6', 'O', 'O', 'O', 'R-3-50', 'O', 'R-1-50', 'R-5-50', 'R-1-2', 'R-5-50', 'O', 'O', 'R-5-6', 'R-6-50', 'O', 'O', 'R-2-3', 'R-3-50', 'O', 'O', 'O', 'O', 'O', 'O', 'O', 'O', 'O', 'O', 'O', 'O', 'R-2-50', 'O', 'R-2-50', 'O', 'O', 'O', 'O', 'O', 'O', 'O', 'O', 'R-1-50', 'R-1-3', 'R-1-2', 'R-2-3', 'R-2-3', 'R-3-50', 'R-1-2', 'R-1-3', 'O', 'O', 'O', 'R-3-4', 'O', 'O', 'O', 'R-11-12', 'R-11-12', 'R-12-3', 'R-3-50', 'R-3-50', 'O', 'R-6-50', 'R-5-6', 'O', 'R-5-50', 'R-6-50', 'O', 'O', 'O', 'O', 'O', 'R-5-50', 'R-1-50', 'O', 'O', 'O', 'O', 'O', 'O', 'O', 'R-12-50', 'R-5-50', 'R-5-50', 'R-5-6', 'R-6-50', 'O', 'O', 'O', 'R-2-5', 'R-2-4', 'R-4-50', 'R-12-50', 'R-1-50', 'R-1-2', 'R-2-4', 'R-4-50', 'O', 'O', 'R-6-50', 'O', 'R-5-50', 'O', 'R-4-5', 'R-6-50', 'O', 'R-3-50', 'R-3-4', 'R-11-12', 'R-12-3', 'O', 'O', 'O', 'O', 'O', 'O', 'R-1-50', 'R-2-50', 'R-1-2', 'R-2-4', 'R-1-2', 'R-1-2', 'O', 'R-3-4', 'O', 'R-11-12', 'R-11-12', 'R-12-3', 'O', 'O', 'O', 'O', 'O', 'R-5-6', 'R-4-5', 'R-5-6', 'R-2-50', 'O', 'O', 'O', 'O', 'O', 'O', 'R-1-50', 'R-3-50', 'R-5-50', 'O', 'R-1-2', 'R-2-50', 'R-3-50', 'R-1-3', 'R-1-2', 'R-1-50', 'R-1-3', 'R-1-2', 'R-3-50', 'R-3-5', 'R-5-50', 'O', 'R-5-50', 'R-5-4', 'R-5-4', 'O', 'O', 'R-3-50', 'R-2-3', 'R-1-3', 'R-3-50', 'O', 'R-5-50', 'R-2-50', 'O', 'O', 'O', 'R-3-50', 'R-3-50', 'R-2-3', 'R-1-3', 'R-1-3', 'R-3-50', 'R-1-50', 'R-3-4', 'R-4-50', 'R-5-50', 'R-4-5', 'O', 'R-6-50', 'R-5-50', 'R-5-50', 'O', 'O', 'R-5-50', 'R-5-50', 'O', 'O', 'O', 'O', 'R-2-50', 'R-1-50', 'R-2-50', 'R-2-3', 'R-3-4', 'R-4-50', 'O', 'O', 'O', 'O', 'O', 'O', 'O', 'O', 'O', 'O', 'O', 'O', 'O', 'O']"
     ]
    },
    {
     "name": "stdout",
     "output_type": "stream",
     "text": [
      "\n"
     ]
    },
    {
     "name": "stdout",
     "output_type": "stream",
     "text": [
      "New labels:  [0, 0, 0, 0, 1, 1, 0, 0, 2, 0, 0, 0, 0, 0, 0, 0, 0, 0, 0, 0, 0, 0, 0, 0, 3, 1, 4, 0, 5, 0, 6, 0, 0, 0, 0, 0, 7, 7, 1, 3, 0, 0, 0, 0, 0, 0, 0, 0, 0, 0, 0, 0, 0, 0, 6, 8, 0, 0, 1, 1, 0, 0, 0, 0, 0, 0, 0, 9, 0, 1, 10, 11, 0, 4, 0, 5, 0, 11, 0, 9, 3, 7, 0, 0, 0, 3, 0, 0, 0, 12, 3, 7, 0, 3, 7, 3, 11, 0, 11, 8, 0, 0, 0, 11, 9, 0, 6, 10, 0, 10, 1, 0, 5, 0, 4, 10, 0, 9, 11, 11, 11, 0, 0, 6, 13, 6, 0, 8, 8, 11, 0, 0, 0, 0, 0, 0, 0, 0, 0, 0, 0, 0, 0, 0, 3, 0, 1, 7, 14, 1, 11, 15, 0, 6, 13, 0, 0, 0, 3, 7, 1, 7, 4, 16, 17, 2, 16, 11, 6, 8, 8, 6, 0, 0, 11, 0, 0, 0, 0, 0, 0, 0, 0, 0, 0, 12, 12, 0, 0, 0, 0, 1, 4, 5, 3, 0, 0, 0, 0, 0, 0, 11, 7, 4, 9, 5, 18, 5, 11, 11, 0, 7, 7, 7, 14, 3, 9, 0, 0, 0, 0, 11, 0, 0, 0, 7, 11, 1, 6, 13, 0, 11, 11, 7, 0, 7, 8, 6, 13, 11, 0, 0, 7, 0, 2, 0, 1, 7, 0, 4, 1, 11, 6, 8, 6, 0, 0, 6, 13, 11, 8, 0, 0, 11, 9, 0, 0, 0, 13, 0, 11, 11, 8, 0, 6, 13, 0, 0, 0, 0, 3, 9, 11, 4, 1, 4, 0, 11, 0, 0, 0, 0, 19, 6, 11, 3, 7, 11, 14, 20, 13, 6, 7, 0, 0, 1, 7, 7, 0, 7, 4, 0, 0, 0, 0, 0, 0, 1, 3, 5, 0, 11, 13, 0, 6, 13, 0, 11, 11, 0, 0, 0, 13, 6, 6, 0, 11, 0, 7, 1, 0, 0, 0, 0, 5, 11, 9, 0, 0, 7, 0, 0, 0, 0, 0, 11, 8, 6, 0, 0, 6, 13, 20, 11, 8, 11, 0, 9, 8, 0, 0, 0, 0, 3, 14, 12, 0, 0, 0, 11, 6, 13, 11, 19, 0, 0, 0, 0, 0, 0, 0, 2, 0, 0, 0, 11, 11, 8, 8, 11, 0, 0, 11, 19, 19, 10, 9, 0, 0, 0, 0, 0, 0, 7, 0, 7, 1, 1, 10, 21, 0, 0, 11, 10, 0, 0, 0, 0, 11, 6, 0, 0, 0, 3, 0, 0, 0, 0, 0, 0, 0, 0, 3, 0, 12, 4, 5, 5, 1, 0, 0, 7, 7, 6, 13, 6, 10, 13, 11, 0, 0, 0, 0, 0, 0, 0, 0, 0, 0, 0, 0, 0, 11, 9, 5, 0, 0, 9, 6, 13, 0, 6, 13, 13, 0, 0, 0, 9, 11, 9, 7, 0, 9, 7, 0, 4, 0, 6, 0, 19, 5, 20, 0, 0, 5, 8, 12, 0, 0, 13, 6, 0, 11, 8, 6, 13, 6, 11, 0, 0, 0, 0, 0, 0, 1, 22, 13, 0, 0, 0, 0, 0, 0, 7, 0, 0, 0, 0, 0, 0, 0, 0, 0, 0, 0, 17, 2, 8, 6, 0, 0, 0, 0, 7, 9, 0, 0, 0, 5, 11, 11, 6, 13, 11, 0, 16, 11, 3, 3, 3, 16, 11, 11, 16, 16, 0, 0, 0, 0, 0, 0, 1, 3, 7, 0, 0, 0, 6, 13, 0, 0, 0, 11, 6, 13, 6, 11, 11, 9, 5, 0, 3, 1, 0, 0, 0, 9, 7, 7, 13, 0, 1, 0, 0, 0, 1, 7, 4, 2, 6, 13, 0, 0, 0, 0, 0, 0, 5, 0, 0, 0, 11, 6, 13, 6, 0, 0, 0, 0, 0, 3, 11, 11, 23, 8, 0, 0, 6, 13, 0, 11, 3, 1, 1, 0, 4, 5, 0, 11, 3, 10, 0, 0, 0, 0, 0, 0, 0, 0, 0, 0, 0, 9, 24, 4, 0, 1, 24, 1, 25, 11, 13, 20, 1, 24, 7, 0, 6, 13, 0, 11, 10, 4, 1, 3, 0, 3, 9, 11, 0, 3, 9, 11, 3, 9, 1, 4, 9, 11, 9, 4, 5, 11, 19, 20, 6, 6, 11, 6, 0, 0, 0, 0, 1, 1, 3, 7, 7, 0, 7, 9, 0, 0, 0, 0, 13, 11, 0, 0, 0, 0, 0, 0, 4, 1, 1, 4, 23, 8, 0, 0, 0, 6, 13, 0, 0, 0, 0, 0, 0, 0, 0, 8, 6, 0, 0, 0, 0, 0, 8, 0, 7, 1, 1, 6, 13, 3, 7, 11, 11, 11, 0, 0, 3, 24, 1, 5, 20, 11, 0, 6, 13, 0, 0, 0, 0, 7, 0, 0, 0, 0, 3, 5, 24, 4, 1, 7, 23, 5, 6, 6, 0, 0, 0, 0, 0, 0, 0, 0, 0, 0, 17, 2, 17, 17, 2, 0, 0, 6, 8, 6, 0, 0, 0, 6, 13, 6, 0, 7, 4, 0, 0, 0, 0, 7, 1, 0, 1, 1, 1, 7, 0, 17, 17, 2, 3, 3, 0, 0, 0, 0, 2, 0, 5, 0, 7, 7, 9, 0, 5, 0, 7, 6, 8, 6, 13, 0, 0, 0, 1, 0, 1, 3, 1, 17, 2, 0, 0, 0, 0, 0, 0, 0, 0, 0, 0, 0, 0, 0, 0, 0, 0, 9, 24, 0, 0, 0, 0, 0, 0, 13, 7, 3, 7, 0, 0, 7, 1, 1, 7, 0, 1, 11, 6, 13, 0, 0, 9, 0, 7, 1, 0, 11, 2, 0, 0, 0, 0, 0, 0, 0, 0, 0, 0, 7, 0, 0, 0, 0, 0, 7, 0, 5, 22, 6, 13, 0, 6, 7, 12, 0, 20, 13, 7, 7, 1, 0, 11, 0, 0, 0, 1, 0, 7, 4, 5, 0, 5, 20, 13, 0, 0, 0, 0, 0, 0, 17, 2, 0, 0, 0, 0, 0, 0, 0, 3, 0, 0, 0, 3, 11, 17, 2, 23, 6, 6, 13, 14, 8, 11, 26, 0, 3, 3, 7, 4, 5, 12, 0, 3, 1, 1, 0, 0, 0, 0, 0, 0, 0, 0, 0, 0, 11, 0, 8, 14, 14, 0, 0, 0, 11, 11, 11, 0, 0, 0, 3, 0, 3, 16, 1, 10, 10, 6, 3, 2, 0, 0, 3, 0, 0, 16, 11, 3, 9, 7, 3, 0, 0, 0, 0, 9, 5, 0, 11, 19, 19, 11, 0, 0, 0, 3, 7, 14, 0, 5, 0, 0, 0, 0, 0, 0, 11, 6, 0, 0, 0, 0, 0, 6, 13, 0, 6, 11, 11, 0, 8, 0, 0, 0, 0, 0, 0, 0, 0, 0, 0, 0, 0, 0, 7, 0, 0, 5, 8, 0, 0, 0, 0, 8, 6, 3, 7, 1, 1, 1, 0, 0, 0, 0, 0, 2, 0, 2, 0, 0, 0, 0, 0, 9, 9, 0, 1, 4, 0, 0, 0, 0, 0, 3, 27, 14, 1, 11, 0, 2, 17, 11, 0, 9, 0, 5, 0, 11, 6, 13, 11, 9, 0, 0, 0, 0, 0, 0, 0, 0, 2, 17, 28, 0, 0, 8, 6, 0, 0, 0, 6, 0, 0, 0, 0, 0, 0, 0, 0, 8, 6, 0, 0, 6, 13, 3, 1, 7, 3, 4, 5, 13, 29, 23, 9, 0, 4, 5, 2, 0, 0, 7, 3, 11, 5, 11, 0, 0, 3, 9, 7, 3, 1, 24, 0, 0, 0, 0, 0, 0, 0, 11, 6, 13, 0, 1, 7, 0, 0, 0, 0, 0, 0, 0, 0, 0, 0, 0, 0, 0, 3, 11, 16, 3, 16, 11, 0, 7, 17, 7, 21, 2, 30, 0, 15, 0, 1, 31, 10, 11, 11, 0, 13, 0, 16, 3, 11, 0, 0, 0, 0, 0, 0, 0, 9, 9, 0, 0, 0, 0, 0, 0, 0, 0, 7, 7, 32, 11, 11, 3, 0, 0, 0, 0, 11, 0, 0, 6, 13, 11, 6, 0, 0, 0, 0, 0, 0, 1, 1, 1, 0, 0, 10, 8, 0, 6, 13, 0, 0, 0, 0, 0, 0, 0, 0, 0, 0, 0, 0, 8, 0, 0, 0, 0, 6, 13, 11, 16, 3, 3, 3, 16, 17, 2, 16, 11, 11, 11, 16, 3, 0, 7, 0, 0, 0, 0, 0, 0, 0, 0, 0, 8, 11, 6, 13, 0, 0, 0, 0, 0, 0, 0, 0, 0, 0, 0, 0, 11, 6, 13, 8, 6, 11, 0, 0, 0, 9, 11, 5, 5, 20, 9, 5, 11, 6, 13, 13, 0, 0, 4, 24, 5, 0, 5, 22, 10, 11, 6, 8, 6, 0, 6, 13, 6, 11, 7, 9, 4, 5, 10, 0, 13, 7, 11, 11, 11, 11, 3, 3, 3, 9, 7, 11, 0, 0, 0, 9, 2, 4, 17, 20, 0, 0, 3, 1, 4, 14, 8, 6, 6, 13, 11, 0, 0, 0, 11, 6, 0, 11, 6, 13, 3, 7, 12, 1, 3, 8, 0, 6, 0, 0, 0, 0, 0, 11, 16, 7, 1, 29, 9, 1, 4, 5, 12, 6, 13, 0, 7, 9, 0, 3, 7, 1, 3, 17, 32, 17, 2, 16, 19, 19, 13, 11, 7, 7, 0, 0, 0, 0, 0, 0, 0, 17, 2, 0, 0, 16, 17, 2, 16, 16, 11, 11, 13, 0, 0, 1, 1, 1, 3, 0, 0, 0, 0, 0, 0, 0, 0, 0, 7, 11, 13, 6, 1, 7, 0, 0, 0, 0, 0, 9, 9, 24, 3, 2, 5, 0, 0, 0, 1, 1, 0, 0, 10, 8, 8, 0, 6, 13, 7, 33, 1, 33, 4, 24, 1, 7, 9, 0, 0, 0, 8, 5, 6, 13, 0, 4, 1, 5, 20, 13, 0, 0, 0, 0, 0, 0, 0, 0, 1, 0, 3, 0, 0, 0, 2, 17, 17, 2, 6, 11, 6, 0, 11, 11, 0, 0, 0, 0, 0, 0, 0, 1, 34, 0, 0, 5, 17, 2, 8, 0, 0, 0, 0, 0, 0, 0, 0, 0, 3, 13, 0, 0, 0, 0, 1, 7, 7, 0, 5, 17, 2, 0, 8, 6, 6, 13, 0, 0, 0, 0, 0, 0, 8, 6, 0, 0, 0, 0, 0, 0, 0, 0, 0, 7, 4, 5, 1, 3, 4, 0, 17, 2, 16, 35, 13, 12, 0, 0, 0, 0, 11, 11, 11, 0, 0, 7, 0, 11, 4, 5, 9, 14, 11, 0, 0, 0, 7, 1, 0, 14, 8, 6, 3, 9, 24, 16, 0, 0, 7, 0, 0, 0, 0, 0, 0, 0, 7, 0, 0, 0, 0, 14, 7, 6, 13, 0, 11, 0, 1, 1, 0, 0, 2, 0, 0, 11, 3, 10, 11, 12, 14, 6, 13, 3, 9, 9, 4, 0, 7, 3, 0, 0, 0, 0, 0, 0, 0, 0, 13, 0, 0, 0, 7, 1, 0, 0, 2, 0, 11, 6, 13, 8, 11, 0, 3, 1, 1, 4, 11, 8, 6, 13, 0, 0, 0, 0, 0, 0, 8, 0, 0, 9, 9, 9, 2, 16, 7, 1, 11, 12, 0, 0, 0, 0, 0, 5, 0, 36, 13, 13, 0, 0, 0, 0, 1, 0, 11, 0, 11, 0, 1, 7, 10, 0, 17, 2, 0, 11, 13, 6, 0, 7, 3, 3, 7, 11, 0, 0, 1, 0, 0, 9, 11, 3, 7, 7, 1, 0, 0, 0, 7, 5, 11, 23, 13, 7, 4, 0, 5, 22, 25, 11, 11, 11, 11, 0, 6, 13, 6, 0, 7, 7, 7, 9, 5, 9, 29, 0, 11, 9, 0, 5, 0, 0, 0, 0, 0, 19, 6, 13, 11, 0, 0, 0, 0, 0, 0, 0, 0, 0, 0, 0, 0, 0, 0, 0, 2, 0, 0, 0, 0, 0, 0, 8, 6, 4, 9, 4, 11, 10, 11, 0, 4, 10, 0, 0, 0, 0, 0, 0, 0, 0, 0, 0, 0, 7, 7, 0, 29, 9, 1, 11, 0, 0, 0, 0, 0, 0, 0, 1, 0, 1, 0, 0, 0, 0, 0, 0, 0, 0, 4, 0, 0, 0, 8, 20, 0, 20, 13, 13, 11, 11, 9, 11, 9, 0, 0, 0, 0, 0, 0, 0, 0, 3, 0, 0, 0, 0, 0, 0, 0, 0, 17, 17, 2, 17, 2, 11, 0, 8, 0, 3, 3, 0, 0, 0, 0, 0, 0, 0, 0, 7, 1, 10, 8, 0, 0, 6, 13, 6, 7, 7, 1, 0, 0, 10, 6, 13, 0, 22, 11, 9, 0, 9, 4, 10, 0, 0, 0, 0, 19, 14, 0, 0, 0, 0, 0, 3, 7, 1, 15, 1, 4, 9, 1, 0, 2, 17, 2, 17, 2, 11, 8, 0, 6, 13, 11, 11, 6, 13, 0, 0, 0, 0, 0, 0, 1, 0, 9, 7, 7, 3, 0, 17, 17, 2, 13, 20, 19, 11, 0, 0, 0, 0, 0, 1, 11, 13, 0, 0, 0, 0, 0, 0, 0, 0, 0, 0, 0, 0, 0, 0, 11, 8, 6, 13, 0, 2, 0, 6, 13, 0, 0, 0, 0, 0, 0, 0, 0, 11, 7, 12, 0, 0, 1, 34, 0, 0, 6, 13, 11, 11, 0, 10, 11, 10, 0, 3, 1, 1, 3, 0, 0, 3, 7, 7, 1, 7, 7, 11, 7, 3, 0, 0, 0, 0, 7, 1, 0, 0, 0, 0, 0, 0, 7, 3, 0, 1, 1, 1, 7, 11, 0, 19, 20, 6, 13, 11, 11, 8, 0, 0, 7, 0, 9, 5, 4, 4, 24, 1, 7, 11, 19, 12, 12, 8, 13, 9, 4, 0, 9, 3, 11, 9, 3, 11, 1, 5, 6, 13, 11, 9, 3, 0, 0, 0, 0, 0, 8, 6, 19, 5, 5, 12, 0, 0, 0, 0, 0, 0, 0, 0, 1, 4, 9, 9, 0, 0, 0, 23, 23, 10, 0, 4, 9, 23, 16, 0, 16, 7, 0, 0, 3, 3, 11, 3, 3, 11, 11, 11, 3, 11, 7, 1, 7, 7, 0, 1, 4, 5, 9, 17, 32, 15, 11, 6, 13, 9, 3, 0, 4, 3, 17, 2, 17, 2, 6, 13, 0, 33, 14, 9, 5, 0, 0, 0, 0, 11, 8, 0, 0, 6, 11, 11, 11, 0, 0, 1, 7, 11, 0, 17, 21, 0, 11, 0, 0, 0, 0, 0, 0, 0, 7, 9, 9, 4, 1, 0, 0, 0, 0, 2, 17, 2, 0, 0, 0, 0, 0, 11, 0, 0, 2, 0, 0, 0, 2, 0, 0, 0, 0, 0, 0, 0, 0, 3, 1, 1, 4, 9, 11, 11, 8, 14, 13, 6, 11, 0, 0, 3, 7, 11, 0, 3, 7, 11, 1, 0, 1, 4, 9, 11, 0, 0, 0, 13, 11, 0, 5, 4, 20, 6, 6, 13, 0, 0, 0, 0, 0, 0, 0, 0, 0, 11, 0, 0, 3, 0, 0, 0, 0, 0, 0, 0, 0, 0, 1, 1, 0, 0, 0, 0, 0, 3, 1, 4, 11, 6, 13, 11, 0, 0, 7, 11, 0, 0, 0, 0, 7, 9, 5, 8, 6, 9, 7, 0, 0, 0, 0, 0, 0, 0, 0, 11, 13, 25, 23, 5, 0, 3, 0, 0, 0, 0, 9, 0, 0, 13, 11, 8, 9, 0, 0, 11, 0, 0, 0, 0, 1, 0, 0, 8, 14, 11, 6, 13, 0, 0, 0, 0, 0, 11, 16, 7, 3, 11, 16, 7, 3, 3, 0, 16, 11, 11, 11, 11, 0, 0, 0, 0, 0, 6, 13, 0, 0, 0, 11, 11, 0, 0, 0, 0, 0, 0, 0, 0, 10, 11, 24, 1, 24, 1, 4, 0, 0, 0, 0, 16, 3, 3, 1, 9, 0, 17, 17, 2, 9, 4, 9, 5, 0, 11, 20, 0, 0, 0, 7, 0, 0, 0, 0, 0, 0, 0, 0, 2, 8, 6, 0, 0, 0, 0, 0, 1, 7, 3, 7, 11, 6, 11, 0, 7, 0, 7, 4, 5, 0, 17, 21, 3, 1, 7, 0, 0, 11, 9, 3, 6, 13, 0, 11, 5, 0, 1, 7, 4, 5, 3, 0, 0, 1, 1, 7, 5, 12, 12, 17, 2, 0, 6, 13, 13, 0, 0, 0, 0, 7, 0, 23, 0, 6, 13, 0, 0, 0, 0, 0, 3, 1, 7, 0, 0, 0, 11, 0, 0, 0, 11, 6, 13, 4, 0, 0, 0, 0, 4, 0, 29, 29, 17, 17, 2, 0, 0, 11, 11, 11, 11, 11, 3, 24, 5, 1, 1, 0, 0, 0, 0, 0, 12, 5, 7, 0, 0, 0, 0, 0, 0, 0, 0, 0, 32, 11, 0, 0, 0, 0, 0, 0, 0, 0, 0, 11, 6, 13, 0, 0, 0, 8, 14, 14, 12, 0, 3, 1, 14, 12, 1, 0, 13, 11, 0, 0, 7, 10, 37, 19, 3, 7, 3, 14, 12, 0, 0, 0, 0, 3, 1, 10, 10, 19, 11, 11, 3, 13, 11, 3, 11, 9, 3, 11, 9, 9, 3, 11, 3, 1, 1, 0, 0, 0, 3, 9, 1, 10, 11, 13, 16, 0, 0, 0, 0, 0, 24, 1, 7, 9, 9, 7, 0, 5, 11, 0, 0, 0, 13, 0, 0, 9, 9, 4, 7, 6, 22, 0, 11, 6, 13, 0, 0, 0, 9, 0, 0, 0, 0, 0, 0, 0, 0, 0, 0, 0, 0, 0, 0, 11, 23, 11, 5, 4, 0, 0, 0, 6, 13, 0, 1, 0, 0, 0, 0, 0, 8, 11, 1, 4, 23, 11, 23, 0, 0, 0, 0, 0, 3, 7, 7, 1, 14, 11, 6, 13, 0, 0, 0, 24, 5, 0, 16, 11, 9, 16, 7, 6, 13, 6, 13, 0, 0, 17, 2, 9, 4, 0, 17, 2, 1, 0, 0, 11, 3, 1, 3, 6, 8, 6, 0, 0, 0, 11, 11, 0, 0, 3, 1, 0, 1, 3, 1, 7, 3, 13, 6, 6, 13, 20, 6, 13, 13, 0, 0, 0, 7, 0, 0, 0, 0, 0, 0, 0, 0, 0, 1, 6, 13, 0, 0, 0, 7, 1, 14, 0, 0, 0, 0, 8, 6, 14, 0, 6, 13, 6, 11, 11, 17, 2, 0, 17, 2, 0, 0, 0, 7, 11, 0, 0, 0, 3, 0, 0, 24, 0, 5, 0, 0, 0, 0, 0, 9, 7, 1, 3, 0, 0, 0, 1, 5, 4, 9, 0, 0, 0, 0, 0, 0, 7, 1, 1, 0, 9, 4, 15, 6, 0, 0, 0, 0, 0, 0, 0, 0, 0, 0, 0, 0, 0, 2, 0, 0, 17, 2, 0, 0, 24, 1, 24, 8, 0, 0, 0, 13, 11, 11, 0, 9, 3, 7, 11, 3, 7, 11, 9, 3, 7, 1, 1, 7, 11, 11, 11, 6, 13, 0, 9, 4, 11, 6, 8, 6, 6, 13, 0, 0, 0, 11, 9, 11, 9, 0, 0, 0, 0, 0, 0, 0, 0, 9, 14, 11, 6, 13, 19, 4, 9, 0, 0, 0, 0, 0, 0, 0, 9, 4, 3, 1, 3, 2, 17, 2, 0, 17, 2, 17, 2, 11, 0, 11, 11, 0, 0, 0, 3, 1, 7, 1, 7, 9, 0, 9, 11, 0, 0, 6, 13, 13, 11, 7, 7, 11, 0, 1, 0, 7, 0, 0, 10, 0, 0, 0, 10, 0, 0, 0, 7, 0, 0, 0, 0, 1, 7, 0, 0, 2, 5, 0, 0, 11, 11, 11, 0, 0, 0, 0, 0, 0, 0, 0, 6, 13, 0, 0, 0, 0, 0, 0, 0, 11, 11, 0, 0, 0, 11, 8, 0, 0, 11, 0, 0, 0, 0, 3, 0, 0, 3, 4, 9, 6, 13, 0, 0, 0, 0, 0, 0, 0, 3, 0, 0, 0, 0, 0, 0, 0, 0, 0, 0, 0, 1, 1, 0, 0, 11, 6, 13, 10, 8, 0, 2, 0, 0, 0, 7, 7, 0, 7, 3, 11, 9, 11, 8, 0, 13, 9, 9, 2, 17, 2, 17, 2, 9, 3, 3, 1, 7, 0, 0, 0, 0, 0, 0, 0, 0, 0, 17, 2, 8, 6, 0, 0, 6, 13, 3, 11, 3, 24, 9, 11, 11, 11, 11, 11, 3, 0, 0, 7, 7, 0, 11, 0, 0, 0, 0, 0, 0, 11, 11, 0, 0, 0, 0, 0, 4, 5, 0, 17, 2, 17, 17, 2, 8, 6, 13, 0, 0, 0, 3, 1, 7, 7, 9, 17, 17, 2, 0, 6, 13, 11, 11, 3, 7, 3, 11, 10, 1, 0, 3, 0, 0, 0, 0, 0, 0, 0, 0, 0, 0, 0, 1, 7, 4, 1, 4, 5, 20, 2, 0, 17, 2, 16, 7, 3, 0, 0, 0, 0, 0, 11, 11, 6, 0, 0, 0, 0, 0, 0, 7, 7, 0, 1, 1, 0, 9, 0, 0, 7, 0, 5, 0, 13, 6, 0, 0, 0, 0, 7, 14, 12, 0, 0, 0, 7, 1, 0, 15, 11, 6, 13, 10, 0, 1, 0, 0, 0, 0, 0, 0, 0, 0, 0, 0, 0, 2, 17, 17, 2, 8, 6, 6, 13, 8, 8, 0, 0, 0, 0, 8, 0, 0, 0, 2, 0, 0, 7, 10, 31, 0, 0, 0, 7, 1, 0, 0, 0, 17, 21, 11, 11, 0, 0, 0, 0, 0, 3, 11, 9, 1, 5, 8, 6, 6, 13, 11, 11, 11, 3, 0, 11, 8, 0, 6, 0, 0, 0, 0, 0, 0, 0, 0, 0, 0, 0, 2, 0, 0, 0, 0, 0, 2, 0, 11, 0, 0, 0, 0, 6, 13, 0, 11, 0, 0, 0, 5, 0, 13, 0, 0, 0, 0, 0, 3, 1, 1, 3, 3, 1, 0, 0, 8, 6, 11, 11, 9, 9, 4, 11, 10, 0, 2, 0, 0, 7, 1, 4, 0, 3, 11, 11, 15, 13, 6, 0, 11, 7, 0, 0, 0, 5, 17, 0, 0, 0, 0, 0, 0, 0, 0, 0, 15, 1, 7, 7, 0, 14, 11, 13, 0, 7, 0, 0, 0, 0, 0, 11, 6, 0, 0, 0, 0, 0, 7, 0, 0, 7, 10, 0, 0, 0, 0, 0, 0, 10, 0, 0, 0, 0, 0, 11, 10, 1, 0, 0, 0, 11, 11, 0, 0, 0, 3, 0, 21, 0, 0, 0, 9, 19, 11, 0, 38, 0, 0, 0, 3, 7, 0, 9, 0, 16, 17, 2, 3, 1, 1, 4, 4, 0, 3, 0, 0, 0, 6, 13, 3, 9, 22, 22, 13, 6, 13, 0, 0, 0, 0, 0, 0, 0, 0, 0, 0, 0, 0, 0, 0, 0, 0, 0, 0, 0, 0, 0, 0, 0, 0, 0, 39, 39, 10, 8, 0, 10, 0, 0, 7, 0, 0, 0, 0, 0, 7, 0, 11, 11, 0, 9, 12, 0, 0, 7, 0, 8, 11, 0, 9, 20, 13, 11, 24, 1, 9, 7, 0, 5, 20, 0, 0, 0, 0, 0, 0, 0, 0, 3, 3, 1, 0, 1, 1, 3, 1, 0, 0, 10, 0, 0, 0, 9, 23, 23, 6, 11, 0, 0, 3, 0, 0, 3, 1, 3, 9, 0, 0, 1, 7, 0, 11, 7, 0, 11, 3, 7, 7, 3, 3, 3, 0, 0, 0, 0, 0, 1, 4, 5, 0, 8, 0, 0, 11, 6, 13, 9, 4, 9, 7, 0, 0, 0, 0, 0, 17, 2, 0, 14, 8, 0, 6, 13, 11, 7, 3, 7, 3, 0, 7, 0, 3, 0, 0, 0, 0, 0, 0, 0, 7, 3, 0, 7, 3, 6, 6, 13, 6, 0, 0, 0, 0, 0, 0, 0, 8, 0, 9, 4, 0, 9, 0, 0, 0, 0, 9, 4, 9, 24, 3, 1, 3, 11, 8, 0, 11, 9, 9, 5, 0, 0, 11, 0, 7, 21, 3, 7, 0, 7, 1, 0, 1, 24, 2, 10, 11, 13, 11, 9, 7, 0, 0, 12, 0, 0, 0, 3, 3, 3, 2, 0, 6, 8, 0, 0, 0, 0, 10, 11, 11, 8, 0, 0, 0, 1, 0, 0, 0, 0, 0, 19, 11, 0, 6, 13, 11, 3, 1, 7, 0, 9, 12, 11, 9, 3, 0, 0, 0, 7, 0, 30, 7, 19, 6, 13, 0, 0, 0, 0, 0, 40, 0, 0, 0, 0, 0, 14, 5, 0, 5, 4, 4, 9, 0, 17, 2, 17, 0, 9, 9, 3, 1, 4, 0, 3, 1, 7, 3, 7, 11, 10, 11, 0, 13, 0, 29, 0, 0, 0, 0, 0, 0, 0, 0, 17, 2, 11, 8, 6, 13, 11, 0, 1, 0, 0, 0, 0, 0, 0, 0, 0, 0, 0, 1, 7, 24, 9, 1, 4, 0, 6, 13, 0, 0, 0, 2, 5, 1, 3, 6, 13, 0, 0, 7, 7, 0, 1, 7, 3, 0, 17, 2, 9, 7, 1, 1, 7, 7, 7, 0, 11, 19, 20, 0, 5, 9, 0, 5, 41, 3, 7, 1, 3, 0, 0, 0, 0, 7, 9, 22, 5, 1, 7, 0, 0, 0, 0, 0, 0, 0, 0, 0, 0, 0, 0, 7, 1, 4, 4, 0, 5, 0, 17, 17, 2, 0, 6, 0, 0, 0, 0, 0, 6, 0, 1, 4, 22, 22, 22, 9, 9, 0, 0, 0, 9, 0, 2, 5, 11, 0, 0, 7, 0, 0, 0, 7, 6, 8, 6, 13, 0, 6, 11, 7, 0, 0, 0, 0, 0, 0, 0, 2, 0, 0, 0, 0, 0, 3, 0, 0, 0, 0, 0, 0, 1, 3, 3, 0, 0, 0, 5, 17, 17, 2, 0, 11, 1, 10, 8, 6, 13, 12, 11, 11, 0, 0, 0, 0, 0, 8, 6, 0, 0, 16, 7, 3, 1, 7, 17, 2, 9, 7, 20, 13, 7, 21, 21, 7, 0, 0, 11, 6, 11, 13, 7, 4, 9, 0, 12, 0, 11, 6, 13, 20, 8, 6, 11, 3, 1, 24, 4, 0, 0, 0, 0, 0, 0, 0, 0, 11, 3, 0, 0, 0, 0, 0, 0, 0, 0, 0, 0, 0, 0, 0, 5, 0, 0, 0, 0, 0, 10, 0, 7, 0, 0, 7, 3, 3, 7, 19, 19, 12, 1, 0, 0, 0, 0, 0, 11, 0, 0, 11, 31, 17, 2, 17, 0, 0, 0, 3, 0, 1, 0, 9, 0, 5, 11, 11, 11, 7, 3, 11, 9, 11, 0, 11, 11, 11, 6, 11, 3, 1, 7, 0, 0, 0, 10, 1, 23, 11, 7, 1, 1, 0, 1, 7, 3, 9, 9, 29, 5, 9, 12, 7, 12, 6, 13, 7, 1, 0, 0, 10, 6, 13, 0, 0, 3, 1, 4, 7, 3, 0, 0, 7, 0, 7, 24, 0, 14, 20, 0, 11, 0, 11, 0, 19, 20, 20, 0, 0, 20, 0, 3, 7, 1, 0, 0, 11, 8, 6, 13, 11, 11, 0, 3, 0, 0, 1, 10, 11, 12, 19, 0, 0, 0, 0, 0, 17, 2, 17, 2, 0, 15, 3, 11, 3, 0, 7, 10, 6, 0, 0, 0, 0, 0, 0, 0, 0, 0, 7, 13, 0, 42, 13, 0, 0, 0, 0, 2, 0, 11, 13, 0, 6, 0, 6, 8, 0, 0, 0, 0, 0, 1, 1, 0, 0, 0, 0, 0, 8, 0, 6, 13, 0, 0, 1, 9, 3, 23, 9, 23, 6, 23, 6, 0, 0, 0, 7, 1, 3, 0, 3, 9, 1, 4, 0, 7, 1, 3, 0, 0, 0, 0, 0, 0, 0, 0, 0, 0, 3, 1, 24, 24, 1, 0, 7, 5, 4, 0, 11, 11, 11, 0, 13, 0, 0, 0, 0, 0, 0, 0, 0, 0, 0, 3, 7, 3, 1, 1, 4, 5, 12, 3, 0, 11, 16, 0, 3, 0, 0, 0, 0, 1, 0, 8, 0, 0, 0, 0, 0, 0, 0, 0, 0, 0, 5, 12, 12, 11, 0, 0, 0, 0, 0, 0, 0, 0, 0, 0, 0, 0, 1, 5, 6, 13, 0, 0, 0, 0, 0, 0, 0, 3, 11, 0, 0, 0, 0, 0, 0, 0, 9, 4, 0, 0, 1, 7, 0, 14, 5, 12, 0, 0, 0, 6, 13, 11, 0, 0, 0, 0, 0, 9, 11, 11, 0, 0, 11, 11, 3, 3, 1, 1, 0, 0, 7, 1, 0, 3, 0, 6, 0, 6, 13, 0, 2, 17, 9, 3, 5, 1, 4, 8, 0, 8, 6, 23, 24, 11, 3, 3, 11, 11, 3, 11, 11, 0, 8, 11, 3, 1, 4, 9, 3, 3, 0, 0, 9, 4, 0, 11, 3, 0, 0, 0, 0, 0, 0, 11, 8, 6, 13, 0, 0, 0, 0, 0, 0, 0, 0, 0, 0, 0, 3, 9, 11, 0, 0, 0, 0, 0, 3, 1, 1, 4, 0, 0, 9, 5, 5, 2, 23, 11, 11, 0, 0, 0, 0, 1, 7, 5, 0, 17, 2, 17, 2, 17, 17, 2, 11, 26, 6, 11, 11, 0, 0, 0, 0, 0, 0, 0, 0, 8, 11, 8, 0, 6, 13, 11, 11, 11, 1, 7, 7, 12, 7, 5, 12, 0, 0, 14, 0, 0, 0, 0, 0, 0, 0, 11, 10, 0, 0, 6, 13, 7, 3, 3, 0, 0, 0, 0, 0, 5, 22, 0, 0, 0, 0, 10, 14, 0, 11, 0, 0, 0, 0, 0, 3, 0, 1, 0, 0, 0, 12, 5, 4, 11, 8, 6, 13, 11, 1, 3, 0, 5, 17, 2, 0, 0, 0, 0, 0, 0, 0, 0, 0, 0, 5, 12, 0, 12, 11, 11, 0, 0, 0, 6, 13, 13, 0, 0, 0, 0, 0, 0, 0, 7, 7, 0, 0, 0, 0, 11, 19, 6, 42, 0, 3, 0, 1, 11, 0, 13, 0, 6, 13, 11, 11, 0, 0, 0, 0, 5, 14, 0, 0, 0, 0, 12, 9, 12, 9, 14, 0, 0, 0, 0, 7, 0, 0, 0, 0, 9, 24, 1, 0, 19, 20, 6, 13, 0, 3, 0, 0, 2, 17, 0, 17, 17, 2, 17, 32, 16, 7, 0, 7, 12, 12, 12, 0, 13, 0, 0, 0, 0, 0, 0, 5, 0, 11, 6, 13, 11, 0, 0, 0, 0, 7, 11, 3, 12, 0, 0, 0, 9, 1, 3, 11, 8, 0, 11, 6, 0, 0, 0, 0, 8, 0, 0, 0, 0, 3, 7, 3, 7, 0, 3, 1, 0, 3, 0, 7, 0, 7, 3, 1, 3, 3, 0, 0, 0, 11, 9, 4, 11, 24, 1, 3, 24, 1, 3, 0, 8, 0, 6, 13, 0, 9, 11, 4, 1, 3, 0, 0, 0, 0, 0, 0, 0, 0, 0, 11, 8, 6, 0, 0, 6, 13, 13, 0, 11, 7, 3, 1, 7, 14, 12, 13, 0, 6, 0, 0, 0, 0, 0, 0, 0, 0, 0, 0, 0, 7, 11, 0, 9, 7, 0, 0, 3, 1, 5, 17, 2, 17, 2, 0, 6, 13, 11, 8, 0, 0, 1, 7, 6, 13, 0, 0, 0, 0, 2, 0, 0, 0, 0, 0, 0, 0, 0, 0, 0, 0, 0, 3, 7, 4, 0, 0, 0, 0, 0, 0, 0, 0, 0, 7, 1, 4, 9, 1, 7, 0, 17, 2, 5, 6, 13, 6, 13, 0, 0, 0, 0, 0, 0, 0, 0, 11, 10, 19, 6, 6, 13, 0, 0, 0, 0, 0, 0, 8, 6, 13, 0, 3, 12, 11, 3, 0, 0, 0, 0, 8, 8, 0, 0, 0, 0, 0, 0, 0, 0, 0, 11, 5, 8, 0, 20, 0, 0, 0, 0, 5, 0, 0, 0, 0, 0, 0, 0, 0, 0, 13, 6, 6, 11, 7, 11, 3, 9, 3, 11, 7, 1, 10, 0, 0, 0, 10, 0, 0, 0, 8, 0, 0, 0, 6, 13, 6, 0, 0, 9, 0, 0, 0, 13, 1, 7, 3, 0, 0, 0, 0, 9, 7, 0, 0, 0, 0, 0, 0, 0, 0, 11, 0, 0, 0, 0, 0, 0, 11, 1, 7, 0, 0, 5, 0, 0, 3, 11, 3, 1, 0, 4, 14, 8, 8, 6, 20, 0, 12, 12, 11, 43, 2, 0, 3, 1, 7, 0, 1, 3, 0, 3, 16, 7, 11, 11, 6, 0, 7, 3, 11, 12, 7, 3, 11, 12, 31, 0, 8, 6, 8, 8, 2, 0, 17, 2, 0, 17, 2, 0, 0, 0, 0, 0, 3, 1, 1, 0, 11, 8, 6, 0, 0, 6, 13, 6, 11, 11, 3, 0, 0, 0, 0, 0, 1, 3, 0, 4, 11, 0, 0, 6, 6, 13, 13, 0, 0, 0, 0, 11, 0, 0, 0, 8, 8, 0, 0, 7, 9, 3, 0, 9, 3, 4, 3, 0, 0, 1, 0, 4, 9, 1, 7, 4, 0, 0, 23, 0, 13, 9, 6, 13, 12, 0, 13, 7, 0, 2, 5, 17, 2, 7, 11, 0, 0, 0, 0, 9, 4, 6, 13, 0, 7, 0, 23, 4, 0, 0, 0, 7, 7, 0, 6, 13, 13, 0, 6, 0, 0, 0, 0, 0, 0, 0, 0, 0, 0, 0, 9, 5, 17, 0, 0, 0, 8, 6, 0, 7, 3, 3, 7, 0, 0, 0, 17, 2, 17, 2, 11, 6, 6, 13, 11, 3, 11, 0, 0, 0, 0, 9, 7, 9, 7, 0, 0, 5, 2, 11, 0, 0, 11, 13, 0, 0, 0, 1, 3, 23, 11, 1, 0, 0, 0, 8, 6, 0, 0, 0, 0, 0, 0, 0, 0, 2, 0, 7, 6, 6, 13, 0, 0, 7, 11, 0, 7, 3, 3, 3, 0, 0, 0, 3, 11, 11, 0, 0, 0, 7, 3, 44, 0, 0, 3, 1, 14, 12, 7, 6, 0, 0, 0, 0, 0, 0, 0, 0, 0, 0, 0, 0, 0, 0, 0, 0, 0, 0, 1, 0, 0, 0, 0, 0, 3, 11, 3, 11, 0, 1, 1, 14, 3, 1, 4, 5, 11, 11, 19, 12, 0, 6, 13, 3, 11, 7, 0, 3, 7, 0, 0, 0, 0, 3, 0, 6, 13, 0, 0, 0, 3, 3, 1, 4, 0, 2, 17, 0, 0, 16, 11, 23, 6, 6, 13, 0, 11, 19, 0, 0, 0, 0, 0, 0, 0, 12, 9, 0, 12, 5, 0, 0, 11, 42, 42, 13, 0, 0, 7, 9, 9, 7, 0, 0, 0, 7, 20, 0, 17, 21, 17, 21, 8, 6, 6, 0, 6, 13, 20, 11, 11, 11, 0, 0, 0, 0, 0, 0, 0, 0, 0, 0, 0, 11, 0, 0, 7, 1, 4, 4, 5, 11, 8, 25, 0, 6, 13, 11, 0, 0, 11, 19, 0, 6, 13, 0, 14, 0, 6, 16, 31, 32, 30, 9, 5, 4, 7, 1, 5, 8, 11, 1, 0, 3, 11, 9, 11, 0, 0, 0, 0, 0, 0, 0, 0, 0, 7, 0, 0, 0, 5, 0, 24, 3, 3, 0, 4, 3, 0, 11, 0, 11, 6, 13, 0, 0, 0, 3, 1, 7, 10, 0, 3, 0, 0, 8, 0, 13, 0, 0, 0, 0, 0, 0, 0, 1, 4, 0, 0, 2, 0, 0, 0, 0, 1, 1, 1, 13, 22, 4, 1, 10, 11, 0, 11, 15, 10, 11, 7, 3, 0, 7, 3, 0, 0, 11, 6, 11, 11, 11, 0, 0, 3, 3, 0, 0, 3, 7, 3, 9, 5, 9, 17, 17, 2, 9, 11, 8, 0, 0, 13, 6, 3, 9, 11, 9, 4, 0, 6, 13, 0, 0, 0, 0, 0, 0, 0, 0, 0, 0, 17, 2, 0, 8, 6, 13, 0, 8, 3, 12, 7, 12, 0, 0, 11, 0, 0, 0, 11, 0, 0, 11, 6, 13, 11, 0, 4, 12, 0, 0, 0, 0, 0, 0, 0, 0, 0, 0, 17, 2, 44, 15, 11, 44, 12, 0, 0, 0, 11, 11, 8, 11, 11, 6, 13, 11, 0, 0, 0, 0, 0, 0, 0, 0, 0, 0, 0, 0, 3, 3, 9, 9, 4, 5, 5, 7, 10, 11, 0, 0, 0, 0, 0, 0, 3, 7, 1, 3, 0, 0, 0, 0, 9, 4, 23, 24, 1, 7, 16, 7, 12, 0, 0, 0, 0, 2, 7, 3, 1, 0, 0, 7, 5, 5, 14, 12, 0, 0, 6, 9, 0, 0, 0, 0, 7, 7, 0, 3, 11, 0, 13, 6, 10, 15, 8, 6, 0, 0, 6, 13, 11, 11, 0, 0, 0, 0, 0, 3, 0, 1, 7, 0, 4, 0, 0, 0, 0, 0, 0, 0, 0, 22, 22, 19, 0, 0, 6, 0, 0, 11, 6, 8, 0, 0, 0, 0, 3, 7, 1, 4, 0, 17, 2, 23, 6, 8, 0, 0, 6, 13, 11, 11, 0, 0, 0, 9, 4, 11, 0, 7, 0, 0, 7, 0, 4, 4, 9, 11, 6, 13, 0, 0, 6, 13, 11, 0, 0, 0, 0, 0, 0, 5, 4, 12, 8, 6, 13, 0, 1, 9, 4, 11, 7, 3, 1, 4, 4, 5, 20, 14, 19, 0, 0, 6, 13, 0, 11, 37, 37, 0, 0, 0, 0, 0, 0, 0, 7, 13, 6, 13, 0, 0, 0, 0, 10, 7, 0, 15, 15, 6, 13, 0, 6, 11, 37, 37, 0, 8, 0, 0, 0, 0, 0, 0, 0, 3, 1, 3, 1, 0, 0, 0, 5, 0, 17, 2, 6, 0, 0, 0, 0, 0, 0, 0, 7, 1, 7, 19, 11, 0, 0, 11, 7, 11, 7, 11, 8, 6, 0, 0, 0, 0, 0, 11, 0, 0, 0, 0, 7, 1, 0, 0, 0, 0, 0, 0, 7, 1, 4, 7, 17, 32, 0, 0, 0, 0, 0, 0, 0, 0, 0, 0, 0, 0, 0, 11, 6, 13, 11, 9, 0, 0, 0, 7, 1, 10, 10, 11, 6, 6, 13, 0, 0, 0, 17, 2, 17, 2, 11, 0, 0, 0, 0, 0, 0, 0, 3, 3, 1, 7, 4, 0, 5, 12, 11, 0, 20, 13, 6, 11, 11, 0, 7, 0, 0, 0, 0, 0, 0, 0, 0, 0, 6, 13, 3, 1, 4, 9, 7, 24, 4, 17, 2, 17, 2, 16, 9, 3, 11, 11, 0, 0, 0, 0, 0, 0, 11, 19, 9, 4, 11, 8, 7, 1, 4, 9, 7, 10, 20, 13, 11, 11, 0, 3, 3, 0, 0, 3, 16, 3, 1, 4, 5, 22, 17, 17, 2, 1, 0, 1, 17, 0, 0, 0, 0, 0, 0, 7, 0, 0, 0, 0, 0, 0, 1, 0, 1, 1, 4, 0, 0, 0, 0, 2, 5, 0, 2, 17, 19, 6, 6, 6, 11, 0, 0, 0, 0, 0, 9, 5, 11, 6, 13, 11, 11, 11, 6, 13, 0, 0, 0, 0, 7, 3, 3, 7, 3, 1, 7, 3, 0, 5, 7, 7, 7, 14, 8, 0, 0, 9, 4, 0, 0, 0, 0, 0, 0, 0, 0, 0, 0, 0, 0, 0, 7, 3, 6, 13, 6, 13, 0, 5, 2, 0, 0, 0, 9, 0, 0, 0, 0, 0, 0, 0, 0, 9, 4, 5, 0, 0, 0, 9, 9, 5, 0, 5, 9, 8, 5, 0, 0, 11, 11, 9, 11, 9, 11, 13, 11, 9, 4, 22, 13, 19, 5, 12, 0, 6, 21, 7, 11, 1, 0, 0, 0, 0, 0, 0, 0, 1, 1, 1, 4, 0, 6, 8, 6, 0, 11, 0, 0, 0, 0, 0, 0, 0, 0, 0, 0, 11, 11, 8, 6, 0, 0, 0, 0, 6, 13, 6, 0, 8, 11, 11, 11, 6, 19, 19, 6, 0, 0, 0, 8, 11, 0, 0, 0, 0, 0, 0, 0, 0, 0, 0, 0, 0, 0, 0, 8, 0, 0, 0, 0, 0, 1, 7, 0, 5, 5, 17, 17, 2, 0, 8, 0, 0, 14, 6, 0, 8, 6, 13, 11, 0, 0, 0, 0, 1, 22, 17, 2, 0, 19, 6, 6, 13, 6, 0, 0, 0, 0, 0, 4, 1, 0, 8, 6, 0, 11, 7, 10, 6, 20, 0, 0, 11, 0, 0, 0, 0, 0, 0, 0, 3, 6, 8, 0, 0, 0, 0, 8, 0, 7, 1, 1, 4, 4, 0, 7, 11, 9, 7, 11, 9, 0, 7, 0, 8, 0, 0, 0, 0, 3, 3, 0, 0, 11, 0, 0, 0, 7, 10, 11, 11, 11, 0, 0, 0, 0, 0, 0, 0, 0, 0, 0, 0, 0, 7, 7, 7, 11, 0, 7, 0, 0, 11, 11, 10, 14, 5, 11, 3, 9, 7, 0, 0, 0, 0, 0, 0, 1, 7, 6, 11, 0, 0, 0, 0, 0, 0, 0, 0, 0, 0, 0, 6, 13, 11, 0, 11, 9, 0, 11, 6, 13, 11, 7, 1, 1, 4, 9, 9, 0, 0, 0, 0, 0, 0, 0, 0, 0, 0, 9, 0, 6, 8, 6, 0, 0, 13, 26, 2, 9, 11, 7, 7, 9, 5, 11, 0, 0, 0, 0, 0, 0, 7, 3, 3, 7, 7, 4, 11, 8, 6, 12, 13, 11, 11, 0, 7, 0, 0, 0, 1, 4, 9, 0, 17, 2, 0, 7, 16, 16, 0, 0, 0, 0, 0, 0, 0, 12, 0, 0, 11, 6, 13, 11, 0, 17, 17, 2, 0, 0, 11, 0, 0, 0, 0, 0, 1, 0, 3, 1, 0, 17, 2, 17, 17, 2, 29, 29, 17, 2, 30, 11, 11, 11, 8, 8, 11, 8, 14, 0, 1, 9, 7, 9, 8, 6, 13, 20, 7, 1, 0, 0, 0, 0, 1, 24, 9, 7, 0, 6, 13, 0, 0, 0, 11, 19, 12, 0, 0, 0, 0, 0, 0, 0, 0, 0, 0, 0, 0, 7, 29, 24, 17, 2, 31, 6, 13, 10, 11, 3, 1, 3, 1, 3, 24, 9, 0, 0, 0, 16, 3, 0, 3, 16, 3, 16, 0, 3, 16, 2, 0, 0, 9, 4, 1, 3, 0, 17, 17, 2, 3, 16, 0, 1, 1, 10, 10, 11, 11, 11, 8, 0, 6, 13, 6, 0, 0, 0, 0, 0, 0, 0, 0, 0, 0, 7, 3, 7, 3, 0, 1, 7, 7, 0, 0, 0, 0, 0, 5, 0, 17, 17, 2, 11, 6, 6, 13, 0, 0, 0, 0, 0, 0, 11, 8, 6, 7, 5, 22, 1, 7, 3, 0, 0, 17, 2, 29, 11, 0, 0, 0, 0, 1, 32, 32, 2, 21, 5, 11, 0, 0, 11, 8, 9, 11, 23, 9, 0, 0, 0, 0, 0, 6, 13, 11, 0, 0, 0, 0, 5, 0, 0, 9, 5, 5, 20, 0, 0, 0, 9, 0, 0, 0, 0, 0, 11, 0, 14, 0, 0, 0, 11, 9, 0, 0, 0, 0, 0, 7, 1, 0, 9, 11, 0, 9, 11, 4, 8, 11, 13, 4, 9, 1, 0, 0, 2, 3, 7, 11, 7, 1, 1, 11, 8, 14, 14, 0, 0, 0, 0, 6, 13, 8, 0, 0, 0, 0, 0, 11, 7, 7, 24, 1, 4, 5, 27, 11, 8, 6, 13, 11, 11, 11, 7, 3, 1, 9, 4, 7, 11, 6, 13, 3, 3, 3, 11, 6, 13, 0, 11, 0, 11, 11, 11, 0, 1, 3, 7, 7, 1, 1, 24, 4, 0, 5, 0, 17, 17, 2, 3, 4, 0, 3, 0, 0, 0, 0, 0, 0, 3, 3, 1, 7, 7, 0, 0, 0, 11, 11, 3, 0, 0, 2, 6, 13, 0, 0, 0, 0, 0, 0, 0, 0, 11, 0, 0, 0, 0, 3, 7, 1, 7, 0, 0, 0, 0, 7, 1, 10, 11, 11, 15, 14, 0, 4, 5, 14, 12, 0, 0, 8, 6, 0, 0, 0, 0, 0, 0, 11, 0, 0, 0, 0, 0, 0, 6, 11, 11, 7, 1, 0, 0, 0, 3, 11, 19, 6, 6, 13, 5, 17, 2, 11, 9, 3, 0, 0, 0, 0, 0, 11, 11, 0, 0, 0, 0, 5, 22, 9, 0, 3, 1, 7, 0, 0, 0, 0, 0, 0, 0, 0, 0, 0, 16, 9, 1, 24, 0, 0, 6, 6, 13, 11, 17, 17, 2, 17, 17, 9, 1, 0, 1, 0, 14, 0, 3, 1, 7, 0, 2, 0, 12, 12, 0, 0, 11, 11, 0, 0, 0, 0, 0, 0, 1, 5, 4, 0, 0, 0, 0, 0, 0, 11, 6, 13, 6, 11, 0, 0, 0, 13, 19, 10, 12, 0, 0, 0, 0, 0, 0, 0, 0, 0, 0, 0, 0, 0, 0, 0, 8, 0, 0, 1, 1, 0, 1, 0, 1, 0, 3, 3, 3, 9, 4, 10, 14, 10, 14, 12, 11, 9, 9, 4, 1, 27, 1, 32, 9, 1, 3, 0, 0, 0, 0, 0, 0, 0, 0, 0, 0, 0, 17, 2, 9, 0, 11, 8, 0, 6, 13, 0, 0, 0, 0, 3, 1, 10, 10, 6, 13, 1, 11, 10, 11, 0, 0, 0, 0, 0, 0, 0, 0, 0, 0, 0, 0, 3, 9, 12, 3, 1, 7, 1, 11, 1, 9, 24, 24, 5, 12, 11, 12, 6, 13, 0, 0, 0, 0, 0, 0, 0, 11, 0, 11, 0, 0, 0, 9, 5, 0, 11, 8, 13, 0, 0, 0, 6, 13, 23, 15, 11, 0, 2, 0, 5, 0, 2, 29, 0, 0, 24, 0, 7, 3, 32, 7, 0, 14, 3, 3, 1, 3, 4, 9, 32, 0, 17, 2, 0, 0, 9, 9, 9, 11, 0, 7, 0, 0, 0, 0, 7, 9, 11, 11, 3, 1, 7, 3, 0, 0, 13, 6, 0, 12, 0, 0, 0, 0, 0, 0, 0, 0, 0, 0, 0, 0, 0, 0, 7, 4, 9, 0, 0, 0, 0, 0, 0, 0, 0, 0, 0, 0, 0, 0, 3, 11, 1, 1, 7, 11, 6, 11, 0, 6, 0, 0, 9, 4, 1, 3, 4, 0, 0, 0, 0, 0, 0, 0, 0, 0, 0, 0, 0, 0, 2, 0, 9, 7, 17, 2, 11, 0, 0, 0, 7, 0, 0, 11, 0, 0, 0, 0, 0, 0, 0, 0, 7, 3, 1, 3, 9, 0, 8, 11, 13, 0, 0, 9, 10, 8, 6, 0, 13, 6, 11, 0, 2, 1, 7, 9, 9, 0, 6, 6, 13, 0, 0, 7, 1, 7, 9, 0, 7, 11, 8, 6, 13, 11, 11, 0, 0, 8, 0, 6, 13, 5, 0, 0, 7, 0, 14, 11, 10, 6, 6, 13, 11, 0, 0, 0, 0, 0, 0, 0, 3, 4, 11, 6, 0, 0, 12, 3, 0, 0, 0, 0, 0, 0, 0, 3, 0, 5, 5, 11, 0, 0, 7, 9, 7, 9, 0, 24, 9, 9, 6, 13, 0, 0, 0, 0, 6, 36, 13, 0, 0, 6, 13, 0, 6, 0, 0, 0, 0, 0, 0, 0, 0, 0, 0, 0, 0, 0, 0, 3, 7, 4, 9, 4, 17, 2, 17, 17, 2, 11, 0, 0, 13, 0, 0, 0, 0, 0, 0, 0, 0, 0, 0, 0, 0, 0, 4, 5, 23, 0, 13, 13, 11, 23, 1, 4, 23, 23, 11, 17, 16, 11, 7, 11, 11, 0, 11, 11, 11, 14, 10, 0, 11, 0, 0, 3, 0, 3, 1, 7, 0, 3, 17, 2, 17, 2, 0, 0, 2, 0, 0, 20, 0, 11, 6, 13, 13, 0, 3, 11, 11, 6, 3, 24, 1, 0, 0, 2, 11, 6, 13, 6, 11, 11, 0, 0, 3, 3, 0, 1, 2, 0, 0, 0, 0, 9, 1, 1, 2, 17, 17, 2, 4, 2, 11, 6, 8, 6, 0, 0, 0, 0, 0, 6, 13, 11, 11, 0, 0, 0, 3, 1, 0, 0, 11, 0, 6, 13, 0, 0, 11, 0, 0, 0, 9, 4, 17, 2, 5, 5, 4, 0, 0, 0, 0, 0, 0, 0, 0, 7, 7, 13, 6, 6, 13, 0, 0, 0, 0, 0, 11, 6, 13, 0, 13, 0, 0, 0, 0, 0, 0, 11, 8, 6, 13, 11, 0, 6, 0, 0, 0, 0, 0, 0, 7, 3, 0, 0, 0, 0, 0, 0, 0, 0, 3, 0, 4, 0, 0, 0, 0, 0, 0, 0, 0, 0, 0, 4, 9, 3, 3, 11, 6, 13, 11, 3, 7, 11, 3, 7, 11, 0, 0, 0, 0, 0, 10, 15, 0, 0, 8, 6, 0, 0, 0, 0, 3, 9, 9, 7, 3, 1, 7, 10, 11, 11, 0, 0, 0, 0, 0, 7, 3, 7, 3, 0, 0, 7, 11, 0, 7, 11, 0, 10, 0, 0, 7, 0, 0, 0, 0, 0, 0, 0, 0, 5, 20, 11, 8, 0, 0, 2, 21, 0, 32, 0, 0, 9, 11, 3, 0, 0, 0, 10, 0, 0, 0, 0, 0, 0, 0, 7, 0, 13, 6, 0, 7, 7, 1, 7, 6, 11, 6, 13, 11, 0, 0, 0, 7, 0, 7, 0, 1, 7, 6, 13, 13, 11, 0, 1, 0, 0, 7, 0, 2, 0, 14, 6, 13, 7, 3, 9, 0, 0, 0, 0, 0, 0, 0, 0, 5, 26, 0, 0, 0, 0, 6, 13, 11, 11, 7, 7, 0, 0, 0, 0, 0, 0, 3, 24, 9, 9, 23, 8, 11, 19, 0, 0, 3, 7, 12, 11, 7, 12, 3, 11, 0, 0, 0, 0, 7, 1, 5, 19, 12, 11, 10, 0, 0, 0, 0, 3, 3, 3, 1, 4, 9, 3, 16, 0, 7, 3, 1, 0, 4, 9, 0, 6, 0, 0, 6, 13, 0, 0, 0, 0, 0, 0, 0, 0, 0, 0, 0, 3, 0, 0, 0, 0, 0, 0, 2, 0, 0, 11, 7, 1, 3, 9, 0, 6, 22, 17, 2, 17, 0, 0, 7, 9, 11, 11, 11, 0, 0, 0, 0, 0, 0, 0, 0, 0, 2, 0, 0, 0, 0, 0, 0, 0, 0, 0, 0, 0, 0, 0, 2, 0, 0, 0, 0, 0, 0, 0, 0, 11, 8, 0, 0, 0, 0, 0, 0, 0, 0, 0, 0, 0, 3, 7, 3, 1, 0, 0, 0, 0, 2, 0, 8, 0, 0, 0, 0, 11, 0, 3, 12, 3, 3, 0, 0, 0, 0, 0, 8, 11, 0, 6, 13, 0, 0, 0, 0, 0, 0, 0, 0, 9, 9, 0, 5, 11, 11, 7, 3, 3, 10, 4, 11, 9, 0, 0, 3, 1, 11, 8, 6, 6, 13, 0, 0, 8, 8, 11, 5, 12, 12, 0, 0, 0, 0, 0, 0, 0, 7, 0, 0, 0, 0, 24, 1, 24, 24, 11, 9, 7, 0, 1, 0, 7, 9, 5, 5, 6, 13, 8, 6, 13, 0, 0, 3, 27, 1, 27, 1, 1, 4, 1, 9, 0, 0, 3, 0, 0, 5, 5, 0, 8, 11, 9, 7, 9, 7, 3, 3, 1, 1, 0, 6, 0, 0, 6, 13, 11, 0, 0, 0, 0, 0, 0, 0, 0, 7, 7, 11, 6, 13, 3, 0, 7, 0, 0, 0, 11, 0, 0, 0, 0, 0, 0, 0, 0, 1, 7, 38, 2, 0, 5, 8, 6, 0, 13, 0, 7, 0, 0, 0, 0, 0, 0, 0, 0, 0, 0, 3, 1, 11, 19, 20, 0, 0, 0, 11, 0, 0, 11, 31, 17, 2, 17, 2, 0, 0, 0, 0, 0, 1, 1, 7, 0, 0, 4, 9, 17, 6, 13, 0, 7, 0, 3, 0, 5, 20, 9, 0, 6, 13, 0, 11, 0, 0, 0, 0, 0, 0, 0, 5, 12, 0, 0, 0, 0, 0, 0, 0, 0, 17, 2, 0, 8, 0, 0, 6, 13, 11, 8, 21, 10, 11, 11, 7, 9, 0, 1, 0, 3, 0, 3, 0, 8, 0, 0, 0, 12, 19, 0, 0, 0, 0, 0, 0, 0, 0, 0, 11, 6, 11, 6, 0, 7, 0, 24, 0, 0, 0, 7, 0, 0, 0, 0, 0, 7, 11, 1, 11, 0, 1, 0, 24, 9, 0, 0, 0, 0, 0, 0, 5, 22, 22, 0, 11, 11, 19, 6, 13, 20, 23, 0, 1, 24, 1, 24, 1, 9, 24, 9, 7, 9, 0, 0, 0, 0, 23, 0, 0, 0, 0, 0, 7, 0, 0, 0, 0, 0, 7, 1, 4, 11, 0, 0, 0, 0, 11, 10, 7, 22, 13, 24, 9, 0, 0, 11, 0, 7, 1, 1, 32, 5, 9, 10, 6, 13, 6, 7, 11, 14, 11, 0, 0, 1, 1, 4, 1, 9, 4, 4, 9, 5, 20, 22, 0, 17, 2, 17, 2, 5, 23, 6, 0, 6, 13, 11, 11, 0, 0, 11, 13, 6, 21, 0, 1, 14, 1, 7, 14, 0, 0, 0, 0, 9, 0, 0, 0, 5, 8, 6, 0, 0, 6, 13, 0, 7, 2, 45, 7, 12, 14, 0, 0, 7, 1, 1, 0, 11, 7, 0, 0, 32, 9, 0, 11, 9, 7, 1, 24, 1, 1, 4, 9, 0, 0, 7, 4, 1, 9, 5, 0, 0, 19, 11, 0, 6, 0, 11, 13, 6, 13, 0, 0, 8, 0, 9, 4, 1, 3, 3, 2, 0, 2, 46, 0, 13, 0, 11, 11, 8, 5, 11, 3, 7, 0, 0, 0, 11, 11, 11, 0, 0, 0, 0, 0, 9, 3, 1, 24, 9, 6, 6, 13, 0, 0, 2, 0, 3, 7, 7, 0, 0, 6, 8, 0, 0, 0, 7, 7, 4, 47, 4, 48, 0, 0, 0, 0, 0, 0, 0, 0, 0, 0, 2, 8, 8, 0, 13, 11, 0, 0, 0, 0, 8, 0, 0, 0, 0, 0, 0, 0, 0, 0, 0, 0, 0, 11, 6, 13, 0, 24, 1, 4, 6, 13, 11, 11, 9, 0, 0, 0, 0, 0, 3, 7, 3, 7, 1, 1, 3, 11, 0, 11, 0, 0, 7, 1, 11, 0, 0, 0, 0, 0, 0, 0, 0, 0, 0, 0, 0, 0, 0, 0, 0, 7, 0, 3, 3, 1, 0, 0, 0, 0, 0, 2, 3, 7, 7, 3, 0, 0, 0, 0, 0, 0, 0, 0, 0, 0, 0, 7, 1, 0, 15, 0, 2, 0, 0, 0, 0, 3, 1, 3, 15, 11, 6, 13, 23, 10, 1, 0, 0, 0, 9, 7, 9, 7, 3, 3, 11, 0, 0, 0, 0, 0, 0, 0, 1, 7, 0, 11, 7, 11, 3, 7, 3, 1, 0, 4, 11, 8, 0, 11, 0, 0, 0, 0, 0, 0, 0, 9, 5, 7, 1, 1, 1, 4, 0, 0, 9, 9, 4, 3, 1, 4, 5, 49, 12, 12, 11, 11, 19, 6, 13, 0, 3, 7, 3, 1, 0, 0, 0, 0, 4, 9, 0, 0, 0, 0, 0, 0, 2, 0, 7, 0, 7, 1, 1, 7, 0, 0, 6, 0, 7, 9, 9, 4, 24, 9, 0, 11, 0, 6, 0, 0, 6, 13, 0, 4, 0, 6, 0, 0, 0, 6, 13, 7, 0, 0, 0, 0, 10, 8, 0, 11, 0, 0, 0, 0, 10, 13, 12, 7, 3, 13, 12, 7, 3, 1, 4, 4, 9, 5, 2, 2, 5, 13, 0, 0, 13, 0, 0, 32, 7, 0, 0, 1, 21, 2, 5, 12, 0, 0, 0, 0, 17, 2, 6, 13, 0, 1, 1, 1, 4, 0, 3, 11, 0, 0, 3, 3, 1, 24, 7, 0, 11, 19, 17, 30, 0, 7, 1, 1, 3, 0, 0, 11, 0, 6, 13, 13, 0, 0, 0, 9, 11, 0, 0, 0, 0, 0, 0, 0, 0, 9, 0, 0, 0, 0, 0, 0, 11, 0, 0, 0, 0, 8, 0, 0, 0, 7, 7, 0, 0, 7, 0, 7, 3, 1, 1, 7, 10, 0, 10, 6, 13, 0, 6, 11, 8, 6, 0, 0, 2, 0, 0, 0, 0, 0, 11, 19, 7, 5, 0, 0, 0, 0, 0, 0, 0, 0, 11, 0, 0, 6, 13, 13, 26, 7, 3, 1, 9, 9, 0, 11, 23, 0, 0, 11, 7, 11, 11, 7, 1, 0, 11, 11, 0, 0, 0, 7, 7, 7, 0, 0, 0, 0, 5, 17, 2, 0, 0, 0, 0, 0, 0, 7, 9, 0, 0, 11, 19, 6, 0, 0, 0, 0, 0, 6, 13, 6, 11, 11, 11, 7, 9, 0, 0, 0, 0, 1, 4, 0, 2, 17, 2, 0, 0, 0, 0, 0, 0, 11, 8, 0, 6, 13, 11, 0, 0, 0, 0, 11, 8, 8, 0, 6, 13, 0, 0, 0, 0, 0, 0, 0, 9, 5, 5, 6, 13, 24, 9, 1, 7, 1, 3, 3, 3, 0, 0, 0, 0, 0, 0, 0, 0, 0, 0, 0, 0, 0, 0, 0, 0, 17, 2, 0, 17, 2, 17, 2, 23, 0, 6, 13, 0, 9, 2, 17, 16, 7, 0, 0, 0, 0, 0, 0, 11, 0, 6, 13, 11, 0, 0, 0, 9, 24, 0, 0, 0, 0, 0, 1, 7, 0, 24, 1, 0, 0, 0, 0, 3, 9, 4, 9, 4, 0, 0, 0, 7, 0, 0, 0, 0, 0, 0, 0, 0, 0, 3, 0, 7, 11, 11, 7, 3, 7, 3, 0, 44, 1, 7, 1, 7, 3, 3, 1, 4, 12, 0, 12, 2, 9, 11, 19, 6, 13, 11, 11, 11, 11, 3, 1, 10, 0, 0, 0, 13, 0, 0, 7, 0, 0, 6, 13, 11, 0, 0, 0, 0, 0, 0, 7, 0, 0, 0, 0, 0, 0, 1, 14, 8, 6, 6, 13, 11, 9, 14, 12, 9, 5, 17, 2, 0, 0, 0, 0, 0, 0, 0, 0, 0, 0, 0, 0, 0, 0, 0, 6, 13, 13, 9, 6, 9, 9, 1, 4, 0, 0, 0, 0, 14, 20, 17, 2, 5, 0, 0, 7, 11, 0, 7, 0, 0, 0, 1, 0, 0, 7, 11, 7, 11, 0, 3, 3, 1, 1, 4, 11, 0, 0, 0, 0, 0, 0, 0, 0, 0, 0, 0, 0, 3, 0, 1, 4, 0, 0, 11, 6, 6, 13, 17, 2, 0, 24, 1, 1, 24, 9, 0, 0, 3, 15, 3, 0, 0, 0, 0, 0, 0, 0, 0, 0, 3, 0, 0, 7, 3, 1, 7, 11, 10, 11, 0, 7, 7, 3, 1, 7, 1, 0, 10, 0, 24, 0, 0, 0, 9, 4, 1, 11, 14, 8, 0, 13, 7, 0, 0, 7, 0, 4, 2, 0, 5, 12, 11, 6, 13, 0, 20, 6, 7, 9, 11, 0, 0, 0, 11, 8, 25, 6, 13, 11, 0, 7, 9, 11, 7, 9, 11, 0, 0, 11, 0, 0, 11, 9, 24, 4, 5, 0, 7, 0, 0, 14, 0, 7, 0, 0, 0, 0, 0, 0, 0, 0, 0, 0, 0, 9, 4, 1, 4, 9, 6, 13, 11, 0, 0, 0, 4, 5, 7, 7, 5, 11, 13, 0, 0, 0, 0, 0, 9, 11, 9, 11, 6, 11, 7, 3, 1, 7, 0, 11, 12, 10, 11, 50, 12, 3, 0, 7, 0, 11, 6, 13, 11, 0, 0, 0, 0, 0, 0, 0, 0, 0, 3, 0, 0, 0, 3, 1, 7, 7, 1, 3, 1, 4, 0, 2, 0, 23, 17, 17, 2, 17, 2, 11, 6, 0, 26, 11, 11, 11, 16, 3, 3, 16, 11, 0, 0, 0, 0, 19, 6, 13, 0, 0, 0, 9, 3, 2, 5, 0, 11, 11, 0, 0, 0, 0, 0, 0, 0, 0, 1, 0, 0, 2, 0, 8, 6, 6, 17, 2, 0, 6, 11, 11, 8, 6, 0, 0, 6, 13, 0, 7, 0, 11, 0, 1, 7, 0, 0, 7, 7, 1, 0, 0, 2, 37, 0, 11, 3, 0, 0, 0, 10, 7, 0, 0, 14, 0, 1, 4, 0, 0, 0, 3, 9, 11, 11, 9, 3, 11, 13, 3, 1, 4, 9, 0, 0, 0, 0, 0, 0, 0, 0, 0, 24, 5, 12, 0, 0, 0, 0, 0, 0, 0, 0, 11, 11, 6, 13, 0, 0, 0, 0, 0, 0, 0, 0, 0, 0, 0, 0, 0, 6, 0, 0, 0, 9, 0, 3, 11, 1, 11, 0, 0, 6, 13, 0, 0, 4, 9, 0, 0, 0, 0, 0, 0, 0, 0, 0, 0, 0, 0, 7, 0, 7, 0, 0, 0, 0, 0, 0, 0, 0, 3, 24, 1, 4, 4, 9, 1, 24, 0, 0, 0, 5, 0, 0, 0, 17, 17, 2, 9, 9, 0, 13, 6, 0, 11, 13, 0, 0, 0, 0, 0, 11, 3, 0, 0, 0, 0, 0, 0, 0, 32, 11, 11, 6, 13, 0, 0, 0, 10, 14, 12, 32, 3, 1, 14, 12, 0, 0, 13, 0, 11, 0, 8, 13, 0, 9, 5, 17, 2, 0, 0, 0, 0, 0, 0, 3, 7, 1, 14, 1, 1, 0, 5, 0, 17, 17, 2, 0, 0, 0, 0, 0, 6, 8, 6, 7, 0, 0, 0, 0, 0, 0, 3, 9, 11, 0, 1, 7, 9, 24, 1, 3, 24, 1, 9, 23, 11, 0, 11, 19, 19, 0, 0, 9, 4, 24, 9, 0, 11, 7, 0, 0, 0, 9, 9, 4, 24, 24, 9, 3, 5, 12, 11, 8, 0, 13, 11, 11, 0, 0, 11, 11, 0, 0, 0, 0, 7, 3, 7, 4, 5, 12, 0, 0, 0, 0, 0, 0, 0, 0, 0, 0, 0, 0, 0, 0]\n"
     ]
    }
   ],
   "source": [
    "# Now map each label to its corresponding integer\n",
    "old_labels = labels\n",
    "print(\"Old labels: \",str(labels))\n",
    "labels = [label_types.get(l) for l in labels]\n",
    "print(\"New labels: \",str(labels))"
   ]
  },
  {
   "cell_type": "code",
   "execution_count": 16,
   "metadata": {},
   "outputs": [],
   "source": [
    "# Implement a new train_test_split that isn't random, but uses a function to determine if the set is train, validation or test \n",
    "# based on causal reasoning chains.\n",
    "\n",
    "coral_bleaching_chains = [['1', '2', '3', '4', '5', '5b', '14', '6', '7', '50'], ['11', '12', '13', '14', '6', '7', '50']]\n",
    "skin_cancer_chains = [['1', '2', '3', '4', '5', '6', '50'], ['11', '12', '6', '50']]\n",
    "\n",
    "# This function examines the label to determin if a proper causal reasoning chain exists.  \n",
    "# If it is of proper format and order, a causal-reasoning chain exists.\n",
    "def causal_reasoning_chain_exists(chains, label):\n",
    "    retVal = False\n",
    "    if (isinstance(label, int)):\n",
    "        return retVal\n",
    "    else:\n",
    "        index = [0, 0]\n",
    "        label_values = label.split(\"-\")\n",
    "        #print(\"Label values: {}\".format(label_values))\n",
    "        \n",
    "        if (len(label_values) < 2):\n",
    "            return retVal\n",
    "\n",
    "        for i, cr_chain in enumerate(chains):\n",
    "            if (label_values[1] in cr_chain):\n",
    "                index[i] = cr_chain.index(label_values[1])\n",
    "\n",
    "        #print(\"Index: {}\".format(index))\n",
    "        # see if there exists a chain such that the second label is contained in the subset after the first causation was found.\n",
    "        for i, cr_chain in enumerate(chains):\n",
    "            #print(\"Checking for {} in {}\".format(label_values[2], cr_chain[index[i]+1:]))\n",
    "            if (label_values[2] in cr_chain[index[i]+1:]):\n",
    "                retVal = True   \n",
    "                \n",
    "    return retVal\n"
   ]
  },
  {
   "cell_type": "code",
   "execution_count": 17,
   "metadata": {},
   "outputs": [
    {
     "name": "stdout",
     "output_type": "stream",
     "text": [
      "Chain exists for R-1-2? True\n",
      "Chain exists for R-1-3? True\n",
      "Chain exists for R-2-1? False\n",
      "Chain exists for R-1-50? True\n",
      "Chain exists for R-11-50? True\n"
     ]
    }
   ],
   "source": [
    "# Test out the logic in causal_reasoning_chain_exists\n",
    "print(\"Chain exists for R-1-2? {}\".format(causal_reasoning_chain_exists(skin_cancer_chains, \"R-1-2\")))\n",
    "print(\"Chain exists for R-1-3? {}\".format(causal_reasoning_chain_exists(skin_cancer_chains, \"R-1-3\")))\n",
    "print(\"Chain exists for R-2-1? {}\".format(causal_reasoning_chain_exists(skin_cancer_chains, \"R-2-1\")))\n",
    "print(\"Chain exists for R-1-50? {}\".format(causal_reasoning_chain_exists(skin_cancer_chains, \"R-1-50\")))\n",
    "print(\"Chain exists for R-11-50? {}\".format(causal_reasoning_chain_exists(skin_cancer_chains, \"R-11-50\")))"
   ]
  },
  {
   "cell_type": "code",
   "execution_count": 18,
   "metadata": {},
   "outputs": [
    {
     "name": "stdout",
     "output_type": "stream",
     "text": [
      "input_ids[0]: [  101  1142 10400  1110  1164  2241  3290   117 18579  1105  2904  9673\n",
      "   117  2241  4182  1105 18579   117  1240  2241 19819  1128  1105  1164\n",
      "  3336  6715  1116   119   102     0     0     0     0     0     0     0\n",
      "     0     0     0     0     0     0     0     0     0     0     0     0\n",
      "     0     0     0     0     0     0     0     0     0     0     0     0\n",
      "     0     0     0     0     0     0     0     0     0     0     0     0\n",
      "     0     0     0     0     0     0     0     0     0     0     0     0\n",
      "     0     0     0     0     0     0     0     0     0     0     0     0\n",
      "     0     0     0     0     0     0     0     0     0     0     0     0\n",
      "     0     0     0     0     0     0     0     0     0     0     0     0\n",
      "     0     0     0     0     0     0     0     0]\n"
     ]
    }
   ],
   "source": [
    "input_ids.shape\n",
    "print(\"input_ids[0]: {}\".format(input_ids[0]))"
   ]
  },
  {
   "cell_type": "code",
   "execution_count": 19,
   "metadata": {},
   "outputs": [],
   "source": [
    "# split the data up into sentences who have proper causal reasoning chains, and those that don't\n",
    "def crc_split(input_ids, labels):\n",
    "    crc_inputs = []\n",
    "    crc_labels = []\n",
    "    non_crc_inputs = []\n",
    "    non_crc_labels = []\n",
    "    \n",
    "    for i, label in enumerate(labels):\n",
    "        if causal_reasoning_chain_exists(skin_cancer_chains, label):\n",
    "            crc_inputs.append(input_ids[i])\n",
    "            crc_labels.append(1) # encode a 1 as true, there exists a causal reasoning chain\n",
    "            #print(\"Found one: {}\".format(label))\n",
    "        else:\n",
    "            non_crc_inputs.append(input_ids[i])\n",
    "            non_crc_labels.append(0) # encoded a 0 as false, there does not exist a valid causal reasoning chain\n",
    "    \n",
    "    return crc_inputs, crc_labels, non_crc_inputs, non_crc_labels"
   ]
  },
  {
   "cell_type": "code",
   "execution_count": 20,
   "metadata": {},
   "outputs": [
    {
     "name": "stdout",
     "output_type": "stream",
     "text": [
      "CRC qty found: 5342\n",
      "NonCRC qty found: 4690\n",
      "Total: 10032\n"
     ]
    }
   ],
   "source": [
    "crc_inputs, crc_labels, non_crc_inputs, non_crc_labels = crc_split(input_ids, old_labels)\n",
    "\n",
    "print(\"CRC qty found: {}\".format(len(crc_inputs)))\n",
    "print(\"NonCRC qty found: {}\".format(len(non_crc_inputs)))\n",
    "print(\"Total: {}\".format(len(crc_inputs) + len(non_crc_inputs)))"
   ]
  },
  {
   "cell_type": "code",
   "execution_count": 26,
   "metadata": {},
   "outputs": [
    {
     "name": "stdout",
     "output_type": "stream",
     "text": [
      "train_inputs len: 9028\n",
      "train_labels len: 9028\n",
      "train_masks len: 9028\n",
      "validation_inputs len: 1004\n",
      "validation_labels len: 1004\n",
      "validation_masks len: 1004\n"
     ]
    }
   ],
   "source": [
    "# create training, validation and test sets\n",
    "\n",
    "# Create attention masks\n",
    "attention_masks_crc = []\n",
    "attention_masks_non_crc = []\n",
    "\n",
    "# Create a mask of 1s for each token followed by 0s for padding\n",
    "for seq in crc_inputs:\n",
    "  seq_mask_crc = [float(i>0) for i in seq]\n",
    "  attention_masks_crc.append(seq_mask_crc)\n",
    "    \n",
    "for seq in non_crc_inputs:\n",
    "  seq_mask_non_crc = [float(i>0) for i in seq]\n",
    "  attention_masks_non_crc.append(seq_mask_non_crc)   \n",
    "\n",
    "train_inputs_crc, validation_inputs_crc, train_labels_crc, validation_labels_crc = \\\n",
    "    train_test_split(crc_inputs, crc_labels, random_state=2018, test_size=0.1)\n",
    "train_masks_crc, validation_masks_crc, _, _ = train_test_split(attention_masks_crc, crc_inputs, \\\n",
    "                                             random_state=2018, test_size=0.1)\n",
    "\n",
    "train_inputs_non_crc, validation_inputs_non_crc, train_labels_non_crc, validation_labels_non_crc = \\\n",
    "    train_test_split(non_crc_inputs, non_crc_labels, random_state=2018, test_size=0.1)\n",
    "train_masks_non_crc, validation_masks_non_crc, _, _ = train_test_split(attention_masks_non_crc, non_crc_inputs, \\\n",
    "                                             random_state=2018, test_size=0.1)\n",
    "\n",
    "train_inputs = train_inputs_crc + train_inputs_non_crc\n",
    "print(\"train_inputs len: {}\".format(len(train_inputs)))\n",
    "\n",
    "train_labels = train_labels_crc + train_labels_non_crc\n",
    "print(\"train_labels len: {}\".format(len(train_labels)))\n",
    "\n",
    "train_masks = train_masks_crc + train_masks_non_crc\n",
    "print(\"train_masks len: {}\".format(len(train_masks)))\n",
    "\n",
    "validation_inputs = validation_inputs_crc + validation_inputs_non_crc\n",
    "print(\"validation_inputs len: {}\".format(len(validation_inputs)))\n",
    "\n",
    "validation_labels = validation_labels_crc + validation_labels_non_crc\n",
    "print(\"validation_labels len: {}\".format(len(validation_labels)))\n",
    "\n",
    "validation_masks = validation_masks_crc + validation_masks_non_crc\n",
    "print(\"validation_masks len: {}\".format(len(validation_masks)))\n"
   ]
  },
  {
   "cell_type": "code",
   "execution_count": 16,
   "metadata": {
    "colab": {},
    "colab_type": "code",
    "id": "htRjVQyojbgN"
   },
   "outputs": [],
   "source": [
    "# Use train_test_split to split our data into train and validation sets for training\n",
    "\n",
    "#train_inputs, validation_inputs, train_labels, validation_labels = train_test_split(input_ids, labels, \n",
    "#                                                            random_state=2018, test_size=0.1)\n",
    "#train_masks, validation_masks, _, _ = train_test_split(attention_masks, input_ids,\n",
    "#                                             random_state=2018, test_size=0.1)"
   ]
  },
  {
   "cell_type": "code",
   "execution_count": 27,
   "metadata": {
    "colab": {},
    "colab_type": "code",
    "id": "UKpWMj-EjboB"
   },
   "outputs": [],
   "source": [
    "# Convert all of our data into torch tensors, the required datatype for our model\n",
    "\n",
    "train_inputs = torch.tensor(train_inputs)\n",
    "validation_inputs = torch.tensor(validation_inputs)\n",
    "train_labels = torch.tensor(train_labels)\n",
    "validation_labels = torch.tensor(validation_labels)\n",
    "train_masks = torch.tensor(train_masks)\n",
    "validation_masks = torch.tensor(validation_masks)"
   ]
  },
  {
   "cell_type": "code",
   "execution_count": 28,
   "metadata": {
    "colab": {},
    "colab_type": "code",
    "id": "KIlXwhh67BXS"
   },
   "outputs": [],
   "source": [
    "# Create an iterator of our data with torch DataLoader. This helps save on memory during training because, unlike a for loop, \n",
    "# with an iterator the entire dataset does not need to be loaded into memory\n",
    "\n",
    "train_data = TensorDataset(train_inputs, train_masks, train_labels)\n",
    "train_sampler = RandomSampler(train_data)\n",
    "train_dataloader = DataLoader(train_data, sampler=train_sampler, batch_size=BATCH_SIZE)\n",
    "\n",
    "validation_data = TensorDataset(validation_inputs, validation_masks, validation_labels)\n",
    "validation_sampler = SequentialSampler(validation_data)\n",
    "validation_dataloader = DataLoader(validation_data, sampler=validation_sampler, batch_size=BATCH_SIZE)"
   ]
  },
  {
   "cell_type": "code",
   "execution_count": 29,
   "metadata": {
    "scrolled": true
   },
   "outputs": [],
   "source": [
    "# Use PyTorch to create a pytorch_model.bin for BioBert\n",
    "import os\n",
    "from pytorch_pretrained_bert.convert_tf_checkpoint_to_pytorch import convert_tf_checkpoint_to_pytorch\n",
    "\n",
    "path_bert = 'pre-trained_models/biobert_v1.1_pubmed/'\n",
    "path_bin = path_bert + 'pytorch_model.bin'\n",
    "\n",
    "if (not os.path.exists(path_bin)):\n",
    "    convert_tf_checkpoint_to_pytorch(path_bert + \"model.ckpt-1000000\", \n",
    "                                     path_bert + \"bert_config.json\", \n",
    "                                     path_bert + \"pytorch_model.bin\")\n",
    "    \n",
    "    "
   ]
  },
  {
   "cell_type": "code",
   "execution_count": 30,
   "metadata": {
    "colab": {
     "base_uri": "https://localhost:8080/",
     "height": 1000
    },
    "colab_type": "code",
    "executionInfo": {
     "elapsed": 137205,
     "status": "ok",
     "timestamp": 1587144360114,
     "user": {
      "displayName": "Clayton Cohn",
      "photoUrl": "https://lh3.googleusercontent.com/a-/AOh14GiR5T0VrYZ_A0_satvSE1jZbcVxmApPyylw8Q-uxoo=s64",
      "userId": "10103672487987981310"
     },
     "user_tz": 300
    },
    "id": "MWbESUZsjblO",
    "outputId": "d61f7603-3a8a-4c92-ce76-7ee694e308db",
    "scrolled": true
   },
   "outputs": [
    {
     "data": {
      "text/plain": [
       "BertForSequenceClassification(\n",
       "  (bert): BertModel(\n",
       "    (embeddings): BertEmbeddings(\n",
       "      (word_embeddings): Embedding(28996, 768, padding_idx=0)\n",
       "      (position_embeddings): Embedding(512, 768)\n",
       "      (token_type_embeddings): Embedding(2, 768)\n",
       "      (LayerNorm): BertLayerNorm()\n",
       "      (dropout): Dropout(p=0.1, inplace=False)\n",
       "    )\n",
       "    (encoder): BertEncoder(\n",
       "      (layer): ModuleList(\n",
       "        (0): BertLayer(\n",
       "          (attention): BertAttention(\n",
       "            (self): BertSelfAttention(\n",
       "              (query): Linear(in_features=768, out_features=768, bias=True)\n",
       "              (key): Linear(in_features=768, out_features=768, bias=True)\n",
       "              (value): Linear(in_features=768, out_features=768, bias=True)\n",
       "              (dropout): Dropout(p=0.1, inplace=False)\n",
       "            )\n",
       "            (output): BertSelfOutput(\n",
       "              (dense): Linear(in_features=768, out_features=768, bias=True)\n",
       "              (LayerNorm): BertLayerNorm()\n",
       "              (dropout): Dropout(p=0.1, inplace=False)\n",
       "            )\n",
       "          )\n",
       "          (intermediate): BertIntermediate(\n",
       "            (dense): Linear(in_features=768, out_features=3072, bias=True)\n",
       "          )\n",
       "          (output): BertOutput(\n",
       "            (dense): Linear(in_features=3072, out_features=768, bias=True)\n",
       "            (LayerNorm): BertLayerNorm()\n",
       "            (dropout): Dropout(p=0.1, inplace=False)\n",
       "          )\n",
       "        )\n",
       "        (1): BertLayer(\n",
       "          (attention): BertAttention(\n",
       "            (self): BertSelfAttention(\n",
       "              (query): Linear(in_features=768, out_features=768, bias=True)\n",
       "              (key): Linear(in_features=768, out_features=768, bias=True)\n",
       "              (value): Linear(in_features=768, out_features=768, bias=True)\n",
       "              (dropout): Dropout(p=0.1, inplace=False)\n",
       "            )\n",
       "            (output): BertSelfOutput(\n",
       "              (dense): Linear(in_features=768, out_features=768, bias=True)\n",
       "              (LayerNorm): BertLayerNorm()\n",
       "              (dropout): Dropout(p=0.1, inplace=False)\n",
       "            )\n",
       "          )\n",
       "          (intermediate): BertIntermediate(\n",
       "            (dense): Linear(in_features=768, out_features=3072, bias=True)\n",
       "          )\n",
       "          (output): BertOutput(\n",
       "            (dense): Linear(in_features=3072, out_features=768, bias=True)\n",
       "            (LayerNorm): BertLayerNorm()\n",
       "            (dropout): Dropout(p=0.1, inplace=False)\n",
       "          )\n",
       "        )\n",
       "        (2): BertLayer(\n",
       "          (attention): BertAttention(\n",
       "            (self): BertSelfAttention(\n",
       "              (query): Linear(in_features=768, out_features=768, bias=True)\n",
       "              (key): Linear(in_features=768, out_features=768, bias=True)\n",
       "              (value): Linear(in_features=768, out_features=768, bias=True)\n",
       "              (dropout): Dropout(p=0.1, inplace=False)\n",
       "            )\n",
       "            (output): BertSelfOutput(\n",
       "              (dense): Linear(in_features=768, out_features=768, bias=True)\n",
       "              (LayerNorm): BertLayerNorm()\n",
       "              (dropout): Dropout(p=0.1, inplace=False)\n",
       "            )\n",
       "          )\n",
       "          (intermediate): BertIntermediate(\n",
       "            (dense): Linear(in_features=768, out_features=3072, bias=True)\n",
       "          )\n",
       "          (output): BertOutput(\n",
       "            (dense): Linear(in_features=3072, out_features=768, bias=True)\n",
       "            (LayerNorm): BertLayerNorm()\n",
       "            (dropout): Dropout(p=0.1, inplace=False)\n",
       "          )\n",
       "        )\n",
       "        (3): BertLayer(\n",
       "          (attention): BertAttention(\n",
       "            (self): BertSelfAttention(\n",
       "              (query): Linear(in_features=768, out_features=768, bias=True)\n",
       "              (key): Linear(in_features=768, out_features=768, bias=True)\n",
       "              (value): Linear(in_features=768, out_features=768, bias=True)\n",
       "              (dropout): Dropout(p=0.1, inplace=False)\n",
       "            )\n",
       "            (output): BertSelfOutput(\n",
       "              (dense): Linear(in_features=768, out_features=768, bias=True)\n",
       "              (LayerNorm): BertLayerNorm()\n",
       "              (dropout): Dropout(p=0.1, inplace=False)\n",
       "            )\n",
       "          )\n",
       "          (intermediate): BertIntermediate(\n",
       "            (dense): Linear(in_features=768, out_features=3072, bias=True)\n",
       "          )\n",
       "          (output): BertOutput(\n",
       "            (dense): Linear(in_features=3072, out_features=768, bias=True)\n",
       "            (LayerNorm): BertLayerNorm()\n",
       "            (dropout): Dropout(p=0.1, inplace=False)\n",
       "          )\n",
       "        )\n",
       "        (4): BertLayer(\n",
       "          (attention): BertAttention(\n",
       "            (self): BertSelfAttention(\n",
       "              (query): Linear(in_features=768, out_features=768, bias=True)\n",
       "              (key): Linear(in_features=768, out_features=768, bias=True)\n",
       "              (value): Linear(in_features=768, out_features=768, bias=True)\n",
       "              (dropout): Dropout(p=0.1, inplace=False)\n",
       "            )\n",
       "            (output): BertSelfOutput(\n",
       "              (dense): Linear(in_features=768, out_features=768, bias=True)\n",
       "              (LayerNorm): BertLayerNorm()\n",
       "              (dropout): Dropout(p=0.1, inplace=False)\n",
       "            )\n",
       "          )\n",
       "          (intermediate): BertIntermediate(\n",
       "            (dense): Linear(in_features=768, out_features=3072, bias=True)\n",
       "          )\n",
       "          (output): BertOutput(\n",
       "            (dense): Linear(in_features=3072, out_features=768, bias=True)\n",
       "            (LayerNorm): BertLayerNorm()\n",
       "            (dropout): Dropout(p=0.1, inplace=False)\n",
       "          )\n",
       "        )\n",
       "        (5): BertLayer(\n",
       "          (attention): BertAttention(\n",
       "            (self): BertSelfAttention(\n",
       "              (query): Linear(in_features=768, out_features=768, bias=True)\n",
       "              (key): Linear(in_features=768, out_features=768, bias=True)\n",
       "              (value): Linear(in_features=768, out_features=768, bias=True)\n",
       "              (dropout): Dropout(p=0.1, inplace=False)\n",
       "            )\n",
       "            (output): BertSelfOutput(\n",
       "              (dense): Linear(in_features=768, out_features=768, bias=True)\n",
       "              (LayerNorm): BertLayerNorm()\n",
       "              (dropout): Dropout(p=0.1, inplace=False)\n",
       "            )\n",
       "          )\n",
       "          (intermediate): BertIntermediate(\n",
       "            (dense): Linear(in_features=768, out_features=3072, bias=True)\n",
       "          )\n",
       "          (output): BertOutput(\n",
       "            (dense): Linear(in_features=3072, out_features=768, bias=True)\n",
       "            (LayerNorm): BertLayerNorm()\n",
       "            (dropout): Dropout(p=0.1, inplace=False)\n",
       "          )\n",
       "        )\n",
       "        (6): BertLayer(\n",
       "          (attention): BertAttention(\n",
       "            (self): BertSelfAttention(\n",
       "              (query): Linear(in_features=768, out_features=768, bias=True)\n",
       "              (key): Linear(in_features=768, out_features=768, bias=True)\n",
       "              (value): Linear(in_features=768, out_features=768, bias=True)\n",
       "              (dropout): Dropout(p=0.1, inplace=False)\n",
       "            )\n",
       "            (output): BertSelfOutput(\n",
       "              (dense): Linear(in_features=768, out_features=768, bias=True)\n",
       "              (LayerNorm): BertLayerNorm()\n",
       "              (dropout): Dropout(p=0.1, inplace=False)\n",
       "            )\n",
       "          )\n",
       "          (intermediate): BertIntermediate(\n",
       "            (dense): Linear(in_features=768, out_features=3072, bias=True)\n",
       "          )\n",
       "          (output): BertOutput(\n",
       "            (dense): Linear(in_features=3072, out_features=768, bias=True)\n",
       "            (LayerNorm): BertLayerNorm()\n",
       "            (dropout): Dropout(p=0.1, inplace=False)\n",
       "          )\n",
       "        )\n",
       "        (7): BertLayer(\n",
       "          (attention): BertAttention(\n",
       "            (self): BertSelfAttention(\n",
       "              (query): Linear(in_features=768, out_features=768, bias=True)\n",
       "              (key): Linear(in_features=768, out_features=768, bias=True)\n",
       "              (value): Linear(in_features=768, out_features=768, bias=True)\n",
       "              (dropout): Dropout(p=0.1, inplace=False)\n",
       "            )\n",
       "            (output): BertSelfOutput(\n",
       "              (dense): Linear(in_features=768, out_features=768, bias=True)\n",
       "              (LayerNorm): BertLayerNorm()\n",
       "              (dropout): Dropout(p=0.1, inplace=False)\n",
       "            )\n",
       "          )\n",
       "          (intermediate): BertIntermediate(\n",
       "            (dense): Linear(in_features=768, out_features=3072, bias=True)\n",
       "          )\n",
       "          (output): BertOutput(\n",
       "            (dense): Linear(in_features=3072, out_features=768, bias=True)\n",
       "            (LayerNorm): BertLayerNorm()\n",
       "            (dropout): Dropout(p=0.1, inplace=False)\n",
       "          )\n",
       "        )\n",
       "        (8): BertLayer(\n",
       "          (attention): BertAttention(\n",
       "            (self): BertSelfAttention(\n",
       "              (query): Linear(in_features=768, out_features=768, bias=True)\n",
       "              (key): Linear(in_features=768, out_features=768, bias=True)\n",
       "              (value): Linear(in_features=768, out_features=768, bias=True)\n",
       "              (dropout): Dropout(p=0.1, inplace=False)\n",
       "            )\n",
       "            (output): BertSelfOutput(\n",
       "              (dense): Linear(in_features=768, out_features=768, bias=True)\n",
       "              (LayerNorm): BertLayerNorm()\n",
       "              (dropout): Dropout(p=0.1, inplace=False)\n",
       "            )\n",
       "          )\n",
       "          (intermediate): BertIntermediate(\n",
       "            (dense): Linear(in_features=768, out_features=3072, bias=True)\n",
       "          )\n",
       "          (output): BertOutput(\n",
       "            (dense): Linear(in_features=3072, out_features=768, bias=True)\n",
       "            (LayerNorm): BertLayerNorm()\n",
       "            (dropout): Dropout(p=0.1, inplace=False)\n",
       "          )\n",
       "        )\n",
       "        (9): BertLayer(\n",
       "          (attention): BertAttention(\n",
       "            (self): BertSelfAttention(\n",
       "              (query): Linear(in_features=768, out_features=768, bias=True)\n",
       "              (key): Linear(in_features=768, out_features=768, bias=True)\n",
       "              (value): Linear(in_features=768, out_features=768, bias=True)\n",
       "              (dropout): Dropout(p=0.1, inplace=False)\n",
       "            )\n",
       "            (output): BertSelfOutput(\n",
       "              (dense): Linear(in_features=768, out_features=768, bias=True)\n",
       "              (LayerNorm): BertLayerNorm()\n",
       "              (dropout): Dropout(p=0.1, inplace=False)\n",
       "            )\n",
       "          )\n",
       "          (intermediate): BertIntermediate(\n",
       "            (dense): Linear(in_features=768, out_features=3072, bias=True)\n",
       "          )\n",
       "          (output): BertOutput(\n",
       "            (dense): Linear(in_features=3072, out_features=768, bias=True)\n",
       "            (LayerNorm): BertLayerNorm()\n",
       "            (dropout): Dropout(p=0.1, inplace=False)\n",
       "          )\n",
       "        )\n",
       "        (10): BertLayer(\n",
       "          (attention): BertAttention(\n",
       "            (self): BertSelfAttention(\n",
       "              (query): Linear(in_features=768, out_features=768, bias=True)\n",
       "              (key): Linear(in_features=768, out_features=768, bias=True)\n",
       "              (value): Linear(in_features=768, out_features=768, bias=True)\n",
       "              (dropout): Dropout(p=0.1, inplace=False)\n",
       "            )\n",
       "            (output): BertSelfOutput(\n",
       "              (dense): Linear(in_features=768, out_features=768, bias=True)\n",
       "              (LayerNorm): BertLayerNorm()\n",
       "              (dropout): Dropout(p=0.1, inplace=False)\n",
       "            )\n",
       "          )\n",
       "          (intermediate): BertIntermediate(\n",
       "            (dense): Linear(in_features=768, out_features=3072, bias=True)\n",
       "          )\n",
       "          (output): BertOutput(\n",
       "            (dense): Linear(in_features=3072, out_features=768, bias=True)\n",
       "            (LayerNorm): BertLayerNorm()\n",
       "            (dropout): Dropout(p=0.1, inplace=False)\n",
       "          )\n",
       "        )\n",
       "        (11): BertLayer(\n",
       "          (attention): BertAttention(\n",
       "            (self): BertSelfAttention(\n",
       "              (query): Linear(in_features=768, out_features=768, bias=True)\n",
       "              (key): Linear(in_features=768, out_features=768, bias=True)\n",
       "              (value): Linear(in_features=768, out_features=768, bias=True)\n",
       "              (dropout): Dropout(p=0.1, inplace=False)\n",
       "            )\n",
       "            (output): BertSelfOutput(\n",
       "              (dense): Linear(in_features=768, out_features=768, bias=True)\n",
       "              (LayerNorm): BertLayerNorm()\n",
       "              (dropout): Dropout(p=0.1, inplace=False)\n",
       "            )\n",
       "          )\n",
       "          (intermediate): BertIntermediate(\n",
       "            (dense): Linear(in_features=768, out_features=3072, bias=True)\n",
       "          )\n",
       "          (output): BertOutput(\n",
       "            (dense): Linear(in_features=3072, out_features=768, bias=True)\n",
       "            (LayerNorm): BertLayerNorm()\n",
       "            (dropout): Dropout(p=0.1, inplace=False)\n",
       "          )\n",
       "        )\n",
       "      )\n",
       "    )\n",
       "    (pooler): BertPooler(\n",
       "      (dense): Linear(in_features=768, out_features=768, bias=True)\n",
       "      (activation): Tanh()\n",
       "    )\n",
       "  )\n",
       "  (dropout): Dropout(p=0.1, inplace=False)\n",
       "  (classifier): Linear(in_features=768, out_features=10032, bias=True)\n",
       ")"
      ]
     },
     "execution_count": 30,
     "metadata": {},
     "output_type": "execute_result"
    }
   ],
   "source": [
    "# This is where the fine-tuning comes in. We must train the model for our specific task.\n",
    "\n",
    "# We will first modify pre-trained BERT for our specific task, then continue training on our data until the entire model\n",
    "#   is well-suited for our task.\n",
    "\n",
    "model = BertForSequenceClassification.from_pretrained(BERT_PATH, num_labels=len(labels))\n",
    "model.cuda()"
   ]
  },
  {
   "cell_type": "code",
   "execution_count": 31,
   "metadata": {
    "colab": {},
    "colab_type": "code",
    "id": "_-W9_IQfjbiu"
   },
   "outputs": [],
   "source": [
    "'''\n",
    "Now that we have our model loaded we need to grab the training hyperparameters from within the stored model.\n",
    "\n",
    "For the purposes of fine-tuning, the authors recommend the following hyperparameter ranges:\n",
    "\n",
    "Batch size: 16, 32\n",
    "Learning rate (Adam): 5e-5, 3e-5, 2e-5\n",
    "Number of epochs: 2, 3, 4\n",
    "'''\n",
    "\n",
    "param_optimizer = list(model.named_parameters())\n",
    "no_decay = ['bias', 'gamma', 'beta']\n",
    "optimizer_grouped_parameters = [\n",
    "    {'params': [p for n, p in param_optimizer if not any(nd in n for nd in no_decay)],\n",
    "     'weight_decay_rate': 0.01},\n",
    "    {'params': [p for n, p in param_optimizer if any(nd in n for nd in no_decay)],\n",
    "     'weight_decay_rate': 0.0}\n",
    "]"
   ]
  },
  {
   "cell_type": "code",
   "execution_count": 32,
   "metadata": {
    "colab": {
     "base_uri": "https://localhost:8080/",
     "height": 34
    },
    "colab_type": "code",
    "executionInfo": {
     "elapsed": 137145,
     "status": "ok",
     "timestamp": 1587144360116,
     "user": {
      "displayName": "Clayton Cohn",
      "photoUrl": "https://lh3.googleusercontent.com/a-/AOh14GiR5T0VrYZ_A0_satvSE1jZbcVxmApPyylw8Q-uxoo=s64",
      "userId": "10103672487987981310"
     },
     "user_tz": 300
    },
    "id": "VJJ0yOIZtOpr",
    "outputId": "af71d5ca-7614-47ba-8b1a-afbb38072b64"
   },
   "outputs": [
    {
     "name": "stderr",
     "output_type": "stream",
     "text": [
      "t_total value of -1 results in schedule not being applied\n"
     ]
    }
   ],
   "source": [
    "optimizer = BertAdam(optimizer_grouped_parameters,\n",
    "                     lr=LEARNING_RATE,\n",
    "                     warmup=WARMUP)"
   ]
  },
  {
   "cell_type": "code",
   "execution_count": 33,
   "metadata": {
    "colab": {},
    "colab_type": "code",
    "id": "GANGNKH7jbd2"
   },
   "outputs": [],
   "source": [
    "# Function to calculate the accuracy of our predictions vs labels\n",
    "def flat_accuracy(preds, labels):\n",
    "    pred_flat = np.argmax(preds, axis=1).flatten()\n",
    "    labels_flat = labels.flatten()\n",
    "    return np.sum(pred_flat == labels_flat) / len(labels_flat)"
   ]
  },
  {
   "cell_type": "code",
   "execution_count": 34,
   "metadata": {
    "colab": {
     "base_uri": "https://localhost:8080/",
     "height": 102
    },
    "colab_type": "code",
    "executionInfo": {
     "elapsed": 468855,
     "status": "ok",
     "timestamp": 1587144691892,
     "user": {
      "displayName": "Clayton Cohn",
      "photoUrl": "https://lh3.googleusercontent.com/a-/AOh14GiR5T0VrYZ_A0_satvSE1jZbcVxmApPyylw8Q-uxoo=s64",
      "userId": "10103672487987981310"
     },
     "user_tz": 300
    },
    "id": "DKr36ugQ6qZn",
    "outputId": "4709e68d-a40f-4223-9d77-04aab7fec063"
   },
   "outputs": [
    {
     "name": "stderr",
     "output_type": "stream",
     "text": [
      "Epoch:   0%|                                                                                     | 0/2 [00:00<?, ?it/s]C:\\Users\\Keith\\anaconda3\\envs\\PythonGPU\\lib\\site-packages\\ipykernel_launcher.py:24: UserWarning: To copy construct from a tensor, it is recommended to use sourceTensor.clone().detach() or sourceTensor.clone().detach().requires_grad_(True), rather than torch.tensor(sourceTensor).\n",
      "..\\torch\\csrc\\utils\\python_arg_parser.cpp:756: UserWarning: This overload of add_ is deprecated:\n",
      "\tadd_(Number alpha, Tensor other)\n",
      "Consider using one of the following signatures instead:\n",
      "\tadd_(Tensor other, *, Number alpha)\n"
     ]
    },
    {
     "name": "stdout",
     "output_type": "stream",
     "text": [
      "Train loss: 0.7549851267160881\n"
     ]
    },
    {
     "name": "stderr",
     "output_type": "stream",
     "text": [
      "C:\\Users\\Keith\\anaconda3\\envs\\PythonGPU\\lib\\site-packages\\ipykernel_launcher.py:58: UserWarning: To copy construct from a tensor, it is recommended to use sourceTensor.clone().detach() or sourceTensor.clone().detach().requires_grad_(True), rather than torch.tensor(sourceTensor).\n"
     ]
    },
    {
     "name": "stdout",
     "output_type": "stream",
     "text": [
      "Validation Accuracy: 0.9124348958333334\n"
     ]
    },
    {
     "name": "stderr",
     "output_type": "stream",
     "text": [
      "\r",
      "Epoch:  50%|██████████████████████████████████████                                      | 1/2 [02:50<02:50, 170.56s/it]"
     ]
    },
    {
     "name": "stdout",
     "output_type": "stream",
     "text": [
      "Train loss: 0.18278028613265748\n",
      "Validation Accuracy: 0.9147135416666666\n"
     ]
    },
    {
     "name": "stderr",
     "output_type": "stream",
     "text": [
      "Epoch: 100%|████████████████████████████████████████████████████████████████████████████| 2/2 [05:39<00:00, 169.99s/it]\n"
     ]
    }
   ],
   "source": [
    "t = [] \n",
    "\n",
    "# Store our loss and accuracy for plotting\n",
    "train_loss_set = []\n",
    "\n",
    "# trange is a tqdm wrapper around the normal python range\n",
    "for _ in trange(EPOCHS, desc=\"Epoch\"):\n",
    "  \n",
    "  # Training\n",
    "  \n",
    "  # Set our model to training mode (as opposed to evaluation mode)\n",
    "  model.train()\n",
    "  \n",
    "  # Tracking variables\n",
    "  tr_loss = 0\n",
    "  nb_tr_examples, nb_tr_steps = 0, 0\n",
    "  \n",
    "  # Train the data for one epoch\n",
    "  for step, batch in enumerate(train_dataloader):\n",
    "    # Add batch to GPU\n",
    "    batch = tuple(t.to(device) for t in batch)\n",
    "    # Unpack the inputs from our dataloader\n",
    "    b_input_ids, b_input_mask, b_labels = batch\n",
    "    b_input_ids = torch.tensor(b_input_ids).to(torch.int64) # from https://github.com/huggingface/transformers/issues/2952\n",
    "    # Clear out the gradients (by default they accumulate)\n",
    "    optimizer.zero_grad()\n",
    "    # Forward pass\n",
    "    loss = model(b_input_ids, token_type_ids=None, attention_mask=b_input_mask, labels=b_labels)\n",
    "    train_loss_set.append(loss.item())    \n",
    "    # Backward pass\n",
    "    loss.backward()\n",
    "    # Update parameters and take a step using the computed gradient\n",
    "    optimizer.step()\n",
    "    \n",
    "    # Update tracking variables\n",
    "    tr_loss += loss.item()\n",
    "    nb_tr_examples += b_input_ids.size(0)\n",
    "    nb_tr_steps += 1\n",
    "\n",
    "  print(\"Train loss: {}\".format(tr_loss/nb_tr_steps))\n",
    "    \n",
    "    \n",
    "  # Validation\n",
    "\n",
    "  # Put model in evaluation mode to evaluate loss on the validation set\n",
    "  model.eval()\n",
    "\n",
    "  # Tracking variables \n",
    "  eval_loss, eval_accuracy = 0, 0\n",
    "  nb_eval_steps, nb_eval_examples = 0, 0\n",
    "\n",
    "  # Evaluate data for one epoch\n",
    "  for batch in validation_dataloader:\n",
    "    # Add batch to GPU\n",
    "    batch = tuple(t.to(device) for t in batch)\n",
    "    # Unpack the inputs from our dataloader\n",
    "    b_input_ids, b_input_mask, b_labels = batch\n",
    "    b_input_ids = torch.tensor(b_input_ids).to(torch.int64) # from https://github.com/huggingface/transformers/issues/2952\n",
    "    # Telling the model not to compute or store gradients, saving memory and speeding up validation\n",
    "    with torch.no_grad():\n",
    "      # Forward pass, calculate logit predictions\n",
    "      logits = model(b_input_ids, token_type_ids=None, attention_mask=b_input_mask)\n",
    "    \n",
    "    # Move logits and labels to CPU\n",
    "    logits = logits.detach().cpu().numpy()\n",
    "    label_ids = b_labels.to('cpu').numpy()\n",
    "\n",
    "    tmp_eval_accuracy = flat_accuracy(logits, label_ids)\n",
    "    \n",
    "    eval_accuracy += tmp_eval_accuracy\n",
    "    nb_eval_steps += 1\n",
    "\n",
    "  print(\"Validation Accuracy: {}\".format(eval_accuracy/nb_eval_steps))"
   ]
  },
  {
   "cell_type": "code",
   "execution_count": 35,
   "metadata": {
    "colab": {},
    "colab_type": "code",
    "id": "bqqQCDEWs0oN"
   },
   "outputs": [],
   "source": [
    "STATS_FILE = \"skin_cancer_fine_tuning_stats.csv\"\n",
    "\n",
    "def getLastModelNumber():\n",
    "  try:\n",
    "    with open(STATS_PATH + \"/\" + STATS_FILE, \"r\") as f:\n",
    "      f_list = list(f)\n",
    "      latest = f_list[-1].split(',')\n",
    "      return int(latest[0])\n",
    "  except:\n",
    "    return -1"
   ]
  },
  {
   "cell_type": "code",
   "execution_count": 36,
   "metadata": {
    "colab": {},
    "colab_type": "code",
    "id": "k50fbgDqbai2"
   },
   "outputs": [],
   "source": [
    "# Will take a break from saving models - takes up too much space\n",
    "\n",
    "# import os\n",
    "# import itertools\n",
    "\n",
    "# MODEL_PATH = \"drive/My Drive/colab/models/\" \n",
    "# MODEL_SAVE_NAME = 'skin_cancer_fine_tuning'\n",
    "\n",
    "# # Helper function for auto-saving model incrementally\n",
    "\n",
    "# # This code is originally from StackExchange via \"Tanner,\" but I altered it for use here\n",
    "# # https://gis.stackexchange.com/questions/27410/how-auto-increment-output-file-names-in-python-script\n",
    "\n",
    "# # Modified with code from Gareth Latty via StackOverflow\n",
    "# # https://stackoverflow.com/questions/13673781/splitting-a-string-where-it-switches-between-numeric-and-alphabetic-characters\n",
    "# def getNextFileInt(output_folder):\n",
    "#     highest_num = 0\n",
    "#     for f in os.listdir(output_folder):\n",
    "#       temp = \"\"\n",
    "#       for c in f:\n",
    "#         if c.isdigit():\n",
    "#           temp += c\n",
    "#         if len(temp) > 0 and int(temp) > highest_num:\n",
    "#           highest_num = int(temp)\n",
    "#     return highest_num + 1"
   ]
  },
  {
   "cell_type": "code",
   "execution_count": 37,
   "metadata": {
    "colab": {
     "base_uri": "https://localhost:8080/",
     "height": 34
    },
    "colab_type": "code",
    "executionInfo": {
     "elapsed": 469105,
     "status": "ok",
     "timestamp": 1587144692225,
     "user": {
      "displayName": "Clayton Cohn",
      "photoUrl": "https://lh3.googleusercontent.com/a-/AOh14GiR5T0VrYZ_A0_satvSE1jZbcVxmApPyylw8Q-uxoo=s64",
      "userId": "10103672487987981310"
     },
     "user_tz": 300
    },
    "id": "6W-xZT7ybtzL",
    "outputId": "2341c807-f698-4bb8-8f70-7ab38b72c316"
   },
   "outputs": [
    {
     "data": {
      "text/plain": [
       "'4'"
      ]
     },
     "execution_count": 37,
     "metadata": {},
     "output_type": "execute_result"
    }
   ],
   "source": [
    "# We will use this in the future to refer to the current model\n",
    "current_file_n_str = str(getLastModelNumber() + 1)\n",
    "current_file_n_str"
   ]
  },
  {
   "cell_type": "code",
   "execution_count": 38,
   "metadata": {
    "colab": {},
    "colab_type": "code",
    "id": "M8-hHD9R6qj1"
   },
   "outputs": [],
   "source": [
    "# # We save the model so that we can access it later\n",
    "\n",
    "# if not os.path.isfile(MODEL_PATH + MODEL_SAVE_NAME):\n",
    "#   torch.save(model.state_dict(), MODEL_PATH + MODEL_SAVE_NAME)\n",
    "# else:\n",
    "#   # Get the model number to save\n",
    "#   current_file_n_str = str(getNextFileInt(MODEL_PATH))\n",
    "#   print(\"This will be file\",current_file_n_str)\n",
    "#   torch.save(model.state_dict(), MODEL_PATH + MODEL_SAVE_NAME + current_file_n_str)"
   ]
  },
  {
   "cell_type": "code",
   "execution_count": 39,
   "metadata": {
    "colab": {
     "base_uri": "https://localhost:8080/",
     "height": 513
    },
    "colab_type": "code",
    "executionInfo": {
     "elapsed": 470357,
     "status": "ok",
     "timestamp": 1587144693528,
     "user": {
      "displayName": "Clayton Cohn",
      "photoUrl": "https://lh3.googleusercontent.com/a-/AOh14GiR5T0VrYZ_A0_satvSE1jZbcVxmApPyylw8Q-uxoo=s64",
      "userId": "10103672487987981310"
     },
     "user_tz": 300
    },
    "id": "YDoGoe4V6qtf",
    "outputId": "b88b934a-a8d7-4ea4-f55f-86dd3f2286f4"
   },
   "outputs": [
    {
     "data": {
      "image/png": "[encoded data removed]",
      "text/plain": [
       "<Figure size 1080x576 with 1 Axes>"
      ]
     },
     "metadata": {
      "needs_background": "light"
     },
     "output_type": "display_data"
    }
   ],
   "source": [
    "# Let's take a look!\n",
    "\n",
    "plt.figure(figsize=(15,8))\n",
    "plt.title(\"Training loss\")\n",
    "plt.xlabel(\"Batch\")\n",
    "plt.ylabel(\"Loss\")\n",
    "plt.plot(train_loss_set)\n",
    "plt.show()"
   ]
  },
  {
   "cell_type": "code",
   "execution_count": 40,
   "metadata": {
    "colab": {},
    "colab_type": "code",
    "id": "yORLUkJzBwgq"
   },
   "outputs": [],
   "source": [
    "# Now we will validate on our testing data\n",
    "DATA_NAME_TEST = \"EBA1415-SkinCancer-little-sentences.tsv\"\n",
    "df_test = pd.read_csv(DATA_PATH + \"/\" + DATA_NAME_TEST, delimiter='\\t', header=0, names=['file', 'relation', 's_num', 'sentence'])"
   ]
  },
  {
   "cell_type": "code",
   "execution_count": 41,
   "metadata": {
    "colab": {},
    "colab_type": "code",
    "id": "jMbMYLuQBwdt"
   },
   "outputs": [],
   "source": [
    "# Create sentence and label lists\n",
    "sentences_test = df_test.sentence.values\n",
    "\n",
    "# We need to add special tokens at the beginning and end of each sentence for BERT to work properly\n",
    "sentences_test = [\"[CLS] \" + sentence + \" [SEP]\" for sentence in sentences_test]\n",
    "\n",
    "tokenized_texts_test = [tokenizer.tokenize(sentence) for sentence in sentences_test]"
   ]
  },
  {
   "cell_type": "code",
   "execution_count": 48,
   "metadata": {
    "colab": {},
    "colab_type": "code",
    "id": "544FbxSkBwa7"
   },
   "outputs": [],
   "source": [
    "# Get labels\n",
    "labels_test = df_test.relation.values"
   ]
  },
  {
   "cell_type": "code",
   "execution_count": 49,
   "metadata": {
    "colab": {
     "base_uri": "https://localhost:8080/",
     "height": 71
    },
    "colab_type": "code",
    "executionInfo": {
     "elapsed": 470881,
     "status": "ok",
     "timestamp": 1587144694170,
     "user": {
      "displayName": "Clayton Cohn",
      "photoUrl": "https://lh3.googleusercontent.com/a-/AOh14GiR5T0VrYZ_A0_satvSE1jZbcVxmApPyylw8Q-uxoo=s64",
      "userId": "10103672487987981310"
     },
     "user_tz": 300
    },
    "id": "7FQmuOIsYI8h",
    "outputId": "6088b808-8a1a-4bc1-99cf-c2a9c81a3bb3"
   },
   "outputs": [
    {
     "name": "stdout",
     "output_type": "stream",
     "text": [
      "Labels: size: 2614, values [0, 1, 1, 1, 1, 1, 1, 0, 1, 1, 1, 1, 1, 1, 1, 1, 1, 1, 1, 1, 1, 1, 1, 0, 0, 0, 0, 1, 1, 1, 0, 1, 0, 1, 1, 1, 1, 1, 0, 0, 0, 1, 1, 0, 1, 1, 0, 0, 1, 1, 1, 1, 1, 1, 1, 0, 1, 1, 1, 1, 1, 0, 0, 1, 0, 1, 1, 1, 1, 0, 1, 1, 0, 1, 1, 1, 0, 1, 1, 1, 1, 1, 1, 1, 0, 1, 1, 1, 1, 0, 0, 0, 1, 1, 1, 1, 1, 1, 0, 0, 1, 1, 1, 0, 1, 0, 1, 1, 0, 0, 0, 0, 1, 0, 0, 1, 1, 1, 1, 1, 1, 0, 0, 0, 1, 1, 1, 1, 1, 1, 0, 1, 1, 1, 1, 1, 1, 0, 0, 0, 0, 0, 0, 1, 1, 1, 1, 1, 0, 1, 0, 0, 0, 0, 0, 0, 0, 0, 0, 1, 1, 1, 1, 1, 1, 1, 0, 1, 0, 0, 0, 0, 0, 0, 1, 0, 1, 1, 1, 1, 1, 0, 0, 0, 0, 0, 0, 0, 0, 0, 1, 0, 1, 1, 1, 1, 0, 1, 1, 0, 0, 0, 0, 1, 1, 1, 1, 1, 1, 1, 0, 0, 0, 0, 0, 0, 0, 0, 0, 0, 0, 1, 1, 1, 1, 1, 1, 0, 0, 0, 0, 1, 1, 0, 1, 1, 1, 1, 1, 0, 0, 1, 1, 1, 1, 1, 0, 1, 1, 1, 1, 1, 0, 1, 0, 0, 0, 0, 0, 0, 1, 0, 0, 1, 1, 0, 0, 1, 0, 0, 0, 0, 0, 0, 0, 0, 0, 0, 0, 0, 0, 0, 0, 1, 1, 1, 1, 1, 1, 1, 1, 0, 0, 0, 0, 0, 0, 0, 1, 1, 1, 1, 1, 1, 0, 0, 0, 0, 0, 0, 0, 0, 0, 0, 0, 1, 1, 0, 1, 1, 1, 0, 0, 0, 0, 1, 1, 1, 1, 1, 0, 0, 0, 0, 0, 0, 0, 0, 0, 1, 1, 1, 1, 0, 0, 0, 1, 1, 1, 1, 1, 0, 1, 1, 1, 1, 1, 1, 1, 1, 1, 0, 1, 1, 1, 1, 1, 1, 1, 1, 1, 0, 0, 0, 0, 1, 0, 0, 0, 0, 0, 0, 0, 0, 0, 1, 1, 1, 1, 0, 1, 1, 1, 1, 1, 1, 1, 0, 0, 0, 1, 1, 1, 1, 1, 1, 1, 1, 0, 0, 0, 0, 0, 0, 1, 1, 1, 0, 1, 1, 1, 1, 1, 1, 0, 0, 1, 1, 1, 1, 0, 0, 0, 1, 0, 1, 1, 1, 1, 1, 1, 1, 1, 0, 1, 1, 0, 0, 0, 0, 0, 1, 1, 1, 0, 0, 0, 1, 1, 0, 0, 1, 1, 1, 0, 0, 1, 1, 1, 0, 0, 0, 0, 0, 0, 1, 1, 0, 1, 1, 1, 1, 1, 1, 1, 1, 1, 1, 0, 0, 0, 1, 1, 1, 0, 0, 1, 1, 1, 1, 1, 0, 0, 0, 0, 0, 0, 0, 1, 1, 1, 0, 1, 1, 0, 1, 1, 1, 1, 1, 0, 0, 0, 1, 1, 1, 1, 1, 1, 1, 1, 0, 0, 0, 0, 0, 0, 1, 0, 1, 1, 1, 1, 1, 1, 1, 0, 0, 1, 1, 0, 1, 1, 0, 1, 1, 1, 1, 1, 1, 1, 1, 1, 1, 0, 0, 1, 1, 1, 1, 1, 1, 0, 1, 0, 0, 1, 1, 1, 0, 1, 1, 1, 1, 1, 1, 0, 0, 0, 0, 0, 1, 1, 1, 1, 0, 0, 0, 1, 1, 1, 1, 1, 1, 1, 1, 1, 1, 1, 1, 1, 1, 1, 1, 1, 1, 1, 1, 1, 0, 0, 0, 0, 0, 0, 0, 1, 0, 0, 1, 0, 0, 0, 0, 0, 0, 0, 0, 0, 0, 1, 0, 0, 0, 0, 0, 0, 0, 0, 0, 0, 0, 0, 0, 0, 0, 0, 1, 1, 0, 1, 1, 1, 1, 0, 0, 0, 1, 1, 1, 1, 1, 0, 0, 0, 1, 1, 1, 1, 1, 1, 1, 1, 0, 0, 1, 1, 1, 1, 0, 0, 0, 0, 0, 0, 0, 0, 1, 0, 1, 1, 1, 0, 0, 0, 0, 0, 1, 1, 1, 1, 1, 1, 0, 0, 1, 0, 0, 0, 0, 1, 1, 0, 1, 1, 1, 1, 0, 0, 0, 0, 0, 0, 0, 0, 1, 1, 1, 1, 1, 0, 0, 0, 0, 1, 0, 1, 1, 1, 1, 0, 1, 0, 0, 0, 0, 0, 0, 0, 0, 0, 0, 0, 1, 1, 1, 1, 1, 1, 1, 1, 1, 1, 1, 0, 0, 1, 1, 1, 1, 1, 0, 1, 1, 1, 0, 1, 1, 1, 0, 0, 0, 0, 1, 1, 1, 1, 0, 0, 1, 1, 1, 1, 0, 0, 0, 0, 0, 0, 0, 0, 1, 1, 1, 1, 1, 1, 1, 1, 0, 0, 0, 0, 0, 0, 0, 0, 0, 0, 0, 0, 1, 1, 0, 0, 1, 1, 1, 0, 0, 1, 1, 0, 1, 0, 0, 0, 0, 0, 0, 0, 0, 0, 0, 0, 0, 0, 0, 1, 0, 0, 0, 1, 1, 1, 1, 0, 1, 1, 1, 1, 1, 0, 1, 1, 1, 1, 0, 1, 0, 0, 0, 0, 0, 1, 1, 1, 1, 1, 1, 1, 1, 1, 1, 0, 1, 1, 1, 1, 1, 1, 0, 1, 1, 1, 1, 1, 0, 1, 1, 1, 1, 1, 1, 1, 1, 0, 1, 1, 0, 1, 1, 1, 1, 1, 1, 0, 1, 0, 1, 1, 0, 1, 1, 1, 1, 1, 1, 1, 0, 0, 0, 0, 0, 0, 0, 0, 0, 0, 0, 0, 0, 0, 0, 0, 1, 1, 0, 0, 1, 1, 1, 1, 1, 1, 1, 1, 1, 1, 1, 1, 0, 1, 1, 1, 1, 1, 0, 0, 0, 0, 0, 0, 0, 0, 0, 0, 0, 0, 1, 0, 0, 0, 1, 0, 1, 1, 1, 1, 0, 0, 1, 1, 1, 1, 0, 0, 1, 1, 0, 1, 1, 0, 1, 0, 0, 0, 1, 0, 1, 1, 0, 0, 1, 1, 1, 1, 1, 1, 1, 1, 1, 1, 1, 0, 1, 1, 1, 1, 1, 1, 1, 1, 1, 1, 1, 1, 0, 0, 1, 1, 1, 1, 1, 1, 1, 1, 1, 1, 1, 1, 1, 0, 0, 0, 0, 1, 0, 0, 1, 0, 0, 0, 0, 0, 1, 1, 0, 0, 0, 0, 0, 0, 1, 1, 0, 1, 0, 1, 1, 1, 1, 0, 1, 1, 1, 1, 0, 1, 1, 0, 0, 1, 1, 1, 1, 1, 0, 0, 0, 1, 1, 1, 1, 1, 1, 0, 0, 0, 0, 0, 0, 0, 1, 1, 1, 1, 1, 1, 1, 1, 0, 1, 1, 0, 0, 1, 1, 1, 1, 1, 0, 0, 0, 0, 1, 1, 0, 0, 0, 0, 0, 0, 0, 0, 1, 0, 1, 1, 1, 1, 1, 1, 1, 1, 1, 0, 1, 1, 0, 0, 1, 0, 1, 1, 1, 1, 0, 0, 1, 1, 0, 0, 0, 1, 0, 1, 0, 0, 0, 1, 0, 0, 0, 0, 0, 1, 0, 0, 1, 1, 1, 1, 1, 1, 0, 1, 1, 0, 0, 0, 0, 0, 0, 0, 0, 0, 0, 0, 0, 1, 0, 1, 1, 1, 1, 1, 1, 0, 1, 1, 1, 1, 1, 1, 1, 1, 1, 1, 1, 0, 0, 0, 0, 0, 0, 0, 0, 0, 0, 0, 0, 0, 1, 0, 0, 1, 0, 0, 1, 0, 0, 0, 0, 0, 1, 1, 1, 1, 1, 1, 1, 1, 1, 0, 1, 1, 0, 0, 1, 0, 0, 0, 0, 1, 1, 0, 1, 1, 1, 1, 1, 1, 0, 1, 1, 1, 1, 1, 1, 1, 1, 0, 0, 1, 1, 1, 1, 1, 1, 1, 0, 0, 1, 1, 1, 0, 0, 1, 1, 1, 1, 1, 1, 1, 0, 0, 1, 1, 1, 1, 1, 1, 1, 1, 1, 1, 1, 1, 0, 0, 0, 0, 0, 0, 0, 0, 0, 0, 1, 1, 1, 0, 0, 0, 0, 0, 1, 0, 1, 1, 1, 0, 1, 1, 0, 1, 1, 1, 1, 0, 0, 0, 0, 0, 0, 0, 0, 0, 0, 0, 1, 1, 1, 1, 1, 1, 1, 1, 0, 1, 0, 0, 1, 1, 1, 1, 1, 0, 0, 0, 0, 0, 0, 1, 1, 1, 1, 0, 0, 0, 1, 1, 1, 1, 1, 1, 1, 0, 0, 0, 1, 0, 1, 1, 0, 1, 1, 1, 1, 1, 1, 1, 0, 1, 0, 0, 0, 0, 1, 1, 1, 0, 0, 0, 1, 1, 0, 0, 0, 0, 0, 1, 0, 0, 0, 1, 0, 0, 1, 1, 0, 0, 0, 0, 0, 0, 0, 1, 1, 1, 1, 0, 1, 0, 0, 0, 0, 0, 0, 0, 0, 0, 0, 0, 0, 1, 1, 1, 0, 1, 1, 1, 1, 1, 1, 0, 0, 0, 0, 0, 0, 0, 0, 0, 0, 0, 0, 0, 0, 0, 0, 0, 0, 0, 0, 0, 1, 0, 1, 1, 1, 1, 1, 0, 1, 0, 0, 1, 1, 0, 0, 0, 0, 0, 0, 1, 1, 1, 1, 1, 1, 1, 1, 1, 1, 0, 1, 1, 1, 1, 1, 0, 0, 0, 0, 0, 0, 0, 0, 0, 1, 1, 1, 0, 1, 1, 1, 1, 1, 0, 0, 0, 0, 0, 0, 0, 0, 1, 0, 0, 0, 1, 1, 1, 1, 1, 1, 1, 0, 1, 1, 0, 0, 1, 0, 0, 0, 0, 1, 1, 1, 1, 1, 1, 1, 0, 1, 0, 0, 0, 0, 0, 0, 0, 0, 0, 0, 1, 0, 0, 0, 0, 0, 0, 0, 0, 0, 0, 0, 0, 1, 0, 0, 0, 0, 1, 1, 0, 1, 0, 0, 0, 1, 0, 0, 0, 0, 1, 1, 0, 0, 0, 0, 0, 0, 0, 1, 1, 0, 0, 0, 0, 0, 0, 0, 0, 0, 0, 1, 1, 0, 0, 0, 0, 1, 1, 1, 1, 0, 1, 0, 1, 1, 0, 0, 0, 0, 0, 0, 0, 0, 0, 0, 1, 1, 1, 0, 0, 1, 0, 0, 0, 0, 0, 0, 0, 1, 1, 1, 1, 1, 1, 1, 1, 0, 1, 1, 0, 1, 1, 1, 1, 1, 1, 0, 1, 0, 1, 1, 1, 1, 1, 1, 1, 1, 1, 1, 1, 1, 1, 1, 1, 0, 0, 1, 1, 1, 1, 1, 1, 0, 0, 1, 1, 1, 0, 1, 0, 0, 0, 0, 0, 0, 1, 1, 1, 1, 1, 0, 0, 1, 1, 1, 0, 0, 0, 0, 1, 1, 1, 0, 0, 0, 1, 0, 1, 1, 1, 1, 1, 0, 0, 0, 0, 0, 0, 0, 1, 1, 1, 1, 0, 0, 1, 1, 1, 1, 1, 1, 0, 1, 1, 1, 1, 1, 1, 1, 1, 1, 1, 0, 0, 1, 1, 1, 1, 1, 1, 0, 0, 1, 0, 0, 0, 0, 1, 1, 1, 1, 1, 1, 0, 0, 1, 1, 0, 1, 1, 1, 0, 0, 0, 1, 1, 0, 1, 0, 0, 1, 1, 1, 1, 1, 1, 0, 0, 0, 0, 1, 1, 1, 1, 0, 1, 1, 0, 0, 0, 0, 0, 0, 0, 0, 1, 0, 0, 0, 1, 1, 1, 0, 1, 0, 1, 1, 0, 0, 1, 1, 0, 0, 0, 0, 1, 1, 1, 1, 0, 1, 1, 1, 1, 1, 1, 1, 0, 0, 0, 0, 0, 0, 1, 0, 0, 0, 0, 1, 1, 1, 0, 1, 0, 1, 1, 1, 1, 1, 1, 1, 1, 1, 1, 1, 1, 1, 0, 1, 0, 0, 0, 0, 0, 0, 0, 0, 0, 0, 1, 0, 1, 0, 0, 0, 0, 0, 0, 0, 0, 0, 1, 1, 1, 0, 1, 0, 1, 0, 1, 1, 1, 1, 1, 0, 0, 0, 0, 0, 1, 1, 0, 0, 0, 0, 0, 0, 1, 1, 1, 1, 1, 1, 1, 0, 1, 1, 1, 1, 1, 1, 1, 0, 0, 0, 0, 0, 0, 0, 0, 0, 0, 0, 0, 0, 1, 0, 1, 1, 1, 0, 0, 0, 1, 1, 0, 0, 0, 0, 0, 0, 0, 0, 1, 0, 0, 1, 1, 0, 0, 0, 0, 0, 0, 0, 0, 0, 1, 0, 0, 0, 1, 1, 0, 0, 1, 0, 1, 0, 0, 1, 1, 1, 1, 1, 1, 1, 0, 0, 0, 1, 0, 0, 0, 1, 1, 1, 1, 0, 0, 0, 0, 1, 1, 1, 0, 1, 1, 1, 1, 0, 0, 1, 1, 0, 0, 1, 1, 1, 0, 1, 1, 1, 1, 0, 0, 0, 0, 0, 0, 0, 0, 0, 0, 0, 0, 0, 0, 1, 1, 0, 0, 0, 1, 1, 0, 0, 0, 1, 1, 0, 0, 0, 0, 0, 0, 0, 0, 0, 0, 0, 0, 0, 0, 0, 0, 0, 0, 1, 1, 0, 1, 1, 1, 1, 1, 0, 0, 1, 1, 1, 1, 1, 0, 0, 1, 1, 0, 0, 0, 0, 0, 1, 0, 1, 1, 1, 1, 0, 0, 0, 0, 0, 0, 0, 0, 0, 0, 0, 0, 0, 0, 0, 0, 0, 0, 0, 0, 1, 0, 1, 1, 0, 1, 1, 1, 0, 1, 1, 1, 0, 0, 1, 1, 1, 1, 1, 0, 0, 0, 0, 0, 0, 0, 0, 0, 1, 1, 0, 0, 0, 0, 0, 0, 0, 1, 0, 0, 0, 0, 0, 0, 0, 0, 0, 1, 1, 1, 0, 0, 0, 0, 0, 1, 0, 0, 0, 0, 0, 0, 1, 0, 0, 0, 0, 0, 0, 0, 1, 0, 1, 0, 0, 1, 0, 0, 1, 1, 1, 1, 0, 0, 1, 1, 1, 1, 1, 1, 1, 1, 1, 0, 1, 0, 0, 0, 1, 1, 1, 0, 1, 0, 0, 1, 0, 1, 1, 0, 1, 0, 1, 1, 1, 0, 0, 1, 1, 1, 1, 1, 0, 0, 0, 1, 1, 1, 1, 1, 1, 1, 1, 1, 1, 1, 1, 1, 1, 1, 1, 1, 1, 1, 1, 1, 1, 1, 0, 0, 0, 1, 1, 1, 1, 0, 1, 1, 0, 0, 1, 1, 1, 1, 1, 1, 1, 1, 0, 0, 1, 1, 1, 1, 0, 0, 1, 1, 1, 1, 1, 0, 1, 1, 1, 1, 1, 0, 1, 1, 1, 1, 1, 0, 1, 1, 1, 1, 1, 0, 0, 1, 1, 1, 1, 0, 1, 1, 0, 1, 1, 1, 0, 0, 0, 1, 1, 1, 1, 1, 0, 1, 1, 1, 1, 1, 0, 0, 1, 1, 1, 1, 1, 0, 0, 0, 0, 0, 0, 0, 0, 1, 1, 1, 1, 1, 1, 0, 1, 0, 0, 0, 0, 0, 1, 0, 0, 0, 0, 0, 0, 0, 0, 0, 0, 1, 0, 1, 0, 0, 1, 1, 1, 1, 1, 1, 1, 1, 1, 0, 0, 1, 1, 1, 1, 1, 1, 1, 1, 1, 1, 1, 1, 1, 0, 0, 1, 1, 1, 1, 1, 1, 0, 0, 0, 1, 1, 1, 1, 1, 1, 1, 1, 1, 1, 1, 0, 1, 1, 0, 1, 1, 1, 1, 1, 1, 1, 1, 1, 1, 1, 0, 0, 0, 0, 0, 0, 0, 0, 0, 1, 0, 1, 0, 0, 0, 0, 0, 0, 0, 0, 1, 1, 0, 1, 0, 0, 0, 0, 0, 0, 0, 0, 1, 1, 1, 1, 1, 0, 0, 0, 0, 1, 0, 0, 1, 0, 0, 0, 0, 1, 1, 1, 1, 1, 1, 1, 0, 0, 0, 1, 1, 0, 1, 0, 1, 1, 1, 1, 1, 1, 0, 1, 1, 1, 0, 0]\n"
     ]
    }
   ],
   "source": [
    "# Convert labels to ints\n",
    "\n",
    "#print(\"Pre-changed test labels: \",str(labels_test))\n",
    "#labels_test = [label_types.get(l) for l in labels_test]\n",
    "#print(\"Changed test labels: \",str(labels_test))\n",
    "\n",
    "test_labels = []\n",
    "for i, label in enumerate(labels_test):\n",
    "    value = 0\n",
    "    if (causal_reasoning_chain_exists(skin_cancer_chains, label) == True):\n",
    "        value = 1\n",
    "    test_labels.append(value)\n",
    "\n",
    "#labels_test = test_labels\n",
    "print(\"Labels: size: {}, values {}\".format(len(test_labels), test_labels))"
   ]
  },
  {
   "cell_type": "code",
   "execution_count": 50,
   "metadata": {
    "colab": {
     "base_uri": "https://localhost:8080/",
     "height": 34
    },
    "colab_type": "code",
    "executionInfo": {
     "elapsed": 470856,
     "status": "ok",
     "timestamp": 1587144694171,
     "user": {
      "displayName": "Clayton Cohn",
      "photoUrl": "https://lh3.googleusercontent.com/a-/AOh14GiR5T0VrYZ_A0_satvSE1jZbcVxmApPyylw8Q-uxoo=s64",
      "userId": "10103672487987981310"
     },
     "user_tz": 300
    },
    "id": "VyBKS_7wYJaD",
    "outputId": "b75dab50-7fa3-41c9-90dc-8301bde40fd1"
   },
   "outputs": [
    {
     "name": "stdout",
     "output_type": "stream",
     "text": [
      "Removed 0 labels of type None\n"
     ]
    }
   ],
   "source": [
    "# Get rid of labels that were not in the training data\n",
    "\n",
    "labels_test = test_labels\n",
    "original_test_label_length = len(labels_test)\n",
    "\n",
    "tokenized_texts_test = [tokenized_texts_test[i] for i in range(len(tokenized_texts_test)) if labels_test[i] != None]\n",
    "labels_test = [labels_test[i] for i in range(len(labels_test)) if labels_test[i] != None]\n",
    "\n",
    "print(\"Removed {0} labels of type None\".format(original_test_label_length - len(labels_test)))"
   ]
  },
  {
   "cell_type": "code",
   "execution_count": 51,
   "metadata": {
    "colab": {},
    "colab_type": "code",
    "id": "tkK_ps6OYJd0"
   },
   "outputs": [],
   "source": [
    "# Use the BERT tokenizer to convert the tokens to their index numbers in the BERT vocabulary\n",
    "input_ids_test = [tokenizer.convert_tokens_to_ids(x) for x in tokenized_texts_test]\n",
    "# Pad our input tokens\n",
    "input_ids_test = pad_sequences(input_ids_test, maxlen=MAX_LEN, dtype=\"long\", truncating=\"post\", padding=\"post\")\n",
    "# Create attention masks\n",
    "attention_masks_test = []"
   ]
  },
  {
   "cell_type": "code",
   "execution_count": 52,
   "metadata": {
    "colab": {},
    "colab_type": "code",
    "id": "XvnUu4_nYI5d"
   },
   "outputs": [],
   "source": [
    "# Create a mask of 1s for each token followed by 0s for padding\n",
    "for seq in input_ids_test:\n",
    "  seq_mask = [float(i>0) for i in seq]\n",
    "  attention_masks_test.append(seq_mask) "
   ]
  },
  {
   "cell_type": "code",
   "execution_count": 53,
   "metadata": {
    "colab": {},
    "colab_type": "code",
    "id": "LZrcStjUYI29"
   },
   "outputs": [],
   "source": [
    "prediction_inputs = torch.tensor(input_ids_test)\n",
    "prediction_masks = torch.tensor(attention_masks_test)\n",
    "prediction_labels = torch.tensor(labels_test)"
   ]
  },
  {
   "cell_type": "code",
   "execution_count": 54,
   "metadata": {
    "colab": {},
    "colab_type": "code",
    "id": "HCKdVMkAYI0U"
   },
   "outputs": [],
   "source": [
    "prediction_data = TensorDataset(prediction_inputs, prediction_masks, prediction_labels)\n",
    "prediction_sampler = SequentialSampler(prediction_data)\n",
    "prediction_dataloader = DataLoader(prediction_data, sampler=prediction_sampler, batch_size=BATCH_SIZE)"
   ]
  },
  {
   "cell_type": "code",
   "execution_count": 55,
   "metadata": {
    "colab": {},
    "colab_type": "code",
    "id": "CS0A_XWaZdHm"
   },
   "outputs": [],
   "source": [
    "# Prediction on test set\n",
    "\n",
    "# Put model in evaluation mode\n",
    "model.eval()\n",
    "\n",
    "# Tracking variables \n",
    "predictions_test, true_labels_test = [], []"
   ]
  },
  {
   "cell_type": "code",
   "execution_count": 56,
   "metadata": {
    "colab": {},
    "colab_type": "code",
    "id": "VgBPyZtDZdFU"
   },
   "outputs": [
    {
     "name": "stderr",
     "output_type": "stream",
     "text": [
      "C:\\Users\\Keith\\anaconda3\\envs\\PythonGPU\\lib\\site-packages\\ipykernel_launcher.py:7: UserWarning: To copy construct from a tensor, it is recommended to use sourceTensor.clone().detach() or sourceTensor.clone().detach().requires_grad_(True), rather than torch.tensor(sourceTensor).\n",
      "  import sys\n"
     ]
    }
   ],
   "source": [
    "# Predict \n",
    "for batch in prediction_dataloader:\n",
    "  # Add batch to GPU\n",
    "  batch = tuple(t.to(device) for t in batch)\n",
    "  # Unpack the inputs from our dataloader\n",
    "  b_input_ids, b_input_mask, b_labels = batch\n",
    "  b_input_ids = torch.tensor(b_input_ids).to(torch.int64) # from https://github.com/huggingface/transformers/issues/2952\n",
    "  # Telling the model not to compute or store gradients, saving memory and speeding up prediction\n",
    "  with torch.no_grad():\n",
    "    # Forward pass, calculate logit predictions\n",
    "    logits = model(b_input_ids, token_type_ids=None, attention_mask=b_input_mask)\n",
    "\n",
    "  # Move logits and labels to CPU\n",
    "  logits_test = logits.detach().cpu().numpy()\n",
    "  label_ids_test = b_labels.to('cpu').numpy()\n",
    "  \n",
    "  # Store predictions and true labels\n",
    "  predictions_test.append(logits_test)\n",
    "  true_labels_test.append(label_ids_test)"
   ]
  },
  {
   "cell_type": "code",
   "execution_count": 57,
   "metadata": {
    "colab": {},
    "colab_type": "code",
    "id": "t8fq6nxAaPr9"
   },
   "outputs": [],
   "source": [
    "# Flatten the predictions and true values\n",
    "flat_predictions_test = [item for sublist in predictions_test for item in sublist]\n",
    "flat_predictions_test = np.argmax(flat_predictions_test, axis=1).flatten()\n",
    "flat_true_labels_test = [item for sublist in true_labels_test for item in sublist]"
   ]
  },
  {
   "cell_type": "code",
   "execution_count": 58,
   "metadata": {
    "colab": {},
    "colab_type": "code",
    "id": "nsBINcTnaPmJ"
   },
   "outputs": [],
   "source": [
    "# # At this point we must create a binary array to determine which answers were answered correctly\n",
    "# test_results_array = np.array(flat_predictions_test == flat_true_labels_test)\n",
    "# test_results_array = test_results_array.astype(int)\n",
    "# test_results_array[:100]"
   ]
  },
  {
   "cell_type": "code",
   "execution_count": 59,
   "metadata": {
    "colab": {},
    "colab_type": "code",
    "id": "fd6ezWE1L62i"
   },
   "outputs": [],
   "source": [
    "# Create the file to store the stats of the model if it doesn't already exist\n",
    "\n",
    "import os\n",
    "f = None\n",
    "if not os.path.isfile(STATS_PATH + \"/\" + STATS_FILE):\n",
    "  f = open(STATS_PATH + \"/\" + STATS_FILE, \"w\")\n",
    "  f.write(\"number,datetime,bert_model,hugging_face,max_len,epochs,batch_size,\\\n",
    "            optimizer,learning_rate,warmup,pretraining_model_id,pretraining_model_type,\\\n",
    "            cost_sensitivity,accuracy,macro_prec,macro_recall,macro_f1,macro_support,\\\n",
    "            weighted_prec,weighted_recall,weighted_f1,weighted_support,kfold,notes\\n\")\n",
    "  print(\"skin_cancer_stats.csv NOT found - creating\")\n",
    "  f.close()"
   ]
  },
  {
   "cell_type": "code",
   "execution_count": 60,
   "metadata": {
    "colab": {},
    "colab_type": "code",
    "id": "6cDn8BNf-hWn"
   },
   "outputs": [],
   "source": [
    "# from sklearn.metrics import classification_report\n",
    "\n",
    "# y_pred = flat_predictions_test\n",
    "# y = flat_true_labels_test\n",
    "\n",
    "# classification_dict = classification_report(y, y_pred, labels=None, target_names=None, \\\n",
    "#                       sample_weight=None, digits=2, output_dict=True, zero_division=1)\n",
    "\n",
    "# # Create arrays of precisions, recalls, f1s to recalculate average\n",
    "# precisions = []\n",
    "# recalls = []\n",
    "# f1s = []\n",
    "# supports = []\n",
    "\n",
    "# # We must alter the classification dictionary to update the f1_score and recall keys to be 1 instead of 0\n",
    "# # In this example, precision/recall/f1 scores of 0 are set to 1\n",
    "\n",
    "# classification_dict_converted = {}\n",
    "\n",
    "# for k,v in classification_dict.items():\n",
    "#   if k.isdigit():\n",
    "\n",
    "#     if float(v['recall']) == 0.0: v['recall'] = 1.0\n",
    "#     recalls.append(v['recall'])\n",
    "\n",
    "#     if float(v['f1-score']) == 0.0: v['f1-score'] = 1.0\n",
    "#     f1s.append(v['f1-score'])\n",
    "\n",
    "#     if float(v['precision']) == 0.0: v['precision'] = 1.0\n",
    "#     precisions.append(v['precision'])\n",
    "\n",
    "#     supports.append(v['support'])\n",
    "\n",
    "#     # Convert dictionary keys back to our original labels\n",
    "#     original_key = next((key for key in label_types if label_types[key] == int(k)), None)\n",
    "#     classification_dict_converted.update({ original_key : v })\n",
    "\n",
    "#     print(original_key + \" : \" + str(classification_dict_converted[original_key]))\n",
    "\n",
    "#   # Otherwise, we are at the end of the dict and edit the averages to account for the newly replaced 0s\n",
    "#   else:\n",
    "#     if k == 'macro avg':\n",
    "#       precision = sum(precisions)/len(precisions)\n",
    "#       recall = sum(recalls)/len(recalls)\n",
    "#       f1 = sum(f1s)/len(f1s)\n",
    "\n",
    "#       v['precision'] = precision\n",
    "#       v['recall'] = recall\n",
    "#       v['f1-score'] = f1\n",
    "\n",
    "#     if k == 'weighted avg':\n",
    "#       weighted_precisions = [precisions[i]*supports[i] for i in range(len(precisions))]\n",
    "#       weighted_recalls = [recalls[i]*supports[i] for i in range(len(recalls))]\n",
    "#       weighted_f1s = [f1s[i]*supports[i] for i in range(len(f1s))]\n",
    "\n",
    "#       total_supports = v['support']\n",
    "\n",
    "#       precision = sum(weighted_precisions)/total_supports\n",
    "#       recall = sum(weighted_recalls)/total_supports\n",
    "#       f1 = sum(weighted_f1s)/total_supports\n",
    "\n",
    "#       v['precision'] = precision\n",
    "#       v['recall'] = recall\n",
    "#       v['f1-score'] = f1\n",
    "\n",
    "#     classification_dict_converted.update({ k : v })\n",
    "#     print(\"\\n\" + k + \" : \" + str(classification_dict_converted[k]))\n",
    "\n",
    "# accuracy = classification_dict_converted['accuracy']"
   ]
  },
  {
   "cell_type": "code",
   "execution_count": 61,
   "metadata": {
    "colab": {
     "base_uri": "https://localhost:8080/",
     "height": 391
    },
    "colab_type": "code",
    "executionInfo": {
     "elapsed": 483138,
     "status": "ok",
     "timestamp": 1587144706706,
     "user": {
      "displayName": "Clayton Cohn",
      "photoUrl": "https://lh3.googleusercontent.com/a-/AOh14GiR5T0VrYZ_A0_satvSE1jZbcVxmApPyylw8Q-uxoo=s64",
      "userId": "10103672487987981310"
     },
     "user_tz": 300
    },
    "id": "CMdbx8GDt4hr",
    "outputId": "e01e6832-2e2b-4ec7-e2e0-0ae2c3cf5213"
   },
   "outputs": [
    {
     "name": "stdout",
     "output_type": "stream",
     "text": [
      "O : {'precision': 0.887223974763407, 'recall': 0.9124087591240876, 'f1-score': 0.899640143942423, 'support': 1233}\n",
      "R-1-2 : {'precision': 0.9197622585438335, 'recall': 0.8964518464880521, 'f1-score': 0.9079574624129079, 'support': 1381}\n",
      "\n",
      "accuracy : 0.9039785768936496\n",
      "\n",
      "macro avg : {'precision': 0.9034931166536202, 'recall': 0.9044303028060698, 'f1-score': 0.9037988031776654, 'support': 2614}\n",
      "\n",
      "weighted avg : {'precision': 0.9044142463398298, 'recall': 0.9039785768936496, 'f1-score': 0.9040342590180693, 'support': 2614}\n"
     ]
    }
   ],
   "source": [
    "from sklearn.metrics import classification_report\n",
    "\n",
    "y_pred = flat_predictions_test\n",
    "y = flat_true_labels_test\n",
    "\n",
    "classification_dict = classification_report(y, y_pred, labels=None, target_names=None, \\\n",
    "                      sample_weight=None, digits=2, output_dict=True, zero_division=1)\n",
    "\n",
    "# Create arrays of precisions, recalls, f1s to recalculate average\n",
    "precisions = []\n",
    "recalls = []\n",
    "f1s = []\n",
    "supports = []\n",
    "\n",
    "# We must alter the classification dictionary to update the f1_score and recall keys to be 1 instead of 0\n",
    "# In this example, precision/recall/f1 scores of 0 are ignored\n",
    "\n",
    "classification_dict_stripped = {}\n",
    "\n",
    "for k,v in classification_dict.items():\n",
    "  if k.isdigit():\n",
    "\n",
    "    if float(v['precision']) != 0.0 and float(v['recall']) != 0.0 and float(v['f1-score']) != 0.0:\n",
    "      recalls.append(v['recall'])\n",
    "      f1s.append(v['f1-score'])\n",
    "      precisions.append(v['precision'])\n",
    "      supports.append(v['support'])\n",
    "\n",
    "      # Convert dictionary keys back to our original labels\n",
    "      original_key = next((key for key in label_types if label_types[key] == int(k)), None)\n",
    "      classification_dict_stripped.update({ original_key : v })\n",
    "\n",
    "      print(original_key + \" : \" + str(classification_dict_stripped[original_key]))\n",
    "      \n",
    "  # Otherwise, we are at the end of the dict and edit the averages to account for the newly replaced 0s\n",
    "  else:\n",
    "    if k == 'macro avg':\n",
    "      precision = sum(precisions)/len(precisions)\n",
    "      recall = sum(recalls)/len(recalls)\n",
    "      f1 = sum(f1s)/len(f1s)\n",
    "\n",
    "      v['precision'] = precision\n",
    "      v['recall'] = recall\n",
    "      v['f1-score'] = f1\n",
    "\n",
    "    if k == 'weighted avg':\n",
    "      weighted_precisions = [precisions[i]*supports[i] for i in range(len(precisions))]\n",
    "      weighted_recalls = [recalls[i]*supports[i] for i in range(len(recalls))]\n",
    "      weighted_f1s = [f1s[i]*supports[i] for i in range(len(f1s))]\n",
    "\n",
    "      total_supports = sum(supports)\n",
    "\n",
    "      precision = sum(weighted_precisions)/total_supports\n",
    "      recall = sum(weighted_recalls)/total_supports\n",
    "      f1 = sum(weighted_f1s)/total_supports\n",
    "\n",
    "      v['precision'] = precision\n",
    "      v['recall'] = recall\n",
    "      v['f1-score'] = f1\n",
    "      v['support'] = total_supports\n",
    "\n",
    "    classification_dict_stripped.update({ k : v })\n",
    "\n",
    "    print(\"\\n\" + k + \" : \" + str(classification_dict_stripped[k]))"
   ]
  },
  {
   "cell_type": "code",
   "execution_count": 62,
   "metadata": {
    "colab": {},
    "colab_type": "code",
    "id": "zMMAANxB3pYQ"
   },
   "outputs": [],
   "source": [
    "ACCURACY = classification_dict_stripped['accuracy']\n",
    "\n",
    "macro = classification_dict_stripped[\"macro avg\"]\n",
    "MACRO_F1 = macro[\"f1-score\"]\n",
    "MACRO_PREC = macro[\"precision\"]\n",
    "MACRO_RECALL = macro[\"recall\"]\n",
    "MACRO_SUPPORT = macro[\"support\"]\n",
    "\n",
    "weighted = classification_dict_stripped[\"weighted avg\"]\n",
    "WEIGHTED_F1 = weighted[\"f1-score\"]\n",
    "WEIGHTED_PREC = weighted[\"precision\"]\n",
    "WEIGHTED_RECALL = weighted[\"recall\"]\n",
    "WEIGHTED_SUPPORT = weighted[\"support\"]"
   ]
  },
  {
   "cell_type": "code",
   "execution_count": 63,
   "metadata": {
    "colab": {
     "base_uri": "https://localhost:8080/",
     "height": 34
    },
    "colab_type": "code",
    "executionInfo": {
     "elapsed": 483078,
     "status": "ok",
     "timestamp": 1587144706707,
     "user": {
      "displayName": "Clayton Cohn",
      "photoUrl": "https://lh3.googleusercontent.com/a-/AOh14GiR5T0VrYZ_A0_satvSE1jZbcVxmApPyylw8Q-uxoo=s64",
      "userId": "10103672487987981310"
     },
     "user_tz": 300
    },
    "id": "-jhdyo1kAA8r",
    "outputId": "eb786c02-d23c-4bc2-d26f-a0aeed825837"
   },
   "outputs": [
    {
     "data": {
      "text/plain": [
       "'BertForSequenceClassification'"
      ]
     },
     "execution_count": 63,
     "metadata": {},
     "output_type": "execute_result"
    }
   ],
   "source": [
    "# Capture HuggingFace type\n",
    "\n",
    "hf_arr = str(type(model)).split('.')\n",
    "HF_TYPE = hf_arr[2]\n",
    "HF_TYPE = ''.join(filter(str.isalnum, HF_TYPE))\n",
    "HF_TYPE"
   ]
  },
  {
   "cell_type": "code",
   "execution_count": 64,
   "metadata": {
    "colab": {
     "base_uri": "https://localhost:8080/",
     "height": 34
    },
    "colab_type": "code",
    "executionInfo": {
     "elapsed": 483055,
     "status": "ok",
     "timestamp": 1587144706708,
     "user": {
      "displayName": "Clayton Cohn",
      "photoUrl": "https://lh3.googleusercontent.com/a-/AOh14GiR5T0VrYZ_A0_satvSE1jZbcVxmApPyylw8Q-uxoo=s64",
      "userId": "10103672487987981310"
     },
     "user_tz": 300
    },
    "id": "4rwyzetq_8bY",
    "outputId": "16f3d368-f543-4b97-b372-6b3aec557082"
   },
   "outputs": [
    {
     "data": {
      "text/plain": [
       "'BertAdam'"
      ]
     },
     "execution_count": 64,
     "metadata": {},
     "output_type": "execute_result"
    }
   ],
   "source": [
    "# Capture optimizer type\n",
    "\n",
    "opt_arr = str(type(optimizer)).split('.')\n",
    "OPTIMIZER_TYPE = opt_arr[2]\n",
    "OPTIMIZER_TYPE = ''.join(filter(str.isalnum, OPTIMIZER_TYPE))\n",
    "OPTIMIZER_TYPE"
   ]
  },
  {
   "cell_type": "code",
   "execution_count": 65,
   "metadata": {
    "colab": {},
    "colab_type": "code",
    "id": "osyohy5pZXUh"
   },
   "outputs": [
    {
     "name": "stdout",
     "output_type": "stream",
     "text": [
      "2020-09-09 23:33 CT\n",
      "minutes 20.0: seconds 52.131073000000015\n"
     ]
    }
   ],
   "source": [
    "# Get date and time\n",
    "import datetime\n",
    "import pytz\n",
    "\n",
    "date_raw = datetime.datetime.now(tz = pytz.timezone('US/Central'))\n",
    "date = str(date_raw)\n",
    "date = date.split(' ')\n",
    "time = date[1]\n",
    "date = date[0]\n",
    "h, m = [time.split(':')[0], time.split(':')[1]]\n",
    "\n",
    "DATE_TIME = date + ' ' + h + ':' + m + \" CT\"\n",
    "print(DATE_TIME)\n",
    "\n",
    "elapsedTime = date_raw - start_date_raw\n",
    "minutes, seconds = divmod(elapsedTime.total_seconds(), 60)\n",
    "print(\"minutes {}: seconds {}\".format(minutes, seconds))"
   ]
  },
  {
   "cell_type": "code",
   "execution_count": 66,
   "metadata": {
    "colab": {},
    "colab_type": "code",
    "id": "JfdYfNFkbdnD"
   },
   "outputs": [],
   "source": [
    "NUM = int(current_file_n_str)"
   ]
  },
  {
   "cell_type": "code",
   "execution_count": 67,
   "metadata": {
    "colab": {},
    "colab_type": "code",
    "id": "ZADeWA6NdWNE"
   },
   "outputs": [],
   "source": [
    "# Add line to stats, then save and close\n",
    "with open(STATS_PATH + \"/\" + STATS_FILE, \"a\") as f:\n",
    "  f.write(\"{0},{1},{2},{3},{4},{5},{6},{7},{8},\\\n",
    "  {9},{10},{11},{12},{13},{14},{15},{16},{17},\\\n",
    "  {18},{19},{20},{21},{22},{23}\\n\".format(NUM,DATE_TIME,MODEL_TYPE,HF_TYPE,MAX_LEN,EPOCHS,BATCH_SIZE,\n",
    "                                          OPTIMIZER_TYPE,LEARNING_RATE,WARMUP,PRETRAINING_MODEL_ID,PRETRAINING_MODEL_TYPE,\n",
    "                                          COST_SENSITIVITY,ACCURACY,MACRO_PREC,MACRO_RECALL,MACRO_F1,MACRO_SUPPORT,\n",
    "                                          WEIGHTED_PREC,WEIGHTED_RECALL,WEIGHTED_F1,WEIGHTED_SUPPORT,KFOLD,NOTES))"
   ]
  },
  {
   "cell_type": "code",
   "execution_count": null,
   "metadata": {},
   "outputs": [],
   "source": []
  }
 ],
 "metadata": {
  "accelerator": "GPU",
  "colab": {
   "authorship_tag": "ABX9TyN4zHUSrA3c97XwpVIADdwZ",
   "collapsed_sections": [],
   "machine_shape": "hm",
   "name": "Fine-Tuning Skin Cancer",
   "provenance": []
  },
  "kernelspec": {
   "display_name": "Python 3",
   "language": "python",
   "name": "python3"
  },
  "language_info": {
   "codemirror_mode": {
    "name": "ipython",
    "version": 3
   },
   "file_extension": ".py",
   "mimetype": "text/x-python",
   "name": "python",
   "nbconvert_exporter": "python",
   "pygments_lexer": "ipython3",
   "version": "3.7.1"
  }
 },
 "nbformat": 4,
 "nbformat_minor": 1
}
