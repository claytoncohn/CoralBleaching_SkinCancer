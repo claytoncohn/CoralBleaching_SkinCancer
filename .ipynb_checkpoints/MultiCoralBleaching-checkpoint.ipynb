{
 "cells": [
  {
   "cell_type": "markdown",
   "metadata": {
    "colab_type": "text",
    "id": "view-in-github"
   },
   "source": [
    "<a href=\"https://colab.research.google.com/github/claytoncohn/CoralBleaching_SkinCancer/blob/master/MultiCoralBleaching.ipynb\" target=\"_parent\"><img src=\"https://colab.research.google.com/assets/colab-badge.svg\" alt=\"Open In Colab\"/></a>"
   ]
  },
  {
   "cell_type": "code",
   "execution_count": 1,
   "metadata": {
    "colab": {
     "base_uri": "https://localhost:8080/",
     "height": 34
    },
    "colab_type": "code",
    "id": "pxGVOeMQOAfs",
    "outputId": "a2ff25c9-25d8-4897-bec9-5d1d6ce6abf3"
   },
   "outputs": [
    {
     "name": "stdout",
     "output_type": "stream",
     "text": [
      "Tensorflow Version: 2.3.0\n"
     ]
    }
   ],
   "source": [
    "'''\n",
    "The code in this notebook is adopted from:\n",
    "\n",
    "https://colab.research.google.com/drive/1ywsvwO6thOVOrfagjjfuxEf6xVRxbUNO#scrollTo=IUM0UA1qJaVB\n",
    "\n",
    "I have adapted it for use with the coral bleaching data (big and little) found in the wiki:\n",
    "\n",
    "https://knowledge.depaul.edu/display/DNLP/Tasks+and+Data\n",
    "'''\n",
    "# set to true if using Google Colab\n",
    "USING_COLAB = False\n",
    "\n",
    "if (USING_COLAB):\n",
    "    # Colab currenly defaults to TensorFlow 1.15, but we need 2.0 or greater\n",
    "    %tensorflow_version 2.x\n",
    "import tensorflow as tf\n",
    "print(\"Tensorflow Version: \" + tf.__version__)"
   ]
  },
  {
   "cell_type": "code",
   "execution_count": 2,
   "metadata": {
    "colab": {},
    "colab_type": "code",
    "id": "reOH412ibrsp"
   },
   "outputs": [],
   "source": [
    "\n",
    "\n",
    "# Manual Parameters - these are not automatically generated and need to be set each runtime\n",
    "\n",
    "# Number of training epochs (authors recommend between 2 and 4)\n",
    "EPOCHS = 4\n",
    "\n",
    "# Select a batch size for training. For fine-tuning BERT on a specific task, the authors recommend a batch size of 16 or 32\n",
    "BATCH_SIZE = 32\n",
    "\n",
    "# If there are sentences longer than 512 tokens, we will crash.\n",
    "MAX_LEN = 128\n",
    "\n",
    "# Learning rate: 5e-5, 3e-5, 2e-5 are the ones recommended  (I used: 7e-6, 8e-6, 9e-6, 1e-5, 2e-5, 3e-5, 4e-5, 5e-5)\n",
    "LEARNING_RATE = 4e-5\n",
    "\n",
    "WARMUP = .1\n",
    "\n",
    "# Model we are fine-tuning\n",
    "MODEL_TYPE = 'pretrained-bert-base-uncased'\n",
    "#MODEL_TYPE = 'bert-base-uncased'\n",
    "#MODEL_TYPE = 'SciBERT'\n",
    "#MODEL_TYPE = 'BioBERT'\n",
    "\n",
    "# Load BERT checkpoint from pretraining or use provided model\n",
    "#BERT_PATH = \"pre-trained_models/bert_pytorch/torch_model.tar.gz\"\n",
    "# for the other models\n",
    "BERT_PATH = \"pre-trained_models/biobert_v1.1_pubmed\"\n",
    "#BERT_PATH = \"pre-trained_models/scibert_scivocab_uncased\"\n",
    "\n",
    "if (USING_COLAB):\n",
    "    BERT_PATH = \"drive/My Drive/colab/bert/bert_pytorch/torch_model.tar.gz\"\n",
    "    # BERT_PATH = 'bert-base-uncased'\n",
    "    \n",
    "PRETRAINING_MODEL_ID = 8\n",
    "\n",
    "# Type of pretraining we used: none, mlmnsp, nspmlm, both\n",
    "PRETRAINING_MODEL_TYPE = \"both\"\n",
    "\n",
    "# Cost sensitivity\n",
    "COST_SENSITIVITY = 0\n",
    "\n",
    "# If we do crossvalidation\n",
    "KFOLD = 0\n",
    "\n",
    "NOTES = \"100000 steps of verbatim BERT pretraining\""
   ]
  },
  {
   "cell_type": "code",
   "execution_count": 3,
   "metadata": {
    "colab": {
     "base_uri": "https://localhost:8080/",
     "height": 34
    },
    "colab_type": "code",
    "id": "HTpUC6-8UKsN",
    "outputId": "b3e51907-d045-4b9f-f963-fabc192f21ce"
   },
   "outputs": [
    {
     "name": "stdout",
     "output_type": "stream",
     "text": [
      "Found GPU at: /device:GPU:0\n"
     ]
    }
   ],
   "source": [
    "# We are going to use Colab's (free) GPU. To do this, goto Edit->Notebook Settings->Hardware Accelerator and select GPU\n",
    "\n",
    "device_name = tf.test.gpu_device_name()\n",
    "if device_name != '/device:GPU:0':\n",
    "  raise SystemError('GPU device not found')\n",
    "print('Found GPU at: {}'.format(device_name))"
   ]
  },
  {
   "cell_type": "code",
   "execution_count": 4,
   "metadata": {
    "colab": {
     "base_uri": "https://localhost:8080/",
     "height": 462
    },
    "colab_type": "code",
    "id": "Y8fXOdJIULEO",
    "outputId": "1928965f-6155-41a0-b696-56d1314ee483"
   },
   "outputs": [
    {
     "name": "stdout",
     "output_type": "stream",
     "text": [
      "Requirement already satisfied: pytorch-pretrained-bert in c:\\users\\keith\\anaconda3\\envs\\pythongpu\\lib\\site-packages (0.6.2)\n",
      "Requirement already satisfied: pytorch-nlp in c:\\users\\keith\\anaconda3\\envs\\pythongpu\\lib\\site-packages (0.4.0)\n",
      "Requirement already satisfied: torch>=0.4.1 in c:\\users\\keith\\anaconda3\\envs\\pythongpu\\lib\\site-packages (from pytorch-pretrained-bert) (1.5.1)\n",
      "Requirement already satisfied: tqdm in c:\\users\\keith\\anaconda3\\envs\\pythongpu\\lib\\site-packages (from pytorch-pretrained-bert) (4.31.1)\n",
      "Requirement already satisfied: requests in c:\\users\\keith\\anaconda3\\envs\\pythongpu\\lib\\site-packages (from pytorch-pretrained-bert) (2.21.0)\n",
      "Requirement already satisfied: numpy in c:\\users\\keith\\anaconda3\\envs\\pythongpu\\lib\\site-packages (from pytorch-pretrained-bert) (1.18.5)\n",
      "Requirement already satisfied: regex in c:\\users\\keith\\anaconda3\\envs\\pythongpu\\lib\\site-packages (from pytorch-pretrained-bert) (2017.4.5)\n",
      "Requirement already satisfied: boto3 in c:\\users\\keith\\anaconda3\\envs\\pythongpu\\lib\\site-packages (from pytorch-pretrained-bert) (1.14.21)\n",
      "Requirement already satisfied: pandas in c:\\users\\keith\\anaconda3\\envs\\pythongpu\\lib\\site-packages (from pytorch-nlp) (1.0.5)\n",
      "Requirement already satisfied: future in c:\\users\\keith\\anaconda3\\envs\\pythongpu\\lib\\site-packages (from torch>=0.4.1->pytorch-pretrained-bert) (0.18.2)\n",
      "Requirement already satisfied: certifi>=2017.4.17 in c:\\users\\keith\\anaconda3\\envs\\pythongpu\\lib\\site-packages (from requests->pytorch-pretrained-bert) (2020.6.20)\n",
      "Requirement already satisfied: idna<2.9,>=2.5 in c:\\users\\keith\\anaconda3\\envs\\pythongpu\\lib\\site-packages (from requests->pytorch-pretrained-bert) (2.8)\n",
      "Requirement already satisfied: urllib3<1.25,>=1.21.1 in c:\\users\\keith\\anaconda3\\envs\\pythongpu\\lib\\site-packages (from requests->pytorch-pretrained-bert) (1.24.3)\n",
      "Requirement already satisfied: chardet<3.1.0,>=3.0.2 in c:\\users\\keith\\anaconda3\\envs\\pythongpu\\lib\\site-packages (from requests->pytorch-pretrained-bert) (3.0.4)\n",
      "Requirement already satisfied: botocore<1.18.0,>=1.17.21 in c:\\users\\keith\\anaconda3\\envs\\pythongpu\\lib\\site-packages (from boto3->pytorch-pretrained-bert) (1.17.21)\n",
      "Requirement already satisfied: jmespath<1.0.0,>=0.7.1 in c:\\users\\keith\\anaconda3\\envs\\pythongpu\\lib\\site-packages (from boto3->pytorch-pretrained-bert) (0.10.0)\n",
      "Requirement already satisfied: s3transfer<0.4.0,>=0.3.0 in c:\\users\\keith\\anaconda3\\envs\\pythongpu\\lib\\site-packages (from boto3->pytorch-pretrained-bert) (0.3.3)\n",
      "Requirement already satisfied: python-dateutil>=2.6.1 in c:\\users\\keith\\anaconda3\\envs\\pythongpu\\lib\\site-packages (from pandas->pytorch-nlp) (2.8.1)\n",
      "Requirement already satisfied: pytz>=2017.2 in c:\\users\\keith\\anaconda3\\envs\\pythongpu\\lib\\site-packages (from pandas->pytorch-nlp) (2020.1)\n",
      "Requirement already satisfied: docutils<0.16,>=0.10 in c:\\users\\keith\\anaconda3\\envs\\pythongpu\\lib\\site-packages (from botocore<1.18.0,>=1.17.21->boto3->pytorch-pretrained-bert) (0.15.2)\n",
      "Requirement already satisfied: six>=1.5 in c:\\users\\keith\\anaconda3\\envs\\pythongpu\\lib\\site-packages (from python-dateutil>=2.6.1->pandas->pytorch-nlp) (1.15.0)\n"
     ]
    }
   ],
   "source": [
    "# Make sure PyTorch is installed - will use with Hugging Face Transformers\n",
    "# Hugging Face library currently accepted as most powerful PyTorch interface with BERT\n",
    "\n",
    "!pip install pytorch-pretrained-bert pytorch-nlp"
   ]
  },
  {
   "cell_type": "code",
   "execution_count": 5,
   "metadata": {
    "colab": {},
    "colab_type": "code",
    "id": "R8UTcERcULIW"
   },
   "outputs": [
    {
     "name": "stderr",
     "output_type": "stream",
     "text": [
      "Using TensorFlow backend.\n"
     ]
    }
   ],
   "source": [
    "# Take care of the resf of the imports\n",
    "\n",
    "import torch\n",
    "from torch.utils.data import TensorDataset, DataLoader, RandomSampler, SequentialSampler\n",
    "from keras.preprocessing.sequence import pad_sequences\n",
    "from sklearn.model_selection import train_test_split\n",
    "from pytorch_pretrained_bert import BertTokenizer, BertConfig\n",
    "from pytorch_pretrained_bert import BertAdam, BertForSequenceClassification\n",
    "from tqdm import tqdm, trange\n",
    "import pandas as pd\n",
    "import io\n",
    "import numpy as np\n",
    "import matplotlib.pyplot as plt\n",
    "if (USING_COLAB):\n",
    "    % matplotlib inline"
   ]
  },
  {
   "cell_type": "code",
   "execution_count": 6,
   "metadata": {
    "colab": {
     "base_uri": "https://localhost:8080/",
     "height": 35
    },
    "colab_type": "code",
    "id": "N88IVVWqWUfd",
    "outputId": "6dd7e93c-ed16-496b-dbc5-3b6e3340e171"
   },
   "outputs": [
    {
     "data": {
      "text/plain": [
       "'GeForce RTX 2080 Ti'"
      ]
     },
     "execution_count": 6,
     "metadata": {},
     "output_type": "execute_result"
    }
   ],
   "source": [
    "# If gpu availale, we have to set it up.\n",
    "\n",
    "device = torch.device(\"cuda\" if torch.cuda.is_available() else \"cpu\")\n",
    "n_gpu = torch.cuda.device_count()\n",
    "torch.cuda.get_device_name(0)"
   ]
  },
  {
   "cell_type": "code",
   "execution_count": 7,
   "metadata": {
    "colab": {
     "base_uri": "https://localhost:8080/",
     "height": 34
    },
    "colab_type": "code",
    "id": "tRZI3iBRWUsP",
    "outputId": "536b195a-b692-43a4-a35e-2324af276d33"
   },
   "outputs": [],
   "source": [
    "# Before importing the data, we must mount Google Drive to Colab notebook.\n",
    "\n",
    "# Each time the notebook is run, Colab must request authorization to remount to Google Drive.\n",
    "# I have not found a way arouund this yet. Even though I am a pro (paying) user, Colab\n",
    "#   will not allow me to let datasets persist after runtime ceases.\n",
    "\n",
    "if (USING_COLAB):\n",
    "    from google.colab import drive\n",
    "    drive.mount('/content/drive')"
   ]
  },
  {
   "cell_type": "code",
   "execution_count": 8,
   "metadata": {
    "colab": {},
    "colab_type": "code",
    "id": "1Zf9TEVWWUow"
   },
   "outputs": [],
   "source": [
    "# I downloaded the data directly from the wiki to my Google Drive for pseudo-dynamic access.\n",
    "\n",
    "# PLEASE NOTE: THESE MUST BE CHANGED TO THE ACCESS LOCATION OF DATA\n",
    "\n",
    "# Also, I manually removed the headers from the data for ease of implementation\n",
    "\n",
    "DATA_PATH = \"data/\"\n",
    "if (USING_COLAB):\n",
    "    DATA_PATH = \"drive/My Drive/colab/data/\"\n",
    "    \n",
    "DATA_NAME = \"EBA1415-CoralBleaching-big-sentences.tsv\"\n",
    "df = pd.read_csv(DATA_PATH + DATA_NAME, delimiter='\\t', header=None, names=['file', 'relation', 's_num', 'sentence'])"
   ]
  },
  {
   "cell_type": "code",
   "execution_count": 9,
   "metadata": {
    "colab": {
     "base_uri": "https://localhost:8080/",
     "height": 359
    },
    "colab_type": "code",
    "id": "3DE3EqboWUmc",
    "outputId": "aa97d4ec-ef47-4a96-fc31-41eb18a73b5b"
   },
   "outputs": [
    {
     "data": {
      "text/html": [
       "<div>\n",
       "<style scoped>\n",
       "    .dataframe tbody tr th:only-of-type {\n",
       "        vertical-align: middle;\n",
       "    }\n",
       "\n",
       "    .dataframe tbody tr th {\n",
       "        vertical-align: top;\n",
       "    }\n",
       "\n",
       "    .dataframe thead th {\n",
       "        text-align: right;\n",
       "    }\n",
       "</style>\n",
       "<table border=\"1\" class=\"dataframe\">\n",
       "  <thead>\n",
       "    <tr style=\"text-align: right;\">\n",
       "      <th></th>\n",
       "      <th>file</th>\n",
       "      <th>relation</th>\n",
       "      <th>s_num</th>\n",
       "      <th>sentence</th>\n",
       "    </tr>\n",
       "  </thead>\n",
       "  <tbody>\n",
       "    <tr>\n",
       "      <th>2130</th>\n",
       "      <td>EBA1415_KYNS_4_CB_ES-05984</td>\n",
       "      <td>O</td>\n",
       "      <td>1941</td>\n",
       "      <td>Salinity can disturb the corals since they are...</td>\n",
       "    </tr>\n",
       "    <tr>\n",
       "      <th>679</th>\n",
       "      <td>EBA1415post_WSAL_2_CB_ES-05369</td>\n",
       "      <td>R-13-14</td>\n",
       "      <td>614.1</td>\n",
       "      <td>Corals are also extremely sensitive to salinit...</td>\n",
       "    </tr>\n",
       "    <tr>\n",
       "      <th>5278</th>\n",
       "      <td>EBA1415_ERSK_1_CB_ES-06260</td>\n",
       "      <td>O</td>\n",
       "      <td>5031</td>\n",
       "      <td>In 1998, a massive coral bleaching event happe...</td>\n",
       "    </tr>\n",
       "    <tr>\n",
       "      <th>3114</th>\n",
       "      <td>EBA1415_SDMK_6_CB_ES-04781</td>\n",
       "      <td>R-5-50</td>\n",
       "      <td>2924.2</td>\n",
       "      <td>The main things that lead to coral bleaching i...</td>\n",
       "    </tr>\n",
       "    <tr>\n",
       "      <th>3576</th>\n",
       "      <td>EBA1415_TRJA_11_CB_ES-06095</td>\n",
       "      <td>O</td>\n",
       "      <td>3344</td>\n",
       "      <td>A coral polyps is like has a saclike body, and...</td>\n",
       "    </tr>\n",
       "    <tr>\n",
       "      <th>7619</th>\n",
       "      <td>EBA1415_RDJK_5_CB_ES-04720</td>\n",
       "      <td>O</td>\n",
       "      <td>7150</td>\n",
       "      <td>Also the balance might be threated by any stor...</td>\n",
       "    </tr>\n",
       "    <tr>\n",
       "      <th>6716</th>\n",
       "      <td>EBA1415_TRKM_2_CB_ES-06023</td>\n",
       "      <td>O</td>\n",
       "      <td>6351</td>\n",
       "      <td>Coral polyps range in size from tiny up to a f...</td>\n",
       "    </tr>\n",
       "    <tr>\n",
       "      <th>7876</th>\n",
       "      <td>EBA1415_TRDJ_2_CB_ES-06131</td>\n",
       "      <td>R-3-5</td>\n",
       "      <td>7390.2</td>\n",
       "      <td>Somethings that may cause the differences in r...</td>\n",
       "    </tr>\n",
       "    <tr>\n",
       "      <th>3286</th>\n",
       "      <td>EBA1415_ERAP_1_CB_ES-04953</td>\n",
       "      <td>O</td>\n",
       "      <td>3080</td>\n",
       "      <td>Coral bleach is when the coral loosin color ma...</td>\n",
       "    </tr>\n",
       "    <tr>\n",
       "      <th>7911</th>\n",
       "      <td>EBA1415_ERAM_7_CB_ES-04958</td>\n",
       "      <td>O</td>\n",
       "      <td>7460</td>\n",
       "      <td>It turns pale white.</td>\n",
       "    </tr>\n",
       "  </tbody>\n",
       "</table>\n",
       "</div>"
      ],
      "text/plain": [
       "                                file relation   s_num  \\\n",
       "2130      EBA1415_KYNS_4_CB_ES-05984        O    1941   \n",
       "679   EBA1415post_WSAL_2_CB_ES-05369  R-13-14   614.1   \n",
       "5278      EBA1415_ERSK_1_CB_ES-06260        O    5031   \n",
       "3114      EBA1415_SDMK_6_CB_ES-04781   R-5-50  2924.2   \n",
       "3576     EBA1415_TRJA_11_CB_ES-06095        O    3344   \n",
       "7619      EBA1415_RDJK_5_CB_ES-04720        O    7150   \n",
       "6716      EBA1415_TRKM_2_CB_ES-06023        O    6351   \n",
       "7876      EBA1415_TRDJ_2_CB_ES-06131    R-3-5  7390.2   \n",
       "3286      EBA1415_ERAP_1_CB_ES-04953        O    3080   \n",
       "7911      EBA1415_ERAM_7_CB_ES-04958        O    7460   \n",
       "\n",
       "                                               sentence  \n",
       "2130  Salinity can disturb the corals since they are...  \n",
       "679   Corals are also extremely sensitive to salinit...  \n",
       "5278  In 1998, a massive coral bleaching event happe...  \n",
       "3114  The main things that lead to coral bleaching i...  \n",
       "3576  A coral polyps is like has a saclike body, and...  \n",
       "7619  Also the balance might be threated by any stor...  \n",
       "6716  Coral polyps range in size from tiny up to a f...  \n",
       "7876  Somethings that may cause the differences in r...  \n",
       "3286  Coral bleach is when the coral loosin color ma...  \n",
       "7911                              It turns pale white.   "
      ]
     },
     "execution_count": 9,
     "metadata": {},
     "output_type": "execute_result"
    }
   ],
   "source": [
    "# Let's take a peak\n",
    "\n",
    "df.shape\n",
    "df.sample(10)"
   ]
  },
  {
   "cell_type": "code",
   "execution_count": 10,
   "metadata": {
    "colab": {},
    "colab_type": "code",
    "id": "A8ylllfyWUid"
   },
   "outputs": [],
   "source": [
    "# Create sentence and label lists\n",
    "sentences = df.sentence.values\n",
    "\n",
    "# Add special tokens at the beginning and end of each sentence to comply with BERT\n",
    "sentences = [\"[CLS] \" + sentence + \" [SEP]\" for sentence in sentences]\n",
    "labels = df.relation.values"
   ]
  },
  {
   "cell_type": "code",
   "execution_count": 11,
   "metadata": {
    "colab": {
     "base_uri": "https://localhost:8080/",
     "height": 71
    },
    "colab_type": "code",
    "id": "9zkVE9ymZFOL",
    "outputId": "67c18e41-9ed6-4f03-d566-d33b55df657b"
   },
   "outputs": [
    {
     "name": "stdout",
     "output_type": "stream",
     "text": [
      "First sentence tokenized:  ['[CLS]', 'sentence', '[SEP]']\n"
     ]
    }
   ],
   "source": [
    "# Now that our [CLS] and [SEP] tokens are in place, we are ready for tokenization\n",
    "# NOTE: when doing BioBERT, use 'pre-trained_models/biobert_v1.1_pubmed' instead of  'bert-base-uncased'\n",
    "if (MODEL_TYPE == 'BioBERT'):\n",
    "    tokenizer = BertTokenizer.from_pretrained('pre-trained_models/biobert_v1.1_pubmed', do_lower_case=True)\n",
    "else:\n",
    "    tokenizer = BertTokenizer.from_pretrained('bert-base-uncased', do_lower_case=True)\n",
    "    \n",
    "tokenized_texts = [tokenizer.tokenize(sent) for sent in sentences]\n",
    "print (\"First sentence tokenized: \",tokenized_texts[0])"
   ]
  },
  {
   "cell_type": "code",
   "execution_count": 12,
   "metadata": {
    "colab": {
     "base_uri": "https://localhost:8080/",
     "height": 34
    },
    "colab_type": "code",
    "id": "6Lf1BD3oZFRR",
    "outputId": "4ebfc2b8-d119-4322-e087-244d9db7a2f5"
   },
   "outputs": [
    {
     "name": "stdout",
     "output_type": "stream",
     "text": [
      "Removed 13 sentences greater than 128\n"
     ]
    }
   ],
   "source": [
    "'''\n",
    "For each tokenized input sentence, we need to create:\n",
    "\n",
    "1. input ids:\n",
    "    a sequence of integers identifying each input token to its index number \n",
    "    in the BERT tokenizer vocabulary\n",
    "\n",
    "2. segment mask: (optional) a sequence of 1s and 0s used to identify whether the input is one \n",
    "    sentence or two sentences long. For one sentence inputs, this is simply a sequence of 0s. \n",
    "    For two sentence inputs, there is a 0 for each token of the first sentence, followed by a \n",
    "    1 for each token of the second sentence\n",
    "\n",
    "3. attention mask: (optional) \n",
    "    a sequence of 1s and 0s, with 1s for all input tokens and 0s for all padding tokens \n",
    "\n",
    "4. labels: based on the labels from the data set\n",
    "'''\n",
    "\n",
    "# For now, we will simply delete the tokenized_texts greater than MAX_LEN.\n",
    "\n",
    "# We need to strip out the sentences greater than MAX_LEN tokens\n",
    "original_length = len(tokenized_texts)\n",
    "\n",
    "labels = [labels[i] for i in range(len(tokenized_texts)) if len(tokenized_texts[i]) <= MAX_LEN]\n",
    "tokenized_texts = [tokenized_texts[i] for i in range(len(tokenized_texts)) if len(tokenized_texts[i]) <= MAX_LEN]\n",
    "print(\"Removed {0} sentences greater than {1}\".format(original_length - len(tokenized_texts),MAX_LEN))"
   ]
  },
  {
   "cell_type": "code",
   "execution_count": 13,
   "metadata": {
    "colab": {},
    "colab_type": "code",
    "id": "Qr-MfjBVZFZ3"
   },
   "outputs": [],
   "source": [
    "# Use the BERT tokenizer to convert the tokens to their index numbers in the BERT vocabulary\n",
    "input_ids = [tokenizer.convert_tokens_to_ids(x) for x in tokenized_texts]"
   ]
  },
  {
   "cell_type": "code",
   "execution_count": 14,
   "metadata": {
    "colab": {},
    "colab_type": "code",
    "id": "oc2YEZ2gZFXF"
   },
   "outputs": [],
   "source": [
    "# Pad our input tokens\n",
    "input_ids = pad_sequences(input_ids, maxlen=MAX_LEN, dtype=\"long\", truncating=\"post\", padding=\"post\")"
   ]
  },
  {
   "cell_type": "code",
   "execution_count": 15,
   "metadata": {
    "colab": {},
    "colab_type": "code",
    "id": "--O5pAmKZFUu"
   },
   "outputs": [],
   "source": [
    "# Create attention masks\n",
    "attention_masks = []\n",
    "\n",
    "# Create a mask of 1s for each token followed by 0s for padding\n",
    "for seq in input_ids:\n",
    "  seq_mask = [float(i>0) for i in seq]\n",
    "  attention_masks.append(seq_mask)"
   ]
  },
  {
   "cell_type": "code",
   "execution_count": 16,
   "metadata": {
    "colab": {
     "base_uri": "https://localhost:8080/",
     "height": 71
    },
    "colab_type": "code",
    "id": "XUv2hrecsjkm",
    "outputId": "b675584e-ef78-4a52-aca0-6f4efe18f534"
   },
   "outputs": [
    {
     "name": "stdout",
     "output_type": "stream",
     "text": [
      "Total labels_types: 93\n",
      "Labels: {'Relation': 0, 'O': 1, 'R-7-50': 2, 'R-3-1': 3, 'R-5B-50': 4, 'R-50-7': 5, 'R-1-50': 6, 'R-3-50': 7, 'R-3-4': 8, 'R-4-5': 9, 'R-5-5B': 10, 'R-4-50': 11, 'R-2-3': 12, 'R-13-50': 13, 'R-3-7': 14, 'R-1-3': 15, 'R-11-50': 16, 'R-11-12': 17, 'R-12-14': 18, 'R-6-7': 19, 'R-1-2': 20, 'R-2-50': 21, 'R-3-5': 22, 'R-4-14': 23, 'R-6-50': 24, 'R-5-50': 25, 'R-1-7': 26, 'R-3-2': 27, 'R-11-13': 28, 'R-14-50': 29, 'R-6-14': 30, 'R-12-50': 31, 'R-12-13': 32, 'R-13-14': 33, 'R-5-7': 34, 'R-4-5B': 35, 'R-4-3': 36, 'R-11-14': 37, 'R-1-4': 38, 'R-4-7': 39, 'R-13-7': 40, 'R-14-6': 41, 'R-11-3': 42, 'R-50-50': 43, 'R-7-13': 44, 'R-7-1': 45, 'R-13-6': 46, 'R-5B-7': 47, 'R-4-13': 48, 'R-7-14': 49, 'R-50-1': 50, 'R-3-5B': 51, 'R-3-6': 52, 'R-14-11': 53, 'R-7-5B': 54, 'R-1-5': 55, 'R-50-3': 56, 'R-11-11': 57, 'R-12-7': 58, 'R-12-11': 59, 'R-13-11': 60, 'R-12-5B': 61, 'R-5-4': 62, 'R-4-6': 63, 'R-OTHER-13': 64, 'R-11-OTHER': 65, 'R-3-13': 66, 'R-13-12': 67, 'R-1-11': 68, 'R-14-7': 69, 'R-7-5': 70, 'R-11-6': 71, 'R-1-13': 72, 'R-5-13': 73, 'R-5-6': 74, 'R-3-14': 75, 'R-5B-5': 76, 'R-1-6': 77, 'R-5B-14': 78, 'R-2-4': 79, 'R-2-7': 80, 'R-2-6': 81, 'R-11-1': 82, 'R-5-3': 83, 'R-4-11': 84, 'R-11-4': 85, 'R-2-1': 86, 'R-6-5B': 87, 'R-13-4': 88, 'R-5-14': 89, 'R-7-6': 90, 'R-1-14': 91, 'R-13-5': 92}\n"
     ]
    }
   ],
   "source": [
    "# At this point we must convert our labels from strings to ints (required for tensorization)\n",
    "\n",
    "# First we are going to create an array of all possible labels\n",
    "label_types = {}\n",
    "for i in range(len(labels)):\n",
    "  if labels[i] not in label_types:\n",
    "    label_types.update({labels[i] : len(label_types)})\n",
    "print(\"Total labels_types: {0}\\nLabels: {1}\".format(len(label_types),str(label_types)))"
   ]
  },
  {
   "cell_type": "code",
   "execution_count": 17,
   "metadata": {
    "colab": {
     "base_uri": "https://localhost:8080/",
     "height": 71
    },
    "colab_type": "code",
    "id": "-BwKmV_V9l7C",
    "outputId": "56d8aaf6-bb49-4025-85a1-dddf269a2bbe"
   },
   "outputs": [
    {
     "name": "stdout",
     "output_type": "stream",
     "text": [
      "Old labels:  ['Relation', 'O', 'R-7-50', 'O', 'O', 'R-3-1', 'O', 'O', 'O', 'R-5B-50', 'R-50-7', 'R-1-50', 'O', 'O', 'O', 'O', 'O', 'O', 'O', 'O', 'R-3-50', 'R-3-1', 'O', 'R-3-4', 'R-4-5', 'R-5-5B', 'R-5-5B', 'O', 'O', 'R-4-50', 'O', 'O', 'R-2-3', 'O', 'O', 'O', 'O', 'R-3-50', 'R-3-50', 'R-13-50', 'O', 'R-3-7', 'R-3-50', 'R-1-50', 'R-1-3', 'R-3-50', 'O', 'O', 'O', 'O', 'O', 'O', 'O', 'O', 'O', 'O', 'O', 'O', 'O', 'O', 'O', 'O', 'R-3-50', 'R-1-3', 'R-13-50', 'R-11-50', 'R-11-12', 'R-12-14', 'O', 'O', 'O', 'O', 'O', 'O', 'R-1-50', 'R-3-50', 'O', 'R-3-50', 'O', 'O', 'O', 'R-6-7', 'O', 'O', 'O', 'R-6-7', 'R-7-50', 'O', 'O', 'O', 'O', 'R-1-2', 'R-2-50', 'O', 'O', 'O', 'O', 'O', 'O', 'O', 'O', 'R-3-5', 'R-3-4', 'R-4-14', 'O', 'O', 'O', 'O', 'R-7-50', 'R-6-7', 'R-6-7', 'R-7-50', 'R-6-7', 'R-7-50', 'R-6-7', 'R-7-50', 'O', 'R-7-50', 'O', 'O', 'O', 'O', 'O', 'R-7-50', 'R-7-50', 'O', 'O', 'R-7-50', 'O', 'O', 'R-7-50', 'O', 'O', 'R-6-50', 'R-6-7', 'R-6-7', 'O', 'O', 'O', 'R-1-50', 'R-5-50', 'R-7-50', 'O', 'O', 'O', 'R-1-3', 'R-1-3', 'O', 'R-3-50', 'O', 'O', 'O', 'O', 'O', 'O', 'O', 'O', 'O', 'O', 'O', 'O', 'O', 'R-7-50', 'O', 'R-1-7', 'O', 'O', 'R-5B-50', 'R-5B-50', 'O', 'O', 'O', 'R-1-50', 'O', 'R-1-3', 'O', 'O', 'O', 'R-3-1', 'R-3-2', 'R-1-2', 'O', 'O', 'O', 'O', 'O', 'O', 'O', 'O', 'O', 'O', 'O', 'O', 'O', 'R-3-5', 'O', 'R-11-13', 'R-14-50', 'R-6-14', 'R-7-50', 'O', 'O', 'R-1-2', 'R-1-2', 'R-6-7', 'O', 'O', 'O', 'O', 'O', 'O', 'O', 'O', 'O', 'O', 'O', 'O', 'O', 'O', 'O', 'O', 'O', 'O', 'O', 'O', 'O', 'O', 'O', 'O', 'O', 'O', 'O', 'R-3-50', 'O', 'R-1-50', 'O', 'O', 'O', 'R-4-14', 'R-4-14', 'O', 'O', 'O', 'O', 'O', 'R-7-50', 'O', 'O', 'R-1-2', 'O', 'R-2-3', 'R-3-50', 'R-11-13', 'R-12-50', 'R-13-50', 'O', 'O', 'O', 'O', 'O', 'R-6-7', 'O', 'O', 'R-1-50', 'R-1-2', 'O', 'O', 'R-7-50', 'O', 'O', 'O', 'O', 'O', 'O', 'O', 'O', 'O', 'O', 'O', 'O', 'O', 'O', 'O', 'O', 'O', 'O', 'O', 'O', 'O', 'O', 'O', 'O', 'O', 'O', 'O', 'O', 'O', 'R-7-50', 'O', 'O', 'O', 'O', 'O', 'O', 'O', 'O', 'O', 'O', 'R-1-3', 'O', 'O', 'O', 'O', 'O', 'O', 'O', 'O', 'O', 'O', 'O', 'O', 'O', 'R-5-5B', 'O', 'O', 'R-6-7', 'R-7-50', 'O', 'O', 'O', 'O', 'O', 'O', 'O', 'O', 'O', 'O', 'R-5B-50', 'O', 'R-11-12', 'R-12-13', 'R-13-14', 'R-13-14', 'R-3-50', 'R-4-50', 'R-3-5', 'R-5-5B', 'O', 'R-4-5', 'R-6-7', 'R-7-50', 'R-3-50', 'R-4-50', 'R-7-50', 'R-5-7', 'O', 'R-3-7', 'R-1-7', 'O', 'R-1-3', 'R-3-50', 'O', 'O', 'R-1-3', 'R-2-3', 'O', 'O', 'R-11-50', 'R-11-12', 'R-12-13', 'R-13-14', 'R-14-50', 'R-14-50', 'O', 'O', 'R-1-3', 'R-1-2', 'R-1-2', 'O', 'O', 'R-3-5', 'R-3-4', 'R-4-5', 'R-5-7', 'R-7-50', 'R-7-50', 'R-1-3', 'R-3-50', 'R-3-50', 'R-1-50', 'O', 'O', 'O', 'O', 'R-2-3', 'R-11-50', 'O', 'R-11-12', 'R-12-13', 'R-13-14', 'R-13-14', 'O', 'O', 'O', 'O', 'O', 'O', 'O', 'O', 'R-7-50', 'R-3-50', 'O', 'O', 'O', 'R-7-50', 'O', 'O', 'O', 'O', 'O', 'O', 'O', 'O', 'O', 'O', 'O', 'O', 'R-6-7', 'R-6-7', 'O', 'O', 'R-1-50', 'R-7-50', 'O', 'O', 'O', 'O', 'R-1-3', 'R-1-2', 'O', 'R-1-50', 'R-3-50', 'O', 'O', 'R-5-7', 'R-4-5B', 'O', 'O', 'O', 'O', 'R-1-3', 'R-11-13', 'O', 'R-7-50', 'R-7-50', 'R-6-50', 'O', 'O', 'R-7-50', 'O', 'O', 'O', 'O', 'O', 'O', 'R-3-1', 'R-1-50', 'R-1-50', 'O', 'O', 'O', 'O', 'O', 'R-14-50', 'R-6-14', 'R-1-50', 'R-14-50', 'O', 'O', 'O', 'O', 'R-3-50', 'R-4-50', 'R-3-50', 'R-3-50', 'R-1-50', 'O', 'O', 'O', 'R-1-50', 'R-3-50', 'O', 'R-1-50', 'R-3-50', 'R-5B-50', 'O', 'O', 'O', 'O', 'R-12-13', 'R-12-50', 'O', 'O', 'O', 'O', 'O', 'O', 'O', 'O', 'O', 'O', 'O', 'O', 'O', 'O', 'O', 'O', 'O', 'O', 'R-1-50', 'R-3-50', 'O', 'O', 'O', 'R-7-50', 'R-7-50', 'O', 'R-1-3', 'R-1-3', 'O', 'R-3-4', 'R-4-5', 'O', 'O', 'R-11-13', 'R-13-14', 'O', 'O', 'O', 'O', 'R-7-50', 'O', 'O', 'O', 'O', 'O', 'O', 'R-1-50', 'O', 'O', 'O', 'R-7-50', 'R-5-50', 'R-1-50', 'R-7-50', 'R-7-50', 'O', 'R-3-5', 'R-4-14', 'O', 'R-6-50', 'R-1-50', 'R-3-50', 'O', 'O', 'R-6-50', 'R-6-7', 'R-6-7', 'O', 'O', 'O', 'R-3-50', 'R-1-50', 'O', 'O', 'O', 'O', 'O', 'O', 'O', 'O', 'O', 'O', 'O', 'O', 'O', 'O', 'O', 'R-11-13', 'R-11-12', 'R-12-13', 'O', 'O', 'O', 'O', 'O', 'O', 'O', 'R-7-50', 'O', 'R-3-4', 'R-4-3', 'R-4-3', 'R-11-14', 'R-13-14', 'R-11-13', 'O', 'O', 'R-6-7', 'R-7-50', 'O', 'O', 'R-6-7', 'R-7-50', 'O', 'O', 'O', 'O', 'O', 'O', 'O', 'O', 'O', 'O', 'R-4-5', 'O', 'R-3-5', 'R-3-4', 'R-4-14', 'O', 'R-11-13', 'R-11-12', 'R-12-13', 'O', 'O', 'O', 'O', 'O', 'O', 'R-7-50', 'O', 'O', 'O', 'O', 'O', 'R-3-50', 'R-1-50', 'O', 'O', 'O', 'O', 'R-11-50', 'R-11-13', 'R-13-50', 'R-4-50', 'R-13-50', 'R-4-50', 'R-11-50', 'O', 'O', 'O', 'R-7-50', 'R-6-7', 'O', 'O', 'R-1-50', 'R-3-50', 'R-1-50', 'O', 'R-1-4', 'R-1-3', 'R-4-7', 'R-13-7', 'R-7-50', 'O', 'R-1-50', 'R-1-50', 'R-1-3', 'R-3-50', 'R-13-14', 'R-14-50', 'R-11-13', 'R-7-50', 'R-6-14', 'R-14-50', 'R-7-50', 'O', 'O', 'O', 'R-6-7', 'R-13-50', 'R-3-50', 'R-3-50', 'R-13-50', 'R-13-14', 'R-14-50', 'R-6-14', 'O', 'R-3-50', 'O', 'R-7-50', 'O', 'O', 'O', 'O', 'O', 'R-7-50', 'R-7-50', 'O', 'O', 'O', 'R-14-6', 'R-14-6', 'O', 'O', 'R-3-50', 'R-14-50', 'O', 'O', 'O', 'O', 'R-11-13', 'R-3-4', 'R-4-14', 'O', 'R-13-50', 'R-11-50', 'R-11-50', 'R-11-3', 'R-3-5', 'R-11-50', 'O', 'R-11-12', 'R-13-14', 'R-13-50', 'R-7-50', 'O', 'O', 'O', 'O', 'O', 'R-3-5', 'O', 'R-3-5', 'O', 'O', 'O', 'O', 'O', 'R-7-50', 'R-1-50', 'R-1-3', 'O', 'R-1-50', 'R-1-3', 'O', 'R-3-50', 'O', 'O', 'O', 'O', 'O', 'O', 'O', 'O', 'O', 'R-3-5', 'R-3-4', 'O', 'O', 'O', 'O', 'O', 'O', 'O', 'O', 'O', 'R-7-50', 'O', 'O', 'O', 'O', 'O', 'O', 'O', 'O', 'O', 'O', 'R-3-5', 'O', 'O', 'O', 'R-1-2', 'R-2-3', 'R-6-7', 'R-7-50', 'O', 'R-1-50', 'R-3-50', 'R-2-3', 'O', 'O', 'O', 'O', 'O', 'O', 'O', 'O', 'O', 'O', 'O', 'O', 'O', 'R-1-3', 'O', 'O', 'O', 'R-3-4', 'R-4-14', 'R-11-14', 'R-11-14', 'R-11-12', 'R-11-12', 'R-12-13', 'R-13-14', 'O', 'O', 'O', 'O', 'O', 'O', 'O', 'R-3-4', 'O', 'O', 'R-4-5B', 'O', 'R-11-12', 'R-12-13', 'R-13-14', 'O', 'O', 'O', 'O', 'O', 'O', 'O', 'O', 'R-4-50', 'O', 'O', 'O', 'O', 'O', 'O', 'R-7-50', 'O', 'O', 'O', 'O', 'O', 'R-50-50', 'O', 'O', 'O', 'O', 'O', 'O', 'O', 'O', 'O', 'R-3-1', 'O', 'O', 'O', 'O', 'O', 'O', 'O', 'O', 'R-5-50', 'O', 'O', 'R-1-50', 'R-3-50', 'R-1-50', 'R-1-2', 'O', 'O', 'O', 'O', 'R-1-3', 'R-3-5', 'R-4-5B', 'R-3-4', 'R-5B-50', 'O', 'O', 'O', 'O', 'R-1-50', 'R-3-50', 'O', 'R-7-50', 'O', 'R-7-50', 'R-7-50', 'R-6-7', 'R-6-7', 'O', 'R-13-7', 'O', 'R-1-3', 'O', 'O', 'R-1-3', 'R-3-50', 'O', 'R-4-5B', 'R-12-13', 'R-11-12', 'O', 'O', 'O', 'O', 'O', 'O', 'O', 'R-7-13', 'R-7-1', 'R-12-13', 'R-11-13', 'O', 'R-13-6', 'R-6-7', 'O', 'O', 'R-4-5', 'O', 'R-1-3', 'R-3-50', 'R-3-50', 'O', 'O', 'R-2-3', 'O', 'O', 'O', 'O', 'O', 'O', 'O', 'R-4-5', 'O', 'R-4-50', 'R-3-5', 'R-4-14', 'R-11-12', 'R-12-13', 'R-13-14', 'R-7-50', 'O', 'O', 'R-3-1', 'R-1-50', 'O', 'R-1-2', 'R-1-2', 'O', 'O', 'O', 'O', 'O', 'R-3-5', 'R-3-4', 'R-4-14', 'R-14-50', 'R-14-50', 'O', 'O', 'O', 'O', 'R-3-7', 'O', 'O', 'R-3-50', 'R-1-50', 'O', 'R-1-3', 'O', 'O', 'R-7-50', 'O', 'O', 'O', 'O', 'R-1-50', 'O', 'O', 'O', 'O', 'R-1-3', 'O', 'R-1-3', 'R-4-50', 'R-4-7', 'R-7-50', 'O', 'R-1-50', 'R-1-3', 'O', 'R-7-50', 'O', 'O', 'O', 'O', 'O', 'O', 'O', 'O', 'O', 'O', 'O', 'O', 'O', 'R-1-50', 'O', 'O', 'R-1-50', 'O', 'R-3-50', 'R-3-5', 'R-3-50', 'O', 'O', 'O', 'R-7-50', 'O', 'O', 'O', 'O', 'O', 'O', 'O', 'O', 'O', 'O', 'O', 'O', 'O', 'O', 'R-3-5', 'O', 'R-11-13', 'O', 'O', 'O', 'O', 'O', 'O', 'O', 'R-1-2', 'O', 'O', 'O', 'O', 'O', 'O', 'R-11-13', 'O', 'O', 'O', 'O', 'O', 'O', 'O', 'R-6-50', 'R-7-50', 'O', 'R-1-50', 'R-1-3', 'R-3-50', 'R-1-50', 'R-5-50', 'O', 'O', 'R-12-13', 'R-13-14', 'O', 'R-1-50', 'O', 'O', 'O', 'O', 'R-11-13', 'O', 'R-7-50', 'O', 'R-1-3', 'R-7-50', 'R-1-50', 'R-1-3', 'R-7-50', 'R-7-50', 'O', 'O', 'O', 'O', 'O', 'O', 'O', 'O', 'O', 'O', 'O', 'O', 'O', 'R-7-50', 'R-5B-7', 'R-7-50', 'O', 'O', 'R-7-50', 'O', 'O', 'R-1-50', 'O', 'O', 'O', 'O', 'R-1-50', 'O', 'O', 'O', 'O', 'R-3-50', 'O', 'O', 'O', 'R-3-50', 'R-7-50', 'R-6-7', 'O', 'O', 'O', 'O', 'O', 'O', 'O', 'O', 'O', 'O', 'O', 'O', 'O', 'O', 'O', 'O', 'O', 'O', 'O', 'R-2-50', 'R-2-50', 'R-1-2', 'O', 'R-3-4', 'R-4-13', 'R-4-5', 'R-4-13', 'R-6-7', 'R-7-14', 'R-7-14', 'R-7-50', 'O', 'O', 'O', 'R-1-3', 'R-3-50', 'R-3-7', 'R-3-50', 'R-3-7', 'O', 'O', 'O', 'R-1-50', 'R-7-14', 'O', 'R-7-50', 'R-5-5B', 'R-3-4', 'R-4-5', 'O', 'O', 'O', 'O', 'O', 'O', 'O', 'O', 'O', 'O', 'O', 'O', 'O', 'O', 'R-11-13', 'R-11-13', 'O', 'O', 'O', 'O', 'R-5-5B', 'R-3-5', 'R-3-5', 'R-1-50', 'O', 'O', 'O', 'R-3-50', 'R-3-5', 'R-7-50', 'O', 'O', 'O', 'O', 'O', 'O', 'O', 'O', 'O', 'O', 'R-1-3', 'R-3-50', 'O', 'O', 'O', 'O', 'O', 'O', 'O', 'O', 'O', 'O', 'O', 'O', 'O', 'O', 'R-7-50', 'O', 'O', 'O', 'O', 'O', 'O', 'O', 'O', 'O', 'O', 'R-3-50', 'O', 'R-7-50', 'O', 'O', 'O', 'O', 'O', 'O', 'O', 'R-3-5', 'O', 'O', 'R-4-5', 'R-4-50', 'O', 'O', 'O', 'O', 'O', 'O', 'O', 'R-4-50', 'R-11-12', 'R-12-13', 'R-13-14', 'R-14-50', 'R-6-14', 'R-7-50', 'R-7-50', 'O', 'O', 'O', 'R-3-50', 'R-1-50', 'O', 'R-1-50', 'O', 'O', 'O', 'R-5-50', 'R-1-50', 'O', 'O', 'O', 'R-13-50', 'R-4-50', 'R-13-50', 'R-4-50', 'R-6-50', 'R-7-50', 'R-7-50', 'R-4-14', 'R-11-14', 'O', 'O', 'O', 'O', 'O', 'R-5-5B', 'O', 'O', 'O', 'R-3-50', 'R-3-50', 'R-3-50', 'O', 'O', 'O', 'O', 'O', 'O', 'O', 'O', 'R-3-4', 'R-4-14', 'R-14-50', 'R-6-14', 'O', 'O', 'R-1-50', 'O', 'R-13-50', 'O', 'O', 'R-3-50', 'O', 'O', 'R-50-50', 'O', 'O', 'O', 'R-3-5', 'R-3-4', 'R-4-14', 'R-50-1', 'O', 'O', 'O', 'R-11-50', 'R-6-50', 'O', 'R-6-50', 'R-1-50', 'R-1-3', 'O', 'O', 'O', 'R-1-50', 'R-3-50', 'O', 'O', 'R-3-50', 'O', 'O', 'O', 'R-11-50', 'O', 'O', 'O', 'O', 'O', 'O', 'O', 'O', 'O', 'O', 'O', 'O', 'O', 'O', 'O', 'O', 'O', 'R-4-50', 'O', 'R-3-5', 'O', 'O', 'O', 'R-4-5', 'R-4-5B', 'R-4-50', 'O', 'R-3-5', 'O', 'O', 'O', 'O', 'O', 'R-7-50', 'O', 'O', 'O', 'O', 'R-6-7', 'R-6-50', 'O', 'O', 'O', 'O', 'O', 'O', 'R-7-50', 'R-7-50', 'O', 'O', 'R-12-13', 'R-11-12', 'R-13-50', 'O', 'R-3-50', 'R-13-50', 'R-7-50', 'O', 'R-1-50', 'R-1-3', 'R-1-50', 'R-3-50', 'O', 'O', 'R-3-4', 'R-4-14', 'R-14-50', 'O', 'O', 'O', 'O', 'O', 'O', 'O', 'O', 'O', 'O', 'O', 'O', 'O', 'O', 'O', 'O', 'O', 'O', 'R-5-50', 'R-7-50', 'R-1-50', 'R-3-5', 'R-1-3', 'R-3-5B', 'R-5B-50', 'R-5-5B', 'O', 'O', 'R-3-50', 'R-1-50', 'O', 'O', 'R-3-6', 'R-1-3', 'R-1-3', 'R-1-3', 'R-3-50', 'O', 'O', 'R-5-5B', 'O', 'O', 'R-3-50', 'R-3-50', 'R-1-50', 'R-1-50', 'R-1-50', 'O', 'O', 'O', 'O', 'O', 'O', 'R-7-50', 'O', 'O', 'O', 'O', 'R-7-50', 'R-7-50', 'O', 'O', 'R-1-50', 'R-1-3', 'O', 'O', 'O', 'R-3-4', 'R-4-50', 'O', 'O', 'R-4-5', 'O', 'R-3-1', 'O', 'O', 'O', 'O', 'O', 'O', 'R-1-50', 'O', 'O', 'O', 'O', 'O', 'O', 'O', 'O', 'O', 'O', 'O', 'O', 'O', 'O', 'O', 'O', 'O', 'O', 'O', 'O', 'R-2-3', 'O', 'R-3-4', 'O', 'O', 'O', 'O', 'R-4-5', 'R-4-50', 'O', 'R-5-50', 'O', 'O', 'O', 'O', 'O', 'O', 'O', 'O', 'O', 'O', 'O', 'O', 'O', 'O', 'O', 'O', 'O', 'O', 'R-7-50', 'O', 'O', 'O', 'R-4-5', 'O', 'R-4-5', 'R-5-5B', 'R-5-5B', 'O', 'O', 'R-1-50', 'R-1-50', 'O', 'O', 'O', 'R-3-50', 'R-1-50', 'O', 'R-5-5B', 'R-5B-7', 'R-5-5B', 'R-5B-7', 'R-7-50', 'O', 'R-7-50', 'O', 'O', 'O', 'O', 'O', 'O', 'R-14-50', 'R-6-14', 'R-7-50', 'O', 'R-6-7', 'O', 'O', 'R-7-50', 'O', 'O', 'O', 'O', 'O', 'O', 'O', 'O', 'R-5-50', 'R-7-50', 'O', 'O', 'O', 'O', 'O', 'R-6-7', 'R-6-7', 'R-7-50', 'O', 'R-11-12', 'R-12-50', 'R-12-50', 'O', 'O', 'R-5B-50', 'R-50-50', 'O', 'O', 'O', 'R-3-50', 'O', 'O', 'O', 'O', 'R-1-50', 'R-1-50', 'O', 'O', 'O', 'O', 'R-1-2', 'R-1-2', 'O', 'O', 'O', 'O', 'O', 'O', 'O', 'O', 'O', 'O', 'O', 'R-6-7', 'R-7-50', 'R-7-50', 'R-1-50', 'R-7-50', 'R-1-50', 'O', 'O', 'O', 'O', 'O', 'O', 'O', 'O', 'O', 'O', 'O', 'O', 'O', 'O', 'O', 'O', 'O', 'O', 'O', 'O', 'O', 'O', 'O', 'O', 'R-6-7', 'R-7-50', 'O', 'O', 'O', 'R-6-7', 'R-6-7', 'R-7-50', 'O', 'O', 'O', 'O', 'O', 'O', 'O', 'R-4-5B', 'R-3-5', 'R-11-13', 'R-13-50', 'R-13-50', 'R-1-2', 'R-2-3', 'O', 'O', 'O', 'O', 'R-1-3', 'O', 'O', 'O', 'O', 'O', 'O', 'O', 'O', 'O', 'O', 'O', 'O', 'O', 'O', 'O', 'O', 'O', 'O', 'O', 'O', 'O', 'R-50-7', 'O', 'O', 'O', 'O', 'O', 'O', 'O', 'O', 'O', 'O', 'O', 'O', 'O', 'O', 'O', 'O', 'R-7-50', 'R-1-50', 'R-1-50', 'O', 'O', 'R-3-4', 'R-4-7', 'R-7-50', 'R-7-50', 'O', 'O', 'R-7-50', 'R-7-50', 'O', 'O', 'O', 'O', 'O', 'O', 'O', 'O', 'O', 'O', 'O', 'R-3-50', 'O', 'R-3-4', 'R-1-3', 'R-1-3', 'R-3-50', 'R-2-3', 'R-1-3', 'R-3-50', 'O', 'O', 'O', 'O', 'O', 'O', 'O', 'O', 'O', 'R-11-50', 'O', 'O', 'O', 'O', 'O', 'O', 'O', 'O', 'O', 'O', 'O', 'R-6-50', 'O', 'O', 'O', 'O', 'O', 'O', 'O', 'O', 'R-1-3', 'R-4-14', 'R-3-4', 'R-4-5', 'O', 'O', 'R-1-3', 'R-3-6', 'R-6-50', 'R-1-50', 'R-3-50', 'O', 'O', 'R-3-4', 'R-4-14', 'R-14-11', 'R-14-11', 'R-11-13', 'R-13-14', 'O', 'R-6-7', 'R-5B-50', 'R-5B-50', 'O', 'O', 'O', 'R-1-50', 'R-13-50', 'R-7-50', 'R-1-50', 'R-3-4', 'R-11-12', 'R-12-13', 'R-12-13', 'R-13-14', 'R-13-14', 'R-7-50', 'R-7-50', 'R-7-50', 'O', 'R-5B-7', 'O', 'R-7-50', 'R-3-50', 'R-1-50', 'O', 'O', 'R-6-7', 'R-3-50', 'R-3-50', 'R-1-3', 'O', 'R-3-50', 'O', 'R-3-50', 'R-6-50', 'R-6-7', 'O', 'R-6-50', 'R-6-50', 'O', 'O', 'O', 'O', 'R-3-5', 'O', 'O', 'O', 'O', 'R-14-50', 'R-6-14', 'R-7-50', 'O', 'R-5-50', 'O', 'R-1-3', 'O', 'O', 'R-5-50', 'O', 'O', 'O', 'R-4-50', 'O', 'O', 'R-4-14', 'O', 'R-6-7', 'O', 'O', 'O', 'O', 'R-6-14', 'O', 'O', 'O', 'O', 'R-3-6', 'R-6-7', 'R-7-5B', 'R-7-5B', 'O', 'O', 'O', 'O', 'O', 'O', 'O', 'O', 'R-1-3', 'O', 'O', 'R-1-5', 'R-3-5', 'R-3-4', 'R-4-14', 'O', 'R-4-7', 'R-7-50', 'O', 'O', 'O', 'O', 'O', 'O', 'O', 'O', 'O', 'O', 'O', 'O', 'O', 'R-1-3', 'R-3-50', 'O', 'O', 'O', 'R-7-50', 'O', 'O', 'O', 'R-11-13', 'R-11-12', 'R-12-13', 'O', 'R-7-50', 'O', 'O', 'R-14-50', 'R-6-14', 'R-7-50', 'O', 'O', 'O', 'O', 'O', 'R-3-50', 'R-1-50', 'O', 'O', 'O', 'R-6-7', 'R-6-50', 'R-6-7', 'R-6-50', 'O', 'O', 'R-3-50', 'O', 'O', 'O', 'O', 'R-5B-50', 'O', 'R-1-50', 'R-3-5', 'R-1-3', 'R-2-50', 'O', 'O', 'O', 'R-7-50', 'O', 'O', 'O', 'R-50-3', 'O', 'R-14-50', 'R-11-13', 'O', 'O', 'R-3-4', 'R-4-14', 'R-3-50', 'R-4-3', 'O', 'O', 'O', 'R-1-50', 'R-1-50', 'R-1-3', 'O', 'R-1-3', 'R-3-50', 'R-4-50', 'R-1-4', 'O', 'O', 'R-1-50', 'O', 'R-3-50', 'R-1-50', 'R-3-50', 'R-1-50', 'O', 'O', 'O', 'O', 'O', 'O', 'O', 'R-5-50', 'R-3-5', 'R-4-14', 'R-11-14', 'O', 'R-11-14', 'O', 'R-11-13', 'R-12-14', 'R-14-50', 'R-3-50', 'R-1-50', 'O', 'O', 'O', 'O', 'O', 'O', 'R-3-7', 'R-7-50', 'O', 'O', 'O', 'O', 'O', 'O', 'O', 'O', 'R-3-5', 'O', 'O', 'O', 'O', 'R-3-50', 'R-3-50', 'O', 'O', 'R-3-5', 'O', 'O', 'O', 'O', 'R-13-50', 'O', 'O', 'O', 'O', 'O', 'R-3-50', 'R-1-50', 'R-7-50', 'O', 'R-11-12', 'R-12-50', 'R-7-50', 'O', 'O', 'O', 'O', 'O', 'O', 'O', 'R-11-13', 'R-11-12', 'R-12-14', 'R-12-13', 'R-12-14', 'R-12-13', 'R-1-50', 'O', 'O', 'O', 'O', 'O', 'O', 'O', 'O', 'O', 'O', 'O', 'O', 'R-1-3', 'O', 'R-3-4', 'R-4-14', 'O', 'O', 'O', 'O', 'O', 'R-7-50', 'O', 'R-7-50', 'O', 'O', 'R-3-5', 'R-5-50', 'O', 'R-13-14', 'O', 'O', 'O', 'O', 'O', 'O', 'O', 'R-7-50', 'O', 'O', 'O', 'O', 'O', 'R-3-5', 'O', 'O', 'O', 'O', 'O', 'O', 'R-7-50', 'R-7-50', 'O', 'O', 'O', 'O', 'O', 'R-13-50', 'R-7-50', 'O', 'O', 'O', 'O', 'O', 'O', 'O', 'O', 'R-1-50', 'O', 'O', 'O', 'O', 'O', 'R-7-50', 'O', 'O', 'O', 'O', 'O', 'O', 'O', 'O', 'O', 'O', 'O', 'R-3-50', 'R-3-6', 'R-3-6', 'R-6-7', 'O', 'O', 'O', 'R-3-50', 'R-1-50', 'O', 'O', 'O', 'O', 'O', 'O', 'O', 'O', 'O', 'O', 'O', 'O', 'R-3-50', 'R-1-50', 'O', 'O', 'O', 'O', 'R-2-3', 'R-7-50', 'O', 'O', 'R-3-50', 'O', 'O', 'O', 'O', 'O', 'O', 'O', 'R-1-50', 'R-3-50', 'O', 'R-1-50', 'R-1-50', 'R-1-50', 'R-3-50', 'R-3-4', 'R-1-4', 'R-11-13', 'R-13-14', 'O', 'O', 'O', 'O', 'O', 'O', 'R-7-50', 'O', 'O', 'O', 'O', 'O', 'R-4-50', 'R-11-14', 'O', 'O', 'R-7-50', 'R-6-7', 'O', 'R-1-3', 'O', 'O', 'O', 'O', 'O', 'O', 'R-11-50', 'O', 'O', 'O', 'R-3-5', 'R-11-50', 'O', 'O', 'O', 'O', 'O', 'O', 'R-3-5', 'O', 'R-1-3', 'R-3-4', 'O', 'O', 'R-11-13', 'R-13-14', 'O', 'R-4-50', 'R-6-50', 'R-4-5', 'R-4-50', 'O', 'O', 'O', 'R-6-7', 'R-6-7', 'O', 'R-7-50', 'O', 'O', 'O', 'R-1-50', 'R-3-50', 'R-5-5B', 'O', 'O', 'O', 'R-1-50', 'R-1-2', 'R-7-50', 'R-7-50', 'O', 'O', 'O', 'O', 'O', 'O', 'O', 'O', 'O', 'O', 'O', 'O', 'O', 'O', 'O', 'O', 'O', 'O', 'O', 'O', 'O', 'O', 'O', 'O', 'O', 'O', 'O', 'O', 'O', 'O', 'R-11-13', 'R-11-13', 'R-3-5', 'R-4-14', 'O', 'O', 'O', 'O', 'R-4-14', 'R-4-50', 'R-1-50', 'O', 'O', 'O', 'R-5-5B', 'O', 'R-7-50', 'R-1-50', 'R-1-2', 'O', 'O', 'R-2-3', 'R-2-3', 'R-3-50', 'O', 'O', 'R-5-5B', 'R-3-4', 'R-4-5', 'R-3-4', 'R-11-11', 'R-11-13', 'R-11-12', 'R-12-13', 'R-13-14', 'R-13-50', 'R-1-50', 'R-1-3', 'R-11-13', 'R-12-50', 'R-12-7', 'R-4-7', 'O', 'O', 'O', 'O', 'O', 'O', 'R-7-50', 'O', 'O', 'O', 'R-13-50', 'R-1-50', 'R-6-50', 'O', 'R-12-11', 'R-13-14', 'R-13-11', 'O', 'O', 'R-6-7', 'R-6-7', 'R-7-50', 'R-1-3', 'R-1-3', 'O', 'R-1-3', 'R-3-50', 'O', 'O', 'R-7-50', 'O', 'O', 'R-4-5', 'O', 'R-1-50', 'R-5-50', 'R-1-50', 'O', 'R-1-2', 'O', 'R-1-3', 'O', 'O', 'O', 'O', 'R-7-50', 'R-3-50', 'R-7-50', 'R-3-50', 'O', 'R-1-50', 'O', 'O', 'O', 'O', 'R-3-4', 'R-4-14', 'O', 'O', 'O', 'O', 'O', 'O', 'O', 'R-1-50', 'R-3-50', 'O', 'O', 'O', 'R-5-5B', 'O', 'O', 'O', 'O', 'O', 'O', 'O', 'O', 'O', 'O', 'O', 'O', 'O', 'R-4-5', 'O', 'R-11-13', 'R-11-12', 'O', 'O', 'R-14-50', 'R-6-14', 'O', 'R-1-50', 'R-13-50', 'O', 'O', 'R-13-50', 'O', 'O', 'O', 'O', 'O', 'O', 'O', 'R-7-50', 'O', 'O', 'O', 'O', 'R-7-50', 'O', 'O', 'O', 'R-1-3', 'R-1-3', 'O', 'O', 'O', 'O', 'R-5-50', 'O', 'R-11-13', 'R-12-13', 'O', 'O', 'O', 'R-7-50', 'R-3-50', 'R-1-50', 'O', 'R-3-1', 'O', 'O', 'R-6-50', 'O', 'O', 'O', 'O', 'O', 'O', 'R-1-50', 'R-4-14', 'R-13-14', 'R-1-50', 'R-3-1', 'R-3-50', 'R-1-50', 'R-3-50', 'R-1-2', 'R-1-50', 'O', 'R-13-14', 'R-11-13', 'O', 'O', 'O', 'O', 'O', 'R-6-7', 'O', 'R-7-50', 'R-7-50', 'O', 'O', 'O', 'R-6-50', 'O', 'O', 'O', 'O', 'R-13-50', 'R-13-14', 'R-1-3', 'R-13-50', 'O', 'O', 'O', 'O', 'O', 'R-1-50', 'R-1-3', 'R-1-50', 'R-1-3', 'O', 'O', 'O', 'O', 'O', 'O', 'O', 'R-1-3', 'R-1-3', 'R-3-50', 'O', 'O', 'R-3-50', 'R-1-50', 'O', 'R-4-14', 'R-3-4', 'R-4-50', 'R-3-5', 'R-4-50', 'R-4-14', 'O', 'R-7-50', 'O', 'O', 'O', 'O', 'O', 'O', 'O', 'R-4-5', 'R-3-5', 'O', 'O', 'R-1-2', 'R-1-2', 'O', 'R-3-50', 'R-1-50', 'O', 'R-3-50', 'R-1-50', 'R-13-50', 'R-5-50', 'O', 'R-11-12', 'R-12-13', 'R-13-14', 'R-13-14', 'O', 'R-4-5', 'O', 'O', 'R-7-50', 'R-7-50', 'O', 'O', 'O', 'R-7-50', 'O', 'O', 'R-6-7', 'R-7-50', 'R-3-6', 'R-11-12', 'R-12-5B', 'O', 'O', 'O', 'O', 'O', 'R-3-50', 'R-3-50', 'O', 'R-3-4', 'O', 'O', 'O', 'O', 'O', 'O', 'R-4-5', 'R-3-5', 'R-3-4', 'R-4-14', 'O', 'O', 'O', 'O', 'O', 'R-3-50', 'R-11-50', 'O', 'O', 'O', 'O', 'O', 'O', 'O', 'O', 'O', 'O', 'O', 'O', 'R-4-50', 'R-4-5', 'R-4-5B', 'O', 'O', 'O', 'O', 'O', 'O', 'O', 'O', 'R-1-2', 'O', 'O', 'O', 'O', 'O', 'R-4-5', 'O', 'O', 'R-1-50', 'R-1-3', 'R-1-3', 'R-1-3', 'O', 'O', 'R-3-50', 'R-1-50', 'R-1-3', 'R-7-50', 'O', 'O', 'O', 'O', 'O', 'O', 'O', 'O', 'O', 'O', 'O', 'O', 'O', 'R-1-50', 'R-1-50', 'R-1-50', 'R-1-3', 'O', 'O', 'O', 'O', 'R-7-50', 'R-7-50', 'R-1-50', 'O', 'O', 'O', 'R-3-4', 'R-4-5', 'O', 'O', 'R-5-4', 'R-1-2', 'R-4-14', 'O', 'O', 'R-1-50', 'R-3-50', 'O', 'O', 'O', 'O', 'O', 'O', 'O', 'O', 'O', 'O', 'O', 'O', 'O', 'O', 'O', 'O', 'O', 'O', 'O', 'O', 'O', 'O', 'O', 'R-3-5', 'R-3-4', 'R-4-6', 'R-4-6', 'R-6-7', 'R-6-7', 'R-7-50', 'O', 'O', 'O', 'O', 'O', 'O', 'O', 'O', 'O', 'O', 'O', 'O', 'O', 'O', 'O', 'O', 'R-7-50', 'R-7-50', 'O', 'O', 'O', 'R-6-7', 'O', 'O', 'O', 'O', 'O', 'R-1-3', 'R-3-50', 'R-1-50', 'R-3-50', 'O', 'R-4-14', 'O', 'O', 'O', 'O', 'O', 'R-3-50', 'O', 'O', 'O', 'O', 'O', 'O', 'O', 'O', 'O', 'O', 'O', 'O', 'O', 'O', 'O', 'O', 'O', 'R-1-50', 'R-1-50', 'O', 'O', 'O', 'R-4-5', 'R-3-5', 'O', 'R-13-11', 'O', 'O', 'O', 'R-2-50', 'R-3-50', 'R-1-2', 'O', 'O', 'O', 'O', 'O', 'O', 'O', 'O', 'R-7-50', 'O', 'R-4-50', 'O', 'O', 'R-13-11', 'R-11-12', 'R-12-13', 'R-13-14', 'R-3-50', 'O', 'R-3-7', 'R-OTHER-13', 'R-11-OTHER', 'R-11-OTHER', 'R-OTHER-13', 'O', 'O', 'O', 'O', 'O', 'O', 'O', 'R-3-50', 'O', 'O', 'O', 'R-4-50', 'O', 'O', 'R-3-4', 'O', 'R-11-13', 'R-12-13', 'O', 'R-1-2', 'R-2-3', 'O', 'O', 'R-1-3', 'O', 'O', 'O', 'R-1-50', 'O', 'O', 'R-3-50', 'R-1-50', 'O', 'O', 'O', 'O', 'O', 'O', 'O', 'O', 'O', 'O', 'R-3-5', 'O', 'O', 'O', 'R-1-50', 'R-7-50', 'O', 'O', 'R-1-2', 'R-2-3', 'O', 'O', 'O', 'O', 'R-1-3', 'R-3-50', 'R-7-50', 'O', 'O', 'R-5-5B', 'O', 'O', 'O', 'O', 'O', 'R-6-7', 'O', 'O', 'O', 'O', 'R-1-3', 'O', 'O', 'R-7-50', 'O', 'O', 'O', 'O', 'O', 'O', 'O', 'R-7-50', 'O', 'O', 'R-6-7', 'R-7-50', 'O', 'O', 'O', 'O', 'O', 'O', 'O', 'O', 'O', 'O', 'O', 'R-6-7', 'R-7-5B', 'R-7-50', 'R-1-50', 'R-1-3', 'R-3-4', 'R-4-7', 'R-1-50', 'R-11-50', 'R-13-50', 'O', 'O', 'O', 'O', 'O', 'O', 'R-3-50', 'R-1-50', 'O', 'O', 'O', 'O', 'O', 'O', 'O', 'R-13-50', 'R-3-50', 'O', 'O', 'O', 'R-14-50', 'R-6-14', 'R-7-50', 'O', 'O', 'O', 'O', 'O', 'O', 'O', 'O', 'O', 'O', 'R-1-50', 'O', 'R-7-50', 'O', 'O', 'O', 'O', 'O', 'O', 'R-11-50', 'R-3-50', 'O', 'R-1-3', 'O', 'O', 'R-3-4', 'R-4-50', 'R-4-14', 'R-4-14', 'O', 'O', 'O', 'R-11-13', 'R-13-14', 'O', 'O', 'O', 'R-6-7', 'R-14-50', 'O', 'O', 'O', 'O', 'O', 'O', 'O', 'O', 'O', 'R-1-50', 'O', 'O', 'O', 'O', 'O', 'O', 'R-50-3', 'R-50-3', 'R-1-3', 'R-1-3', 'O', 'R-1-2', 'R-3-5', 'R-3-4', 'R-4-14', 'R-14-50', 'R-11-12', 'R-12-13', 'R-13-14', 'O', 'O', 'O', 'O', 'O', 'O', 'O', 'O', 'R-3-50', 'R-3-50', 'O', 'O', 'O', 'R-4-50', 'O', 'O', 'O', 'R-6-7', 'R-7-50', 'R-7-50', 'R-3-50', 'R-1-50', 'R-3-50', 'R-1-50', 'O', 'R-1-2', 'R-1-50', 'R-3-50', 'O', 'O', 'O', 'O', 'R-3-50', 'R-1-50', 'R-3-50', 'R-1-50', 'R-7-50', 'R-5-50', 'R-1-50', 'O', 'O', 'O', 'O', 'R-5-50', 'O', 'O', 'R-4-50', 'O', 'O', 'O', 'O', 'O', 'O', 'O', 'O', 'O', 'O', 'O', 'O', 'O', 'O', 'O', 'O', 'R-1-2', 'R-3-50', 'O', 'R-7-50', 'R-6-7', 'O', 'R-1-2', 'O', 'R-11-13', 'R-13-7', 'O', 'R-1-50', 'O', 'O', 'O', 'R-13-50', 'R-11-13', 'R-11-12', 'R-12-13', 'R-13-14', 'O', 'O', 'O', 'O', 'O', 'O', 'O', 'O', 'R-1-50', 'R-3-13', 'R-13-50', 'O', 'R-11-13', 'O', 'R-3-50', 'R-3-50', 'R-1-50', 'O', 'O', 'O', 'O', 'O', 'O', 'O', 'O', 'O', 'O', 'R-3-50', 'O', 'R-1-3', 'R-1-2', 'R-2-3', 'R-2-3', 'O', 'R-3-4', 'R-4-50', 'R-3-4', 'O', 'R-3-4', 'R-4-50', 'O', 'O', 'R-3-50', 'R-3-4', 'O', 'O', 'O', 'O', 'O', 'O', 'R-1-3', 'R-3-50', 'R-1-50', 'R-3-50', 'R-3-50', 'O', 'O', 'O', 'R-13-12', 'O', 'O', 'O', 'O', 'R-3-4', 'R-4-14', 'R-14-50', 'R-14-50', 'O', 'O', 'O', 'R-3-50', 'R-1-50', 'O', 'O', 'O', 'O', 'O', 'R-7-50', 'O', 'O', 'O', 'R-3-4', 'R-7-50', 'O', 'O', 'O', 'O', 'O', 'O', 'O', 'O', 'O', 'O', 'O', 'R-7-50', 'R-1-50', 'R-3-50', 'R-3-50', 'R-1-50', 'R-7-50', 'O', 'R-7-50', 'O', 'O', 'O', 'O', 'R-1-50', 'R-1-3', 'R-1-50', 'R-3-50', 'R-3-50', 'O', 'O', 'R-1-50', 'O', 'R-1-50', 'O', 'O', 'O', 'O', 'O', 'O', 'O', 'R-1-50', 'O', 'O', 'O', 'O', 'R-1-3', 'O', 'O', 'O', 'O', 'R-6-7', 'R-7-50', 'O', 'R-1-50', 'R-1-3', 'R-3-5', 'O', 'R-1-50', 'R-5-50', 'O', 'O', 'O', 'R-1-50', 'O', 'O', 'O', 'R-3-4', 'R-4-50', 'R-13-50', 'R-13-50', 'O', 'O', 'O', 'O', 'O', 'O', 'R-1-50', 'O', 'R-3-50', 'R-1-50', 'O', 'O', 'O', 'O', 'O', 'O', 'O', 'O', 'O', 'O', 'O', 'R-11-50', 'O', 'R-3-50', 'O', 'R-3-50', 'R-7-50', 'R-3-7', 'R-3-7', 'O', 'O', 'R-1-50', 'R-3-50', 'R-6-50', 'R-6-7', 'O', 'O', 'R-1-2', 'R-1-3', 'R-3-50', 'R-3-50', 'O', 'R-1-11', 'R-11-13', 'R-13-14', 'R-14-7', 'R-3-50', 'R-3-4', 'R-4-5', 'R-1-50', 'O', 'O', 'R-1-3', 'R-3-50', 'O', 'R-11-13', 'R-11-50', 'O', 'O', 'O', 'R-1-50', 'O', 'O', 'R-1-50', 'O', 'O', 'O', 'O', 'O', 'O', 'O', 'O', 'O', 'R-3-50', 'O', 'O', 'R-3-4', 'R-4-14', 'O', 'O', 'R-11-12', 'R-12-13', 'R-13-14', 'O', 'R-7-50', 'O', 'R-1-50', 'O', 'O', 'O', 'O', 'O', 'O', 'O', 'O', 'O', 'O', 'O', 'O', 'O', 'O', 'O', 'O', 'O', 'R-4-50', 'R-4-50', 'O', 'R-3-5', 'O', 'O', 'R-6-50', 'O', 'O', 'O', 'O', 'O', 'O', 'R-7-50', 'O', 'O', 'O', 'O', 'O', 'O', 'O', 'O', 'R-11-13', 'R-3-50', 'R-3-50', 'O', 'R-7-50', 'O', 'O', 'O', 'O', 'O', 'O', 'O', 'O', 'R-6-7', 'R-6-50', 'R-7-50', 'O', 'O', 'O', 'O', 'O', 'O', 'O', 'O', 'O', 'O', 'O', 'O', 'O', 'R-1-3', 'R-3-50', 'R-3-50', 'O', 'O', 'O', 'O', 'R-7-50', 'R-7-14', 'O', 'R-3-50', 'O', 'O', 'O', 'R-11-12', 'R-12-13', 'R-13-50', 'R-13-50', 'R-1-50', 'R-1-50', 'R-13-50', 'O', 'O', 'O', 'O', 'O', 'O', 'O', 'O', 'O', 'O', 'O', 'R-7-50', 'O', 'O', 'O', 'O', 'R-3-5', 'R-3-4', 'O', 'O', 'O', 'O', 'O', 'O', 'O', 'O', 'O', 'R-7-50', 'O', 'O', 'O', 'O', 'O', 'O', 'O', 'O', 'O', 'O', 'O', 'O', 'O', 'O', 'O', 'O', 'O', 'O', 'R-1-2', 'R-1-3', 'R-1-3', 'R-3-50', 'O', 'O', 'O', 'O', 'O', 'O', 'R-13-14', 'O', 'R-3-50', 'O', 'R-4-5', 'R-3-5', 'O', 'O', 'O', 'O', 'O', 'R-1-50', 'R-7-5', 'R-1-3', 'R-3-7', 'R-7-50', 'R-3-50', 'O', 'O', 'O', 'O', 'O', 'O', 'O', 'O', 'O', 'R-7-50', 'O', 'O', 'O', 'O', 'O', 'O', 'O', 'R-3-5', 'O', 'O', 'O', 'O', 'O', 'O', 'R-1-2', 'R-1-3', 'R-3-6', 'R-6-7', 'R-7-50', 'O', 'O', 'O', 'O', 'R-14-50', 'R-6-14', 'R-7-50', 'O', 'O', 'R-7-50', 'O', 'O', 'O', 'O', 'O', 'O', 'O', 'O', 'O', 'O', 'R-14-50', 'R-6-14', 'R-7-50', 'O', 'O', 'R-7-50', 'O', 'O', 'O', 'O', 'O', 'O', 'R-7-50', 'O', 'O', 'R-3-50', 'O', 'O', 'O', 'O', 'O', 'O', 'O', 'O', 'O', 'O', 'O', 'R-1-3', 'R-1-3', 'O', 'O', 'O', 'O', 'O', 'O', 'R-7-50', 'O', 'O', 'O', 'O', 'O', 'O', 'O', 'O', 'O', 'O', 'R-13-50', 'R-11-13', 'O', 'O', 'O', 'R-6-50', 'R-6-7', 'O', 'O', 'O', 'O', 'O', 'O', 'O', 'O', 'O', 'O', 'O', 'R-3-4', 'R-1-3', 'R-4-50', 'R-12-13', 'R-13-50', 'R-13-50', 'O', 'R-13-50', 'R-3-50', 'R-1-50', 'R-7-50', 'O', 'O', 'O', 'O', 'O', 'O', 'O', 'R-1-50', 'R-1-3', 'O', 'O', 'O', 'O', 'O', 'R-7-50', 'R-7-50', 'O', 'O', 'O', 'O', 'O', 'O', 'O', 'R-1-50', 'O', 'O', 'O', 'O', 'O', 'O', 'O', 'O', 'O', 'O', 'O', 'O', 'O', 'O', 'R-1-3', 'O', 'R-5-50', 'O', 'O', 'O', 'O', 'O', 'O', 'R-3-50', 'O', 'O', 'O', 'O', 'O', 'O', 'O', 'O', 'R-11-50', 'O', 'O', 'R-11-3', 'R-11-13', 'R-13-50', 'O', 'O', 'R-6-50', 'R-11-50', 'R-14-50', 'R-6-14', 'R-7-50', 'O', 'O', 'O', 'O', 'O', 'O', 'O', 'O', 'O', 'R-7-50', 'R-5-50', 'O', 'O', 'O', 'O', 'R-6-7', 'R-6-50', 'R-6-7', 'R-13-50', 'R-3-50', 'O', 'O', 'R-11-14', 'O', 'O', 'O', 'R-1-50', 'R-5-50', 'O', 'R-11-12', 'R-12-13', 'R-13-14', 'O', 'R-6-7', 'R-7-50', 'O', 'O', 'O', 'O', 'O', 'O', 'O', 'O', 'O', 'O', 'O', 'O', 'O', 'O', 'O', 'O', 'O', 'O', 'O', 'O', 'O', 'R-3-5', 'R-3-5', 'O', 'O', 'R-11-13', 'O', 'R-7-50', 'O', 'O', 'R-3-4', 'R-4-14', 'R-13-14', 'O', 'O', 'O', 'R-13-14', 'O', 'O', 'O', 'O', 'O', 'O', 'O', 'O', 'O', 'O', 'R-3-4', 'R-4-14', 'O', 'R-7-50', 'O', 'O', 'R-1-2', 'R-1-3', 'R-1-50', 'O', 'R-3-4', 'R-1-4', 'O', 'R-3-50', 'R-1-3', 'R-6-7', 'R-7-50', 'O', 'R-3-7', 'R-7-5B', 'R-5B-50', 'R-3-50', 'O', 'O', 'R-3-50', 'R-3-5', 'O', 'O', 'O', 'O', 'O', 'R-1-50', 'O', 'R-3-50', 'R-13-50', 'O', 'R-5B-50', 'R-12-50', 'R-11-6', 'R-11-12', 'O', 'O', 'R-1-3', 'O', 'O', 'R-6-50', 'R-6-50', 'R-7-50', 'O', 'O', 'R-7-50', 'O', 'R-14-6', 'R-6-50', 'O', 'O', 'O', 'O', 'O', 'O', 'O', 'O', 'O', 'O', 'O', 'O', 'R-7-50', 'O', 'R-3-50', 'R-1-50', 'O', 'O', 'O', 'O', 'O', 'O', 'O', 'R-4-50', 'R-1-3', 'O', 'R-1-3', 'R-3-50', 'R-3-4', 'R-4-14', 'R-11-14', 'R-11-13', 'R-12-13', 'O', 'O', 'O', 'O', 'O', 'O', 'O', 'O', 'O', 'O', 'O', 'O', 'O', 'O', 'O', 'O', 'O', 'O', 'O', 'R-11-12', 'R-11-12', 'R-12-13', 'O', 'O', 'R-7-50', 'R-3-50', 'R-6-50', 'O', 'O', 'R-3-50', 'O', 'O', 'R-3-50', 'R-1-50', 'O', 'O', 'R-3-4', 'R-4-50', 'R-4-50', 'O', 'R-11-12', 'R-12-14', 'R-14-50', 'R-12-14', 'R-14-50', 'O', 'O', 'R-5-50', 'R-3-4', 'R-4-50', 'O', 'O', 'R-1-2', 'O', 'O', 'O', 'O', 'O', 'O', 'O', 'O', 'O', 'O', 'O', 'O', 'O', 'O', 'O', 'O', 'O', 'O', 'O', 'O', 'O', 'O', 'O', 'O', 'O', 'R-1-50', 'O', 'R-1-50', 'R-1-13', 'R-13-50', 'R-13-50', 'R-1-50', 'O', 'O', 'O', 'R-5-5B', 'R-5-5B', 'R-7-50', 'R-6-7', 'R-7-50', 'O', 'O', 'O', 'R-7-50', 'O', 'O', 'O', 'O', 'O', 'O', 'O', 'R-1-50', 'R-7-50', 'R-13-50', 'R-4-50', 'R-3-50', 'R-11-50', 'R-11-13', 'R-12-13', 'R-13-14', 'O', 'O', 'R-3-4', 'R-4-14', 'O', 'R-11-13', 'R-13-14', 'R-13-14', 'R-7-50', 'O', 'O', 'O', 'O', 'O', 'R-11-13', 'O', 'O', 'O', 'O', 'O', 'O', 'O', 'O', 'O', 'R-1-50', 'R-1-3', 'R-1-3', 'O', 'O', 'R-1-50', 'O', 'O', 'O', 'O', 'R-3-5', 'O', 'O', 'R-6-7', 'O', 'O', 'O', 'O', 'O', 'R-7-50', 'O', 'O', 'O', 'O', 'R-3-5', 'R-3-5', 'O', 'O', 'R-3-5', 'R-13-50', 'R-13-14', 'O', 'O', 'R-1-3', 'O', 'R-7-50', 'O', 'O', 'O', 'R-1-3', 'R-3-50', 'O', 'O', 'R-11-12', 'O', 'O', 'O', 'O', 'O', 'O', 'O', 'O', 'O', 'O', 'O', 'R-5-13', 'R-13-50', 'R-7-50', 'O', 'O', 'O', 'O', 'O', 'O', 'R-1-3', 'O', 'O', 'O', 'O', 'O', 'O', 'O', 'O', 'R-5-50', 'R-6-7', 'R-7-50', 'R-5B-50', 'O', 'O', 'R-1-3', 'O', 'O', 'O', 'O', 'O', 'O', 'O', 'O', 'O', 'O', 'O', 'R-7-50', 'O', 'O', 'O', 'R-1-50', 'R-1-3', 'R-3-4', 'O', 'R-4-5', 'O', 'O', 'R-3-5', 'O', 'O', 'O', 'R-7-50', 'O', 'O', 'O', 'O', 'R-3-50', 'O', 'O', 'O', 'O', 'O', 'O', 'O', 'O', 'R-5B-50', 'O', 'O', 'O', 'R-1-3', 'O', 'O', 'O', 'O', 'R-5-5B', 'R-1-3', 'R-3-5', 'R-3-5', 'R-5-6', 'R-6-7', 'O', 'O', 'O', 'R-2-3', 'O', 'R-6-7', 'R-3-5', 'R-11-12', 'R-12-13', 'R-13-14', 'O', 'O', 'O', 'O', 'O', 'R-4-50', 'R-3-4', 'O', 'O', 'R-13-50', 'R-13-14', 'O', 'O', 'R-11-12', 'R-13-14', 'R-14-50', 'R-14-50', 'O', 'O', 'R-5-5B', 'R-7-50', 'O', 'O', 'R-3-50', 'R-1-50', 'R-3-50', 'R-1-50', 'O', 'O', 'R-1-50', 'O', 'O', 'R-1-50', 'O', 'O', 'O', 'O', 'R-7-50', 'O', 'O', 'O', 'O', 'R-3-5', 'R-4-14', 'O', 'R-11-12', 'R-12-13', 'R-13-50', 'O', 'R-13-50', 'O', 'O', 'O', 'O', 'O', 'O', 'O', 'O', 'O', 'R-4-5', 'O', 'O', 'O', 'O', 'O', 'O', 'R-3-4', 'R-4-14', 'O', 'O', 'O', 'O', 'O', 'O', 'R-7-50', 'O', 'O', 'R-7-50', 'R-6-7', 'R-7-50', 'O', 'O', 'O', 'O', 'R-1-50', 'R-3-50', 'O', 'O', 'O', 'O', 'O', 'O', 'O', 'R-5-7', 'O', 'O', 'O', 'R-7-50', 'R-7-50', 'O', 'O', 'O', 'O', 'O', 'O', 'O', 'O', 'R-3-5', 'R-3-14', 'R-14-50', 'R-6-14', 'R-7-50', 'R-1-50', 'O', 'O', 'O', 'O', 'O', 'O', 'O', 'O', 'O', 'O', 'O', 'R-7-50', 'O', 'O', 'R-3-50', 'R-3-50', 'O', 'O', 'O', 'O', 'R-7-50', 'O', 'O', 'O', 'O', 'O', 'O', 'R-1-2', 'O', 'O', 'O', 'O', 'O', 'R-1-3', 'R-3-50', 'R-1-50', 'R-3-50', 'O', 'O', 'R-2-3', 'R-2-3', 'O', 'O', 'O', 'O', 'O', 'O', 'O', 'O', 'O', 'O', 'R-1-50', 'O', 'O', 'O', 'O', 'O', 'O', 'O', 'O', 'O', 'O', 'O', 'O', 'R-3-50', 'R-1-50', 'R-1-50', 'R-3-6', 'O', 'R-6-7', 'R-3-6', 'R-7-50', 'R-1-50', 'O', 'O', 'R-1-50', 'R-3-50', 'R-1-50', 'R-1-3', 'O', 'O', 'O', 'O', 'O', 'R-4-50', 'O', 'O', 'R-1-50', 'R-1-50', 'O', 'R-1-50', 'R-3-50', 'O', 'O', 'O', 'O', 'O', 'O', 'O', 'O', 'O', 'O', 'R-7-50', 'O', 'O', 'O', 'O', 'O', 'O', 'O', 'O', 'O', 'O', 'R-5-50', 'O', 'O', 'O', 'O', 'O', 'O', 'O', 'O', 'O', 'O', 'O', 'O', 'O', 'O', 'O', 'O', 'O', 'R-11-50', 'R-11-13', 'R-12-13', 'O', 'O', 'R-1-3', 'O', 'O', 'O', 'O', 'O', 'O', 'R-11-50', 'R-13-50', 'R-4-50', 'O', 'O', 'O', 'O', 'O', 'O', 'O', 'O', 'O', 'O', 'O', 'O', 'O', 'O', 'O', 'O', 'O', 'O', 'O', 'O', 'O', 'O', 'R-3-50', 'R-1-50', 'O', 'O', 'O', 'O', 'O', 'O', 'O', 'O', 'O', 'O', 'O', 'O', 'R-1-50', 'O', 'O', 'O', 'O', 'O', 'O', 'O', 'R-1-50', 'O', 'R-3-50', 'R-1-50', 'O', 'O', 'O', 'O', 'O', 'O', 'R-3-50', 'R-1-3', 'R-7-50', 'R-1-3', 'R-3-50', 'R-7-50', 'R-7-50', 'O', 'O', 'O', 'R-1-50', 'R-3-50', 'O', 'O', 'O', 'O', 'R-1-3', 'R-1-3', 'R-3-50', 'O', 'R-4-5', 'O', 'O', 'O', 'O', 'O', 'O', 'O', 'O', 'R-7-50', 'O', 'O', 'O', 'O', 'O', 'O', 'O', 'O', 'O', 'O', 'O', 'O', 'O', 'O', 'O', 'R-1-50', 'O', 'O', 'O', 'R-6-14', 'R-6-14', 'O', 'O', 'O', 'O', 'R-13-14', 'R-4-50', 'R-6-50', 'O', 'O', 'O', 'O', 'O', 'O', 'O', 'O', 'R-1-3', 'O', 'R-3-5', 'R-1-3', 'O', 'R-1-3', 'R-3-5', 'O', 'O', 'R-3-50', 'R-1-3', 'O', 'O', 'O', 'O', 'O', 'R-7-50', 'R-7-50', 'R-7-50', 'O', 'O', 'R-11-50', 'R-1-50', 'O', 'O', 'O', 'O', 'O', 'R-1-50', 'R-3-50', 'R-5-50', 'R-1-50', 'O', 'O', 'R-2-3', 'O', 'O', 'O', 'O', 'O', 'O', 'O', 'R-3-50', 'R-3-14', 'R-3-50', 'R-3-14', 'O', 'R-1-2', 'R-1-50', 'R-3-50', 'R-4-50', 'O', 'O', 'R-5B-50', 'R-11-50', 'R-11-13', 'R-13-14', 'R-1-2', 'R-2-3', 'R-2-3', 'R-1-50', 'O', 'O', 'R-1-4', 'R-4-7', 'R-4-7', 'O', 'O', 'O', 'R-7-50', 'O', 'O', 'O', 'O', 'O', 'R-1-50', 'R-3-50', 'O', 'O', 'O', 'O', 'O', 'O', 'R-14-50', 'R-6-14', 'R-7-50', 'O', 'O', 'R-7-50', 'O', 'O', 'O', 'O', 'O', 'O', 'O', 'O', 'O', 'O', 'O', 'R-4-3', 'R-5-5B', 'R-7-50', 'R-6-7', 'R-7-50', 'O', 'R-3-50', 'R-1-50', 'R-3-50', 'R-1-50', 'O', 'O', 'O', 'O', 'O', 'O', 'O', 'O', 'R-7-50', 'R-1-50', 'R-1-4', 'R-3-4', 'R-4-5', 'O', 'O', 'O', 'R-12-13', 'O', 'O', 'R-6-7', 'O', 'O', 'O', 'O', 'O', 'O', 'O', 'O', 'O', 'O', 'O', 'O', 'O', 'O', 'O', 'O', 'O', 'O', 'O', 'R-1-3', 'R-1-3', 'R-3-5', 'O', 'O', 'O', 'O', 'O', 'O', 'O', 'O', 'O', 'R-5-50', 'R-11-50', 'R-3-50', 'R-1-3', 'R-1-3', 'O', 'O', 'O', 'O', 'R-11-14', 'R-3-50', 'R-11-50', 'O', 'R-5-50', 'O', 'O', 'O', 'O', 'O', 'O', 'R-3-50', 'R-3-50', 'R-3-50', 'O', 'O', 'O', 'O', 'O', 'O', 'O', 'O', 'O', 'O', 'O', 'R-1-50', 'O', 'O', 'O', 'O', 'O', 'O', 'O', 'O', 'O', 'O', 'O', 'O', 'O', 'O', 'O', 'O', 'O', 'O', 'O', 'O', 'R-4-5', 'O', 'O', 'O', 'O', 'O', 'O', 'O', 'R-5-5B', 'R-4-5', 'R-3-4', 'R-4-14', 'R-11-14', 'R-11-12', 'R-12-13', 'R-13-14', 'R-13-14', 'O', 'R-3-5', 'R-3-4', 'O', 'O', 'O', 'R-7-50', 'O', 'O', 'O', 'O', 'O', 'O', 'O', 'R-3-5', 'R-3-50', 'O', 'O', 'R-3-50', 'R-3-50', 'O', 'R-1-3', 'R-1-3', 'O', 'O', 'O', 'O', 'O', 'O', 'R-1-2', 'O', 'O', 'O', 'O', 'R-1-3', 'O', 'R-4-50', 'R-6-50', 'O', 'R-7-50', 'O', 'R-6-50', 'R-7-50', 'O', 'O', 'O', 'O', 'O', 'O', 'O', 'R-3-1', 'O', 'O', 'O', 'O', 'R-6-7', 'O', 'O', 'O', 'O', 'O', 'O', 'O', 'O', 'O', 'O', 'O', 'R-3-50', 'R-5-50', 'R-3-50', 'R-5-50', 'O', 'O', 'O', 'O', 'O', 'O', 'O', 'O', 'O', 'O', 'O', 'R-1-50', 'R-3-50', 'O', 'O', 'O', 'O', 'O', 'O', 'O', 'O', 'R-6-7', 'O', 'R-7-50', 'O', 'O', 'O', 'O', 'O', 'O', 'R-1-50', 'O', 'O', 'O', 'R-11-50', 'O', 'R-11-12', 'R-12-13', 'R-13-14', 'R-13-14', 'O', 'O', 'O', 'O', 'O', 'R-1-5', 'R-5-50', 'R-5-50', 'O', 'O', 'O', 'O', 'O', 'O', 'R-4-50', 'O', 'R-1-50', 'R-7-50', 'R-5-50', 'O', 'R-1-2', 'O', 'O', 'O', 'O', 'O', 'O', 'R-4-5', 'O', 'O', 'O', 'O', 'O', 'O', 'O', 'O', 'O', 'O', 'O', 'O', 'O', 'O', 'R-11-13', 'R-11-12', 'R-12-13', 'R-13-50', 'O', 'O', 'R-3-4', 'R-4-14', 'R-4-14', 'R-14-50', 'R-14-50', 'O', 'O', 'O', 'O', 'O', 'O', 'R-1-50', 'O', 'R-1-50', 'O', 'O', 'O', 'O', 'R-1-3', 'R-3-50', 'O', 'O', 'R-3-7', 'R-7-50', 'O', 'O', 'O', 'O', 'O', 'O', 'O', 'R-7-50', 'O', 'O', 'O', 'O', 'O', 'O', 'O', 'O', 'O', 'O', 'R-1-3', 'R-3-4', 'O', 'R-5-7', 'R-5-7', 'R-7-50', 'R-7-50', 'O', 'O', 'O', 'O', 'R-3-6', 'R-13-6', 'R-3-7', 'R-13-7', 'R-7-50', 'R-7-50', 'R-1-3', 'R-1-3', 'R-6-50', 'R-3-4', 'R-4-6', 'R-6-7', 'R-7-50', 'O', 'R-1-3', 'R-3-4', 'R-4-14', 'R-7-50', 'R-6-7', 'R-3-50', 'R-1-50', 'O', 'O', 'O', 'O', 'O', 'O', 'O', 'O', 'O', 'O', 'R-5B-5', 'O', 'O', 'O', 'O', 'O', 'O', 'O', 'O', 'O', 'O', 'O', 'O', 'R-2-3', 'O', 'O', 'O', 'R-11-13', 'R-11-12', 'R-12-13', 'R-13-14', 'O', 'O', 'O', 'O', 'O', 'O', 'O', 'O', 'R-1-50', 'O', 'O', 'R-1-3', 'R-3-4', 'O', 'O', 'O', 'O', 'O', 'R-7-50', 'R-4-50', 'O', 'O', 'O', 'R-3-50', 'R-1-50', 'R-1-3', 'O', 'O', 'O', 'O', 'O', 'O', 'O', 'O', 'O', 'O', 'O', 'O', 'R-3-50', 'O', 'O', 'R-4-50', 'R-3-50', 'R-4-50', 'O', 'O', 'O', 'R-7-50', 'O', 'O', 'O', 'O', 'O', 'O', 'O', 'R-3-4', 'R-4-50', 'R-11-13', 'R-13-50', 'R-13-50', 'O', 'R-7-50', 'R-7-50', 'R-7-50', 'R-6-14', 'R-14-50', 'R-14-50', 'O', 'O', 'O', 'R-3-50', 'O', 'R-1-5', 'O', 'R-1-2', 'R-4-5', 'O', 'O', 'O', 'O', 'O', 'R-3-50', 'R-11-50', 'R-13-50', 'O', 'R-3-5', 'O', 'R-11-13', 'O', 'R-11-13', 'O', 'O', 'O', 'O', 'O', 'O', 'O', 'O', 'O', 'R-6-50', 'O', 'O', 'O', 'O', 'O', 'O', 'O', 'O', 'O', 'O', 'O', 'O', 'O', 'O', 'O', 'O', 'O', 'O', 'O', 'O', 'O', 'O', 'O', 'O', 'O', 'O', 'R-3-50', 'R-3-5', 'R-4-14', 'R-13-50', 'R-14-50', 'R-13-14', 'R-6-50', 'R-6-7', 'O', 'R-3-50', 'R-1-3', 'R-3-50', 'R-3-5', 'R-5-7', 'R-7-50', 'R-3-50', 'R-6-50', 'R-3-50', 'R-1-50', 'O', 'O', 'O', 'O', 'O', 'R-1-6', 'R-1-6', 'R-6-50', 'R-3-50', 'O', 'R-3-6', 'O', 'O', 'O', 'O', 'O', 'R-1-50', 'R-1-50', 'R-7-50', 'O', 'O', 'O', 'R-5B-5', 'O', 'O', 'O', 'O', 'O', 'O', 'O', 'O', 'O', 'O', 'R-2-3', 'O', 'O', 'O', 'O', 'O', 'O', 'O', 'O', 'O', 'R-7-50', 'R-6-50', 'R-6-50', 'R-6-7', 'O', 'O', 'O', 'O', 'O', 'O', 'O', 'O', 'O', 'O', 'R-3-5', 'O', 'O', 'O', 'O', 'O', 'O', 'O', 'R-3-50', 'R-1-50', 'O', 'O', 'O', 'O', 'O', 'O', 'O', 'O', 'R-4-50', 'O', 'O', 'R-4-14', 'O', 'O', 'R-11-12', 'R-12-13', 'R-13-14', 'O', 'O', 'O', 'O', 'O', 'O', 'O', 'O', 'O', 'R-14-50', 'R-6-14', 'R-7-50', 'R-3-50', 'O', 'R-1-50', 'R-1-2', 'R-1-2', 'O', 'R-1-3', 'R-1-3', 'R-3-50', 'R-3-50', 'O', 'R-3-4', 'O', 'R-1-3', 'R-3-6', 'R-3-6', 'R-6-7', 'R-7-50', 'O', 'O', 'O', 'O', 'R-14-50', 'R-6-14', 'R-7-50', 'O', 'O', 'O', 'O', 'O', 'O', 'R-1-2', 'O', 'O', 'O', 'O', 'O', 'O', 'O', 'O', 'O', 'O', 'R-2-3', 'O', 'O', 'O', 'R-7-50', 'R-7-50', 'O', 'O', 'O', 'O', 'O', 'O', 'O', 'O', 'O', 'O', 'O', 'O', 'O', 'O', 'O', 'O', 'O', 'O', 'O', 'R-7-50', 'O', 'O', 'O', 'O', 'O', 'O', 'O', 'O', 'O', 'O', 'R-5-50', 'O', 'O', 'O', 'O', 'O', 'O', 'O', 'O', 'O', 'O', 'R-11-50', 'R-1-50', 'R-1-50', 'R-11-50', 'O', 'O', 'R-5B-7', 'O', 'O', 'O', 'O', 'R-7-50', 'O', 'O', 'O', 'R-13-50', 'R-1-50', 'O', 'O', 'O', 'O', 'O', 'O', 'O', 'O', 'O', 'O', 'R-3-50', 'O', 'R-3-50', 'O', 'O', 'O', 'O', 'O', 'O', 'O', 'R-1-3', 'O', 'O', 'R-4-5', 'O', 'O', 'O', 'R-6-7', 'O', 'O', 'O', 'O', 'O', 'O', 'O', 'O', 'R-7-50', 'O', 'R-1-2', 'R-1-3', 'O', 'O', 'O', 'O', 'R-7-50', 'R-6-7', 'R-1-50', 'R-13-50', 'O', 'O', 'O', 'O', 'R-7-50', 'O', 'O', 'O', 'O', 'O', 'O', 'O', 'O', 'O', 'O', 'R-7-50', 'O', 'O', 'O', 'R-3-4', 'R-4-14', 'R-13-14', 'O', 'R-6-14', 'R-14-50', 'R-14-50', 'O', 'O', 'O', 'O', 'O', 'O', 'R-6-50', 'O', 'O', 'O', 'R-3-50', 'R-1-50', 'R-3-50', 'R-1-50', 'R-3-1', 'O', 'R-3-50', 'R-1-50', 'R-7-50', 'R-3-7', 'O', 'R-1-3', 'O', 'O', 'R-3-50', 'R-1-50', 'O', 'R-1-50', 'R-4-50', 'O', 'R-3-50', 'R-2-3', 'R-3-50', 'R-4-50', 'R-4-5', 'O', 'R-13-50', 'R-11-13', 'R-11-12', 'R-12-13', 'R-13-14', 'O', 'O', 'R-3-5', 'O', 'O', 'R-3-50', 'R-4-50', 'O', 'O', 'R-1-50', 'R-3-50', 'R-1-2', 'O', 'O', 'O', 'R-3-5', 'R-2-3', 'O', 'O', 'O', 'R-3-7', 'R-1-3', 'R-1-50', 'R-3-50', 'R-3-5', 'O', 'O', 'O', 'O', 'O', 'O', 'O', 'O', 'O', 'O', 'O', 'O', 'R-4-50', 'R-3-5', 'O', 'O', 'O', 'R-14-50', 'R-6-14', 'O', 'R-13-50', 'R-7-50', 'R-11-50', 'O', 'R-13-50', 'R-7-50', 'R-11-50', 'R-6-7', 'O', 'O', 'O', 'O', 'O', 'R-6-7', 'R-4-50', 'R-3-50', 'O', 'O', 'R-7-50', 'R-5B-14', 'R-1-50', 'R-1-6', 'R-1-6', 'R-1-3', 'R-1-50', 'R-1-2', 'R-1-3', 'R-2-4', 'R-2-7', 'R-2-7', 'R-2-4', 'R-3-1', 'R-1-50', 'R-1-50', 'R-1-3', 'R-3-50', 'O', 'R-7-50', 'O', 'O', 'R-3-50', 'R-11-50', 'R-1-50', 'O', 'O', 'O', 'O', 'O', 'O', 'R-1-50', 'O', 'O', 'R-3-1', 'R-1-3', 'O', 'O', 'O', 'R-11-14', 'R-11-14', 'O', 'R-13-14', 'O', 'O', 'O', 'O', 'O', 'O', 'R-6-50', 'R-1-50', 'R-11-50', 'O', 'O', 'O', 'O', 'O', 'R-1-50', 'R-1-3', 'O', 'O', 'O', 'R-7-50', 'R-7-5B', 'R-5B-50', 'O', 'O', 'R-3-50', 'R-3-50', 'R-50-7', 'O', 'O', 'R-7-50', 'R-50-7', 'R-50-1', 'R-1-3', 'R-3-50', 'O', 'O', 'O', 'O', 'O', 'O', 'R-3-5', 'O', 'O', 'O', 'O', 'O', 'R-3-4', 'R-4-14', 'R-4-5', 'O', 'O', 'O', 'O', 'R-7-50', 'O', 'O', 'R-13-14', 'R-11-14', 'R-3-14', 'R-4-14', 'O', 'R-6-7', 'O', 'O', 'O', 'R-3-50', 'R-1-50', 'R-1-50', 'R-3-50', 'R-4-14', 'R-11-50', 'R-11-12', 'R-12-14', 'R-1-50', 'R-3-50', 'O', 'R-6-50', 'R-3-50', 'O', 'R-3-50', 'R-2-6', 'R-3-50', 'R-1-50', 'O', 'R-5-7', 'R-1-50', 'R-3-4', 'R-4-13', 'R-5-5B', 'R-11-12', 'R-12-13', 'R-6-50', 'R-7-50', 'O', 'R-7-50', 'O', 'O', 'O', 'O', 'O', 'O', 'O', 'O', 'O', 'O', 'O', 'O', 'R-3-4', 'O', 'O', 'O', 'O', 'O', 'O', 'O', 'O', 'R-7-50', 'R-1-50', 'R-5-50', 'R-1-50', 'O', 'O', 'O', 'R-2-3', 'O', 'O', 'R-4-5', 'O', 'R-5-5B', 'R-7-50', 'R-5-7', 'O', 'O', 'O', 'O', 'R-1-3', 'R-3-4', 'R-4-14', 'R-4-14', 'R-1-3', 'R-3-50', 'R-3-50', 'R-3-50', 'R-3-5', 'O', 'O', 'R-11-13', 'R-11-12', 'R-12-13', 'R-13-14', 'R-13-14', 'R-4-50', 'O', 'R-1-50', 'O', 'O', 'O', 'O', 'O', 'R-2-3', 'R-3-50', 'R-3-50', 'O', 'O', 'R-3-4', 'O', 'O', 'R-11-13', 'R-11-12', 'R-12-13', 'R-13-50', 'O', 'O', 'O', 'O', 'O', 'O', 'O', 'O', 'O', 'O', 'R-1-50', 'R-1-2', 'O', 'O', 'O', 'O', 'R-3-50', 'O', 'O', 'O', 'O', 'R-6-7', 'R-7-50', 'R-7-50', 'R-3-4', 'R-4-14', 'R-4-14', 'R-11-13', 'R-11-12', 'O', 'O', 'O', 'O', 'O', 'O', 'O', 'O', 'R-6-50', 'R-6-14', 'R-7-50', 'R-7-50', 'O', 'R-1-50', 'R-3-50', 'O', 'R-1-3', 'R-3-50', 'R-1-50', 'R-3-50', 'R-3-50', 'R-6-50', 'R-6-50', 'R-6-7', 'R-1-50', 'R-3-50', 'R-3-50', 'R-3-50', 'R-3-50', 'O', 'R-3-4', 'R-4-5', 'R-7-50', 'O', 'R-3-4', 'O', 'R-7-50', 'R-3-7', 'R-1-3', 'R-1-3', 'R-3-4', 'R-3-4', 'R-4-5', 'R-5-7', 'R-5-7', 'R-7-50', 'O', 'O', 'O', 'O', 'O', 'O', 'O', 'O', 'O', 'O', 'R-3-50', 'R-1-50', 'O', 'O', 'R-1-50', 'R-11-1', 'R-11-1', 'R-11-3', 'O', 'R-3-7', 'R-4-7', 'R-11-12', 'O', 'O', 'R-6-7', 'O', 'O', 'O', 'O', 'O', 'O', 'O', 'O', 'O', 'O', 'O', 'O', 'O', 'O', 'O', 'O', 'O', 'O', 'O', 'R-7-50', 'O', 'O', 'R-7-50', 'R-11-13', 'O', 'R-1-50', 'O', 'R-1-50', 'R-1-50', 'R-1-50', 'O', 'O', 'O', 'O', 'O', 'O', 'O', 'R-12-14', 'R-6-7', 'R-7-50', 'O', 'R-1-50', 'R-3-50', 'R-1-50', 'R-2-3', 'O', 'O', 'O', 'O', 'O', 'O', 'O', 'O', 'O', 'R-1-50', 'R-1-50', 'R-1-3', 'R-1-3', 'R-3-4', 'R-3-14', 'R-4-14', 'O', 'O', 'R-11-13', 'O', 'R-4-50', 'O', 'O', 'O', 'O', 'O', 'O', 'O', 'O', 'O', 'O', 'O', 'O', 'O', 'O', 'O', 'O', 'O', 'O', 'R-7-50', 'O', 'O', 'R-1-50', 'R-3-50', 'O', 'O', 'R-14-50', 'R-6-14', 'R-14-50', 'R-6-14', 'O', 'O', 'O', 'O', 'O', 'O', 'O', 'R-3-13', 'R-3-13', 'O', 'O', 'O', 'O', 'O', 'O', 'O', 'O', 'O', 'O', 'O', 'R-4-5B', 'O', 'O', 'O', 'R-13-50', 'O', 'R-11-13', 'R-11-12', 'R-12-13', 'R-12-13', 'R-13-14', 'O', 'O', 'O', 'O', 'O', 'O', 'O', 'R-3-50', 'R-1-50', 'R-3-50', 'O', 'O', 'O', 'R-7-50', 'O', 'O', 'O', 'O', 'O', 'O', 'O', 'O', 'O', 'O', 'O', 'O', 'O', 'O', 'O', 'O', 'R-6-7', 'R-7-50', 'R-7-50', 'O', 'R-1-50', 'R-1-3', 'R-3-50', 'O', 'O', 'R-11-50', 'R-11-12', 'R-11-13', 'R-11-12', 'O', 'O', 'O', 'O', 'O', 'O', 'O', 'O', 'R-1-3', 'R-1-50', 'R-3-50', 'O', 'O', 'O', 'O', 'O', 'R-3-4', 'O', 'O', 'O', 'R-6-7', 'R-7-50', 'O', 'O', 'O', 'O', 'R-1-2', 'R-2-3', 'R-3-4', 'R-4-5', 'O', 'O', 'O', 'O', 'O', 'O', 'O', 'O', 'O', 'O', 'O', 'R-3-5', 'O', 'O', 'O', 'R-14-50', 'R-6-14', 'O', 'O', 'O', 'O', 'O', 'O', 'O', 'O', 'O', 'R-11-50', 'R-11-12', 'R-12-13', 'O', 'R-1-50', 'O', 'R-13-50', 'R-3-50', 'R-4-50', 'R-13-50', 'R-11-13', 'R-13-14', 'O', 'O', 'R-3-5', 'R-3-4', 'R-4-14', 'O', 'O', 'R-11-13', 'R-3-13', 'R-13-50', 'O', 'O', 'R-14-50', 'R-6-14', 'R-1-50', 'O', 'O', 'O', 'O', 'O', 'O', 'O', 'O', 'O', 'R-6-14', 'O', 'O', 'O', 'R-1-2', 'O', 'O', 'O', 'O', 'O', 'O', 'O', 'O', 'O', 'O', 'O', 'R-11-50', 'R-4-50', 'R-3-50', 'R-3-50', 'R-4-50', 'O', 'O', 'O', 'R-1-50', 'O', 'O', 'O', 'O', 'R-6-7', 'O', 'O', 'O', 'R-1-2', 'R-1-2', 'R-3-50', 'R-3-6', 'O', 'O', 'O', 'O', 'O', 'O', 'R-5-5B', 'O', 'R-12-13', 'O', 'R-11-13', 'R-13-14', 'R-7-50', 'O', 'O', 'O', 'O', 'O', 'R-3-50', 'R-3-7', 'R-7-50', 'O', 'O', 'O', 'O', 'O', 'O', 'O', 'O', 'O', 'O', 'O', 'O', 'O', 'O', 'O', 'O', 'O', 'O', 'R-6-7', 'O', 'O', 'O', 'O', 'O', 'O', 'R-7-50', 'O', 'O', 'R-5-5B', 'O', 'O', 'O', 'O', 'O', 'R-7-50', 'O', 'R-6-50', 'O', 'O', 'O', 'O', 'O', 'O', 'O', 'O', 'O', 'O', 'O', 'O', 'O', 'O', 'O', 'O', 'R-4-14', 'R-11-14', 'O', 'O', 'O', 'O', 'O', 'O', 'O', 'R-1-50', 'O', 'O', 'O', 'O', 'R-1-50', 'R-1-50', 'R-1-3', 'R-3-50', 'O', 'O', 'O', 'O', 'O', 'O', 'O', 'O', 'O', 'O', 'R-7-50', 'R-7-50', 'O', 'O', 'O', 'R-1-50', 'R-1-3', 'R-1-2', 'O', 'O', 'O', 'R-5-50', 'R-6-7', 'R-7-50', 'O', 'O', 'O', 'O', 'O', 'O', 'O', 'R-5-5B', 'R-1-2', 'O', 'O', 'O', 'R-3-4', 'R-4-50', 'R-4-50', 'R-13-14', 'O', 'O', 'O', 'O', 'O', 'O', 'O', 'O', 'O', 'O', 'O', 'O', 'O', 'R-3-50', 'R-1-50', 'O', 'R-6-14', 'O', 'O', 'R-7-50', 'R-3-50', 'O', 'R-3-5', 'R-5-7', 'O', 'O', 'O', 'O', 'O', 'R-6-7', 'O', 'O', 'R-2-3', 'R-3-50', 'O', 'O', 'O', 'O', 'O', 'O', 'O', 'O', 'R-1-3', 'R-3-50', 'R-7-50', 'O', 'O', 'R-7-50', 'O', 'R-5-7', 'R-7-50', 'R-3-7', 'R-3-5', 'O', 'R-7-50', 'O', 'O', 'R-14-50', 'R-6-14', 'O', 'R-6-7', 'O', 'O', 'R-11-12', 'R-12-13', 'R-13-14', 'R-13-14', 'O', 'O', 'R-11-50', 'O', 'R-11-50', 'R-11-13', 'O', 'R-7-50', 'O', 'O', 'R-4-14', 'O', 'R-3-50', 'R-3-50', 'R-3-50', 'O', 'O', 'O', 'O', 'O', 'O', 'O', 'O', 'O', 'O', 'O', 'O', 'O', 'R-5B-7', 'O', 'O', 'O', 'O', 'O', 'O', 'O', 'R-1-50', 'R-1-2', 'O', 'O', 'O', 'O', 'O', 'R-6-50', 'O', 'R-6-7', 'R-7-50', 'R-7-50', 'O', 'O', 'O', 'O', 'O', 'R-13-50', 'R-1-50', 'O', 'R-7-50', 'O', 'O', 'O', 'O', 'O', 'O', 'O', 'O', 'O', 'O', 'R-3-50', 'R-1-2', 'R-1-2', 'O', 'O', 'O', 'O', 'R-3-4', 'R-4-14', 'R-4-14', 'O', 'O', 'R-11-12', 'R-12-13', 'R-13-14', 'R-13-14', 'O', 'O', 'R-7-50', 'O', 'O', 'R-14-50', 'R-6-14', 'R-7-50', 'O', 'O', 'O', 'O', 'O', 'R-1-3', 'O', 'O', 'O', 'O', 'O', 'O', 'O', 'O', 'O', 'O', 'R-1-50', 'R-13-50', 'R-1-50', 'R-13-50', 'O', 'O', 'O', 'O', 'R-4-50', 'O', 'R-5-50', 'R-5-3', 'R-1-3', 'O', 'R-6-14', 'O', 'R-6-7', 'R-7-50', 'O', 'O', 'O', 'O', 'O', 'O', 'O', 'O', 'O', 'O', 'O', 'O', 'O', 'O', 'R-3-5', 'R-4-14', 'R-11-14', 'R-11-14', 'O', 'O', 'O', 'O', 'R-5B-50', 'O', 'O', 'O', 'O', 'O', 'O', 'O', 'O', 'R-3-50', 'O', 'O', 'O', 'R-1-50', 'R-2-3', 'O', 'R-1-50', 'O', 'O', 'R-3-5', 'O', 'O', 'R-3-5', 'R-4-14', 'O', 'O', 'O', 'O', 'O', 'O', 'O', 'R-5B-50', 'R-5B-50', 'O', 'O', 'O', 'R-1-2', 'O', 'O', 'O', 'O', 'O', 'R-2-3', 'O', 'O', 'O', 'R-5-5B', 'O', 'O', 'R-4-5', 'O', 'R-4-50', 'R-3-5', 'R-1-50', 'R-4-14', 'R-3-4', 'R-7-50', 'R-6-50', 'R-6-50', 'O', 'O', 'O', 'O', 'O', 'R-6-14', 'O', 'O', 'O', 'R-7-50', 'O', 'R-13-14', 'O', 'O', 'R-7-50', 'R-1-50', 'O', 'R-3-50', 'O', 'O', 'O', 'O', 'O', 'O', 'R-7-50', 'O', 'O', 'R-1-2', 'O', 'O', 'O', 'O', 'O', 'O', 'O', 'O', 'O', 'O', 'O', 'O', 'R-5-5B', 'O', 'O', 'O', 'O', 'O', 'O', 'O', 'R-13-50', 'R-3-50', 'O', 'R-1-50', 'R-1-50', 'O', 'O', 'R-6-7', 'O', 'O', 'O', 'R-7-50', 'R-7-50', 'R-2-50', 'R-1-50', 'O', 'R-3-4', 'O', 'O', 'O', 'O', 'O', 'O', 'O', 'O', 'O', 'O', 'O', 'R-4-5', 'O', 'O', 'O', 'O', 'O', 'O', 'O', 'O', 'O', 'O', 'O', 'O', 'O', 'O', 'O', 'R-3-50', 'R-7-50', 'R-1-3', 'R-3-4', 'R-4-14', 'O', 'R-7-50', 'O', 'R-5-5B', 'R-5B-14', 'O', 'R-11-13', 'R-13-14', 'R-14-50', 'O', 'O', 'R-14-50', 'R-6-14', 'O', 'O', 'O', 'O', 'R-4-50', 'O', 'O', 'O', 'O', 'O', 'O', 'O', 'O', 'R-11-14', 'O', 'R-13-14', 'O', 'O', 'O', 'O', 'O', 'R-7-50', 'O', 'R-1-50', 'R-1-50', 'R-3-50', 'R-13-50', 'R-11-12', 'R-12-13', 'R-13-50', 'R-3-50', 'R-5-5B', 'O', 'R-7-50', 'R-7-5B', 'R-5B-50', 'O', 'O', 'O', 'O', 'O', 'O', 'O', 'R-7-50', 'O', 'O', 'R-1-2', 'O', 'O', 'O', 'O', 'O', 'O', 'O', 'O', 'O', 'O', 'O', 'O', 'O', 'R-13-14', 'R-13-50', 'O', 'O', 'R-3-4', 'R-4-14', 'R-4-14', 'O', 'O', 'R-6-50', 'O', 'R-6-7', 'O', 'O', 'O', 'O', 'O', 'O', 'O', 'R-3-50', 'O', 'R-3-50', 'O', 'O', 'O', 'O', 'O', 'O', 'R-1-50', 'R-1-50', 'O', 'R-1-50', 'R-1-3', 'R-3-50', 'O', 'R-11-50', 'O', 'R-11-13', 'R-13-14', 'O', 'O', 'O', 'O', 'R-6-7', 'R-7-50', 'O', 'O', 'O', 'R-7-50', 'O', 'O', 'O', 'O', 'O', 'O', 'O', 'R-4-5', 'O', 'O', 'O', 'O', 'O', 'O', 'R-6-50', 'R-6-7', 'R-7-50', 'R-6-50', 'R-7-50', 'O', 'O', 'O', 'R-4-50', 'R-50-1', 'O', 'O', 'O', 'O', 'O', 'O', 'R-1-50', 'O', 'O', 'O', 'O', 'R-13-50', 'R-3-50', 'R-1-3', 'R-1-3', 'R-3-5', 'R-13-50', 'O', 'R-11-12', 'R-12-13', 'R-13-50', 'R-13-50', 'O', 'O', 'R-1-50', 'R-3-50', 'O', 'O', 'O', 'O', 'O', 'R-7-50', 'O', 'O', 'O', 'O', 'O', 'O', 'R-3-5', 'O', 'R-11-13', 'R-11-12', 'R-12-13', 'O', 'O', 'O', 'R-1-50', 'R-3-50', 'R-1-3', 'R-1-3', 'R-3-50', 'R-1-50', 'R-13-50', 'R-12-13', 'O', 'O', 'O', 'O', 'O', 'O', 'O', 'O', 'O', 'O', 'O', 'R-1-3', 'R-1-3', 'O', 'O', 'O', 'R-3-4', 'R-4-14', 'O', 'O', 'R-11-50', 'R-7-50', 'O', 'O', 'O', 'O', 'R-7-50', 'R-1-50', 'R-3-50', 'R-5-50', 'R-7-50', 'R-1-50', 'R-3-50', 'R-5-50', 'R-11-50', 'R-11-50', 'R-13-50', 'R-12-13', 'O', 'R-6-7', 'R-7-50', 'R-13-50', 'R-7-50', 'O', 'O', 'O', 'O', 'O', 'O', 'R-11-50', 'O', 'O', 'O', 'O', 'R-1-50', 'R-1-3', 'O', 'R-1-3', 'R-3-4', 'O', 'O', 'O', 'O', 'O', 'R-6-7', 'O', 'R-1-50', 'R-11-50', 'O', 'O', 'O', 'O', 'O', 'O', 'O', 'O', 'O', 'O', 'O', 'O', 'O', 'R-11-13', 'R-11-12', 'R-12-13', 'R-13-14', 'R-14-50', 'R-4-50', 'R-4-5', 'R-4-5', 'O', 'R-4-50', 'R-5B-5', 'R-1-50', 'O', 'R-1-2', 'O', 'O', 'O', 'O', 'R-14-50', 'O', 'R-1-50', 'R-1-50', 'R-3-50', 'R-1-50', 'R-3-50', 'R-1-50', 'O', 'O', 'O', 'R-1-3', 'R-3-5', 'R-5-5B', 'R-5-5B', 'R-5B-50', 'O', 'R-5-50', 'O', 'O', 'O', 'R-3-5', 'O', 'R-14-50', 'R-6-14', 'R-7-50', 'O', 'O', 'O', 'O', 'O', 'O', 'O', 'O', 'R-7-50', 'O', 'R-7-50', 'O', 'R-1-50', 'R-1-50', 'O', 'R-1-2', 'R-3-5', 'R-1-3', 'R-3-50', 'R-1-6', 'R-6-7', 'R-7-50', 'R-13-50', 'R-11-13', 'R-11-12', 'R-12-13', 'O', 'O', 'R-6-7', 'R-7-50', 'O', 'O', 'O', 'O', 'O', 'R-4-50', 'O', 'R-4-5', 'R-3-14', 'R-4-14', 'R-4-50', 'O', 'O', 'O', 'O', 'O', 'O', 'O', 'R-7-50', 'O', 'R-6-7', 'O', 'R-1-50', 'O', 'R-4-14', 'R-6-7', 'R-7-50', 'R-4-50', 'R-1-50', 'O', 'O', 'O', 'R-7-50', 'R-6-50', 'R-6-50', 'O', 'O', 'O', 'O', 'O', 'R-7-50', 'R-1-3', 'R-3-50', 'R-1-3', 'R-3-50', 'O', 'O', 'R-11-3', 'R-3-6', 'R-6-7', 'O', 'O', 'R-6-50', 'R-6-7', 'O', 'O', 'O', 'O', 'R-6-7', 'O', 'R-6-50', 'R-5-50', 'O', 'O', 'O', 'O', 'O', 'O', 'R-11-12', 'O', 'O', 'O', 'R-11-12', 'R-13-12', 'O', 'O', 'O', 'O', 'O', 'O', 'O', 'O', 'O', 'O', 'O', 'R-7-50', 'O', 'O', 'O', 'O', 'O', 'O', 'O', 'O', 'O', 'R-14-50', 'R-6-14', 'R-6-50', 'R-7-50', 'R-1-3', 'O', 'O', 'O', 'O', 'R-1-50', 'R-1-50', 'R-3-5', 'R-1-3', 'R-3-14', 'R-7-50', 'O', 'O', 'O', 'O', 'O', 'O', 'O', 'O', 'O', 'O', 'O', 'O', 'O', 'O', 'O', 'O', 'O', 'R-1-2', 'R-1-2', 'R-2-3', 'R-1-3', 'R-3-5', 'R-1-3', 'R-14-50', 'R-6-14', 'R-7-50', 'R-6-7', 'R-3-7', 'R-1-3', 'R-7-50', 'R-1-50', 'R-1-2', 'O', 'O', 'O', 'O', 'O', 'R-3-5', 'R-5-5B', 'O', 'O', 'O', 'O', 'R-1-50', 'R-3-50', 'O', 'O', 'R-4-50', 'O', 'O', 'R-7-50', 'O', 'O', 'O', 'O', 'O', 'O', 'O', 'O', 'R-1-2', 'O', 'O', 'O', 'O', 'O', 'O', 'O', 'O', 'O', 'R-2-3', 'O', 'O', 'O', 'R-1-50', 'R-11-50', 'R-1-3', 'O', 'R-11-50', 'R-11-13', 'R-12-13', 'O', 'O', 'O', 'O', 'R-11-50', 'R-1-50', 'O', 'O', 'O', 'O', 'O', 'O', 'R-7-50', 'R-1-50', 'R-1-3', 'R-1-3', 'O', 'O', 'R-1-3', 'R-3-50', 'O', 'O', 'O', 'O', 'O', 'O', 'O', 'O', 'O', 'O', 'O', 'O', 'O', 'O', 'O', 'O', 'O', 'O', 'O', 'O', 'O', 'R-1-2', 'O', 'O', 'O', 'O', 'O', 'R-1-50', 'R-1-50', 'R-1-3', 'R-3-4', 'R-4-14', 'R-3-50', 'R-4-11', 'R-11-13', 'O', 'R-4-5', 'R-4-5', 'O', 'R-4-14', 'O', 'O', 'O', 'O', 'O', 'O', 'R-5B-50', 'O', 'O', 'R-1-2', 'R-1-3', 'R-1-50', 'R-3-50', 'O', 'O', 'O', 'O', 'O', 'O', 'O', 'O', 'O', 'O', 'O', 'O', 'O', 'O', 'O', 'O', 'O', 'R-1-2', 'R-3-50', 'R-3-50', 'R-7-50', 'O', 'O', 'O', 'O', 'O', 'R-1-50', 'O', 'O', 'O', 'O', 'R-1-50', 'O', 'O', 'R-1-3', 'R-1-50', 'R-3-50', 'R-13-50', 'O', 'R-1-3', 'R-3-5', 'R-11-13', 'O', 'O', 'R-2-50', 'R-3-50', 'R-1-50', 'R-11-4', 'R-3-4', 'R-13-14', 'R-3-50', 'R-3-5', 'R-1-2', 'O', 'O', 'O', 'R-1-3', 'R-4-50', 'R-4-5B', 'O', 'R-6-50', 'R-6-50', 'R-7-50', 'O', 'O', 'O', 'O', 'O', 'R-1-50', 'R-2-1', 'R-1-2', 'O', 'R-1-3', 'O', 'O', 'R-1-50', 'R-3-4', 'O', 'O', 'R-6-50', 'R-6-50', 'R-6-5B', 'O', 'O', 'O', 'O', 'O', 'O', 'R-4-5', 'O', 'O', 'R-4-5', 'R-1-2', 'R-1-2', 'O', 'O', 'O', 'O', 'O', 'O', 'O', 'R-1-50', 'R-1-50', 'R-1-3', 'R-1-3', 'O', 'O', 'O', 'O', 'O', 'O', 'O', 'O', 'O', 'R-3-50', 'R-7-50', 'R-11-14', 'O', 'O', 'O', 'O', 'R-7-50', 'R-7-50', 'O', 'O', 'O', 'R-13-14', 'R-11-13', 'R-12-13', 'O', 'O', 'O', 'R-5B-50', 'R-5B-50', 'O', 'O', 'O', 'R-4-5B', 'R-5B-7', 'R-7-50', 'R-1-4', 'R-1-3', 'R-3-4', 'R-1-3', 'O', 'R-11-12', 'R-11-13', 'R-12-50', 'R-13-50', 'R-13-4', 'O', 'R-12-50', 'R-13-50', 'R-1-50', 'R-3-50', 'O', 'O', 'R-1-2', 'O', 'R-1-3', 'O', 'O', 'O', 'O', 'O', 'O', 'O', 'O', 'R-11-50', 'R-1-50', 'R-3-50', 'R-1-3', 'R-3-50', 'R-1-2', 'R-1-50', 'R-5-50', 'R-1-50', 'R-1-2', 'R-1-2', 'O', 'R-1-50', 'R-1-3', 'R-3-7', 'R-3-7', 'O', 'R-3-4', 'R-3-5B', 'O', 'O', 'O', 'O', 'R-14-50', 'R-6-14', 'O', 'O', 'O', 'O', 'O', 'O', 'O', 'O', 'R-1-7', 'R-7-50', 'O', 'R-11-50', 'R-1-50', 'R-11-4', 'R-7-50', 'R-7-50', 'R-6-7', 'R-7-50', 'O', 'O', 'O', 'O', 'O', 'O', 'O', 'O', 'R-4-5', 'O', 'O', 'O', 'O', 'O', 'R-1-50', 'O', 'R-1-2', 'R-1-50', 'R-3-4', 'R-5-5B', 'O', 'O', 'O', 'O', 'O', 'R-1-2', 'R-1-4', 'R-1-4', 'R-4-14', 'R-14-50', 'R-4-14', 'O', 'R-14-7', 'R-7-50', 'R-7-50', 'R-14-50', 'R-7-50', 'R-7-50', 'O', 'O', 'O', 'R-1-3', 'O', 'O', 'O', 'O', 'O', 'O', 'O', 'O', 'R-1-50', 'R-1-13', 'R-13-50', 'R-1-2', 'R-13-50', 'O', 'O', 'R-1-50', 'R-4-50', 'R-13-50', 'O', 'R-1-3', 'R-3-4', 'R-4-14', 'O', 'O', 'R-11-13', 'O', 'O', 'R-5B-5', 'O', 'O', 'O', 'O', 'O', 'O', 'R-3-50', 'R-1-3', 'O', 'R-3-50', 'O', 'O', 'O', 'R-1-50', 'O', 'O', 'O', 'O', 'O', 'O', 'R-11-12', 'R-12-13', 'R-13-14', 'R-13-14', 'R-5B-14', 'R-5B-14', 'R-5B-50', 'R-5B-50', 'O', 'O', 'O', 'O', 'R-6-7', 'O', 'O', 'O', 'O', 'R-7-50', 'R-7-50', 'O', 'O', 'O', 'O', 'O', 'O', 'O', 'O', 'O', 'R-3-5', 'O', 'R-11-12', 'R-12-14', 'R-12-13', 'R-12-13', 'R-12-14', 'O', 'O', 'O', 'O', 'O', 'O', 'O', 'R-7-50', 'O', 'O', 'O', 'O', 'O', 'O', 'O', 'O', 'O', 'O', 'O', 'R-3-5', 'R-2-3', 'O', 'O', 'R-3-5', 'R-5-50', 'R-5B-50', 'O', 'O', 'O', 'O', 'O', 'O', 'O', 'O', 'O', 'O', 'O', 'R-7-50', 'O', 'O', 'O', 'O', 'O', 'O', 'O', 'O', 'O', 'O', 'O', 'R-3-50', 'R-1-2', 'O', 'R-6-7', 'R-7-50', 'O', 'O', 'O', 'O', 'R-11-13', 'R-11-50', 'O', 'O', 'O', 'O', 'O', 'O', 'O', 'O', 'R-3-50', 'O', 'R-3-50', 'O', 'O', 'O', 'R-1-50', 'R-50-50', 'O', 'O', 'O', 'R-1-50', 'R-1-3', 'R-1-3', 'R-3-7', 'R-7-50', 'O', 'O', 'R-7-50', 'R-6-7', 'O', 'R-1-2', 'R-3-4', 'R-4-5', 'R-5-14', 'R-5-14', 'R-13-14', 'R-6-7', 'R-1-3', 'R-3-50', 'R-3-4', 'O', 'O', 'O', 'O', 'O', 'R-7-50', 'O', 'O', 'O', 'R-14-6', 'R-14-6', 'O', 'O', 'O', 'O', 'O', 'O', 'O', 'O', 'O', 'R-1-3', 'O', 'O', 'O', 'R-1-3', 'R-3-50', 'O', 'O', 'O', 'O', 'O', 'R-3-5', 'O', 'O', 'O', 'O', 'O', 'O', 'O', 'O', 'O', 'O', 'O', 'O', 'O', 'O', 'O', 'R-11-13', 'R-11-3', 'R-11-50', 'R-11-14', 'R-3-4', 'R-4-14', 'O', 'O', 'O', 'O', 'O', 'O', 'O', 'O', 'R-1-50', 'R-1-3', 'R-1-3', 'O', 'O', 'O', 'O', 'O', 'O', 'O', 'R-3-5', 'O', 'O', 'O', 'O', 'O', 'O', 'R-7-50', 'O', 'R-7-50', 'O', 'R-1-3', 'R-3-5', 'R-3-4', 'R-4-50', 'R-1-50', 'R-11-12', 'R-12-13', 'R-13-14', 'R-13-14', 'R-14-50', 'R-4-50', 'R-14-50', 'O', 'R-5-50', 'R-3-5', 'R-3-4', 'O', 'R-1-50', 'O', 'R-13-50', 'O', 'R-6-7', 'O', 'O', 'R-6-7', 'R-7-50', 'R-7-50', 'O', 'O', 'O', 'O', 'O', 'O', 'O', 'R-11-50', 'R-11-12', 'O', 'R-4-50', 'O', 'O', 'O', 'O', 'R-7-50', 'R-7-6', 'R-7-6', 'O', 'R-3-50', 'O', 'O', 'O', 'O', 'O', 'O', 'R-14-50', 'R-11-14', 'R-13-14', 'O', 'O', 'R-1-14', 'R-1-50', 'O', 'O', 'O', 'O', 'O', 'O', 'O', 'O', 'R-5B-50', 'O', 'O', 'O', 'O', 'O', 'R-1-2', 'O', 'O', 'R-3-4', 'R-4-14', 'R-4-14', 'O', 'O', 'O', 'O', 'O', 'O', 'O', 'O', 'O', 'O', 'O', 'O', 'O', 'O', 'O', 'O', 'R-14-50', 'R-6-14', 'R-7-50', 'O', 'O', 'O', 'O', 'O', 'O', 'O', 'O', 'O', 'O', 'O', 'O', 'R-7-50', 'R-3-50', 'O', 'O', 'O', 'O', 'O', 'O', 'O', 'R-5-50', 'R-1-2', 'R-7-50', 'O', 'O', 'O', 'O', 'O', 'O', 'R-1-2', 'R-3-4', 'R-4-5', 'O', 'R-11-13', 'R-13-14', 'R-13-14', 'R-1-50', 'R-11-50', 'R-6-7', 'O', 'R-1-50', 'R-4-50', 'R-7-50', 'O', 'R-50-3', 'O', 'O', 'O', 'O', 'O', 'R-7-50', 'O', 'O', 'O', 'O', 'O', 'O', 'O', 'O', 'O', 'O', 'R-1-50', 'R-3-50', 'O', 'O', 'O', 'R-1-3', 'R-1-3', 'R-7-50', 'R-6-7', 'O', 'O', 'O', 'O', 'O', 'O', 'O', 'O', 'O', 'R-3-50', 'R-1-3', 'R-5-50', 'O', 'O', 'O', 'O', 'O', 'O', 'R-3-5', 'R-3-4', 'O', 'O', 'O', 'O', 'O', 'O', 'O', 'R-11-13', 'R-13-5', 'R-5-7', 'R-7-50', 'R-7-50', 'R-7-50', 'R-1-50', 'R-11-50', 'O', 'R-1-3', 'O', 'R-11-14', 'O', 'R-11-13', 'R-13-14', 'R-14-50', 'O', 'O', 'O', 'R-50-7', 'R-7-50', 'R-7-50', 'O', 'R-3-5', 'O', 'R-11-13', 'R-11-13', 'R-13-14', 'O', 'O', 'O', 'O', 'R-1-50', 'R-3-50', 'R-3-50', 'R-1-50', 'O', 'O', 'O', 'O', 'O', 'O', 'O', 'O', 'R-1-50', 'R-6-7', 'O', 'O', 'O', 'O', 'O', 'O', 'O', 'O', 'R-3-50', 'R-3-4', 'R-4-50', 'R-13-14', 'O', 'O', 'O', 'O', 'O', 'O', 'R-1-3', 'R-3-50', 'O', 'O', 'R-3-5', 'O', 'O', 'O', 'O', 'O', 'R-7-50', 'O', 'R-7-50', 'R-7-50', 'R-5B-50', 'R-5B-50', 'R-2-3', 'R-3-5B', 'O', 'O', 'O', 'O', 'O', 'R-7-50', 'R-6-7', 'R-7-50', 'O', 'O', 'R-1-2', 'R-2-50', 'O', 'O', 'R-11-13', 'R-11-12', 'R-12-13', 'R-13-14', 'O', 'O', 'O', 'O', 'R-4-5', 'R-3-5', 'O', 'O', 'R-11-13', 'R-13-14', 'R-7-50', 'O', 'O', 'O', 'O', 'O', 'O', 'O', 'O', 'O', 'O', 'R-7-50', 'O', 'O', 'O', 'O', 'R-3-50', 'R-1-50', 'O', 'O', 'O', 'O', 'O', 'O', 'R-6-50', 'R-6-50', 'R-3-50', 'O', 'R-3-4', 'R-4-50', 'R-3-4', 'R-3-4', 'R-4-5B', 'R-5B-50', 'R-5B-50', 'O', 'O', 'O', 'O', 'O', 'O', 'O', 'O', 'O', 'O', 'O', 'O', 'O', 'R-3-4', 'R-4-14', 'O', 'O', 'R-6-7', 'R-7-50', 'O', 'O', 'O', 'R-11-12', 'R-13-14', 'O', 'R-7-50', 'O', 'O', 'O', 'O', 'R-1-50', 'R-3-50', 'O', 'O', 'O', 'R-3-4', 'O', 'R-4-50', 'O', 'O', 'O', 'R-4-5', 'O', 'O', 'O', 'O', 'O', 'O', 'R-6-14', 'R-7-50', 'O', 'O', 'O', 'O', 'O', 'O', 'R-1-2', 'R-1-2', 'O', 'O', 'O', 'O', 'R-2-3', 'O', 'O', 'O', 'R-1-50', 'O', 'O', 'O', 'R-1-50', 'O', 'O', 'R-6-14', 'R-6-50', 'R-7-50', 'O', 'O', 'O', 'O', 'R-1-3', 'O', 'O', 'R-11-13', 'O', 'O', 'O', 'R-3-50', 'O', 'R-4-50', 'R-11-13', 'R-13-14', 'R-6-50', 'O', 'R-7-50', 'O', 'R-5-50', 'O', 'O', 'O', 'O', 'R-7-50', 'O', 'O', 'O', 'O', 'O', 'O', 'O', 'O', 'O', 'O', 'O', 'O', 'O', 'O', 'O', 'O', 'O', 'O', 'O', 'O', 'O', 'O', 'O', 'O', 'R-3-1', 'O', 'R-13-50', 'O', 'R-13-12', 'R-50-7', 'O', 'O', 'O', 'R-3-50', 'O', 'R-1-3', 'R-3-7', 'R-7-50', 'O', 'O', 'O', 'O', 'O', 'O', 'O', 'O', 'R-1-50', 'R-1-2', 'R-2-50', 'R-1-50', 'R-1-50', 'O', 'R-3-50', 'R-4-50', 'O', 'O', 'O', 'R-1-50', 'R-5-50', 'R-7-50', 'O', 'R-1-50', 'O', 'R-1-3', 'R-3-50', 'O', 'O', 'R-11-50', 'R-13-50', 'O', 'O', 'O', 'O', 'O', 'O', 'R-7-50', 'R-14-50', 'R-4-14', 'R-11-13', 'R-11-12', 'R-12-13', 'R-13-14', 'R-6-7', 'O', 'O', 'R-7-50', 'O', 'O', 'O', 'O', 'O', 'O', 'O', 'O', 'O', 'O', 'O', 'O', 'O', 'R-3-4', 'R-4-7', 'R-4-7', 'O', 'O', 'O', 'O', 'O', 'O', 'O', 'O', 'O', 'R-4-14', 'R-11-14', 'R-11-14', 'O', 'R-11-12', 'R-12-13', 'R-13-14', 'O', 'O', 'O', 'O', 'O', 'O', 'O', 'R-6-7', 'R-6-7', 'R-7-50', 'R-7-50', 'O', 'O', 'O', 'O', 'O', 'O', 'O', 'O', 'O', 'R-1-2', 'R-2-3', 'R-3-7', 'R-3-7', 'R-4-50', 'O', 'O', 'O', 'O', 'R-7-50', 'R-6-7', 'R-13-6', 'R-3-6', 'R-3-4', 'R-4-5B', 'R-13-14', 'O', 'R-6-7', 'R-7-50', 'O', 'R-7-50', 'R-1-50', 'R-1-2', 'R-2-3', 'R-2-3', 'R-2-3', 'R-3-4', 'R-4-5', 'R-11-12', 'R-11-12', 'R-12-7', 'O', 'R-6-7', 'R-6-7', 'R-7-50', 'R-3-50', 'R-1-3', 'O', 'O', 'O', 'R-1-3', 'R-3-50', 'O', 'O', 'R-3-50', 'O', 'R-1-50', 'R-3-50', 'O', 'R-3-4', 'R-4-50', 'O', 'O', 'R-11-12', 'R-12-13', 'R-13-14', 'R-14-50', 'R-7-50', 'R-7-50', 'O', 'O', 'O', 'R-1-3', 'R-3-50', 'R-3-50', 'R-3-50', 'O', 'O', 'O', 'O', 'R-3-50', 'R-3-50', 'O', 'O', 'R-1-2', 'R-1-50', 'R-3-50', 'O', 'O', 'R-11-50', 'R-13-50', 'R-4-50', 'O', 'R-7-50', 'O', 'O', 'O', 'R-11-12', 'R-12-13', 'R-13-50', 'O', 'O', 'O', 'O', 'O', 'R-7-50', 'R-3-50', 'O', 'R-2-3', 'O', 'O', 'O', 'O', 'O', 'R-4-5', 'O', 'O', 'O', 'O', 'O', 'R-1-3', 'R-3-5', 'R-1-3', 'R-3-50', 'O', 'R-7-50', 'R-1-50', 'R-5-50', 'R-1-50', 'R-3-50', 'O', 'O', 'O', 'R-4-5', 'O', 'O', 'O', 'R-7-50', 'O', 'O', 'O', 'O', 'O', 'O', 'O', 'O', 'O', 'O', 'O', 'O', 'O', 'O', 'O', 'O', 'O', 'O', 'O', 'R-1-50', 'R-1-50', 'R-1-2', 'R-1-2', 'O', 'O', 'R-3-5', 'O', 'O', 'R-6-7', 'R-6-7', 'O', 'O', 'O', 'O', 'O', 'O', 'O', 'O', 'O', 'O', 'O', 'O', 'R-7-50', 'O', 'O', 'R-1-50', 'R-1-3', 'O', 'O', 'R-1-2', 'O', 'O', 'R-1-3', 'R-3-50', 'O', 'O', 'O', 'O', 'R-7-50', 'R-1-50', 'O', 'R-11-50', 'R-11-13', 'O', 'O', 'O', 'R-7-50', 'O', 'R-13-50', 'R-11-50', 'R-13-50', 'R-13-50', 'R-11-50', 'R-13-14', 'O', 'O', 'O', 'O', 'O', 'O', 'O', 'O', 'R-1-50', 'O', 'O', 'R-1-3', 'R-1-50', 'R-1-50', 'O', 'O', 'R-7-50', 'R-7-50', 'O', 'R-1-3', 'R-3-50', 'O', 'O', 'O', 'O', 'O', 'O', 'O', 'O', 'O', 'O', 'O', 'O', 'O', 'O', 'O', 'O', 'O', 'R-5-5B', 'R-5-5B', 'R-5-14', 'R-13-14', 'R-13-14', 'R-3-5', 'R-3-4', 'R-1-2', 'O', 'R-1-2', 'R-1-2', 'O', 'O', 'O', 'O', 'O', 'R-6-7', 'R-7-50', 'R-7-50', 'O', 'O', 'O', 'O', 'O', 'O', 'O', 'O', 'O', 'O', 'O', 'O', 'O', 'O', 'O', 'O', 'O', 'O', 'R-14-50', 'R-6-14', 'R-6-50', 'O', 'R-7-50', 'O', 'R-6-50', 'O', 'R-1-50', 'O', 'R-1-3', 'R-3-50', 'O', 'R-1-50', 'R-5-50', 'R-1-50', 'R-3-50', 'R-13-50', 'O', 'R-12-13', 'R-13-50', 'O', 'O', 'O', 'O', 'O', 'R-6-7', 'R-7-50', 'R-7-50', 'O', 'O', 'O', 'O', 'O', 'O', 'O', 'O', 'O', 'R-11-50', 'R-7-50', 'O', 'O', 'O', 'O', 'O', 'O', 'O', 'O', 'O', 'R-3-5', 'R-3-4', 'R-4-14', 'O', 'O', 'R-1-50', 'O', 'R-7-50', 'O', 'R-5-5B', 'R-5B-50', 'O', 'R-4-5', 'R-3-5', 'R-4-5', 'O', 'O', 'O', 'R-11-13', 'R-11-13', 'R-11-12', 'R-13-14', 'O', 'O', 'O', 'O', 'R-2-3']"
     ]
    },
    {
     "name": "stdout",
     "output_type": "stream",
     "text": [
      "\n",
      "New labels:  [0, 1, 2, 1, 1, 3, 1, 1, 1, 4, 5, 6, 1, 1, 1, 1, 1, 1, 1, 1, 7, 3, 1, 8, 9, 10, 10, 1, 1, 11, 1, 1, 12, 1, 1, 1, 1, 7, 7, 13, 1, 14, 7, 6, 15, 7, 1, 1, 1, 1, 1, 1, 1, 1, 1, 1, 1, 1, 1, 1, 1, 1, 7, 15, 13, 16, 17, 18, 1, 1, 1, 1, 1, 1, 6, 7, 1, 7, 1, 1, 1, 19, 1, 1, 1, 19, 2, 1, 1, 1, 1, 20, 21, 1, 1, 1, 1, 1, 1, 1, 1, 22, 8, 23, 1, 1, 1, 1, 2, 19, 19, 2, 19, 2, 19, 2, 1, 2, 1, 1, 1, 1, 1, 2, 2, 1, 1, 2, 1, 1, 2, 1, 1, 24, 19, 19, 1, 1, 1, 6, 25, 2, 1, 1, 1, 15, 15, 1, 7, 1, 1, 1, 1, 1, 1, 1, 1, 1, 1, 1, 1, 1, 2, 1, 26, 1, 1, 4, 4, 1, 1, 1, 6, 1, 15, 1, 1, 1, 3, 27, 20, 1, 1, 1, 1, 1, 1, 1, 1, 1, 1, 1, 1, 1, 22, 1, 28, 29, 30, 2, 1, 1, 20, 20, 19, 1, 1, 1, 1, 1, 1, 1, 1, 1, 1, 1, 1, 1, 1, 1, 1, 1, 1, 1, 1, 1, 1, 1, 1, 1, 1, 1, 7, 1, 6, 1, 1, 1, 23, 23, 1, 1, 1, 1, 1, 2, 1, 1, 20, 1, 12, 7, 28, 31, 13, 1, 1, 1, 1, 1, 19, 1, 1, 6, 20, 1, 1, 2, 1, 1, 1, 1, 1, 1, 1, 1, 1, 1, 1, 1, 1, 1, 1, 1, 1, 1, 1, 1, 1, 1, 1, 1, 1, 1, 1, 1, 1, 2, 1, 1, 1, 1, 1, 1, 1, 1, 1, 1, 15, 1, 1, 1, 1, 1, 1, 1, 1, 1, 1, 1, 1, 1, 10, 1, 1, 19, 2, 1, 1, 1, 1, 1, 1, 1, 1, 1, 1, 4, 1, 17, 32, 33, 33, 7, 11, 22, 10, 1, 9, 19, 2, 7, 11, 2, 34, 1, 14, 26, 1, 15, 7, 1, 1, 15, 12, 1, 1, 16, 17, 32, 33, 29, 29, 1, 1, 15, 20, 20, 1, 1, 22, 8, 9, 34, 2, 2, 15, 7, 7, 6, 1, 1, 1, 1, 12, 16, 1, 17, 32, 33, 33, 1, 1, 1, 1, 1, 1, 1, 1, 2, 7, 1, 1, 1, 2, 1, 1, 1, 1, 1, 1, 1, 1, 1, 1, 1, 1, 19, 19, 1, 1, 6, 2, 1, 1, 1, 1, 15, 20, 1, 6, 7, 1, 1, 34, 35, 1, 1, 1, 1, 15, 28, 1, 2, 2, 24, 1, 1, 2, 1, 1, 1, 1, 1, 1, 3, 6, 6, 1, 1, 1, 1, 1, 29, 30, 6, 29, 1, 1, 1, 1, 7, 11, 7, 7, 6, 1, 1, 1, 6, 7, 1, 6, 7, 4, 1, 1, 1, 1, 32, 31, 1, 1, 1, 1, 1, 1, 1, 1, 1, 1, 1, 1, 1, 1, 1, 1, 1, 1, 6, 7, 1, 1, 1, 2, 2, 1, 15, 15, 1, 8, 9, 1, 1, 28, 33, 1, 1, 1, 1, 2, 1, 1, 1, 1, 1, 1, 6, 1, 1, 1, 2, 25, 6, 2, 2, 1, 22, 23, 1, 24, 6, 7, 1, 1, 24, 19, 19, 1, 1, 1, 7, 6, 1, 1, 1, 1, 1, 1, 1, 1, 1, 1, 1, 1, 1, 1, 1, 28, 17, 32, 1, 1, 1, 1, 1, 1, 1, 2, 1, 8, 36, 36, 37, 33, 28, 1, 1, 19, 2, 1, 1, 19, 2, 1, 1, 1, 1, 1, 1, 1, 1, 1, 1, 9, 1, 22, 8, 23, 1, 28, 17, 32, 1, 1, 1, 1, 1, 1, 2, 1, 1, 1, 1, 1, 7, 6, 1, 1, 1, 1, 16, 28, 13, 11, 13, 11, 16, 1, 1, 1, 2, 19, 1, 1, 6, 7, 6, 1, 38, 15, 39, 40, 2, 1, 6, 6, 15, 7, 33, 29, 28, 2, 30, 29, 2, 1, 1, 1, 19, 13, 7, 7, 13, 33, 29, 30, 1, 7, 1, 2, 1, 1, 1, 1, 1, 2, 2, 1, 1, 1, 41, 41, 1, 1, 7, 29, 1, 1, 1, 1, 28, 8, 23, 1, 13, 16, 16, 42, 22, 16, 1, 17, 33, 13, 2, 1, 1, 1, 1, 1, 22, 1, 22, 1, 1, 1, 1, 1, 2, 6, 15, 1, 6, 15, 1, 7, 1, 1, 1, 1, 1, 1, 1, 1, 1, 22, 8, 1, 1, 1, 1, 1, 1, 1, 1, 1, 2, 1, 1, 1, 1, 1, 1, 1, 1, 1, 1, 22, 1, 1, 1, 20, 12, 19, 2, 1, 6, 7, 12, 1, 1, 1, 1, 1, 1, 1, 1, 1, 1, 1, 1, 1, 15, 1, 1, 1, 8, 23, 37, 37, 17, 17, 32, 33, 1, 1, 1, 1, 1, 1, 1, 8, 1, 1, 35, 1, 17, 32, 33, 1, 1, 1, 1, 1, 1, 1, 1, 11, 1, 1, 1, 1, 1, 1, 2, 1, 1, 1, 1, 1, 43, 1, 1, 1, 1, 1, 1, 1, 1, 1, 3, 1, 1, 1, 1, 1, 1, 1, 1, 25, 1, 1, 6, 7, 6, 20, 1, 1, 1, 1, 15, 22, 35, 8, 4, 1, 1, 1, 1, 6, 7, 1, 2, 1, 2, 2, 19, 19, 1, 40, 1, 15, 1, 1, 15, 7, 1, 35, 32, 17, 1, 1, 1, 1, 1, 1, 1, 44, 45, 32, 28, 1, 46, 19, 1, 1, 9, 1, 15, 7, 7, 1, 1, 12, 1, 1, 1, 1, 1, 1, 1, 9, 1, 11, 22, 23, 17, 32, 33, 2, 1, 1, 3, 6, 1, 20, 20, 1, 1, 1, 1, 1, 22, 8, 23, 29, 29, 1, 1, 1, 1, 14, 1, 1, 7, 6, 1, 15, 1, 1, 2, 1, 1, 1, 1, 6, 1, 1, 1, 1, 15, 1, 15, 11, 39, 2, 1, 6, 15, 1, 2, 1, 1, 1, 1, 1, 1, 1, 1, 1, 1, 1, 1, 1, 6, 1, 1, 6, 1, 7, 22, 7, 1, 1, 1, 2, 1, 1, 1, 1, 1, 1, 1, 1, 1, 1, 1, 1, 1, 1, 22, 1, 28, 1, 1, 1, 1, 1, 1, 1, 20, 1, 1, 1, 1, 1, 1, 28, 1, 1, 1, 1, 1, 1, 1, 24, 2, 1, 6, 15, 7, 6, 25, 1, 1, 32, 33, 1, 6, 1, 1, 1, 1, 28, 1, 2, 1, 15, 2, 6, 15, 2, 2, 1, 1, 1, 1, 1, 1, 1, 1, 1, 1, 1, 1, 1, 2, 47, 2, 1, 1, 2, 1, 1, 6, 1, 1, 1, 1, 6, 1, 1, 1, 1, 7, 1, 1, 1, 7, 2, 19, 1, 1, 1, 1, 1, 1, 1, 1, 1, 1, 1, 1, 1, 1, 1, 1, 1, 1, 1, 21, 21, 20, 1, 8, 48, 9, 48, 19, 49, 49, 2, 1, 1, 1, 15, 7, 14, 7, 14, 1, 1, 1, 6, 49, 1, 2, 10, 8, 9, 1, 1, 1, 1, 1, 1, 1, 1, 1, 1, 1, 1, 1, 1, 28, 28, 1, 1, 1, 1, 10, 22, 22, 6, 1, 1, 1, 7, 22, 2, 1, 1, 1, 1, 1, 1, 1, 1, 1, 1, 15, 7, 1, 1, 1, 1, 1, 1, 1, 1, 1, 1, 1, 1, 1, 1, 2, 1, 1, 1, 1, 1, 1, 1, 1, 1, 1, 7, 1, 2, 1, 1, 1, 1, 1, 1, 1, 22, 1, 1, 9, 11, 1, 1, 1, 1, 1, 1, 1, 11, 17, 32, 33, 29, 30, 2, 2, 1, 1, 1, 7, 6, 1, 6, 1, 1, 1, 25, 6, 1, 1, 1, 13, 11, 13, 11, 24, 2, 2, 23, 37, 1, 1, 1, 1, 1, 10, 1, 1, 1, 7, 7, 7, 1, 1, 1, 1, 1, 1, 1, 1, 8, 23, 29, 30, 1, 1, 6, 1, 13, 1, 1, 7, 1, 1, 43, 1, 1, 1, 22, 8, 23, 50, 1, 1, 1, 16, 24, 1, 24, 6, 15, 1, 1, 1, 6, 7, 1, 1, 7, 1, 1, 1, 16, 1, 1, 1, 1, 1, 1, 1, 1, 1, 1, 1, 1, 1, 1, 1, 1, 1, 11, 1, 22, 1, 1, 1, 9, 35, 11, 1, 22, 1, 1, 1, 1, 1, 2, 1, 1, 1, 1, 19, 24, 1, 1, 1, 1, 1, 1, 2, 2, 1, 1, 32, 17, 13, 1, 7, 13, 2, 1, 6, 15, 6, 7, 1, 1, 8, 23, 29, 1, 1, 1, 1, 1, 1, 1, 1, 1, 1, 1, 1, 1, 1, 1, 1, 1, 1, 25, 2, 6, 22, 15, 51, 4, 10, 1, 1, 7, 6, 1, 1, 52, 15, 15, 15, 7, 1, 1, 10, 1, 1, 7, 7, 6, 6, 6, 1, 1, 1, 1, 1, 1, 2, 1, 1, 1, 1, 2, 2, 1, 1, 6, 15, 1, 1, 1, 8, 11, 1, 1, 9, 1, 3, 1, 1, 1, 1, 1, 1, 6, 1, 1, 1, 1, 1, 1, 1, 1, 1, 1, 1, 1, 1, 1, 1, 1, 1, 1, 1, 1, 12, 1, 8, 1, 1, 1, 1, 9, 11, 1, 25, 1, 1, 1, 1, 1, 1, 1, 1, 1, 1, 1, 1, 1, 1, 1, 1, 1, 1, 2, 1, 1, 1, 9, 1, 9, 10, 10, 1, 1, 6, 6, 1, 1, 1, 7, 6, 1, 10, 47, 10, 47, 2, 1, 2, 1, 1, 1, 1, 1, 1, 29, 30, 2, 1, 19, 1, 1, 2, 1, 1, 1, 1, 1, 1, 1, 1, 25, 2, 1, 1, 1, 1, 1, 19, 19, 2, 1, 17, 31, 31, 1, 1, 4, 43, 1, 1, 1, 7, 1, 1, 1, 1, 6, 6, 1, 1, 1, 1, 20, 20, 1, 1, 1, 1, 1, 1, 1, 1, 1, 1, 1, 19, 2, 2, 6, 2, 6, 1, 1, 1, 1, 1, 1, 1, 1, 1, 1, 1, 1, 1, 1, 1, 1, 1, 1, 1, 1, 1, 1, 1, 1, 19, 2, 1, 1, 1, 19, 19, 2, 1, 1, 1, 1, 1, 1, 1, 35, 22, 28, 13, 13, 20, 12, 1, 1, 1, 1, 15, 1, 1, 1, 1, 1, 1, 1, 1, 1, 1, 1, 1, 1, 1, 1, 1, 1, 1, 1, 1, 1, 5, 1, 1, 1, 1, 1, 1, 1, 1, 1, 1, 1, 1, 1, 1, 1, 1, 2, 6, 6, 1, 1, 8, 39, 2, 2, 1, 1, 2, 2, 1, 1, 1, 1, 1, 1, 1, 1, 1, 1, 1, 7, 1, 8, 15, 15, 7, 12, 15, 7, 1, 1, 1, 1, 1, 1, 1, 1, 1, 16, 1, 1, 1, 1, 1, 1, 1, 1, 1, 1, 1, 24, 1, 1, 1, 1, 1, 1, 1, 1, 15, 23, 8, 9, 1, 1, 15, 52, 24, 6, 7, 1, 1, 8, 23, 53, 53, 28, 33, 1, 19, 4, 4, 1, 1, 1, 6, 13, 2, 6, 8, 17, 32, 32, 33, 33, 2, 2, 2, 1, 47, 1, 2, 7, 6, 1, 1, 19, 7, 7, 15, 1, 7, 1, 7, 24, 19, 1, 24, 24, 1, 1, 1, 1, 22, 1, 1, 1, 1, 29, 30, 2, 1, 25, 1, 15, 1, 1, 25, 1, 1, 1, 11, 1, 1, 23, 1, 19, 1, 1, 1, 1, 30, 1, 1, 1, 1, 52, 19, 54, 54, 1, 1, 1, 1, 1, 1, 1, 1, 15, 1, 1, 55, 22, 8, 23, 1, 39, 2, 1, 1, 1, 1, 1, 1, 1, 1, 1, 1, 1, 1, 1, 15, 7, 1, 1, 1, 2, 1, 1, 1, 28, 17, 32, 1, 2, 1, 1, 29, 30, 2, 1, 1, 1, 1, 1, 7, 6, 1, 1, 1, 19, 24, 19, 24, 1, 1, 7, 1, 1, 1, 1, 4, 1, 6, 22, 15, 21, 1, 1, 1, 2, 1, 1, 1, 56, 1, 29, 28, 1, 1, 8, 23, 7, 36, 1, 1, 1, 6, 6, 15, 1, 15, 7, 11, 38, 1, 1, 6, 1, 7, 6, 7, 6, 1, 1, 1, 1, 1, 1, 1, 25, 22, 23, 37, 1, 37, 1, 28, 18, 29, 7, 6, 1, 1, 1, 1, 1, 1, 14, 2, 1, 1, 1, 1, 1, 1, 1, 1, 22, 1, 1, 1, 1, 7, 7, 1, 1, 22, 1, 1, 1, 1, 13, 1, 1, 1, 1, 1, 7, 6, 2, 1, 17, 31, 2, 1, 1, 1, 1, 1, 1, 1, 28, 17, 18, 32, 18, 32, 6, 1, 1, 1, 1, 1, 1, 1, 1, 1, 1, 1, 1, 15, 1, 8, 23, 1, 1, 1, 1, 1, 2, 1, 2, 1, 1, 22, 25, 1, 33, 1, 1, 1, 1, 1, 1, 1, 2, 1, 1, 1, 1, 1, 22, 1, 1, 1, 1, 1, 1, 2, 2, 1, 1, 1, 1, 1, 13, 2, 1, 1, 1, 1, 1, 1, 1, 1, 6, 1, 1, 1, 1, 1, 2, 1, 1, 1, 1, 1, 1, 1, 1, 1, 1, 1, 7, 52, 52, 19, 1, 1, 1, 7, 6, 1, 1, 1, 1, 1, 1, 1, 1, 1, 1, 1, 1, 7, 6, 1, 1, 1, 1, 12, 2, 1, 1, 7, 1, 1, 1, 1, 1, 1, 1, 6, 7, 1, 6, 6, 6, 7, 8, 38, 28, 33, 1, 1, 1, 1, 1, 1, 2, 1, 1, 1, 1, 1, 11, 37, 1, 1, 2, 19, 1, 15, 1, 1, 1, 1, 1, 1, 16, 1, 1, 1, 22, 16, 1, 1, 1, 1, 1, 1, 22, 1, 15, 8, 1, 1, 28, 33, 1, 11, 24, 9, 11, 1, 1, 1, 19, 19, 1, 2, 1, 1, 1, 6, 7, 10, 1, 1, 1, 6, 20, 2, 2, 1, 1, 1, 1, 1, 1, 1, 1, 1, 1, 1, 1, 1, 1, 1, 1, 1, 1, 1, 1, 1, 1, 1, 1, 1, 1, 1, 1, 1, 1, 28, 28, 22, 23, 1, 1, 1, 1, 23, 11, 6, 1, 1, 1, 10, 1, 2, 6, 20, 1, 1, 12, 12, 7, 1, 1, 10, 8, 9, 8, 57, 28, 17, 32, 33, 13, 6, 15, 28, 31, 58, 39, 1, 1, 1, 1, 1, 1, 2, 1, 1, 1, 13, 6, 24, 1, 59, 33, 60, 1, 1, 19, 19, 2, 15, 15, 1, 15, 7, 1, 1, 2, 1, 1, 9, 1, 6, 25, 6, 1, 20, 1, 15, 1, 1, 1, 1, 2, 7, 2, 7, 1, 6, 1, 1, 1, 1, 8, 23, 1, 1, 1, 1, 1, 1, 1, 6, 7, 1, 1, 1, 10, 1, 1, 1, 1, 1, 1, 1, 1, 1, 1, 1, 1, 1, 9, 1, 28, 17, 1, 1, 29, 30, 1, 6, 13, 1, 1, 13, 1, 1, 1, 1, 1, 1, 1, 2, 1, 1, 1, 1, 2, 1, 1, 1, 15, 15, 1, 1, 1, 1, 25, 1, 28, 32, 1, 1, 1, 2, 7, 6, 1, 3, 1, 1, 24, 1, 1, 1, 1, 1, 1, 6, 23, 33, 6, 3, 7, 6, 7, 20, 6, 1, 33, 28, 1, 1, 1, 1, 1, 19, 1, 2, 2, 1, 1, 1, 24, 1, 1, 1, 1, 13, 33, 15, 13, 1, 1, 1, 1, 1, 6, 15, 6, 15, 1, 1, 1, 1, 1, 1, 1, 15, 15, 7, 1, 1, 7, 6, 1, 23, 8, 11, 22, 11, 23, 1, 2, 1, 1, 1, 1, 1, 1, 1, 9, 22, 1, 1, 20, 20, 1, 7, 6, 1, 7, 6, 13, 25, 1, 17, 32, 33, 33, 1, 9, 1, 1, 2, 2, 1, 1, 1, 2, 1, 1, 19, 2, 52, 17, 61, 1, 1, 1, 1, 1, 7, 7, 1, 8, 1, 1, 1, 1, 1, 1, 9, 22, 8, 23, 1, 1, 1, 1, 1, 7, 16, 1, 1, 1, 1, 1, 1, 1, 1, 1, 1, 1, 1, 11, 9, 35, 1, 1, 1, 1, 1, 1, 1, 1, 20, 1, 1, 1, 1, 1, 9, 1, 1, 6, 15, 15, 15, 1, 1, 7, 6, 15, 2, 1, 1, 1, 1, 1, 1, 1, 1, 1, 1, 1, 1, 1, 6, 6, 6, 15, 1, 1, 1, 1, 2, 2, 6, 1, 1, 1, 8, 9, 1, 1, 62, 20, 23, 1, 1, 6, 7, 1, 1, 1, 1, 1, 1, 1, 1, 1, 1, 1, 1, 1, 1, 1, 1, 1, 1, 1, 1, 1, 1, 1, 22, 8, 63, 63, 19, 19, 2, 1, 1, 1, 1, 1, 1, 1, 1, 1, 1, 1, 1, 1, 1, 1, 1, 2, 2, 1, 1, 1, 19, 1, 1, 1, 1, 1, 15, 7, 6, 7, 1, 23, 1, 1, 1, 1, 1, 7, 1, 1, 1, 1, 1, 1, 1, 1, 1, 1, 1, 1, 1, 1, 1, 1, 1, 6, 6, 1, 1, 1, 9, 22, 1, 60, 1, 1, 1, 21, 7, 20, 1, 1, 1, 1, 1, 1, 1, 1, 2, 1, 11, 1, 1, 60, 17, 32, 33, 7, 1, 14, 64, 65, 65, 64, 1, 1, 1, 1, 1, 1, 1, 7, 1, 1, 1, 11, 1, 1, 8, 1, 28, 32, 1, 20, 12, 1, 1, 15, 1, 1, 1, 6, 1, 1, 7, 6, 1, 1, 1, 1, 1, 1, 1, 1, 1, 1, 22, 1, 1, 1, 6, 2, 1, 1, 20, 12, 1, 1, 1, 1, 15, 7, 2, 1, 1, 10, 1, 1, 1, 1, 1, 19, 1, 1, 1, 1, 15, 1, 1, 2, 1, 1, 1, 1, 1, 1, 1, 2, 1, 1, 19, 2, 1, 1, 1, 1, 1, 1, 1, 1, 1, 1, 1, 19, 54, 2, 6, 15, 8, 39, 6, 16, 13, 1, 1, 1, 1, 1, 1, 7, 6, 1, 1, 1, 1, 1, 1, 1, 13, 7, 1, 1, 1, 29, 30, 2, 1, 1, 1, 1, 1, 1, 1, 1, 1, 1, 6, 1, 2, 1, 1, 1, 1, 1, 1, 16, 7, 1, 15, 1, 1, 8, 11, 23, 23, 1, 1, 1, 28, 33, 1, 1, 1, 19, 29, 1, 1, 1, 1, 1, 1, 1, 1, 1, 6, 1, 1, 1, 1, 1, 1, 56, 56, 15, 15, 1, 20, 22, 8, 23, 29, 17, 32, 33, 1, 1, 1, 1, 1, 1, 1, 1, 7, 7, 1, 1, 1, 11, 1, 1, 1, 19, 2, 2, 7, 6, 7, 6, 1, 20, 6, 7, 1, 1, 1, 1, 7, 6, 7, 6, 2, 25, 6, 1, 1, 1, 1, 25, 1, 1, 11, 1, 1, 1, 1, 1, 1, 1, 1, 1, 1, 1, 1, 1, 1, 1, 1, 20, 7, 1, 2, 19, 1, 20, 1, 28, 40, 1, 6, 1, 1, 1, 13, 28, 17, 32, 33, 1, 1, 1, 1, 1, 1, 1, 1, 6, 66, 13, 1, 28, 1, 7, 7, 6, 1, 1, 1, 1, 1, 1, 1, 1, 1, 1, 7, 1, 15, 20, 12, 12, 1, 8, 11, 8, 1, 8, 11, 1, 1, 7, 8, 1, 1, 1, 1, 1, 1, 15, 7, 6, 7, 7, 1, 1, 1, 67, 1, 1, 1, 1, 8, 23, 29, 29, 1, 1, 1, 7, 6, 1, 1, 1, 1, 1, 2, 1, 1, 1, 8, 2, 1, 1, 1, 1, 1, 1, 1, 1, 1, 1, 1, 2, 6, 7, 7, 6, 2, 1, 2, 1, 1, 1, 1, 6, 15, 6, 7, 7, 1, 1, 6, 1, 6, 1, 1, 1, 1, 1, 1, 1, 6, 1, 1, 1, 1, 15, 1, 1, 1, 1, 19, 2, 1, 6, 15, 22, 1, 6, 25, 1, 1, 1, 6, 1, 1, 1, 8, 11, 13, 13, 1, 1, 1, 1, 1, 1, 6, 1, 7, 6, 1, 1, 1, 1, 1, 1, 1, 1, 1, 1, 1, 16, 1, 7, 1, 7, 2, 14, 14, 1, 1, 6, 7, 24, 19, 1, 1, 20, 15, 7, 7, 1, 68, 28, 33, 69, 7, 8, 9, 6, 1, 1, 15, 7, 1, 28, 16, 1, 1, 1, 6, 1, 1, 6, 1, 1, 1, 1, 1, 1, 1, 1, 1, 7, 1, 1, 8, 23, 1, 1, 17, 32, 33, 1, 2, 1, 6, 1, 1, 1, 1, 1, 1, 1, 1, 1, 1, 1, 1, 1, 1, 1, 1, 1, 11, 11, 1, 22, 1, 1, 24, 1, 1, 1, 1, 1, 1, 2, 1, 1, 1, 1, 1, 1, 1, 1, 28, 7, 7, 1, 2, 1, 1, 1, 1, 1, 1, 1, 1, 19, 24, 2, 1, 1, 1, 1, 1, 1, 1, 1, 1, 1, 1, 1, 1, 15, 7, 7, 1, 1, 1, 1, 2, 49, 1, 7, 1, 1, 1, 17, 32, 13, 13, 6, 6, 13, 1, 1, 1, 1, 1, 1, 1, 1, 1, 1, 1, 2, 1, 1, 1, 1, 22, 8, 1, 1, 1, 1, 1, 1, 1, 1, 1, 2, 1, 1, 1, 1, 1, 1, 1, 1, 1, 1, 1, 1, 1, 1, 1, 1, 1, 1, 20, 15, 15, 7, 1, 1, 1, 1, 1, 1, 33, 1, 7, 1, 9, 22, 1, 1, 1, 1, 1, 6, 70, 15, 14, 2, 7, 1, 1, 1, 1, 1, 1, 1, 1, 1, 2, 1, 1, 1, 1, 1, 1, 1, 22, 1, 1, 1, 1, 1, 1, 20, 15, 52, 19, 2, 1, 1, 1, 1, 29, 30, 2, 1, 1, 2, 1, 1, 1, 1, 1, 1, 1, 1, 1, 1, 29, 30, 2, 1, 1, 2, 1, 1, 1, 1, 1, 1, 2, 1, 1, 7, 1, 1, 1, 1, 1, 1, 1, 1, 1, 1, 1, 15, 15, 1, 1, 1, 1, 1, 1, 2, 1, 1, 1, 1, 1, 1, 1, 1, 1, 1, 13, 28, 1, 1, 1, 24, 19, 1, 1, 1, 1, 1, 1, 1, 1, 1, 1, 1, 8, 15, 11, 32, 13, 13, 1, 13, 7, 6, 2, 1, 1, 1, 1, 1, 1, 1, 6, 15, 1, 1, 1, 1, 1, 2, 2, 1, 1, 1, 1, 1, 1, 1, 6, 1, 1, 1, 1, 1, 1, 1, 1, 1, 1, 1, 1, 1, 1, 15, 1, 25, 1, 1, 1, 1, 1, 1, 7, 1, 1, 1, 1, 1, 1, 1, 1, 16, 1, 1, 42, 28, 13, 1, 1, 24, 16, 29, 30, 2, 1, 1, 1, 1, 1, 1, 1, 1, 1, 2, 25, 1, 1, 1, 1, 19, 24, 19, 13, 7, 1, 1, 37, 1, 1, 1, 6, 25, 1, 17, 32, 33, 1, 19, 2, 1, 1, 1, 1, 1, 1, 1, 1, 1, 1, 1, 1, 1, 1, 1, 1, 1, 1, 1, 1, 1, 22, 22, 1, 1, 28, 1, 2, 1, 1, 8, 23, 33, 1, 1, 1, 33, 1, 1, 1, 1, 1, 1, 1, 1, 1, 1, 8, 23, 1, 2, 1, 1, 20, 15, 6, 1, 8, 38, 1, 7, 15, 19, 2, 1, 14, 54, 4, 7, 1, 1, 7, 22, 1, 1, 1, 1, 1, 6, 1, 7, 13, 1, 4, 31, 71, 17, 1, 1, 15, 1, 1, 24, 24, 2, 1, 1, 2, 1, 41, 24, 1, 1, 1, 1, 1, 1, 1, 1, 1, 1, 1, 1, 2, 1, 7, 6, 1, 1, 1, 1, 1, 1, 1, 11, 15, 1, 15, 7, 8, 23, 37, 28, 32, 1, 1, 1, 1, 1, 1, 1, 1, 1, 1, 1, 1, 1, 1, 1, 1, 1, 1, 1, 17, 17, 32, 1, 1, 2, 7, 24, 1, 1, 7, 1, 1, 7, 6, 1, 1, 8, 11, 11, 1, 17, 18, 29, 18, 29, 1, 1, 25, 8, 11, 1, 1, 20, 1, 1, 1, 1, 1, 1, 1, 1, 1, 1, 1, 1, 1, 1, 1, 1, 1, 1, 1, 1, 1, 1, 1, 1, 1, 6, 1, 6, 72, 13, 13, 6, 1, 1, 1, 10, 10, 2, 19, 2, 1, 1, 1, 2, 1, 1, 1, 1, 1, 1, 1, 6, 2, 13, 11, 7, 16, 28, 32, 33, 1, 1, 8, 23, 1, 28, 33, 33, 2, 1, 1, 1, 1, 1, 28, 1, 1, 1, 1, 1, 1, 1, 1, 1, 6, 15, 15, 1, 1, 6, 1, 1, 1, 1, 22, 1, 1, 19, 1, 1, 1, 1, 1, 2, 1, 1, 1, 1, 22, 22, 1, 1, 22, 13, 33, 1, 1, 15, 1, 2, 1, 1, 1, 15, 7, 1, 1, 17, 1, 1, 1, 1, 1, 1, 1, 1, 1, 1, 1, 73, 13, 2, 1, 1, 1, 1, 1, 1, 15, 1, 1, 1, 1, 1, 1, 1, 1, 25, 19, 2, 4, 1, 1, 15, 1, 1, 1, 1, 1, 1, 1, 1, 1, 1, 1, 2, 1, 1, 1, 6, 15, 8, 1, 9, 1, 1, 22, 1, 1, 1, 2, 1, 1, 1, 1, 7, 1, 1, 1, 1, 1, 1, 1, 1, 4, 1, 1, 1, 15, 1, 1, 1, 1, 10, 15, 22, 22, 74, 19, 1, 1, 1, 12, 1, 19, 22, 17, 32, 33, 1, 1, 1, 1, 1, 11, 8, 1, 1, 13, 33, 1, 1, 17, 33, 29, 29, 1, 1, 10, 2, 1, 1, 7, 6, 7, 6, 1, 1, 6, 1, 1, 6, 1, 1, 1, 1, 2, 1, 1, 1, 1, 22, 23, 1, 17, 32, 13, 1, 13, 1, 1, 1, 1, 1, 1, 1, 1, 1, 9, 1, 1, 1, 1, 1, 1, 8, 23, 1, 1, 1, 1, 1, 1, 2, 1, 1, 2, 19, 2, 1, 1, 1, 1, 6, 7, 1, 1, 1, 1, 1, 1, 1, 34, 1, 1, 1, 2, 2, 1, 1, 1, 1, 1, 1, 1, 1, 22, 75, 29, 30, 2, 6, 1, 1, 1, 1, 1, 1, 1, 1, 1, 1, 1, 2, 1, 1, 7, 7, 1, 1, 1, 1, 2, 1, 1, 1, 1, 1, 1, 20, 1, 1, 1, 1, 1, 15, 7, 6, 7, 1, 1, 12, 12, 1, 1, 1, 1, 1, 1, 1, 1, 1, 1, 6, 1, 1, 1, 1, 1, 1, 1, 1, 1, 1, 1, 1, 7, 6, 6, 52, 1, 19, 52, 2, 6, 1, 1, 6, 7, 6, 15, 1, 1, 1, 1, 1, 11, 1, 1, 6, 6, 1, 6, 7, 1, 1, 1, 1, 1, 1, 1, 1, 1, 1, 2, 1, 1, 1, 1, 1, 1, 1, 1, 1, 1, 25, 1, 1, 1, 1, 1, 1, 1, 1, 1, 1, 1, 1, 1, 1, 1, 1, 1, 16, 28, 32, 1, 1, 15, 1, 1, 1, 1, 1, 1, 16, 13, 11, 1, 1, 1, 1, 1, 1, 1, 1, 1, 1, 1, 1, 1, 1, 1, 1, 1, 1, 1, 1, 1, 1, 7, 6, 1, 1, 1, 1, 1, 1, 1, 1, 1, 1, 1, 1, 6, 1, 1, 1, 1, 1, 1, 1, 6, 1, 7, 6, 1, 1, 1, 1, 1, 1, 7, 15, 2, 15, 7, 2, 2, 1, 1, 1, 6, 7, 1, 1, 1, 1, 15, 15, 7, 1, 9, 1, 1, 1, 1, 1, 1, 1, 1, 2, 1, 1, 1, 1, 1, 1, 1, 1, 1, 1, 1, 1, 1, 1, 1, 6, 1, 1, 1, 30, 30, 1, 1, 1, 1, 33, 11, 24, 1, 1, 1, 1, 1, 1, 1, 1, 15, 1, 22, 15, 1, 15, 22, 1, 1, 7, 15, 1, 1, 1, 1, 1, 2, 2, 2, 1, 1, 16, 6, 1, 1, 1, 1, 1, 6, 7, 25, 6, 1, 1, 12, 1, 1, 1, 1, 1, 1, 1, 7, 75, 7, 75, 1, 20, 6, 7, 11, 1, 1, 4, 16, 28, 33, 20, 12, 12, 6, 1, 1, 38, 39, 39, 1, 1, 1, 2, 1, 1, 1, 1, 1, 6, 7, 1, 1, 1, 1, 1, 1, 29, 30, 2, 1, 1, 2, 1, 1, 1, 1, 1, 1, 1, 1, 1, 1, 1, 36, 10, 2, 19, 2, 1, 7, 6, 7, 6, 1, 1, 1, 1, 1, 1, 1, 1, 2, 6, 38, 8, 9, 1, 1, 1, 32, 1, 1, 19, 1, 1, 1, 1, 1, 1, 1, 1, 1, 1, 1, 1, 1, 1, 1, 1, 1, 1, 1, 15, 15, 22, 1, 1, 1, 1, 1, 1, 1, 1, 1, 25, 16, 7, 15, 15, 1, 1, 1, 1, 37, 7, 16, 1, 25, 1, 1, 1, 1, 1, 1, 7, 7, 7, 1, 1, 1, 1, 1, 1, 1, 1, 1, 1, 1, 6, 1, 1, 1, 1, 1, 1, 1, 1, 1, 1, 1, 1, 1, 1, 1, 1, 1, 1, 1, 1, 9, 1, 1, 1, 1, 1, 1, 1, 10, 9, 8, 23, 37, 17, 32, 33, 33, 1, 22, 8, 1, 1, 1, 2, 1, 1, 1, 1, 1, 1, 1, 22, 7, 1, 1, 7, 7, 1, 15, 15, 1, 1, 1, 1, 1, 1, 20, 1, 1, 1, 1, 15, 1, 11, 24, 1, 2, 1, 24, 2, 1, 1, 1, 1, 1, 1, 1, 3, 1, 1, 1, 1, 19, 1, 1, 1, 1, 1, 1, 1, 1, 1, 1, 1, 7, 25, 7, 25, 1, 1, 1, 1, 1, 1, 1, 1, 1, 1, 1, 6, 7, 1, 1, 1, 1, 1, 1, 1, 1, 19, 1, 2, 1, 1, 1, 1, 1, 1, 6, 1, 1, 1, 16, 1, 17, 32, 33, 33, 1, 1, 1, 1, 1, 55, 25, 25, 1, 1, 1, 1, 1, 1, 11, 1, 6, 2, 25, 1, 20, 1, 1, 1, 1, 1, 1, 9, 1, 1, 1, 1, 1, 1, 1, 1, 1, 1, 1, 1, 1, 1, 28, 17, 32, 13, 1, 1, 8, 23, 23, 29, 29, 1, 1, 1, 1, 1, 1, 6, 1, 6, 1, 1, 1, 1, 15, 7, 1, 1, 14, 2, 1, 1, 1, 1, 1, 1, 1, 2, 1, 1, 1, 1, 1, 1, 1, 1, 1, 1, 15, 8, 1, 34, 34, 2, 2, 1, 1, 1, 1, 52, 46, 14, 40, 2, 2, 15, 15, 24, 8, 63, 19, 2, 1, 15, 8, 23, 2, 19, 7, 6, 1, 1, 1, 1, 1, 1, 1, 1, 1, 1, 76, 1, 1, 1, 1, 1, 1, 1, 1, 1, 1, 1, 1, 12, 1, 1, 1, 28, 17, 32, 33, 1, 1, 1, 1, 1, 1, 1, 1, 6, 1, 1, 15, 8, 1, 1, 1, 1, 1, 2, 11, 1, 1, 1, 7, 6, 15, 1, 1, 1, 1, 1, 1, 1, 1, 1, 1, 1, 1, 7, 1, 1, 11, 7, 11, 1, 1, 1, 2, 1, 1, 1, 1, 1, 1, 1, 8, 11, 28, 13, 13, 1, 2, 2, 2, 30, 29, 29, 1, 1, 1, 7, 1, 55, 1, 20, 9, 1, 1, 1, 1, 1, 7, 16, 13, 1, 22, 1, 28, 1, 28, 1, 1, 1, 1, 1, 1, 1, 1, 1, 24, 1, 1, 1, 1, 1, 1, 1, 1, 1, 1, 1, 1, 1, 1, 1, 1, 1, 1, 1, 1, 1, 1, 1, 1, 1, 1, 7, 22, 23, 13, 29, 33, 24, 19, 1, 7, 15, 7, 22, 34, 2, 7, 24, 7, 6, 1, 1, 1, 1, 1, 77, 77, 24, 7, 1, 52, 1, 1, 1, 1, 1, 6, 6, 2, 1, 1, 1, 76, 1, 1, 1, 1, 1, 1, 1, 1, 1, 1, 12, 1, 1, 1, 1, 1, 1, 1, 1, 1, 2, 24, 24, 19, 1, 1, 1, 1, 1, 1, 1, 1, 1, 1, 22, 1, 1, 1, 1, 1, 1, 1, 7, 6, 1, 1, 1, 1, 1, 1, 1, 1, 11, 1, 1, 23, 1, 1, 17, 32, 33, 1, 1, 1, 1, 1, 1, 1, 1, 1, 29, 30, 2, 7, 1, 6, 20, 20, 1, 15, 15, 7, 7, 1, 8, 1, 15, 52, 52, 19, 2, 1, 1, 1, 1, 29, 30, 2, 1, 1, 1, 1, 1, 1, 20, 1, 1, 1, 1, 1, 1, 1, 1, 1, 1, 12, 1, 1, 1, 2, 2, 1, 1, 1, 1, 1, 1, 1, 1, 1, 1, 1, 1, 1, 1, 1, 1, 1, 1, 1, 2, 1, 1, 1, 1, 1, 1, 1, 1, 1, 1, 25, 1, 1, 1, 1, 1, 1, 1, 1, 1, 1, 16, 6, 6, 16, 1, 1, 47, 1, 1, 1, 1, 2, 1, 1, 1, 13, 6, 1, 1, 1, 1, 1, 1, 1, 1, 1, 1, 7, 1, 7, 1, 1, 1, 1, 1, 1, 1, 15, 1, 1, 9, 1, 1, 1, 19, 1, 1, 1, 1, 1, 1, 1, 1, 2, 1, 20, 15, 1, 1, 1, 1, 2, 19, 6, 13, 1, 1, 1, 1, 2, 1, 1, 1, 1, 1, 1, 1, 1, 1, 1, 2, 1, 1, 1, 8, 23, 33, 1, 30, 29, 29, 1, 1, 1, 1, 1, 1, 24, 1, 1, 1, 7, 6, 7, 6, 3, 1, 7, 6, 2, 14, 1, 15, 1, 1, 7, 6, 1, 6, 11, 1, 7, 12, 7, 11, 9, 1, 13, 28, 17, 32, 33, 1, 1, 22, 1, 1, 7, 11, 1, 1, 6, 7, 20, 1, 1, 1, 22, 12, 1, 1, 1, 14, 15, 6, 7, 22, 1, 1, 1, 1, 1, 1, 1, 1, 1, 1, 1, 1, 11, 22, 1, 1, 1, 29, 30, 1, 13, 2, 16, 1, 13, 2, 16, 19, 1, 1, 1, 1, 1, 19, 11, 7, 1, 1, 2, 78, 6, 77, 77, 15, 6, 20, 15, 79, 80, 80, 79, 3, 6, 6, 15, 7, 1, 2, 1, 1, 7, 16, 6, 1, 1, 1, 1, 1, 1, 6, 1, 1, 3, 15, 1, 1, 1, 37, 37, 1, 33, 1, 1, 1, 1, 1, 1, 24, 6, 16, 1, 1, 1, 1, 1, 6, 15, 1, 1, 1, 2, 54, 4, 1, 1, 7, 7, 5, 1, 1, 2, 5, 50, 15, 7, 1, 1, 1, 1, 1, 1, 22, 1, 1, 1, 1, 1, 8, 23, 9, 1, 1, 1, 1, 2, 1, 1, 33, 37, 75, 23, 1, 19, 1, 1, 1, 7, 6, 6, 7, 23, 16, 17, 18, 6, 7, 1, 24, 7, 1, 7, 81, 7, 6, 1, 34, 6, 8, 48, 10, 17, 32, 24, 2, 1, 2, 1, 1, 1, 1, 1, 1, 1, 1, 1, 1, 1, 1, 8, 1, 1, 1, 1, 1, 1, 1, 1, 2, 6, 25, 6, 1, 1, 1, 12, 1, 1, 9, 1, 10, 2, 34, 1, 1, 1, 1, 15, 8, 23, 23, 15, 7, 7, 7, 22, 1, 1, 28, 17, 32, 33, 33, 11, 1, 6, 1, 1, 1, 1, 1, 12, 7, 7, 1, 1, 8, 1, 1, 28, 17, 32, 13, 1, 1, 1, 1, 1, 1, 1, 1, 1, 1, 6, 20, 1, 1, 1, 1, 7, 1, 1, 1, 1, 19, 2, 2, 8, 23, 23, 28, 17, 1, 1, 1, 1, 1, 1, 1, 1, 24, 30, 2, 2, 1, 6, 7, 1, 15, 7, 6, 7, 7, 24, 24, 19, 6, 7, 7, 7, 7, 1, 8, 9, 2, 1, 8, 1, 2, 14, 15, 15, 8, 8, 9, 34, 34, 2, 1, 1, 1, 1, 1, 1, 1, 1, 1, 1, 7, 6, 1, 1, 6, 82, 82, 42, 1, 14, 39, 17, 1, 1, 19, 1, 1, 1, 1, 1, 1, 1, 1, 1, 1, 1, 1, 1, 1, 1, 1, 1, 1, 1, 2, 1, 1, 2, 28, 1, 6, 1, 6, 6, 6, 1, 1, 1, 1, 1, 1, 1, 18, 19, 2, 1, 6, 7, 6, 12, 1, 1, 1, 1, 1, 1, 1, 1, 1, 6, 6, 15, 15, 8, 75, 23, 1, 1, 28, 1, 11, 1, 1, 1, 1, 1, 1, 1, 1, 1, 1, 1, 1, 1, 1, 1, 1, 1, 1, 2, 1, 1, 6, 7, 1, 1, 29, 30, 29, 30, 1, 1, 1, 1, 1, 1, 1, 66, 66, 1, 1, 1, 1, 1, 1, 1, 1, 1, 1, 1, 35, 1, 1, 1, 13, 1, 28, 17, 32, 32, 33, 1, 1, 1, 1, 1, 1, 1, 7, 6, 7, 1, 1, 1, 2, 1, 1, 1, 1, 1, 1, 1, 1, 1, 1, 1, 1, 1, 1, 1, 1, 19, 2, 2, 1, 6, 15, 7, 1, 1, 16, 17, 28, 17, 1, 1, 1, 1, 1, 1, 1, 1, 15, 6, 7, 1, 1, 1, 1, 1, 8, 1, 1, 1, 19, 2, 1, 1, 1, 1, 20, 12, 8, 9, 1, 1, 1, 1, 1, 1, 1, 1, 1, 1, 1, 22, 1, 1, 1, 29, 30, 1, 1, 1, 1, 1, 1, 1, 1, 1, 16, 17, 32, 1, 6, 1, 13, 7, 11, 13, 28, 33, 1, 1, 22, 8, 23, 1, 1, 28, 66, 13, 1, 1, 29, 30, 6, 1, 1, 1, 1, 1, 1, 1, 1, 1, 30, 1, 1, 1, 20, 1, 1, 1, 1, 1, 1, 1, 1, 1, 1, 1, 16, 11, 7, 7, 11, 1, 1, 1, 6, 1, 1, 1, 1, 19, 1, 1, 1, 20, 20, 7, 52, 1, 1, 1, 1, 1, 1, 10, 1, 32, 1, 28, 33, 2, 1, 1, 1, 1, 1, 7, 14, 2, 1, 1, 1, 1, 1, 1, 1, 1, 1, 1, 1, 1, 1, 1, 1, 1, 1, 1, 19, 1, 1, 1, 1, 1, 1, 2, 1, 1, 10, 1, 1, 1, 1, 1, 2, 1, 24, 1, 1, 1, 1, 1, 1, 1, 1, 1, 1, 1, 1, 1, 1, 1, 1, 23, 37, 1, 1, 1, 1, 1, 1, 1, 6, 1, 1, 1, 1, 6, 6, 15, 7, 1, 1, 1, 1, 1, 1, 1, 1, 1, 1, 2, 2, 1, 1, 1, 6, 15, 20, 1, 1, 1, 25, 19, 2, 1, 1, 1, 1, 1, 1, 1, 10, 20, 1, 1, 1, 8, 11, 11, 33, 1, 1, 1, 1, 1, 1, 1, 1, 1, 1, 1, 1, 1, 7, 6, 1, 30, 1, 1, 2, 7, 1, 22, 34, 1, 1, 1, 1, 1, 19, 1, 1, 12, 7, 1, 1, 1, 1, 1, 1, 1, 1, 15, 7, 2, 1, 1, 2, 1, 34, 2, 14, 22, 1, 2, 1, 1, 29, 30, 1, 19, 1, 1, 17, 32, 33, 33, 1, 1, 16, 1, 16, 28, 1, 2, 1, 1, 23, 1, 7, 7, 7, 1, 1, 1, 1, 1, 1, 1, 1, 1, 1, 1, 1, 1, 47, 1, 1, 1, 1, 1, 1, 1, 6, 20, 1, 1, 1, 1, 1, 24, 1, 19, 2, 2, 1, 1, 1, 1, 1, 13, 6, 1, 2, 1, 1, 1, 1, 1, 1, 1, 1, 1, 1, 7, 20, 20, 1, 1, 1, 1, 8, 23, 23, 1, 1, 17, 32, 33, 33, 1, 1, 2, 1, 1, 29, 30, 2, 1, 1, 1, 1, 1, 15, 1, 1, 1, 1, 1, 1, 1, 1, 1, 1, 6, 13, 6, 13, 1, 1, 1, 1, 11, 1, 25, 83, 15, 1, 30, 1, 19, 2, 1, 1, 1, 1, 1, 1, 1, 1, 1, 1, 1, 1, 1, 1, 22, 23, 37, 37, 1, 1, 1, 1, 4, 1, 1, 1, 1, 1, 1, 1, 1, 7, 1, 1, 1, 6, 12, 1, 6, 1, 1, 22, 1, 1, 22, 23, 1, 1, 1, 1, 1, 1, 1, 4, 4, 1, 1, 1, 20, 1, 1, 1, 1, 1, 12, 1, 1, 1, 10, 1, 1, 9, 1, 11, 22, 6, 23, 8, 2, 24, 24, 1, 1, 1, 1, 1, 30, 1, 1, 1, 2, 1, 33, 1, 1, 2, 6, 1, 7, 1, 1, 1, 1, 1, 1, 2, 1, 1, 20, 1, 1, 1, 1, 1, 1, 1, 1, 1, 1, 1, 1, 10, 1, 1, 1, 1, 1, 1, 1, 13, 7, 1, 6, 6, 1, 1, 19, 1, 1, 1, 2, 2, 21, 6, 1, 8, 1, 1, 1, 1, 1, 1, 1, 1, 1, 1, 1, 9, 1, 1, 1, 1, 1, 1, 1, 1, 1, 1, 1, 1, 1, 1, 1, 7, 2, 15, 8, 23, 1, 2, 1, 10, 78, 1, 28, 33, 29, 1, 1, 29, 30, 1, 1, 1, 1, 11, 1, 1, 1, 1, 1, 1, 1, 1, 37, 1, 33, 1, 1, 1, 1, 1, 2, 1, 6, 6, 7, 13, 17, 32, 13, 7, 10, 1, 2, 54, 4, 1, 1, 1, 1, 1, 1, 1, 2, 1, 1, 20, 1, 1, 1, 1, 1, 1, 1, 1, 1, 1, 1, 1, 1, 33, 13, 1, 1, 8, 23, 23, 1, 1, 24, 1, 19, 1, 1, 1, 1, 1, 1, 1, 7, 1, 7, 1, 1, 1, 1, 1, 1, 6, 6, 1, 6, 15, 7, 1, 16, 1, 28, 33, 1, 1, 1, 1, 19, 2, 1, 1, 1, 2, 1, 1, 1, 1, 1, 1, 1, 9, 1, 1, 1, 1, 1, 1, 24, 19, 2, 24, 2, 1, 1, 1, 11, 50, 1, 1, 1, 1, 1, 1, 6, 1, 1, 1, 1, 13, 7, 15, 15, 22, 13, 1, 17, 32, 13, 13, 1, 1, 6, 7, 1, 1, 1, 1, 1, 2, 1, 1, 1, 1, 1, 1, 22, 1, 28, 17, 32, 1, 1, 1, 6, 7, 15, 15, 7, 6, 13, 32, 1, 1, 1, 1, 1, 1, 1, 1, 1, 1, 1, 15, 15, 1, 1, 1, 8, 23, 1, 1, 16, 2, 1, 1, 1, 1, 2, 6, 7, 25, 2, 6, 7, 25, 16, 16, 13, 32, 1, 19, 2, 13, 2, 1, 1, 1, 1, 1, 1, 16, 1, 1, 1, 1, 6, 15, 1, 15, 8, 1, 1, 1, 1, 1, 19, 1, 6, 16, 1, 1, 1, 1, 1, 1, 1, 1, 1, 1, 1, 1, 1, 28, 17, 32, 33, 29, 11, 9, 9, 1, 11, 76, 6, 1, 20, 1, 1, 1, 1, 29, 1, 6, 6, 7, 6, 7, 6, 1, 1, 1, 15, 22, 10, 10, 4, 1, 25, 1, 1, 1, 22, 1, 29, 30, 2, 1, 1, 1, 1, 1, 1, 1, 1, 2, 1, 2, 1, 6, 6, 1, 20, 22, 15, 7, 77, 19, 2, 13, 28, 17, 32, 1, 1, 19, 2, 1, 1, 1, 1, 1, 11, 1, 9, 75, 23, 11, 1, 1, 1, 1, 1, 1, 1, 2, 1, 19, 1, 6, 1, 23, 19, 2, 11, 6, 1, 1, 1, 2, 24, 24, 1, 1, 1, 1, 1, 2, 15, 7, 15, 7, 1, 1, 42, 52, 19, 1, 1, 24, 19, 1, 1, 1, 1, 19, 1, 24, 25, 1, 1, 1, 1, 1, 1, 17, 1, 1, 1, 17, 67, 1, 1, 1, 1, 1, 1, 1, 1, 1, 1, 1, 2, 1, 1, 1, 1, 1, 1, 1, 1, 1, 29, 30, 24, 2, 15, 1, 1, 1, 1, 6, 6, 22, 15, 75, 2, 1, 1, 1, 1, 1, 1, 1, 1, 1, 1, 1, 1, 1, 1, 1, 1, 1, 20, 20, 12, 15, 22, 15, 29, 30, 2, 19, 14, 15, 2, 6, 20, 1, 1, 1, 1, 1, 22, 10, 1, 1, 1, 1, 6, 7, 1, 1, 11, 1, 1, 2, 1, 1, 1, 1, 1, 1, 1, 1, 20, 1, 1, 1, 1, 1, 1, 1, 1, 1, 12, 1, 1, 1, 6, 16, 15, 1, 16, 28, 32, 1, 1, 1, 1, 16, 6, 1, 1, 1, 1, 1, 1, 2, 6, 15, 15, 1, 1, 15, 7, 1, 1, 1, 1, 1, 1, 1, 1, 1, 1, 1, 1, 1, 1, 1, 1, 1, 1, 1, 1, 1, 20, 1, 1, 1, 1, 1, 6, 6, 15, 8, 23, 7, 84, 28, 1, 9, 9, 1, 23, 1, 1, 1, 1, 1, 1, 4, 1, 1, 20, 15, 6, 7, 1, 1, 1, 1, 1, 1, 1, 1, 1, 1, 1, 1, 1, 1, 1, 1, 1, 20, 7, 7, 2, 1, 1, 1, 1, 1, 6, 1, 1, 1, 1, 6, 1, 1, 15, 6, 7, 13, 1, 15, 22, 28, 1, 1, 21, 7, 6, 85, 8, 33, 7, 22, 20, 1, 1, 1, 15, 11, 35, 1, 24, 24, 2, 1, 1, 1, 1, 1, 6, 86, 20, 1, 15, 1, 1, 6, 8, 1, 1, 24, 24, 87, 1, 1, 1, 1, 1, 1, 9, 1, 1, 9, 20, 20, 1, 1, 1, 1, 1, 1, 1, 6, 6, 15, 15, 1, 1, 1, 1, 1, 1, 1, 1, 1, 7, 2, 37, 1, 1, 1, 1, 2, 2, 1, 1, 1, 33, 28, 32, 1, 1, 1, 4, 4, 1, 1, 1, 35, 47, 2, 38, 15, 8, 15, 1, 17, 28, 31, 13, 88, 1, 31, 13, 6, 7, 1, 1, 20, 1, 15, 1, 1, 1, 1, 1, 1, 1, 1, 16, 6, 7, 15, 7, 20, 6, 25, 6, 20, 20, 1, 6, 15, 14, 14, 1, 8, 51, 1, 1, 1, 1, 29, 30, 1, 1, 1, 1, 1, 1, 1, 1, 26, 2, 1, 16, 6, 85, 2, 2, 19, 2, 1, 1, 1, 1, 1, 1, 1, 1, 9, 1, 1, 1, 1, 1, 6, 1, 20, 6, 8, 10, 1, 1, 1, 1, 1, 20, 38, 38, 23, 29, 23, 1, 69, 2, 2, 29, 2, 2, 1, 1, 1, 15, 1, 1, 1, 1, 1, 1, 1, 1, 6, 72, 13, 20, 13, 1, 1, 6, 11, 13, 1, 15, 8, 23, 1, 1, 28, 1, 1, 76, 1, 1, 1, 1, 1, 1, 7, 15, 1, 7, 1, 1, 1, 6, 1, 1, 1, 1, 1, 1, 17, 32, 33, 33, 78, 78, 4, 4, 1, 1, 1, 1, 19, 1, 1, 1, 1, 2, 2, 1, 1, 1, 1, 1, 1, 1, 1, 1, 22, 1, 17, 18, 32, 32, 18, 1, 1, 1, 1, 1, 1, 1, 2, 1, 1, 1, 1, 1, 1, 1, 1, 1, 1, 1, 22, 12, 1, 1, 22, 25, 4, 1, 1, 1, 1, 1, 1, 1, 1, 1, 1, 1, 2, 1, 1, 1, 1, 1, 1, 1, 1, 1, 1, 1, 7, 20, 1, 19, 2, 1, 1, 1, 1, 28, 16, 1, 1, 1, 1, 1, 1, 1, 1, 7, 1, 7, 1, 1, 1, 6, 43, 1, 1, 1, 6, 15, 15, 14, 2, 1, 1, 2, 19, 1, 20, 8, 9, 89, 89, 33, 19, 15, 7, 8, 1, 1, 1, 1, 1, 2, 1, 1, 1, 41, 41, 1, 1, 1, 1, 1, 1, 1, 1, 1, 15, 1, 1, 1, 15, 7, 1, 1, 1, 1, 1, 22, 1, 1, 1, 1, 1, 1, 1, 1, 1, 1, 1, 1, 1, 1, 1, 28, 42, 16, 37, 8, 23, 1, 1, 1, 1, 1, 1, 1, 1, 6, 15, 15, 1, 1, 1, 1, 1, 1, 1, 22, 1, 1, 1, 1, 1, 1, 2, 1, 2, 1, 15, 22, 8, 11, 6, 17, 32, 33, 33, 29, 11, 29, 1, 25, 22, 8, 1, 6, 1, 13, 1, 19, 1, 1, 19, 2, 2, 1, 1, 1, 1, 1, 1, 1, 16, 17, 1, 11, 1, 1, 1, 1, 2, 90, 90, 1, 7, 1, 1, 1, 1, 1, 1, 29, 37, 33, 1, 1, 91, 6, 1, 1, 1, 1, 1, 1, 1, 1, 4, 1, 1, 1, 1, 1, 20, 1, 1, 8, 23, 23, 1, 1, 1, 1, 1, 1, 1, 1, 1, 1, 1, 1, 1, 1, 1, 1, 29, 30, 2, 1, 1, 1, 1, 1, 1, 1, 1, 1, 1, 1, 1, 2, 7, 1, 1, 1, 1, 1, 1, 1, 25, 20, 2, 1, 1, 1, 1, 1, 1, 20, 8, 9, 1, 28, 33, 33, 6, 16, 19, 1, 6, 11, 2, 1, 56, 1, 1, 1, 1, 1, 2, 1, 1, 1, 1, 1, 1, 1, 1, 1, 1, 6, 7, 1, 1, 1, 15, 15, 2, 19, 1, 1, 1, 1, 1, 1, 1, 1, 1, 7, 15, 25, 1, 1, 1, 1, 1, 1, 22, 8, 1, 1, 1, 1, 1, 1, 1, 28, 92, 34, 2, 2, 2, 6, 16, 1, 15, 1, 37, 1, 28, 33, 29, 1, 1, 1, 5, 2, 2, 1, 22, 1, 28, 28, 33, 1, 1, 1, 1, 6, 7, 7, 6, 1, 1, 1, 1, 1, 1, 1, 1, 6, 19, 1, 1, 1, 1, 1, 1, 1, 1, 7, 8, 11, 33, 1, 1, 1, 1, 1, 1, 15, 7, 1, 1, 22, 1, 1, 1, 1, 1, 2, 1, 2, 2, 4, 4, 12, 51, 1, 1, 1, 1, 1, 2, 19, 2, 1, 1, 20, 21, 1, 1, 28, 17, 32, 33, 1, 1, 1, 1, 9, 22, 1, 1, 28, 33, 2, 1, 1, 1, 1, 1, 1, 1, 1, 1, 1, 2, 1, 1, 1, 1, 7, 6, 1, 1, 1, 1, 1, 1, 24, 24, 7, 1, 8, 11, 8, 8, 35, 4, 4, 1, 1, 1, 1, 1, 1, 1, 1, 1, 1, 1, 1, 1, 8, 23, 1, 1, 19, 2, 1, 1, 1, 17, 33, 1, 2, 1, 1, 1, 1, 6, 7, 1, 1, 1, 8, 1, 11, 1, 1, 1, 9, 1, 1, 1, 1, 1, 1, 30, 2, 1, 1, 1, 1, 1, 1, 20, 20, 1, 1, 1, 1, 12, 1, 1, 1, 6, 1, 1, 1, 6, 1, 1, 30, 24, 2, 1, 1, 1, 1, 15, 1, 1, 28, 1, 1, 1, 7, 1, 11, 28, 33, 24, 1, 2, 1, 25, 1, 1, 1, 1, 2, 1, 1, 1, 1, 1, 1, 1, 1, 1, 1, 1, 1, 1, 1, 1, 1, 1, 1, 1, 1, 1, 1, 1, 1, 3, 1, 13, 1, 67, 5, 1, 1, 1, 7, 1, 15, 14, 2, 1, 1, 1, 1, 1, 1, 1, 1, 6, 20, 21, 6, 6, 1, 7, 11, 1, 1, 1, 6, 25, 2, 1, 6, 1, 15, 7, 1, 1, 16, 13, 1, 1, 1, 1, 1, 1, 2, 29, 23, 28, 17, 32, 33, 19, 1, 1, 2, 1, 1, 1, 1, 1, 1, 1, 1, 1, 1, 1, 1, 1, 8, 39, 39, 1, 1, 1, 1, 1, 1, 1, 1, 1, 23, 37, 37, 1, 17, 32, 33, 1, 1, 1, 1, 1, 1, 1, 19, 19, 2, 2, 1, 1, 1, 1, 1, 1, 1, 1, 1, 20, 12, 14, 14, 11, 1, 1, 1, 1, 2, 19, 46, 52, 8, 35, 33, 1, 19, 2, 1, 2, 6, 20, 12, 12, 12, 8, 9, 17, 17, 58, 1, 19, 19, 2, 7, 15, 1, 1, 1, 15, 7, 1, 1, 7, 1, 6, 7, 1, 8, 11, 1, 1, 17, 32, 33, 29, 2, 2, 1, 1, 1, 15, 7, 7, 7, 1, 1, 1, 1, 7, 7, 1, 1, 20, 6, 7, 1, 1, 16, 13, 11, 1, 2, 1, 1, 1, 17, 32, 13, 1, 1, 1, 1, 1, 2, 7, 1, 12, 1, 1, 1, 1, 1, 9, 1, 1, 1, 1, 1, 15, 22, 15, 7, 1, 2, 6, 25, 6, 7, 1, 1, 1, 9, 1, 1, 1, 2, 1, 1, 1, 1, 1, 1, 1, 1, 1, 1, 1, 1, 1, 1, 1, 1, 1, 1, 1, 6, 6, 20, 20, 1, 1, 22, 1, 1, 19, 19, 1, 1, 1, 1, 1, 1, 1, 1, 1, 1, 1, 1, 2, 1, 1, 6, 15, 1, 1, 20, 1, 1, 15, 7, 1, 1, 1, 1, 2, 6, 1, 16, 28, 1, 1, 1, 2, 1, 13, 16, 13, 13, 16, 33, 1, 1, 1, 1, 1, 1, 1, 1, 6, 1, 1, 15, 6, 6, 1, 1, 2, 2, 1, 15, 7, 1, 1, 1, 1, 1, 1, 1, 1, 1, 1, 1, 1, 1, 1, 1, 1, 1, 10, 10, 89, 33, 33, 22, 8, 20, 1, 20, 20, 1, 1, 1, 1, 1, 19, 2, 2, 1, 1, 1, 1, 1, 1, 1, 1, 1, 1, 1, 1, 1, 1, 1, 1, 1, 1, 29, 30, 24, 1, 2, 1, 24, 1, 6, 1, 15, 7, 1, 6, 25, 6, 7, 13, 1, 32, 13, 1, 1, 1, 1, 1, 19, 2, 2, 1, 1, 1, 1, 1, 1, 1, 1, 1, 16, 2, 1, 1, 1, 1, 1, 1, 1, 1, 1, 22, 8, 23, 1, 1, 6, 1, 2, 1, 10, 4, 1, 9, 22, 9, 1, 1, 1, 28, 28, 17, 33, 1, 1, 1, 1, 12]\n"
     ]
    }
   ],
   "source": [
    "# Now map each label to its corresponding integer\n",
    "print(\"Old labels: \",str(labels))\n",
    "labels = [label_types.get(l) for l in labels]\n",
    "print(\"New labels: \",str(labels))"
   ]
  },
  {
   "cell_type": "code",
   "execution_count": 18,
   "metadata": {
    "colab": {},
    "colab_type": "code",
    "id": "htRjVQyojbgN"
   },
   "outputs": [],
   "source": [
    "# Use train_test_split to split our data into train and validation sets for training\n",
    "\n",
    "train_inputs, validation_inputs, train_labels, validation_labels = train_test_split(input_ids, labels, \n",
    "                                                            random_state=2018, test_size=0.1)\n",
    "train_masks, validation_masks, _, _ = train_test_split(attention_masks, input_ids,\n",
    "                                             random_state=2018, test_size=0.1)"
   ]
  },
  {
   "cell_type": "code",
   "execution_count": 19,
   "metadata": {
    "colab": {},
    "colab_type": "code",
    "id": "UKpWMj-EjboB"
   },
   "outputs": [],
   "source": [
    "# Convert all of our data into torch tensors, the required datatype for our model\n",
    "\n",
    "train_inputs = torch.tensor(train_inputs)\n",
    "validation_inputs = torch.tensor(validation_inputs)\n",
    "train_labels = torch.tensor(train_labels)\n",
    "validation_labels = torch.tensor(validation_labels)\n",
    "train_masks = torch.tensor(train_masks)\n",
    "validation_masks = torch.tensor(validation_masks)"
   ]
  },
  {
   "cell_type": "code",
   "execution_count": 20,
   "metadata": {
    "colab": {},
    "colab_type": "code",
    "id": "KIlXwhh67BXS"
   },
   "outputs": [],
   "source": [
    "# Create an iterator of our data with torch DataLoader. This helps save on memory during training because, unlike a for loop, \n",
    "# with an iterator the entire dataset does not need to be loaded into memory\n",
    "\n",
    "train_data = TensorDataset(train_inputs, train_masks, train_labels)\n",
    "train_sampler = RandomSampler(train_data)\n",
    "train_dataloader = DataLoader(train_data, sampler=train_sampler, batch_size=BATCH_SIZE)\n",
    "\n",
    "validation_data = TensorDataset(validation_inputs, validation_masks, validation_labels)\n",
    "validation_sampler = SequentialSampler(validation_data)\n",
    "validation_dataloader = DataLoader(validation_data, sampler=validation_sampler, batch_size=BATCH_SIZE)"
   ]
  },
  {
   "cell_type": "code",
   "execution_count": 21,
   "metadata": {
    "colab": {
     "base_uri": "https://localhost:8080/",
     "height": 1000
    },
    "colab_type": "code",
    "id": "MWbESUZsjblO",
    "outputId": "912da941-3ee6-4a85-978a-f6462d3ae712"
   },
   "outputs": [
    {
     "data": {
      "text/plain": [
       "BertForSequenceClassification(\n",
       "  (bert): BertModel(\n",
       "    (embeddings): BertEmbeddings(\n",
       "      (word_embeddings): Embedding(28996, 768, padding_idx=0)\n",
       "      (position_embeddings): Embedding(512, 768)\n",
       "      (token_type_embeddings): Embedding(2, 768)\n",
       "      (LayerNorm): BertLayerNorm()\n",
       "      (dropout): Dropout(p=0.1, inplace=False)\n",
       "    )\n",
       "    (encoder): BertEncoder(\n",
       "      (layer): ModuleList(\n",
       "        (0): BertLayer(\n",
       "          (attention): BertAttention(\n",
       "            (self): BertSelfAttention(\n",
       "              (query): Linear(in_features=768, out_features=768, bias=True)\n",
       "              (key): Linear(in_features=768, out_features=768, bias=True)\n",
       "              (value): Linear(in_features=768, out_features=768, bias=True)\n",
       "              (dropout): Dropout(p=0.1, inplace=False)\n",
       "            )\n",
       "            (output): BertSelfOutput(\n",
       "              (dense): Linear(in_features=768, out_features=768, bias=True)\n",
       "              (LayerNorm): BertLayerNorm()\n",
       "              (dropout): Dropout(p=0.1, inplace=False)\n",
       "            )\n",
       "          )\n",
       "          (intermediate): BertIntermediate(\n",
       "            (dense): Linear(in_features=768, out_features=3072, bias=True)\n",
       "          )\n",
       "          (output): BertOutput(\n",
       "            (dense): Linear(in_features=3072, out_features=768, bias=True)\n",
       "            (LayerNorm): BertLayerNorm()\n",
       "            (dropout): Dropout(p=0.1, inplace=False)\n",
       "          )\n",
       "        )\n",
       "        (1): BertLayer(\n",
       "          (attention): BertAttention(\n",
       "            (self): BertSelfAttention(\n",
       "              (query): Linear(in_features=768, out_features=768, bias=True)\n",
       "              (key): Linear(in_features=768, out_features=768, bias=True)\n",
       "              (value): Linear(in_features=768, out_features=768, bias=True)\n",
       "              (dropout): Dropout(p=0.1, inplace=False)\n",
       "            )\n",
       "            (output): BertSelfOutput(\n",
       "              (dense): Linear(in_features=768, out_features=768, bias=True)\n",
       "              (LayerNorm): BertLayerNorm()\n",
       "              (dropout): Dropout(p=0.1, inplace=False)\n",
       "            )\n",
       "          )\n",
       "          (intermediate): BertIntermediate(\n",
       "            (dense): Linear(in_features=768, out_features=3072, bias=True)\n",
       "          )\n",
       "          (output): BertOutput(\n",
       "            (dense): Linear(in_features=3072, out_features=768, bias=True)\n",
       "            (LayerNorm): BertLayerNorm()\n",
       "            (dropout): Dropout(p=0.1, inplace=False)\n",
       "          )\n",
       "        )\n",
       "        (2): BertLayer(\n",
       "          (attention): BertAttention(\n",
       "            (self): BertSelfAttention(\n",
       "              (query): Linear(in_features=768, out_features=768, bias=True)\n",
       "              (key): Linear(in_features=768, out_features=768, bias=True)\n",
       "              (value): Linear(in_features=768, out_features=768, bias=True)\n",
       "              (dropout): Dropout(p=0.1, inplace=False)\n",
       "            )\n",
       "            (output): BertSelfOutput(\n",
       "              (dense): Linear(in_features=768, out_features=768, bias=True)\n",
       "              (LayerNorm): BertLayerNorm()\n",
       "              (dropout): Dropout(p=0.1, inplace=False)\n",
       "            )\n",
       "          )\n",
       "          (intermediate): BertIntermediate(\n",
       "            (dense): Linear(in_features=768, out_features=3072, bias=True)\n",
       "          )\n",
       "          (output): BertOutput(\n",
       "            (dense): Linear(in_features=3072, out_features=768, bias=True)\n",
       "            (LayerNorm): BertLayerNorm()\n",
       "            (dropout): Dropout(p=0.1, inplace=False)\n",
       "          )\n",
       "        )\n",
       "        (3): BertLayer(\n",
       "          (attention): BertAttention(\n",
       "            (self): BertSelfAttention(\n",
       "              (query): Linear(in_features=768, out_features=768, bias=True)\n",
       "              (key): Linear(in_features=768, out_features=768, bias=True)\n",
       "              (value): Linear(in_features=768, out_features=768, bias=True)\n",
       "              (dropout): Dropout(p=0.1, inplace=False)\n",
       "            )\n",
       "            (output): BertSelfOutput(\n",
       "              (dense): Linear(in_features=768, out_features=768, bias=True)\n",
       "              (LayerNorm): BertLayerNorm()\n",
       "              (dropout): Dropout(p=0.1, inplace=False)\n",
       "            )\n",
       "          )\n",
       "          (intermediate): BertIntermediate(\n",
       "            (dense): Linear(in_features=768, out_features=3072, bias=True)\n",
       "          )\n",
       "          (output): BertOutput(\n",
       "            (dense): Linear(in_features=3072, out_features=768, bias=True)\n",
       "            (LayerNorm): BertLayerNorm()\n",
       "            (dropout): Dropout(p=0.1, inplace=False)\n",
       "          )\n",
       "        )\n",
       "        (4): BertLayer(\n",
       "          (attention): BertAttention(\n",
       "            (self): BertSelfAttention(\n",
       "              (query): Linear(in_features=768, out_features=768, bias=True)\n",
       "              (key): Linear(in_features=768, out_features=768, bias=True)\n",
       "              (value): Linear(in_features=768, out_features=768, bias=True)\n",
       "              (dropout): Dropout(p=0.1, inplace=False)\n",
       "            )\n",
       "            (output): BertSelfOutput(\n",
       "              (dense): Linear(in_features=768, out_features=768, bias=True)\n",
       "              (LayerNorm): BertLayerNorm()\n",
       "              (dropout): Dropout(p=0.1, inplace=False)\n",
       "            )\n",
       "          )\n",
       "          (intermediate): BertIntermediate(\n",
       "            (dense): Linear(in_features=768, out_features=3072, bias=True)\n",
       "          )\n",
       "          (output): BertOutput(\n",
       "            (dense): Linear(in_features=3072, out_features=768, bias=True)\n",
       "            (LayerNorm): BertLayerNorm()\n",
       "            (dropout): Dropout(p=0.1, inplace=False)\n",
       "          )\n",
       "        )\n",
       "        (5): BertLayer(\n",
       "          (attention): BertAttention(\n",
       "            (self): BertSelfAttention(\n",
       "              (query): Linear(in_features=768, out_features=768, bias=True)\n",
       "              (key): Linear(in_features=768, out_features=768, bias=True)\n",
       "              (value): Linear(in_features=768, out_features=768, bias=True)\n",
       "              (dropout): Dropout(p=0.1, inplace=False)\n",
       "            )\n",
       "            (output): BertSelfOutput(\n",
       "              (dense): Linear(in_features=768, out_features=768, bias=True)\n",
       "              (LayerNorm): BertLayerNorm()\n",
       "              (dropout): Dropout(p=0.1, inplace=False)\n",
       "            )\n",
       "          )\n",
       "          (intermediate): BertIntermediate(\n",
       "            (dense): Linear(in_features=768, out_features=3072, bias=True)\n",
       "          )\n",
       "          (output): BertOutput(\n",
       "            (dense): Linear(in_features=3072, out_features=768, bias=True)\n",
       "            (LayerNorm): BertLayerNorm()\n",
       "            (dropout): Dropout(p=0.1, inplace=False)\n",
       "          )\n",
       "        )\n",
       "        (6): BertLayer(\n",
       "          (attention): BertAttention(\n",
       "            (self): BertSelfAttention(\n",
       "              (query): Linear(in_features=768, out_features=768, bias=True)\n",
       "              (key): Linear(in_features=768, out_features=768, bias=True)\n",
       "              (value): Linear(in_features=768, out_features=768, bias=True)\n",
       "              (dropout): Dropout(p=0.1, inplace=False)\n",
       "            )\n",
       "            (output): BertSelfOutput(\n",
       "              (dense): Linear(in_features=768, out_features=768, bias=True)\n",
       "              (LayerNorm): BertLayerNorm()\n",
       "              (dropout): Dropout(p=0.1, inplace=False)\n",
       "            )\n",
       "          )\n",
       "          (intermediate): BertIntermediate(\n",
       "            (dense): Linear(in_features=768, out_features=3072, bias=True)\n",
       "          )\n",
       "          (output): BertOutput(\n",
       "            (dense): Linear(in_features=3072, out_features=768, bias=True)\n",
       "            (LayerNorm): BertLayerNorm()\n",
       "            (dropout): Dropout(p=0.1, inplace=False)\n",
       "          )\n",
       "        )\n",
       "        (7): BertLayer(\n",
       "          (attention): BertAttention(\n",
       "            (self): BertSelfAttention(\n",
       "              (query): Linear(in_features=768, out_features=768, bias=True)\n",
       "              (key): Linear(in_features=768, out_features=768, bias=True)\n",
       "              (value): Linear(in_features=768, out_features=768, bias=True)\n",
       "              (dropout): Dropout(p=0.1, inplace=False)\n",
       "            )\n",
       "            (output): BertSelfOutput(\n",
       "              (dense): Linear(in_features=768, out_features=768, bias=True)\n",
       "              (LayerNorm): BertLayerNorm()\n",
       "              (dropout): Dropout(p=0.1, inplace=False)\n",
       "            )\n",
       "          )\n",
       "          (intermediate): BertIntermediate(\n",
       "            (dense): Linear(in_features=768, out_features=3072, bias=True)\n",
       "          )\n",
       "          (output): BertOutput(\n",
       "            (dense): Linear(in_features=3072, out_features=768, bias=True)\n",
       "            (LayerNorm): BertLayerNorm()\n",
       "            (dropout): Dropout(p=0.1, inplace=False)\n",
       "          )\n",
       "        )\n",
       "        (8): BertLayer(\n",
       "          (attention): BertAttention(\n",
       "            (self): BertSelfAttention(\n",
       "              (query): Linear(in_features=768, out_features=768, bias=True)\n",
       "              (key): Linear(in_features=768, out_features=768, bias=True)\n",
       "              (value): Linear(in_features=768, out_features=768, bias=True)\n",
       "              (dropout): Dropout(p=0.1, inplace=False)\n",
       "            )\n",
       "            (output): BertSelfOutput(\n",
       "              (dense): Linear(in_features=768, out_features=768, bias=True)\n",
       "              (LayerNorm): BertLayerNorm()\n",
       "              (dropout): Dropout(p=0.1, inplace=False)\n",
       "            )\n",
       "          )\n",
       "          (intermediate): BertIntermediate(\n",
       "            (dense): Linear(in_features=768, out_features=3072, bias=True)\n",
       "          )\n",
       "          (output): BertOutput(\n",
       "            (dense): Linear(in_features=3072, out_features=768, bias=True)\n",
       "            (LayerNorm): BertLayerNorm()\n",
       "            (dropout): Dropout(p=0.1, inplace=False)\n",
       "          )\n",
       "        )\n",
       "        (9): BertLayer(\n",
       "          (attention): BertAttention(\n",
       "            (self): BertSelfAttention(\n",
       "              (query): Linear(in_features=768, out_features=768, bias=True)\n",
       "              (key): Linear(in_features=768, out_features=768, bias=True)\n",
       "              (value): Linear(in_features=768, out_features=768, bias=True)\n",
       "              (dropout): Dropout(p=0.1, inplace=False)\n",
       "            )\n",
       "            (output): BertSelfOutput(\n",
       "              (dense): Linear(in_features=768, out_features=768, bias=True)\n",
       "              (LayerNorm): BertLayerNorm()\n",
       "              (dropout): Dropout(p=0.1, inplace=False)\n",
       "            )\n",
       "          )\n",
       "          (intermediate): BertIntermediate(\n",
       "            (dense): Linear(in_features=768, out_features=3072, bias=True)\n",
       "          )\n",
       "          (output): BertOutput(\n",
       "            (dense): Linear(in_features=3072, out_features=768, bias=True)\n",
       "            (LayerNorm): BertLayerNorm()\n",
       "            (dropout): Dropout(p=0.1, inplace=False)\n",
       "          )\n",
       "        )\n",
       "        (10): BertLayer(\n",
       "          (attention): BertAttention(\n",
       "            (self): BertSelfAttention(\n",
       "              (query): Linear(in_features=768, out_features=768, bias=True)\n",
       "              (key): Linear(in_features=768, out_features=768, bias=True)\n",
       "              (value): Linear(in_features=768, out_features=768, bias=True)\n",
       "              (dropout): Dropout(p=0.1, inplace=False)\n",
       "            )\n",
       "            (output): BertSelfOutput(\n",
       "              (dense): Linear(in_features=768, out_features=768, bias=True)\n",
       "              (LayerNorm): BertLayerNorm()\n",
       "              (dropout): Dropout(p=0.1, inplace=False)\n",
       "            )\n",
       "          )\n",
       "          (intermediate): BertIntermediate(\n",
       "            (dense): Linear(in_features=768, out_features=3072, bias=True)\n",
       "          )\n",
       "          (output): BertOutput(\n",
       "            (dense): Linear(in_features=3072, out_features=768, bias=True)\n",
       "            (LayerNorm): BertLayerNorm()\n",
       "            (dropout): Dropout(p=0.1, inplace=False)\n",
       "          )\n",
       "        )\n",
       "        (11): BertLayer(\n",
       "          (attention): BertAttention(\n",
       "            (self): BertSelfAttention(\n",
       "              (query): Linear(in_features=768, out_features=768, bias=True)\n",
       "              (key): Linear(in_features=768, out_features=768, bias=True)\n",
       "              (value): Linear(in_features=768, out_features=768, bias=True)\n",
       "              (dropout): Dropout(p=0.1, inplace=False)\n",
       "            )\n",
       "            (output): BertSelfOutput(\n",
       "              (dense): Linear(in_features=768, out_features=768, bias=True)\n",
       "              (LayerNorm): BertLayerNorm()\n",
       "              (dropout): Dropout(p=0.1, inplace=False)\n",
       "            )\n",
       "          )\n",
       "          (intermediate): BertIntermediate(\n",
       "            (dense): Linear(in_features=768, out_features=3072, bias=True)\n",
       "          )\n",
       "          (output): BertOutput(\n",
       "            (dense): Linear(in_features=3072, out_features=768, bias=True)\n",
       "            (LayerNorm): BertLayerNorm()\n",
       "            (dropout): Dropout(p=0.1, inplace=False)\n",
       "          )\n",
       "        )\n",
       "      )\n",
       "    )\n",
       "    (pooler): BertPooler(\n",
       "      (dense): Linear(in_features=768, out_features=768, bias=True)\n",
       "      (activation): Tanh()\n",
       "    )\n",
       "  )\n",
       "  (dropout): Dropout(p=0.1, inplace=False)\n",
       "  (classifier): Linear(in_features=768, out_features=8785, bias=True)\n",
       ")"
      ]
     },
     "execution_count": 21,
     "metadata": {},
     "output_type": "execute_result"
    }
   ],
   "source": [
    "# This is where the fine-tuning comes in. We must train the model for our specific task.\n",
    "\n",
    "# We will first modify pre-trained BERT for our specific task, then continue training on our data until the entire model\n",
    "#   is well-suited for our task.\n",
    "\n",
    "model = BertForSequenceClassification.from_pretrained(BERT_PATH, num_labels=len(labels))\n",
    "model.cuda()"
   ]
  },
  {
   "cell_type": "code",
   "execution_count": 22,
   "metadata": {
    "colab": {},
    "colab_type": "code",
    "id": "_-W9_IQfjbiu"
   },
   "outputs": [],
   "source": [
    "'''\n",
    "Now that we have our model loaded we need to grab the training hyperparameters from within the stored model.\n",
    "\n",
    "For the purposes of fine-tuning, the authors recommend the following hyperparameter ranges:\n",
    "\n",
    "Batch size: 16, 32\n",
    "Learning rate (Adam): 5e-5, 3e-5, 2e-5\n",
    "Number of epochs: 2, 3, 4\n",
    "'''\n",
    "\n",
    "param_optimizer = list(model.named_parameters())\n",
    "no_decay = ['bias', 'gamma', 'beta']\n",
    "optimizer_grouped_parameters = [\n",
    "    {'params': [p for n, p in param_optimizer if not any(nd in n for nd in no_decay)],\n",
    "     'weight_decay_rate': 0.01},\n",
    "    {'params': [p for n, p in param_optimizer if any(nd in n for nd in no_decay)],\n",
    "     'weight_decay_rate': 0.0}\n",
    "]"
   ]
  },
  {
   "cell_type": "code",
   "execution_count": 23,
   "metadata": {
    "colab": {
     "base_uri": "https://localhost:8080/",
     "height": 34
    },
    "colab_type": "code",
    "id": "VJJ0yOIZtOpr",
    "outputId": "dc8cbe15-8e49-450c-be8b-56cdfc551265"
   },
   "outputs": [
    {
     "name": "stderr",
     "output_type": "stream",
     "text": [
      "t_total value of -1 results in schedule not being applied\n"
     ]
    }
   ],
   "source": [
    "optimizer = BertAdam(optimizer_grouped_parameters,\n",
    "                     lr=LEARNING_RATE,\n",
    "                     warmup=WARMUP)"
   ]
  },
  {
   "cell_type": "code",
   "execution_count": 24,
   "metadata": {
    "colab": {},
    "colab_type": "code",
    "id": "GANGNKH7jbd2"
   },
   "outputs": [],
   "source": [
    "# Function to calculate the accuracy of our predictions vs labels\n",
    "def flat_accuracy(preds, labels):\n",
    "    pred_flat = np.argmax(preds, axis=1).flatten()\n",
    "    labels_flat = labels.flatten()\n",
    "    return np.sum(pred_flat == labels_flat) / len(labels_flat)"
   ]
  },
  {
   "cell_type": "code",
   "execution_count": 25,
   "metadata": {
    "colab": {
     "base_uri": "https://localhost:8080/",
     "height": 275
    },
    "colab_type": "code",
    "id": "DKr36ugQ6qZn",
    "outputId": "ee54d937-fc82-4167-9561-f879c4ed01e3",
    "scrolled": true
   },
   "outputs": [
    {
     "name": "stderr",
     "output_type": "stream",
     "text": [
      "Epoch:   0%|                                                                                     | 0/4 [00:00<?, ?it/s]C:\\Users\\Keith\\anaconda3\\envs\\PythonGPU\\lib\\site-packages\\ipykernel_launcher.py:25: UserWarning: To copy construct from a tensor, it is recommended to use sourceTensor.clone().detach() or sourceTensor.clone().detach().requires_grad_(True), rather than torch.tensor(sourceTensor).\n",
      "..\\torch\\csrc\\utils\\python_arg_parser.cpp:756: UserWarning: This overload of add_ is deprecated:\n",
      "\tadd_(Number alpha, Tensor other)\n",
      "Consider using one of the following signatures instead:\n",
      "\tadd_(Tensor other, *, Number alpha)\n"
     ]
    },
    {
     "name": "stdout",
     "output_type": "stream",
     "text": [
      "Train loss: 2.072176072866686\n"
     ]
    },
    {
     "name": "stderr",
     "output_type": "stream",
     "text": [
      "C:\\Users\\Keith\\anaconda3\\envs\\PythonGPU\\lib\\site-packages\\ipykernel_launcher.py:61: UserWarning: To copy construct from a tensor, it is recommended to use sourceTensor.clone().detach() or sourceTensor.clone().detach().requires_grad_(True), rather than torch.tensor(sourceTensor).\n"
     ]
    },
    {
     "name": "stdout",
     "output_type": "stream",
     "text": [
      "Validation Accuracy: 0.6432291666666667\n"
     ]
    },
    {
     "name": "stderr",
     "output_type": "stream",
     "text": [
      "\r",
      "Epoch:  25%|███████████████████                                                         | 1/4 [02:22<07:07, 142.61s/it]"
     ]
    },
    {
     "name": "stdout",
     "output_type": "stream",
     "text": [
      "Train loss: 1.503287234373631\n",
      "Validation Accuracy: 0.6411458333333334\n"
     ]
    },
    {
     "name": "stderr",
     "output_type": "stream",
     "text": [
      "\r",
      "Epoch:  50%|██████████████████████████████████████                                      | 2/4 [04:44<04:44, 142.44s/it]"
     ]
    },
    {
     "name": "stdout",
     "output_type": "stream",
     "text": [
      "Train loss: 1.3147304149404648\n",
      "Validation Accuracy: 0.6520089285714287\n"
     ]
    },
    {
     "name": "stderr",
     "output_type": "stream",
     "text": [
      "\r",
      "Epoch:  75%|█████████████████████████████████████████████████████████                   | 3/4 [07:06<02:22, 142.31s/it]"
     ]
    },
    {
     "name": "stdout",
     "output_type": "stream",
     "text": [
      "Train loss: 1.1152258075533374\n",
      "Validation Accuracy: 0.7011160714285715\n"
     ]
    },
    {
     "name": "stderr",
     "output_type": "stream",
     "text": [
      "Epoch: 100%|████████████████████████████████████████████████████████████████████████████| 4/4 [09:28<00:00, 142.20s/it]\n"
     ]
    }
   ],
   "source": [
    "t = [] \n",
    "\n",
    "# Store our loss and accuracy for plotting\n",
    "train_loss_set = []\n",
    "\n",
    "# trange is a tqdm wrapper around the normal python range\n",
    "for _ in trange(EPOCHS, desc=\"Epoch\"):\n",
    "  \n",
    "  # Training\n",
    "  \n",
    "  # Set our model to training mode (as opposed to evaluation mode)\n",
    "  model.train()\n",
    "  \n",
    "  # Tracking variables\n",
    "  tr_loss = 0\n",
    "  nb_tr_examples, nb_tr_steps = 0, 0\n",
    "  \n",
    "  # Train the data for one epoch\n",
    "  for step, batch in enumerate(train_dataloader):\n",
    "    # Add batch to GPU\n",
    "    batch = tuple(t.to(device) for t in batch)\n",
    "    # Unpack the inputs from our dataloader\n",
    "    b_input_ids, b_input_mask, b_labels = batch\n",
    "    if (USING_COLAB == False):\n",
    "        b_input_ids = torch.tensor(b_input_ids).to(torch.int64) # from https://github.com/huggingface/transformers/issues/2952\n",
    "\n",
    "    # Clear out the gradients (by default they accumulate)\n",
    "    optimizer.zero_grad()\n",
    "    # Forward pass\n",
    "    loss = model(b_input_ids, token_type_ids=None, attention_mask=b_input_mask, labels=b_labels)\n",
    "    train_loss_set.append(loss.item())    \n",
    "    # Backward pass\n",
    "    loss.backward()\n",
    "    # Update parameters and take a step using the computed gradient\n",
    "    optimizer.step()\n",
    "    \n",
    "    # Update tracking variables\n",
    "    tr_loss += loss.item()\n",
    "    nb_tr_examples += b_input_ids.size(0)\n",
    "    nb_tr_steps += 1\n",
    "\n",
    "  print(\"Train loss: {}\".format(tr_loss/nb_tr_steps))\n",
    "    \n",
    "    \n",
    "  # Validation\n",
    "\n",
    "  # Put model in evaluation mode to evaluate loss on the validation set\n",
    "  model.eval()\n",
    "\n",
    "  # Tracking variables \n",
    "  eval_loss, eval_accuracy = 0, 0\n",
    "  nb_eval_steps, nb_eval_examples = 0, 0\n",
    "\n",
    "  # Evaluate data for one epoch\n",
    "  for batch in validation_dataloader:\n",
    "    # Add batch to GPU\n",
    "    batch = tuple(t.to(device) for t in batch)\n",
    "    # Unpack the inputs from our dataloader\n",
    "    b_input_ids, b_input_mask, b_labels = batch\n",
    "    if (USING_COLAB == False):\n",
    "        b_input_ids = torch.tensor(b_input_ids).to(torch.int64) # from https://github.com/huggingface/transformers/issues/2952\n",
    "\n",
    "    # Telling the model not to compute or store gradients, saving memory and speeding up validation\n",
    "    with torch.no_grad():\n",
    "      # Forward pass, calculate logit predictions\n",
    "      logits = model(b_input_ids, token_type_ids=None, attention_mask=b_input_mask)\n",
    "    \n",
    "    # Move logits and labels to CPU\n",
    "    logits = logits.detach().cpu().numpy()\n",
    "    label_ids = b_labels.to('cpu').numpy()\n",
    "\n",
    "    tmp_eval_accuracy = flat_accuracy(logits, label_ids)\n",
    "    \n",
    "    eval_accuracy += tmp_eval_accuracy\n",
    "    nb_eval_steps += 1\n",
    "\n",
    "  print(\"Validation Accuracy: {}\".format(eval_accuracy/nb_eval_steps))"
   ]
  },
  {
   "cell_type": "code",
   "execution_count": 26,
   "metadata": {
    "colab": {},
    "colab_type": "code",
    "id": "bqqQCDEWs0oN"
   },
   "outputs": [],
   "source": [
    "STATS_PATH = \"stats/coral_bleaching_fine_tuning_stats.csv\"\n",
    "if (USING_COLAB):\n",
    "    STATS_PATH = \"drive/My Drive/colab/stats/coral_bleaching_fine_tuning_stats.csv\"\n",
    "    \n",
    "def getLastModelNumber():\n",
    "  with open(STATS_PATH, \"r\") as f:\n",
    "    f_list = list(f)\n",
    "    latest = f_list[-1].split(',')\n",
    "    return int(latest[0])"
   ]
  },
  {
   "cell_type": "code",
   "execution_count": 27,
   "metadata": {
    "colab": {},
    "colab_type": "code",
    "id": "k50fbgDqbai2"
   },
   "outputs": [],
   "source": [
    "# Will take a break from saving models - takes up too much space\n",
    "\n",
    "# import os\n",
    "# import itertools\n",
    "\n",
    "# MODEL_PATH = \"drive/My Drive/colab/models/\" \n",
    "# MODEL_SAVE_NAME = 'coral_bleaching_fine_tuning'\n",
    "\n",
    "# # Helper function for auto-saving model incrementally\n",
    "\n",
    "# # This code is originally from StackExchange via \"Tanner,\" but I altered it for use here\n",
    "# # https://gis.stackexchange.com/questions/27410/how-auto-increment-output-file-names-in-python-script\n",
    "\n",
    "# # Modified with code from Gareth Latty via StackOverflow\n",
    "# # https://stackoverflow.com/questions/13673781/splitting-a-string-where-it-switches-between-numeric-and-alphabetic-characters\n",
    "# def getNextFileInt(output_folder):\n",
    "#     highest_num = 0\n",
    "#     for f in os.listdir(output_folder):\n",
    "#       temp = \"\"\n",
    "#       for c in f:\n",
    "#         if c.isdigit():\n",
    "#           temp += c\n",
    "#         if len(temp) > 0 and int(temp) > highest_num:\n",
    "#           highest_num = int(temp)\n",
    "#     return highest_num + 1"
   ]
  },
  {
   "cell_type": "code",
   "execution_count": 28,
   "metadata": {
    "colab": {
     "base_uri": "https://localhost:8080/",
     "height": 35
    },
    "colab_type": "code",
    "id": "6W-xZT7ybtzL",
    "outputId": "cbf194f0-0224-4447-e47d-08e6894058ac"
   },
   "outputs": [
    {
     "data": {
      "text/plain": [
       "'39'"
      ]
     },
     "execution_count": 28,
     "metadata": {},
     "output_type": "execute_result"
    }
   ],
   "source": [
    "# We will use this in the future to refer to the current model\n",
    "current_file_n_str = str(getLastModelNumber() + 1)\n",
    "current_file_n_str"
   ]
  },
  {
   "cell_type": "code",
   "execution_count": 29,
   "metadata": {
    "colab": {},
    "colab_type": "code",
    "id": "M8-hHD9R6qj1"
   },
   "outputs": [],
   "source": [
    "# # We save the model so that we can access it later\n",
    "\n",
    "# if not os.path.isfile(MODEL_PATH + MODEL_SAVE_NAME):\n",
    "#   torch.save(model.state_dict(), MODEL_PATH + MODEL_SAVE_NAME)\n",
    "# else:\n",
    "#   # Get the model number to save\n",
    "#   current_file_n_str = str(getNextFileInt(MODEL_PATH))\n",
    "#   print(\"This will be file\",current_file_n_str)\n",
    "#   torch.save(model.state_dict(), MODEL_PATH + MODEL_SAVE_NAME + current_file_n_str)"
   ]
  },
  {
   "cell_type": "code",
   "execution_count": 30,
   "metadata": {
    "colab": {
     "base_uri": "https://localhost:8080/",
     "height": 513
    },
    "colab_type": "code",
    "id": "YDoGoe4V6qtf",
    "outputId": "8ad346c3-fda9-4c44-9765-745bc8aa546d"
   },
   "outputs": [
    {
     "data": {
      "image/png": "[encoded data removed]",
      "text/plain": [
       "<Figure size 1080x576 with 1 Axes>"
      ]
     },
     "metadata": {
      "needs_background": "light"
     },
     "output_type": "display_data"
    }
   ],
   "source": [
    "# Let's take a look!\n",
    "\n",
    "plt.figure(figsize=(15,8))\n",
    "plt.title(\"Training loss\")\n",
    "plt.xlabel(\"Batch\")\n",
    "plt.ylabel(\"Loss\")\n",
    "plt.plot(train_loss_set)\n",
    "plt.show()"
   ]
  },
  {
   "cell_type": "code",
   "execution_count": 31,
   "metadata": {
    "colab": {},
    "colab_type": "code",
    "id": "yORLUkJzBwgq"
   },
   "outputs": [],
   "source": [
    "# Now we will validate on our testing data\n",
    "DATA_PATH_TEST = \"data/\"\n",
    "if (USING_COLAB):\n",
    "    DATA_PATH_TEST = \"drive/My Drive/colab/data/\"\n",
    "DATA_NAME_TEST = \"EBA1415-CoralBleaching-little-sentences.tsv\"\n",
    "df_test = pd.read_csv(DATA_PATH_TEST + DATA_NAME_TEST, delimiter='\\t', header=None, names=['file', 'relation', 's_num', 'sentence'])"
   ]
  },
  {
   "cell_type": "code",
   "execution_count": 32,
   "metadata": {
    "colab": {},
    "colab_type": "code",
    "id": "jMbMYLuQBwdt"
   },
   "outputs": [],
   "source": [
    "# Create sentence and label lists\n",
    "sentences_test = df_test.sentence.values\n",
    "\n",
    "# We need to add special tokens at the beginning and end of each sentence for BERT to work properly\n",
    "sentences_test = [\"[CLS] \" + sentence + \" [SEP]\" for sentence in sentences_test]\n",
    "\n",
    "tokenized_texts_test = [tokenizer.tokenize(sentence) for sentence in sentences_test]"
   ]
  },
  {
   "cell_type": "code",
   "execution_count": 33,
   "metadata": {
    "colab": {},
    "colab_type": "code",
    "id": "544FbxSkBwa7"
   },
   "outputs": [],
   "source": [
    "# Get labels\n",
    "labels_test = df_test.relation.values"
   ]
  },
  {
   "cell_type": "code",
   "execution_count": 34,
   "metadata": {
    "colab": {
     "base_uri": "https://localhost:8080/",
     "height": 71
    },
    "colab_type": "code",
    "id": "7FQmuOIsYI8h",
    "outputId": "43a43e96-6acf-464d-9bcc-43e82c70e437"
   },
   "outputs": [
    {
     "name": "stdout",
     "output_type": "stream",
     "text": [
      "Pre-changed test labels:  ['Relation' 'O' 'O' ... 'O' 'O' 'O']\n",
      "Changed test labels:  [0, 1, 1, 1, 1, 1, 1, 2, 6, 1, 15, 1, 1, 1, 1, 1, 6, 1, 1, 20, 1, 15, 7, 1, 1, 1, 9, 9, 22, 8, 75, 15, 29, 69, 15, 14, 1, 1, 49, 29, 1, 11, 1, 13, 1, 1, 1, 1, 1, 25, 1, 1, 22, 2, 1, 2, 1, 1, 1, 1, 1, 24, None, 1, 1, 1, 1, 24, 2, 1, 1, 1, 2, 1, 1, 8, 23, 23, 1, 1, 1, 1, 1, 1, 1, 1, 1, 1, 1, 1, 1, 7, 1, 13, 1, 1, 1, 2, 1, 1, 7, 7, 1, 33, 1, 1, 1, 1, 1, 1, 1, 1, 1, 1, 11, 35, 22, 1, 1, 6, 6, 6, 1, 1, 1, 1, 1, 1, 19, 2, 15, 14, 2, 2, 1, 1, 24, 19, 1, 1, 1, 1, 1, 1, 1, 1, 1, 1, 1, 1, 1, 1, 19, 2, 1, 1, 1, 1, 1, 1, 1, 1, 1, 1, 1, 1, 1, 1, 1, 1, 1, 29, 30, 1, 1, 8, 23, 1, 1, 1, 1, 1, 1, 1, 1, 1, 1, 1, 1, 54, 54, 1, 1, 1, 1, 35, 2, 2, 7, 6, 1, 1, 49, 29, 29, 1, 1, 1, 1, 29, 6, 1, 20, 1, 7, 6, 1, 1, 2, 1, 1, 1, 1, 1, 7, 6, 1, 8, 11, 11, 1, 6, 1, 1, 1, 6, 15, 15, 8, 1, 1, 23, 1, 1, 1, 22, 1, 1, 1, 19, 1, 1, 17, 32, 33, 8, 23, 1, 1, 6, 3, 15, 6, 1, 1, 7, 13, 16, 17, 32, 1, 1, 8, 9, 1, 1, 34, 2, 10, 1, 1, 9, 1, 1, 9, 1, 1, 1, 1, 1, 1, 1, 1, 1, 1, 1, 1, 1, 1, 1, 2, 2, 1, 1, 1, 1, 1, 9, 1, 1, 1, 1, 1, 1, 1, 1, 1, 1, 1, 1, 1, 7, 15, 25, 1, 1, 7, 6, 6, 13, 2, 1, 8, 23, 28, 33, 2, 1, 1, 1, 7, 7, 7, 1, 1, 13, 1, 1, 1, 1, 1, 1, 6, 1, 20, 1, 1, 6, 26, 15, 15, 14, 4, 1, 1, 1, 1, 1, 1, 1, 2, 1, 1, 1, 1, 1, 1, 1, 1, 1, 1, 1, 15, 7, 1, 1, 1, 1, 1, 1, 1, 1, 1, 1, 1, 1, 1, 28, 16, 2, 1, 2, 1, 1, 30, 1, 1, 1, 1, 1, 1, 1, 1, 1, 1, 1, 9, 1, 1, 9, 1, 1, 1, 1, 1, 1, 1, 1, 1, 1, 12, 6, 1, 1, 1, 1, 7, 1, 6, 1, 7, 22, 8, 8, 23, 1, 1, 1, 25, 1, 1, 9, 8, 39, 2, 1, 1, 1, 1, 1, 1, 1, 6, 16, 13, 1, 1, 1, 1, 1, 1, 1, 1, 6, 7, 1, 15, 7, 1, 13, 7, 10, 4, 1, 1, 1, 1, 1, 1, 1, 1, 1, 6, 7, 1, 1, 7, 13, 2, 1, 1, 1, 1, 1, 1, 1, 1, 1, 1, 1, 1, 1, 1, 1, 1, 2, 1, 1, 1, 1, 1, 1, 1, 1, 1, 1, 1, 1, 1, 2, 1, 1, 1, 1, 9, 35, 35, 1, 1, 33, 1, 1, 1, 1, 1, 1, 1, 1, 1, 1, 1, 1, 1, 1, 1, 1, 1, 1, 1, 1, 15, 15, 8, 11, 1, 1, 1, 7, 15, 1, 1, 1, 1, 6, 20, 12, 1, 1, 1, 2, 20, 12, 7, 1, 1, 1, 1, 1, 1, 8, 11, 35, 4, 1, 19, 2, 1, 1, 1, 1, 1, 1, 1, 1, 8, 23, 1, 1, 1, 1, 1, 1, 1, 1, 1, 1, 20, 1, 1, 1, 1, 1, 1, 1, 1, 1, 1, 1, 1, 1, 1, 1, 3, 1, 1, 9, 35, 1, 1, 1, 1, 1, 1, 1, 1, 2, 1, 1, 1, 2, 1, 1, 1, 1, 1, 1, 1, 1, 2, 1, 1, 11, 22, 1, 1, 1, 1, 1, 1, 1, 1, 1, 1, 1, 28, 17, 32, 1, 11, 1, 6, 7, 12, 8, 1, 6, 1, 9, 1, 1, 6, 8, 23, 1, 1, 1, 1, 1, 1, 1, 6, 25, 24, 6, 25, 24, 6, 1, 20, 20, 1, 12, 25, 9, 9, 1, 8, 23, 1, 1, 19, 2, 1, 1, 1, 1, 1, 1, 1, 1, 2, 1, 7, 6, 7, 6, 1, 1, 6, 6, 1, 1, 1, 1, 1, 1, 1, 11, 1, 10, 4, 4, 1, 2, 2, 19, 1, 1, 1, 1, 1, 1, 1, 1, 1, 1, 1, 1, 22, 1, 15, 1, 1, 17, 1, 1, 1, 1, 22, 28, 13, 13, 1, 1, 1, 1, 1, 1, 17, 32, 32, 1, 1, 1, 1, 1, 1, 1, 1, 1, 11, 1, 1, 1, 1, 1, 16, 6, 15, 1, 15, 1, 1, 1, 1, 1, 13, 1, 1, 1, 1, 17, 32, 32, 33, 1, 1, 1, 1, 12, 15, 15, 91, 11, 1, 1, 1, 33, 30, 1, 1, 1, 1, 1, 1, 1, 1, 1, 1, 1, 1, 1, 1, 1, 1, 1, 1, 1, 1, 1, 1, 1, 1, 1, 1, 22, 7, 2, 1, 26, 20, 1, 14, 14, 8, 6, 1, 1, 1, 1, 1, 19, 1, 1, 16, 22, 1, 1, 7, 1, 7, 15, 13, 33, 9, 1, 1, 2, 2, 2, 13, 7, 1, 1, 1, 28, 17, 32, 33, 1, 1, 1, 1, 1, 1, 1, 55, 10, 1, 33, 29, 15, 22, 15, 8, 23, 55, 1, 10, 4, 1, 1, 1, 1, 1, 1, 1, 1, 1, 1, 1, 1, 1, 1, 1, 1, 1, 1, 7, 6, 25, 7, 1, 1, 1, 1, 1, 1, 1, 1, 6, 1, 1, 1, 6, 7, 25, 22, 8, 23, 37, 24, 90, 90, 1, 1, 1, 1, 1, 15, 7, 6, 7, 1, 22, 25, 4, 1, 1, 1, 1, 1, 1, 1, 1, 6, 1, 15, 7, 2, 1, 2, 1, 1, 1, 1, 7, 1, 1, 1, 1, 24, 19, 2, 1, 1, 1, 1, 1, 1, 7, 7, 8, 8, 7, 17, 1, 1, 2, 1, 1, 29, 30, 2, 1, 1, 1, 1, 1, 1, 1, 1, 1, 1, 22, 15, 1, 6, 13, 28, 28, 37, 1, 1, 10, 1, 1, 1, 1, 1, 1, 1, 22, 1, 1, 1, 1, 3, 1, 1, 1, 7, 1, 1, 1, 1, 1, 1, 1, 1, 1, 16, 1, 28, 13, 1, 1, 16, 13, 1, 1, 2, 19, 1, 1, 2, 1, 1, 1, 1, 1, 1, 1, 1, 1, 22, 10, 10, 1, 2, 2, 1, 1, 1, 1, 1, 1, 1, 1, 2, 1, 1, 1, 1, 1, 8, 1, 1, 28, 15, 1, 1, 7, 1, 1, 1, 1, 1, 1, 1, 1, 1, 1, 6, 20, 15, 7, 7, 15, 6, 1, 1, 1, 6, 6, 17, 28, 17, 32, 33, 29, 29, 1, 1, 1, 33, 1, 1, 1, 1, 1, 7, 1, 1, 1, 1, 2, 1, 1, 1, 1, 1, 1, 1, 1, 8, 1, 17, 32, 33, 1, 1, 2, 1, 1, 1, 1, 6, 1, 20, 15, 15, 7, 1, 1, 1, 1, 1, 1, 1, 1, 1, 1, 1, 1, 1, 1, 1, 1, 1, 1, 1, 1, 1, 1, 1, 1, 6, 6, 1, 1, 1, 1, 1, 1, 6, 7, 2, 6, 20, 1, 1, 1, 22, 10, 2, 1, 1, 1, 1, 1, 1, 1, 1, 30, 2, 1, 1, 1, 6, 7, 2, 1, 1, 1, 1, 2, 1, 1, 1, 1, 1, 1, 1, 1, 8, 23, 1, 1, 2, 1, 1, 1, 6, 15, 7, 1, 1, 1, 1, 1, 1, 1, 1, 6, 1, 1, 1, 1, 1, 1, 1, 12, 1, 1, 1, 8, 23, 37, 28, 1, 1, 1, 19, 2, 1, 7, 1, 25, 2, 1, 1, 1, 15, 1, 1, 1, 1, 1, 15, 1, 20, 7, 1, 1, 1, 1, 1, 1, 1, 1, 1, 1, 1, 1, 19, 2, 1, 1, 2, 1, 1, 24, 19, 1, 1, 1, 24, 1, 1, 1, 1, 12, 1, 1, 6, 1, 1, 1, 1, 7, 20, 7, 6, 1, 1, 2, 58, 1, 1, 1, 1, 1, 1, 1, 1, 1, 1, 1, 1, 1, 1, 19, 1, 1, 1, 1, 1, 1, 17, 32, 1, 1, 1, 1, 1, 15, 6, 1, 1, 1, 14, None, 23, 19, 19, 2, 1, 1, 1, 25, 11, 1, 6, 1, 1, 1, 1, 1, 1, 1, 1, 1, 1, 1, 1, 2, 1, 1, 1, 1, 1, 1, 1, 1, 1, 1, 1, 1, 1, 7, 7, 1, 1, 1, 9, 8, 8, 23, 6, 7, 1, 91, 20, 22, 1, 42, 28, 17, 32, 33, 19, 1, 1, 19, 2, 1, 13, 43, 17, 32, 13, 13, 1, 20, 35, 1, 1, 1, 6, 6, 6, 15, 7, 8, 7, 1, 1, 8, 11, 1, 1, 1, 1, 1, 1, 1, 1, 1, 7, 1, 1, 22, 1, 1, 2, 1, 1, 1, 1, 1, 15, 52, 19, 2, 1, 15, 1, 24, 15, 7, 7, 8, 1, 52, 19, 2, 1, 1, 1, 15, 7, 1, 1, 1, 1, 1, 11, 1, 1, 1, 1, 1, 1, 1, 1, 1, 1, 1, 1, 1, 1, 1, 1, 1, 1, 1, 1, 1, 1, 1, 1, 1, 1, 1, 19, 29, 30, 2, 2, 1, 1, 1, 1, 1, 20, 1, 1, 1, 1, 1, 1, 1, 1, 1, 1, 1, 2, 1, 1, 16, 1, 1, 1, 1, 1, 1, 1, 1, 1, 1, 1, 1, 1, 1, 1, 1, 2, 1, 1, 1, 1, 1, 1, 1, 1, 1, 1, 1, 1, 6, 37, 18, 1, 1, 1, 1, 1, 1, 7, 1, 8, 23, 19, 19, 1, 2, 1, 17, 32, 33, 1, 1, 1, 1, 1, 1, 13, 1, 17, 32, 33, 2, 5, 1, 1, 1, 6, 1, 1, 1, 1, 1, 15, 11, 4, 4, 16, 17, 32, 33, 2, 1, 1, 1, 1, 1, 6, 7, 16, 7, 16, 1, 1, 1, 1, 1, 1, 1, 9, 8, 1, 1, 17, 32, 1, 1, 1, 1, 21, 7, 1, 1, 1, 1, 6, 33, 2, 1, 1, 1, 1, 1, 1, 22, 34, 2, 7, 15, 1, 1, 1, 1, 1, 1, 1, 1, 1, 1, 1, 1, 1, 1, 1, 1, 1, 1, 1, 29, 30, 29, 1, 11, 1, 23, 37, 37, 1, 1, 1, 1, 7, 6, 2, 1, 1, 1, 1, 1, 7, 1, 15, 1, 1, 8, 10, 1, 1, 1, 1, 60, 17, 32, 6, 7, 7, 1, 1, 1, 1, 1, 1, 22, 15, 1, 8, 15, 52, 19, 2, 15, 1, 1, 25, 1, 1, 1, 2, 1, 19, 1, 1, 1, 1, 1, 1, 1, 1, 1, 1, 1, 1, 1, 1, 1, 1, 1, 1, 1, 1, 1, 11, 16, 17, 32, 33, 1, 1, 15, 1, 1, 1, 1, 1, 1, 2, 1, 1, 1, 1, 1, 49, 29, 1, 1, 1, 1, 1, 1, 1, 28, 17, 32, 1, 2, 1, 1, 6, 20, 20, 1, 2, 19, 1, 28, 1, 1, 1, 1, 1, 1, 11, 11, 1, 17, 28, 17, 32, 33, 33, 1, 1, 1, 2, 1, 1, 1, 20, 1, 1, 16, 13, 16, 13, 10, 2, 2, 1, 1, 1, 16, 13, 1, 1, 1, 1, 1, 83, 1, 7, 13, 31, 33, 29, 29, 31, 1, 1, 1, 1, 1, 1, 1, 1, 19, 1, 1, 2, 19, 19, 1, 1, 1, 1, 6, 1, 1, 1, 1, 1, 1, 1, 1, 1, 1, 1, 1, 6, 15, 15, 1, 1, 19, 47, 2, 8, 9, 1, 1, 29, 30, 1, 15, 15, 1, 1, 25, 24, 6, 1, 1, 1, 1, 24, 30, 2, 30, 1, 1, 1, 1, 1, 1, 1, 20, 1, 1, 1, 1, 1, 1, 1, 1, 1, 1, 1, 1, 1, 1, 1, 1, 9, 1, 1, 1, 1, 1, 2, 2, 1, 34, 15, 1, 71, 19, 2, 2, 28, 33, 8, 23, 6, 7, 1, 1, 1, 1, 7, 6, 1, 8, 9, 25, 1, 1, 1, 2, 2, 1, 6, 7, 14, 26, 1, 1, 1, 1, 1, 1, 1, 1, 1, 1, 1, 1, 1, 1, 1, 1, 1, 2, 1, 1, 1, 1, 1, 1, 1, 15, 15, 7, 7, 1, 1, 1, 1, 1, 1, 1, 22, 1, 1, 1, 8, 8, 1, 37, 1, 1, 28, 17, 32, 1, 1, 19, 2, 1, 1, 1, 1, 1, 1, 6, 1, 15, 1, 7, 1, 6, 22, 1, 1, 6, 7, 1, 7, 6, 7, 1, 1, 1, 6, 20, 7, 1, 1, 1, 1, 1, 15, 1, 2, 1, 2, 1, 1, 1, 1, 1, 9, 1, 1, 1, 7, 6, 1, 8, 23, 28, 33, 1, 1, 1, 1, 1, 1, 1, 1, 16, 28, 33, 16, 16, 2, 1, 1, 1, 1, 1, 1, 1, 1, 15, 1, 1, 20, 1, 1, 2, 2, 1, 1, 1, 1, 2, 1, 1, 1, 1, 1, 1, 1, 1, 1, 1, 1, 1, 6, 24, 1, 1, 1, 1, 55, 1, 1, 1, 1, 6, 1, 1, 1, 1, 1, 1, 9, 11, 1, 1, 1, 2, 1, 1, 1, 1, 1, 1, 1, 1, 1, 22, 1, 1, 1, 1, 3, 6, 1, 1, 2, 29, 30, 1, 1, 1, 2, 1, 1, 2, 1, 1, 29, 30, 2, 1, 1, 1, 1]\n"
     ]
    }
   ],
   "source": [
    "# Convert labels to ints\n",
    "\n",
    "print(\"Pre-changed test labels: \",str(labels_test))\n",
    "labels_test = [label_types.get(l) for l in labels_test]\n",
    "print(\"Changed test labels: \",str(labels_test))"
   ]
  },
  {
   "cell_type": "code",
   "execution_count": 35,
   "metadata": {
    "colab": {
     "base_uri": "https://localhost:8080/",
     "height": 34
    },
    "colab_type": "code",
    "id": "VyBKS_7wYJaD",
    "outputId": "dbdd24ee-b41f-4ab4-d16d-231dc88f000a"
   },
   "outputs": [
    {
     "name": "stdout",
     "output_type": "stream",
     "text": [
      "Removed 2 labels of type None\n"
     ]
    }
   ],
   "source": [
    "# Get rid of labels that were not in the training data\n",
    "\n",
    "original_test_label_length = len(labels_test)\n",
    "\n",
    "tokenized_texts_test = [tokenized_texts_test[i] for i in range(len(tokenized_texts_test)) if labels_test[i] != None]\n",
    "labels_test = [labels_test[i] for i in range(len(labels_test)) if labels_test[i] != None]\n",
    "\n",
    "print(\"Removed {0} labels of type None\".format(original_test_label_length - len(labels_test)))"
   ]
  },
  {
   "cell_type": "code",
   "execution_count": 36,
   "metadata": {
    "colab": {},
    "colab_type": "code",
    "id": "tkK_ps6OYJd0"
   },
   "outputs": [],
   "source": [
    "# Use the BERT tokenizer to convert the tokens to their index numbers in the BERT vocabulary\n",
    "input_ids_test = [tokenizer.convert_tokens_to_ids(x) for x in tokenized_texts_test]\n",
    "# Pad our input tokens\n",
    "input_ids_test = pad_sequences(input_ids_test, maxlen=MAX_LEN, dtype=\"long\", truncating=\"post\", padding=\"post\")\n",
    "# Create attention masks\n",
    "attention_masks_test = []"
   ]
  },
  {
   "cell_type": "code",
   "execution_count": 37,
   "metadata": {
    "colab": {},
    "colab_type": "code",
    "id": "XvnUu4_nYI5d"
   },
   "outputs": [],
   "source": [
    "# Create a mask of 1s for each token followed by 0s for padding\n",
    "for seq in input_ids_test:\n",
    "  seq_mask = [float(i>0) for i in seq]\n",
    "  attention_masks_test.append(seq_mask) "
   ]
  },
  {
   "cell_type": "code",
   "execution_count": 38,
   "metadata": {
    "colab": {},
    "colab_type": "code",
    "id": "LZrcStjUYI29"
   },
   "outputs": [],
   "source": [
    "prediction_inputs = torch.tensor(input_ids_test)\n",
    "prediction_masks = torch.tensor(attention_masks_test)\n",
    "prediction_labels = torch.tensor(labels_test)"
   ]
  },
  {
   "cell_type": "code",
   "execution_count": 39,
   "metadata": {
    "colab": {},
    "colab_type": "code",
    "id": "HCKdVMkAYI0U"
   },
   "outputs": [],
   "source": [
    "prediction_data = TensorDataset(prediction_inputs, prediction_masks, prediction_labels)\n",
    "prediction_sampler = SequentialSampler(prediction_data)\n",
    "prediction_dataloader = DataLoader(prediction_data, sampler=prediction_sampler, batch_size=BATCH_SIZE)"
   ]
  },
  {
   "cell_type": "code",
   "execution_count": 40,
   "metadata": {
    "colab": {},
    "colab_type": "code",
    "id": "CS0A_XWaZdHm"
   },
   "outputs": [],
   "source": [
    "# Prediction on test set\n",
    "\n",
    "# Put model in evaluation mode\n",
    "model.eval()\n",
    "\n",
    "# Tracking variables \n",
    "predictions_test, true_labels_test = [], []"
   ]
  },
  {
   "cell_type": "code",
   "execution_count": 41,
   "metadata": {
    "colab": {},
    "colab_type": "code",
    "id": "VgBPyZtDZdFU"
   },
   "outputs": [
    {
     "name": "stderr",
     "output_type": "stream",
     "text": [
      "C:\\Users\\Keith\\anaconda3\\envs\\PythonGPU\\lib\\site-packages\\ipykernel_launcher.py:8: UserWarning: To copy construct from a tensor, it is recommended to use sourceTensor.clone().detach() or sourceTensor.clone().detach().requires_grad_(True), rather than torch.tensor(sourceTensor).\n",
      "  \n"
     ]
    }
   ],
   "source": [
    "# Predict \n",
    "for batch in prediction_dataloader:\n",
    "  # Add batch to GPU\n",
    "  batch = tuple(t.to(device) for t in batch)\n",
    "  # Unpack the inputs from our dataloader\n",
    "  b_input_ids, b_input_mask, b_labels = batch\n",
    "  if (USING_COLAB == False):\n",
    "    b_input_ids = torch.tensor(b_input_ids).to(torch.int64) # from https://github.com/huggingface/transformers/issues/2952\n",
    "\n",
    "  # Telling the model not to compute or store gradients, saving memory and speeding up prediction\n",
    "  with torch.no_grad():\n",
    "    # Forward pass, calculate logit predictions\n",
    "    logits = model(b_input_ids, token_type_ids=None, attention_mask=b_input_mask)\n",
    "\n",
    "  # Move logits and labels to CPU\n",
    "  logits_test = logits.detach().cpu().numpy()\n",
    "  label_ids_test = b_labels.to('cpu').numpy()\n",
    "  \n",
    "  # Store predictions and true labels\n",
    "  predictions_test.append(logits_test)\n",
    "  true_labels_test.append(label_ids_test)"
   ]
  },
  {
   "cell_type": "code",
   "execution_count": 42,
   "metadata": {
    "colab": {},
    "colab_type": "code",
    "id": "t8fq6nxAaPr9"
   },
   "outputs": [],
   "source": [
    "# Flatten the predictions and true values\n",
    "flat_predictions_test = [item for sublist in predictions_test for item in sublist]\n",
    "flat_predictions_test = np.argmax(flat_predictions_test, axis=1).flatten()\n",
    "flat_true_labels_test = [item for sublist in true_labels_test for item in sublist]"
   ]
  },
  {
   "cell_type": "code",
   "execution_count": 43,
   "metadata": {
    "colab": {},
    "colab_type": "code",
    "id": "nsBINcTnaPmJ"
   },
   "outputs": [],
   "source": [
    "# # At this point we must create a binary array to determine which answers were answered correctly\n",
    "# test_results_array = np.array(flat_predictions_test == flat_true_labels_test)\n",
    "# test_results_array = test_results_array.astype(int)\n",
    "# test_results_array[:100]"
   ]
  },
  {
   "cell_type": "code",
   "execution_count": 44,
   "metadata": {
    "colab": {},
    "colab_type": "code",
    "id": "fd6ezWE1L62i"
   },
   "outputs": [],
   "source": [
    "# Create the file to store the stats of the model if it doesn't already exist\n",
    "\n",
    "import os\n",
    "f = None\n",
    "if not os.path.isfile(STATS_PATH):\n",
    "  f = open(STATS_PATH, \"w\")\n",
    "  f.write(\"number,datetime,bert_model,hugging_face,max_len,epochs,batch_size,\\\n",
    "            optimizer,learning_rate,warmup,pretraining_model_id,pretraining_model_type,\\\n",
    "            cost_sensitivity,accuracy,macro_prec,macro_recall,macro_f1,macro_support,\\\n",
    "            weighted_prec,weighted_recall,weighted_f1,weighted_support,kfold,notes\\n\")\n",
    "  print(\"coral_bleaching_stats.csv NOT found - creating\")\n",
    "  f.close()"
   ]
  },
  {
   "cell_type": "code",
   "execution_count": 45,
   "metadata": {
    "colab": {},
    "colab_type": "code",
    "id": "6cDn8BNf-hWn"
   },
   "outputs": [],
   "source": [
    "# from sklearn.metrics import classification_report\n",
    "\n",
    "# y_pred = flat_predictions_test\n",
    "# y = flat_true_labels_test\n",
    "\n",
    "# classification_dict = classification_report(y, y_pred, labels=None, target_names=None, \\\n",
    "#                       sample_weight=None, digits=2, output_dict=True, zero_division=1)\n",
    "\n",
    "# # Create arrays of precisions, recalls, f1s to recalculate average\n",
    "# precisions = []\n",
    "# recalls = []\n",
    "# f1s = []\n",
    "# supports = []\n",
    "\n",
    "# # We must alter the classification dictionary to update the f1_score and recall keys to be 1 instead of 0\n",
    "# # In this example, precision/recall/f1 scores of 0 are set to 1\n",
    "\n",
    "# classification_dict_converted = {}\n",
    "\n",
    "# for k,v in classification_dict.items():\n",
    "#   if k.isdigit():\n",
    "\n",
    "#     if float(v['recall']) == 0.0: v['recall'] = 1.0\n",
    "#     recalls.append(v['recall'])\n",
    "\n",
    "#     if float(v['f1-score']) == 0.0: v['f1-score'] = 1.0\n",
    "#     f1s.append(v['f1-score'])\n",
    "\n",
    "#     if float(v['precision']) == 0.0: v['precision'] = 1.0\n",
    "#     precisions.append(v['precision'])\n",
    "\n",
    "#     supports.append(v['support'])\n",
    "\n",
    "#     # Convert dictionary keys back to our original labels\n",
    "#     original_key = next((key for key in label_types if label_types[key] == int(k)), None)\n",
    "#     classification_dict_converted.update({ original_key : v })\n",
    "\n",
    "#     print(original_key + \" : \" + str(classification_dict_converted[original_key]))\n",
    "\n",
    "#   # Otherwise, we are at the end of the dict and edit the averages to account for the newly replaced 0s\n",
    "#   else:\n",
    "#     if k == 'macro avg':\n",
    "#       precision = sum(precisions)/len(precisions)\n",
    "#       recall = sum(recalls)/len(recalls)\n",
    "#       f1 = sum(f1s)/len(f1s)\n",
    "\n",
    "#       v['precision'] = precision\n",
    "#       v['recall'] = recall\n",
    "#       v['f1-score'] = f1\n",
    "\n",
    "#     if k == 'weighted avg':\n",
    "#       weighted_precisions = [precisions[i]*supports[i] for i in range(len(precisions))]\n",
    "#       weighted_recalls = [recalls[i]*supports[i] for i in range(len(recalls))]\n",
    "#       weighted_f1s = [f1s[i]*supports[i] for i in range(len(f1s))]\n",
    "\n",
    "#       total_supports = v['support']\n",
    "\n",
    "#       precision = sum(weighted_precisions)/total_supports\n",
    "#       recall = sum(weighted_recalls)/total_supports\n",
    "#       f1 = sum(weighted_f1s)/total_supports\n",
    "\n",
    "#       v['precision'] = precision\n",
    "#       v['recall'] = recall\n",
    "#       v['f1-score'] = f1\n",
    "\n",
    "#     classification_dict_converted.update({ k : v })\n",
    "#     print(\"\\n\" + k + \" : \" + str(classification_dict_converted[k]))\n",
    "\n",
    "# accuracy = classification_dict_converted['accuracy']"
   ]
  },
  {
   "cell_type": "code",
   "execution_count": 46,
   "metadata": {
    "colab": {
     "base_uri": "https://localhost:8080/",
     "height": 374
    },
    "colab_type": "code",
    "id": "CMdbx8GDt4hr",
    "outputId": "79fad839-1bc7-4295-d0e5-e2753a07596f"
   },
   "outputs": [
    {
     "name": "stdout",
     "output_type": "stream",
     "text": [
      "O : {'precision': 0.9097693351424695, 'recall': 0.9097693351424695, 'f1-score': 0.9097693351424695, 'support': 1474}\n",
      "R-7-50 : {'precision': 0.3722943722943723, 'recall': 0.8037383177570093, 'f1-score': 0.5088757396449705, 'support': 107}\n",
      "R-1-50 : {'precision': 0.4948453608247423, 'recall': 0.5783132530120482, 'f1-score': 0.5333333333333333, 'support': 83}\n",
      "R-3-50 : {'precision': 0.4025974025974026, 'recall': 0.37349397590361444, 'f1-score': 0.38749999999999996, 'support': 83}\n",
      "R-3-4 : {'precision': 0.2545454545454545, 'recall': 0.6829268292682927, 'f1-score': 0.37086092715231783, 'support': 41}\n",
      "R-4-5 : {'precision': 0.43478260869565216, 'recall': 0.45454545454545453, 'f1-score': 0.4444444444444445, 'support': 22}\n",
      "R-1-3 : {'precision': 0.23809523809523808, 'recall': 0.5172413793103449, 'f1-score': 0.32608695652173914, 'support': 58}\n",
      "R-3-5 : {'precision': 0.5, 'recall': 0.7083333333333334, 'f1-score': 0.5862068965517241, 'support': 24}\n",
      "R-11-13 : {'precision': 0.44, 'recall': 0.5789473684210527, 'f1-score': 0.5, 'support': 19}\n",
      "R-12-13 : {'precision': 0.33962264150943394, 'recall': 0.8181818181818182, 'f1-score': 0.48, 'support': 22}\n",
      "R-13-14 : {'precision': 0.5833333333333334, 'recall': 0.2916666666666667, 'f1-score': 0.38888888888888895, 'support': 24}\n",
      "\n",
      "accuracy : 0.7180052956751986\n",
      "\n",
      "macro avg : {'precision': 0.4518077951852817, 'recall': 0.610650702867464, 'f1-score': 0.49417877469817173, 'support': 2266}\n",
      "\n",
      "weighted avg : {'precision': 0.7823025294583213, 'recall': 0.8313745528870721, 'f1-score': 0.7967487424264367, 'support': 1957}\n"
     ]
    }
   ],
   "source": [
    "from sklearn.metrics import classification_report\n",
    "\n",
    "y_pred = flat_predictions_test\n",
    "y = flat_true_labels_test\n",
    "\n",
    "classification_dict = classification_report(y, y_pred, labels=None, target_names=None, \\\n",
    "                      sample_weight=None, digits=2, output_dict=True, zero_division=1)\n",
    "\n",
    "# Create arrays of precisions, recalls, f1s to recalculate average\n",
    "precisions = []\n",
    "recalls = []\n",
    "f1s = []\n",
    "supports = []\n",
    "\n",
    "# We must alter the classification dictionary to update the f1_score and recall keys to be 1 instead of 0\n",
    "# In this example, precision/recall/f1 scores of 0 are ignored\n",
    "\n",
    "classification_dict_stripped = {}\n",
    "\n",
    "for k,v in classification_dict.items():\n",
    "  if k.isdigit():\n",
    "\n",
    "    if float(v['precision']) != 0.0 and float(v['recall']) != 0.0 and float(v['f1-score']) != 0.0:\n",
    "      recalls.append(v['recall'])\n",
    "      f1s.append(v['f1-score'])\n",
    "      precisions.append(v['precision'])\n",
    "      supports.append(v['support'])\n",
    "\n",
    "      # Convert dictionary keys back to our original labels\n",
    "      original_key = next((key for key in label_types if label_types[key] == int(k)), None)\n",
    "      classification_dict_stripped.update({ original_key : v })\n",
    "\n",
    "      print(original_key + \" : \" + str(classification_dict_stripped[original_key]))\n",
    "      \n",
    "  # Otherwise, we are at the end of the dict and edit the averages to account for the newly replaced 0s\n",
    "  else:\n",
    "    if k == 'macro avg':\n",
    "      precision = sum(precisions)/len(precisions)\n",
    "      recall = sum(recalls)/len(recalls)\n",
    "      f1 = sum(f1s)/len(f1s)\n",
    "\n",
    "      v['precision'] = precision\n",
    "      v['recall'] = recall\n",
    "      v['f1-score'] = f1\n",
    "\n",
    "    if k == 'weighted avg':\n",
    "      weighted_precisions = [precisions[i]*supports[i] for i in range(len(precisions))]\n",
    "      weighted_recalls = [recalls[i]*supports[i] for i in range(len(recalls))]\n",
    "      weighted_f1s = [f1s[i]*supports[i] for i in range(len(f1s))]\n",
    "\n",
    "      total_supports = sum(supports)\n",
    "\n",
    "      precision = sum(weighted_precisions)/total_supports\n",
    "      recall = sum(weighted_recalls)/total_supports\n",
    "      f1 = sum(weighted_f1s)/total_supports\n",
    "\n",
    "      v['precision'] = precision\n",
    "      v['recall'] = recall\n",
    "      v['f1-score'] = f1\n",
    "      v['support'] = total_supports\n",
    "\n",
    "    classification_dict_stripped.update({ k : v })\n",
    "\n",
    "    print(\"\\n\" + k + \" : \" + str(classification_dict_stripped[k]))"
   ]
  },
  {
   "cell_type": "code",
   "execution_count": 47,
   "metadata": {
    "colab": {},
    "colab_type": "code",
    "id": "zMMAANxB3pYQ"
   },
   "outputs": [],
   "source": [
    "ACCURACY = classification_dict_stripped['accuracy']\n",
    "\n",
    "macro = classification_dict_stripped[\"macro avg\"]\n",
    "MACRO_F1 = macro[\"f1-score\"]\n",
    "MACRO_PREC = macro[\"precision\"]\n",
    "MACRO_RECALL = macro[\"recall\"]\n",
    "MACRO_SUPPORT = macro[\"support\"]\n",
    "\n",
    "weighted = classification_dict_stripped[\"weighted avg\"]\n",
    "WEIGHTED_F1 = weighted[\"f1-score\"]\n",
    "WEIGHTED_PREC = weighted[\"precision\"]\n",
    "WEIGHTED_RECALL = weighted[\"recall\"]\n",
    "WEIGHTED_SUPPORT = weighted[\"support\"]"
   ]
  },
  {
   "cell_type": "code",
   "execution_count": 48,
   "metadata": {
    "colab": {
     "base_uri": "https://localhost:8080/",
     "height": 35
    },
    "colab_type": "code",
    "id": "-jhdyo1kAA8r",
    "outputId": "73ba6ecc-52c4-4196-b998-ff5e65a19911"
   },
   "outputs": [
    {
     "data": {
      "text/plain": [
       "'BertForSequenceClassification'"
      ]
     },
     "execution_count": 48,
     "metadata": {},
     "output_type": "execute_result"
    }
   ],
   "source": [
    "# Capture HuggingFace type\n",
    "\n",
    "hf_arr = str(type(model)).split('.')\n",
    "HF_TYPE = hf_arr[2]\n",
    "HF_TYPE = ''.join(filter(str.isalnum, HF_TYPE))\n",
    "HF_TYPE"
   ]
  },
  {
   "cell_type": "code",
   "execution_count": 49,
   "metadata": {
    "colab": {
     "base_uri": "https://localhost:8080/",
     "height": 35
    },
    "colab_type": "code",
    "id": "4rwyzetq_8bY",
    "outputId": "a33c6f80-2394-4d8f-ce86-9383369ba089"
   },
   "outputs": [
    {
     "data": {
      "text/plain": [
       "'BertAdam'"
      ]
     },
     "execution_count": 49,
     "metadata": {},
     "output_type": "execute_result"
    }
   ],
   "source": [
    "# Capture optimizer type\n",
    "\n",
    "opt_arr = str(type(optimizer)).split('.')\n",
    "OPTIMIZER_TYPE = opt_arr[2]\n",
    "OPTIMIZER_TYPE = ''.join(filter(str.isalnum, OPTIMIZER_TYPE))\n",
    "OPTIMIZER_TYPE"
   ]
  },
  {
   "cell_type": "code",
   "execution_count": 50,
   "metadata": {
    "colab": {},
    "colab_type": "code",
    "id": "osyohy5pZXUh"
   },
   "outputs": [],
   "source": [
    "# Get date and time\n",
    "import datetime\n",
    "import pytz\n",
    "\n",
    "date = str(datetime.datetime.now(tz = pytz.timezone('US/Central')))\n",
    "date = date.split(' ')\n",
    "time = date[1]\n",
    "date = date[0]\n",
    "h, m = [time.split(':')[0], time.split(':')[1]]\n",
    "\n",
    "DATE_TIME = date + ' ' + h + ':' + m + \" CT\""
   ]
  },
  {
   "cell_type": "code",
   "execution_count": 51,
   "metadata": {
    "colab": {},
    "colab_type": "code",
    "id": "JfdYfNFkbdnD"
   },
   "outputs": [],
   "source": [
    "NUM = int(current_file_n_str)"
   ]
  },
  {
   "cell_type": "code",
   "execution_count": 52,
   "metadata": {
    "colab": {},
    "colab_type": "code",
    "id": "ZADeWA6NdWNE"
   },
   "outputs": [],
   "source": [
    "# Add line to stats, then save and close\n",
    "with open(STATS_PATH, \"a\") as f:\n",
    "  f.write(\"{0},{1},{2},{3},{4},{5},{6},{7},{8},\\\n",
    "  {9},{10},{11},{12},{13},{14},{15},{16},{17},\\\n",
    "  {18},{19},{20},{21},{22},{23}\\n\".format(NUM,DATE_TIME,MODEL_TYPE,HF_TYPE,MAX_LEN,EPOCHS,BATCH_SIZE,\n",
    "                                          OPTIMIZER_TYPE,LEARNING_RATE,WARMUP,PRETRAINING_MODEL_ID,PRETRAINING_MODEL_TYPE,\n",
    "                                          COST_SENSITIVITY,ACCURACY,MACRO_PREC,MACRO_RECALL,MACRO_F1,MACRO_SUPPORT,\n",
    "                                          WEIGHTED_PREC,WEIGHTED_RECALL,WEIGHTED_F1,WEIGHTED_SUPPORT,KFOLD,NOTES))"
   ]
  },
  {
   "cell_type": "code",
   "execution_count": null,
   "metadata": {},
   "outputs": [],
   "source": []
  },
  {
   "cell_type": "code",
   "execution_count": null,
   "metadata": {},
   "outputs": [],
   "source": []
  }
 ],
 "metadata": {
  "accelerator": "GPU",
  "colab": {
   "authorship_tag": "ABX9TyOuEwm8TXP+rLPugmrCespK",
   "collapsed_sections": [],
   "include_colab_link": true,
   "machine_shape": "hm",
   "name": "MultiCoralBleaching.ipynb",
   "provenance": []
  },
  "kernelspec": {
   "display_name": "Python 3",
   "language": "python",
   "name": "python3"
  },
  "language_info": {
   "codemirror_mode": {
    "name": "ipython",
    "version": 3
   },
   "file_extension": ".py",
   "mimetype": "text/x-python",
   "name": "python",
   "nbconvert_exporter": "python",
   "pygments_lexer": "ipython3",
   "version": "3.7.1"
  }
 },
 "nbformat": 4,
 "nbformat_minor": 1
}
