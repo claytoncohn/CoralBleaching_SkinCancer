{
  "nbformat": 4,
  "nbformat_minor": 0,
  "metadata": {
    "colab": {
      "name": "MultiSkinCancer.ipynb",
      "provenance": [],
      "collapsed_sections": [],
      "machine_shape": "hm",
      "authorship_tag": "ABX9TyP9RmFDfyB5ppev8DIVNOmE",
      "include_colab_link": true
    },
    "kernelspec": {
      "name": "python3",
      "display_name": "Python 3"
    },
    "accelerator": "GPU"
  },
  "cells": [
    {
      "cell_type": "markdown",
      "metadata": {
        "id": "view-in-github",
        "colab_type": "text"
      },
      "source": [
        "<a href=\"https://colab.research.google.com/github/claytoncohn/CoralBleaching_SkinCancer/blob/master/MultiSkinCancer.ipynb\" target=\"_parent\"><img src=\"https://colab.research.google.com/assets/colab-badge.svg\" alt=\"Open In Colab\"/></a>"
      ]
    },
    {
      "cell_type": "code",
      "metadata": {
        "id": "pxGVOeMQOAfs",
        "colab_type": "code",
        "colab": {
          "base_uri": "https://localhost:8080/",
          "height": 34
        },
        "outputId": "5a7b457b-11ba-497b-c941-9792cfcc66f8"
      },
      "source": [
        "'''\n",
        "The code in this notebook is adopted from:\n",
        "\n",
        "https://colab.research.google.com/drive/1ywsvwO6thOVOrfagjjfuxEf6xVRxbUNO#scrollTo=IUM0UA1qJaVB\n",
        "\n",
        "I have adapted it for use with the skin cancer data (big and little) found in the wiki:\n",
        "\n",
        "https://knowledge.depaul.edu/display/DNLP/Tasks+and+Data\n",
        "'''\n",
        "\n",
        "# Colab currenly defaults to TensorFlow 1.15, but we need 2.0 or greater\n",
        "\n",
        "%tensorflow_version 2.x\n",
        "import tensorflow as tf\n",
        "print(tf.__version__)"
      ],
      "execution_count": 1,
      "outputs": [
        {
          "output_type": "stream",
          "text": [
            "2.3.0\n"
          ],
          "name": "stdout"
        }
      ]
    },
    {
      "cell_type": "code",
      "metadata": {
        "id": "reOH412ibrsp",
        "colab_type": "code",
        "colab": {}
      },
      "source": [
        "# Manual Parameters - these are not automatically generated and need to be set each runtime\n",
        "\n",
        "# Number of training epochs (authors recommend between 2 and 4)\n",
        "EPOCHS = 2\n",
        "\n",
        "# Select a batch size for training. For fine-tuning BERT on a specific task, the authors recommend a batch size of 16 or 32\n",
        "BATCH_SIZE = 16\n",
        "\n",
        "# If there are sentences longer than 512 tokens, we will crash.\n",
        "MAX_LEN = 128\n",
        "\n",
        "# Learning rate: 5e-5, 3e-5, 2e-5 are the ones recommended\n",
        "LEARNING_RATE = 2e-5\n",
        "\n",
        "WARMUP = .1\n",
        "\n",
        "# Model we are fine-tuning\n",
        "# MODEL_TYPE = 'pretrained-bert-base-uncased'\n",
        "MODEL_TYPE = 'bert-base-uncased'\n",
        "\n",
        "# Load BERT checkpoint from pretraining or use provided model\n",
        "# BERT_PATH = \"drive/My Drive/colab/bert/bert_pytorch/torch_model.tar.gz\"\n",
        "BERT_PATH = 'bert-base-uncased'\n",
        "\n",
        "PRETRAINING_MODEL_ID = \"none\"\n",
        "\n",
        "# Type of pretraining we used: none, mlmnsp, nspmlm, both\n",
        "PRETRAINING_MODEL_TYPE = \"none\"\n",
        "\n",
        "# Cost sensitivity\n",
        "COST_SENSITIVITY = 0\n",
        "\n",
        "# If we do crossvalidation\n",
        "KFOLD = 0\n",
        "\n",
        "NOTES = \"Initial skin cancer dataset fine-tuning\""
      ],
      "execution_count": 2,
      "outputs": []
    },
    {
      "cell_type": "code",
      "metadata": {
        "id": "HTpUC6-8UKsN",
        "colab_type": "code",
        "colab": {
          "base_uri": "https://localhost:8080/",
          "height": 34
        },
        "outputId": "f024cc09-6d4a-4e93-db06-a4956869b3be"
      },
      "source": [
        "# We are going to use Colab's (free) GPU. To do this, goto Edit->Notebook Settings->Hardware Accelerator and select GPU\n",
        "\n",
        "device_name = tf.test.gpu_device_name()\n",
        "if device_name != '/device:GPU:0':\n",
        "  raise SystemError('GPU device not found')\n",
        "print('Found GPU at: {}'.format(device_name))"
      ],
      "execution_count": 3,
      "outputs": [
        {
          "output_type": "stream",
          "text": [
            "Found GPU at: /device:GPU:0\n"
          ],
          "name": "stdout"
        }
      ]
    },
    {
      "cell_type": "code",
      "metadata": {
        "id": "Y8fXOdJIULEO",
        "colab_type": "code",
        "colab": {
          "base_uri": "https://localhost:8080/",
          "height": 462
        },
        "outputId": "fe81b40c-54c1-4d77-d987-9202eb395bdc"
      },
      "source": [
        "# Make sure PyTorch is installed - will use with Hugging Face Transformers\n",
        "# Hugging Face library currently accepted as most powerful PyTorch interface with BERT\n",
        "\n",
        "!pip install pytorch-pretrained-bert pytorch-nlp"
      ],
      "execution_count": 4,
      "outputs": [
        {
          "output_type": "stream",
          "text": [
            "Collecting pytorch-pretrained-bert\n",
            "\u001b[?25l  Downloading https://files.pythonhosted.org/packages/d7/e0/c08d5553b89973d9a240605b9c12404bcf8227590de62bae27acbcfe076b/pytorch_pretrained_bert-0.6.2-py3-none-any.whl (123kB)\n",
            "\u001b[K     |████████████████████████████████| 133kB 8.5MB/s \n",
            "\u001b[?25hCollecting pytorch-nlp\n",
            "\u001b[?25l  Downloading https://files.pythonhosted.org/packages/4f/51/f0ee1efb75f7cc2e3065c5da1363d6be2eec79691b2821594f3f2329528c/pytorch_nlp-0.5.0-py3-none-any.whl (90kB)\n",
            "\u001b[K     |████████████████████████████████| 92kB 7.9MB/s \n",
            "\u001b[?25hRequirement already satisfied: numpy in /usr/local/lib/python3.6/dist-packages (from pytorch-pretrained-bert) (1.18.5)\n",
            "Requirement already satisfied: regex in /usr/local/lib/python3.6/dist-packages (from pytorch-pretrained-bert) (2019.12.20)\n",
            "Requirement already satisfied: tqdm in /usr/local/lib/python3.6/dist-packages (from pytorch-pretrained-bert) (4.41.1)\n",
            "Requirement already satisfied: boto3 in /usr/local/lib/python3.6/dist-packages (from pytorch-pretrained-bert) (1.14.59)\n",
            "Requirement already satisfied: torch>=0.4.1 in /usr/local/lib/python3.6/dist-packages (from pytorch-pretrained-bert) (1.6.0+cu101)\n",
            "Requirement already satisfied: requests in /usr/local/lib/python3.6/dist-packages (from pytorch-pretrained-bert) (2.23.0)\n",
            "Requirement already satisfied: jmespath<1.0.0,>=0.7.1 in /usr/local/lib/python3.6/dist-packages (from boto3->pytorch-pretrained-bert) (0.10.0)\n",
            "Requirement already satisfied: s3transfer<0.4.0,>=0.3.0 in /usr/local/lib/python3.6/dist-packages (from boto3->pytorch-pretrained-bert) (0.3.3)\n",
            "Requirement already satisfied: botocore<1.18.0,>=1.17.59 in /usr/local/lib/python3.6/dist-packages (from boto3->pytorch-pretrained-bert) (1.17.59)\n",
            "Requirement already satisfied: future in /usr/local/lib/python3.6/dist-packages (from torch>=0.4.1->pytorch-pretrained-bert) (0.16.0)\n",
            "Requirement already satisfied: chardet<4,>=3.0.2 in /usr/local/lib/python3.6/dist-packages (from requests->pytorch-pretrained-bert) (3.0.4)\n",
            "Requirement already satisfied: certifi>=2017.4.17 in /usr/local/lib/python3.6/dist-packages (from requests->pytorch-pretrained-bert) (2020.6.20)\n",
            "Requirement already satisfied: idna<3,>=2.5 in /usr/local/lib/python3.6/dist-packages (from requests->pytorch-pretrained-bert) (2.10)\n",
            "Requirement already satisfied: urllib3!=1.25.0,!=1.25.1,<1.26,>=1.21.1 in /usr/local/lib/python3.6/dist-packages (from requests->pytorch-pretrained-bert) (1.24.3)\n",
            "Requirement already satisfied: python-dateutil<3.0.0,>=2.1 in /usr/local/lib/python3.6/dist-packages (from botocore<1.18.0,>=1.17.59->boto3->pytorch-pretrained-bert) (2.8.1)\n",
            "Requirement already satisfied: docutils<0.16,>=0.10 in /usr/local/lib/python3.6/dist-packages (from botocore<1.18.0,>=1.17.59->boto3->pytorch-pretrained-bert) (0.15.2)\n",
            "Requirement already satisfied: six>=1.5 in /usr/local/lib/python3.6/dist-packages (from python-dateutil<3.0.0,>=2.1->botocore<1.18.0,>=1.17.59->boto3->pytorch-pretrained-bert) (1.15.0)\n",
            "Installing collected packages: pytorch-pretrained-bert, pytorch-nlp\n",
            "Successfully installed pytorch-nlp-0.5.0 pytorch-pretrained-bert-0.6.2\n"
          ],
          "name": "stdout"
        }
      ]
    },
    {
      "cell_type": "code",
      "metadata": {
        "id": "R8UTcERcULIW",
        "colab_type": "code",
        "colab": {}
      },
      "source": [
        "# Take care of the resf of the imports\n",
        "\n",
        "import torch\n",
        "from torch.utils.data import TensorDataset, DataLoader, RandomSampler, SequentialSampler\n",
        "from keras.preprocessing.sequence import pad_sequences\n",
        "from sklearn.model_selection import train_test_split\n",
        "from pytorch_pretrained_bert import BertTokenizer, BertConfig\n",
        "from pytorch_pretrained_bert import BertAdam, BertForSequenceClassification\n",
        "from tqdm import tqdm, trange\n",
        "import pandas as pd\n",
        "import io\n",
        "import numpy as np\n",
        "import matplotlib.pyplot as plt\n",
        "% matplotlib inline"
      ],
      "execution_count": 5,
      "outputs": []
    },
    {
      "cell_type": "code",
      "metadata": {
        "id": "N88IVVWqWUfd",
        "colab_type": "code",
        "colab": {
          "base_uri": "https://localhost:8080/",
          "height": 35
        },
        "outputId": "ac030e9f-a792-4ce2-8a46-7faaf96f4752"
      },
      "source": [
        "# If gpu availale, we have to set it up.\n",
        "\n",
        "device = torch.device(\"cuda\" if torch.cuda.is_available() else \"cpu\")\n",
        "n_gpu = torch.cuda.device_count()\n",
        "torch.cuda.get_device_name(0)"
      ],
      "execution_count": 6,
      "outputs": [
        {
          "output_type": "execute_result",
          "data": {
            "application/vnd.google.colaboratory.intrinsic+json": {
              "type": "string"
            },
            "text/plain": [
              "'Tesla V100-SXM2-16GB'"
            ]
          },
          "metadata": {
            "tags": []
          },
          "execution_count": 6
        }
      ]
    },
    {
      "cell_type": "code",
      "metadata": {
        "id": "tRZI3iBRWUsP",
        "colab_type": "code",
        "colab": {
          "base_uri": "https://localhost:8080/",
          "height": 34
        },
        "outputId": "34258576-6557-4633-bf9e-d27d0c119af2"
      },
      "source": [
        "# Before importing the data, we must mount Google Drive to Colab notebook.\n",
        "\n",
        "# Each time the notebook is run, Colab must request authorization to remount to Google Drive.\n",
        "# I have not found a way arouund this yet. Even though I am a pro (paying) user, Colab\n",
        "#   will not allow me to let datasets persist after runtime ceases.\n",
        "\n",
        "from google.colab import drive\n",
        "drive.mount('/content/drive')"
      ],
      "execution_count": 7,
      "outputs": [
        {
          "output_type": "stream",
          "text": [
            "Mounted at /content/drive\n"
          ],
          "name": "stdout"
        }
      ]
    },
    {
      "cell_type": "code",
      "metadata": {
        "id": "1Zf9TEVWWUow",
        "colab_type": "code",
        "colab": {}
      },
      "source": [
        "# I downloaded the data directly from the wiki to my Google Drive for pseudo-dynamic access.\n",
        "\n",
        "DATA_PATH = \"drive/My Drive/colab/data/\"\n",
        "DATA_NAME = \"EBA1415-SkinCancer-big-sentences.tsv\"\n",
        "df = pd.read_csv(DATA_PATH + DATA_NAME, delimiter='\\t', header=0, names=['file', 'relation', 's_num', 'sentence'])"
      ],
      "execution_count": 8,
      "outputs": []
    },
    {
      "cell_type": "code",
      "metadata": {
        "id": "3DE3EqboWUmc",
        "colab_type": "code",
        "colab": {
          "base_uri": "https://localhost:8080/",
          "height": 359
        },
        "outputId": "7f1407aa-b39c-4f93-caf2-f1537a739486"
      },
      "source": [
        "# Let's take a peak\n",
        "\n",
        "df.shape\n",
        "df.head(10)"
      ],
      "execution_count": 9,
      "outputs": [
        {
          "output_type": "execute_result",
          "data": {
            "text/html": [
              "<div>\n",
              "<style scoped>\n",
              "    .dataframe tbody tr th:only-of-type {\n",
              "        vertical-align: middle;\n",
              "    }\n",
              "\n",
              "    .dataframe tbody tr th {\n",
              "        vertical-align: top;\n",
              "    }\n",
              "\n",
              "    .dataframe thead th {\n",
              "        text-align: right;\n",
              "    }\n",
              "</style>\n",
              "<table border=\"1\" class=\"dataframe\">\n",
              "  <thead>\n",
              "    <tr style=\"text-align: right;\">\n",
              "      <th></th>\n",
              "      <th>file</th>\n",
              "      <th>relation</th>\n",
              "      <th>s_num</th>\n",
              "      <th>sentence</th>\n",
              "    </tr>\n",
              "  </thead>\n",
              "  <tbody>\n",
              "    <tr>\n",
              "      <th>0</th>\n",
              "      <td>EBA1415_TFHC_1_SC_ES-05947</td>\n",
              "      <td>O</td>\n",
              "      <td>1.0</td>\n",
              "      <td>This essay is about skin damage, latitude and ...</td>\n",
              "    </tr>\n",
              "    <tr>\n",
              "      <th>1</th>\n",
              "      <td>EBA1415_TFHC_1_SC_ES-05947</td>\n",
              "      <td>O</td>\n",
              "      <td>2.0</td>\n",
              "      <td>The skin damage is on our bodies that have num...</td>\n",
              "    </tr>\n",
              "    <tr>\n",
              "      <th>2</th>\n",
              "      <td>EBA1415_TFHC_1_SC_ES-05947</td>\n",
              "      <td>O</td>\n",
              "      <td>3.0</td>\n",
              "      <td>There are three main varieties of skin cancer ...</td>\n",
              "    </tr>\n",
              "    <tr>\n",
              "      <th>3</th>\n",
              "      <td>EBA1415_TFHC_1_SC_ES-05947</td>\n",
              "      <td>O</td>\n",
              "      <td>4.0</td>\n",
              "      <td>That would be what skin damage is.</td>\n",
              "    </tr>\n",
              "    <tr>\n",
              "      <th>4</th>\n",
              "      <td>EBA1415_TFHC_1_SC_ES-05947</td>\n",
              "      <td>R-1-2</td>\n",
              "      <td>5.0</td>\n",
              "      <td>Latitude and direct sunlight would be the cols...</td>\n",
              "    </tr>\n",
              "    <tr>\n",
              "      <th>5</th>\n",
              "      <td>EBA1415_TFHC_1_SC_ES-05947</td>\n",
              "      <td>R-1-2</td>\n",
              "      <td>6.0</td>\n",
              "      <td>The most yearound direct sunlight occurs betwe...</td>\n",
              "    </tr>\n",
              "    <tr>\n",
              "      <th>6</th>\n",
              "      <td>EBA1415_TFHC_1_SC_ES-05947</td>\n",
              "      <td>O</td>\n",
              "      <td>7.0</td>\n",
              "      <td>That would be latitude and direct sunlight.</td>\n",
              "    </tr>\n",
              "    <tr>\n",
              "      <th>7</th>\n",
              "      <td>EBA1415_TFHC_1_SC_ES-05947</td>\n",
              "      <td>O</td>\n",
              "      <td>8.0</td>\n",
              "      <td>Your skin protects you is that it acts as a wa...</td>\n",
              "    </tr>\n",
              "    <tr>\n",
              "      <th>8</th>\n",
              "      <td>EBA1415_TFHC_1_SC_ES-05947</td>\n",
              "      <td>R-12-3</td>\n",
              "      <td>9.0</td>\n",
              "      <td>Your skin does have some denses against solar ...</td>\n",
              "    </tr>\n",
              "    <tr>\n",
              "      <th>9</th>\n",
              "      <td>EBA1415_TFHC_1_SC_ES-05947</td>\n",
              "      <td>O</td>\n",
              "      <td>10.0</td>\n",
              "      <td>That would be your skin protects you.</td>\n",
              "    </tr>\n",
              "  </tbody>\n",
              "</table>\n",
              "</div>"
            ],
            "text/plain": [
              "                         file  ...                                           sentence\n",
              "0  EBA1415_TFHC_1_SC_ES-05947  ...  This essay is about skin damage, latitude and ...\n",
              "1  EBA1415_TFHC_1_SC_ES-05947  ...  The skin damage is on our bodies that have num...\n",
              "2  EBA1415_TFHC_1_SC_ES-05947  ...  There are three main varieties of skin cancer ...\n",
              "3  EBA1415_TFHC_1_SC_ES-05947  ...                 That would be what skin damage is.\n",
              "4  EBA1415_TFHC_1_SC_ES-05947  ...  Latitude and direct sunlight would be the cols...\n",
              "5  EBA1415_TFHC_1_SC_ES-05947  ...  The most yearound direct sunlight occurs betwe...\n",
              "6  EBA1415_TFHC_1_SC_ES-05947  ...        That would be latitude and direct sunlight.\n",
              "7  EBA1415_TFHC_1_SC_ES-05947  ...  Your skin protects you is that it acts as a wa...\n",
              "8  EBA1415_TFHC_1_SC_ES-05947  ...  Your skin does have some denses against solar ...\n",
              "9  EBA1415_TFHC_1_SC_ES-05947  ...              That would be your skin protects you.\n",
              "\n",
              "[10 rows x 4 columns]"
            ]
          },
          "metadata": {
            "tags": []
          },
          "execution_count": 9
        }
      ]
    },
    {
      "cell_type": "code",
      "metadata": {
        "id": "A8ylllfyWUid",
        "colab_type": "code",
        "colab": {}
      },
      "source": [
        "# Create sentence and label lists\n",
        "sentences = df.sentence.values\n",
        "\n",
        "# Add special tokens at the beginning and end of each sentence to comply with BERT\n",
        "sentences = [\"[CLS] \" + sentence + \" [SEP]\" for sentence in sentences]\n",
        "labels = df.relation.values"
      ],
      "execution_count": 10,
      "outputs": []
    },
    {
      "cell_type": "code",
      "metadata": {
        "id": "9zkVE9ymZFOL",
        "colab_type": "code",
        "colab": {
          "base_uri": "https://localhost:8080/",
          "height": 71
        },
        "outputId": "512cb254-72ce-46d0-d7ad-6cc21fdea386"
      },
      "source": [
        "# Now that our [CLS] and [SEP] tokens are in place, we are ready for tokenization\n",
        "tokenizer = BertTokenizer.from_pretrained('bert-base-uncased', do_lower_case=True)\n",
        "tokenized_texts = [tokenizer.tokenize(sent) for sent in sentences]\n",
        "print (\"First sentence tokenized: \",tokenized_texts[0])"
      ],
      "execution_count": 11,
      "outputs": [
        {
          "output_type": "stream",
          "text": [
            "100%|██████████| 231508/231508 [00:00<00:00, 673926.08B/s]\n"
          ],
          "name": "stderr"
        },
        {
          "output_type": "stream",
          "text": [
            "First sentence tokenized:  ['[CLS]', 'this', 'essay', 'is', 'about', 'skin', 'damage', ',', 'latitude', 'and', 'direct', 'sunlight', ',', 'skin', 'cancer', 'and', 'latitude', ',', 'your', 'skin', 'protects', 'you', 'and', 'about', 'sun', '##burn', '##s', '.', '[SEP]']\n"
          ],
          "name": "stdout"
        }
      ]
    },
    {
      "cell_type": "code",
      "metadata": {
        "id": "6Lf1BD3oZFRR",
        "colab_type": "code",
        "colab": {
          "base_uri": "https://localhost:8080/",
          "height": 34
        },
        "outputId": "8a964406-052e-4290-ea28-4048a4dd5981"
      },
      "source": [
        "'''\n",
        "For each tokenized input sentence, we need to create:\n",
        "\n",
        "1. input ids:\n",
        "    a sequence of integers identifying each input token to its index number \n",
        "    in the BERT tokenizer vocabulary\n",
        "\n",
        "2. segment mask: (optional) a sequence of 1s and 0s used to identify whether the input is one \n",
        "    sentence or two sentences long. For one sentence inputs, this is simply a sequence of 0s. \n",
        "    For two sentence inputs, there is a 0 for each token of the first sentence, followed by a \n",
        "    1 for each token of the second sentence\n",
        "\n",
        "3. attention mask: (optional) \n",
        "    a sequence of 1s and 0s, with 1s for all input tokens and 0s for all padding tokens \n",
        "\n",
        "4. labels: based on the labels from the data set\n",
        "'''\n",
        "\n",
        "# For now, we will simply delete the tokenized_texts greater than MAX_LEN.\n",
        "\n",
        "# We need to strip out the sentences greater than MAX_LEN tokens\n",
        "original_length = len(tokenized_texts)\n",
        "\n",
        "labels = [labels[i] for i in range(len(tokenized_texts)) if len(tokenized_texts[i]) <= MAX_LEN]\n",
        "tokenized_texts = [tokenized_texts[i] for i in range(len(tokenized_texts)) if len(tokenized_texts[i]) <= MAX_LEN]\n",
        "print(\"Removed {0} sentences greater than {1}\".format(original_length - len(tokenized_texts),MAX_LEN))"
      ],
      "execution_count": 12,
      "outputs": [
        {
          "output_type": "stream",
          "text": [
            "Removed 12 sentences greater than 128\n"
          ],
          "name": "stdout"
        }
      ]
    },
    {
      "cell_type": "code",
      "metadata": {
        "id": "Qr-MfjBVZFZ3",
        "colab_type": "code",
        "colab": {}
      },
      "source": [
        "# Use the BERT tokenizer to convert the tokens to their index numbers in the BERT vocabulary\n",
        "input_ids = [tokenizer.convert_tokens_to_ids(x) for x in tokenized_texts]"
      ],
      "execution_count": 13,
      "outputs": []
    },
    {
      "cell_type": "code",
      "metadata": {
        "id": "oc2YEZ2gZFXF",
        "colab_type": "code",
        "colab": {}
      },
      "source": [
        "# Pad our input tokens\n",
        "input_ids = pad_sequences(input_ids, maxlen=MAX_LEN, dtype=\"long\", truncating=\"post\", padding=\"post\")"
      ],
      "execution_count": 14,
      "outputs": []
    },
    {
      "cell_type": "code",
      "metadata": {
        "id": "--O5pAmKZFUu",
        "colab_type": "code",
        "colab": {}
      },
      "source": [
        "# Create attention masks\n",
        "attention_masks = []\n",
        "\n",
        "# Create a mask of 1s for each token followed by 0s for padding\n",
        "for seq in input_ids:\n",
        "  seq_mask = [float(i>0) for i in seq]\n",
        "  attention_masks.append(seq_mask)"
      ],
      "execution_count": 15,
      "outputs": []
    },
    {
      "cell_type": "code",
      "metadata": {
        "id": "XUv2hrecsjkm",
        "colab_type": "code",
        "colab": {
          "base_uri": "https://localhost:8080/",
          "height": 71
        },
        "outputId": "ba4ee6c3-fbf8-44a8-985b-21b812091449"
      },
      "source": [
        "# At this point we must convert our labels from strings to ints (required for tensorization)\n",
        "\n",
        "# First we are going to create an array of all possible labels\n",
        "label_types = {}\n",
        "for i in range(len(labels)):\n",
        "  if labels[i] not in label_types:\n",
        "    label_types.update({labels[i] : len(label_types)})\n",
        "print(\"Total labels_types: {0}\\nLabels: {1}\".format(len(label_types),str(label_types)))"
      ],
      "execution_count": 16,
      "outputs": [
        {
          "output_type": "stream",
          "text": [
            "Total labels_types: 51\n",
            "Labels: {'O': 0, 'R-1-2': 1, 'R-12-3': 2, 'R-1-50': 3, 'R-2-3': 4, 'R-3-4': 5, 'R-5-6': 6, 'R-2-50': 7, 'R-4-5': 8, 'R-3-50': 9, 'R-2-5': 10, 'R-5-50': 11, 'R-4-50': 12, 'R-6-50': 13, 'R-2-4': 14, 'R-1-5': 15, 'R-11-50': 16, 'R-11-12': 17, 'R-4-4': 18, 'R-5-4': 19, 'R-4-6': 20, 'R-12-2': 21, 'R-3-6': 22, 'R-3-5': 23, 'R-1-3': 24, 'R-6-5': 25, 'R-5-5': 26, 'R-1-4': 27, 'R-12-12': 28, 'R-11-3': 29, 'R-12-5': 30, 'R-11-5': 31, 'R-12-50': 32, 'R-50-2': 33, 'R-2-2': 34, 'R-11-4': 35, 'R-6-4': 36, 'R-50-5': 37, 'R-12-4': 38, 'R-5-11': 39, 'R-50-4': 40, 'R-6-3': 41, 'R-2-6': 42, 'R-4-11': 43, 'R-2-1': 44, 'R-50-3': 45, 'R-5-12': 46, 'R-2-11': 47, 'R-3-11': 48, 'R-3-2': 49, 'R-50-1': 50}\n"
          ],
          "name": "stdout"
        }
      ]
    },
    {
      "cell_type": "code",
      "metadata": {
        "id": "-BwKmV_V9l7C",
        "colab_type": "code",
        "colab": {
          "base_uri": "https://localhost:8080/",
          "height": 71
        },
        "outputId": "6f8f1cf6-d4c1-4fad-b03f-eba5a031aaf8"
      },
      "source": [
        "# Now map each label to its corresponding integer\n",
        "print(\"Old labels: \",str(labels))\n",
        "labels = [label_types.get(l) for l in labels]\n",
        "print(\"New labels: \",str(labels))"
      ],
      "execution_count": 17,
      "outputs": [
        {
          "output_type": "stream",
          "text": [
            "Old labels:  ['O', 'O', 'O', 'O', 'R-1-2', 'R-1-2', 'O', 'O', 'R-12-3', 'O', 'O', 'O', 'O', 'O', 'O', 'O', 'O', 'O', 'O', 'O', 'O', 'O', 'O', 'O', 'R-1-50', 'R-1-2', 'R-2-3', 'O', 'R-3-4', 'O', 'R-5-6', 'O', 'O', 'O', 'O', 'O', 'R-2-50', 'R-2-50', 'R-1-2', 'R-1-50', 'O', 'O', 'O', 'O', 'O', 'O', 'O', 'O', 'O', 'O', 'O', 'O', 'O', 'O', 'R-5-6', 'R-4-5', 'O', 'O', 'R-1-2', 'R-1-2', 'O', 'O', 'O', 'O', 'O', 'O', 'O', 'R-3-50', 'O', 'R-1-2', 'R-2-5', 'R-5-50', 'O', 'R-2-3', 'O', 'R-3-4', 'O', 'R-5-50', 'O', 'R-3-50', 'R-1-50', 'R-2-50', 'O', 'O', 'O', 'R-1-50', 'O', 'O', 'O', 'R-4-50', 'R-1-50', 'R-2-50', 'O', 'R-1-50', 'R-2-50', 'R-1-50', 'R-5-50', 'O', 'R-5-50', 'R-4-5', 'O', 'O', 'O', 'R-5-50', 'R-3-50', 'O', 'R-5-6', 'R-2-5', 'O', 'R-2-5', 'R-1-2', 'O', 'R-3-4', 'O', 'R-2-3', 'R-2-5', 'O', 'R-3-50', 'R-5-50', 'R-5-50', 'R-5-50', 'O', 'O', 'R-5-6', 'R-6-50', 'R-5-6', 'O', 'R-4-5', 'R-4-5', 'R-5-50', 'O', 'O', 'O', 'O', 'O', 'O', 'O', 'O', 'O', 'O', 'O', 'O', 'O', 'O', 'R-1-50', 'O', 'R-1-2', 'R-2-50', 'R-2-4', 'R-1-2', 'R-5-50', 'R-1-5', 'O', 'R-5-6', 'R-6-50', 'O', 'O', 'O', 'R-1-50', 'R-2-50', 'R-1-2', 'R-2-50', 'R-2-3', 'R-11-50', 'R-11-12', 'R-12-3', 'R-11-50', 'R-5-50', 'R-5-6', 'R-4-5', 'R-4-5', 'R-5-6', 'O', 'O', 'R-5-50', 'O', 'O', 'O', 'O', 'O', 'O', 'O', 'O', 'O', 'O', 'R-4-50', 'R-4-50', 'O', 'O', 'O', 'O', 'R-1-2', 'R-2-3', 'R-3-4', 'R-1-50', 'O', 'O', 'O', 'O', 'O', 'O', 'R-5-50', 'R-2-50', 'R-2-3', 'R-3-50', 'R-3-4', 'R-4-4', 'R-3-4', 'R-5-50', 'R-5-50', 'O', 'R-2-50', 'R-2-50', 'R-2-50', 'R-2-4', 'R-1-50', 'R-3-50', 'O', 'O', 'O', 'O', 'R-5-50', 'O', 'O', 'O', 'R-2-50', 'R-5-50', 'R-1-2', 'R-5-6', 'R-6-50', 'O', 'R-5-50', 'R-5-50', 'R-2-50', 'O', 'R-2-50', 'R-4-5', 'R-5-6', 'R-6-50', 'R-5-50', 'O', 'O', 'R-2-50', 'O', 'R-12-3', 'O', 'R-1-2', 'R-2-50', 'O', 'R-2-3', 'R-1-2', 'R-5-50', 'R-5-6', 'R-4-5', 'R-5-6', 'O', 'O', 'R-5-6', 'R-6-50', 'R-5-50', 'R-4-5', 'O', 'O', 'R-5-50', 'R-3-50', 'O', 'O', 'O', 'R-6-50', 'O', 'R-5-50', 'R-5-50', 'R-4-5', 'O', 'R-5-6', 'R-6-50', 'O', 'O', 'O', 'O', 'R-1-50', 'R-3-50', 'R-5-50', 'R-2-3', 'R-1-2', 'R-2-3', 'O', 'R-5-50', 'O', 'O', 'O', 'O', 'R-5-4', 'R-5-6', 'R-5-50', 'R-1-50', 'R-2-50', 'R-5-50', 'R-2-4', 'R-4-6', 'R-6-50', 'R-5-6', 'R-2-50', 'O', 'O', 'R-1-2', 'R-2-50', 'R-2-50', 'O', 'R-2-50', 'R-2-3', 'O', 'O', 'O', 'O', 'O', 'O', 'R-1-2', 'R-1-50', 'R-3-4', 'O', 'R-5-50', 'R-6-50', 'O', 'R-5-6', 'R-6-50', 'O', 'R-5-50', 'R-5-50', 'O', 'O', 'O', 'R-6-50', 'R-5-6', 'R-5-6', 'O', 'R-5-50', 'O', 'R-2-50', 'R-1-2', 'O', 'O', 'O', 'O', 'R-3-4', 'R-5-50', 'R-3-50', 'O', 'O', 'R-2-50', 'O', 'O', 'O', 'O', 'O', 'R-5-50', 'R-4-5', 'R-5-6', 'O', 'O', 'R-5-6', 'R-6-50', 'R-4-6', 'R-5-50', 'R-4-5', 'R-5-50', 'O', 'R-3-50', 'R-4-5', 'O', 'O', 'O', 'O', 'R-1-50', 'R-2-4', 'R-4-50', 'O', 'O', 'O', 'R-5-50', 'R-5-6', 'R-6-50', 'R-5-50', 'R-5-4', 'O', 'O', 'O', 'O', 'O', 'O', 'O', 'R-12-3', 'O', 'O', 'O', 'R-5-50', 'R-5-50', 'R-4-5', 'R-4-5', 'R-5-50', 'O', 'O', 'R-5-50', 'R-5-4', 'R-5-4', 'R-2-5', 'R-3-50', 'O', 'O', 'O', 'O', 'O', 'O', 'R-2-50', 'O', 'R-2-50', 'R-1-2', 'R-1-2', 'R-2-5', 'R-12-2', 'O', 'O', 'R-5-50', 'R-2-5', 'O', 'O', 'O', 'O', 'R-5-50', 'R-5-6', 'O', 'O', 'O', 'R-1-50', 'O', 'O', 'O', 'O', 'O', 'O', 'O', 'O', 'R-1-50', 'O', 'R-4-50', 'R-2-3', 'R-3-4', 'R-3-4', 'R-1-2', 'O', 'O', 'R-2-50', 'R-2-50', 'R-5-6', 'R-6-50', 'R-5-6', 'R-2-5', 'R-6-50', 'R-5-50', 'O', 'O', 'O', 'O', 'O', 'O', 'O', 'O', 'O', 'O', 'O', 'O', 'O', 'R-5-50', 'R-3-50', 'R-3-4', 'O', 'O', 'R-3-50', 'R-5-6', 'R-6-50', 'O', 'R-5-6', 'R-6-50', 'R-6-50', 'O', 'O', 'O', 'R-3-50', 'R-5-50', 'R-3-50', 'R-2-50', 'O', 'R-3-50', 'R-2-50', 'O', 'R-2-3', 'O', 'R-5-6', 'O', 'R-5-4', 'R-3-4', 'R-4-6', 'O', 'O', 'R-3-4', 'R-4-5', 'R-4-50', 'O', 'O', 'R-6-50', 'R-5-6', 'O', 'R-5-50', 'R-4-5', 'R-5-6', 'R-6-50', 'R-5-6', 'R-5-50', 'O', 'O', 'O', 'O', 'O', 'O', 'R-1-2', 'R-3-6', 'R-6-50', 'O', 'O', 'O', 'O', 'O', 'O', 'R-2-50', 'O', 'O', 'O', 'O', 'O', 'O', 'O', 'O', 'O', 'O', 'O', 'R-11-12', 'R-12-3', 'R-4-5', 'R-5-6', 'O', 'O', 'O', 'O', 'R-2-50', 'R-3-50', 'O', 'O', 'O', 'R-3-4', 'R-5-50', 'R-5-50', 'R-5-6', 'R-6-50', 'R-5-50', 'O', 'R-11-50', 'R-5-50', 'R-1-50', 'R-1-50', 'R-1-50', 'R-11-50', 'R-5-50', 'R-5-50', 'R-11-50', 'R-11-50', 'O', 'O', 'O', 'O', 'O', 'O', 'R-1-2', 'R-1-50', 'R-2-50', 'O', 'O', 'O', 'R-5-6', 'R-6-50', 'O', 'O', 'O', 'R-5-50', 'R-5-6', 'R-6-50', 'R-5-6', 'R-5-50', 'R-5-50', 'R-3-50', 'R-3-4', 'O', 'R-1-50', 'R-1-2', 'O', 'O', 'O', 'R-3-50', 'R-2-50', 'R-2-50', 'R-6-50', 'O', 'R-1-2', 'O', 'O', 'O', 'R-1-2', 'R-2-50', 'R-2-3', 'R-12-3', 'R-5-6', 'R-6-50', 'O', 'O', 'O', 'O', 'O', 'O', 'R-3-4', 'O', 'O', 'O', 'R-5-50', 'R-5-6', 'R-6-50', 'R-5-6', 'O', 'O', 'O', 'O', 'O', 'R-1-50', 'R-5-50', 'R-5-50', 'R-3-5', 'R-4-5', 'O', 'O', 'R-5-6', 'R-6-50', 'O', 'R-5-50', 'R-1-50', 'R-1-2', 'R-1-2', 'O', 'R-2-3', 'R-3-4', 'O', 'R-5-50', 'R-1-50', 'R-2-5', 'O', 'O', 'O', 'O', 'O', 'O', 'O', 'O', 'O', 'O', 'O', 'R-3-50', 'R-1-3', 'R-2-3', 'O', 'R-1-2', 'R-1-3', 'R-1-2', 'R-6-5', 'R-5-50', 'R-6-50', 'R-4-6', 'R-1-2', 'R-1-3', 'R-2-50', 'O', 'R-5-6', 'R-6-50', 'O', 'R-5-50', 'R-2-5', 'R-2-3', 'R-1-2', 'R-1-50', 'O', 'R-1-50', 'R-3-50', 'R-5-50', 'O', 'R-1-50', 'R-3-50', 'R-5-50', 'R-1-50', 'R-3-50', 'R-1-2', 'R-2-3', 'R-3-50', 'R-5-50', 'R-3-50', 'R-2-3', 'R-3-4', 'R-5-50', 'R-5-4', 'R-4-6', 'R-5-6', 'R-5-6', 'R-5-50', 'R-5-6', 'O', 'O', 'O', 'O', 'R-1-2', 'R-1-2', 'R-1-50', 'R-2-50', 'R-2-50', 'O', 'R-2-50', 'R-3-50', 'O', 'O', 'O', 'O', 'R-6-50', 'R-5-50', 'O', 'O', 'O', 'O', 'O', 'O', 'R-2-3', 'R-1-2', 'R-1-2', 'R-2-3', 'R-3-5', 'R-4-5', 'O', 'O', 'O', 'R-5-6', 'R-6-50', 'O', 'O', 'O', 'O', 'O', 'O', 'O', 'O', 'R-4-5', 'R-5-6', 'O', 'O', 'O', 'O', 'O', 'R-4-5', 'O', 'R-2-50', 'R-1-2', 'R-1-2', 'R-5-6', 'R-6-50', 'R-1-50', 'R-2-50', 'R-5-50', 'R-5-50', 'R-5-50', 'O', 'O', 'R-1-50', 'R-1-3', 'R-1-2', 'R-3-4', 'R-4-6', 'R-5-50', 'O', 'R-5-6', 'R-6-50', 'O', 'O', 'O', 'O', 'R-2-50', 'O', 'O', 'O', 'O', 'R-1-50', 'R-3-4', 'R-1-3', 'R-2-3', 'R-1-2', 'R-2-50', 'R-3-5', 'R-3-4', 'R-5-6', 'R-5-6', 'O', 'O', 'O', 'O', 'O', 'O', 'O', 'O', 'O', 'O', 'R-11-12', 'R-12-3', 'R-11-12', 'R-11-12', 'R-12-3', 'O', 'O', 'R-5-6', 'R-4-5', 'R-5-6', 'O', 'O', 'O', 'R-5-6', 'R-6-50', 'R-5-6', 'O', 'R-2-50', 'R-2-3', 'O', 'O', 'O', 'O', 'R-2-50', 'R-1-2', 'O', 'R-1-2', 'R-1-2', 'R-1-2', 'R-2-50', 'O', 'R-11-12', 'R-11-12', 'R-12-3', 'R-1-50', 'R-1-50', 'O', 'O', 'O', 'O', 'R-12-3', 'O', 'R-3-4', 'O', 'R-2-50', 'R-2-50', 'R-3-50', 'O', 'R-3-4', 'O', 'R-2-50', 'R-5-6', 'R-4-5', 'R-5-6', 'R-6-50', 'O', 'O', 'O', 'R-1-2', 'O', 'R-1-2', 'R-1-50', 'R-1-2', 'R-11-12', 'R-12-3', 'O', 'O', 'O', 'O', 'O', 'O', 'O', 'O', 'O', 'O', 'O', 'O', 'O', 'O', 'O', 'O', 'R-3-50', 'R-1-3', 'O', 'O', 'O', 'O', 'O', 'O', 'R-6-50', 'R-2-50', 'R-1-50', 'R-2-50', 'O', 'O', 'R-2-50', 'R-1-2', 'R-1-2', 'R-2-50', 'O', 'R-1-2', 'R-5-50', 'R-5-6', 'R-6-50', 'O', 'O', 'R-3-50', 'O', 'R-2-50', 'R-1-2', 'O', 'R-5-50', 'R-12-3', 'O', 'O', 'O', 'O', 'O', 'O', 'O', 'O', 'O', 'O', 'R-2-50', 'O', 'O', 'O', 'O', 'O', 'R-2-50', 'O', 'R-3-4', 'R-3-6', 'R-5-6', 'R-6-50', 'O', 'R-5-6', 'R-2-50', 'R-4-50', 'O', 'R-4-6', 'R-6-50', 'R-2-50', 'R-2-50', 'R-1-2', 'O', 'R-5-50', 'O', 'O', 'O', 'R-1-2', 'O', 'R-2-50', 'R-2-3', 'R-3-4', 'O', 'R-3-4', 'R-4-6', 'R-6-50', 'O', 'O', 'O', 'O', 'O', 'O', 'R-11-12', 'R-12-3', 'O', 'O', 'O', 'O', 'O', 'O', 'O', 'R-1-50', 'O', 'O', 'O', 'R-1-50', 'R-5-50', 'R-11-12', 'R-12-3', 'R-3-5', 'R-5-6', 'R-5-6', 'R-6-50', 'R-2-4', 'R-4-5', 'R-5-50', 'R-5-5', 'O', 'R-1-50', 'R-1-50', 'R-2-50', 'R-2-3', 'R-3-4', 'R-4-50', 'O', 'R-1-50', 'R-1-2', 'R-1-2', 'O', 'O', 'O', 'O', 'O', 'O', 'O', 'O', 'O', 'O', 'R-5-50', 'O', 'R-4-5', 'R-2-4', 'R-2-4', 'O', 'O', 'O', 'R-5-50', 'R-5-50', 'R-5-50', 'O', 'O', 'O', 'R-1-50', 'O', 'R-1-50', 'R-11-50', 'R-1-2', 'R-2-5', 'R-2-5', 'R-5-6', 'R-1-50', 'R-12-3', 'O', 'O', 'R-1-50', 'O', 'O', 'R-11-50', 'R-5-50', 'R-1-50', 'R-3-50', 'R-2-50', 'R-1-50', 'O', 'O', 'O', 'O', 'R-3-50', 'R-3-4', 'O', 'R-5-50', 'R-5-4', 'R-5-4', 'R-5-50', 'O', 'O', 'O', 'R-1-50', 'R-2-50', 'R-2-4', 'O', 'R-3-4', 'O', 'O', 'O', 'O', 'O', 'O', 'R-5-50', 'R-5-6', 'O', 'O', 'O', 'O', 'O', 'R-5-6', 'R-6-50', 'O', 'R-5-6', 'R-5-50', 'R-5-50', 'O', 'R-4-5', 'O', 'O', 'O', 'O', 'O', 'O', 'O', 'O', 'O', 'O', 'O', 'O', 'O', 'R-2-50', 'O', 'O', 'R-3-4', 'R-4-5', 'O', 'O', 'O', 'O', 'R-4-5', 'R-5-6', 'R-1-50', 'R-2-50', 'R-1-2', 'R-1-2', 'R-1-2', 'O', 'O', 'O', 'O', 'O', 'R-12-3', 'O', 'R-12-3', 'O', 'O', 'O', 'O', 'O', 'R-3-50', 'R-3-50', 'O', 'R-1-2', 'R-2-3', 'O', 'O', 'O', 'O', 'O', 'R-1-50', 'R-1-4', 'R-2-4', 'R-1-2', 'R-5-50', 'O', 'R-12-3', 'R-11-12', 'R-5-50', 'O', 'R-3-50', 'O', 'R-3-4', 'O', 'R-5-50', 'R-5-6', 'R-6-50', 'R-5-50', 'R-3-50', 'O', 'O', 'O', 'O', 'O', 'O', 'O', 'O', 'R-12-3', 'R-11-12', 'R-12-12', 'O', 'O', 'R-4-5', 'R-5-6', 'O', 'O', 'O', 'R-5-6', 'O', 'O', 'O', 'O', 'O', 'O', 'O', 'O', 'R-4-5', 'R-5-6', 'O', 'O', 'R-5-6', 'R-6-50', 'R-1-50', 'R-1-2', 'R-2-50', 'R-1-50', 'R-2-3', 'R-3-4', 'R-6-50', 'R-11-3', 'R-3-5', 'R-3-50', 'O', 'R-2-3', 'R-3-4', 'R-12-3', 'O', 'O', 'R-2-50', 'R-1-50', 'R-5-50', 'R-3-4', 'R-5-50', 'O', 'O', 'R-1-50', 'R-3-50', 'R-2-50', 'R-1-50', 'R-1-2', 'R-1-3', 'O', 'O', 'O', 'O', 'O', 'O', 'O', 'R-5-50', 'R-5-6', 'R-6-50', 'O', 'R-1-2', 'R-2-50', 'O', 'O', 'O', 'O', 'O', 'O', 'O', 'O', 'O', 'O', 'O', 'O', 'O', 'R-1-50', 'R-5-50', 'R-11-50', 'R-1-50', 'R-11-50', 'R-5-50', 'O', 'R-2-50', 'R-11-12', 'R-2-50', 'R-12-2', 'R-12-3', 'R-12-5', 'O', 'R-1-5', 'O', 'R-1-2', 'R-11-5', 'R-2-5', 'R-5-50', 'R-5-50', 'O', 'R-6-50', 'O', 'R-11-50', 'R-1-50', 'R-5-50', 'O', 'O', 'O', 'O', 'O', 'O', 'O', 'R-3-50', 'R-3-50', 'O', 'O', 'O', 'O', 'O', 'O', 'O', 'O', 'R-2-50', 'R-2-50', 'R-12-50', 'R-5-50', 'R-5-50', 'R-1-50', 'O', 'O', 'O', 'O', 'R-5-50', 'O', 'O', 'R-5-6', 'R-6-50', 'R-5-50', 'R-5-6', 'O', 'O', 'O', 'O', 'O', 'O', 'R-1-2', 'R-1-2', 'R-1-2', 'O', 'O', 'R-2-5', 'R-4-5', 'O', 'R-5-6', 'R-6-50', 'O', 'O', 'O', 'O', 'O', 'O', 'O', 'O', 'O', 'O', 'O', 'O', 'R-4-5', 'O', 'O', 'O', 'O', 'R-5-6', 'R-6-50', 'R-5-50', 'R-11-50', 'R-1-50', 'R-1-50', 'R-1-50', 'R-11-50', 'R-11-12', 'R-12-3', 'R-11-50', 'R-5-50', 'R-5-50', 'R-5-50', 'R-11-50', 'R-1-50', 'O', 'R-2-50', 'O', 'O', 'O', 'O', 'O', 'O', 'O', 'O', 'O', 'R-4-5', 'R-5-50', 'R-5-6', 'R-6-50', 'O', 'O', 'O', 'O', 'O', 'O', 'O', 'O', 'O', 'O', 'O', 'O', 'R-5-50', 'R-5-6', 'R-6-50', 'R-4-5', 'R-5-6', 'R-5-50', 'O', 'O', 'O', 'R-3-50', 'R-5-50', 'R-3-4', 'R-3-4', 'R-4-6', 'R-3-50', 'R-3-4', 'R-5-50', 'R-5-6', 'R-6-50', 'R-6-50', 'O', 'O', 'R-2-3', 'R-1-3', 'R-3-4', 'O', 'R-3-4', 'R-3-6', 'R-2-5', 'R-5-50', 'R-5-6', 'R-4-5', 'R-5-6', 'O', 'R-5-6', 'R-6-50', 'R-5-6', 'R-5-50', 'R-2-50', 'R-3-50', 'R-2-3', 'R-3-4', 'R-2-5', 'O', 'R-6-50', 'R-2-50', 'R-5-50', 'R-5-50', 'R-5-50', 'R-5-50', 'R-1-50', 'R-1-50', 'R-1-50', 'R-3-50', 'R-2-50', 'R-5-50', 'O', 'O', 'O', 'R-3-50', 'R-12-3', 'R-2-3', 'R-11-12', 'R-4-6', 'O', 'O', 'R-1-50', 'R-1-2', 'R-2-3', 'R-2-4', 'R-4-5', 'R-5-6', 'R-5-6', 'R-6-50', 'R-5-50', 'O', 'O', 'O', 'R-5-50', 'R-5-6', 'O', 'R-5-50', 'R-5-6', 'R-6-50', 'R-1-50', 'R-2-50', 'R-4-50', 'R-1-2', 'R-1-50', 'R-4-5', 'O', 'R-5-6', 'O', 'O', 'O', 'O', 'O', 'R-5-50', 'R-11-50', 'R-2-50', 'R-1-2', 'R-11-3', 'R-3-50', 'R-1-2', 'R-2-3', 'R-3-4', 'R-4-50', 'R-5-6', 'R-6-50', 'O', 'R-2-50', 'R-3-50', 'O', 'R-1-50', 'R-2-50', 'R-1-2', 'R-1-50', 'R-11-12', 'R-12-50', 'R-11-12', 'R-12-3', 'R-11-50', 'R-5-4', 'R-5-4', 'R-6-50', 'R-5-50', 'R-2-50', 'R-2-50', 'O', 'O', 'O', 'O', 'O', 'O', 'O', 'R-11-12', 'R-12-3', 'O', 'O', 'R-11-50', 'R-11-12', 'R-12-3', 'R-11-50', 'R-11-50', 'R-5-50', 'R-5-50', 'R-6-50', 'O', 'O', 'R-1-2', 'R-1-2', 'R-1-2', 'R-1-50', 'O', 'O', 'O', 'O', 'O', 'O', 'O', 'O', 'O', 'R-2-50', 'R-5-50', 'R-6-50', 'R-5-6', 'R-1-2', 'R-2-50', 'O', 'O', 'O', 'O', 'O', 'R-3-50', 'R-3-50', 'R-1-3', 'R-1-50', 'R-12-3', 'R-3-4', 'O', 'O', 'O', 'R-1-2', 'R-1-2', 'O', 'O', 'R-2-5', 'R-4-5', 'R-4-5', 'O', 'R-5-6', 'R-6-50', 'R-2-50', 'R-50-2', 'R-1-2', 'R-50-2', 'R-2-3', 'R-1-3', 'R-1-2', 'R-2-50', 'R-3-50', 'O', 'O', 'O', 'R-4-5', 'R-3-4', 'R-5-6', 'R-6-50', 'O', 'R-2-3', 'R-1-2', 'R-3-4', 'R-4-6', 'R-6-50', 'O', 'O', 'O', 'O', 'O', 'O', 'O', 'O', 'R-1-2', 'O', 'R-1-50', 'O', 'O', 'O', 'R-12-3', 'R-11-12', 'R-11-12', 'R-12-3', 'R-5-6', 'R-5-50', 'R-5-6', 'O', 'R-5-50', 'R-5-50', 'O', 'O', 'O', 'O', 'O', 'O', 'O', 'R-1-2', 'R-2-2', 'O', 'O', 'R-3-4', 'R-11-12', 'R-12-3', 'R-4-5', 'O', 'O', 'O', 'O', 'O', 'O', 'O', 'O', 'O', 'R-1-50', 'R-6-50', 'O', 'O', 'O', 'O', 'R-1-2', 'R-2-50', 'R-2-50', 'O', 'R-3-4', 'R-11-12', 'R-12-3', 'O', 'R-4-5', 'R-5-6', 'R-5-6', 'R-6-50', 'O', 'O', 'O', 'O', 'O', 'O', 'R-4-5', 'R-5-6', 'O', 'O', 'O', 'O', 'O', 'O', 'O', 'O', 'O', 'R-2-50', 'R-2-3', 'R-3-4', 'R-1-2', 'R-1-50', 'R-2-3', 'O', 'R-11-12', 'R-12-3', 'R-11-50', 'R-11-4', 'R-6-50', 'R-4-50', 'O', 'O', 'O', 'O', 'R-5-50', 'R-5-50', 'R-5-50', 'O', 'O', 'R-2-50', 'O', 'R-5-50', 'R-2-3', 'R-3-4', 'R-3-50', 'R-2-4', 'R-5-50', 'O', 'O', 'O', 'R-2-50', 'R-1-2', 'O', 'R-2-4', 'R-4-5', 'R-5-6', 'R-1-50', 'R-3-50', 'R-1-3', 'R-11-50', 'O', 'O', 'R-2-50', 'O', 'O', 'O', 'O', 'O', 'O', 'O', 'R-2-50', 'O', 'O', 'O', 'O', 'R-2-4', 'R-2-50', 'R-5-6', 'R-6-50', 'O', 'R-5-50', 'O', 'R-1-2', 'R-1-2', 'O', 'O', 'R-12-3', 'O', 'O', 'R-5-50', 'R-1-50', 'R-2-5', 'R-5-50', 'R-4-50', 'R-2-4', 'R-5-6', 'R-6-50', 'R-1-50', 'R-3-50', 'R-3-50', 'R-2-3', 'O', 'R-2-50', 'R-1-50', 'O', 'O', 'O', 'O', 'O', 'O', 'O', 'O', 'R-6-50', 'O', 'O', 'O', 'R-2-50', 'R-1-2', 'O', 'O', 'R-12-3', 'O', 'R-5-50', 'R-5-6', 'R-6-50', 'R-4-5', 'R-5-50', 'O', 'R-1-50', 'R-1-2', 'R-1-2', 'R-2-3', 'R-5-50', 'R-4-5', 'R-5-6', 'R-6-50', 'O', 'O', 'O', 'O', 'O', 'O', 'R-4-5', 'O', 'O', 'R-3-50', 'R-3-50', 'R-3-50', 'R-12-3', 'R-11-50', 'R-2-50', 'R-1-2', 'R-5-50', 'R-4-50', 'O', 'O', 'O', 'O', 'O', 'R-3-4', 'O', 'R-6-4', 'R-6-50', 'R-6-50', 'O', 'O', 'O', 'O', 'R-1-2', 'O', 'R-5-50', 'O', 'R-5-50', 'O', 'R-1-2', 'R-2-50', 'R-2-5', 'O', 'R-11-12', 'R-12-3', 'O', 'R-5-50', 'R-6-50', 'R-5-6', 'O', 'R-2-50', 'R-1-50', 'R-1-50', 'R-2-50', 'R-5-50', 'O', 'O', 'R-1-2', 'O', 'O', 'R-3-50', 'R-5-50', 'R-1-50', 'R-2-50', 'R-2-50', 'R-1-2', 'O', 'O', 'O', 'R-2-50', 'R-3-4', 'R-5-50', 'R-3-5', 'R-6-50', 'R-2-50', 'R-2-3', 'O', 'R-3-4', 'R-3-6', 'R-6-5', 'R-5-50', 'R-5-50', 'R-5-50', 'R-5-50', 'O', 'R-5-6', 'R-6-50', 'R-5-6', 'O', 'R-2-50', 'R-2-50', 'R-2-50', 'R-3-50', 'R-3-4', 'R-3-50', 'R-11-3', 'O', 'R-5-50', 'R-3-50', 'O', 'R-3-4', 'O', 'O', 'O', 'O', 'O', 'R-5-4', 'R-5-6', 'R-6-50', 'R-5-50', 'O', 'O', 'O', 'O', 'O', 'O', 'O', 'O', 'O', 'O', 'O', 'O', 'O', 'O', 'O', 'R-12-3', 'O', 'O', 'O', 'O', 'O', 'O', 'R-4-5', 'R-5-6', 'R-2-3', 'R-3-50', 'R-2-3', 'R-5-50', 'R-2-5', 'R-5-50', 'O', 'R-2-3', 'R-2-5', 'O', 'O', 'O', 'O', 'O', 'O', 'O', 'O', 'O', 'O', 'O', 'R-2-50', 'R-2-50', 'O', 'R-11-3', 'R-3-50', 'R-1-2', 'R-5-50', 'O', 'O', 'O', 'O', 'O', 'O', 'O', 'R-1-2', 'O', 'R-1-2', 'O', 'O', 'O', 'O', 'O', 'O', 'O', 'O', 'R-2-3', 'O', 'O', 'O', 'R-4-5', 'R-4-6', 'O', 'R-4-6', 'R-6-50', 'R-6-50', 'R-5-50', 'R-5-50', 'R-3-50', 'R-5-50', 'R-3-50', 'O', 'O', 'O', 'O', 'O', 'O', 'O', 'O', 'R-1-50', 'O', 'O', 'O', 'O', 'O', 'O', 'O', 'O', 'R-11-12', 'R-11-12', 'R-12-3', 'R-11-12', 'R-12-3', 'R-5-50', 'O', 'R-4-5', 'O', 'R-1-50', 'R-1-50', 'O', 'O', 'O', 'O', 'O', 'O', 'O', 'O', 'R-2-50', 'R-1-2', 'R-2-5', 'R-4-5', 'O', 'O', 'R-5-6', 'R-6-50', 'R-5-6', 'R-2-50', 'R-2-50', 'R-1-2', 'O', 'O', 'R-2-5', 'R-5-6', 'R-6-50', 'O', 'R-3-6', 'R-5-50', 'R-3-50', 'O', 'R-3-50', 'R-2-3', 'R-2-5', 'O', 'O', 'O', 'O', 'R-5-4', 'R-2-4', 'O', 'O', 'O', 'O', 'O', 'R-1-50', 'R-2-50', 'R-1-2', 'R-1-5', 'R-1-2', 'R-2-3', 'R-3-50', 'R-1-2', 'O', 'R-12-3', 'R-11-12', 'R-12-3', 'R-11-12', 'R-12-3', 'R-5-50', 'R-4-5', 'O', 'R-5-6', 'R-6-50', 'R-5-50', 'R-5-50', 'R-5-6', 'R-6-50', 'O', 'O', 'O', 'O', 'O', 'O', 'R-1-2', 'O', 'R-3-50', 'R-2-50', 'R-2-50', 'R-1-50', 'O', 'R-11-12', 'R-11-12', 'R-12-3', 'R-6-50', 'R-4-6', 'R-5-4', 'R-5-50', 'O', 'O', 'O', 'O', 'O', 'R-1-2', 'R-5-50', 'R-6-50', 'O', 'O', 'O', 'O', 'O', 'O', 'O', 'O', 'O', 'O', 'O', 'O', 'O', 'O', 'R-5-50', 'R-4-5', 'R-5-6', 'R-6-50', 'O', 'R-12-3', 'O', 'R-5-6', 'R-6-50', 'O', 'O', 'O', 'O', 'O', 'O', 'O', 'O', 'R-5-50', 'R-2-50', 'R-4-50', 'O', 'O', 'R-1-2', 'R-2-2', 'O', 'O', 'R-5-6', 'R-6-50', 'R-5-50', 'R-5-50', 'O', 'R-2-5', 'R-5-50', 'R-2-5', 'O', 'R-1-50', 'R-1-2', 'R-1-2', 'R-1-50', 'O', 'O', 'R-1-50', 'R-2-50', 'R-2-50', 'R-1-2', 'R-2-50', 'R-2-50', 'R-5-50', 'R-2-50', 'R-1-50', 'O', 'O', 'O', 'O', 'R-2-50', 'R-1-2', 'O', 'O', 'O', 'O', 'O', 'O', 'R-2-50', 'R-1-50', 'O', 'R-1-2', 'R-1-2', 'R-1-2', 'R-2-50', 'R-5-50', 'O', 'R-5-4', 'R-4-6', 'R-5-6', 'R-6-50', 'R-5-50', 'R-5-50', 'R-4-5', 'O', 'O', 'R-2-50', 'O', 'R-3-50', 'R-3-4', 'R-2-3', 'R-2-3', 'R-1-3', 'R-1-2', 'R-2-50', 'R-5-50', 'R-5-4', 'R-4-50', 'R-4-50', 'R-4-5', 'R-6-50', 'R-3-50', 'R-2-3', 'O', 'R-3-50', 'R-1-50', 'R-5-50', 'R-3-50', 'R-1-50', 'R-5-50', 'R-1-2', 'R-3-4', 'R-5-6', 'R-6-50', 'R-5-50', 'R-3-50', 'R-1-50', 'O', 'O', 'O', 'O', 'O', 'R-4-5', 'R-5-6', 'R-5-4', 'R-3-4', 'R-3-4', 'R-4-50', 'O', 'O', 'O', 'O', 'O', 'O', 'O', 'O', 'R-1-2', 'R-2-3', 'R-3-50', 'R-3-50', 'O', 'O', 'O', 'R-3-5', 'R-3-5', 'R-2-5', 'O', 'R-2-3', 'R-3-50', 'R-3-5', 'R-11-50', 'O', 'R-11-50', 'R-2-50', 'O', 'O', 'R-1-50', 'R-1-50', 'R-5-50', 'R-1-50', 'R-1-50', 'R-5-50', 'R-5-50', 'R-5-50', 'R-1-50', 'R-5-50', 'R-2-50', 'R-1-2', 'R-2-50', 'R-2-50', 'O', 'R-1-2', 'R-2-3', 'R-3-4', 'R-3-50', 'R-11-12', 'R-12-50', 'R-1-5', 'R-5-50', 'R-5-6', 'R-6-50', 'R-3-50', 'R-1-50', 'O', 'R-2-3', 'R-1-50', 'R-11-12', 'R-12-3', 'R-11-12', 'R-12-3', 'R-5-6', 'R-6-50', 'O', 'R-50-2', 'R-2-4', 'R-3-50', 'R-3-4', 'O', 'O', 'O', 'O', 'R-5-50', 'R-4-5', 'O', 'O', 'R-5-6', 'R-5-50', 'R-5-50', 'R-5-50', 'O', 'O', 'R-1-2', 'R-2-50', 'R-5-50', 'O', 'R-11-12', 'R-12-2', 'O', 'R-5-50', 'O', 'O', 'O', 'O', 'O', 'O', 'O', 'R-2-50', 'R-3-50', 'R-3-50', 'R-2-3', 'R-1-2', 'O', 'O', 'O', 'O', 'R-12-3', 'R-11-12', 'R-12-3', 'O', 'O', 'O', 'O', 'O', 'R-5-50', 'O', 'O', 'R-12-3', 'O', 'O', 'O', 'R-12-3', 'O', 'O', 'O', 'O', 'O', 'O', 'O', 'O', 'R-1-50', 'R-1-2', 'R-1-2', 'R-2-3', 'R-3-50', 'R-5-50', 'R-5-50', 'R-4-5', 'R-2-4', 'R-6-50', 'R-5-6', 'R-5-50', 'O', 'O', 'R-1-50', 'R-2-50', 'R-5-50', 'O', 'R-1-50', 'R-2-50', 'R-5-50', 'R-1-2', 'O', 'R-1-2', 'R-2-3', 'R-3-50', 'R-5-50', 'O', 'O', 'O', 'R-6-50', 'R-5-50', 'O', 'R-3-4', 'R-2-3', 'R-4-6', 'R-5-6', 'R-5-6', 'R-6-50', 'O', 'O', 'O', 'O', 'O', 'O', 'O', 'O', 'O', 'R-5-50', 'O', 'O', 'R-1-50', 'O', 'O', 'O', 'O', 'O', 'O', 'O', 'O', 'O', 'R-1-2', 'R-1-2', 'O', 'O', 'O', 'O', 'O', 'R-1-50', 'R-1-2', 'R-2-3', 'R-5-50', 'R-5-6', 'R-6-50', 'R-5-50', 'O', 'O', 'R-2-50', 'R-5-50', 'O', 'O', 'O', 'O', 'R-2-50', 'R-3-50', 'R-3-4', 'R-4-5', 'R-5-6', 'R-3-50', 'R-2-50', 'O', 'O', 'O', 'O', 'O', 'O', 'O', 'O', 'R-5-50', 'R-6-50', 'R-6-5', 'R-3-5', 'R-3-4', 'O', 'R-1-50', 'O', 'O', 'O', 'O', 'R-3-50', 'O', 'O', 'R-6-50', 'R-5-50', 'R-4-5', 'R-3-50', 'O', 'O', 'R-5-50', 'O', 'O', 'O', 'O', 'R-1-2', 'O', 'O', 'R-4-5', 'R-2-4', 'R-5-50', 'R-5-6', 'R-6-50', 'O', 'O', 'O', 'O', 'O', 'R-5-50', 'R-11-50', 'R-2-50', 'R-1-50', 'R-5-50', 'R-11-50', 'R-2-50', 'R-1-50', 'R-1-50', 'O', 'R-11-50', 'R-5-50', 'R-5-50', 'R-5-50', 'R-5-50', 'O', 'O', 'O', 'O', 'O', 'R-5-6', 'R-6-50', 'O', 'O', 'O', 'R-5-50', 'R-5-50', 'O', 'O', 'O', 'O', 'O', 'O', 'O', 'O', 'R-2-5', 'R-5-50', 'R-1-3', 'R-1-2', 'R-1-3', 'R-1-2', 'R-2-3', 'O', 'O', 'O', 'O', 'R-11-50', 'R-1-50', 'R-1-50', 'R-1-2', 'R-3-50', 'O', 'R-11-12', 'R-11-12', 'R-12-3', 'R-3-50', 'R-2-3', 'R-3-50', 'R-3-4', 'O', 'R-5-50', 'R-4-6', 'O', 'O', 'O', 'R-2-50', 'O', 'O', 'O', 'O', 'O', 'O', 'O', 'O', 'R-12-3', 'R-4-5', 'R-5-6', 'O', 'O', 'O', 'O', 'O', 'R-1-2', 'R-2-50', 'R-1-50', 'R-2-50', 'R-5-50', 'R-5-6', 'R-5-50', 'O', 'R-2-50', 'O', 'R-2-50', 'R-2-3', 'R-3-4', 'O', 'R-11-12', 'R-12-2', 'R-1-50', 'R-1-2', 'R-2-50', 'O', 'O', 'R-5-50', 'R-3-50', 'R-1-50', 'R-5-6', 'R-6-50', 'O', 'R-5-50', 'R-3-4', 'O', 'R-1-2', 'R-2-50', 'R-2-3', 'R-3-4', 'R-1-50', 'O', 'O', 'R-1-2', 'R-1-2', 'R-2-50', 'R-3-4', 'R-4-50', 'R-4-50', 'R-11-12', 'R-12-3', 'O', 'R-5-6', 'R-6-50', 'R-6-50', 'O', 'O', 'O', 'O', 'R-2-50', 'O', 'R-3-5', 'O', 'R-5-6', 'R-6-50', 'O', 'O', 'O', 'O', 'O', 'R-1-50', 'R-1-2', 'R-2-50', 'O', 'O', 'O', 'R-5-50', 'O', 'O', 'O', 'R-5-50', 'R-5-6', 'R-6-50', 'R-2-3', 'O', 'O', 'O', 'O', 'R-2-3', 'O', 'R-11-3', 'R-11-3', 'R-11-12', 'R-11-12', 'R-12-3', 'O', 'O', 'R-5-50', 'R-5-50', 'R-5-50', 'R-5-50', 'R-5-50', 'R-1-50', 'R-1-3', 'R-3-4', 'R-1-2', 'R-1-2', 'O', 'O', 'O', 'O', 'O', 'R-4-50', 'R-3-4', 'R-2-50', 'O', 'O', 'O', 'O', 'O', 'O', 'O', 'O', 'O', 'R-12-50', 'R-5-50', 'O', 'O', 'O', 'O', 'O', 'O', 'O', 'O', 'O', 'R-5-50', 'R-5-6', 'R-6-50', 'O', 'O', 'O', 'R-4-5', 'R-2-4', 'R-2-4', 'R-4-50', 'O', 'R-1-50', 'R-1-2', 'R-2-4', 'R-4-50', 'R-1-2', 'O', 'R-6-50', 'R-5-50', 'O', 'O', 'R-2-50', 'R-2-5', 'R-50-5', 'R-5-4', 'R-1-50', 'R-2-50', 'R-1-50', 'R-2-4', 'R-4-50', 'O', 'O', 'O', 'O', 'R-1-50', 'R-1-2', 'R-2-5', 'R-2-5', 'R-5-4', 'R-5-50', 'R-5-50', 'R-1-50', 'R-6-50', 'R-5-50', 'R-1-50', 'R-5-50', 'R-3-50', 'R-1-50', 'R-5-50', 'R-3-50', 'R-3-50', 'R-1-50', 'R-5-50', 'R-1-50', 'R-1-2', 'R-1-2', 'O', 'O', 'O', 'R-1-50', 'R-3-50', 'R-1-2', 'R-2-5', 'R-5-50', 'R-6-50', 'R-11-50', 'O', 'O', 'O', 'O', 'O', 'R-1-3', 'R-1-2', 'R-2-50', 'R-3-50', 'R-3-50', 'R-2-50', 'O', 'R-3-4', 'R-5-50', 'O', 'O', 'O', 'R-6-50', 'O', 'O', 'R-3-50', 'R-3-50', 'R-2-3', 'R-2-50', 'R-5-6', 'R-3-6', 'O', 'R-5-50', 'R-5-6', 'R-6-50', 'O', 'O', 'O', 'R-3-50', 'O', 'O', 'O', 'O', 'O', 'O', 'O', 'O', 'O', 'O', 'O', 'O', 'O', 'O', 'R-5-50', 'R-3-5', 'R-5-50', 'R-3-4', 'R-2-3', 'O', 'O', 'O', 'R-5-6', 'R-6-50', 'O', 'R-1-2', 'O', 'O', 'O', 'O', 'O', 'R-4-5', 'R-5-50', 'R-1-2', 'R-2-3', 'R-3-5', 'R-5-50', 'R-3-5', 'O', 'O', 'O', 'O', 'O', 'R-1-50', 'R-2-50', 'R-2-50', 'R-1-2', 'R-2-4', 'R-5-50', 'R-5-6', 'R-6-50', 'O', 'O', 'O', 'R-1-3', 'R-3-4', 'O', 'R-11-50', 'R-5-50', 'R-3-50', 'R-11-50', 'R-2-50', 'R-5-6', 'R-6-50', 'R-5-6', 'R-6-50', 'O', 'O', 'R-11-12', 'R-12-3', 'R-3-50', 'R-2-3', 'O', 'R-11-12', 'R-12-3', 'R-1-2', 'O', 'O', 'R-5-50', 'R-1-50', 'R-1-2', 'R-1-50', 'R-5-6', 'R-4-5', 'R-5-6', 'O', 'O', 'O', 'R-5-50', 'R-5-50', 'O', 'O', 'R-1-50', 'R-1-2', 'O', 'R-1-2', 'R-1-50', 'R-1-2', 'R-2-50', 'R-1-50', 'R-6-50', 'R-5-6', 'R-5-6', 'R-6-50', 'R-4-6', 'R-5-6', 'R-6-50', 'R-6-50', 'O', 'O', 'O', 'R-2-50', 'O', 'O', 'O', 'O', 'O', 'O', 'O', 'O', 'O', 'R-1-2', 'R-5-6', 'R-6-50', 'O', 'O', 'O', 'R-2-50', 'R-1-2', 'R-2-4', 'O', 'O', 'O', 'O', 'R-4-5', 'R-5-6', 'R-2-4', 'O', 'R-5-6', 'R-6-50', 'R-5-6', 'R-5-50', 'R-5-50', 'R-11-12', 'R-12-3', 'O', 'R-11-12', 'R-12-3', 'O', 'O', 'O', 'R-2-50', 'R-5-50', 'O', 'O', 'O', 'R-1-50', 'O', 'O', 'R-1-3', 'O', 'R-3-4', 'O', 'O', 'O', 'O', 'O', 'R-3-50', 'R-2-50', 'R-1-2', 'R-1-50', 'O', 'O', 'O', 'R-1-2', 'R-3-4', 'R-2-3', 'R-3-50', 'O', 'O', 'O', 'O', 'O', 'O', 'R-2-50', 'R-1-2', 'R-1-2', 'O', 'R-3-50', 'R-2-3', 'R-1-5', 'R-5-6', 'O', 'O', 'O', 'O', 'O', 'O', 'O', 'O', 'O', 'O', 'O', 'O', 'O', 'R-12-3', 'O', 'O', 'R-11-12', 'R-12-3', 'O', 'O', 'R-1-3', 'R-1-2', 'R-1-3', 'R-4-5', 'O', 'O', 'O', 'R-6-50', 'R-5-50', 'R-5-50', 'O', 'R-3-50', 'R-1-50', 'R-2-50', 'R-5-50', 'R-1-50', 'R-2-50', 'R-5-50', 'R-3-50', 'R-1-50', 'R-2-50', 'R-1-2', 'R-1-2', 'R-2-50', 'R-5-50', 'R-5-50', 'R-5-50', 'R-5-6', 'R-6-50', 'O', 'R-3-50', 'R-2-3', 'R-5-50', 'R-5-6', 'R-4-5', 'R-5-6', 'R-5-6', 'R-6-50', 'O', 'O', 'O', 'R-5-50', 'R-3-50', 'R-5-50', 'R-3-50', 'O', 'O', 'O', 'O', 'O', 'O', 'O', 'O', 'R-3-50', 'R-2-4', 'R-5-50', 'R-5-6', 'R-6-50', 'R-5-4', 'R-2-3', 'R-3-50', 'O', 'O', 'O', 'O', 'O', 'O', 'O', 'R-3-50', 'R-2-3', 'R-1-50', 'R-1-2', 'R-1-50', 'R-12-3', 'R-11-12', 'R-12-3', 'O', 'R-11-12', 'R-12-3', 'R-11-12', 'R-12-3', 'R-5-50', 'O', 'R-5-50', 'R-5-50', 'O', 'O', 'O', 'R-1-50', 'R-1-2', 'R-2-50', 'R-1-2', 'R-2-50', 'R-3-50', 'O', 'R-3-50', 'R-5-50', 'O', 'O', 'R-5-6', 'R-6-50', 'R-6-50', 'R-5-50', 'R-2-50', 'R-2-50', 'R-5-50', 'O', 'R-1-2', 'O', 'R-2-50', 'O', 'O', 'R-2-5', 'O', 'O', 'O', 'R-2-5', 'O', 'O', 'O', 'R-2-50', 'O', 'O', 'O', 'O', 'R-1-2', 'R-2-50', 'O', 'O', 'R-12-3', 'R-3-4', 'O', 'O', 'R-5-50', 'R-5-50', 'R-5-50', 'O', 'O', 'O', 'O', 'O', 'O', 'O', 'O', 'R-5-6', 'R-6-50', 'O', 'O', 'O', 'O', 'O', 'O', 'O', 'R-5-50', 'R-5-50', 'O', 'O', 'O', 'R-5-50', 'R-4-5', 'O', 'O', 'R-5-50', 'O', 'O', 'O', 'O', 'R-1-50', 'O', 'O', 'R-1-50', 'R-2-3', 'R-3-50', 'R-5-6', 'R-6-50', 'O', 'O', 'O', 'O', 'O', 'O', 'O', 'R-1-50', 'O', 'O', 'O', 'O', 'O', 'O', 'O', 'O', 'O', 'O', 'O', 'R-1-2', 'R-1-2', 'O', 'O', 'R-5-50', 'R-5-6', 'R-6-50', 'R-2-5', 'R-4-5', 'O', 'R-12-3', 'O', 'O', 'O', 'R-2-50', 'R-2-50', 'O', 'R-2-50', 'R-1-50', 'R-5-50', 'R-3-50', 'R-5-50', 'R-4-5', 'O', 'R-6-50', 'R-3-50', 'R-3-50', 'R-12-3', 'R-11-12', 'R-12-3', 'R-11-12', 'R-12-3', 'R-3-50', 'R-1-50', 'R-1-50', 'R-1-2', 'R-2-50', 'O', 'O', 'O', 'O', 'O', 'O', 'O', 'O', 'O', 'R-11-12', 'R-12-3', 'R-4-5', 'R-5-6', 'O', 'O', 'R-5-6', 'R-6-50', 'R-1-50', 'R-5-50', 'R-1-50', 'R-1-3', 'R-3-50', 'R-5-50', 'R-5-50', 'R-5-50', 'R-5-50', 'R-5-50', 'R-1-50', 'O', 'O', 'R-2-50', 'R-2-50', 'O', 'R-5-50', 'O', 'O', 'O', 'O', 'O', 'O', 'R-5-50', 'R-5-50', 'O', 'O', 'O', 'O', 'O', 'R-2-3', 'R-3-4', 'O', 'R-11-12', 'R-12-3', 'R-11-12', 'R-11-12', 'R-12-3', 'R-4-5', 'R-5-6', 'R-6-50', 'O', 'O', 'O', 'R-1-50', 'R-1-2', 'R-2-50', 'R-2-50', 'R-3-50', 'R-11-12', 'R-11-12', 'R-12-3', 'O', 'R-5-6', 'R-6-50', 'R-5-50', 'R-5-50', 'R-1-50', 'R-2-50', 'R-1-50', 'R-5-50', 'R-2-5', 'R-1-2', 'O', 'R-1-50', 'O', 'O', 'O', 'O', 'O', 'O', 'O', 'O', 'O', 'O', 'O', 'R-1-2', 'R-2-50', 'R-2-3', 'R-1-2', 'R-2-3', 'R-3-4', 'R-4-6', 'R-12-3', 'O', 'R-11-12', 'R-12-3', 'R-11-50', 'R-2-50', 'R-1-50', 'O', 'O', 'O', 'O', 'O', 'R-5-50', 'R-5-50', 'R-5-6', 'O', 'O', 'O', 'O', 'O', 'O', 'R-2-50', 'R-2-50', 'O', 'R-1-2', 'R-1-2', 'O', 'R-3-50', 'O', 'O', 'R-2-50', 'O', 'R-3-4', 'O', 'R-6-50', 'R-5-6', 'O', 'O', 'O', 'O', 'R-2-50', 'R-2-4', 'R-4-50', 'O', 'O', 'O', 'R-2-50', 'R-1-2', 'O', 'R-1-5', 'R-5-50', 'R-5-6', 'R-6-50', 'R-2-5', 'O', 'R-1-2', 'O', 'O', 'O', 'O', 'O', 'O', 'O', 'O', 'O', 'O', 'O', 'R-12-3', 'R-11-12', 'R-11-12', 'R-12-3', 'R-4-5', 'R-5-6', 'R-5-6', 'R-6-50', 'R-4-5', 'R-4-5', 'O', 'O', 'O', 'O', 'R-4-5', 'O', 'O', 'O', 'R-12-3', 'O', 'O', 'R-2-50', 'R-2-5', 'R-11-5', 'O', 'O', 'O', 'R-2-50', 'R-1-2', 'O', 'O', 'O', 'R-11-12', 'R-12-2', 'R-5-50', 'R-5-50', 'O', 'O', 'O', 'O', 'O', 'R-1-50', 'R-5-50', 'R-3-50', 'R-1-2', 'R-3-4', 'R-4-5', 'R-5-6', 'R-5-6', 'R-6-50', 'R-5-50', 'R-5-50', 'R-5-50', 'R-1-50', 'O', 'R-5-50', 'R-4-5', 'O', 'R-5-6', 'O', 'O', 'O', 'O', 'O', 'O', 'O', 'O', 'O', 'O', 'O', 'R-12-3', 'O', 'O', 'O', 'O', 'O', 'R-12-3', 'O', 'R-5-50', 'O', 'O', 'O', 'O', 'R-5-6', 'R-6-50', 'O', 'R-5-50', 'O', 'O', 'O', 'R-3-4', 'O', 'R-6-50', 'O', 'O', 'O', 'O', 'O', 'R-1-50', 'R-1-2', 'R-1-2', 'R-1-50', 'R-1-50', 'R-1-2', 'O', 'O', 'R-4-5', 'R-5-6', 'R-5-50', 'R-5-50', 'R-3-50', 'R-3-50', 'R-2-3', 'R-5-50', 'R-2-5', 'O', 'R-12-3', 'O', 'O', 'R-2-50', 'R-1-2', 'R-2-3', 'O', 'R-1-50', 'R-5-50', 'R-5-50', 'R-1-5', 'R-6-50', 'R-5-6', 'O', 'R-5-50', 'R-2-50', 'O', 'O', 'O', 'R-3-4', 'R-11-12', 'O', 'O', 'O', 'O', 'O', 'O', 'O', 'O', 'O', 'R-1-5', 'R-1-2', 'R-2-50', 'R-2-50', 'O', 'R-2-4', 'R-5-50', 'R-6-50', 'O', 'R-2-50', 'O', 'O', 'O', 'O', 'O', 'R-5-50', 'R-5-6', 'O', 'O', 'O', 'O', 'O', 'R-2-50', 'O', 'O', 'R-2-50', 'R-2-5', 'O', 'O', 'O', 'O', 'O', 'O', 'R-2-5', 'O', 'O', 'O', 'O', 'O', 'R-5-50', 'R-2-5', 'R-1-2', 'O', 'O', 'O', 'R-5-50', 'R-5-50', 'O', 'O', 'O', 'R-1-50', 'O', 'R-12-2', 'O', 'O', 'O', 'R-3-50', 'R-5-4', 'R-5-50', 'O', 'R-12-4', 'O', 'O', 'O', 'R-1-50', 'R-2-50', 'O', 'R-3-50', 'O', 'R-11-50', 'R-11-12', 'R-12-3', 'R-1-50', 'R-1-2', 'R-1-2', 'R-2-3', 'R-2-3', 'O', 'R-1-50', 'O', 'O', 'O', 'R-5-6', 'R-6-50', 'R-1-50', 'R-3-50', 'R-3-6', 'R-3-6', 'R-6-50', 'R-5-6', 'R-6-50', 'O', 'O', 'O', 'O', 'O', 'O', 'O', 'O', 'O', 'O', 'O', 'O', 'O', 'O', 'O', 'O', 'O', 'O', 'O', 'O', 'O', 'O', 'O', 'O', 'O', 'R-5-11', 'R-5-11', 'R-2-5', 'R-4-5', 'O', 'R-2-5', 'O', 'O', 'R-2-50', 'O', 'O', 'O', 'O', 'O', 'R-2-50', 'O', 'R-5-50', 'R-5-50', 'O', 'R-3-50', 'R-4-50', 'O', 'O', 'R-2-50', 'O', 'R-4-5', 'R-5-50', 'O', 'R-3-50', 'R-4-6', 'R-6-50', 'R-5-50', 'R-1-3', 'R-1-2', 'R-3-50', 'R-2-50', 'O', 'R-3-4', 'R-4-6', 'O', 'O', 'O', 'O', 'O', 'O', 'O', 'O', 'R-1-50', 'R-1-50', 'R-1-2', 'O', 'R-1-2', 'R-1-2', 'R-1-50', 'R-1-2', 'O', 'O', 'R-2-5', 'O', 'O', 'O', 'R-3-50', 'R-3-5', 'R-3-5', 'R-5-6', 'R-5-50', 'O', 'O', 'R-1-50', 'O', 'O', 'R-1-50', 'R-1-2', 'R-1-50', 'R-3-50', 'O', 'O', 'R-1-2', 'R-2-50', 'O', 'R-5-50', 'R-2-50', 'O', 'R-5-50', 'R-1-50', 'R-2-50', 'R-2-50', 'R-1-50', 'R-1-50', 'R-1-50', 'O', 'O', 'O', 'O', 'O', 'R-1-2', 'R-2-3', 'R-3-4', 'O', 'R-4-5', 'O', 'O', 'R-5-50', 'R-5-6', 'R-6-50', 'R-3-50', 'R-2-3', 'R-3-50', 'R-2-50', 'O', 'O', 'O', 'O', 'O', 'R-11-12', 'R-12-3', 'O', 'R-2-4', 'R-4-5', 'O', 'R-5-6', 'R-6-50', 'R-5-50', 'R-2-50', 'R-1-50', 'R-2-50', 'R-1-50', 'O', 'R-2-50', 'O', 'R-1-50', 'O', 'O', 'O', 'O', 'O', 'O', 'O', 'R-2-50', 'R-1-50', 'O', 'R-2-50', 'R-1-50', 'R-5-6', 'R-5-6', 'R-6-50', 'R-5-6', 'O', 'O', 'O', 'O', 'O', 'O', 'O', 'R-4-5', 'O', 'R-3-50', 'R-2-3', 'O', 'R-3-50', 'O', 'O', 'O', 'O', 'R-3-50', 'R-2-3', 'R-3-50', 'R-1-3', 'R-1-50', 'R-1-2', 'R-1-50', 'R-5-50', 'R-4-5', 'O', 'R-5-50', 'R-3-50', 'R-3-50', 'R-3-4', 'O', 'O', 'R-5-50', 'O', 'R-2-50', 'R-12-2', 'R-1-50', 'R-2-50', 'O', 'R-2-50', 'R-1-2', 'O', 'R-1-2', 'R-1-3', 'R-12-3', 'R-2-5', 'R-5-50', 'R-6-50', 'R-5-50', 'R-3-50', 'R-2-50', 'O', 'O', 'R-4-50', 'O', 'O', 'O', 'R-1-50', 'R-1-50', 'R-1-50', 'R-12-3', 'O', 'R-5-6', 'R-4-5', 'O', 'O', 'O', 'O', 'R-2-5', 'R-5-50', 'R-5-50', 'R-4-5', 'O', 'O', 'O', 'R-1-2', 'O', 'O', 'O', 'O', 'O', 'R-5-4', 'R-5-50', 'O', 'R-5-6', 'R-6-50', 'R-5-50', 'R-1-50', 'R-1-2', 'R-2-50', 'O', 'R-3-50', 'R-4-50', 'R-5-50', 'R-3-50', 'R-1-50', 'O', 'O', 'O', 'R-2-50', 'O', 'R-12-5', 'R-2-50', 'R-5-4', 'R-5-6', 'R-6-50', 'O', 'O', 'O', 'O', 'O', 'R-50-4', 'O', 'O', 'O', 'O', 'O', 'R-2-4', 'R-3-4', 'O', 'R-3-4', 'R-2-3', 'R-2-3', 'R-3-50', 'O', 'R-11-12', 'R-12-3', 'R-11-12', 'O', 'R-3-50', 'R-3-50', 'R-1-50', 'R-1-2', 'R-2-3', 'O', 'R-1-50', 'R-1-2', 'R-2-50', 'R-1-50', 'R-2-50', 'R-5-50', 'R-2-5', 'R-5-50', 'O', 'R-6-50', 'O', 'R-11-3', 'O', 'O', 'O', 'O', 'O', 'O', 'O', 'O', 'R-11-12', 'R-12-3', 'R-5-50', 'R-4-5', 'R-5-6', 'R-6-50', 'R-5-50', 'O', 'R-1-2', 'O', 'O', 'O', 'O', 'O', 'O', 'O', 'O', 'O', 'O', 'R-1-2', 'R-2-50', 'R-1-3', 'R-3-50', 'R-1-2', 'R-2-3', 'O', 'R-5-6', 'R-6-50', 'O', 'O', 'O', 'R-12-3', 'R-3-4', 'R-1-2', 'R-1-50', 'R-5-6', 'R-6-50', 'O', 'O', 'O', 'R-2-50', 'R-2-50', 'O', 'R-1-2', 'R-2-50', 'R-1-50', 'O', 'R-11-12', 'R-12-3', 'R-3-50', 'R-2-50', 'R-1-2', 'R-1-2', 'R-2-50', 'R-2-50', 'R-2-50', 'O', 'R-5-50', 'R-5-4', 'R-4-6', 'O', 'R-3-4', 'R-3-50', 'O', 'R-3-4', 'R-6-3', 'R-1-50', 'R-2-50', 'R-1-2', 'R-1-50', 'O', 'O', 'O', 'O', 'R-2-50', 'R-3-50', 'R-3-6', 'R-3-4', 'R-1-2', 'R-2-50', 'O', 'O', 'O', 'O', 'O', 'O', 'O', 'O', 'O', 'O', 'O', 'O', 'R-2-50', 'R-1-2', 'R-2-3', 'R-2-3', 'O', 'R-3-4', 'O', 'R-11-12', 'R-11-12', 'R-12-3', 'O', 'R-5-6', 'O', 'O', 'O', 'O', 'O', 'R-5-6', 'O', 'R-1-2', 'R-2-3', 'R-3-6', 'R-3-6', 'R-3-6', 'R-3-50', 'R-3-50', 'O', 'O', 'O', 'R-3-50', 'O', 'R-12-3', 'R-3-4', 'R-5-50', 'O', 'O', 'R-2-50', 'O', 'O', 'O', 'R-2-50', 'R-5-6', 'R-4-5', 'R-5-6', 'R-6-50', 'O', 'R-5-6', 'R-5-50', 'R-2-50', 'O', 'O', 'O', 'O', 'O', 'O', 'O', 'R-12-3', 'O', 'O', 'O', 'O', 'O', 'R-1-50', 'O', 'O', 'O', 'O', 'O', 'O', 'R-1-2', 'R-1-50', 'R-1-50', 'O', 'O', 'O', 'R-3-4', 'R-11-12', 'R-11-12', 'R-12-3', 'O', 'R-5-50', 'R-1-2', 'R-2-5', 'R-4-5', 'R-5-6', 'R-6-50', 'R-4-50', 'R-5-50', 'R-5-50', 'O', 'O', 'O', 'O', 'O', 'R-4-5', 'R-5-6', 'O', 'O', 'R-11-50', 'R-2-50', 'R-1-50', 'R-1-2', 'R-2-50', 'R-11-12', 'R-12-3', 'R-3-50', 'R-2-50', 'R-4-6', 'R-6-50', 'R-2-50', 'R-12-2', 'R-12-2', 'R-2-50', 'O', 'O', 'R-5-50', 'R-5-6', 'R-5-50', 'R-6-50', 'R-2-50', 'R-2-3', 'R-3-50', 'O', 'R-4-50', 'O', 'R-5-50', 'R-5-6', 'R-6-50', 'R-4-6', 'R-4-5', 'R-5-6', 'R-5-50', 'R-1-50', 'R-1-2', 'R-1-3', 'R-2-3', 'O', 'O', 'O', 'O', 'O', 'O', 'O', 'O', 'R-5-50', 'R-1-50', 'O', 'O', 'O', 'O', 'O', 'O', 'O', 'O', 'O', 'O', 'O', 'O', 'O', 'R-3-4', 'O', 'O', 'O', 'O', 'O', 'R-2-5', 'O', 'R-2-50', 'O', 'O', 'R-2-50', 'R-1-50', 'R-1-50', 'R-2-50', 'R-5-4', 'R-5-4', 'R-4-50', 'R-1-2', 'O', 'O', 'O', 'O', 'O', 'R-5-50', 'O', 'O', 'R-5-50', 'R-11-5', 'R-11-12', 'R-12-3', 'R-11-12', 'O', 'O', 'O', 'R-1-50', 'O', 'R-1-2', 'O', 'R-3-50', 'O', 'R-3-4', 'R-5-50', 'R-5-50', 'R-5-50', 'R-2-50', 'R-1-50', 'R-5-50', 'R-3-50', 'R-5-50', 'O', 'R-5-50', 'R-5-50', 'R-5-50', 'R-5-6', 'R-5-50', 'R-1-50', 'R-1-2', 'R-2-50', 'O', 'O', 'O', 'R-2-5', 'R-1-2', 'R-3-5', 'R-5-50', 'R-2-50', 'R-1-2', 'R-1-2', 'O', 'R-1-2', 'R-2-50', 'R-1-50', 'R-3-50', 'R-3-50', 'R-11-3', 'R-3-4', 'R-3-50', 'R-4-50', 'R-2-50', 'R-4-50', 'R-5-6', 'R-6-50', 'R-2-50', 'R-1-2', 'O', 'O', 'R-2-5', 'R-5-6', 'R-6-50', 'O', 'O', 'R-1-50', 'R-1-2', 'R-2-3', 'R-2-50', 'R-1-50', 'O', 'O', 'R-2-50', 'O', 'R-2-50', 'R-1-3', 'O', 'R-2-4', 'R-4-6', 'O', 'R-5-50', 'O', 'R-5-50', 'O', 'R-5-4', 'R-4-6', 'R-4-6', 'O', 'O', 'R-4-6', 'O', 'R-1-50', 'R-2-50', 'R-1-2', 'O', 'O', 'R-5-50', 'R-4-5', 'R-5-6', 'R-6-50', 'R-5-50', 'R-5-50', 'O', 'R-1-50', 'O', 'O', 'R-1-2', 'R-2-5', 'R-5-50', 'R-4-50', 'R-5-4', 'O', 'O', 'O', 'O', 'O', 'R-11-12', 'R-12-3', 'R-11-12', 'R-12-3', 'O', 'R-1-5', 'R-1-50', 'R-5-50', 'R-1-50', 'O', 'R-2-50', 'R-2-5', 'R-5-6', 'O', 'O', 'O', 'O', 'O', 'O', 'O', 'O', 'O', 'R-2-50', 'R-6-50', 'O', 'R-2-6', 'R-6-50', 'O', 'O', 'O', 'O', 'R-12-3', 'O', 'R-5-50', 'R-6-50', 'O', 'R-5-6', 'O', 'R-5-6', 'R-4-5', 'O', 'O', 'O', 'O', 'O', 'R-1-2', 'R-1-2', 'O', 'O', 'O', 'O', 'O', 'R-4-5', 'O', 'R-5-6', 'R-6-50', 'O', 'O', 'R-1-2', 'R-3-50', 'R-1-50', 'R-3-5', 'R-3-50', 'R-3-5', 'R-5-6', 'R-3-5', 'R-5-6', 'O', 'O', 'O', 'R-2-50', 'R-1-2', 'R-1-50', 'O', 'R-1-50', 'R-3-50', 'R-1-2', 'R-2-3', 'O', 'R-2-50', 'R-1-2', 'R-1-50', 'O', 'O', 'O', 'O', 'O', 'O', 'O', 'O', 'O', 'O', 'R-1-50', 'R-1-2', 'R-1-3', 'R-1-3', 'R-1-2', 'O', 'R-2-50', 'R-3-4', 'R-2-3', 'O', 'R-5-50', 'R-5-50', 'R-5-50', 'O', 'R-6-50', 'O', 'O', 'O', 'O', 'O', 'O', 'O', 'O', 'O', 'O', 'R-1-50', 'R-2-50', 'R-1-50', 'R-1-2', 'R-1-2', 'R-2-3', 'R-3-4', 'R-4-50', 'R-1-50', 'O', 'R-5-50', 'R-11-50', 'O', 'R-1-50', 'O', 'O', 'O', 'O', 'R-1-2', 'O', 'R-4-5', 'O', 'O', 'O', 'O', 'O', 'O', 'O', 'O', 'O', 'O', 'R-3-4', 'R-4-50', 'R-4-50', 'R-5-50', 'O', 'O', 'O', 'O', 'O', 'O', 'O', 'O', 'O', 'O', 'O', 'O', 'R-1-2', 'R-3-4', 'R-5-6', 'R-6-50', 'O', 'O', 'O', 'O', 'O', 'O', 'O', 'R-1-50', 'R-5-50', 'O', 'O', 'O', 'O', 'O', 'O', 'O', 'R-3-50', 'R-2-3', 'O', 'O', 'R-1-2', 'R-2-50', 'O', 'R-2-4', 'R-3-4', 'R-4-50', 'O', 'O', 'O', 'R-5-6', 'R-6-50', 'R-5-50', 'O', 'O', 'O', 'O', 'O', 'R-3-50', 'R-5-50', 'R-5-50', 'O', 'O', 'R-5-50', 'R-5-50', 'R-1-50', 'R-1-50', 'R-1-2', 'R-1-2', 'O', 'O', 'R-2-50', 'R-1-2', 'O', 'R-1-50', 'O', 'R-5-6', 'O', 'R-5-6', 'R-6-50', 'O', 'R-12-3', 'R-11-12', 'R-3-50', 'R-1-50', 'R-3-4', 'R-1-2', 'R-2-3', 'R-4-5', 'O', 'R-4-5', 'R-5-6', 'R-3-5', 'R-1-3', 'R-5-50', 'R-1-50', 'R-1-50', 'R-5-50', 'R-5-50', 'R-1-50', 'R-5-50', 'R-5-50', 'O', 'R-4-5', 'R-5-50', 'R-1-50', 'R-1-2', 'R-2-3', 'R-3-50', 'R-1-50', 'R-1-50', 'O', 'O', 'R-3-50', 'R-2-3', 'O', 'R-5-50', 'R-1-50', 'O', 'O', 'O', 'O', 'O', 'O', 'R-5-50', 'R-4-5', 'R-5-6', 'R-6-50', 'O', 'O', 'O', 'O', 'O', 'O', 'O', 'O', 'O', 'O', 'O', 'R-1-50', 'R-3-50', 'R-5-50', 'O', 'O', 'O', 'O', 'O', 'R-1-50', 'R-1-2', 'R-1-2', 'R-2-3', 'O', 'O', 'R-3-50', 'R-3-4', 'R-3-4', 'R-12-3', 'R-3-5', 'R-5-50', 'R-5-50', 'O', 'O', 'O', 'O', 'R-1-2', 'R-2-50', 'R-3-4', 'O', 'R-11-12', 'R-12-3', 'R-11-12', 'R-12-3', 'R-11-12', 'R-11-12', 'R-12-3', 'R-5-50', 'R-5-5', 'R-5-6', 'R-5-50', 'R-5-50', 'O', 'O', 'O', 'O', 'O', 'O', 'O', 'O', 'R-4-5', 'R-5-50', 'R-4-5', 'O', 'R-5-6', 'R-6-50', 'R-5-50', 'R-5-50', 'R-5-50', 'R-1-2', 'R-2-50', 'R-2-50', 'R-4-50', 'R-2-50', 'R-3-4', 'R-4-50', 'O', 'O', 'R-2-4', 'O', 'O', 'O', 'O', 'O', 'O', 'O', 'R-5-50', 'R-2-5', 'O', 'O', 'R-5-6', 'R-6-50', 'R-2-50', 'R-1-50', 'R-1-50', 'O', 'O', 'O', 'O', 'O', 'R-3-4', 'R-3-6', 'O', 'O', 'O', 'O', 'R-2-5', 'R-2-4', 'O', 'R-5-50', 'O', 'O', 'O', 'O', 'O', 'R-1-50', 'O', 'R-1-2', 'O', 'O', 'O', 'R-4-50', 'R-3-4', 'R-2-3', 'R-5-50', 'R-4-5', 'R-5-6', 'R-6-50', 'R-5-50', 'R-1-2', 'R-1-50', 'O', 'R-3-4', 'R-11-12', 'R-12-3', 'O', 'O', 'O', 'O', 'O', 'O', 'O', 'O', 'O', 'O', 'R-3-4', 'R-4-50', 'O', 'R-4-50', 'R-5-50', 'R-5-50', 'O', 'O', 'O', 'R-5-6', 'R-6-50', 'R-6-50', 'O', 'O', 'O', 'O', 'O', 'O', 'O', 'R-2-50', 'R-2-50', 'O', 'O', 'O', 'O', 'R-5-50', 'R-5-4', 'R-5-6', 'R-2-6', 'O', 'R-1-50', 'O', 'R-1-2', 'R-5-50', 'O', 'R-6-50', 'O', 'R-5-6', 'R-6-50', 'R-5-50', 'R-5-50', 'O', 'O', 'O', 'O', 'R-3-4', 'R-2-4', 'O', 'O', 'O', 'O', 'R-4-50', 'R-3-50', 'R-4-50', 'R-3-50', 'R-2-4', 'O', 'O', 'O', 'O', 'R-2-50', 'O', 'O', 'O', 'O', 'R-3-50', 'R-1-3', 'R-1-2', 'O', 'R-5-4', 'R-4-6', 'R-5-6', 'R-6-50', 'O', 'R-1-50', 'O', 'O', 'R-12-3', 'R-11-12', 'O', 'R-11-12', 'R-11-12', 'R-12-3', 'R-11-12', 'R-12-50', 'R-11-50', 'R-2-50', 'O', 'R-2-50', 'R-4-50', 'R-4-50', 'R-4-50', 'O', 'R-6-50', 'O', 'O', 'O', 'O', 'O', 'O', 'R-3-4', 'O', 'R-5-50', 'R-5-6', 'R-6-50', 'R-5-50', 'O', 'O', 'O', 'O', 'R-2-50', 'R-5-50', 'R-1-50', 'R-4-50', 'O', 'O', 'O', 'R-3-50', 'R-1-2', 'R-1-50', 'R-5-50', 'R-4-5', 'O', 'R-5-50', 'R-5-6', 'O', 'O', 'O', 'O', 'R-4-5', 'O', 'O', 'O', 'O', 'R-1-50', 'R-2-50', 'R-1-50', 'R-2-50', 'O', 'R-1-50', 'R-1-2', 'O', 'R-1-50', 'O', 'R-2-50', 'O', 'R-2-50', 'R-1-50', 'R-1-2', 'R-1-50', 'R-1-50', 'O', 'O', 'O', 'R-5-50', 'R-3-50', 'R-2-3', 'R-5-50', 'R-1-3', 'R-1-2', 'R-1-50', 'R-1-3', 'R-1-2', 'R-1-50', 'O', 'R-4-5', 'O', 'R-5-6', 'R-6-50', 'O', 'R-3-50', 'R-5-50', 'R-2-3', 'R-1-2', 'R-1-50', 'O', 'O', 'O', 'O', 'O', 'O', 'O', 'O', 'O', 'R-5-50', 'R-4-5', 'R-5-6', 'O', 'O', 'R-5-6', 'R-6-50', 'R-6-50', 'O', 'R-5-50', 'R-2-50', 'R-1-50', 'R-1-2', 'R-2-50', 'R-2-4', 'R-4-50', 'R-6-50', 'O', 'R-5-6', 'O', 'O', 'O', 'O', 'O', 'O', 'O', 'O', 'O', 'O', 'O', 'R-2-50', 'R-5-50', 'O', 'R-3-50', 'R-2-50', 'O', 'O', 'R-1-50', 'R-1-2', 'R-3-4', 'R-11-12', 'R-12-3', 'R-11-12', 'R-12-3', 'O', 'R-5-6', 'R-6-50', 'R-5-50', 'R-4-5', 'O', 'O', 'R-1-2', 'R-2-50', 'R-5-6', 'R-6-50', 'O', 'O', 'O', 'O', 'R-12-3', 'O', 'O', 'O', 'O', 'O', 'O', 'O', 'O', 'O', 'O', 'O', 'O', 'R-1-50', 'R-2-50', 'R-2-3', 'O', 'O', 'O', 'O', 'O', 'O', 'O', 'O', 'O', 'R-2-50', 'R-1-2', 'R-2-3', 'R-3-50', 'R-1-2', 'R-2-50', 'O', 'R-11-12', 'R-12-3', 'R-3-4', 'R-5-6', 'R-6-50', 'R-5-6', 'R-6-50', 'O', 'O', 'O', 'O', 'O', 'O', 'O', 'O', 'R-5-50', 'R-2-5', 'R-5-4', 'R-5-6', 'R-5-6', 'R-6-50', 'O', 'O', 'O', 'O', 'O', 'O', 'R-4-5', 'R-5-6', 'R-6-50', 'O', 'R-1-50', 'R-4-50', 'R-5-50', 'R-1-50', 'O', 'O', 'O', 'O', 'R-4-5', 'R-4-5', 'O', 'O', 'O', 'O', 'O', 'O', 'O', 'O', 'O', 'R-5-50', 'R-3-4', 'R-4-5', 'O', 'R-4-6', 'O', 'O', 'O', 'O', 'R-3-4', 'O', 'O', 'O', 'O', 'O', 'O', 'O', 'O', 'O', 'R-6-50', 'R-5-6', 'R-5-6', 'R-5-50', 'R-2-50', 'R-5-50', 'R-1-50', 'R-3-50', 'R-1-50', 'R-5-50', 'R-2-50', 'R-1-2', 'R-2-5', 'O', 'O', 'O', 'R-2-5', 'O', 'O', 'O', 'R-4-5', 'O', 'O', 'O', 'R-5-6', 'R-6-50', 'R-5-6', 'O', 'O', 'R-3-50', 'O', 'O', 'O', 'R-6-50', 'R-1-2', 'R-2-50', 'R-1-50', 'O', 'O', 'O', 'O', 'R-3-50', 'R-2-50', 'O', 'O', 'O', 'O', 'O', 'O', 'O', 'O', 'R-5-50', 'O', 'O', 'O', 'O', 'O', 'O', 'R-5-50', 'R-1-2', 'R-2-50', 'O', 'O', 'R-3-4', 'O', 'O', 'R-1-50', 'R-5-50', 'R-1-50', 'R-1-2', 'O', 'R-2-3', 'R-2-4', 'R-4-5', 'R-4-5', 'R-5-6', 'R-4-6', 'O', 'R-4-50', 'R-4-50', 'R-5-50', 'R-4-11', 'R-12-3', 'O', 'R-1-50', 'R-1-2', 'R-2-50', 'O', 'R-1-2', 'R-1-50', 'O', 'R-1-50', 'R-11-50', 'R-2-50', 'R-5-50', 'R-5-50', 'R-5-6', 'O', 'R-2-50', 'R-1-50', 'R-5-50', 'R-4-50', 'R-2-50', 'R-1-50', 'R-5-50', 'R-4-50', 'R-11-5', 'O', 'R-4-5', 'R-5-6', 'R-4-5', 'R-4-5', 'R-12-3', 'O', 'R-11-12', 'R-12-3', 'O', 'R-11-12', 'R-12-3', 'O', 'O', 'O', 'O', 'O', 'R-1-50', 'R-1-2', 'R-1-2', 'O', 'R-5-50', 'R-4-5', 'R-5-6', 'O', 'O', 'R-5-6', 'R-6-50', 'R-5-6', 'R-5-50', 'R-5-50', 'R-1-50', 'O', 'O', 'O', 'O', 'O', 'R-1-2', 'R-1-50', 'O', 'R-2-3', 'R-5-50', 'O', 'O', 'R-5-6', 'R-5-6', 'R-6-50', 'R-6-50', 'O', 'O', 'O', 'O', 'R-5-50', 'O', 'O', 'O', 'R-4-5', 'R-4-5', 'O', 'O', 'R-2-50', 'R-3-50', 'R-1-50', 'O', 'R-3-50', 'R-1-50', 'R-2-3', 'R-1-50', 'O', 'O', 'R-1-2', 'O', 'R-2-3', 'R-3-50', 'R-1-2', 'R-2-50', 'R-2-3', 'O', 'O', 'R-3-5', 'O', 'R-6-50', 'R-3-50', 'R-5-6', 'R-6-50', 'R-4-50', 'O', 'R-6-50', 'R-2-50', 'O', 'R-12-3', 'R-3-4', 'R-11-12', 'R-12-3', 'R-2-50', 'R-5-50', 'O', 'O', 'O', 'O', 'R-3-50', 'R-2-3', 'R-5-6', 'R-6-50', 'O', 'R-2-50', 'O', 'R-3-5', 'R-2-3', 'O', 'O', 'O', 'R-2-50', 'R-2-50', 'O', 'R-5-6', 'R-6-50', 'R-6-50', 'O', 'R-5-6', 'O', 'O', 'O', 'O', 'O', 'O', 'O', 'O', 'O', 'O', 'O', 'R-3-50', 'R-3-4', 'R-11-12', 'O', 'O', 'O', 'R-4-5', 'R-5-6', 'O', 'R-2-50', 'R-1-50', 'R-1-50', 'R-2-50', 'O', 'O', 'O', 'R-11-12', 'R-12-3', 'R-11-12', 'R-12-3', 'R-5-50', 'R-5-6', 'R-5-6', 'R-6-50', 'R-5-50', 'R-1-50', 'R-5-50', 'O', 'O', 'O', 'O', 'R-3-50', 'R-2-50', 'R-3-50', 'R-2-50', 'O', 'O', 'R-3-4', 'R-12-3', 'R-5-50', 'O', 'O', 'R-5-50', 'R-6-50', 'O', 'O', 'O', 'R-1-2', 'R-1-50', 'R-3-5', 'R-5-50', 'R-1-2', 'O', 'O', 'O', 'R-4-5', 'R-5-6', 'O', 'O', 'O', 'O', 'O', 'O', 'O', 'O', 'R-12-3', 'O', 'R-2-50', 'R-5-6', 'R-5-6', 'R-6-50', 'O', 'O', 'R-2-50', 'R-5-50', 'O', 'R-2-50', 'R-1-50', 'R-1-50', 'R-1-50', 'O', 'O', 'O', 'R-1-50', 'R-5-50', 'R-5-50', 'O', 'O', 'O', 'R-2-50', 'R-1-50', 'R-2-1', 'O', 'O', 'R-1-50', 'R-1-2', 'R-2-4', 'R-4-50', 'R-2-50', 'R-5-6', 'O', 'O', 'O', 'O', 'O', 'O', 'O', 'O', 'O', 'O', 'O', 'O', 'O', 'O', 'O', 'O', 'O', 'O', 'R-1-2', 'O', 'O', 'O', 'O', 'O', 'R-1-50', 'R-5-50', 'R-1-50', 'R-5-50', 'O', 'R-1-2', 'R-1-2', 'R-2-4', 'R-1-50', 'R-1-2', 'R-2-3', 'R-3-4', 'R-5-50', 'R-5-50', 'R-5-4', 'R-4-50', 'O', 'R-5-6', 'R-6-50', 'R-1-50', 'R-5-50', 'R-2-50', 'O', 'R-1-50', 'R-2-50', 'O', 'O', 'O', 'O', 'R-1-50', 'O', 'R-5-6', 'R-6-50', 'O', 'O', 'O', 'R-1-50', 'R-1-50', 'R-1-2', 'R-2-3', 'O', 'R-12-3', 'R-11-12', 'O', 'O', 'R-11-50', 'R-5-50', 'R-3-5', 'R-5-6', 'R-5-6', 'R-6-50', 'O', 'R-5-50', 'R-5-4', 'O', 'O', 'O', 'O', 'O', 'O', 'O', 'R-4-50', 'R-3-50', 'O', 'R-4-50', 'R-3-4', 'O', 'O', 'R-5-50', 'R-2-6', 'R-2-6', 'R-6-50', 'O', 'O', 'R-2-50', 'R-3-50', 'R-3-50', 'R-2-50', 'O', 'O', 'O', 'R-2-50', 'R-4-6', 'O', 'R-11-12', 'R-12-2', 'R-11-12', 'R-12-2', 'R-4-5', 'R-5-6', 'R-5-6', 'O', 'R-5-6', 'R-6-50', 'R-4-6', 'R-5-50', 'R-5-50', 'R-5-50', 'O', 'O', 'O', 'O', 'O', 'O', 'O', 'O', 'O', 'O', 'O', 'R-5-50', 'O', 'O', 'R-2-50', 'R-1-2', 'R-2-3', 'R-2-3', 'R-3-4', 'R-5-50', 'R-4-5', 'R-6-5', 'O', 'R-5-6', 'R-6-50', 'R-5-50', 'O', 'O', 'R-5-50', 'R-5-4', 'O', 'R-5-6', 'R-6-50', 'O', 'R-2-4', 'O', 'R-5-6', 'R-11-50', 'R-11-5', 'R-12-50', 'R-12-5', 'R-3-50', 'R-3-4', 'R-2-3', 'R-2-50', 'R-1-2', 'R-3-4', 'R-4-5', 'R-5-50', 'R-1-2', 'O', 'R-1-50', 'R-5-50', 'R-3-50', 'R-5-50', 'O', 'O', 'O', 'O', 'O', 'O', 'O', 'O', 'O', 'R-2-50', 'O', 'O', 'O', 'R-3-4', 'O', 'R-1-3', 'R-1-50', 'R-1-50', 'O', 'R-2-3', 'R-1-50', 'O', 'R-5-50', 'O', 'R-5-50', 'R-5-6', 'R-6-50', 'O', 'O', 'O', 'R-1-50', 'R-1-2', 'R-2-50', 'R-2-5', 'O', 'R-1-50', 'O', 'O', 'R-4-5', 'O', 'R-6-50', 'O', 'O', 'O', 'O', 'O', 'O', 'O', 'R-1-2', 'R-2-3', 'O', 'O', 'R-12-3', 'O', 'O', 'O', 'O', 'R-1-2', 'R-1-2', 'R-1-2', 'R-6-50', 'R-3-6', 'R-2-3', 'R-1-2', 'R-2-5', 'R-5-50', 'O', 'R-5-50', 'R-1-5', 'R-2-5', 'R-5-50', 'R-2-50', 'R-1-50', 'O', 'R-2-50', 'R-1-50', 'O', 'O', 'R-5-50', 'R-5-6', 'R-5-50', 'R-5-50', 'R-5-50', 'O', 'O', 'R-1-50', 'R-1-50', 'O', 'O', 'R-1-50', 'R-2-50', 'R-1-50', 'R-3-50', 'R-3-4', 'R-3-50', 'R-11-12', 'R-11-12', 'R-12-3', 'R-3-50', 'R-5-50', 'R-4-5', 'O', 'O', 'R-6-50', 'R-5-6', 'R-1-50', 'R-3-50', 'R-5-50', 'R-3-50', 'R-2-3', 'O', 'R-5-6', 'R-6-50', 'O', 'O', 'O', 'O', 'O', 'O', 'O', 'O', 'O', 'O', 'R-11-12', 'R-12-3', 'O', 'R-4-5', 'R-5-6', 'R-6-50', 'O', 'R-4-5', 'R-1-50', 'R-4-50', 'R-2-50', 'R-4-50', 'O', 'O', 'R-5-50', 'O', 'O', 'O', 'R-5-50', 'O', 'O', 'R-5-50', 'R-5-6', 'R-6-50', 'R-5-50', 'O', 'R-2-3', 'R-4-50', 'O', 'O', 'O', 'O', 'O', 'O', 'O', 'O', 'O', 'O', 'R-11-12', 'R-12-3', 'R-2-1', 'R-1-5', 'R-5-50', 'R-2-1', 'R-4-50', 'O', 'O', 'O', 'R-5-50', 'R-5-50', 'R-4-5', 'R-5-50', 'R-5-50', 'R-5-6', 'R-6-50', 'R-5-50', 'O', 'O', 'O', 'O', 'O', 'O', 'O', 'O', 'O', 'O', 'O', 'O', 'R-1-50', 'R-1-50', 'R-3-50', 'R-3-50', 'R-2-3', 'R-3-4', 'R-3-4', 'R-2-50', 'R-2-5', 'R-5-50', 'O', 'O', 'O', 'O', 'O', 'O', 'R-1-50', 'R-2-50', 'R-1-2', 'R-1-50', 'O', 'O', 'O', 'O', 'R-3-50', 'R-2-3', 'R-3-5', 'R-1-3', 'R-1-2', 'R-2-50', 'R-11-50', 'R-2-50', 'R-4-50', 'O', 'O', 'O', 'O', 'R-12-3', 'R-2-50', 'R-1-50', 'R-1-2', 'O', 'O', 'R-2-50', 'R-3-4', 'R-3-4', 'R-2-4', 'R-4-50', 'O', 'O', 'R-5-6', 'R-3-50', 'O', 'O', 'O', 'O', 'R-2-50', 'R-2-50', 'O', 'R-1-50', 'R-5-50', 'O', 'R-6-50', 'R-5-6', 'R-2-5', 'R-1-5', 'R-4-5', 'R-5-6', 'O', 'O', 'R-5-6', 'R-6-50', 'R-5-50', 'R-5-50', 'O', 'O', 'O', 'O', 'O', 'R-1-50', 'O', 'R-1-2', 'R-2-50', 'O', 'R-2-3', 'O', 'O', 'O', 'O', 'O', 'O', 'O', 'O', 'R-3-6', 'R-3-6', 'R-5-4', 'O', 'O', 'R-5-6', 'O', 'O', 'R-5-50', 'R-5-6', 'R-4-5', 'O', 'O', 'O', 'O', 'R-1-50', 'R-2-50', 'R-1-2', 'R-2-3', 'O', 'R-11-12', 'R-12-3', 'R-3-5', 'R-5-6', 'R-4-5', 'O', 'O', 'R-5-6', 'R-6-50', 'R-5-50', 'R-5-50', 'O', 'O', 'O', 'R-3-50', 'R-2-3', 'R-5-50', 'O', 'R-2-50', 'O', 'O', 'R-2-50', 'O', 'R-2-3', 'R-2-3', 'R-3-50', 'R-5-50', 'R-5-6', 'R-6-50', 'O', 'O', 'R-5-6', 'R-6-50', 'R-5-50', 'O', 'O', 'O', 'O', 'O', 'O', 'R-3-4', 'R-2-3', 'R-4-50', 'R-4-5', 'R-5-6', 'R-6-50', 'O', 'R-1-2', 'R-3-50', 'R-2-3', 'R-5-50', 'R-2-50', 'R-1-50', 'R-1-2', 'R-2-3', 'R-2-3', 'R-3-4', 'R-4-6', 'R-2-4', 'R-5-4', 'O', 'O', 'R-5-6', 'R-6-50', 'O', 'R-5-50', 'R-50-5', 'R-50-5', 'O', 'O', 'O', 'O', 'O', 'O', 'O', 'R-2-50', 'R-6-50', 'R-5-6', 'R-6-50', 'O', 'O', 'O', 'O', 'R-2-5', 'R-2-50', 'O', 'R-1-5', 'R-1-5', 'R-5-6', 'R-6-50', 'O', 'R-5-6', 'R-5-50', 'R-50-5', 'R-50-5', 'O', 'R-4-5', 'O', 'O', 'O', 'O', 'O', 'O', 'O', 'R-1-50', 'R-1-2', 'R-1-50', 'R-1-2', 'O', 'O', 'O', 'R-3-4', 'O', 'R-11-12', 'R-12-3', 'R-5-6', 'O', 'O', 'O', 'O', 'O', 'O', 'O', 'R-2-50', 'R-1-2', 'R-2-50', 'R-5-4', 'R-5-50', 'O', 'O', 'R-5-50', 'R-2-50', 'R-5-50', 'R-2-50', 'R-5-50', 'R-4-5', 'R-5-6', 'O', 'O', 'O', 'O', 'O', 'R-5-50', 'O', 'O', 'O', 'O', 'R-2-50', 'R-1-2', 'O', 'O', 'O', 'O', 'O', 'O', 'R-2-50', 'R-1-2', 'R-2-3', 'R-2-50', 'R-11-12', 'R-12-50', 'O', 'O', 'O', 'O', 'O', 'O', 'O', 'O', 'O', 'O', 'O', 'O', 'O', 'R-5-50', 'R-5-6', 'R-6-50', 'R-5-50', 'R-3-50', 'O', 'O', 'O', 'R-2-50', 'R-1-2', 'R-2-5', 'R-2-5', 'R-5-50', 'R-5-6', 'R-5-6', 'R-6-50', 'O', 'O', 'O', 'R-11-12', 'R-12-3', 'R-11-12', 'R-12-3', 'R-5-50', 'O', 'O', 'O', 'O', 'O', 'O', 'O', 'R-1-50', 'R-1-50', 'R-1-2', 'R-2-50', 'R-2-3', 'O', 'R-3-4', 'R-4-50', 'R-5-50', 'O', 'R-4-6', 'R-6-50', 'R-5-6', 'R-5-50', 'R-5-50', 'O', 'R-2-50', 'O', 'O', 'O', 'O', 'O', 'O', 'O', 'O', 'O', 'R-5-6', 'R-6-50', 'R-1-50', 'R-1-2', 'R-2-3', 'R-3-50', 'R-2-50', 'R-1-3', 'R-2-3', 'R-11-12', 'R-12-3', 'R-11-12', 'R-12-3', 'R-11-50', 'R-3-50', 'R-1-50', 'R-5-50', 'R-5-50', 'O', 'O', 'O', 'O', 'O', 'O', 'R-5-50', 'R-5-4', 'R-3-50', 'R-2-3', 'R-5-50', 'R-4-5', 'R-2-50', 'R-1-2', 'R-2-3', 'R-3-50', 'R-2-50', 'R-2-5', 'R-4-6', 'R-6-50', 'R-5-50', 'R-5-50', 'O', 'R-1-50', 'R-1-50', 'O', 'O', 'R-1-50', 'R-11-50', 'R-1-50', 'R-1-2', 'R-2-3', 'R-3-4', 'R-3-6', 'R-11-12', 'R-11-12', 'R-12-3', 'R-1-2', 'O', 'R-1-2', 'R-11-12', 'O', 'O', 'O', 'O', 'O', 'O', 'R-2-50', 'O', 'O', 'O', 'O', 'O', 'O', 'R-1-2', 'O', 'R-1-2', 'R-1-2', 'R-2-3', 'O', 'O', 'O', 'O', 'R-12-3', 'R-3-4', 'O', 'R-12-3', 'R-11-12', 'R-5-4', 'R-5-6', 'R-5-6', 'R-5-6', 'R-5-50', 'O', 'O', 'O', 'O', 'O', 'R-3-50', 'R-3-4', 'R-5-50', 'R-5-6', 'R-6-50', 'R-5-50', 'R-5-50', 'R-5-50', 'R-5-6', 'R-6-50', 'O', 'O', 'O', 'O', 'R-2-50', 'R-1-50', 'R-1-50', 'R-2-50', 'R-1-50', 'R-1-2', 'R-2-50', 'R-1-50', 'O', 'R-3-4', 'R-2-50', 'R-2-50', 'R-2-50', 'R-2-4', 'R-4-5', 'O', 'O', 'R-3-50', 'R-2-3', 'O', 'O', 'O', 'O', 'O', 'O', 'O', 'O', 'O', 'O', 'O', 'O', 'O', 'R-2-50', 'R-1-50', 'R-5-6', 'R-6-50', 'R-5-6', 'R-6-50', 'O', 'R-3-4', 'R-12-3', 'O', 'O', 'O', 'R-3-50', 'O', 'O', 'O', 'O', 'O', 'O', 'O', 'O', 'R-3-50', 'R-2-3', 'R-3-4', 'O', 'O', 'O', 'R-3-50', 'R-3-50', 'R-3-4', 'O', 'R-3-4', 'R-3-50', 'R-4-5', 'R-3-4', 'O', 'O', 'R-5-50', 'R-5-50', 'R-3-50', 'R-5-50', 'R-3-50', 'R-5-50', 'R-6-50', 'R-5-50', 'R-3-50', 'R-2-3', 'R-3-6', 'R-6-50', 'R-5-4', 'R-3-4', 'R-4-50', 'O', 'R-5-6', 'R-12-2', 'R-2-50', 'R-5-50', 'R-1-2', 'O', 'O', 'O', 'O', 'O', 'O', 'O', 'R-1-2', 'R-1-2', 'R-1-2', 'R-2-3', 'O', 'R-5-6', 'R-4-5', 'R-5-6', 'O', 'R-5-50', 'O', 'O', 'O', 'O', 'O', 'O', 'O', 'O', 'O', 'O', 'R-5-50', 'R-5-50', 'R-4-5', 'R-5-6', 'O', 'O', 'O', 'O', 'R-5-6', 'R-6-50', 'R-5-6', 'O', 'R-4-5', 'R-5-50', 'R-5-50', 'R-5-50', 'R-5-6', 'R-5-4', 'R-5-4', 'R-5-6', 'O', 'O', 'O', 'R-4-5', 'R-5-50', 'O', 'O', 'O', 'O', 'O', 'O', 'O', 'O', 'O', 'O', 'O', 'O', 'O', 'O', 'R-4-5', 'O', 'O', 'O', 'O', 'O', 'R-1-2', 'R-2-50', 'O', 'R-3-4', 'R-3-4', 'R-11-12', 'R-11-12', 'R-12-3', 'O', 'R-4-5', 'O', 'O', 'R-2-4', 'R-5-6', 'O', 'R-4-5', 'R-5-6', 'R-6-50', 'R-5-50', 'O', 'O', 'O', 'O', 'R-1-2', 'R-3-6', 'R-11-12', 'R-12-3', 'O', 'R-5-4', 'R-5-6', 'R-5-6', 'R-6-50', 'R-5-6', 'O', 'O', 'O', 'O', 'O', 'R-2-3', 'R-1-2', 'O', 'R-4-5', 'R-5-6', 'O', 'R-5-50', 'R-2-50', 'R-2-5', 'R-5-6', 'R-4-6', 'O', 'O', 'R-5-50', 'O', 'O', 'O', 'O', 'O', 'O', 'O', 'R-1-50', 'R-5-6', 'R-4-5', 'O', 'O', 'O', 'O', 'R-4-5', 'O', 'R-2-50', 'R-1-2', 'R-1-2', 'R-2-3', 'R-2-3', 'O', 'R-2-50', 'R-5-50', 'R-3-50', 'R-2-50', 'R-5-50', 'R-3-50', 'O', 'R-2-50', 'O', 'R-4-5', 'O', 'O', 'O', 'O', 'R-1-50', 'R-1-50', 'O', 'O', 'R-5-50', 'O', 'O', 'O', 'R-2-50', 'R-2-5', 'R-5-50', 'R-5-50', 'R-5-50', 'O', 'O', 'O', 'O', 'O', 'O', 'O', 'O', 'O', 'O', 'O', 'O', 'R-2-50', 'R-2-50', 'R-2-50', 'R-5-50', 'O', 'R-2-50', 'O', 'O', 'R-5-50', 'R-5-50', 'R-2-5', 'R-2-4', 'R-3-4', 'R-5-50', 'R-1-50', 'R-3-50', 'R-2-50', 'O', 'O', 'O', 'O', 'O', 'O', 'R-1-2', 'R-2-50', 'R-5-6', 'R-5-50', 'O', 'O', 'O', 'O', 'O', 'O', 'O', 'O', 'O', 'O', 'O', 'R-5-6', 'R-6-50', 'R-5-50', 'O', 'R-5-50', 'R-3-50', 'O', 'R-5-50', 'R-5-6', 'R-6-50', 'R-5-50', 'R-2-50', 'R-1-2', 'R-1-2', 'R-2-3', 'R-3-50', 'R-3-50', 'O', 'O', 'O', 'O', 'O', 'O', 'O', 'O', 'O', 'O', 'R-3-50', 'O', 'R-5-6', 'R-4-5', 'R-5-6', 'O', 'O', 'R-6-50', 'R-5-5', 'R-12-3', 'R-3-50', 'R-5-50', 'R-2-50', 'R-2-50', 'R-3-50', 'R-3-4', 'R-5-50', 'O', 'O', 'O', 'O', 'O', 'O', 'R-2-50', 'R-1-50', 'R-1-50', 'R-2-50', 'R-2-50', 'R-2-3', 'R-5-50', 'R-4-5', 'R-5-6', 'R-4-50', 'R-6-50', 'R-5-50', 'R-5-50', 'O', 'R-2-50', 'O', 'O', 'O', 'R-1-2', 'R-2-3', 'R-3-50', 'O', 'R-11-12', 'R-12-3', 'O', 'R-2-50', 'R-11-50', 'R-11-50', 'O', 'O', 'O', 'O', 'O', 'O', 'O', 'R-4-50', 'O', 'O', 'R-5-50', 'R-5-6', 'R-6-50', 'R-5-50', 'O', 'R-11-12', 'R-11-12', 'R-12-3', 'O', 'O', 'R-5-50', 'O', 'O', 'O', 'O', 'O', 'R-1-2', 'O', 'R-1-50', 'R-1-2', 'O', 'R-11-12', 'R-12-3', 'R-11-12', 'R-11-12', 'R-12-3', 'R-11-3', 'R-11-3', 'R-11-12', 'R-12-3', 'R-12-5', 'R-5-50', 'R-5-50', 'R-5-50', 'R-4-5', 'R-4-5', 'R-5-50', 'R-4-5', 'R-2-4', 'O', 'R-1-2', 'R-3-50', 'R-2-50', 'R-3-50', 'R-4-5', 'R-5-6', 'R-6-50', 'R-4-6', 'R-2-50', 'R-1-2', 'O', 'O', 'O', 'O', 'R-1-2', 'R-1-3', 'R-3-50', 'R-2-50', 'O', 'R-5-6', 'R-6-50', 'O', 'O', 'O', 'R-5-50', 'R-5-4', 'R-4-50', 'O', 'O', 'O', 'O', 'O', 'O', 'O', 'O', 'O', 'O', 'O', 'O', 'R-2-50', 'R-11-3', 'R-1-3', 'R-11-12', 'R-12-3', 'R-11-5', 'R-5-6', 'R-6-50', 'R-2-5', 'R-5-50', 'R-1-50', 'R-1-2', 'R-1-50', 'R-1-2', 'R-1-50', 'R-1-3', 'R-3-50', 'O', 'O', 'O', 'R-11-50', 'R-1-50', 'O', 'R-1-50', 'R-11-50', 'R-1-50', 'R-11-50', 'O', 'R-1-50', 'R-11-50', 'R-12-3', 'O', 'O', 'R-3-50', 'R-2-3', 'R-1-2', 'R-1-50', 'O', 'R-11-12', 'R-11-12', 'R-12-3', 'R-1-50', 'R-11-50', 'O', 'R-1-2', 'R-1-2', 'R-2-5', 'R-2-5', 'R-5-50', 'R-5-50', 'R-5-50', 'R-4-5', 'O', 'R-5-6', 'R-6-50', 'R-5-6', 'O', 'O', 'O', 'O', 'O', 'O', 'O', 'O', 'O', 'O', 'R-2-50', 'R-1-50', 'R-2-50', 'R-1-50', 'O', 'R-1-2', 'R-2-50', 'R-2-50', 'O', 'O', 'O', 'O', 'O', 'R-3-4', 'O', 'R-11-12', 'R-11-12', 'R-12-3', 'R-5-50', 'R-5-6', 'R-5-6', 'R-6-50', 'O', 'O', 'O', 'O', 'O', 'O', 'R-5-50', 'R-4-5', 'R-5-6', 'R-2-50', 'R-3-4', 'R-3-6', 'R-1-2', 'R-2-50', 'R-1-50', 'O', 'O', 'R-11-12', 'R-12-3', 'R-11-3', 'R-5-50', 'O', 'O', 'O', 'O', 'R-1-2', 'R-12-50', 'R-12-50', 'R-12-3', 'R-12-2', 'R-3-4', 'R-5-50', 'O', 'O', 'R-5-50', 'R-4-5', 'R-3-50', 'R-5-50', 'R-3-5', 'R-3-50', 'O', 'O', 'O', 'O', 'O', 'R-5-6', 'R-6-50', 'R-5-50', 'O', 'O', 'O', 'O', 'R-3-4', 'O', 'O', 'R-3-50', 'R-3-4', 'R-3-4', 'R-4-6', 'O', 'O', 'O', 'R-3-50', 'O', 'O', 'O', 'O', 'O', 'R-5-50', 'O', 'R-2-4', 'O', 'O', 'O', 'R-5-50', 'R-3-50', 'O', 'O', 'O', 'O', 'O', 'R-2-50', 'R-1-2', 'O', 'R-3-50', 'R-5-50', 'O', 'R-3-50', 'R-5-50', 'R-2-3', 'R-4-5', 'R-5-50', 'R-6-50', 'R-2-3', 'R-3-50', 'R-1-2', 'O', 'O', 'R-12-3', 'R-1-50', 'R-2-50', 'R-5-50', 'R-2-50', 'R-1-2', 'R-1-2', 'R-5-50', 'R-4-5', 'R-2-4', 'R-2-4', 'O', 'O', 'O', 'O', 'R-5-6', 'R-6-50', 'R-4-5', 'O', 'O', 'O', 'O', 'O', 'R-5-50', 'R-2-50', 'R-2-50', 'R-1-3', 'R-1-2', 'R-2-3', 'R-3-4', 'R-1-4', 'R-5-50', 'R-4-5', 'R-5-6', 'R-6-50', 'R-5-50', 'R-5-50', 'R-5-50', 'R-2-50', 'R-1-50', 'R-1-2', 'R-3-50', 'R-2-3', 'R-2-50', 'R-5-50', 'R-5-6', 'R-6-50', 'R-1-50', 'R-1-50', 'R-1-50', 'R-5-50', 'R-5-6', 'R-6-50', 'O', 'R-5-50', 'O', 'R-5-50', 'R-5-50', 'R-5-50', 'O', 'R-1-2', 'R-1-50', 'R-2-50', 'R-2-50', 'R-1-2', 'R-1-2', 'R-1-3', 'R-2-3', 'O', 'R-3-4', 'O', 'R-11-12', 'R-11-12', 'R-12-3', 'R-1-50', 'R-2-3', 'O', 'R-1-50', 'O', 'O', 'O', 'O', 'O', 'O', 'R-1-50', 'R-1-50', 'R-1-2', 'R-2-50', 'R-2-50', 'O', 'O', 'O', 'R-5-50', 'R-5-50', 'R-1-50', 'O', 'O', 'R-12-3', 'R-5-6', 'R-6-50', 'O', 'O', 'O', 'O', 'O', 'O', 'O', 'O', 'R-5-50', 'O', 'O', 'O', 'O', 'R-1-50', 'R-2-50', 'R-1-2', 'R-2-50', 'O', 'O', 'O', 'O', 'R-2-50', 'R-1-2', 'R-2-5', 'R-5-50', 'R-5-50', 'R-1-5', 'R-2-4', 'O', 'R-2-3', 'R-3-4', 'R-2-4', 'R-4-50', 'O', 'O', 'R-4-5', 'R-5-6', 'O', 'O', 'O', 'O', 'O', 'O', 'R-5-50', 'O', 'O', 'O', 'O', 'O', 'O', 'R-5-6', 'R-5-50', 'R-5-50', 'R-2-50', 'R-1-2', 'O', 'O', 'O', 'R-1-50', 'R-5-50', 'R-5-4', 'R-5-6', 'R-5-6', 'R-6-50', 'R-3-4', 'R-11-12', 'R-12-3', 'R-5-50', 'R-3-50', 'R-1-50', 'O', 'O', 'O', 'O', 'O', 'R-5-50', 'R-5-50', 'O', 'O', 'O', 'O', 'R-3-4', 'R-3-6', 'R-3-50', 'O', 'R-1-50', 'R-1-2', 'R-2-50', 'O', 'O', 'O', 'O', 'O', 'O', 'O', 'O', 'O', 'O', 'R-11-50', 'R-3-50', 'R-1-2', 'R-1-3', 'O', 'O', 'R-5-6', 'R-5-6', 'R-6-50', 'R-5-50', 'R-11-12', 'R-11-12', 'R-12-3', 'R-11-12', 'R-11-12', 'R-3-50', 'R-1-2', 'O', 'R-1-2', 'O', 'R-2-4', 'O', 'R-1-50', 'R-1-2', 'R-2-50', 'O', 'R-12-3', 'O', 'R-4-50', 'R-4-50', 'O', 'O', 'R-5-50', 'R-5-50', 'O', 'O', 'O', 'O', 'O', 'O', 'R-1-2', 'R-3-4', 'R-2-3', 'O', 'O', 'O', 'O', 'O', 'O', 'R-5-50', 'R-5-6', 'R-6-50', 'R-5-6', 'R-5-50', 'O', 'O', 'O', 'R-6-50', 'R-5-4', 'R-2-5', 'R-4-50', 'O', 'O', 'O', 'O', 'O', 'O', 'O', 'O', 'O', 'O', 'O', 'O', 'O', 'O', 'O', 'R-4-5', 'O', 'O', 'R-1-2', 'R-1-2', 'O', 'R-1-2', 'O', 'R-1-2', 'O', 'R-1-50', 'R-1-50', 'R-1-50', 'R-3-50', 'R-2-3', 'R-2-5', 'R-2-4', 'R-2-5', 'R-2-4', 'R-4-50', 'R-5-50', 'R-3-50', 'R-3-50', 'R-2-3', 'R-1-2', 'R-1-4', 'R-1-2', 'R-12-50', 'R-3-50', 'R-1-2', 'R-1-50', 'O', 'O', 'O', 'O', 'O', 'O', 'O', 'O', 'O', 'O', 'O', 'R-11-12', 'R-12-3', 'R-3-50', 'O', 'R-5-50', 'R-4-5', 'O', 'R-5-6', 'R-6-50', 'O', 'O', 'O', 'O', 'R-1-50', 'R-1-2', 'R-2-5', 'R-2-5', 'R-5-6', 'R-6-50', 'R-1-2', 'R-5-50', 'R-2-5', 'R-5-50', 'O', 'O', 'O', 'O', 'O', 'O', 'O', 'O', 'O', 'O', 'O', 'O', 'R-1-50', 'R-3-50', 'R-4-50', 'R-1-50', 'R-1-2', 'R-2-50', 'R-1-2', 'R-5-50', 'R-1-2', 'R-3-50', 'R-1-3', 'R-1-3', 'R-3-4', 'R-4-50', 'R-5-50', 'R-4-50', 'R-5-6', 'R-6-50', 'O', 'O', 'O', 'O', 'O', 'O', 'O', 'R-5-50', 'O', 'R-5-50', 'O', 'O', 'O', 'R-3-50', 'R-3-4', 'O', 'R-5-50', 'R-4-5', 'R-6-50', 'O', 'O', 'O', 'R-5-6', 'R-6-50', 'R-3-5', 'R-1-5', 'R-5-50', 'O', 'R-12-3', 'O', 'R-3-4', 'O', 'R-12-3', 'R-11-3', 'O', 'O', 'R-1-3', 'O', 'R-2-50', 'R-1-50', 'R-12-50', 'R-2-50', 'O', 'R-2-4', 'R-1-50', 'R-1-50', 'R-1-2', 'R-1-50', 'R-2-3', 'R-3-50', 'R-12-50', 'O', 'R-11-12', 'R-12-3', 'O', 'O', 'R-3-50', 'R-3-50', 'R-3-50', 'R-5-50', 'O', 'R-2-50', 'O', 'O', 'O', 'O', 'R-2-50', 'R-3-50', 'R-5-50', 'R-5-50', 'R-1-50', 'R-1-2', 'R-2-50', 'R-1-50', 'O', 'O', 'R-6-50', 'R-5-6', 'O', 'R-4-50', 'O', 'O', 'O', 'O', 'O', 'O', 'O', 'O', 'O', 'O', 'O', 'O', 'O', 'O', 'R-2-50', 'R-2-3', 'R-3-50', 'O', 'O', 'O', 'O', 'O', 'O', 'O', 'O', 'O', 'O', 'O', 'O', 'O', 'R-1-50', 'R-5-50', 'R-1-2', 'R-1-2', 'R-2-50', 'R-5-50', 'R-5-6', 'R-5-50', 'O', 'R-5-6', 'O', 'O', 'R-3-50', 'R-2-3', 'R-1-2', 'R-1-50', 'R-2-3', 'O', 'O', 'O', 'O', 'O', 'O', 'O', 'O', 'O', 'O', 'O', 'O', 'O', 'R-12-3', 'O', 'R-3-50', 'R-2-50', 'R-11-12', 'R-12-3', 'R-5-50', 'O', 'O', 'O', 'R-2-50', 'O', 'O', 'R-5-50', 'O', 'O', 'O', 'O', 'O', 'O', 'O', 'O', 'R-2-50', 'R-1-50', 'R-1-2', 'R-1-50', 'R-3-50', 'O', 'R-4-5', 'R-5-50', 'R-6-50', 'O', 'O', 'R-3-50', 'R-2-5', 'R-4-5', 'R-5-6', 'O', 'R-6-50', 'R-5-6', 'R-5-50', 'O', 'R-12-3', 'R-1-2', 'R-2-50', 'R-3-50', 'R-3-50', 'O', 'R-5-6', 'R-5-6', 'R-6-50', 'O', 'O', 'R-2-50', 'R-1-2', 'R-2-50', 'R-3-50', 'O', 'R-2-50', 'R-5-50', 'R-4-5', 'R-5-6', 'R-6-50', 'R-5-50', 'R-5-50', 'O', 'O', 'R-4-5', 'O', 'R-5-6', 'R-6-50', 'R-3-4', 'O', 'O', 'R-2-50', 'O', 'R-2-4', 'R-5-50', 'R-2-5', 'R-5-6', 'R-5-6', 'R-6-50', 'R-5-50', 'O', 'O', 'O', 'O', 'O', 'O', 'O', 'R-1-50', 'R-2-3', 'R-5-50', 'R-5-6', 'O', 'O', 'R-4-50', 'R-1-50', 'O', 'O', 'O', 'O', 'O', 'O', 'O', 'R-1-50', 'O', 'R-3-4', 'R-3-4', 'R-5-50', 'O', 'O', 'R-2-50', 'R-3-50', 'R-2-50', 'R-3-50', 'O', 'R-1-3', 'R-3-50', 'R-3-50', 'R-5-6', 'R-6-50', 'O', 'O', 'O', 'O', 'R-5-6', 'R-6-4', 'R-6-50', 'O', 'O', 'R-5-6', 'R-6-50', 'O', 'R-5-6', 'O', 'O', 'O', 'O', 'O', 'O', 'O', 'O', 'O', 'O', 'O', 'O', 'O', 'O', 'R-1-50', 'R-2-50', 'R-2-3', 'R-3-50', 'R-2-3', 'R-11-12', 'R-12-3', 'R-11-12', 'R-11-12', 'R-12-3', 'R-5-50', 'O', 'O', 'R-6-50', 'O', 'O', 'O', 'O', 'O', 'O', 'O', 'O', 'O', 'O', 'O', 'O', 'O', 'R-2-3', 'R-3-4', 'R-3-5', 'O', 'R-6-50', 'R-6-50', 'R-5-50', 'R-3-5', 'R-1-2', 'R-2-3', 'R-3-5', 'R-3-5', 'R-5-50', 'R-11-12', 'R-11-50', 'R-5-50', 'R-2-50', 'R-5-50', 'R-5-50', 'O', 'R-5-50', 'R-5-50', 'R-5-50', 'R-2-4', 'R-2-5', 'O', 'R-5-50', 'O', 'O', 'R-1-50', 'O', 'R-1-50', 'R-1-2', 'R-2-50', 'O', 'R-1-50', 'R-11-12', 'R-12-3', 'R-11-12', 'R-12-3', 'O', 'O', 'R-12-3', 'O', 'O', 'R-4-6', 'O', 'R-5-50', 'R-5-6', 'R-6-50', 'R-6-50', 'O', 'R-1-50', 'R-5-50', 'R-5-50', 'R-5-6', 'R-1-50', 'R-1-3', 'R-1-2', 'O', 'O', 'R-12-3', 'R-5-50', 'R-5-6', 'R-6-50', 'R-5-6', 'R-5-50', 'R-5-50', 'O', 'O', 'R-1-50', 'R-1-50', 'O', 'R-1-2', 'R-12-3', 'O', 'O', 'O', 'O', 'R-3-50', 'R-1-2', 'R-1-2', 'R-12-3', 'R-11-12', 'R-11-12', 'R-12-3', 'R-2-3', 'R-12-3', 'R-5-50', 'R-5-6', 'R-4-5', 'R-5-6', 'O', 'O', 'O', 'O', 'O', 'R-5-6', 'R-6-50', 'R-5-50', 'R-5-50', 'O', 'O', 'O', 'R-1-50', 'R-1-2', 'O', 'O', 'R-5-50', 'O', 'R-5-6', 'R-6-50', 'O', 'O', 'R-5-50', 'O', 'O', 'O', 'R-3-50', 'R-2-3', 'R-11-12', 'R-12-3', 'R-3-4', 'R-3-4', 'R-2-3', 'O', 'O', 'O', 'O', 'O', 'O', 'O', 'O', 'R-2-50', 'R-2-50', 'R-6-50', 'R-5-6', 'R-5-6', 'R-6-50', 'O', 'O', 'O', 'O', 'O', 'R-5-50', 'R-5-6', 'R-6-50', 'O', 'R-6-50', 'O', 'O', 'O', 'O', 'O', 'O', 'R-5-50', 'R-4-5', 'R-5-6', 'R-6-50', 'R-5-50', 'O', 'R-5-6', 'O', 'O', 'O', 'O', 'O', 'O', 'R-2-50', 'R-1-50', 'O', 'O', 'O', 'O', 'O', 'O', 'O', 'O', 'R-1-50', 'O', 'R-2-3', 'O', 'O', 'O', 'O', 'O', 'O', 'O', 'O', 'O', 'O', 'R-2-3', 'R-3-50', 'R-1-50', 'R-1-50', 'R-5-50', 'R-5-6', 'R-6-50', 'R-5-50', 'R-1-50', 'R-2-50', 'R-5-50', 'R-1-50', 'R-2-50', 'R-5-50', 'O', 'O', 'O', 'O', 'O', 'R-2-5', 'R-1-5', 'O', 'O', 'R-4-5', 'R-5-6', 'O', 'O', 'O', 'O', 'R-1-50', 'R-3-50', 'R-3-50', 'R-2-50', 'R-1-50', 'R-1-2', 'R-2-50', 'R-2-5', 'R-5-50', 'R-5-50', 'O', 'O', 'O', 'O', 'O', 'R-2-50', 'R-1-50', 'R-2-50', 'R-1-50', 'O', 'O', 'R-2-50', 'R-5-50', 'O', 'R-2-50', 'R-5-50', 'O', 'R-2-5', 'O', 'O', 'R-2-50', 'O', 'O', 'O', 'O', 'O', 'O', 'O', 'O', 'R-3-4', 'R-4-6', 'R-5-50', 'R-4-5', 'O', 'O', 'R-12-3', 'R-12-2', 'O', 'R-12-50', 'O', 'O', 'R-3-50', 'R-5-50', 'R-1-50', 'O', 'O', 'O', 'R-2-5', 'O', 'O', 'O', 'O', 'O', 'O', 'O', 'R-2-50', 'O', 'R-6-50', 'R-5-6', 'O', 'R-2-50', 'R-2-50', 'R-1-2', 'R-2-50', 'R-5-6', 'R-5-50', 'R-5-6', 'R-6-50', 'R-5-50', 'O', 'O', 'O', 'R-2-50', 'O', 'R-2-50', 'O', 'R-1-2', 'R-2-50', 'R-5-6', 'R-6-50', 'R-6-50', 'R-5-50', 'O', 'R-1-2', 'O', 'O', 'R-2-50', 'O', 'R-12-3', 'O', 'R-2-4', 'R-5-6', 'R-6-50', 'R-2-50', 'R-1-50', 'R-3-50', 'O', 'O', 'O', 'O', 'O', 'O', 'O', 'O', 'R-3-4', 'R-5-5', 'O', 'O', 'O', 'O', 'R-5-6', 'R-6-50', 'R-5-50', 'R-5-50', 'R-2-50', 'R-2-50', 'O', 'O', 'O', 'O', 'O', 'O', 'R-1-50', 'R-1-3', 'R-3-50', 'R-3-50', 'R-3-5', 'R-4-5', 'R-5-50', 'R-5-4', 'O', 'O', 'R-1-50', 'R-2-50', 'R-4-50', 'R-5-50', 'R-2-50', 'R-4-50', 'R-1-50', 'R-5-50', 'O', 'O', 'O', 'O', 'R-2-50', 'R-1-2', 'R-3-4', 'R-5-4', 'R-4-50', 'R-5-50', 'R-2-5', 'O', 'O', 'O', 'O', 'R-1-50', 'R-1-50', 'R-1-50', 'R-1-2', 'R-2-3', 'R-3-50', 'R-1-50', 'R-11-50', 'O', 'R-2-50', 'R-1-50', 'R-1-2', 'O', 'R-2-3', 'R-3-50', 'O', 'R-5-6', 'O', 'O', 'R-5-6', 'R-6-50', 'O', 'O', 'O', 'O', 'O', 'O', 'O', 'O', 'O', 'O', 'O', 'R-1-50', 'O', 'O', 'O', 'O', 'O', 'O', 'R-12-3', 'O', 'O', 'R-5-50', 'R-2-50', 'R-1-2', 'R-1-50', 'R-3-50', 'O', 'R-5-6', 'R-3-6', 'R-11-12', 'R-12-3', 'R-11-12', 'O', 'O', 'R-2-50', 'R-3-50', 'R-5-50', 'R-5-50', 'R-5-50', 'O', 'O', 'O', 'O', 'O', 'O', 'O', 'O', 'O', 'R-12-3', 'O', 'O', 'O', 'O', 'O', 'O', 'O', 'O', 'O', 'O', 'O', 'O', 'O', 'R-12-3', 'O', 'O', 'O', 'O', 'O', 'O', 'O', 'O', 'R-5-50', 'R-4-5', 'O', 'O', 'O', 'O', 'O', 'O', 'O', 'O', 'O', 'O', 'O', 'R-1-50', 'R-2-50', 'R-1-50', 'R-1-2', 'O', 'O', 'O', 'O', 'R-12-3', 'O', 'R-4-5', 'O', 'O', 'O', 'O', 'R-5-50', 'O', 'R-1-50', 'R-4-50', 'R-1-50', 'R-1-50', 'O', 'O', 'O', 'O', 'O', 'R-4-5', 'R-5-50', 'O', 'R-5-6', 'R-6-50', 'O', 'O', 'O', 'O', 'O', 'O', 'O', 'O', 'R-3-50', 'R-3-50', 'O', 'R-3-4', 'R-5-50', 'R-5-50', 'R-2-50', 'R-1-50', 'R-1-50', 'R-2-5', 'R-2-3', 'R-5-50', 'R-3-50', 'O', 'O', 'R-1-50', 'R-1-2', 'R-5-50', 'R-4-5', 'R-5-6', 'R-5-6', 'R-6-50', 'O', 'O', 'R-4-5', 'R-4-5', 'R-5-50', 'R-3-4', 'R-4-50', 'R-4-50', 'O', 'O', 'O', 'O', 'O', 'O', 'O', 'R-2-50', 'O', 'O', 'O', 'O', 'R-1-3', 'R-1-2', 'R-1-3', 'R-1-3', 'R-5-50', 'R-3-50', 'R-2-50', 'O', 'R-1-2', 'O', 'R-2-50', 'R-3-50', 'R-3-4', 'R-3-4', 'R-5-6', 'R-6-50', 'R-4-5', 'R-5-6', 'R-6-50', 'O', 'O', 'R-1-50', 'R-1-4', 'R-1-2', 'R-1-4', 'R-1-2', 'R-1-2', 'R-2-3', 'R-1-2', 'R-3-50', 'O', 'O', 'R-1-50', 'O', 'O', 'R-3-4', 'R-3-4', 'O', 'R-4-5', 'R-5-50', 'R-3-50', 'R-2-50', 'R-3-50', 'R-2-50', 'R-1-50', 'R-1-50', 'R-1-2', 'R-1-2', 'O', 'R-5-6', 'O', 'O', 'R-5-6', 'R-6-50', 'R-5-50', 'O', 'O', 'O', 'O', 'O', 'O', 'O', 'O', 'R-2-50', 'R-2-50', 'R-5-50', 'R-5-6', 'R-6-50', 'R-1-50', 'O', 'R-2-50', 'O', 'O', 'O', 'R-5-50', 'O', 'O', 'O', 'O', 'O', 'O', 'O', 'O', 'R-1-2', 'R-2-50', 'R-12-4', 'R-12-3', 'O', 'R-3-4', 'R-4-5', 'R-5-6', 'O', 'R-6-50', 'O', 'R-2-50', 'O', 'O', 'O', 'O', 'O', 'O', 'O', 'O', 'O', 'O', 'R-1-50', 'R-1-2', 'R-5-50', 'R-5-4', 'R-4-6', 'O', 'O', 'O', 'R-5-50', 'O', 'O', 'R-5-50', 'R-11-5', 'R-11-12', 'R-12-3', 'R-11-12', 'R-12-3', 'O', 'O', 'O', 'O', 'O', 'R-1-2', 'R-1-2', 'R-2-50', 'O', 'O', 'R-2-3', 'R-3-50', 'R-11-12', 'R-5-6', 'R-6-50', 'O', 'R-2-50', 'O', 'R-1-50', 'O', 'R-3-4', 'R-4-6', 'R-3-50', 'O', 'R-5-6', 'R-6-50', 'O', 'R-5-50', 'O', 'O', 'O', 'O', 'O', 'O', 'O', 'R-3-4', 'R-4-50', 'O', 'O', 'O', 'O', 'O', 'O', 'O', 'O', 'R-11-12', 'R-12-3', 'O', 'R-4-5', 'O', 'O', 'R-5-6', 'R-6-50', 'R-5-50', 'R-4-5', 'R-12-2', 'R-2-5', 'R-5-50', 'R-5-50', 'R-2-50', 'R-3-50', 'O', 'R-1-2', 'O', 'R-1-50', 'O', 'R-1-50', 'O', 'R-4-5', 'O', 'O', 'O', 'R-4-50', 'R-5-4', 'O', 'O', 'O', 'O', 'O', 'O', 'O', 'O', 'O', 'R-5-50', 'R-5-6', 'R-5-50', 'R-5-6', 'O', 'R-2-50', 'O', 'R-1-3', 'O', 'O', 'O', 'R-2-50', 'O', 'O', 'O', 'O', 'O', 'R-2-50', 'R-5-50', 'R-1-2', 'R-5-50', 'O', 'R-1-2', 'O', 'R-1-3', 'R-3-50', 'O', 'O', 'O', 'O', 'O', 'O', 'R-3-4', 'R-3-6', 'R-3-6', 'O', 'R-5-50', 'R-5-50', 'R-5-4', 'R-5-6', 'R-6-50', 'R-4-6', 'R-3-5', 'O', 'R-1-2', 'R-1-3', 'R-1-2', 'R-1-3', 'R-1-2', 'R-3-50', 'R-1-3', 'R-3-50', 'R-2-50', 'R-3-50', 'O', 'O', 'O', 'O', 'R-3-5', 'O', 'O', 'O', 'O', 'O', 'R-2-50', 'O', 'O', 'O', 'O', 'O', 'R-2-50', 'R-1-2', 'R-2-3', 'R-5-50', 'O', 'O', 'O', 'O', 'R-5-50', 'R-2-5', 'R-2-50', 'R-3-6', 'R-6-50', 'R-1-3', 'R-3-50', 'O', 'O', 'R-5-50', 'O', 'R-2-50', 'R-1-2', 'R-1-2', 'R-12-50', 'R-3-4', 'R-3-50', 'R-2-5', 'R-5-6', 'R-6-50', 'R-5-6', 'R-2-50', 'R-5-50', 'R-2-4', 'R-5-50', 'O', 'O', 'R-1-2', 'R-1-2', 'R-2-3', 'R-1-2', 'R-3-50', 'R-2-3', 'R-2-3', 'R-3-50', 'R-3-4', 'R-4-6', 'R-3-6', 'O', 'R-11-12', 'R-12-3', 'R-11-12', 'R-12-3', 'R-3-4', 'R-3-5', 'R-5-6', 'O', 'R-5-6', 'R-6-50', 'R-5-50', 'R-5-50', 'O', 'O', 'R-5-50', 'R-6-50', 'R-5-6', 'R-12-2', 'O', 'R-1-2', 'R-2-4', 'R-1-2', 'R-2-50', 'R-2-4', 'O', 'O', 'O', 'O', 'R-3-50', 'O', 'O', 'O', 'R-3-4', 'R-4-5', 'R-5-6', 'O', 'O', 'R-5-6', 'R-6-50', 'O', 'R-2-50', 'R-12-3', 'R-50-3', 'R-2-50', 'R-4-50', 'R-2-4', 'O', 'O', 'R-2-50', 'R-1-2', 'R-1-2', 'O', 'R-5-50', 'R-2-50', 'O', 'O', 'R-12-50', 'R-3-50', 'O', 'R-5-50', 'R-3-50', 'R-2-50', 'R-1-2', 'R-1-3', 'R-1-2', 'R-1-2', 'R-2-3', 'R-3-50', 'O', 'O', 'R-2-50', 'R-2-3', 'R-1-2', 'R-3-50', 'R-3-4', 'O', 'O', 'R-5-4', 'R-5-50', 'O', 'R-5-6', 'O', 'R-5-50', 'R-6-50', 'R-5-6', 'R-6-50', 'O', 'O', 'R-4-5', 'O', 'R-3-50', 'R-2-3', 'R-1-2', 'R-1-50', 'R-1-50', 'R-12-3', 'O', 'R-12-3', 'R-5-12', 'O', 'R-6-50', 'O', 'R-5-50', 'R-5-50', 'R-4-5', 'R-3-4', 'R-5-50', 'R-1-50', 'R-2-50', 'O', 'O', 'O', 'R-5-50', 'R-5-50', 'R-5-50', 'O', 'O', 'O', 'O', 'O', 'R-3-50', 'R-1-50', 'R-1-2', 'R-1-3', 'R-3-50', 'R-5-6', 'R-5-6', 'R-6-50', 'O', 'O', 'R-12-3', 'O', 'R-1-50', 'R-2-50', 'R-2-50', 'O', 'O', 'R-5-6', 'R-4-5', 'O', 'O', 'O', 'R-2-50', 'R-2-50', 'R-2-3', 'R-2-11', 'R-2-3', 'R-3-11', 'O', 'O', 'O', 'O', 'O', 'O', 'O', 'O', 'O', 'O', 'R-12-3', 'R-4-5', 'R-4-5', 'O', 'R-6-50', 'R-5-50', 'O', 'O', 'O', 'O', 'R-4-5', 'O', 'O', 'O', 'O', 'O', 'O', 'O', 'O', 'O', 'O', 'O', 'O', 'R-5-50', 'R-5-6', 'R-6-50', 'O', 'R-1-3', 'R-1-2', 'R-2-3', 'R-5-6', 'R-6-50', 'R-5-50', 'R-5-50', 'R-3-50', 'O', 'O', 'O', 'O', 'O', 'R-1-50', 'R-2-50', 'R-1-50', 'R-2-50', 'R-1-2', 'R-1-2', 'R-1-50', 'R-5-50', 'O', 'R-5-50', 'O', 'O', 'R-2-50', 'R-1-2', 'R-5-50', 'O', 'O', 'O', 'O', 'O', 'O', 'O', 'O', 'O', 'O', 'O', 'O', 'O', 'O', 'O', 'O', 'R-2-50', 'O', 'R-1-50', 'R-1-50', 'R-1-2', 'O', 'O', 'O', 'O', 'O', 'R-12-3', 'R-1-50', 'R-2-50', 'R-2-50', 'R-1-50', 'O', 'O', 'O', 'O', 'O', 'O', 'O', 'O', 'O', 'O', 'O', 'R-2-50', 'R-1-2', 'O', 'R-1-5', 'O', 'R-12-3', 'O', 'O', 'O', 'O', 'R-1-50', 'R-1-2', 'R-1-50', 'R-1-5', 'R-5-50', 'R-5-6', 'R-6-50', 'R-3-5', 'R-2-5', 'R-1-2', 'O', 'O', 'O', 'R-3-50', 'R-2-50', 'R-3-50', 'R-2-50', 'R-1-50', 'R-1-50', 'R-5-50', 'O', 'O', 'O', 'O', 'O', 'O', 'O', 'R-1-2', 'R-2-50', 'O', 'R-5-50', 'R-2-50', 'R-5-50', 'R-1-50', 'R-2-50', 'R-1-50', 'R-1-2', 'O', 'R-2-3', 'R-5-50', 'R-4-5', 'O', 'R-5-50', 'O', 'O', 'O', 'O', 'O', 'O', 'O', 'R-3-50', 'R-3-4', 'R-2-50', 'R-1-2', 'R-1-2', 'R-1-2', 'R-2-3', 'O', 'O', 'R-3-50', 'R-3-50', 'R-2-3', 'R-1-50', 'R-1-2', 'R-2-3', 'R-3-4', 'R-3-2', 'R-4-50', 'R-4-50', 'R-5-50', 'R-5-50', 'R-5-4', 'R-5-6', 'R-6-50', 'O', 'R-1-50', 'R-2-50', 'R-1-50', 'R-1-2', 'O', 'O', 'O', 'O', 'R-2-3', 'R-3-50', 'O', 'O', 'O', 'O', 'O', 'O', 'R-12-3', 'O', 'R-2-50', 'O', 'R-2-50', 'R-1-2', 'R-1-2', 'R-2-50', 'O', 'O', 'R-5-6', 'O', 'R-2-50', 'R-3-50', 'R-3-50', 'R-2-3', 'R-1-3', 'R-3-50', 'O', 'R-5-50', 'O', 'R-5-6', 'O', 'O', 'R-5-6', 'R-6-50', 'O', 'R-2-3', 'O', 'R-5-6', 'O', 'O', 'O', 'R-5-6', 'R-6-50', 'R-2-50', 'O', 'O', 'O', 'O', 'R-2-5', 'R-4-5', 'O', 'R-5-50', 'O', 'O', 'O', 'O', 'R-2-5', 'R-6-50', 'R-4-50', 'R-2-50', 'R-1-50', 'R-6-50', 'R-4-50', 'R-2-50', 'R-1-50', 'R-1-2', 'R-2-3', 'R-2-3', 'R-3-50', 'R-3-4', 'R-12-3', 'R-12-3', 'R-3-4', 'R-6-50', 'O', 'O', 'R-6-50', 'O', 'O', 'R-12-50', 'R-2-50', 'O', 'O', 'R-1-2', 'R-12-2', 'R-12-3', 'R-3-4', 'R-4-50', 'O', 'O', 'O', 'O', 'R-11-12', 'R-12-3', 'R-5-6', 'R-6-50', 'O', 'R-1-2', 'R-1-2', 'R-1-2', 'R-2-3', 'O', 'R-1-50', 'R-5-50', 'O', 'O', 'R-1-50', 'R-1-50', 'R-1-2', 'R-1-3', 'R-2-50', 'O', 'R-5-50', 'R-5-4', 'R-11-12', 'R-12-5', 'O', 'R-2-50', 'R-1-2', 'R-1-2', 'R-1-50', 'O', 'O', 'R-5-50', 'O', 'R-5-6', 'R-6-50', 'R-6-50', 'O', 'O', 'O', 'R-3-50', 'R-5-50', 'O', 'O', 'O', 'O', 'O', 'O', 'O', 'O', 'R-3-50', 'O', 'O', 'O', 'O', 'O', 'O', 'R-5-50', 'O', 'O', 'O', 'O', 'R-4-5', 'O', 'O', 'O', 'R-2-50', 'R-2-50', 'O', 'O', 'R-2-50', 'O', 'R-2-50', 'R-1-50', 'R-1-2', 'R-1-2', 'R-2-50', 'R-2-5', 'O', 'R-2-5', 'R-5-6', 'R-6-50', 'O', 'R-5-6', 'R-5-50', 'R-4-5', 'R-5-6', 'O', 'O', 'R-12-3', 'O', 'O', 'O', 'O', 'O', 'R-5-50', 'R-5-4', 'R-2-50', 'R-3-4', 'O', 'O', 'O', 'O', 'O', 'O', 'O', 'O', 'R-5-50', 'O', 'O', 'R-5-6', 'R-6-50', 'R-6-50', 'R-5-5', 'R-2-50', 'R-1-50', 'R-1-2', 'R-3-50', 'R-3-50', 'O', 'R-5-50', 'R-3-5', 'O', 'O', 'R-5-50', 'R-2-50', 'R-5-50', 'R-5-50', 'R-2-50', 'R-1-2', 'O', 'R-5-50', 'R-5-50', 'O', 'O', 'O', 'R-2-50', 'R-2-50', 'R-2-50', 'O', 'O', 'O', 'O', 'R-3-4', 'R-11-12', 'R-12-3', 'O', 'O', 'O', 'O', 'O', 'O', 'R-2-50', 'R-3-50', 'O', 'O', 'R-5-50', 'R-5-4', 'R-5-6', 'O', 'O', 'O', 'O', 'O', 'R-5-6', 'R-6-50', 'R-5-6', 'R-5-50', 'R-5-50', 'R-5-50', 'R-2-50', 'R-3-50', 'O', 'O', 'O', 'O', 'R-1-2', 'R-2-3', 'O', 'R-12-3', 'R-11-12', 'R-12-3', 'O', 'O', 'O', 'O', 'O', 'O', 'R-5-50', 'R-4-5', 'O', 'R-5-6', 'R-6-50', 'R-5-50', 'O', 'O', 'O', 'O', 'R-5-50', 'R-4-5', 'R-4-5', 'O', 'R-5-6', 'R-6-50', 'O', 'O', 'O', 'O', 'O', 'O', 'O', 'R-3-50', 'R-3-4', 'R-3-4', 'R-5-6', 'R-6-50', 'R-1-3', 'R-3-50', 'R-1-2', 'R-2-50', 'R-1-2', 'R-1-50', 'R-1-50', 'R-1-50', 'O', 'O', 'O', 'O', 'O', 'O', 'O', 'O', 'O', 'O', 'O', 'O', 'O', 'O', 'O', 'O', 'R-11-12', 'R-12-3', 'O', 'R-11-12', 'R-12-3', 'R-11-12', 'R-12-3', 'R-3-5', 'O', 'R-5-6', 'R-6-50', 'O', 'R-3-50', 'R-12-3', 'R-11-12', 'R-11-50', 'R-2-50', 'O', 'O', 'O', 'O', 'O', 'O', 'R-5-50', 'O', 'R-5-6', 'R-6-50', 'R-5-50', 'O', 'O', 'O', 'R-3-50', 'R-1-3', 'O', 'O', 'O', 'O', 'O', 'R-1-2', 'R-2-50', 'O', 'R-1-3', 'R-1-2', 'O', 'O', 'O', 'O', 'R-1-50', 'R-3-50', 'R-2-3', 'R-3-50', 'R-2-3', 'O', 'O', 'O', 'R-2-50', 'O', 'O', 'O', 'O', 'O', 'O', 'O', 'O', 'O', 'R-1-50', 'O', 'R-2-50', 'R-5-50', 'R-5-50', 'R-2-50', 'R-1-50', 'R-2-50', 'R-1-50', 'O', 'R-2-1', 'R-1-2', 'R-2-50', 'R-1-2', 'R-2-50', 'R-1-50', 'R-1-50', 'R-1-2', 'R-2-3', 'R-4-50', 'O', 'R-4-50', 'R-12-3', 'R-3-50', 'R-5-50', 'R-5-4', 'R-5-6', 'R-6-50', 'R-5-50', 'R-5-50', 'R-5-50', 'R-5-50', 'R-1-50', 'R-1-2', 'R-2-5', 'O', 'O', 'O', 'R-6-50', 'O', 'O', 'R-2-50', 'O', 'O', 'R-5-6', 'R-6-50', 'R-5-50', 'O', 'O', 'O', 'O', 'O', 'O', 'R-2-50', 'O', 'O', 'O', 'O', 'O', 'O', 'R-1-2', 'R-2-4', 'R-4-5', 'R-5-6', 'R-5-6', 'R-6-50', 'R-5-50', 'R-3-50', 'R-2-4', 'R-4-50', 'R-3-50', 'R-3-4', 'R-11-12', 'R-12-3', 'O', 'O', 'O', 'O', 'O', 'O', 'O', 'O', 'O', 'O', 'O', 'O', 'O', 'O', 'O', 'R-5-6', 'R-6-50', 'R-6-50', 'R-3-50', 'R-5-6', 'R-3-50', 'R-3-50', 'R-1-2', 'R-2-3', 'O', 'O', 'O', 'O', 'R-2-4', 'R-4-6', 'R-11-12', 'R-12-3', 'R-3-4', 'O', 'O', 'R-2-50', 'R-5-50', 'O', 'R-2-50', 'O', 'O', 'O', 'R-1-2', 'O', 'O', 'R-2-50', 'R-5-50', 'R-2-50', 'R-5-50', 'O', 'R-1-50', 'R-1-50', 'R-1-2', 'R-1-2', 'R-2-3', 'R-5-50', 'O', 'O', 'O', 'O', 'O', 'O', 'O', 'O', 'O', 'O', 'O', 'O', 'R-1-50', 'O', 'R-1-2', 'R-2-3', 'O', 'O', 'R-5-50', 'R-5-6', 'R-5-6', 'R-6-50', 'R-11-12', 'R-12-3', 'O', 'R-1-3', 'R-1-2', 'R-1-2', 'R-1-3', 'R-3-50', 'O', 'O', 'R-1-50', 'R-1-5', 'R-1-50', 'O', 'O', 'O', 'O', 'O', 'O', 'O', 'O', 'O', 'R-1-50', 'O', 'O', 'R-2-50', 'R-1-50', 'R-1-2', 'R-2-50', 'R-5-50', 'R-2-5', 'R-5-50', 'O', 'R-2-50', 'R-2-50', 'R-1-50', 'R-1-2', 'R-2-50', 'R-1-2', 'O', 'R-2-5', 'O', 'R-1-3', 'O', 'O', 'O', 'R-3-50', 'R-2-3', 'R-1-2', 'R-5-50', 'R-2-4', 'R-4-5', 'O', 'R-6-50', 'R-2-50', 'O', 'O', 'R-2-50', 'O', 'R-2-3', 'R-12-3', 'O', 'R-3-4', 'R-4-50', 'R-5-50', 'R-5-6', 'R-6-50', 'O', 'R-4-6', 'R-5-6', 'R-2-50', 'R-3-50', 'R-5-50', 'O', 'O', 'O', 'R-5-50', 'R-4-5', 'R-6-5', 'R-5-6', 'R-6-50', 'R-5-50', 'O', 'R-2-50', 'R-3-50', 'R-5-50', 'R-2-50', 'R-3-50', 'R-5-50', 'O', 'O', 'R-5-50', 'O', 'O', 'R-5-50', 'R-3-50', 'R-1-3', 'R-2-3', 'R-3-4', 'O', 'R-2-50', 'O', 'O', 'R-2-4', 'O', 'R-2-50', 'O', 'O', 'O', 'O', 'O', 'O', 'O', 'O', 'O', 'O', 'O', 'R-3-50', 'R-2-3', 'R-1-2', 'R-2-3', 'R-3-50', 'R-5-6', 'R-6-50', 'R-5-50', 'O', 'O', 'O', 'R-2-3', 'R-3-4', 'R-2-50', 'R-2-50', 'R-3-4', 'R-5-50', 'R-6-50', 'O', 'O', 'O', 'O', 'O', 'R-3-50', 'R-5-50', 'R-3-50', 'R-5-50', 'R-5-6', 'R-5-50', 'R-2-50', 'R-1-50', 'R-1-2', 'R-2-50', 'O', 'R-5-50', 'R-4-50', 'R-2-5', 'R-5-50', 'R-50-1', 'R-4-50', 'R-1-50', 'O', 'R-2-50', 'O', 'R-5-50', 'R-5-6', 'R-6-50', 'R-5-50', 'O', 'O', 'O', 'O', 'O', 'O', 'O', 'O', 'O', 'R-1-50', 'O', 'O', 'O', 'R-1-50', 'R-1-2', 'R-2-50', 'R-2-50', 'R-1-2', 'R-1-50', 'R-1-2', 'R-2-3', 'O', 'R-12-3', 'O', 'R-3-5', 'R-11-12', 'R-11-12', 'R-12-3', 'R-11-12', 'R-12-3', 'R-5-50', 'R-5-6', 'O', 'R-5-5', 'R-5-50', 'R-5-50', 'R-5-50', 'R-11-50', 'R-1-50', 'R-1-50', 'R-11-50', 'R-5-50', 'O', 'O', 'O', 'O', 'R-5-4', 'R-5-6', 'R-6-50', 'O', 'O', 'O', 'R-3-50', 'R-1-50', 'R-12-3', 'R-3-4', 'O', 'R-5-50', 'R-5-50', 'O', 'O', 'O', 'O', 'O', 'O', 'O', 'O', 'R-1-2', 'O', 'O', 'R-12-3', 'O', 'R-4-5', 'R-5-6', 'R-5-6', 'R-11-12', 'R-12-3', 'O', 'R-5-6', 'R-5-50', 'R-5-50', 'R-4-5', 'R-5-6', 'O', 'O', 'R-5-6', 'R-6-50', 'O', 'R-2-50', 'O', 'R-5-50', 'O', 'R-1-2', 'R-2-50', 'O', 'O', 'R-2-50', 'R-2-50', 'R-1-2', 'O', 'O', 'R-12-3', 'R-50-5', 'O', 'R-5-50', 'R-1-50', 'O', 'O', 'O', 'R-2-5', 'R-2-50', 'O', 'O', 'R-2-4', 'O', 'R-1-2', 'R-2-3', 'O', 'O', 'O', 'R-1-50', 'R-3-50', 'R-5-50', 'R-5-50', 'R-3-50', 'R-1-50', 'R-5-50', 'R-6-50', 'R-1-50', 'R-1-2', 'R-2-3', 'R-3-50', 'O', 'O', 'O', 'O', 'O', 'O', 'O', 'O', 'O', 'R-1-3', 'R-3-4', 'R-4-50', 'O', 'O', 'O', 'O', 'O', 'O', 'O', 'O', 'R-5-50', 'R-5-50', 'R-5-6', 'R-6-50', 'O', 'O', 'O', 'O', 'O', 'O', 'O', 'O', 'O', 'O', 'O', 'O', 'O', 'R-5-6', 'O', 'O', 'O', 'R-3-50', 'O', 'R-1-50', 'R-5-50', 'R-1-2', 'R-5-50', 'O', 'O', 'R-5-6', 'R-6-50', 'O', 'O', 'R-2-3', 'R-3-50', 'O', 'O', 'O', 'O', 'O', 'O', 'O', 'O', 'O', 'O', 'O', 'O', 'R-2-50', 'O', 'R-2-50', 'O', 'O', 'O', 'O', 'O', 'O', 'O', 'O', 'R-1-50', 'R-1-3', 'R-1-2', 'R-2-3', 'R-2-3', 'R-3-50', 'R-1-2', 'R-1-3', 'O', 'O', 'O', 'R-3-4', 'O', 'O', 'O', 'R-11-12', 'R-11-12', 'R-12-3', 'R-3-50', 'R-3-50', 'O', 'R-6-50', 'R-5-6', 'O', 'R-5-50', 'R-6-50', 'O', 'O', 'O', 'O', 'O', 'R-5-50', 'R-1-50', 'O', 'O', 'O', 'O', 'O', 'O', 'O', 'R-12-50', 'R-5-50', 'R-5-50', 'R-5-6', 'R-6-50', 'O', 'O', 'O', 'R-2-5', 'R-2-4', 'R-4-50', 'R-12-50', 'R-1-50', 'R-1-2', 'R-2-4', 'R-4-50', 'O', 'O', 'R-6-50', 'O', 'R-5-50', 'O', 'R-4-5', 'R-6-50', 'O', 'R-3-50', 'R-3-4', 'R-11-12', 'R-12-3', 'O', 'O', 'O', 'O', 'O', 'O', 'R-1-50', 'R-2-50', 'R-1-2', 'R-2-4', 'R-1-2', 'R-1-2', 'O', 'R-3-4', 'O', 'R-11-12', 'R-11-12', 'R-12-3', 'O', 'O', 'O', 'O', 'O', 'R-5-6', 'R-4-5', 'R-5-6', 'R-2-50', 'O', 'O', 'O', 'O', 'O', 'O', 'R-1-50', 'R-3-50', 'R-5-50', 'O', 'R-1-2', 'R-2-50', 'R-3-50', 'R-1-3', 'R-1-2', 'R-1-50', 'R-1-3', 'R-1-2', 'R-3-50', 'R-3-5', 'R-5-50', 'O', 'R-5-50', 'R-5-4', 'R-5-4', 'O', 'O', 'R-3-50', 'R-2-3', 'R-1-3', 'R-3-50', 'O', 'R-5-50', 'R-2-50', 'O', 'O', 'O', 'R-3-50', 'R-3-50', 'R-2-3', 'R-1-3', 'R-1-3', 'R-3-50', 'R-1-50', 'R-3-4', 'R-4-50', 'R-5-50', 'R-4-5', 'O', 'R-6-50', 'R-5-50', 'R-5-50', 'O', 'O', 'R-5-50', 'R-5-50', 'O', 'O', 'O', 'O', 'R-2-50', 'R-1-50', 'R-2-50', 'R-2-3', 'R-3-4', 'R-4-50', 'O', 'O', 'O', 'O', 'O', 'O', 'O', 'O', 'O', 'O', 'O', 'O', 'O', 'O']\n",
            "New labels:  [0, 0, 0, 0, 1, 1, 0, 0, 2, 0, 0, 0, 0, 0, 0, 0, 0, 0, 0, 0, 0, 0, 0, 0, 3, 1, 4, 0, 5, 0, 6, 0, 0, 0, 0, 0, 7, 7, 1, 3, 0, 0, 0, 0, 0, 0, 0, 0, 0, 0, 0, 0, 0, 0, 6, 8, 0, 0, 1, 1, 0, 0, 0, 0, 0, 0, 0, 9, 0, 1, 10, 11, 0, 4, 0, 5, 0, 11, 0, 9, 3, 7, 0, 0, 0, 3, 0, 0, 0, 12, 3, 7, 0, 3, 7, 3, 11, 0, 11, 8, 0, 0, 0, 11, 9, 0, 6, 10, 0, 10, 1, 0, 5, 0, 4, 10, 0, 9, 11, 11, 11, 0, 0, 6, 13, 6, 0, 8, 8, 11, 0, 0, 0, 0, 0, 0, 0, 0, 0, 0, 0, 0, 0, 0, 3, 0, 1, 7, 14, 1, 11, 15, 0, 6, 13, 0, 0, 0, 3, 7, 1, 7, 4, 16, 17, 2, 16, 11, 6, 8, 8, 6, 0, 0, 11, 0, 0, 0, 0, 0, 0, 0, 0, 0, 0, 12, 12, 0, 0, 0, 0, 1, 4, 5, 3, 0, 0, 0, 0, 0, 0, 11, 7, 4, 9, 5, 18, 5, 11, 11, 0, 7, 7, 7, 14, 3, 9, 0, 0, 0, 0, 11, 0, 0, 0, 7, 11, 1, 6, 13, 0, 11, 11, 7, 0, 7, 8, 6, 13, 11, 0, 0, 7, 0, 2, 0, 1, 7, 0, 4, 1, 11, 6, 8, 6, 0, 0, 6, 13, 11, 8, 0, 0, 11, 9, 0, 0, 0, 13, 0, 11, 11, 8, 0, 6, 13, 0, 0, 0, 0, 3, 9, 11, 4, 1, 4, 0, 11, 0, 0, 0, 0, 19, 6, 11, 3, 7, 11, 14, 20, 13, 6, 7, 0, 0, 1, 7, 7, 0, 7, 4, 0, 0, 0, 0, 0, 0, 1, 3, 5, 0, 11, 13, 0, 6, 13, 0, 11, 11, 0, 0, 0, 13, 6, 6, 0, 11, 0, 7, 1, 0, 0, 0, 0, 5, 11, 9, 0, 0, 7, 0, 0, 0, 0, 0, 11, 8, 6, 0, 0, 6, 13, 20, 11, 8, 11, 0, 9, 8, 0, 0, 0, 0, 3, 14, 12, 0, 0, 0, 11, 6, 13, 11, 19, 0, 0, 0, 0, 0, 0, 0, 2, 0, 0, 0, 11, 11, 8, 8, 11, 0, 0, 11, 19, 19, 10, 9, 0, 0, 0, 0, 0, 0, 7, 0, 7, 1, 1, 10, 21, 0, 0, 11, 10, 0, 0, 0, 0, 11, 6, 0, 0, 0, 3, 0, 0, 0, 0, 0, 0, 0, 0, 3, 0, 12, 4, 5, 5, 1, 0, 0, 7, 7, 6, 13, 6, 10, 13, 11, 0, 0, 0, 0, 0, 0, 0, 0, 0, 0, 0, 0, 0, 11, 9, 5, 0, 0, 9, 6, 13, 0, 6, 13, 13, 0, 0, 0, 9, 11, 9, 7, 0, 9, 7, 0, 4, 0, 6, 0, 19, 5, 20, 0, 0, 5, 8, 12, 0, 0, 13, 6, 0, 11, 8, 6, 13, 6, 11, 0, 0, 0, 0, 0, 0, 1, 22, 13, 0, 0, 0, 0, 0, 0, 7, 0, 0, 0, 0, 0, 0, 0, 0, 0, 0, 0, 17, 2, 8, 6, 0, 0, 0, 0, 7, 9, 0, 0, 0, 5, 11, 11, 6, 13, 11, 0, 16, 11, 3, 3, 3, 16, 11, 11, 16, 16, 0, 0, 0, 0, 0, 0, 1, 3, 7, 0, 0, 0, 6, 13, 0, 0, 0, 11, 6, 13, 6, 11, 11, 9, 5, 0, 3, 1, 0, 0, 0, 9, 7, 7, 13, 0, 1, 0, 0, 0, 1, 7, 4, 2, 6, 13, 0, 0, 0, 0, 0, 0, 5, 0, 0, 0, 11, 6, 13, 6, 0, 0, 0, 0, 0, 3, 11, 11, 23, 8, 0, 0, 6, 13, 0, 11, 3, 1, 1, 0, 4, 5, 0, 11, 3, 10, 0, 0, 0, 0, 0, 0, 0, 0, 0, 0, 0, 9, 24, 4, 0, 1, 24, 1, 25, 11, 13, 20, 1, 24, 7, 0, 6, 13, 0, 11, 10, 4, 1, 3, 0, 3, 9, 11, 0, 3, 9, 11, 3, 9, 1, 4, 9, 11, 9, 4, 5, 11, 19, 20, 6, 6, 11, 6, 0, 0, 0, 0, 1, 1, 3, 7, 7, 0, 7, 9, 0, 0, 0, 0, 13, 11, 0, 0, 0, 0, 0, 0, 4, 1, 1, 4, 23, 8, 0, 0, 0, 6, 13, 0, 0, 0, 0, 0, 0, 0, 0, 8, 6, 0, 0, 0, 0, 0, 8, 0, 7, 1, 1, 6, 13, 3, 7, 11, 11, 11, 0, 0, 3, 24, 1, 5, 20, 11, 0, 6, 13, 0, 0, 0, 0, 7, 0, 0, 0, 0, 3, 5, 24, 4, 1, 7, 23, 5, 6, 6, 0, 0, 0, 0, 0, 0, 0, 0, 0, 0, 17, 2, 17, 17, 2, 0, 0, 6, 8, 6, 0, 0, 0, 6, 13, 6, 0, 7, 4, 0, 0, 0, 0, 7, 1, 0, 1, 1, 1, 7, 0, 17, 17, 2, 3, 3, 0, 0, 0, 0, 2, 0, 5, 0, 7, 7, 9, 0, 5, 0, 7, 6, 8, 6, 13, 0, 0, 0, 1, 0, 1, 3, 1, 17, 2, 0, 0, 0, 0, 0, 0, 0, 0, 0, 0, 0, 0, 0, 0, 0, 0, 9, 24, 0, 0, 0, 0, 0, 0, 13, 7, 3, 7, 0, 0, 7, 1, 1, 7, 0, 1, 11, 6, 13, 0, 0, 9, 0, 7, 1, 0, 11, 2, 0, 0, 0, 0, 0, 0, 0, 0, 0, 0, 7, 0, 0, 0, 0, 0, 7, 0, 5, 22, 6, 13, 0, 6, 7, 12, 0, 20, 13, 7, 7, 1, 0, 11, 0, 0, 0, 1, 0, 7, 4, 5, 0, 5, 20, 13, 0, 0, 0, 0, 0, 0, 17, 2, 0, 0, 0, 0, 0, 0, 0, 3, 0, 0, 0, 3, 11, 17, 2, 23, 6, 6, 13, 14, 8, 11, 26, 0, 3, 3, 7, 4, 5, 12, 0, 3, 1, 1, 0, 0, 0, 0, 0, 0, 0, 0, 0, 0, 11, 0, 8, 14, 14, 0, 0, 0, 11, 11, 11, 0, 0, 0, 3, 0, 3, 16, 1, 10, 10, 6, 3, 2, 0, 0, 3, 0, 0, 16, 11, 3, 9, 7, 3, 0, 0, 0, 0, 9, 5, 0, 11, 19, 19, 11, 0, 0, 0, 3, 7, 14, 0, 5, 0, 0, 0, 0, 0, 0, 11, 6, 0, 0, 0, 0, 0, 6, 13, 0, 6, 11, 11, 0, 8, 0, 0, 0, 0, 0, 0, 0, 0, 0, 0, 0, 0, 0, 7, 0, 0, 5, 8, 0, 0, 0, 0, 8, 6, 3, 7, 1, 1, 1, 0, 0, 0, 0, 0, 2, 0, 2, 0, 0, 0, 0, 0, 9, 9, 0, 1, 4, 0, 0, 0, 0, 0, 3, 27, 14, 1, 11, 0, 2, 17, 11, 0, 9, 0, 5, 0, 11, 6, 13, 11, 9, 0, 0, 0, 0, 0, 0, 0, 0, 2, 17, 28, 0, 0, 8, 6, 0, 0, 0, 6, 0, 0, 0, 0, 0, 0, 0, 0, 8, 6, 0, 0, 6, 13, 3, 1, 7, 3, 4, 5, 13, 29, 23, 9, 0, 4, 5, 2, 0, 0, 7, 3, 11, 5, 11, 0, 0, 3, 9, 7, 3, 1, 24, 0, 0, 0, 0, 0, 0, 0, 11, 6, 13, 0, 1, 7, 0, 0, 0, 0, 0, 0, 0, 0, 0, 0, 0, 0, 0, 3, 11, 16, 3, 16, 11, 0, 7, 17, 7, 21, 2, 30, 0, 15, 0, 1, 31, 10, 11, 11, 0, 13, 0, 16, 3, 11, 0, 0, 0, 0, 0, 0, 0, 9, 9, 0, 0, 0, 0, 0, 0, 0, 0, 7, 7, 32, 11, 11, 3, 0, 0, 0, 0, 11, 0, 0, 6, 13, 11, 6, 0, 0, 0, 0, 0, 0, 1, 1, 1, 0, 0, 10, 8, 0, 6, 13, 0, 0, 0, 0, 0, 0, 0, 0, 0, 0, 0, 0, 8, 0, 0, 0, 0, 6, 13, 11, 16, 3, 3, 3, 16, 17, 2, 16, 11, 11, 11, 16, 3, 0, 7, 0, 0, 0, 0, 0, 0, 0, 0, 0, 8, 11, 6, 13, 0, 0, 0, 0, 0, 0, 0, 0, 0, 0, 0, 0, 11, 6, 13, 8, 6, 11, 0, 0, 0, 9, 11, 5, 5, 20, 9, 5, 11, 6, 13, 13, 0, 0, 4, 24, 5, 0, 5, 22, 10, 11, 6, 8, 6, 0, 6, 13, 6, 11, 7, 9, 4, 5, 10, 0, 13, 7, 11, 11, 11, 11, 3, 3, 3, 9, 7, 11, 0, 0, 0, 9, 2, 4, 17, 20, 0, 0, 3, 1, 4, 14, 8, 6, 6, 13, 11, 0, 0, 0, 11, 6, 0, 11, 6, 13, 3, 7, 12, 1, 3, 8, 0, 6, 0, 0, 0, 0, 0, 11, 16, 7, 1, 29, 9, 1, 4, 5, 12, 6, 13, 0, 7, 9, 0, 3, 7, 1, 3, 17, 32, 17, 2, 16, 19, 19, 13, 11, 7, 7, 0, 0, 0, 0, 0, 0, 0, 17, 2, 0, 0, 16, 17, 2, 16, 16, 11, 11, 13, 0, 0, 1, 1, 1, 3, 0, 0, 0, 0, 0, 0, 0, 0, 0, 7, 11, 13, 6, 1, 7, 0, 0, 0, 0, 0, 9, 9, 24, 3, 2, 5, 0, 0, 0, 1, 1, 0, 0, 10, 8, 8, 0, 6, 13, 7, 33, 1, 33, 4, 24, 1, 7, 9, 0, 0, 0, 8, 5, 6, 13, 0, 4, 1, 5, 20, 13, 0, 0, 0, 0, 0, 0, 0, 0, 1, 0, 3, 0, 0, 0, 2, 17, 17, 2, 6, 11, 6, 0, 11, 11, 0, 0, 0, 0, 0, 0, 0, 1, 34, 0, 0, 5, 17, 2, 8, 0, 0, 0, 0, 0, 0, 0, 0, 0, 3, 13, 0, 0, 0, 0, 1, 7, 7, 0, 5, 17, 2, 0, 8, 6, 6, 13, 0, 0, 0, 0, 0, 0, 8, 6, 0, 0, 0, 0, 0, 0, 0, 0, 0, 7, 4, 5, 1, 3, 4, 0, 17, 2, 16, 35, 13, 12, 0, 0, 0, 0, 11, 11, 11, 0, 0, 7, 0, 11, 4, 5, 9, 14, 11, 0, 0, 0, 7, 1, 0, 14, 8, 6, 3, 9, 24, 16, 0, 0, 7, 0, 0, 0, 0, 0, 0, 0, 7, 0, 0, 0, 0, 14, 7, 6, 13, 0, 11, 0, 1, 1, 0, 0, 2, 0, 0, 11, 3, 10, 11, 12, 14, 6, 13, 3, 9, 9, 4, 0, 7, 3, 0, 0, 0, 0, 0, 0, 0, 0, 13, 0, 0, 0, 7, 1, 0, 0, 2, 0, 11, 6, 13, 8, 11, 0, 3, 1, 1, 4, 11, 8, 6, 13, 0, 0, 0, 0, 0, 0, 8, 0, 0, 9, 9, 9, 2, 16, 7, 1, 11, 12, 0, 0, 0, 0, 0, 5, 0, 36, 13, 13, 0, 0, 0, 0, 1, 0, 11, 0, 11, 0, 1, 7, 10, 0, 17, 2, 0, 11, 13, 6, 0, 7, 3, 3, 7, 11, 0, 0, 1, 0, 0, 9, 11, 3, 7, 7, 1, 0, 0, 0, 7, 5, 11, 23, 13, 7, 4, 0, 5, 22, 25, 11, 11, 11, 11, 0, 6, 13, 6, 0, 7, 7, 7, 9, 5, 9, 29, 0, 11, 9, 0, 5, 0, 0, 0, 0, 0, 19, 6, 13, 11, 0, 0, 0, 0, 0, 0, 0, 0, 0, 0, 0, 0, 0, 0, 0, 2, 0, 0, 0, 0, 0, 0, 8, 6, 4, 9, 4, 11, 10, 11, 0, 4, 10, 0, 0, 0, 0, 0, 0, 0, 0, 0, 0, 0, 7, 7, 0, 29, 9, 1, 11, 0, 0, 0, 0, 0, 0, 0, 1, 0, 1, 0, 0, 0, 0, 0, 0, 0, 0, 4, 0, 0, 0, 8, 20, 0, 20, 13, 13, 11, 11, 9, 11, 9, 0, 0, 0, 0, 0, 0, 0, 0, 3, 0, 0, 0, 0, 0, 0, 0, 0, 17, 17, 2, 17, 2, 11, 0, 8, 0, 3, 3, 0, 0, 0, 0, 0, 0, 0, 0, 7, 1, 10, 8, 0, 0, 6, 13, 6, 7, 7, 1, 0, 0, 10, 6, 13, 0, 22, 11, 9, 0, 9, 4, 10, 0, 0, 0, 0, 19, 14, 0, 0, 0, 0, 0, 3, 7, 1, 15, 1, 4, 9, 1, 0, 2, 17, 2, 17, 2, 11, 8, 0, 6, 13, 11, 11, 6, 13, 0, 0, 0, 0, 0, 0, 1, 0, 9, 7, 7, 3, 0, 17, 17, 2, 13, 20, 19, 11, 0, 0, 0, 0, 0, 1, 11, 13, 0, 0, 0, 0, 0, 0, 0, 0, 0, 0, 0, 0, 0, 0, 11, 8, 6, 13, 0, 2, 0, 6, 13, 0, 0, 0, 0, 0, 0, 0, 0, 11, 7, 12, 0, 0, 1, 34, 0, 0, 6, 13, 11, 11, 0, 10, 11, 10, 0, 3, 1, 1, 3, 0, 0, 3, 7, 7, 1, 7, 7, 11, 7, 3, 0, 0, 0, 0, 7, 1, 0, 0, 0, 0, 0, 0, 7, 3, 0, 1, 1, 1, 7, 11, 0, 19, 20, 6, 13, 11, 11, 8, 0, 0, 7, 0, 9, 5, 4, 4, 24, 1, 7, 11, 19, 12, 12, 8, 13, 9, 4, 0, 9, 3, 11, 9, 3, 11, 1, 5, 6, 13, 11, 9, 3, 0, 0, 0, 0, 0, 8, 6, 19, 5, 5, 12, 0, 0, 0, 0, 0, 0, 0, 0, 1, 4, 9, 9, 0, 0, 0, 23, 23, 10, 0, 4, 9, 23, 16, 0, 16, 7, 0, 0, 3, 3, 11, 3, 3, 11, 11, 11, 3, 11, 7, 1, 7, 7, 0, 1, 4, 5, 9, 17, 32, 15, 11, 6, 13, 9, 3, 0, 4, 3, 17, 2, 17, 2, 6, 13, 0, 33, 14, 9, 5, 0, 0, 0, 0, 11, 8, 0, 0, 6, 11, 11, 11, 0, 0, 1, 7, 11, 0, 17, 21, 0, 11, 0, 0, 0, 0, 0, 0, 0, 7, 9, 9, 4, 1, 0, 0, 0, 0, 2, 17, 2, 0, 0, 0, 0, 0, 11, 0, 0, 2, 0, 0, 0, 2, 0, 0, 0, 0, 0, 0, 0, 0, 3, 1, 1, 4, 9, 11, 11, 8, 14, 13, 6, 11, 0, 0, 3, 7, 11, 0, 3, 7, 11, 1, 0, 1, 4, 9, 11, 0, 0, 0, 13, 11, 0, 5, 4, 20, 6, 6, 13, 0, 0, 0, 0, 0, 0, 0, 0, 0, 11, 0, 0, 3, 0, 0, 0, 0, 0, 0, 0, 0, 0, 1, 1, 0, 0, 0, 0, 0, 3, 1, 4, 11, 6, 13, 11, 0, 0, 7, 11, 0, 0, 0, 0, 7, 9, 5, 8, 6, 9, 7, 0, 0, 0, 0, 0, 0, 0, 0, 11, 13, 25, 23, 5, 0, 3, 0, 0, 0, 0, 9, 0, 0, 13, 11, 8, 9, 0, 0, 11, 0, 0, 0, 0, 1, 0, 0, 8, 14, 11, 6, 13, 0, 0, 0, 0, 0, 11, 16, 7, 3, 11, 16, 7, 3, 3, 0, 16, 11, 11, 11, 11, 0, 0, 0, 0, 0, 6, 13, 0, 0, 0, 11, 11, 0, 0, 0, 0, 0, 0, 0, 0, 10, 11, 24, 1, 24, 1, 4, 0, 0, 0, 0, 16, 3, 3, 1, 9, 0, 17, 17, 2, 9, 4, 9, 5, 0, 11, 20, 0, 0, 0, 7, 0, 0, 0, 0, 0, 0, 0, 0, 2, 8, 6, 0, 0, 0, 0, 0, 1, 7, 3, 7, 11, 6, 11, 0, 7, 0, 7, 4, 5, 0, 17, 21, 3, 1, 7, 0, 0, 11, 9, 3, 6, 13, 0, 11, 5, 0, 1, 7, 4, 5, 3, 0, 0, 1, 1, 7, 5, 12, 12, 17, 2, 0, 6, 13, 13, 0, 0, 0, 0, 7, 0, 23, 0, 6, 13, 0, 0, 0, 0, 0, 3, 1, 7, 0, 0, 0, 11, 0, 0, 0, 11, 6, 13, 4, 0, 0, 0, 0, 4, 0, 29, 29, 17, 17, 2, 0, 0, 11, 11, 11, 11, 11, 3, 24, 5, 1, 1, 0, 0, 0, 0, 0, 12, 5, 7, 0, 0, 0, 0, 0, 0, 0, 0, 0, 32, 11, 0, 0, 0, 0, 0, 0, 0, 0, 0, 11, 6, 13, 0, 0, 0, 8, 14, 14, 12, 0, 3, 1, 14, 12, 1, 0, 13, 11, 0, 0, 7, 10, 37, 19, 3, 7, 3, 14, 12, 0, 0, 0, 0, 3, 1, 10, 10, 19, 11, 11, 3, 13, 11, 3, 11, 9, 3, 11, 9, 9, 3, 11, 3, 1, 1, 0, 0, 0, 3, 9, 1, 10, 11, 13, 16, 0, 0, 0, 0, 0, 24, 1, 7, 9, 9, 7, 0, 5, 11, 0, 0, 0, 13, 0, 0, 9, 9, 4, 7, 6, 22, 0, 11, 6, 13, 0, 0, 0, 9, 0, 0, 0, 0, 0, 0, 0, 0, 0, 0, 0, 0, 0, 0, 11, 23, 11, 5, 4, 0, 0, 0, 6, 13, 0, 1, 0, 0, 0, 0, 0, 8, 11, 1, 4, 23, 11, 23, 0, 0, 0, 0, 0, 3, 7, 7, 1, 14, 11, 6, 13, 0, 0, 0, 24, 5, 0, 16, 11, 9, 16, 7, 6, 13, 6, 13, 0, 0, 17, 2, 9, 4, 0, 17, 2, 1, 0, 0, 11, 3, 1, 3, 6, 8, 6, 0, 0, 0, 11, 11, 0, 0, 3, 1, 0, 1, 3, 1, 7, 3, 13, 6, 6, 13, 20, 6, 13, 13, 0, 0, 0, 7, 0, 0, 0, 0, 0, 0, 0, 0, 0, 1, 6, 13, 0, 0, 0, 7, 1, 14, 0, 0, 0, 0, 8, 6, 14, 0, 6, 13, 6, 11, 11, 17, 2, 0, 17, 2, 0, 0, 0, 7, 11, 0, 0, 0, 3, 0, 0, 24, 0, 5, 0, 0, 0, 0, 0, 9, 7, 1, 3, 0, 0, 0, 1, 5, 4, 9, 0, 0, 0, 0, 0, 0, 7, 1, 1, 0, 9, 4, 15, 6, 0, 0, 0, 0, 0, 0, 0, 0, 0, 0, 0, 0, 0, 2, 0, 0, 17, 2, 0, 0, 24, 1, 24, 8, 0, 0, 0, 13, 11, 11, 0, 9, 3, 7, 11, 3, 7, 11, 9, 3, 7, 1, 1, 7, 11, 11, 11, 6, 13, 0, 9, 4, 11, 6, 8, 6, 6, 13, 0, 0, 0, 11, 9, 11, 9, 0, 0, 0, 0, 0, 0, 0, 0, 9, 14, 11, 6, 13, 19, 4, 9, 0, 0, 0, 0, 0, 0, 0, 9, 4, 3, 1, 3, 2, 17, 2, 0, 17, 2, 17, 2, 11, 0, 11, 11, 0, 0, 0, 3, 1, 7, 1, 7, 9, 0, 9, 11, 0, 0, 6, 13, 13, 11, 7, 7, 11, 0, 1, 0, 7, 0, 0, 10, 0, 0, 0, 10, 0, 0, 0, 7, 0, 0, 0, 0, 1, 7, 0, 0, 2, 5, 0, 0, 11, 11, 11, 0, 0, 0, 0, 0, 0, 0, 0, 6, 13, 0, 0, 0, 0, 0, 0, 0, 11, 11, 0, 0, 0, 11, 8, 0, 0, 11, 0, 0, 0, 0, 3, 0, 0, 3, 4, 9, 6, 13, 0, 0, 0, 0, 0, 0, 0, 3, 0, 0, 0, 0, 0, 0, 0, 0, 0, 0, 0, 1, 1, 0, 0, 11, 6, 13, 10, 8, 0, 2, 0, 0, 0, 7, 7, 0, 7, 3, 11, 9, 11, 8, 0, 13, 9, 9, 2, 17, 2, 17, 2, 9, 3, 3, 1, 7, 0, 0, 0, 0, 0, 0, 0, 0, 0, 17, 2, 8, 6, 0, 0, 6, 13, 3, 11, 3, 24, 9, 11, 11, 11, 11, 11, 3, 0, 0, 7, 7, 0, 11, 0, 0, 0, 0, 0, 0, 11, 11, 0, 0, 0, 0, 0, 4, 5, 0, 17, 2, 17, 17, 2, 8, 6, 13, 0, 0, 0, 3, 1, 7, 7, 9, 17, 17, 2, 0, 6, 13, 11, 11, 3, 7, 3, 11, 10, 1, 0, 3, 0, 0, 0, 0, 0, 0, 0, 0, 0, 0, 0, 1, 7, 4, 1, 4, 5, 20, 2, 0, 17, 2, 16, 7, 3, 0, 0, 0, 0, 0, 11, 11, 6, 0, 0, 0, 0, 0, 0, 7, 7, 0, 1, 1, 0, 9, 0, 0, 7, 0, 5, 0, 13, 6, 0, 0, 0, 0, 7, 14, 12, 0, 0, 0, 7, 1, 0, 15, 11, 6, 13, 10, 0, 1, 0, 0, 0, 0, 0, 0, 0, 0, 0, 0, 0, 2, 17, 17, 2, 8, 6, 6, 13, 8, 8, 0, 0, 0, 0, 8, 0, 0, 0, 2, 0, 0, 7, 10, 31, 0, 0, 0, 7, 1, 0, 0, 0, 17, 21, 11, 11, 0, 0, 0, 0, 0, 3, 11, 9, 1, 5, 8, 6, 6, 13, 11, 11, 11, 3, 0, 11, 8, 0, 6, 0, 0, 0, 0, 0, 0, 0, 0, 0, 0, 0, 2, 0, 0, 0, 0, 0, 2, 0, 11, 0, 0, 0, 0, 6, 13, 0, 11, 0, 0, 0, 5, 0, 13, 0, 0, 0, 0, 0, 3, 1, 1, 3, 3, 1, 0, 0, 8, 6, 11, 11, 9, 9, 4, 11, 10, 0, 2, 0, 0, 7, 1, 4, 0, 3, 11, 11, 15, 13, 6, 0, 11, 7, 0, 0, 0, 5, 17, 0, 0, 0, 0, 0, 0, 0, 0, 0, 15, 1, 7, 7, 0, 14, 11, 13, 0, 7, 0, 0, 0, 0, 0, 11, 6, 0, 0, 0, 0, 0, 7, 0, 0, 7, 10, 0, 0, 0, 0, 0, 0, 10, 0, 0, 0, 0, 0, 11, 10, 1, 0, 0, 0, 11, 11, 0, 0, 0, 3, 0, 21, 0, 0, 0, 9, 19, 11, 0, 38, 0, 0, 0, 3, 7, 0, 9, 0, 16, 17, 2, 3, 1, 1, 4, 4, 0, 3, 0, 0, 0, 6, 13, 3, 9, 22, 22, 13, 6, 13, 0, 0, 0, 0, 0, 0, 0, 0, 0, 0, 0, 0, 0, 0, 0, 0, 0, 0, 0, 0, 0, 0, 0, 0, 0, 39, 39, 10, 8, 0, 10, 0, 0, 7, 0, 0, 0, 0, 0, 7, 0, 11, 11, 0, 9, 12, 0, 0, 7, 0, 8, 11, 0, 9, 20, 13, 11, 24, 1, 9, 7, 0, 5, 20, 0, 0, 0, 0, 0, 0, 0, 0, 3, 3, 1, 0, 1, 1, 3, 1, 0, 0, 10, 0, 0, 0, 9, 23, 23, 6, 11, 0, 0, 3, 0, 0, 3, 1, 3, 9, 0, 0, 1, 7, 0, 11, 7, 0, 11, 3, 7, 7, 3, 3, 3, 0, 0, 0, 0, 0, 1, 4, 5, 0, 8, 0, 0, 11, 6, 13, 9, 4, 9, 7, 0, 0, 0, 0, 0, 17, 2, 0, 14, 8, 0, 6, 13, 11, 7, 3, 7, 3, 0, 7, 0, 3, 0, 0, 0, 0, 0, 0, 0, 7, 3, 0, 7, 3, 6, 6, 13, 6, 0, 0, 0, 0, 0, 0, 0, 8, 0, 9, 4, 0, 9, 0, 0, 0, 0, 9, 4, 9, 24, 3, 1, 3, 11, 8, 0, 11, 9, 9, 5, 0, 0, 11, 0, 7, 21, 3, 7, 0, 7, 1, 0, 1, 24, 2, 10, 11, 13, 11, 9, 7, 0, 0, 12, 0, 0, 0, 3, 3, 3, 2, 0, 6, 8, 0, 0, 0, 0, 10, 11, 11, 8, 0, 0, 0, 1, 0, 0, 0, 0, 0, 19, 11, 0, 6, 13, 11, 3, 1, 7, 0, 9, 12, 11, 9, 3, 0, 0, 0, 7, 0, 30, 7, 19, 6, 13, 0, 0, 0, 0, 0, 40, 0, 0, 0, 0, 0, 14, 5, 0, 5, 4, 4, 9, 0, 17, 2, 17, 0, 9, 9, 3, 1, 4, 0, 3, 1, 7, 3, 7, 11, 10, 11, 0, 13, 0, 29, 0, 0, 0, 0, 0, 0, 0, 0, 17, 2, 11, 8, 6, 13, 11, 0, 1, 0, 0, 0, 0, 0, 0, 0, 0, 0, 0, 1, 7, 24, 9, 1, 4, 0, 6, 13, 0, 0, 0, 2, 5, 1, 3, 6, 13, 0, 0, 0, 7, 7, 0, 1, 7, 3, 0, 17, 2, 9, 7, 1, 1, 7, 7, 7, 0, 11, 19, 20, 0, 5, 9, 0, 5, 41, 3, 7, 1, 3, 0, 0, 0, 0, 7, 9, 22, 5, 1, 7, 0, 0, 0, 0, 0, 0, 0, 0, 0, 0, 0, 0, 7, 1, 4, 4, 0, 5, 0, 17, 17, 2, 0, 6, 0, 0, 0, 0, 0, 6, 0, 1, 4, 22, 22, 22, 9, 9, 0, 0, 0, 9, 0, 2, 5, 11, 0, 0, 7, 0, 0, 0, 7, 6, 8, 6, 13, 0, 6, 11, 7, 0, 0, 0, 0, 0, 0, 0, 2, 0, 0, 0, 0, 0, 3, 0, 0, 0, 0, 0, 0, 1, 3, 3, 0, 0, 0, 5, 17, 17, 2, 0, 11, 1, 10, 8, 6, 13, 12, 11, 11, 0, 0, 0, 0, 0, 8, 6, 0, 0, 16, 7, 3, 1, 7, 17, 2, 9, 7, 20, 13, 7, 21, 21, 7, 0, 0, 11, 6, 11, 13, 7, 4, 9, 0, 12, 0, 11, 6, 13, 20, 8, 6, 11, 3, 1, 24, 4, 0, 0, 0, 0, 0, 0, 0, 0, 11, 3, 0, 0, 0, 0, 0, 0, 0, 0, 0, 0, 0, 0, 0, 5, 0, 0, 0, 0, 0, 10, 0, 7, 0, 0, 7, 3, 3, 7, 19, 19, 12, 1, 0, 0, 0, 0, 0, 11, 0, 0, 11, 31, 17, 2, 17, 0, 0, 0, 3, 0, 1, 0, 9, 0, 5, 11, 11, 11, 7, 3, 11, 9, 11, 0, 11, 11, 11, 6, 11, 3, 1, 7, 0, 0, 0, 10, 1, 23, 11, 7, 1, 1, 0, 1, 7, 3, 9, 9, 29, 5, 9, 12, 7, 12, 6, 13, 7, 1, 0, 0, 10, 6, 13, 0, 0, 3, 1, 4, 7, 3, 0, 0, 7, 0, 7, 24, 0, 14, 20, 0, 11, 0, 11, 0, 19, 20, 20, 0, 0, 20, 0, 3, 7, 1, 0, 0, 11, 8, 6, 13, 11, 11, 0, 3, 0, 0, 1, 10, 11, 12, 19, 0, 0, 0, 0, 0, 17, 2, 17, 2, 0, 15, 3, 11, 3, 0, 7, 10, 6, 0, 0, 0, 0, 0, 0, 0, 0, 0, 7, 13, 0, 42, 13, 0, 0, 0, 0, 2, 0, 11, 13, 0, 6, 0, 6, 8, 0, 0, 0, 0, 0, 1, 1, 0, 0, 0, 0, 0, 8, 0, 6, 13, 0, 0, 1, 9, 3, 23, 9, 23, 6, 23, 6, 0, 0, 0, 7, 1, 3, 0, 3, 9, 1, 4, 0, 7, 1, 3, 0, 0, 0, 0, 0, 0, 0, 0, 0, 0, 3, 1, 24, 24, 1, 0, 7, 5, 4, 0, 11, 11, 11, 0, 13, 0, 0, 0, 0, 0, 0, 0, 0, 0, 0, 3, 7, 3, 1, 1, 4, 5, 12, 3, 0, 11, 16, 0, 3, 0, 0, 0, 0, 1, 0, 8, 0, 0, 0, 0, 0, 0, 0, 0, 0, 0, 5, 12, 12, 11, 0, 0, 0, 0, 0, 0, 0, 0, 0, 0, 0, 0, 1, 5, 6, 13, 0, 0, 0, 0, 0, 0, 0, 3, 11, 0, 0, 0, 0, 0, 0, 0, 9, 4, 0, 0, 1, 7, 0, 14, 5, 12, 0, 0, 0, 6, 13, 11, 0, 0, 0, 0, 0, 9, 11, 11, 0, 0, 11, 11, 3, 3, 1, 1, 0, 0, 7, 1, 0, 3, 0, 6, 0, 6, 13, 0, 2, 17, 9, 3, 5, 1, 4, 8, 0, 8, 6, 23, 24, 11, 3, 3, 11, 11, 3, 11, 11, 0, 8, 11, 3, 1, 4, 9, 3, 3, 0, 0, 9, 4, 0, 11, 3, 0, 0, 0, 0, 0, 0, 11, 8, 6, 13, 0, 0, 0, 0, 0, 0, 0, 0, 0, 0, 0, 3, 9, 11, 0, 0, 0, 0, 0, 3, 1, 1, 4, 0, 0, 9, 5, 5, 2, 23, 11, 11, 0, 0, 0, 0, 1, 7, 5, 0, 17, 2, 17, 2, 17, 17, 2, 11, 26, 6, 11, 11, 0, 0, 0, 0, 0, 0, 0, 0, 8, 11, 8, 0, 6, 13, 11, 11, 11, 1, 7, 7, 12, 7, 5, 12, 0, 0, 14, 0, 0, 0, 0, 0, 0, 0, 11, 10, 0, 0, 6, 13, 7, 3, 3, 0, 0, 0, 0, 0, 5, 22, 0, 0, 0, 0, 10, 14, 0, 11, 0, 0, 0, 0, 0, 3, 0, 1, 0, 0, 0, 12, 5, 4, 11, 8, 6, 13, 11, 1, 3, 0, 5, 17, 2, 0, 0, 0, 0, 0, 0, 0, 0, 0, 0, 5, 12, 0, 12, 11, 11, 0, 0, 0, 6, 13, 13, 0, 0, 0, 0, 0, 0, 0, 7, 7, 0, 0, 0, 0, 11, 19, 6, 42, 0, 3, 0, 1, 11, 0, 13, 0, 6, 13, 11, 11, 0, 0, 0, 0, 5, 14, 0, 0, 0, 0, 12, 9, 12, 9, 14, 0, 0, 0, 0, 7, 0, 0, 0, 0, 9, 24, 1, 0, 19, 20, 6, 13, 0, 3, 0, 0, 2, 17, 0, 17, 17, 2, 17, 32, 16, 7, 0, 7, 12, 12, 12, 0, 13, 0, 0, 0, 0, 0, 0, 5, 0, 11, 6, 13, 11, 0, 0, 0, 0, 7, 11, 3, 12, 0, 0, 0, 9, 1, 3, 11, 8, 0, 11, 6, 0, 0, 0, 0, 8, 0, 0, 0, 0, 3, 7, 3, 7, 0, 3, 1, 0, 3, 0, 7, 0, 7, 3, 1, 3, 3, 0, 0, 0, 11, 9, 4, 11, 24, 1, 3, 24, 1, 3, 0, 8, 0, 6, 13, 0, 9, 11, 4, 1, 3, 0, 0, 0, 0, 0, 0, 0, 0, 0, 11, 8, 6, 0, 0, 6, 13, 13, 0, 11, 7, 3, 1, 7, 14, 12, 13, 0, 6, 0, 0, 0, 0, 0, 0, 0, 0, 0, 0, 0, 7, 11, 0, 9, 7, 0, 0, 3, 1, 5, 17, 2, 17, 2, 0, 6, 13, 11, 8, 0, 0, 1, 7, 6, 13, 0, 0, 0, 0, 2, 0, 0, 0, 0, 0, 0, 0, 0, 0, 0, 0, 0, 3, 7, 4, 0, 0, 0, 0, 0, 0, 0, 0, 0, 7, 1, 4, 9, 1, 7, 0, 17, 2, 5, 6, 13, 6, 13, 0, 0, 0, 0, 0, 0, 0, 0, 11, 10, 19, 6, 6, 13, 0, 0, 0, 0, 0, 0, 8, 6, 13, 0, 3, 12, 11, 3, 0, 0, 0, 0, 8, 8, 0, 0, 0, 0, 0, 0, 0, 0, 0, 11, 5, 8, 0, 20, 0, 0, 0, 0, 5, 0, 0, 0, 0, 0, 0, 0, 0, 0, 13, 6, 6, 11, 7, 11, 3, 9, 3, 11, 7, 1, 10, 0, 0, 0, 10, 0, 0, 0, 8, 0, 0, 0, 6, 13, 6, 0, 0, 9, 0, 0, 0, 13, 1, 7, 3, 0, 0, 0, 0, 9, 7, 0, 0, 0, 0, 0, 0, 0, 0, 11, 0, 0, 0, 0, 0, 0, 11, 1, 7, 0, 0, 5, 0, 0, 3, 11, 3, 1, 0, 4, 14, 8, 8, 6, 20, 0, 12, 12, 11, 43, 2, 0, 3, 1, 7, 0, 1, 3, 0, 3, 16, 7, 11, 11, 6, 0, 7, 3, 11, 12, 7, 3, 11, 12, 31, 0, 8, 6, 8, 8, 2, 0, 17, 2, 0, 17, 2, 0, 0, 0, 0, 0, 3, 1, 1, 0, 11, 8, 6, 0, 0, 6, 13, 6, 11, 11, 3, 0, 0, 0, 0, 0, 1, 3, 0, 4, 11, 0, 0, 6, 6, 13, 13, 0, 0, 0, 0, 11, 0, 0, 0, 8, 8, 0, 0, 7, 9, 3, 0, 9, 3, 4, 3, 0, 0, 1, 0, 4, 9, 1, 7, 4, 0, 0, 23, 0, 13, 9, 6, 13, 12, 0, 13, 7, 0, 2, 5, 17, 2, 7, 11, 0, 0, 0, 0, 9, 4, 6, 13, 0, 7, 0, 23, 4, 0, 0, 0, 7, 7, 0, 6, 13, 13, 0, 6, 0, 0, 0, 0, 0, 0, 0, 0, 0, 0, 0, 9, 5, 17, 0, 0, 0, 8, 6, 0, 7, 3, 3, 7, 0, 0, 0, 17, 2, 17, 2, 11, 6, 6, 13, 11, 3, 11, 0, 0, 0, 0, 9, 7, 9, 7, 0, 0, 5, 2, 11, 0, 0, 11, 13, 0, 0, 0, 1, 3, 23, 11, 1, 0, 0, 0, 8, 6, 0, 0, 0, 0, 0, 0, 0, 0, 2, 0, 7, 6, 6, 13, 0, 0, 7, 11, 0, 7, 3, 3, 3, 0, 0, 0, 3, 11, 11, 0, 0, 0, 7, 3, 44, 0, 0, 3, 1, 14, 12, 7, 6, 0, 0, 0, 0, 0, 0, 0, 0, 0, 0, 0, 0, 0, 0, 0, 0, 0, 0, 1, 0, 0, 0, 0, 0, 3, 11, 3, 11, 0, 1, 1, 14, 3, 1, 4, 5, 11, 11, 19, 12, 0, 6, 13, 3, 11, 7, 0, 3, 7, 0, 0, 0, 0, 3, 0, 6, 13, 0, 0, 0, 3, 3, 1, 4, 0, 2, 17, 0, 0, 16, 11, 23, 6, 6, 13, 0, 11, 19, 0, 0, 0, 0, 0, 0, 0, 12, 9, 0, 12, 5, 0, 0, 11, 42, 42, 13, 0, 0, 7, 9, 9, 7, 0, 0, 0, 7, 20, 0, 17, 21, 17, 21, 8, 6, 6, 0, 6, 13, 20, 11, 11, 11, 0, 0, 0, 0, 0, 0, 0, 0, 0, 0, 0, 11, 0, 0, 7, 1, 4, 4, 5, 11, 8, 25, 0, 6, 13, 11, 0, 0, 11, 19, 0, 6, 13, 0, 14, 0, 6, 16, 31, 32, 30, 9, 5, 4, 7, 1, 5, 8, 11, 1, 0, 3, 11, 9, 11, 0, 0, 0, 0, 0, 0, 0, 0, 0, 7, 0, 0, 0, 5, 0, 24, 3, 3, 0, 4, 3, 0, 11, 0, 11, 6, 13, 0, 0, 0, 3, 1, 7, 10, 0, 3, 0, 0, 8, 0, 13, 0, 0, 0, 0, 0, 0, 0, 1, 4, 0, 0, 2, 0, 0, 0, 0, 1, 1, 1, 13, 22, 4, 1, 10, 11, 0, 11, 15, 10, 11, 7, 3, 0, 7, 3, 0, 0, 11, 6, 11, 11, 11, 0, 0, 3, 3, 0, 0, 3, 7, 3, 9, 5, 9, 17, 17, 2, 9, 11, 8, 0, 0, 13, 6, 3, 9, 11, 9, 4, 0, 6, 13, 0, 0, 0, 0, 0, 0, 0, 0, 0, 0, 17, 2, 0, 8, 6, 13, 0, 8, 3, 12, 7, 12, 0, 0, 11, 0, 0, 0, 11, 0, 0, 11, 6, 13, 11, 0, 4, 12, 0, 0, 0, 0, 0, 0, 0, 0, 0, 0, 17, 2, 44, 15, 11, 44, 12, 0, 0, 0, 11, 11, 8, 11, 11, 6, 13, 11, 0, 0, 0, 0, 0, 0, 0, 0, 0, 0, 0, 0, 3, 3, 9, 9, 4, 5, 5, 7, 10, 11, 0, 0, 0, 0, 0, 0, 3, 7, 1, 3, 0, 0, 0, 0, 9, 4, 23, 24, 1, 7, 16, 7, 12, 0, 0, 0, 0, 2, 7, 3, 1, 0, 0, 7, 5, 5, 14, 12, 0, 0, 6, 9, 0, 0, 0, 0, 7, 7, 0, 3, 11, 0, 13, 6, 10, 15, 8, 6, 0, 0, 6, 13, 11, 11, 0, 0, 0, 0, 0, 3, 0, 1, 7, 0, 4, 0, 0, 0, 0, 0, 0, 0, 0, 22, 22, 19, 0, 0, 6, 0, 0, 11, 6, 8, 0, 0, 0, 0, 3, 7, 1, 4, 0, 17, 2, 23, 6, 8, 0, 0, 6, 13, 11, 11, 0, 0, 0, 9, 4, 11, 0, 7, 0, 0, 7, 0, 4, 4, 9, 11, 6, 13, 0, 0, 6, 13, 11, 0, 0, 0, 0, 0, 0, 5, 4, 12, 8, 6, 13, 0, 1, 9, 4, 11, 7, 3, 1, 4, 4, 5, 20, 14, 19, 0, 0, 6, 13, 0, 11, 37, 37, 0, 0, 0, 0, 0, 0, 0, 7, 13, 6, 13, 0, 0, 0, 0, 10, 7, 0, 15, 15, 6, 13, 0, 6, 11, 37, 37, 0, 8, 0, 0, 0, 0, 0, 0, 0, 3, 1, 3, 1, 0, 0, 0, 5, 0, 17, 2, 6, 0, 0, 0, 0, 0, 0, 0, 7, 1, 7, 19, 11, 0, 0, 11, 7, 11, 7, 11, 8, 6, 0, 0, 0, 0, 0, 11, 0, 0, 0, 0, 7, 1, 0, 0, 0, 0, 0, 0, 7, 1, 4, 7, 17, 32, 0, 0, 0, 0, 0, 0, 0, 0, 0, 0, 0, 0, 0, 11, 6, 13, 11, 9, 0, 0, 0, 7, 1, 10, 10, 11, 6, 6, 13, 0, 0, 0, 17, 2, 17, 2, 11, 0, 0, 0, 0, 0, 0, 0, 3, 3, 1, 7, 4, 0, 5, 12, 11, 0, 20, 13, 6, 11, 11, 0, 7, 0, 0, 0, 0, 0, 0, 0, 0, 0, 6, 13, 3, 1, 4, 9, 7, 24, 4, 17, 2, 17, 2, 16, 9, 3, 11, 11, 0, 0, 0, 0, 0, 0, 11, 19, 9, 4, 11, 8, 7, 1, 4, 9, 7, 10, 20, 13, 11, 11, 0, 3, 3, 0, 0, 3, 16, 3, 1, 4, 5, 22, 17, 17, 2, 1, 0, 1, 17, 0, 0, 0, 0, 0, 0, 7, 0, 0, 0, 0, 0, 0, 1, 0, 1, 1, 4, 0, 0, 0, 0, 2, 5, 0, 2, 17, 19, 6, 6, 6, 11, 0, 0, 0, 0, 0, 9, 5, 11, 6, 13, 11, 11, 11, 6, 13, 0, 0, 0, 0, 7, 3, 3, 7, 3, 1, 7, 3, 0, 5, 7, 7, 7, 14, 8, 0, 0, 9, 4, 0, 0, 0, 0, 0, 0, 0, 0, 0, 0, 0, 0, 0, 7, 3, 6, 13, 6, 13, 0, 5, 2, 0, 0, 0, 9, 0, 0, 0, 0, 0, 0, 0, 0, 9, 4, 5, 0, 0, 0, 9, 9, 5, 0, 5, 9, 8, 5, 0, 0, 11, 11, 9, 11, 9, 11, 13, 11, 9, 4, 22, 13, 19, 5, 12, 0, 6, 21, 7, 11, 1, 0, 0, 0, 0, 0, 0, 0, 1, 1, 1, 4, 0, 6, 8, 6, 0, 11, 0, 0, 0, 0, 0, 0, 0, 0, 0, 0, 11, 11, 8, 6, 0, 0, 0, 0, 6, 13, 6, 0, 8, 11, 11, 11, 6, 19, 19, 6, 0, 0, 0, 8, 11, 0, 0, 0, 0, 0, 0, 0, 0, 0, 0, 0, 0, 0, 0, 8, 0, 0, 0, 0, 0, 1, 7, 0, 5, 5, 17, 17, 2, 0, 8, 0, 0, 14, 6, 0, 8, 6, 13, 11, 0, 0, 0, 0, 1, 22, 17, 2, 0, 19, 6, 6, 13, 6, 0, 0, 0, 0, 0, 4, 1, 0, 8, 6, 0, 11, 7, 10, 6, 20, 0, 0, 11, 0, 0, 0, 0, 0, 0, 0, 3, 6, 8, 0, 0, 0, 0, 8, 0, 7, 1, 1, 4, 4, 0, 7, 11, 9, 7, 11, 9, 0, 7, 0, 8, 0, 0, 0, 0, 3, 3, 0, 0, 11, 0, 0, 0, 7, 10, 11, 11, 11, 0, 0, 0, 0, 0, 0, 0, 0, 0, 0, 0, 0, 7, 7, 7, 11, 0, 7, 0, 0, 11, 11, 10, 14, 5, 11, 3, 9, 7, 0, 0, 0, 0, 0, 0, 1, 7, 6, 11, 0, 0, 0, 0, 0, 0, 0, 0, 0, 0, 0, 6, 13, 11, 0, 11, 9, 0, 11, 6, 13, 11, 7, 1, 1, 4, 9, 9, 0, 0, 0, 0, 0, 0, 0, 0, 0, 0, 9, 0, 6, 8, 6, 0, 0, 13, 26, 2, 9, 11, 7, 7, 9, 5, 11, 0, 0, 0, 0, 0, 0, 7, 3, 3, 7, 7, 4, 11, 8, 6, 12, 13, 11, 11, 0, 7, 0, 0, 0, 1, 4, 9, 0, 17, 2, 0, 7, 16, 16, 0, 0, 0, 0, 0, 0, 0, 12, 0, 0, 11, 6, 13, 11, 0, 17, 17, 2, 0, 0, 11, 0, 0, 0, 0, 0, 1, 0, 3, 1, 0, 17, 2, 17, 17, 2, 29, 29, 17, 2, 30, 11, 11, 11, 8, 8, 11, 8, 14, 0, 1, 9, 7, 9, 8, 6, 13, 20, 7, 1, 0, 0, 0, 0, 1, 24, 9, 7, 0, 6, 13, 0, 0, 0, 11, 19, 12, 0, 0, 0, 0, 0, 0, 0, 0, 0, 0, 0, 0, 7, 29, 24, 17, 2, 31, 6, 13, 10, 11, 3, 1, 3, 1, 3, 24, 9, 0, 0, 0, 16, 3, 0, 3, 16, 3, 16, 0, 3, 16, 2, 0, 0, 9, 4, 1, 3, 0, 17, 17, 2, 3, 16, 0, 1, 1, 10, 10, 11, 11, 11, 8, 0, 6, 13, 6, 0, 0, 0, 0, 0, 0, 0, 0, 0, 0, 7, 3, 7, 3, 0, 1, 7, 7, 0, 0, 0, 0, 0, 5, 0, 17, 17, 2, 11, 6, 6, 13, 0, 0, 0, 0, 0, 0, 11, 8, 6, 7, 5, 22, 1, 7, 3, 0, 0, 17, 2, 29, 11, 0, 0, 0, 0, 1, 32, 32, 2, 21, 5, 11, 0, 0, 11, 8, 9, 11, 23, 9, 0, 0, 0, 0, 0, 6, 13, 11, 0, 0, 0, 0, 5, 0, 0, 9, 5, 5, 20, 0, 0, 0, 9, 0, 0, 0, 0, 0, 11, 0, 14, 0, 0, 0, 11, 9, 0, 0, 0, 0, 0, 7, 1, 0, 9, 11, 0, 9, 11, 4, 8, 11, 13, 4, 9, 1, 0, 0, 2, 3, 7, 11, 7, 1, 1, 11, 8, 14, 14, 0, 0, 0, 0, 6, 13, 8, 0, 0, 0, 0, 0, 11, 7, 7, 24, 1, 4, 5, 27, 11, 8, 6, 13, 11, 11, 11, 7, 3, 1, 9, 4, 7, 11, 6, 13, 3, 3, 3, 11, 6, 13, 0, 11, 0, 11, 11, 11, 0, 1, 3, 7, 7, 1, 1, 24, 4, 0, 5, 0, 17, 17, 2, 3, 4, 0, 3, 0, 0, 0, 0, 0, 0, 3, 3, 1, 7, 7, 0, 0, 0, 11, 11, 3, 0, 0, 2, 6, 13, 0, 0, 0, 0, 0, 0, 0, 0, 11, 0, 0, 0, 0, 3, 7, 1, 7, 0, 0, 0, 0, 7, 1, 10, 11, 11, 15, 14, 0, 4, 5, 14, 12, 0, 0, 8, 6, 0, 0, 0, 0, 0, 0, 11, 0, 0, 0, 0, 0, 0, 6, 11, 11, 7, 1, 0, 0, 0, 3, 11, 19, 6, 6, 13, 5, 17, 2, 11, 9, 3, 0, 0, 0, 0, 0, 11, 11, 0, 0, 0, 0, 5, 22, 9, 0, 3, 1, 7, 0, 0, 0, 0, 0, 0, 0, 0, 0, 0, 16, 9, 1, 24, 0, 0, 6, 6, 13, 11, 17, 17, 2, 17, 17, 9, 1, 0, 1, 0, 14, 0, 3, 1, 7, 0, 2, 0, 12, 12, 0, 0, 11, 11, 0, 0, 0, 0, 0, 0, 1, 5, 4, 0, 0, 0, 0, 0, 0, 11, 6, 13, 6, 11, 0, 0, 0, 13, 19, 10, 12, 0, 0, 0, 0, 0, 0, 0, 0, 0, 0, 0, 0, 0, 0, 0, 8, 0, 0, 1, 1, 0, 1, 0, 1, 0, 3, 3, 3, 9, 4, 10, 14, 10, 14, 12, 11, 9, 9, 4, 1, 27, 1, 32, 9, 1, 3, 0, 0, 0, 0, 0, 0, 0, 0, 0, 0, 0, 17, 2, 9, 0, 11, 8, 0, 6, 13, 0, 0, 0, 0, 3, 1, 10, 10, 6, 13, 1, 11, 10, 11, 0, 0, 0, 0, 0, 0, 0, 0, 0, 0, 0, 0, 3, 9, 12, 3, 1, 7, 1, 11, 1, 9, 24, 24, 5, 12, 11, 12, 6, 13, 0, 0, 0, 0, 0, 0, 0, 11, 0, 11, 0, 0, 0, 9, 5, 0, 11, 8, 13, 0, 0, 0, 6, 13, 23, 15, 11, 0, 2, 0, 5, 0, 2, 29, 0, 0, 24, 0, 7, 3, 32, 7, 0, 14, 3, 3, 1, 3, 4, 9, 32, 0, 17, 2, 0, 0, 9, 9, 9, 11, 0, 7, 0, 0, 0, 0, 7, 9, 11, 11, 3, 1, 7, 3, 0, 0, 13, 6, 0, 12, 0, 0, 0, 0, 0, 0, 0, 0, 0, 0, 0, 0, 0, 0, 7, 4, 9, 0, 0, 0, 0, 0, 0, 0, 0, 0, 0, 0, 0, 0, 3, 11, 1, 1, 7, 11, 6, 11, 0, 6, 0, 0, 9, 4, 1, 3, 4, 0, 0, 0, 0, 0, 0, 0, 0, 0, 0, 0, 0, 0, 2, 0, 9, 7, 17, 2, 11, 0, 0, 0, 7, 0, 0, 11, 0, 0, 0, 0, 0, 0, 0, 0, 7, 3, 1, 3, 9, 0, 8, 11, 13, 0, 0, 9, 10, 8, 6, 0, 13, 6, 11, 0, 2, 1, 7, 9, 9, 0, 6, 6, 13, 0, 0, 7, 1, 7, 9, 0, 7, 11, 8, 6, 13, 11, 11, 0, 0, 8, 0, 6, 13, 5, 0, 0, 7, 0, 14, 11, 10, 6, 6, 13, 11, 0, 0, 0, 0, 0, 0, 0, 3, 4, 11, 6, 0, 0, 12, 3, 0, 0, 0, 0, 0, 0, 0, 3, 0, 5, 5, 11, 0, 0, 7, 9, 7, 9, 0, 24, 9, 9, 6, 13, 0, 0, 0, 0, 6, 36, 13, 0, 0, 6, 13, 0, 6, 0, 0, 0, 0, 0, 0, 0, 0, 0, 0, 0, 0, 0, 0, 3, 7, 4, 9, 4, 17, 2, 17, 17, 2, 11, 0, 0, 13, 0, 0, 0, 0, 0, 0, 0, 0, 0, 0, 0, 0, 0, 4, 5, 23, 0, 13, 13, 11, 23, 1, 4, 23, 23, 11, 17, 16, 11, 7, 11, 11, 0, 11, 11, 11, 14, 10, 0, 11, 0, 0, 3, 0, 3, 1, 7, 0, 3, 17, 2, 17, 2, 0, 0, 2, 0, 0, 20, 0, 11, 6, 13, 13, 0, 3, 11, 11, 6, 3, 24, 1, 0, 0, 2, 11, 6, 13, 6, 11, 11, 0, 0, 3, 3, 0, 1, 2, 0, 0, 0, 0, 9, 1, 1, 2, 17, 17, 2, 4, 2, 11, 6, 8, 6, 0, 0, 0, 0, 0, 6, 13, 11, 11, 0, 0, 0, 3, 1, 0, 0, 11, 0, 6, 13, 0, 0, 11, 0, 0, 0, 9, 4, 17, 2, 5, 5, 4, 0, 0, 0, 0, 0, 0, 0, 0, 7, 7, 13, 6, 6, 13, 0, 0, 0, 0, 0, 11, 6, 13, 0, 13, 0, 0, 0, 0, 0, 0, 11, 8, 6, 13, 11, 0, 6, 0, 0, 0, 0, 0, 0, 7, 3, 0, 0, 0, 0, 0, 0, 0, 0, 3, 0, 4, 0, 0, 0, 0, 0, 0, 0, 0, 0, 0, 4, 9, 3, 3, 11, 6, 13, 11, 3, 7, 11, 3, 7, 11, 0, 0, 0, 0, 0, 10, 15, 0, 0, 8, 6, 0, 0, 0, 0, 3, 9, 9, 7, 3, 1, 7, 10, 11, 11, 0, 0, 0, 0, 0, 7, 3, 7, 3, 0, 0, 7, 11, 0, 7, 11, 0, 10, 0, 0, 7, 0, 0, 0, 0, 0, 0, 0, 0, 5, 20, 11, 8, 0, 0, 2, 21, 0, 32, 0, 0, 9, 11, 3, 0, 0, 0, 10, 0, 0, 0, 0, 0, 0, 0, 7, 0, 13, 6, 0, 7, 7, 1, 7, 6, 11, 6, 13, 11, 0, 0, 0, 7, 0, 7, 0, 1, 7, 6, 13, 13, 11, 0, 1, 0, 0, 7, 0, 2, 0, 14, 6, 13, 7, 3, 9, 0, 0, 0, 0, 0, 0, 0, 0, 5, 26, 0, 0, 0, 0, 6, 13, 11, 11, 7, 7, 0, 0, 0, 0, 0, 0, 3, 24, 9, 9, 23, 8, 11, 19, 0, 0, 3, 7, 12, 11, 7, 12, 3, 11, 0, 0, 0, 0, 7, 1, 5, 19, 12, 11, 10, 0, 0, 0, 0, 3, 3, 3, 1, 4, 9, 3, 16, 0, 7, 3, 1, 0, 4, 9, 0, 6, 0, 0, 6, 13, 0, 0, 0, 0, 0, 0, 0, 0, 0, 0, 0, 3, 0, 0, 0, 0, 0, 0, 2, 0, 0, 11, 7, 1, 3, 9, 0, 6, 22, 17, 2, 17, 0, 0, 7, 9, 11, 11, 11, 0, 0, 0, 0, 0, 0, 0, 0, 0, 2, 0, 0, 0, 0, 0, 0, 0, 0, 0, 0, 0, 0, 0, 2, 0, 0, 0, 0, 0, 0, 0, 0, 11, 8, 0, 0, 0, 0, 0, 0, 0, 0, 0, 0, 0, 3, 7, 3, 1, 0, 0, 0, 0, 2, 0, 8, 0, 0, 0, 0, 11, 0, 3, 12, 3, 3, 0, 0, 0, 0, 0, 8, 11, 0, 6, 13, 0, 0, 0, 0, 0, 0, 0, 0, 9, 9, 0, 5, 11, 11, 7, 3, 3, 10, 4, 11, 9, 0, 0, 3, 1, 11, 8, 6, 6, 13, 0, 0, 8, 8, 11, 5, 12, 12, 0, 0, 0, 0, 0, 0, 0, 7, 0, 0, 0, 0, 24, 1, 24, 24, 11, 9, 7, 0, 1, 0, 7, 9, 5, 5, 6, 13, 8, 6, 13, 0, 0, 3, 27, 1, 27, 1, 1, 4, 1, 9, 0, 0, 3, 0, 0, 5, 5, 0, 8, 11, 9, 7, 9, 7, 3, 3, 1, 1, 0, 6, 0, 0, 6, 13, 11, 0, 0, 0, 0, 0, 0, 0, 0, 7, 7, 11, 6, 13, 3, 0, 7, 0, 0, 0, 11, 0, 0, 0, 0, 0, 0, 0, 0, 1, 7, 38, 2, 0, 5, 8, 6, 0, 13, 0, 7, 0, 0, 0, 0, 0, 0, 0, 0, 0, 0, 3, 1, 11, 19, 20, 0, 0, 0, 11, 0, 0, 11, 31, 17, 2, 17, 2, 0, 0, 0, 0, 0, 1, 1, 7, 0, 0, 4, 9, 17, 6, 13, 0, 7, 0, 3, 0, 5, 20, 9, 0, 6, 13, 0, 11, 0, 0, 0, 0, 0, 0, 0, 5, 12, 0, 0, 0, 0, 0, 0, 0, 0, 17, 2, 0, 8, 0, 0, 6, 13, 11, 8, 21, 10, 11, 11, 7, 9, 0, 1, 0, 3, 0, 3, 0, 8, 0, 0, 0, 12, 19, 0, 0, 0, 0, 0, 0, 0, 0, 0, 11, 6, 11, 6, 0, 7, 0, 24, 0, 0, 0, 7, 0, 0, 0, 0, 0, 7, 11, 1, 11, 0, 1, 0, 24, 9, 0, 0, 0, 0, 0, 0, 5, 22, 22, 0, 11, 11, 19, 6, 13, 20, 23, 0, 1, 24, 1, 24, 1, 9, 24, 9, 7, 9, 0, 0, 0, 0, 23, 0, 0, 0, 0, 0, 7, 0, 0, 0, 0, 0, 7, 1, 4, 11, 0, 0, 0, 0, 11, 10, 7, 22, 13, 24, 9, 0, 0, 11, 0, 7, 1, 1, 32, 5, 9, 10, 6, 13, 6, 7, 11, 14, 11, 0, 0, 1, 1, 4, 1, 9, 4, 4, 9, 5, 20, 22, 0, 17, 2, 17, 2, 5, 23, 6, 0, 6, 13, 11, 11, 0, 0, 11, 13, 6, 21, 0, 1, 14, 1, 7, 14, 0, 0, 0, 0, 9, 0, 0, 0, 5, 8, 6, 0, 0, 6, 13, 0, 7, 2, 45, 7, 12, 14, 0, 0, 7, 1, 1, 0, 11, 7, 0, 0, 32, 9, 0, 11, 9, 7, 1, 24, 1, 1, 4, 9, 0, 0, 7, 4, 1, 9, 5, 0, 0, 19, 11, 0, 6, 0, 11, 13, 6, 13, 0, 0, 8, 0, 9, 4, 1, 3, 3, 2, 0, 2, 46, 0, 13, 0, 11, 11, 8, 5, 11, 3, 7, 0, 0, 0, 11, 11, 11, 0, 0, 0, 0, 0, 9, 3, 1, 24, 9, 6, 6, 13, 0, 0, 2, 0, 3, 7, 7, 0, 0, 6, 8, 0, 0, 0, 7, 7, 4, 47, 4, 48, 0, 0, 0, 0, 0, 0, 0, 0, 0, 0, 2, 8, 8, 0, 13, 11, 0, 0, 0, 0, 8, 0, 0, 0, 0, 0, 0, 0, 0, 0, 0, 0, 0, 11, 6, 13, 0, 24, 1, 4, 6, 13, 11, 11, 9, 0, 0, 0, 0, 0, 3, 7, 3, 7, 1, 1, 3, 11, 0, 11, 0, 0, 7, 1, 11, 0, 0, 0, 0, 0, 0, 0, 0, 0, 0, 0, 0, 0, 0, 0, 0, 7, 0, 3, 3, 1, 0, 0, 0, 0, 0, 2, 3, 7, 7, 3, 0, 0, 0, 0, 0, 0, 0, 0, 0, 0, 0, 7, 1, 0, 15, 0, 2, 0, 0, 0, 0, 3, 1, 3, 15, 11, 6, 13, 23, 10, 1, 0, 0, 0, 9, 7, 9, 7, 3, 3, 11, 0, 0, 0, 0, 0, 0, 0, 1, 7, 0, 11, 7, 11, 3, 7, 3, 1, 0, 4, 11, 8, 0, 11, 0, 0, 0, 0, 0, 0, 0, 9, 5, 7, 1, 1, 1, 4, 0, 0, 9, 9, 4, 3, 1, 4, 5, 49, 12, 12, 11, 11, 19, 6, 13, 0, 3, 7, 3, 1, 0, 0, 0, 0, 4, 9, 0, 0, 0, 0, 0, 0, 2, 0, 7, 0, 7, 1, 1, 7, 0, 0, 6, 0, 7, 9, 9, 4, 24, 9, 0, 11, 0, 6, 0, 0, 6, 13, 0, 4, 0, 6, 0, 0, 0, 6, 13, 7, 0, 0, 0, 0, 10, 8, 0, 11, 0, 0, 0, 0, 10, 13, 12, 7, 3, 13, 12, 7, 3, 1, 4, 4, 9, 5, 2, 2, 5, 13, 0, 0, 13, 0, 0, 32, 7, 0, 0, 1, 21, 2, 5, 12, 0, 0, 0, 0, 17, 2, 6, 13, 0, 1, 1, 1, 4, 0, 3, 11, 0, 0, 3, 3, 1, 24, 7, 0, 11, 19, 17, 30, 0, 7, 1, 1, 3, 0, 0, 11, 0, 6, 13, 13, 0, 0, 0, 9, 11, 0, 0, 0, 0, 0, 0, 0, 0, 9, 0, 0, 0, 0, 0, 0, 11, 0, 0, 0, 0, 8, 0, 0, 0, 7, 7, 0, 0, 7, 0, 7, 3, 1, 1, 7, 10, 0, 10, 6, 13, 0, 6, 11, 8, 6, 0, 0, 2, 0, 0, 0, 0, 0, 11, 19, 7, 5, 0, 0, 0, 0, 0, 0, 0, 0, 11, 0, 0, 6, 13, 13, 26, 7, 3, 1, 9, 9, 0, 11, 23, 0, 0, 11, 7, 11, 11, 7, 1, 0, 11, 11, 0, 0, 0, 7, 7, 7, 0, 0, 0, 0, 5, 17, 2, 0, 0, 0, 0, 0, 0, 7, 9, 0, 0, 11, 19, 6, 0, 0, 0, 0, 0, 6, 13, 6, 11, 11, 11, 7, 9, 0, 0, 0, 0, 1, 4, 0, 2, 17, 2, 0, 0, 0, 0, 0, 0, 11, 8, 0, 6, 13, 11, 0, 0, 0, 0, 11, 8, 8, 0, 6, 13, 0, 0, 0, 0, 0, 0, 0, 9, 5, 5, 6, 13, 24, 9, 1, 7, 1, 3, 3, 3, 0, 0, 0, 0, 0, 0, 0, 0, 0, 0, 0, 0, 0, 0, 0, 0, 17, 2, 0, 17, 2, 17, 2, 23, 0, 6, 13, 0, 9, 2, 17, 16, 7, 0, 0, 0, 0, 0, 0, 11, 0, 6, 13, 11, 0, 0, 0, 9, 24, 0, 0, 0, 0, 0, 1, 7, 0, 24, 1, 0, 0, 0, 0, 3, 9, 4, 9, 4, 0, 0, 0, 7, 0, 0, 0, 0, 0, 0, 0, 0, 0, 3, 0, 7, 11, 11, 7, 3, 7, 3, 0, 44, 1, 7, 1, 7, 3, 3, 1, 4, 12, 0, 12, 2, 9, 11, 19, 6, 13, 11, 11, 11, 11, 3, 1, 10, 0, 0, 0, 13, 0, 0, 7, 0, 0, 6, 13, 11, 0, 0, 0, 0, 0, 0, 7, 0, 0, 0, 0, 0, 0, 1, 14, 8, 6, 6, 13, 11, 9, 14, 12, 9, 5, 17, 2, 0, 0, 0, 0, 0, 0, 0, 0, 0, 0, 0, 0, 0, 0, 0, 6, 13, 13, 9, 6, 9, 9, 1, 4, 0, 0, 0, 0, 14, 20, 17, 2, 5, 0, 0, 7, 11, 0, 7, 0, 0, 0, 1, 0, 0, 7, 11, 7, 11, 0, 3, 3, 1, 1, 4, 11, 0, 0, 0, 0, 0, 0, 0, 0, 0, 0, 0, 0, 3, 0, 1, 4, 0, 0, 11, 6, 6, 13, 17, 2, 0, 24, 1, 1, 24, 9, 0, 0, 3, 15, 3, 0, 0, 0, 0, 0, 0, 0, 0, 0, 3, 0, 0, 7, 3, 1, 7, 11, 10, 11, 0, 7, 7, 3, 1, 7, 1, 0, 10, 0, 24, 0, 0, 0, 9, 4, 1, 11, 14, 8, 0, 13, 7, 0, 0, 7, 0, 4, 2, 0, 5, 12, 11, 6, 13, 0, 20, 6, 7, 9, 11, 0, 0, 0, 11, 8, 25, 6, 13, 11, 0, 7, 9, 11, 7, 9, 11, 0, 0, 11, 0, 0, 11, 9, 24, 4, 5, 0, 7, 0, 0, 14, 0, 7, 0, 0, 0, 0, 0, 0, 0, 0, 0, 0, 0, 9, 4, 1, 4, 9, 6, 13, 11, 0, 0, 0, 4, 5, 7, 7, 5, 11, 13, 0, 0, 0, 0, 0, 9, 11, 9, 11, 6, 11, 7, 3, 1, 7, 0, 11, 12, 10, 11, 50, 12, 3, 0, 7, 0, 11, 6, 13, 11, 0, 0, 0, 0, 0, 0, 0, 0, 0, 3, 0, 0, 0, 3, 1, 7, 7, 1, 3, 1, 4, 0, 2, 0, 23, 17, 17, 2, 17, 2, 11, 6, 0, 26, 11, 11, 11, 16, 3, 3, 16, 11, 0, 0, 0, 0, 19, 6, 13, 0, 0, 0, 9, 3, 2, 5, 0, 11, 11, 0, 0, 0, 0, 0, 0, 0, 0, 1, 0, 0, 2, 0, 8, 6, 6, 17, 2, 0, 6, 11, 11, 8, 6, 0, 0, 6, 13, 0, 7, 0, 11, 0, 1, 7, 0, 0, 7, 7, 1, 0, 0, 2, 37, 0, 11, 3, 0, 0, 0, 10, 7, 0, 0, 14, 0, 1, 4, 0, 0, 0, 3, 9, 11, 11, 9, 3, 11, 13, 3, 1, 4, 9, 0, 0, 0, 0, 0, 0, 0, 0, 0, 24, 5, 12, 0, 0, 0, 0, 0, 0, 0, 0, 11, 11, 6, 13, 0, 0, 0, 0, 0, 0, 0, 0, 0, 0, 0, 0, 0, 6, 0, 0, 0, 9, 0, 3, 11, 1, 11, 0, 0, 6, 13, 0, 0, 4, 9, 0, 0, 0, 0, 0, 0, 0, 0, 0, 0, 0, 0, 7, 0, 7, 0, 0, 0, 0, 0, 0, 0, 0, 3, 24, 1, 4, 4, 9, 1, 24, 0, 0, 0, 5, 0, 0, 0, 17, 17, 2, 9, 9, 0, 13, 6, 0, 11, 13, 0, 0, 0, 0, 0, 11, 3, 0, 0, 0, 0, 0, 0, 0, 32, 11, 11, 6, 13, 0, 0, 0, 10, 14, 12, 32, 3, 1, 14, 12, 0, 0, 13, 0, 11, 0, 8, 13, 0, 9, 5, 17, 2, 0, 0, 0, 0, 0, 0, 3, 7, 1, 14, 1, 1, 0, 5, 0, 17, 17, 2, 0, 0, 0, 0, 0, 6, 8, 6, 7, 0, 0, 0, 0, 0, 0, 3, 9, 11, 0, 1, 7, 9, 24, 1, 3, 24, 1, 9, 23, 11, 0, 11, 19, 19, 0, 0, 9, 4, 24, 9, 0, 11, 7, 0, 0, 0, 9, 9, 4, 24, 24, 9, 3, 5, 12, 11, 8, 0, 13, 11, 11, 0, 0, 11, 11, 0, 0, 0, 0, 7, 3, 7, 4, 5, 12, 0, 0, 0, 0, 0, 0, 0, 0, 0, 0, 0, 0, 0, 0]\n"
          ],
          "name": "stdout"
        }
      ]
    },
    {
      "cell_type": "code",
      "metadata": {
        "id": "htRjVQyojbgN",
        "colab_type": "code",
        "colab": {}
      },
      "source": [
        "# Use train_test_split to split our data into train and validation sets for training\n",
        "\n",
        "train_inputs, validation_inputs, train_labels, validation_labels = train_test_split(input_ids, labels, \n",
        "                                                            random_state=2018, test_size=0.1)\n",
        "train_masks, validation_masks, _, _ = train_test_split(attention_masks, input_ids,\n",
        "                                             random_state=2018, test_size=0.1)"
      ],
      "execution_count": 18,
      "outputs": []
    },
    {
      "cell_type": "code",
      "metadata": {
        "id": "UKpWMj-EjboB",
        "colab_type": "code",
        "colab": {}
      },
      "source": [
        "# Convert all of our data into torch tensors, the required datatype for our model\n",
        "\n",
        "train_inputs = torch.tensor(train_inputs)\n",
        "validation_inputs = torch.tensor(validation_inputs)\n",
        "train_labels = torch.tensor(train_labels)\n",
        "validation_labels = torch.tensor(validation_labels)\n",
        "train_masks = torch.tensor(train_masks)\n",
        "validation_masks = torch.tensor(validation_masks)"
      ],
      "execution_count": 19,
      "outputs": []
    },
    {
      "cell_type": "code",
      "metadata": {
        "id": "KIlXwhh67BXS",
        "colab_type": "code",
        "colab": {}
      },
      "source": [
        "# Create an iterator of our data with torch DataLoader. This helps save on memory during training because, unlike a for loop, \n",
        "# with an iterator the entire dataset does not need to be loaded into memory\n",
        "\n",
        "train_data = TensorDataset(train_inputs, train_masks, train_labels)\n",
        "train_sampler = RandomSampler(train_data)\n",
        "train_dataloader = DataLoader(train_data, sampler=train_sampler, batch_size=BATCH_SIZE)\n",
        "\n",
        "validation_data = TensorDataset(validation_inputs, validation_masks, validation_labels)\n",
        "validation_sampler = SequentialSampler(validation_data)\n",
        "validation_dataloader = DataLoader(validation_data, sampler=validation_sampler, batch_size=BATCH_SIZE)"
      ],
      "execution_count": 20,
      "outputs": []
    },
    {
      "cell_type": "code",
      "metadata": {
        "id": "MWbESUZsjblO",
        "colab_type": "code",
        "colab": {
          "base_uri": "https://localhost:8080/",
          "height": 1000
        },
        "outputId": "9c919413-7c3d-4fc5-ef9b-9ac5c76f4f5c"
      },
      "source": [
        "# This is where the fine-tuning comes in. We must train the model for our specific task.\n",
        "\n",
        "# We will first modify pre-trained BERT for our specific task, then continue training on our data until the entire model\n",
        "#   is well-suited for our task.\n",
        "\n",
        "model = BertForSequenceClassification.from_pretrained(BERT_PATH, num_labels=len(labels))\n",
        "model.cuda()"
      ],
      "execution_count": 21,
      "outputs": [
        {
          "output_type": "stream",
          "text": [
            "100%|██████████| 407873900/407873900 [00:14<00:00, 27812788.11B/s]\n"
          ],
          "name": "stderr"
        },
        {
          "output_type": "execute_result",
          "data": {
            "text/plain": [
              "BertForSequenceClassification(\n",
              "  (bert): BertModel(\n",
              "    (embeddings): BertEmbeddings(\n",
              "      (word_embeddings): Embedding(30522, 768, padding_idx=0)\n",
              "      (position_embeddings): Embedding(512, 768)\n",
              "      (token_type_embeddings): Embedding(2, 768)\n",
              "      (LayerNorm): BertLayerNorm()\n",
              "      (dropout): Dropout(p=0.1, inplace=False)\n",
              "    )\n",
              "    (encoder): BertEncoder(\n",
              "      (layer): ModuleList(\n",
              "        (0): BertLayer(\n",
              "          (attention): BertAttention(\n",
              "            (self): BertSelfAttention(\n",
              "              (query): Linear(in_features=768, out_features=768, bias=True)\n",
              "              (key): Linear(in_features=768, out_features=768, bias=True)\n",
              "              (value): Linear(in_features=768, out_features=768, bias=True)\n",
              "              (dropout): Dropout(p=0.1, inplace=False)\n",
              "            )\n",
              "            (output): BertSelfOutput(\n",
              "              (dense): Linear(in_features=768, out_features=768, bias=True)\n",
              "              (LayerNorm): BertLayerNorm()\n",
              "              (dropout): Dropout(p=0.1, inplace=False)\n",
              "            )\n",
              "          )\n",
              "          (intermediate): BertIntermediate(\n",
              "            (dense): Linear(in_features=768, out_features=3072, bias=True)\n",
              "          )\n",
              "          (output): BertOutput(\n",
              "            (dense): Linear(in_features=3072, out_features=768, bias=True)\n",
              "            (LayerNorm): BertLayerNorm()\n",
              "            (dropout): Dropout(p=0.1, inplace=False)\n",
              "          )\n",
              "        )\n",
              "        (1): BertLayer(\n",
              "          (attention): BertAttention(\n",
              "            (self): BertSelfAttention(\n",
              "              (query): Linear(in_features=768, out_features=768, bias=True)\n",
              "              (key): Linear(in_features=768, out_features=768, bias=True)\n",
              "              (value): Linear(in_features=768, out_features=768, bias=True)\n",
              "              (dropout): Dropout(p=0.1, inplace=False)\n",
              "            )\n",
              "            (output): BertSelfOutput(\n",
              "              (dense): Linear(in_features=768, out_features=768, bias=True)\n",
              "              (LayerNorm): BertLayerNorm()\n",
              "              (dropout): Dropout(p=0.1, inplace=False)\n",
              "            )\n",
              "          )\n",
              "          (intermediate): BertIntermediate(\n",
              "            (dense): Linear(in_features=768, out_features=3072, bias=True)\n",
              "          )\n",
              "          (output): BertOutput(\n",
              "            (dense): Linear(in_features=3072, out_features=768, bias=True)\n",
              "            (LayerNorm): BertLayerNorm()\n",
              "            (dropout): Dropout(p=0.1, inplace=False)\n",
              "          )\n",
              "        )\n",
              "        (2): BertLayer(\n",
              "          (attention): BertAttention(\n",
              "            (self): BertSelfAttention(\n",
              "              (query): Linear(in_features=768, out_features=768, bias=True)\n",
              "              (key): Linear(in_features=768, out_features=768, bias=True)\n",
              "              (value): Linear(in_features=768, out_features=768, bias=True)\n",
              "              (dropout): Dropout(p=0.1, inplace=False)\n",
              "            )\n",
              "            (output): BertSelfOutput(\n",
              "              (dense): Linear(in_features=768, out_features=768, bias=True)\n",
              "              (LayerNorm): BertLayerNorm()\n",
              "              (dropout): Dropout(p=0.1, inplace=False)\n",
              "            )\n",
              "          )\n",
              "          (intermediate): BertIntermediate(\n",
              "            (dense): Linear(in_features=768, out_features=3072, bias=True)\n",
              "          )\n",
              "          (output): BertOutput(\n",
              "            (dense): Linear(in_features=3072, out_features=768, bias=True)\n",
              "            (LayerNorm): BertLayerNorm()\n",
              "            (dropout): Dropout(p=0.1, inplace=False)\n",
              "          )\n",
              "        )\n",
              "        (3): BertLayer(\n",
              "          (attention): BertAttention(\n",
              "            (self): BertSelfAttention(\n",
              "              (query): Linear(in_features=768, out_features=768, bias=True)\n",
              "              (key): Linear(in_features=768, out_features=768, bias=True)\n",
              "              (value): Linear(in_features=768, out_features=768, bias=True)\n",
              "              (dropout): Dropout(p=0.1, inplace=False)\n",
              "            )\n",
              "            (output): BertSelfOutput(\n",
              "              (dense): Linear(in_features=768, out_features=768, bias=True)\n",
              "              (LayerNorm): BertLayerNorm()\n",
              "              (dropout): Dropout(p=0.1, inplace=False)\n",
              "            )\n",
              "          )\n",
              "          (intermediate): BertIntermediate(\n",
              "            (dense): Linear(in_features=768, out_features=3072, bias=True)\n",
              "          )\n",
              "          (output): BertOutput(\n",
              "            (dense): Linear(in_features=3072, out_features=768, bias=True)\n",
              "            (LayerNorm): BertLayerNorm()\n",
              "            (dropout): Dropout(p=0.1, inplace=False)\n",
              "          )\n",
              "        )\n",
              "        (4): BertLayer(\n",
              "          (attention): BertAttention(\n",
              "            (self): BertSelfAttention(\n",
              "              (query): Linear(in_features=768, out_features=768, bias=True)\n",
              "              (key): Linear(in_features=768, out_features=768, bias=True)\n",
              "              (value): Linear(in_features=768, out_features=768, bias=True)\n",
              "              (dropout): Dropout(p=0.1, inplace=False)\n",
              "            )\n",
              "            (output): BertSelfOutput(\n",
              "              (dense): Linear(in_features=768, out_features=768, bias=True)\n",
              "              (LayerNorm): BertLayerNorm()\n",
              "              (dropout): Dropout(p=0.1, inplace=False)\n",
              "            )\n",
              "          )\n",
              "          (intermediate): BertIntermediate(\n",
              "            (dense): Linear(in_features=768, out_features=3072, bias=True)\n",
              "          )\n",
              "          (output): BertOutput(\n",
              "            (dense): Linear(in_features=3072, out_features=768, bias=True)\n",
              "            (LayerNorm): BertLayerNorm()\n",
              "            (dropout): Dropout(p=0.1, inplace=False)\n",
              "          )\n",
              "        )\n",
              "        (5): BertLayer(\n",
              "          (attention): BertAttention(\n",
              "            (self): BertSelfAttention(\n",
              "              (query): Linear(in_features=768, out_features=768, bias=True)\n",
              "              (key): Linear(in_features=768, out_features=768, bias=True)\n",
              "              (value): Linear(in_features=768, out_features=768, bias=True)\n",
              "              (dropout): Dropout(p=0.1, inplace=False)\n",
              "            )\n",
              "            (output): BertSelfOutput(\n",
              "              (dense): Linear(in_features=768, out_features=768, bias=True)\n",
              "              (LayerNorm): BertLayerNorm()\n",
              "              (dropout): Dropout(p=0.1, inplace=False)\n",
              "            )\n",
              "          )\n",
              "          (intermediate): BertIntermediate(\n",
              "            (dense): Linear(in_features=768, out_features=3072, bias=True)\n",
              "          )\n",
              "          (output): BertOutput(\n",
              "            (dense): Linear(in_features=3072, out_features=768, bias=True)\n",
              "            (LayerNorm): BertLayerNorm()\n",
              "            (dropout): Dropout(p=0.1, inplace=False)\n",
              "          )\n",
              "        )\n",
              "        (6): BertLayer(\n",
              "          (attention): BertAttention(\n",
              "            (self): BertSelfAttention(\n",
              "              (query): Linear(in_features=768, out_features=768, bias=True)\n",
              "              (key): Linear(in_features=768, out_features=768, bias=True)\n",
              "              (value): Linear(in_features=768, out_features=768, bias=True)\n",
              "              (dropout): Dropout(p=0.1, inplace=False)\n",
              "            )\n",
              "            (output): BertSelfOutput(\n",
              "              (dense): Linear(in_features=768, out_features=768, bias=True)\n",
              "              (LayerNorm): BertLayerNorm()\n",
              "              (dropout): Dropout(p=0.1, inplace=False)\n",
              "            )\n",
              "          )\n",
              "          (intermediate): BertIntermediate(\n",
              "            (dense): Linear(in_features=768, out_features=3072, bias=True)\n",
              "          )\n",
              "          (output): BertOutput(\n",
              "            (dense): Linear(in_features=3072, out_features=768, bias=True)\n",
              "            (LayerNorm): BertLayerNorm()\n",
              "            (dropout): Dropout(p=0.1, inplace=False)\n",
              "          )\n",
              "        )\n",
              "        (7): BertLayer(\n",
              "          (attention): BertAttention(\n",
              "            (self): BertSelfAttention(\n",
              "              (query): Linear(in_features=768, out_features=768, bias=True)\n",
              "              (key): Linear(in_features=768, out_features=768, bias=True)\n",
              "              (value): Linear(in_features=768, out_features=768, bias=True)\n",
              "              (dropout): Dropout(p=0.1, inplace=False)\n",
              "            )\n",
              "            (output): BertSelfOutput(\n",
              "              (dense): Linear(in_features=768, out_features=768, bias=True)\n",
              "              (LayerNorm): BertLayerNorm()\n",
              "              (dropout): Dropout(p=0.1, inplace=False)\n",
              "            )\n",
              "          )\n",
              "          (intermediate): BertIntermediate(\n",
              "            (dense): Linear(in_features=768, out_features=3072, bias=True)\n",
              "          )\n",
              "          (output): BertOutput(\n",
              "            (dense): Linear(in_features=3072, out_features=768, bias=True)\n",
              "            (LayerNorm): BertLayerNorm()\n",
              "            (dropout): Dropout(p=0.1, inplace=False)\n",
              "          )\n",
              "        )\n",
              "        (8): BertLayer(\n",
              "          (attention): BertAttention(\n",
              "            (self): BertSelfAttention(\n",
              "              (query): Linear(in_features=768, out_features=768, bias=True)\n",
              "              (key): Linear(in_features=768, out_features=768, bias=True)\n",
              "              (value): Linear(in_features=768, out_features=768, bias=True)\n",
              "              (dropout): Dropout(p=0.1, inplace=False)\n",
              "            )\n",
              "            (output): BertSelfOutput(\n",
              "              (dense): Linear(in_features=768, out_features=768, bias=True)\n",
              "              (LayerNorm): BertLayerNorm()\n",
              "              (dropout): Dropout(p=0.1, inplace=False)\n",
              "            )\n",
              "          )\n",
              "          (intermediate): BertIntermediate(\n",
              "            (dense): Linear(in_features=768, out_features=3072, bias=True)\n",
              "          )\n",
              "          (output): BertOutput(\n",
              "            (dense): Linear(in_features=3072, out_features=768, bias=True)\n",
              "            (LayerNorm): BertLayerNorm()\n",
              "            (dropout): Dropout(p=0.1, inplace=False)\n",
              "          )\n",
              "        )\n",
              "        (9): BertLayer(\n",
              "          (attention): BertAttention(\n",
              "            (self): BertSelfAttention(\n",
              "              (query): Linear(in_features=768, out_features=768, bias=True)\n",
              "              (key): Linear(in_features=768, out_features=768, bias=True)\n",
              "              (value): Linear(in_features=768, out_features=768, bias=True)\n",
              "              (dropout): Dropout(p=0.1, inplace=False)\n",
              "            )\n",
              "            (output): BertSelfOutput(\n",
              "              (dense): Linear(in_features=768, out_features=768, bias=True)\n",
              "              (LayerNorm): BertLayerNorm()\n",
              "              (dropout): Dropout(p=0.1, inplace=False)\n",
              "            )\n",
              "          )\n",
              "          (intermediate): BertIntermediate(\n",
              "            (dense): Linear(in_features=768, out_features=3072, bias=True)\n",
              "          )\n",
              "          (output): BertOutput(\n",
              "            (dense): Linear(in_features=3072, out_features=768, bias=True)\n",
              "            (LayerNorm): BertLayerNorm()\n",
              "            (dropout): Dropout(p=0.1, inplace=False)\n",
              "          )\n",
              "        )\n",
              "        (10): BertLayer(\n",
              "          (attention): BertAttention(\n",
              "            (self): BertSelfAttention(\n",
              "              (query): Linear(in_features=768, out_features=768, bias=True)\n",
              "              (key): Linear(in_features=768, out_features=768, bias=True)\n",
              "              (value): Linear(in_features=768, out_features=768, bias=True)\n",
              "              (dropout): Dropout(p=0.1, inplace=False)\n",
              "            )\n",
              "            (output): BertSelfOutput(\n",
              "              (dense): Linear(in_features=768, out_features=768, bias=True)\n",
              "              (LayerNorm): BertLayerNorm()\n",
              "              (dropout): Dropout(p=0.1, inplace=False)\n",
              "            )\n",
              "          )\n",
              "          (intermediate): BertIntermediate(\n",
              "            (dense): Linear(in_features=768, out_features=3072, bias=True)\n",
              "          )\n",
              "          (output): BertOutput(\n",
              "            (dense): Linear(in_features=3072, out_features=768, bias=True)\n",
              "            (LayerNorm): BertLayerNorm()\n",
              "            (dropout): Dropout(p=0.1, inplace=False)\n",
              "          )\n",
              "        )\n",
              "        (11): BertLayer(\n",
              "          (attention): BertAttention(\n",
              "            (self): BertSelfAttention(\n",
              "              (query): Linear(in_features=768, out_features=768, bias=True)\n",
              "              (key): Linear(in_features=768, out_features=768, bias=True)\n",
              "              (value): Linear(in_features=768, out_features=768, bias=True)\n",
              "              (dropout): Dropout(p=0.1, inplace=False)\n",
              "            )\n",
              "            (output): BertSelfOutput(\n",
              "              (dense): Linear(in_features=768, out_features=768, bias=True)\n",
              "              (LayerNorm): BertLayerNorm()\n",
              "              (dropout): Dropout(p=0.1, inplace=False)\n",
              "            )\n",
              "          )\n",
              "          (intermediate): BertIntermediate(\n",
              "            (dense): Linear(in_features=768, out_features=3072, bias=True)\n",
              "          )\n",
              "          (output): BertOutput(\n",
              "            (dense): Linear(in_features=3072, out_features=768, bias=True)\n",
              "            (LayerNorm): BertLayerNorm()\n",
              "            (dropout): Dropout(p=0.1, inplace=False)\n",
              "          )\n",
              "        )\n",
              "      )\n",
              "    )\n",
              "    (pooler): BertPooler(\n",
              "      (dense): Linear(in_features=768, out_features=768, bias=True)\n",
              "      (activation): Tanh()\n",
              "    )\n",
              "  )\n",
              "  (dropout): Dropout(p=0.1, inplace=False)\n",
              "  (classifier): Linear(in_features=768, out_features=10033, bias=True)\n",
              ")"
            ]
          },
          "metadata": {
            "tags": []
          },
          "execution_count": 21
        }
      ]
    },
    {
      "cell_type": "code",
      "metadata": {
        "id": "_-W9_IQfjbiu",
        "colab_type": "code",
        "colab": {}
      },
      "source": [
        "'''\n",
        "Now that we have our model loaded we need to grab the training hyperparameters from within the stored model.\n",
        "\n",
        "For the purposes of fine-tuning, the authors recommend the following hyperparameter ranges:\n",
        "\n",
        "Batch size: 16, 32\n",
        "Learning rate (Adam): 5e-5, 3e-5, 2e-5\n",
        "Number of epochs: 2, 3, 4\n",
        "'''\n",
        "\n",
        "param_optimizer = list(model.named_parameters())\n",
        "no_decay = ['bias', 'gamma', 'beta']\n",
        "optimizer_grouped_parameters = [\n",
        "    {'params': [p for n, p in param_optimizer if not any(nd in n for nd in no_decay)],\n",
        "     'weight_decay_rate': 0.01},\n",
        "    {'params': [p for n, p in param_optimizer if any(nd in n for nd in no_decay)],\n",
        "     'weight_decay_rate': 0.0}\n",
        "]"
      ],
      "execution_count": 22,
      "outputs": []
    },
    {
      "cell_type": "code",
      "metadata": {
        "id": "VJJ0yOIZtOpr",
        "colab_type": "code",
        "colab": {
          "base_uri": "https://localhost:8080/",
          "height": 34
        },
        "outputId": "690144d6-28dc-4f79-ac4e-4a273fc91295"
      },
      "source": [
        "optimizer = BertAdam(optimizer_grouped_parameters,\n",
        "                     lr=LEARNING_RATE,\n",
        "                     warmup=WARMUP)"
      ],
      "execution_count": 23,
      "outputs": [
        {
          "output_type": "stream",
          "text": [
            "t_total value of -1 results in schedule not being applied\n"
          ],
          "name": "stderr"
        }
      ]
    },
    {
      "cell_type": "code",
      "metadata": {
        "id": "GANGNKH7jbd2",
        "colab_type": "code",
        "colab": {}
      },
      "source": [
        "# Function to calculate the accuracy of our predictions vs labels\n",
        "def flat_accuracy(preds, labels):\n",
        "    pred_flat = np.argmax(preds, axis=1).flatten()\n",
        "    labels_flat = labels.flatten()\n",
        "    return np.sum(pred_flat == labels_flat) / len(labels_flat)"
      ],
      "execution_count": 24,
      "outputs": []
    },
    {
      "cell_type": "code",
      "metadata": {
        "id": "DKr36ugQ6qZn",
        "colab_type": "code",
        "colab": {
          "base_uri": "https://localhost:8080/",
          "height": 207
        },
        "outputId": "f8c86f48-3985-46af-9f03-38b9cd8f1d11"
      },
      "source": [
        "t = [] \n",
        "\n",
        "# Store our loss and accuracy for plotting\n",
        "train_loss_set = []\n",
        "\n",
        "# trange is a tqdm wrapper around the normal python range\n",
        "for _ in trange(EPOCHS, desc=\"Epoch\"):\n",
        "  \n",
        "  # Training\n",
        "  \n",
        "  # Set our model to training mode (as opposed to evaluation mode)\n",
        "  model.train()\n",
        "  \n",
        "  # Tracking variables\n",
        "  tr_loss = 0\n",
        "  nb_tr_examples, nb_tr_steps = 0, 0\n",
        "  \n",
        "  # Train the data for one epoch\n",
        "  for step, batch in enumerate(train_dataloader):\n",
        "    # Add batch to GPU\n",
        "    batch = tuple(t.to(device) for t in batch)\n",
        "    # Unpack the inputs from our dataloader\n",
        "    b_input_ids, b_input_mask, b_labels = batch\n",
        "    # Clear out the gradients (by default they accumulate)\n",
        "    optimizer.zero_grad()\n",
        "    # Forward pass\n",
        "    loss = model(b_input_ids, token_type_ids=None, attention_mask=b_input_mask, labels=b_labels)\n",
        "    train_loss_set.append(loss.item())    \n",
        "    # Backward pass\n",
        "    loss.backward()\n",
        "    # Update parameters and take a step using the computed gradient\n",
        "    optimizer.step()\n",
        "    \n",
        "    # Update tracking variables\n",
        "    tr_loss += loss.item()\n",
        "    nb_tr_examples += b_input_ids.size(0)\n",
        "    nb_tr_steps += 1\n",
        "\n",
        "  print(\"Train loss: {}\".format(tr_loss/nb_tr_steps))\n",
        "    \n",
        "    \n",
        "  # Validation\n",
        "\n",
        "  # Put model in evaluation mode to evaluate loss on the validation set\n",
        "  model.eval()\n",
        "\n",
        "  # Tracking variables \n",
        "  eval_loss, eval_accuracy = 0, 0\n",
        "  nb_eval_steps, nb_eval_examples = 0, 0\n",
        "\n",
        "  # Evaluate data for one epoch\n",
        "  for batch in validation_dataloader:\n",
        "    # Add batch to GPU\n",
        "    batch = tuple(t.to(device) for t in batch)\n",
        "    # Unpack the inputs from our dataloader\n",
        "    b_input_ids, b_input_mask, b_labels = batch\n",
        "    # Telling the model not to compute or store gradients, saving memory and speeding up validation\n",
        "    with torch.no_grad():\n",
        "      # Forward pass, calculate logit predictions\n",
        "      logits = model(b_input_ids, token_type_ids=None, attention_mask=b_input_mask)\n",
        "    \n",
        "    # Move logits and labels to CPU\n",
        "    logits = logits.detach().cpu().numpy()\n",
        "    label_ids = b_labels.to('cpu').numpy()\n",
        "\n",
        "    tmp_eval_accuracy = flat_accuracy(logits, label_ids)\n",
        "    \n",
        "    eval_accuracy += tmp_eval_accuracy\n",
        "    nb_eval_steps += 1\n",
        "\n",
        "  print(\"Validation Accuracy: {}\".format(eval_accuracy/nb_eval_steps))"
      ],
      "execution_count": 25,
      "outputs": [
        {
          "output_type": "stream",
          "text": [
            "\rEpoch:   0%|          | 0/2 [00:00<?, ?it/s]/usr/local/lib/python3.6/dist-packages/pytorch_pretrained_bert/optimization.py:275: UserWarning: This overload of add_ is deprecated:\n",
            "\tadd_(Number alpha, Tensor other)\n",
            "Consider using one of the following signatures instead:\n",
            "\tadd_(Tensor other, *, Number alpha) (Triggered internally at  /pytorch/torch/csrc/utils/python_arg_parser.cpp:766.)\n",
            "  next_m.mul_(beta1).add_(1 - beta1, grad)\n"
          ],
          "name": "stderr"
        },
        {
          "output_type": "stream",
          "text": [
            "Train loss: 1.9326805060416197\n"
          ],
          "name": "stdout"
        },
        {
          "output_type": "stream",
          "text": [
            "\rEpoch:  50%|█████     | 1/2 [02:05<02:05, 125.28s/it]"
          ],
          "name": "stderr"
        },
        {
          "output_type": "stream",
          "text": [
            "Validation Accuracy: 0.732473544973545\n",
            "Train loss: 0.9627275538655509\n"
          ],
          "name": "stdout"
        },
        {
          "output_type": "stream",
          "text": [
            "Epoch: 100%|██████████| 2/2 [04:10<00:00, 125.08s/it]"
          ],
          "name": "stderr"
        },
        {
          "output_type": "stream",
          "text": [
            "Validation Accuracy: 0.7232142857142857\n"
          ],
          "name": "stdout"
        },
        {
          "output_type": "stream",
          "text": [
            "\n"
          ],
          "name": "stderr"
        }
      ]
    },
    {
      "cell_type": "code",
      "metadata": {
        "id": "bqqQCDEWs0oN",
        "colab_type": "code",
        "colab": {}
      },
      "source": [
        "STATS_PATH = \"drive/My Drive/colab/stats/skin_cancer_fine_tuning_stats.csv\"\n",
        "def getLastModelNumber():\n",
        "  try:\n",
        "    with open(STATS_PATH, \"r\") as f:\n",
        "      f_list = list(f)\n",
        "      latest = f_list[-1].split(',')\n",
        "      return int(latest[0])\n",
        "  except:\n",
        "    return -1"
      ],
      "execution_count": 26,
      "outputs": []
    },
    {
      "cell_type": "code",
      "metadata": {
        "id": "k50fbgDqbai2",
        "colab_type": "code",
        "colab": {}
      },
      "source": [
        "# Will take a break from saving models - takes up too much space\n",
        "\n",
        "# import os\n",
        "# import itertools\n",
        "\n",
        "# MODEL_PATH = \"drive/My Drive/colab/models/\" \n",
        "# MODEL_SAVE_NAME = 'skin_cancer_fine_tuning'\n",
        "\n",
        "# # Helper function for auto-saving model incrementally\n",
        "\n",
        "# # This code is originally from StackExchange via \"Tanner,\" but I altered it for use here\n",
        "# # https://gis.stackexchange.com/questions/27410/how-auto-increment-output-file-names-in-python-script\n",
        "\n",
        "# # Modified with code from Gareth Latty via StackOverflow\n",
        "# # https://stackoverflow.com/questions/13673781/splitting-a-string-where-it-switches-between-numeric-and-alphabetic-characters\n",
        "# def getNextFileInt(output_folder):\n",
        "#     highest_num = 0\n",
        "#     for f in os.listdir(output_folder):\n",
        "#       temp = \"\"\n",
        "#       for c in f:\n",
        "#         if c.isdigit():\n",
        "#           temp += c\n",
        "#         if len(temp) > 0 and int(temp) > highest_num:\n",
        "#           highest_num = int(temp)\n",
        "#     return highest_num + 1"
      ],
      "execution_count": 27,
      "outputs": []
    },
    {
      "cell_type": "code",
      "metadata": {
        "id": "6W-xZT7ybtzL",
        "colab_type": "code",
        "colab": {
          "base_uri": "https://localhost:8080/",
          "height": 35
        },
        "outputId": "9bf3b682-1f8b-4508-afe6-f2b63a5ae897"
      },
      "source": [
        "# We will use this in the future to refer to the current model\n",
        "current_file_n_str = str(getLastModelNumber() + 1)\n",
        "current_file_n_str"
      ],
      "execution_count": 28,
      "outputs": [
        {
          "output_type": "execute_result",
          "data": {
            "application/vnd.google.colaboratory.intrinsic+json": {
              "type": "string"
            },
            "text/plain": [
              "'11'"
            ]
          },
          "metadata": {
            "tags": []
          },
          "execution_count": 28
        }
      ]
    },
    {
      "cell_type": "code",
      "metadata": {
        "id": "M8-hHD9R6qj1",
        "colab_type": "code",
        "colab": {}
      },
      "source": [
        "# # We save the model so that we can access it later\n",
        "\n",
        "# if not os.path.isfile(MODEL_PATH + MODEL_SAVE_NAME):\n",
        "#   torch.save(model.state_dict(), MODEL_PATH + MODEL_SAVE_NAME)\n",
        "# else:\n",
        "#   # Get the model number to save\n",
        "#   current_file_n_str = str(getNextFileInt(MODEL_PATH))\n",
        "#   print(\"This will be file\",current_file_n_str)\n",
        "#   torch.save(model.state_dict(), MODEL_PATH + MODEL_SAVE_NAME + current_file_n_str)"
      ],
      "execution_count": 29,
      "outputs": []
    },
    {
      "cell_type": "code",
      "metadata": {
        "id": "YDoGoe4V6qtf",
        "colab_type": "code",
        "colab": {
          "base_uri": "https://localhost:8080/",
          "height": 513
        },
        "outputId": "7c89522b-435f-4dcd-a2fd-9f3c763ecc2b"
      },
      "source": [
        "# Let's take a look!\n",
        "\n",
        "plt.figure(figsize=(15,8))\n",
        "plt.title(\"Training loss\")\n",
        "plt.xlabel(\"Batch\")\n",
        "plt.ylabel(\"Loss\")\n",
        "plt.plot(train_loss_set)\n",
        "plt.show()"
      ],
      "execution_count": 30,
      "outputs": [
        {
          "output_type": "display_data",
          "data": {
            "image/png": "[encoded data removed]",
            "text/plain": [
              "<Figure size 1080x576 with 1 Axes>"
            ]
          },
          "metadata": {
            "tags": [],
            "needs_background": "light"
          }
        }
      ]
    },
    {
      "cell_type": "code",
      "metadata": {
        "id": "yORLUkJzBwgq",
        "colab_type": "code",
        "colab": {}
      },
      "source": [
        "# Now we will validate on our testing data\n",
        "DATA_PATH_TEST = \"drive/My Drive/colab/data/\"\n",
        "DATA_NAME_TEST = \"EBA1415-SkinCancer-little-sentences.tsv\"\n",
        "df_test = pd.read_csv(DATA_PATH_TEST + DATA_NAME_TEST, delimiter='\\t', header=0, names=['file', 'relation', 's_num', 'sentence'])"
      ],
      "execution_count": 31,
      "outputs": []
    },
    {
      "cell_type": "code",
      "metadata": {
        "id": "jMbMYLuQBwdt",
        "colab_type": "code",
        "colab": {}
      },
      "source": [
        "# Create sentence and label lists\n",
        "sentences_test = df_test.sentence.values\n",
        "\n",
        "# We need to add special tokens at the beginning and end of each sentence for BERT to work properly\n",
        "sentences_test = [\"[CLS] \" + sentence + \" [SEP]\" for sentence in sentences_test]\n",
        "\n",
        "tokenized_texts_test = [tokenizer.tokenize(sentence) for sentence in sentences_test]"
      ],
      "execution_count": 32,
      "outputs": []
    },
    {
      "cell_type": "code",
      "metadata": {
        "id": "544FbxSkBwa7",
        "colab_type": "code",
        "colab": {}
      },
      "source": [
        "# Get labels\n",
        "labels_test = df_test.relation.values"
      ],
      "execution_count": 33,
      "outputs": []
    },
    {
      "cell_type": "code",
      "metadata": {
        "id": "7FQmuOIsYI8h",
        "colab_type": "code",
        "colab": {
          "base_uri": "https://localhost:8080/",
          "height": 71
        },
        "outputId": "2b8a9c72-59f5-40fe-e23b-ed710654bd95"
      },
      "source": [
        "# Convert labels to ints\n",
        "\n",
        "print(\"Pre-changed test labels: \",str(labels_test))\n",
        "labels_test = [label_types.get(l) for l in labels_test]\n",
        "print(\"Changed test labels: \",str(labels_test))"
      ],
      "execution_count": 34,
      "outputs": [
        {
          "output_type": "stream",
          "text": [
            "Pre-changed test labels:  ['O' 'R-1-50' 'R-1-2' ... 'R-4-50' 'O' 'O']\n",
            "Changed test labels:  [0, 3, 1, 1, 4, 11, 11, 0, 7, 9, 7, 9, 7, 1, 3, 9, 5, 5, 14, 11, 13, 20, 13, 0, 0, 0, 0, 7, 7, 1, 0, 3, 0, 2, 9, 22, 23, 23, 0, 0, 0, 6, 13, 0, 6, 1, 0, 0, 3, 11, 10, 10, 6, 13, 11, 0, 11, 7, 7, 7, 1, 0, 0, 11, 25, 10, 7, 7, 1, 0, 1, 3, 0, 42, 17, 2, 0, 17, 2, 17, 2, 6, 11, 6, 0, 3, 3, 1, 7, 0, 0, 0, 22, 9, 6, 8, 10, 13, 0, 0, 11, 11, 7, 0, 10, 19, 20, 13, 0, 0, 0, 0, 7, 0, 0, 4, 5, 12, 9, 11, 8, 0, 0, 0, 1, 1, 4, 2, 11, 8, 0, 6, 13, 11, 7, 3, 14, 0, 0, 0, 0, 0, 0, 7, 7, 4, 5, 6, 0, 6, 0, 0, 0, 0, 0, 0, 0, 0, 0, 7, 9, 7, 1, 1, 15, 24, 19, 8, 0, 0, 0, 0, 0, 0, 5, 0, 8, 6, 6, 13, 1, 0, 0, 0, 0, 0, 0, 0, 0, 0, 2, 0, 11, 8, 13, 13, 0, 6, 13, 0, 0, 0, 0, 1, 7, 3, 13, 6, 8, 6, 0, 0, 0, 0, 0, 0, 0, 0, 0, 0, 0, 12, 12, 20, 13, 3, 1, 0, 0, 0, 0, 17, 2, 0, 17, 3, 1, 10, 7, 0, 0, 1, 6, 13, 7, 7, 0, 6, 6, 13, 9, 11, 0, 11, 0, 0, 0, 0, 0, 0, 3, 0, 0, 7, 7, 0, 0, 17, 0, 0, 0, 0, 0, 0, 0, 0, 0, 0, 0, 0, 0, 0, 0, 6, 6, 13, 3, 1, 1, 2, 24, 0, 0, 0, 0, 0, 0, 0, 9, 4, 5, 4, 7, 7, 0, 0, 0, 0, 0, 0, 0, 0, 0, 0, 0, 17, 32, 0, 17, 32, 7, 0, 0, 0, 0, 7, 1, 7, 7, 5, 0, 0, 0, 0, 0, 0, 0, 0, 0, 1, 1, 24, 9, 0, 0, 0, 2, 17, 2, 17, 2, 0, 6, 6, 13, 8, 9, 7, 7, 9, 4, 0, 3, 1, 1, 4, 12, 17, 2, 17, 2, 0, 0, 0, 0, 11, 0, 0, 0, 0, 0, 0, 0, 0, 0, 11, 2, 9, 9, 0, 17, 2, 3, 1, 7, 1, 4, 0, 0, 0, 7, 14, 12, 7, 1, 24, 9, 9, 0, 0, 0, 0, 0, 0, 1, 24, 1, 0, 22, 17, 2, 17, 2, 9, 0, 0, 6, 13, 6, 11, 0, 0, 0, 3, 0, 3, 7, 6, 13, 9, 7, 1, 1, 0, 1, 6, 0, 0, 0, 0, 0, 14, 1, 7, 19, 0, 45, 23, 11, 0, 0, 3, 4, None, 0, 0, 11, 9, 7, 0, 0, 0, 0, 0, 0, 1, 4, 0, 7, 11, 6, 13, 11, 11, 11, 7, 9, 11, 0, 0, 0, 3, 1, 1, 0, 0, 11, 8, 6, 6, 13, 0, 0, 0, 0, 0, 0, 0, 7, 7, 7, 0, 9, 9, 0, 7, 8, 11, 6, 13, 0, 0, 0, 7, 3, 3, 7, 7, 1, 1, 4, 0, 0, 0, 0, 0, 0, 7, 0, 11, 11, 23, 4, 5, 20, 13, 0, 0, 11, 11, 0, 1, 7, 0, 17, 2, 16, 3, 16, 9, 9, 3, 16, 7, 0, 0, 3, 3, 1, 1, 7, 1, 0, 10, 19, 19, 13, 11, 3, 0, 23, 10, 3, 1, 7, 10, 26, 26, 0, 0, 0, 7, 4, 9, 10, 19, 0, 0, 6, 13, 20, 6, 11, 3, 11, 7, 15, 1, 4, 7, 5, 12, 11, 20, 13, 11, 3, 7, 11, 0, 0, 0, 0, 0, 0, 0, 7, 0, 0, 7, 0, 0, 0, 0, 0, 0, 0, 0, 0, 0, 2, 0, 0, 0, 0, 0, 0, 0, 0, 0, 0, 0, 0, 0, 0, 0, 0, 7, 11, 0, 12, 11, 11, 12, 0, 0, 0, 3, 11, 10, 5, 14, 0, 0, 0, 3, 1, 4, 23, 10, 6, 6, 13, 0, 0, 11, 8, 6, 13, 0, 0, 0, 0, 0, 0, 0, 0, 8, 0, 11, 8, 6, 0, 0, 0, 0, 0, 32, 3, 7, 3, 7, 1, 0, 0, 5, 0, 0, 0, 0, 8, 6, 0, 6, 13, 11, 11, 0, 0, 0, 0, 0, 0, 0, 0, 11, 11, 8, 14, 11, 0, 0, 0, 0, 7, 0, 13, 22, 1, 15, 0, 6, 0, 0, 0, 0, 0, 0, 0, 0, 0, 0, 0, 7, 1, 1, 4, 1, 11, 3, 1, 7, 16, 16, 0, 0, 3, 11, 1, 9, 4, 0, 11, 11, 11, 0, 11, 7, 1, 0, 0, 0, 0, 8, 6, 6, 13, 0, 0, 11, 6, 11, 8, 0, 0, 0, 0, 0, 0, 0, 0, 11, 6, 6, 13, 11, 17, 17, 2, 0, 0, 0, 0, 0, 0, 0, 0, 0, 0, 0, 0, 27, 12, 0, 0, 7, 10, 13, 0, 0, 17, 16, 0, 1, 0, 0, 0, 0, 0, 0, 0, 0, 0, 0, 0, 0, 0, 0, 7, 0, 0, 0, 11, 14, 6, 14, 0, 14, 5, 4, 17, 2, 0, 7, 1, 7, 3, 0, 9, 0, 0, 0, 0, 0, 5, 23, 13, 6, 11, 24, 1, 7, 2, 9, 0, 7, 9, 4, 1, 3, 2, 0, 2, 5, 17, 17, 2, 0, 29, 6, 11, 3, 7, 9, 3, 7, 0, 9, 11, 0, 3, 9, 4, 1, 1, 11, 0, 6, 19, 13, 11, 0, 9, 11, 2, 17, 2, 24, 9, 0, 0, 0, 0, 0, 0, 0, 0, 0, 0, 0, 0, 0, 0, 0, 0, 9, 4, 0, 0, 23, 4, 5, 23, 4, 14, 11, 23, 9, 1, 13, 6, 0, 1, 7, 6, 2, 5, 0, 0, 0, 0, 0, 0, 0, 0, 0, 0, 0, 0, 2, 0, 0, 0, 1, 0, 17, 2, 11, 8, 0, 0, 13, 6, 11, 11, 0, 0, 14, 3, 0, 6, 13, 0, 3, 0, 0, 0, 7, 0, 3, 1, 0, 0, 3, 11, 9, 1, 1, 7, 11, 13, 13, 9, 5, 0, 22, 11, 9, 7, 9, 9, 4, 9, 3, 1, 3, 7, 0, 0, 10, 8, 5, 6, 6, 13, 13, 7, 3, 9, 24, 4, 9, 0, 0, 0, 0, 24, 0, 0, 11, 0, 0, 0, 0, 0, 11, 10, 0, 0, 0, 0, 0, 0, 4, 5, 0, 10, 0, 11, 11, 11, 7, 0, 1, 14, 20, 20, 0, 7, 11, 0, 0, 7, 1, 3, 11, 11, 0, 0, 0, 3, 1, 7, 3, 4, 11, 0, 0, 0, 0, 0, 0, 0, 9, 24, 1, 1, 4, 11, 6, 13, 0, 17, 2, 0, 0, 17, 2, 3, 3, 11, 18, 0, 0, 0, 3, 14, 0, 0, 0, 0, 0, 0, 0, 0, 1, 0, 4, 9, 5, 17, 2, 17, 2, 14, 8, 25, 13, 7, 0, 0, 7, 49, 22, 13, 10, 11, 0, 0, 7, 7, 0, 0, 0, 3, 0, 3, 0, 0, 0, 4, 0, 0, 0, 0, 0, 5, 0, 0, 17, 2, 17, 2, 11, 6, 0, 11, 11, 0, 0, 0, 0, 0, 0, 0, 0, 0, 0, 0, 0, 2, 0, 17, 2, 11, 9, 11, 8, 0, 13, 11, 11, 9, 7, 9, 5, 11, 8, 6, 13, 0, 0, 0, 0, 0, 0, 0, 0, 0, 0, 0, 0, 0, 1, 0, 0, 9, 0, 0, 9, 0, 0, 0, 0, 0, 3, 7, 7, 3, 13, 6, 9, 4, 7, 0, 4, 5, 0, 0, 11, 0, 0, 0, 0, 13, 6, 0, 3, 3, 11, 16, 17, 2, 0, 2, 9, 9, 3, 3, 1, 7, 3, 0, 0, 22, 9, 6, 8, 10, 10, 13, 0, 0, 9, 7, 1, 0, 0, 11, 7, 11, 1, 1, 7, 7, 0, 0, 1, 11, 8, 6, 11, 6, 11, 11, 11, 7, 11, 1, 0, 0, 0, 0, 0, 0, 0, 0, 0, 0, 16, 9, 11, 0, 0, 0, 0, 0, 11, 19, 13, 11, 5, 0, 5, 9, 0, 9, 9, 4, 1, 0, 0, 0, 0, 0, 0, 0, 0, 0, 0, 0, 9, 4, 7, 1, 4, 9, 9, 7, 0, 3, 0, 0, 14, 6, 13, 13, 11, 0, 0, 0, 0, 0, 0, 17, 17, 2, 9, 0, 0, 0, 10, 11, 4, 5, 5, 7, 3, 0, 0, 0, 3, 0, 1, 1, 0, 9, 11, 9, 11, 10, 10, 6, 0, 13, 0, 0, 0, 0, 5, 17, 2, 0, 0, 0, 11, 3, 0, 0, 0, 0, 0, 5, 0, 0, 0, 11, 0, 0, 23, 4, 0, 0, 0, 0, 0, 0, 0, 10, 11, 4, 23, 19, 12, 0, 0, 0, 0, 0, 0, 0, 0, 0, 0, 0, 0, 11, 8, 6, 0, 1, 1, 11, 6, 13, 11, 0, 0, 0, 0, 0, 0, 0, 0, 0, 0, 0, 0, 0, 33, 0, 0, 0, 0, 0, 0, 0, 1, 0, 1, 8, 6, 6, 13, 0, 11, 0, 0, 9, 7, 0, 0, 0, 0, 0, 0, 7, 1, 10, 11, 1, 7, 1, 4, 2, 5, 0, 8, 11, 11, 6, 13, 0, 0, 0, 0, 0, 0, 0, 0, 0, 7, 10, 10, 19, 11, 11, 7, 9, 5, 0, 0, 0, 0, 0, 0, 0, 0, 12, 0, 0, 0, 1, 5, 17, 29, 6, 13, 6, 0, 8, 7, 0, 0, 7, 0, 0, 0, 0, 9, 7, 11, 9, 17, 32, 2, 0, 3, 0, 0, 0, 0, 0, 0, 0, 0, 0, 0, 9, 0, 0, 0, 0, 0, 0, 0, 0, 0, 0, 0, 0, 11, 0, 0, 0, 0, 6, 13, 0, 11, 0, 0, 0, 1, 0, 0, 0, 0, 11, 11, 0, 0, 0, 0, 0, 0, 0, 11, 8, 0, 0, 0, 0, 0, 0, 0, 0, 0, 0, 1, 4, 0, 0, 0, 0, 2, 5, 9, 5, 0, 6, 0, 11, 9, 0, 0, 0, 0, 0, 0, 0, 0, 0, 0, 11, 8, 6, 0, 19, 11, 0, 0, 0, 0, 0, 0, 0, 11, 16, 7, 3, 3, 7, 16, 11, 0, 1, 1, 0, 4, 9, 12, 12, 5, 2, 0, 17, 0, 17, 2, 11, 11, 8, 6, 6, 13, 13, 3, 7, 16, 11, 20, 20, 0, 0, 20, 13, 11, 11, 11, 3, 0, 0, 3, 7, 7, 0, 3, 0, 0, 0, 0, 0, 0, 12, 7, 7, 1, 1, 0, 0, 22, 13, 11, 0, 0, 0, 0, 6, 13, 11, 0, 0, 0, 7, 0, 7, 7, 7, 21, 7, 0, 0, 0, 0, 0, 0, 0, 7, 3, 7, 3, 0, 0, 2, 3, 3, 9, 9, 24, 0, 7, 4, 5, 20, 20, 6, 20, 13, 7, 3, 0, 0, 7, 3, 24, 17, 2, 32, 0, 0, 11, 0, 0, 0, 0, 7, 1, 1, 7, 3, 3, 0, 0, 2, 10, 0, 5, 17, 21, 19, 0, 0, 1, 7, 0, 1, 0, 0, 3, 3, 4, 6, 11, 9, 0, 0, 0, 0, 5, 11, 6, 13, 0, 6, 11, 0, 0, 0, 0, 0, 0, 0, 0, 11, 0, 0, 0, 1, 7, 3, 0, 7, 0, 7, 7, 0, 0, 7, 1, 0, 0, 0, 0, 7, 9, 13, 1, 0, 9, 4, 2, 11, 8, 6, 13, 0, 0, 0, 0, 0, 0, 1, 0, 0, 0, 0, 5, 5, 5, 19, 6, 0, 11, 7, 9, 3, 3, 1, 7, 9, 5, 5, 11, 14, 20, 0, 7, 0, 0, 0, 0, 0, 0, 0, 0, 0, 0, 13, 0, 11, 0, 0, None, None, 0, 0, 0, 0, 0, 7, 9, 11, 0, 6, 0, 11, 0, 5, 11, 1, 11, 11, 0, 0, 0, 0, 0, 11, 8, 0, 0, 0, 0, 0, 0, 9, 5, 20, 13, 6, 13, 12, 0, 3, 3, 3, 9, 3, 9, 9, 0, 0, 0, 0, 0, 0, 0, 0, 0, 0, 0, 0, 0, 2, 0, 17, 2, 8, 0, 0, 0, 6, 13, 0, 0, 0, 0, 0, 0, 0, 0, 7, 0, 0, 8, 6, 0, 0, 0, 0, 0, 0, 0, 0, 0, 7, 0, 0, 0, 1, 7, 0, 0, 8, 0, 11, 0, 0, 5, 17, 2, 17, 2, 11, 11, 0, 0, 0, 11, 0, 0, 0, 24, 9, 11, 11, 0, 0, 0, 0, 3, 3, 1, 0, 11, 6, 13, 11, 0, 0, 11, 9, 0, 0, 11, 4, 4, 0, 3, 1, 7, 1, 0, 0, 0, 0, 0, 0, 0, 0, 0, 0, 0, 0, 0, 0, 11, 9, 0, 0, 0, 11, 6, 0, 0, 0, 6, 11, 19, 0, 0, 0, 0, 0, 0, 0, 0, 0, 0, 0, 0, 0, 0, 0, 0, 0, 1, 7, 0, 3, 4, 5, 6, 13, 0, 0, 9, 4, 9, 4, 3, 0, 0, 11, 2, 0, 0, 0, 0, 0, 3, 0, 17, 2, 6, 13, 0, 0, 0, 0, 0, 0, 0, 0, 0, 0, 0, 0, 0, 0, 0, 0, 0, 0, 0, 0, 7, 0, 1, 4, 0, 5, 5, 2, 0, 11, 6, 8, 0, 0, 8, 2, None, None, 2, 0, 0, 0, 0, 0, 0, 0, 0, 0, 1, 3, 0, 0, 0, 0, 0, 0, 0, 8, 0, 0, 0, 0, 0, 0, 0, 0, 0, 11, 6, 13, 0, 0, 0, 0, 0, 9, 0, 0, 0, 0, 0, 0, 8, 0, 0, 0, 0, 0, 0, 0, 7, 0, 4, 0, 0, 11, 0, 0, 13, 6, 11, 11, 0, 0, 1, 7, 9, 4, 6, 13, 11, 11, 11, 0, 12, 0, 0, 0, 8, 14, 14, 0, 8, 0, 0, 7, 0, 5, 2, 0, 1, 0, 8, 14, 6, 0, 0, 6, 13, 11, 7, 7, 0, 0, 0, 17, 17, 2, 24, 1, 1, 24, 11, 6, 13, 7, 32, 1, 32, 17, 11, 6, 13, 11, 7, 1, 1, 3, 0, 0, 0, 11, 13, 8, 6, 0, 9, 7, 0, 0, 7, 10, 11, 1, 13, 6, 11, 11, 0, 0, 5, 4, 12, 3, 0, 0, 3, 7, 7, 1, 11, 19, 6, 13, 11, 11, 21, 0, 3, 9, 11, 8, 6, 0, 6, 13, 6, 11, 5, 0, 0, 17, 2, 15, 11, 0, 1, 7, 0, 3, 9, 11, 0, 0, 0, 1, 7, 3, 5, 6, 0, 8, 8, 6, 13, 11, 0, 0, 11, 8, 8, 6, 13, 0, 0, 0, 0, 0, 0, 0, 0, 7, 1, 3, 4, 4, 11, 25, 8, 25, 0, 0, 0, 0, 12, 0, 0, 0, 0, 0, 0, 0, 0, 0, 0, 7, 19, 6, 0, 0, 3, 11, 16, 3, 11, 16, 3, 1, 1, 0, 0, 3, 11, 8, 6, 13, 6, 13, 16, 17, 2, 17, 2, 9, 0, 0, 24, 1, 15, 9, 11, 7, 0, 0, 0, 7, 10, 11, 4, 5, 8, 8, 6, 13, 13, 7, 0, 17, 2, 0, 3, 1, 7, 11, 3, 12, 5, 4, 12, 7, 12, 19, 0, 0, 0, 0, 0, 0, 0, 0, 6, 0, 15, 0, 0, 0, 0, 0, 0, 0, 0, 11, 11, 0, 12, 0, 0, 0, 0, 0, 0, 0, 0, 1, 7, 1, 24, 24, 0, 0, 0, 0, 8, 0, 0, 13, 0, 0, 0, 0, 11, 8, 6, 13, 12, 12, 7, 0, 0, 0, 11, 10, 0, 5, 0, 3, 3, 7, 6, 13, 12, 0, 11, 10, 12, 0, 0]\n"
          ],
          "name": "stdout"
        }
      ]
    },
    {
      "cell_type": "code",
      "metadata": {
        "id": "VyBKS_7wYJaD",
        "colab_type": "code",
        "colab": {
          "base_uri": "https://localhost:8080/",
          "height": 34
        },
        "outputId": "d8ec027c-2323-4a94-8357-9bfc1f00ab53"
      },
      "source": [
        "# Get rid of labels that were not in the training data\n",
        "\n",
        "original_test_label_length = len(labels_test)\n",
        "\n",
        "tokenized_texts_test = [tokenized_texts_test[i] for i in range(len(tokenized_texts_test)) if labels_test[i] != None]\n",
        "labels_test = [labels_test[i] for i in range(len(labels_test)) if labels_test[i] != None]\n",
        "\n",
        "print(\"Removed {0} labels of type None\".format(original_test_label_length - len(labels_test)))"
      ],
      "execution_count": 35,
      "outputs": [
        {
          "output_type": "stream",
          "text": [
            "Removed 5 labels of type None\n"
          ],
          "name": "stdout"
        }
      ]
    },
    {
      "cell_type": "code",
      "metadata": {
        "id": "tkK_ps6OYJd0",
        "colab_type": "code",
        "colab": {}
      },
      "source": [
        "# Use the BERT tokenizer to convert the tokens to their index numbers in the BERT vocabulary\n",
        "input_ids_test = [tokenizer.convert_tokens_to_ids(x) for x in tokenized_texts_test]\n",
        "# Pad our input tokens\n",
        "input_ids_test = pad_sequences(input_ids_test, maxlen=MAX_LEN, dtype=\"long\", truncating=\"post\", padding=\"post\")\n",
        "# Create attention masks\n",
        "attention_masks_test = []"
      ],
      "execution_count": 36,
      "outputs": []
    },
    {
      "cell_type": "code",
      "metadata": {
        "id": "XvnUu4_nYI5d",
        "colab_type": "code",
        "colab": {}
      },
      "source": [
        "# Create a mask of 1s for each token followed by 0s for padding\n",
        "for seq in input_ids_test:\n",
        "  seq_mask = [float(i>0) for i in seq]\n",
        "  attention_masks_test.append(seq_mask) "
      ],
      "execution_count": 37,
      "outputs": []
    },
    {
      "cell_type": "code",
      "metadata": {
        "id": "LZrcStjUYI29",
        "colab_type": "code",
        "colab": {}
      },
      "source": [
        "prediction_inputs = torch.tensor(input_ids_test)\n",
        "prediction_masks = torch.tensor(attention_masks_test)\n",
        "prediction_labels = torch.tensor(labels_test)"
      ],
      "execution_count": 38,
      "outputs": []
    },
    {
      "cell_type": "code",
      "metadata": {
        "id": "HCKdVMkAYI0U",
        "colab_type": "code",
        "colab": {}
      },
      "source": [
        "prediction_data = TensorDataset(prediction_inputs, prediction_masks, prediction_labels)\n",
        "prediction_sampler = SequentialSampler(prediction_data)\n",
        "prediction_dataloader = DataLoader(prediction_data, sampler=prediction_sampler, batch_size=BATCH_SIZE)"
      ],
      "execution_count": 39,
      "outputs": []
    },
    {
      "cell_type": "code",
      "metadata": {
        "id": "CS0A_XWaZdHm",
        "colab_type": "code",
        "colab": {}
      },
      "source": [
        "# Prediction on test set\n",
        "\n",
        "# Put model in evaluation mode\n",
        "model.eval()\n",
        "\n",
        "# Tracking variables \n",
        "predictions_test, true_labels_test = [], []"
      ],
      "execution_count": 40,
      "outputs": []
    },
    {
      "cell_type": "code",
      "metadata": {
        "id": "VgBPyZtDZdFU",
        "colab_type": "code",
        "colab": {}
      },
      "source": [
        "# Predict \n",
        "for batch in prediction_dataloader:\n",
        "  # Add batch to GPU\n",
        "  batch = tuple(t.to(device) for t in batch)\n",
        "  # Unpack the inputs from our dataloader\n",
        "  b_input_ids, b_input_mask, b_labels = batch\n",
        "  # Telling the model not to compute or store gradients, saving memory and speeding up prediction\n",
        "  with torch.no_grad():\n",
        "    # Forward pass, calculate logit predictions\n",
        "    logits = model(b_input_ids, token_type_ids=None, attention_mask=b_input_mask)\n",
        "\n",
        "  # Move logits and labels to CPU\n",
        "  logits_test = logits.detach().cpu().numpy()\n",
        "  label_ids_test = b_labels.to('cpu').numpy()\n",
        "  \n",
        "  # Store predictions and true labels\n",
        "  predictions_test.append(logits_test)\n",
        "  true_labels_test.append(label_ids_test)"
      ],
      "execution_count": 41,
      "outputs": []
    },
    {
      "cell_type": "code",
      "metadata": {
        "id": "t8fq6nxAaPr9",
        "colab_type": "code",
        "colab": {}
      },
      "source": [
        "# Flatten the predictions and true values\n",
        "flat_predictions_test = [item for sublist in predictions_test for item in sublist]\n",
        "flat_predictions_test = np.argmax(flat_predictions_test, axis=1).flatten()\n",
        "flat_true_labels_test = [item for sublist in true_labels_test for item in sublist]"
      ],
      "execution_count": 42,
      "outputs": []
    },
    {
      "cell_type": "code",
      "metadata": {
        "id": "nsBINcTnaPmJ",
        "colab_type": "code",
        "colab": {}
      },
      "source": [
        "# # At this point we must create a binary array to determine which answers were answered correctly\n",
        "# test_results_array = np.array(flat_predictions_test == flat_true_labels_test)\n",
        "# test_results_array = test_results_array.astype(int)\n",
        "# test_results_array[:100]"
      ],
      "execution_count": 43,
      "outputs": []
    },
    {
      "cell_type": "code",
      "metadata": {
        "id": "fd6ezWE1L62i",
        "colab_type": "code",
        "colab": {}
      },
      "source": [
        "# Create the file to store the stats of the model if it doesn't already exist\n",
        "\n",
        "import os\n",
        "f = None\n",
        "if not os.path.isfile(STATS_PATH):\n",
        "  f = open(STATS_PATH, \"w\")\n",
        "  f.write(\"number,datetime,bert_model,hugging_face,max_len,epochs,batch_size,\\\n",
        "            optimizer,learning_rate,warmup,pretraining_model_id,pretraining_model_type,\\\n",
        "            cost_sensitivity,accuracy,macro_prec,macro_recall,macro_f1,macro_support,\\\n",
        "            weighted_prec,weighted_recall,weighted_f1,weighted_support,kfold,notes\\n\")\n",
        "  print(\"skin_cancer_stats.csv NOT found - creating\")\n",
        "  f.close()"
      ],
      "execution_count": 44,
      "outputs": []
    },
    {
      "cell_type": "code",
      "metadata": {
        "id": "6cDn8BNf-hWn",
        "colab_type": "code",
        "colab": {}
      },
      "source": [
        "# from sklearn.metrics import classification_report\n",
        "\n",
        "# y_pred = flat_predictions_test\n",
        "# y = flat_true_labels_test\n",
        "\n",
        "# classification_dict = classification_report(y, y_pred, labels=None, target_names=None, \\\n",
        "#                       sample_weight=None, digits=2, output_dict=True, zero_division=1)\n",
        "\n",
        "# # Create arrays of precisions, recalls, f1s to recalculate average\n",
        "# precisions = []\n",
        "# recalls = []\n",
        "# f1s = []\n",
        "# supports = []\n",
        "\n",
        "# # We must alter the classification dictionary to update the f1_score and recall keys to be 1 instead of 0\n",
        "# # In this example, precision/recall/f1 scores of 0 are set to 1\n",
        "\n",
        "# classification_dict_converted = {}\n",
        "\n",
        "# for k,v in classification_dict.items():\n",
        "#   if k.isdigit():\n",
        "\n",
        "#     if float(v['recall']) == 0.0: v['recall'] = 1.0\n",
        "#     recalls.append(v['recall'])\n",
        "\n",
        "#     if float(v['f1-score']) == 0.0: v['f1-score'] = 1.0\n",
        "#     f1s.append(v['f1-score'])\n",
        "\n",
        "#     if float(v['precision']) == 0.0: v['precision'] = 1.0\n",
        "#     precisions.append(v['precision'])\n",
        "\n",
        "#     supports.append(v['support'])\n",
        "\n",
        "#     # Convert dictionary keys back to our original labels\n",
        "#     original_key = next((key for key in label_types if label_types[key] == int(k)), None)\n",
        "#     classification_dict_converted.update({ original_key : v })\n",
        "\n",
        "#     print(original_key + \" : \" + str(classification_dict_converted[original_key]))\n",
        "\n",
        "#   # Otherwise, we are at the end of the dict and edit the averages to account for the newly replaced 0s\n",
        "#   else:\n",
        "#     if k == 'macro avg':\n",
        "#       precision = sum(precisions)/len(precisions)\n",
        "#       recall = sum(recalls)/len(recalls)\n",
        "#       f1 = sum(f1s)/len(f1s)\n",
        "\n",
        "#       v['precision'] = precision\n",
        "#       v['recall'] = recall\n",
        "#       v['f1-score'] = f1\n",
        "\n",
        "#     if k == 'weighted avg':\n",
        "#       weighted_precisions = [precisions[i]*supports[i] for i in range(len(precisions))]\n",
        "#       weighted_recalls = [recalls[i]*supports[i] for i in range(len(recalls))]\n",
        "#       weighted_f1s = [f1s[i]*supports[i] for i in range(len(f1s))]\n",
        "\n",
        "#       total_supports = v['support']\n",
        "\n",
        "#       precision = sum(weighted_precisions)/total_supports\n",
        "#       recall = sum(weighted_recalls)/total_supports\n",
        "#       f1 = sum(weighted_f1s)/total_supports\n",
        "\n",
        "#       v['precision'] = precision\n",
        "#       v['recall'] = recall\n",
        "#       v['f1-score'] = f1\n",
        "\n",
        "#     classification_dict_converted.update({ k : v })\n",
        "#     print(\"\\n\" + k + \" : \" + str(classification_dict_converted[k]))\n",
        "\n",
        "# accuracy = classification_dict_converted['accuracy']"
      ],
      "execution_count": 45,
      "outputs": []
    },
    {
      "cell_type": "code",
      "metadata": {
        "id": "CMdbx8GDt4hr",
        "colab_type": "code",
        "colab": {
          "base_uri": "https://localhost:8080/",
          "height": 374
        },
        "outputId": "da9aff5e-7f3e-4f8f-a317-88e3bb62be77"
      },
      "source": [
        "from sklearn.metrics import classification_report\n",
        "\n",
        "y_pred = flat_predictions_test\n",
        "y = flat_true_labels_test\n",
        "\n",
        "classification_dict = classification_report(y, y_pred, labels=None, target_names=None, \\\n",
        "                      sample_weight=None, digits=2, output_dict=True, zero_division=1)\n",
        "\n",
        "# Create arrays of precisions, recalls, f1s to recalculate average\n",
        "precisions = []\n",
        "recalls = []\n",
        "f1s = []\n",
        "supports = []\n",
        "\n",
        "# We must alter the classification dictionary to update the f1_score and recall keys to be 1 instead of 0\n",
        "# In this example, precision/recall/f1 scores of 0 are ignored\n",
        "\n",
        "classification_dict_stripped = {}\n",
        "\n",
        "for k,v in classification_dict.items():\n",
        "  if k.isdigit():\n",
        "\n",
        "    if float(v['precision']) != 0.0 and float(v['recall']) != 0.0 and float(v['f1-score']) != 0.0:\n",
        "      recalls.append(v['recall'])\n",
        "      f1s.append(v['f1-score'])\n",
        "      precisions.append(v['precision'])\n",
        "      supports.append(v['support'])\n",
        "\n",
        "      # Convert dictionary keys back to our original labels\n",
        "      original_key = next((key for key in label_types if label_types[key] == int(k)), None)\n",
        "      classification_dict_stripped.update({ original_key : v })\n",
        "\n",
        "      print(original_key + \" : \" + str(classification_dict_stripped[original_key]))\n",
        "      \n",
        "  # Otherwise, we are at the end of the dict and edit the averages to account for the newly replaced 0s\n",
        "  else:\n",
        "    if k == 'macro avg':\n",
        "      precision = sum(precisions)/len(precisions)\n",
        "      recall = sum(recalls)/len(recalls)\n",
        "      f1 = sum(f1s)/len(f1s)\n",
        "\n",
        "      v['precision'] = precision\n",
        "      v['recall'] = recall\n",
        "      v['f1-score'] = f1\n",
        "\n",
        "    if k == 'weighted avg':\n",
        "      weighted_precisions = [precisions[i]*supports[i] for i in range(len(precisions))]\n",
        "      weighted_recalls = [recalls[i]*supports[i] for i in range(len(recalls))]\n",
        "      weighted_f1s = [f1s[i]*supports[i] for i in range(len(f1s))]\n",
        "\n",
        "      total_supports = sum(supports)\n",
        "\n",
        "      precision = sum(weighted_precisions)/total_supports\n",
        "      recall = sum(weighted_recalls)/total_supports\n",
        "      f1 = sum(weighted_f1s)/total_supports\n",
        "\n",
        "      v['precision'] = precision\n",
        "      v['recall'] = recall\n",
        "      v['f1-score'] = f1\n",
        "      v['support'] = total_supports\n",
        "\n",
        "    classification_dict_stripped.update({ k : v })\n",
        "\n",
        "    print(\"\\n\" + k + \" : \" + str(classification_dict_stripped[k]))"
      ],
      "execution_count": 46,
      "outputs": [
        {
          "output_type": "stream",
          "text": [
            "O : {'precision': 0.9177057356608479, 'recall': 0.9169435215946844, 'f1-score': 0.9173244702949731, 'support': 1204}\n",
            "R-1-2 : {'precision': 0.6303030303030303, 'recall': 0.7819548872180451, 'f1-score': 0.6979865771812079, 'support': 133}\n",
            "R-12-3 : {'precision': 0.6, 'recall': 0.45454545454545453, 'f1-score': 0.5172413793103449, 'support': 66}\n",
            "R-1-50 : {'precision': 0.6597938144329897, 'recall': 0.5714285714285714, 'f1-score': 0.6124401913875598, 'support': 112}\n",
            "R-2-3 : {'precision': 0.5081967213114754, 'recall': 0.5344827586206896, 'f1-score': 0.5210084033613445, 'support': 58}\n",
            "R-3-4 : {'precision': 0.6333333333333333, 'recall': 0.6785714285714286, 'f1-score': 0.6551724137931035, 'support': 56}\n",
            "R-5-6 : {'precision': 0.6865671641791045, 'recall': 0.4, 'f1-score': 0.5054945054945055, 'support': 115}\n",
            "R-2-50 : {'precision': 0.44921875, 'recall': 0.6845238095238095, 'f1-score': 0.5424528301886793, 'support': 168}\n",
            "R-4-5 : {'precision': 0.45544554455445546, 'recall': 0.8363636363636363, 'f1-score': 0.5897435897435898, 'support': 55}\n",
            "R-3-50 : {'precision': 0.6060606060606061, 'recall': 0.40816326530612246, 'f1-score': 0.48780487804878053, 'support': 98}\n",
            "R-2-5 : {'precision': 0.6666666666666666, 'recall': 0.25806451612903225, 'f1-score': 0.37209302325581395, 'support': 31}\n",
            "R-5-50 : {'precision': 0.6666666666666666, 'recall': 0.7536231884057971, 'f1-score': 0.7074829931972789, 'support': 207}\n",
            "R-6-50 : {'precision': 0.48717948717948717, 'recall': 0.8085106382978723, 'f1-score': 0.608, 'support': 94}\n",
            "R-11-12 : {'precision': 0.48717948717948717, 'recall': 0.7307692307692307, 'f1-score': 0.5846153846153846, 'support': 52}\n",
            "R-1-3 : {'precision': 0.6666666666666666, 'recall': 0.1111111111111111, 'f1-score': 0.1904761904761905, 'support': 18}\n",
            "\n",
            "accuracy : 0.7274817937907244\n",
            "\n",
            "macro avg : {'precision': 0.6080655782796545, 'recall': 0.5952704011923655, 'f1-score': 0.5672891220232504, 'support': 2609}\n",
            "\n",
            "weighted avg : {'precision': 0.7490268676550847, 'recall': 0.7693554925010134, 'f1-score': 0.748033808620629, 'support': 2467}\n"
          ],
          "name": "stdout"
        }
      ]
    },
    {
      "cell_type": "code",
      "metadata": {
        "id": "zMMAANxB3pYQ",
        "colab_type": "code",
        "colab": {}
      },
      "source": [
        "ACCURACY = classification_dict_stripped['accuracy']\n",
        "\n",
        "macro = classification_dict_stripped[\"macro avg\"]\n",
        "MACRO_F1 = macro[\"f1-score\"]\n",
        "MACRO_PREC = macro[\"precision\"]\n",
        "MACRO_RECALL = macro[\"recall\"]\n",
        "MACRO_SUPPORT = macro[\"support\"]\n",
        "\n",
        "weighted = classification_dict_stripped[\"weighted avg\"]\n",
        "WEIGHTED_F1 = weighted[\"f1-score\"]\n",
        "WEIGHTED_PREC = weighted[\"precision\"]\n",
        "WEIGHTED_RECALL = weighted[\"recall\"]\n",
        "WEIGHTED_SUPPORT = weighted[\"support\"]"
      ],
      "execution_count": 47,
      "outputs": []
    },
    {
      "cell_type": "code",
      "metadata": {
        "id": "-jhdyo1kAA8r",
        "colab_type": "code",
        "colab": {
          "base_uri": "https://localhost:8080/",
          "height": 35
        },
        "outputId": "9ad1f1b3-36a8-41ba-cdeb-a921895ac400"
      },
      "source": [
        "# Capture HuggingFace type\n",
        "\n",
        "hf_arr = str(type(model)).split('.')\n",
        "HF_TYPE = hf_arr[2]\n",
        "HF_TYPE = ''.join(filter(str.isalnum, HF_TYPE))\n",
        "HF_TYPE"
      ],
      "execution_count": 48,
      "outputs": [
        {
          "output_type": "execute_result",
          "data": {
            "application/vnd.google.colaboratory.intrinsic+json": {
              "type": "string"
            },
            "text/plain": [
              "'BertForSequenceClassification'"
            ]
          },
          "metadata": {
            "tags": []
          },
          "execution_count": 48
        }
      ]
    },
    {
      "cell_type": "code",
      "metadata": {
        "id": "4rwyzetq_8bY",
        "colab_type": "code",
        "colab": {
          "base_uri": "https://localhost:8080/",
          "height": 35
        },
        "outputId": "f906ce16-cd2d-473c-f37b-e47bbb0e7bde"
      },
      "source": [
        "# Capture optimizer type\n",
        "\n",
        "opt_arr = str(type(optimizer)).split('.')\n",
        "OPTIMIZER_TYPE = opt_arr[2]\n",
        "OPTIMIZER_TYPE = ''.join(filter(str.isalnum, OPTIMIZER_TYPE))\n",
        "OPTIMIZER_TYPE"
      ],
      "execution_count": 49,
      "outputs": [
        {
          "output_type": "execute_result",
          "data": {
            "application/vnd.google.colaboratory.intrinsic+json": {
              "type": "string"
            },
            "text/plain": [
              "'BertAdam'"
            ]
          },
          "metadata": {
            "tags": []
          },
          "execution_count": 49
        }
      ]
    },
    {
      "cell_type": "code",
      "metadata": {
        "id": "osyohy5pZXUh",
        "colab_type": "code",
        "colab": {}
      },
      "source": [
        "# Get date and time\n",
        "import datetime\n",
        "import pytz\n",
        "\n",
        "date = str(datetime.datetime.now(tz = pytz.timezone('US/Central')))\n",
        "date = date.split(' ')\n",
        "time = date[1]\n",
        "date = date[0]\n",
        "h, m = [time.split(':')[0], time.split(':')[1]]\n",
        "\n",
        "DATE_TIME = date + ' ' + h + ':' + m + \" CT\""
      ],
      "execution_count": 50,
      "outputs": []
    },
    {
      "cell_type": "code",
      "metadata": {
        "id": "JfdYfNFkbdnD",
        "colab_type": "code",
        "colab": {}
      },
      "source": [
        "NUM = int(current_file_n_str)"
      ],
      "execution_count": 51,
      "outputs": []
    },
    {
      "cell_type": "code",
      "metadata": {
        "id": "ZADeWA6NdWNE",
        "colab_type": "code",
        "colab": {}
      },
      "source": [
        "# Add line to stats, then save and close\n",
        "with open(STATS_PATH, \"a\") as f:\n",
        "  f.write(\"{0},{1},{2},{3},{4},{5},{6},{7},{8},\\\n",
        "  {9},{10},{11},{12},{13},{14},{15},{16},{17},\\\n",
        "  {18},{19},{20},{21},{22},{23}\\n\".format(NUM,DATE_TIME,MODEL_TYPE,HF_TYPE,MAX_LEN,EPOCHS,BATCH_SIZE,\n",
        "                                          OPTIMIZER_TYPE,LEARNING_RATE,WARMUP,PRETRAINING_MODEL_ID,PRETRAINING_MODEL_TYPE,\n",
        "                                          COST_SENSITIVITY,ACCURACY,MACRO_PREC,MACRO_RECALL,MACRO_F1,MACRO_SUPPORT,\n",
        "                                          WEIGHTED_PREC,WEIGHTED_RECALL,WEIGHTED_F1,WEIGHTED_SUPPORT,KFOLD,NOTES))"
      ],
      "execution_count": 52,
      "outputs": []
    },
    {
      "cell_type": "code",
      "metadata": {
        "id": "4BzUUA36G6Fl",
        "colab_type": "code",
        "colab": {
          "base_uri": "https://localhost:8080/",
          "height": 136
        },
        "outputId": "94f8eda2-8897-4d24-af7d-94ccb7fb2a0e"
      },
      "source": [
        "import keras\n",
        "import sklearn\n",
        "import pytorch_pretrained_bert\n",
        "\n",
        "print(\"TensorFlow version:\",tf.__version__)\n",
        "print(\"PyTorch version\",torch.__version__)\n",
        "print(\"Keras version:\",keras.__version__)\n",
        "print(\"Scikit-Learn version:\",sklearn.__version__)\n",
        "print(\"pytorch_pretrained_bert version:\",pytorch_pretrained_bert.__version__)\n",
        "print(\"Pandas version:\",pd.__version__)\n",
        "print(\"NumPy version:\",np.__version__)"
      ],
      "execution_count": 53,
      "outputs": [
        {
          "output_type": "stream",
          "text": [
            "TensorFlow version: 2.3.0\n",
            "PyTorch version 1.6.0+cu101\n",
            "Keras version: 2.4.3\n",
            "Scikit-Learn version: 0.22.2.post1\n",
            "pytorch_pretrained_bert version: 0.6.2\n",
            "Pandas version: 1.0.5\n",
            "NumPy version: 1.18.5\n"
          ],
          "name": "stdout"
        }
      ]
    }
  ]
}