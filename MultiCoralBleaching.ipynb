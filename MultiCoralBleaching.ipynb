{
  "nbformat": 4,
  "nbformat_minor": 0,
  "metadata": {
    "colab": {
      "name": "MultiCoralBleaching.ipynb",
      "provenance": [],
      "collapsed_sections": [],
      "machine_shape": "hm",
      "authorship_tag": "ABX9TyOuEwm8TXP+rLPugmrCespK",
      "include_colab_link": true
    },
    "kernelspec": {
      "name": "python3",
      "display_name": "Python 3"
    },
    "accelerator": "GPU"
  },
  "cells": [
    {
      "cell_type": "markdown",
      "metadata": {
        "id": "view-in-github",
        "colab_type": "text"
      },
      "source": [
        "<a href=\"https://colab.research.google.com/github/claytoncohn/CoralBleaching_SkinCancer/blob/master/MultiCoralBleaching.ipynb\" target=\"_parent\"><img src=\"https://colab.research.google.com/assets/colab-badge.svg\" alt=\"Open In Colab\"/></a>"
      ]
    },
    {
      "cell_type": "code",
      "metadata": {
        "id": "pxGVOeMQOAfs",
        "colab_type": "code",
        "colab": {
          "base_uri": "https://localhost:8080/",
          "height": 34
        },
        "outputId": "a2ff25c9-25d8-4897-bec9-5d1d6ce6abf3"
      },
      "source": [
        "'''\n",
        "The code in this notebook is adopted from:\n",
        "\n",
        "https://colab.research.google.com/drive/1ywsvwO6thOVOrfagjjfuxEf6xVRxbUNO#scrollTo=IUM0UA1qJaVB\n",
        "\n",
        "I have adapted it for use with the coral bleaching data (big and little) found in the wiki:\n",
        "\n",
        "https://knowledge.depaul.edu/display/DNLP/Tasks+and+Data\n",
        "'''\n",
        "\n",
        "# Colab currenly defaults to TensorFlow 1.15, but we need 2.0 or greater\n",
        "\n",
        "%tensorflow_version 2.x\n",
        "import tensorflow as tf\n",
        "print(tf.__version__)"
      ],
      "execution_count": 1,
      "outputs": [
        {
          "output_type": "stream",
          "text": [
            "2.3.0\n"
          ],
          "name": "stdout"
        }
      ]
    },
    {
      "cell_type": "code",
      "metadata": {
        "id": "reOH412ibrsp",
        "colab_type": "code",
        "colab": {}
      },
      "source": [
        "# Manual Parameters - these are not automatically generated and need to be set each runtime\n",
        "\n",
        "# Number of training epochs (authors recommend between 2 and 4)\n",
        "EPOCHS = 4\n",
        "\n",
        "# Select a batch size for training. For fine-tuning BERT on a specific task, the authors recommend a batch size of 16 or 32\n",
        "BATCH_SIZE = 16\n",
        "\n",
        "# If there are sentences longer than 512 tokens, we will crash.\n",
        "MAX_LEN = 128\n",
        "\n",
        "# Learning rate: 5e-5, 3e-5, 2e-5 are the ones recommended\n",
        "LEARNING_RATE = 2e-5\n",
        "\n",
        "WARMUP = .1\n",
        "\n",
        "# Model we are fine-tuning\n",
        "MODEL_TYPE = 'pretrained-bert-base-uncased'\n",
        "# MODEL_TYPE = 'bert-base-uncased'\n",
        "\n",
        "# Load BERT checkpoint from pretraining or use provided model\n",
        "BERT_PATH = \"drive/My Drive/colab/bert/bert_pytorch/torch_model.tar.gz\"\n",
        "# BERT_PATH = 'bert-base-uncased'\n",
        "\n",
        "PRETRAINING_MODEL_ID = 8\n",
        "\n",
        "# Type of pretraining we used: none, mlmnsp, nspmlm, both\n",
        "PRETRAINING_MODEL_TYPE = \"both\"\n",
        "\n",
        "# Cost sensitivity\n",
        "COST_SENSITIVITY = 0\n",
        "\n",
        "# If we do crossvalidation\n",
        "KFOLD = 0\n",
        "\n",
        "NOTES = \"100000 steps of verbatim BERT pretraining\""
      ],
      "execution_count": 2,
      "outputs": []
    },
    {
      "cell_type": "code",
      "metadata": {
        "id": "HTpUC6-8UKsN",
        "colab_type": "code",
        "colab": {
          "base_uri": "https://localhost:8080/",
          "height": 34
        },
        "outputId": "b3e51907-d045-4b9f-f963-fabc192f21ce"
      },
      "source": [
        "# We are going to use Colab's (free) GPU. To do this, goto Edit->Notebook Settings->Hardware Accelerator and select GPU\n",
        "\n",
        "device_name = tf.test.gpu_device_name()\n",
        "if device_name != '/device:GPU:0':\n",
        "  raise SystemError('GPU device not found')\n",
        "print('Found GPU at: {}'.format(device_name))"
      ],
      "execution_count": 3,
      "outputs": [
        {
          "output_type": "stream",
          "text": [
            "Found GPU at: /device:GPU:0\n"
          ],
          "name": "stdout"
        }
      ]
    },
    {
      "cell_type": "code",
      "metadata": {
        "id": "Y8fXOdJIULEO",
        "colab_type": "code",
        "colab": {
          "base_uri": "https://localhost:8080/",
          "height": 462
        },
        "outputId": "1928965f-6155-41a0-b696-56d1314ee483"
      },
      "source": [
        "# Make sure PyTorch is installed - will use with Hugging Face Transformers\n",
        "# Hugging Face library currently accepted as most powerful PyTorch interface with BERT\n",
        "\n",
        "!pip install pytorch-pretrained-bert pytorch-nlp"
      ],
      "execution_count": 4,
      "outputs": [
        {
          "output_type": "stream",
          "text": [
            "Collecting pytorch-pretrained-bert\n",
            "\u001b[?25l  Downloading https://files.pythonhosted.org/packages/d7/e0/c08d5553b89973d9a240605b9c12404bcf8227590de62bae27acbcfe076b/pytorch_pretrained_bert-0.6.2-py3-none-any.whl (123kB)\n",
            "\r\u001b[K     |██▋                             | 10kB 28.3MB/s eta 0:00:01\r\u001b[K     |█████▎                          | 20kB 2.1MB/s eta 0:00:01\r\u001b[K     |████████                        | 30kB 2.8MB/s eta 0:00:01\r\u001b[K     |██████████▋                     | 40kB 3.0MB/s eta 0:00:01\r\u001b[K     |█████████████▎                  | 51kB 2.5MB/s eta 0:00:01\r\u001b[K     |███████████████▉                | 61kB 2.8MB/s eta 0:00:01\r\u001b[K     |██████████████████▌             | 71kB 3.1MB/s eta 0:00:01\r\u001b[K     |█████████████████████▏          | 81kB 3.3MB/s eta 0:00:01\r\u001b[K     |███████████████████████▉        | 92kB 3.5MB/s eta 0:00:01\r\u001b[K     |██████████████████████████▌     | 102kB 3.4MB/s eta 0:00:01\r\u001b[K     |█████████████████████████████▏  | 112kB 3.4MB/s eta 0:00:01\r\u001b[K     |███████████████████████████████▊| 122kB 3.4MB/s eta 0:00:01\r\u001b[K     |████████████████████████████████| 133kB 3.4MB/s \n",
            "\u001b[?25hCollecting pytorch-nlp\n",
            "\u001b[?25l  Downloading https://files.pythonhosted.org/packages/4f/51/f0ee1efb75f7cc2e3065c5da1363d6be2eec79691b2821594f3f2329528c/pytorch_nlp-0.5.0-py3-none-any.whl (90kB)\n",
            "\u001b[K     |████████████████████████████████| 92kB 7.0MB/s \n",
            "\u001b[?25hRequirement already satisfied: torch>=0.4.1 in /usr/local/lib/python3.6/dist-packages (from pytorch-pretrained-bert) (1.6.0+cu101)\n",
            "Requirement already satisfied: requests in /usr/local/lib/python3.6/dist-packages (from pytorch-pretrained-bert) (2.23.0)\n",
            "Requirement already satisfied: numpy in /usr/local/lib/python3.6/dist-packages (from pytorch-pretrained-bert) (1.18.5)\n",
            "Requirement already satisfied: boto3 in /usr/local/lib/python3.6/dist-packages (from pytorch-pretrained-bert) (1.14.59)\n",
            "Requirement already satisfied: regex in /usr/local/lib/python3.6/dist-packages (from pytorch-pretrained-bert) (2019.12.20)\n",
            "Requirement already satisfied: tqdm in /usr/local/lib/python3.6/dist-packages (from pytorch-pretrained-bert) (4.41.1)\n",
            "Requirement already satisfied: future in /usr/local/lib/python3.6/dist-packages (from torch>=0.4.1->pytorch-pretrained-bert) (0.16.0)\n",
            "Requirement already satisfied: idna<3,>=2.5 in /usr/local/lib/python3.6/dist-packages (from requests->pytorch-pretrained-bert) (2.10)\n",
            "Requirement already satisfied: chardet<4,>=3.0.2 in /usr/local/lib/python3.6/dist-packages (from requests->pytorch-pretrained-bert) (3.0.4)\n",
            "Requirement already satisfied: certifi>=2017.4.17 in /usr/local/lib/python3.6/dist-packages (from requests->pytorch-pretrained-bert) (2020.6.20)\n",
            "Requirement already satisfied: urllib3!=1.25.0,!=1.25.1,<1.26,>=1.21.1 in /usr/local/lib/python3.6/dist-packages (from requests->pytorch-pretrained-bert) (1.24.3)\n",
            "Requirement already satisfied: jmespath<1.0.0,>=0.7.1 in /usr/local/lib/python3.6/dist-packages (from boto3->pytorch-pretrained-bert) (0.10.0)\n",
            "Requirement already satisfied: s3transfer<0.4.0,>=0.3.0 in /usr/local/lib/python3.6/dist-packages (from boto3->pytorch-pretrained-bert) (0.3.3)\n",
            "Requirement already satisfied: botocore<1.18.0,>=1.17.59 in /usr/local/lib/python3.6/dist-packages (from boto3->pytorch-pretrained-bert) (1.17.59)\n",
            "Requirement already satisfied: python-dateutil<3.0.0,>=2.1 in /usr/local/lib/python3.6/dist-packages (from botocore<1.18.0,>=1.17.59->boto3->pytorch-pretrained-bert) (2.8.1)\n",
            "Requirement already satisfied: docutils<0.16,>=0.10 in /usr/local/lib/python3.6/dist-packages (from botocore<1.18.0,>=1.17.59->boto3->pytorch-pretrained-bert) (0.15.2)\n",
            "Requirement already satisfied: six>=1.5 in /usr/local/lib/python3.6/dist-packages (from python-dateutil<3.0.0,>=2.1->botocore<1.18.0,>=1.17.59->boto3->pytorch-pretrained-bert) (1.15.0)\n",
            "Installing collected packages: pytorch-pretrained-bert, pytorch-nlp\n",
            "Successfully installed pytorch-nlp-0.5.0 pytorch-pretrained-bert-0.6.2\n"
          ],
          "name": "stdout"
        }
      ]
    },
    {
      "cell_type": "code",
      "metadata": {
        "id": "R8UTcERcULIW",
        "colab_type": "code",
        "colab": {}
      },
      "source": [
        "# Take care of the resf of the imports\n",
        "\n",
        "import torch\n",
        "from torch.utils.data import TensorDataset, DataLoader, RandomSampler, SequentialSampler\n",
        "from keras.preprocessing.sequence import pad_sequences\n",
        "from sklearn.model_selection import train_test_split\n",
        "from pytorch_pretrained_bert import BertTokenizer, BertConfig\n",
        "from pytorch_pretrained_bert import BertAdam, BertForSequenceClassification\n",
        "from tqdm import tqdm, trange\n",
        "import pandas as pd\n",
        "import io\n",
        "import numpy as np\n",
        "import matplotlib.pyplot as plt\n",
        "% matplotlib inline"
      ],
      "execution_count": 5,
      "outputs": []
    },
    {
      "cell_type": "code",
      "metadata": {
        "id": "N88IVVWqWUfd",
        "colab_type": "code",
        "colab": {
          "base_uri": "https://localhost:8080/",
          "height": 35
        },
        "outputId": "6dd7e93c-ed16-496b-dbc5-3b6e3340e171"
      },
      "source": [
        "# If gpu availale, we have to set it up.\n",
        "\n",
        "device = torch.device(\"cuda\" if torch.cuda.is_available() else \"cpu\")\n",
        "n_gpu = torch.cuda.device_count()\n",
        "torch.cuda.get_device_name(0)"
      ],
      "execution_count": 6,
      "outputs": [
        {
          "output_type": "execute_result",
          "data": {
            "application/vnd.google.colaboratory.intrinsic+json": {
              "type": "string"
            },
            "text/plain": [
              "'Tesla P100-PCIE-16GB'"
            ]
          },
          "metadata": {
            "tags": []
          },
          "execution_count": 6
        }
      ]
    },
    {
      "cell_type": "code",
      "metadata": {
        "id": "tRZI3iBRWUsP",
        "colab_type": "code",
        "colab": {
          "base_uri": "https://localhost:8080/",
          "height": 34
        },
        "outputId": "536b195a-b692-43a4-a35e-2324af276d33"
      },
      "source": [
        "# Before importing the data, we must mount Google Drive to Colab notebook.\n",
        "\n",
        "# Each time the notebook is run, Colab must request authorization to remount to Google Drive.\n",
        "# I have not found a way arouund this yet. Even though I am a pro (paying) user, Colab\n",
        "#   will not allow me to let datasets persist after runtime ceases.\n",
        "\n",
        "from google.colab import drive\n",
        "drive.mount('/content/drive')"
      ],
      "execution_count": 7,
      "outputs": [
        {
          "output_type": "stream",
          "text": [
            "Mounted at /content/drive\n"
          ],
          "name": "stdout"
        }
      ]
    },
    {
      "cell_type": "code",
      "metadata": {
        "id": "1Zf9TEVWWUow",
        "colab_type": "code",
        "colab": {}
      },
      "source": [
        "# I downloaded the data directly from the wiki to my Google Drive for pseudo-dynamic access.\n",
        "\n",
        "# PLEASE NOTE: THESE MUST BE CHANGED TO THE ACCESS LOCATION OF DATA\n",
        "\n",
        "# Also, I manually removed the headers from the data for ease of implementation\n",
        "\n",
        "DATA_PATH = \"drive/My Drive/colab/data/\"\n",
        "DATA_NAME = \"EBA1415-CoralBleaching-big-sentences.tsv\"\n",
        "df = pd.read_csv(DATA_PATH + DATA_NAME, delimiter='\\t', header=None, names=['file', 'relation', 's_num', 'sentence'])"
      ],
      "execution_count": 8,
      "outputs": []
    },
    {
      "cell_type": "code",
      "metadata": {
        "id": "3DE3EqboWUmc",
        "colab_type": "code",
        "colab": {
          "base_uri": "https://localhost:8080/",
          "height": 359
        },
        "outputId": "aa97d4ec-ef47-4a96-fc31-41eb18a73b5b"
      },
      "source": [
        "# Let's take a peak\n",
        "\n",
        "df.shape\n",
        "df.sample(10)"
      ],
      "execution_count": 9,
      "outputs": [
        {
          "output_type": "execute_result",
          "data": {
            "text/html": [
              "<div>\n",
              "<style scoped>\n",
              "    .dataframe tbody tr th:only-of-type {\n",
              "        vertical-align: middle;\n",
              "    }\n",
              "\n",
              "    .dataframe tbody tr th {\n",
              "        vertical-align: top;\n",
              "    }\n",
              "\n",
              "    .dataframe thead th {\n",
              "        text-align: right;\n",
              "    }\n",
              "</style>\n",
              "<table border=\"1\" class=\"dataframe\">\n",
              "  <thead>\n",
              "    <tr style=\"text-align: right;\">\n",
              "      <th></th>\n",
              "      <th>file</th>\n",
              "      <th>relation</th>\n",
              "      <th>s_num</th>\n",
              "      <th>sentence</th>\n",
              "    </tr>\n",
              "  </thead>\n",
              "  <tbody>\n",
              "    <tr>\n",
              "      <th>6289</th>\n",
              "      <td>EBA1415_ERAP_1_CB_ES-05475</td>\n",
              "      <td>O</td>\n",
              "      <td>5949.0</td>\n",
              "      <td>The coral bleaching happens in the ocean but i...</td>\n",
              "    </tr>\n",
              "    <tr>\n",
              "      <th>5010</th>\n",
              "      <td>EBA1415_KYLS_5_CB_ES-05658</td>\n",
              "      <td>O</td>\n",
              "      <td>4788.0</td>\n",
              "      <td>For example, the color in the corals change fr...</td>\n",
              "    </tr>\n",
              "    <tr>\n",
              "      <th>2047</th>\n",
              "      <td>EBA1415_TRDJ_11_CB_ES-05720</td>\n",
              "      <td>R-4-14</td>\n",
              "      <td>1867.1</td>\n",
              "      <td>Changes in the amount of Co2 threaten the deli...</td>\n",
              "    </tr>\n",
              "    <tr>\n",
              "      <th>6071</th>\n",
              "      <td>EBA1415_RDCS_2_CB-05452</td>\n",
              "      <td>O</td>\n",
              "      <td>5735.0</td>\n",
              "      <td>The world coral reefs are only in clear, shall...</td>\n",
              "    </tr>\n",
              "    <tr>\n",
              "      <th>5742</th>\n",
              "      <td>EBA1415_KYNS_4_CB_ES-05391</td>\n",
              "      <td>R-5-5B</td>\n",
              "      <td>5441.3</td>\n",
              "      <td>If the water temperature increases the amounts...</td>\n",
              "    </tr>\n",
              "    <tr>\n",
              "      <th>6150</th>\n",
              "      <td>EBA1415_SVJJ_4_CB_ES-05637</td>\n",
              "      <td>R-11-50</td>\n",
              "      <td>5808.1</td>\n",
              "      <td>Storms also cause coral bleaching, the storms ...</td>\n",
              "    </tr>\n",
              "    <tr>\n",
              "      <th>6545</th>\n",
              "      <td>EBA1415_TFBM_2_CB_ES-05448</td>\n",
              "      <td>O</td>\n",
              "      <td>6186.0</td>\n",
              "      <td>The algae rely on the coral to stay healthy, b...</td>\n",
              "    </tr>\n",
              "    <tr>\n",
              "      <th>3387</th>\n",
              "      <td>EBA1415post_WSAL_2_CB_ES-05370</td>\n",
              "      <td>O</td>\n",
              "      <td>3164.0</td>\n",
              "      <td>With this information, I can conclude that hea...</td>\n",
              "    </tr>\n",
              "    <tr>\n",
              "      <th>6786</th>\n",
              "      <td>EBA1415_RDCS_2_CB-04714</td>\n",
              "      <td>O</td>\n",
              "      <td>6414.0</td>\n",
              "      <td>Upwelling in the eastern Pacific causes surfac...</td>\n",
              "    </tr>\n",
              "    <tr>\n",
              "      <th>7245</th>\n",
              "      <td>EBA1415_TWDG_1_CB_ES-04942</td>\n",
              "      <td>O</td>\n",
              "      <td>6822.0</td>\n",
              "      <td>Coral bleaching is most noticable in the Pacif...</td>\n",
              "    </tr>\n",
              "  </tbody>\n",
              "</table>\n",
              "</div>"
            ],
            "text/plain": [
              "                                file  ...                                           sentence\n",
              "6289      EBA1415_ERAP_1_CB_ES-05475  ...  The coral bleaching happens in the ocean but i...\n",
              "5010      EBA1415_KYLS_5_CB_ES-05658  ...  For example, the color in the corals change fr...\n",
              "2047     EBA1415_TRDJ_11_CB_ES-05720  ...  Changes in the amount of Co2 threaten the deli...\n",
              "6071         EBA1415_RDCS_2_CB-05452  ...  The world coral reefs are only in clear, shall...\n",
              "5742      EBA1415_KYNS_4_CB_ES-05391  ...  If the water temperature increases the amounts...\n",
              "6150      EBA1415_SVJJ_4_CB_ES-05637  ...  Storms also cause coral bleaching, the storms ...\n",
              "6545      EBA1415_TFBM_2_CB_ES-05448  ...  The algae rely on the coral to stay healthy, b...\n",
              "3387  EBA1415post_WSAL_2_CB_ES-05370  ...  With this information, I can conclude that hea...\n",
              "6786         EBA1415_RDCS_2_CB-04714  ...  Upwelling in the eastern Pacific causes surfac...\n",
              "7245      EBA1415_TWDG_1_CB_ES-04942  ...  Coral bleaching is most noticable in the Pacif...\n",
              "\n",
              "[10 rows x 4 columns]"
            ]
          },
          "metadata": {
            "tags": []
          },
          "execution_count": 9
        }
      ]
    },
    {
      "cell_type": "code",
      "metadata": {
        "id": "A8ylllfyWUid",
        "colab_type": "code",
        "colab": {}
      },
      "source": [
        "# Create sentence and label lists\n",
        "sentences = df.sentence.values\n",
        "\n",
        "# Add special tokens at the beginning and end of each sentence to comply with BERT\n",
        "sentences = [\"[CLS] \" + sentence + \" [SEP]\" for sentence in sentences]\n",
        "labels = df.relation.values"
      ],
      "execution_count": 10,
      "outputs": []
    },
    {
      "cell_type": "code",
      "metadata": {
        "id": "9zkVE9ymZFOL",
        "colab_type": "code",
        "colab": {
          "base_uri": "https://localhost:8080/",
          "height": 71
        },
        "outputId": "67c18e41-9ed6-4f03-d566-d33b55df657b"
      },
      "source": [
        "# Now that our [CLS] and [SEP] tokens are in place, we are ready for tokenization\n",
        "tokenizer = BertTokenizer.from_pretrained('bert-base-uncased', do_lower_case=True)\n",
        "tokenized_texts = [tokenizer.tokenize(sent) for sent in sentences]\n",
        "print (\"First sentence tokenized: \",tokenized_texts[0])"
      ],
      "execution_count": 11,
      "outputs": [
        {
          "output_type": "stream",
          "text": [
            "100%|██████████| 231508/231508 [00:00<00:00, 2617170.99B/s]\n"
          ],
          "name": "stderr"
        },
        {
          "output_type": "stream",
          "text": [
            "First sentence tokenized:  ['[CLS]', 'coral', 'and', 'zoo', '##xa', '##nt', '##hell', '##ae', 'depend', 'an', 'each', 'other', 'in', 'order', 'to', 'live', '.', '[SEP]']\n"
          ],
          "name": "stdout"
        }
      ]
    },
    {
      "cell_type": "code",
      "metadata": {
        "id": "6Lf1BD3oZFRR",
        "colab_type": "code",
        "colab": {
          "base_uri": "https://localhost:8080/",
          "height": 34
        },
        "outputId": "4ebfc2b8-d119-4322-e087-244d9db7a2f5"
      },
      "source": [
        "'''\n",
        "For each tokenized input sentence, we need to create:\n",
        "\n",
        "1. input ids:\n",
        "    a sequence of integers identifying each input token to its index number \n",
        "    in the BERT tokenizer vocabulary\n",
        "\n",
        "2. segment mask: (optional) a sequence of 1s and 0s used to identify whether the input is one \n",
        "    sentence or two sentences long. For one sentence inputs, this is simply a sequence of 0s. \n",
        "    For two sentence inputs, there is a 0 for each token of the first sentence, followed by a \n",
        "    1 for each token of the second sentence\n",
        "\n",
        "3. attention mask: (optional) \n",
        "    a sequence of 1s and 0s, with 1s for all input tokens and 0s for all padding tokens \n",
        "\n",
        "4. labels: based on the labels from the data set\n",
        "'''\n",
        "\n",
        "# For now, we will simply delete the tokenized_texts greater than MAX_LEN.\n",
        "\n",
        "# We need to strip out the sentences greater than MAX_LEN tokens\n",
        "original_length = len(tokenized_texts)\n",
        "\n",
        "labels = [labels[i] for i in range(len(tokenized_texts)) if len(tokenized_texts[i]) <= MAX_LEN]\n",
        "tokenized_texts = [tokenized_texts[i] for i in range(len(tokenized_texts)) if len(tokenized_texts[i]) <= MAX_LEN]\n",
        "print(\"Removed {0} sentences greater than {1}\".format(original_length - len(tokenized_texts),MAX_LEN))"
      ],
      "execution_count": 12,
      "outputs": [
        {
          "output_type": "stream",
          "text": [
            "Removed 13 sentences greater than 128\n"
          ],
          "name": "stdout"
        }
      ]
    },
    {
      "cell_type": "code",
      "metadata": {
        "id": "Qr-MfjBVZFZ3",
        "colab_type": "code",
        "colab": {}
      },
      "source": [
        "# Use the BERT tokenizer to convert the tokens to their index numbers in the BERT vocabulary\n",
        "input_ids = [tokenizer.convert_tokens_to_ids(x) for x in tokenized_texts]"
      ],
      "execution_count": 13,
      "outputs": []
    },
    {
      "cell_type": "code",
      "metadata": {
        "id": "oc2YEZ2gZFXF",
        "colab_type": "code",
        "colab": {}
      },
      "source": [
        "# Pad our input tokens\n",
        "input_ids = pad_sequences(input_ids, maxlen=MAX_LEN, dtype=\"long\", truncating=\"post\", padding=\"post\")"
      ],
      "execution_count": 14,
      "outputs": []
    },
    {
      "cell_type": "code",
      "metadata": {
        "id": "--O5pAmKZFUu",
        "colab_type": "code",
        "colab": {}
      },
      "source": [
        "# Create attention masks\n",
        "attention_masks = []\n",
        "\n",
        "# Create a mask of 1s for each token followed by 0s for padding\n",
        "for seq in input_ids:\n",
        "  seq_mask = [float(i>0) for i in seq]\n",
        "  attention_masks.append(seq_mask)"
      ],
      "execution_count": 15,
      "outputs": []
    },
    {
      "cell_type": "code",
      "metadata": {
        "id": "XUv2hrecsjkm",
        "colab_type": "code",
        "colab": {
          "base_uri": "https://localhost:8080/",
          "height": 71
        },
        "outputId": "b675584e-ef78-4a52-aca0-6f4efe18f534"
      },
      "source": [
        "# At this point we must convert our labels from strings to ints (required for tensorization)\n",
        "\n",
        "# First we are going to create an array of all possible labels\n",
        "label_types = {}\n",
        "for i in range(len(labels)):\n",
        "  if labels[i] not in label_types:\n",
        "    label_types.update({labels[i] : len(label_types)})\n",
        "print(\"Total labels_types: {0}\\nLabels: {1}\".format(len(label_types),str(label_types)))"
      ],
      "execution_count": 16,
      "outputs": [
        {
          "output_type": "stream",
          "text": [
            "Total labels_types: 92\n",
            "Labels: {'O': 0, 'R-7-50': 1, 'R-3-1': 2, 'R-5B-50': 3, 'R-50-7': 4, 'R-1-50': 5, 'R-3-50': 6, 'R-3-4': 7, 'R-4-5': 8, 'R-5-5B': 9, 'R-4-50': 10, 'R-2-3': 11, 'R-13-50': 12, 'R-3-7': 13, 'R-1-3': 14, 'R-11-50': 15, 'R-11-12': 16, 'R-12-14': 17, 'R-6-7': 18, 'R-1-2': 19, 'R-2-50': 20, 'R-3-5': 21, 'R-4-14': 22, 'R-6-50': 23, 'R-5-50': 24, 'R-1-7': 25, 'R-3-2': 26, 'R-11-13': 27, 'R-14-50': 28, 'R-6-14': 29, 'R-12-50': 30, 'R-12-13': 31, 'R-13-14': 32, 'R-5-7': 33, 'R-4-5B': 34, 'R-4-3': 35, 'R-11-14': 36, 'R-1-4': 37, 'R-4-7': 38, 'R-13-7': 39, 'R-14-6': 40, 'R-11-3': 41, 'R-50-50': 42, 'R-7-13': 43, 'R-7-1': 44, 'R-13-6': 45, 'R-5B-7': 46, 'R-4-13': 47, 'R-7-14': 48, 'R-50-1': 49, 'R-3-5B': 50, 'R-3-6': 51, 'R-14-11': 52, 'R-7-5B': 53, 'R-1-5': 54, 'R-50-3': 55, 'R-11-11': 56, 'R-12-7': 57, 'R-12-11': 58, 'R-13-11': 59, 'R-12-5B': 60, 'R-5-4': 61, 'R-4-6': 62, 'R-OTHER-13': 63, 'R-11-OTHER': 64, 'R-3-13': 65, 'R-13-12': 66, 'R-1-11': 67, 'R-14-7': 68, 'R-7-5': 69, 'R-11-6': 70, 'R-1-13': 71, 'R-5-13': 72, 'R-5-6': 73, 'R-3-14': 74, 'R-5B-5': 75, 'R-1-6': 76, 'R-5B-14': 77, 'R-2-4': 78, 'R-2-7': 79, 'R-2-6': 80, 'R-11-1': 81, 'R-5-3': 82, 'R-4-11': 83, 'R-11-4': 84, 'R-2-1': 85, 'R-6-5B': 86, 'R-13-4': 87, 'R-5-14': 88, 'R-7-6': 89, 'R-1-14': 90, 'R-13-5': 91}\n"
          ],
          "name": "stdout"
        }
      ]
    },
    {
      "cell_type": "code",
      "metadata": {
        "id": "-BwKmV_V9l7C",
        "colab_type": "code",
        "colab": {
          "base_uri": "https://localhost:8080/",
          "height": 71
        },
        "outputId": "56d8aaf6-bb49-4025-85a1-dddf269a2bbe"
      },
      "source": [
        "# Now map each label to its corresponding integer\n",
        "print(\"Old labels: \",str(labels))\n",
        "labels = [label_types.get(l) for l in labels]\n",
        "print(\"New labels: \",str(labels))"
      ],
      "execution_count": 17,
      "outputs": [
        {
          "output_type": "stream",
          "text": [
            "Old labels:  ['O', 'R-7-50', 'O', 'O', 'R-3-1', 'O', 'O', 'O', 'R-5B-50', 'R-50-7', 'R-1-50', 'O', 'O', 'O', 'O', 'O', 'O', 'O', 'O', 'R-3-50', 'R-3-1', 'O', 'R-3-4', 'R-4-5', 'R-5-5B', 'R-5-5B', 'O', 'O', 'R-4-50', 'O', 'O', 'R-2-3', 'O', 'O', 'O', 'O', 'O', 'R-3-50', 'R-3-50', 'R-13-50', 'O', 'R-3-7', 'R-3-50', 'R-1-50', 'R-1-3', 'R-3-50', 'O', 'O', 'O', 'O', 'O', 'O', 'O', 'O', 'O', 'O', 'O', 'O', 'O', 'O', 'O', 'O', 'R-3-50', 'R-1-3', 'R-13-50', 'R-11-50', 'R-11-12', 'R-12-14', 'O', 'O', 'O', 'O', 'O', 'O', 'R-1-50', 'R-3-50', 'O', 'R-3-50', 'O', 'O', 'O', 'R-6-7', 'O', 'O', 'O', 'R-6-7', 'R-7-50', 'O', 'O', 'O', 'O', 'R-1-2', 'R-2-50', 'O', 'O', 'O', 'O', 'O', 'O', 'O', 'O', 'R-3-5', 'R-3-4', 'R-4-14', 'O', 'O', 'O', 'O', 'R-7-50', 'R-6-7', 'R-6-7', 'R-7-50', 'R-6-7', 'R-7-50', 'R-6-7', 'R-7-50', 'O', 'R-7-50', 'O', 'O', 'O', 'O', 'O', 'R-7-50', 'R-7-50', 'O', 'O', 'R-7-50', 'O', 'O', 'R-7-50', 'O', 'O', 'R-6-50', 'R-6-7', 'R-6-7', 'O', 'O', 'O', 'R-1-50', 'R-5-50', 'R-7-50', 'O', 'O', 'O', 'R-1-3', 'R-1-3', 'O', 'R-3-50', 'O', 'O', 'O', 'O', 'O', 'O', 'O', 'O', 'O', 'O', 'O', 'O', 'O', 'R-7-50', 'O', 'R-1-7', 'O', 'O', 'R-5B-50', 'R-5B-50', 'O', 'O', 'O', 'R-1-50', 'O', 'R-1-3', 'O', 'O', 'O', 'R-3-1', 'R-3-2', 'R-1-2', 'O', 'O', 'O', 'O', 'O', 'O', 'O', 'O', 'O', 'O', 'O', 'O', 'O', 'R-3-5', 'O', 'R-11-13', 'R-14-50', 'R-6-14', 'R-7-50', 'O', 'O', 'R-1-2', 'R-1-2', 'R-6-7', 'O', 'O', 'O', 'O', 'O', 'O', 'O', 'O', 'O', 'O', 'O', 'O', 'O', 'O', 'O', 'O', 'O', 'O', 'O', 'O', 'O', 'O', 'O', 'O', 'O', 'O', 'O', 'R-3-50', 'O', 'R-1-50', 'O', 'O', 'O', 'R-4-14', 'R-4-14', 'O', 'O', 'O', 'O', 'O', 'R-7-50', 'O', 'O', 'R-1-2', 'O', 'R-2-3', 'R-3-50', 'R-11-13', 'R-12-50', 'R-13-50', 'O', 'O', 'O', 'O', 'O', 'R-6-7', 'O', 'O', 'R-1-50', 'R-1-2', 'O', 'O', 'R-7-50', 'O', 'O', 'O', 'O', 'O', 'O', 'O', 'O', 'O', 'O', 'O', 'O', 'O', 'O', 'O', 'O', 'O', 'O', 'O', 'O', 'O', 'O', 'O', 'O', 'O', 'O', 'O', 'O', 'O', 'R-7-50', 'O', 'O', 'O', 'O', 'O', 'O', 'O', 'O', 'O', 'O', 'R-1-3', 'O', 'O', 'O', 'O', 'O', 'O', 'O', 'O', 'O', 'O', 'O', 'O', 'O', 'R-5-5B', 'O', 'O', 'R-6-7', 'R-7-50', 'O', 'O', 'O', 'O', 'O', 'O', 'O', 'O', 'O', 'O', 'R-5B-50', 'O', 'R-11-12', 'R-12-13', 'R-13-14', 'R-13-14', 'R-3-50', 'R-4-50', 'R-3-5', 'R-5-5B', 'O', 'R-4-5', 'R-6-7', 'R-7-50', 'R-3-50', 'R-4-50', 'R-7-50', 'R-5-7', 'O', 'R-3-7', 'R-1-7', 'O', 'R-1-3', 'R-3-50', 'O', 'O', 'R-1-3', 'R-2-3', 'O', 'O', 'R-11-50', 'R-11-12', 'R-12-13', 'R-13-14', 'R-14-50', 'R-14-50', 'O', 'O', 'R-1-3', 'R-1-2', 'R-1-2', 'O', 'O', 'R-3-5', 'R-3-4', 'R-4-5', 'R-5-7', 'R-7-50', 'R-7-50', 'R-1-3', 'R-3-50', 'R-3-50', 'R-1-50', 'O', 'O', 'O', 'O', 'R-2-3', 'R-11-50', 'O', 'R-11-12', 'R-12-13', 'R-13-14', 'R-13-14', 'O', 'O', 'O', 'O', 'O', 'O', 'O', 'O', 'R-7-50', 'R-3-50', 'O', 'O', 'O', 'R-7-50', 'O', 'O', 'O', 'O', 'O', 'O', 'O', 'O', 'O', 'O', 'O', 'O', 'R-6-7', 'R-6-7', 'O', 'O', 'R-1-50', 'R-7-50', 'O', 'O', 'O', 'O', 'R-1-3', 'R-1-2', 'O', 'R-1-50', 'R-3-50', 'O', 'O', 'R-5-7', 'R-4-5B', 'O', 'O', 'O', 'O', 'R-1-3', 'R-11-13', 'O', 'R-7-50', 'R-7-50', 'R-6-50', 'O', 'O', 'R-7-50', 'O', 'O', 'O', 'O', 'O', 'O', 'R-3-1', 'R-1-50', 'R-1-50', 'O', 'O', 'O', 'O', 'O', 'R-14-50', 'R-6-14', 'R-1-50', 'R-14-50', 'O', 'O', 'O', 'O', 'R-3-50', 'R-4-50', 'R-3-50', 'R-3-50', 'R-1-50', 'O', 'O', 'O', 'R-1-50', 'R-3-50', 'O', 'R-1-50', 'R-3-50', 'R-5B-50', 'O', 'O', 'O', 'O', 'R-12-13', 'R-12-50', 'O', 'O', 'O', 'O', 'O', 'O', 'O', 'O', 'O', 'O', 'O', 'O', 'O', 'O', 'O', 'O', 'O', 'O', 'R-1-50', 'R-3-50', 'O', 'O', 'O', 'R-7-50', 'R-7-50', 'O', 'R-1-3', 'R-1-3', 'O', 'R-3-4', 'R-4-5', 'O', 'O', 'R-11-13', 'R-13-14', 'O', 'O', 'O', 'O', 'R-7-50', 'O', 'O', 'O', 'O', 'O', 'O', 'R-1-50', 'O', 'O', 'O', 'R-7-50', 'R-5-50', 'R-1-50', 'R-7-50', 'R-7-50', 'O', 'R-3-5', 'R-4-14', 'O', 'R-6-50', 'R-1-50', 'R-3-50', 'O', 'O', 'R-6-50', 'R-6-7', 'R-6-7', 'O', 'O', 'O', 'R-3-50', 'R-1-50', 'O', 'O', 'O', 'O', 'O', 'O', 'O', 'O', 'O', 'O', 'O', 'O', 'O', 'O', 'O', 'R-11-13', 'R-11-12', 'R-12-13', 'O', 'O', 'O', 'O', 'O', 'O', 'O', 'R-7-50', 'O', 'R-3-4', 'R-4-3', 'R-4-3', 'R-11-14', 'R-13-14', 'R-11-13', 'O', 'O', 'R-6-7', 'R-7-50', 'O', 'O', 'R-6-7', 'R-7-50', 'O', 'O', 'O', 'O', 'O', 'O', 'O', 'O', 'O', 'O', 'R-4-5', 'O', 'R-3-5', 'R-3-4', 'R-4-14', 'O', 'R-11-13', 'R-11-12', 'R-12-13', 'O', 'O', 'O', 'O', 'O', 'O', 'R-7-50', 'O', 'O', 'O', 'O', 'O', 'R-3-50', 'R-1-50', 'O', 'O', 'O', 'O', 'R-11-50', 'R-11-13', 'R-13-50', 'R-4-50', 'R-13-50', 'R-4-50', 'R-11-50', 'O', 'O', 'O', 'R-7-50', 'R-6-7', 'O', 'O', 'R-1-50', 'R-3-50', 'R-1-50', 'O', 'R-1-4', 'R-1-3', 'R-4-7', 'R-13-7', 'R-7-50', 'O', 'R-1-50', 'R-1-50', 'R-1-3', 'R-3-50', 'R-13-14', 'R-14-50', 'R-11-13', 'R-7-50', 'R-6-14', 'R-14-50', 'R-7-50', 'O', 'O', 'O', 'R-6-7', 'R-13-50', 'R-3-50', 'R-3-50', 'R-13-50', 'R-13-14', 'R-14-50', 'R-6-14', 'O', 'R-3-50', 'O', 'R-7-50', 'O', 'O', 'O', 'O', 'O', 'R-7-50', 'R-7-50', 'O', 'O', 'O', 'R-14-6', 'R-14-6', 'O', 'O', 'R-3-50', 'R-14-50', 'O', 'O', 'O', 'O', 'R-11-13', 'R-3-4', 'R-4-14', 'O', 'R-13-50', 'R-11-50', 'R-11-50', 'R-11-3', 'R-3-5', 'R-11-50', 'O', 'R-11-12', 'R-13-14', 'R-13-50', 'R-7-50', 'O', 'O', 'O', 'O', 'O', 'R-3-5', 'O', 'R-3-5', 'O', 'O', 'O', 'O', 'O', 'R-7-50', 'R-1-50', 'R-1-3', 'O', 'R-1-50', 'R-1-3', 'O', 'R-3-50', 'O', 'O', 'O', 'O', 'O', 'O', 'O', 'O', 'O', 'R-3-5', 'R-3-4', 'O', 'O', 'O', 'O', 'O', 'O', 'O', 'O', 'O', 'R-7-50', 'O', 'O', 'O', 'O', 'O', 'O', 'O', 'O', 'O', 'O', 'R-3-5', 'O', 'O', 'O', 'R-1-2', 'R-2-3', 'R-6-7', 'R-7-50', 'O', 'R-1-50', 'R-3-50', 'R-2-3', 'O', 'O', 'O', 'O', 'O', 'O', 'O', 'O', 'O', 'O', 'O', 'O', 'O', 'R-1-3', 'O', 'O', 'O', 'R-3-4', 'R-4-14', 'R-11-14', 'R-11-14', 'R-11-12', 'R-11-12', 'R-12-13', 'R-13-14', 'O', 'O', 'O', 'O', 'O', 'O', 'O', 'R-3-4', 'O', 'O', 'R-4-5B', 'O', 'R-11-12', 'R-12-13', 'R-13-14', 'O', 'O', 'O', 'O', 'O', 'O', 'O', 'O', 'R-4-50', 'O', 'O', 'O', 'O', 'O', 'O', 'R-7-50', 'O', 'O', 'O', 'O', 'O', 'R-50-50', 'O', 'O', 'O', 'O', 'O', 'O', 'O', 'O', 'O', 'R-3-1', 'O', 'O', 'O', 'O', 'O', 'O', 'O', 'O', 'R-5-50', 'O', 'O', 'R-1-50', 'R-3-50', 'R-1-50', 'R-1-2', 'O', 'O', 'O', 'O', 'R-1-3', 'R-3-5', 'R-4-5B', 'R-3-4', 'R-5B-50', 'O', 'O', 'O', 'O', 'R-1-50', 'R-3-50', 'O', 'R-7-50', 'O', 'R-7-50', 'R-7-50', 'R-6-7', 'R-6-7', 'O', 'R-13-7', 'O', 'R-1-3', 'O', 'O', 'R-1-3', 'R-3-50', 'O', 'R-4-5B', 'R-12-13', 'R-11-12', 'O', 'O', 'O', 'O', 'O', 'O', 'O', 'R-7-13', 'R-7-1', 'R-12-13', 'R-11-13', 'O', 'R-13-6', 'R-6-7', 'O', 'O', 'R-4-5', 'O', 'R-1-3', 'R-3-50', 'R-3-50', 'O', 'O', 'R-2-3', 'O', 'O', 'O', 'O', 'O', 'O', 'O', 'R-4-5', 'O', 'R-4-50', 'R-3-5', 'R-4-14', 'R-11-12', 'R-12-13', 'R-13-14', 'R-7-50', 'O', 'O', 'R-3-1', 'R-1-50', 'O', 'R-1-2', 'R-1-2', 'O', 'O', 'O', 'O', 'O', 'R-3-5', 'R-3-4', 'R-4-14', 'R-14-50', 'R-14-50', 'O', 'O', 'O', 'O', 'R-3-7', 'O', 'O', 'R-3-50', 'R-1-50', 'O', 'R-1-3', 'O', 'O', 'R-7-50', 'O', 'O', 'O', 'O', 'R-1-50', 'O', 'O', 'O', 'O', 'R-1-3', 'O', 'R-1-3', 'R-4-50', 'R-4-7', 'R-7-50', 'O', 'R-1-50', 'R-1-3', 'O', 'R-7-50', 'O', 'O', 'O', 'O', 'O', 'O', 'O', 'O', 'O', 'O', 'O', 'O', 'O', 'R-1-50', 'O', 'O', 'R-1-50', 'O', 'R-3-50', 'R-3-5', 'R-3-50', 'O', 'O', 'O', 'R-7-50', 'O', 'O', 'O', 'O', 'O', 'O', 'O', 'O', 'O', 'O', 'O', 'O', 'O', 'O', 'R-3-5', 'O', 'R-11-13', 'O', 'O', 'O', 'O', 'O', 'O', 'O', 'R-1-2', 'O', 'O', 'O', 'O', 'O', 'O', 'R-11-13', 'O', 'O', 'O', 'O', 'O', 'O', 'O', 'R-6-50', 'R-7-50', 'O', 'R-1-50', 'R-1-3', 'R-3-50', 'R-1-50', 'R-5-50', 'O', 'O', 'R-12-13', 'R-13-14', 'O', 'R-1-50', 'O', 'O', 'O', 'O', 'R-11-13', 'O', 'R-7-50', 'O', 'R-1-3', 'R-7-50', 'R-1-50', 'R-1-3', 'R-7-50', 'R-7-50', 'O', 'O', 'O', 'O', 'O', 'O', 'O', 'O', 'O', 'O', 'O', 'O', 'O', 'R-7-50', 'R-5B-7', 'R-7-50', 'O', 'O', 'R-7-50', 'O', 'O', 'R-1-50', 'O', 'O', 'O', 'O', 'R-1-50', 'O', 'O', 'O', 'O', 'R-3-50', 'O', 'O', 'O', 'R-3-50', 'R-7-50', 'R-6-7', 'O', 'O', 'O', 'O', 'O', 'O', 'O', 'O', 'O', 'O', 'O', 'O', 'O', 'O', 'O', 'O', 'O', 'O', 'O', 'R-2-50', 'R-2-50', 'R-1-2', 'O', 'R-3-4', 'R-4-13', 'R-4-5', 'R-4-13', 'R-6-7', 'R-7-14', 'R-7-14', 'R-7-50', 'O', 'O', 'O', 'R-1-3', 'R-3-50', 'R-3-7', 'R-3-50', 'R-3-7', 'O', 'O', 'O', 'R-1-50', 'R-7-14', 'O', 'R-7-50', 'R-5-5B', 'R-3-4', 'R-4-5', 'O', 'O', 'O', 'O', 'O', 'O', 'O', 'O', 'O', 'O', 'O', 'O', 'O', 'O', 'R-11-13', 'R-11-13', 'O', 'O', 'O', 'O', 'R-5-5B', 'R-3-5', 'R-3-5', 'R-1-50', 'O', 'O', 'O', 'R-3-50', 'R-3-5', 'R-7-50', 'O', 'O', 'O', 'O', 'O', 'O', 'O', 'O', 'O', 'O', 'R-1-3', 'R-3-50', 'O', 'O', 'O', 'O', 'O', 'O', 'O', 'O', 'O', 'O', 'O', 'O', 'O', 'O', 'R-7-50', 'O', 'O', 'O', 'O', 'O', 'O', 'O', 'O', 'O', 'O', 'R-3-50', 'O', 'R-7-50', 'O', 'O', 'O', 'O', 'O', 'O', 'O', 'R-3-5', 'O', 'O', 'R-4-5', 'R-4-50', 'O', 'O', 'O', 'O', 'O', 'O', 'O', 'R-4-50', 'R-11-12', 'R-12-13', 'R-13-14', 'R-14-50', 'R-6-14', 'R-7-50', 'R-7-50', 'O', 'O', 'O', 'R-3-50', 'R-1-50', 'O', 'R-1-50', 'O', 'O', 'O', 'R-5-50', 'R-1-50', 'O', 'O', 'O', 'R-13-50', 'R-4-50', 'R-13-50', 'R-4-50', 'R-6-50', 'R-7-50', 'R-7-50', 'R-4-14', 'R-11-14', 'O', 'O', 'O', 'O', 'O', 'R-5-5B', 'O', 'O', 'O', 'R-3-50', 'R-3-50', 'R-3-50', 'O', 'O', 'O', 'O', 'O', 'O', 'O', 'O', 'R-3-4', 'R-4-14', 'R-14-50', 'R-6-14', 'O', 'O', 'R-1-50', 'O', 'R-13-50', 'O', 'O', 'R-3-50', 'O', 'O', 'R-50-50', 'O', 'O', 'O', 'R-3-5', 'R-3-4', 'R-4-14', 'R-50-1', 'O', 'O', 'O', 'R-11-50', 'R-6-50', 'O', 'R-6-50', 'R-1-50', 'R-1-3', 'O', 'O', 'O', 'R-1-50', 'R-3-50', 'O', 'O', 'R-3-50', 'O', 'O', 'O', 'R-11-50', 'O', 'O', 'O', 'O', 'O', 'O', 'O', 'O', 'O', 'O', 'O', 'O', 'O', 'O', 'O', 'O', 'O', 'R-4-50', 'O', 'R-3-5', 'O', 'O', 'O', 'R-4-5', 'R-4-5B', 'R-4-50', 'O', 'R-3-5', 'O', 'O', 'O', 'O', 'O', 'R-7-50', 'O', 'O', 'O', 'O', 'R-6-7', 'R-6-50', 'O', 'O', 'O', 'O', 'O', 'O', 'R-7-50', 'R-7-50', 'O', 'O', 'R-12-13', 'R-11-12', 'R-13-50', 'O', 'R-3-50', 'R-13-50', 'R-7-50', 'O', 'R-1-50', 'R-1-3', 'R-1-50', 'R-3-50', 'O', 'O', 'R-3-4', 'R-4-14', 'R-14-50', 'O', 'O', 'O', 'O', 'O', 'O', 'O', 'O', 'O', 'O', 'O', 'O', 'O', 'O', 'O', 'O', 'O', 'O', 'R-5-50', 'R-7-50', 'R-1-50', 'R-3-5', 'R-1-3', 'R-3-5B', 'R-5B-50', 'R-5-5B', 'O', 'O', 'R-3-50', 'R-1-50', 'O', 'O', 'R-3-6', 'R-1-3', 'R-1-3', 'R-1-3', 'R-3-50', 'O', 'O', 'R-5-5B', 'O', 'O', 'R-3-50', 'R-3-50', 'R-1-50', 'R-1-50', 'R-1-50', 'O', 'O', 'O', 'O', 'O', 'O', 'R-7-50', 'O', 'O', 'O', 'O', 'R-7-50', 'R-7-50', 'O', 'O', 'R-1-50', 'R-1-3', 'O', 'O', 'O', 'R-3-4', 'R-4-50', 'O', 'O', 'R-4-5', 'O', 'R-3-1', 'O', 'O', 'O', 'O', 'O', 'O', 'R-1-50', 'O', 'O', 'O', 'O', 'O', 'O', 'O', 'O', 'O', 'O', 'O', 'O', 'O', 'O', 'O', 'O', 'O', 'O', 'O', 'O', 'R-2-3', 'O', 'R-3-4', 'O', 'O', 'O', 'O', 'R-4-5', 'R-4-50', 'O', 'R-5-50', 'O', 'O', 'O', 'O', 'O', 'O', 'O', 'O', 'O', 'O', 'O', 'O', 'O', 'O', 'O', 'O', 'O', 'O', 'R-7-50', 'O', 'O', 'O', 'R-4-5', 'O', 'R-4-5', 'R-5-5B', 'R-5-5B', 'O', 'O', 'R-1-50', 'R-1-50', 'O', 'O', 'O', 'R-3-50', 'R-1-50', 'O', 'R-5-5B', 'R-5B-7', 'R-5-5B', 'R-5B-7', 'R-7-50', 'O', 'R-7-50', 'O', 'O', 'O', 'O', 'O', 'O', 'R-14-50', 'R-6-14', 'R-7-50', 'O', 'R-6-7', 'O', 'O', 'R-7-50', 'O', 'O', 'O', 'O', 'O', 'O', 'O', 'O', 'R-5-50', 'R-7-50', 'O', 'O', 'O', 'O', 'O', 'R-6-7', 'R-6-7', 'R-7-50', 'O', 'R-11-12', 'R-12-50', 'R-12-50', 'O', 'O', 'R-5B-50', 'R-50-50', 'O', 'O', 'O', 'R-3-50', 'O', 'O', 'O', 'O', 'R-1-50', 'R-1-50', 'O', 'O', 'O', 'O', 'R-1-2', 'R-1-2', 'O', 'O', 'O', 'O', 'O', 'O', 'O', 'O', 'O', 'O', 'O', 'R-6-7', 'R-7-50', 'R-7-50', 'R-1-50', 'R-7-50', 'R-1-50', 'O', 'O', 'O', 'O', 'O', 'O', 'O', 'O', 'O', 'O', 'O', 'O', 'O', 'O', 'O', 'O', 'O', 'O', 'O', 'O', 'O', 'O', 'O', 'O', 'R-6-7', 'R-7-50', 'O', 'O', 'O', 'R-6-7', 'R-6-7', 'R-7-50', 'O', 'O', 'O', 'O', 'O', 'O', 'O', 'R-4-5B', 'R-3-5', 'R-11-13', 'R-13-50', 'R-13-50', 'R-1-2', 'R-2-3', 'O', 'O', 'O', 'O', 'R-1-3', 'O', 'O', 'O', 'O', 'O', 'O', 'O', 'O', 'O', 'O', 'O', 'O', 'O', 'O', 'O', 'O', 'O', 'O', 'O', 'O', 'O', 'R-50-7', 'O', 'O', 'O', 'O', 'O', 'O', 'O', 'O', 'O', 'O', 'O', 'O', 'O', 'O', 'O', 'O', 'R-7-50', 'R-1-50', 'R-1-50', 'O', 'O', 'R-3-4', 'R-4-7', 'R-7-50', 'R-7-50', 'O', 'O', 'R-7-50', 'R-7-50', 'O', 'O', 'O', 'O', 'O', 'O', 'O', 'O', 'O', 'O', 'O', 'R-3-50', 'O', 'R-3-4', 'R-1-3', 'R-1-3', 'R-3-50', 'R-2-3', 'R-1-3', 'R-3-50', 'O', 'O', 'O', 'O', 'O', 'O', 'O', 'O', 'O', 'R-11-50', 'O', 'O', 'O', 'O', 'O', 'O', 'O', 'O', 'O', 'O', 'O', 'R-6-50', 'O', 'O', 'O', 'O', 'O', 'O', 'O', 'O', 'R-1-3', 'R-4-14', 'R-3-4', 'R-4-5', 'O', 'O', 'R-1-3', 'R-3-6', 'R-6-50', 'R-1-50', 'R-3-50', 'O', 'O', 'R-3-4', 'R-4-14', 'R-14-11', 'R-14-11', 'R-11-13', 'R-13-14', 'O', 'R-6-7', 'R-5B-50', 'R-5B-50', 'O', 'O', 'O', 'R-1-50', 'R-13-50', 'R-7-50', 'R-1-50', 'R-3-4', 'R-11-12', 'R-12-13', 'R-12-13', 'R-13-14', 'R-13-14', 'R-7-50', 'R-7-50', 'R-7-50', 'O', 'R-5B-7', 'O', 'R-7-50', 'R-3-50', 'R-1-50', 'O', 'O', 'R-6-7', 'R-3-50', 'R-3-50', 'R-1-3', 'O', 'R-3-50', 'O', 'R-3-50', 'R-6-50', 'R-6-7', 'O', 'R-6-50', 'R-6-50', 'O', 'O', 'O', 'O', 'R-3-5', 'O', 'O', 'O', 'O', 'R-14-50', 'R-6-14', 'R-7-50', 'O', 'R-5-50', 'O', 'R-1-3', 'O', 'O', 'R-5-50', 'O', 'O', 'O', 'R-4-50', 'O', 'O', 'R-4-14', 'O', 'R-6-7', 'O', 'O', 'O', 'O', 'R-6-14', 'O', 'O', 'O', 'O', 'R-3-6', 'R-6-7', 'R-7-5B', 'R-7-5B', 'O', 'O', 'O', 'O', 'O', 'O', 'O', 'O', 'R-1-3', 'O', 'O', 'R-1-5', 'R-3-5', 'R-3-4', 'R-4-14', 'O', 'R-4-7', 'R-7-50', 'O', 'O', 'O', 'O', 'O', 'O', 'O', 'O', 'O', 'O', 'O', 'O', 'O', 'R-1-3', 'R-3-50', 'O', 'O', 'O', 'R-7-50', 'O', 'O', 'O', 'R-11-13', 'R-11-12', 'R-12-13', 'O', 'R-7-50', 'O', 'O', 'R-14-50', 'R-6-14', 'R-7-50', 'O', 'O', 'O', 'O', 'O', 'R-3-50', 'R-1-50', 'O', 'O', 'O', 'R-6-7', 'R-6-50', 'R-6-7', 'R-6-50', 'O', 'O', 'R-3-50', 'O', 'O', 'O', 'O', 'R-5B-50', 'O', 'R-1-50', 'R-3-5', 'R-1-3', 'R-2-50', 'O', 'O', 'O', 'R-7-50', 'O', 'O', 'O', 'R-50-3', 'O', 'R-14-50', 'R-11-13', 'O', 'O', 'R-3-4', 'R-4-14', 'R-3-50', 'R-4-3', 'O', 'O', 'O', 'R-1-50', 'R-1-50', 'R-1-3', 'O', 'R-1-3', 'R-3-50', 'R-4-50', 'R-1-4', 'O', 'O', 'R-1-50', 'O', 'R-3-50', 'R-1-50', 'R-3-50', 'R-1-50', 'O', 'O', 'O', 'O', 'O', 'O', 'O', 'R-5-50', 'R-3-5', 'R-4-14', 'R-11-14', 'O', 'R-11-14', 'O', 'R-11-13', 'R-12-14', 'R-14-50', 'R-3-50', 'R-1-50', 'O', 'O', 'O', 'O', 'O', 'O', 'R-3-7', 'R-7-50', 'O', 'O', 'O', 'O', 'O', 'O', 'O', 'O', 'R-3-5', 'O', 'O', 'O', 'O', 'R-3-50', 'R-3-50', 'O', 'O', 'R-3-5', 'O', 'O', 'O', 'O', 'R-13-50', 'O', 'O', 'O', 'O', 'O', 'R-3-50', 'R-1-50', 'R-7-50', 'O', 'R-11-12', 'R-12-50', 'R-7-50', 'O', 'O', 'O', 'O', 'O', 'O', 'O', 'R-11-13', 'R-11-12', 'R-12-14', 'R-12-13', 'R-12-14', 'R-12-13', 'R-1-50', 'O', 'O', 'O', 'O', 'O', 'O', 'O', 'O', 'O', 'O', 'O', 'O', 'R-1-3', 'O', 'R-3-4', 'R-4-14', 'O', 'O', 'O', 'O', 'O', 'R-7-50', 'O', 'R-7-50', 'O', 'O', 'R-3-5', 'R-5-50', 'O', 'R-13-14', 'O', 'O', 'O', 'O', 'O', 'O', 'O', 'R-7-50', 'O', 'O', 'O', 'O', 'O', 'R-3-5', 'O', 'O', 'O', 'O', 'O', 'O', 'R-7-50', 'R-7-50', 'O', 'O', 'O', 'O', 'O', 'R-13-50', 'R-7-50', 'O', 'O', 'O', 'O', 'O', 'O', 'O', 'O', 'R-1-50', 'O', 'O', 'O', 'O', 'O', 'R-7-50', 'O', 'O', 'O', 'O', 'O', 'O', 'O', 'O', 'O', 'O', 'O', 'R-3-50', 'R-3-6', 'R-3-6', 'R-6-7', 'O', 'O', 'O', 'R-3-50', 'R-1-50', 'O', 'O', 'O', 'O', 'O', 'O', 'O', 'O', 'O', 'O', 'O', 'O', 'R-3-50', 'R-1-50', 'O', 'O', 'O', 'O', 'R-2-3', 'R-7-50', 'O', 'O', 'R-3-50', 'O', 'O', 'O', 'O', 'O', 'O', 'O', 'R-1-50', 'R-3-50', 'O', 'R-1-50', 'R-1-50', 'R-1-50', 'R-3-50', 'R-3-4', 'R-1-4', 'R-11-13', 'R-13-14', 'O', 'O', 'O', 'O', 'O', 'O', 'R-7-50', 'O', 'O', 'O', 'O', 'O', 'R-4-50', 'R-11-14', 'O', 'O', 'R-7-50', 'R-6-7', 'O', 'R-1-3', 'O', 'O', 'O', 'O', 'O', 'O', 'R-11-50', 'O', 'O', 'O', 'R-3-5', 'R-11-50', 'O', 'O', 'O', 'O', 'O', 'O', 'R-3-5', 'O', 'R-1-3', 'R-3-4', 'O', 'O', 'R-11-13', 'R-13-14', 'O', 'R-4-50', 'R-6-50', 'R-4-5', 'R-4-50', 'O', 'O', 'O', 'R-6-7', 'R-6-7', 'O', 'R-7-50', 'O', 'O', 'O', 'R-1-50', 'R-3-50', 'R-5-5B', 'O', 'O', 'O', 'R-1-50', 'R-1-2', 'R-7-50', 'R-7-50', 'O', 'O', 'O', 'O', 'O', 'O', 'O', 'O', 'O', 'O', 'O', 'O', 'O', 'O', 'O', 'O', 'O', 'O', 'O', 'O', 'O', 'O', 'O', 'O', 'O', 'O', 'O', 'O', 'O', 'O', 'R-11-13', 'R-11-13', 'R-3-5', 'R-4-14', 'O', 'O', 'O', 'O', 'R-4-14', 'R-4-50', 'R-1-50', 'O', 'O', 'O', 'R-5-5B', 'O', 'R-7-50', 'R-1-50', 'R-1-2', 'O', 'O', 'R-2-3', 'R-2-3', 'R-3-50', 'O', 'O', 'R-5-5B', 'R-3-4', 'R-4-5', 'R-3-4', 'R-11-11', 'R-11-13', 'R-11-12', 'R-12-13', 'R-13-14', 'R-13-50', 'R-1-50', 'R-1-3', 'R-11-13', 'R-12-50', 'R-12-7', 'R-4-7', 'O', 'O', 'O', 'O', 'O', 'O', 'R-7-50', 'O', 'O', 'O', 'R-13-50', 'R-1-50', 'R-6-50', 'O', 'R-12-11', 'R-13-14', 'R-13-11', 'O', 'O', 'R-6-7', 'R-6-7', 'R-7-50', 'R-1-3', 'R-1-3', 'O', 'R-1-3', 'R-3-50', 'O', 'O', 'R-7-50', 'O', 'O', 'R-4-5', 'O', 'R-1-50', 'R-5-50', 'R-1-50', 'O', 'R-1-2', 'O', 'R-1-3', 'O', 'O', 'O', 'O', 'R-7-50', 'R-3-50', 'R-7-50', 'R-3-50', 'O', 'R-1-50', 'O', 'O', 'O', 'O', 'R-3-4', 'R-4-14', 'O', 'O', 'O', 'O', 'O', 'O', 'O', 'R-1-50', 'R-3-50', 'O', 'O', 'O', 'R-5-5B', 'O', 'O', 'O', 'O', 'O', 'O', 'O', 'O', 'O', 'O', 'O', 'O', 'O', 'R-4-5', 'O', 'R-11-13', 'R-11-12', 'O', 'O', 'R-14-50', 'R-6-14', 'O', 'R-1-50', 'R-13-50', 'O', 'O', 'R-13-50', 'O', 'O', 'O', 'O', 'O', 'O', 'O', 'R-7-50', 'O', 'O', 'O', 'O', 'R-7-50', 'O', 'O', 'O', 'R-1-3', 'R-1-3', 'O', 'O', 'O', 'O', 'R-5-50', 'O', 'R-11-13', 'R-12-13', 'O', 'O', 'O', 'R-7-50', 'R-3-50', 'R-1-50', 'O', 'R-3-1', 'O', 'O', 'R-6-50', 'O', 'O', 'O', 'O', 'O', 'O', 'R-1-50', 'R-4-14', 'R-13-14', 'R-1-50', 'R-3-1', 'R-3-50', 'R-1-50', 'R-3-50', 'R-1-2', 'R-1-50', 'O', 'R-13-14', 'R-11-13', 'O', 'O', 'O', 'O', 'O', 'R-6-7', 'O', 'R-7-50', 'R-7-50', 'O', 'O', 'O', 'R-6-50', 'O', 'O', 'O', 'O', 'R-13-50', 'R-13-14', 'R-1-3', 'R-13-50', 'O', 'O', 'O', 'O', 'O', 'R-1-50', 'R-1-3', 'R-1-50', 'R-1-3', 'O', 'O', 'O', 'O', 'O', 'O', 'O', 'R-1-3', 'R-1-3', 'R-3-50', 'O', 'O', 'R-3-50', 'R-1-50', 'O', 'R-4-14', 'R-3-4', 'R-4-50', 'R-3-5', 'R-4-50', 'R-4-14', 'O', 'R-7-50', 'O', 'O', 'O', 'O', 'O', 'O', 'O', 'R-4-5', 'R-3-5', 'O', 'O', 'R-1-2', 'R-1-2', 'O', 'R-3-50', 'R-1-50', 'O', 'R-3-50', 'R-1-50', 'R-13-50', 'R-5-50', 'O', 'R-11-12', 'R-12-13', 'R-13-14', 'R-13-14', 'O', 'R-4-5', 'O', 'O', 'R-7-50', 'R-7-50', 'O', 'O', 'O', 'R-7-50', 'O', 'O', 'R-6-7', 'R-7-50', 'R-3-6', 'R-11-12', 'R-12-5B', 'O', 'O', 'O', 'O', 'O', 'R-3-50', 'R-3-50', 'O', 'R-3-4', 'O', 'O', 'O', 'O', 'O', 'O', 'R-4-5', 'R-3-5', 'R-3-4', 'R-4-14', 'O', 'O', 'O', 'O', 'O', 'R-3-50', 'R-11-50', 'O', 'O', 'O', 'O', 'O', 'O', 'O', 'O', 'O', 'O', 'O', 'O', 'R-4-50', 'R-4-5', 'R-4-5B', 'O', 'O', 'O', 'O', 'O', 'O', 'O', 'O', 'R-1-2', 'O', 'O', 'O', 'O', 'O', 'R-4-5', 'O', 'O', 'R-1-50', 'R-1-3', 'R-1-3', 'R-1-3', 'O', 'O', 'R-3-50', 'R-1-50', 'R-1-3', 'R-7-50', 'O', 'O', 'O', 'O', 'O', 'O', 'O', 'O', 'O', 'O', 'O', 'O', 'O', 'R-1-50', 'R-1-50', 'R-1-50', 'R-1-3', 'O', 'O', 'O', 'O', 'R-7-50', 'R-7-50', 'R-1-50', 'O', 'O', 'O', 'R-3-4', 'R-4-5', 'O', 'O', 'R-5-4', 'R-1-2', 'R-4-14', 'O', 'O', 'R-1-50', 'R-3-50', 'O', 'O', 'O', 'O', 'O', 'O', 'O', 'O', 'O', 'O', 'O', 'O', 'O', 'O', 'O', 'O', 'O', 'O', 'O', 'O', 'O', 'O', 'O', 'R-3-5', 'R-3-4', 'R-4-6', 'R-4-6', 'R-6-7', 'R-6-7', 'R-7-50', 'O', 'O', 'O', 'O', 'O', 'O', 'O', 'O', 'O', 'O', 'O', 'O', 'O', 'O', 'O', 'O', 'R-7-50', 'R-7-50', 'O', 'O', 'O', 'R-6-7', 'O', 'O', 'O', 'O', 'O', 'R-1-3', 'R-3-50', 'R-1-50', 'R-3-50', 'O', 'R-4-14', 'O', 'O', 'O', 'O', 'O', 'R-3-50', 'O', 'O', 'O', 'O', 'O', 'O', 'O', 'O', 'O', 'O', 'O', 'O', 'O', 'O', 'O', 'O', 'O', 'R-1-50', 'R-1-50', 'O', 'O', 'O', 'R-4-5', 'R-3-5', 'O', 'R-13-11', 'O', 'O', 'O', 'R-2-50', 'R-3-50', 'R-1-2', 'O', 'O', 'O', 'O', 'O', 'O', 'O', 'O', 'R-7-50', 'O', 'R-4-50', 'O', 'O', 'R-13-11', 'R-11-12', 'R-12-13', 'R-13-14', 'R-3-50', 'O', 'R-3-7', 'R-OTHER-13', 'R-11-OTHER', 'R-11-OTHER', 'R-OTHER-13', 'O', 'O', 'O', 'O', 'O', 'O', 'O', 'R-3-50', 'O', 'O', 'O', 'R-4-50', 'O', 'O', 'R-3-4', 'O', 'R-11-13', 'R-12-13', 'O', 'R-1-2', 'R-2-3', 'O', 'O', 'R-1-3', 'O', 'O', 'O', 'R-1-50', 'O', 'O', 'R-3-50', 'R-1-50', 'O', 'O', 'O', 'O', 'O', 'O', 'O', 'O', 'O', 'O', 'R-3-5', 'O', 'O', 'O', 'R-1-50', 'R-7-50', 'O', 'O', 'R-1-2', 'R-2-3', 'O', 'O', 'O', 'O', 'R-1-3', 'R-3-50', 'R-7-50', 'O', 'O', 'R-5-5B', 'O', 'O', 'O', 'O', 'O', 'R-6-7', 'O', 'O', 'O', 'O', 'R-1-3', 'O', 'O', 'R-7-50', 'O', 'O', 'O', 'O', 'O', 'O', 'O', 'R-7-50', 'O', 'O', 'R-6-7', 'R-7-50', 'O', 'O', 'O', 'O', 'O', 'O', 'O', 'O', 'O', 'O', 'O', 'R-6-7', 'R-7-5B', 'R-7-50', 'R-1-50', 'R-1-3', 'R-3-4', 'R-4-7', 'R-1-50', 'R-11-50', 'R-13-50', 'O', 'O', 'O', 'O', 'O', 'O', 'R-3-50', 'R-1-50', 'O', 'O', 'O', 'O', 'O', 'O', 'O', 'R-13-50', 'R-3-50', 'O', 'O', 'O', 'R-14-50', 'R-6-14', 'R-7-50', 'O', 'O', 'O', 'O', 'O', 'O', 'O', 'O', 'O', 'O', 'R-1-50', 'O', 'R-7-50', 'O', 'O', 'O', 'O', 'O', 'O', 'R-11-50', 'R-3-50', 'O', 'R-1-3', 'O', 'O', 'R-3-4', 'R-4-50', 'R-4-14', 'R-4-14', 'O', 'O', 'O', 'R-11-13', 'R-13-14', 'O', 'O', 'O', 'R-6-7', 'R-14-50', 'O', 'O', 'O', 'O', 'O', 'O', 'O', 'O', 'O', 'R-1-50', 'O', 'O', 'O', 'O', 'O', 'O', 'R-50-3', 'R-50-3', 'R-1-3', 'R-1-3', 'O', 'R-1-2', 'R-3-5', 'R-3-4', 'R-4-14', 'R-14-50', 'R-11-12', 'R-12-13', 'R-13-14', 'O', 'O', 'O', 'O', 'O', 'O', 'O', 'O', 'R-3-50', 'R-3-50', 'O', 'O', 'O', 'R-4-50', 'O', 'O', 'O', 'R-6-7', 'R-7-50', 'R-7-50', 'R-3-50', 'R-1-50', 'R-3-50', 'R-1-50', 'O', 'R-1-2', 'R-1-50', 'R-3-50', 'O', 'O', 'O', 'O', 'R-3-50', 'R-1-50', 'R-3-50', 'R-1-50', 'R-7-50', 'R-5-50', 'R-1-50', 'O', 'O', 'O', 'O', 'R-5-50', 'O', 'O', 'R-4-50', 'O', 'O', 'O', 'O', 'O', 'O', 'O', 'O', 'O', 'O', 'O', 'O', 'O', 'O', 'O', 'O', 'R-1-2', 'R-3-50', 'O', 'R-7-50', 'R-6-7', 'O', 'R-1-2', 'O', 'R-11-13', 'R-13-7', 'O', 'R-1-50', 'O', 'O', 'O', 'R-13-50', 'R-11-13', 'R-11-12', 'R-12-13', 'R-13-14', 'O', 'O', 'O', 'O', 'O', 'O', 'O', 'O', 'R-1-50', 'R-3-13', 'R-13-50', 'O', 'R-11-13', 'O', 'R-3-50', 'R-3-50', 'R-1-50', 'O', 'O', 'O', 'O', 'O', 'O', 'O', 'O', 'O', 'O', 'R-3-50', 'O', 'R-1-3', 'R-1-2', 'R-2-3', 'R-2-3', 'O', 'R-3-4', 'R-4-50', 'R-3-4', 'O', 'R-3-4', 'R-4-50', 'O', 'O', 'R-3-50', 'R-3-4', 'O', 'O', 'O', 'O', 'O', 'O', 'R-1-3', 'R-3-50', 'R-1-50', 'R-3-50', 'R-3-50', 'O', 'O', 'O', 'R-13-12', 'O', 'O', 'O', 'O', 'R-3-4', 'R-4-14', 'R-14-50', 'R-14-50', 'O', 'O', 'O', 'R-3-50', 'R-1-50', 'O', 'O', 'O', 'O', 'O', 'R-7-50', 'O', 'O', 'O', 'R-3-4', 'R-7-50', 'O', 'O', 'O', 'O', 'O', 'O', 'O', 'O', 'O', 'O', 'O', 'R-7-50', 'R-1-50', 'R-3-50', 'R-3-50', 'R-1-50', 'R-7-50', 'O', 'R-7-50', 'O', 'O', 'O', 'O', 'R-1-50', 'R-1-3', 'R-1-50', 'R-3-50', 'R-3-50', 'O', 'O', 'R-1-50', 'O', 'R-1-50', 'O', 'O', 'O', 'O', 'O', 'O', 'O', 'R-1-50', 'O', 'O', 'O', 'O', 'R-1-3', 'O', 'O', 'O', 'O', 'R-6-7', 'R-7-50', 'O', 'R-1-50', 'R-1-3', 'R-3-5', 'O', 'R-1-50', 'R-5-50', 'O', 'O', 'O', 'R-1-50', 'O', 'O', 'O', 'R-3-4', 'R-4-50', 'R-13-50', 'R-13-50', 'O', 'O', 'O', 'O', 'O', 'O', 'R-1-50', 'O', 'R-3-50', 'R-1-50', 'O', 'O', 'O', 'O', 'O', 'O', 'O', 'O', 'O', 'O', 'O', 'R-11-50', 'O', 'R-3-50', 'O', 'R-3-50', 'R-7-50', 'R-3-7', 'R-3-7', 'O', 'O', 'R-1-50', 'R-3-50', 'R-6-50', 'R-6-7', 'O', 'O', 'R-1-2', 'R-1-3', 'R-3-50', 'R-3-50', 'O', 'R-1-11', 'R-11-13', 'R-13-14', 'R-14-7', 'R-3-50', 'R-3-4', 'R-4-5', 'R-1-50', 'O', 'O', 'R-1-3', 'R-3-50', 'O', 'R-11-13', 'R-11-50', 'O', 'O', 'O', 'R-1-50', 'O', 'O', 'R-1-50', 'O', 'O', 'O', 'O', 'O', 'O', 'O', 'O', 'O', 'R-3-50', 'O', 'O', 'R-3-4', 'R-4-14', 'O', 'O', 'R-11-12', 'R-12-13', 'R-13-14', 'O', 'R-7-50', 'O', 'R-1-50', 'O', 'O', 'O', 'O', 'O', 'O', 'O', 'O', 'O', 'O', 'O', 'O', 'O', 'O', 'O', 'O', 'O', 'R-4-50', 'R-4-50', 'O', 'R-3-5', 'O', 'O', 'R-6-50', 'O', 'O', 'O', 'O', 'O', 'O', 'R-7-50', 'O', 'O', 'O', 'O', 'O', 'O', 'O', 'O', 'R-11-13', 'R-3-50', 'R-3-50', 'O', 'R-7-50', 'O', 'O', 'O', 'O', 'O', 'O', 'O', 'O', 'R-6-7', 'R-6-50', 'R-7-50', 'O', 'O', 'O', 'O', 'O', 'O', 'O', 'O', 'O', 'O', 'O', 'O', 'O', 'R-1-3', 'R-3-50', 'R-3-50', 'O', 'O', 'O', 'O', 'R-7-50', 'R-7-14', 'O', 'R-3-50', 'O', 'O', 'O', 'R-11-12', 'R-12-13', 'R-13-50', 'R-13-50', 'R-1-50', 'R-1-50', 'R-13-50', 'O', 'O', 'O', 'O', 'O', 'O', 'O', 'O', 'O', 'O', 'O', 'R-7-50', 'O', 'O', 'O', 'O', 'R-3-5', 'R-3-4', 'O', 'O', 'O', 'O', 'O', 'O', 'O', 'O', 'O', 'R-7-50', 'O', 'O', 'O', 'O', 'O', 'O', 'O', 'O', 'O', 'O', 'O', 'O', 'O', 'O', 'O', 'O', 'O', 'O', 'R-1-2', 'R-1-3', 'R-1-3', 'R-3-50', 'O', 'O', 'O', 'O', 'O', 'O', 'R-13-14', 'O', 'R-3-50', 'O', 'R-4-5', 'R-3-5', 'O', 'O', 'O', 'O', 'O', 'R-1-50', 'R-7-5', 'R-1-3', 'R-3-7', 'R-7-50', 'R-3-50', 'O', 'O', 'O', 'O', 'O', 'O', 'O', 'O', 'O', 'R-7-50', 'O', 'O', 'O', 'O', 'O', 'O', 'O', 'R-3-5', 'O', 'O', 'O', 'O', 'O', 'O', 'R-1-2', 'R-1-3', 'R-3-6', 'R-6-7', 'R-7-50', 'O', 'O', 'O', 'O', 'R-14-50', 'R-6-14', 'R-7-50', 'O', 'O', 'R-7-50', 'O', 'O', 'O', 'O', 'O', 'O', 'O', 'O', 'O', 'O', 'R-14-50', 'R-6-14', 'R-7-50', 'O', 'O', 'R-7-50', 'O', 'O', 'O', 'O', 'O', 'O', 'R-7-50', 'O', 'O', 'R-3-50', 'O', 'O', 'O', 'O', 'O', 'O', 'O', 'O', 'O', 'O', 'O', 'R-1-3', 'R-1-3', 'O', 'O', 'O', 'O', 'O', 'O', 'R-7-50', 'O', 'O', 'O', 'O', 'O', 'O', 'O', 'O', 'O', 'O', 'R-13-50', 'R-11-13', 'O', 'O', 'O', 'R-6-50', 'R-6-7', 'O', 'O', 'O', 'O', 'O', 'O', 'O', 'O', 'O', 'O', 'O', 'R-3-4', 'R-1-3', 'R-4-50', 'R-12-13', 'R-13-50', 'R-13-50', 'O', 'R-13-50', 'R-3-50', 'R-1-50', 'R-7-50', 'O', 'O', 'O', 'O', 'O', 'O', 'O', 'R-1-50', 'R-1-3', 'O', 'O', 'O', 'O', 'O', 'R-7-50', 'R-7-50', 'O', 'O', 'O', 'O', 'O', 'O', 'O', 'R-1-50', 'O', 'O', 'O', 'O', 'O', 'O', 'O', 'O', 'O', 'O', 'O', 'O', 'O', 'O', 'R-1-3', 'O', 'R-5-50', 'O', 'O', 'O', 'O', 'O', 'O', 'R-3-50', 'O', 'O', 'O', 'O', 'O', 'O', 'O', 'O', 'R-11-50', 'O', 'O', 'R-11-3', 'R-11-13', 'R-13-50', 'O', 'O', 'R-6-50', 'R-11-50', 'R-14-50', 'R-6-14', 'R-7-50', 'O', 'O', 'O', 'O', 'O', 'O', 'O', 'O', 'O', 'R-7-50', 'R-5-50', 'O', 'O', 'O', 'O', 'R-6-7', 'R-6-50', 'R-6-7', 'R-13-50', 'R-3-50', 'O', 'O', 'R-11-14', 'O', 'O', 'O', 'R-1-50', 'R-5-50', 'O', 'R-11-12', 'R-12-13', 'R-13-14', 'O', 'R-6-7', 'R-7-50', 'O', 'O', 'O', 'O', 'O', 'O', 'O', 'O', 'O', 'O', 'O', 'O', 'O', 'O', 'O', 'O', 'O', 'O', 'O', 'O', 'O', 'R-3-5', 'R-3-5', 'O', 'O', 'R-11-13', 'O', 'R-7-50', 'O', 'O', 'R-3-4', 'R-4-14', 'R-13-14', 'O', 'O', 'O', 'R-13-14', 'O', 'O', 'O', 'O', 'O', 'O', 'O', 'O', 'O', 'O', 'R-3-4', 'R-4-14', 'O', 'R-7-50', 'O', 'O', 'R-1-2', 'R-1-3', 'R-1-50', 'O', 'R-3-4', 'R-1-4', 'O', 'R-3-50', 'R-1-3', 'R-6-7', 'R-7-50', 'O', 'R-3-7', 'R-7-5B', 'R-5B-50', 'R-3-50', 'O', 'O', 'R-3-50', 'R-3-5', 'O', 'O', 'O', 'O', 'O', 'R-1-50', 'O', 'R-3-50', 'R-13-50', 'O', 'R-5B-50', 'R-12-50', 'R-11-6', 'R-11-12', 'O', 'O', 'R-1-3', 'O', 'O', 'R-6-50', 'R-6-50', 'R-7-50', 'O', 'O', 'R-7-50', 'O', 'R-14-6', 'R-6-50', 'O', 'O', 'O', 'O', 'O', 'O', 'O', 'O', 'O', 'O', 'O', 'O', 'R-7-50', 'O', 'R-3-50', 'R-1-50', 'O', 'O', 'O', 'O', 'O', 'O', 'O', 'R-4-50', 'R-1-3', 'O', 'R-1-3', 'R-3-50', 'R-3-4', 'R-4-14', 'R-11-14', 'R-11-13', 'R-12-13', 'O', 'O', 'O', 'O', 'O', 'O', 'O', 'O', 'O', 'O', 'O', 'O', 'O', 'O', 'O', 'O', 'O', 'O', 'O', 'R-11-12', 'R-11-12', 'R-12-13', 'O', 'O', 'R-7-50', 'R-3-50', 'R-6-50', 'O', 'O', 'R-3-50', 'O', 'O', 'R-3-50', 'R-1-50', 'O', 'O', 'R-3-4', 'R-4-50', 'R-4-50', 'O', 'R-11-12', 'R-12-14', 'R-14-50', 'R-12-14', 'R-14-50', 'O', 'O', 'R-5-50', 'R-3-4', 'R-4-50', 'O', 'O', 'R-1-2', 'O', 'O', 'O', 'O', 'O', 'O', 'O', 'O', 'O', 'O', 'O', 'O', 'O', 'O', 'O', 'O', 'O', 'O', 'O', 'O', 'O', 'O', 'O', 'O', 'O', 'R-1-50', 'O', 'R-1-50', 'R-1-13', 'R-13-50', 'R-13-50', 'R-1-50', 'O', 'O', 'O', 'R-5-5B', 'R-5-5B', 'R-7-50', 'R-6-7', 'R-7-50', 'O', 'O', 'O', 'R-7-50', 'O', 'O', 'O', 'O', 'O', 'O', 'O', 'R-1-50', 'R-7-50', 'R-13-50', 'R-4-50', 'R-3-50', 'R-11-50', 'R-11-13', 'R-12-13', 'R-13-14', 'O', 'O', 'R-3-4', 'R-4-14', 'O', 'R-11-13', 'R-13-14', 'R-13-14', 'R-7-50', 'O', 'O', 'O', 'O', 'O', 'R-11-13', 'O', 'O', 'O', 'O', 'O', 'O', 'O', 'O', 'O', 'R-1-50', 'R-1-3', 'R-1-3', 'O', 'O', 'R-1-50', 'O', 'O', 'O', 'O', 'R-3-5', 'O', 'O', 'R-6-7', 'O', 'O', 'O', 'O', 'O', 'R-7-50', 'O', 'O', 'O', 'O', 'R-3-5', 'R-3-5', 'O', 'O', 'R-3-5', 'R-13-50', 'R-13-14', 'O', 'O', 'R-1-3', 'O', 'R-7-50', 'O', 'O', 'O', 'R-1-3', 'R-3-50', 'O', 'O', 'R-11-12', 'O', 'O', 'O', 'O', 'O', 'O', 'O', 'O', 'O', 'O', 'O', 'R-5-13', 'R-13-50', 'R-7-50', 'O', 'O', 'O', 'O', 'O', 'O', 'R-1-3', 'O', 'O', 'O', 'O', 'O', 'O', 'O', 'O', 'R-5-50', 'R-6-7', 'R-7-50', 'R-5B-50', 'O', 'O', 'R-1-3', 'O', 'O', 'O', 'O', 'O', 'O', 'O', 'O', 'O', 'O', 'O', 'R-7-50', 'O', 'O', 'O', 'R-1-50', 'R-1-3', 'R-3-4', 'O', 'R-4-5', 'O', 'O', 'R-3-5', 'O', 'O', 'O', 'R-7-50', 'O', 'O', 'O', 'O', 'R-3-50', 'O', 'O', 'O', 'O', 'O', 'O', 'O', 'O', 'R-5B-50', 'O', 'O', 'O', 'R-1-3', 'O', 'O', 'O', 'O', 'R-5-5B', 'R-1-3', 'R-3-5', 'R-3-5', 'R-5-6', 'R-6-7', 'O', 'O', 'O', 'R-2-3', 'O', 'R-6-7', 'R-3-5', 'R-11-12', 'R-12-13', 'R-13-14', 'O', 'O', 'O', 'O', 'O', 'R-4-50', 'R-3-4', 'O', 'O', 'R-13-50', 'R-13-14', 'O', 'O', 'R-11-12', 'R-13-14', 'R-14-50', 'R-14-50', 'O', 'O', 'R-5-5B', 'R-7-50', 'O', 'O', 'R-3-50', 'R-1-50', 'R-3-50', 'R-1-50', 'O', 'O', 'R-1-50', 'O', 'O', 'R-1-50', 'O', 'O', 'O', 'O', 'R-7-50', 'O', 'O', 'O', 'O', 'R-3-5', 'R-4-14', 'O', 'R-11-12', 'R-12-13', 'R-13-50', 'O', 'R-13-50', 'O', 'O', 'O', 'O', 'O', 'O', 'O', 'O', 'O', 'R-4-5', 'O', 'O', 'O', 'O', 'O', 'O', 'R-3-4', 'R-4-14', 'O', 'O', 'O', 'O', 'O', 'O', 'R-7-50', 'O', 'O', 'R-7-50', 'R-6-7', 'R-7-50', 'O', 'O', 'O', 'O', 'R-1-50', 'R-3-50', 'O', 'O', 'O', 'O', 'O', 'O', 'O', 'R-5-7', 'O', 'O', 'O', 'R-7-50', 'R-7-50', 'O', 'O', 'O', 'O', 'O', 'O', 'O', 'O', 'R-3-5', 'R-3-14', 'R-14-50', 'R-6-14', 'R-7-50', 'R-1-50', 'O', 'O', 'O', 'O', 'O', 'O', 'O', 'O', 'O', 'O', 'O', 'R-7-50', 'O', 'O', 'R-3-50', 'R-3-50', 'O', 'O', 'O', 'O', 'R-7-50', 'O', 'O', 'O', 'O', 'O', 'O', 'R-1-2', 'O', 'O', 'O', 'O', 'O', 'R-1-3', 'R-3-50', 'R-1-50', 'R-3-50', 'O', 'O', 'R-2-3', 'R-2-3', 'O', 'O', 'O', 'O', 'O', 'O', 'O', 'O', 'O', 'O', 'R-1-50', 'O', 'O', 'O', 'O', 'O', 'O', 'O', 'O', 'O', 'O', 'O', 'O', 'R-3-50', 'R-1-50', 'R-1-50', 'R-3-6', 'O', 'R-6-7', 'R-3-6', 'R-7-50', 'R-1-50', 'O', 'O', 'R-1-50', 'R-3-50', 'R-1-50', 'R-1-3', 'O', 'O', 'O', 'O', 'O', 'R-4-50', 'O', 'O', 'R-1-50', 'R-1-50', 'O', 'R-1-50', 'R-3-50', 'O', 'O', 'O', 'O', 'O', 'O', 'O', 'O', 'O', 'O', 'R-7-50', 'O', 'O', 'O', 'O', 'O', 'O', 'O', 'O', 'O', 'O', 'R-5-50', 'O', 'O', 'O', 'O', 'O', 'O', 'O', 'O', 'O', 'O', 'O', 'O', 'O', 'O', 'O', 'O', 'O', 'R-11-50', 'R-11-13', 'R-12-13', 'O', 'O', 'R-1-3', 'O', 'O', 'O', 'O', 'O', 'O', 'R-11-50', 'R-13-50', 'R-4-50', 'O', 'O', 'O', 'O', 'O', 'O', 'O', 'O', 'O', 'O', 'O', 'O', 'O', 'O', 'O', 'O', 'O', 'O', 'O', 'O', 'O', 'O', 'R-3-50', 'R-1-50', 'O', 'O', 'O', 'O', 'O', 'O', 'O', 'O', 'O', 'O', 'O', 'O', 'R-1-50', 'O', 'O', 'O', 'O', 'O', 'O', 'O', 'R-1-50', 'O', 'R-3-50', 'R-1-50', 'O', 'O', 'O', 'O', 'O', 'O', 'R-3-50', 'R-1-3', 'R-7-50', 'R-1-3', 'R-3-50', 'R-7-50', 'R-7-50', 'O', 'O', 'O', 'R-1-50', 'R-3-50', 'O', 'O', 'O', 'O', 'R-1-3', 'R-1-3', 'R-3-50', 'O', 'R-4-5', 'O', 'O', 'O', 'O', 'O', 'O', 'O', 'O', 'R-7-50', 'O', 'O', 'O', 'O', 'O', 'O', 'O', 'O', 'O', 'O', 'O', 'O', 'O', 'O', 'O', 'R-1-50', 'O', 'O', 'O', 'R-6-14', 'R-6-14', 'O', 'O', 'O', 'O', 'R-13-14', 'R-4-50', 'R-6-50', 'O', 'O', 'O', 'O', 'O', 'O', 'O', 'O', 'R-1-3', 'O', 'R-3-5', 'R-1-3', 'O', 'R-1-3', 'R-3-5', 'O', 'O', 'R-3-50', 'R-1-3', 'O', 'O', 'O', 'O', 'O', 'R-7-50', 'R-7-50', 'R-7-50', 'O', 'O', 'R-11-50', 'R-1-50', 'O', 'O', 'O', 'O', 'O', 'R-1-50', 'R-3-50', 'R-5-50', 'R-1-50', 'O', 'O', 'R-2-3', 'O', 'O', 'O', 'O', 'O', 'O', 'O', 'R-3-50', 'R-3-14', 'R-3-50', 'R-3-14', 'O', 'R-1-2', 'R-1-50', 'R-3-50', 'R-4-50', 'O', 'O', 'R-5B-50', 'R-11-50', 'R-11-13', 'R-13-14', 'R-1-2', 'R-2-3', 'R-2-3', 'R-1-50', 'O', 'O', 'R-1-4', 'R-4-7', 'R-4-7', 'O', 'O', 'O', 'R-7-50', 'O', 'O', 'O', 'O', 'O', 'R-1-50', 'R-3-50', 'O', 'O', 'O', 'O', 'O', 'O', 'R-14-50', 'R-6-14', 'R-7-50', 'O', 'O', 'R-7-50', 'O', 'O', 'O', 'O', 'O', 'O', 'O', 'O', 'O', 'O', 'O', 'R-4-3', 'R-5-5B', 'R-7-50', 'R-6-7', 'R-7-50', 'O', 'R-3-50', 'R-1-50', 'R-3-50', 'R-1-50', 'O', 'O', 'O', 'O', 'O', 'O', 'O', 'O', 'R-7-50', 'R-1-50', 'R-1-4', 'R-3-4', 'R-4-5', 'O', 'O', 'O', 'R-12-13', 'O', 'O', 'R-6-7', 'O', 'O', 'O', 'O', 'O', 'O', 'O', 'O', 'O', 'O', 'O', 'O', 'O', 'O', 'O', 'O', 'O', 'O', 'O', 'R-1-3', 'R-1-3', 'R-3-5', 'O', 'O', 'O', 'O', 'O', 'O', 'O', 'O', 'O', 'R-5-50', 'R-11-50', 'R-3-50', 'R-1-3', 'R-1-3', 'O', 'O', 'O', 'O', 'R-11-14', 'R-3-50', 'R-11-50', 'O', 'R-5-50', 'O', 'O', 'O', 'O', 'O', 'O', 'R-3-50', 'R-3-50', 'R-3-50', 'O', 'O', 'O', 'O', 'O', 'O', 'O', 'O', 'O', 'O', 'O', 'R-1-50', 'O', 'O', 'O', 'O', 'O', 'O', 'O', 'O', 'O', 'O', 'O', 'O', 'O', 'O', 'O', 'O', 'O', 'O', 'O', 'O', 'R-4-5', 'O', 'O', 'O', 'O', 'O', 'O', 'O', 'R-5-5B', 'R-4-5', 'R-3-4', 'R-4-14', 'R-11-14', 'R-11-12', 'R-12-13', 'R-13-14', 'R-13-14', 'O', 'R-3-5', 'R-3-4', 'O', 'O', 'O', 'R-7-50', 'O', 'O', 'O', 'O', 'O', 'O', 'O', 'R-3-5', 'R-3-50', 'O', 'O', 'R-3-50', 'R-3-50', 'O', 'R-1-3', 'R-1-3', 'O', 'O', 'O', 'O', 'O', 'O', 'R-1-2', 'O', 'O', 'O', 'O', 'R-1-3', 'O', 'R-4-50', 'R-6-50', 'O', 'R-7-50', 'O', 'R-6-50', 'R-7-50', 'O', 'O', 'O', 'O', 'O', 'O', 'O', 'R-3-1', 'O', 'O', 'O', 'O', 'R-6-7', 'O', 'O', 'O', 'O', 'O', 'O', 'O', 'O', 'O', 'O', 'O', 'R-3-50', 'R-5-50', 'R-3-50', 'R-5-50', 'O', 'O', 'O', 'O', 'O', 'O', 'O', 'O', 'O', 'O', 'O', 'R-1-50', 'R-3-50', 'O', 'O', 'O', 'O', 'O', 'O', 'O', 'O', 'R-6-7', 'O', 'R-7-50', 'O', 'O', 'O', 'O', 'O', 'O', 'R-1-50', 'O', 'O', 'O', 'R-11-50', 'O', 'R-11-12', 'R-12-13', 'R-13-14', 'R-13-14', 'O', 'O', 'O', 'O', 'O', 'R-1-5', 'R-5-50', 'R-5-50', 'O', 'O', 'O', 'O', 'O', 'O', 'R-4-50', 'O', 'R-1-50', 'R-7-50', 'R-5-50', 'O', 'R-1-2', 'O', 'O', 'O', 'O', 'O', 'O', 'R-4-5', 'O', 'O', 'O', 'O', 'O', 'O', 'O', 'O', 'O', 'O', 'O', 'O', 'O', 'O', 'R-11-13', 'R-11-12', 'R-12-13', 'R-13-50', 'O', 'O', 'R-3-4', 'R-4-14', 'R-4-14', 'R-14-50', 'R-14-50', 'O', 'O', 'O', 'O', 'O', 'O', 'R-1-50', 'O', 'R-1-50', 'O', 'O', 'O', 'O', 'R-1-3', 'R-3-50', 'O', 'O', 'R-3-7', 'R-7-50', 'O', 'O', 'O', 'O', 'O', 'O', 'O', 'R-7-50', 'O', 'O', 'O', 'O', 'O', 'O', 'O', 'O', 'O', 'O', 'R-1-3', 'R-3-4', 'O', 'R-5-7', 'R-5-7', 'R-7-50', 'R-7-50', 'O', 'O', 'O', 'O', 'R-3-6', 'R-13-6', 'R-3-7', 'R-13-7', 'R-7-50', 'R-7-50', 'R-1-3', 'R-1-3', 'R-6-50', 'R-3-4', 'R-4-6', 'R-6-7', 'R-7-50', 'O', 'R-1-3', 'R-3-4', 'R-4-14', 'R-7-50', 'R-6-7', 'R-3-50', 'R-1-50', 'O', 'O', 'O', 'O', 'O', 'O', 'O', 'O', 'O', 'O', 'R-5B-5', 'O', 'O', 'O', 'O', 'O', 'O', 'O', 'O', 'O', 'O', 'O', 'O', 'R-2-3', 'O', 'O', 'O', 'R-11-13', 'R-11-12', 'R-12-13', 'R-13-14', 'O', 'O', 'O', 'O', 'O', 'O', 'O', 'O', 'R-1-50', 'O', 'O', 'R-1-3', 'R-3-4', 'O', 'O', 'O', 'O', 'O', 'R-7-50', 'R-4-50', 'O', 'O', 'O', 'R-3-50', 'R-1-50', 'R-1-3', 'O', 'O', 'O', 'O', 'O', 'O', 'O', 'O', 'O', 'O', 'O', 'O', 'R-3-50', 'O', 'O', 'R-4-50', 'R-3-50', 'R-4-50', 'O', 'O', 'O', 'R-7-50', 'O', 'O', 'O', 'O', 'O', 'O', 'O', 'R-3-4', 'R-4-50', 'R-11-13', 'R-13-50', 'R-13-50', 'O', 'R-7-50', 'R-7-50', 'R-7-50', 'R-6-14', 'R-14-50', 'R-14-50', 'O', 'O', 'O', 'R-3-50', 'O', 'R-1-5', 'O', 'R-1-2', 'R-4-5', 'O', 'O', 'O', 'O', 'O', 'R-3-50', 'R-11-50', 'R-13-50', 'O', 'R-3-5', 'O', 'R-11-13', 'O', 'R-11-13', 'O', 'O', 'O', 'O', 'O', 'O', 'O', 'O', 'O', 'R-6-50', 'O', 'O', 'O', 'O', 'O', 'O', 'O', 'O', 'O', 'O', 'O', 'O', 'O', 'O', 'O', 'O', 'O', 'O', 'O', 'O', 'O', 'O', 'O', 'O', 'O', 'O', 'R-3-50', 'R-3-5', 'R-4-14', 'R-13-50', 'R-14-50', 'R-13-14', 'R-6-50', 'R-6-7', 'O', 'R-3-50', 'R-1-3', 'R-3-50', 'R-3-5', 'R-5-7', 'R-7-50', 'R-3-50', 'R-6-50', 'R-3-50', 'R-1-50', 'O', 'O', 'O', 'O', 'O', 'R-1-6', 'R-1-6', 'R-6-50', 'R-3-50', 'O', 'R-3-6', 'O', 'O', 'O', 'O', 'O', 'R-1-50', 'R-1-50', 'R-7-50', 'O', 'O', 'O', 'R-5B-5', 'O', 'O', 'O', 'O', 'O', 'O', 'O', 'O', 'O', 'O', 'R-2-3', 'O', 'O', 'O', 'O', 'O', 'O', 'O', 'O', 'O', 'R-7-50', 'R-6-50', 'R-6-50', 'R-6-7', 'O', 'O', 'O', 'O', 'O', 'O', 'O', 'O', 'O', 'O', 'R-3-5', 'O', 'O', 'O', 'O', 'O', 'O', 'O', 'R-3-50', 'R-1-50', 'O', 'O', 'O', 'O', 'O', 'O', 'O', 'O', 'R-4-50', 'O', 'O', 'R-4-14', 'O', 'O', 'R-11-12', 'R-12-13', 'R-13-14', 'O', 'O', 'O', 'O', 'O', 'O', 'O', 'O', 'O', 'R-14-50', 'R-6-14', 'R-7-50', 'R-3-50', 'O', 'R-1-50', 'R-1-2', 'R-1-2', 'O', 'R-1-3', 'R-1-3', 'R-3-50', 'R-3-50', 'O', 'R-3-4', 'O', 'R-1-3', 'R-3-6', 'R-3-6', 'R-6-7', 'R-7-50', 'O', 'O', 'O', 'O', 'R-14-50', 'R-6-14', 'R-7-50', 'O', 'O', 'O', 'O', 'O', 'O', 'R-1-2', 'O', 'O', 'O', 'O', 'O', 'O', 'O', 'O', 'O', 'O', 'R-2-3', 'O', 'O', 'O', 'R-7-50', 'R-7-50', 'O', 'O', 'O', 'O', 'O', 'O', 'O', 'O', 'O', 'O', 'O', 'O', 'O', 'O', 'O', 'O', 'O', 'O', 'O', 'R-7-50', 'O', 'O', 'O', 'O', 'O', 'O', 'O', 'O', 'O', 'O', 'R-5-50', 'O', 'O', 'O', 'O', 'O', 'O', 'O', 'O', 'O', 'O', 'R-11-50', 'R-1-50', 'R-1-50', 'R-11-50', 'O', 'O', 'R-5B-7', 'O', 'O', 'O', 'O', 'R-7-50', 'O', 'O', 'O', 'R-13-50', 'R-1-50', 'O', 'O', 'O', 'O', 'O', 'O', 'O', 'O', 'O', 'O', 'R-3-50', 'O', 'R-3-50', 'O', 'O', 'O', 'O', 'O', 'O', 'O', 'R-1-3', 'O', 'O', 'R-4-5', 'O', 'O', 'O', 'R-6-7', 'O', 'O', 'O', 'O', 'O', 'O', 'O', 'O', 'R-7-50', 'O', 'R-1-2', 'R-1-3', 'O', 'O', 'O', 'O', 'R-7-50', 'R-6-7', 'R-1-50', 'R-13-50', 'O', 'O', 'O', 'O', 'R-7-50', 'O', 'O', 'O', 'O', 'O', 'O', 'O', 'O', 'O', 'O', 'R-7-50', 'O', 'O', 'O', 'R-3-4', 'R-4-14', 'R-13-14', 'O', 'R-6-14', 'R-14-50', 'R-14-50', 'O', 'O', 'O', 'O', 'O', 'O', 'R-6-50', 'O', 'O', 'O', 'R-3-50', 'R-1-50', 'R-3-50', 'R-1-50', 'R-3-1', 'O', 'R-3-50', 'R-1-50', 'R-7-50', 'R-3-7', 'O', 'R-1-3', 'O', 'O', 'R-3-50', 'R-1-50', 'O', 'R-1-50', 'R-4-50', 'O', 'R-3-50', 'R-2-3', 'R-3-50', 'R-4-50', 'R-4-5', 'O', 'R-13-50', 'R-11-13', 'R-11-12', 'R-12-13', 'R-13-14', 'O', 'O', 'R-3-5', 'O', 'O', 'R-3-50', 'R-4-50', 'O', 'O', 'R-1-50', 'R-3-50', 'R-1-2', 'O', 'O', 'O', 'R-3-5', 'R-2-3', 'O', 'O', 'O', 'R-3-7', 'R-1-3', 'R-1-50', 'R-3-50', 'R-3-5', 'O', 'O', 'O', 'O', 'O', 'O', 'O', 'O', 'O', 'O', 'O', 'O', 'R-4-50', 'R-3-5', 'O', 'O', 'O', 'R-14-50', 'R-6-14', 'O', 'R-13-50', 'R-7-50', 'R-11-50', 'O', 'R-13-50', 'R-7-50', 'R-11-50', 'R-6-7', 'O', 'O', 'O', 'O', 'O', 'R-6-7', 'R-4-50', 'R-3-50', 'O', 'O', 'R-7-50', 'R-5B-14', 'R-1-50', 'R-1-6', 'R-1-6', 'R-1-3', 'R-1-50', 'R-1-2', 'R-1-3', 'R-2-4', 'R-2-7', 'R-2-7', 'R-2-4', 'R-3-1', 'R-1-50', 'R-1-50', 'R-1-3', 'R-3-50', 'O', 'R-7-50', 'O', 'O', 'R-3-50', 'R-11-50', 'R-1-50', 'O', 'O', 'O', 'O', 'O', 'O', 'R-1-50', 'O', 'O', 'R-3-1', 'R-1-3', 'O', 'O', 'O', 'R-11-14', 'R-11-14', 'O', 'R-13-14', 'O', 'O', 'O', 'O', 'O', 'O', 'R-6-50', 'R-1-50', 'R-11-50', 'O', 'O', 'O', 'O', 'O', 'R-1-50', 'R-1-3', 'O', 'O', 'O', 'R-7-50', 'R-7-5B', 'R-5B-50', 'O', 'O', 'R-3-50', 'R-3-50', 'R-50-7', 'O', 'O', 'R-7-50', 'R-50-7', 'R-50-1', 'R-1-3', 'R-3-50', 'O', 'O', 'O', 'O', 'O', 'O', 'R-3-5', 'O', 'O', 'O', 'O', 'O', 'R-3-4', 'R-4-14', 'R-4-5', 'O', 'O', 'O', 'O', 'R-7-50', 'O', 'O', 'R-13-14', 'R-11-14', 'R-3-14', 'R-4-14', 'O', 'R-6-7', 'O', 'O', 'O', 'R-3-50', 'R-1-50', 'R-1-50', 'R-3-50', 'R-4-14', 'R-11-50', 'R-11-12', 'R-12-14', 'R-1-50', 'R-3-50', 'O', 'R-6-50', 'R-3-50', 'O', 'R-3-50', 'R-2-6', 'R-3-50', 'R-1-50', 'O', 'R-5-7', 'R-1-50', 'R-3-4', 'R-4-13', 'R-5-5B', 'R-11-12', 'R-12-13', 'R-6-50', 'R-7-50', 'O', 'R-7-50', 'O', 'O', 'O', 'O', 'O', 'O', 'O', 'O', 'O', 'O', 'O', 'O', 'R-3-4', 'O', 'O', 'O', 'O', 'O', 'O', 'O', 'O', 'R-7-50', 'R-1-50', 'R-5-50', 'R-1-50', 'O', 'O', 'O', 'R-2-3', 'O', 'O', 'R-4-5', 'O', 'R-5-5B', 'R-7-50', 'R-5-7', 'O', 'O', 'O', 'O', 'R-1-3', 'R-3-4', 'R-4-14', 'R-4-14', 'R-1-3', 'R-3-50', 'R-3-50', 'R-3-50', 'R-3-5', 'O', 'O', 'R-11-13', 'R-11-12', 'R-12-13', 'R-13-14', 'R-13-14', 'R-4-50', 'O', 'R-1-50', 'O', 'O', 'O', 'O', 'O', 'R-2-3', 'R-3-50', 'R-3-50', 'O', 'O', 'R-3-4', 'O', 'O', 'R-11-13', 'R-11-12', 'R-12-13', 'R-13-50', 'O', 'O', 'O', 'O', 'O', 'O', 'O', 'O', 'O', 'O', 'R-1-50', 'R-1-2', 'O', 'O', 'O', 'O', 'R-3-50', 'O', 'O', 'O', 'O', 'R-6-7', 'R-7-50', 'R-7-50', 'R-3-4', 'R-4-14', 'R-4-14', 'R-11-13', 'R-11-12', 'O', 'O', 'O', 'O', 'O', 'O', 'O', 'O', 'R-6-50', 'R-6-14', 'R-7-50', 'R-7-50', 'O', 'R-1-50', 'R-3-50', 'O', 'R-1-3', 'R-3-50', 'R-1-50', 'R-3-50', 'R-3-50', 'R-6-50', 'R-6-50', 'R-6-7', 'R-1-50', 'R-3-50', 'R-3-50', 'R-3-50', 'R-3-50', 'O', 'R-3-4', 'R-4-5', 'R-7-50', 'O', 'R-3-4', 'O', 'R-7-50', 'R-3-7', 'R-1-3', 'R-1-3', 'R-3-4', 'R-3-4', 'R-4-5', 'R-5-7', 'R-5-7', 'R-7-50', 'O', 'O', 'O', 'O', 'O', 'O', 'O', 'O', 'O', 'O', 'R-3-50', 'R-1-50', 'O', 'O', 'R-1-50', 'R-11-1', 'R-11-1', 'R-11-3', 'O', 'R-3-7', 'R-4-7', 'R-11-12', 'O', 'O', 'R-6-7', 'O', 'O', 'O', 'O', 'O', 'O', 'O', 'O', 'O', 'O', 'O', 'O', 'O', 'O', 'O', 'O', 'O', 'O', 'O', 'R-7-50', 'O', 'O', 'R-7-50', 'R-11-13', 'O', 'R-1-50', 'O', 'R-1-50', 'R-1-50', 'R-1-50', 'O', 'O', 'O', 'O', 'O', 'O', 'O', 'R-12-14', 'R-6-7', 'R-7-50', 'O', 'R-1-50', 'R-3-50', 'R-1-50', 'R-2-3', 'O', 'O', 'O', 'O', 'O', 'O', 'O', 'O', 'O', 'R-1-50', 'R-1-50', 'R-1-3', 'R-1-3', 'R-3-4', 'R-3-14', 'R-4-14', 'O', 'O', 'R-11-13', 'O', 'R-4-50', 'O', 'O', 'O', 'O', 'O', 'O', 'O', 'O', 'O', 'O', 'O', 'O', 'O', 'O', 'O', 'O', 'O', 'O', 'R-7-50', 'O', 'O', 'R-1-50', 'R-3-50', 'O', 'O', 'R-14-50', 'R-6-14', 'R-14-50', 'R-6-14', 'O', 'O', 'O', 'O', 'O', 'O', 'O', 'R-3-13', 'R-3-13', 'O', 'O', 'O', 'O', 'O', 'O', 'O', 'O', 'O', 'O', 'O', 'R-4-5B', 'O', 'O', 'O', 'R-13-50', 'O', 'R-11-13', 'R-11-12', 'R-12-13', 'R-12-13', 'R-13-14', 'O', 'O', 'O', 'O', 'O', 'O', 'O', 'R-3-50', 'R-1-50', 'R-3-50', 'O', 'O', 'O', 'R-7-50', 'O', 'O', 'O', 'O', 'O', 'O', 'O', 'O', 'O', 'O', 'O', 'O', 'O', 'O', 'O', 'O', 'R-6-7', 'R-7-50', 'R-7-50', 'O', 'R-1-50', 'R-1-3', 'R-3-50', 'O', 'O', 'R-11-50', 'R-11-12', 'R-11-13', 'R-11-12', 'O', 'O', 'O', 'O', 'O', 'O', 'O', 'O', 'R-1-3', 'R-1-50', 'R-3-50', 'O', 'O', 'O', 'O', 'O', 'R-3-4', 'O', 'O', 'O', 'R-6-7', 'R-7-50', 'O', 'O', 'O', 'O', 'R-1-2', 'R-2-3', 'R-3-4', 'R-4-5', 'O', 'O', 'O', 'O', 'O', 'O', 'O', 'O', 'O', 'O', 'O', 'R-3-5', 'O', 'O', 'O', 'R-14-50', 'R-6-14', 'O', 'O', 'O', 'O', 'O', 'O', 'O', 'O', 'O', 'R-11-50', 'R-11-12', 'R-12-13', 'O', 'R-1-50', 'O', 'R-13-50', 'R-3-50', 'R-4-50', 'R-13-50', 'R-11-13', 'R-13-14', 'O', 'O', 'R-3-5', 'R-3-4', 'R-4-14', 'O', 'O', 'R-11-13', 'R-3-13', 'R-13-50', 'O', 'O', 'R-14-50', 'R-6-14', 'R-1-50', 'O', 'O', 'O', 'O', 'O', 'O', 'O', 'O', 'O', 'R-6-14', 'O', 'O', 'O', 'R-1-2', 'O', 'O', 'O', 'O', 'O', 'O', 'O', 'O', 'O', 'O', 'O', 'R-11-50', 'R-4-50', 'R-3-50', 'R-3-50', 'R-4-50', 'O', 'O', 'O', 'R-1-50', 'O', 'O', 'O', 'O', 'R-6-7', 'O', 'O', 'O', 'R-1-2', 'R-1-2', 'R-3-50', 'R-3-6', 'O', 'O', 'O', 'O', 'O', 'O', 'R-5-5B', 'O', 'R-12-13', 'O', 'R-11-13', 'R-13-14', 'R-7-50', 'O', 'O', 'O', 'O', 'O', 'R-3-50', 'R-3-7', 'R-7-50', 'O', 'O', 'O', 'O', 'O', 'O', 'O', 'O', 'O', 'O', 'O', 'O', 'O', 'O', 'O', 'O', 'O', 'O', 'R-6-7', 'O', 'O', 'O', 'O', 'O', 'O', 'R-7-50', 'O', 'O', 'R-5-5B', 'O', 'O', 'O', 'O', 'O', 'R-7-50', 'O', 'R-6-50', 'O', 'O', 'O', 'O', 'O', 'O', 'O', 'O', 'O', 'O', 'O', 'O', 'O', 'O', 'O', 'O', 'R-4-14', 'R-11-14', 'O', 'O', 'O', 'O', 'O', 'O', 'O', 'R-1-50', 'O', 'O', 'O', 'O', 'R-1-50', 'R-1-50', 'R-1-3', 'R-3-50', 'O', 'O', 'O', 'O', 'O', 'O', 'O', 'O', 'O', 'O', 'R-7-50', 'R-7-50', 'O', 'O', 'O', 'R-1-50', 'R-1-3', 'R-1-2', 'O', 'O', 'O', 'R-5-50', 'R-6-7', 'R-7-50', 'O', 'O', 'O', 'O', 'O', 'O', 'O', 'R-5-5B', 'R-1-2', 'O', 'O', 'O', 'R-3-4', 'R-4-50', 'R-4-50', 'R-13-14', 'O', 'O', 'O', 'O', 'O', 'O', 'O', 'O', 'O', 'O', 'O', 'O', 'O', 'R-3-50', 'R-1-50', 'O', 'R-6-14', 'O', 'O', 'R-7-50', 'R-3-50', 'O', 'R-3-5', 'R-5-7', 'O', 'O', 'O', 'O', 'O', 'R-6-7', 'O', 'O', 'R-2-3', 'R-3-50', 'O', 'O', 'O', 'O', 'O', 'O', 'O', 'O', 'R-1-3', 'R-3-50', 'R-7-50', 'O', 'O', 'R-7-50', 'O', 'R-5-7', 'R-7-50', 'R-3-7', 'R-3-5', 'O', 'R-7-50', 'O', 'O', 'R-14-50', 'R-6-14', 'O', 'R-6-7', 'O', 'O', 'R-11-12', 'R-12-13', 'R-13-14', 'R-13-14', 'O', 'O', 'R-11-50', 'O', 'R-11-50', 'R-11-13', 'O', 'R-7-50', 'O', 'O', 'R-4-14', 'O', 'R-3-50', 'R-3-50', 'R-3-50', 'O', 'O', 'O', 'O', 'O', 'O', 'O', 'O', 'O', 'O', 'O', 'O', 'O', 'R-5B-7', 'O', 'O', 'O', 'O', 'O', 'O', 'O', 'R-1-50', 'R-1-2', 'O', 'O', 'O', 'O', 'O', 'R-6-50', 'O', 'R-6-7', 'R-7-50', 'R-7-50', 'O', 'O', 'O', 'O', 'O', 'R-13-50', 'R-1-50', 'O', 'R-7-50', 'O', 'O', 'O', 'O', 'O', 'O', 'O', 'O', 'O', 'O', 'R-3-50', 'R-1-2', 'R-1-2', 'O', 'O', 'O', 'O', 'R-3-4', 'R-4-14', 'R-4-14', 'O', 'O', 'R-11-12', 'R-12-13', 'R-13-14', 'R-13-14', 'O', 'O', 'R-7-50', 'O', 'O', 'R-14-50', 'R-6-14', 'R-7-50', 'O', 'O', 'O', 'O', 'O', 'R-1-3', 'O', 'O', 'O', 'O', 'O', 'O', 'O', 'O', 'O', 'O', 'R-1-50', 'R-13-50', 'R-1-50', 'R-13-50', 'O', 'O', 'O', 'O', 'R-4-50', 'O', 'R-5-50', 'R-5-3', 'R-1-3', 'O', 'R-6-14', 'O', 'R-6-7', 'R-7-50', 'O', 'O', 'O', 'O', 'O', 'O', 'O', 'O', 'O', 'O', 'O', 'O', 'O', 'O', 'R-3-5', 'R-4-14', 'R-11-14', 'R-11-14', 'O', 'O', 'O', 'O', 'R-5B-50', 'O', 'O', 'O', 'O', 'O', 'O', 'O', 'O', 'R-3-50', 'O', 'O', 'O', 'R-1-50', 'R-2-3', 'O', 'R-1-50', 'O', 'O', 'R-3-5', 'O', 'O', 'R-3-5', 'R-4-14', 'O', 'O', 'O', 'O', 'O', 'O', 'O', 'R-5B-50', 'R-5B-50', 'O', 'O', 'O', 'R-1-2', 'O', 'O', 'O', 'O', 'O', 'R-2-3', 'O', 'O', 'O', 'R-5-5B', 'O', 'O', 'R-4-5', 'O', 'R-4-50', 'R-3-5', 'R-1-50', 'R-4-14', 'R-3-4', 'R-7-50', 'R-6-50', 'R-6-50', 'O', 'O', 'O', 'O', 'O', 'R-6-14', 'O', 'O', 'O', 'R-7-50', 'O', 'R-13-14', 'O', 'O', 'R-7-50', 'R-1-50', 'O', 'R-3-50', 'O', 'O', 'O', 'O', 'O', 'O', 'R-7-50', 'O', 'O', 'R-1-2', 'O', 'O', 'O', 'O', 'O', 'O', 'O', 'O', 'O', 'O', 'O', 'O', 'R-5-5B', 'O', 'O', 'O', 'O', 'O', 'O', 'O', 'R-13-50', 'R-3-50', 'O', 'R-1-50', 'R-1-50', 'O', 'O', 'R-6-7', 'O', 'O', 'O', 'R-7-50', 'R-7-50', 'R-2-50', 'R-1-50', 'O', 'R-3-4', 'O', 'O', 'O', 'O', 'O', 'O', 'O', 'O', 'O', 'O', 'O', 'R-4-5', 'O', 'O', 'O', 'O', 'O', 'O', 'O', 'O', 'O', 'O', 'O', 'O', 'O', 'O', 'O', 'R-3-50', 'R-7-50', 'R-1-3', 'R-3-4', 'R-4-14', 'O', 'R-7-50', 'O', 'R-5-5B', 'R-5B-14', 'O', 'R-11-13', 'R-13-14', 'R-14-50', 'O', 'O', 'R-14-50', 'R-6-14', 'O', 'O', 'O', 'O', 'R-4-50', 'O', 'O', 'O', 'O', 'O', 'O', 'O', 'O', 'R-11-14', 'O', 'R-13-14', 'O', 'O', 'O', 'O', 'O', 'R-7-50', 'O', 'R-1-50', 'R-1-50', 'R-3-50', 'R-13-50', 'R-11-12', 'R-12-13', 'R-13-50', 'R-3-50', 'R-5-5B', 'O', 'R-7-50', 'R-7-5B', 'R-5B-50', 'O', 'O', 'O', 'O', 'O', 'O', 'O', 'R-7-50', 'O', 'O', 'R-1-2', 'O', 'O', 'O', 'O', 'O', 'O', 'O', 'O', 'O', 'O', 'O', 'O', 'O', 'R-13-14', 'R-13-50', 'O', 'O', 'R-3-4', 'R-4-14', 'R-4-14', 'O', 'O', 'R-6-50', 'O', 'R-6-7', 'O', 'O', 'O', 'O', 'O', 'O', 'O', 'R-3-50', 'O', 'R-3-50', 'O', 'O', 'O', 'O', 'O', 'O', 'R-1-50', 'R-1-50', 'O', 'R-1-50', 'R-1-3', 'R-3-50', 'O', 'R-11-50', 'O', 'R-11-13', 'R-13-14', 'O', 'O', 'O', 'O', 'R-6-7', 'R-7-50', 'O', 'O', 'O', 'R-7-50', 'O', 'O', 'O', 'O', 'O', 'O', 'O', 'R-4-5', 'O', 'O', 'O', 'O', 'O', 'O', 'R-6-50', 'R-6-7', 'R-7-50', 'R-6-50', 'R-7-50', 'O', 'O', 'O', 'R-4-50', 'R-50-1', 'O', 'O', 'O', 'O', 'O', 'O', 'R-1-50', 'O', 'O', 'O', 'O', 'R-13-50', 'R-3-50', 'R-1-3', 'R-1-3', 'R-3-5', 'R-13-50', 'O', 'R-11-12', 'R-12-13', 'R-13-50', 'R-13-50', 'O', 'O', 'R-1-50', 'R-3-50', 'O', 'O', 'O', 'O', 'O', 'R-7-50', 'O', 'O', 'O', 'O', 'O', 'O', 'R-3-5', 'O', 'R-11-13', 'R-11-12', 'R-12-13', 'O', 'O', 'O', 'R-1-50', 'R-3-50', 'R-1-3', 'R-1-3', 'R-3-50', 'R-1-50', 'R-13-50', 'R-12-13', 'O', 'O', 'O', 'O', 'O', 'O', 'O', 'O', 'O', 'O', 'O', 'R-1-3', 'R-1-3', 'O', 'O', 'O', 'R-3-4', 'R-4-14', 'O', 'O', 'R-11-50', 'R-7-50', 'O', 'O', 'O', 'O', 'R-7-50', 'R-1-50', 'R-3-50', 'R-5-50', 'R-7-50', 'R-1-50', 'R-3-50', 'R-5-50', 'R-11-50', 'R-11-50', 'R-13-50', 'R-12-13', 'O', 'R-6-7', 'R-7-50', 'R-13-50', 'R-7-50', 'O', 'O', 'O', 'O', 'O', 'O', 'R-11-50', 'O', 'O', 'O', 'O', 'R-1-50', 'R-1-3', 'O', 'R-1-3', 'R-3-4', 'O', 'O', 'O', 'O', 'O', 'R-6-7', 'O', 'R-1-50', 'R-11-50', 'O', 'O', 'O', 'O', 'O', 'O', 'O', 'O', 'O', 'O', 'O', 'O', 'O', 'R-11-13', 'R-11-12', 'R-12-13', 'R-13-14', 'R-14-50', 'R-4-50', 'R-4-5', 'R-4-5', 'O', 'R-4-50', 'R-5B-5', 'R-1-50', 'O', 'R-1-2', 'O', 'O', 'O', 'O', 'R-14-50', 'O', 'R-1-50', 'R-1-50', 'R-3-50', 'R-1-50', 'R-3-50', 'R-1-50', 'O', 'O', 'O', 'R-1-3', 'R-3-5', 'R-5-5B', 'R-5-5B', 'R-5B-50', 'O', 'R-5-50', 'O', 'O', 'O', 'R-3-5', 'O', 'R-14-50', 'R-6-14', 'R-7-50', 'O', 'O', 'O', 'O', 'O', 'O', 'O', 'O', 'R-7-50', 'O', 'R-7-50', 'O', 'R-1-50', 'R-1-50', 'O', 'R-1-2', 'R-3-5', 'R-1-3', 'R-3-50', 'R-1-6', 'R-6-7', 'R-7-50', 'R-13-50', 'R-11-13', 'R-11-12', 'R-12-13', 'O', 'O', 'R-6-7', 'R-7-50', 'O', 'O', 'O', 'O', 'O', 'R-4-50', 'O', 'R-4-5', 'R-3-14', 'R-4-14', 'R-4-50', 'O', 'O', 'O', 'O', 'O', 'O', 'O', 'R-7-50', 'O', 'R-6-7', 'O', 'R-1-50', 'O', 'R-4-14', 'R-6-7', 'R-7-50', 'R-4-50', 'R-1-50', 'O', 'O', 'O', 'R-7-50', 'R-6-50', 'R-6-50', 'O', 'O', 'O', 'O', 'O', 'R-7-50', 'R-1-3', 'R-3-50', 'R-1-3', 'R-3-50', 'O', 'O', 'R-11-3', 'R-3-6', 'R-6-7', 'O', 'O', 'R-6-50', 'R-6-7', 'O', 'O', 'O', 'O', 'R-6-7', 'O', 'R-6-50', 'R-5-50', 'O', 'O', 'O', 'O', 'O', 'O', 'R-11-12', 'O', 'O', 'O', 'R-11-12', 'R-13-12', 'O', 'O', 'O', 'O', 'O', 'O', 'O', 'O', 'O', 'O', 'O', 'R-7-50', 'O', 'O', 'O', 'O', 'O', 'O', 'O', 'O', 'O', 'R-14-50', 'R-6-14', 'R-6-50', 'R-7-50', 'R-1-3', 'O', 'O', 'O', 'O', 'R-1-50', 'R-1-50', 'R-3-5', 'R-1-3', 'R-3-14', 'R-7-50', 'O', 'O', 'O', 'O', 'O', 'O', 'O', 'O', 'O', 'O', 'O', 'O', 'O', 'O', 'O', 'O', 'O', 'R-1-2', 'R-1-2', 'R-2-3', 'R-1-3', 'R-3-5', 'R-1-3', 'R-14-50', 'R-6-14', 'R-7-50', 'R-6-7', 'R-3-7', 'R-1-3', 'R-7-50', 'R-1-50', 'R-1-2', 'O', 'O', 'O', 'O', 'O', 'R-3-5', 'R-5-5B', 'O', 'O', 'O', 'O', 'R-1-50', 'R-3-50', 'O', 'O', 'R-4-50', 'O', 'O', 'R-7-50', 'O', 'O', 'O', 'O', 'O', 'O', 'O', 'O', 'R-1-2', 'O', 'O', 'O', 'O', 'O', 'O', 'O', 'O', 'O', 'R-2-3', 'O', 'O', 'O', 'R-1-50', 'R-11-50', 'R-1-3', 'O', 'R-11-50', 'R-11-13', 'R-12-13', 'O', 'O', 'O', 'O', 'R-11-50', 'R-1-50', 'O', 'O', 'O', 'O', 'O', 'O', 'R-7-50', 'R-1-50', 'R-1-3', 'R-1-3', 'O', 'O', 'R-1-3', 'R-3-50', 'O', 'O', 'O', 'O', 'O', 'O', 'O', 'O', 'O', 'O', 'O', 'O', 'O', 'O', 'O', 'O', 'O', 'O', 'O', 'O', 'O', 'R-1-2', 'O', 'O', 'O', 'O', 'O', 'R-1-50', 'R-1-50', 'R-1-3', 'R-3-4', 'R-4-14', 'R-3-50', 'R-4-11', 'R-11-13', 'O', 'R-4-5', 'R-4-5', 'O', 'R-4-14', 'O', 'O', 'O', 'O', 'O', 'O', 'R-5B-50', 'O', 'O', 'R-1-2', 'R-1-3', 'R-1-50', 'R-3-50', 'O', 'O', 'O', 'O', 'O', 'O', 'O', 'O', 'O', 'O', 'O', 'O', 'O', 'O', 'O', 'O', 'O', 'R-1-2', 'R-3-50', 'R-3-50', 'R-7-50', 'O', 'O', 'O', 'O', 'O', 'R-1-50', 'O', 'O', 'O', 'O', 'R-1-50', 'O', 'O', 'R-1-3', 'R-1-50', 'R-3-50', 'R-13-50', 'O', 'R-1-3', 'R-3-5', 'R-11-13', 'O', 'O', 'R-2-50', 'R-3-50', 'R-1-50', 'R-11-4', 'R-3-4', 'R-13-14', 'R-3-50', 'R-3-5', 'R-1-2', 'O', 'O', 'O', 'R-1-3', 'R-4-50', 'R-4-5B', 'O', 'R-6-50', 'R-6-50', 'R-7-50', 'O', 'O', 'O', 'O', 'O', 'R-1-50', 'R-2-1', 'R-1-2', 'O', 'R-1-3', 'O', 'O', 'R-1-50', 'R-3-4', 'O', 'O', 'R-6-50', 'R-6-50', 'R-6-5B', 'O', 'O', 'O', 'O', 'O', 'O', 'R-4-5', 'O', 'O', 'R-4-5', 'R-1-2', 'R-1-2', 'O', 'O', 'O', 'O', 'O', 'O', 'O', 'R-1-50', 'R-1-50', 'R-1-3', 'R-1-3', 'O', 'O', 'O', 'O', 'O', 'O', 'O', 'O', 'O', 'R-3-50', 'R-7-50', 'R-11-14', 'O', 'O', 'O', 'O', 'R-7-50', 'R-7-50', 'O', 'O', 'O', 'R-13-14', 'R-11-13', 'R-12-13', 'O', 'O', 'O', 'R-5B-50', 'R-5B-50', 'O', 'O', 'O', 'R-4-5B', 'R-5B-7', 'R-7-50', 'R-1-4', 'R-1-3', 'R-3-4', 'R-1-3', 'O', 'R-11-12', 'R-11-13', 'R-12-50', 'R-13-50', 'R-13-4', 'O', 'R-12-50', 'R-13-50', 'R-1-50', 'R-3-50', 'O', 'O', 'R-1-2', 'O', 'R-1-3', 'O', 'O', 'O', 'O', 'O', 'O', 'O', 'O', 'R-11-50', 'R-1-50', 'R-3-50', 'R-1-3', 'R-3-50', 'R-1-2', 'R-1-50', 'R-5-50', 'R-1-50', 'R-1-2', 'R-1-2', 'O', 'R-1-50', 'R-1-3', 'R-3-7', 'R-3-7', 'O', 'R-3-4', 'R-3-5B', 'O', 'O', 'O', 'O', 'R-14-50', 'R-6-14', 'O', 'O', 'O', 'O', 'O', 'O', 'O', 'O', 'R-1-7', 'R-7-50', 'O', 'R-11-50', 'R-1-50', 'R-11-4', 'R-7-50', 'R-7-50', 'R-6-7', 'R-7-50', 'O', 'O', 'O', 'O', 'O', 'O', 'O', 'O', 'R-4-5', 'O', 'O', 'O', 'O', 'O', 'R-1-50', 'O', 'R-1-2', 'R-1-50', 'R-3-4', 'R-5-5B', 'O', 'O', 'O', 'O', 'O', 'R-1-2', 'R-1-4', 'R-1-4', 'R-4-14', 'R-14-50', 'R-4-14', 'O', 'R-14-7', 'R-7-50', 'R-7-50', 'R-14-50', 'R-7-50', 'R-7-50', 'O', 'O', 'O', 'R-1-3', 'O', 'O', 'O', 'O', 'O', 'O', 'O', 'O', 'R-1-50', 'R-1-13', 'R-13-50', 'R-1-2', 'R-13-50', 'O', 'O', 'R-1-50', 'R-4-50', 'R-13-50', 'O', 'R-1-3', 'R-3-4', 'R-4-14', 'O', 'O', 'R-11-13', 'O', 'O', 'R-5B-5', 'O', 'O', 'O', 'O', 'O', 'O', 'R-3-50', 'R-1-3', 'O', 'R-3-50', 'O', 'O', 'O', 'R-1-50', 'O', 'O', 'O', 'O', 'O', 'O', 'R-11-12', 'R-12-13', 'R-13-14', 'R-13-14', 'R-5B-14', 'R-5B-14', 'R-5B-50', 'R-5B-50', 'O', 'O', 'O', 'O', 'R-6-7', 'O', 'O', 'O', 'O', 'R-7-50', 'R-7-50', 'O', 'O', 'O', 'O', 'O', 'O', 'O', 'O', 'O', 'R-3-5', 'O', 'R-11-12', 'R-12-14', 'R-12-13', 'R-12-13', 'R-12-14', 'O', 'O', 'O', 'O', 'O', 'O', 'O', 'R-7-50', 'O', 'O', 'O', 'O', 'O', 'O', 'O', 'O', 'O', 'O', 'O', 'R-3-5', 'R-2-3', 'O', 'O', 'R-3-5', 'R-5-50', 'R-5B-50', 'O', 'O', 'O', 'O', 'O', 'O', 'O', 'O', 'O', 'O', 'O', 'R-7-50', 'O', 'O', 'O', 'O', 'O', 'O', 'O', 'O', 'O', 'O', 'O', 'R-3-50', 'R-1-2', 'O', 'R-6-7', 'R-7-50', 'O', 'O', 'O', 'O', 'R-11-13', 'R-11-50', 'O', 'O', 'O', 'O', 'O', 'O', 'O', 'O', 'R-3-50', 'O', 'R-3-50', 'O', 'O', 'O', 'R-1-50', 'R-50-50', 'O', 'O', 'O', 'R-1-50', 'R-1-3', 'R-1-3', 'R-3-7', 'R-7-50', 'O', 'O', 'R-7-50', 'R-6-7', 'O', 'R-1-2', 'R-3-4', 'R-4-5', 'R-5-14', 'R-5-14', 'R-13-14', 'R-6-7', 'R-1-3', 'R-3-50', 'R-3-4', 'O', 'O', 'O', 'O', 'O', 'R-7-50', 'O', 'O', 'O', 'R-14-6', 'R-14-6', 'O', 'O', 'O', 'O', 'O', 'O', 'O', 'O', 'O', 'R-1-3', 'O', 'O', 'O', 'R-1-3', 'R-3-50', 'O', 'O', 'O', 'O', 'O', 'R-3-5', 'O', 'O', 'O', 'O', 'O', 'O', 'O', 'O', 'O', 'O', 'O', 'O', 'O', 'O', 'O', 'R-11-13', 'R-11-3', 'R-11-50', 'R-11-14', 'R-3-4', 'R-4-14', 'O', 'O', 'O', 'O', 'O', 'O', 'O', 'O', 'R-1-50', 'R-1-3', 'R-1-3', 'O', 'O', 'O', 'O', 'O', 'O', 'O', 'R-3-5', 'O', 'O', 'O', 'O', 'O', 'O', 'R-7-50', 'O', 'R-7-50', 'O', 'R-1-3', 'R-3-5', 'R-3-4', 'R-4-50', 'R-1-50', 'R-11-12', 'R-12-13', 'R-13-14', 'R-13-14', 'R-14-50', 'R-4-50', 'R-14-50', 'O', 'R-5-50', 'R-3-5', 'R-3-4', 'O', 'R-1-50', 'O', 'R-13-50', 'O', 'R-6-7', 'O', 'O', 'R-6-7', 'R-7-50', 'R-7-50', 'O', 'O', 'O', 'O', 'O', 'O', 'O', 'R-11-50', 'R-11-12', 'O', 'R-4-50', 'O', 'O', 'O', 'O', 'R-7-50', 'R-7-6', 'R-7-6', 'O', 'R-3-50', 'O', 'O', 'O', 'O', 'O', 'O', 'R-14-50', 'R-11-14', 'R-13-14', 'O', 'O', 'R-1-14', 'R-1-50', 'O', 'O', 'O', 'O', 'O', 'O', 'O', 'O', 'R-5B-50', 'O', 'O', 'O', 'O', 'O', 'R-1-2', 'O', 'O', 'R-3-4', 'R-4-14', 'R-4-14', 'O', 'O', 'O', 'O', 'O', 'O', 'O', 'O', 'O', 'O', 'O', 'O', 'O', 'O', 'O', 'O', 'R-14-50', 'R-6-14', 'R-7-50', 'O', 'O', 'O', 'O', 'O', 'O', 'O', 'O', 'O', 'O', 'O', 'O', 'R-7-50', 'R-3-50', 'O', 'O', 'O', 'O', 'O', 'O', 'O', 'R-5-50', 'R-1-2', 'R-7-50', 'O', 'O', 'O', 'O', 'O', 'O', 'R-1-2', 'R-3-4', 'R-4-5', 'O', 'R-11-13', 'R-13-14', 'R-13-14', 'R-1-50', 'R-11-50', 'R-6-7', 'O', 'R-1-50', 'R-4-50', 'R-7-50', 'O', 'R-50-3', 'O', 'O', 'O', 'O', 'O', 'R-7-50', 'O', 'O', 'O', 'O', 'O', 'O', 'O', 'O', 'O', 'O', 'R-1-50', 'R-3-50', 'O', 'O', 'O', 'R-1-3', 'R-1-3', 'R-7-50', 'R-6-7', 'O', 'O', 'O', 'O', 'O', 'O', 'O', 'O', 'O', 'R-3-50', 'R-1-3', 'R-5-50', 'O', 'O', 'O', 'O', 'O', 'O', 'R-3-5', 'R-3-4', 'O', 'O', 'O', 'O', 'O', 'O', 'O', 'R-11-13', 'R-13-5', 'R-5-7', 'R-7-50', 'R-7-50', 'R-7-50', 'R-1-50', 'R-11-50', 'O', 'R-1-3', 'O', 'R-11-14', 'O', 'R-11-13', 'R-13-14', 'R-14-50', 'O', 'O', 'O', 'R-50-7', 'R-7-50', 'R-7-50', 'O', 'R-3-5', 'O', 'R-11-13', 'R-11-13', 'R-13-14', 'O', 'O', 'O', 'O', 'R-1-50', 'R-3-50', 'R-3-50', 'R-1-50', 'O', 'O', 'O', 'O', 'O', 'O', 'O', 'O', 'R-1-50', 'R-6-7', 'O', 'O', 'O', 'O', 'O', 'O', 'O', 'O', 'R-3-50', 'R-3-4', 'R-4-50', 'R-13-14', 'O', 'O', 'O', 'O', 'O', 'O', 'R-1-3', 'R-3-50', 'O', 'O', 'R-3-5', 'O', 'O', 'O', 'O', 'O', 'R-7-50', 'O', 'R-7-50', 'R-7-50', 'R-5B-50', 'R-5B-50', 'R-2-3', 'R-3-5B', 'O', 'O', 'O', 'O', 'O', 'R-7-50', 'R-6-7', 'R-7-50', 'O', 'O', 'R-1-2', 'R-2-50', 'O', 'O', 'R-11-13', 'R-11-12', 'R-12-13', 'R-13-14', 'O', 'O', 'O', 'O', 'R-4-5', 'R-3-5', 'O', 'O', 'R-11-13', 'R-13-14', 'R-7-50', 'O', 'O', 'O', 'O', 'O', 'O', 'O', 'O', 'O', 'O', 'R-7-50', 'O', 'O', 'O', 'O', 'R-3-50', 'R-1-50', 'O', 'O', 'O', 'O', 'O', 'O', 'R-6-50', 'R-6-50', 'R-3-50', 'O', 'R-3-4', 'R-4-50', 'R-3-4', 'R-3-4', 'R-4-5B', 'R-5B-50', 'R-5B-50', 'O', 'O', 'O', 'O', 'O', 'O', 'O', 'O', 'O', 'O', 'O', 'O', 'O', 'R-3-4', 'R-4-14', 'O', 'O', 'R-6-7', 'R-7-50', 'O', 'O', 'O', 'R-11-12', 'R-13-14', 'O', 'R-7-50', 'O', 'O', 'O', 'O', 'R-1-50', 'R-3-50', 'O', 'O', 'O', 'R-3-4', 'O', 'R-4-50', 'O', 'O', 'O', 'R-4-5', 'O', 'O', 'O', 'O', 'O', 'O', 'R-6-14', 'R-7-50', 'O', 'O', 'O', 'O', 'O', 'O', 'R-1-2', 'R-1-2', 'O', 'O', 'O', 'O', 'R-2-3', 'O', 'O', 'O', 'R-1-50', 'O', 'O', 'O', 'R-1-50', 'O', 'O', 'R-6-14', 'R-6-50', 'R-7-50', 'O', 'O', 'O', 'O', 'R-1-3', 'O', 'O', 'R-11-13', 'O', 'O', 'O', 'R-3-50', 'O', 'R-4-50', 'R-11-13', 'R-13-14', 'R-6-50', 'O', 'R-7-50', 'O', 'R-5-50', 'O', 'O', 'O', 'O', 'R-7-50', 'O', 'O', 'O', 'O', 'O', 'O', 'O', 'O', 'O', 'O', 'O', 'O', 'O', 'O', 'O', 'O', 'O', 'O', 'O', 'O', 'O', 'O', 'O', 'O', 'R-3-1', 'O', 'R-13-50', 'O', 'R-13-12', 'R-50-7', 'O', 'O', 'O', 'R-3-50', 'O', 'R-1-3', 'R-3-7', 'R-7-50', 'O', 'O', 'O', 'O', 'O', 'O', 'O', 'O', 'R-1-50', 'R-1-2', 'R-2-50', 'R-1-50', 'R-1-50', 'O', 'R-3-50', 'R-4-50', 'O', 'O', 'O', 'R-1-50', 'R-5-50', 'R-7-50', 'O', 'R-1-50', 'O', 'R-1-3', 'R-3-50', 'O', 'O', 'R-11-50', 'R-13-50', 'O', 'O', 'O', 'O', 'O', 'O', 'R-7-50', 'R-14-50', 'R-4-14', 'R-11-13', 'R-11-12', 'R-12-13', 'R-13-14', 'R-6-7', 'O', 'O', 'R-7-50', 'O', 'O', 'O', 'O', 'O', 'O', 'O', 'O', 'O', 'O', 'O', 'O', 'O', 'R-3-4', 'R-4-7', 'R-4-7', 'O', 'O', 'O', 'O', 'O', 'O', 'O', 'O', 'O', 'R-4-14', 'R-11-14', 'R-11-14', 'O', 'R-11-12', 'R-12-13', 'R-13-14', 'O', 'O', 'O', 'O', 'O', 'O', 'O', 'R-6-7', 'R-6-7', 'R-7-50', 'R-7-50', 'O', 'O', 'O', 'O', 'O', 'O', 'O', 'O', 'O', 'R-1-2', 'R-2-3', 'R-3-7', 'R-3-7', 'R-4-50', 'O', 'O', 'O', 'O', 'R-7-50', 'R-6-7', 'R-13-6', 'R-3-6', 'R-3-4', 'R-4-5B', 'R-13-14', 'O', 'R-6-7', 'R-7-50', 'O', 'R-7-50', 'R-1-50', 'R-1-2', 'R-2-3', 'R-2-3', 'R-2-3', 'R-3-4', 'R-4-5', 'R-11-12', 'R-11-12', 'R-12-7', 'O', 'R-6-7', 'R-6-7', 'R-7-50', 'R-3-50', 'R-1-3', 'O', 'O', 'O', 'R-1-3', 'R-3-50', 'O', 'O', 'R-3-50', 'O', 'R-1-50', 'R-3-50', 'O', 'R-3-4', 'R-4-50', 'O', 'O', 'R-11-12', 'R-12-13', 'R-13-14', 'R-14-50', 'R-7-50', 'R-7-50', 'O', 'O', 'O', 'R-1-3', 'R-3-50', 'R-3-50', 'R-3-50', 'O', 'O', 'O', 'O', 'R-3-50', 'R-3-50', 'O', 'O', 'R-1-2', 'R-1-50', 'R-3-50', 'O', 'O', 'R-11-50', 'R-13-50', 'R-4-50', 'O', 'R-7-50', 'O', 'O', 'O', 'R-11-12', 'R-12-13', 'R-13-50', 'O', 'O', 'O', 'O', 'O', 'R-7-50', 'R-3-50', 'O', 'R-2-3', 'O', 'O', 'O', 'O', 'O', 'R-4-5', 'O', 'O', 'O', 'O', 'O', 'R-1-3', 'R-3-5', 'R-1-3', 'R-3-50', 'O', 'R-7-50', 'R-1-50', 'R-5-50', 'R-1-50', 'R-3-50', 'O', 'O', 'O', 'R-4-5', 'O', 'O', 'O', 'R-7-50', 'O', 'O', 'O', 'O', 'O', 'O', 'O', 'O', 'O', 'O', 'O', 'O', 'O', 'O', 'O', 'O', 'O', 'O', 'O', 'R-1-50', 'R-1-50', 'R-1-2', 'R-1-2', 'O', 'O', 'R-3-5', 'O', 'O', 'R-6-7', 'R-6-7', 'O', 'O', 'O', 'O', 'O', 'O', 'O', 'O', 'O', 'O', 'O', 'O', 'R-7-50', 'O', 'O', 'R-1-50', 'R-1-3', 'O', 'O', 'R-1-2', 'O', 'O', 'R-1-3', 'R-3-50', 'O', 'O', 'O', 'O', 'R-7-50', 'R-1-50', 'O', 'R-11-50', 'R-11-13', 'O', 'O', 'O', 'R-7-50', 'O', 'R-13-50', 'R-11-50', 'R-13-50', 'R-13-50', 'R-11-50', 'R-13-14', 'O', 'O', 'O', 'O', 'O', 'O', 'O', 'O', 'R-1-50', 'O', 'O', 'R-1-3', 'R-1-50', 'R-1-50', 'O', 'O', 'R-7-50', 'R-7-50', 'O', 'R-1-3', 'R-3-50', 'O', 'O', 'O', 'O', 'O', 'O', 'O', 'O', 'O', 'O', 'O', 'O', 'O', 'O', 'O', 'O', 'O', 'R-5-5B', 'R-5-5B', 'R-5-14', 'R-13-14', 'R-13-14', 'R-3-5', 'R-3-4', 'R-1-2', 'O', 'R-1-2', 'R-1-2', 'O', 'O', 'O', 'O', 'O', 'R-6-7', 'R-7-50', 'R-7-50', 'O', 'O', 'O', 'O', 'O', 'O', 'O', 'O', 'O', 'O', 'O', 'O', 'O', 'O', 'O', 'O', 'O', 'O', 'R-14-50', 'R-6-14', 'R-6-50', 'O', 'R-7-50', 'O', 'R-6-50', 'O', 'R-1-50', 'O', 'R-1-3', 'R-3-50', 'O', 'R-1-50', 'R-5-50', 'R-1-50', 'R-3-50', 'R-13-50', 'O', 'R-12-13', 'R-13-50', 'O', 'O', 'O', 'O', 'O', 'R-6-7', 'R-7-50', 'R-7-50', 'O', 'O', 'O', 'O', 'O', 'O', 'O', 'O', 'O', 'R-11-50', 'R-7-50', 'O', 'O', 'O', 'O', 'O', 'O', 'O', 'O', 'O', 'R-3-5', 'R-3-4', 'R-4-14', 'O', 'O', 'R-1-50', 'O', 'R-7-50', 'O', 'R-5-5B', 'R-5B-50', 'O', 'R-4-5', 'R-3-5', 'R-4-5', 'O', 'O', 'O', 'R-11-13', 'R-11-13', 'R-11-12', 'R-13-14', 'O', 'O', 'O', 'O', 'R-2-3']\n",
            "New labels:  [0, 1, 0, 0, 2, 0, 0, 0, 3, 4, 5, 0, 0, 0, 0, 0, 0, 0, 0, 6, 2, 0, 7, 8, 9, 9, 0, 0, 10, 0, 0, 11, 0, 0, 0, 0, 0, 6, 6, 12, 0, 13, 6, 5, 14, 6, 0, 0, 0, 0, 0, 0, 0, 0, 0, 0, 0, 0, 0, 0, 0, 0, 6, 14, 12, 15, 16, 17, 0, 0, 0, 0, 0, 0, 5, 6, 0, 6, 0, 0, 0, 18, 0, 0, 0, 18, 1, 0, 0, 0, 0, 19, 20, 0, 0, 0, 0, 0, 0, 0, 0, 21, 7, 22, 0, 0, 0, 0, 1, 18, 18, 1, 18, 1, 18, 1, 0, 1, 0, 0, 0, 0, 0, 1, 1, 0, 0, 1, 0, 0, 1, 0, 0, 23, 18, 18, 0, 0, 0, 5, 24, 1, 0, 0, 0, 14, 14, 0, 6, 0, 0, 0, 0, 0, 0, 0, 0, 0, 0, 0, 0, 0, 1, 0, 25, 0, 0, 3, 3, 0, 0, 0, 5, 0, 14, 0, 0, 0, 2, 26, 19, 0, 0, 0, 0, 0, 0, 0, 0, 0, 0, 0, 0, 0, 21, 0, 27, 28, 29, 1, 0, 0, 19, 19, 18, 0, 0, 0, 0, 0, 0, 0, 0, 0, 0, 0, 0, 0, 0, 0, 0, 0, 0, 0, 0, 0, 0, 0, 0, 0, 0, 0, 6, 0, 5, 0, 0, 0, 22, 22, 0, 0, 0, 0, 0, 1, 0, 0, 19, 0, 11, 6, 27, 30, 12, 0, 0, 0, 0, 0, 18, 0, 0, 5, 19, 0, 0, 1, 0, 0, 0, 0, 0, 0, 0, 0, 0, 0, 0, 0, 0, 0, 0, 0, 0, 0, 0, 0, 0, 0, 0, 0, 0, 0, 0, 0, 0, 1, 0, 0, 0, 0, 0, 0, 0, 0, 0, 0, 14, 0, 0, 0, 0, 0, 0, 0, 0, 0, 0, 0, 0, 0, 9, 0, 0, 18, 1, 0, 0, 0, 0, 0, 0, 0, 0, 0, 0, 3, 0, 16, 31, 32, 32, 6, 10, 21, 9, 0, 8, 18, 1, 6, 10, 1, 33, 0, 13, 25, 0, 14, 6, 0, 0, 14, 11, 0, 0, 15, 16, 31, 32, 28, 28, 0, 0, 14, 19, 19, 0, 0, 21, 7, 8, 33, 1, 1, 14, 6, 6, 5, 0, 0, 0, 0, 11, 15, 0, 16, 31, 32, 32, 0, 0, 0, 0, 0, 0, 0, 0, 1, 6, 0, 0, 0, 1, 0, 0, 0, 0, 0, 0, 0, 0, 0, 0, 0, 0, 18, 18, 0, 0, 5, 1, 0, 0, 0, 0, 14, 19, 0, 5, 6, 0, 0, 33, 34, 0, 0, 0, 0, 14, 27, 0, 1, 1, 23, 0, 0, 1, 0, 0, 0, 0, 0, 0, 2, 5, 5, 0, 0, 0, 0, 0, 28, 29, 5, 28, 0, 0, 0, 0, 6, 10, 6, 6, 5, 0, 0, 0, 5, 6, 0, 5, 6, 3, 0, 0, 0, 0, 31, 30, 0, 0, 0, 0, 0, 0, 0, 0, 0, 0, 0, 0, 0, 0, 0, 0, 0, 0, 5, 6, 0, 0, 0, 1, 1, 0, 14, 14, 0, 7, 8, 0, 0, 27, 32, 0, 0, 0, 0, 1, 0, 0, 0, 0, 0, 0, 5, 0, 0, 0, 1, 24, 5, 1, 1, 0, 21, 22, 0, 23, 5, 6, 0, 0, 23, 18, 18, 0, 0, 0, 6, 5, 0, 0, 0, 0, 0, 0, 0, 0, 0, 0, 0, 0, 0, 0, 0, 27, 16, 31, 0, 0, 0, 0, 0, 0, 0, 1, 0, 7, 35, 35, 36, 32, 27, 0, 0, 18, 1, 0, 0, 18, 1, 0, 0, 0, 0, 0, 0, 0, 0, 0, 0, 8, 0, 21, 7, 22, 0, 27, 16, 31, 0, 0, 0, 0, 0, 0, 1, 0, 0, 0, 0, 0, 6, 5, 0, 0, 0, 0, 15, 27, 12, 10, 12, 10, 15, 0, 0, 0, 1, 18, 0, 0, 5, 6, 5, 0, 37, 14, 38, 39, 1, 0, 5, 5, 14, 6, 32, 28, 27, 1, 29, 28, 1, 0, 0, 0, 18, 12, 6, 6, 12, 32, 28, 29, 0, 6, 0, 1, 0, 0, 0, 0, 0, 1, 1, 0, 0, 0, 40, 40, 0, 0, 6, 28, 0, 0, 0, 0, 27, 7, 22, 0, 12, 15, 15, 41, 21, 15, 0, 16, 32, 12, 1, 0, 0, 0, 0, 0, 21, 0, 21, 0, 0, 0, 0, 0, 1, 5, 14, 0, 5, 14, 0, 6, 0, 0, 0, 0, 0, 0, 0, 0, 0, 21, 7, 0, 0, 0, 0, 0, 0, 0, 0, 0, 1, 0, 0, 0, 0, 0, 0, 0, 0, 0, 0, 21, 0, 0, 0, 19, 11, 18, 1, 0, 5, 6, 11, 0, 0, 0, 0, 0, 0, 0, 0, 0, 0, 0, 0, 0, 14, 0, 0, 0, 7, 22, 36, 36, 16, 16, 31, 32, 0, 0, 0, 0, 0, 0, 0, 7, 0, 0, 34, 0, 16, 31, 32, 0, 0, 0, 0, 0, 0, 0, 0, 10, 0, 0, 0, 0, 0, 0, 1, 0, 0, 0, 0, 0, 42, 0, 0, 0, 0, 0, 0, 0, 0, 0, 2, 0, 0, 0, 0, 0, 0, 0, 0, 24, 0, 0, 5, 6, 5, 19, 0, 0, 0, 0, 14, 21, 34, 7, 3, 0, 0, 0, 0, 5, 6, 0, 1, 0, 1, 1, 18, 18, 0, 39, 0, 14, 0, 0, 14, 6, 0, 34, 31, 16, 0, 0, 0, 0, 0, 0, 0, 43, 44, 31, 27, 0, 45, 18, 0, 0, 8, 0, 14, 6, 6, 0, 0, 11, 0, 0, 0, 0, 0, 0, 0, 8, 0, 10, 21, 22, 16, 31, 32, 1, 0, 0, 2, 5, 0, 19, 19, 0, 0, 0, 0, 0, 21, 7, 22, 28, 28, 0, 0, 0, 0, 13, 0, 0, 6, 5, 0, 14, 0, 0, 1, 0, 0, 0, 0, 5, 0, 0, 0, 0, 14, 0, 14, 10, 38, 1, 0, 5, 14, 0, 1, 0, 0, 0, 0, 0, 0, 0, 0, 0, 0, 0, 0, 0, 5, 0, 0, 5, 0, 6, 21, 6, 0, 0, 0, 1, 0, 0, 0, 0, 0, 0, 0, 0, 0, 0, 0, 0, 0, 0, 21, 0, 27, 0, 0, 0, 0, 0, 0, 0, 19, 0, 0, 0, 0, 0, 0, 27, 0, 0, 0, 0, 0, 0, 0, 23, 1, 0, 5, 14, 6, 5, 24, 0, 0, 31, 32, 0, 5, 0, 0, 0, 0, 27, 0, 1, 0, 14, 1, 5, 14, 1, 1, 0, 0, 0, 0, 0, 0, 0, 0, 0, 0, 0, 0, 0, 1, 46, 1, 0, 0, 1, 0, 0, 5, 0, 0, 0, 0, 5, 0, 0, 0, 0, 6, 0, 0, 0, 6, 1, 18, 0, 0, 0, 0, 0, 0, 0, 0, 0, 0, 0, 0, 0, 0, 0, 0, 0, 0, 0, 20, 20, 19, 0, 7, 47, 8, 47, 18, 48, 48, 1, 0, 0, 0, 14, 6, 13, 6, 13, 0, 0, 0, 5, 48, 0, 1, 9, 7, 8, 0, 0, 0, 0, 0, 0, 0, 0, 0, 0, 0, 0, 0, 0, 27, 27, 0, 0, 0, 0, 9, 21, 21, 5, 0, 0, 0, 6, 21, 1, 0, 0, 0, 0, 0, 0, 0, 0, 0, 0, 14, 6, 0, 0, 0, 0, 0, 0, 0, 0, 0, 0, 0, 0, 0, 0, 1, 0, 0, 0, 0, 0, 0, 0, 0, 0, 0, 6, 0, 1, 0, 0, 0, 0, 0, 0, 0, 21, 0, 0, 8, 10, 0, 0, 0, 0, 0, 0, 0, 10, 16, 31, 32, 28, 29, 1, 1, 0, 0, 0, 6, 5, 0, 5, 0, 0, 0, 24, 5, 0, 0, 0, 12, 10, 12, 10, 23, 1, 1, 22, 36, 0, 0, 0, 0, 0, 9, 0, 0, 0, 6, 6, 6, 0, 0, 0, 0, 0, 0, 0, 0, 7, 22, 28, 29, 0, 0, 5, 0, 12, 0, 0, 6, 0, 0, 42, 0, 0, 0, 21, 7, 22, 49, 0, 0, 0, 15, 23, 0, 23, 5, 14, 0, 0, 0, 5, 6, 0, 0, 6, 0, 0, 0, 15, 0, 0, 0, 0, 0, 0, 0, 0, 0, 0, 0, 0, 0, 0, 0, 0, 0, 10, 0, 21, 0, 0, 0, 8, 34, 10, 0, 21, 0, 0, 0, 0, 0, 1, 0, 0, 0, 0, 18, 23, 0, 0, 0, 0, 0, 0, 1, 1, 0, 0, 31, 16, 12, 0, 6, 12, 1, 0, 5, 14, 5, 6, 0, 0, 7, 22, 28, 0, 0, 0, 0, 0, 0, 0, 0, 0, 0, 0, 0, 0, 0, 0, 0, 0, 0, 24, 1, 5, 21, 14, 50, 3, 9, 0, 0, 6, 5, 0, 0, 51, 14, 14, 14, 6, 0, 0, 9, 0, 0, 6, 6, 5, 5, 5, 0, 0, 0, 0, 0, 0, 1, 0, 0, 0, 0, 1, 1, 0, 0, 5, 14, 0, 0, 0, 7, 10, 0, 0, 8, 0, 2, 0, 0, 0, 0, 0, 0, 5, 0, 0, 0, 0, 0, 0, 0, 0, 0, 0, 0, 0, 0, 0, 0, 0, 0, 0, 0, 0, 11, 0, 7, 0, 0, 0, 0, 8, 10, 0, 24, 0, 0, 0, 0, 0, 0, 0, 0, 0, 0, 0, 0, 0, 0, 0, 0, 0, 0, 1, 0, 0, 0, 8, 0, 8, 9, 9, 0, 0, 5, 5, 0, 0, 0, 6, 5, 0, 9, 46, 9, 46, 1, 0, 1, 0, 0, 0, 0, 0, 0, 28, 29, 1, 0, 18, 0, 0, 1, 0, 0, 0, 0, 0, 0, 0, 0, 24, 1, 0, 0, 0, 0, 0, 18, 18, 1, 0, 16, 30, 30, 0, 0, 3, 42, 0, 0, 0, 6, 0, 0, 0, 0, 5, 5, 0, 0, 0, 0, 19, 19, 0, 0, 0, 0, 0, 0, 0, 0, 0, 0, 0, 18, 1, 1, 5, 1, 5, 0, 0, 0, 0, 0, 0, 0, 0, 0, 0, 0, 0, 0, 0, 0, 0, 0, 0, 0, 0, 0, 0, 0, 0, 18, 1, 0, 0, 0, 18, 18, 1, 0, 0, 0, 0, 0, 0, 0, 34, 21, 27, 12, 12, 19, 11, 0, 0, 0, 0, 14, 0, 0, 0, 0, 0, 0, 0, 0, 0, 0, 0, 0, 0, 0, 0, 0, 0, 0, 0, 0, 0, 4, 0, 0, 0, 0, 0, 0, 0, 0, 0, 0, 0, 0, 0, 0, 0, 0, 1, 5, 5, 0, 0, 7, 38, 1, 1, 0, 0, 1, 1, 0, 0, 0, 0, 0, 0, 0, 0, 0, 0, 0, 6, 0, 7, 14, 14, 6, 11, 14, 6, 0, 0, 0, 0, 0, 0, 0, 0, 0, 15, 0, 0, 0, 0, 0, 0, 0, 0, 0, 0, 0, 23, 0, 0, 0, 0, 0, 0, 0, 0, 14, 22, 7, 8, 0, 0, 14, 51, 23, 5, 6, 0, 0, 7, 22, 52, 52, 27, 32, 0, 18, 3, 3, 0, 0, 0, 5, 12, 1, 5, 7, 16, 31, 31, 32, 32, 1, 1, 1, 0, 46, 0, 1, 6, 5, 0, 0, 18, 6, 6, 14, 0, 6, 0, 6, 23, 18, 0, 23, 23, 0, 0, 0, 0, 21, 0, 0, 0, 0, 28, 29, 1, 0, 24, 0, 14, 0, 0, 24, 0, 0, 0, 10, 0, 0, 22, 0, 18, 0, 0, 0, 0, 29, 0, 0, 0, 0, 51, 18, 53, 53, 0, 0, 0, 0, 0, 0, 0, 0, 14, 0, 0, 54, 21, 7, 22, 0, 38, 1, 0, 0, 0, 0, 0, 0, 0, 0, 0, 0, 0, 0, 0, 14, 6, 0, 0, 0, 1, 0, 0, 0, 27, 16, 31, 0, 1, 0, 0, 28, 29, 1, 0, 0, 0, 0, 0, 6, 5, 0, 0, 0, 18, 23, 18, 23, 0, 0, 6, 0, 0, 0, 0, 3, 0, 5, 21, 14, 20, 0, 0, 0, 1, 0, 0, 0, 55, 0, 28, 27, 0, 0, 7, 22, 6, 35, 0, 0, 0, 5, 5, 14, 0, 14, 6, 10, 37, 0, 0, 5, 0, 6, 5, 6, 5, 0, 0, 0, 0, 0, 0, 0, 24, 21, 22, 36, 0, 36, 0, 27, 17, 28, 6, 5, 0, 0, 0, 0, 0, 0, 13, 1, 0, 0, 0, 0, 0, 0, 0, 0, 21, 0, 0, 0, 0, 6, 6, 0, 0, 21, 0, 0, 0, 0, 12, 0, 0, 0, 0, 0, 6, 5, 1, 0, 16, 30, 1, 0, 0, 0, 0, 0, 0, 0, 27, 16, 17, 31, 17, 31, 5, 0, 0, 0, 0, 0, 0, 0, 0, 0, 0, 0, 0, 14, 0, 7, 22, 0, 0, 0, 0, 0, 1, 0, 1, 0, 0, 21, 24, 0, 32, 0, 0, 0, 0, 0, 0, 0, 1, 0, 0, 0, 0, 0, 21, 0, 0, 0, 0, 0, 0, 1, 1, 0, 0, 0, 0, 0, 12, 1, 0, 0, 0, 0, 0, 0, 0, 0, 5, 0, 0, 0, 0, 0, 1, 0, 0, 0, 0, 0, 0, 0, 0, 0, 0, 0, 6, 51, 51, 18, 0, 0, 0, 6, 5, 0, 0, 0, 0, 0, 0, 0, 0, 0, 0, 0, 0, 6, 5, 0, 0, 0, 0, 11, 1, 0, 0, 6, 0, 0, 0, 0, 0, 0, 0, 5, 6, 0, 5, 5, 5, 6, 7, 37, 27, 32, 0, 0, 0, 0, 0, 0, 1, 0, 0, 0, 0, 0, 10, 36, 0, 0, 1, 18, 0, 14, 0, 0, 0, 0, 0, 0, 15, 0, 0, 0, 21, 15, 0, 0, 0, 0, 0, 0, 21, 0, 14, 7, 0, 0, 27, 32, 0, 10, 23, 8, 10, 0, 0, 0, 18, 18, 0, 1, 0, 0, 0, 5, 6, 9, 0, 0, 0, 5, 19, 1, 1, 0, 0, 0, 0, 0, 0, 0, 0, 0, 0, 0, 0, 0, 0, 0, 0, 0, 0, 0, 0, 0, 0, 0, 0, 0, 0, 0, 0, 0, 0, 27, 27, 21, 22, 0, 0, 0, 0, 22, 10, 5, 0, 0, 0, 9, 0, 1, 5, 19, 0, 0, 11, 11, 6, 0, 0, 9, 7, 8, 7, 56, 27, 16, 31, 32, 12, 5, 14, 27, 30, 57, 38, 0, 0, 0, 0, 0, 0, 1, 0, 0, 0, 12, 5, 23, 0, 58, 32, 59, 0, 0, 18, 18, 1, 14, 14, 0, 14, 6, 0, 0, 1, 0, 0, 8, 0, 5, 24, 5, 0, 19, 0, 14, 0, 0, 0, 0, 1, 6, 1, 6, 0, 5, 0, 0, 0, 0, 7, 22, 0, 0, 0, 0, 0, 0, 0, 5, 6, 0, 0, 0, 9, 0, 0, 0, 0, 0, 0, 0, 0, 0, 0, 0, 0, 0, 8, 0, 27, 16, 0, 0, 28, 29, 0, 5, 12, 0, 0, 12, 0, 0, 0, 0, 0, 0, 0, 1, 0, 0, 0, 0, 1, 0, 0, 0, 14, 14, 0, 0, 0, 0, 24, 0, 27, 31, 0, 0, 0, 1, 6, 5, 0, 2, 0, 0, 23, 0, 0, 0, 0, 0, 0, 5, 22, 32, 5, 2, 6, 5, 6, 19, 5, 0, 32, 27, 0, 0, 0, 0, 0, 18, 0, 1, 1, 0, 0, 0, 23, 0, 0, 0, 0, 12, 32, 14, 12, 0, 0, 0, 0, 0, 5, 14, 5, 14, 0, 0, 0, 0, 0, 0, 0, 14, 14, 6, 0, 0, 6, 5, 0, 22, 7, 10, 21, 10, 22, 0, 1, 0, 0, 0, 0, 0, 0, 0, 8, 21, 0, 0, 19, 19, 0, 6, 5, 0, 6, 5, 12, 24, 0, 16, 31, 32, 32, 0, 8, 0, 0, 1, 1, 0, 0, 0, 1, 0, 0, 18, 1, 51, 16, 60, 0, 0, 0, 0, 0, 6, 6, 0, 7, 0, 0, 0, 0, 0, 0, 8, 21, 7, 22, 0, 0, 0, 0, 0, 6, 15, 0, 0, 0, 0, 0, 0, 0, 0, 0, 0, 0, 0, 10, 8, 34, 0, 0, 0, 0, 0, 0, 0, 0, 19, 0, 0, 0, 0, 0, 8, 0, 0, 5, 14, 14, 14, 0, 0, 6, 5, 14, 1, 0, 0, 0, 0, 0, 0, 0, 0, 0, 0, 0, 0, 0, 5, 5, 5, 14, 0, 0, 0, 0, 1, 1, 5, 0, 0, 0, 7, 8, 0, 0, 61, 19, 22, 0, 0, 5, 6, 0, 0, 0, 0, 0, 0, 0, 0, 0, 0, 0, 0, 0, 0, 0, 0, 0, 0, 0, 0, 0, 0, 0, 21, 7, 62, 62, 18, 18, 1, 0, 0, 0, 0, 0, 0, 0, 0, 0, 0, 0, 0, 0, 0, 0, 0, 1, 1, 0, 0, 0, 18, 0, 0, 0, 0, 0, 14, 6, 5, 6, 0, 22, 0, 0, 0, 0, 0, 6, 0, 0, 0, 0, 0, 0, 0, 0, 0, 0, 0, 0, 0, 0, 0, 0, 0, 5, 5, 0, 0, 0, 8, 21, 0, 59, 0, 0, 0, 20, 6, 19, 0, 0, 0, 0, 0, 0, 0, 0, 1, 0, 10, 0, 0, 59, 16, 31, 32, 6, 0, 13, 63, 64, 64, 63, 0, 0, 0, 0, 0, 0, 0, 6, 0, 0, 0, 10, 0, 0, 7, 0, 27, 31, 0, 19, 11, 0, 0, 14, 0, 0, 0, 5, 0, 0, 6, 5, 0, 0, 0, 0, 0, 0, 0, 0, 0, 0, 21, 0, 0, 0, 5, 1, 0, 0, 19, 11, 0, 0, 0, 0, 14, 6, 1, 0, 0, 9, 0, 0, 0, 0, 0, 18, 0, 0, 0, 0, 14, 0, 0, 1, 0, 0, 0, 0, 0, 0, 0, 1, 0, 0, 18, 1, 0, 0, 0, 0, 0, 0, 0, 0, 0, 0, 0, 18, 53, 1, 5, 14, 7, 38, 5, 15, 12, 0, 0, 0, 0, 0, 0, 6, 5, 0, 0, 0, 0, 0, 0, 0, 12, 6, 0, 0, 0, 28, 29, 1, 0, 0, 0, 0, 0, 0, 0, 0, 0, 0, 5, 0, 1, 0, 0, 0, 0, 0, 0, 15, 6, 0, 14, 0, 0, 7, 10, 22, 22, 0, 0, 0, 27, 32, 0, 0, 0, 18, 28, 0, 0, 0, 0, 0, 0, 0, 0, 0, 5, 0, 0, 0, 0, 0, 0, 55, 55, 14, 14, 0, 19, 21, 7, 22, 28, 16, 31, 32, 0, 0, 0, 0, 0, 0, 0, 0, 6, 6, 0, 0, 0, 10, 0, 0, 0, 18, 1, 1, 6, 5, 6, 5, 0, 19, 5, 6, 0, 0, 0, 0, 6, 5, 6, 5, 1, 24, 5, 0, 0, 0, 0, 24, 0, 0, 10, 0, 0, 0, 0, 0, 0, 0, 0, 0, 0, 0, 0, 0, 0, 0, 0, 19, 6, 0, 1, 18, 0, 19, 0, 27, 39, 0, 5, 0, 0, 0, 12, 27, 16, 31, 32, 0, 0, 0, 0, 0, 0, 0, 0, 5, 65, 12, 0, 27, 0, 6, 6, 5, 0, 0, 0, 0, 0, 0, 0, 0, 0, 0, 6, 0, 14, 19, 11, 11, 0, 7, 10, 7, 0, 7, 10, 0, 0, 6, 7, 0, 0, 0, 0, 0, 0, 14, 6, 5, 6, 6, 0, 0, 0, 66, 0, 0, 0, 0, 7, 22, 28, 28, 0, 0, 0, 6, 5, 0, 0, 0, 0, 0, 1, 0, 0, 0, 7, 1, 0, 0, 0, 0, 0, 0, 0, 0, 0, 0, 0, 1, 5, 6, 6, 5, 1, 0, 1, 0, 0, 0, 0, 5, 14, 5, 6, 6, 0, 0, 5, 0, 5, 0, 0, 0, 0, 0, 0, 0, 5, 0, 0, 0, 0, 14, 0, 0, 0, 0, 18, 1, 0, 5, 14, 21, 0, 5, 24, 0, 0, 0, 5, 0, 0, 0, 7, 10, 12, 12, 0, 0, 0, 0, 0, 0, 5, 0, 6, 5, 0, 0, 0, 0, 0, 0, 0, 0, 0, 0, 0, 15, 0, 6, 0, 6, 1, 13, 13, 0, 0, 5, 6, 23, 18, 0, 0, 19, 14, 6, 6, 0, 67, 27, 32, 68, 6, 7, 8, 5, 0, 0, 14, 6, 0, 27, 15, 0, 0, 0, 5, 0, 0, 5, 0, 0, 0, 0, 0, 0, 0, 0, 0, 6, 0, 0, 7, 22, 0, 0, 16, 31, 32, 0, 1, 0, 5, 0, 0, 0, 0, 0, 0, 0, 0, 0, 0, 0, 0, 0, 0, 0, 0, 0, 10, 10, 0, 21, 0, 0, 23, 0, 0, 0, 0, 0, 0, 1, 0, 0, 0, 0, 0, 0, 0, 0, 27, 6, 6, 0, 1, 0, 0, 0, 0, 0, 0, 0, 0, 18, 23, 1, 0, 0, 0, 0, 0, 0, 0, 0, 0, 0, 0, 0, 0, 14, 6, 6, 0, 0, 0, 0, 1, 48, 0, 6, 0, 0, 0, 16, 31, 12, 12, 5, 5, 12, 0, 0, 0, 0, 0, 0, 0, 0, 0, 0, 0, 1, 0, 0, 0, 0, 21, 7, 0, 0, 0, 0, 0, 0, 0, 0, 0, 1, 0, 0, 0, 0, 0, 0, 0, 0, 0, 0, 0, 0, 0, 0, 0, 0, 0, 0, 19, 14, 14, 6, 0, 0, 0, 0, 0, 0, 32, 0, 6, 0, 8, 21, 0, 0, 0, 0, 0, 5, 69, 14, 13, 1, 6, 0, 0, 0, 0, 0, 0, 0, 0, 0, 1, 0, 0, 0, 0, 0, 0, 0, 21, 0, 0, 0, 0, 0, 0, 19, 14, 51, 18, 1, 0, 0, 0, 0, 28, 29, 1, 0, 0, 1, 0, 0, 0, 0, 0, 0, 0, 0, 0, 0, 28, 29, 1, 0, 0, 1, 0, 0, 0, 0, 0, 0, 1, 0, 0, 6, 0, 0, 0, 0, 0, 0, 0, 0, 0, 0, 0, 14, 14, 0, 0, 0, 0, 0, 0, 1, 0, 0, 0, 0, 0, 0, 0, 0, 0, 0, 12, 27, 0, 0, 0, 23, 18, 0, 0, 0, 0, 0, 0, 0, 0, 0, 0, 0, 7, 14, 10, 31, 12, 12, 0, 12, 6, 5, 1, 0, 0, 0, 0, 0, 0, 0, 5, 14, 0, 0, 0, 0, 0, 1, 1, 0, 0, 0, 0, 0, 0, 0, 5, 0, 0, 0, 0, 0, 0, 0, 0, 0, 0, 0, 0, 0, 0, 14, 0, 24, 0, 0, 0, 0, 0, 0, 6, 0, 0, 0, 0, 0, 0, 0, 0, 15, 0, 0, 41, 27, 12, 0, 0, 23, 15, 28, 29, 1, 0, 0, 0, 0, 0, 0, 0, 0, 0, 1, 24, 0, 0, 0, 0, 18, 23, 18, 12, 6, 0, 0, 36, 0, 0, 0, 5, 24, 0, 16, 31, 32, 0, 18, 1, 0, 0, 0, 0, 0, 0, 0, 0, 0, 0, 0, 0, 0, 0, 0, 0, 0, 0, 0, 0, 0, 21, 21, 0, 0, 27, 0, 1, 0, 0, 7, 22, 32, 0, 0, 0, 32, 0, 0, 0, 0, 0, 0, 0, 0, 0, 0, 7, 22, 0, 1, 0, 0, 19, 14, 5, 0, 7, 37, 0, 6, 14, 18, 1, 0, 13, 53, 3, 6, 0, 0, 6, 21, 0, 0, 0, 0, 0, 5, 0, 6, 12, 0, 3, 30, 70, 16, 0, 0, 14, 0, 0, 23, 23, 1, 0, 0, 1, 0, 40, 23, 0, 0, 0, 0, 0, 0, 0, 0, 0, 0, 0, 0, 1, 0, 6, 5, 0, 0, 0, 0, 0, 0, 0, 10, 14, 0, 14, 6, 7, 22, 36, 27, 31, 0, 0, 0, 0, 0, 0, 0, 0, 0, 0, 0, 0, 0, 0, 0, 0, 0, 0, 0, 16, 16, 31, 0, 0, 1, 6, 23, 0, 0, 6, 0, 0, 6, 5, 0, 0, 7, 10, 10, 0, 16, 17, 28, 17, 28, 0, 0, 24, 7, 10, 0, 0, 19, 0, 0, 0, 0, 0, 0, 0, 0, 0, 0, 0, 0, 0, 0, 0, 0, 0, 0, 0, 0, 0, 0, 0, 0, 0, 5, 0, 5, 71, 12, 12, 5, 0, 0, 0, 9, 9, 1, 18, 1, 0, 0, 0, 1, 0, 0, 0, 0, 0, 0, 0, 5, 1, 12, 10, 6, 15, 27, 31, 32, 0, 0, 7, 22, 0, 27, 32, 32, 1, 0, 0, 0, 0, 0, 27, 0, 0, 0, 0, 0, 0, 0, 0, 0, 5, 14, 14, 0, 0, 5, 0, 0, 0, 0, 21, 0, 0, 18, 0, 0, 0, 0, 0, 1, 0, 0, 0, 0, 21, 21, 0, 0, 21, 12, 32, 0, 0, 14, 0, 1, 0, 0, 0, 14, 6, 0, 0, 16, 0, 0, 0, 0, 0, 0, 0, 0, 0, 0, 0, 72, 12, 1, 0, 0, 0, 0, 0, 0, 14, 0, 0, 0, 0, 0, 0, 0, 0, 24, 18, 1, 3, 0, 0, 14, 0, 0, 0, 0, 0, 0, 0, 0, 0, 0, 0, 1, 0, 0, 0, 5, 14, 7, 0, 8, 0, 0, 21, 0, 0, 0, 1, 0, 0, 0, 0, 6, 0, 0, 0, 0, 0, 0, 0, 0, 3, 0, 0, 0, 14, 0, 0, 0, 0, 9, 14, 21, 21, 73, 18, 0, 0, 0, 11, 0, 18, 21, 16, 31, 32, 0, 0, 0, 0, 0, 10, 7, 0, 0, 12, 32, 0, 0, 16, 32, 28, 28, 0, 0, 9, 1, 0, 0, 6, 5, 6, 5, 0, 0, 5, 0, 0, 5, 0, 0, 0, 0, 1, 0, 0, 0, 0, 21, 22, 0, 16, 31, 12, 0, 12, 0, 0, 0, 0, 0, 0, 0, 0, 0, 8, 0, 0, 0, 0, 0, 0, 7, 22, 0, 0, 0, 0, 0, 0, 1, 0, 0, 1, 18, 1, 0, 0, 0, 0, 5, 6, 0, 0, 0, 0, 0, 0, 0, 33, 0, 0, 0, 1, 1, 0, 0, 0, 0, 0, 0, 0, 0, 21, 74, 28, 29, 1, 5, 0, 0, 0, 0, 0, 0, 0, 0, 0, 0, 0, 1, 0, 0, 6, 6, 0, 0, 0, 0, 1, 0, 0, 0, 0, 0, 0, 19, 0, 0, 0, 0, 0, 14, 6, 5, 6, 0, 0, 11, 11, 0, 0, 0, 0, 0, 0, 0, 0, 0, 0, 5, 0, 0, 0, 0, 0, 0, 0, 0, 0, 0, 0, 0, 6, 5, 5, 51, 0, 18, 51, 1, 5, 0, 0, 5, 6, 5, 14, 0, 0, 0, 0, 0, 10, 0, 0, 5, 5, 0, 5, 6, 0, 0, 0, 0, 0, 0, 0, 0, 0, 0, 1, 0, 0, 0, 0, 0, 0, 0, 0, 0, 0, 24, 0, 0, 0, 0, 0, 0, 0, 0, 0, 0, 0, 0, 0, 0, 0, 0, 0, 15, 27, 31, 0, 0, 14, 0, 0, 0, 0, 0, 0, 15, 12, 10, 0, 0, 0, 0, 0, 0, 0, 0, 0, 0, 0, 0, 0, 0, 0, 0, 0, 0, 0, 0, 0, 0, 6, 5, 0, 0, 0, 0, 0, 0, 0, 0, 0, 0, 0, 0, 5, 0, 0, 0, 0, 0, 0, 0, 5, 0, 6, 5, 0, 0, 0, 0, 0, 0, 6, 14, 1, 14, 6, 1, 1, 0, 0, 0, 5, 6, 0, 0, 0, 0, 14, 14, 6, 0, 8, 0, 0, 0, 0, 0, 0, 0, 0, 1, 0, 0, 0, 0, 0, 0, 0, 0, 0, 0, 0, 0, 0, 0, 0, 5, 0, 0, 0, 29, 29, 0, 0, 0, 0, 32, 10, 23, 0, 0, 0, 0, 0, 0, 0, 0, 14, 0, 21, 14, 0, 14, 21, 0, 0, 6, 14, 0, 0, 0, 0, 0, 1, 1, 1, 0, 0, 15, 5, 0, 0, 0, 0, 0, 5, 6, 24, 5, 0, 0, 11, 0, 0, 0, 0, 0, 0, 0, 6, 74, 6, 74, 0, 19, 5, 6, 10, 0, 0, 3, 15, 27, 32, 19, 11, 11, 5, 0, 0, 37, 38, 38, 0, 0, 0, 1, 0, 0, 0, 0, 0, 5, 6, 0, 0, 0, 0, 0, 0, 28, 29, 1, 0, 0, 1, 0, 0, 0, 0, 0, 0, 0, 0, 0, 0, 0, 35, 9, 1, 18, 1, 0, 6, 5, 6, 5, 0, 0, 0, 0, 0, 0, 0, 0, 1, 5, 37, 7, 8, 0, 0, 0, 31, 0, 0, 18, 0, 0, 0, 0, 0, 0, 0, 0, 0, 0, 0, 0, 0, 0, 0, 0, 0, 0, 0, 14, 14, 21, 0, 0, 0, 0, 0, 0, 0, 0, 0, 24, 15, 6, 14, 14, 0, 0, 0, 0, 36, 6, 15, 0, 24, 0, 0, 0, 0, 0, 0, 6, 6, 6, 0, 0, 0, 0, 0, 0, 0, 0, 0, 0, 0, 5, 0, 0, 0, 0, 0, 0, 0, 0, 0, 0, 0, 0, 0, 0, 0, 0, 0, 0, 0, 0, 8, 0, 0, 0, 0, 0, 0, 0, 9, 8, 7, 22, 36, 16, 31, 32, 32, 0, 21, 7, 0, 0, 0, 1, 0, 0, 0, 0, 0, 0, 0, 21, 6, 0, 0, 6, 6, 0, 14, 14, 0, 0, 0, 0, 0, 0, 19, 0, 0, 0, 0, 14, 0, 10, 23, 0, 1, 0, 23, 1, 0, 0, 0, 0, 0, 0, 0, 2, 0, 0, 0, 0, 18, 0, 0, 0, 0, 0, 0, 0, 0, 0, 0, 0, 6, 24, 6, 24, 0, 0, 0, 0, 0, 0, 0, 0, 0, 0, 0, 5, 6, 0, 0, 0, 0, 0, 0, 0, 0, 18, 0, 1, 0, 0, 0, 0, 0, 0, 5, 0, 0, 0, 15, 0, 16, 31, 32, 32, 0, 0, 0, 0, 0, 54, 24, 24, 0, 0, 0, 0, 0, 0, 10, 0, 5, 1, 24, 0, 19, 0, 0, 0, 0, 0, 0, 8, 0, 0, 0, 0, 0, 0, 0, 0, 0, 0, 0, 0, 0, 0, 27, 16, 31, 12, 0, 0, 7, 22, 22, 28, 28, 0, 0, 0, 0, 0, 0, 5, 0, 5, 0, 0, 0, 0, 14, 6, 0, 0, 13, 1, 0, 0, 0, 0, 0, 0, 0, 1, 0, 0, 0, 0, 0, 0, 0, 0, 0, 0, 14, 7, 0, 33, 33, 1, 1, 0, 0, 0, 0, 51, 45, 13, 39, 1, 1, 14, 14, 23, 7, 62, 18, 1, 0, 14, 7, 22, 1, 18, 6, 5, 0, 0, 0, 0, 0, 0, 0, 0, 0, 0, 75, 0, 0, 0, 0, 0, 0, 0, 0, 0, 0, 0, 0, 11, 0, 0, 0, 27, 16, 31, 32, 0, 0, 0, 0, 0, 0, 0, 0, 5, 0, 0, 14, 7, 0, 0, 0, 0, 0, 1, 10, 0, 0, 0, 6, 5, 14, 0, 0, 0, 0, 0, 0, 0, 0, 0, 0, 0, 0, 6, 0, 0, 10, 6, 10, 0, 0, 0, 1, 0, 0, 0, 0, 0, 0, 0, 7, 10, 27, 12, 12, 0, 1, 1, 1, 29, 28, 28, 0, 0, 0, 6, 0, 54, 0, 19, 8, 0, 0, 0, 0, 0, 6, 15, 12, 0, 21, 0, 27, 0, 27, 0, 0, 0, 0, 0, 0, 0, 0, 0, 23, 0, 0, 0, 0, 0, 0, 0, 0, 0, 0, 0, 0, 0, 0, 0, 0, 0, 0, 0, 0, 0, 0, 0, 0, 0, 0, 6, 21, 22, 12, 28, 32, 23, 18, 0, 6, 14, 6, 21, 33, 1, 6, 23, 6, 5, 0, 0, 0, 0, 0, 76, 76, 23, 6, 0, 51, 0, 0, 0, 0, 0, 5, 5, 1, 0, 0, 0, 75, 0, 0, 0, 0, 0, 0, 0, 0, 0, 0, 11, 0, 0, 0, 0, 0, 0, 0, 0, 0, 1, 23, 23, 18, 0, 0, 0, 0, 0, 0, 0, 0, 0, 0, 21, 0, 0, 0, 0, 0, 0, 0, 6, 5, 0, 0, 0, 0, 0, 0, 0, 0, 10, 0, 0, 22, 0, 0, 16, 31, 32, 0, 0, 0, 0, 0, 0, 0, 0, 0, 28, 29, 1, 6, 0, 5, 19, 19, 0, 14, 14, 6, 6, 0, 7, 0, 14, 51, 51, 18, 1, 0, 0, 0, 0, 28, 29, 1, 0, 0, 0, 0, 0, 0, 19, 0, 0, 0, 0, 0, 0, 0, 0, 0, 0, 11, 0, 0, 0, 1, 1, 0, 0, 0, 0, 0, 0, 0, 0, 0, 0, 0, 0, 0, 0, 0, 0, 0, 0, 0, 1, 0, 0, 0, 0, 0, 0, 0, 0, 0, 0, 24, 0, 0, 0, 0, 0, 0, 0, 0, 0, 0, 15, 5, 5, 15, 0, 0, 46, 0, 0, 0, 0, 1, 0, 0, 0, 12, 5, 0, 0, 0, 0, 0, 0, 0, 0, 0, 0, 6, 0, 6, 0, 0, 0, 0, 0, 0, 0, 14, 0, 0, 8, 0, 0, 0, 18, 0, 0, 0, 0, 0, 0, 0, 0, 1, 0, 19, 14, 0, 0, 0, 0, 1, 18, 5, 12, 0, 0, 0, 0, 1, 0, 0, 0, 0, 0, 0, 0, 0, 0, 0, 1, 0, 0, 0, 7, 22, 32, 0, 29, 28, 28, 0, 0, 0, 0, 0, 0, 23, 0, 0, 0, 6, 5, 6, 5, 2, 0, 6, 5, 1, 13, 0, 14, 0, 0, 6, 5, 0, 5, 10, 0, 6, 11, 6, 10, 8, 0, 12, 27, 16, 31, 32, 0, 0, 21, 0, 0, 6, 10, 0, 0, 5, 6, 19, 0, 0, 0, 21, 11, 0, 0, 0, 13, 14, 5, 6, 21, 0, 0, 0, 0, 0, 0, 0, 0, 0, 0, 0, 0, 10, 21, 0, 0, 0, 28, 29, 0, 12, 1, 15, 0, 12, 1, 15, 18, 0, 0, 0, 0, 0, 18, 10, 6, 0, 0, 1, 77, 5, 76, 76, 14, 5, 19, 14, 78, 79, 79, 78, 2, 5, 5, 14, 6, 0, 1, 0, 0, 6, 15, 5, 0, 0, 0, 0, 0, 0, 5, 0, 0, 2, 14, 0, 0, 0, 36, 36, 0, 32, 0, 0, 0, 0, 0, 0, 23, 5, 15, 0, 0, 0, 0, 0, 5, 14, 0, 0, 0, 1, 53, 3, 0, 0, 6, 6, 4, 0, 0, 1, 4, 49, 14, 6, 0, 0, 0, 0, 0, 0, 21, 0, 0, 0, 0, 0, 7, 22, 8, 0, 0, 0, 0, 1, 0, 0, 32, 36, 74, 22, 0, 18, 0, 0, 0, 6, 5, 5, 6, 22, 15, 16, 17, 5, 6, 0, 23, 6, 0, 6, 80, 6, 5, 0, 33, 5, 7, 47, 9, 16, 31, 23, 1, 0, 1, 0, 0, 0, 0, 0, 0, 0, 0, 0, 0, 0, 0, 7, 0, 0, 0, 0, 0, 0, 0, 0, 1, 5, 24, 5, 0, 0, 0, 11, 0, 0, 8, 0, 9, 1, 33, 0, 0, 0, 0, 14, 7, 22, 22, 14, 6, 6, 6, 21, 0, 0, 27, 16, 31, 32, 32, 10, 0, 5, 0, 0, 0, 0, 0, 11, 6, 6, 0, 0, 7, 0, 0, 27, 16, 31, 12, 0, 0, 0, 0, 0, 0, 0, 0, 0, 0, 5, 19, 0, 0, 0, 0, 6, 0, 0, 0, 0, 18, 1, 1, 7, 22, 22, 27, 16, 0, 0, 0, 0, 0, 0, 0, 0, 23, 29, 1, 1, 0, 5, 6, 0, 14, 6, 5, 6, 6, 23, 23, 18, 5, 6, 6, 6, 6, 0, 7, 8, 1, 0, 7, 0, 1, 13, 14, 14, 7, 7, 8, 33, 33, 1, 0, 0, 0, 0, 0, 0, 0, 0, 0, 0, 6, 5, 0, 0, 5, 81, 81, 41, 0, 13, 38, 16, 0, 0, 18, 0, 0, 0, 0, 0, 0, 0, 0, 0, 0, 0, 0, 0, 0, 0, 0, 0, 0, 0, 1, 0, 0, 1, 27, 0, 5, 0, 5, 5, 5, 0, 0, 0, 0, 0, 0, 0, 17, 18, 1, 0, 5, 6, 5, 11, 0, 0, 0, 0, 0, 0, 0, 0, 0, 5, 5, 14, 14, 7, 74, 22, 0, 0, 27, 0, 10, 0, 0, 0, 0, 0, 0, 0, 0, 0, 0, 0, 0, 0, 0, 0, 0, 0, 0, 1, 0, 0, 5, 6, 0, 0, 28, 29, 28, 29, 0, 0, 0, 0, 0, 0, 0, 65, 65, 0, 0, 0, 0, 0, 0, 0, 0, 0, 0, 0, 34, 0, 0, 0, 12, 0, 27, 16, 31, 31, 32, 0, 0, 0, 0, 0, 0, 0, 6, 5, 6, 0, 0, 0, 1, 0, 0, 0, 0, 0, 0, 0, 0, 0, 0, 0, 0, 0, 0, 0, 0, 18, 1, 1, 0, 5, 14, 6, 0, 0, 15, 16, 27, 16, 0, 0, 0, 0, 0, 0, 0, 0, 14, 5, 6, 0, 0, 0, 0, 0, 7, 0, 0, 0, 18, 1, 0, 0, 0, 0, 19, 11, 7, 8, 0, 0, 0, 0, 0, 0, 0, 0, 0, 0, 0, 21, 0, 0, 0, 28, 29, 0, 0, 0, 0, 0, 0, 0, 0, 0, 15, 16, 31, 0, 5, 0, 12, 6, 10, 12, 27, 32, 0, 0, 21, 7, 22, 0, 0, 27, 65, 12, 0, 0, 28, 29, 5, 0, 0, 0, 0, 0, 0, 0, 0, 0, 29, 0, 0, 0, 19, 0, 0, 0, 0, 0, 0, 0, 0, 0, 0, 0, 15, 10, 6, 6, 10, 0, 0, 0, 5, 0, 0, 0, 0, 18, 0, 0, 0, 19, 19, 6, 51, 0, 0, 0, 0, 0, 0, 9, 0, 31, 0, 27, 32, 1, 0, 0, 0, 0, 0, 6, 13, 1, 0, 0, 0, 0, 0, 0, 0, 0, 0, 0, 0, 0, 0, 0, 0, 0, 0, 0, 18, 0, 0, 0, 0, 0, 0, 1, 0, 0, 9, 0, 0, 0, 0, 0, 1, 0, 23, 0, 0, 0, 0, 0, 0, 0, 0, 0, 0, 0, 0, 0, 0, 0, 0, 22, 36, 0, 0, 0, 0, 0, 0, 0, 5, 0, 0, 0, 0, 5, 5, 14, 6, 0, 0, 0, 0, 0, 0, 0, 0, 0, 0, 1, 1, 0, 0, 0, 5, 14, 19, 0, 0, 0, 24, 18, 1, 0, 0, 0, 0, 0, 0, 0, 9, 19, 0, 0, 0, 7, 10, 10, 32, 0, 0, 0, 0, 0, 0, 0, 0, 0, 0, 0, 0, 0, 6, 5, 0, 29, 0, 0, 1, 6, 0, 21, 33, 0, 0, 0, 0, 0, 18, 0, 0, 11, 6, 0, 0, 0, 0, 0, 0, 0, 0, 14, 6, 1, 0, 0, 1, 0, 33, 1, 13, 21, 0, 1, 0, 0, 28, 29, 0, 18, 0, 0, 16, 31, 32, 32, 0, 0, 15, 0, 15, 27, 0, 1, 0, 0, 22, 0, 6, 6, 6, 0, 0, 0, 0, 0, 0, 0, 0, 0, 0, 0, 0, 0, 46, 0, 0, 0, 0, 0, 0, 0, 5, 19, 0, 0, 0, 0, 0, 23, 0, 18, 1, 1, 0, 0, 0, 0, 0, 12, 5, 0, 1, 0, 0, 0, 0, 0, 0, 0, 0, 0, 0, 6, 19, 19, 0, 0, 0, 0, 7, 22, 22, 0, 0, 16, 31, 32, 32, 0, 0, 1, 0, 0, 28, 29, 1, 0, 0, 0, 0, 0, 14, 0, 0, 0, 0, 0, 0, 0, 0, 0, 0, 5, 12, 5, 12, 0, 0, 0, 0, 10, 0, 24, 82, 14, 0, 29, 0, 18, 1, 0, 0, 0, 0, 0, 0, 0, 0, 0, 0, 0, 0, 0, 0, 21, 22, 36, 36, 0, 0, 0, 0, 3, 0, 0, 0, 0, 0, 0, 0, 0, 6, 0, 0, 0, 5, 11, 0, 5, 0, 0, 21, 0, 0, 21, 22, 0, 0, 0, 0, 0, 0, 0, 3, 3, 0, 0, 0, 19, 0, 0, 0, 0, 0, 11, 0, 0, 0, 9, 0, 0, 8, 0, 10, 21, 5, 22, 7, 1, 23, 23, 0, 0, 0, 0, 0, 29, 0, 0, 0, 1, 0, 32, 0, 0, 1, 5, 0, 6, 0, 0, 0, 0, 0, 0, 1, 0, 0, 19, 0, 0, 0, 0, 0, 0, 0, 0, 0, 0, 0, 0, 9, 0, 0, 0, 0, 0, 0, 0, 12, 6, 0, 5, 5, 0, 0, 18, 0, 0, 0, 1, 1, 20, 5, 0, 7, 0, 0, 0, 0, 0, 0, 0, 0, 0, 0, 0, 8, 0, 0, 0, 0, 0, 0, 0, 0, 0, 0, 0, 0, 0, 0, 0, 6, 1, 14, 7, 22, 0, 1, 0, 9, 77, 0, 27, 32, 28, 0, 0, 28, 29, 0, 0, 0, 0, 10, 0, 0, 0, 0, 0, 0, 0, 0, 36, 0, 32, 0, 0, 0, 0, 0, 1, 0, 5, 5, 6, 12, 16, 31, 12, 6, 9, 0, 1, 53, 3, 0, 0, 0, 0, 0, 0, 0, 1, 0, 0, 19, 0, 0, 0, 0, 0, 0, 0, 0, 0, 0, 0, 0, 0, 32, 12, 0, 0, 7, 22, 22, 0, 0, 23, 0, 18, 0, 0, 0, 0, 0, 0, 0, 6, 0, 6, 0, 0, 0, 0, 0, 0, 5, 5, 0, 5, 14, 6, 0, 15, 0, 27, 32, 0, 0, 0, 0, 18, 1, 0, 0, 0, 1, 0, 0, 0, 0, 0, 0, 0, 8, 0, 0, 0, 0, 0, 0, 23, 18, 1, 23, 1, 0, 0, 0, 10, 49, 0, 0, 0, 0, 0, 0, 5, 0, 0, 0, 0, 12, 6, 14, 14, 21, 12, 0, 16, 31, 12, 12, 0, 0, 5, 6, 0, 0, 0, 0, 0, 1, 0, 0, 0, 0, 0, 0, 21, 0, 27, 16, 31, 0, 0, 0, 5, 6, 14, 14, 6, 5, 12, 31, 0, 0, 0, 0, 0, 0, 0, 0, 0, 0, 0, 14, 14, 0, 0, 0, 7, 22, 0, 0, 15, 1, 0, 0, 0, 0, 1, 5, 6, 24, 1, 5, 6, 24, 15, 15, 12, 31, 0, 18, 1, 12, 1, 0, 0, 0, 0, 0, 0, 15, 0, 0, 0, 0, 5, 14, 0, 14, 7, 0, 0, 0, 0, 0, 18, 0, 5, 15, 0, 0, 0, 0, 0, 0, 0, 0, 0, 0, 0, 0, 0, 27, 16, 31, 32, 28, 10, 8, 8, 0, 10, 75, 5, 0, 19, 0, 0, 0, 0, 28, 0, 5, 5, 6, 5, 6, 5, 0, 0, 0, 14, 21, 9, 9, 3, 0, 24, 0, 0, 0, 21, 0, 28, 29, 1, 0, 0, 0, 0, 0, 0, 0, 0, 1, 0, 1, 0, 5, 5, 0, 19, 21, 14, 6, 76, 18, 1, 12, 27, 16, 31, 0, 0, 18, 1, 0, 0, 0, 0, 0, 10, 0, 8, 74, 22, 10, 0, 0, 0, 0, 0, 0, 0, 1, 0, 18, 0, 5, 0, 22, 18, 1, 10, 5, 0, 0, 0, 1, 23, 23, 0, 0, 0, 0, 0, 1, 14, 6, 14, 6, 0, 0, 41, 51, 18, 0, 0, 23, 18, 0, 0, 0, 0, 18, 0, 23, 24, 0, 0, 0, 0, 0, 0, 16, 0, 0, 0, 16, 66, 0, 0, 0, 0, 0, 0, 0, 0, 0, 0, 0, 1, 0, 0, 0, 0, 0, 0, 0, 0, 0, 28, 29, 23, 1, 14, 0, 0, 0, 0, 5, 5, 21, 14, 74, 1, 0, 0, 0, 0, 0, 0, 0, 0, 0, 0, 0, 0, 0, 0, 0, 0, 0, 19, 19, 11, 14, 21, 14, 28, 29, 1, 18, 13, 14, 1, 5, 19, 0, 0, 0, 0, 0, 21, 9, 0, 0, 0, 0, 5, 6, 0, 0, 10, 0, 0, 1, 0, 0, 0, 0, 0, 0, 0, 0, 19, 0, 0, 0, 0, 0, 0, 0, 0, 0, 11, 0, 0, 0, 5, 15, 14, 0, 15, 27, 31, 0, 0, 0, 0, 15, 5, 0, 0, 0, 0, 0, 0, 1, 5, 14, 14, 0, 0, 14, 6, 0, 0, 0, 0, 0, 0, 0, 0, 0, 0, 0, 0, 0, 0, 0, 0, 0, 0, 0, 0, 0, 19, 0, 0, 0, 0, 0, 5, 5, 14, 7, 22, 6, 83, 27, 0, 8, 8, 0, 22, 0, 0, 0, 0, 0, 0, 3, 0, 0, 19, 14, 5, 6, 0, 0, 0, 0, 0, 0, 0, 0, 0, 0, 0, 0, 0, 0, 0, 0, 0, 19, 6, 6, 1, 0, 0, 0, 0, 0, 5, 0, 0, 0, 0, 5, 0, 0, 14, 5, 6, 12, 0, 14, 21, 27, 0, 0, 20, 6, 5, 84, 7, 32, 6, 21, 19, 0, 0, 0, 14, 10, 34, 0, 23, 23, 1, 0, 0, 0, 0, 0, 5, 85, 19, 0, 14, 0, 0, 5, 7, 0, 0, 23, 23, 86, 0, 0, 0, 0, 0, 0, 8, 0, 0, 8, 19, 19, 0, 0, 0, 0, 0, 0, 0, 5, 5, 14, 14, 0, 0, 0, 0, 0, 0, 0, 0, 0, 6, 1, 36, 0, 0, 0, 0, 1, 1, 0, 0, 0, 32, 27, 31, 0, 0, 0, 3, 3, 0, 0, 0, 34, 46, 1, 37, 14, 7, 14, 0, 16, 27, 30, 12, 87, 0, 30, 12, 5, 6, 0, 0, 19, 0, 14, 0, 0, 0, 0, 0, 0, 0, 0, 15, 5, 6, 14, 6, 19, 5, 24, 5, 19, 19, 0, 5, 14, 13, 13, 0, 7, 50, 0, 0, 0, 0, 28, 29, 0, 0, 0, 0, 0, 0, 0, 0, 25, 1, 0, 15, 5, 84, 1, 1, 18, 1, 0, 0, 0, 0, 0, 0, 0, 0, 8, 0, 0, 0, 0, 0, 5, 0, 19, 5, 7, 9, 0, 0, 0, 0, 0, 19, 37, 37, 22, 28, 22, 0, 68, 1, 1, 28, 1, 1, 0, 0, 0, 14, 0, 0, 0, 0, 0, 0, 0, 0, 5, 71, 12, 19, 12, 0, 0, 5, 10, 12, 0, 14, 7, 22, 0, 0, 27, 0, 0, 75, 0, 0, 0, 0, 0, 0, 6, 14, 0, 6, 0, 0, 0, 5, 0, 0, 0, 0, 0, 0, 16, 31, 32, 32, 77, 77, 3, 3, 0, 0, 0, 0, 18, 0, 0, 0, 0, 1, 1, 0, 0, 0, 0, 0, 0, 0, 0, 0, 21, 0, 16, 17, 31, 31, 17, 0, 0, 0, 0, 0, 0, 0, 1, 0, 0, 0, 0, 0, 0, 0, 0, 0, 0, 0, 21, 11, 0, 0, 21, 24, 3, 0, 0, 0, 0, 0, 0, 0, 0, 0, 0, 0, 1, 0, 0, 0, 0, 0, 0, 0, 0, 0, 0, 0, 6, 19, 0, 18, 1, 0, 0, 0, 0, 27, 15, 0, 0, 0, 0, 0, 0, 0, 0, 6, 0, 6, 0, 0, 0, 5, 42, 0, 0, 0, 5, 14, 14, 13, 1, 0, 0, 1, 18, 0, 19, 7, 8, 88, 88, 32, 18, 14, 6, 7, 0, 0, 0, 0, 0, 1, 0, 0, 0, 40, 40, 0, 0, 0, 0, 0, 0, 0, 0, 0, 14, 0, 0, 0, 14, 6, 0, 0, 0, 0, 0, 21, 0, 0, 0, 0, 0, 0, 0, 0, 0, 0, 0, 0, 0, 0, 0, 27, 41, 15, 36, 7, 22, 0, 0, 0, 0, 0, 0, 0, 0, 5, 14, 14, 0, 0, 0, 0, 0, 0, 0, 21, 0, 0, 0, 0, 0, 0, 1, 0, 1, 0, 14, 21, 7, 10, 5, 16, 31, 32, 32, 28, 10, 28, 0, 24, 21, 7, 0, 5, 0, 12, 0, 18, 0, 0, 18, 1, 1, 0, 0, 0, 0, 0, 0, 0, 15, 16, 0, 10, 0, 0, 0, 0, 1, 89, 89, 0, 6, 0, 0, 0, 0, 0, 0, 28, 36, 32, 0, 0, 90, 5, 0, 0, 0, 0, 0, 0, 0, 0, 3, 0, 0, 0, 0, 0, 19, 0, 0, 7, 22, 22, 0, 0, 0, 0, 0, 0, 0, 0, 0, 0, 0, 0, 0, 0, 0, 0, 28, 29, 1, 0, 0, 0, 0, 0, 0, 0, 0, 0, 0, 0, 0, 1, 6, 0, 0, 0, 0, 0, 0, 0, 24, 19, 1, 0, 0, 0, 0, 0, 0, 19, 7, 8, 0, 27, 32, 32, 5, 15, 18, 0, 5, 10, 1, 0, 55, 0, 0, 0, 0, 0, 1, 0, 0, 0, 0, 0, 0, 0, 0, 0, 0, 5, 6, 0, 0, 0, 14, 14, 1, 18, 0, 0, 0, 0, 0, 0, 0, 0, 0, 6, 14, 24, 0, 0, 0, 0, 0, 0, 21, 7, 0, 0, 0, 0, 0, 0, 0, 27, 91, 33, 1, 1, 1, 5, 15, 0, 14, 0, 36, 0, 27, 32, 28, 0, 0, 0, 4, 1, 1, 0, 21, 0, 27, 27, 32, 0, 0, 0, 0, 5, 6, 6, 5, 0, 0, 0, 0, 0, 0, 0, 0, 5, 18, 0, 0, 0, 0, 0, 0, 0, 0, 6, 7, 10, 32, 0, 0, 0, 0, 0, 0, 14, 6, 0, 0, 21, 0, 0, 0, 0, 0, 1, 0, 1, 1, 3, 3, 11, 50, 0, 0, 0, 0, 0, 1, 18, 1, 0, 0, 19, 20, 0, 0, 27, 16, 31, 32, 0, 0, 0, 0, 8, 21, 0, 0, 27, 32, 1, 0, 0, 0, 0, 0, 0, 0, 0, 0, 0, 1, 0, 0, 0, 0, 6, 5, 0, 0, 0, 0, 0, 0, 23, 23, 6, 0, 7, 10, 7, 7, 34, 3, 3, 0, 0, 0, 0, 0, 0, 0, 0, 0, 0, 0, 0, 0, 7, 22, 0, 0, 18, 1, 0, 0, 0, 16, 32, 0, 1, 0, 0, 0, 0, 5, 6, 0, 0, 0, 7, 0, 10, 0, 0, 0, 8, 0, 0, 0, 0, 0, 0, 29, 1, 0, 0, 0, 0, 0, 0, 19, 19, 0, 0, 0, 0, 11, 0, 0, 0, 5, 0, 0, 0, 5, 0, 0, 29, 23, 1, 0, 0, 0, 0, 14, 0, 0, 27, 0, 0, 0, 6, 0, 10, 27, 32, 23, 0, 1, 0, 24, 0, 0, 0, 0, 1, 0, 0, 0, 0, 0, 0, 0, 0, 0, 0, 0, 0, 0, 0, 0, 0, 0, 0, 0, 0, 0, 0, 0, 0, 2, 0, 12, 0, 66, 4, 0, 0, 0, 6, 0, 14, 13, 1, 0, 0, 0, 0, 0, 0, 0, 0, 5, 19, 20, 5, 5, 0, 6, 10, 0, 0, 0, 5, 24, 1, 0, 5, 0, 14, 6, 0, 0, 15, 12, 0, 0, 0, 0, 0, 0, 1, 28, 22, 27, 16, 31, 32, 18, 0, 0, 1, 0, 0, 0, 0, 0, 0, 0, 0, 0, 0, 0, 0, 0, 7, 38, 38, 0, 0, 0, 0, 0, 0, 0, 0, 0, 22, 36, 36, 0, 16, 31, 32, 0, 0, 0, 0, 0, 0, 0, 18, 18, 1, 1, 0, 0, 0, 0, 0, 0, 0, 0, 0, 19, 11, 13, 13, 10, 0, 0, 0, 0, 1, 18, 45, 51, 7, 34, 32, 0, 18, 1, 0, 1, 5, 19, 11, 11, 11, 7, 8, 16, 16, 57, 0, 18, 18, 1, 6, 14, 0, 0, 0, 14, 6, 0, 0, 6, 0, 5, 6, 0, 7, 10, 0, 0, 16, 31, 32, 28, 1, 1, 0, 0, 0, 14, 6, 6, 6, 0, 0, 0, 0, 6, 6, 0, 0, 19, 5, 6, 0, 0, 15, 12, 10, 0, 1, 0, 0, 0, 16, 31, 12, 0, 0, 0, 0, 0, 1, 6, 0, 11, 0, 0, 0, 0, 0, 8, 0, 0, 0, 0, 0, 14, 21, 14, 6, 0, 1, 5, 24, 5, 6, 0, 0, 0, 8, 0, 0, 0, 1, 0, 0, 0, 0, 0, 0, 0, 0, 0, 0, 0, 0, 0, 0, 0, 0, 0, 0, 0, 5, 5, 19, 19, 0, 0, 21, 0, 0, 18, 18, 0, 0, 0, 0, 0, 0, 0, 0, 0, 0, 0, 0, 1, 0, 0, 5, 14, 0, 0, 19, 0, 0, 14, 6, 0, 0, 0, 0, 1, 5, 0, 15, 27, 0, 0, 0, 1, 0, 12, 15, 12, 12, 15, 32, 0, 0, 0, 0, 0, 0, 0, 0, 5, 0, 0, 14, 5, 5, 0, 0, 1, 1, 0, 14, 6, 0, 0, 0, 0, 0, 0, 0, 0, 0, 0, 0, 0, 0, 0, 0, 0, 0, 9, 9, 88, 32, 32, 21, 7, 19, 0, 19, 19, 0, 0, 0, 0, 0, 18, 1, 1, 0, 0, 0, 0, 0, 0, 0, 0, 0, 0, 0, 0, 0, 0, 0, 0, 0, 0, 28, 29, 23, 0, 1, 0, 23, 0, 5, 0, 14, 6, 0, 5, 24, 5, 6, 12, 0, 31, 12, 0, 0, 0, 0, 0, 18, 1, 1, 0, 0, 0, 0, 0, 0, 0, 0, 0, 15, 1, 0, 0, 0, 0, 0, 0, 0, 0, 0, 21, 7, 22, 0, 0, 5, 0, 1, 0, 9, 3, 0, 8, 21, 8, 0, 0, 0, 27, 27, 16, 32, 0, 0, 0, 0, 11]\n"
          ],
          "name": "stdout"
        }
      ]
    },
    {
      "cell_type": "code",
      "metadata": {
        "id": "htRjVQyojbgN",
        "colab_type": "code",
        "colab": {}
      },
      "source": [
        "# Use train_test_split to split our data into train and validation sets for training\n",
        "\n",
        "train_inputs, validation_inputs, train_labels, validation_labels = train_test_split(input_ids, labels, \n",
        "                                                            random_state=2018, test_size=0.1)\n",
        "train_masks, validation_masks, _, _ = train_test_split(attention_masks, input_ids,\n",
        "                                             random_state=2018, test_size=0.1)"
      ],
      "execution_count": 18,
      "outputs": []
    },
    {
      "cell_type": "code",
      "metadata": {
        "id": "UKpWMj-EjboB",
        "colab_type": "code",
        "colab": {}
      },
      "source": [
        "# Convert all of our data into torch tensors, the required datatype for our model\n",
        "\n",
        "train_inputs = torch.tensor(train_inputs)\n",
        "validation_inputs = torch.tensor(validation_inputs)\n",
        "train_labels = torch.tensor(train_labels)\n",
        "validation_labels = torch.tensor(validation_labels)\n",
        "train_masks = torch.tensor(train_masks)\n",
        "validation_masks = torch.tensor(validation_masks)"
      ],
      "execution_count": 19,
      "outputs": []
    },
    {
      "cell_type": "code",
      "metadata": {
        "id": "KIlXwhh67BXS",
        "colab_type": "code",
        "colab": {}
      },
      "source": [
        "# Create an iterator of our data with torch DataLoader. This helps save on memory during training because, unlike a for loop, \n",
        "# with an iterator the entire dataset does not need to be loaded into memory\n",
        "\n",
        "train_data = TensorDataset(train_inputs, train_masks, train_labels)\n",
        "train_sampler = RandomSampler(train_data)\n",
        "train_dataloader = DataLoader(train_data, sampler=train_sampler, batch_size=BATCH_SIZE)\n",
        "\n",
        "validation_data = TensorDataset(validation_inputs, validation_masks, validation_labels)\n",
        "validation_sampler = SequentialSampler(validation_data)\n",
        "validation_dataloader = DataLoader(validation_data, sampler=validation_sampler, batch_size=BATCH_SIZE)"
      ],
      "execution_count": 20,
      "outputs": []
    },
    {
      "cell_type": "code",
      "metadata": {
        "id": "MWbESUZsjblO",
        "colab_type": "code",
        "colab": {
          "base_uri": "https://localhost:8080/",
          "height": 1000
        },
        "outputId": "912da941-3ee6-4a85-978a-f6462d3ae712"
      },
      "source": [
        "# This is where the fine-tuning comes in. We must train the model for our specific task.\n",
        "\n",
        "# We will first modify pre-trained BERT for our specific task, then continue training on our data until the entire model\n",
        "#   is well-suited for our task.\n",
        "\n",
        "model = BertForSequenceClassification.from_pretrained(BERT_PATH, num_labels=len(labels))\n",
        "model.cuda()"
      ],
      "execution_count": 21,
      "outputs": [
        {
          "output_type": "execute_result",
          "data": {
            "text/plain": [
              "BertForSequenceClassification(\n",
              "  (bert): BertModel(\n",
              "    (embeddings): BertEmbeddings(\n",
              "      (word_embeddings): Embedding(30522, 768, padding_idx=0)\n",
              "      (position_embeddings): Embedding(512, 768)\n",
              "      (token_type_embeddings): Embedding(2, 768)\n",
              "      (LayerNorm): BertLayerNorm()\n",
              "      (dropout): Dropout(p=0.1, inplace=False)\n",
              "    )\n",
              "    (encoder): BertEncoder(\n",
              "      (layer): ModuleList(\n",
              "        (0): BertLayer(\n",
              "          (attention): BertAttention(\n",
              "            (self): BertSelfAttention(\n",
              "              (query): Linear(in_features=768, out_features=768, bias=True)\n",
              "              (key): Linear(in_features=768, out_features=768, bias=True)\n",
              "              (value): Linear(in_features=768, out_features=768, bias=True)\n",
              "              (dropout): Dropout(p=0.1, inplace=False)\n",
              "            )\n",
              "            (output): BertSelfOutput(\n",
              "              (dense): Linear(in_features=768, out_features=768, bias=True)\n",
              "              (LayerNorm): BertLayerNorm()\n",
              "              (dropout): Dropout(p=0.1, inplace=False)\n",
              "            )\n",
              "          )\n",
              "          (intermediate): BertIntermediate(\n",
              "            (dense): Linear(in_features=768, out_features=3072, bias=True)\n",
              "          )\n",
              "          (output): BertOutput(\n",
              "            (dense): Linear(in_features=3072, out_features=768, bias=True)\n",
              "            (LayerNorm): BertLayerNorm()\n",
              "            (dropout): Dropout(p=0.1, inplace=False)\n",
              "          )\n",
              "        )\n",
              "        (1): BertLayer(\n",
              "          (attention): BertAttention(\n",
              "            (self): BertSelfAttention(\n",
              "              (query): Linear(in_features=768, out_features=768, bias=True)\n",
              "              (key): Linear(in_features=768, out_features=768, bias=True)\n",
              "              (value): Linear(in_features=768, out_features=768, bias=True)\n",
              "              (dropout): Dropout(p=0.1, inplace=False)\n",
              "            )\n",
              "            (output): BertSelfOutput(\n",
              "              (dense): Linear(in_features=768, out_features=768, bias=True)\n",
              "              (LayerNorm): BertLayerNorm()\n",
              "              (dropout): Dropout(p=0.1, inplace=False)\n",
              "            )\n",
              "          )\n",
              "          (intermediate): BertIntermediate(\n",
              "            (dense): Linear(in_features=768, out_features=3072, bias=True)\n",
              "          )\n",
              "          (output): BertOutput(\n",
              "            (dense): Linear(in_features=3072, out_features=768, bias=True)\n",
              "            (LayerNorm): BertLayerNorm()\n",
              "            (dropout): Dropout(p=0.1, inplace=False)\n",
              "          )\n",
              "        )\n",
              "        (2): BertLayer(\n",
              "          (attention): BertAttention(\n",
              "            (self): BertSelfAttention(\n",
              "              (query): Linear(in_features=768, out_features=768, bias=True)\n",
              "              (key): Linear(in_features=768, out_features=768, bias=True)\n",
              "              (value): Linear(in_features=768, out_features=768, bias=True)\n",
              "              (dropout): Dropout(p=0.1, inplace=False)\n",
              "            )\n",
              "            (output): BertSelfOutput(\n",
              "              (dense): Linear(in_features=768, out_features=768, bias=True)\n",
              "              (LayerNorm): BertLayerNorm()\n",
              "              (dropout): Dropout(p=0.1, inplace=False)\n",
              "            )\n",
              "          )\n",
              "          (intermediate): BertIntermediate(\n",
              "            (dense): Linear(in_features=768, out_features=3072, bias=True)\n",
              "          )\n",
              "          (output): BertOutput(\n",
              "            (dense): Linear(in_features=3072, out_features=768, bias=True)\n",
              "            (LayerNorm): BertLayerNorm()\n",
              "            (dropout): Dropout(p=0.1, inplace=False)\n",
              "          )\n",
              "        )\n",
              "        (3): BertLayer(\n",
              "          (attention): BertAttention(\n",
              "            (self): BertSelfAttention(\n",
              "              (query): Linear(in_features=768, out_features=768, bias=True)\n",
              "              (key): Linear(in_features=768, out_features=768, bias=True)\n",
              "              (value): Linear(in_features=768, out_features=768, bias=True)\n",
              "              (dropout): Dropout(p=0.1, inplace=False)\n",
              "            )\n",
              "            (output): BertSelfOutput(\n",
              "              (dense): Linear(in_features=768, out_features=768, bias=True)\n",
              "              (LayerNorm): BertLayerNorm()\n",
              "              (dropout): Dropout(p=0.1, inplace=False)\n",
              "            )\n",
              "          )\n",
              "          (intermediate): BertIntermediate(\n",
              "            (dense): Linear(in_features=768, out_features=3072, bias=True)\n",
              "          )\n",
              "          (output): BertOutput(\n",
              "            (dense): Linear(in_features=3072, out_features=768, bias=True)\n",
              "            (LayerNorm): BertLayerNorm()\n",
              "            (dropout): Dropout(p=0.1, inplace=False)\n",
              "          )\n",
              "        )\n",
              "        (4): BertLayer(\n",
              "          (attention): BertAttention(\n",
              "            (self): BertSelfAttention(\n",
              "              (query): Linear(in_features=768, out_features=768, bias=True)\n",
              "              (key): Linear(in_features=768, out_features=768, bias=True)\n",
              "              (value): Linear(in_features=768, out_features=768, bias=True)\n",
              "              (dropout): Dropout(p=0.1, inplace=False)\n",
              "            )\n",
              "            (output): BertSelfOutput(\n",
              "              (dense): Linear(in_features=768, out_features=768, bias=True)\n",
              "              (LayerNorm): BertLayerNorm()\n",
              "              (dropout): Dropout(p=0.1, inplace=False)\n",
              "            )\n",
              "          )\n",
              "          (intermediate): BertIntermediate(\n",
              "            (dense): Linear(in_features=768, out_features=3072, bias=True)\n",
              "          )\n",
              "          (output): BertOutput(\n",
              "            (dense): Linear(in_features=3072, out_features=768, bias=True)\n",
              "            (LayerNorm): BertLayerNorm()\n",
              "            (dropout): Dropout(p=0.1, inplace=False)\n",
              "          )\n",
              "        )\n",
              "        (5): BertLayer(\n",
              "          (attention): BertAttention(\n",
              "            (self): BertSelfAttention(\n",
              "              (query): Linear(in_features=768, out_features=768, bias=True)\n",
              "              (key): Linear(in_features=768, out_features=768, bias=True)\n",
              "              (value): Linear(in_features=768, out_features=768, bias=True)\n",
              "              (dropout): Dropout(p=0.1, inplace=False)\n",
              "            )\n",
              "            (output): BertSelfOutput(\n",
              "              (dense): Linear(in_features=768, out_features=768, bias=True)\n",
              "              (LayerNorm): BertLayerNorm()\n",
              "              (dropout): Dropout(p=0.1, inplace=False)\n",
              "            )\n",
              "          )\n",
              "          (intermediate): BertIntermediate(\n",
              "            (dense): Linear(in_features=768, out_features=3072, bias=True)\n",
              "          )\n",
              "          (output): BertOutput(\n",
              "            (dense): Linear(in_features=3072, out_features=768, bias=True)\n",
              "            (LayerNorm): BertLayerNorm()\n",
              "            (dropout): Dropout(p=0.1, inplace=False)\n",
              "          )\n",
              "        )\n",
              "        (6): BertLayer(\n",
              "          (attention): BertAttention(\n",
              "            (self): BertSelfAttention(\n",
              "              (query): Linear(in_features=768, out_features=768, bias=True)\n",
              "              (key): Linear(in_features=768, out_features=768, bias=True)\n",
              "              (value): Linear(in_features=768, out_features=768, bias=True)\n",
              "              (dropout): Dropout(p=0.1, inplace=False)\n",
              "            )\n",
              "            (output): BertSelfOutput(\n",
              "              (dense): Linear(in_features=768, out_features=768, bias=True)\n",
              "              (LayerNorm): BertLayerNorm()\n",
              "              (dropout): Dropout(p=0.1, inplace=False)\n",
              "            )\n",
              "          )\n",
              "          (intermediate): BertIntermediate(\n",
              "            (dense): Linear(in_features=768, out_features=3072, bias=True)\n",
              "          )\n",
              "          (output): BertOutput(\n",
              "            (dense): Linear(in_features=3072, out_features=768, bias=True)\n",
              "            (LayerNorm): BertLayerNorm()\n",
              "            (dropout): Dropout(p=0.1, inplace=False)\n",
              "          )\n",
              "        )\n",
              "        (7): BertLayer(\n",
              "          (attention): BertAttention(\n",
              "            (self): BertSelfAttention(\n",
              "              (query): Linear(in_features=768, out_features=768, bias=True)\n",
              "              (key): Linear(in_features=768, out_features=768, bias=True)\n",
              "              (value): Linear(in_features=768, out_features=768, bias=True)\n",
              "              (dropout): Dropout(p=0.1, inplace=False)\n",
              "            )\n",
              "            (output): BertSelfOutput(\n",
              "              (dense): Linear(in_features=768, out_features=768, bias=True)\n",
              "              (LayerNorm): BertLayerNorm()\n",
              "              (dropout): Dropout(p=0.1, inplace=False)\n",
              "            )\n",
              "          )\n",
              "          (intermediate): BertIntermediate(\n",
              "            (dense): Linear(in_features=768, out_features=3072, bias=True)\n",
              "          )\n",
              "          (output): BertOutput(\n",
              "            (dense): Linear(in_features=3072, out_features=768, bias=True)\n",
              "            (LayerNorm): BertLayerNorm()\n",
              "            (dropout): Dropout(p=0.1, inplace=False)\n",
              "          )\n",
              "        )\n",
              "        (8): BertLayer(\n",
              "          (attention): BertAttention(\n",
              "            (self): BertSelfAttention(\n",
              "              (query): Linear(in_features=768, out_features=768, bias=True)\n",
              "              (key): Linear(in_features=768, out_features=768, bias=True)\n",
              "              (value): Linear(in_features=768, out_features=768, bias=True)\n",
              "              (dropout): Dropout(p=0.1, inplace=False)\n",
              "            )\n",
              "            (output): BertSelfOutput(\n",
              "              (dense): Linear(in_features=768, out_features=768, bias=True)\n",
              "              (LayerNorm): BertLayerNorm()\n",
              "              (dropout): Dropout(p=0.1, inplace=False)\n",
              "            )\n",
              "          )\n",
              "          (intermediate): BertIntermediate(\n",
              "            (dense): Linear(in_features=768, out_features=3072, bias=True)\n",
              "          )\n",
              "          (output): BertOutput(\n",
              "            (dense): Linear(in_features=3072, out_features=768, bias=True)\n",
              "            (LayerNorm): BertLayerNorm()\n",
              "            (dropout): Dropout(p=0.1, inplace=False)\n",
              "          )\n",
              "        )\n",
              "        (9): BertLayer(\n",
              "          (attention): BertAttention(\n",
              "            (self): BertSelfAttention(\n",
              "              (query): Linear(in_features=768, out_features=768, bias=True)\n",
              "              (key): Linear(in_features=768, out_features=768, bias=True)\n",
              "              (value): Linear(in_features=768, out_features=768, bias=True)\n",
              "              (dropout): Dropout(p=0.1, inplace=False)\n",
              "            )\n",
              "            (output): BertSelfOutput(\n",
              "              (dense): Linear(in_features=768, out_features=768, bias=True)\n",
              "              (LayerNorm): BertLayerNorm()\n",
              "              (dropout): Dropout(p=0.1, inplace=False)\n",
              "            )\n",
              "          )\n",
              "          (intermediate): BertIntermediate(\n",
              "            (dense): Linear(in_features=768, out_features=3072, bias=True)\n",
              "          )\n",
              "          (output): BertOutput(\n",
              "            (dense): Linear(in_features=3072, out_features=768, bias=True)\n",
              "            (LayerNorm): BertLayerNorm()\n",
              "            (dropout): Dropout(p=0.1, inplace=False)\n",
              "          )\n",
              "        )\n",
              "        (10): BertLayer(\n",
              "          (attention): BertAttention(\n",
              "            (self): BertSelfAttention(\n",
              "              (query): Linear(in_features=768, out_features=768, bias=True)\n",
              "              (key): Linear(in_features=768, out_features=768, bias=True)\n",
              "              (value): Linear(in_features=768, out_features=768, bias=True)\n",
              "              (dropout): Dropout(p=0.1, inplace=False)\n",
              "            )\n",
              "            (output): BertSelfOutput(\n",
              "              (dense): Linear(in_features=768, out_features=768, bias=True)\n",
              "              (LayerNorm): BertLayerNorm()\n",
              "              (dropout): Dropout(p=0.1, inplace=False)\n",
              "            )\n",
              "          )\n",
              "          (intermediate): BertIntermediate(\n",
              "            (dense): Linear(in_features=768, out_features=3072, bias=True)\n",
              "          )\n",
              "          (output): BertOutput(\n",
              "            (dense): Linear(in_features=3072, out_features=768, bias=True)\n",
              "            (LayerNorm): BertLayerNorm()\n",
              "            (dropout): Dropout(p=0.1, inplace=False)\n",
              "          )\n",
              "        )\n",
              "        (11): BertLayer(\n",
              "          (attention): BertAttention(\n",
              "            (self): BertSelfAttention(\n",
              "              (query): Linear(in_features=768, out_features=768, bias=True)\n",
              "              (key): Linear(in_features=768, out_features=768, bias=True)\n",
              "              (value): Linear(in_features=768, out_features=768, bias=True)\n",
              "              (dropout): Dropout(p=0.1, inplace=False)\n",
              "            )\n",
              "            (output): BertSelfOutput(\n",
              "              (dense): Linear(in_features=768, out_features=768, bias=True)\n",
              "              (LayerNorm): BertLayerNorm()\n",
              "              (dropout): Dropout(p=0.1, inplace=False)\n",
              "            )\n",
              "          )\n",
              "          (intermediate): BertIntermediate(\n",
              "            (dense): Linear(in_features=768, out_features=3072, bias=True)\n",
              "          )\n",
              "          (output): BertOutput(\n",
              "            (dense): Linear(in_features=3072, out_features=768, bias=True)\n",
              "            (LayerNorm): BertLayerNorm()\n",
              "            (dropout): Dropout(p=0.1, inplace=False)\n",
              "          )\n",
              "        )\n",
              "      )\n",
              "    )\n",
              "    (pooler): BertPooler(\n",
              "      (dense): Linear(in_features=768, out_features=768, bias=True)\n",
              "      (activation): Tanh()\n",
              "    )\n",
              "  )\n",
              "  (dropout): Dropout(p=0.1, inplace=False)\n",
              "  (classifier): Linear(in_features=768, out_features=8785, bias=True)\n",
              ")"
            ]
          },
          "metadata": {
            "tags": []
          },
          "execution_count": 21
        }
      ]
    },
    {
      "cell_type": "code",
      "metadata": {
        "id": "_-W9_IQfjbiu",
        "colab_type": "code",
        "colab": {}
      },
      "source": [
        "'''\n",
        "Now that we have our model loaded we need to grab the training hyperparameters from within the stored model.\n",
        "\n",
        "For the purposes of fine-tuning, the authors recommend the following hyperparameter ranges:\n",
        "\n",
        "Batch size: 16, 32\n",
        "Learning rate (Adam): 5e-5, 3e-5, 2e-5\n",
        "Number of epochs: 2, 3, 4\n",
        "'''\n",
        "\n",
        "param_optimizer = list(model.named_parameters())\n",
        "no_decay = ['bias', 'gamma', 'beta']\n",
        "optimizer_grouped_parameters = [\n",
        "    {'params': [p for n, p in param_optimizer if not any(nd in n for nd in no_decay)],\n",
        "     'weight_decay_rate': 0.01},\n",
        "    {'params': [p for n, p in param_optimizer if any(nd in n for nd in no_decay)],\n",
        "     'weight_decay_rate': 0.0}\n",
        "]"
      ],
      "execution_count": 22,
      "outputs": []
    },
    {
      "cell_type": "code",
      "metadata": {
        "id": "VJJ0yOIZtOpr",
        "colab_type": "code",
        "colab": {
          "base_uri": "https://localhost:8080/",
          "height": 34
        },
        "outputId": "dc8cbe15-8e49-450c-be8b-56cdfc551265"
      },
      "source": [
        "optimizer = BertAdam(optimizer_grouped_parameters,\n",
        "                     lr=LEARNING_RATE,\n",
        "                     warmup=WARMUP)"
      ],
      "execution_count": 23,
      "outputs": [
        {
          "output_type": "stream",
          "text": [
            "t_total value of -1 results in schedule not being applied\n"
          ],
          "name": "stderr"
        }
      ]
    },
    {
      "cell_type": "code",
      "metadata": {
        "id": "GANGNKH7jbd2",
        "colab_type": "code",
        "colab": {}
      },
      "source": [
        "# Function to calculate the accuracy of our predictions vs labels\n",
        "def flat_accuracy(preds, labels):\n",
        "    pred_flat = np.argmax(preds, axis=1).flatten()\n",
        "    labels_flat = labels.flatten()\n",
        "    return np.sum(pred_flat == labels_flat) / len(labels_flat)"
      ],
      "execution_count": 24,
      "outputs": []
    },
    {
      "cell_type": "code",
      "metadata": {
        "id": "DKr36ugQ6qZn",
        "colab_type": "code",
        "colab": {
          "base_uri": "https://localhost:8080/",
          "height": 275
        },
        "outputId": "ee54d937-fc82-4167-9561-f879c4ed01e3"
      },
      "source": [
        "t = [] \n",
        "\n",
        "# Store our loss and accuracy for plotting\n",
        "train_loss_set = []\n",
        "\n",
        "# trange is a tqdm wrapper around the normal python range\n",
        "for _ in trange(EPOCHS, desc=\"Epoch\"):\n",
        "  \n",
        "  # Training\n",
        "  \n",
        "  # Set our model to training mode (as opposed to evaluation mode)\n",
        "  model.train()\n",
        "  \n",
        "  # Tracking variables\n",
        "  tr_loss = 0\n",
        "  nb_tr_examples, nb_tr_steps = 0, 0\n",
        "  \n",
        "  # Train the data for one epoch\n",
        "  for step, batch in enumerate(train_dataloader):\n",
        "    # Add batch to GPU\n",
        "    batch = tuple(t.to(device) for t in batch)\n",
        "    # Unpack the inputs from our dataloader\n",
        "    b_input_ids, b_input_mask, b_labels = batch\n",
        "    # Clear out the gradients (by default they accumulate)\n",
        "    optimizer.zero_grad()\n",
        "    # Forward pass\n",
        "    loss = model(b_input_ids, token_type_ids=None, attention_mask=b_input_mask, labels=b_labels)\n",
        "    train_loss_set.append(loss.item())    \n",
        "    # Backward pass\n",
        "    loss.backward()\n",
        "    # Update parameters and take a step using the computed gradient\n",
        "    optimizer.step()\n",
        "    \n",
        "    # Update tracking variables\n",
        "    tr_loss += loss.item()\n",
        "    nb_tr_examples += b_input_ids.size(0)\n",
        "    nb_tr_steps += 1\n",
        "\n",
        "  print(\"Train loss: {}\".format(tr_loss/nb_tr_steps))\n",
        "    \n",
        "    \n",
        "  # Validation\n",
        "\n",
        "  # Put model in evaluation mode to evaluate loss on the validation set\n",
        "  model.eval()\n",
        "\n",
        "  # Tracking variables \n",
        "  eval_loss, eval_accuracy = 0, 0\n",
        "  nb_eval_steps, nb_eval_examples = 0, 0\n",
        "\n",
        "  # Evaluate data for one epoch\n",
        "  for batch in validation_dataloader:\n",
        "    # Add batch to GPU\n",
        "    batch = tuple(t.to(device) for t in batch)\n",
        "    # Unpack the inputs from our dataloader\n",
        "    b_input_ids, b_input_mask, b_labels = batch\n",
        "    # Telling the model not to compute or store gradients, saving memory and speeding up validation\n",
        "    with torch.no_grad():\n",
        "      # Forward pass, calculate logit predictions\n",
        "      logits = model(b_input_ids, token_type_ids=None, attention_mask=b_input_mask)\n",
        "    \n",
        "    # Move logits and labels to CPU\n",
        "    logits = logits.detach().cpu().numpy()\n",
        "    label_ids = b_labels.to('cpu').numpy()\n",
        "\n",
        "    tmp_eval_accuracy = flat_accuracy(logits, label_ids)\n",
        "    \n",
        "    eval_accuracy += tmp_eval_accuracy\n",
        "    nb_eval_steps += 1\n",
        "\n",
        "  print(\"Validation Accuracy: {}\".format(eval_accuracy/nb_eval_steps))"
      ],
      "execution_count": 25,
      "outputs": [
        {
          "output_type": "stream",
          "text": [
            "\rEpoch:   0%|          | 0/4 [00:00<?, ?it/s]/usr/local/lib/python3.6/dist-packages/pytorch_pretrained_bert/optimization.py:275: UserWarning: This overload of add_ is deprecated:\n",
            "\tadd_(Number alpha, Tensor other)\n",
            "Consider using one of the following signatures instead:\n",
            "\tadd_(Tensor other, *, Number alpha) (Triggered internally at  /pytorch/torch/csrc/utils/python_arg_parser.cpp:766.)\n",
            "  next_m.mul_(beta1).add_(1 - beta1, grad)\n"
          ],
          "name": "stderr"
        },
        {
          "output_type": "stream",
          "text": [
            "Train loss: 2.0510373363591206\n"
          ],
          "name": "stdout"
        },
        {
          "output_type": "stream",
          "text": [
            "\rEpoch:  25%|██▌       | 1/4 [02:39<07:59, 159.75s/it]"
          ],
          "name": "stderr"
        },
        {
          "output_type": "stream",
          "text": [
            "Validation Accuracy: 0.6485606060606061\n",
            "Train loss: 1.4533133836707683\n"
          ],
          "name": "stdout"
        },
        {
          "output_type": "stream",
          "text": [
            "\rEpoch:  50%|█████     | 2/4 [05:19<05:19, 159.83s/it]"
          ],
          "name": "stderr"
        },
        {
          "output_type": "stream",
          "text": [
            "Validation Accuracy: 0.6722727272727272\n",
            "Train loss: 1.176352804974474\n"
          ],
          "name": "stdout"
        },
        {
          "output_type": "stream",
          "text": [
            "\rEpoch:  75%|███████▌  | 3/4 [07:58<02:39, 159.63s/it]"
          ],
          "name": "stderr"
        },
        {
          "output_type": "stream",
          "text": [
            "Validation Accuracy: 0.6869696969696969\n",
            "Train loss: 0.9789187637844471\n"
          ],
          "name": "stdout"
        },
        {
          "output_type": "stream",
          "text": [
            "Epoch: 100%|██████████| 4/4 [10:38<00:00, 159.57s/it]"
          ],
          "name": "stderr"
        },
        {
          "output_type": "stream",
          "text": [
            "Validation Accuracy: 0.714469696969697\n"
          ],
          "name": "stdout"
        },
        {
          "output_type": "stream",
          "text": [
            "\n"
          ],
          "name": "stderr"
        }
      ]
    },
    {
      "cell_type": "code",
      "metadata": {
        "id": "bqqQCDEWs0oN",
        "colab_type": "code",
        "colab": {}
      },
      "source": [
        "STATS_PATH = \"drive/My Drive/colab/stats/coral_bleaching_fine_tuning_stats.csv\"\n",
        "def getLastModelNumber():\n",
        "  with open(STATS_PATH, \"r\") as f:\n",
        "    f_list = list(f)\n",
        "    latest = f_list[-1].split(',')\n",
        "    return int(latest[0])"
      ],
      "execution_count": 26,
      "outputs": []
    },
    {
      "cell_type": "code",
      "metadata": {
        "id": "k50fbgDqbai2",
        "colab_type": "code",
        "colab": {}
      },
      "source": [
        "# Will take a break from saving models - takes up too much space\n",
        "\n",
        "# import os\n",
        "# import itertools\n",
        "\n",
        "# MODEL_PATH = \"drive/My Drive/colab/models/\" \n",
        "# MODEL_SAVE_NAME = 'coral_bleaching_fine_tuning'\n",
        "\n",
        "# # Helper function for auto-saving model incrementally\n",
        "\n",
        "# # This code is originally from StackExchange via \"Tanner,\" but I altered it for use here\n",
        "# # https://gis.stackexchange.com/questions/27410/how-auto-increment-output-file-names-in-python-script\n",
        "\n",
        "# # Modified with code from Gareth Latty via StackOverflow\n",
        "# # https://stackoverflow.com/questions/13673781/splitting-a-string-where-it-switches-between-numeric-and-alphabetic-characters\n",
        "# def getNextFileInt(output_folder):\n",
        "#     highest_num = 0\n",
        "#     for f in os.listdir(output_folder):\n",
        "#       temp = \"\"\n",
        "#       for c in f:\n",
        "#         if c.isdigit():\n",
        "#           temp += c\n",
        "#         if len(temp) > 0 and int(temp) > highest_num:\n",
        "#           highest_num = int(temp)\n",
        "#     return highest_num + 1"
      ],
      "execution_count": 27,
      "outputs": []
    },
    {
      "cell_type": "code",
      "metadata": {
        "id": "6W-xZT7ybtzL",
        "colab_type": "code",
        "colab": {
          "base_uri": "https://localhost:8080/",
          "height": 35
        },
        "outputId": "cbf194f0-0224-4447-e47d-08e6894058ac"
      },
      "source": [
        "# We will use this in the future to refer to the current model\n",
        "current_file_n_str = str(getLastModelNumber() + 1)\n",
        "current_file_n_str"
      ],
      "execution_count": 28,
      "outputs": [
        {
          "output_type": "execute_result",
          "data": {
            "application/vnd.google.colaboratory.intrinsic+json": {
              "type": "string"
            },
            "text/plain": [
              "'14'"
            ]
          },
          "metadata": {
            "tags": []
          },
          "execution_count": 28
        }
      ]
    },
    {
      "cell_type": "code",
      "metadata": {
        "id": "M8-hHD9R6qj1",
        "colab_type": "code",
        "colab": {}
      },
      "source": [
        "# # We save the model so that we can access it later\n",
        "\n",
        "# if not os.path.isfile(MODEL_PATH + MODEL_SAVE_NAME):\n",
        "#   torch.save(model.state_dict(), MODEL_PATH + MODEL_SAVE_NAME)\n",
        "# else:\n",
        "#   # Get the model number to save\n",
        "#   current_file_n_str = str(getNextFileInt(MODEL_PATH))\n",
        "#   print(\"This will be file\",current_file_n_str)\n",
        "#   torch.save(model.state_dict(), MODEL_PATH + MODEL_SAVE_NAME + current_file_n_str)"
      ],
      "execution_count": 29,
      "outputs": []
    },
    {
      "cell_type": "code",
      "metadata": {
        "id": "YDoGoe4V6qtf",
        "colab_type": "code",
        "colab": {
          "base_uri": "https://localhost:8080/",
          "height": 513
        },
        "outputId": "8ad346c3-fda9-4c44-9765-745bc8aa546d"
      },
      "source": [
        "# Let's take a look!\n",
        "\n",
        "plt.figure(figsize=(15,8))\n",
        "plt.title(\"Training loss\")\n",
        "plt.xlabel(\"Batch\")\n",
        "plt.ylabel(\"Loss\")\n",
        "plt.plot(train_loss_set)\n",
        "plt.show()"
      ],
      "execution_count": 30,
      "outputs": [
        {
          "output_type": "display_data",
          "data": {
            "image/png": "[encoded data removed]",
            "text/plain": [
              "<Figure size 1080x576 with 1 Axes>"
            ]
          },
          "metadata": {
            "tags": [],
            "needs_background": "light"
          }
        }
      ]
    },
    {
      "cell_type": "code",
      "metadata": {
        "id": "yORLUkJzBwgq",
        "colab_type": "code",
        "colab": {}
      },
      "source": [
        "# Now we will validate on our testing data\n",
        "DATA_PATH_TEST = \"drive/My Drive/colab/data/\"\n",
        "DATA_NAME_TEST = \"EBA1415-CoralBleaching-little-sentences.tsv\"\n",
        "df_test = pd.read_csv(DATA_PATH_TEST + DATA_NAME_TEST, delimiter='\\t', header=None, names=['file', 'relation', 's_num', 'sentence'])"
      ],
      "execution_count": 31,
      "outputs": []
    },
    {
      "cell_type": "code",
      "metadata": {
        "id": "jMbMYLuQBwdt",
        "colab_type": "code",
        "colab": {}
      },
      "source": [
        "# Create sentence and label lists\n",
        "sentences_test = df_test.sentence.values\n",
        "\n",
        "# We need to add special tokens at the beginning and end of each sentence for BERT to work properly\n",
        "sentences_test = [\"[CLS] \" + sentence + \" [SEP]\" for sentence in sentences_test]\n",
        "\n",
        "tokenized_texts_test = [tokenizer.tokenize(sentence) for sentence in sentences_test]"
      ],
      "execution_count": 32,
      "outputs": []
    },
    {
      "cell_type": "code",
      "metadata": {
        "id": "544FbxSkBwa7",
        "colab_type": "code",
        "colab": {}
      },
      "source": [
        "# Get labels\n",
        "labels_test = df_test.relation.values"
      ],
      "execution_count": 33,
      "outputs": []
    },
    {
      "cell_type": "code",
      "metadata": {
        "id": "7FQmuOIsYI8h",
        "colab_type": "code",
        "colab": {
          "base_uri": "https://localhost:8080/",
          "height": 71
        },
        "outputId": "43a43e96-6acf-464d-9bcc-43e82c70e437"
      },
      "source": [
        "# Convert labels to ints\n",
        "\n",
        "print(\"Pre-changed test labels: \",str(labels_test))\n",
        "labels_test = [label_types.get(l) for l in labels_test]\n",
        "print(\"Changed test labels: \",str(labels_test))"
      ],
      "execution_count": 34,
      "outputs": [
        {
          "output_type": "stream",
          "text": [
            "Pre-changed test labels:  ['O' 'O' 'O' ... 'O' 'O' 'O']\n",
            "Changed test labels:  [0, 0, 0, 0, 0, 0, 1, 5, 0, 14, 0, 0, 0, 0, 0, 5, 0, 0, 19, 0, 14, 6, 0, 0, 0, 8, 8, 21, 7, 74, 14, 28, 68, 14, 13, 0, 0, 48, 28, 0, 10, 0, 12, 0, 0, 0, 0, 0, 24, 0, 0, 21, 1, 0, 1, 0, 0, 0, 0, 0, 23, None, 0, 0, 0, 0, 23, 1, 0, 0, 0, 1, 0, 0, 7, 22, 22, 0, 0, 0, 0, 0, 0, 0, 0, 0, 0, 0, 0, 0, 6, 0, 12, 0, 0, 0, 1, 0, 0, 6, 6, 0, 32, 0, 0, 0, 0, 0, 0, 0, 0, 0, 0, 10, 34, 21, 0, 0, 5, 5, 5, 0, 0, 0, 0, 0, 0, 18, 1, 14, 13, 1, 1, 0, 0, 23, 18, 0, 0, 0, 0, 0, 0, 0, 0, 0, 0, 0, 0, 0, 0, 18, 1, 0, 0, 0, 0, 0, 0, 0, 0, 0, 0, 0, 0, 0, 0, 0, 0, 0, 28, 29, 0, 0, 7, 22, 0, 0, 0, 0, 0, 0, 0, 0, 0, 0, 0, 0, 53, 53, 0, 0, 0, 0, 34, 1, 1, 6, 5, 0, 0, 48, 28, 28, 0, 0, 0, 0, 28, 5, 0, 19, 0, 6, 5, 0, 0, 1, 0, 0, 0, 0, 0, 6, 5, 0, 7, 10, 10, 0, 5, 0, 0, 0, 5, 14, 14, 7, 0, 0, 22, 0, 0, 0, 21, 0, 0, 0, 18, 0, 0, 16, 31, 32, 7, 22, 0, 0, 5, 2, 14, 5, 0, 0, 6, 12, 15, 16, 31, 0, 0, 7, 8, 0, 0, 33, 1, 9, 0, 0, 8, 0, 0, 8, 0, 0, 0, 0, 0, 0, 0, 0, 0, 0, 0, 0, 0, 0, 0, 1, 1, 0, 0, 0, 0, 0, 8, 0, 0, 0, 0, 0, 0, 0, 0, 0, 0, 0, 0, 0, 6, 14, 24, 0, 0, 6, 5, 5, 12, 1, 0, 7, 22, 27, 32, 1, 0, 0, 0, 6, 6, 6, 0, 0, 12, 0, 0, 0, 0, 0, 0, 5, 0, 19, 0, 0, 5, 25, 14, 14, 13, 3, 0, 0, 0, 0, 0, 0, 0, 1, 0, 0, 0, 0, 0, 0, 0, 0, 0, 0, 0, 14, 6, 0, 0, 0, 0, 0, 0, 0, 0, 0, 0, 0, 0, 0, 27, 15, 1, 0, 1, 0, 0, 29, 0, 0, 0, 0, 0, 0, 0, 0, 0, 0, 0, 8, 0, 0, 8, 0, 0, 0, 0, 0, 0, 0, 0, 0, 0, 11, 5, 0, 0, 0, 0, 6, 0, 5, 0, 6, 21, 7, 7, 22, 0, 0, 0, 24, 0, 0, 8, 7, 38, 1, 0, 0, 0, 0, 0, 0, 0, 5, 15, 12, 0, 0, 0, 0, 0, 0, 0, 0, 5, 6, 0, 14, 6, 0, 12, 6, 9, 3, 0, 0, 0, 0, 0, 0, 0, 0, 0, 5, 6, 0, 0, 6, 12, 1, 0, 0, 0, 0, 0, 0, 0, 0, 0, 0, 0, 0, 0, 0, 0, 0, 1, 0, 0, 0, 0, 0, 0, 0, 0, 0, 0, 0, 0, 0, 1, 0, 0, 0, 0, 8, 34, 34, 0, 0, 32, 0, 0, 0, 0, 0, 0, 0, 0, 0, 0, 0, 0, 0, 0, 0, 0, 0, 0, 0, 0, 14, 14, 7, 10, 0, 0, 0, 6, 14, 0, 0, 0, 0, 5, 19, 11, 0, 0, 0, 1, 19, 11, 6, 0, 0, 0, 0, 0, 0, 7, 10, 34, 3, 0, 18, 1, 0, 0, 0, 0, 0, 0, 0, 0, 7, 22, 0, 0, 0, 0, 0, 0, 0, 0, 0, 0, 19, 0, 0, 0, 0, 0, 0, 0, 0, 0, 0, 0, 0, 0, 0, 0, 2, 0, 0, 8, 34, 0, 0, 0, 0, 0, 0, 0, 0, 1, 0, 0, 0, 1, 0, 0, 0, 0, 0, 0, 0, 0, 1, 0, 0, 10, 21, 0, 0, 0, 0, 0, 0, 0, 0, 0, 0, 0, 27, 16, 31, 0, 10, 0, 5, 6, 11, 7, 0, 5, 0, 8, 0, 0, 5, 7, 22, 0, 0, 0, 0, 0, 0, 0, 5, 24, 23, 5, 24, 23, 5, 0, 19, 19, 0, 11, 24, 8, 8, 0, 7, 22, 0, 0, 18, 1, 0, 0, 0, 0, 0, 0, 0, 0, 1, 0, 6, 5, 6, 5, 0, 0, 5, 5, 0, 0, 0, 0, 0, 0, 0, 10, 0, 9, 3, 3, 0, 1, 1, 18, 0, 0, 0, 0, 0, 0, 0, 0, 0, 0, 0, 0, 21, 0, 14, 0, 0, 16, 0, 0, 0, 0, 21, 27, 12, 12, 0, 0, 0, 0, 0, 0, 16, 31, 31, 0, 0, 0, 0, 0, 0, 0, 0, 0, 10, 0, 0, 0, 0, 0, 15, 5, 14, 0, 14, 0, 0, 0, 0, 0, 12, 0, 0, 0, 0, 16, 31, 31, 32, 0, 0, 0, 0, 11, 14, 14, 90, 10, 0, 0, 0, 32, 29, 0, 0, 0, 0, 0, 0, 0, 0, 0, 0, 0, 0, 0, 0, 0, 0, 0, 0, 0, 0, 0, 0, 0, 0, 0, 0, 21, 6, 1, 0, 25, 19, 0, 13, 13, 7, 5, 0, 0, 0, 0, 0, 18, 0, 0, 15, 21, 0, 0, 6, 0, 6, 14, 12, 32, 8, 0, 0, 1, 1, 1, 12, 6, 0, 0, 0, 27, 16, 31, 32, 0, 0, 0, 0, 0, 0, 0, 54, 9, 0, 32, 28, 14, 21, 14, 7, 22, 54, 0, 9, 3, 0, 0, 0, 0, 0, 0, 0, 0, 0, 0, 0, 0, 0, 0, 0, 0, 0, 0, 6, 5, 24, 6, 0, 0, 0, 0, 0, 0, 0, 0, 5, 0, 0, 0, 5, 6, 24, 21, 7, 22, 36, 23, 89, 89, 0, 0, 0, 0, 0, 14, 6, 5, 6, 0, 21, 24, 3, 0, 0, 0, 0, 0, 0, 0, 0, 5, 0, 14, 6, 1, 0, 1, 0, 0, 0, 0, 6, 0, 0, 0, 0, 23, 18, 1, 0, 0, 0, 0, 0, 0, 6, 6, 7, 7, 6, 16, 0, 0, 1, 0, 0, 28, 29, 1, 0, 0, 0, 0, 0, 0, 0, 0, 0, 0, 21, 14, 0, 5, 12, 27, 27, 36, 0, 0, 9, 0, 0, 0, 0, 0, 0, 0, 21, 0, 0, 0, 0, 2, 0, 0, 0, 6, 0, 0, 0, 0, 0, 0, 0, 0, 0, 15, 0, 27, 12, 0, 0, 15, 12, 0, 0, 1, 18, 0, 0, 1, 0, 0, 0, 0, 0, 0, 0, 0, 0, 21, 9, 9, 0, 1, 1, 0, 0, 0, 0, 0, 0, 0, 0, 1, 0, 0, 0, 0, 0, 7, 0, 0, 27, 14, 0, 0, 6, 0, 0, 0, 0, 0, 0, 0, 0, 0, 0, 5, 19, 14, 6, 6, 14, 5, 0, 0, 0, 5, 5, 16, 27, 16, 31, 32, 28, 28, 0, 0, 0, 32, 0, 0, 0, 0, 0, 6, 0, 0, 0, 0, 1, 0, 0, 0, 0, 0, 0, 0, 0, 7, 0, 16, 31, 32, 0, 0, 1, 0, 0, 0, 0, 5, 0, 19, 14, 14, 6, 0, 0, 0, 0, 0, 0, 0, 0, 0, 0, 0, 0, 0, 0, 0, 0, 0, 0, 0, 0, 0, 0, 0, 0, 5, 5, 0, 0, 0, 0, 0, 0, 5, 6, 1, 5, 19, 0, 0, 0, 21, 9, 1, 0, 0, 0, 0, 0, 0, 0, 0, 29, 1, 0, 0, 0, 5, 6, 1, 0, 0, 0, 0, 1, 0, 0, 0, 0, 0, 0, 0, 0, 7, 22, 0, 0, 1, 0, 0, 0, 5, 14, 6, 0, 0, 0, 0, 0, 0, 0, 0, 5, 0, 0, 0, 0, 0, 0, 0, 11, 0, 0, 0, 7, 22, 36, 27, 0, 0, 0, 18, 1, 0, 6, 0, 24, 1, 0, 0, 0, 14, 0, 0, 0, 0, 0, 14, 0, 19, 6, 0, 0, 0, 0, 0, 0, 0, 0, 0, 0, 0, 0, 18, 1, 0, 0, 1, 0, 0, 23, 18, 0, 0, 0, 23, 0, 0, 0, 0, 11, 0, 0, 5, 0, 0, 0, 0, 6, 19, 6, 5, 0, 0, 1, 57, 0, 0, 0, 0, 0, 0, 0, 0, 0, 0, 0, 0, 0, 0, 18, 0, 0, 0, 0, 0, 0, 16, 31, 0, 0, 0, 0, 0, 14, 5, 0, 0, 0, 13, None, 22, 18, 18, 1, 0, 0, 0, 24, 10, 0, 5, 0, 0, 0, 0, 0, 0, 0, 0, 0, 0, 0, 0, 1, 0, 0, 0, 0, 0, 0, 0, 0, 0, 0, 0, 0, 0, 6, 6, 0, 0, 0, 8, 7, 7, 22, 5, 6, 0, 90, 19, 21, 0, 41, 27, 16, 31, 32, 18, 0, 0, 18, 1, 0, 12, 42, 16, 31, 12, 12, 0, 19, 34, 0, 0, 0, 5, 5, 5, 14, 6, 7, 6, 0, 0, 7, 10, 0, 0, 0, 0, 0, 0, 0, 0, 0, 6, 0, 0, 21, 0, 0, 1, 0, 0, 0, 0, 0, 14, 51, 18, 1, 0, 14, 0, 23, 14, 6, 6, 7, 0, 51, 18, 1, 0, 0, 0, 14, 6, 0, 0, 0, 0, 0, 10, 0, 0, 0, 0, 0, 0, 0, 0, 0, 0, 0, 0, 0, 0, 0, 0, 0, 0, 0, 0, 0, 0, 0, 0, 0, 0, 0, 18, 28, 29, 1, 1, 0, 0, 0, 0, 0, 19, 0, 0, 0, 0, 0, 0, 0, 0, 0, 0, 0, 1, 0, 0, 15, 0, 0, 0, 0, 0, 0, 0, 0, 0, 0, 0, 0, 0, 0, 0, 0, 1, 0, 0, 0, 0, 0, 0, 0, 0, 0, 0, 0, 0, 5, 36, 17, 0, 0, 0, 0, 0, 0, 6, 0, 7, 22, 18, 18, 0, 1, 0, 16, 31, 32, 0, 0, 0, 0, 0, 0, 12, 0, 16, 31, 32, 1, 4, 0, 0, 0, 5, 0, 0, 0, 0, 0, 14, 10, 3, 3, 15, 16, 31, 32, 1, 0, 0, 0, 0, 0, 5, 6, 15, 6, 15, 0, 0, 0, 0, 0, 0, 0, 8, 7, 0, 0, 16, 31, 0, 0, 0, 0, 20, 6, 0, 0, 0, 0, 5, 32, 1, 0, 0, 0, 0, 0, 0, 21, 33, 1, 6, 14, 0, 0, 0, 0, 0, 0, 0, 0, 0, 0, 0, 0, 0, 0, 0, 0, 0, 0, 0, 28, 29, 28, 0, 10, 0, 22, 36, 36, 0, 0, 0, 0, 6, 5, 1, 0, 0, 0, 0, 0, 6, 0, 14, 0, 0, 7, 9, 0, 0, 0, 0, 59, 16, 31, 5, 6, 6, 0, 0, 0, 0, 0, 0, 21, 14, 0, 7, 14, 51, 18, 1, 14, 0, 0, 24, 0, 0, 0, 1, 0, 18, 0, 0, 0, 0, 0, 0, 0, 0, 0, 0, 0, 0, 0, 0, 0, 0, 0, 0, 0, 0, 0, 10, 15, 16, 31, 32, 0, 0, 14, 0, 0, 0, 0, 0, 0, 1, 0, 0, 0, 0, 0, 48, 28, 0, 0, 0, 0, 0, 0, 0, 27, 16, 31, 0, 1, 0, 0, 5, 19, 19, 0, 1, 18, 0, 27, 0, 0, 0, 0, 0, 0, 10, 10, 0, 16, 27, 16, 31, 32, 32, 0, 0, 0, 1, 0, 0, 0, 19, 0, 0, 15, 12, 15, 12, 9, 1, 1, 0, 0, 0, 15, 12, 0, 0, 0, 0, 0, 82, 0, 6, 12, 30, 32, 28, 28, 30, 0, 0, 0, 0, 0, 0, 0, 0, 18, 0, 0, 1, 18, 18, 0, 0, 0, 0, 5, 0, 0, 0, 0, 0, 0, 0, 0, 0, 0, 0, 0, 5, 14, 14, 0, 0, 18, 46, 1, 7, 8, 0, 0, 28, 29, 0, 14, 14, 0, 0, 24, 23, 5, 0, 0, 0, 0, 23, 29, 1, 29, 0, 0, 0, 0, 0, 0, 0, 19, 0, 0, 0, 0, 0, 0, 0, 0, 0, 0, 0, 0, 0, 0, 0, 0, 8, 0, 0, 0, 0, 0, 1, 1, 0, 33, 14, 0, 70, 18, 1, 1, 27, 32, 7, 22, 5, 6, 0, 0, 0, 0, 6, 5, 0, 7, 8, 24, 0, 0, 0, 1, 1, 0, 5, 6, 13, 25, 0, 0, 0, 0, 0, 0, 0, 0, 0, 0, 0, 0, 0, 0, 0, 0, 0, 1, 0, 0, 0, 0, 0, 0, 0, 14, 14, 6, 6, 0, 0, 0, 0, 0, 0, 0, 21, 0, 0, 0, 7, 7, 0, 36, 0, 0, 27, 16, 31, 0, 0, 18, 1, 0, 0, 0, 0, 0, 0, 5, 0, 14, 0, 6, 0, 5, 21, 0, 0, 5, 6, 0, 6, 5, 6, 0, 0, 0, 5, 19, 6, 0, 0, 0, 0, 0, 14, 0, 1, 0, 1, 0, 0, 0, 0, 0, 8, 0, 0, 0, 6, 5, 0, 7, 22, 27, 32, 0, 0, 0, 0, 0, 0, 0, 0, 15, 27, 32, 15, 15, 1, 0, 0, 0, 0, 0, 0, 0, 0, 14, 0, 0, 19, 0, 0, 1, 1, 0, 0, 0, 0, 1, 0, 0, 0, 0, 0, 0, 0, 0, 0, 0, 0, 0, 5, 23, 0, 0, 0, 0, 54, 0, 0, 0, 0, 5, 0, 0, 0, 0, 0, 0, 8, 10, 0, 0, 0, 1, 0, 0, 0, 0, 0, 0, 0, 0, 0, 21, 0, 0, 0, 0, 2, 5, 0, 0, 1, 28, 29, 0, 0, 0, 1, 0, 0, 1, 0, 0, 28, 29, 1, 0, 0, 0, 0]\n"
          ],
          "name": "stdout"
        }
      ]
    },
    {
      "cell_type": "code",
      "metadata": {
        "id": "VyBKS_7wYJaD",
        "colab_type": "code",
        "colab": {
          "base_uri": "https://localhost:8080/",
          "height": 34
        },
        "outputId": "dbdd24ee-b41f-4ab4-d16d-231dc88f000a"
      },
      "source": [
        "# Get rid of labels that were not in the training data\n",
        "\n",
        "original_test_label_length = len(labels_test)\n",
        "\n",
        "tokenized_texts_test = [tokenized_texts_test[i] for i in range(len(tokenized_texts_test)) if labels_test[i] != None]\n",
        "labels_test = [labels_test[i] for i in range(len(labels_test)) if labels_test[i] != None]\n",
        "\n",
        "print(\"Removed {0} labels of type None\".format(original_test_label_length - len(labels_test)))"
      ],
      "execution_count": 35,
      "outputs": [
        {
          "output_type": "stream",
          "text": [
            "Removed 2 labels of type None\n"
          ],
          "name": "stdout"
        }
      ]
    },
    {
      "cell_type": "code",
      "metadata": {
        "id": "tkK_ps6OYJd0",
        "colab_type": "code",
        "colab": {}
      },
      "source": [
        "# Use the BERT tokenizer to convert the tokens to their index numbers in the BERT vocabulary\n",
        "input_ids_test = [tokenizer.convert_tokens_to_ids(x) for x in tokenized_texts_test]\n",
        "# Pad our input tokens\n",
        "input_ids_test = pad_sequences(input_ids_test, maxlen=MAX_LEN, dtype=\"long\", truncating=\"post\", padding=\"post\")\n",
        "# Create attention masks\n",
        "attention_masks_test = []"
      ],
      "execution_count": 36,
      "outputs": []
    },
    {
      "cell_type": "code",
      "metadata": {
        "id": "XvnUu4_nYI5d",
        "colab_type": "code",
        "colab": {}
      },
      "source": [
        "# Create a mask of 1s for each token followed by 0s for padding\n",
        "for seq in input_ids_test:\n",
        "  seq_mask = [float(i>0) for i in seq]\n",
        "  attention_masks_test.append(seq_mask) "
      ],
      "execution_count": 37,
      "outputs": []
    },
    {
      "cell_type": "code",
      "metadata": {
        "id": "LZrcStjUYI29",
        "colab_type": "code",
        "colab": {}
      },
      "source": [
        "prediction_inputs = torch.tensor(input_ids_test)\n",
        "prediction_masks = torch.tensor(attention_masks_test)\n",
        "prediction_labels = torch.tensor(labels_test)"
      ],
      "execution_count": 38,
      "outputs": []
    },
    {
      "cell_type": "code",
      "metadata": {
        "id": "HCKdVMkAYI0U",
        "colab_type": "code",
        "colab": {}
      },
      "source": [
        "prediction_data = TensorDataset(prediction_inputs, prediction_masks, prediction_labels)\n",
        "prediction_sampler = SequentialSampler(prediction_data)\n",
        "prediction_dataloader = DataLoader(prediction_data, sampler=prediction_sampler, batch_size=BATCH_SIZE)"
      ],
      "execution_count": 39,
      "outputs": []
    },
    {
      "cell_type": "code",
      "metadata": {
        "id": "CS0A_XWaZdHm",
        "colab_type": "code",
        "colab": {}
      },
      "source": [
        "# Prediction on test set\n",
        "\n",
        "# Put model in evaluation mode\n",
        "model.eval()\n",
        "\n",
        "# Tracking variables \n",
        "predictions_test, true_labels_test = [], []"
      ],
      "execution_count": 40,
      "outputs": []
    },
    {
      "cell_type": "code",
      "metadata": {
        "id": "VgBPyZtDZdFU",
        "colab_type": "code",
        "colab": {}
      },
      "source": [
        "# Predict \n",
        "for batch in prediction_dataloader:\n",
        "  # Add batch to GPU\n",
        "  batch = tuple(t.to(device) for t in batch)\n",
        "  # Unpack the inputs from our dataloader\n",
        "  b_input_ids, b_input_mask, b_labels = batch\n",
        "  # Telling the model not to compute or store gradients, saving memory and speeding up prediction\n",
        "  with torch.no_grad():\n",
        "    # Forward pass, calculate logit predictions\n",
        "    logits = model(b_input_ids, token_type_ids=None, attention_mask=b_input_mask)\n",
        "\n",
        "  # Move logits and labels to CPU\n",
        "  logits_test = logits.detach().cpu().numpy()\n",
        "  label_ids_test = b_labels.to('cpu').numpy()\n",
        "  \n",
        "  # Store predictions and true labels\n",
        "  predictions_test.append(logits_test)\n",
        "  true_labels_test.append(label_ids_test)"
      ],
      "execution_count": 41,
      "outputs": []
    },
    {
      "cell_type": "code",
      "metadata": {
        "id": "t8fq6nxAaPr9",
        "colab_type": "code",
        "colab": {}
      },
      "source": [
        "# Flatten the predictions and true values\n",
        "flat_predictions_test = [item for sublist in predictions_test for item in sublist]\n",
        "flat_predictions_test = np.argmax(flat_predictions_test, axis=1).flatten()\n",
        "flat_true_labels_test = [item for sublist in true_labels_test for item in sublist]"
      ],
      "execution_count": 42,
      "outputs": []
    },
    {
      "cell_type": "code",
      "metadata": {
        "id": "nsBINcTnaPmJ",
        "colab_type": "code",
        "colab": {}
      },
      "source": [
        "# # At this point we must create a binary array to determine which answers were answered correctly\n",
        "# test_results_array = np.array(flat_predictions_test == flat_true_labels_test)\n",
        "# test_results_array = test_results_array.astype(int)\n",
        "# test_results_array[:100]"
      ],
      "execution_count": 43,
      "outputs": []
    },
    {
      "cell_type": "code",
      "metadata": {
        "id": "fd6ezWE1L62i",
        "colab_type": "code",
        "colab": {}
      },
      "source": [
        "# Create the file to store the stats of the model if it doesn't already exist\n",
        "\n",
        "import os\n",
        "f = None\n",
        "if not os.path.isfile(STATS_PATH):\n",
        "  f = open(STATS_PATH, \"w\")\n",
        "  f.write(\"number,datetime,bert_model,hugging_face,max_len,epochs,batch_size,\\\n",
        "            optimizer,learning_rate,warmup,pretraining_model_id,pretraining_model_type,\\\n",
        "            cost_sensitivity,accuracy,macro_prec,macro_recall,macro_f1,macro_support,\\\n",
        "            weighted_prec,weighted_recall,weighted_f1,weighted_support,kfold,notes\\n\")\n",
        "  print(\"coral_bleaching_stats.csv NOT found - creating\")\n",
        "  f.close()"
      ],
      "execution_count": 44,
      "outputs": []
    },
    {
      "cell_type": "code",
      "metadata": {
        "id": "6cDn8BNf-hWn",
        "colab_type": "code",
        "colab": {}
      },
      "source": [
        "# from sklearn.metrics import classification_report\n",
        "\n",
        "# y_pred = flat_predictions_test\n",
        "# y = flat_true_labels_test\n",
        "\n",
        "# classification_dict = classification_report(y, y_pred, labels=None, target_names=None, \\\n",
        "#                       sample_weight=None, digits=2, output_dict=True, zero_division=1)\n",
        "\n",
        "# # Create arrays of precisions, recalls, f1s to recalculate average\n",
        "# precisions = []\n",
        "# recalls = []\n",
        "# f1s = []\n",
        "# supports = []\n",
        "\n",
        "# # We must alter the classification dictionary to update the f1_score and recall keys to be 1 instead of 0\n",
        "# # In this example, precision/recall/f1 scores of 0 are set to 1\n",
        "\n",
        "# classification_dict_converted = {}\n",
        "\n",
        "# for k,v in classification_dict.items():\n",
        "#   if k.isdigit():\n",
        "\n",
        "#     if float(v['recall']) == 0.0: v['recall'] = 1.0\n",
        "#     recalls.append(v['recall'])\n",
        "\n",
        "#     if float(v['f1-score']) == 0.0: v['f1-score'] = 1.0\n",
        "#     f1s.append(v['f1-score'])\n",
        "\n",
        "#     if float(v['precision']) == 0.0: v['precision'] = 1.0\n",
        "#     precisions.append(v['precision'])\n",
        "\n",
        "#     supports.append(v['support'])\n",
        "\n",
        "#     # Convert dictionary keys back to our original labels\n",
        "#     original_key = next((key for key in label_types if label_types[key] == int(k)), None)\n",
        "#     classification_dict_converted.update({ original_key : v })\n",
        "\n",
        "#     print(original_key + \" : \" + str(classification_dict_converted[original_key]))\n",
        "\n",
        "#   # Otherwise, we are at the end of the dict and edit the averages to account for the newly replaced 0s\n",
        "#   else:\n",
        "#     if k == 'macro avg':\n",
        "#       precision = sum(precisions)/len(precisions)\n",
        "#       recall = sum(recalls)/len(recalls)\n",
        "#       f1 = sum(f1s)/len(f1s)\n",
        "\n",
        "#       v['precision'] = precision\n",
        "#       v['recall'] = recall\n",
        "#       v['f1-score'] = f1\n",
        "\n",
        "#     if k == 'weighted avg':\n",
        "#       weighted_precisions = [precisions[i]*supports[i] for i in range(len(precisions))]\n",
        "#       weighted_recalls = [recalls[i]*supports[i] for i in range(len(recalls))]\n",
        "#       weighted_f1s = [f1s[i]*supports[i] for i in range(len(f1s))]\n",
        "\n",
        "#       total_supports = v['support']\n",
        "\n",
        "#       precision = sum(weighted_precisions)/total_supports\n",
        "#       recall = sum(weighted_recalls)/total_supports\n",
        "#       f1 = sum(weighted_f1s)/total_supports\n",
        "\n",
        "#       v['precision'] = precision\n",
        "#       v['recall'] = recall\n",
        "#       v['f1-score'] = f1\n",
        "\n",
        "#     classification_dict_converted.update({ k : v })\n",
        "#     print(\"\\n\" + k + \" : \" + str(classification_dict_converted[k]))\n",
        "\n",
        "# accuracy = classification_dict_converted['accuracy']"
      ],
      "execution_count": 45,
      "outputs": []
    },
    {
      "cell_type": "code",
      "metadata": {
        "id": "CMdbx8GDt4hr",
        "colab_type": "code",
        "colab": {
          "base_uri": "https://localhost:8080/",
          "height": 374
        },
        "outputId": "79fad839-1bc7-4295-d0e5-e2753a07596f"
      },
      "source": [
        "from sklearn.metrics import classification_report\n",
        "\n",
        "y_pred = flat_predictions_test\n",
        "y = flat_true_labels_test\n",
        "\n",
        "classification_dict = classification_report(y, y_pred, labels=None, target_names=None, \\\n",
        "                      sample_weight=None, digits=2, output_dict=True, zero_division=1)\n",
        "\n",
        "# Create arrays of precisions, recalls, f1s to recalculate average\n",
        "precisions = []\n",
        "recalls = []\n",
        "f1s = []\n",
        "supports = []\n",
        "\n",
        "# We must alter the classification dictionary to update the f1_score and recall keys to be 1 instead of 0\n",
        "# In this example, precision/recall/f1 scores of 0 are ignored\n",
        "\n",
        "classification_dict_stripped = {}\n",
        "\n",
        "for k,v in classification_dict.items():\n",
        "  if k.isdigit():\n",
        "\n",
        "    if float(v['precision']) != 0.0 and float(v['recall']) != 0.0 and float(v['f1-score']) != 0.0:\n",
        "      recalls.append(v['recall'])\n",
        "      f1s.append(v['f1-score'])\n",
        "      precisions.append(v['precision'])\n",
        "      supports.append(v['support'])\n",
        "\n",
        "      # Convert dictionary keys back to our original labels\n",
        "      original_key = next((key for key in label_types if label_types[key] == int(k)), None)\n",
        "      classification_dict_stripped.update({ original_key : v })\n",
        "\n",
        "      print(original_key + \" : \" + str(classification_dict_stripped[original_key]))\n",
        "      \n",
        "  # Otherwise, we are at the end of the dict and edit the averages to account for the newly replaced 0s\n",
        "  else:\n",
        "    if k == 'macro avg':\n",
        "      precision = sum(precisions)/len(precisions)\n",
        "      recall = sum(recalls)/len(recalls)\n",
        "      f1 = sum(f1s)/len(f1s)\n",
        "\n",
        "      v['precision'] = precision\n",
        "      v['recall'] = recall\n",
        "      v['f1-score'] = f1\n",
        "\n",
        "    if k == 'weighted avg':\n",
        "      weighted_precisions = [precisions[i]*supports[i] for i in range(len(precisions))]\n",
        "      weighted_recalls = [recalls[i]*supports[i] for i in range(len(recalls))]\n",
        "      weighted_f1s = [f1s[i]*supports[i] for i in range(len(f1s))]\n",
        "\n",
        "      total_supports = sum(supports)\n",
        "\n",
        "      precision = sum(weighted_precisions)/total_supports\n",
        "      recall = sum(weighted_recalls)/total_supports\n",
        "      f1 = sum(weighted_f1s)/total_supports\n",
        "\n",
        "      v['precision'] = precision\n",
        "      v['recall'] = recall\n",
        "      v['f1-score'] = f1\n",
        "      v['support'] = total_supports\n",
        "\n",
        "    classification_dict_stripped.update({ k : v })\n",
        "\n",
        "    print(\"\\n\" + k + \" : \" + str(classification_dict_stripped[k]))"
      ],
      "execution_count": 46,
      "outputs": [
        {
          "output_type": "stream",
          "text": [
            "O : {'precision': 0.8416316736652669, 'recall': 0.9518317503392131, 'f1-score': 0.8933460681311685, 'support': 1474}\n",
            "R-7-50 : {'precision': 0.7195121951219512, 'recall': 0.5514018691588785, 'f1-score': 0.6243386243386243, 'support': 107}\n",
            "R-1-50 : {'precision': 0.46564885496183206, 'recall': 0.7349397590361446, 'f1-score': 0.5700934579439252, 'support': 83}\n",
            "R-3-50 : {'precision': 0.5178571428571429, 'recall': 0.3493975903614458, 'f1-score': 0.4172661870503598, 'support': 83}\n",
            "R-3-4 : {'precision': 0.4, 'recall': 0.24390243902439024, 'f1-score': 0.30303030303030304, 'support': 41}\n",
            "R-4-5 : {'precision': 0.375, 'recall': 0.2727272727272727, 'f1-score': 0.3157894736842105, 'support': 22}\n",
            "R-4-50 : {'precision': 0.3333333333333333, 'recall': 0.25, 'f1-score': 0.28571428571428575, 'support': 20}\n",
            "R-13-50 : {'precision': 0.6666666666666666, 'recall': 0.08333333333333333, 'f1-score': 0.14814814814814814, 'support': 24}\n",
            "R-1-3 : {'precision': 0.375, 'recall': 0.25862068965517243, 'f1-score': 0.3061224489795919, 'support': 58}\n",
            "R-11-12 : {'precision': 0.3620689655172414, 'recall': 0.875, 'f1-score': 0.5121951219512195, 'support': 24}\n",
            "R-6-7 : {'precision': 0.7407407407407407, 'recall': 0.625, 'f1-score': 0.6779661016949152, 'support': 32}\n",
            "R-1-2 : {'precision': 0.5769230769230769, 'recall': 0.6521739130434783, 'f1-score': 0.6122448979591837, 'support': 23}\n",
            "R-3-5 : {'precision': 0.4375, 'recall': 0.5833333333333334, 'f1-score': 0.5, 'support': 24}\n",
            "R-4-14 : {'precision': 0.17857142857142858, 'recall': 0.25, 'f1-score': 0.20833333333333331, 'support': 20}\n",
            "R-13-14 : {'precision': 0.2777777777777778, 'recall': 0.625, 'f1-score': 0.3846153846153846, 'support': 24}\n",
            "\n",
            "accuracy : 0.7417218543046358\n",
            "\n",
            "macro avg : {'precision': 0.4845487904090972, 'recall': 0.4871107966675108, 'f1-score': 0.45061358910497695, 'support': 2265}\n",
            "\n",
            "weighted avg : {'precision': 0.7453381453277016, 'recall': 0.8159300631374453, 'f1-score': 0.7699904850177841, 'support': 2059}\n"
          ],
          "name": "stdout"
        }
      ]
    },
    {
      "cell_type": "code",
      "metadata": {
        "id": "zMMAANxB3pYQ",
        "colab_type": "code",
        "colab": {}
      },
      "source": [
        "ACCURACY = classification_dict_stripped['accuracy']\n",
        "\n",
        "macro = classification_dict_stripped[\"macro avg\"]\n",
        "MACRO_F1 = macro[\"f1-score\"]\n",
        "MACRO_PREC = macro[\"precision\"]\n",
        "MACRO_RECALL = macro[\"recall\"]\n",
        "MACRO_SUPPORT = macro[\"support\"]\n",
        "\n",
        "weighted = classification_dict_stripped[\"weighted avg\"]\n",
        "WEIGHTED_F1 = weighted[\"f1-score\"]\n",
        "WEIGHTED_PREC = weighted[\"precision\"]\n",
        "WEIGHTED_RECALL = weighted[\"recall\"]\n",
        "WEIGHTED_SUPPORT = weighted[\"support\"]"
      ],
      "execution_count": 47,
      "outputs": []
    },
    {
      "cell_type": "code",
      "metadata": {
        "id": "-jhdyo1kAA8r",
        "colab_type": "code",
        "colab": {
          "base_uri": "https://localhost:8080/",
          "height": 35
        },
        "outputId": "73ba6ecc-52c4-4196-b998-ff5e65a19911"
      },
      "source": [
        "# Capture HuggingFace type\n",
        "\n",
        "hf_arr = str(type(model)).split('.')\n",
        "HF_TYPE = hf_arr[2]\n",
        "HF_TYPE = ''.join(filter(str.isalnum, HF_TYPE))\n",
        "HF_TYPE"
      ],
      "execution_count": 48,
      "outputs": [
        {
          "output_type": "execute_result",
          "data": {
            "application/vnd.google.colaboratory.intrinsic+json": {
              "type": "string"
            },
            "text/plain": [
              "'BertForSequenceClassification'"
            ]
          },
          "metadata": {
            "tags": []
          },
          "execution_count": 48
        }
      ]
    },
    {
      "cell_type": "code",
      "metadata": {
        "id": "4rwyzetq_8bY",
        "colab_type": "code",
        "colab": {
          "base_uri": "https://localhost:8080/",
          "height": 35
        },
        "outputId": "a33c6f80-2394-4d8f-ce86-9383369ba089"
      },
      "source": [
        "# Capture optimizer type\n",
        "\n",
        "opt_arr = str(type(optimizer)).split('.')\n",
        "OPTIMIZER_TYPE = opt_arr[2]\n",
        "OPTIMIZER_TYPE = ''.join(filter(str.isalnum, OPTIMIZER_TYPE))\n",
        "OPTIMIZER_TYPE"
      ],
      "execution_count": 49,
      "outputs": [
        {
          "output_type": "execute_result",
          "data": {
            "application/vnd.google.colaboratory.intrinsic+json": {
              "type": "string"
            },
            "text/plain": [
              "'BertAdam'"
            ]
          },
          "metadata": {
            "tags": []
          },
          "execution_count": 49
        }
      ]
    },
    {
      "cell_type": "code",
      "metadata": {
        "id": "osyohy5pZXUh",
        "colab_type": "code",
        "colab": {}
      },
      "source": [
        "# Get date and time\n",
        "import datetime\n",
        "import pytz\n",
        "\n",
        "date = str(datetime.datetime.now(tz = pytz.timezone('US/Central')))\n",
        "date = date.split(' ')\n",
        "time = date[1]\n",
        "date = date[0]\n",
        "h, m = [time.split(':')[0], time.split(':')[1]]\n",
        "\n",
        "DATE_TIME = date + ' ' + h + ':' + m + \" CT\""
      ],
      "execution_count": 50,
      "outputs": []
    },
    {
      "cell_type": "code",
      "metadata": {
        "id": "JfdYfNFkbdnD",
        "colab_type": "code",
        "colab": {}
      },
      "source": [
        "NUM = int(current_file_n_str)"
      ],
      "execution_count": 51,
      "outputs": []
    },
    {
      "cell_type": "code",
      "metadata": {
        "id": "ZADeWA6NdWNE",
        "colab_type": "code",
        "colab": {}
      },
      "source": [
        "# Add line to stats, then save and close\n",
        "with open(STATS_PATH, \"a\") as f:\n",
        "  f.write(\"{0},{1},{2},{3},{4},{5},{6},{7},{8},\\\n",
        "  {9},{10},{11},{12},{13},{14},{15},{16},{17},\\\n",
        "  {18},{19},{20},{21},{22},{23}\\n\".format(NUM,DATE_TIME,MODEL_TYPE,HF_TYPE,MAX_LEN,EPOCHS,BATCH_SIZE,\n",
        "                                          OPTIMIZER_TYPE,LEARNING_RATE,WARMUP,PRETRAINING_MODEL_ID,PRETRAINING_MODEL_TYPE,\n",
        "                                          COST_SENSITIVITY,ACCURACY,MACRO_PREC,MACRO_RECALL,MACRO_F1,MACRO_SUPPORT,\n",
        "                                          WEIGHTED_PREC,WEIGHTED_RECALL,WEIGHTED_F1,WEIGHTED_SUPPORT,KFOLD,NOTES))"
      ],
      "execution_count": 52,
      "outputs": []
    }
  ]
}