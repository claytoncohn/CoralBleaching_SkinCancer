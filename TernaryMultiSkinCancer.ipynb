{
  "nbformat": 4,
  "nbformat_minor": 0,
  "metadata": {
    "colab": {
      "name": "TernaryMultiSkinCancer.ipynb",
      "provenance": [],
      "collapsed_sections": [],
      "machine_shape": "hm",
      "authorship_tag": "ABX9TyMVqlqA/e6EDk+cMxh3L40j",
      "include_colab_link": true
    },
    "kernelspec": {
      "name": "python3",
      "display_name": "Python 3"
    },
    "accelerator": "GPU"
  },
  "cells": [
    {
      "cell_type": "markdown",
      "metadata": {
        "id": "view-in-github",
        "colab_type": "text"
      },
      "source": [
        "<a href=\"https://colab.research.google.com/github/claytoncohn/CoralBleaching_SkinCancer/blob/master/TernaryMultiSkinCancer.ipynb\" target=\"_parent\"><img src=\"https://colab.research.google.com/assets/colab-badge.svg\" alt=\"Open In Colab\"/></a>"
      ]
    },
    {
      "cell_type": "markdown",
      "metadata": {
        "id": "erJHJpl3RO4E"
      },
      "source": [
        "This notebook is created by Clayton Cohn for the purposes of detecting the existence of causal chains in the Coral Bleaching and Skin Cancer datasets using BERT.\n",
        "\n",
        "BERT will be fine-tuned for ternary classification: 0 indicating the absense of a causal relation, 1 indicating the presence of a valid causal relation, and 2 indicating the presence an invalid causal relation. After that, it will be put through another round of classification to see if the model can identify the correct relation.\n",
        "\n",
        "The code in this notebook is originally adopted from:\n",
        "\n",
        "https://colab.research.google.com/drive/1ywsvwO6thOVOrfagjjfuxEf6xVRxbUNO#scrollTo=IUM0UA1qJaVB\n",
        "\n",
        "I have adapted it for use with the Skin Cancer and Coral Bleaching datasets below:\n",
        "\n",
        "https://knowledge.depaul.edu/display/DNLP/Tasks+and+Data\n",
        "---\n"
      ]
    },
    {
      "cell_type": "markdown",
      "metadata": {
        "id": "-sIkXqo1TP-D"
      },
      "source": [
        "Mount Drive to Colab."
      ]
    },
    {
      "cell_type": "code",
      "metadata": {
        "id": "3_c3XEJBTpRV",
        "outputId": "dc5ac86f-4fe3-47b4-e1c1-034c3ac8b040",
        "colab": {
          "base_uri": "https://localhost:8080/",
          "height": 34
        }
      },
      "source": [
        "from google.colab import drive\n",
        "drive.mount('/content/drive')"
      ],
      "execution_count": 1,
      "outputs": [
        {
          "output_type": "stream",
          "text": [
            "Drive already mounted at /content/drive; to attempt to forcibly remount, call drive.mount(\"/content/drive\", force_remount=True).\n"
          ],
          "name": "stdout"
        }
      ]
    },
    {
      "cell_type": "markdown",
      "metadata": {
        "id": "4hxMggnJU1VX"
      },
      "source": [
        "Import the desired dataset."
      ]
    },
    {
      "cell_type": "code",
      "metadata": {
        "id": "zZ0A4ZXpRDuV",
        "outputId": "73f9c6ab-66b6-47e3-d153-a6cb128856d4",
        "colab": {
          "base_uri": "https://localhost:8080/",
          "height": 359
        }
      },
      "source": [
        "import pandas as pd\n",
        "\n",
        "DATA_PATH = \"drive/My Drive/colab/data/\"\n",
        "DATA_NAME = \"EBA1415-SkinCancer-big-sentences.tsv\"\n",
        "\n",
        "df = pd.read_csv(DATA_PATH + DATA_NAME, delimiter='\\t', header=0, names=['essay', 'relation', 's_num', 'sentence'])\n",
        "df.head(10)"
      ],
      "execution_count": 2,
      "outputs": [
        {
          "output_type": "execute_result",
          "data": {
            "text/html": [
              "<div>\n",
              "<style scoped>\n",
              "    .dataframe tbody tr th:only-of-type {\n",
              "        vertical-align: middle;\n",
              "    }\n",
              "\n",
              "    .dataframe tbody tr th {\n",
              "        vertical-align: top;\n",
              "    }\n",
              "\n",
              "    .dataframe thead th {\n",
              "        text-align: right;\n",
              "    }\n",
              "</style>\n",
              "<table border=\"1\" class=\"dataframe\">\n",
              "  <thead>\n",
              "    <tr style=\"text-align: right;\">\n",
              "      <th></th>\n",
              "      <th>essay</th>\n",
              "      <th>relation</th>\n",
              "      <th>s_num</th>\n",
              "      <th>sentence</th>\n",
              "    </tr>\n",
              "  </thead>\n",
              "  <tbody>\n",
              "    <tr>\n",
              "      <th>0</th>\n",
              "      <td>EBA1415_TFHC_1_SC_ES-05947</td>\n",
              "      <td>O</td>\n",
              "      <td>1.0</td>\n",
              "      <td>This essay is about skin damage, latitude and ...</td>\n",
              "    </tr>\n",
              "    <tr>\n",
              "      <th>1</th>\n",
              "      <td>EBA1415_TFHC_1_SC_ES-05947</td>\n",
              "      <td>O</td>\n",
              "      <td>2.0</td>\n",
              "      <td>The skin damage is on our bodies that have num...</td>\n",
              "    </tr>\n",
              "    <tr>\n",
              "      <th>2</th>\n",
              "      <td>EBA1415_TFHC_1_SC_ES-05947</td>\n",
              "      <td>O</td>\n",
              "      <td>3.0</td>\n",
              "      <td>There are three main varieties of skin cancer ...</td>\n",
              "    </tr>\n",
              "    <tr>\n",
              "      <th>3</th>\n",
              "      <td>EBA1415_TFHC_1_SC_ES-05947</td>\n",
              "      <td>O</td>\n",
              "      <td>4.0</td>\n",
              "      <td>That would be what skin damage is.</td>\n",
              "    </tr>\n",
              "    <tr>\n",
              "      <th>4</th>\n",
              "      <td>EBA1415_TFHC_1_SC_ES-05947</td>\n",
              "      <td>R-1-2</td>\n",
              "      <td>5.0</td>\n",
              "      <td>Latitude and direct sunlight would be the cols...</td>\n",
              "    </tr>\n",
              "    <tr>\n",
              "      <th>5</th>\n",
              "      <td>EBA1415_TFHC_1_SC_ES-05947</td>\n",
              "      <td>R-1-2</td>\n",
              "      <td>6.0</td>\n",
              "      <td>The most yearound direct sunlight occurs betwe...</td>\n",
              "    </tr>\n",
              "    <tr>\n",
              "      <th>6</th>\n",
              "      <td>EBA1415_TFHC_1_SC_ES-05947</td>\n",
              "      <td>O</td>\n",
              "      <td>7.0</td>\n",
              "      <td>That would be latitude and direct sunlight.</td>\n",
              "    </tr>\n",
              "    <tr>\n",
              "      <th>7</th>\n",
              "      <td>EBA1415_TFHC_1_SC_ES-05947</td>\n",
              "      <td>O</td>\n",
              "      <td>8.0</td>\n",
              "      <td>Your skin protects you is that it acts as a wa...</td>\n",
              "    </tr>\n",
              "    <tr>\n",
              "      <th>8</th>\n",
              "      <td>EBA1415_TFHC_1_SC_ES-05947</td>\n",
              "      <td>R-12-3</td>\n",
              "      <td>9.0</td>\n",
              "      <td>Your skin does have some denses against solar ...</td>\n",
              "    </tr>\n",
              "    <tr>\n",
              "      <th>9</th>\n",
              "      <td>EBA1415_TFHC_1_SC_ES-05947</td>\n",
              "      <td>O</td>\n",
              "      <td>10.0</td>\n",
              "      <td>That would be your skin protects you.</td>\n",
              "    </tr>\n",
              "  </tbody>\n",
              "</table>\n",
              "</div>"
            ],
            "text/plain": [
              "                        essay  ...                                           sentence\n",
              "0  EBA1415_TFHC_1_SC_ES-05947  ...  This essay is about skin damage, latitude and ...\n",
              "1  EBA1415_TFHC_1_SC_ES-05947  ...  The skin damage is on our bodies that have num...\n",
              "2  EBA1415_TFHC_1_SC_ES-05947  ...  There are three main varieties of skin cancer ...\n",
              "3  EBA1415_TFHC_1_SC_ES-05947  ...                 That would be what skin damage is.\n",
              "4  EBA1415_TFHC_1_SC_ES-05947  ...  Latitude and direct sunlight would be the cols...\n",
              "5  EBA1415_TFHC_1_SC_ES-05947  ...  The most yearound direct sunlight occurs betwe...\n",
              "6  EBA1415_TFHC_1_SC_ES-05947  ...        That would be latitude and direct sunlight.\n",
              "7  EBA1415_TFHC_1_SC_ES-05947  ...  Your skin protects you is that it acts as a wa...\n",
              "8  EBA1415_TFHC_1_SC_ES-05947  ...  Your skin does have some denses against solar ...\n",
              "9  EBA1415_TFHC_1_SC_ES-05947  ...              That would be your skin protects you.\n",
              "\n",
              "[10 rows x 4 columns]"
            ]
          },
          "metadata": {
            "tags": []
          },
          "execution_count": 2
        }
      ]
    },
    {
      "cell_type": "markdown",
      "metadata": {
        "id": "zHshYuNpgq9o"
      },
      "source": [
        "Must transform relation labels to ternary labels.\n"
      ]
    },
    {
      "cell_type": "code",
      "metadata": {
        "id": "JcYIL8FWgzJs",
        "outputId": "2e76ba6e-79e1-4c55-a1eb-cd690b3d59d5",
        "colab": {
          "base_uri": "https://localhost:8080/",
          "height": 34
        }
      },
      "source": [
        "relations_pd = df.relation.copy(deep=True)\n",
        "\n",
        "relations = [\n",
        "                  \"1,2\", \"1,3\", \"1,4\", \"1,5\", \"1,6\", \"1,50\",\n",
        "                  \"2,3\", \"2,4\", \"2,5\", \"2,6\", \"2,50\",\n",
        "                  \"3,4\", \"3,5\", \"3,6\", \"3,50\",\n",
        "                  \"4,5\", \"4,6\", \"4,50\",\n",
        "                  \"5,6\", \"5,50\",\n",
        "                  \"11,12\", \"11,6\", \"11,50\",\n",
        "                  \"12,6\", \"12,50\",\n",
        "                  \"6,50\"     \n",
        "                 ]\n",
        "\n",
        "print(\"{} unique relations\".format(len(relations)))\n",
        "\n",
        "for i, rel in relations_pd.items():\n",
        "  chain = rel.split(\"-\")\n",
        "\n",
        "  if chain[0] == \"O\":\n",
        "    relations_pd.at[i] = 0\n",
        "    continue\n",
        "  \n",
        "  chain = chain[1] + \",\" + chain[2]\n",
        "\n",
        "  if chain in relations:\n",
        "    relations_pd.at[i] = 1\n",
        "  else: \n",
        "    relations_pd.at[i] = 2"
      ],
      "execution_count": 3,
      "outputs": [
        {
          "output_type": "stream",
          "text": [
            "26 unique relations\n"
          ],
          "name": "stdout"
        }
      ]
    },
    {
      "cell_type": "code",
      "metadata": {
        "id": "ME4ZcO_Wt2Ij",
        "outputId": "2a81005f-a995-41e6-dfc3-56c07c6ea76e",
        "colab": {
          "base_uri": "https://localhost:8080/",
          "height": 359
        }
      },
      "source": [
        "df_ternary = df.copy(deep=True)\n",
        "df_ternary.relation = relations_pd\n",
        "df_ternary.head(10)"
      ],
      "execution_count": 4,
      "outputs": [
        {
          "output_type": "execute_result",
          "data": {
            "text/html": [
              "<div>\n",
              "<style scoped>\n",
              "    .dataframe tbody tr th:only-of-type {\n",
              "        vertical-align: middle;\n",
              "    }\n",
              "\n",
              "    .dataframe tbody tr th {\n",
              "        vertical-align: top;\n",
              "    }\n",
              "\n",
              "    .dataframe thead th {\n",
              "        text-align: right;\n",
              "    }\n",
              "</style>\n",
              "<table border=\"1\" class=\"dataframe\">\n",
              "  <thead>\n",
              "    <tr style=\"text-align: right;\">\n",
              "      <th></th>\n",
              "      <th>essay</th>\n",
              "      <th>relation</th>\n",
              "      <th>s_num</th>\n",
              "      <th>sentence</th>\n",
              "    </tr>\n",
              "  </thead>\n",
              "  <tbody>\n",
              "    <tr>\n",
              "      <th>0</th>\n",
              "      <td>EBA1415_TFHC_1_SC_ES-05947</td>\n",
              "      <td>0</td>\n",
              "      <td>1.0</td>\n",
              "      <td>This essay is about skin damage, latitude and ...</td>\n",
              "    </tr>\n",
              "    <tr>\n",
              "      <th>1</th>\n",
              "      <td>EBA1415_TFHC_1_SC_ES-05947</td>\n",
              "      <td>0</td>\n",
              "      <td>2.0</td>\n",
              "      <td>The skin damage is on our bodies that have num...</td>\n",
              "    </tr>\n",
              "    <tr>\n",
              "      <th>2</th>\n",
              "      <td>EBA1415_TFHC_1_SC_ES-05947</td>\n",
              "      <td>0</td>\n",
              "      <td>3.0</td>\n",
              "      <td>There are three main varieties of skin cancer ...</td>\n",
              "    </tr>\n",
              "    <tr>\n",
              "      <th>3</th>\n",
              "      <td>EBA1415_TFHC_1_SC_ES-05947</td>\n",
              "      <td>0</td>\n",
              "      <td>4.0</td>\n",
              "      <td>That would be what skin damage is.</td>\n",
              "    </tr>\n",
              "    <tr>\n",
              "      <th>4</th>\n",
              "      <td>EBA1415_TFHC_1_SC_ES-05947</td>\n",
              "      <td>1</td>\n",
              "      <td>5.0</td>\n",
              "      <td>Latitude and direct sunlight would be the cols...</td>\n",
              "    </tr>\n",
              "    <tr>\n",
              "      <th>5</th>\n",
              "      <td>EBA1415_TFHC_1_SC_ES-05947</td>\n",
              "      <td>1</td>\n",
              "      <td>6.0</td>\n",
              "      <td>The most yearound direct sunlight occurs betwe...</td>\n",
              "    </tr>\n",
              "    <tr>\n",
              "      <th>6</th>\n",
              "      <td>EBA1415_TFHC_1_SC_ES-05947</td>\n",
              "      <td>0</td>\n",
              "      <td>7.0</td>\n",
              "      <td>That would be latitude and direct sunlight.</td>\n",
              "    </tr>\n",
              "    <tr>\n",
              "      <th>7</th>\n",
              "      <td>EBA1415_TFHC_1_SC_ES-05947</td>\n",
              "      <td>0</td>\n",
              "      <td>8.0</td>\n",
              "      <td>Your skin protects you is that it acts as a wa...</td>\n",
              "    </tr>\n",
              "    <tr>\n",
              "      <th>8</th>\n",
              "      <td>EBA1415_TFHC_1_SC_ES-05947</td>\n",
              "      <td>2</td>\n",
              "      <td>9.0</td>\n",
              "      <td>Your skin does have some denses against solar ...</td>\n",
              "    </tr>\n",
              "    <tr>\n",
              "      <th>9</th>\n",
              "      <td>EBA1415_TFHC_1_SC_ES-05947</td>\n",
              "      <td>0</td>\n",
              "      <td>10.0</td>\n",
              "      <td>That would be your skin protects you.</td>\n",
              "    </tr>\n",
              "  </tbody>\n",
              "</table>\n",
              "</div>"
            ],
            "text/plain": [
              "                        essay  ...                                           sentence\n",
              "0  EBA1415_TFHC_1_SC_ES-05947  ...  This essay is about skin damage, latitude and ...\n",
              "1  EBA1415_TFHC_1_SC_ES-05947  ...  The skin damage is on our bodies that have num...\n",
              "2  EBA1415_TFHC_1_SC_ES-05947  ...  There are three main varieties of skin cancer ...\n",
              "3  EBA1415_TFHC_1_SC_ES-05947  ...                 That would be what skin damage is.\n",
              "4  EBA1415_TFHC_1_SC_ES-05947  ...  Latitude and direct sunlight would be the cols...\n",
              "5  EBA1415_TFHC_1_SC_ES-05947  ...  The most yearound direct sunlight occurs betwe...\n",
              "6  EBA1415_TFHC_1_SC_ES-05947  ...        That would be latitude and direct sunlight.\n",
              "7  EBA1415_TFHC_1_SC_ES-05947  ...  Your skin protects you is that it acts as a wa...\n",
              "8  EBA1415_TFHC_1_SC_ES-05947  ...  Your skin does have some denses against solar ...\n",
              "9  EBA1415_TFHC_1_SC_ES-05947  ...              That would be your skin protects you.\n",
              "\n",
              "[10 rows x 4 columns]"
            ]
          },
          "metadata": {
            "tags": []
          },
          "execution_count": 4
        }
      ]
    },
    {
      "cell_type": "markdown",
      "metadata": {
        "id": "eukpkXF6vdeT"
      },
      "source": [
        "Next, we must address the issue that some sentences have multiple relations. This could be a problem if a sentence has one valid relation and one invalid one (the same sentence will have multiple labels). To correct this, we will remove the duplicate instances and define each sentence to be 1 if it contains *at least one* causal relation. Otherwise, it will be classified as -1 if it has at least one invalid causal relation, and -1 otherwise.\n",
        "\n",
        "The parse was provided by @TrentonMcKinney on StackOverflow:\n",
        "https://stackoverflow.com/questions/63697275/regex-string-for-different-versions/63697498#63697498"
      ]
    },
    {
      "cell_type": "code",
      "metadata": {
        "id": "xTpiRii5wNJs",
        "outputId": "4fdb83e8-bfd8-4515-99ac-556fec508338",
        "colab": {
          "base_uri": "https://localhost:8080/",
          "height": 824
        }
      },
      "source": [
        "df_duplicate_sentences = df_ternary[df_ternary.s_num.astype(str).str.split('.', expand=True)[1] != '0']\n",
        "df_duplicate_sentences.head(25)"
      ],
      "execution_count": 5,
      "outputs": [
        {
          "output_type": "execute_result",
          "data": {
            "text/html": [
              "<div>\n",
              "<style scoped>\n",
              "    .dataframe tbody tr th:only-of-type {\n",
              "        vertical-align: middle;\n",
              "    }\n",
              "\n",
              "    .dataframe tbody tr th {\n",
              "        vertical-align: top;\n",
              "    }\n",
              "\n",
              "    .dataframe thead th {\n",
              "        text-align: right;\n",
              "    }\n",
              "</style>\n",
              "<table border=\"1\" class=\"dataframe\">\n",
              "  <thead>\n",
              "    <tr style=\"text-align: right;\">\n",
              "      <th></th>\n",
              "      <th>essay</th>\n",
              "      <th>relation</th>\n",
              "      <th>s_num</th>\n",
              "      <th>sentence</th>\n",
              "    </tr>\n",
              "  </thead>\n",
              "  <tbody>\n",
              "    <tr>\n",
              "      <th>25</th>\n",
              "      <td>EBA1415_SDMK_6_SC_ES-06292</td>\n",
              "      <td>1</td>\n",
              "      <td>26.1</td>\n",
              "      <td>If you are between the Tropics of Cancer and c...</td>\n",
              "    </tr>\n",
              "    <tr>\n",
              "      <th>26</th>\n",
              "      <td>EBA1415_SDMK_6_SC_ES-06292</td>\n",
              "      <td>1</td>\n",
              "      <td>26.2</td>\n",
              "      <td>If you are between the Tropics of Cancer and c...</td>\n",
              "    </tr>\n",
              "    <tr>\n",
              "      <th>70</th>\n",
              "      <td>EBA1415_KYNS_4_SC_ES-05404</td>\n",
              "      <td>1</td>\n",
              "      <td>70.1</td>\n",
              "      <td>With more consisten sunlight, Out skinwill bur...</td>\n",
              "    </tr>\n",
              "    <tr>\n",
              "      <th>71</th>\n",
              "      <td>EBA1415_KYNS_4_SC_ES-05404</td>\n",
              "      <td>1</td>\n",
              "      <td>70.2</td>\n",
              "      <td>With more consisten sunlight, Out skinwill bur...</td>\n",
              "    </tr>\n",
              "    <tr>\n",
              "      <th>80</th>\n",
              "      <td>EBA1415_TFBM_1_SC_ES-05442</td>\n",
              "      <td>1</td>\n",
              "      <td>79.1</td>\n",
              "      <td>Latitude and direct sunlight also has to do wi...</td>\n",
              "    </tr>\n",
              "    <tr>\n",
              "      <th>81</th>\n",
              "      <td>EBA1415_TFBM_1_SC_ES-05442</td>\n",
              "      <td>1</td>\n",
              "      <td>79.2</td>\n",
              "      <td>Latitude and direct sunlight also has to do wi...</td>\n",
              "    </tr>\n",
              "    <tr>\n",
              "      <th>90</th>\n",
              "      <td>EBA1415_TWMD_6-7_SC_ES-05001</td>\n",
              "      <td>1</td>\n",
              "      <td>127.1</td>\n",
              "      <td>Some things that may lead to skin cancer would...</td>\n",
              "    </tr>\n",
              "    <tr>\n",
              "      <th>91</th>\n",
              "      <td>EBA1415_TWMD_6-7_SC_ES-05001</td>\n",
              "      <td>1</td>\n",
              "      <td>127.2</td>\n",
              "      <td>Some things that may lead to skin cancer would...</td>\n",
              "    </tr>\n",
              "    <tr>\n",
              "      <th>92</th>\n",
              "      <td>EBA1415_TWMD_6-7_SC_ES-05001</td>\n",
              "      <td>1</td>\n",
              "      <td>127.3</td>\n",
              "      <td>Some things that may lead to skin cancer would...</td>\n",
              "    </tr>\n",
              "    <tr>\n",
              "      <th>94</th>\n",
              "      <td>EBA1415_TWMD_6-7_SC_ES-05001</td>\n",
              "      <td>1</td>\n",
              "      <td>129.1</td>\n",
              "      <td>Another way would be by laditude and direct su...</td>\n",
              "    </tr>\n",
              "    <tr>\n",
              "      <th>95</th>\n",
              "      <td>EBA1415_TWMD_6-7_SC_ES-05001</td>\n",
              "      <td>1</td>\n",
              "      <td>129.2</td>\n",
              "      <td>Another way would be by laditude and direct su...</td>\n",
              "    </tr>\n",
              "    <tr>\n",
              "      <th>96</th>\n",
              "      <td>EBA1415_TWMD_6-7_SC_ES-05001</td>\n",
              "      <td>1</td>\n",
              "      <td>130.1</td>\n",
              "      <td>Some location where you might be at Risk is No...</td>\n",
              "    </tr>\n",
              "    <tr>\n",
              "      <th>97</th>\n",
              "      <td>EBA1415_TWMD_6-7_SC_ES-05001</td>\n",
              "      <td>1</td>\n",
              "      <td>130.2</td>\n",
              "      <td>Some location where you might be at Risk is No...</td>\n",
              "    </tr>\n",
              "    <tr>\n",
              "      <th>99</th>\n",
              "      <td>EBA1415_TWMD_6-7_SC_ES-05001</td>\n",
              "      <td>1</td>\n",
              "      <td>132.1</td>\n",
              "      <td>Some thing Else that may lead to it is sunburn...</td>\n",
              "    </tr>\n",
              "    <tr>\n",
              "      <th>100</th>\n",
              "      <td>EBA1415_TWMD_6-7_SC_ES-05001</td>\n",
              "      <td>1</td>\n",
              "      <td>132.2</td>\n",
              "      <td>Some thing Else that may lead to it is sunburn...</td>\n",
              "    </tr>\n",
              "    <tr>\n",
              "      <th>104</th>\n",
              "      <td>EBA1415_SEAL_7_SC_ES-04804</td>\n",
              "      <td>1</td>\n",
              "      <td>136.1</td>\n",
              "      <td>Skin cancer is caused by sunburn, exposure, al...</td>\n",
              "    </tr>\n",
              "    <tr>\n",
              "      <th>105</th>\n",
              "      <td>EBA1415_SEAL_7_SC_ES-04804</td>\n",
              "      <td>1</td>\n",
              "      <td>136.2</td>\n",
              "      <td>Skin cancer is caused by sunburn, exposure, al...</td>\n",
              "    </tr>\n",
              "    <tr>\n",
              "      <th>115</th>\n",
              "      <td>EBA1415_SEAL_7_SC_ES-04804</td>\n",
              "      <td>1</td>\n",
              "      <td>146.1</td>\n",
              "      <td>Solar comes from light, so if you have exposur...</td>\n",
              "    </tr>\n",
              "    <tr>\n",
              "      <th>116</th>\n",
              "      <td>EBA1415_SEAL_7_SC_ES-04804</td>\n",
              "      <td>1</td>\n",
              "      <td>146.2</td>\n",
              "      <td>Solar comes from light, so if you have exposur...</td>\n",
              "    </tr>\n",
              "    <tr>\n",
              "      <th>118</th>\n",
              "      <td>EBA1415_SEAL_7_SC_ES-04804</td>\n",
              "      <td>1</td>\n",
              "      <td>148.1</td>\n",
              "      <td>Things that cause cancer is sunburn, exposure,...</td>\n",
              "    </tr>\n",
              "    <tr>\n",
              "      <th>119</th>\n",
              "      <td>EBA1415_SEAL_7_SC_ES-04804</td>\n",
              "      <td>1</td>\n",
              "      <td>148.2</td>\n",
              "      <td>Things that cause cancer is sunburn, exposure,...</td>\n",
              "    </tr>\n",
              "    <tr>\n",
              "      <th>124</th>\n",
              "      <td>EBA1415_TWJB_5_SC_ES-05071</td>\n",
              "      <td>1</td>\n",
              "      <td>153.1</td>\n",
              "      <td>If you have sunburn, and the sunburned cells a...</td>\n",
              "    </tr>\n",
              "    <tr>\n",
              "      <th>125</th>\n",
              "      <td>EBA1415_TWJB_5_SC_ES-05071</td>\n",
              "      <td>1</td>\n",
              "      <td>153.2</td>\n",
              "      <td>If you have sunburn, and the sunburned cells a...</td>\n",
              "    </tr>\n",
              "    <tr>\n",
              "      <th>149</th>\n",
              "      <td>EBA1415_SEKL_1_SC_ES-04817</td>\n",
              "      <td>1</td>\n",
              "      <td>177.1</td>\n",
              "      <td>This is because the sun's direct rays can harm...</td>\n",
              "    </tr>\n",
              "    <tr>\n",
              "      <th>150</th>\n",
              "      <td>EBA1415_SEKL_1_SC_ES-04817</td>\n",
              "      <td>1</td>\n",
              "      <td>177.2</td>\n",
              "      <td>This is because the sun's direct rays can harm...</td>\n",
              "    </tr>\n",
              "  </tbody>\n",
              "</table>\n",
              "</div>"
            ],
            "text/plain": [
              "                            essay  ...                                           sentence\n",
              "25     EBA1415_SDMK_6_SC_ES-06292  ...  If you are between the Tropics of Cancer and c...\n",
              "26     EBA1415_SDMK_6_SC_ES-06292  ...  If you are between the Tropics of Cancer and c...\n",
              "70     EBA1415_KYNS_4_SC_ES-05404  ...  With more consisten sunlight, Out skinwill bur...\n",
              "71     EBA1415_KYNS_4_SC_ES-05404  ...  With more consisten sunlight, Out skinwill bur...\n",
              "80     EBA1415_TFBM_1_SC_ES-05442  ...  Latitude and direct sunlight also has to do wi...\n",
              "81     EBA1415_TFBM_1_SC_ES-05442  ...  Latitude and direct sunlight also has to do wi...\n",
              "90   EBA1415_TWMD_6-7_SC_ES-05001  ...  Some things that may lead to skin cancer would...\n",
              "91   EBA1415_TWMD_6-7_SC_ES-05001  ...  Some things that may lead to skin cancer would...\n",
              "92   EBA1415_TWMD_6-7_SC_ES-05001  ...  Some things that may lead to skin cancer would...\n",
              "94   EBA1415_TWMD_6-7_SC_ES-05001  ...  Another way would be by laditude and direct su...\n",
              "95   EBA1415_TWMD_6-7_SC_ES-05001  ...  Another way would be by laditude and direct su...\n",
              "96   EBA1415_TWMD_6-7_SC_ES-05001  ...  Some location where you might be at Risk is No...\n",
              "97   EBA1415_TWMD_6-7_SC_ES-05001  ...  Some location where you might be at Risk is No...\n",
              "99   EBA1415_TWMD_6-7_SC_ES-05001  ...  Some thing Else that may lead to it is sunburn...\n",
              "100  EBA1415_TWMD_6-7_SC_ES-05001  ...  Some thing Else that may lead to it is sunburn...\n",
              "104    EBA1415_SEAL_7_SC_ES-04804  ...  Skin cancer is caused by sunburn, exposure, al...\n",
              "105    EBA1415_SEAL_7_SC_ES-04804  ...  Skin cancer is caused by sunburn, exposure, al...\n",
              "115    EBA1415_SEAL_7_SC_ES-04804  ...  Solar comes from light, so if you have exposur...\n",
              "116    EBA1415_SEAL_7_SC_ES-04804  ...  Solar comes from light, so if you have exposur...\n",
              "118    EBA1415_SEAL_7_SC_ES-04804  ...  Things that cause cancer is sunburn, exposure,...\n",
              "119    EBA1415_SEAL_7_SC_ES-04804  ...  Things that cause cancer is sunburn, exposure,...\n",
              "124    EBA1415_TWJB_5_SC_ES-05071  ...  If you have sunburn, and the sunburned cells a...\n",
              "125    EBA1415_TWJB_5_SC_ES-05071  ...  If you have sunburn, and the sunburned cells a...\n",
              "149    EBA1415_SEKL_1_SC_ES-04817  ...  This is because the sun's direct rays can harm...\n",
              "150    EBA1415_SEKL_1_SC_ES-04817  ...  This is because the sun's direct rays can harm...\n",
              "\n",
              "[25 rows x 4 columns]"
            ]
          },
          "metadata": {
            "tags": []
          },
          "execution_count": 5
        }
      ]
    },
    {
      "cell_type": "markdown",
      "metadata": {
        "id": "5T1KuyexCk6l"
      },
      "source": [
        "Now that the duplicates are isolated, they need to be evaluated. If there is at least one relation, one copy of the sentence will be kept as true. If there are no relations, one copy will be kept as false."
      ]
    },
    {
      "cell_type": "code",
      "metadata": {
        "id": "7EVJKEEGCjy3",
        "outputId": "64783be0-6dd9-4e68-e2fd-7706bcf37ece",
        "colab": {
          "base_uri": "https://localhost:8080/",
          "height": 929
        }
      },
      "source": [
        "import numpy as np\n",
        "\n",
        "current = -1\n",
        "\n",
        "same_arr_inds = []\n",
        "drop_list = []\n",
        "\n",
        "for i, row in df_duplicate_sentences.iterrows():\n",
        "  s_num = str(df_duplicate_sentences.loc[i].s_num)\n",
        "  first_num, second_num = s_num.split(\".\")\n",
        "\n",
        "  if first_num != current:\n",
        "    current = first_num\n",
        "\n",
        "    if len(same_arr_inds) > 1:\n",
        "\n",
        "      valid_flag = False\n",
        "      invalid_flag = False\n",
        "\n",
        "      for n in same_arr_inds:\n",
        "\n",
        "        if df_duplicate_sentences.loc[n].relation == 1:\n",
        "          valid_flag = True\n",
        "          break\n",
        "\n",
        "        if df_duplicate_sentences.loc[n].relation == -1:\n",
        "          invalid_flag = True \n",
        "\n",
        "      left = same_arr_inds[0]\n",
        "      right = same_arr_inds[1:]\n",
        "\n",
        "      if valid_flag == True:\n",
        "        df_duplicate_sentences.loc[left].relation = 1\n",
        "      elif invalid_flag == True:\n",
        "        df_duplicate_sentences.loc[left].relation = -1\n",
        "      else:\n",
        "        df_duplicate_sentences.loc[left].relation = 0\n",
        "\n",
        "      drop_list += right   \n",
        "\n",
        "    same_arr_inds = []\n",
        "  same_arr_inds.append(i)\n",
        "\n",
        "df_ternary.drop(drop_list, inplace=True)   \n",
        "\n",
        "df_ternary.head(25)"
      ],
      "execution_count": 6,
      "outputs": [
        {
          "output_type": "stream",
          "text": [
            "/usr/local/lib/python3.6/dist-packages/pandas/core/generic.py:5165: SettingWithCopyWarning: \n",
            "A value is trying to be set on a copy of a slice from a DataFrame\n",
            "\n",
            "See the caveats in the documentation: https://pandas.pydata.org/pandas-docs/stable/user_guide/indexing.html#returning-a-view-versus-a-copy\n",
            "  self[name] = value\n"
          ],
          "name": "stderr"
        },
        {
          "output_type": "execute_result",
          "data": {
            "text/html": [
              "<div>\n",
              "<style scoped>\n",
              "    .dataframe tbody tr th:only-of-type {\n",
              "        vertical-align: middle;\n",
              "    }\n",
              "\n",
              "    .dataframe tbody tr th {\n",
              "        vertical-align: top;\n",
              "    }\n",
              "\n",
              "    .dataframe thead th {\n",
              "        text-align: right;\n",
              "    }\n",
              "</style>\n",
              "<table border=\"1\" class=\"dataframe\">\n",
              "  <thead>\n",
              "    <tr style=\"text-align: right;\">\n",
              "      <th></th>\n",
              "      <th>essay</th>\n",
              "      <th>relation</th>\n",
              "      <th>s_num</th>\n",
              "      <th>sentence</th>\n",
              "    </tr>\n",
              "  </thead>\n",
              "  <tbody>\n",
              "    <tr>\n",
              "      <th>0</th>\n",
              "      <td>EBA1415_TFHC_1_SC_ES-05947</td>\n",
              "      <td>0</td>\n",
              "      <td>1.0</td>\n",
              "      <td>This essay is about skin damage, latitude and ...</td>\n",
              "    </tr>\n",
              "    <tr>\n",
              "      <th>1</th>\n",
              "      <td>EBA1415_TFHC_1_SC_ES-05947</td>\n",
              "      <td>0</td>\n",
              "      <td>2.0</td>\n",
              "      <td>The skin damage is on our bodies that have num...</td>\n",
              "    </tr>\n",
              "    <tr>\n",
              "      <th>2</th>\n",
              "      <td>EBA1415_TFHC_1_SC_ES-05947</td>\n",
              "      <td>0</td>\n",
              "      <td>3.0</td>\n",
              "      <td>There are three main varieties of skin cancer ...</td>\n",
              "    </tr>\n",
              "    <tr>\n",
              "      <th>3</th>\n",
              "      <td>EBA1415_TFHC_1_SC_ES-05947</td>\n",
              "      <td>0</td>\n",
              "      <td>4.0</td>\n",
              "      <td>That would be what skin damage is.</td>\n",
              "    </tr>\n",
              "    <tr>\n",
              "      <th>4</th>\n",
              "      <td>EBA1415_TFHC_1_SC_ES-05947</td>\n",
              "      <td>1</td>\n",
              "      <td>5.0</td>\n",
              "      <td>Latitude and direct sunlight would be the cols...</td>\n",
              "    </tr>\n",
              "    <tr>\n",
              "      <th>5</th>\n",
              "      <td>EBA1415_TFHC_1_SC_ES-05947</td>\n",
              "      <td>1</td>\n",
              "      <td>6.0</td>\n",
              "      <td>The most yearound direct sunlight occurs betwe...</td>\n",
              "    </tr>\n",
              "    <tr>\n",
              "      <th>6</th>\n",
              "      <td>EBA1415_TFHC_1_SC_ES-05947</td>\n",
              "      <td>0</td>\n",
              "      <td>7.0</td>\n",
              "      <td>That would be latitude and direct sunlight.</td>\n",
              "    </tr>\n",
              "    <tr>\n",
              "      <th>7</th>\n",
              "      <td>EBA1415_TFHC_1_SC_ES-05947</td>\n",
              "      <td>0</td>\n",
              "      <td>8.0</td>\n",
              "      <td>Your skin protects you is that it acts as a wa...</td>\n",
              "    </tr>\n",
              "    <tr>\n",
              "      <th>8</th>\n",
              "      <td>EBA1415_TFHC_1_SC_ES-05947</td>\n",
              "      <td>2</td>\n",
              "      <td>9.0</td>\n",
              "      <td>Your skin does have some denses against solar ...</td>\n",
              "    </tr>\n",
              "    <tr>\n",
              "      <th>9</th>\n",
              "      <td>EBA1415_TFHC_1_SC_ES-05947</td>\n",
              "      <td>0</td>\n",
              "      <td>10.0</td>\n",
              "      <td>That would be your skin protects you.</td>\n",
              "    </tr>\n",
              "    <tr>\n",
              "      <th>10</th>\n",
              "      <td>EBA1415_TFHC_1_SC_ES-05947</td>\n",
              "      <td>0</td>\n",
              "      <td>11.0</td>\n",
              "      <td>Sunburn can happen when the body directs blood...</td>\n",
              "    </tr>\n",
              "    <tr>\n",
              "      <th>11</th>\n",
              "      <td>EBA1415_TFHC_1_SC_ES-05947</td>\n",
              "      <td>0</td>\n",
              "      <td>12.0</td>\n",
              "      <td>There are severe sunburn is called sun poisoning.</td>\n",
              "    </tr>\n",
              "    <tr>\n",
              "      <th>12</th>\n",
              "      <td>EBA1415_TFHC_1_SC_ES-05947</td>\n",
              "      <td>0</td>\n",
              "      <td>13.0</td>\n",
              "      <td>Sun poisoning can lead to infection and shock.</td>\n",
              "    </tr>\n",
              "    <tr>\n",
              "      <th>13</th>\n",
              "      <td>EBA1415_TFHC_1_SC_ES-05947</td>\n",
              "      <td>0</td>\n",
              "      <td>14.0</td>\n",
              "      <td>In extreme cases, it can never cause death to ...</td>\n",
              "    </tr>\n",
              "    <tr>\n",
              "      <th>14</th>\n",
              "      <td>EBA1415_TFHC_1_SC_ES-05947</td>\n",
              "      <td>0</td>\n",
              "      <td>15.0</td>\n",
              "      <td>That would be sunburn.</td>\n",
              "    </tr>\n",
              "    <tr>\n",
              "      <th>15</th>\n",
              "      <td>EBA1415_TFHC_1_SC_ES-05947</td>\n",
              "      <td>0</td>\n",
              "      <td>16.0</td>\n",
              "      <td>That would be all about your body and about th...</td>\n",
              "    </tr>\n",
              "    <tr>\n",
              "      <th>16</th>\n",
              "      <td>EBA1415_TFHC_1_SC_ES-05947</td>\n",
              "      <td>0</td>\n",
              "      <td>17.0</td>\n",
              "      <td>But there are many things that can happen to y...</td>\n",
              "    </tr>\n",
              "    <tr>\n",
              "      <th>17</th>\n",
              "      <td>EBA1415_TFHC_1_SC_ES-05947</td>\n",
              "      <td>0</td>\n",
              "      <td>18.0</td>\n",
              "      <td>I do have a question what can skin cance reall...</td>\n",
              "    </tr>\n",
              "    <tr>\n",
              "      <th>18</th>\n",
              "      <td>EBA1415_TFHC_1_SC_ES-05947</td>\n",
              "      <td>0</td>\n",
              "      <td>19.0</td>\n",
              "      <td>That is all I will say about Skin's and Sunlig...</td>\n",
              "    </tr>\n",
              "    <tr>\n",
              "      <th>19</th>\n",
              "      <td>EBA1415_SDMK_6_SC_ES-06292</td>\n",
              "      <td>0</td>\n",
              "      <td>20.0</td>\n",
              "      <td>Every person is at some risk of developing ski...</td>\n",
              "    </tr>\n",
              "    <tr>\n",
              "      <th>20</th>\n",
              "      <td>EBA1415_SDMK_6_SC_ES-06292</td>\n",
              "      <td>0</td>\n",
              "      <td>21.0</td>\n",
              "      <td>In the U.S. skin cancer is the most common for...</td>\n",
              "    </tr>\n",
              "    <tr>\n",
              "      <th>21</th>\n",
              "      <td>EBA1415_SDMK_6_SC_ES-06292</td>\n",
              "      <td>0</td>\n",
              "      <td>22.0</td>\n",
              "      <td>There are three main types of skin cancer: bas...</td>\n",
              "    </tr>\n",
              "    <tr>\n",
              "      <th>22</th>\n",
              "      <td>EBA1415_SDMK_6_SC_ES-06292</td>\n",
              "      <td>0</td>\n",
              "      <td>23.0</td>\n",
              "      <td>Squamous cell carcinomas and basal make up 95%...</td>\n",
              "    </tr>\n",
              "    <tr>\n",
              "      <th>23</th>\n",
              "      <td>EBA1415_SDMK_6_SC_ES-06292</td>\n",
              "      <td>0</td>\n",
              "      <td>24.0</td>\n",
              "      <td>Malignant melanoma occurs in the other 5% but ...</td>\n",
              "    </tr>\n",
              "    <tr>\n",
              "      <th>24</th>\n",
              "      <td>EBA1415_SDMK_6_SC_ES-06292</td>\n",
              "      <td>1</td>\n",
              "      <td>25.0</td>\n",
              "      <td>Where you are located can tell how much of a r...</td>\n",
              "    </tr>\n",
              "  </tbody>\n",
              "</table>\n",
              "</div>"
            ],
            "text/plain": [
              "                         essay  ...                                           sentence\n",
              "0   EBA1415_TFHC_1_SC_ES-05947  ...  This essay is about skin damage, latitude and ...\n",
              "1   EBA1415_TFHC_1_SC_ES-05947  ...  The skin damage is on our bodies that have num...\n",
              "2   EBA1415_TFHC_1_SC_ES-05947  ...  There are three main varieties of skin cancer ...\n",
              "3   EBA1415_TFHC_1_SC_ES-05947  ...                 That would be what skin damage is.\n",
              "4   EBA1415_TFHC_1_SC_ES-05947  ...  Latitude and direct sunlight would be the cols...\n",
              "5   EBA1415_TFHC_1_SC_ES-05947  ...  The most yearound direct sunlight occurs betwe...\n",
              "6   EBA1415_TFHC_1_SC_ES-05947  ...        That would be latitude and direct sunlight.\n",
              "7   EBA1415_TFHC_1_SC_ES-05947  ...  Your skin protects you is that it acts as a wa...\n",
              "8   EBA1415_TFHC_1_SC_ES-05947  ...  Your skin does have some denses against solar ...\n",
              "9   EBA1415_TFHC_1_SC_ES-05947  ...              That would be your skin protects you.\n",
              "10  EBA1415_TFHC_1_SC_ES-05947  ...  Sunburn can happen when the body directs blood...\n",
              "11  EBA1415_TFHC_1_SC_ES-05947  ...  There are severe sunburn is called sun poisoning.\n",
              "12  EBA1415_TFHC_1_SC_ES-05947  ...     Sun poisoning can lead to infection and shock.\n",
              "13  EBA1415_TFHC_1_SC_ES-05947  ...  In extreme cases, it can never cause death to ...\n",
              "14  EBA1415_TFHC_1_SC_ES-05947  ...                             That would be sunburn.\n",
              "15  EBA1415_TFHC_1_SC_ES-05947  ...  That would be all about your body and about th...\n",
              "16  EBA1415_TFHC_1_SC_ES-05947  ...  But there are many things that can happen to y...\n",
              "17  EBA1415_TFHC_1_SC_ES-05947  ...  I do have a question what can skin cance reall...\n",
              "18  EBA1415_TFHC_1_SC_ES-05947  ...  That is all I will say about Skin's and Sunlig...\n",
              "19  EBA1415_SDMK_6_SC_ES-06292  ...  Every person is at some risk of developing ski...\n",
              "20  EBA1415_SDMK_6_SC_ES-06292  ...  In the U.S. skin cancer is the most common for...\n",
              "21  EBA1415_SDMK_6_SC_ES-06292  ...  There are three main types of skin cancer: bas...\n",
              "22  EBA1415_SDMK_6_SC_ES-06292  ...  Squamous cell carcinomas and basal make up 95%...\n",
              "23  EBA1415_SDMK_6_SC_ES-06292  ...  Malignant melanoma occurs in the other 5% but ...\n",
              "24  EBA1415_SDMK_6_SC_ES-06292  ...  Where you are located can tell how much of a r...\n",
              "\n",
              "[25 rows x 4 columns]"
            ]
          },
          "metadata": {
            "tags": []
          },
          "execution_count": 6
        }
      ]
    },
    {
      "cell_type": "markdown",
      "metadata": {
        "id": "BYx1K7po088X"
      },
      "source": [
        "Let's take a look at the class breakdown."
      ]
    },
    {
      "cell_type": "code",
      "metadata": {
        "id": "Bo5Zacna0_bF",
        "outputId": "8e34c36d-05ac-47c2-eaf0-c1fae086d174",
        "colab": {
          "base_uri": "https://localhost:8080/",
          "height": 85
        }
      },
      "source": [
        "df_ternary[\"relation\"].value_counts()\n"
      ],
      "execution_count": 7,
      "outputs": [
        {
          "output_type": "execute_result",
          "data": {
            "text/plain": [
              "0    4600\n",
              "1    3673\n",
              "2     195\n",
              "Name: relation, dtype: int64"
            ]
          },
          "metadata": {
            "tags": []
          },
          "execution_count": 7
        }
      ]
    },
    {
      "cell_type": "markdown",
      "metadata": {
        "id": "NlaxtpXCJOsD"
      },
      "source": [
        "Data is prepped and cleaned at this point. Next is implementation."
      ]
    },
    {
      "cell_type": "markdown",
      "metadata": {
        "id": "IcLd8RGsKMDp"
      },
      "source": [
        "Make sure PyTorch is installed - will use with Hugging Face Transformers"
      ]
    },
    {
      "cell_type": "code",
      "metadata": {
        "id": "5F-hxvOQKEXU",
        "outputId": "4631a246-f583-4e1a-f001-486e269f7fd2",
        "colab": {
          "base_uri": "https://localhost:8080/",
          "height": 343
        }
      },
      "source": [
        "!pip install pytorch-pretrained-bert pytorch-nlp\n",
        "import torch"
      ],
      "execution_count": 8,
      "outputs": [
        {
          "output_type": "stream",
          "text": [
            "Requirement already satisfied: pytorch-pretrained-bert in /usr/local/lib/python3.6/dist-packages (0.6.2)\n",
            "Requirement already satisfied: pytorch-nlp in /usr/local/lib/python3.6/dist-packages (0.5.0)\n",
            "Requirement already satisfied: torch>=0.4.1 in /usr/local/lib/python3.6/dist-packages (from pytorch-pretrained-bert) (1.6.0+cu101)\n",
            "Requirement already satisfied: requests in /usr/local/lib/python3.6/dist-packages (from pytorch-pretrained-bert) (2.23.0)\n",
            "Requirement already satisfied: numpy in /usr/local/lib/python3.6/dist-packages (from pytorch-pretrained-bert) (1.18.5)\n",
            "Requirement already satisfied: tqdm in /usr/local/lib/python3.6/dist-packages (from pytorch-pretrained-bert) (4.41.1)\n",
            "Requirement already satisfied: boto3 in /usr/local/lib/python3.6/dist-packages (from pytorch-pretrained-bert) (1.15.11)\n",
            "Requirement already satisfied: regex in /usr/local/lib/python3.6/dist-packages (from pytorch-pretrained-bert) (2019.12.20)\n",
            "Requirement already satisfied: future in /usr/local/lib/python3.6/dist-packages (from torch>=0.4.1->pytorch-pretrained-bert) (0.16.0)\n",
            "Requirement already satisfied: urllib3!=1.25.0,!=1.25.1,<1.26,>=1.21.1 in /usr/local/lib/python3.6/dist-packages (from requests->pytorch-pretrained-bert) (1.24.3)\n",
            "Requirement already satisfied: chardet<4,>=3.0.2 in /usr/local/lib/python3.6/dist-packages (from requests->pytorch-pretrained-bert) (3.0.4)\n",
            "Requirement already satisfied: certifi>=2017.4.17 in /usr/local/lib/python3.6/dist-packages (from requests->pytorch-pretrained-bert) (2020.6.20)\n",
            "Requirement already satisfied: idna<3,>=2.5 in /usr/local/lib/python3.6/dist-packages (from requests->pytorch-pretrained-bert) (2.10)\n",
            "Requirement already satisfied: jmespath<1.0.0,>=0.7.1 in /usr/local/lib/python3.6/dist-packages (from boto3->pytorch-pretrained-bert) (0.10.0)\n",
            "Requirement already satisfied: s3transfer<0.4.0,>=0.3.0 in /usr/local/lib/python3.6/dist-packages (from boto3->pytorch-pretrained-bert) (0.3.3)\n",
            "Requirement already satisfied: botocore<1.19.0,>=1.18.11 in /usr/local/lib/python3.6/dist-packages (from boto3->pytorch-pretrained-bert) (1.18.11)\n",
            "Requirement already satisfied: python-dateutil<3.0.0,>=2.1 in /usr/local/lib/python3.6/dist-packages (from botocore<1.19.0,>=1.18.11->boto3->pytorch-pretrained-bert) (2.8.1)\n",
            "Requirement already satisfied: six>=1.5 in /usr/local/lib/python3.6/dist-packages (from python-dateutil<3.0.0,>=2.1->botocore<1.19.0,>=1.18.11->boto3->pytorch-pretrained-bert) (1.15.0)\n"
          ],
          "name": "stdout"
        }
      ]
    },
    {
      "cell_type": "markdown",
      "metadata": {
        "id": "B_1Hz8o0Kfxf"
      },
      "source": [
        "Set up GPU."
      ]
    },
    {
      "cell_type": "code",
      "metadata": {
        "id": "jlm1ouSfB2SF",
        "outputId": "b92aa06e-05c9-4fdd-bb12-4e75d44b9bcf",
        "colab": {
          "base_uri": "https://localhost:8080/",
          "height": 69
        }
      },
      "source": [
        "# Colab currenly defaults to TensorFlow 1.15, but we need 2.0 or greater\n",
        "\n",
        "%tensorflow_version 2.x\n",
        "import tensorflow as tf\n",
        "print(tf.__version__)\n",
        "\n",
        "device_name = tf.test.gpu_device_name()\n",
        "if device_name != '/device:GPU:0':\n",
        "  raise SystemError('GPU device not found')\n",
        "print('Found GPU at: {}'.format(device_name))\n",
        "\n",
        "device = torch.device(\"cuda\" if torch.cuda.is_available() else \"cpu\")\n",
        "n_gpu = torch.cuda.device_count()\n",
        "torch.cuda.get_device_name(0)"
      ],
      "execution_count": 9,
      "outputs": [
        {
          "output_type": "stream",
          "text": [
            "2.3.0\n",
            "Found GPU at: /device:GPU:0\n"
          ],
          "name": "stdout"
        },
        {
          "output_type": "execute_result",
          "data": {
            "application/vnd.google.colaboratory.intrinsic+json": {
              "type": "string"
            },
            "text/plain": [
              "'Tesla P100-PCIE-16GB'"
            ]
          },
          "metadata": {
            "tags": []
          },
          "execution_count": 9
        }
      ]
    },
    {
      "cell_type": "markdown",
      "metadata": {
        "id": "URhQvinCK2Ql"
      },
      "source": [
        "Extract sentences and labels from DataFrame. Must also add special [CLS] and [SEP] tokens for BERT."
      ]
    },
    {
      "cell_type": "code",
      "metadata": {
        "id": "zpdHxLWxK582"
      },
      "source": [
        "sentences = df_ternary.sentence.values\n",
        "sentences = [\"[CLS] \" + sentence + \" [SEP]\" for sentence in sentences]\n",
        "\n",
        "labels = df_ternary.relation.values"
      ],
      "execution_count": 10,
      "outputs": []
    },
    {
      "cell_type": "markdown",
      "metadata": {
        "id": "tcOIwLrnNlX_"
      },
      "source": [
        "Tokenize sentences for BERT."
      ]
    },
    {
      "cell_type": "code",
      "metadata": {
        "id": "OExIMOaGNmvn",
        "outputId": "d44c718c-eb17-4858-e446-d08918c2ae83",
        "colab": {
          "base_uri": "https://localhost:8080/",
          "height": 54
        }
      },
      "source": [
        "from pytorch_pretrained_bert import BertTokenizer\n",
        "\n",
        "tokenizer = BertTokenizer.from_pretrained('bert-base-uncased', do_lower_case=True)\n",
        "tokenized_texts = [tokenizer.tokenize(sent) for sent in sentences]\n",
        "print (\"First sentence tokenized: \",tokenized_texts[0])"
      ],
      "execution_count": 11,
      "outputs": [
        {
          "output_type": "stream",
          "text": [
            "First sentence tokenized:  ['[CLS]', 'this', 'essay', 'is', 'about', 'skin', 'damage', ',', 'latitude', 'and', 'direct', 'sunlight', ',', 'skin', 'cancer', 'and', 'latitude', ',', 'your', 'skin', 'protects', 'you', 'and', 'about', 'sun', '##burn', '##s', '.', '[SEP]']\n"
          ],
          "name": "stdout"
        }
      ]
    },
    {
      "cell_type": "markdown",
      "metadata": {
        "id": "rnmI0gzNN3Vq"
      },
      "source": [
        "For each tokenized input sentence, we need to create:\n",
        "\n",
        "1. input ids:\n",
        "    a sequence of integers identifying each input token to its index number \n",
        "    in the BERT tokenizer vocabulary\n",
        "\n",
        "2. segment mask: (optional) a sequence of 1s and 0s used to identify whether the input is one \n",
        "    sentence or two sentences long. For one sentence inputs, this is simply a sequence of 0s. \n",
        "    For two sentence inputs, there is a 0 for each token of the first sentence, followed by a \n",
        "    1 for each token of the second sentence\n",
        "\n",
        "3. attention mask: (optional) \n",
        "    a sequence of 1s and 0s, with 1s for all input tokens and 0s for all padding tokens \n",
        "\n",
        "4. labels: based on the labels from the data set\n",
        "\n",
        "Additionally, we will get rid of the sentences greater than MAX_LEN."
      ]
    },
    {
      "cell_type": "code",
      "metadata": {
        "id": "Ugn41x7EN4pR",
        "outputId": "ecd58bcd-93f2-491a-846a-30d2642de4d4",
        "colab": {
          "base_uri": "https://localhost:8080/",
          "height": 34
        }
      },
      "source": [
        "MAX_LEN = 128\n",
        "\n",
        "original_length = len(tokenized_texts)\n",
        "\n",
        "labels = [labels[i] for i in range(len(tokenized_texts)) if len(tokenized_texts[i]) <= MAX_LEN]\n",
        "tokenized_texts = [tokenized_texts[i] for i in range(len(tokenized_texts)) if len(tokenized_texts[i]) <= MAX_LEN]\n",
        "print(\"Removed {0} sentences greater than {1}\".format(original_length - len(tokenized_texts),MAX_LEN))\n"
      ],
      "execution_count": 12,
      "outputs": [
        {
          "output_type": "stream",
          "text": [
            "Removed 10 sentences greater than 128\n"
          ],
          "name": "stdout"
        }
      ]
    },
    {
      "cell_type": "markdown",
      "metadata": {
        "id": "EHuInneMOJjZ"
      },
      "source": [
        "Convert BERT tokens to corresponding ID numbers in BERT vocabulary.\n",
        "After conversion, pad the sequences."
      ]
    },
    {
      "cell_type": "code",
      "metadata": {
        "id": "GIAxr7uHONoj"
      },
      "source": [
        "from keras.preprocessing.sequence import pad_sequences\n",
        "\n",
        "input_ids = [tokenizer.convert_tokens_to_ids(x) for x in tokenized_texts]\n",
        "input_ids = pad_sequences(input_ids, maxlen=MAX_LEN, dtype=\"long\", truncating=\"post\", padding=\"post\")"
      ],
      "execution_count": 13,
      "outputs": []
    },
    {
      "cell_type": "markdown",
      "metadata": {
        "id": "-3kqp7kuPSdu"
      },
      "source": [
        "Create attention masks."
      ]
    },
    {
      "cell_type": "code",
      "metadata": {
        "id": "jQoscnkCPG3x"
      },
      "source": [
        "attention_masks = []\n",
        "\n",
        "for seq in input_ids:\n",
        "  seq_mask = [float(i>0) for i in seq]\n",
        "  attention_masks.append(seq_mask)"
      ],
      "execution_count": 14,
      "outputs": []
    },
    {
      "cell_type": "markdown",
      "metadata": {
        "id": "1Pb-muSYO1Nv"
      },
      "source": [
        "Split data into train, validation, test."
      ]
    },
    {
      "cell_type": "code",
      "metadata": {
        "id": "Hcbb-2F-O3Da"
      },
      "source": [
        "from sklearn.model_selection import train_test_split\n",
        "\n",
        "train_inputs, validation_inputs, train_labels, validation_labels = train_test_split(input_ids, labels, \n",
        "                                                            random_state=2018, test_size=0.1)\n",
        "train_masks, validation_masks, _, _ = train_test_split(attention_masks, input_ids,\n",
        "                                             random_state=2018, test_size=0.1)"
      ],
      "execution_count": 15,
      "outputs": []
    },
    {
      "cell_type": "markdown",
      "metadata": {
        "id": "4joL_R9rPjNE"
      },
      "source": [
        "Convert sets into Torch tensors."
      ]
    },
    {
      "cell_type": "code",
      "metadata": {
        "id": "Nl-2-b_oPlJ7"
      },
      "source": [
        "train_inputs = torch.tensor(train_inputs)\n",
        "validation_inputs = torch.tensor(validation_inputs)\n",
        "train_labels = torch.tensor(train_labels)\n",
        "validation_labels = torch.tensor(validation_labels)\n",
        "train_masks = torch.tensor(train_masks)\n",
        "validation_masks = torch.tensor(validation_masks)"
      ],
      "execution_count": 16,
      "outputs": []
    },
    {
      "cell_type": "markdown",
      "metadata": {
        "id": "lxaO7WoRPqMq"
      },
      "source": [
        "Create an iterator of our data with torch DataLoader. This helps save on memory during training because, unlike a for loop, \n",
        "the entire dataset does not need to be loaded into memory."
      ]
    },
    {
      "cell_type": "code",
      "metadata": {
        "id": "hBbQRbq-PxMt"
      },
      "source": [
        "BATCH_SIZE = 32\n",
        "\n",
        "from torch.utils.data import TensorDataset, DataLoader, RandomSampler, SequentialSampler\n",
        "\n",
        "train_data = TensorDataset(train_inputs, train_masks, train_labels)\n",
        "train_sampler = RandomSampler(train_data)\n",
        "train_dataloader = DataLoader(train_data, sampler=train_sampler, batch_size=BATCH_SIZE)\n",
        "\n",
        "validation_data = TensorDataset(validation_inputs, validation_masks, validation_labels)\n",
        "validation_sampler = SequentialSampler(validation_data)\n",
        "validation_dataloader = DataLoader(validation_data, sampler=validation_sampler, batch_size=BATCH_SIZE)"
      ],
      "execution_count": 17,
      "outputs": []
    },
    {
      "cell_type": "markdown",
      "metadata": {
        "id": "Zyd5a3FmQqSb"
      },
      "source": [
        "Create model."
      ]
    },
    {
      "cell_type": "code",
      "metadata": {
        "id": "T9tTfNw-Qpsa",
        "outputId": "c224be8f-bb0c-4623-bf67-5170bfcb619b",
        "colab": {
          "base_uri": "https://localhost:8080/",
          "height": 1000
        }
      },
      "source": [
        "from pytorch_pretrained_bert import BertAdam, BertForSequenceClassification\n",
        "model = BertForSequenceClassification.from_pretrained(\"bert-base-uncased\", num_labels=len(labels))\n",
        "model.cuda()"
      ],
      "execution_count": 18,
      "outputs": [
        {
          "output_type": "execute_result",
          "data": {
            "text/plain": [
              "BertForSequenceClassification(\n",
              "  (bert): BertModel(\n",
              "    (embeddings): BertEmbeddings(\n",
              "      (word_embeddings): Embedding(30522, 768, padding_idx=0)\n",
              "      (position_embeddings): Embedding(512, 768)\n",
              "      (token_type_embeddings): Embedding(2, 768)\n",
              "      (LayerNorm): BertLayerNorm()\n",
              "      (dropout): Dropout(p=0.1, inplace=False)\n",
              "    )\n",
              "    (encoder): BertEncoder(\n",
              "      (layer): ModuleList(\n",
              "        (0): BertLayer(\n",
              "          (attention): BertAttention(\n",
              "            (self): BertSelfAttention(\n",
              "              (query): Linear(in_features=768, out_features=768, bias=True)\n",
              "              (key): Linear(in_features=768, out_features=768, bias=True)\n",
              "              (value): Linear(in_features=768, out_features=768, bias=True)\n",
              "              (dropout): Dropout(p=0.1, inplace=False)\n",
              "            )\n",
              "            (output): BertSelfOutput(\n",
              "              (dense): Linear(in_features=768, out_features=768, bias=True)\n",
              "              (LayerNorm): BertLayerNorm()\n",
              "              (dropout): Dropout(p=0.1, inplace=False)\n",
              "            )\n",
              "          )\n",
              "          (intermediate): BertIntermediate(\n",
              "            (dense): Linear(in_features=768, out_features=3072, bias=True)\n",
              "          )\n",
              "          (output): BertOutput(\n",
              "            (dense): Linear(in_features=3072, out_features=768, bias=True)\n",
              "            (LayerNorm): BertLayerNorm()\n",
              "            (dropout): Dropout(p=0.1, inplace=False)\n",
              "          )\n",
              "        )\n",
              "        (1): BertLayer(\n",
              "          (attention): BertAttention(\n",
              "            (self): BertSelfAttention(\n",
              "              (query): Linear(in_features=768, out_features=768, bias=True)\n",
              "              (key): Linear(in_features=768, out_features=768, bias=True)\n",
              "              (value): Linear(in_features=768, out_features=768, bias=True)\n",
              "              (dropout): Dropout(p=0.1, inplace=False)\n",
              "            )\n",
              "            (output): BertSelfOutput(\n",
              "              (dense): Linear(in_features=768, out_features=768, bias=True)\n",
              "              (LayerNorm): BertLayerNorm()\n",
              "              (dropout): Dropout(p=0.1, inplace=False)\n",
              "            )\n",
              "          )\n",
              "          (intermediate): BertIntermediate(\n",
              "            (dense): Linear(in_features=768, out_features=3072, bias=True)\n",
              "          )\n",
              "          (output): BertOutput(\n",
              "            (dense): Linear(in_features=3072, out_features=768, bias=True)\n",
              "            (LayerNorm): BertLayerNorm()\n",
              "            (dropout): Dropout(p=0.1, inplace=False)\n",
              "          )\n",
              "        )\n",
              "        (2): BertLayer(\n",
              "          (attention): BertAttention(\n",
              "            (self): BertSelfAttention(\n",
              "              (query): Linear(in_features=768, out_features=768, bias=True)\n",
              "              (key): Linear(in_features=768, out_features=768, bias=True)\n",
              "              (value): Linear(in_features=768, out_features=768, bias=True)\n",
              "              (dropout): Dropout(p=0.1, inplace=False)\n",
              "            )\n",
              "            (output): BertSelfOutput(\n",
              "              (dense): Linear(in_features=768, out_features=768, bias=True)\n",
              "              (LayerNorm): BertLayerNorm()\n",
              "              (dropout): Dropout(p=0.1, inplace=False)\n",
              "            )\n",
              "          )\n",
              "          (intermediate): BertIntermediate(\n",
              "            (dense): Linear(in_features=768, out_features=3072, bias=True)\n",
              "          )\n",
              "          (output): BertOutput(\n",
              "            (dense): Linear(in_features=3072, out_features=768, bias=True)\n",
              "            (LayerNorm): BertLayerNorm()\n",
              "            (dropout): Dropout(p=0.1, inplace=False)\n",
              "          )\n",
              "        )\n",
              "        (3): BertLayer(\n",
              "          (attention): BertAttention(\n",
              "            (self): BertSelfAttention(\n",
              "              (query): Linear(in_features=768, out_features=768, bias=True)\n",
              "              (key): Linear(in_features=768, out_features=768, bias=True)\n",
              "              (value): Linear(in_features=768, out_features=768, bias=True)\n",
              "              (dropout): Dropout(p=0.1, inplace=False)\n",
              "            )\n",
              "            (output): BertSelfOutput(\n",
              "              (dense): Linear(in_features=768, out_features=768, bias=True)\n",
              "              (LayerNorm): BertLayerNorm()\n",
              "              (dropout): Dropout(p=0.1, inplace=False)\n",
              "            )\n",
              "          )\n",
              "          (intermediate): BertIntermediate(\n",
              "            (dense): Linear(in_features=768, out_features=3072, bias=True)\n",
              "          )\n",
              "          (output): BertOutput(\n",
              "            (dense): Linear(in_features=3072, out_features=768, bias=True)\n",
              "            (LayerNorm): BertLayerNorm()\n",
              "            (dropout): Dropout(p=0.1, inplace=False)\n",
              "          )\n",
              "        )\n",
              "        (4): BertLayer(\n",
              "          (attention): BertAttention(\n",
              "            (self): BertSelfAttention(\n",
              "              (query): Linear(in_features=768, out_features=768, bias=True)\n",
              "              (key): Linear(in_features=768, out_features=768, bias=True)\n",
              "              (value): Linear(in_features=768, out_features=768, bias=True)\n",
              "              (dropout): Dropout(p=0.1, inplace=False)\n",
              "            )\n",
              "            (output): BertSelfOutput(\n",
              "              (dense): Linear(in_features=768, out_features=768, bias=True)\n",
              "              (LayerNorm): BertLayerNorm()\n",
              "              (dropout): Dropout(p=0.1, inplace=False)\n",
              "            )\n",
              "          )\n",
              "          (intermediate): BertIntermediate(\n",
              "            (dense): Linear(in_features=768, out_features=3072, bias=True)\n",
              "          )\n",
              "          (output): BertOutput(\n",
              "            (dense): Linear(in_features=3072, out_features=768, bias=True)\n",
              "            (LayerNorm): BertLayerNorm()\n",
              "            (dropout): Dropout(p=0.1, inplace=False)\n",
              "          )\n",
              "        )\n",
              "        (5): BertLayer(\n",
              "          (attention): BertAttention(\n",
              "            (self): BertSelfAttention(\n",
              "              (query): Linear(in_features=768, out_features=768, bias=True)\n",
              "              (key): Linear(in_features=768, out_features=768, bias=True)\n",
              "              (value): Linear(in_features=768, out_features=768, bias=True)\n",
              "              (dropout): Dropout(p=0.1, inplace=False)\n",
              "            )\n",
              "            (output): BertSelfOutput(\n",
              "              (dense): Linear(in_features=768, out_features=768, bias=True)\n",
              "              (LayerNorm): BertLayerNorm()\n",
              "              (dropout): Dropout(p=0.1, inplace=False)\n",
              "            )\n",
              "          )\n",
              "          (intermediate): BertIntermediate(\n",
              "            (dense): Linear(in_features=768, out_features=3072, bias=True)\n",
              "          )\n",
              "          (output): BertOutput(\n",
              "            (dense): Linear(in_features=3072, out_features=768, bias=True)\n",
              "            (LayerNorm): BertLayerNorm()\n",
              "            (dropout): Dropout(p=0.1, inplace=False)\n",
              "          )\n",
              "        )\n",
              "        (6): BertLayer(\n",
              "          (attention): BertAttention(\n",
              "            (self): BertSelfAttention(\n",
              "              (query): Linear(in_features=768, out_features=768, bias=True)\n",
              "              (key): Linear(in_features=768, out_features=768, bias=True)\n",
              "              (value): Linear(in_features=768, out_features=768, bias=True)\n",
              "              (dropout): Dropout(p=0.1, inplace=False)\n",
              "            )\n",
              "            (output): BertSelfOutput(\n",
              "              (dense): Linear(in_features=768, out_features=768, bias=True)\n",
              "              (LayerNorm): BertLayerNorm()\n",
              "              (dropout): Dropout(p=0.1, inplace=False)\n",
              "            )\n",
              "          )\n",
              "          (intermediate): BertIntermediate(\n",
              "            (dense): Linear(in_features=768, out_features=3072, bias=True)\n",
              "          )\n",
              "          (output): BertOutput(\n",
              "            (dense): Linear(in_features=3072, out_features=768, bias=True)\n",
              "            (LayerNorm): BertLayerNorm()\n",
              "            (dropout): Dropout(p=0.1, inplace=False)\n",
              "          )\n",
              "        )\n",
              "        (7): BertLayer(\n",
              "          (attention): BertAttention(\n",
              "            (self): BertSelfAttention(\n",
              "              (query): Linear(in_features=768, out_features=768, bias=True)\n",
              "              (key): Linear(in_features=768, out_features=768, bias=True)\n",
              "              (value): Linear(in_features=768, out_features=768, bias=True)\n",
              "              (dropout): Dropout(p=0.1, inplace=False)\n",
              "            )\n",
              "            (output): BertSelfOutput(\n",
              "              (dense): Linear(in_features=768, out_features=768, bias=True)\n",
              "              (LayerNorm): BertLayerNorm()\n",
              "              (dropout): Dropout(p=0.1, inplace=False)\n",
              "            )\n",
              "          )\n",
              "          (intermediate): BertIntermediate(\n",
              "            (dense): Linear(in_features=768, out_features=3072, bias=True)\n",
              "          )\n",
              "          (output): BertOutput(\n",
              "            (dense): Linear(in_features=3072, out_features=768, bias=True)\n",
              "            (LayerNorm): BertLayerNorm()\n",
              "            (dropout): Dropout(p=0.1, inplace=False)\n",
              "          )\n",
              "        )\n",
              "        (8): BertLayer(\n",
              "          (attention): BertAttention(\n",
              "            (self): BertSelfAttention(\n",
              "              (query): Linear(in_features=768, out_features=768, bias=True)\n",
              "              (key): Linear(in_features=768, out_features=768, bias=True)\n",
              "              (value): Linear(in_features=768, out_features=768, bias=True)\n",
              "              (dropout): Dropout(p=0.1, inplace=False)\n",
              "            )\n",
              "            (output): BertSelfOutput(\n",
              "              (dense): Linear(in_features=768, out_features=768, bias=True)\n",
              "              (LayerNorm): BertLayerNorm()\n",
              "              (dropout): Dropout(p=0.1, inplace=False)\n",
              "            )\n",
              "          )\n",
              "          (intermediate): BertIntermediate(\n",
              "            (dense): Linear(in_features=768, out_features=3072, bias=True)\n",
              "          )\n",
              "          (output): BertOutput(\n",
              "            (dense): Linear(in_features=3072, out_features=768, bias=True)\n",
              "            (LayerNorm): BertLayerNorm()\n",
              "            (dropout): Dropout(p=0.1, inplace=False)\n",
              "          )\n",
              "        )\n",
              "        (9): BertLayer(\n",
              "          (attention): BertAttention(\n",
              "            (self): BertSelfAttention(\n",
              "              (query): Linear(in_features=768, out_features=768, bias=True)\n",
              "              (key): Linear(in_features=768, out_features=768, bias=True)\n",
              "              (value): Linear(in_features=768, out_features=768, bias=True)\n",
              "              (dropout): Dropout(p=0.1, inplace=False)\n",
              "            )\n",
              "            (output): BertSelfOutput(\n",
              "              (dense): Linear(in_features=768, out_features=768, bias=True)\n",
              "              (LayerNorm): BertLayerNorm()\n",
              "              (dropout): Dropout(p=0.1, inplace=False)\n",
              "            )\n",
              "          )\n",
              "          (intermediate): BertIntermediate(\n",
              "            (dense): Linear(in_features=768, out_features=3072, bias=True)\n",
              "          )\n",
              "          (output): BertOutput(\n",
              "            (dense): Linear(in_features=3072, out_features=768, bias=True)\n",
              "            (LayerNorm): BertLayerNorm()\n",
              "            (dropout): Dropout(p=0.1, inplace=False)\n",
              "          )\n",
              "        )\n",
              "        (10): BertLayer(\n",
              "          (attention): BertAttention(\n",
              "            (self): BertSelfAttention(\n",
              "              (query): Linear(in_features=768, out_features=768, bias=True)\n",
              "              (key): Linear(in_features=768, out_features=768, bias=True)\n",
              "              (value): Linear(in_features=768, out_features=768, bias=True)\n",
              "              (dropout): Dropout(p=0.1, inplace=False)\n",
              "            )\n",
              "            (output): BertSelfOutput(\n",
              "              (dense): Linear(in_features=768, out_features=768, bias=True)\n",
              "              (LayerNorm): BertLayerNorm()\n",
              "              (dropout): Dropout(p=0.1, inplace=False)\n",
              "            )\n",
              "          )\n",
              "          (intermediate): BertIntermediate(\n",
              "            (dense): Linear(in_features=768, out_features=3072, bias=True)\n",
              "          )\n",
              "          (output): BertOutput(\n",
              "            (dense): Linear(in_features=3072, out_features=768, bias=True)\n",
              "            (LayerNorm): BertLayerNorm()\n",
              "            (dropout): Dropout(p=0.1, inplace=False)\n",
              "          )\n",
              "        )\n",
              "        (11): BertLayer(\n",
              "          (attention): BertAttention(\n",
              "            (self): BertSelfAttention(\n",
              "              (query): Linear(in_features=768, out_features=768, bias=True)\n",
              "              (key): Linear(in_features=768, out_features=768, bias=True)\n",
              "              (value): Linear(in_features=768, out_features=768, bias=True)\n",
              "              (dropout): Dropout(p=0.1, inplace=False)\n",
              "            )\n",
              "            (output): BertSelfOutput(\n",
              "              (dense): Linear(in_features=768, out_features=768, bias=True)\n",
              "              (LayerNorm): BertLayerNorm()\n",
              "              (dropout): Dropout(p=0.1, inplace=False)\n",
              "            )\n",
              "          )\n",
              "          (intermediate): BertIntermediate(\n",
              "            (dense): Linear(in_features=768, out_features=3072, bias=True)\n",
              "          )\n",
              "          (output): BertOutput(\n",
              "            (dense): Linear(in_features=3072, out_features=768, bias=True)\n",
              "            (LayerNorm): BertLayerNorm()\n",
              "            (dropout): Dropout(p=0.1, inplace=False)\n",
              "          )\n",
              "        )\n",
              "      )\n",
              "    )\n",
              "    (pooler): BertPooler(\n",
              "      (dense): Linear(in_features=768, out_features=768, bias=True)\n",
              "      (activation): Tanh()\n",
              "    )\n",
              "  )\n",
              "  (dropout): Dropout(p=0.1, inplace=False)\n",
              "  (classifier): Linear(in_features=768, out_features=8458, bias=True)\n",
              ")"
            ]
          },
          "metadata": {
            "tags": []
          },
          "execution_count": 18
        }
      ]
    },
    {
      "cell_type": "markdown",
      "metadata": {
        "id": "4vGJNoJ9Rfqd"
      },
      "source": [
        "Now that we have our model loaded we need to grab the training hyperparameters from within the stored model.\n",
        "\n",
        "For the purposes of fine-tuning, the authors recommend the following hyperparameter ranges:\n",
        "\n",
        "*   Batch size: 16, 32\n",
        "*    Learning rate (Adam): 5e-5, 3e-5, 2e-5\n",
        "*    Number of epochs: 2, 3, 4"
      ]
    },
    {
      "cell_type": "code",
      "metadata": {
        "id": "KgwH7ustRiOI",
        "outputId": "a560916e-7553-4517-bbae-d1a64f650ae2",
        "colab": {
          "base_uri": "https://localhost:8080/",
          "height": 34
        }
      },
      "source": [
        "LEARNING_RATE = 2e-5\n",
        "WARMUP = .1\n",
        "\n",
        "param_optimizer = list(model.named_parameters())\n",
        "no_decay = ['bias', 'gamma', 'beta']\n",
        "optimizer_grouped_parameters = [\n",
        "    {'params': [p for n, p in param_optimizer if not any(nd in n for nd in no_decay)],\n",
        "     'weight_decay_rate': 0.01},\n",
        "    {'params': [p for n, p in param_optimizer if any(nd in n for nd in no_decay)],\n",
        "     'weight_decay_rate': 0.0}\n",
        "]\n",
        "\n",
        "optimizer = BertAdam(optimizer_grouped_parameters,\n",
        "                     lr=LEARNING_RATE,\n",
        "                     warmup=WARMUP)"
      ],
      "execution_count": 19,
      "outputs": [
        {
          "output_type": "stream",
          "text": [
            "t_total value of -1 results in schedule not being applied\n"
          ],
          "name": "stderr"
        }
      ]
    },
    {
      "cell_type": "markdown",
      "metadata": {
        "id": "i5259TkfSK9s"
      },
      "source": [
        "Time for training."
      ]
    },
    {
      "cell_type": "code",
      "metadata": {
        "id": "HwfUmMUFSMTk",
        "outputId": "c362c807-6378-4bd0-e48a-9633e587f226",
        "colab": {
          "base_uri": "https://localhost:8080/",
          "height": 275
        }
      },
      "source": [
        "from tqdm import trange\n",
        "\n",
        "EPOCHS = 4\n",
        "\n",
        "t = [] \n",
        "\n",
        "# Store our loss and accuracy for plotting\n",
        "train_loss_set = []\n",
        "\n",
        "# Function to calculate the accuracy of our predictions vs labels\n",
        "def flat_accuracy(preds, labels):\n",
        "    pred_flat = np.argmax(preds, axis=1).flatten()\n",
        "    labels_flat = labels.flatten()\n",
        "    return np.sum(pred_flat == labels_flat) / len(labels_flat)\n",
        "\n",
        "# trange is a tqdm wrapper around the normal python range\n",
        "for _ in trange(EPOCHS, desc=\"Epoch\"):\n",
        "  \n",
        "  # Training\n",
        "  \n",
        "  # Set our model to training mode (as opposed to evaluation mode)\n",
        "  model.train()\n",
        "  \n",
        "  # Tracking variables\n",
        "  tr_loss = 0\n",
        "  nb_tr_examples, nb_tr_steps = 0, 0\n",
        "  \n",
        "  # Train the data for one epoch\n",
        "  for step, batch in enumerate(train_dataloader):\n",
        "    # Add batch to GPU\n",
        "    batch = tuple(t.to(device) for t in batch)\n",
        "    # Unpack the inputs from our dataloader\n",
        "    b_input_ids, b_input_mask, b_labels = batch\n",
        "    # Clear out the gradients (by default they accumulate)\n",
        "    optimizer.zero_grad()\n",
        "    # Forward pass\n",
        "    loss = model(b_input_ids, token_type_ids=None, attention_mask=b_input_mask, labels=b_labels)\n",
        "    train_loss_set.append(loss.item())    \n",
        "    # Backward pass\n",
        "    loss.backward()\n",
        "    # Update parameters and take a step using the computed gradient\n",
        "    optimizer.step()\n",
        "    \n",
        "    # Update tracking variables\n",
        "    tr_loss += loss.item()\n",
        "    nb_tr_examples += b_input_ids.size(0)\n",
        "    nb_tr_steps += 1\n",
        "\n",
        "  print(\"Train loss: {}\".format(tr_loss/nb_tr_steps))\n",
        "    \n",
        "    \n",
        "  # Validation\n",
        "\n",
        "  # Put model in evaluation mode to evaluate loss on the validation set\n",
        "  model.eval()\n",
        "\n",
        "  # Tracking variables \n",
        "  eval_loss, eval_accuracy = 0, 0\n",
        "  nb_eval_steps, nb_eval_examples = 0, 0\n",
        "\n",
        "  # Evaluate data for one epoch\n",
        "  for batch in validation_dataloader:\n",
        "    # Add batch to GPU\n",
        "    batch = tuple(t.to(device) for t in batch)\n",
        "    # Unpack the inputs from our dataloader\n",
        "    b_input_ids, b_input_mask, b_labels = batch\n",
        "    # Telling the model not to compute or store gradients, saving memory and speeding up validation\n",
        "    with torch.no_grad():\n",
        "      # Forward pass, calculate logit predictions\n",
        "      logits = model(b_input_ids, token_type_ids=None, attention_mask=b_input_mask)\n",
        "    \n",
        "    # Move logits and labels to CPU\n",
        "    logits = logits.detach().cpu().numpy()\n",
        "    label_ids = b_labels.to('cpu').numpy()\n",
        "\n",
        "    tmp_eval_accuracy = flat_accuracy(logits, label_ids)\n",
        "    \n",
        "    eval_accuracy += tmp_eval_accuracy\n",
        "    nb_eval_steps += 1\n",
        "\n",
        "  print(\"Validation Accuracy: {}\".format(eval_accuracy/nb_eval_steps))"
      ],
      "execution_count": 20,
      "outputs": [
        {
          "output_type": "stream",
          "text": [
            "\rEpoch:   0%|          | 0/4 [00:00<?, ?it/s]/usr/local/lib/python3.6/dist-packages/pytorch_pretrained_bert/optimization.py:275: UserWarning: This overload of add_ is deprecated:\n",
            "\tadd_(Number alpha, Tensor other)\n",
            "Consider using one of the following signatures instead:\n",
            "\tadd_(Tensor other, *, Number alpha) (Triggered internally at  /pytorch/torch/csrc/utils/python_arg_parser.cpp:766.)\n",
            "  next_m.mul_(beta1).add_(1 - beta1, grad)\n"
          ],
          "name": "stderr"
        },
        {
          "output_type": "stream",
          "text": [
            "Train loss: 0.9662361834041712\n"
          ],
          "name": "stdout"
        },
        {
          "output_type": "stream",
          "text": [
            "\rEpoch:  25%|██▌       | 1/4 [02:05<06:16, 125.65s/it]"
          ],
          "name": "stderr"
        },
        {
          "output_type": "stream",
          "text": [
            "Validation Accuracy: 0.882936507936508\n",
            "Train loss: 0.259476070910567\n"
          ],
          "name": "stdout"
        },
        {
          "output_type": "stream",
          "text": [
            "\rEpoch:  50%|█████     | 2/4 [04:10<04:11, 125.55s/it]"
          ],
          "name": "stderr"
        },
        {
          "output_type": "stream",
          "text": [
            "Validation Accuracy: 0.8994708994708994\n",
            "Train loss: 0.17644309554593401\n"
          ],
          "name": "stdout"
        },
        {
          "output_type": "stream",
          "text": [
            "\rEpoch:  75%|███████▌  | 3/4 [06:16<02:05, 125.46s/it]"
          ],
          "name": "stderr"
        },
        {
          "output_type": "stream",
          "text": [
            "Validation Accuracy: 0.9014550264550265\n",
            "Train loss: 0.1240142655457143\n"
          ],
          "name": "stdout"
        },
        {
          "output_type": "stream",
          "text": [
            "Epoch: 100%|██████████| 4/4 [08:21<00:00, 125.35s/it]"
          ],
          "name": "stderr"
        },
        {
          "output_type": "stream",
          "text": [
            "Validation Accuracy: 0.9095568783068784\n"
          ],
          "name": "stdout"
        },
        {
          "output_type": "stream",
          "text": [
            "\n"
          ],
          "name": "stderr"
        }
      ]
    },
    {
      "cell_type": "markdown",
      "metadata": {
        "id": "3QibYE0QZny6"
      },
      "source": [
        "Snapshot of loss over time."
      ]
    },
    {
      "cell_type": "code",
      "metadata": {
        "id": "JCTp25qbZr5q",
        "outputId": "aa079df3-7390-4980-937e-4267ce357535",
        "colab": {
          "base_uri": "https://localhost:8080/",
          "height": 513
        }
      },
      "source": [
        "import matplotlib.pyplot as plt\n",
        "% matplotlib inline\n",
        "\n",
        "plt.figure(figsize=(15,8))\n",
        "plt.title(\"Training loss\")\n",
        "plt.xlabel(\"Batch\")\n",
        "plt.ylabel(\"Loss\")\n",
        "plt.plot(train_loss_set)\n",
        "plt.show()"
      ],
      "execution_count": 21,
      "outputs": [
        {
          "output_type": "display_data",
          "data": {
            "image/png": "[encoded data removed]",
            "text/plain": [
              "<Figure size 1080x576 with 1 Axes>"
            ]
          },
          "metadata": {
            "tags": [],
            "needs_background": "light"
          }
        }
      ]
    },
    {
      "cell_type": "markdown",
      "metadata": {
        "id": "Pmpb0zgKES4e"
      },
      "source": [
        "Test model on testing data."
      ]
    },
    {
      "cell_type": "code",
      "metadata": {
        "id": "f7QLVJUaEXbM",
        "outputId": "1cbf23f7-34be-4e0c-b1fd-af9457f6ff70",
        "colab": {
          "base_uri": "https://localhost:8080/",
          "height": 1000
        }
      },
      "source": [
        "DATA_NAME = \"EBA1415-SkinCancer-little-sentences.tsv\"\n",
        "\n",
        "df_test = pd.read_csv(DATA_PATH + DATA_NAME, delimiter='\\t', header=0, names=['essay', 'relation', 's_num', 'sentence'])\n",
        "\n",
        "df_test.head(50)"
      ],
      "execution_count": 22,
      "outputs": [
        {
          "output_type": "execute_result",
          "data": {
            "text/html": [
              "<div>\n",
              "<style scoped>\n",
              "    .dataframe tbody tr th:only-of-type {\n",
              "        vertical-align: middle;\n",
              "    }\n",
              "\n",
              "    .dataframe tbody tr th {\n",
              "        vertical-align: top;\n",
              "    }\n",
              "\n",
              "    .dataframe thead th {\n",
              "        text-align: right;\n",
              "    }\n",
              "</style>\n",
              "<table border=\"1\" class=\"dataframe\">\n",
              "  <thead>\n",
              "    <tr style=\"text-align: right;\">\n",
              "      <th></th>\n",
              "      <th>essay</th>\n",
              "      <th>relation</th>\n",
              "      <th>s_num</th>\n",
              "      <th>sentence</th>\n",
              "    </tr>\n",
              "  </thead>\n",
              "  <tbody>\n",
              "    <tr>\n",
              "      <th>0</th>\n",
              "      <td>EBA1415_TFHC_4_SC_ES-05825</td>\n",
              "      <td>O</td>\n",
              "      <td>1.0</td>\n",
              "      <td>The lead to skin cancer differ on a few things...</td>\n",
              "    </tr>\n",
              "    <tr>\n",
              "      <th>1</th>\n",
              "      <td>EBA1415_TFHC_4_SC_ES-05825</td>\n",
              "      <td>R-1-50</td>\n",
              "      <td>2.1</td>\n",
              "      <td>Some skin cancer can be caused by the location...</td>\n",
              "    </tr>\n",
              "    <tr>\n",
              "      <th>2</th>\n",
              "      <td>EBA1415_TFHC_4_SC_ES-05825</td>\n",
              "      <td>R-1-2</td>\n",
              "      <td>2.2</td>\n",
              "      <td>Some skin cancer can be caused by the location...</td>\n",
              "    </tr>\n",
              "    <tr>\n",
              "      <th>3</th>\n",
              "      <td>EBA1415_TFHC_4_SC_ES-05825</td>\n",
              "      <td>R-1-2</td>\n",
              "      <td>3.1</td>\n",
              "      <td>The reason the sun matters is because of the d...</td>\n",
              "    </tr>\n",
              "    <tr>\n",
              "      <th>4</th>\n",
              "      <td>EBA1415_TFHC_4_SC_ES-05825</td>\n",
              "      <td>R-2-3</td>\n",
              "      <td>3.2</td>\n",
              "      <td>The reason the sun matters is because of the d...</td>\n",
              "    </tr>\n",
              "    <tr>\n",
              "      <th>5</th>\n",
              "      <td>EBA1415_TFHC_4_SC_ES-05825</td>\n",
              "      <td>R-5-50</td>\n",
              "      <td>4.0</td>\n",
              "      <td>Another cause of skin cancer is sunbrun.</td>\n",
              "    </tr>\n",
              "    <tr>\n",
              "      <th>6</th>\n",
              "      <td>EBA1415_TFHC_4_SC_ES-05825</td>\n",
              "      <td>R-5-50</td>\n",
              "      <td>5.0</td>\n",
              "      <td>While sunbrun isn't much to worie about you ca...</td>\n",
              "    </tr>\n",
              "    <tr>\n",
              "      <th>7</th>\n",
              "      <td>EBA1415_TFHC_4_SC_ES-05825</td>\n",
              "      <td>O</td>\n",
              "      <td>6.0</td>\n",
              "      <td>Didn't finished</td>\n",
              "    </tr>\n",
              "    <tr>\n",
              "      <th>8</th>\n",
              "      <td>EBA1415_WSAL_2_SC_ES-05359</td>\n",
              "      <td>R-2-50</td>\n",
              "      <td>7.1</td>\n",
              "      <td>There are two main reasons why people can deve...</td>\n",
              "    </tr>\n",
              "    <tr>\n",
              "      <th>9</th>\n",
              "      <td>EBA1415_WSAL_2_SC_ES-05359</td>\n",
              "      <td>R-3-50</td>\n",
              "      <td>7.2</td>\n",
              "      <td>There are two main reasons why people can deve...</td>\n",
              "    </tr>\n",
              "    <tr>\n",
              "      <th>10</th>\n",
              "      <td>EBA1415_WSAL_2_SC_ES-05359</td>\n",
              "      <td>R-2-50</td>\n",
              "      <td>8.1</td>\n",
              "      <td>It's from radiation and direct sunlight.</td>\n",
              "    </tr>\n",
              "    <tr>\n",
              "      <th>11</th>\n",
              "      <td>EBA1415_WSAL_2_SC_ES-05359</td>\n",
              "      <td>R-3-50</td>\n",
              "      <td>8.2</td>\n",
              "      <td>It's from radiation and direct sunlight.</td>\n",
              "    </tr>\n",
              "    <tr>\n",
              "      <th>12</th>\n",
              "      <td>EBA1415_WSAL_2_SC_ES-05359</td>\n",
              "      <td>R-2-50</td>\n",
              "      <td>9.0</td>\n",
              "      <td>Or just if you receive too much sunlight in ge...</td>\n",
              "    </tr>\n",
              "    <tr>\n",
              "      <th>13</th>\n",
              "      <td>EBA1415_WSAL_2_SC_ES-05359</td>\n",
              "      <td>R-1-2</td>\n",
              "      <td>10.0</td>\n",
              "      <td>I read that the closer you are to the Equator,...</td>\n",
              "    </tr>\n",
              "    <tr>\n",
              "      <th>14</th>\n",
              "      <td>EBA1415_WSAL_2_SC_ES-05359</td>\n",
              "      <td>R-1-50</td>\n",
              "      <td>11.0</td>\n",
              "      <td>Also, from looking at the chart, it showed tha...</td>\n",
              "    </tr>\n",
              "    <tr>\n",
              "      <th>15</th>\n",
              "      <td>EBA1415_WSAL_2_SC_ES-05359</td>\n",
              "      <td>R-3-50</td>\n",
              "      <td>12.0</td>\n",
              "      <td>Also, radiation palys a part in skin cancer an...</td>\n",
              "    </tr>\n",
              "    <tr>\n",
              "      <th>16</th>\n",
              "      <td>EBA1415_WSAL_2_SC_ES-05359</td>\n",
              "      <td>R-3-4</td>\n",
              "      <td>13.0</td>\n",
              "      <td>If you have a harmful exposure to UVb radiatio...</td>\n",
              "    </tr>\n",
              "    <tr>\n",
              "      <th>17</th>\n",
              "      <td>EBA1415_WSAL_2_SC_ES-05359</td>\n",
              "      <td>R-3-4</td>\n",
              "      <td>14.1</td>\n",
              "      <td>If the skin is getting too much radiation or s...</td>\n",
              "    </tr>\n",
              "    <tr>\n",
              "      <th>18</th>\n",
              "      <td>EBA1415_WSAL_2_SC_ES-05359</td>\n",
              "      <td>R-2-4</td>\n",
              "      <td>14.2</td>\n",
              "      <td>If the skin is getting too much radiation or s...</td>\n",
              "    </tr>\n",
              "    <tr>\n",
              "      <th>19</th>\n",
              "      <td>EBA1415_WSAL_2_SC_ES-05359</td>\n",
              "      <td>R-5-50</td>\n",
              "      <td>15.1</td>\n",
              "      <td>Sunburn plays a part in skin cancer also becau...</td>\n",
              "    </tr>\n",
              "    <tr>\n",
              "      <th>20</th>\n",
              "      <td>EBA1415_WSAL_2_SC_ES-05359</td>\n",
              "      <td>R-6-50</td>\n",
              "      <td>15.2</td>\n",
              "      <td>Sunburn plays a part in skin cancer also becau...</td>\n",
              "    </tr>\n",
              "    <tr>\n",
              "      <th>21</th>\n",
              "      <td>EBA1415_WSAL_2_SC_ES-05359</td>\n",
              "      <td>R-4-6</td>\n",
              "      <td>15.3</td>\n",
              "      <td>Sunburn plays a part in skin cancer also becau...</td>\n",
              "    </tr>\n",
              "    <tr>\n",
              "      <th>22</th>\n",
              "      <td>EBA1415_WSAL_2_SC_ES-05359</td>\n",
              "      <td>R-6-50</td>\n",
              "      <td>16.0</td>\n",
              "      <td>Also, if the damaged skin cells aren't replace...</td>\n",
              "    </tr>\n",
              "    <tr>\n",
              "      <th>23</th>\n",
              "      <td>EBA1415_WSAL_2_SC_ES-05359</td>\n",
              "      <td>O</td>\n",
              "      <td>17.0</td>\n",
              "      <td>These are some ways the body can develop skin ...</td>\n",
              "    </tr>\n",
              "    <tr>\n",
              "      <th>24</th>\n",
              "      <td>EBA1415_RDCS_1_SC_ES-4700</td>\n",
              "      <td>O</td>\n",
              "      <td>18.0</td>\n",
              "      <td>There are 3 main differences of skin cancer.</td>\n",
              "    </tr>\n",
              "    <tr>\n",
              "      <th>25</th>\n",
              "      <td>EBA1415_RDCS_1_SC_ES-4700</td>\n",
              "      <td>O</td>\n",
              "      <td>19.0</td>\n",
              "      <td>Basal cell carcinoma, squamous cell carcinoma,...</td>\n",
              "    </tr>\n",
              "    <tr>\n",
              "      <th>26</th>\n",
              "      <td>EBA1415_RDCS_1_SC_ES-4700</td>\n",
              "      <td>O</td>\n",
              "      <td>20.0</td>\n",
              "      <td>With all of these diseases, Basal and Squamous...</td>\n",
              "    </tr>\n",
              "    <tr>\n",
              "      <th>27</th>\n",
              "      <td>EBA1415_RDCS_1_SC_ES-4700</td>\n",
              "      <td>R-2-50</td>\n",
              "      <td>21.0</td>\n",
              "      <td>But malignant melanoma is the mostly taken for...</td>\n",
              "    </tr>\n",
              "    <tr>\n",
              "      <th>28</th>\n",
              "      <td>EBA1415_RDCS_1_SC_ES-4700</td>\n",
              "      <td>R-2-50</td>\n",
              "      <td>22.1</td>\n",
              "      <td>And some times it just may happen wether or no...</td>\n",
              "    </tr>\n",
              "    <tr>\n",
              "      <th>29</th>\n",
              "      <td>EBA1415_RDCS_1_SC_ES-4700</td>\n",
              "      <td>R-1-2</td>\n",
              "      <td>22.2</td>\n",
              "      <td>And some times it just may happen wether or no...</td>\n",
              "    </tr>\n",
              "    <tr>\n",
              "      <th>30</th>\n",
              "      <td>EBA1415_RDCS_1_SC_ES-4700</td>\n",
              "      <td>O</td>\n",
              "      <td>23.0</td>\n",
              "      <td>So like this includes the northern third of au...</td>\n",
              "    </tr>\n",
              "    <tr>\n",
              "      <th>31</th>\n",
              "      <td>EBA1415_RDCS_1_SC_ES-4700</td>\n",
              "      <td>R-1-50</td>\n",
              "      <td>24.0</td>\n",
              "      <td>and most of the relationship Between skin canc...</td>\n",
              "    </tr>\n",
              "    <tr>\n",
              "      <th>32</th>\n",
              "      <td>EBA1415_RDCS_1_SC_ES-4700</td>\n",
              "      <td>O</td>\n",
              "      <td>25.0</td>\n",
              "      <td>and then problems start to come over when ther...</td>\n",
              "    </tr>\n",
              "    <tr>\n",
              "      <th>33</th>\n",
              "      <td>EBA1415_RDCS_1_SC_ES-4700</td>\n",
              "      <td>R-12-3</td>\n",
              "      <td>26.0</td>\n",
              "      <td>and there is a down side to actually to try an...</td>\n",
              "    </tr>\n",
              "    <tr>\n",
              "      <th>34</th>\n",
              "      <td>EBA1415_LRBL_4_SC_ES-05167</td>\n",
              "      <td>R-3-50</td>\n",
              "      <td>27.0</td>\n",
              "      <td>Skin cancer is caused by uvb radiation.</td>\n",
              "    </tr>\n",
              "    <tr>\n",
              "      <th>35</th>\n",
              "      <td>EBA1415_LRBL_4_SC_ES-05167</td>\n",
              "      <td>R-3-6</td>\n",
              "      <td>28.0</td>\n",
              "      <td>If you expose yourself a normal amount of time...</td>\n",
              "    </tr>\n",
              "    <tr>\n",
              "      <th>36</th>\n",
              "      <td>EBA1415_LRBL_4_SC_ES-05167</td>\n",
              "      <td>R-3-5</td>\n",
              "      <td>29.0</td>\n",
              "      <td>However problems arise when there is excessive...</td>\n",
              "    </tr>\n",
              "    <tr>\n",
              "      <th>37</th>\n",
              "      <td>EBA1415_LRBL_4_SC_ES-05167</td>\n",
              "      <td>R-3-5</td>\n",
              "      <td>30.0</td>\n",
              "      <td>If this happens, you will get sunburn.</td>\n",
              "    </tr>\n",
              "    <tr>\n",
              "      <th>38</th>\n",
              "      <td>EBA1415_LRBL_4_SC_ES-05167</td>\n",
              "      <td>O</td>\n",
              "      <td>31.0</td>\n",
              "      <td>sunburns frequenbtly include painful burning s...</td>\n",
              "    </tr>\n",
              "    <tr>\n",
              "      <th>39</th>\n",
              "      <td>EBA1415_LRBL_4_SC_ES-05167</td>\n",
              "      <td>O</td>\n",
              "      <td>32.0</td>\n",
              "      <td>Severe sunburn is called sun poisoning.</td>\n",
              "    </tr>\n",
              "    <tr>\n",
              "      <th>40</th>\n",
              "      <td>EBA1415_LRBL_4_SC_ES-05167</td>\n",
              "      <td>O</td>\n",
              "      <td>33.0</td>\n",
              "      <td>Sun poisoning can lead to infection and shock.</td>\n",
              "    </tr>\n",
              "    <tr>\n",
              "      <th>41</th>\n",
              "      <td>EBA1415_LRBL_4_SC_ES-05167</td>\n",
              "      <td>R-5-6</td>\n",
              "      <td>34.1</td>\n",
              "      <td>sunburned skin cells that aren't removed can r...</td>\n",
              "    </tr>\n",
              "    <tr>\n",
              "      <th>42</th>\n",
              "      <td>EBA1415_LRBL_4_SC_ES-05167</td>\n",
              "      <td>R-6-50</td>\n",
              "      <td>34.2</td>\n",
              "      <td>sunburned skin cells that aren't removed can r...</td>\n",
              "    </tr>\n",
              "    <tr>\n",
              "      <th>43</th>\n",
              "      <td>EBA1415_LRBL_4_SC_ES-05167</td>\n",
              "      <td>O</td>\n",
              "      <td>35.0</td>\n",
              "      <td>Normally, abnormal or damaged cells are cleare...</td>\n",
              "    </tr>\n",
              "    <tr>\n",
              "      <th>44</th>\n",
              "      <td>EBA1415_LRBL_4_SC_ES-05167</td>\n",
              "      <td>R-5-6</td>\n",
              "      <td>36.0</td>\n",
              "      <td>When sunburns are severe, it becomes less like...</td>\n",
              "    </tr>\n",
              "    <tr>\n",
              "      <th>45</th>\n",
              "      <td>EBA1415_LRBL_4_SC_ES-05167</td>\n",
              "      <td>R-1-2</td>\n",
              "      <td>37.0</td>\n",
              "      <td>Also, the closer you are to the equator, the m...</td>\n",
              "    </tr>\n",
              "    <tr>\n",
              "      <th>46</th>\n",
              "      <td>EBA1415_LRBL_4_SC_ES-05167</td>\n",
              "      <td>O</td>\n",
              "      <td>38.0</td>\n",
              "      <td>This means that people who are closer to the e...</td>\n",
              "    </tr>\n",
              "    <tr>\n",
              "      <th>47</th>\n",
              "      <td>EBA1415_LRBL_4_SC_ES-05167</td>\n",
              "      <td>O</td>\n",
              "      <td>39.0</td>\n",
              "      <td>In conclusion, those are the reasons of what l...</td>\n",
              "    </tr>\n",
              "    <tr>\n",
              "      <th>48</th>\n",
              "      <td>EBA1415_LRBL_4_SC_ES-05167</td>\n",
              "      <td>R-1-50</td>\n",
              "      <td>40.0</td>\n",
              "      <td>The more closer you are to the equator, the mo...</td>\n",
              "    </tr>\n",
              "    <tr>\n",
              "      <th>49</th>\n",
              "      <td>EBA1415_TFBM_1_SC_ES-05439</td>\n",
              "      <td>R-5-50</td>\n",
              "      <td>41.1</td>\n",
              "      <td>One way you can get skin cancer is from sun burn.</td>\n",
              "    </tr>\n",
              "  </tbody>\n",
              "</table>\n",
              "</div>"
            ],
            "text/plain": [
              "                         essay  ...                                           sentence\n",
              "0   EBA1415_TFHC_4_SC_ES-05825  ...  The lead to skin cancer differ on a few things...\n",
              "1   EBA1415_TFHC_4_SC_ES-05825  ...  Some skin cancer can be caused by the location...\n",
              "2   EBA1415_TFHC_4_SC_ES-05825  ...  Some skin cancer can be caused by the location...\n",
              "3   EBA1415_TFHC_4_SC_ES-05825  ...  The reason the sun matters is because of the d...\n",
              "4   EBA1415_TFHC_4_SC_ES-05825  ...  The reason the sun matters is because of the d...\n",
              "5   EBA1415_TFHC_4_SC_ES-05825  ...           Another cause of skin cancer is sunbrun.\n",
              "6   EBA1415_TFHC_4_SC_ES-05825  ...  While sunbrun isn't much to worie about you ca...\n",
              "7   EBA1415_TFHC_4_SC_ES-05825  ...                                    Didn't finished\n",
              "8   EBA1415_WSAL_2_SC_ES-05359  ...  There are two main reasons why people can deve...\n",
              "9   EBA1415_WSAL_2_SC_ES-05359  ...  There are two main reasons why people can deve...\n",
              "10  EBA1415_WSAL_2_SC_ES-05359  ...           It's from radiation and direct sunlight.\n",
              "11  EBA1415_WSAL_2_SC_ES-05359  ...           It's from radiation and direct sunlight.\n",
              "12  EBA1415_WSAL_2_SC_ES-05359  ...  Or just if you receive too much sunlight in ge...\n",
              "13  EBA1415_WSAL_2_SC_ES-05359  ...  I read that the closer you are to the Equator,...\n",
              "14  EBA1415_WSAL_2_SC_ES-05359  ...  Also, from looking at the chart, it showed tha...\n",
              "15  EBA1415_WSAL_2_SC_ES-05359  ...  Also, radiation palys a part in skin cancer an...\n",
              "16  EBA1415_WSAL_2_SC_ES-05359  ...  If you have a harmful exposure to UVb radiatio...\n",
              "17  EBA1415_WSAL_2_SC_ES-05359  ...  If the skin is getting too much radiation or s...\n",
              "18  EBA1415_WSAL_2_SC_ES-05359  ...  If the skin is getting too much radiation or s...\n",
              "19  EBA1415_WSAL_2_SC_ES-05359  ...  Sunburn plays a part in skin cancer also becau...\n",
              "20  EBA1415_WSAL_2_SC_ES-05359  ...  Sunburn plays a part in skin cancer also becau...\n",
              "21  EBA1415_WSAL_2_SC_ES-05359  ...  Sunburn plays a part in skin cancer also becau...\n",
              "22  EBA1415_WSAL_2_SC_ES-05359  ...  Also, if the damaged skin cells aren't replace...\n",
              "23  EBA1415_WSAL_2_SC_ES-05359  ...  These are some ways the body can develop skin ...\n",
              "24   EBA1415_RDCS_1_SC_ES-4700  ...       There are 3 main differences of skin cancer.\n",
              "25   EBA1415_RDCS_1_SC_ES-4700  ...  Basal cell carcinoma, squamous cell carcinoma,...\n",
              "26   EBA1415_RDCS_1_SC_ES-4700  ...  With all of these diseases, Basal and Squamous...\n",
              "27   EBA1415_RDCS_1_SC_ES-4700  ...  But malignant melanoma is the mostly taken for...\n",
              "28   EBA1415_RDCS_1_SC_ES-4700  ...  And some times it just may happen wether or no...\n",
              "29   EBA1415_RDCS_1_SC_ES-4700  ...  And some times it just may happen wether or no...\n",
              "30   EBA1415_RDCS_1_SC_ES-4700  ...  So like this includes the northern third of au...\n",
              "31   EBA1415_RDCS_1_SC_ES-4700  ...  and most of the relationship Between skin canc...\n",
              "32   EBA1415_RDCS_1_SC_ES-4700  ...  and then problems start to come over when ther...\n",
              "33   EBA1415_RDCS_1_SC_ES-4700  ...  and there is a down side to actually to try an...\n",
              "34  EBA1415_LRBL_4_SC_ES-05167  ...            Skin cancer is caused by uvb radiation.\n",
              "35  EBA1415_LRBL_4_SC_ES-05167  ...  If you expose yourself a normal amount of time...\n",
              "36  EBA1415_LRBL_4_SC_ES-05167  ...  However problems arise when there is excessive...\n",
              "37  EBA1415_LRBL_4_SC_ES-05167  ...             If this happens, you will get sunburn.\n",
              "38  EBA1415_LRBL_4_SC_ES-05167  ...  sunburns frequenbtly include painful burning s...\n",
              "39  EBA1415_LRBL_4_SC_ES-05167  ...            Severe sunburn is called sun poisoning.\n",
              "40  EBA1415_LRBL_4_SC_ES-05167  ...     Sun poisoning can lead to infection and shock.\n",
              "41  EBA1415_LRBL_4_SC_ES-05167  ...  sunburned skin cells that aren't removed can r...\n",
              "42  EBA1415_LRBL_4_SC_ES-05167  ...  sunburned skin cells that aren't removed can r...\n",
              "43  EBA1415_LRBL_4_SC_ES-05167  ...  Normally, abnormal or damaged cells are cleare...\n",
              "44  EBA1415_LRBL_4_SC_ES-05167  ...  When sunburns are severe, it becomes less like...\n",
              "45  EBA1415_LRBL_4_SC_ES-05167  ...  Also, the closer you are to the equator, the m...\n",
              "46  EBA1415_LRBL_4_SC_ES-05167  ...  This means that people who are closer to the e...\n",
              "47  EBA1415_LRBL_4_SC_ES-05167  ...  In conclusion, those are the reasons of what l...\n",
              "48  EBA1415_LRBL_4_SC_ES-05167  ...  The more closer you are to the equator, the mo...\n",
              "49  EBA1415_TFBM_1_SC_ES-05439  ...  One way you can get skin cancer is from sun burn.\n",
              "\n",
              "[50 rows x 4 columns]"
            ]
          },
          "metadata": {
            "tags": []
          },
          "execution_count": 22
        }
      ]
    },
    {
      "cell_type": "markdown",
      "metadata": {
        "id": "pldMJt9JEyCD"
      },
      "source": [
        "Convert testing data labels to ternary."
      ]
    },
    {
      "cell_type": "code",
      "metadata": {
        "id": "5BDFqhFtE3h0",
        "outputId": "35eb00a3-2cee-4f30-bfc1-417dfa94dc00",
        "colab": {
          "base_uri": "https://localhost:8080/",
          "height": 1000
        }
      },
      "source": [
        "relations_test_pd = df_test.relation.copy(deep=True)\n",
        "df_ternary_test = df_test.copy(deep=True)\n",
        "\n",
        "for i, rel in relations_test_pd.items():\n",
        "  chain = rel.split(\"-\")\n",
        "\n",
        "  if chain[0] == \"O\":\n",
        "    relations_test_pd.at[i] = 0\n",
        "    continue\n",
        "  \n",
        "  chain = chain[1] + \",\" + chain[2]\n",
        "\n",
        "  if chain in relations:\n",
        "    relations_test_pd.at[i] = 1\n",
        "  else: \n",
        "    relations_test_pd.at[i] = 2\n",
        "\n",
        "df_ternary_test.relation = relations_test_pd\n",
        "df_ternary_test.head(50)"
      ],
      "execution_count": 23,
      "outputs": [
        {
          "output_type": "execute_result",
          "data": {
            "text/html": [
              "<div>\n",
              "<style scoped>\n",
              "    .dataframe tbody tr th:only-of-type {\n",
              "        vertical-align: middle;\n",
              "    }\n",
              "\n",
              "    .dataframe tbody tr th {\n",
              "        vertical-align: top;\n",
              "    }\n",
              "\n",
              "    .dataframe thead th {\n",
              "        text-align: right;\n",
              "    }\n",
              "</style>\n",
              "<table border=\"1\" class=\"dataframe\">\n",
              "  <thead>\n",
              "    <tr style=\"text-align: right;\">\n",
              "      <th></th>\n",
              "      <th>essay</th>\n",
              "      <th>relation</th>\n",
              "      <th>s_num</th>\n",
              "      <th>sentence</th>\n",
              "    </tr>\n",
              "  </thead>\n",
              "  <tbody>\n",
              "    <tr>\n",
              "      <th>0</th>\n",
              "      <td>EBA1415_TFHC_4_SC_ES-05825</td>\n",
              "      <td>0</td>\n",
              "      <td>1.0</td>\n",
              "      <td>The lead to skin cancer differ on a few things...</td>\n",
              "    </tr>\n",
              "    <tr>\n",
              "      <th>1</th>\n",
              "      <td>EBA1415_TFHC_4_SC_ES-05825</td>\n",
              "      <td>1</td>\n",
              "      <td>2.1</td>\n",
              "      <td>Some skin cancer can be caused by the location...</td>\n",
              "    </tr>\n",
              "    <tr>\n",
              "      <th>2</th>\n",
              "      <td>EBA1415_TFHC_4_SC_ES-05825</td>\n",
              "      <td>1</td>\n",
              "      <td>2.2</td>\n",
              "      <td>Some skin cancer can be caused by the location...</td>\n",
              "    </tr>\n",
              "    <tr>\n",
              "      <th>3</th>\n",
              "      <td>EBA1415_TFHC_4_SC_ES-05825</td>\n",
              "      <td>1</td>\n",
              "      <td>3.1</td>\n",
              "      <td>The reason the sun matters is because of the d...</td>\n",
              "    </tr>\n",
              "    <tr>\n",
              "      <th>4</th>\n",
              "      <td>EBA1415_TFHC_4_SC_ES-05825</td>\n",
              "      <td>1</td>\n",
              "      <td>3.2</td>\n",
              "      <td>The reason the sun matters is because of the d...</td>\n",
              "    </tr>\n",
              "    <tr>\n",
              "      <th>5</th>\n",
              "      <td>EBA1415_TFHC_4_SC_ES-05825</td>\n",
              "      <td>1</td>\n",
              "      <td>4.0</td>\n",
              "      <td>Another cause of skin cancer is sunbrun.</td>\n",
              "    </tr>\n",
              "    <tr>\n",
              "      <th>6</th>\n",
              "      <td>EBA1415_TFHC_4_SC_ES-05825</td>\n",
              "      <td>1</td>\n",
              "      <td>5.0</td>\n",
              "      <td>While sunbrun isn't much to worie about you ca...</td>\n",
              "    </tr>\n",
              "    <tr>\n",
              "      <th>7</th>\n",
              "      <td>EBA1415_TFHC_4_SC_ES-05825</td>\n",
              "      <td>0</td>\n",
              "      <td>6.0</td>\n",
              "      <td>Didn't finished</td>\n",
              "    </tr>\n",
              "    <tr>\n",
              "      <th>8</th>\n",
              "      <td>EBA1415_WSAL_2_SC_ES-05359</td>\n",
              "      <td>1</td>\n",
              "      <td>7.1</td>\n",
              "      <td>There are two main reasons why people can deve...</td>\n",
              "    </tr>\n",
              "    <tr>\n",
              "      <th>9</th>\n",
              "      <td>EBA1415_WSAL_2_SC_ES-05359</td>\n",
              "      <td>1</td>\n",
              "      <td>7.2</td>\n",
              "      <td>There are two main reasons why people can deve...</td>\n",
              "    </tr>\n",
              "    <tr>\n",
              "      <th>10</th>\n",
              "      <td>EBA1415_WSAL_2_SC_ES-05359</td>\n",
              "      <td>1</td>\n",
              "      <td>8.1</td>\n",
              "      <td>It's from radiation and direct sunlight.</td>\n",
              "    </tr>\n",
              "    <tr>\n",
              "      <th>11</th>\n",
              "      <td>EBA1415_WSAL_2_SC_ES-05359</td>\n",
              "      <td>1</td>\n",
              "      <td>8.2</td>\n",
              "      <td>It's from radiation and direct sunlight.</td>\n",
              "    </tr>\n",
              "    <tr>\n",
              "      <th>12</th>\n",
              "      <td>EBA1415_WSAL_2_SC_ES-05359</td>\n",
              "      <td>1</td>\n",
              "      <td>9.0</td>\n",
              "      <td>Or just if you receive too much sunlight in ge...</td>\n",
              "    </tr>\n",
              "    <tr>\n",
              "      <th>13</th>\n",
              "      <td>EBA1415_WSAL_2_SC_ES-05359</td>\n",
              "      <td>1</td>\n",
              "      <td>10.0</td>\n",
              "      <td>I read that the closer you are to the Equator,...</td>\n",
              "    </tr>\n",
              "    <tr>\n",
              "      <th>14</th>\n",
              "      <td>EBA1415_WSAL_2_SC_ES-05359</td>\n",
              "      <td>1</td>\n",
              "      <td>11.0</td>\n",
              "      <td>Also, from looking at the chart, it showed tha...</td>\n",
              "    </tr>\n",
              "    <tr>\n",
              "      <th>15</th>\n",
              "      <td>EBA1415_WSAL_2_SC_ES-05359</td>\n",
              "      <td>1</td>\n",
              "      <td>12.0</td>\n",
              "      <td>Also, radiation palys a part in skin cancer an...</td>\n",
              "    </tr>\n",
              "    <tr>\n",
              "      <th>16</th>\n",
              "      <td>EBA1415_WSAL_2_SC_ES-05359</td>\n",
              "      <td>1</td>\n",
              "      <td>13.0</td>\n",
              "      <td>If you have a harmful exposure to UVb radiatio...</td>\n",
              "    </tr>\n",
              "    <tr>\n",
              "      <th>17</th>\n",
              "      <td>EBA1415_WSAL_2_SC_ES-05359</td>\n",
              "      <td>1</td>\n",
              "      <td>14.1</td>\n",
              "      <td>If the skin is getting too much radiation or s...</td>\n",
              "    </tr>\n",
              "    <tr>\n",
              "      <th>18</th>\n",
              "      <td>EBA1415_WSAL_2_SC_ES-05359</td>\n",
              "      <td>1</td>\n",
              "      <td>14.2</td>\n",
              "      <td>If the skin is getting too much radiation or s...</td>\n",
              "    </tr>\n",
              "    <tr>\n",
              "      <th>19</th>\n",
              "      <td>EBA1415_WSAL_2_SC_ES-05359</td>\n",
              "      <td>1</td>\n",
              "      <td>15.1</td>\n",
              "      <td>Sunburn plays a part in skin cancer also becau...</td>\n",
              "    </tr>\n",
              "    <tr>\n",
              "      <th>20</th>\n",
              "      <td>EBA1415_WSAL_2_SC_ES-05359</td>\n",
              "      <td>1</td>\n",
              "      <td>15.2</td>\n",
              "      <td>Sunburn plays a part in skin cancer also becau...</td>\n",
              "    </tr>\n",
              "    <tr>\n",
              "      <th>21</th>\n",
              "      <td>EBA1415_WSAL_2_SC_ES-05359</td>\n",
              "      <td>1</td>\n",
              "      <td>15.3</td>\n",
              "      <td>Sunburn plays a part in skin cancer also becau...</td>\n",
              "    </tr>\n",
              "    <tr>\n",
              "      <th>22</th>\n",
              "      <td>EBA1415_WSAL_2_SC_ES-05359</td>\n",
              "      <td>1</td>\n",
              "      <td>16.0</td>\n",
              "      <td>Also, if the damaged skin cells aren't replace...</td>\n",
              "    </tr>\n",
              "    <tr>\n",
              "      <th>23</th>\n",
              "      <td>EBA1415_WSAL_2_SC_ES-05359</td>\n",
              "      <td>0</td>\n",
              "      <td>17.0</td>\n",
              "      <td>These are some ways the body can develop skin ...</td>\n",
              "    </tr>\n",
              "    <tr>\n",
              "      <th>24</th>\n",
              "      <td>EBA1415_RDCS_1_SC_ES-4700</td>\n",
              "      <td>0</td>\n",
              "      <td>18.0</td>\n",
              "      <td>There are 3 main differences of skin cancer.</td>\n",
              "    </tr>\n",
              "    <tr>\n",
              "      <th>25</th>\n",
              "      <td>EBA1415_RDCS_1_SC_ES-4700</td>\n",
              "      <td>0</td>\n",
              "      <td>19.0</td>\n",
              "      <td>Basal cell carcinoma, squamous cell carcinoma,...</td>\n",
              "    </tr>\n",
              "    <tr>\n",
              "      <th>26</th>\n",
              "      <td>EBA1415_RDCS_1_SC_ES-4700</td>\n",
              "      <td>0</td>\n",
              "      <td>20.0</td>\n",
              "      <td>With all of these diseases, Basal and Squamous...</td>\n",
              "    </tr>\n",
              "    <tr>\n",
              "      <th>27</th>\n",
              "      <td>EBA1415_RDCS_1_SC_ES-4700</td>\n",
              "      <td>1</td>\n",
              "      <td>21.0</td>\n",
              "      <td>But malignant melanoma is the mostly taken for...</td>\n",
              "    </tr>\n",
              "    <tr>\n",
              "      <th>28</th>\n",
              "      <td>EBA1415_RDCS_1_SC_ES-4700</td>\n",
              "      <td>1</td>\n",
              "      <td>22.1</td>\n",
              "      <td>And some times it just may happen wether or no...</td>\n",
              "    </tr>\n",
              "    <tr>\n",
              "      <th>29</th>\n",
              "      <td>EBA1415_RDCS_1_SC_ES-4700</td>\n",
              "      <td>1</td>\n",
              "      <td>22.2</td>\n",
              "      <td>And some times it just may happen wether or no...</td>\n",
              "    </tr>\n",
              "    <tr>\n",
              "      <th>30</th>\n",
              "      <td>EBA1415_RDCS_1_SC_ES-4700</td>\n",
              "      <td>0</td>\n",
              "      <td>23.0</td>\n",
              "      <td>So like this includes the northern third of au...</td>\n",
              "    </tr>\n",
              "    <tr>\n",
              "      <th>31</th>\n",
              "      <td>EBA1415_RDCS_1_SC_ES-4700</td>\n",
              "      <td>1</td>\n",
              "      <td>24.0</td>\n",
              "      <td>and most of the relationship Between skin canc...</td>\n",
              "    </tr>\n",
              "    <tr>\n",
              "      <th>32</th>\n",
              "      <td>EBA1415_RDCS_1_SC_ES-4700</td>\n",
              "      <td>0</td>\n",
              "      <td>25.0</td>\n",
              "      <td>and then problems start to come over when ther...</td>\n",
              "    </tr>\n",
              "    <tr>\n",
              "      <th>33</th>\n",
              "      <td>EBA1415_RDCS_1_SC_ES-4700</td>\n",
              "      <td>2</td>\n",
              "      <td>26.0</td>\n",
              "      <td>and there is a down side to actually to try an...</td>\n",
              "    </tr>\n",
              "    <tr>\n",
              "      <th>34</th>\n",
              "      <td>EBA1415_LRBL_4_SC_ES-05167</td>\n",
              "      <td>1</td>\n",
              "      <td>27.0</td>\n",
              "      <td>Skin cancer is caused by uvb radiation.</td>\n",
              "    </tr>\n",
              "    <tr>\n",
              "      <th>35</th>\n",
              "      <td>EBA1415_LRBL_4_SC_ES-05167</td>\n",
              "      <td>1</td>\n",
              "      <td>28.0</td>\n",
              "      <td>If you expose yourself a normal amount of time...</td>\n",
              "    </tr>\n",
              "    <tr>\n",
              "      <th>36</th>\n",
              "      <td>EBA1415_LRBL_4_SC_ES-05167</td>\n",
              "      <td>1</td>\n",
              "      <td>29.0</td>\n",
              "      <td>However problems arise when there is excessive...</td>\n",
              "    </tr>\n",
              "    <tr>\n",
              "      <th>37</th>\n",
              "      <td>EBA1415_LRBL_4_SC_ES-05167</td>\n",
              "      <td>1</td>\n",
              "      <td>30.0</td>\n",
              "      <td>If this happens, you will get sunburn.</td>\n",
              "    </tr>\n",
              "    <tr>\n",
              "      <th>38</th>\n",
              "      <td>EBA1415_LRBL_4_SC_ES-05167</td>\n",
              "      <td>0</td>\n",
              "      <td>31.0</td>\n",
              "      <td>sunburns frequenbtly include painful burning s...</td>\n",
              "    </tr>\n",
              "    <tr>\n",
              "      <th>39</th>\n",
              "      <td>EBA1415_LRBL_4_SC_ES-05167</td>\n",
              "      <td>0</td>\n",
              "      <td>32.0</td>\n",
              "      <td>Severe sunburn is called sun poisoning.</td>\n",
              "    </tr>\n",
              "    <tr>\n",
              "      <th>40</th>\n",
              "      <td>EBA1415_LRBL_4_SC_ES-05167</td>\n",
              "      <td>0</td>\n",
              "      <td>33.0</td>\n",
              "      <td>Sun poisoning can lead to infection and shock.</td>\n",
              "    </tr>\n",
              "    <tr>\n",
              "      <th>41</th>\n",
              "      <td>EBA1415_LRBL_4_SC_ES-05167</td>\n",
              "      <td>1</td>\n",
              "      <td>34.1</td>\n",
              "      <td>sunburned skin cells that aren't removed can r...</td>\n",
              "    </tr>\n",
              "    <tr>\n",
              "      <th>42</th>\n",
              "      <td>EBA1415_LRBL_4_SC_ES-05167</td>\n",
              "      <td>1</td>\n",
              "      <td>34.2</td>\n",
              "      <td>sunburned skin cells that aren't removed can r...</td>\n",
              "    </tr>\n",
              "    <tr>\n",
              "      <th>43</th>\n",
              "      <td>EBA1415_LRBL_4_SC_ES-05167</td>\n",
              "      <td>0</td>\n",
              "      <td>35.0</td>\n",
              "      <td>Normally, abnormal or damaged cells are cleare...</td>\n",
              "    </tr>\n",
              "    <tr>\n",
              "      <th>44</th>\n",
              "      <td>EBA1415_LRBL_4_SC_ES-05167</td>\n",
              "      <td>1</td>\n",
              "      <td>36.0</td>\n",
              "      <td>When sunburns are severe, it becomes less like...</td>\n",
              "    </tr>\n",
              "    <tr>\n",
              "      <th>45</th>\n",
              "      <td>EBA1415_LRBL_4_SC_ES-05167</td>\n",
              "      <td>1</td>\n",
              "      <td>37.0</td>\n",
              "      <td>Also, the closer you are to the equator, the m...</td>\n",
              "    </tr>\n",
              "    <tr>\n",
              "      <th>46</th>\n",
              "      <td>EBA1415_LRBL_4_SC_ES-05167</td>\n",
              "      <td>0</td>\n",
              "      <td>38.0</td>\n",
              "      <td>This means that people who are closer to the e...</td>\n",
              "    </tr>\n",
              "    <tr>\n",
              "      <th>47</th>\n",
              "      <td>EBA1415_LRBL_4_SC_ES-05167</td>\n",
              "      <td>0</td>\n",
              "      <td>39.0</td>\n",
              "      <td>In conclusion, those are the reasons of what l...</td>\n",
              "    </tr>\n",
              "    <tr>\n",
              "      <th>48</th>\n",
              "      <td>EBA1415_LRBL_4_SC_ES-05167</td>\n",
              "      <td>1</td>\n",
              "      <td>40.0</td>\n",
              "      <td>The more closer you are to the equator, the mo...</td>\n",
              "    </tr>\n",
              "    <tr>\n",
              "      <th>49</th>\n",
              "      <td>EBA1415_TFBM_1_SC_ES-05439</td>\n",
              "      <td>1</td>\n",
              "      <td>41.1</td>\n",
              "      <td>One way you can get skin cancer is from sun burn.</td>\n",
              "    </tr>\n",
              "  </tbody>\n",
              "</table>\n",
              "</div>"
            ],
            "text/plain": [
              "                         essay  ...                                           sentence\n",
              "0   EBA1415_TFHC_4_SC_ES-05825  ...  The lead to skin cancer differ on a few things...\n",
              "1   EBA1415_TFHC_4_SC_ES-05825  ...  Some skin cancer can be caused by the location...\n",
              "2   EBA1415_TFHC_4_SC_ES-05825  ...  Some skin cancer can be caused by the location...\n",
              "3   EBA1415_TFHC_4_SC_ES-05825  ...  The reason the sun matters is because of the d...\n",
              "4   EBA1415_TFHC_4_SC_ES-05825  ...  The reason the sun matters is because of the d...\n",
              "5   EBA1415_TFHC_4_SC_ES-05825  ...           Another cause of skin cancer is sunbrun.\n",
              "6   EBA1415_TFHC_4_SC_ES-05825  ...  While sunbrun isn't much to worie about you ca...\n",
              "7   EBA1415_TFHC_4_SC_ES-05825  ...                                    Didn't finished\n",
              "8   EBA1415_WSAL_2_SC_ES-05359  ...  There are two main reasons why people can deve...\n",
              "9   EBA1415_WSAL_2_SC_ES-05359  ...  There are two main reasons why people can deve...\n",
              "10  EBA1415_WSAL_2_SC_ES-05359  ...           It's from radiation and direct sunlight.\n",
              "11  EBA1415_WSAL_2_SC_ES-05359  ...           It's from radiation and direct sunlight.\n",
              "12  EBA1415_WSAL_2_SC_ES-05359  ...  Or just if you receive too much sunlight in ge...\n",
              "13  EBA1415_WSAL_2_SC_ES-05359  ...  I read that the closer you are to the Equator,...\n",
              "14  EBA1415_WSAL_2_SC_ES-05359  ...  Also, from looking at the chart, it showed tha...\n",
              "15  EBA1415_WSAL_2_SC_ES-05359  ...  Also, radiation palys a part in skin cancer an...\n",
              "16  EBA1415_WSAL_2_SC_ES-05359  ...  If you have a harmful exposure to UVb radiatio...\n",
              "17  EBA1415_WSAL_2_SC_ES-05359  ...  If the skin is getting too much radiation or s...\n",
              "18  EBA1415_WSAL_2_SC_ES-05359  ...  If the skin is getting too much radiation or s...\n",
              "19  EBA1415_WSAL_2_SC_ES-05359  ...  Sunburn plays a part in skin cancer also becau...\n",
              "20  EBA1415_WSAL_2_SC_ES-05359  ...  Sunburn plays a part in skin cancer also becau...\n",
              "21  EBA1415_WSAL_2_SC_ES-05359  ...  Sunburn plays a part in skin cancer also becau...\n",
              "22  EBA1415_WSAL_2_SC_ES-05359  ...  Also, if the damaged skin cells aren't replace...\n",
              "23  EBA1415_WSAL_2_SC_ES-05359  ...  These are some ways the body can develop skin ...\n",
              "24   EBA1415_RDCS_1_SC_ES-4700  ...       There are 3 main differences of skin cancer.\n",
              "25   EBA1415_RDCS_1_SC_ES-4700  ...  Basal cell carcinoma, squamous cell carcinoma,...\n",
              "26   EBA1415_RDCS_1_SC_ES-4700  ...  With all of these diseases, Basal and Squamous...\n",
              "27   EBA1415_RDCS_1_SC_ES-4700  ...  But malignant melanoma is the mostly taken for...\n",
              "28   EBA1415_RDCS_1_SC_ES-4700  ...  And some times it just may happen wether or no...\n",
              "29   EBA1415_RDCS_1_SC_ES-4700  ...  And some times it just may happen wether or no...\n",
              "30   EBA1415_RDCS_1_SC_ES-4700  ...  So like this includes the northern third of au...\n",
              "31   EBA1415_RDCS_1_SC_ES-4700  ...  and most of the relationship Between skin canc...\n",
              "32   EBA1415_RDCS_1_SC_ES-4700  ...  and then problems start to come over when ther...\n",
              "33   EBA1415_RDCS_1_SC_ES-4700  ...  and there is a down side to actually to try an...\n",
              "34  EBA1415_LRBL_4_SC_ES-05167  ...            Skin cancer is caused by uvb radiation.\n",
              "35  EBA1415_LRBL_4_SC_ES-05167  ...  If you expose yourself a normal amount of time...\n",
              "36  EBA1415_LRBL_4_SC_ES-05167  ...  However problems arise when there is excessive...\n",
              "37  EBA1415_LRBL_4_SC_ES-05167  ...             If this happens, you will get sunburn.\n",
              "38  EBA1415_LRBL_4_SC_ES-05167  ...  sunburns frequenbtly include painful burning s...\n",
              "39  EBA1415_LRBL_4_SC_ES-05167  ...            Severe sunburn is called sun poisoning.\n",
              "40  EBA1415_LRBL_4_SC_ES-05167  ...     Sun poisoning can lead to infection and shock.\n",
              "41  EBA1415_LRBL_4_SC_ES-05167  ...  sunburned skin cells that aren't removed can r...\n",
              "42  EBA1415_LRBL_4_SC_ES-05167  ...  sunburned skin cells that aren't removed can r...\n",
              "43  EBA1415_LRBL_4_SC_ES-05167  ...  Normally, abnormal or damaged cells are cleare...\n",
              "44  EBA1415_LRBL_4_SC_ES-05167  ...  When sunburns are severe, it becomes less like...\n",
              "45  EBA1415_LRBL_4_SC_ES-05167  ...  Also, the closer you are to the equator, the m...\n",
              "46  EBA1415_LRBL_4_SC_ES-05167  ...  This means that people who are closer to the e...\n",
              "47  EBA1415_LRBL_4_SC_ES-05167  ...  In conclusion, those are the reasons of what l...\n",
              "48  EBA1415_LRBL_4_SC_ES-05167  ...  The more closer you are to the equator, the mo...\n",
              "49  EBA1415_TFBM_1_SC_ES-05439  ...  One way you can get skin cancer is from sun burn.\n",
              "\n",
              "[50 rows x 4 columns]"
            ]
          },
          "metadata": {
            "tags": []
          },
          "execution_count": 23
        }
      ]
    },
    {
      "cell_type": "markdown",
      "metadata": {
        "id": "ai8edFpVFl60"
      },
      "source": [
        "Identify duplicates in test set.\n"
      ]
    },
    {
      "cell_type": "code",
      "metadata": {
        "id": "swy0mf54GZmI",
        "outputId": "f81de19c-5a20-4262-edfb-cbd0e3e45e7e",
        "colab": {
          "base_uri": "https://localhost:8080/",
          "height": 824
        }
      },
      "source": [
        "df_duplicate_sentences_test = df_ternary_test[df_ternary_test.s_num.astype(str).str.split('.', expand=True)[1] != '0']\n",
        "df_duplicate_sentences_test.head(25)"
      ],
      "execution_count": 24,
      "outputs": [
        {
          "output_type": "execute_result",
          "data": {
            "text/html": [
              "<div>\n",
              "<style scoped>\n",
              "    .dataframe tbody tr th:only-of-type {\n",
              "        vertical-align: middle;\n",
              "    }\n",
              "\n",
              "    .dataframe tbody tr th {\n",
              "        vertical-align: top;\n",
              "    }\n",
              "\n",
              "    .dataframe thead th {\n",
              "        text-align: right;\n",
              "    }\n",
              "</style>\n",
              "<table border=\"1\" class=\"dataframe\">\n",
              "  <thead>\n",
              "    <tr style=\"text-align: right;\">\n",
              "      <th></th>\n",
              "      <th>essay</th>\n",
              "      <th>relation</th>\n",
              "      <th>s_num</th>\n",
              "      <th>sentence</th>\n",
              "    </tr>\n",
              "  </thead>\n",
              "  <tbody>\n",
              "    <tr>\n",
              "      <th>1</th>\n",
              "      <td>EBA1415_TFHC_4_SC_ES-05825</td>\n",
              "      <td>1</td>\n",
              "      <td>2.1</td>\n",
              "      <td>Some skin cancer can be caused by the location...</td>\n",
              "    </tr>\n",
              "    <tr>\n",
              "      <th>2</th>\n",
              "      <td>EBA1415_TFHC_4_SC_ES-05825</td>\n",
              "      <td>1</td>\n",
              "      <td>2.2</td>\n",
              "      <td>Some skin cancer can be caused by the location...</td>\n",
              "    </tr>\n",
              "    <tr>\n",
              "      <th>3</th>\n",
              "      <td>EBA1415_TFHC_4_SC_ES-05825</td>\n",
              "      <td>1</td>\n",
              "      <td>3.1</td>\n",
              "      <td>The reason the sun matters is because of the d...</td>\n",
              "    </tr>\n",
              "    <tr>\n",
              "      <th>4</th>\n",
              "      <td>EBA1415_TFHC_4_SC_ES-05825</td>\n",
              "      <td>1</td>\n",
              "      <td>3.2</td>\n",
              "      <td>The reason the sun matters is because of the d...</td>\n",
              "    </tr>\n",
              "    <tr>\n",
              "      <th>8</th>\n",
              "      <td>EBA1415_WSAL_2_SC_ES-05359</td>\n",
              "      <td>1</td>\n",
              "      <td>7.1</td>\n",
              "      <td>There are two main reasons why people can deve...</td>\n",
              "    </tr>\n",
              "    <tr>\n",
              "      <th>9</th>\n",
              "      <td>EBA1415_WSAL_2_SC_ES-05359</td>\n",
              "      <td>1</td>\n",
              "      <td>7.2</td>\n",
              "      <td>There are two main reasons why people can deve...</td>\n",
              "    </tr>\n",
              "    <tr>\n",
              "      <th>10</th>\n",
              "      <td>EBA1415_WSAL_2_SC_ES-05359</td>\n",
              "      <td>1</td>\n",
              "      <td>8.1</td>\n",
              "      <td>It's from radiation and direct sunlight.</td>\n",
              "    </tr>\n",
              "    <tr>\n",
              "      <th>11</th>\n",
              "      <td>EBA1415_WSAL_2_SC_ES-05359</td>\n",
              "      <td>1</td>\n",
              "      <td>8.2</td>\n",
              "      <td>It's from radiation and direct sunlight.</td>\n",
              "    </tr>\n",
              "    <tr>\n",
              "      <th>17</th>\n",
              "      <td>EBA1415_WSAL_2_SC_ES-05359</td>\n",
              "      <td>1</td>\n",
              "      <td>14.1</td>\n",
              "      <td>If the skin is getting too much radiation or s...</td>\n",
              "    </tr>\n",
              "    <tr>\n",
              "      <th>18</th>\n",
              "      <td>EBA1415_WSAL_2_SC_ES-05359</td>\n",
              "      <td>1</td>\n",
              "      <td>14.2</td>\n",
              "      <td>If the skin is getting too much radiation or s...</td>\n",
              "    </tr>\n",
              "    <tr>\n",
              "      <th>19</th>\n",
              "      <td>EBA1415_WSAL_2_SC_ES-05359</td>\n",
              "      <td>1</td>\n",
              "      <td>15.1</td>\n",
              "      <td>Sunburn plays a part in skin cancer also becau...</td>\n",
              "    </tr>\n",
              "    <tr>\n",
              "      <th>20</th>\n",
              "      <td>EBA1415_WSAL_2_SC_ES-05359</td>\n",
              "      <td>1</td>\n",
              "      <td>15.2</td>\n",
              "      <td>Sunburn plays a part in skin cancer also becau...</td>\n",
              "    </tr>\n",
              "    <tr>\n",
              "      <th>21</th>\n",
              "      <td>EBA1415_WSAL_2_SC_ES-05359</td>\n",
              "      <td>1</td>\n",
              "      <td>15.3</td>\n",
              "      <td>Sunburn plays a part in skin cancer also becau...</td>\n",
              "    </tr>\n",
              "    <tr>\n",
              "      <th>28</th>\n",
              "      <td>EBA1415_RDCS_1_SC_ES-4700</td>\n",
              "      <td>1</td>\n",
              "      <td>22.1</td>\n",
              "      <td>And some times it just may happen wether or no...</td>\n",
              "    </tr>\n",
              "    <tr>\n",
              "      <th>29</th>\n",
              "      <td>EBA1415_RDCS_1_SC_ES-4700</td>\n",
              "      <td>1</td>\n",
              "      <td>22.2</td>\n",
              "      <td>And some times it just may happen wether or no...</td>\n",
              "    </tr>\n",
              "    <tr>\n",
              "      <th>41</th>\n",
              "      <td>EBA1415_LRBL_4_SC_ES-05167</td>\n",
              "      <td>1</td>\n",
              "      <td>34.1</td>\n",
              "      <td>sunburned skin cells that aren't removed can r...</td>\n",
              "    </tr>\n",
              "    <tr>\n",
              "      <th>42</th>\n",
              "      <td>EBA1415_LRBL_4_SC_ES-05167</td>\n",
              "      <td>1</td>\n",
              "      <td>34.2</td>\n",
              "      <td>sunburned skin cells that aren't removed can r...</td>\n",
              "    </tr>\n",
              "    <tr>\n",
              "      <th>49</th>\n",
              "      <td>EBA1415_TFBM_1_SC_ES-05439</td>\n",
              "      <td>1</td>\n",
              "      <td>41.1</td>\n",
              "      <td>One way you can get skin cancer is from sun burn.</td>\n",
              "    </tr>\n",
              "    <tr>\n",
              "      <th>50</th>\n",
              "      <td>EBA1415_TFBM_1_SC_ES-05439</td>\n",
              "      <td>1</td>\n",
              "      <td>41.2</td>\n",
              "      <td>One way you can get skin cancer is from sun burn.</td>\n",
              "    </tr>\n",
              "    <tr>\n",
              "      <th>52</th>\n",
              "      <td>EBA1415_TFBM_1_SC_ES-05439</td>\n",
              "      <td>1</td>\n",
              "      <td>43.1</td>\n",
              "      <td>If sunburned skin arn't removed it can result ...</td>\n",
              "    </tr>\n",
              "    <tr>\n",
              "      <th>53</th>\n",
              "      <td>EBA1415_TFBM_1_SC_ES-05439</td>\n",
              "      <td>1</td>\n",
              "      <td>43.2</td>\n",
              "      <td>If sunburned skin arn't removed it can result ...</td>\n",
              "    </tr>\n",
              "    <tr>\n",
              "      <th>56</th>\n",
              "      <td>EBA1415_KYLS_5_SC_ES-05667</td>\n",
              "      <td>1</td>\n",
              "      <td>46.1</td>\n",
              "      <td>There are many ways of risks of developing ski...</td>\n",
              "    </tr>\n",
              "    <tr>\n",
              "      <th>57</th>\n",
              "      <td>EBA1415_KYLS_5_SC_ES-05667</td>\n",
              "      <td>1</td>\n",
              "      <td>46.2</td>\n",
              "      <td>There are many ways of risks of developing ski...</td>\n",
              "    </tr>\n",
              "    <tr>\n",
              "      <th>59</th>\n",
              "      <td>EBA1415_KYLS_5_SC_ES-05667</td>\n",
              "      <td>1</td>\n",
              "      <td>48.1</td>\n",
              "      <td>It would be a bigger risk if you're close to t...</td>\n",
              "    </tr>\n",
              "    <tr>\n",
              "      <th>60</th>\n",
              "      <td>EBA1415_KYLS_5_SC_ES-05667</td>\n",
              "      <td>1</td>\n",
              "      <td>48.2</td>\n",
              "      <td>It would be a bigger risk if you're close to t...</td>\n",
              "    </tr>\n",
              "  </tbody>\n",
              "</table>\n",
              "</div>"
            ],
            "text/plain": [
              "                         essay  ...                                           sentence\n",
              "1   EBA1415_TFHC_4_SC_ES-05825  ...  Some skin cancer can be caused by the location...\n",
              "2   EBA1415_TFHC_4_SC_ES-05825  ...  Some skin cancer can be caused by the location...\n",
              "3   EBA1415_TFHC_4_SC_ES-05825  ...  The reason the sun matters is because of the d...\n",
              "4   EBA1415_TFHC_4_SC_ES-05825  ...  The reason the sun matters is because of the d...\n",
              "8   EBA1415_WSAL_2_SC_ES-05359  ...  There are two main reasons why people can deve...\n",
              "9   EBA1415_WSAL_2_SC_ES-05359  ...  There are two main reasons why people can deve...\n",
              "10  EBA1415_WSAL_2_SC_ES-05359  ...           It's from radiation and direct sunlight.\n",
              "11  EBA1415_WSAL_2_SC_ES-05359  ...           It's from radiation and direct sunlight.\n",
              "17  EBA1415_WSAL_2_SC_ES-05359  ...  If the skin is getting too much radiation or s...\n",
              "18  EBA1415_WSAL_2_SC_ES-05359  ...  If the skin is getting too much radiation or s...\n",
              "19  EBA1415_WSAL_2_SC_ES-05359  ...  Sunburn plays a part in skin cancer also becau...\n",
              "20  EBA1415_WSAL_2_SC_ES-05359  ...  Sunburn plays a part in skin cancer also becau...\n",
              "21  EBA1415_WSAL_2_SC_ES-05359  ...  Sunburn plays a part in skin cancer also becau...\n",
              "28   EBA1415_RDCS_1_SC_ES-4700  ...  And some times it just may happen wether or no...\n",
              "29   EBA1415_RDCS_1_SC_ES-4700  ...  And some times it just may happen wether or no...\n",
              "41  EBA1415_LRBL_4_SC_ES-05167  ...  sunburned skin cells that aren't removed can r...\n",
              "42  EBA1415_LRBL_4_SC_ES-05167  ...  sunburned skin cells that aren't removed can r...\n",
              "49  EBA1415_TFBM_1_SC_ES-05439  ...  One way you can get skin cancer is from sun burn.\n",
              "50  EBA1415_TFBM_1_SC_ES-05439  ...  One way you can get skin cancer is from sun burn.\n",
              "52  EBA1415_TFBM_1_SC_ES-05439  ...  If sunburned skin arn't removed it can result ...\n",
              "53  EBA1415_TFBM_1_SC_ES-05439  ...  If sunburned skin arn't removed it can result ...\n",
              "56  EBA1415_KYLS_5_SC_ES-05667  ...  There are many ways of risks of developing ski...\n",
              "57  EBA1415_KYLS_5_SC_ES-05667  ...  There are many ways of risks of developing ski...\n",
              "59  EBA1415_KYLS_5_SC_ES-05667  ...  It would be a bigger risk if you're close to t...\n",
              "60  EBA1415_KYLS_5_SC_ES-05667  ...  It would be a bigger risk if you're close to t...\n",
              "\n",
              "[25 rows x 4 columns]"
            ]
          },
          "metadata": {
            "tags": []
          },
          "execution_count": 24
        }
      ]
    },
    {
      "cell_type": "markdown",
      "metadata": {
        "id": "7hXQD5NRHFRV"
      },
      "source": [
        "Remove duplicates from test set."
      ]
    },
    {
      "cell_type": "code",
      "metadata": {
        "id": "h-gIOuDPHHQP",
        "outputId": "d22c570b-ae3f-4936-91a5-60b20aa9020d",
        "colab": {
          "base_uri": "https://localhost:8080/",
          "height": 929
        }
      },
      "source": [
        "current = -1\n",
        "\n",
        "same_arr_inds = []\n",
        "drop_list = []\n",
        "\n",
        "for i, row in df_duplicate_sentences_test.iterrows():\n",
        "  s_num = str(df_duplicate_sentences_test.loc[i].s_num)\n",
        "  first_num, second_num = s_num.split(\".\")\n",
        "\n",
        "  if first_num != current:\n",
        "    current = first_num\n",
        "\n",
        "    if len(same_arr_inds) > 1:\n",
        "\n",
        "      valid_flag = False\n",
        "      invalid_flag = False\n",
        "\n",
        "      for n in same_arr_inds:\n",
        "\n",
        "        if df_duplicate_sentences_test.loc[n].relation == 1:\n",
        "          valid_flag = True\n",
        "          break\n",
        "\n",
        "        if df_duplicate_sentences_test.loc[n].relation == -1:\n",
        "          invalid_flag = True \n",
        "\n",
        "      left = same_arr_inds[0]\n",
        "      right = same_arr_inds[1:]\n",
        "\n",
        "      if valid_flag == True:\n",
        "        df_duplicate_sentences_test.loc[left].relation = 1\n",
        "      elif invalid_flag == True:\n",
        "        df_duplicate_sentences_test.loc[left].relation = -1\n",
        "      else:\n",
        "        df_duplicate_sentences_test.loc[left].relation = 0\n",
        "\n",
        "      drop_list += right   \n",
        "\n",
        "    same_arr_inds = []\n",
        "  same_arr_inds.append(i)\n",
        "\n",
        "df_ternary_test.drop(drop_list, inplace=True)   \n",
        "\n",
        "df_ternary_test.head(25)"
      ],
      "execution_count": 25,
      "outputs": [
        {
          "output_type": "stream",
          "text": [
            "/usr/local/lib/python3.6/dist-packages/pandas/core/generic.py:5165: SettingWithCopyWarning: \n",
            "A value is trying to be set on a copy of a slice from a DataFrame\n",
            "\n",
            "See the caveats in the documentation: https://pandas.pydata.org/pandas-docs/stable/user_guide/indexing.html#returning-a-view-versus-a-copy\n",
            "  self[name] = value\n"
          ],
          "name": "stderr"
        },
        {
          "output_type": "execute_result",
          "data": {
            "text/html": [
              "<div>\n",
              "<style scoped>\n",
              "    .dataframe tbody tr th:only-of-type {\n",
              "        vertical-align: middle;\n",
              "    }\n",
              "\n",
              "    .dataframe tbody tr th {\n",
              "        vertical-align: top;\n",
              "    }\n",
              "\n",
              "    .dataframe thead th {\n",
              "        text-align: right;\n",
              "    }\n",
              "</style>\n",
              "<table border=\"1\" class=\"dataframe\">\n",
              "  <thead>\n",
              "    <tr style=\"text-align: right;\">\n",
              "      <th></th>\n",
              "      <th>essay</th>\n",
              "      <th>relation</th>\n",
              "      <th>s_num</th>\n",
              "      <th>sentence</th>\n",
              "    </tr>\n",
              "  </thead>\n",
              "  <tbody>\n",
              "    <tr>\n",
              "      <th>0</th>\n",
              "      <td>EBA1415_TFHC_4_SC_ES-05825</td>\n",
              "      <td>0</td>\n",
              "      <td>1.0</td>\n",
              "      <td>The lead to skin cancer differ on a few things...</td>\n",
              "    </tr>\n",
              "    <tr>\n",
              "      <th>1</th>\n",
              "      <td>EBA1415_TFHC_4_SC_ES-05825</td>\n",
              "      <td>1</td>\n",
              "      <td>2.1</td>\n",
              "      <td>Some skin cancer can be caused by the location...</td>\n",
              "    </tr>\n",
              "    <tr>\n",
              "      <th>3</th>\n",
              "      <td>EBA1415_TFHC_4_SC_ES-05825</td>\n",
              "      <td>1</td>\n",
              "      <td>3.1</td>\n",
              "      <td>The reason the sun matters is because of the d...</td>\n",
              "    </tr>\n",
              "    <tr>\n",
              "      <th>5</th>\n",
              "      <td>EBA1415_TFHC_4_SC_ES-05825</td>\n",
              "      <td>1</td>\n",
              "      <td>4.0</td>\n",
              "      <td>Another cause of skin cancer is sunbrun.</td>\n",
              "    </tr>\n",
              "    <tr>\n",
              "      <th>6</th>\n",
              "      <td>EBA1415_TFHC_4_SC_ES-05825</td>\n",
              "      <td>1</td>\n",
              "      <td>5.0</td>\n",
              "      <td>While sunbrun isn't much to worie about you ca...</td>\n",
              "    </tr>\n",
              "    <tr>\n",
              "      <th>7</th>\n",
              "      <td>EBA1415_TFHC_4_SC_ES-05825</td>\n",
              "      <td>0</td>\n",
              "      <td>6.0</td>\n",
              "      <td>Didn't finished</td>\n",
              "    </tr>\n",
              "    <tr>\n",
              "      <th>8</th>\n",
              "      <td>EBA1415_WSAL_2_SC_ES-05359</td>\n",
              "      <td>1</td>\n",
              "      <td>7.1</td>\n",
              "      <td>There are two main reasons why people can deve...</td>\n",
              "    </tr>\n",
              "    <tr>\n",
              "      <th>10</th>\n",
              "      <td>EBA1415_WSAL_2_SC_ES-05359</td>\n",
              "      <td>1</td>\n",
              "      <td>8.1</td>\n",
              "      <td>It's from radiation and direct sunlight.</td>\n",
              "    </tr>\n",
              "    <tr>\n",
              "      <th>12</th>\n",
              "      <td>EBA1415_WSAL_2_SC_ES-05359</td>\n",
              "      <td>1</td>\n",
              "      <td>9.0</td>\n",
              "      <td>Or just if you receive too much sunlight in ge...</td>\n",
              "    </tr>\n",
              "    <tr>\n",
              "      <th>13</th>\n",
              "      <td>EBA1415_WSAL_2_SC_ES-05359</td>\n",
              "      <td>1</td>\n",
              "      <td>10.0</td>\n",
              "      <td>I read that the closer you are to the Equator,...</td>\n",
              "    </tr>\n",
              "    <tr>\n",
              "      <th>14</th>\n",
              "      <td>EBA1415_WSAL_2_SC_ES-05359</td>\n",
              "      <td>1</td>\n",
              "      <td>11.0</td>\n",
              "      <td>Also, from looking at the chart, it showed tha...</td>\n",
              "    </tr>\n",
              "    <tr>\n",
              "      <th>15</th>\n",
              "      <td>EBA1415_WSAL_2_SC_ES-05359</td>\n",
              "      <td>1</td>\n",
              "      <td>12.0</td>\n",
              "      <td>Also, radiation palys a part in skin cancer an...</td>\n",
              "    </tr>\n",
              "    <tr>\n",
              "      <th>16</th>\n",
              "      <td>EBA1415_WSAL_2_SC_ES-05359</td>\n",
              "      <td>1</td>\n",
              "      <td>13.0</td>\n",
              "      <td>If you have a harmful exposure to UVb radiatio...</td>\n",
              "    </tr>\n",
              "    <tr>\n",
              "      <th>17</th>\n",
              "      <td>EBA1415_WSAL_2_SC_ES-05359</td>\n",
              "      <td>1</td>\n",
              "      <td>14.1</td>\n",
              "      <td>If the skin is getting too much radiation or s...</td>\n",
              "    </tr>\n",
              "    <tr>\n",
              "      <th>19</th>\n",
              "      <td>EBA1415_WSAL_2_SC_ES-05359</td>\n",
              "      <td>1</td>\n",
              "      <td>15.1</td>\n",
              "      <td>Sunburn plays a part in skin cancer also becau...</td>\n",
              "    </tr>\n",
              "    <tr>\n",
              "      <th>22</th>\n",
              "      <td>EBA1415_WSAL_2_SC_ES-05359</td>\n",
              "      <td>1</td>\n",
              "      <td>16.0</td>\n",
              "      <td>Also, if the damaged skin cells aren't replace...</td>\n",
              "    </tr>\n",
              "    <tr>\n",
              "      <th>23</th>\n",
              "      <td>EBA1415_WSAL_2_SC_ES-05359</td>\n",
              "      <td>0</td>\n",
              "      <td>17.0</td>\n",
              "      <td>These are some ways the body can develop skin ...</td>\n",
              "    </tr>\n",
              "    <tr>\n",
              "      <th>24</th>\n",
              "      <td>EBA1415_RDCS_1_SC_ES-4700</td>\n",
              "      <td>0</td>\n",
              "      <td>18.0</td>\n",
              "      <td>There are 3 main differences of skin cancer.</td>\n",
              "    </tr>\n",
              "    <tr>\n",
              "      <th>25</th>\n",
              "      <td>EBA1415_RDCS_1_SC_ES-4700</td>\n",
              "      <td>0</td>\n",
              "      <td>19.0</td>\n",
              "      <td>Basal cell carcinoma, squamous cell carcinoma,...</td>\n",
              "    </tr>\n",
              "    <tr>\n",
              "      <th>26</th>\n",
              "      <td>EBA1415_RDCS_1_SC_ES-4700</td>\n",
              "      <td>0</td>\n",
              "      <td>20.0</td>\n",
              "      <td>With all of these diseases, Basal and Squamous...</td>\n",
              "    </tr>\n",
              "    <tr>\n",
              "      <th>27</th>\n",
              "      <td>EBA1415_RDCS_1_SC_ES-4700</td>\n",
              "      <td>1</td>\n",
              "      <td>21.0</td>\n",
              "      <td>But malignant melanoma is the mostly taken for...</td>\n",
              "    </tr>\n",
              "    <tr>\n",
              "      <th>28</th>\n",
              "      <td>EBA1415_RDCS_1_SC_ES-4700</td>\n",
              "      <td>1</td>\n",
              "      <td>22.1</td>\n",
              "      <td>And some times it just may happen wether or no...</td>\n",
              "    </tr>\n",
              "    <tr>\n",
              "      <th>30</th>\n",
              "      <td>EBA1415_RDCS_1_SC_ES-4700</td>\n",
              "      <td>0</td>\n",
              "      <td>23.0</td>\n",
              "      <td>So like this includes the northern third of au...</td>\n",
              "    </tr>\n",
              "    <tr>\n",
              "      <th>31</th>\n",
              "      <td>EBA1415_RDCS_1_SC_ES-4700</td>\n",
              "      <td>1</td>\n",
              "      <td>24.0</td>\n",
              "      <td>and most of the relationship Between skin canc...</td>\n",
              "    </tr>\n",
              "    <tr>\n",
              "      <th>32</th>\n",
              "      <td>EBA1415_RDCS_1_SC_ES-4700</td>\n",
              "      <td>0</td>\n",
              "      <td>25.0</td>\n",
              "      <td>and then problems start to come over when ther...</td>\n",
              "    </tr>\n",
              "  </tbody>\n",
              "</table>\n",
              "</div>"
            ],
            "text/plain": [
              "                         essay  ...                                           sentence\n",
              "0   EBA1415_TFHC_4_SC_ES-05825  ...  The lead to skin cancer differ on a few things...\n",
              "1   EBA1415_TFHC_4_SC_ES-05825  ...  Some skin cancer can be caused by the location...\n",
              "3   EBA1415_TFHC_4_SC_ES-05825  ...  The reason the sun matters is because of the d...\n",
              "5   EBA1415_TFHC_4_SC_ES-05825  ...           Another cause of skin cancer is sunbrun.\n",
              "6   EBA1415_TFHC_4_SC_ES-05825  ...  While sunbrun isn't much to worie about you ca...\n",
              "7   EBA1415_TFHC_4_SC_ES-05825  ...                                    Didn't finished\n",
              "8   EBA1415_WSAL_2_SC_ES-05359  ...  There are two main reasons why people can deve...\n",
              "10  EBA1415_WSAL_2_SC_ES-05359  ...           It's from radiation and direct sunlight.\n",
              "12  EBA1415_WSAL_2_SC_ES-05359  ...  Or just if you receive too much sunlight in ge...\n",
              "13  EBA1415_WSAL_2_SC_ES-05359  ...  I read that the closer you are to the Equator,...\n",
              "14  EBA1415_WSAL_2_SC_ES-05359  ...  Also, from looking at the chart, it showed tha...\n",
              "15  EBA1415_WSAL_2_SC_ES-05359  ...  Also, radiation palys a part in skin cancer an...\n",
              "16  EBA1415_WSAL_2_SC_ES-05359  ...  If you have a harmful exposure to UVb radiatio...\n",
              "17  EBA1415_WSAL_2_SC_ES-05359  ...  If the skin is getting too much radiation or s...\n",
              "19  EBA1415_WSAL_2_SC_ES-05359  ...  Sunburn plays a part in skin cancer also becau...\n",
              "22  EBA1415_WSAL_2_SC_ES-05359  ...  Also, if the damaged skin cells aren't replace...\n",
              "23  EBA1415_WSAL_2_SC_ES-05359  ...  These are some ways the body can develop skin ...\n",
              "24   EBA1415_RDCS_1_SC_ES-4700  ...       There are 3 main differences of skin cancer.\n",
              "25   EBA1415_RDCS_1_SC_ES-4700  ...  Basal cell carcinoma, squamous cell carcinoma,...\n",
              "26   EBA1415_RDCS_1_SC_ES-4700  ...  With all of these diseases, Basal and Squamous...\n",
              "27   EBA1415_RDCS_1_SC_ES-4700  ...  But malignant melanoma is the mostly taken for...\n",
              "28   EBA1415_RDCS_1_SC_ES-4700  ...  And some times it just may happen wether or no...\n",
              "30   EBA1415_RDCS_1_SC_ES-4700  ...  So like this includes the northern third of au...\n",
              "31   EBA1415_RDCS_1_SC_ES-4700  ...  and most of the relationship Between skin canc...\n",
              "32   EBA1415_RDCS_1_SC_ES-4700  ...  and then problems start to come over when ther...\n",
              "\n",
              "[25 rows x 4 columns]"
            ]
          },
          "metadata": {
            "tags": []
          },
          "execution_count": 25
        }
      ]
    },
    {
      "cell_type": "markdown",
      "metadata": {
        "id": "CvnLfXgy4aG2"
      },
      "source": [
        "We must grab the original labels to use later for the additional classification step."
      ]
    },
    {
      "cell_type": "code",
      "metadata": {
        "id": "Ebws1VVh4gUk",
        "outputId": "1ab91d39-49d2-4833-8249-c45949529e88",
        "colab": {
          "base_uri": "https://localhost:8080/",
          "height": 841
        }
      },
      "source": [
        "inds = df_ternary_test.index.values.tolist()\n",
        "df_multi_test = df_test.copy(deep=True)\n",
        "df_multi_test = df_multi_test[df_multi_test.index.isin(inds)]\n",
        "print(\"Test size:\",len(df_multi_test))\n",
        "df_multi_test.head(25)"
      ],
      "execution_count": 26,
      "outputs": [
        {
          "output_type": "stream",
          "text": [
            "Test size: 2224\n"
          ],
          "name": "stdout"
        },
        {
          "output_type": "execute_result",
          "data": {
            "text/html": [
              "<div>\n",
              "<style scoped>\n",
              "    .dataframe tbody tr th:only-of-type {\n",
              "        vertical-align: middle;\n",
              "    }\n",
              "\n",
              "    .dataframe tbody tr th {\n",
              "        vertical-align: top;\n",
              "    }\n",
              "\n",
              "    .dataframe thead th {\n",
              "        text-align: right;\n",
              "    }\n",
              "</style>\n",
              "<table border=\"1\" class=\"dataframe\">\n",
              "  <thead>\n",
              "    <tr style=\"text-align: right;\">\n",
              "      <th></th>\n",
              "      <th>essay</th>\n",
              "      <th>relation</th>\n",
              "      <th>s_num</th>\n",
              "      <th>sentence</th>\n",
              "    </tr>\n",
              "  </thead>\n",
              "  <tbody>\n",
              "    <tr>\n",
              "      <th>0</th>\n",
              "      <td>EBA1415_TFHC_4_SC_ES-05825</td>\n",
              "      <td>O</td>\n",
              "      <td>1.0</td>\n",
              "      <td>The lead to skin cancer differ on a few things...</td>\n",
              "    </tr>\n",
              "    <tr>\n",
              "      <th>1</th>\n",
              "      <td>EBA1415_TFHC_4_SC_ES-05825</td>\n",
              "      <td>R-1-50</td>\n",
              "      <td>2.1</td>\n",
              "      <td>Some skin cancer can be caused by the location...</td>\n",
              "    </tr>\n",
              "    <tr>\n",
              "      <th>3</th>\n",
              "      <td>EBA1415_TFHC_4_SC_ES-05825</td>\n",
              "      <td>R-1-2</td>\n",
              "      <td>3.1</td>\n",
              "      <td>The reason the sun matters is because of the d...</td>\n",
              "    </tr>\n",
              "    <tr>\n",
              "      <th>5</th>\n",
              "      <td>EBA1415_TFHC_4_SC_ES-05825</td>\n",
              "      <td>R-5-50</td>\n",
              "      <td>4.0</td>\n",
              "      <td>Another cause of skin cancer is sunbrun.</td>\n",
              "    </tr>\n",
              "    <tr>\n",
              "      <th>6</th>\n",
              "      <td>EBA1415_TFHC_4_SC_ES-05825</td>\n",
              "      <td>R-5-50</td>\n",
              "      <td>5.0</td>\n",
              "      <td>While sunbrun isn't much to worie about you ca...</td>\n",
              "    </tr>\n",
              "    <tr>\n",
              "      <th>7</th>\n",
              "      <td>EBA1415_TFHC_4_SC_ES-05825</td>\n",
              "      <td>O</td>\n",
              "      <td>6.0</td>\n",
              "      <td>Didn't finished</td>\n",
              "    </tr>\n",
              "    <tr>\n",
              "      <th>8</th>\n",
              "      <td>EBA1415_WSAL_2_SC_ES-05359</td>\n",
              "      <td>R-2-50</td>\n",
              "      <td>7.1</td>\n",
              "      <td>There are two main reasons why people can deve...</td>\n",
              "    </tr>\n",
              "    <tr>\n",
              "      <th>10</th>\n",
              "      <td>EBA1415_WSAL_2_SC_ES-05359</td>\n",
              "      <td>R-2-50</td>\n",
              "      <td>8.1</td>\n",
              "      <td>It's from radiation and direct sunlight.</td>\n",
              "    </tr>\n",
              "    <tr>\n",
              "      <th>12</th>\n",
              "      <td>EBA1415_WSAL_2_SC_ES-05359</td>\n",
              "      <td>R-2-50</td>\n",
              "      <td>9.0</td>\n",
              "      <td>Or just if you receive too much sunlight in ge...</td>\n",
              "    </tr>\n",
              "    <tr>\n",
              "      <th>13</th>\n",
              "      <td>EBA1415_WSAL_2_SC_ES-05359</td>\n",
              "      <td>R-1-2</td>\n",
              "      <td>10.0</td>\n",
              "      <td>I read that the closer you are to the Equator,...</td>\n",
              "    </tr>\n",
              "    <tr>\n",
              "      <th>14</th>\n",
              "      <td>EBA1415_WSAL_2_SC_ES-05359</td>\n",
              "      <td>R-1-50</td>\n",
              "      <td>11.0</td>\n",
              "      <td>Also, from looking at the chart, it showed tha...</td>\n",
              "    </tr>\n",
              "    <tr>\n",
              "      <th>15</th>\n",
              "      <td>EBA1415_WSAL_2_SC_ES-05359</td>\n",
              "      <td>R-3-50</td>\n",
              "      <td>12.0</td>\n",
              "      <td>Also, radiation palys a part in skin cancer an...</td>\n",
              "    </tr>\n",
              "    <tr>\n",
              "      <th>16</th>\n",
              "      <td>EBA1415_WSAL_2_SC_ES-05359</td>\n",
              "      <td>R-3-4</td>\n",
              "      <td>13.0</td>\n",
              "      <td>If you have a harmful exposure to UVb radiatio...</td>\n",
              "    </tr>\n",
              "    <tr>\n",
              "      <th>17</th>\n",
              "      <td>EBA1415_WSAL_2_SC_ES-05359</td>\n",
              "      <td>R-3-4</td>\n",
              "      <td>14.1</td>\n",
              "      <td>If the skin is getting too much radiation or s...</td>\n",
              "    </tr>\n",
              "    <tr>\n",
              "      <th>19</th>\n",
              "      <td>EBA1415_WSAL_2_SC_ES-05359</td>\n",
              "      <td>R-5-50</td>\n",
              "      <td>15.1</td>\n",
              "      <td>Sunburn plays a part in skin cancer also becau...</td>\n",
              "    </tr>\n",
              "    <tr>\n",
              "      <th>22</th>\n",
              "      <td>EBA1415_WSAL_2_SC_ES-05359</td>\n",
              "      <td>R-6-50</td>\n",
              "      <td>16.0</td>\n",
              "      <td>Also, if the damaged skin cells aren't replace...</td>\n",
              "    </tr>\n",
              "    <tr>\n",
              "      <th>23</th>\n",
              "      <td>EBA1415_WSAL_2_SC_ES-05359</td>\n",
              "      <td>O</td>\n",
              "      <td>17.0</td>\n",
              "      <td>These are some ways the body can develop skin ...</td>\n",
              "    </tr>\n",
              "    <tr>\n",
              "      <th>24</th>\n",
              "      <td>EBA1415_RDCS_1_SC_ES-4700</td>\n",
              "      <td>O</td>\n",
              "      <td>18.0</td>\n",
              "      <td>There are 3 main differences of skin cancer.</td>\n",
              "    </tr>\n",
              "    <tr>\n",
              "      <th>25</th>\n",
              "      <td>EBA1415_RDCS_1_SC_ES-4700</td>\n",
              "      <td>O</td>\n",
              "      <td>19.0</td>\n",
              "      <td>Basal cell carcinoma, squamous cell carcinoma,...</td>\n",
              "    </tr>\n",
              "    <tr>\n",
              "      <th>26</th>\n",
              "      <td>EBA1415_RDCS_1_SC_ES-4700</td>\n",
              "      <td>O</td>\n",
              "      <td>20.0</td>\n",
              "      <td>With all of these diseases, Basal and Squamous...</td>\n",
              "    </tr>\n",
              "    <tr>\n",
              "      <th>27</th>\n",
              "      <td>EBA1415_RDCS_1_SC_ES-4700</td>\n",
              "      <td>R-2-50</td>\n",
              "      <td>21.0</td>\n",
              "      <td>But malignant melanoma is the mostly taken for...</td>\n",
              "    </tr>\n",
              "    <tr>\n",
              "      <th>28</th>\n",
              "      <td>EBA1415_RDCS_1_SC_ES-4700</td>\n",
              "      <td>R-2-50</td>\n",
              "      <td>22.1</td>\n",
              "      <td>And some times it just may happen wether or no...</td>\n",
              "    </tr>\n",
              "    <tr>\n",
              "      <th>30</th>\n",
              "      <td>EBA1415_RDCS_1_SC_ES-4700</td>\n",
              "      <td>O</td>\n",
              "      <td>23.0</td>\n",
              "      <td>So like this includes the northern third of au...</td>\n",
              "    </tr>\n",
              "    <tr>\n",
              "      <th>31</th>\n",
              "      <td>EBA1415_RDCS_1_SC_ES-4700</td>\n",
              "      <td>R-1-50</td>\n",
              "      <td>24.0</td>\n",
              "      <td>and most of the relationship Between skin canc...</td>\n",
              "    </tr>\n",
              "    <tr>\n",
              "      <th>32</th>\n",
              "      <td>EBA1415_RDCS_1_SC_ES-4700</td>\n",
              "      <td>O</td>\n",
              "      <td>25.0</td>\n",
              "      <td>and then problems start to come over when ther...</td>\n",
              "    </tr>\n",
              "  </tbody>\n",
              "</table>\n",
              "</div>"
            ],
            "text/plain": [
              "                         essay  ...                                           sentence\n",
              "0   EBA1415_TFHC_4_SC_ES-05825  ...  The lead to skin cancer differ on a few things...\n",
              "1   EBA1415_TFHC_4_SC_ES-05825  ...  Some skin cancer can be caused by the location...\n",
              "3   EBA1415_TFHC_4_SC_ES-05825  ...  The reason the sun matters is because of the d...\n",
              "5   EBA1415_TFHC_4_SC_ES-05825  ...           Another cause of skin cancer is sunbrun.\n",
              "6   EBA1415_TFHC_4_SC_ES-05825  ...  While sunbrun isn't much to worie about you ca...\n",
              "7   EBA1415_TFHC_4_SC_ES-05825  ...                                    Didn't finished\n",
              "8   EBA1415_WSAL_2_SC_ES-05359  ...  There are two main reasons why people can deve...\n",
              "10  EBA1415_WSAL_2_SC_ES-05359  ...           It's from radiation and direct sunlight.\n",
              "12  EBA1415_WSAL_2_SC_ES-05359  ...  Or just if you receive too much sunlight in ge...\n",
              "13  EBA1415_WSAL_2_SC_ES-05359  ...  I read that the closer you are to the Equator,...\n",
              "14  EBA1415_WSAL_2_SC_ES-05359  ...  Also, from looking at the chart, it showed tha...\n",
              "15  EBA1415_WSAL_2_SC_ES-05359  ...  Also, radiation palys a part in skin cancer an...\n",
              "16  EBA1415_WSAL_2_SC_ES-05359  ...  If you have a harmful exposure to UVb radiatio...\n",
              "17  EBA1415_WSAL_2_SC_ES-05359  ...  If the skin is getting too much radiation or s...\n",
              "19  EBA1415_WSAL_2_SC_ES-05359  ...  Sunburn plays a part in skin cancer also becau...\n",
              "22  EBA1415_WSAL_2_SC_ES-05359  ...  Also, if the damaged skin cells aren't replace...\n",
              "23  EBA1415_WSAL_2_SC_ES-05359  ...  These are some ways the body can develop skin ...\n",
              "24   EBA1415_RDCS_1_SC_ES-4700  ...       There are 3 main differences of skin cancer.\n",
              "25   EBA1415_RDCS_1_SC_ES-4700  ...  Basal cell carcinoma, squamous cell carcinoma,...\n",
              "26   EBA1415_RDCS_1_SC_ES-4700  ...  With all of these diseases, Basal and Squamous...\n",
              "27   EBA1415_RDCS_1_SC_ES-4700  ...  But malignant melanoma is the mostly taken for...\n",
              "28   EBA1415_RDCS_1_SC_ES-4700  ...  And some times it just may happen wether or no...\n",
              "30   EBA1415_RDCS_1_SC_ES-4700  ...  So like this includes the northern third of au...\n",
              "31   EBA1415_RDCS_1_SC_ES-4700  ...  and most of the relationship Between skin canc...\n",
              "32   EBA1415_RDCS_1_SC_ES-4700  ...  and then problems start to come over when ther...\n",
              "\n",
              "[25 rows x 4 columns]"
            ]
          },
          "metadata": {
            "tags": []
          },
          "execution_count": 26
        }
      ]
    },
    {
      "cell_type": "markdown",
      "metadata": {
        "id": "e4dzTF_y7XAV"
      },
      "source": [
        "We must reset the indexes so that they match up with the indexes of the test set predictions."
      ]
    },
    {
      "cell_type": "code",
      "metadata": {
        "id": "Bb9yyHRl7b7w",
        "outputId": "0461fcde-08c4-4725-f70d-084c72c036bf",
        "colab": {
          "base_uri": "https://localhost:8080/",
          "height": 824
        }
      },
      "source": [
        "df_multi_test = df_multi_test.reset_index(drop=True)\n",
        "df_multi_test.head(25)"
      ],
      "execution_count": 27,
      "outputs": [
        {
          "output_type": "execute_result",
          "data": {
            "text/html": [
              "<div>\n",
              "<style scoped>\n",
              "    .dataframe tbody tr th:only-of-type {\n",
              "        vertical-align: middle;\n",
              "    }\n",
              "\n",
              "    .dataframe tbody tr th {\n",
              "        vertical-align: top;\n",
              "    }\n",
              "\n",
              "    .dataframe thead th {\n",
              "        text-align: right;\n",
              "    }\n",
              "</style>\n",
              "<table border=\"1\" class=\"dataframe\">\n",
              "  <thead>\n",
              "    <tr style=\"text-align: right;\">\n",
              "      <th></th>\n",
              "      <th>essay</th>\n",
              "      <th>relation</th>\n",
              "      <th>s_num</th>\n",
              "      <th>sentence</th>\n",
              "    </tr>\n",
              "  </thead>\n",
              "  <tbody>\n",
              "    <tr>\n",
              "      <th>0</th>\n",
              "      <td>EBA1415_TFHC_4_SC_ES-05825</td>\n",
              "      <td>O</td>\n",
              "      <td>1.0</td>\n",
              "      <td>The lead to skin cancer differ on a few things...</td>\n",
              "    </tr>\n",
              "    <tr>\n",
              "      <th>1</th>\n",
              "      <td>EBA1415_TFHC_4_SC_ES-05825</td>\n",
              "      <td>R-1-50</td>\n",
              "      <td>2.1</td>\n",
              "      <td>Some skin cancer can be caused by the location...</td>\n",
              "    </tr>\n",
              "    <tr>\n",
              "      <th>2</th>\n",
              "      <td>EBA1415_TFHC_4_SC_ES-05825</td>\n",
              "      <td>R-1-2</td>\n",
              "      <td>3.1</td>\n",
              "      <td>The reason the sun matters is because of the d...</td>\n",
              "    </tr>\n",
              "    <tr>\n",
              "      <th>3</th>\n",
              "      <td>EBA1415_TFHC_4_SC_ES-05825</td>\n",
              "      <td>R-5-50</td>\n",
              "      <td>4.0</td>\n",
              "      <td>Another cause of skin cancer is sunbrun.</td>\n",
              "    </tr>\n",
              "    <tr>\n",
              "      <th>4</th>\n",
              "      <td>EBA1415_TFHC_4_SC_ES-05825</td>\n",
              "      <td>R-5-50</td>\n",
              "      <td>5.0</td>\n",
              "      <td>While sunbrun isn't much to worie about you ca...</td>\n",
              "    </tr>\n",
              "    <tr>\n",
              "      <th>5</th>\n",
              "      <td>EBA1415_TFHC_4_SC_ES-05825</td>\n",
              "      <td>O</td>\n",
              "      <td>6.0</td>\n",
              "      <td>Didn't finished</td>\n",
              "    </tr>\n",
              "    <tr>\n",
              "      <th>6</th>\n",
              "      <td>EBA1415_WSAL_2_SC_ES-05359</td>\n",
              "      <td>R-2-50</td>\n",
              "      <td>7.1</td>\n",
              "      <td>There are two main reasons why people can deve...</td>\n",
              "    </tr>\n",
              "    <tr>\n",
              "      <th>7</th>\n",
              "      <td>EBA1415_WSAL_2_SC_ES-05359</td>\n",
              "      <td>R-2-50</td>\n",
              "      <td>8.1</td>\n",
              "      <td>It's from radiation and direct sunlight.</td>\n",
              "    </tr>\n",
              "    <tr>\n",
              "      <th>8</th>\n",
              "      <td>EBA1415_WSAL_2_SC_ES-05359</td>\n",
              "      <td>R-2-50</td>\n",
              "      <td>9.0</td>\n",
              "      <td>Or just if you receive too much sunlight in ge...</td>\n",
              "    </tr>\n",
              "    <tr>\n",
              "      <th>9</th>\n",
              "      <td>EBA1415_WSAL_2_SC_ES-05359</td>\n",
              "      <td>R-1-2</td>\n",
              "      <td>10.0</td>\n",
              "      <td>I read that the closer you are to the Equator,...</td>\n",
              "    </tr>\n",
              "    <tr>\n",
              "      <th>10</th>\n",
              "      <td>EBA1415_WSAL_2_SC_ES-05359</td>\n",
              "      <td>R-1-50</td>\n",
              "      <td>11.0</td>\n",
              "      <td>Also, from looking at the chart, it showed tha...</td>\n",
              "    </tr>\n",
              "    <tr>\n",
              "      <th>11</th>\n",
              "      <td>EBA1415_WSAL_2_SC_ES-05359</td>\n",
              "      <td>R-3-50</td>\n",
              "      <td>12.0</td>\n",
              "      <td>Also, radiation palys a part in skin cancer an...</td>\n",
              "    </tr>\n",
              "    <tr>\n",
              "      <th>12</th>\n",
              "      <td>EBA1415_WSAL_2_SC_ES-05359</td>\n",
              "      <td>R-3-4</td>\n",
              "      <td>13.0</td>\n",
              "      <td>If you have a harmful exposure to UVb radiatio...</td>\n",
              "    </tr>\n",
              "    <tr>\n",
              "      <th>13</th>\n",
              "      <td>EBA1415_WSAL_2_SC_ES-05359</td>\n",
              "      <td>R-3-4</td>\n",
              "      <td>14.1</td>\n",
              "      <td>If the skin is getting too much radiation or s...</td>\n",
              "    </tr>\n",
              "    <tr>\n",
              "      <th>14</th>\n",
              "      <td>EBA1415_WSAL_2_SC_ES-05359</td>\n",
              "      <td>R-5-50</td>\n",
              "      <td>15.1</td>\n",
              "      <td>Sunburn plays a part in skin cancer also becau...</td>\n",
              "    </tr>\n",
              "    <tr>\n",
              "      <th>15</th>\n",
              "      <td>EBA1415_WSAL_2_SC_ES-05359</td>\n",
              "      <td>R-6-50</td>\n",
              "      <td>16.0</td>\n",
              "      <td>Also, if the damaged skin cells aren't replace...</td>\n",
              "    </tr>\n",
              "    <tr>\n",
              "      <th>16</th>\n",
              "      <td>EBA1415_WSAL_2_SC_ES-05359</td>\n",
              "      <td>O</td>\n",
              "      <td>17.0</td>\n",
              "      <td>These are some ways the body can develop skin ...</td>\n",
              "    </tr>\n",
              "    <tr>\n",
              "      <th>17</th>\n",
              "      <td>EBA1415_RDCS_1_SC_ES-4700</td>\n",
              "      <td>O</td>\n",
              "      <td>18.0</td>\n",
              "      <td>There are 3 main differences of skin cancer.</td>\n",
              "    </tr>\n",
              "    <tr>\n",
              "      <th>18</th>\n",
              "      <td>EBA1415_RDCS_1_SC_ES-4700</td>\n",
              "      <td>O</td>\n",
              "      <td>19.0</td>\n",
              "      <td>Basal cell carcinoma, squamous cell carcinoma,...</td>\n",
              "    </tr>\n",
              "    <tr>\n",
              "      <th>19</th>\n",
              "      <td>EBA1415_RDCS_1_SC_ES-4700</td>\n",
              "      <td>O</td>\n",
              "      <td>20.0</td>\n",
              "      <td>With all of these diseases, Basal and Squamous...</td>\n",
              "    </tr>\n",
              "    <tr>\n",
              "      <th>20</th>\n",
              "      <td>EBA1415_RDCS_1_SC_ES-4700</td>\n",
              "      <td>R-2-50</td>\n",
              "      <td>21.0</td>\n",
              "      <td>But malignant melanoma is the mostly taken for...</td>\n",
              "    </tr>\n",
              "    <tr>\n",
              "      <th>21</th>\n",
              "      <td>EBA1415_RDCS_1_SC_ES-4700</td>\n",
              "      <td>R-2-50</td>\n",
              "      <td>22.1</td>\n",
              "      <td>And some times it just may happen wether or no...</td>\n",
              "    </tr>\n",
              "    <tr>\n",
              "      <th>22</th>\n",
              "      <td>EBA1415_RDCS_1_SC_ES-4700</td>\n",
              "      <td>O</td>\n",
              "      <td>23.0</td>\n",
              "      <td>So like this includes the northern third of au...</td>\n",
              "    </tr>\n",
              "    <tr>\n",
              "      <th>23</th>\n",
              "      <td>EBA1415_RDCS_1_SC_ES-4700</td>\n",
              "      <td>R-1-50</td>\n",
              "      <td>24.0</td>\n",
              "      <td>and most of the relationship Between skin canc...</td>\n",
              "    </tr>\n",
              "    <tr>\n",
              "      <th>24</th>\n",
              "      <td>EBA1415_RDCS_1_SC_ES-4700</td>\n",
              "      <td>O</td>\n",
              "      <td>25.0</td>\n",
              "      <td>and then problems start to come over when ther...</td>\n",
              "    </tr>\n",
              "  </tbody>\n",
              "</table>\n",
              "</div>"
            ],
            "text/plain": [
              "                         essay  ...                                           sentence\n",
              "0   EBA1415_TFHC_4_SC_ES-05825  ...  The lead to skin cancer differ on a few things...\n",
              "1   EBA1415_TFHC_4_SC_ES-05825  ...  Some skin cancer can be caused by the location...\n",
              "2   EBA1415_TFHC_4_SC_ES-05825  ...  The reason the sun matters is because of the d...\n",
              "3   EBA1415_TFHC_4_SC_ES-05825  ...           Another cause of skin cancer is sunbrun.\n",
              "4   EBA1415_TFHC_4_SC_ES-05825  ...  While sunbrun isn't much to worie about you ca...\n",
              "5   EBA1415_TFHC_4_SC_ES-05825  ...                                    Didn't finished\n",
              "6   EBA1415_WSAL_2_SC_ES-05359  ...  There are two main reasons why people can deve...\n",
              "7   EBA1415_WSAL_2_SC_ES-05359  ...           It's from radiation and direct sunlight.\n",
              "8   EBA1415_WSAL_2_SC_ES-05359  ...  Or just if you receive too much sunlight in ge...\n",
              "9   EBA1415_WSAL_2_SC_ES-05359  ...  I read that the closer you are to the Equator,...\n",
              "10  EBA1415_WSAL_2_SC_ES-05359  ...  Also, from looking at the chart, it showed tha...\n",
              "11  EBA1415_WSAL_2_SC_ES-05359  ...  Also, radiation palys a part in skin cancer an...\n",
              "12  EBA1415_WSAL_2_SC_ES-05359  ...  If you have a harmful exposure to UVb radiatio...\n",
              "13  EBA1415_WSAL_2_SC_ES-05359  ...  If the skin is getting too much radiation or s...\n",
              "14  EBA1415_WSAL_2_SC_ES-05359  ...  Sunburn plays a part in skin cancer also becau...\n",
              "15  EBA1415_WSAL_2_SC_ES-05359  ...  Also, if the damaged skin cells aren't replace...\n",
              "16  EBA1415_WSAL_2_SC_ES-05359  ...  These are some ways the body can develop skin ...\n",
              "17   EBA1415_RDCS_1_SC_ES-4700  ...       There are 3 main differences of skin cancer.\n",
              "18   EBA1415_RDCS_1_SC_ES-4700  ...  Basal cell carcinoma, squamous cell carcinoma,...\n",
              "19   EBA1415_RDCS_1_SC_ES-4700  ...  With all of these diseases, Basal and Squamous...\n",
              "20   EBA1415_RDCS_1_SC_ES-4700  ...  But malignant melanoma is the mostly taken for...\n",
              "21   EBA1415_RDCS_1_SC_ES-4700  ...  And some times it just may happen wether or no...\n",
              "22   EBA1415_RDCS_1_SC_ES-4700  ...  So like this includes the northern third of au...\n",
              "23   EBA1415_RDCS_1_SC_ES-4700  ...  and most of the relationship Between skin canc...\n",
              "24   EBA1415_RDCS_1_SC_ES-4700  ...  and then problems start to come over when ther...\n",
              "\n",
              "[25 rows x 4 columns]"
            ]
          },
          "metadata": {
            "tags": []
          },
          "execution_count": 27
        }
      ]
    },
    {
      "cell_type": "markdown",
      "metadata": {
        "id": "TTjNjwI12jI1"
      },
      "source": [
        "Let's take a look at the class breakdown for the test set."
      ]
    },
    {
      "cell_type": "code",
      "metadata": {
        "id": "uPm_CVaK2hky",
        "outputId": "bb7565ee-90a2-4f8d-faf3-bcab1cfadfb0",
        "colab": {
          "base_uri": "https://localhost:8080/",
          "height": 85
        }
      },
      "source": [
        "test_split = df_ternary_test[\"relation\"].value_counts()\n",
        "print(test_split)\n",
        "\n",
        "test_norelation_count = test_split[0]\n",
        "test_valid_count = test_split[1]\n",
        "test_invalid_count = test_split[2]"
      ],
      "execution_count": 28,
      "outputs": [
        {
          "output_type": "stream",
          "text": [
            "0    1204\n",
            "1     972\n",
            "2      48\n",
            "Name: relation, dtype: int64\n"
          ],
          "name": "stdout"
        }
      ]
    },
    {
      "cell_type": "markdown",
      "metadata": {
        "id": "EfFfcc44HqdI"
      },
      "source": [
        "# Extract sentences and labels from test data."
      ]
    },
    {
      "cell_type": "code",
      "metadata": {
        "id": "PomTzpRjHp0r",
        "outputId": "05d18e7e-b525-4347-ed0a-170f6afa7a73",
        "colab": {
          "base_uri": "https://localhost:8080/",
          "height": 34
        }
      },
      "source": [
        "sentences_test = df_ternary_test.sentence.values\n",
        "sentences_test = [\"[CLS] \" + sentence + \" [SEP]\" for sentence in sentences_test]\n",
        "\n",
        "tokenized_texts_test = [tokenizer.tokenize(sentence) for sentence in sentences_test]\n",
        "labels_test = df_ternary_test.relation.values.astype(int)\n",
        "labels_test"
      ],
      "execution_count": 29,
      "outputs": [
        {
          "output_type": "execute_result",
          "data": {
            "text/plain": [
              "array([0, 1, 1, ..., 1, 0, 0])"
            ]
          },
          "metadata": {
            "tags": []
          },
          "execution_count": 29
        }
      ]
    },
    {
      "cell_type": "markdown",
      "metadata": {
        "id": "j21brSBMIW9Y"
      },
      "source": [
        "Tokenize test set essays."
      ]
    },
    {
      "cell_type": "code",
      "metadata": {
        "id": "JtM-j9FZIYvP"
      },
      "source": [
        "input_ids_test = [tokenizer.convert_tokens_to_ids(x) for x in tokenized_texts_test]\n",
        "input_ids_test = pad_sequences(input_ids_test, maxlen=MAX_LEN, dtype=\"long\", truncating=\"post\", padding=\"post\")"
      ],
      "execution_count": 30,
      "outputs": []
    },
    {
      "cell_type": "markdown",
      "metadata": {
        "id": "0rnQgbv2IhlZ"
      },
      "source": [
        "Set test set attention masks."
      ]
    },
    {
      "cell_type": "code",
      "metadata": {
        "id": "kPV2hsUPIgKD"
      },
      "source": [
        "attention_masks_test = []\n",
        "\n",
        "for seq in input_ids_test:\n",
        "  seq_mask = [float(i>0) for i in seq]\n",
        "  attention_masks_test.append(seq_mask)"
      ],
      "execution_count": 31,
      "outputs": []
    },
    {
      "cell_type": "markdown",
      "metadata": {
        "id": "w5FwRQuDIo0V"
      },
      "source": [
        "Tensorize and load data."
      ]
    },
    {
      "cell_type": "code",
      "metadata": {
        "id": "-8DwjhE0Idt0"
      },
      "source": [
        "prediction_inputs = torch.tensor(input_ids_test)\n",
        "prediction_masks = torch.tensor(attention_masks_test)\n",
        "prediction_labels = torch.tensor(labels_test)\n",
        "\n",
        "prediction_data = TensorDataset(prediction_inputs, prediction_masks, prediction_labels)\n",
        "prediction_sampler = SequentialSampler(prediction_data)\n",
        "prediction_dataloader = DataLoader(prediction_data, sampler=prediction_sampler, batch_size=BATCH_SIZE)"
      ],
      "execution_count": 32,
      "outputs": []
    },
    {
      "cell_type": "markdown",
      "metadata": {
        "id": "OdjmvRg6JKGW"
      },
      "source": [
        "Evaluate test set."
      ]
    },
    {
      "cell_type": "code",
      "metadata": {
        "id": "HvleeCpEJOMj"
      },
      "source": [
        "model.eval()\n",
        "\n",
        "predictions_test, true_labels_test = [], []\n",
        "\n",
        "# Predict \n",
        "for batch in prediction_dataloader:\n",
        "  # Add batch to GPU\n",
        "  batch = tuple(t.to(device) for t in batch)\n",
        "  # Unpack the inputs from our dataloader\n",
        "  b_input_ids, b_input_mask, b_labels = batch\n",
        "  # Telling the model not to compute or store gradients, saving memory and speeding up prediction\n",
        "  with torch.no_grad():\n",
        "    # Forward pass, calculate logit predictions\n",
        "    logits = model(b_input_ids, token_type_ids=None, attention_mask=b_input_mask)\n",
        "\n",
        "  # Move logits and labels to CPU\n",
        "  logits_test = logits.detach().cpu().numpy()\n",
        "  label_ids_test = b_labels.to('cpu').numpy()\n",
        "  \n",
        "  # Store predictions and true labels\n",
        "  predictions_test.append(logits_test)\n",
        "  true_labels_test.append(label_ids_test)"
      ],
      "execution_count": 33,
      "outputs": []
    },
    {
      "cell_type": "markdown",
      "metadata": {
        "id": "iU7c-AihNHUD"
      },
      "source": [
        "Print confusion matrix."
      ]
    },
    {
      "cell_type": "code",
      "metadata": {
        "id": "8jOQnGHINJqG",
        "outputId": "5d22ba93-6a93-4b37-e6e3-3261a8469a6b",
        "colab": {
          "base_uri": "https://localhost:8080/",
          "height": 170
        }
      },
      "source": [
        "from sklearn.metrics import confusion_matrix\n",
        "\n",
        "flat_predictions_test = [item for sublist in predictions_test for item in sublist]\n",
        "flat_predictions_test = np.argmax(flat_predictions_test, axis=1).flatten()\n",
        "flat_true_labels_test = [item for sublist in true_labels_test for item in sublist]\n",
        "\n",
        "y_pred = flat_predictions_test\n",
        "y = flat_true_labels_test\n",
        "\n",
        "stats = confusion_matrix(y, y_pred).ravel()\n",
        "\n",
        "print(\"\\t\\t\\t      Predicted\\n\")\n",
        "print(\"\\t\\t\\tNone\\tValid\\tInvalid\")\n",
        "print(\"\\n\\t\\tNone\\t{}     {}        {}\".format(stats[0], stats[1], stats[2]))\n",
        "print(\"      Actual\")\n",
        "print(\"\\t\\tValid\\t{}      {}        {}\".format(stats[3], stats[4], stats[5]))\n",
        "print(\"\\n\\t\\tInvalid\\t {}       {}        {}\".format(stats[6], stats[7], stats[8]))"
      ],
      "execution_count": 34,
      "outputs": [
        {
          "output_type": "stream",
          "text": [
            "\t\t\t      Predicted\n",
            "\n",
            "\t\t\tNone\tValid\tInvalid\n",
            "\n",
            "\t\tNone\t1098     99        7\n",
            "      Actual\n",
            "\t\tValid\t104      861        7\n",
            "\n",
            "\t\tInvalid\t 10       15        23\n"
          ],
          "name": "stdout"
        }
      ]
    },
    {
      "cell_type": "markdown",
      "metadata": {
        "id": "t3_FXfJ78CKb"
      },
      "source": [
        "Now we must isolate the predictions. We will start with the negative class."
      ]
    },
    {
      "cell_type": "code",
      "metadata": {
        "id": "lxxkzX6c8FMi",
        "outputId": "7c415d6f-4d8d-4859-9b30-0f1165ac73e9",
        "colab": {
          "base_uri": "https://localhost:8080/",
          "height": 34
        }
      },
      "source": [
        "test_pred_norelation_inds = [i for i in range(len(y_pred)) if y_pred[i] == 0]\n",
        "test_pred_norelation_arr = [y_pred[i] for i in test_pred_norelation_inds]\n",
        "print(\"Predicted no relation:\",len(test_pred_norelation_inds))"
      ],
      "execution_count": 35,
      "outputs": [
        {
          "output_type": "stream",
          "text": [
            "Predicted no relation: 1212\n"
          ],
          "name": "stdout"
        }
      ]
    },
    {
      "cell_type": "markdown",
      "metadata": {
        "id": "TbeKylKY9UPy"
      },
      "source": [
        "Isolate corresponding actual labels."
      ]
    },
    {
      "cell_type": "code",
      "metadata": {
        "id": "75Za8hTD9XKo",
        "outputId": "80ebfa96-3bcd-4d0c-b4ea-ef0e51e419ed",
        "colab": {
          "base_uri": "https://localhost:8080/",
          "height": 34
        }
      },
      "source": [
        "test_true_norelation_inds = [i for i in range(len(y)) if y[i] == 0]\n",
        "test_true_norelation_arr = [y[i] for i in test_pred_norelation_inds]\n",
        "print(\"Actual no relation:\",len(test_true_norelation_inds))"
      ],
      "execution_count": 36,
      "outputs": [
        {
          "output_type": "stream",
          "text": [
            "Actual no relation: 1204\n"
          ],
          "name": "stdout"
        }
      ]
    },
    {
      "cell_type": "markdown",
      "metadata": {
        "id": "0_h6Cgja-Cco"
      },
      "source": [
        "Let's take a look at the stats for just the negative class."
      ]
    },
    {
      "cell_type": "code",
      "metadata": {
        "id": "CtvoRCCS9vEy",
        "outputId": "e198e6ff-c214-4eca-d143-4f736f2a2fb6",
        "colab": {
          "base_uri": "https://localhost:8080/",
          "height": 170
        }
      },
      "source": [
        "test_pred_norelation_all_inds = [i for i in range(len(y_pred)) if y_pred[i] == 0 or  y[i] == 0]\n",
        "test_pred_norelation_all_arr = [y_pred[i] for i in test_pred_norelation_all_inds]\n",
        "test_true_norelation_all_arr = [y[i] for i in test_pred_norelation_all_inds]\n",
        "\n",
        "neg_stats = confusion_matrix(test_true_norelation_all_arr, test_pred_norelation_all_arr).ravel()\n",
        "\n",
        "print(\"\\t\\t\\t      Predicted\\n\")\n",
        "print(\"\\t\\t\\tNone\\tValid\\tInvalid\")\n",
        "print(\"\\n\\t\\tNone\\t{}     {}        {}\".format(neg_stats[0], neg_stats[1], neg_stats[2]))\n",
        "print(\"      Actual\")\n",
        "print(\"\\t\\tValid\\t{}      {}        {}\".format(neg_stats[3], neg_stats[4], neg_stats[5]))\n",
        "print(\"\\n\\t\\tInvalid\\t {}       {}        {}\".format(neg_stats[6], neg_stats[7], neg_stats[8]))"
      ],
      "execution_count": 37,
      "outputs": [
        {
          "output_type": "stream",
          "text": [
            "\t\t\t      Predicted\n",
            "\n",
            "\t\t\tNone\tValid\tInvalid\n",
            "\n",
            "\t\tNone\t1098     99        7\n",
            "      Actual\n",
            "\t\tValid\t104      0        0\n",
            "\n",
            "\t\tInvalid\t 10       0        0\n"
          ],
          "name": "stdout"
        }
      ]
    },
    {
      "cell_type": "markdown",
      "metadata": {
        "id": "C0AjGOW5BrkD"
      },
      "source": [
        "Get precision, recall, and F1 for negative class."
      ]
    },
    {
      "cell_type": "code",
      "metadata": {
        "id": "VWpVtcFq9vBx",
        "outputId": "c1812368-585c-4129-af0b-27c97ecd9b4a",
        "colab": {
          "base_uri": "https://localhost:8080/",
          "height": 102
        }
      },
      "source": [
        "neg_prec = neg_stats[0] / (neg_stats[0] + neg_stats[3] + neg_stats[6])\n",
        "neg_rec = neg_stats[0] / (neg_stats[0] + neg_stats[1] + neg_stats[2])\n",
        "neg_f1 = 2*neg_prec*neg_rec / (neg_prec + neg_rec)\n",
        "\n",
        "print(\"Negative class metrics:\\n\")\n",
        "print(\"Precision: \",neg_prec)\n",
        "print(\"Recall:    \",neg_rec)\n",
        "print(\"F1:        \",neg_f1)"
      ],
      "execution_count": 38,
      "outputs": [
        {
          "output_type": "stream",
          "text": [
            "Negative class metrics:\n",
            "\n",
            "Precision:  0.905940594059406\n",
            "Recall:     0.9119601328903655\n",
            "F1:         0.9089403973509934\n"
          ],
          "name": "stdout"
        }
      ]
    },
    {
      "cell_type": "markdown",
      "metadata": {
        "id": "EILoHtfRMlqK"
      },
      "source": [
        "Get negative accuracy"
      ]
    },
    {
      "cell_type": "code",
      "metadata": {
        "id": "H4ySsvSYMklz",
        "outputId": "59e57c69-784a-4166-8f4b-c6eda80e3e14",
        "colab": {
          "base_uri": "https://localhost:8080/",
          "height": 85
        }
      },
      "source": [
        "num_neg_predict = 0\n",
        "neg_correct = 0\n",
        "neg_incorrect = 0\n",
        "\n",
        "for i in range(len(y)):\n",
        "  if y_pred[i] == 0:\n",
        "    num_neg_predict += 1\n",
        "    if y[i] == 0:\n",
        "      neg_correct += 1\n",
        "    else: \n",
        "      neg_incorrect += 1\n",
        "\n",
        "print(\"Total predicted negative:\",num_neg_predict)\n",
        "print(\"Negatives predicted correctly:\", neg_correct)\n",
        "print(\"Negatives predicted incorrectly:\", neg_incorrect)\n",
        "print(\"Negative accuracy:\", neg_correct/num_neg_predict)"
      ],
      "execution_count": 39,
      "outputs": [
        {
          "output_type": "stream",
          "text": [
            "Total predicted negative: 1212\n",
            "Negatives predicted correctly: 1098\n",
            "Negatives predicted incorrectly: 114\n",
            "Negative accuracy: 0.905940594059406\n"
          ],
          "name": "stdout"
        }
      ]
    },
    {
      "cell_type": "markdown",
      "metadata": {
        "id": "Bm5e6DuFDAPE"
      },
      "source": [
        "Now we must isolate the valid and invalid predictions so that we can run them through the multilabel classifier."
      ]
    },
    {
      "cell_type": "code",
      "metadata": {
        "id": "PF4eFNwK9u9_",
        "outputId": "3a4cf1c3-5e0e-48d1-cb7b-81536f6c4b6a",
        "colab": {
          "base_uri": "https://localhost:8080/",
          "height": 51
        }
      },
      "source": [
        "# Get array of all instances predicted valid\n",
        "\n",
        "test_pred_valid_inds = [i for i in range(len(y_pred)) if y_pred[i] == 1]\n",
        "test_true_valid_inds = [i for i in range(len(y)) if y[i] == 1]\n",
        "print(\"Predicted valid:\",len(test_pred_valid_inds))\n",
        "print(\"Actual valid:\",len(test_true_valid_inds))"
      ],
      "execution_count": 40,
      "outputs": [
        {
          "output_type": "stream",
          "text": [
            "Predicted valid: 975\n",
            "Actual valid: 972\n"
          ],
          "name": "stdout"
        }
      ]
    },
    {
      "cell_type": "code",
      "metadata": {
        "id": "A9LRXrfCDg7d",
        "outputId": "9d38d42a-7ca0-44cc-a58c-4267e18ad7b0",
        "colab": {
          "base_uri": "https://localhost:8080/",
          "height": 51
        }
      },
      "source": [
        "# Get array of all instances predicted invalid\n",
        "\n",
        "test_pred_invalid_inds = [i for i in range(len(y_pred)) if y_pred[i] == 2]\n",
        "test_true_invalid_inds = [i for i in range(len(y)) if y[i] == 2]\n",
        "print(\"Predicted invalid:\",len(test_pred_invalid_inds))\n",
        "print(\"Actual invalid:\",len(test_true_invalid_inds))"
      ],
      "execution_count": 41,
      "outputs": [
        {
          "output_type": "stream",
          "text": [
            "Predicted invalid: 37\n",
            "Actual invalid: 48\n"
          ],
          "name": "stdout"
        }
      ]
    },
    {
      "cell_type": "code",
      "metadata": {
        "id": "4aLutiX43Vji",
        "outputId": "148a411a-1829-4f8d-ea3b-e0902f07697b",
        "colab": {
          "base_uri": "https://localhost:8080/",
          "height": 841
        }
      },
      "source": [
        "# Create dataframe of valid predictions\n",
        "\n",
        "df_multi_test_valid = df_multi_test.copy(deep=True)\n",
        "df_multi_test_valid = df_multi_test_valid[df_multi_test_valid.index.isin(test_pred_valid_inds)]\n",
        "print(\"Test size (valid predictions):\",len(df_multi_test_valid))\n",
        "df_multi_test_valid.head(25)"
      ],
      "execution_count": 42,
      "outputs": [
        {
          "output_type": "stream",
          "text": [
            "Test size (valid predictions): 975\n"
          ],
          "name": "stdout"
        },
        {
          "output_type": "execute_result",
          "data": {
            "text/html": [
              "<div>\n",
              "<style scoped>\n",
              "    .dataframe tbody tr th:only-of-type {\n",
              "        vertical-align: middle;\n",
              "    }\n",
              "\n",
              "    .dataframe tbody tr th {\n",
              "        vertical-align: top;\n",
              "    }\n",
              "\n",
              "    .dataframe thead th {\n",
              "        text-align: right;\n",
              "    }\n",
              "</style>\n",
              "<table border=\"1\" class=\"dataframe\">\n",
              "  <thead>\n",
              "    <tr style=\"text-align: right;\">\n",
              "      <th></th>\n",
              "      <th>essay</th>\n",
              "      <th>relation</th>\n",
              "      <th>s_num</th>\n",
              "      <th>sentence</th>\n",
              "    </tr>\n",
              "  </thead>\n",
              "  <tbody>\n",
              "    <tr>\n",
              "      <th>1</th>\n",
              "      <td>EBA1415_TFHC_4_SC_ES-05825</td>\n",
              "      <td>R-1-50</td>\n",
              "      <td>2.1</td>\n",
              "      <td>Some skin cancer can be caused by the location...</td>\n",
              "    </tr>\n",
              "    <tr>\n",
              "      <th>2</th>\n",
              "      <td>EBA1415_TFHC_4_SC_ES-05825</td>\n",
              "      <td>R-1-2</td>\n",
              "      <td>3.1</td>\n",
              "      <td>The reason the sun matters is because of the d...</td>\n",
              "    </tr>\n",
              "    <tr>\n",
              "      <th>3</th>\n",
              "      <td>EBA1415_TFHC_4_SC_ES-05825</td>\n",
              "      <td>R-5-50</td>\n",
              "      <td>4.0</td>\n",
              "      <td>Another cause of skin cancer is sunbrun.</td>\n",
              "    </tr>\n",
              "    <tr>\n",
              "      <th>4</th>\n",
              "      <td>EBA1415_TFHC_4_SC_ES-05825</td>\n",
              "      <td>R-5-50</td>\n",
              "      <td>5.0</td>\n",
              "      <td>While sunbrun isn't much to worie about you ca...</td>\n",
              "    </tr>\n",
              "    <tr>\n",
              "      <th>7</th>\n",
              "      <td>EBA1415_WSAL_2_SC_ES-05359</td>\n",
              "      <td>R-2-50</td>\n",
              "      <td>8.1</td>\n",
              "      <td>It's from radiation and direct sunlight.</td>\n",
              "    </tr>\n",
              "    <tr>\n",
              "      <th>9</th>\n",
              "      <td>EBA1415_WSAL_2_SC_ES-05359</td>\n",
              "      <td>R-1-2</td>\n",
              "      <td>10.0</td>\n",
              "      <td>I read that the closer you are to the Equator,...</td>\n",
              "    </tr>\n",
              "    <tr>\n",
              "      <th>11</th>\n",
              "      <td>EBA1415_WSAL_2_SC_ES-05359</td>\n",
              "      <td>R-3-50</td>\n",
              "      <td>12.0</td>\n",
              "      <td>Also, radiation palys a part in skin cancer an...</td>\n",
              "    </tr>\n",
              "    <tr>\n",
              "      <th>13</th>\n",
              "      <td>EBA1415_WSAL_2_SC_ES-05359</td>\n",
              "      <td>R-3-4</td>\n",
              "      <td>14.1</td>\n",
              "      <td>If the skin is getting too much radiation or s...</td>\n",
              "    </tr>\n",
              "    <tr>\n",
              "      <th>14</th>\n",
              "      <td>EBA1415_WSAL_2_SC_ES-05359</td>\n",
              "      <td>R-5-50</td>\n",
              "      <td>15.1</td>\n",
              "      <td>Sunburn plays a part in skin cancer also becau...</td>\n",
              "    </tr>\n",
              "    <tr>\n",
              "      <th>15</th>\n",
              "      <td>EBA1415_WSAL_2_SC_ES-05359</td>\n",
              "      <td>R-6-50</td>\n",
              "      <td>16.0</td>\n",
              "      <td>Also, if the damaged skin cells aren't replace...</td>\n",
              "    </tr>\n",
              "    <tr>\n",
              "      <th>21</th>\n",
              "      <td>EBA1415_RDCS_1_SC_ES-4700</td>\n",
              "      <td>R-2-50</td>\n",
              "      <td>22.1</td>\n",
              "      <td>And some times it just may happen wether or no...</td>\n",
              "    </tr>\n",
              "    <tr>\n",
              "      <th>26</th>\n",
              "      <td>EBA1415_LRBL_4_SC_ES-05167</td>\n",
              "      <td>R-3-50</td>\n",
              "      <td>27.0</td>\n",
              "      <td>Skin cancer is caused by uvb radiation.</td>\n",
              "    </tr>\n",
              "    <tr>\n",
              "      <th>27</th>\n",
              "      <td>EBA1415_LRBL_4_SC_ES-05167</td>\n",
              "      <td>R-3-6</td>\n",
              "      <td>28.0</td>\n",
              "      <td>If you expose yourself a normal amount of time...</td>\n",
              "    </tr>\n",
              "    <tr>\n",
              "      <th>33</th>\n",
              "      <td>EBA1415_LRBL_4_SC_ES-05167</td>\n",
              "      <td>R-5-6</td>\n",
              "      <td>34.1</td>\n",
              "      <td>sunburned skin cells that aren't removed can r...</td>\n",
              "    </tr>\n",
              "    <tr>\n",
              "      <th>35</th>\n",
              "      <td>EBA1415_LRBL_4_SC_ES-05167</td>\n",
              "      <td>R-5-6</td>\n",
              "      <td>36.0</td>\n",
              "      <td>When sunburns are severe, it becomes less like...</td>\n",
              "    </tr>\n",
              "    <tr>\n",
              "      <th>36</th>\n",
              "      <td>EBA1415_LRBL_4_SC_ES-05167</td>\n",
              "      <td>R-1-2</td>\n",
              "      <td>37.0</td>\n",
              "      <td>Also, the closer you are to the equator, the m...</td>\n",
              "    </tr>\n",
              "    <tr>\n",
              "      <th>39</th>\n",
              "      <td>EBA1415_LRBL_4_SC_ES-05167</td>\n",
              "      <td>R-1-50</td>\n",
              "      <td>40.0</td>\n",
              "      <td>The more closer you are to the equator, the mo...</td>\n",
              "    </tr>\n",
              "    <tr>\n",
              "      <th>40</th>\n",
              "      <td>EBA1415_TFBM_1_SC_ES-05439</td>\n",
              "      <td>R-5-50</td>\n",
              "      <td>41.1</td>\n",
              "      <td>One way you can get skin cancer is from sun burn.</td>\n",
              "    </tr>\n",
              "    <tr>\n",
              "      <th>41</th>\n",
              "      <td>EBA1415_TFBM_1_SC_ES-05439</td>\n",
              "      <td>R-2-5</td>\n",
              "      <td>42.0</td>\n",
              "      <td>You get it from staying in the sun to long.</td>\n",
              "    </tr>\n",
              "    <tr>\n",
              "      <th>42</th>\n",
              "      <td>EBA1415_TFBM_1_SC_ES-05439</td>\n",
              "      <td>R-5-6</td>\n",
              "      <td>43.1</td>\n",
              "      <td>If sunburned skin arn't removed it can result ...</td>\n",
              "    </tr>\n",
              "    <tr>\n",
              "      <th>43</th>\n",
              "      <td>EBA1415_TFBM_1_SC_ES-05439</td>\n",
              "      <td>R-5-50</td>\n",
              "      <td>44.0</td>\n",
              "      <td>Suffering one bad sunburn case when you were a...</td>\n",
              "    </tr>\n",
              "    <tr>\n",
              "      <th>46</th>\n",
              "      <td>EBA1415_KYLS_5_SC_ES-05667</td>\n",
              "      <td>R-2-50</td>\n",
              "      <td>47.0</td>\n",
              "      <td>The first risk is if you're under the sun too ...</td>\n",
              "    </tr>\n",
              "    <tr>\n",
              "      <th>47</th>\n",
              "      <td>EBA1415_KYLS_5_SC_ES-05667</td>\n",
              "      <td>R-2-50</td>\n",
              "      <td>48.1</td>\n",
              "      <td>It would be a bigger risk if you're close to t...</td>\n",
              "    </tr>\n",
              "    <tr>\n",
              "      <th>50</th>\n",
              "      <td>EBA1415_KYLS_5_SC_ES-05667</td>\n",
              "      <td>R-5-50</td>\n",
              "      <td>51.0</td>\n",
              "      <td>The third risk is if you always have severely ...</td>\n",
              "    </tr>\n",
              "    <tr>\n",
              "      <th>51</th>\n",
              "      <td>EBA1415_KYLS_5_SC_ES-05667</td>\n",
              "      <td>R-6-5</td>\n",
              "      <td>52.1</td>\n",
              "      <td>It can cause death depending on how severe it ...</td>\n",
              "    </tr>\n",
              "  </tbody>\n",
              "</table>\n",
              "</div>"
            ],
            "text/plain": [
              "                         essay  ...                                           sentence\n",
              "1   EBA1415_TFHC_4_SC_ES-05825  ...  Some skin cancer can be caused by the location...\n",
              "2   EBA1415_TFHC_4_SC_ES-05825  ...  The reason the sun matters is because of the d...\n",
              "3   EBA1415_TFHC_4_SC_ES-05825  ...           Another cause of skin cancer is sunbrun.\n",
              "4   EBA1415_TFHC_4_SC_ES-05825  ...  While sunbrun isn't much to worie about you ca...\n",
              "7   EBA1415_WSAL_2_SC_ES-05359  ...           It's from radiation and direct sunlight.\n",
              "9   EBA1415_WSAL_2_SC_ES-05359  ...  I read that the closer you are to the Equator,...\n",
              "11  EBA1415_WSAL_2_SC_ES-05359  ...  Also, radiation palys a part in skin cancer an...\n",
              "13  EBA1415_WSAL_2_SC_ES-05359  ...  If the skin is getting too much radiation or s...\n",
              "14  EBA1415_WSAL_2_SC_ES-05359  ...  Sunburn plays a part in skin cancer also becau...\n",
              "15  EBA1415_WSAL_2_SC_ES-05359  ...  Also, if the damaged skin cells aren't replace...\n",
              "21   EBA1415_RDCS_1_SC_ES-4700  ...  And some times it just may happen wether or no...\n",
              "26  EBA1415_LRBL_4_SC_ES-05167  ...            Skin cancer is caused by uvb radiation.\n",
              "27  EBA1415_LRBL_4_SC_ES-05167  ...  If you expose yourself a normal amount of time...\n",
              "33  EBA1415_LRBL_4_SC_ES-05167  ...  sunburned skin cells that aren't removed can r...\n",
              "35  EBA1415_LRBL_4_SC_ES-05167  ...  When sunburns are severe, it becomes less like...\n",
              "36  EBA1415_LRBL_4_SC_ES-05167  ...  Also, the closer you are to the equator, the m...\n",
              "39  EBA1415_LRBL_4_SC_ES-05167  ...  The more closer you are to the equator, the mo...\n",
              "40  EBA1415_TFBM_1_SC_ES-05439  ...  One way you can get skin cancer is from sun burn.\n",
              "41  EBA1415_TFBM_1_SC_ES-05439  ...        You get it from staying in the sun to long.\n",
              "42  EBA1415_TFBM_1_SC_ES-05439  ...  If sunburned skin arn't removed it can result ...\n",
              "43  EBA1415_TFBM_1_SC_ES-05439  ...  Suffering one bad sunburn case when you were a...\n",
              "46  EBA1415_KYLS_5_SC_ES-05667  ...  The first risk is if you're under the sun too ...\n",
              "47  EBA1415_KYLS_5_SC_ES-05667  ...  It would be a bigger risk if you're close to t...\n",
              "50  EBA1415_KYLS_5_SC_ES-05667  ...  The third risk is if you always have severely ...\n",
              "51  EBA1415_KYLS_5_SC_ES-05667  ...  It can cause death depending on how severe it ...\n",
              "\n",
              "[25 rows x 4 columns]"
            ]
          },
          "metadata": {
            "tags": []
          },
          "execution_count": 42
        }
      ]
    },
    {
      "cell_type": "code",
      "metadata": {
        "id": "8ignFfljmc26",
        "outputId": "a98dc6b5-91c5-4ab1-c908-67d92ae20926",
        "colab": {
          "base_uri": "https://localhost:8080/",
          "height": 204
        }
      },
      "source": [
        "# Going to edit iteratively (lazily)...will fix later.\n",
        "\n",
        "for i, row in df_multi_test_valid.iterrows():\n",
        "  r = row.relation\n",
        "\n",
        "  if r == 'O': continue\n",
        "  r_split = r.split(\"-\")\n",
        "  r = r_split[1] + \",\" + r_split[2]\n",
        "  df_multi_test_valid.at[i, \"relation\"] = r\n",
        "  \n",
        "df_multi_test_valid.head()"
      ],
      "execution_count": 43,
      "outputs": [
        {
          "output_type": "execute_result",
          "data": {
            "text/html": [
              "<div>\n",
              "<style scoped>\n",
              "    .dataframe tbody tr th:only-of-type {\n",
              "        vertical-align: middle;\n",
              "    }\n",
              "\n",
              "    .dataframe tbody tr th {\n",
              "        vertical-align: top;\n",
              "    }\n",
              "\n",
              "    .dataframe thead th {\n",
              "        text-align: right;\n",
              "    }\n",
              "</style>\n",
              "<table border=\"1\" class=\"dataframe\">\n",
              "  <thead>\n",
              "    <tr style=\"text-align: right;\">\n",
              "      <th></th>\n",
              "      <th>essay</th>\n",
              "      <th>relation</th>\n",
              "      <th>s_num</th>\n",
              "      <th>sentence</th>\n",
              "    </tr>\n",
              "  </thead>\n",
              "  <tbody>\n",
              "    <tr>\n",
              "      <th>1</th>\n",
              "      <td>EBA1415_TFHC_4_SC_ES-05825</td>\n",
              "      <td>1,50</td>\n",
              "      <td>2.1</td>\n",
              "      <td>Some skin cancer can be caused by the location...</td>\n",
              "    </tr>\n",
              "    <tr>\n",
              "      <th>2</th>\n",
              "      <td>EBA1415_TFHC_4_SC_ES-05825</td>\n",
              "      <td>1,2</td>\n",
              "      <td>3.1</td>\n",
              "      <td>The reason the sun matters is because of the d...</td>\n",
              "    </tr>\n",
              "    <tr>\n",
              "      <th>3</th>\n",
              "      <td>EBA1415_TFHC_4_SC_ES-05825</td>\n",
              "      <td>5,50</td>\n",
              "      <td>4.0</td>\n",
              "      <td>Another cause of skin cancer is sunbrun.</td>\n",
              "    </tr>\n",
              "    <tr>\n",
              "      <th>4</th>\n",
              "      <td>EBA1415_TFHC_4_SC_ES-05825</td>\n",
              "      <td>5,50</td>\n",
              "      <td>5.0</td>\n",
              "      <td>While sunbrun isn't much to worie about you ca...</td>\n",
              "    </tr>\n",
              "    <tr>\n",
              "      <th>7</th>\n",
              "      <td>EBA1415_WSAL_2_SC_ES-05359</td>\n",
              "      <td>2,50</td>\n",
              "      <td>8.1</td>\n",
              "      <td>It's from radiation and direct sunlight.</td>\n",
              "    </tr>\n",
              "  </tbody>\n",
              "</table>\n",
              "</div>"
            ],
            "text/plain": [
              "                        essay  ...                                           sentence\n",
              "1  EBA1415_TFHC_4_SC_ES-05825  ...  Some skin cancer can be caused by the location...\n",
              "2  EBA1415_TFHC_4_SC_ES-05825  ...  The reason the sun matters is because of the d...\n",
              "3  EBA1415_TFHC_4_SC_ES-05825  ...           Another cause of skin cancer is sunbrun.\n",
              "4  EBA1415_TFHC_4_SC_ES-05825  ...  While sunbrun isn't much to worie about you ca...\n",
              "7  EBA1415_WSAL_2_SC_ES-05359  ...           It's from radiation and direct sunlight.\n",
              "\n",
              "[5 rows x 4 columns]"
            ]
          },
          "metadata": {
            "tags": []
          },
          "execution_count": 43
        }
      ]
    },
    {
      "cell_type": "code",
      "metadata": {
        "id": "gtYT9VxJ3Vxh",
        "outputId": "328c4472-3375-4af6-e565-4e54cf10d4a7",
        "colab": {
          "base_uri": "https://localhost:8080/",
          "height": 841
        }
      },
      "source": [
        "# Create dataframe of invalid predictions\n",
        "\n",
        "df_multi_test_invalid = df_multi_test.copy(deep=True)\n",
        "df_multi_test_invalid = df_multi_test_invalid[df_multi_test_invalid.index.isin(test_pred_invalid_inds)]\n",
        "print(\"Test size (invalid predictions):\",len(df_multi_test_invalid))\n",
        "df_multi_test_invalid.head(25)"
      ],
      "execution_count": 44,
      "outputs": [
        {
          "output_type": "stream",
          "text": [
            "Test size (invalid predictions): 37\n"
          ],
          "name": "stdout"
        },
        {
          "output_type": "execute_result",
          "data": {
            "text/html": [
              "<div>\n",
              "<style scoped>\n",
              "    .dataframe tbody tr th:only-of-type {\n",
              "        vertical-align: middle;\n",
              "    }\n",
              "\n",
              "    .dataframe tbody tr th {\n",
              "        vertical-align: top;\n",
              "    }\n",
              "\n",
              "    .dataframe thead th {\n",
              "        text-align: right;\n",
              "    }\n",
              "</style>\n",
              "<table border=\"1\" class=\"dataframe\">\n",
              "  <thead>\n",
              "    <tr style=\"text-align: right;\">\n",
              "      <th></th>\n",
              "      <th>essay</th>\n",
              "      <th>relation</th>\n",
              "      <th>s_num</th>\n",
              "      <th>sentence</th>\n",
              "    </tr>\n",
              "  </thead>\n",
              "  <tbody>\n",
              "    <tr>\n",
              "      <th>25</th>\n",
              "      <td>EBA1415_RDCS_1_SC_ES-4700</td>\n",
              "      <td>R-12-3</td>\n",
              "      <td>26.0</td>\n",
              "      <td>and there is a down side to actually to try an...</td>\n",
              "    </tr>\n",
              "    <tr>\n",
              "      <th>136</th>\n",
              "      <td>EBA1415_LZBA_3_SC_ES-05511</td>\n",
              "      <td>R-5-4</td>\n",
              "      <td>137.1</td>\n",
              "      <td>Finally, sunburn can damage skin cells making ...</td>\n",
              "    </tr>\n",
              "    <tr>\n",
              "      <th>158</th>\n",
              "      <td>EBA1415_TTCM_910_SC_ES-06146</td>\n",
              "      <td>R-12-3</td>\n",
              "      <td>159.0</td>\n",
              "      <td>It can also protect the body againist extreme ...</td>\n",
              "    </tr>\n",
              "    <tr>\n",
              "      <th>246</th>\n",
              "      <td>EBA1415_SWCT_6_SC-04869</td>\n",
              "      <td>R-12-3</td>\n",
              "      <td>247.0</td>\n",
              "      <td>Your skin can protect a lot for you but not UV...</td>\n",
              "    </tr>\n",
              "    <tr>\n",
              "      <th>330</th>\n",
              "      <td>EBA1415_SDLC_2_SC_ES-04733</td>\n",
              "      <td>R-12-3</td>\n",
              "      <td>331.1</td>\n",
              "      <td>Our skin has some protection from solar radiat...</td>\n",
              "    </tr>\n",
              "    <tr>\n",
              "      <th>485</th>\n",
              "      <td>EBA1415_SERS_13-14_SC_ES-05102</td>\n",
              "      <td>R-2-5</td>\n",
              "      <td>486.1</td>\n",
              "      <td>If you don't protect yourself from the sun, yo...</td>\n",
              "    </tr>\n",
              "    <tr>\n",
              "      <th>695</th>\n",
              "      <td>EBA1415_BLRW_3_SC_ES-05171</td>\n",
              "      <td>R-11-12</td>\n",
              "      <td>697.1</td>\n",
              "      <td>It helps you to protect from the solar radiati...</td>\n",
              "    </tr>\n",
              "    <tr>\n",
              "      <th>735</th>\n",
              "      <td>EBA1415_TRWH_8_SC_ES-06078</td>\n",
              "      <td>O</td>\n",
              "      <td>737.0</td>\n",
              "      <td>When you get sunburn it is hurting your skin.//</td>\n",
              "    </tr>\n",
              "    <tr>\n",
              "      <th>762</th>\n",
              "      <td>EBA1415_LZBA_4_SC_ES-05530</td>\n",
              "      <td>R-12-3</td>\n",
              "      <td>764.0</td>\n",
              "      <td>The skin is critical in providing a healthy li...</td>\n",
              "    </tr>\n",
              "    <tr>\n",
              "      <th>770</th>\n",
              "      <td>EBA1415_SWSP_1_SC_ES-04854</td>\n",
              "      <td>R-12-3</td>\n",
              "      <td>772.0</td>\n",
              "      <td>Normally, the skin protects the body against e...</td>\n",
              "    </tr>\n",
              "    <tr>\n",
              "      <th>772</th>\n",
              "      <td>EBA1415_SWSP_1_SC_ES-04854</td>\n",
              "      <td>R-12-3</td>\n",
              "      <td>774.0</td>\n",
              "      <td>Even though our skin protects us against solar...</td>\n",
              "    </tr>\n",
              "    <tr>\n",
              "      <th>828</th>\n",
              "      <td>EBA1415_KYNS_4_SC_ES-5389_9</td>\n",
              "      <td>R-12-3</td>\n",
              "      <td>830.1</td>\n",
              "      <td>The skin protects the body from UV radiation b...</td>\n",
              "    </tr>\n",
              "    <tr>\n",
              "      <th>841</th>\n",
              "      <td>EBA1415_SVJJ_2_SC-06277</td>\n",
              "      <td>R-12-3</td>\n",
              "      <td>843.0</td>\n",
              "      <td>It also protect the body against extreme tempe...</td>\n",
              "    </tr>\n",
              "    <tr>\n",
              "      <th>1017</th>\n",
              "      <td>EBA1415_TFBM_2_SC_ES-05550</td>\n",
              "      <td>O</td>\n",
              "      <td>1019.0</td>\n",
              "      <td>Another positive is that our bodies have some ...</td>\n",
              "    </tr>\n",
              "    <tr>\n",
              "      <th>1037</th>\n",
              "      <td>EBA1415_TRKM_2_SC_ES-06052</td>\n",
              "      <td>R-12-3</td>\n",
              "      <td>1039.0</td>\n",
              "      <td>Your skin can protect it's self some what agai...</td>\n",
              "    </tr>\n",
              "    <tr>\n",
              "      <th>1083</th>\n",
              "      <td>EBA1415_TWPK_1_SC_ES-05042</td>\n",
              "      <td>R-2-3</td>\n",
              "      <td>1085.1</td>\n",
              "      <td>The sun can damage your cell's in your body, b...</td>\n",
              "    </tr>\n",
              "    <tr>\n",
              "      <th>1097</th>\n",
              "      <td>EBA1415_SERS_1516_SC-5114</td>\n",
              "      <td>R-11-12</td>\n",
              "      <td>1099.1</td>\n",
              "      <td>It's a special pigment developed in the epider...</td>\n",
              "    </tr>\n",
              "    <tr>\n",
              "      <th>1313</th>\n",
              "      <td>EBA1415_WSAL_1_SC_ES-05349</td>\n",
              "      <td>R-12-3</td>\n",
              "      <td>1315.1</td>\n",
              "      <td>Our skin can come off as extremely protective,...</td>\n",
              "    </tr>\n",
              "    <tr>\n",
              "      <th>1401</th>\n",
              "      <td>EBA1415_KNKC_1_SC_ES-05424_9</td>\n",
              "      <td>O</td>\n",
              "      <td>1403.0</td>\n",
              "      <td>In this case sunburn happens and become severa...</td>\n",
              "    </tr>\n",
              "    <tr>\n",
              "      <th>1432</th>\n",
              "      <td>EBA1415_SEAL_34_SC_ES-04788</td>\n",
              "      <td>R-12-3</td>\n",
              "      <td>1434.0</td>\n",
              "      <td>It also protects your body against extreme tem...</td>\n",
              "    </tr>\n",
              "    <tr>\n",
              "      <th>1472</th>\n",
              "      <td>EBA1415_LZBA_4_SC_ES-05531</td>\n",
              "      <td>R-12-3</td>\n",
              "      <td>1474.0</td>\n",
              "      <td>Skin does have some defenses against solar rad...</td>\n",
              "    </tr>\n",
              "    <tr>\n",
              "      <th>1527</th>\n",
              "      <td>EBA1415_RDCS_2_SC_ES-04709</td>\n",
              "      <td>R-12-2</td>\n",
              "      <td>1529.1</td>\n",
              "      <td>The human body has skin over it to help preven...</td>\n",
              "    </tr>\n",
              "    <tr>\n",
              "      <th>1573</th>\n",
              "      <td>EBA1415_TRJA_11_SC_ES-05708</td>\n",
              "      <td>R-5-4</td>\n",
              "      <td>1575.0</td>\n",
              "      <td>When sunburn occur it damage the genetic molec...</td>\n",
              "    </tr>\n",
              "    <tr>\n",
              "      <th>1640</th>\n",
              "      <td>EBA1415_RDCS_1_SC_ES-04702</td>\n",
              "      <td>R-3-4</td>\n",
              "      <td>1642.0</td>\n",
              "      <td>It causes damage to skin cells.</td>\n",
              "    </tr>\n",
              "    <tr>\n",
              "      <th>1726</th>\n",
              "      <td>EBA1415_TWPK_3_SC_ES-06199</td>\n",
              "      <td>R-12-3</td>\n",
              "      <td>1728.0</td>\n",
              "      <td>Your skin does have some defences against sola...</td>\n",
              "    </tr>\n",
              "  </tbody>\n",
              "</table>\n",
              "</div>"
            ],
            "text/plain": [
              "                               essay  ...                                           sentence\n",
              "25         EBA1415_RDCS_1_SC_ES-4700  ...  and there is a down side to actually to try an...\n",
              "136       EBA1415_LZBA_3_SC_ES-05511  ...  Finally, sunburn can damage skin cells making ...\n",
              "158     EBA1415_TTCM_910_SC_ES-06146  ...  It can also protect the body againist extreme ...\n",
              "246          EBA1415_SWCT_6_SC-04869  ...  Your skin can protect a lot for you but not UV...\n",
              "330       EBA1415_SDLC_2_SC_ES-04733  ...  Our skin has some protection from solar radiat...\n",
              "485   EBA1415_SERS_13-14_SC_ES-05102  ...  If you don't protect yourself from the sun, yo...\n",
              "695       EBA1415_BLRW_3_SC_ES-05171  ...  It helps you to protect from the solar radiati...\n",
              "735       EBA1415_TRWH_8_SC_ES-06078  ...    When you get sunburn it is hurting your skin.//\n",
              "762       EBA1415_LZBA_4_SC_ES-05530  ...  The skin is critical in providing a healthy li...\n",
              "770       EBA1415_SWSP_1_SC_ES-04854  ...  Normally, the skin protects the body against e...\n",
              "772       EBA1415_SWSP_1_SC_ES-04854  ...  Even though our skin protects us against solar...\n",
              "828      EBA1415_KYNS_4_SC_ES-5389_9  ...  The skin protects the body from UV radiation b...\n",
              "841          EBA1415_SVJJ_2_SC-06277  ...  It also protect the body against extreme tempe...\n",
              "1017      EBA1415_TFBM_2_SC_ES-05550  ...  Another positive is that our bodies have some ...\n",
              "1037      EBA1415_TRKM_2_SC_ES-06052  ...  Your skin can protect it's self some what agai...\n",
              "1083      EBA1415_TWPK_1_SC_ES-05042  ...  The sun can damage your cell's in your body, b...\n",
              "1097       EBA1415_SERS_1516_SC-5114  ...  It's a special pigment developed in the epider...\n",
              "1313      EBA1415_WSAL_1_SC_ES-05349  ...  Our skin can come off as extremely protective,...\n",
              "1401    EBA1415_KNKC_1_SC_ES-05424_9  ...  In this case sunburn happens and become severa...\n",
              "1432     EBA1415_SEAL_34_SC_ES-04788  ...  It also protects your body against extreme tem...\n",
              "1472      EBA1415_LZBA_4_SC_ES-05531  ...  Skin does have some defenses against solar rad...\n",
              "1527      EBA1415_RDCS_2_SC_ES-04709  ...  The human body has skin over it to help preven...\n",
              "1573     EBA1415_TRJA_11_SC_ES-05708  ...  When sunburn occur it damage the genetic molec...\n",
              "1640      EBA1415_RDCS_1_SC_ES-04702  ...                    It causes damage to skin cells.\n",
              "1726      EBA1415_TWPK_3_SC_ES-06199  ...  Your skin does have some defences against sola...\n",
              "\n",
              "[25 rows x 4 columns]"
            ]
          },
          "metadata": {
            "tags": []
          },
          "execution_count": 44
        }
      ]
    },
    {
      "cell_type": "code",
      "metadata": {
        "id": "b0xw5ddamuk6",
        "outputId": "c41ab625-bf13-447b-88f9-3dbda443adb6",
        "colab": {
          "base_uri": "https://localhost:8080/",
          "height": 204
        }
      },
      "source": [
        "# Going to edit iteratively (lazily)...will fix later.\n",
        "\n",
        "for i, row in df_multi_test_invalid.iterrows():\n",
        "  r = row.relation\n",
        "\n",
        "  if r == 'O': continue\n",
        "  r_split = r.split(\"-\")\n",
        "  r = r_split[1] + \",\" + r_split[2]\n",
        "  df_multi_test_invalid.at[i, \"relation\"] = r\n",
        "  \n",
        "df_multi_test_invalid.head()"
      ],
      "execution_count": 45,
      "outputs": [
        {
          "output_type": "execute_result",
          "data": {
            "text/html": [
              "<div>\n",
              "<style scoped>\n",
              "    .dataframe tbody tr th:only-of-type {\n",
              "        vertical-align: middle;\n",
              "    }\n",
              "\n",
              "    .dataframe tbody tr th {\n",
              "        vertical-align: top;\n",
              "    }\n",
              "\n",
              "    .dataframe thead th {\n",
              "        text-align: right;\n",
              "    }\n",
              "</style>\n",
              "<table border=\"1\" class=\"dataframe\">\n",
              "  <thead>\n",
              "    <tr style=\"text-align: right;\">\n",
              "      <th></th>\n",
              "      <th>essay</th>\n",
              "      <th>relation</th>\n",
              "      <th>s_num</th>\n",
              "      <th>sentence</th>\n",
              "    </tr>\n",
              "  </thead>\n",
              "  <tbody>\n",
              "    <tr>\n",
              "      <th>25</th>\n",
              "      <td>EBA1415_RDCS_1_SC_ES-4700</td>\n",
              "      <td>12,3</td>\n",
              "      <td>26.0</td>\n",
              "      <td>and there is a down side to actually to try an...</td>\n",
              "    </tr>\n",
              "    <tr>\n",
              "      <th>136</th>\n",
              "      <td>EBA1415_LZBA_3_SC_ES-05511</td>\n",
              "      <td>5,4</td>\n",
              "      <td>137.1</td>\n",
              "      <td>Finally, sunburn can damage skin cells making ...</td>\n",
              "    </tr>\n",
              "    <tr>\n",
              "      <th>158</th>\n",
              "      <td>EBA1415_TTCM_910_SC_ES-06146</td>\n",
              "      <td>12,3</td>\n",
              "      <td>159.0</td>\n",
              "      <td>It can also protect the body againist extreme ...</td>\n",
              "    </tr>\n",
              "    <tr>\n",
              "      <th>246</th>\n",
              "      <td>EBA1415_SWCT_6_SC-04869</td>\n",
              "      <td>12,3</td>\n",
              "      <td>247.0</td>\n",
              "      <td>Your skin can protect a lot for you but not UV...</td>\n",
              "    </tr>\n",
              "    <tr>\n",
              "      <th>330</th>\n",
              "      <td>EBA1415_SDLC_2_SC_ES-04733</td>\n",
              "      <td>12,3</td>\n",
              "      <td>331.1</td>\n",
              "      <td>Our skin has some protection from solar radiat...</td>\n",
              "    </tr>\n",
              "  </tbody>\n",
              "</table>\n",
              "</div>"
            ],
            "text/plain": [
              "                            essay  ...                                           sentence\n",
              "25      EBA1415_RDCS_1_SC_ES-4700  ...  and there is a down side to actually to try an...\n",
              "136    EBA1415_LZBA_3_SC_ES-05511  ...  Finally, sunburn can damage skin cells making ...\n",
              "158  EBA1415_TTCM_910_SC_ES-06146  ...  It can also protect the body againist extreme ...\n",
              "246       EBA1415_SWCT_6_SC-04869  ...  Your skin can protect a lot for you but not UV...\n",
              "330    EBA1415_SDLC_2_SC_ES-04733  ...  Our skin has some protection from solar radiat...\n",
              "\n",
              "[5 rows x 4 columns]"
            ]
          },
          "metadata": {
            "tags": []
          },
          "execution_count": 45
        }
      ]
    },
    {
      "cell_type": "markdown",
      "metadata": {
        "id": "vwrKQ35WB8SX"
      },
      "source": [
        "Now we will fine-tune a BERT model just for the valid relations."
      ]
    },
    {
      "cell_type": "code",
      "metadata": {
        "id": "Gk61RXMdB7_6",
        "outputId": "c16a7947-7866-4417-c225-20d0b3b859e7",
        "colab": {
          "base_uri": "https://localhost:8080/",
          "height": 204
        }
      },
      "source": [
        "# First must edit relations \n",
        "\n",
        "df_valid = df.copy(deep=True)\n",
        "\n",
        "# Going to edit iteratively (lazily)...will fix later.\n",
        "\n",
        "for i, row in df_valid.iterrows():\n",
        "  r = row.relation\n",
        "\n",
        "  if r == 'O': continue\n",
        "  r_split = r.split(\"-\")\n",
        "  r = r_split[1] + \",\" + r_split[2]\n",
        "  df_valid.at[i, \"relation\"] = r\n",
        "  \n",
        "df_valid.head()"
      ],
      "execution_count": 46,
      "outputs": [
        {
          "output_type": "execute_result",
          "data": {
            "text/html": [
              "<div>\n",
              "<style scoped>\n",
              "    .dataframe tbody tr th:only-of-type {\n",
              "        vertical-align: middle;\n",
              "    }\n",
              "\n",
              "    .dataframe tbody tr th {\n",
              "        vertical-align: top;\n",
              "    }\n",
              "\n",
              "    .dataframe thead th {\n",
              "        text-align: right;\n",
              "    }\n",
              "</style>\n",
              "<table border=\"1\" class=\"dataframe\">\n",
              "  <thead>\n",
              "    <tr style=\"text-align: right;\">\n",
              "      <th></th>\n",
              "      <th>essay</th>\n",
              "      <th>relation</th>\n",
              "      <th>s_num</th>\n",
              "      <th>sentence</th>\n",
              "    </tr>\n",
              "  </thead>\n",
              "  <tbody>\n",
              "    <tr>\n",
              "      <th>0</th>\n",
              "      <td>EBA1415_TFHC_1_SC_ES-05947</td>\n",
              "      <td>O</td>\n",
              "      <td>1.0</td>\n",
              "      <td>This essay is about skin damage, latitude and ...</td>\n",
              "    </tr>\n",
              "    <tr>\n",
              "      <th>1</th>\n",
              "      <td>EBA1415_TFHC_1_SC_ES-05947</td>\n",
              "      <td>O</td>\n",
              "      <td>2.0</td>\n",
              "      <td>The skin damage is on our bodies that have num...</td>\n",
              "    </tr>\n",
              "    <tr>\n",
              "      <th>2</th>\n",
              "      <td>EBA1415_TFHC_1_SC_ES-05947</td>\n",
              "      <td>O</td>\n",
              "      <td>3.0</td>\n",
              "      <td>There are three main varieties of skin cancer ...</td>\n",
              "    </tr>\n",
              "    <tr>\n",
              "      <th>3</th>\n",
              "      <td>EBA1415_TFHC_1_SC_ES-05947</td>\n",
              "      <td>O</td>\n",
              "      <td>4.0</td>\n",
              "      <td>That would be what skin damage is.</td>\n",
              "    </tr>\n",
              "    <tr>\n",
              "      <th>4</th>\n",
              "      <td>EBA1415_TFHC_1_SC_ES-05947</td>\n",
              "      <td>1,2</td>\n",
              "      <td>5.0</td>\n",
              "      <td>Latitude and direct sunlight would be the cols...</td>\n",
              "    </tr>\n",
              "  </tbody>\n",
              "</table>\n",
              "</div>"
            ],
            "text/plain": [
              "                        essay  ...                                           sentence\n",
              "0  EBA1415_TFHC_1_SC_ES-05947  ...  This essay is about skin damage, latitude and ...\n",
              "1  EBA1415_TFHC_1_SC_ES-05947  ...  The skin damage is on our bodies that have num...\n",
              "2  EBA1415_TFHC_1_SC_ES-05947  ...  There are three main varieties of skin cancer ...\n",
              "3  EBA1415_TFHC_1_SC_ES-05947  ...                 That would be what skin damage is.\n",
              "4  EBA1415_TFHC_1_SC_ES-05947  ...  Latitude and direct sunlight would be the cols...\n",
              "\n",
              "[5 rows x 4 columns]"
            ]
          },
          "metadata": {
            "tags": []
          },
          "execution_count": 46
        }
      ]
    },
    {
      "cell_type": "code",
      "metadata": {
        "id": "OHQC9EcTB78r",
        "outputId": "e026b22c-2329-42e6-b3f8-01a46c123864",
        "colab": {
          "base_uri": "https://localhost:8080/",
          "height": 204
        }
      },
      "source": [
        "# Now isolate the valid ones\n",
        "\n",
        "df_valid = df_valid[df_valid['relation'].isin(relations)]\n",
        "df_valid.head()"
      ],
      "execution_count": 47,
      "outputs": [
        {
          "output_type": "execute_result",
          "data": {
            "text/html": [
              "<div>\n",
              "<style scoped>\n",
              "    .dataframe tbody tr th:only-of-type {\n",
              "        vertical-align: middle;\n",
              "    }\n",
              "\n",
              "    .dataframe tbody tr th {\n",
              "        vertical-align: top;\n",
              "    }\n",
              "\n",
              "    .dataframe thead th {\n",
              "        text-align: right;\n",
              "    }\n",
              "</style>\n",
              "<table border=\"1\" class=\"dataframe\">\n",
              "  <thead>\n",
              "    <tr style=\"text-align: right;\">\n",
              "      <th></th>\n",
              "      <th>essay</th>\n",
              "      <th>relation</th>\n",
              "      <th>s_num</th>\n",
              "      <th>sentence</th>\n",
              "    </tr>\n",
              "  </thead>\n",
              "  <tbody>\n",
              "    <tr>\n",
              "      <th>4</th>\n",
              "      <td>EBA1415_TFHC_1_SC_ES-05947</td>\n",
              "      <td>1,2</td>\n",
              "      <td>5.0</td>\n",
              "      <td>Latitude and direct sunlight would be the cols...</td>\n",
              "    </tr>\n",
              "    <tr>\n",
              "      <th>5</th>\n",
              "      <td>EBA1415_TFHC_1_SC_ES-05947</td>\n",
              "      <td>1,2</td>\n",
              "      <td>6.0</td>\n",
              "      <td>The most yearound direct sunlight occurs betwe...</td>\n",
              "    </tr>\n",
              "    <tr>\n",
              "      <th>24</th>\n",
              "      <td>EBA1415_SDMK_6_SC_ES-06292</td>\n",
              "      <td>1,50</td>\n",
              "      <td>25.0</td>\n",
              "      <td>Where you are located can tell how much of a r...</td>\n",
              "    </tr>\n",
              "    <tr>\n",
              "      <th>25</th>\n",
              "      <td>EBA1415_SDMK_6_SC_ES-06292</td>\n",
              "      <td>1,2</td>\n",
              "      <td>26.1</td>\n",
              "      <td>If you are between the Tropics of Cancer and c...</td>\n",
              "    </tr>\n",
              "    <tr>\n",
              "      <th>26</th>\n",
              "      <td>EBA1415_SDMK_6_SC_ES-06292</td>\n",
              "      <td>2,3</td>\n",
              "      <td>26.2</td>\n",
              "      <td>If you are between the Tropics of Cancer and c...</td>\n",
              "    </tr>\n",
              "  </tbody>\n",
              "</table>\n",
              "</div>"
            ],
            "text/plain": [
              "                         essay  ...                                           sentence\n",
              "4   EBA1415_TFHC_1_SC_ES-05947  ...  Latitude and direct sunlight would be the cols...\n",
              "5   EBA1415_TFHC_1_SC_ES-05947  ...  The most yearound direct sunlight occurs betwe...\n",
              "24  EBA1415_SDMK_6_SC_ES-06292  ...  Where you are located can tell how much of a r...\n",
              "25  EBA1415_SDMK_6_SC_ES-06292  ...  If you are between the Tropics of Cancer and c...\n",
              "26  EBA1415_SDMK_6_SC_ES-06292  ...  If you are between the Tropics of Cancer and c...\n",
              "\n",
              "[5 rows x 4 columns]"
            ]
          },
          "metadata": {
            "tags": []
          },
          "execution_count": 47
        }
      ]
    },
    {
      "cell_type": "code",
      "metadata": {
        "id": "_7M4xhtpVTGR"
      },
      "source": [
        "# Create sentence and label lists\n",
        "sentences = df_valid.sentence.values\n",
        "\n",
        "# Add special tokens at the beginning and end of each sentence to comply with BERT\n",
        "sentences = [\"[CLS] \" + sentence + \" [SEP]\" for sentence in sentences]\n",
        "labels = df_valid.relation.values"
      ],
      "execution_count": 48,
      "outputs": []
    },
    {
      "cell_type": "code",
      "metadata": {
        "id": "bFBVb9SnV2lC",
        "outputId": "8916a6f9-5c05-4c36-cf7c-0e4460456741",
        "colab": {
          "base_uri": "https://localhost:8080/",
          "height": 54
        }
      },
      "source": [
        "# Now that our [CLS] and [SEP] tokens are in place, we are ready for tokenization\n",
        "tokenizer = BertTokenizer.from_pretrained('bert-base-uncased', do_lower_case=True)\n",
        "tokenized_texts = [tokenizer.tokenize(sent) for sent in sentences]\n",
        "print (\"First sentence tokenized: \",tokenized_texts[0])"
      ],
      "execution_count": 49,
      "outputs": [
        {
          "output_type": "stream",
          "text": [
            "First sentence tokenized:  ['[CLS]', 'latitude', 'and', 'direct', 'sunlight', 'would', 'be', 'the', 'col', '##ser', 'you', 'are', 'to', 'the', 'equator', 'the', 'more', 'consistent', 'direct', 'sunlight', 'there', 'will', 'be', '.', '[SEP]']\n"
          ],
          "name": "stdout"
        }
      ]
    },
    {
      "cell_type": "code",
      "metadata": {
        "id": "g6oMfrkJV2id",
        "outputId": "8c9ee6b6-710d-4d1f-a60f-41147ce36075",
        "colab": {
          "base_uri": "https://localhost:8080/",
          "height": 34
        }
      },
      "source": [
        "'''\n",
        "For each tokenized input sentence, we need to create:\n",
        "\n",
        "1. input ids:\n",
        "    a sequence of integers identifying each input token to its index number \n",
        "    in the BERT tokenizer vocabulary\n",
        "\n",
        "2. segment mask: (optional) a sequence of 1s and 0s used to identify whether the input is one \n",
        "    sentence or two sentences long. For one sentence inputs, this is simply a sequence of 0s. \n",
        "    For two sentence inputs, there is a 0 for each token of the first sentence, followed by a \n",
        "    1 for each token of the second sentence\n",
        "\n",
        "3. attention mask: (optional) \n",
        "    a sequence of 1s and 0s, with 1s for all input tokens and 0s for all padding tokens \n",
        "\n",
        "4. labels: based on the labels from the data set\n",
        "'''\n",
        "\n",
        "# For now, we will simply delete the tokenized_texts greater than MAX_LEN.\n",
        "\n",
        "# We need to strip out the sentences greater than MAX_LEN tokens\n",
        "original_length = len(tokenized_texts)\n",
        "\n",
        "labels = [labels[i] for i in range(len(tokenized_texts)) if len(tokenized_texts[i]) <= MAX_LEN]\n",
        "tokenized_texts = [tokenized_texts[i] for i in range(len(tokenized_texts)) if len(tokenized_texts[i]) <= MAX_LEN]\n",
        "print(\"Removed {0} sentences greater than {1}\".format(original_length - len(tokenized_texts),MAX_LEN))"
      ],
      "execution_count": 50,
      "outputs": [
        {
          "output_type": "stream",
          "text": [
            "Removed 4 sentences greater than 128\n"
          ],
          "name": "stdout"
        }
      ]
    },
    {
      "cell_type": "code",
      "metadata": {
        "id": "Qfkf30I7V2fo"
      },
      "source": [
        "# Use the BERT tokenizer to convert the tokens to their index numbers in the BERT vocabulary\n",
        "input_ids = [tokenizer.convert_tokens_to_ids(x) for x in tokenized_texts]"
      ],
      "execution_count": 51,
      "outputs": []
    },
    {
      "cell_type": "code",
      "metadata": {
        "id": "M1QC94d1V2cn"
      },
      "source": [
        "# Pad our input tokens\n",
        "input_ids = pad_sequences(input_ids, maxlen=MAX_LEN, dtype=\"long\", truncating=\"post\", padding=\"post\")"
      ],
      "execution_count": 52,
      "outputs": []
    },
    {
      "cell_type": "code",
      "metadata": {
        "id": "a4kn-_K5V2Zf"
      },
      "source": [
        "# Create attention masks\n",
        "attention_masks = []\n",
        "\n",
        "# Create a mask of 1s for each token followed by 0s for padding\n",
        "for seq in input_ids:\n",
        "  seq_mask = [float(i>0) for i in seq]\n",
        "  attention_masks.append(seq_mask)"
      ],
      "execution_count": 53,
      "outputs": []
    },
    {
      "cell_type": "code",
      "metadata": {
        "id": "Q-XO_erkWOWL",
        "outputId": "ff9163e3-99ce-49c7-a184-cc5db81c4c90",
        "colab": {
          "base_uri": "https://localhost:8080/",
          "height": 71
        }
      },
      "source": [
        "# Now map each label to its corresponding integer\n",
        "print(\"Old labels: \",str(labels))\n",
        "labels = [relations.index(l) for l in labels]\n",
        "print(\"New labels: \",str(labels))"
      ],
      "execution_count": 54,
      "outputs": [
        {
          "output_type": "stream",
          "text": [
            "Old labels:  ['1,2', '1,2', '1,50', '1,2', '2,3', '3,4', '5,6', '2,50', '2,50', '1,2', '1,50', '5,6', '4,5', '1,2', '1,2', '3,50', '1,2', '2,5', '5,50', '2,3', '3,4', '5,50', '3,50', '1,50', '2,50', '1,50', '4,50', '1,50', '2,50', '1,50', '2,50', '1,50', '5,50', '5,50', '4,5', '5,50', '3,50', '5,6', '2,5', '2,5', '1,2', '3,4', '2,3', '2,5', '3,50', '5,50', '5,50', '5,50', '5,6', '6,50', '5,6', '4,5', '4,5', '5,50', '1,50', '1,2', '2,50', '2,4', '1,2', '5,50', '1,5', '5,6', '6,50', '1,50', '2,50', '1,2', '2,50', '2,3', '11,50', '11,12', '11,50', '5,50', '5,6', '4,5', '4,5', '5,6', '5,50', '4,50', '4,50', '1,2', '2,3', '3,4', '1,50', '5,50', '2,50', '2,3', '3,50', '3,4', '3,4', '5,50', '5,50', '2,50', '2,50', '2,50', '2,4', '1,50', '3,50', '5,50', '2,50', '5,50', '1,2', '5,6', '6,50', '5,50', '5,50', '2,50', '2,50', '4,5', '5,6', '6,50', '5,50', '2,50', '1,2', '2,50', '2,3', '1,2', '5,50', '5,6', '4,5', '5,6', '5,6', '6,50', '5,50', '4,5', '5,50', '3,50', '6,50', '5,50', '5,50', '4,5', '5,6', '6,50', '1,50', '3,50', '5,50', '2,3', '1,2', '2,3', '5,50', '5,6', '5,50', '1,50', '2,50', '5,50', '2,4', '4,6', '6,50', '5,6', '2,50', '1,2', '2,50', '2,50', '2,50', '2,3', '1,2', '1,50', '3,4', '5,50', '6,50', '5,6', '6,50', '5,50', '5,50', '6,50', '5,6', '5,6', '5,50', '2,50', '1,2', '3,4', '5,50', '3,50', '2,50', '5,50', '4,5', '5,6', '5,6', '6,50', '4,6', '5,50', '4,5', '5,50', '3,50', '4,5', '1,50', '2,4', '4,50', '5,50', '5,6', '6,50', '5,50', '5,50', '5,50', '4,5', '4,5', '5,50', '5,50', '2,5', '3,50', '2,50', '2,50', '1,2', '1,2', '2,5', '5,50', '2,5', '5,50', '5,6', '1,50', '1,50', '4,50', '2,3', '3,4', '3,4', '1,2', '2,50', '2,50', '5,6', '6,50', '5,6', '2,5', '6,50', '5,50', '5,50', '3,50', '3,4', '3,50', '5,6', '6,50', '5,6', '6,50', '6,50', '3,50', '5,50', '3,50', '2,50', '3,50', '2,50', '2,3', '5,6', '3,4', '4,6', '3,4', '4,5', '4,50', '6,50', '5,6', '5,50', '4,5', '5,6', '6,50', '5,6', '5,50', '1,2', '3,6', '6,50', '2,50', '11,12', '4,5', '5,6', '2,50', '3,50', '3,4', '5,50', '5,50', '5,6', '6,50', '5,50', '11,50', '5,50', '1,50', '1,50', '1,50', '11,50', '5,50', '5,50', '11,50', '11,50', '1,2', '1,50', '2,50', '5,6', '6,50', '5,50', '5,6', '6,50', '5,6', '5,50', '5,50', '3,50', '3,4', '1,50', '1,2', '3,50', '2,50', '2,50', '6,50', '1,2', '1,2', '2,50', '2,3', '5,6', '6,50', '3,4', '5,50', '5,6', '6,50', '5,6', '1,50', '5,50', '5,50', '3,5', '4,5', '5,6', '6,50', '5,50', '1,50', '1,2', '1,2', '2,3', '3,4', '5,50', '1,50', '2,5', '3,50', '1,3', '2,3', '1,2', '1,3', '1,2', '5,50', '6,50', '4,6', '1,2', '1,3', '2,50', '5,6', '6,50', '5,50', '2,5', '2,3', '1,2', '1,50', '1,50', '3,50', '5,50', '1,50', '3,50', '5,50', '1,50', '3,50', '1,2', '2,3', '3,50', '5,50', '3,50', '2,3', '3,4', '5,50', '4,6', '5,6', '5,6', '5,50', '5,6', '1,2', '1,2', '1,50', '2,50', '2,50', '2,50', '3,50', '6,50', '5,50', '2,3', '1,2', '1,2', '2,3', '3,5', '4,5', '5,6', '6,50', '4,5', '5,6', '4,5', '2,50', '1,2', '1,2', '5,6', '6,50', '1,50', '2,50', '5,50', '5,50', '5,50', '1,50', '1,3', '1,2', '3,4', '4,6', '5,50', '5,6', '6,50', '2,50', '1,50', '3,4', '1,3', '2,3', '1,2', '2,50', '3,5', '3,4', '5,6', '5,6', '11,12', '11,12', '11,12', '5,6', '4,5', '5,6', '5,6', '6,50', '5,6', '2,50', '2,3', '2,50', '1,2', '1,2', '1,2', '1,2', '2,50', '11,12', '11,12', '1,50', '1,50', '3,4', '2,50', '2,50', '3,50', '3,4', '2,50', '5,6', '4,5', '5,6', '6,50', '1,2', '1,2', '1,50', '1,2', '11,12', '3,50', '1,3', '6,50', '2,50', '1,50', '2,50', '2,50', '1,2', '1,2', '2,50', '1,2', '5,50', '5,6', '6,50', '3,50', '2,50', '1,2', '5,50', '2,50', '2,50', '3,4', '3,6', '5,6', '6,50', '5,6', '2,50', '4,50', '4,6', '6,50', '2,50', '2,50', '1,2', '5,50', '1,2', '2,50', '2,3', '3,4', '3,4', '4,6', '6,50', '11,12', '1,50', '1,50', '5,50', '11,12', '3,5', '5,6', '5,6', '6,50', '2,4', '4,5', '5,50', '1,50', '1,50', '2,50', '2,3', '3,4', '4,50', '1,50', '1,2', '1,2', '5,50', '4,5', '2,4', '2,4', '5,50', '5,50', '5,50', '1,50', '1,50', '11,50', '1,2', '2,5', '2,5', '5,6', '1,50', '1,50', '11,50', '5,50', '1,50', '3,50', '2,50', '1,50', '3,50', '3,4', '5,50', '5,50', '1,50', '2,50', '2,4', '3,4', '5,50', '5,6', '5,6', '6,50', '5,6', '5,50', '5,50', '4,5', '2,50', '3,4', '4,5', '4,5', '5,6', '1,50', '2,50', '1,2', '1,2', '1,2', '3,50', '3,50', '1,2', '2,3', '1,50', '1,4', '2,4', '1,2', '5,50', '11,12', '5,50', '3,50', '3,4', '5,50', '5,6', '6,50', '5,50', '3,50', '11,12', '4,5', '5,6', '5,6', '4,5', '5,6', '5,6', '6,50', '1,50', '1,2', '2,50', '1,50', '2,3', '3,4', '6,50', '3,5', '3,50', '2,3', '3,4', '2,50', '1,50', '5,50', '3,4', '5,50', '1,50', '3,50', '2,50', '1,50', '1,2', '1,3', '5,50', '5,6', '6,50', '1,2', '2,50', '1,50', '5,50', '11,50', '1,50', '11,50', '5,50', '2,50', '11,12', '2,50', '1,5', '1,2', '2,5', '5,50', '5,50', '6,50', '11,50', '1,50', '5,50', '3,50', '3,50', '2,50', '2,50', '12,50', '5,50', '5,50', '1,50', '5,50', '5,6', '6,50', '5,50', '5,6', '1,2', '1,2', '1,2', '2,5', '4,5', '5,6', '6,50', '4,5', '5,6', '6,50', '5,50', '11,50', '1,50', '1,50', '1,50', '11,50', '11,12', '11,50', '5,50', '5,50', '5,50', '11,50', '1,50', '2,50', '4,5', '5,50', '5,6', '6,50', '5,50', '5,6', '6,50', '4,5', '5,6', '5,50', '3,50', '5,50', '3,4', '3,4', '4,6', '3,50', '3,4', '5,50', '5,6', '6,50', '6,50', '2,3', '1,3', '3,4', '3,4', '3,6', '2,5', '5,50', '5,6', '4,5', '5,6', '5,6', '6,50', '5,6', '5,50', '2,50', '3,50', '2,3', '3,4', '2,5', '6,50', '2,50', '5,50', '5,50', '5,50', '5,50', '1,50', '1,50', '1,50', '3,50', '2,50', '5,50', '3,50', '2,3', '11,12', '4,6', '1,50', '1,2', '2,3', '2,4', '4,5', '5,6', '5,6', '6,50', '5,50', '5,50', '5,6', '5,50', '5,6', '6,50', '1,50', '2,50', '4,50', '1,2', '1,50', '4,5', '5,6', '5,50', '11,50', '2,50', '1,2', '3,50', '1,2', '2,3', '3,4', '4,50', '5,6', '6,50', '2,50', '3,50', '1,50', '2,50', '1,2', '1,50', '11,12', '12,50', '11,12', '11,50', '6,50', '5,50', '2,50', '2,50', '11,12', '11,50', '11,12', '11,50', '11,50', '5,50', '5,50', '6,50', '1,2', '1,2', '1,2', '1,50', '2,50', '5,50', '6,50', '5,6', '1,2', '2,50', '3,50', '3,50', '1,3', '1,50', '3,4', '1,2', '1,2', '2,5', '4,5', '4,5', '5,6', '6,50', '2,50', '1,2', '2,3', '1,3', '1,2', '2,50', '3,50', '4,5', '3,4', '5,6', '6,50', '2,3', '1,2', '3,4', '4,6', '6,50', '1,2', '1,50', '11,12', '11,12', '5,6', '5,50', '5,6', '5,50', '5,50', '1,2', '3,4', '11,12', '4,5', '1,50', '6,50', '1,2', '2,50', '2,50', '3,4', '11,12', '4,5', '5,6', '5,6', '6,50', '4,5', '5,6', '2,50', '2,3', '3,4', '1,2', '1,50', '2,3', '11,12', '11,50', '6,50', '4,50', '5,50', '5,50', '5,50', '2,50', '5,50', '2,3', '3,4', '3,50', '2,4', '5,50', '2,50', '1,2', '2,4', '4,5', '5,6', '1,50', '3,50', '1,3', '11,50', '2,50', '2,50', '2,4', '2,50', '5,6', '6,50', '5,50', '1,2', '1,2', '5,50', '1,50', '2,5', '5,50', '4,50', '2,4', '5,6', '6,50', '1,50', '3,50', '3,50', '2,3', '2,50', '1,50', '6,50', '2,50', '1,2', '5,50', '5,6', '6,50', '4,5', '5,50', '1,50', '1,2', '1,2', '2,3', '5,50', '4,5', '5,6', '6,50', '4,5', '3,50', '3,50', '3,50', '11,50', '2,50', '1,2', '5,50', '4,50', '3,4', '6,50', '6,50', '1,2', '5,50', '5,50', '1,2', '2,50', '2,5', '11,12', '5,50', '6,50', '5,6', '2,50', '1,50', '1,50', '2,50', '5,50', '1,2', '3,50', '5,50', '1,50', '2,50', '2,50', '1,2', '2,50', '3,4', '5,50', '3,5', '6,50', '2,50', '2,3', '3,4', '3,6', '5,50', '5,50', '5,50', '5,50', '5,6', '6,50', '5,6', '2,50', '2,50', '2,50', '3,50', '3,4', '3,50', '5,50', '3,50', '3,4', '5,6', '6,50', '5,50', '4,5', '5,6', '2,3', '3,50', '2,3', '5,50', '2,5', '5,50', '2,3', '2,5', '2,50', '2,50', '3,50', '1,2', '5,50', '1,2', '1,2', '2,3', '4,5', '4,6', '4,6', '6,50', '6,50', '5,50', '5,50', '3,50', '5,50', '3,50', '1,50', '11,12', '11,12', '11,12', '5,50', '4,5', '1,50', '1,50', '2,50', '1,2', '2,5', '4,5', '5,6', '6,50', '5,6', '2,50', '2,50', '1,2', '2,5', '5,6', '6,50', '3,6', '5,50', '3,50', '3,50', '2,3', '2,5', '2,4', '1,50', '2,50', '1,2', '1,5', '1,2', '2,3', '3,50', '1,2', '11,12', '11,12', '5,50', '4,5', '5,6', '6,50', '5,50', '5,50', '5,6', '6,50', '1,2', '3,50', '2,50', '2,50', '1,50', '11,12', '11,12', '6,50', '4,6', '5,50', '1,2', '5,50', '6,50', '5,50', '4,5', '5,6', '6,50', '5,6', '6,50', '5,50', '2,50', '4,50', '1,2', '5,6', '6,50', '5,50', '5,50', '2,5', '5,50', '2,5', '1,50', '1,2', '1,2', '1,50', '1,50', '2,50', '2,50', '1,2', '2,50', '2,50', '5,50', '2,50', '1,50', '2,50', '1,2', '2,50', '1,50', '1,2', '1,2', '1,2', '2,50', '5,50', '4,6', '5,6', '6,50', '5,50', '5,50', '4,5', '2,50', '3,50', '3,4', '2,3', '2,3', '1,3', '1,2', '2,50', '5,50', '4,50', '4,50', '4,5', '6,50', '3,50', '2,3', '3,50', '1,50', '5,50', '3,50', '1,50', '5,50', '1,2', '3,4', '5,6', '6,50', '5,50', '3,50', '1,50', '4,5', '5,6', '3,4', '3,4', '4,50', '1,2', '2,3', '3,50', '3,50', '3,5', '3,5', '2,5', '2,3', '3,50', '3,5', '11,50', '11,50', '2,50', '1,50', '1,50', '5,50', '1,50', '1,50', '5,50', '5,50', '5,50', '1,50', '5,50', '2,50', '1,2', '2,50', '2,50', '1,2', '2,3', '3,4', '3,50', '11,12', '12,50', '1,5', '5,50', '5,6', '6,50', '3,50', '1,50', '2,3', '1,50', '11,12', '11,12', '5,6', '6,50', '2,4', '3,50', '3,4', '5,50', '4,5', '5,6', '5,50', '5,50', '5,50', '1,2', '2,50', '5,50', '11,12', '5,50', '2,50', '3,50', '3,50', '2,3', '1,2', '11,12', '5,50', '1,50', '1,2', '1,2', '2,3', '3,50', '5,50', '5,50', '4,5', '2,4', '6,50', '5,6', '5,50', '1,50', '2,50', '5,50', '1,50', '2,50', '5,50', '1,2', '1,2', '2,3', '3,50', '5,50', '6,50', '5,50', '3,4', '2,3', '4,6', '5,6', '5,6', '6,50', '5,50', '1,50', '1,2', '1,2', '1,50', '1,2', '2,3', '5,50', '5,6', '6,50', '5,50', '2,50', '5,50', '2,50', '3,50', '3,4', '4,5', '5,6', '3,50', '2,50', '5,50', '6,50', '3,5', '3,4', '1,50', '3,50', '6,50', '5,50', '4,5', '3,50', '5,50', '1,2', '4,5', '2,4', '5,50', '5,6', '6,50', '5,50', '11,50', '2,50', '1,50', '5,50', '11,50', '2,50', '1,50', '1,50', '11,50', '5,50', '5,50', '5,50', '5,50', '5,6', '6,50', '5,50', '5,50', '2,5', '5,50', '1,3', '1,2', '1,3', '1,2', '2,3', '11,50', '1,50', '1,50', '1,2', '3,50', '11,12', '11,12', '3,50', '2,3', '3,50', '3,4', '5,50', '4,6', '2,50', '4,5', '5,6', '1,2', '2,50', '1,50', '2,50', '5,50', '5,6', '5,50', '2,50', '2,50', '2,3', '3,4', '11,12', '1,50', '1,2', '2,50', '5,50', '3,50', '1,50', '5,6', '6,50', '5,50', '3,4', '1,2', '2,50', '2,3', '3,4', '1,50', '1,2', '1,2', '2,50', '3,4', '4,50', '4,50', '11,12', '5,6', '6,50', '6,50', '2,50', '3,5', '5,6', '6,50', '1,50', '1,2', '2,50', '5,50', '5,50', '5,6', '6,50', '2,3', '2,3', '11,12', '11,12', '5,50', '5,50', '5,50', '5,50', '5,50', '1,50', '1,3', '3,4', '1,2', '1,2', '4,50', '3,4', '2,50', '12,50', '5,50', '5,50', '5,6', '6,50', '4,5', '2,4', '2,4', '4,50', '1,50', '1,2', '2,4', '4,50', '1,2', '6,50', '5,50', '2,50', '2,5', '1,50', '2,50', '1,50', '2,4', '4,50', '1,50', '1,2', '2,5', '2,5', '5,50', '5,50', '1,50', '6,50', '5,50', '1,50', '5,50', '3,50', '1,50', '5,50', '3,50', '3,50', '1,50', '5,50', '1,50', '1,2', '1,2', '1,50', '3,50', '1,2', '2,5', '5,50', '6,50', '11,50', '1,3', '1,2', '2,50', '3,50', '3,50', '2,50', '3,4', '5,50', '6,50', '3,50', '3,50', '2,3', '2,50', '5,6', '3,6', '5,50', '5,6', '6,50', '3,50', '5,50', '3,5', '5,50', '3,4', '2,3', '5,6', '6,50', '1,2', '4,5', '5,50', '1,2', '2,3', '3,5', '5,50', '3,5', '1,50', '2,50', '2,50', '1,2', '2,4', '5,50', '5,6', '6,50', '1,3', '3,4', '11,50', '5,50', '3,50', '11,50', '2,50', '5,6', '6,50', '5,6', '6,50', '11,12', '3,50', '2,3', '11,12', '1,2', '5,50', '1,50', '1,2', '1,50', '5,6', '4,5', '5,6', '5,50', '5,50', '1,50', '1,2', '1,2', '1,50', '1,2', '2,50', '1,50', '6,50', '5,6', '5,6', '6,50', '4,6', '5,6', '6,50', '6,50', '2,50', '1,2', '5,6', '6,50', '2,50', '1,2', '2,4', '4,5', '5,6', '2,4', '5,6', '6,50', '5,6', '5,50', '5,50', '11,12', '11,12', '2,50', '5,50', '1,50', '1,3', '3,4', '3,50', '2,50', '1,2', '1,50', '1,2', '3,4', '2,3', '3,50', '2,50', '1,2', '1,2', '3,50', '2,3', '1,5', '5,6', '11,12', '1,3', '1,2', '1,3', '4,5', '6,50', '5,50', '5,50', '3,50', '1,50', '2,50', '5,50', '1,50', '2,50', '5,50', '3,50', '1,50', '2,50', '1,2', '1,2', '2,50', '5,50', '5,50', '5,50', '5,6', '6,50', '3,50', '2,3', '5,50', '5,6', '4,5', '5,6', '5,6', '6,50', '5,50', '3,50', '5,50', '3,50', '3,50', '2,4', '5,50', '5,6', '6,50', '2,3', '3,50', '3,50', '2,3', '1,50', '1,2', '1,50', '11,12', '11,12', '11,12', '5,50', '5,50', '5,50', '1,50', '1,2', '2,50', '1,2', '2,50', '3,50', '3,50', '5,50', '5,6', '6,50', '6,50', '5,50', '2,50', '2,50', '5,50', '1,2', '2,50', '2,5', '2,5', '2,50', '1,2', '2,50', '3,4', '5,50', '5,50', '5,50', '5,6', '6,50', '5,50', '5,50', '5,50', '4,5', '5,50', '1,50', '1,50', '2,3', '3,50', '5,6', '6,50', '1,50', '1,2', '1,2', '5,50', '5,6', '6,50', '2,5', '4,5', '2,50', '2,50', '2,50', '1,50', '5,50', '3,50', '5,50', '4,5', '6,50', '3,50', '3,50', '11,12', '11,12', '3,50', '1,50', '1,50', '1,2', '2,50', '11,12', '4,5', '5,6', '5,6', '6,50', '1,50', '5,50', '1,50', '1,3', '3,50', '5,50', '5,50', '5,50', '5,50', '5,50', '1,50', '2,50', '2,50', '5,50', '5,50', '5,50', '2,3', '3,4', '11,12', '11,12', '11,12', '4,5', '5,6', '6,50', '1,50', '1,2', '2,50', '2,50', '3,50', '11,12', '11,12', '5,6', '6,50', '5,50', '5,50', '1,50', '2,50', '1,50', '5,50', '2,5', '1,2', '1,50', '1,2', '2,50', '2,3', '1,2', '2,3', '3,4', '4,6', '11,12', '11,50', '2,50', '1,50', '5,50', '5,50', '5,6', '2,50', '2,50', '1,2', '1,2', '3,50', '2,50', '3,4', '6,50', '5,6', '2,50', '2,4', '4,50', '2,50', '1,2', '1,5', '5,50', '5,6', '6,50', '2,5', '1,2', '11,12', '11,12', '4,5', '5,6', '5,6', '6,50', '4,5', '4,5', '4,5', '2,50', '2,5', '2,50', '1,2', '11,12', '5,50', '5,50', '1,50', '5,50', '3,50', '1,2', '3,4', '4,5', '5,6', '5,6', '6,50', '5,50', '5,50', '5,50', '1,50', '5,50', '4,5', '5,6', '5,50', '5,6', '6,50', '5,50', '3,4', '6,50', '1,50', '1,2', '1,2', '1,50', '1,50', '1,2', '4,5', '5,6', '5,50', '5,50', '3,50', '3,50', '2,3', '5,50', '2,5', '2,50', '1,2', '2,3', '1,50', '5,50', '5,50', '1,5', '6,50', '5,6', '5,50', '2,50', '3,4', '11,12', '1,5', '1,2', '2,50', '2,50', '2,4', '5,50', '6,50', '2,50', '5,50', '5,6', '2,50', '2,50', '2,5', '2,5', '5,50', '2,5', '1,2', '5,50', '5,50', '1,50', '3,50', '5,50', '1,50', '2,50', '3,50', '11,50', '11,12', '1,50', '1,2', '1,2', '2,3', '2,3', '1,50', '5,6', '6,50', '1,50', '3,50', '3,6', '3,6', '6,50', '5,6', '6,50', '2,5', '4,5', '2,5', '2,50', '2,50', '5,50', '5,50', '3,50', '4,50', '2,50', '4,5', '5,50', '3,50', '4,6', '6,50', '5,50', '1,3', '1,2', '3,50', '2,50', '3,4', '4,6', '1,50', '1,50', '1,2', '1,2', '1,2', '1,50', '1,2', '2,5', '3,50', '3,5', '3,5', '5,6', '5,50', '1,50', '1,50', '1,2', '1,50', '3,50', '1,2', '2,50', '5,50', '2,50', '5,50', '1,50', '2,50', '2,50', '1,50', '1,50', '1,50', '1,2', '2,3', '3,4', '4,5', '5,50', '5,6', '6,50', '3,50', '2,3', '3,50', '2,50', '11,12', '2,4', '4,5', '5,6', '6,50', '5,50', '2,50', '1,50', '2,50', '1,50', '2,50', '1,50', '2,50', '1,50', '2,50', '1,50', '5,6', '5,6', '6,50', '5,6', '4,5', '3,50', '2,3', '3,50', '3,50', '2,3', '3,50', '1,3', '1,50', '1,2', '1,50', '5,50', '4,5', '5,50', '3,50', '3,50', '3,4', '5,50', '2,50', '1,50', '2,50', '2,50', '1,2', '1,2', '1,3', '2,5', '5,50', '6,50', '5,50', '3,50', '2,50', '4,50', '1,50', '1,50', '1,50', '5,6', '4,5', '2,5', '5,50', '5,50', '4,5', '1,2', '5,50', '5,6', '6,50', '5,50', '1,50', '1,2', '2,50', '3,50', '4,50', '5,50', '3,50', '1,50', '2,50', '2,50', '5,6', '6,50', '2,4', '3,4', '3,4', '2,3', '2,3', '3,50', '11,12', '11,12', '3,50', '3,50', '1,50', '1,2', '2,3', '1,50', '1,2', '2,50', '1,50', '2,50', '5,50', '2,5', '5,50', '6,50', '11,12', '5,50', '4,5', '5,6', '6,50', '5,50', '1,2', '1,2', '2,50', '1,3', '3,50', '1,2', '2,3', '5,6', '6,50', '3,4', '1,2', '1,50', '5,6', '6,50', '2,50', '2,50', '1,2', '2,50', '1,50', '11,12', '3,50', '2,50', '1,2', '1,2', '2,50', '2,50', '2,50', '5,50', '4,6', '3,4', '3,50', '3,4', '1,50', '2,50', '1,2', '1,50', '2,50', '3,50', '3,6', '3,4', '1,2', '2,50', '2,50', '1,2', '2,3', '2,3', '3,4', '11,12', '11,12', '5,6', '5,6', '1,2', '2,3', '3,6', '3,6', '3,6', '3,50', '3,50', '3,50', '3,4', '5,50', '2,50', '2,50', '5,6', '4,5', '5,6', '6,50', '5,6', '5,50', '2,50', '1,50', '1,2', '1,50', '1,50', '3,4', '11,12', '11,12', '5,50', '1,2', '2,5', '4,5', '5,6', '6,50', '4,50', '5,50', '5,50', '4,5', '5,6', '11,50', '2,50', '1,50', '1,2', '2,50', '11,12', '3,50', '2,50', '4,6', '6,50', '2,50', '2,50', '5,50', '5,6', '5,50', '6,50', '2,50', '2,3', '3,50', '4,50', '5,50', '5,6', '6,50', '4,6', '4,5', '5,6', '5,50', '1,50', '1,2', '1,3', '2,3', '5,50', '1,50', '3,4', '2,5', '2,50', '2,50', '1,50', '1,50', '2,50', '4,50', '1,2', '5,50', '5,50', '11,12', '11,12', '1,50', '1,2', '3,50', '3,4', '5,50', '5,50', '5,50', '2,50', '1,50', '5,50', '3,50', '5,50', '5,50', '5,50', '5,50', '5,6', '5,50', '1,50', '1,2', '2,50', '2,5', '1,2', '3,5', '5,50', '2,50', '1,2', '1,2', '1,2', '2,50', '1,50', '3,50', '3,50', '3,4', '3,50', '4,50', '2,50', '4,50', '5,6', '6,50', '2,50', '1,2', '2,5', '5,6', '6,50', '1,50', '1,2', '2,3', '2,50', '1,50', '2,50', '2,50', '1,3', '2,4', '4,6', '5,50', '5,50', '4,6', '4,6', '4,6', '1,50', '2,50', '1,2', '5,50', '4,5', '5,6', '6,50', '5,50', '5,50', '1,50', '1,2', '2,5', '5,50', '4,50', '11,12', '11,12', '1,5', '1,50', '5,50', '1,50', '2,50', '2,5', '5,6', '2,50', '6,50', '2,6', '6,50', '5,50', '6,50', '5,6', '5,6', '4,5', '1,2', '1,2', '4,5', '5,6', '6,50', '1,2', '3,50', '1,50', '3,5', '3,50', '3,5', '5,6', '3,5', '5,6', '2,50', '1,2', '1,50', '1,50', '3,50', '1,2', '2,3', '2,50', '1,2', '1,50', '1,50', '1,2', '1,3', '1,3', '1,2', '2,50', '3,4', '2,3', '5,50', '5,50', '5,50', '6,50', '1,50', '2,50', '1,50', '1,2', '1,2', '2,3', '3,4', '4,50', '1,50', '5,50', '11,50', '1,50', '1,2', '4,5', '3,4', '4,50', '4,50', '5,50', '1,2', '3,4', '5,6', '6,50', '1,50', '5,50', '3,50', '2,3', '1,2', '2,50', '2,4', '3,4', '4,50', '5,6', '6,50', '5,50', '3,50', '5,50', '5,50', '5,50', '5,50', '1,50', '1,50', '1,2', '1,2', '2,50', '1,2', '1,50', '5,6', '5,6', '6,50', '11,12', '3,50', '1,50', '3,4', '1,2', '2,3', '4,5', '4,5', '5,6', '3,5', '1,3', '5,50', '1,50', '1,50', '5,50', '5,50', '1,50', '5,50', '5,50', '4,5', '5,50', '1,50', '1,2', '2,3', '3,50', '1,50', '1,50', '3,50', '2,3', '5,50', '1,50', '5,50', '4,5', '5,6', '6,50', '1,50', '3,50', '5,50', '1,50', '1,2', '1,2', '2,3', '3,50', '3,4', '3,4', '3,5', '5,50', '5,50', '1,2', '2,50', '3,4', '11,12', '11,12', '11,12', '11,12', '5,50', '5,6', '5,50', '5,50', '4,5', '5,50', '4,5', '5,6', '6,50', '5,50', '5,50', '5,50', '1,2', '2,50', '2,50', '4,50', '2,50', '3,4', '4,50', '2,4', '5,50', '2,5', '5,6', '6,50', '2,50', '1,50', '1,50', '3,4', '3,6', '2,5', '2,4', '5,50', '1,50', '1,2', '4,50', '3,4', '2,3', '5,50', '4,5', '5,6', '6,50', '5,50', '1,2', '1,50', '3,4', '11,12', '3,4', '4,50', '4,50', '5,50', '5,50', '5,6', '6,50', '6,50', '2,50', '2,50', '5,50', '5,6', '2,6', '1,50', '1,2', '5,50', '6,50', '5,6', '6,50', '5,50', '5,50', '3,4', '2,4', '4,50', '3,50', '4,50', '3,50', '2,4', '2,50', '3,50', '1,3', '1,2', '4,6', '5,6', '6,50', '1,50', '11,12', '11,12', '11,12', '11,12', '12,50', '11,50', '2,50', '2,50', '4,50', '4,50', '4,50', '6,50', '3,4', '5,50', '5,6', '6,50', '5,50', '2,50', '5,50', '1,50', '4,50', '3,50', '1,2', '1,50', '5,50', '4,5', '5,50', '5,6', '4,5', '1,50', '2,50', '1,50', '2,50', '1,50', '1,2', '1,50', '2,50', '2,50', '1,50', '1,2', '1,50', '1,50', '5,50', '3,50', '2,3', '5,50', '1,3', '1,2', '1,50', '1,3', '1,2', '1,50', '4,5', '5,6', '6,50', '3,50', '5,50', '2,3', '1,2', '1,50', '5,50', '4,5', '5,6', '5,6', '6,50', '6,50', '5,50', '2,50', '1,50', '1,2', '2,50', '2,4', '4,50', '6,50', '5,6', '2,50', '5,50', '3,50', '2,50', '1,50', '1,2', '3,4', '11,12', '11,12', '5,6', '6,50', '5,50', '4,5', '1,2', '2,50', '5,6', '6,50', '1,50', '2,50', '2,3', '2,50', '1,2', '2,3', '3,50', '1,2', '2,50', '11,12', '3,4', '5,6', '6,50', '5,6', '6,50', '5,50', '2,5', '5,6', '5,6', '6,50', '4,5', '5,6', '6,50', '1,50', '4,50', '5,50', '1,50', '4,5', '4,5', '5,50', '3,4', '4,5', '4,6', '3,4', '6,50', '5,6', '5,6', '5,50', '2,50', '5,50', '1,50', '3,50', '1,50', '5,50', '2,50', '1,2', '2,5', '2,5', '4,5', '5,6', '6,50', '5,6', '3,50', '6,50', '1,2', '2,50', '1,50', '3,50', '2,50', '5,50', '5,50', '1,2', '2,50', '3,4', '1,50', '5,50', '1,50', '1,2', '2,3', '2,4', '4,5', '4,5', '5,6', '4,6', '4,50', '4,50', '5,50', '1,50', '1,2', '2,50', '1,2', '1,50', '1,50', '11,50', '2,50', '5,50', '5,50', '5,6', '2,50', '1,50', '5,50', '4,50', '2,50', '1,50', '5,50', '4,50', '4,5', '5,6', '4,5', '4,5', '11,12', '11,12', '1,50', '1,2', '1,2', '5,50', '4,5', '5,6', '5,6', '6,50', '5,6', '5,50', '5,50', '1,50', '1,2', '1,50', '2,3', '5,50', '5,6', '5,6', '6,50', '6,50', '5,50', '4,5', '4,5', '2,50', '3,50', '1,50', '3,50', '1,50', '2,3', '1,50', '1,2', '2,3', '3,50', '1,2', '2,50', '2,3', '3,5', '6,50', '3,50', '5,6', '6,50', '4,50', '6,50', '2,50', '3,4', '11,12', '2,50', '5,50', '3,50', '2,3', '5,6', '6,50', '2,50', '3,5', '2,3', '2,50', '2,50', '5,6', '6,50', '6,50', '5,6', '3,50', '3,4', '11,12', '4,5', '5,6', '2,50', '1,50', '1,50', '2,50', '11,12', '11,12', '5,50', '5,6', '5,6', '6,50', '5,50', '1,50', '5,50', '3,50', '2,50', '3,50', '2,50', '3,4', '5,50', '5,50', '6,50', '1,2', '1,50', '3,5', '5,50', '1,2', '4,5', '5,6', '2,50', '5,6', '5,6', '6,50', '2,50', '5,50', '2,50', '1,50', '1,50', '1,50', '1,50', '5,50', '5,50', '2,50', '1,50', '1,50', '1,2', '2,4', '4,50', '2,50', '5,6', '1,2', '1,50', '5,50', '1,50', '5,50', '1,2', '1,2', '2,4', '1,50', '1,2', '2,3', '3,4', '5,50', '5,50', '4,50', '5,6', '6,50', '1,50', '5,50', '2,50', '1,50', '2,50', '1,50', '5,6', '6,50', '1,50', '1,50', '1,2', '2,3', '11,12', '11,50', '5,50', '3,5', '5,6', '5,6', '6,50', '5,50', '4,50', '3,50', '4,50', '3,4', '5,50', '2,6', '2,6', '6,50', '2,50', '3,50', '3,50', '2,50', '2,50', '4,6', '11,12', '11,12', '4,5', '5,6', '5,6', '5,6', '6,50', '4,6', '5,50', '5,50', '5,50', '5,50', '2,50', '1,2', '2,3', '2,3', '3,4', '5,50', '4,5', '5,6', '6,50', '5,50', '5,50', '5,6', '6,50', '2,4', '5,6', '11,50', '12,50', '3,50', '3,4', '2,3', '2,50', '1,2', '3,4', '4,5', '5,50', '1,2', '1,50', '5,50', '3,50', '5,50', '2,50', '3,4', '1,3', '1,50', '1,50', '2,3', '1,50', '5,50', '5,50', '5,6', '6,50', '1,50', '1,2', '2,50', '2,5', '1,50', '4,5', '6,50', '1,2', '2,3', '1,2', '1,2', '1,2', '6,50', '3,6', '2,3', '1,2', '2,5', '5,50', '5,50', '1,5', '2,5', '5,50', '2,50', '1,50', '2,50', '1,50', '5,50', '5,6', '5,50', '5,50', '5,50', '1,50', '1,50', '1,50', '2,50', '1,50', '3,50', '3,4', '3,50', '11,12', '11,12', '3,50', '5,50', '4,5', '6,50', '5,6', '1,50', '3,50', '5,50', '3,50', '2,3', '5,6', '6,50', '11,12', '4,5', '5,6', '6,50', '4,5', '1,50', '4,50', '2,50', '4,50', '5,50', '5,50', '5,50', '5,6', '6,50', '5,50', '2,3', '4,50', '11,12', '1,5', '5,50', '4,50', '5,50', '5,50', '4,5', '5,50', '5,50', '5,6', '6,50', '5,50', '1,50', '1,50', '3,50', '3,50', '2,3', '3,4', '3,4', '2,50', '2,5', '5,50', '1,50', '2,50', '1,2', '1,50', '3,50', '2,3', '3,5', '1,3', '1,2', '2,50', '11,50', '2,50', '4,50', '2,50', '1,50', '1,2', '2,50', '3,4', '3,4', '2,4', '4,50', '5,6', '3,50', '2,50', '2,50', '1,50', '5,50', '6,50', '5,6', '2,5', '1,5', '4,5', '5,6', '5,6', '6,50', '5,50', '5,50', '1,50', '1,2', '2,50', '2,3', '3,6', '3,6', '5,6', '5,50', '5,6', '4,5', '1,50', '2,50', '1,2', '2,3', '11,12', '3,5', '5,6', '4,5', '5,6', '6,50', '5,50', '5,50', '3,50', '2,3', '5,50', '2,50', '2,50', '2,3', '2,3', '3,50', '5,50', '5,6', '6,50', '5,6', '6,50', '5,50', '3,4', '2,3', '4,50', '4,5', '5,6', '6,50', '1,2', '3,50', '2,3', '5,50', '2,50', '1,50', '1,2', '2,3', '2,3', '3,4', '4,6', '2,4', '5,6', '6,50', '5,50', '2,50', '6,50', '5,6', '6,50', '2,5', '2,50', '1,5', '1,5', '5,6', '6,50', '5,6', '5,50', '4,5', '1,50', '1,2', '1,50', '1,2', '3,4', '11,12', '5,6', '2,50', '1,2', '2,50', '5,50', '5,50', '2,50', '5,50', '2,50', '5,50', '4,5', '5,6', '5,50', '2,50', '1,2', '2,50', '1,2', '2,3', '2,50', '11,12', '12,50', '5,50', '5,6', '6,50', '5,50', '3,50', '2,50', '1,2', '2,5', '2,5', '5,50', '5,6', '5,6', '6,50', '11,12', '11,12', '5,50', '1,50', '1,50', '1,2', '2,50', '2,3', '3,4', '4,50', '5,50', '4,6', '6,50', '5,6', '5,50', '5,50', '2,50', '5,6', '6,50', '1,50', '1,2', '2,3', '3,50', '2,50', '1,3', '2,3', '11,12', '11,12', '11,50', '3,50', '1,50', '5,50', '5,50', '5,50', '3,50', '2,3', '5,50', '4,5', '2,50', '1,2', '2,3', '3,50', '2,50', '2,5', '4,6', '6,50', '5,50', '5,50', '1,50', '1,50', '1,50', '11,50', '1,50', '1,2', '2,3', '3,4', '3,6', '11,12', '11,12', '1,2', '1,2', '11,12', '2,50', '1,2', '1,2', '1,2', '2,3', '3,4', '11,12', '5,6', '5,6', '5,6', '5,50', '3,50', '3,4', '5,50', '5,6', '6,50', '5,50', '5,50', '5,50', '5,6', '6,50', '2,50', '1,50', '1,50', '2,50', '1,50', '1,2', '2,50', '1,50', '3,4', '2,50', '2,50', '2,50', '2,4', '4,5', '3,50', '2,3', '2,50', '1,50', '5,6', '6,50', '5,6', '6,50', '3,4', '3,50', '3,50', '2,3', '3,4', '3,50', '3,50', '3,4', '3,4', '3,50', '4,5', '3,4', '5,50', '5,50', '3,50', '5,50', '3,50', '5,50', '6,50', '5,50', '3,50', '2,3', '3,6', '6,50', '3,4', '4,50', '5,6', '2,50', '5,50', '1,2', '1,2', '1,2', '1,2', '2,3', '5,6', '4,5', '5,6', '5,50', '5,50', '5,50', '4,5', '5,6', '5,6', '6,50', '5,6', '4,5', '5,50', '5,50', '5,50', '5,6', '5,6', '4,5', '5,50', '4,5', '1,2', '2,50', '3,4', '3,4', '11,12', '11,12', '4,5', '2,4', '5,6', '4,5', '5,6', '6,50', '5,50', '1,2', '3,6', '11,12', '5,6', '5,6', '6,50', '5,6', '2,3', '1,2', '4,5', '5,6', '5,50', '2,50', '2,5', '5,6', '4,6', '5,50', '1,50', '5,6', '4,5', '4,5', '2,50', '1,2', '1,2', '2,3', '2,3', '2,50', '5,50', '3,50', '2,50', '5,50', '3,50', '2,50', '4,5', '1,50', '1,50', '5,50', '2,50', '2,5', '5,50', '5,50', '5,50', '2,50', '2,50', '2,50', '5,50', '2,50', '5,50', '5,50', '2,5', '2,4', '3,4', '5,50', '1,50', '3,50', '2,50', '1,2', '2,50', '5,6', '5,50', '5,6', '6,50', '5,50', '5,50', '3,50', '5,50', '5,6', '6,50', '5,50', '2,50', '1,2', '1,2', '2,3', '3,50', '3,50', '3,50', '5,6', '4,5', '5,6', '6,50', '3,50', '5,50', '2,50', '2,50', '3,50', '3,4', '5,50', '2,50', '1,50', '1,50', '2,50', '2,50', '2,3', '5,50', '4,5', '5,6', '4,50', '6,50', '5,50', '5,50', '2,50', '1,2', '2,3', '3,50', '11,12', '2,50', '11,50', '11,50', '4,50', '5,50', '5,6', '6,50', '5,50', '11,12', '11,12', '5,50', '1,2', '1,50', '1,2', '11,12', '11,12', '11,12', '11,12', '5,50', '5,50', '5,50', '4,5', '4,5', '5,50', '4,5', '2,4', '1,2', '3,50', '2,50', '3,50', '4,5', '5,6', '6,50', '4,6', '2,50', '1,2', '1,2', '1,3', '3,50', '2,50', '5,6', '6,50', '5,50', '4,50', '2,50', '1,3', '11,12', '5,6', '6,50', '2,5', '5,50', '1,50', '1,2', '1,50', '1,2', '1,50', '1,3', '3,50', '11,50', '1,50', '1,50', '11,50', '1,50', '11,50', '1,50', '11,50', '3,50', '2,3', '1,2', '1,50', '11,12', '11,12', '1,50', '11,50', '1,2', '1,2', '2,5', '2,5', '5,50', '5,50', '5,50', '4,5', '5,6', '6,50', '5,6', '2,50', '1,50', '2,50', '1,50', '1,2', '2,50', '2,50', '3,4', '11,12', '11,12', '5,50', '5,6', '5,6', '6,50', '5,50', '4,5', '5,6', '2,50', '3,4', '3,6', '1,2', '2,50', '1,50', '11,12', '5,50', '1,2', '12,50', '12,50', '3,4', '5,50', '5,50', '4,5', '3,50', '5,50', '3,5', '3,50', '5,6', '6,50', '5,50', '3,4', '3,50', '3,4', '3,4', '4,6', '3,50', '5,50', '2,4', '5,50', '3,50', '2,50', '1,2', '3,50', '5,50', '3,50', '5,50', '2,3', '4,5', '5,50', '6,50', '2,3', '3,50', '1,2', '1,50', '2,50', '5,50', '2,50', '1,2', '1,2', '5,50', '4,5', '2,4', '2,4', '5,6', '6,50', '4,5', '5,50', '2,50', '2,50', '1,3', '1,2', '2,3', '3,4', '1,4', '5,50', '4,5', '5,6', '6,50', '5,50', '5,50', '5,50', '2,50', '1,50', '1,2', '3,50', '2,3', '2,50', '5,50', '5,6', '6,50', '1,50', '1,50', '1,50', '5,50', '5,6', '6,50', '5,50', '5,50', '5,50', '5,50', '1,2', '1,50', '2,50', '2,50', '1,2', '1,2', '1,3', '2,3', '3,4', '11,12', '11,12', '1,50', '2,3', '1,50', '1,50', '1,50', '1,2', '2,50', '2,50', '5,50', '5,50', '1,50', '5,6', '6,50', '5,50', '1,50', '2,50', '1,2', '2,50', '2,50', '1,2', '2,5', '5,50', '5,50', '1,5', '2,4', '2,3', '3,4', '2,4', '4,50', '4,5', '5,6', '5,50', '5,6', '5,50', '5,50', '2,50', '1,2', '1,50', '5,50', '5,6', '5,6', '6,50', '3,4', '11,12', '5,50', '3,50', '1,50', '5,50', '5,50', '3,4', '3,6', '3,50', '1,50', '1,2', '2,50', '11,50', '3,50', '1,2', '1,3', '5,6', '5,6', '6,50', '5,50', '11,12', '11,12', '11,12', '11,12', '3,50', '1,2', '1,2', '2,4', '1,50', '1,2', '2,50', '4,50', '4,50', '5,50', '5,50', '1,2', '3,4', '2,3', '5,50', '5,6', '6,50', '5,6', '5,50', '6,50', '2,5', '4,50', '4,5', '1,2', '1,2', '1,2', '1,2', '1,50', '1,50', '1,50', '3,50', '2,3', '2,5', '2,4', '2,5', '2,4', '4,50', '5,50', '3,50', '3,50', '2,3', '1,2', '1,4', '1,2', '12,50', '3,50', '1,2', '1,50', '11,12', '3,50', '5,50', '4,5', '5,6', '6,50', '1,50', '1,2', '2,5', '2,5', '5,6', '6,50', '1,2', '5,50', '2,5', '5,50', '1,50', '3,50', '4,50', '1,50', '1,2', '2,50', '1,2', '5,50', '1,2', '3,50', '1,3', '1,3', '3,4', '4,50', '5,50', '4,50', '5,6', '6,50', '5,50', '5,50', '3,50', '3,4', '5,50', '4,5', '6,50', '5,6', '6,50', '3,5', '1,5', '5,50', '3,4', '1,3', '2,50', '1,50', '12,50', '2,50', '2,4', '1,50', '1,50', '1,2', '1,50', '2,3', '3,50', '12,50', '11,12', '3,50', '3,50', '3,50', '5,50', '2,50', '2,50', '3,50', '5,50', '5,50', '1,50', '1,2', '2,50', '1,50', '6,50', '5,6', '4,50', '2,50', '2,3', '3,50', '1,50', '5,50', '1,2', '1,2', '2,50', '5,50', '5,6', '5,50', '5,6', '3,50', '2,3', '1,2', '1,50', '2,3', '3,50', '2,50', '11,12', '5,50', '2,50', '5,50', '2,50', '1,50', '1,2', '1,50', '3,50', '4,5', '5,50', '6,50', '3,50', '2,5', '4,5', '5,6', '6,50', '5,6', '5,50', '1,2', '2,50', '3,50', '3,50', '5,6', '5,6', '6,50', '2,50', '1,2', '2,50', '3,50', '2,50', '5,50', '4,5', '5,6', '6,50', '5,50', '5,50', '4,5', '5,6', '6,50', '3,4', '2,50', '2,4', '5,50', '2,5', '5,6', '5,6', '6,50', '5,50', '1,50', '2,3', '5,50', '5,6', '4,50', '1,50', '1,50', '3,4', '3,4', '5,50', '2,50', '3,50', '2,50', '3,50', '1,3', '3,50', '3,50', '5,6', '6,50', '5,6', '6,50', '5,6', '6,50', '5,6', '1,50', '2,50', '2,3', '3,50', '2,3', '11,12', '11,12', '11,12', '5,50', '6,50', '2,3', '3,4', '3,5', '6,50', '6,50', '5,50', '3,5', '1,2', '2,3', '3,5', '3,5', '5,50', '11,12', '11,50', '5,50', '2,50', '5,50', '5,50', '5,50', '5,50', '5,50', '2,4', '2,5', '5,50', '1,50', '1,50', '1,2', '2,50', '1,50', '11,12', '11,12', '4,6', '5,50', '5,6', '6,50', '6,50', '1,50', '5,50', '5,50', '5,6', '1,50', '1,3', '1,2', '5,50', '5,6', '6,50', '5,6', '5,50', '5,50', '1,50', '1,50', '1,2', '3,50', '1,2', '1,2', '11,12', '11,12', '2,3', '5,50', '5,6', '4,5', '5,6', '5,6', '6,50', '5,50', '5,50', '1,50', '1,2', '5,50', '5,6', '6,50', '5,50', '3,50', '2,3', '11,12', '3,4', '3,4', '2,3', '2,50', '2,50', '6,50', '5,6', '5,6', '6,50', '5,50', '5,6', '6,50', '6,50', '5,50', '4,5', '5,6', '6,50', '5,50', '5,6', '2,50', '1,50', '1,50', '2,3', '2,3', '3,50', '1,50', '1,50', '5,50', '5,6', '6,50', '5,50', '1,50', '2,50', '5,50', '1,50', '2,50', '5,50', '2,5', '1,5', '4,5', '5,6', '1,50', '3,50', '3,50', '2,50', '1,50', '1,2', '2,50', '2,5', '5,50', '5,50', '2,50', '1,50', '2,50', '1,50', '2,50', '5,50', '2,50', '5,50', '2,5', '2,50', '3,4', '4,6', '5,50', '4,5', '12,50', '3,50', '5,50', '1,50', '2,5', '2,50', '6,50', '5,6', '2,50', '2,50', '1,2', '2,50', '5,6', '5,50', '5,6', '6,50', '5,50', '2,50', '2,50', '1,2', '2,50', '5,6', '6,50', '6,50', '5,50', '1,2', '2,50', '2,4', '5,6', '6,50', '2,50', '1,50', '3,50', '3,4', '5,6', '6,50', '5,50', '5,50', '2,50', '2,50', '1,50', '1,3', '3,50', '3,50', '3,5', '4,5', '5,50', '1,50', '2,50', '4,50', '5,50', '2,50', '4,50', '1,50', '5,50', '2,50', '1,2', '3,4', '4,50', '5,50', '2,5', '1,50', '1,50', '1,50', '1,2', '2,3', '3,50', '1,50', '11,50', '2,50', '1,50', '1,2', '2,3', '3,50', '5,6', '5,6', '6,50', '1,50', '5,50', '2,50', '1,2', '1,50', '3,50', '5,6', '3,6', '11,12', '11,12', '2,50', '3,50', '5,50', '5,50', '5,50', '5,50', '4,5', '1,50', '2,50', '1,50', '1,2', '4,5', '5,50', '1,50', '4,50', '1,50', '1,50', '4,5', '5,50', '5,6', '6,50', '3,50', '3,50', '3,4', '5,50', '5,50', '2,50', '1,50', '1,50', '2,5', '2,3', '5,50', '3,50', '1,50', '1,2', '5,50', '4,5', '5,6', '5,6', '6,50', '4,5', '4,5', '5,50', '3,4', '4,50', '4,50', '2,50', '1,3', '1,2', '1,3', '1,3', '5,50', '3,50', '2,50', '1,2', '2,50', '3,50', '3,4', '3,4', '5,6', '6,50', '4,5', '5,6', '6,50', '1,50', '1,4', '1,2', '1,4', '1,2', '1,2', '2,3', '1,2', '3,50', '1,50', '3,4', '3,4', '4,5', '5,50', '3,50', '2,50', '3,50', '2,50', '1,50', '1,50', '1,2', '1,2', '5,6', '5,6', '6,50', '5,50', '2,50', '2,50', '5,50', '5,6', '6,50', '1,50', '2,50', '5,50', '1,2', '2,50', '3,4', '4,5', '5,6', '6,50', '2,50', '1,50', '1,2', '5,50', '4,6', '5,50', '5,50', '11,12', '11,12', '1,2', '1,2', '2,50', '2,3', '3,50', '11,12', '5,6', '6,50', '2,50', '1,50', '3,4', '4,6', '3,50', '5,6', '6,50', '5,50', '3,4', '4,50', '11,12', '4,5', '5,6', '6,50', '5,50', '4,5', '2,5', '5,50', '5,50', '2,50', '3,50', '1,2', '1,50', '1,50', '4,5', '4,50', '5,50', '5,6', '5,50', '5,6', '2,50', '1,3', '2,50', '2,50', '5,50', '1,2', '5,50', '1,2', '1,3', '3,50', '3,4', '3,6', '3,6', '5,50', '5,50', '5,6', '6,50', '4,6', '3,5', '1,2', '1,3', '1,2', '1,3', '1,2', '3,50', '1,3', '3,50', '2,50', '3,50', '3,5', '2,50', '2,50', '1,2', '2,3', '5,50', '5,50', '2,5', '2,50', '3,6', '6,50', '1,3', '3,50', '5,50', '2,50', '1,2', '1,2', '12,50', '3,4', '3,50', '2,5', '5,6', '6,50', '5,6', '2,50', '5,50', '2,4', '5,50', '1,2', '1,2', '2,3', '1,2', '3,50', '2,3', '2,3', '3,50', '3,4', '4,6', '3,6', '11,12', '11,12', '3,4', '3,5', '5,6', '5,6', '6,50', '5,50', '5,50', '5,50', '6,50', '5,6', '1,2', '2,4', '1,2', '2,50', '2,4', '3,50', '3,4', '4,5', '5,6', '5,6', '6,50', '2,50', '2,50', '4,50', '2,4', '2,50', '1,2', '1,2', '5,50', '2,50', '12,50', '3,50', '5,50', '3,50', '2,50', '1,2', '1,3', '1,2', '1,2', '2,3', '3,50', '2,50', '2,3', '1,2', '3,50', '3,4', '5,50', '5,6', '5,50', '6,50', '5,6', '6,50', '4,5', '3,50', '2,3', '1,2', '1,50', '1,50', '6,50', '5,50', '5,50', '4,5', '3,4', '5,50', '1,50', '2,50', '5,50', '5,50', '5,50', '3,50', '1,50', '1,2', '1,3', '3,50', '5,6', '5,6', '6,50', '1,50', '2,50', '2,50', '5,6', '4,5', '2,50', '2,50', '2,3', '2,3', '4,5', '4,5', '6,50', '5,50', '4,5', '5,50', '5,6', '6,50', '1,3', '1,2', '2,3', '5,6', '6,50', '5,50', '5,50', '3,50', '1,50', '2,50', '1,50', '2,50', '1,2', '1,2', '1,50', '5,50', '5,50', '2,50', '1,2', '5,50', '2,50', '1,50', '1,50', '1,2', '1,50', '2,50', '2,50', '1,50', '2,50', '1,2', '1,5', '1,50', '1,2', '1,50', '1,5', '5,50', '5,6', '6,50', '3,5', '2,5', '1,2', '3,50', '2,50', '3,50', '2,50', '1,50', '1,50', '5,50', '1,2', '2,50', '5,50', '2,50', '5,50', '1,50', '2,50', '1,50', '1,2', '2,3', '5,50', '4,5', '5,50', '3,50', '3,4', '2,50', '1,2', '1,2', '1,2', '2,3', '3,50', '3,50', '2,3', '1,50', '1,2', '2,3', '3,4', '4,50', '4,50', '5,50', '5,50', '5,6', '6,50', '1,50', '2,50', '1,50', '1,2', '2,3', '3,50', '2,50', '2,50', '1,2', '1,2', '2,50', '5,6', '2,50', '3,50', '3,50', '2,3', '1,3', '3,50', '5,50', '5,6', '5,6', '6,50', '2,3', '5,6', '5,6', '6,50', '2,50', '2,5', '4,5', '5,50', '2,5', '6,50', '4,50', '2,50', '1,50', '6,50', '4,50', '2,50', '1,50', '1,2', '2,3', '2,3', '3,50', '3,4', '3,4', '6,50', '6,50', '12,50', '2,50', '1,2', '3,4', '4,50', '11,12', '5,6', '6,50', '1,2', '1,2', '1,2', '2,3', '1,50', '5,50', '1,50', '1,50', '1,2', '1,3', '2,50', '5,50', '11,12', '2,50', '1,2', '1,2', '1,50', '5,50', '5,6', '6,50', '6,50', '3,50', '5,50', '3,50', '5,50', '4,5', '2,50', '2,50', '2,50', '2,50', '1,50', '1,2', '1,2', '2,50', '2,5', '2,5', '5,6', '6,50', '5,6', '5,50', '4,5', '5,6', '5,50', '2,50', '3,4', '5,50', '5,6', '6,50', '6,50', '2,50', '1,50', '1,2', '3,50', '3,50', '5,50', '3,5', '5,50', '2,50', '5,50', '5,50', '2,50', '1,2', '5,50', '5,50', '2,50', '2,50', '2,50', '3,4', '11,12', '2,50', '3,50', '5,50', '5,6', '5,6', '6,50', '5,6', '5,50', '5,50', '5,50', '2,50', '3,50', '1,2', '2,3', '11,12', '5,50', '4,5', '5,6', '6,50', '5,50', '5,50', '4,5', '4,5', '5,6', '6,50', '3,50', '3,4', '3,4', '5,6', '6,50', '1,3', '3,50', '1,2', '2,50', '1,2', '1,50', '1,50', '1,50', '11,12', '11,12', '11,12', '3,5', '5,6', '6,50', '3,50', '11,12', '11,50', '2,50', '5,50', '5,6', '6,50', '5,50', '3,50', '1,3', '1,2', '2,50', '1,3', '1,2', '1,50', '3,50', '2,3', '3,50', '2,3', '2,50', '1,50', '2,50', '5,50', '5,50', '2,50', '1,50', '2,50', '1,50', '1,2', '2,50', '1,2', '2,50', '1,50', '1,50', '1,2', '2,3', '4,50', '4,50', '3,50', '5,50', '5,6', '6,50', '5,50', '5,50', '5,50', '5,50', '1,50', '1,2', '2,5', '6,50', '2,50', '5,6', '6,50', '5,50', '2,50', '1,2', '2,4', '4,5', '5,6', '5,6', '6,50', '5,50', '3,50', '2,4', '4,50', '3,50', '3,4', '11,12', '5,6', '6,50', '6,50', '3,50', '5,6', '3,50', '3,50', '1,2', '2,3', '2,4', '4,6', '11,12', '3,4', '2,50', '5,50', '2,50', '1,2', '2,50', '5,50', '2,50', '5,50', '1,50', '1,50', '1,2', '1,2', '2,3', '5,50', '1,50', '1,2', '2,3', '5,50', '5,6', '5,6', '6,50', '11,12', '1,3', '1,2', '1,2', '1,3', '3,50', '1,50', '1,5', '1,50', '1,50', '2,50', '1,50', '1,2', '2,50', '5,50', '2,5', '5,50', '2,50', '2,50', '1,50', '1,2', '2,50', '1,2', '2,5', '1,3', '3,50', '2,3', '1,2', '5,50', '2,4', '4,5', '6,50', '2,50', '2,50', '2,3', '3,4', '4,50', '5,50', '5,6', '6,50', '4,6', '5,6', '2,50', '3,50', '5,50', '5,50', '4,5', '5,6', '6,50', '5,50', '2,50', '3,50', '5,50', '2,50', '3,50', '5,50', '5,50', '5,50', '3,50', '1,3', '2,3', '3,4', '2,50', '2,4', '2,50', '3,50', '2,3', '1,2', '2,3', '3,50', '5,6', '6,50', '5,50', '2,3', '3,4', '2,50', '2,50', '3,4', '5,50', '6,50', '3,50', '5,50', '3,50', '5,50', '5,6', '5,50', '2,50', '1,50', '1,2', '2,50', '5,50', '4,50', '2,5', '5,50', '4,50', '1,50', '2,50', '5,50', '5,6', '6,50', '5,50', '1,50', '1,50', '1,2', '2,50', '2,50', '1,2', '1,50', '1,2', '2,3', '3,5', '11,12', '11,12', '11,12', '5,50', '5,6', '5,50', '5,50', '5,50', '11,50', '1,50', '1,50', '11,50', '5,50', '5,6', '6,50', '3,50', '1,50', '3,4', '5,50', '5,50', '1,2', '4,5', '5,6', '5,6', '11,12', '5,6', '5,50', '5,50', '4,5', '5,6', '5,6', '6,50', '2,50', '5,50', '1,2', '2,50', '2,50', '2,50', '1,2', '5,50', '1,50', '2,5', '2,50', '2,4', '1,2', '2,3', '1,50', '3,50', '5,50', '5,50', '3,50', '1,50', '5,50', '6,50', '1,50', '1,2', '2,3', '3,50', '1,3', '3,4', '4,50', '5,50', '5,50', '5,6', '6,50', '5,6', '3,50', '1,50', '5,50', '1,2', '5,50', '5,6', '6,50', '2,3', '3,50', '2,50', '2,50', '1,50', '1,3', '1,2', '2,3', '2,3', '3,50', '1,2', '1,3', '3,4', '11,12', '11,12', '3,50', '3,50', '6,50', '5,6', '5,50', '6,50', '5,50', '1,50', '12,50', '5,50', '5,50', '5,6', '6,50', '2,5', '2,4', '4,50', '12,50', '1,50', '1,2', '2,4', '4,50', '6,50', '5,50', '4,5', '6,50', '3,50', '3,4', '11,12', '1,50', '2,50', '1,2', '2,4', '1,2', '1,2', '3,4', '11,12', '11,12', '5,6', '4,5', '5,6', '2,50', '1,50', '3,50', '5,50', '1,2', '2,50', '3,50', '1,3', '1,2', '1,50', '1,3', '1,2', '3,50', '3,5', '5,50', '5,50', '3,50', '2,3', '1,3', '3,50', '5,50', '2,50', '3,50', '3,50', '2,3', '1,3', '1,3', '3,50', '1,50', '3,4', '4,50', '5,50', '4,5', '6,50', '5,50', '5,50', '5,50', '5,50', '2,50', '1,50', '2,50', '2,3', '3,4', '4,50']\n",
            "New labels:  [0, 0, 5, 0, 6, 11, 18, 10, 10, 0, 5, 18, 15, 0, 0, 14, 0, 8, 19, 6, 11, 19, 14, 5, 10, 5, 17, 5, 10, 5, 10, 5, 19, 19, 15, 19, 14, 18, 8, 8, 0, 11, 6, 8, 14, 19, 19, 19, 18, 25, 18, 15, 15, 19, 5, 0, 10, 7, 0, 19, 3, 18, 25, 5, 10, 0, 10, 6, 22, 20, 22, 19, 18, 15, 15, 18, 19, 17, 17, 0, 6, 11, 5, 19, 10, 6, 14, 11, 11, 19, 19, 10, 10, 10, 7, 5, 14, 19, 10, 19, 0, 18, 25, 19, 19, 10, 10, 15, 18, 25, 19, 10, 0, 10, 6, 0, 19, 18, 15, 18, 18, 25, 19, 15, 19, 14, 25, 19, 19, 15, 18, 25, 5, 14, 19, 6, 0, 6, 19, 18, 19, 5, 10, 19, 7, 16, 25, 18, 10, 0, 10, 10, 10, 6, 0, 5, 11, 19, 25, 18, 25, 19, 19, 25, 18, 18, 19, 10, 0, 11, 19, 14, 10, 19, 15, 18, 18, 25, 16, 19, 15, 19, 14, 15, 5, 7, 17, 19, 18, 25, 19, 19, 19, 15, 15, 19, 19, 8, 14, 10, 10, 0, 0, 8, 19, 8, 19, 18, 5, 5, 17, 6, 11, 11, 0, 10, 10, 18, 25, 18, 8, 25, 19, 19, 14, 11, 14, 18, 25, 18, 25, 25, 14, 19, 14, 10, 14, 10, 6, 18, 11, 16, 11, 15, 17, 25, 18, 19, 15, 18, 25, 18, 19, 0, 13, 25, 10, 20, 15, 18, 10, 14, 11, 19, 19, 18, 25, 19, 22, 19, 5, 5, 5, 22, 19, 19, 22, 22, 0, 5, 10, 18, 25, 19, 18, 25, 18, 19, 19, 14, 11, 5, 0, 14, 10, 10, 25, 0, 0, 10, 6, 18, 25, 11, 19, 18, 25, 18, 5, 19, 19, 12, 15, 18, 25, 19, 5, 0, 0, 6, 11, 19, 5, 8, 14, 1, 6, 0, 1, 0, 19, 25, 16, 0, 1, 10, 18, 25, 19, 8, 6, 0, 5, 5, 14, 19, 5, 14, 19, 5, 14, 0, 6, 14, 19, 14, 6, 11, 19, 16, 18, 18, 19, 18, 0, 0, 5, 10, 10, 10, 14, 25, 19, 6, 0, 0, 6, 12, 15, 18, 25, 15, 18, 15, 10, 0, 0, 18, 25, 5, 10, 19, 19, 19, 5, 1, 0, 11, 16, 19, 18, 25, 10, 5, 11, 1, 6, 0, 10, 12, 11, 18, 18, 20, 20, 20, 18, 15, 18, 18, 25, 18, 10, 6, 10, 0, 0, 0, 0, 10, 20, 20, 5, 5, 11, 10, 10, 14, 11, 10, 18, 15, 18, 25, 0, 0, 5, 0, 20, 14, 1, 25, 10, 5, 10, 10, 0, 0, 10, 0, 19, 18, 25, 14, 10, 0, 19, 10, 10, 11, 13, 18, 25, 18, 10, 17, 16, 25, 10, 10, 0, 19, 0, 10, 6, 11, 11, 16, 25, 20, 5, 5, 19, 20, 12, 18, 18, 25, 7, 15, 19, 5, 5, 10, 6, 11, 17, 5, 0, 0, 19, 15, 7, 7, 19, 19, 19, 5, 5, 22, 0, 8, 8, 18, 5, 5, 22, 19, 5, 14, 10, 5, 14, 11, 19, 19, 5, 10, 7, 11, 19, 18, 18, 25, 18, 19, 19, 15, 10, 11, 15, 15, 18, 5, 10, 0, 0, 0, 14, 14, 0, 6, 5, 2, 7, 0, 19, 20, 19, 14, 11, 19, 18, 25, 19, 14, 20, 15, 18, 18, 15, 18, 18, 25, 5, 0, 10, 5, 6, 11, 25, 12, 14, 6, 11, 10, 5, 19, 11, 19, 5, 14, 10, 5, 0, 1, 19, 18, 25, 0, 10, 5, 19, 22, 5, 22, 19, 10, 20, 10, 3, 0, 8, 19, 19, 25, 22, 5, 19, 14, 14, 10, 10, 24, 19, 19, 5, 19, 18, 25, 19, 18, 0, 0, 0, 8, 15, 18, 25, 15, 18, 25, 19, 22, 5, 5, 5, 22, 20, 22, 19, 19, 19, 22, 5, 10, 15, 19, 18, 25, 19, 18, 25, 15, 18, 19, 14, 19, 11, 11, 16, 14, 11, 19, 18, 25, 25, 6, 1, 11, 11, 13, 8, 19, 18, 15, 18, 18, 25, 18, 19, 10, 14, 6, 11, 8, 25, 10, 19, 19, 19, 19, 5, 5, 5, 14, 10, 19, 14, 6, 20, 16, 5, 0, 6, 7, 15, 18, 18, 25, 19, 19, 18, 19, 18, 25, 5, 10, 17, 0, 5, 15, 18, 19, 22, 10, 0, 14, 0, 6, 11, 17, 18, 25, 10, 14, 5, 10, 0, 5, 20, 24, 20, 22, 25, 19, 10, 10, 20, 22, 20, 22, 22, 19, 19, 25, 0, 0, 0, 5, 10, 19, 25, 18, 0, 10, 14, 14, 1, 5, 11, 0, 0, 8, 15, 15, 18, 25, 10, 0, 6, 1, 0, 10, 14, 15, 11, 18, 25, 6, 0, 11, 16, 25, 0, 5, 20, 20, 18, 19, 18, 19, 19, 0, 11, 20, 15, 5, 25, 0, 10, 10, 11, 20, 15, 18, 18, 25, 15, 18, 10, 6, 11, 0, 5, 6, 20, 22, 25, 17, 19, 19, 19, 10, 19, 6, 11, 14, 7, 19, 10, 0, 7, 15, 18, 5, 14, 1, 22, 10, 10, 7, 10, 18, 25, 19, 0, 0, 19, 5, 8, 19, 17, 7, 18, 25, 5, 14, 14, 6, 10, 5, 25, 10, 0, 19, 18, 25, 15, 19, 5, 0, 0, 6, 19, 15, 18, 25, 15, 14, 14, 14, 22, 10, 0, 19, 17, 11, 25, 25, 0, 19, 19, 0, 10, 8, 20, 19, 25, 18, 10, 5, 5, 10, 19, 0, 14, 19, 5, 10, 10, 0, 10, 11, 19, 12, 25, 10, 6, 11, 13, 19, 19, 19, 19, 18, 25, 18, 10, 10, 10, 14, 11, 14, 19, 14, 11, 18, 25, 19, 15, 18, 6, 14, 6, 19, 8, 19, 6, 8, 10, 10, 14, 0, 19, 0, 0, 6, 15, 16, 16, 25, 25, 19, 19, 14, 19, 14, 5, 20, 20, 20, 19, 15, 5, 5, 10, 0, 8, 15, 18, 25, 18, 10, 10, 0, 8, 18, 25, 13, 19, 14, 14, 6, 8, 7, 5, 10, 0, 3, 0, 6, 14, 0, 20, 20, 19, 15, 18, 25, 19, 19, 18, 25, 0, 14, 10, 10, 5, 20, 20, 25, 16, 19, 0, 19, 25, 19, 15, 18, 25, 18, 25, 19, 10, 17, 0, 18, 25, 19, 19, 8, 19, 8, 5, 0, 0, 5, 5, 10, 10, 0, 10, 10, 19, 10, 5, 10, 0, 10, 5, 0, 0, 0, 10, 19, 16, 18, 25, 19, 19, 15, 10, 14, 11, 6, 6, 1, 0, 10, 19, 17, 17, 15, 25, 14, 6, 14, 5, 19, 14, 5, 19, 0, 11, 18, 25, 19, 14, 5, 15, 18, 11, 11, 17, 0, 6, 14, 14, 12, 12, 8, 6, 14, 12, 22, 22, 10, 5, 5, 19, 5, 5, 19, 19, 19, 5, 19, 10, 0, 10, 10, 0, 6, 11, 14, 20, 24, 3, 19, 18, 25, 14, 5, 6, 5, 20, 20, 18, 25, 7, 14, 11, 19, 15, 18, 19, 19, 19, 0, 10, 19, 20, 19, 10, 14, 14, 6, 0, 20, 19, 5, 0, 0, 6, 14, 19, 19, 15, 7, 25, 18, 19, 5, 10, 19, 5, 10, 19, 0, 0, 6, 14, 19, 25, 19, 11, 6, 16, 18, 18, 25, 19, 5, 0, 0, 5, 0, 6, 19, 18, 25, 19, 10, 19, 10, 14, 11, 15, 18, 14, 10, 19, 25, 12, 11, 5, 14, 25, 19, 15, 14, 19, 0, 15, 7, 19, 18, 25, 19, 22, 10, 5, 19, 22, 10, 5, 5, 22, 19, 19, 19, 19, 18, 25, 19, 19, 8, 19, 1, 0, 1, 0, 6, 22, 5, 5, 0, 14, 20, 20, 14, 6, 14, 11, 19, 16, 10, 15, 18, 0, 10, 5, 10, 19, 18, 19, 10, 10, 6, 11, 20, 5, 0, 10, 19, 14, 5, 18, 25, 19, 11, 0, 10, 6, 11, 5, 0, 0, 10, 11, 17, 17, 20, 18, 25, 25, 10, 12, 18, 25, 5, 0, 10, 19, 19, 18, 25, 6, 6, 20, 20, 19, 19, 19, 19, 19, 5, 1, 11, 0, 0, 17, 11, 10, 24, 19, 19, 18, 25, 15, 7, 7, 17, 5, 0, 7, 17, 0, 25, 19, 10, 8, 5, 10, 5, 7, 17, 5, 0, 8, 8, 19, 19, 5, 25, 19, 5, 19, 14, 5, 19, 14, 14, 5, 19, 5, 0, 0, 5, 14, 0, 8, 19, 25, 22, 1, 0, 10, 14, 14, 10, 11, 19, 25, 14, 14, 6, 10, 18, 13, 19, 18, 25, 14, 19, 12, 19, 11, 6, 18, 25, 0, 15, 19, 0, 6, 12, 19, 12, 5, 10, 10, 0, 7, 19, 18, 25, 1, 11, 22, 19, 14, 22, 10, 18, 25, 18, 25, 20, 14, 6, 20, 0, 19, 5, 0, 5, 18, 15, 18, 19, 19, 5, 0, 0, 5, 0, 10, 5, 25, 18, 18, 25, 16, 18, 25, 25, 10, 0, 18, 25, 10, 0, 7, 15, 18, 7, 18, 25, 18, 19, 19, 20, 20, 10, 19, 5, 1, 11, 14, 10, 0, 5, 0, 11, 6, 14, 10, 0, 0, 14, 6, 3, 18, 20, 1, 0, 1, 15, 25, 19, 19, 14, 5, 10, 19, 5, 10, 19, 14, 5, 10, 0, 0, 10, 19, 19, 19, 18, 25, 14, 6, 19, 18, 15, 18, 18, 25, 19, 14, 19, 14, 14, 7, 19, 18, 25, 6, 14, 14, 6, 5, 0, 5, 20, 20, 20, 19, 19, 19, 5, 0, 10, 0, 10, 14, 14, 19, 18, 25, 25, 19, 10, 10, 19, 0, 10, 8, 8, 10, 0, 10, 11, 19, 19, 19, 18, 25, 19, 19, 19, 15, 19, 5, 5, 6, 14, 18, 25, 5, 0, 0, 19, 18, 25, 8, 15, 10, 10, 10, 5, 19, 14, 19, 15, 25, 14, 14, 20, 20, 14, 5, 5, 0, 10, 20, 15, 18, 18, 25, 5, 19, 5, 1, 14, 19, 19, 19, 19, 19, 5, 10, 10, 19, 19, 19, 6, 11, 20, 20, 20, 15, 18, 25, 5, 0, 10, 10, 14, 20, 20, 18, 25, 19, 19, 5, 10, 5, 19, 8, 0, 5, 0, 10, 6, 0, 6, 11, 16, 20, 22, 10, 5, 19, 19, 18, 10, 10, 0, 0, 14, 10, 11, 25, 18, 10, 7, 17, 10, 0, 3, 19, 18, 25, 8, 0, 20, 20, 15, 18, 18, 25, 15, 15, 15, 10, 8, 10, 0, 20, 19, 19, 5, 19, 14, 0, 11, 15, 18, 18, 25, 19, 19, 19, 5, 19, 15, 18, 19, 18, 25, 19, 11, 25, 5, 0, 0, 5, 5, 0, 15, 18, 19, 19, 14, 14, 6, 19, 8, 10, 0, 6, 5, 19, 19, 3, 25, 18, 19, 10, 11, 20, 3, 0, 10, 10, 7, 19, 25, 10, 19, 18, 10, 10, 8, 8, 19, 8, 0, 19, 19, 5, 14, 19, 5, 10, 14, 22, 20, 5, 0, 0, 6, 6, 5, 18, 25, 5, 14, 13, 13, 25, 18, 25, 8, 15, 8, 10, 10, 19, 19, 14, 17, 10, 15, 19, 14, 16, 25, 19, 1, 0, 14, 10, 11, 16, 5, 5, 0, 0, 0, 5, 0, 8, 14, 12, 12, 18, 19, 5, 5, 0, 5, 14, 0, 10, 19, 10, 19, 5, 10, 10, 5, 5, 5, 0, 6, 11, 15, 19, 18, 25, 14, 6, 14, 10, 20, 7, 15, 18, 25, 19, 10, 5, 10, 5, 10, 5, 10, 5, 10, 5, 18, 18, 25, 18, 15, 14, 6, 14, 14, 6, 14, 1, 5, 0, 5, 19, 15, 19, 14, 14, 11, 19, 10, 5, 10, 10, 0, 0, 1, 8, 19, 25, 19, 14, 10, 17, 5, 5, 5, 18, 15, 8, 19, 19, 15, 0, 19, 18, 25, 19, 5, 0, 10, 14, 17, 19, 14, 5, 10, 10, 18, 25, 7, 11, 11, 6, 6, 14, 20, 20, 14, 14, 5, 0, 6, 5, 0, 10, 5, 10, 19, 8, 19, 25, 20, 19, 15, 18, 25, 19, 0, 0, 10, 1, 14, 0, 6, 18, 25, 11, 0, 5, 18, 25, 10, 10, 0, 10, 5, 20, 14, 10, 0, 0, 10, 10, 10, 19, 16, 11, 14, 11, 5, 10, 0, 5, 10, 14, 13, 11, 0, 10, 10, 0, 6, 6, 11, 20, 20, 18, 18, 0, 6, 13, 13, 13, 14, 14, 14, 11, 19, 10, 10, 18, 15, 18, 25, 18, 19, 10, 5, 0, 5, 5, 11, 20, 20, 19, 0, 8, 15, 18, 25, 17, 19, 19, 15, 18, 22, 10, 5, 0, 10, 20, 14, 10, 16, 25, 10, 10, 19, 18, 19, 25, 10, 6, 14, 17, 19, 18, 25, 16, 15, 18, 19, 5, 0, 1, 6, 19, 5, 11, 8, 10, 10, 5, 5, 10, 17, 0, 19, 19, 20, 20, 5, 0, 14, 11, 19, 19, 19, 10, 5, 19, 14, 19, 19, 19, 19, 18, 19, 5, 0, 10, 8, 0, 12, 19, 10, 0, 0, 0, 10, 5, 14, 14, 11, 14, 17, 10, 17, 18, 25, 10, 0, 8, 18, 25, 5, 0, 6, 10, 5, 10, 10, 1, 7, 16, 19, 19, 16, 16, 16, 5, 10, 0, 19, 15, 18, 25, 19, 19, 5, 0, 8, 19, 17, 20, 20, 3, 5, 19, 5, 10, 8, 18, 10, 25, 9, 25, 19, 25, 18, 18, 15, 0, 0, 15, 18, 25, 0, 14, 5, 12, 14, 12, 18, 12, 18, 10, 0, 5, 5, 14, 0, 6, 10, 0, 5, 5, 0, 1, 1, 0, 10, 11, 6, 19, 19, 19, 25, 5, 10, 5, 0, 0, 6, 11, 17, 5, 19, 22, 5, 0, 15, 11, 17, 17, 19, 0, 11, 18, 25, 5, 19, 14, 6, 0, 10, 7, 11, 17, 18, 25, 19, 14, 19, 19, 19, 19, 5, 5, 0, 0, 10, 0, 5, 18, 18, 25, 20, 14, 5, 11, 0, 6, 15, 15, 18, 12, 1, 19, 5, 5, 19, 19, 5, 19, 19, 15, 19, 5, 0, 6, 14, 5, 5, 14, 6, 19, 5, 19, 15, 18, 25, 5, 14, 19, 5, 0, 0, 6, 14, 11, 11, 12, 19, 19, 0, 10, 11, 20, 20, 20, 20, 19, 18, 19, 19, 15, 19, 15, 18, 25, 19, 19, 19, 0, 10, 10, 17, 10, 11, 17, 7, 19, 8, 18, 25, 10, 5, 5, 11, 13, 8, 7, 19, 5, 0, 17, 11, 6, 19, 15, 18, 25, 19, 0, 5, 11, 20, 11, 17, 17, 19, 19, 18, 25, 25, 10, 10, 19, 18, 9, 5, 0, 19, 25, 18, 25, 19, 19, 11, 7, 17, 14, 17, 14, 7, 10, 14, 1, 0, 16, 18, 25, 5, 20, 20, 20, 20, 24, 22, 10, 10, 17, 17, 17, 25, 11, 19, 18, 25, 19, 10, 19, 5, 17, 14, 0, 5, 19, 15, 19, 18, 15, 5, 10, 5, 10, 5, 0, 5, 10, 10, 5, 0, 5, 5, 19, 14, 6, 19, 1, 0, 5, 1, 0, 5, 15, 18, 25, 14, 19, 6, 0, 5, 19, 15, 18, 18, 25, 25, 19, 10, 5, 0, 10, 7, 17, 25, 18, 10, 19, 14, 10, 5, 0, 11, 20, 20, 18, 25, 19, 15, 0, 10, 18, 25, 5, 10, 6, 10, 0, 6, 14, 0, 10, 20, 11, 18, 25, 18, 25, 19, 8, 18, 18, 25, 15, 18, 25, 5, 17, 19, 5, 15, 15, 19, 11, 15, 16, 11, 25, 18, 18, 19, 10, 19, 5, 14, 5, 19, 10, 0, 8, 8, 15, 18, 25, 18, 14, 25, 0, 10, 5, 14, 10, 19, 19, 0, 10, 11, 5, 19, 5, 0, 6, 7, 15, 15, 18, 16, 17, 17, 19, 5, 0, 10, 0, 5, 5, 22, 10, 19, 19, 18, 10, 5, 19, 17, 10, 5, 19, 17, 15, 18, 15, 15, 20, 20, 5, 0, 0, 19, 15, 18, 18, 25, 18, 19, 19, 5, 0, 5, 6, 19, 18, 18, 25, 25, 19, 15, 15, 10, 14, 5, 14, 5, 6, 5, 0, 6, 14, 0, 10, 6, 12, 25, 14, 18, 25, 17, 25, 10, 11, 20, 10, 19, 14, 6, 18, 25, 10, 12, 6, 10, 10, 18, 25, 25, 18, 14, 11, 20, 15, 18, 10, 5, 5, 10, 20, 20, 19, 18, 18, 25, 19, 5, 19, 14, 10, 14, 10, 11, 19, 19, 25, 0, 5, 12, 19, 0, 15, 18, 10, 18, 18, 25, 10, 19, 10, 5, 5, 5, 5, 19, 19, 10, 5, 5, 0, 7, 17, 10, 18, 0, 5, 19, 5, 19, 0, 0, 7, 5, 0, 6, 11, 19, 19, 17, 18, 25, 5, 19, 10, 5, 10, 5, 18, 25, 5, 5, 0, 6, 20, 22, 19, 12, 18, 18, 25, 19, 17, 14, 17, 11, 19, 9, 9, 25, 10, 14, 14, 10, 10, 16, 20, 20, 15, 18, 18, 18, 25, 16, 19, 19, 19, 19, 10, 0, 6, 6, 11, 19, 15, 18, 25, 19, 19, 18, 25, 7, 18, 22, 24, 14, 11, 6, 10, 0, 11, 15, 19, 0, 5, 19, 14, 19, 10, 11, 1, 5, 5, 6, 5, 19, 19, 18, 25, 5, 0, 10, 8, 5, 15, 25, 0, 6, 0, 0, 0, 25, 13, 6, 0, 8, 19, 19, 3, 8, 19, 10, 5, 10, 5, 19, 18, 19, 19, 19, 5, 5, 5, 10, 5, 14, 11, 14, 20, 20, 14, 19, 15, 25, 18, 5, 14, 19, 14, 6, 18, 25, 20, 15, 18, 25, 15, 5, 17, 10, 17, 19, 19, 19, 18, 25, 19, 6, 17, 20, 3, 19, 17, 19, 19, 15, 19, 19, 18, 25, 19, 5, 5, 14, 14, 6, 11, 11, 10, 8, 19, 5, 10, 0, 5, 14, 6, 12, 1, 0, 10, 22, 10, 17, 10, 5, 0, 10, 11, 11, 7, 17, 18, 14, 10, 10, 5, 19, 25, 18, 8, 3, 15, 18, 18, 25, 19, 19, 5, 0, 10, 6, 13, 13, 18, 19, 18, 15, 5, 10, 0, 6, 20, 12, 18, 15, 18, 25, 19, 19, 14, 6, 19, 10, 10, 6, 6, 14, 19, 18, 25, 18, 25, 19, 11, 6, 17, 15, 18, 25, 0, 14, 6, 19, 10, 5, 0, 6, 6, 11, 16, 7, 18, 25, 19, 10, 25, 18, 25, 8, 10, 3, 3, 18, 25, 18, 19, 15, 5, 0, 5, 0, 11, 20, 18, 10, 0, 10, 19, 19, 10, 19, 10, 19, 15, 18, 19, 10, 0, 10, 0, 6, 10, 20, 24, 19, 18, 25, 19, 14, 10, 0, 8, 8, 19, 18, 18, 25, 20, 20, 19, 5, 5, 0, 10, 6, 11, 17, 19, 16, 25, 18, 19, 19, 10, 18, 25, 5, 0, 6, 14, 10, 1, 6, 20, 20, 22, 14, 5, 19, 19, 19, 14, 6, 19, 15, 10, 0, 6, 14, 10, 8, 16, 25, 19, 19, 5, 5, 5, 22, 5, 0, 6, 11, 13, 20, 20, 0, 0, 20, 10, 0, 0, 0, 6, 11, 20, 18, 18, 18, 19, 14, 11, 19, 18, 25, 19, 19, 19, 18, 25, 10, 5, 5, 10, 5, 0, 10, 5, 11, 10, 10, 10, 7, 15, 14, 6, 10, 5, 18, 25, 18, 25, 11, 14, 14, 6, 11, 14, 14, 11, 11, 14, 15, 11, 19, 19, 14, 19, 14, 19, 25, 19, 14, 6, 13, 25, 11, 17, 18, 10, 19, 0, 0, 0, 0, 6, 18, 15, 18, 19, 19, 19, 15, 18, 18, 25, 18, 15, 19, 19, 19, 18, 18, 15, 19, 15, 0, 10, 11, 11, 20, 20, 15, 7, 18, 15, 18, 25, 19, 0, 13, 20, 18, 18, 25, 18, 6, 0, 15, 18, 19, 10, 8, 18, 16, 19, 5, 18, 15, 15, 10, 0, 0, 6, 6, 10, 19, 14, 10, 19, 14, 10, 15, 5, 5, 19, 10, 8, 19, 19, 19, 10, 10, 10, 19, 10, 19, 19, 8, 7, 11, 19, 5, 14, 10, 0, 10, 18, 19, 18, 25, 19, 19, 14, 19, 18, 25, 19, 10, 0, 0, 6, 14, 14, 14, 18, 15, 18, 25, 14, 19, 10, 10, 14, 11, 19, 10, 5, 5, 10, 10, 6, 19, 15, 18, 17, 25, 19, 19, 10, 0, 6, 14, 20, 10, 22, 22, 17, 19, 18, 25, 19, 20, 20, 19, 0, 5, 0, 20, 20, 20, 20, 19, 19, 19, 15, 15, 19, 15, 7, 0, 14, 10, 14, 15, 18, 25, 16, 10, 0, 0, 1, 14, 10, 18, 25, 19, 17, 10, 1, 20, 18, 25, 8, 19, 5, 0, 5, 0, 5, 1, 14, 22, 5, 5, 22, 5, 22, 5, 22, 14, 6, 0, 5, 20, 20, 5, 22, 0, 0, 8, 8, 19, 19, 19, 15, 18, 25, 18, 10, 5, 10, 5, 0, 10, 10, 11, 20, 20, 19, 18, 18, 25, 19, 15, 18, 10, 11, 13, 0, 10, 5, 20, 19, 0, 24, 24, 11, 19, 19, 15, 14, 19, 12, 14, 18, 25, 19, 11, 14, 11, 11, 16, 14, 19, 7, 19, 14, 10, 0, 14, 19, 14, 19, 6, 15, 19, 25, 6, 14, 0, 5, 10, 19, 10, 0, 0, 19, 15, 7, 7, 18, 25, 15, 19, 10, 10, 1, 0, 6, 11, 2, 19, 15, 18, 25, 19, 19, 19, 10, 5, 0, 14, 6, 10, 19, 18, 25, 5, 5, 5, 19, 18, 25, 19, 19, 19, 19, 0, 5, 10, 10, 0, 0, 1, 6, 11, 20, 20, 5, 6, 5, 5, 5, 0, 10, 10, 19, 19, 5, 18, 25, 19, 5, 10, 0, 10, 10, 0, 8, 19, 19, 3, 7, 6, 11, 7, 17, 15, 18, 19, 18, 19, 19, 10, 0, 5, 19, 18, 18, 25, 11, 20, 19, 14, 5, 19, 19, 11, 13, 14, 5, 0, 10, 22, 14, 0, 1, 18, 18, 25, 19, 20, 20, 20, 20, 14, 0, 0, 7, 5, 0, 10, 17, 17, 19, 19, 0, 11, 6, 19, 18, 25, 18, 19, 25, 8, 17, 15, 0, 0, 0, 0, 5, 5, 5, 14, 6, 8, 7, 8, 7, 17, 19, 14, 14, 6, 0, 2, 0, 24, 14, 0, 5, 20, 14, 19, 15, 18, 25, 5, 0, 8, 8, 18, 25, 0, 19, 8, 19, 5, 14, 17, 5, 0, 10, 0, 19, 0, 14, 1, 1, 11, 17, 19, 17, 18, 25, 19, 19, 14, 11, 19, 15, 25, 18, 25, 12, 3, 19, 11, 1, 10, 5, 24, 10, 7, 5, 5, 0, 5, 6, 14, 24, 20, 14, 14, 14, 19, 10, 10, 14, 19, 19, 5, 0, 10, 5, 25, 18, 17, 10, 6, 14, 5, 19, 0, 0, 10, 19, 18, 19, 18, 14, 6, 0, 5, 6, 14, 10, 20, 19, 10, 19, 10, 5, 0, 5, 14, 15, 19, 25, 14, 8, 15, 18, 25, 18, 19, 0, 10, 14, 14, 18, 18, 25, 10, 0, 10, 14, 10, 19, 15, 18, 25, 19, 19, 15, 18, 25, 11, 10, 7, 19, 8, 18, 18, 25, 19, 5, 6, 19, 18, 17, 5, 5, 11, 11, 19, 10, 14, 10, 14, 1, 14, 14, 18, 25, 18, 25, 18, 25, 18, 5, 10, 6, 14, 6, 20, 20, 20, 19, 25, 6, 11, 12, 25, 25, 19, 12, 0, 6, 12, 12, 19, 20, 22, 19, 10, 19, 19, 19, 19, 19, 7, 8, 19, 5, 5, 0, 10, 5, 20, 20, 16, 19, 18, 25, 25, 5, 19, 19, 18, 5, 1, 0, 19, 18, 25, 18, 19, 19, 5, 5, 0, 14, 0, 0, 20, 20, 6, 19, 18, 15, 18, 18, 25, 19, 19, 5, 0, 19, 18, 25, 19, 14, 6, 20, 11, 11, 6, 10, 10, 25, 18, 18, 25, 19, 18, 25, 25, 19, 15, 18, 25, 19, 18, 10, 5, 5, 6, 6, 14, 5, 5, 19, 18, 25, 19, 5, 10, 19, 5, 10, 19, 8, 3, 15, 18, 5, 14, 14, 10, 5, 0, 10, 8, 19, 19, 10, 5, 10, 5, 10, 19, 10, 19, 8, 10, 11, 16, 19, 15, 24, 14, 19, 5, 8, 10, 25, 18, 10, 10, 0, 10, 18, 19, 18, 25, 19, 10, 10, 0, 10, 18, 25, 25, 19, 0, 10, 7, 18, 25, 10, 5, 14, 11, 18, 25, 19, 19, 10, 10, 5, 1, 14, 14, 12, 15, 19, 5, 10, 17, 19, 10, 17, 5, 19, 10, 0, 11, 17, 19, 8, 5, 5, 5, 0, 6, 14, 5, 22, 10, 5, 0, 6, 14, 18, 18, 25, 5, 19, 10, 0, 5, 14, 18, 13, 20, 20, 10, 14, 19, 19, 19, 19, 15, 5, 10, 5, 0, 15, 19, 5, 17, 5, 5, 15, 19, 18, 25, 14, 14, 11, 19, 19, 10, 5, 5, 8, 6, 19, 14, 5, 0, 19, 15, 18, 18, 25, 15, 15, 19, 11, 17, 17, 10, 1, 0, 1, 1, 19, 14, 10, 0, 10, 14, 11, 11, 18, 25, 15, 18, 25, 5, 2, 0, 2, 0, 0, 6, 0, 14, 5, 11, 11, 15, 19, 14, 10, 14, 10, 5, 5, 0, 0, 18, 18, 25, 19, 10, 10, 19, 18, 25, 5, 10, 19, 0, 10, 11, 15, 18, 25, 10, 5, 0, 19, 16, 19, 19, 20, 20, 0, 0, 10, 6, 14, 20, 18, 25, 10, 5, 11, 16, 14, 18, 25, 19, 11, 17, 20, 15, 18, 25, 19, 15, 8, 19, 19, 10, 14, 0, 5, 5, 15, 17, 19, 18, 19, 18, 10, 1, 10, 10, 19, 0, 19, 0, 1, 14, 11, 13, 13, 19, 19, 18, 25, 16, 12, 0, 1, 0, 1, 0, 14, 1, 14, 10, 14, 12, 10, 10, 0, 6, 19, 19, 8, 10, 13, 25, 1, 14, 19, 10, 0, 0, 24, 11, 14, 8, 18, 25, 18, 10, 19, 7, 19, 0, 0, 6, 0, 14, 6, 6, 14, 11, 16, 13, 20, 20, 11, 12, 18, 18, 25, 19, 19, 19, 25, 18, 0, 7, 0, 10, 7, 14, 11, 15, 18, 18, 25, 10, 10, 17, 7, 10, 0, 0, 19, 10, 24, 14, 19, 14, 10, 0, 1, 0, 0, 6, 14, 10, 6, 0, 14, 11, 19, 18, 19, 25, 18, 25, 15, 14, 6, 0, 5, 5, 25, 19, 19, 15, 11, 19, 5, 10, 19, 19, 19, 14, 5, 0, 1, 14, 18, 18, 25, 5, 10, 10, 18, 15, 10, 10, 6, 6, 15, 15, 25, 19, 15, 19, 18, 25, 1, 0, 6, 18, 25, 19, 19, 14, 5, 10, 5, 10, 0, 0, 5, 19, 19, 10, 0, 19, 10, 5, 5, 0, 5, 10, 10, 5, 10, 0, 3, 5, 0, 5, 3, 19, 18, 25, 12, 8, 0, 14, 10, 14, 10, 5, 5, 19, 0, 10, 19, 10, 19, 5, 10, 5, 0, 6, 19, 15, 19, 14, 11, 10, 0, 0, 0, 6, 14, 14, 6, 5, 0, 6, 11, 17, 17, 19, 19, 18, 25, 5, 10, 5, 0, 6, 14, 10, 10, 0, 0, 10, 18, 10, 14, 14, 6, 1, 14, 19, 18, 18, 25, 6, 18, 18, 25, 10, 8, 15, 19, 8, 25, 17, 10, 5, 25, 17, 10, 5, 0, 6, 6, 14, 11, 11, 25, 25, 24, 10, 0, 11, 17, 20, 18, 25, 0, 0, 0, 6, 5, 19, 5, 5, 0, 1, 10, 19, 20, 10, 0, 0, 5, 19, 18, 25, 25, 14, 19, 14, 19, 15, 10, 10, 10, 10, 5, 0, 0, 10, 8, 8, 18, 25, 18, 19, 15, 18, 19, 10, 11, 19, 18, 25, 25, 10, 5, 0, 14, 14, 19, 12, 19, 10, 19, 19, 10, 0, 19, 19, 10, 10, 10, 11, 20, 10, 14, 19, 18, 18, 25, 18, 19, 19, 19, 10, 14, 0, 6, 20, 19, 15, 18, 25, 19, 19, 15, 15, 18, 25, 14, 11, 11, 18, 25, 1, 14, 0, 10, 0, 5, 5, 5, 20, 20, 20, 12, 18, 25, 14, 20, 22, 10, 19, 18, 25, 19, 14, 1, 0, 10, 1, 0, 5, 14, 6, 14, 6, 10, 5, 10, 19, 19, 10, 5, 10, 5, 0, 10, 0, 10, 5, 5, 0, 6, 17, 17, 14, 19, 18, 25, 19, 19, 19, 19, 5, 0, 8, 25, 10, 18, 25, 19, 10, 0, 7, 15, 18, 18, 25, 19, 14, 7, 17, 14, 11, 20, 18, 25, 25, 14, 18, 14, 14, 0, 6, 7, 16, 20, 11, 10, 19, 10, 0, 10, 19, 10, 19, 5, 5, 0, 0, 6, 19, 5, 0, 6, 19, 18, 18, 25, 20, 1, 0, 0, 1, 14, 5, 3, 5, 5, 10, 5, 0, 10, 19, 8, 19, 10, 10, 5, 0, 10, 0, 8, 1, 14, 6, 0, 19, 7, 15, 25, 10, 10, 6, 11, 17, 19, 18, 25, 16, 18, 10, 14, 19, 19, 15, 18, 25, 19, 10, 14, 19, 10, 14, 19, 19, 19, 14, 1, 6, 11, 10, 7, 10, 14, 6, 0, 6, 14, 18, 25, 19, 6, 11, 10, 10, 11, 19, 25, 14, 19, 14, 19, 18, 19, 10, 5, 0, 10, 19, 17, 8, 19, 17, 5, 10, 19, 18, 25, 19, 5, 5, 0, 10, 10, 0, 5, 0, 6, 12, 20, 20, 20, 19, 18, 19, 19, 19, 22, 5, 5, 22, 19, 18, 25, 14, 5, 11, 19, 19, 0, 15, 18, 18, 20, 18, 19, 19, 15, 18, 18, 25, 10, 19, 0, 10, 10, 10, 0, 19, 5, 8, 10, 7, 0, 6, 5, 14, 19, 19, 14, 5, 19, 25, 5, 0, 6, 14, 1, 11, 17, 19, 19, 18, 25, 18, 14, 5, 19, 0, 19, 18, 25, 6, 14, 10, 10, 5, 1, 0, 6, 6, 14, 0, 1, 11, 20, 20, 14, 14, 25, 18, 19, 25, 19, 5, 24, 19, 19, 18, 25, 8, 7, 17, 24, 5, 0, 7, 17, 25, 19, 15, 25, 14, 11, 20, 5, 10, 0, 7, 0, 0, 11, 20, 20, 18, 15, 18, 10, 5, 14, 19, 0, 10, 14, 1, 0, 5, 1, 0, 14, 12, 19, 19, 14, 6, 1, 14, 19, 10, 14, 14, 6, 1, 1, 14, 5, 11, 17, 19, 15, 25, 19, 19, 19, 19, 10, 5, 10, 6, 11, 17]\n"
          ],
          "name": "stdout"
        }
      ]
    },
    {
      "cell_type": "code",
      "metadata": {
        "id": "ukooT2GLWVDu"
      },
      "source": [
        "# Use train_test_split to split our data into train and validation sets for training\n",
        "\n",
        "train_inputs, validation_inputs, train_labels, validation_labels = train_test_split(input_ids, labels, \n",
        "                                                            random_state=2018, test_size=0.1)\n",
        "train_masks, validation_masks, _, _ = train_test_split(attention_masks, input_ids,\n",
        "                                             random_state=2018, test_size=0.1)"
      ],
      "execution_count": 55,
      "outputs": []
    },
    {
      "cell_type": "code",
      "metadata": {
        "id": "8yYmGATtWWpc"
      },
      "source": [
        "# Convert all of our data into torch tensors, the required datatype for our model\n",
        "\n",
        "train_inputs = torch.tensor(train_inputs)\n",
        "validation_inputs = torch.tensor(validation_inputs)\n",
        "train_labels = torch.tensor(train_labels)\n",
        "validation_labels = torch.tensor(validation_labels)\n",
        "train_masks = torch.tensor(train_masks)\n",
        "validation_masks = torch.tensor(validation_masks)"
      ],
      "execution_count": 56,
      "outputs": []
    },
    {
      "cell_type": "code",
      "metadata": {
        "id": "zS7ZO78cWYfO"
      },
      "source": [
        "# Create an iterator of our data with torch DataLoader. This helps save on memory during training because, unlike a for loop, \n",
        "# with an iterator the entire dataset does not need to be loaded into memory\n",
        "\n",
        "train_data = TensorDataset(train_inputs, train_masks, train_labels)\n",
        "train_sampler = RandomSampler(train_data)\n",
        "train_dataloader = DataLoader(train_data, sampler=train_sampler, batch_size=BATCH_SIZE)\n",
        "\n",
        "validation_data = TensorDataset(validation_inputs, validation_masks, validation_labels)\n",
        "validation_sampler = SequentialSampler(validation_data)\n",
        "validation_dataloader = DataLoader(validation_data, sampler=validation_sampler, batch_size=BATCH_SIZE)"
      ],
      "execution_count": 57,
      "outputs": []
    },
    {
      "cell_type": "code",
      "metadata": {
        "id": "djyfxGW2Wb96",
        "outputId": "6a86b01a-38e2-4dd0-eae9-def73a08eb46",
        "colab": {
          "base_uri": "https://localhost:8080/",
          "height": 1000
        }
      },
      "source": [
        "# This is where the fine-tuning comes in. We must train the model for our specific task.\n",
        "\n",
        "# We will first modify pre-trained BERT for our specific task, then continue training on our data until the entire model\n",
        "#   is well-suited for our task.\n",
        "\n",
        "model = BertForSequenceClassification.from_pretrained(\"bert-base-uncased\", num_labels=len(labels))\n",
        "model.cuda()"
      ],
      "execution_count": 58,
      "outputs": [
        {
          "output_type": "execute_result",
          "data": {
            "text/plain": [
              "BertForSequenceClassification(\n",
              "  (bert): BertModel(\n",
              "    (embeddings): BertEmbeddings(\n",
              "      (word_embeddings): Embedding(30522, 768, padding_idx=0)\n",
              "      (position_embeddings): Embedding(512, 768)\n",
              "      (token_type_embeddings): Embedding(2, 768)\n",
              "      (LayerNorm): BertLayerNorm()\n",
              "      (dropout): Dropout(p=0.1, inplace=False)\n",
              "    )\n",
              "    (encoder): BertEncoder(\n",
              "      (layer): ModuleList(\n",
              "        (0): BertLayer(\n",
              "          (attention): BertAttention(\n",
              "            (self): BertSelfAttention(\n",
              "              (query): Linear(in_features=768, out_features=768, bias=True)\n",
              "              (key): Linear(in_features=768, out_features=768, bias=True)\n",
              "              (value): Linear(in_features=768, out_features=768, bias=True)\n",
              "              (dropout): Dropout(p=0.1, inplace=False)\n",
              "            )\n",
              "            (output): BertSelfOutput(\n",
              "              (dense): Linear(in_features=768, out_features=768, bias=True)\n",
              "              (LayerNorm): BertLayerNorm()\n",
              "              (dropout): Dropout(p=0.1, inplace=False)\n",
              "            )\n",
              "          )\n",
              "          (intermediate): BertIntermediate(\n",
              "            (dense): Linear(in_features=768, out_features=3072, bias=True)\n",
              "          )\n",
              "          (output): BertOutput(\n",
              "            (dense): Linear(in_features=3072, out_features=768, bias=True)\n",
              "            (LayerNorm): BertLayerNorm()\n",
              "            (dropout): Dropout(p=0.1, inplace=False)\n",
              "          )\n",
              "        )\n",
              "        (1): BertLayer(\n",
              "          (attention): BertAttention(\n",
              "            (self): BertSelfAttention(\n",
              "              (query): Linear(in_features=768, out_features=768, bias=True)\n",
              "              (key): Linear(in_features=768, out_features=768, bias=True)\n",
              "              (value): Linear(in_features=768, out_features=768, bias=True)\n",
              "              (dropout): Dropout(p=0.1, inplace=False)\n",
              "            )\n",
              "            (output): BertSelfOutput(\n",
              "              (dense): Linear(in_features=768, out_features=768, bias=True)\n",
              "              (LayerNorm): BertLayerNorm()\n",
              "              (dropout): Dropout(p=0.1, inplace=False)\n",
              "            )\n",
              "          )\n",
              "          (intermediate): BertIntermediate(\n",
              "            (dense): Linear(in_features=768, out_features=3072, bias=True)\n",
              "          )\n",
              "          (output): BertOutput(\n",
              "            (dense): Linear(in_features=3072, out_features=768, bias=True)\n",
              "            (LayerNorm): BertLayerNorm()\n",
              "            (dropout): Dropout(p=0.1, inplace=False)\n",
              "          )\n",
              "        )\n",
              "        (2): BertLayer(\n",
              "          (attention): BertAttention(\n",
              "            (self): BertSelfAttention(\n",
              "              (query): Linear(in_features=768, out_features=768, bias=True)\n",
              "              (key): Linear(in_features=768, out_features=768, bias=True)\n",
              "              (value): Linear(in_features=768, out_features=768, bias=True)\n",
              "              (dropout): Dropout(p=0.1, inplace=False)\n",
              "            )\n",
              "            (output): BertSelfOutput(\n",
              "              (dense): Linear(in_features=768, out_features=768, bias=True)\n",
              "              (LayerNorm): BertLayerNorm()\n",
              "              (dropout): Dropout(p=0.1, inplace=False)\n",
              "            )\n",
              "          )\n",
              "          (intermediate): BertIntermediate(\n",
              "            (dense): Linear(in_features=768, out_features=3072, bias=True)\n",
              "          )\n",
              "          (output): BertOutput(\n",
              "            (dense): Linear(in_features=3072, out_features=768, bias=True)\n",
              "            (LayerNorm): BertLayerNorm()\n",
              "            (dropout): Dropout(p=0.1, inplace=False)\n",
              "          )\n",
              "        )\n",
              "        (3): BertLayer(\n",
              "          (attention): BertAttention(\n",
              "            (self): BertSelfAttention(\n",
              "              (query): Linear(in_features=768, out_features=768, bias=True)\n",
              "              (key): Linear(in_features=768, out_features=768, bias=True)\n",
              "              (value): Linear(in_features=768, out_features=768, bias=True)\n",
              "              (dropout): Dropout(p=0.1, inplace=False)\n",
              "            )\n",
              "            (output): BertSelfOutput(\n",
              "              (dense): Linear(in_features=768, out_features=768, bias=True)\n",
              "              (LayerNorm): BertLayerNorm()\n",
              "              (dropout): Dropout(p=0.1, inplace=False)\n",
              "            )\n",
              "          )\n",
              "          (intermediate): BertIntermediate(\n",
              "            (dense): Linear(in_features=768, out_features=3072, bias=True)\n",
              "          )\n",
              "          (output): BertOutput(\n",
              "            (dense): Linear(in_features=3072, out_features=768, bias=True)\n",
              "            (LayerNorm): BertLayerNorm()\n",
              "            (dropout): Dropout(p=0.1, inplace=False)\n",
              "          )\n",
              "        )\n",
              "        (4): BertLayer(\n",
              "          (attention): BertAttention(\n",
              "            (self): BertSelfAttention(\n",
              "              (query): Linear(in_features=768, out_features=768, bias=True)\n",
              "              (key): Linear(in_features=768, out_features=768, bias=True)\n",
              "              (value): Linear(in_features=768, out_features=768, bias=True)\n",
              "              (dropout): Dropout(p=0.1, inplace=False)\n",
              "            )\n",
              "            (output): BertSelfOutput(\n",
              "              (dense): Linear(in_features=768, out_features=768, bias=True)\n",
              "              (LayerNorm): BertLayerNorm()\n",
              "              (dropout): Dropout(p=0.1, inplace=False)\n",
              "            )\n",
              "          )\n",
              "          (intermediate): BertIntermediate(\n",
              "            (dense): Linear(in_features=768, out_features=3072, bias=True)\n",
              "          )\n",
              "          (output): BertOutput(\n",
              "            (dense): Linear(in_features=3072, out_features=768, bias=True)\n",
              "            (LayerNorm): BertLayerNorm()\n",
              "            (dropout): Dropout(p=0.1, inplace=False)\n",
              "          )\n",
              "        )\n",
              "        (5): BertLayer(\n",
              "          (attention): BertAttention(\n",
              "            (self): BertSelfAttention(\n",
              "              (query): Linear(in_features=768, out_features=768, bias=True)\n",
              "              (key): Linear(in_features=768, out_features=768, bias=True)\n",
              "              (value): Linear(in_features=768, out_features=768, bias=True)\n",
              "              (dropout): Dropout(p=0.1, inplace=False)\n",
              "            )\n",
              "            (output): BertSelfOutput(\n",
              "              (dense): Linear(in_features=768, out_features=768, bias=True)\n",
              "              (LayerNorm): BertLayerNorm()\n",
              "              (dropout): Dropout(p=0.1, inplace=False)\n",
              "            )\n",
              "          )\n",
              "          (intermediate): BertIntermediate(\n",
              "            (dense): Linear(in_features=768, out_features=3072, bias=True)\n",
              "          )\n",
              "          (output): BertOutput(\n",
              "            (dense): Linear(in_features=3072, out_features=768, bias=True)\n",
              "            (LayerNorm): BertLayerNorm()\n",
              "            (dropout): Dropout(p=0.1, inplace=False)\n",
              "          )\n",
              "        )\n",
              "        (6): BertLayer(\n",
              "          (attention): BertAttention(\n",
              "            (self): BertSelfAttention(\n",
              "              (query): Linear(in_features=768, out_features=768, bias=True)\n",
              "              (key): Linear(in_features=768, out_features=768, bias=True)\n",
              "              (value): Linear(in_features=768, out_features=768, bias=True)\n",
              "              (dropout): Dropout(p=0.1, inplace=False)\n",
              "            )\n",
              "            (output): BertSelfOutput(\n",
              "              (dense): Linear(in_features=768, out_features=768, bias=True)\n",
              "              (LayerNorm): BertLayerNorm()\n",
              "              (dropout): Dropout(p=0.1, inplace=False)\n",
              "            )\n",
              "          )\n",
              "          (intermediate): BertIntermediate(\n",
              "            (dense): Linear(in_features=768, out_features=3072, bias=True)\n",
              "          )\n",
              "          (output): BertOutput(\n",
              "            (dense): Linear(in_features=3072, out_features=768, bias=True)\n",
              "            (LayerNorm): BertLayerNorm()\n",
              "            (dropout): Dropout(p=0.1, inplace=False)\n",
              "          )\n",
              "        )\n",
              "        (7): BertLayer(\n",
              "          (attention): BertAttention(\n",
              "            (self): BertSelfAttention(\n",
              "              (query): Linear(in_features=768, out_features=768, bias=True)\n",
              "              (key): Linear(in_features=768, out_features=768, bias=True)\n",
              "              (value): Linear(in_features=768, out_features=768, bias=True)\n",
              "              (dropout): Dropout(p=0.1, inplace=False)\n",
              "            )\n",
              "            (output): BertSelfOutput(\n",
              "              (dense): Linear(in_features=768, out_features=768, bias=True)\n",
              "              (LayerNorm): BertLayerNorm()\n",
              "              (dropout): Dropout(p=0.1, inplace=False)\n",
              "            )\n",
              "          )\n",
              "          (intermediate): BertIntermediate(\n",
              "            (dense): Linear(in_features=768, out_features=3072, bias=True)\n",
              "          )\n",
              "          (output): BertOutput(\n",
              "            (dense): Linear(in_features=3072, out_features=768, bias=True)\n",
              "            (LayerNorm): BertLayerNorm()\n",
              "            (dropout): Dropout(p=0.1, inplace=False)\n",
              "          )\n",
              "        )\n",
              "        (8): BertLayer(\n",
              "          (attention): BertAttention(\n",
              "            (self): BertSelfAttention(\n",
              "              (query): Linear(in_features=768, out_features=768, bias=True)\n",
              "              (key): Linear(in_features=768, out_features=768, bias=True)\n",
              "              (value): Linear(in_features=768, out_features=768, bias=True)\n",
              "              (dropout): Dropout(p=0.1, inplace=False)\n",
              "            )\n",
              "            (output): BertSelfOutput(\n",
              "              (dense): Linear(in_features=768, out_features=768, bias=True)\n",
              "              (LayerNorm): BertLayerNorm()\n",
              "              (dropout): Dropout(p=0.1, inplace=False)\n",
              "            )\n",
              "          )\n",
              "          (intermediate): BertIntermediate(\n",
              "            (dense): Linear(in_features=768, out_features=3072, bias=True)\n",
              "          )\n",
              "          (output): BertOutput(\n",
              "            (dense): Linear(in_features=3072, out_features=768, bias=True)\n",
              "            (LayerNorm): BertLayerNorm()\n",
              "            (dropout): Dropout(p=0.1, inplace=False)\n",
              "          )\n",
              "        )\n",
              "        (9): BertLayer(\n",
              "          (attention): BertAttention(\n",
              "            (self): BertSelfAttention(\n",
              "              (query): Linear(in_features=768, out_features=768, bias=True)\n",
              "              (key): Linear(in_features=768, out_features=768, bias=True)\n",
              "              (value): Linear(in_features=768, out_features=768, bias=True)\n",
              "              (dropout): Dropout(p=0.1, inplace=False)\n",
              "            )\n",
              "            (output): BertSelfOutput(\n",
              "              (dense): Linear(in_features=768, out_features=768, bias=True)\n",
              "              (LayerNorm): BertLayerNorm()\n",
              "              (dropout): Dropout(p=0.1, inplace=False)\n",
              "            )\n",
              "          )\n",
              "          (intermediate): BertIntermediate(\n",
              "            (dense): Linear(in_features=768, out_features=3072, bias=True)\n",
              "          )\n",
              "          (output): BertOutput(\n",
              "            (dense): Linear(in_features=3072, out_features=768, bias=True)\n",
              "            (LayerNorm): BertLayerNorm()\n",
              "            (dropout): Dropout(p=0.1, inplace=False)\n",
              "          )\n",
              "        )\n",
              "        (10): BertLayer(\n",
              "          (attention): BertAttention(\n",
              "            (self): BertSelfAttention(\n",
              "              (query): Linear(in_features=768, out_features=768, bias=True)\n",
              "              (key): Linear(in_features=768, out_features=768, bias=True)\n",
              "              (value): Linear(in_features=768, out_features=768, bias=True)\n",
              "              (dropout): Dropout(p=0.1, inplace=False)\n",
              "            )\n",
              "            (output): BertSelfOutput(\n",
              "              (dense): Linear(in_features=768, out_features=768, bias=True)\n",
              "              (LayerNorm): BertLayerNorm()\n",
              "              (dropout): Dropout(p=0.1, inplace=False)\n",
              "            )\n",
              "          )\n",
              "          (intermediate): BertIntermediate(\n",
              "            (dense): Linear(in_features=768, out_features=3072, bias=True)\n",
              "          )\n",
              "          (output): BertOutput(\n",
              "            (dense): Linear(in_features=3072, out_features=768, bias=True)\n",
              "            (LayerNorm): BertLayerNorm()\n",
              "            (dropout): Dropout(p=0.1, inplace=False)\n",
              "          )\n",
              "        )\n",
              "        (11): BertLayer(\n",
              "          (attention): BertAttention(\n",
              "            (self): BertSelfAttention(\n",
              "              (query): Linear(in_features=768, out_features=768, bias=True)\n",
              "              (key): Linear(in_features=768, out_features=768, bias=True)\n",
              "              (value): Linear(in_features=768, out_features=768, bias=True)\n",
              "              (dropout): Dropout(p=0.1, inplace=False)\n",
              "            )\n",
              "            (output): BertSelfOutput(\n",
              "              (dense): Linear(in_features=768, out_features=768, bias=True)\n",
              "              (LayerNorm): BertLayerNorm()\n",
              "              (dropout): Dropout(p=0.1, inplace=False)\n",
              "            )\n",
              "          )\n",
              "          (intermediate): BertIntermediate(\n",
              "            (dense): Linear(in_features=768, out_features=3072, bias=True)\n",
              "          )\n",
              "          (output): BertOutput(\n",
              "            (dense): Linear(in_features=3072, out_features=768, bias=True)\n",
              "            (LayerNorm): BertLayerNorm()\n",
              "            (dropout): Dropout(p=0.1, inplace=False)\n",
              "          )\n",
              "        )\n",
              "      )\n",
              "    )\n",
              "    (pooler): BertPooler(\n",
              "      (dense): Linear(in_features=768, out_features=768, bias=True)\n",
              "      (activation): Tanh()\n",
              "    )\n",
              "  )\n",
              "  (dropout): Dropout(p=0.1, inplace=False)\n",
              "  (classifier): Linear(in_features=768, out_features=5074, bias=True)\n",
              ")"
            ]
          },
          "metadata": {
            "tags": []
          },
          "execution_count": 58
        }
      ]
    },
    {
      "cell_type": "code",
      "metadata": {
        "id": "HPtYqoRsWjnT"
      },
      "source": [
        "'''\n",
        "Now that we have our model loaded we need to grab the training hyperparameters from within the stored model.\n",
        "\n",
        "For the purposes of fine-tuning, the authors recommend the following hyperparameter ranges:\n",
        "\n",
        "Batch size: 16, 32\n",
        "Learning rate (Adam): 5e-5, 3e-5, 2e-5\n",
        "Number of epochs: 2, 3, 4\n",
        "'''\n",
        "\n",
        "param_optimizer = list(model.named_parameters())\n",
        "no_decay = ['bias', 'gamma', 'beta']\n",
        "optimizer_grouped_parameters = [\n",
        "    {'params': [p for n, p in param_optimizer if not any(nd in n for nd in no_decay)],\n",
        "     'weight_decay_rate': 0.01},\n",
        "    {'params': [p for n, p in param_optimizer if any(nd in n for nd in no_decay)],\n",
        "     'weight_decay_rate': 0.0}\n",
        "]"
      ],
      "execution_count": 59,
      "outputs": []
    },
    {
      "cell_type": "code",
      "metadata": {
        "id": "6wRLpwmyWnFZ",
        "outputId": "5200055c-f8ae-40a3-9714-094ce6e4404c",
        "colab": {
          "base_uri": "https://localhost:8080/",
          "height": 34
        }
      },
      "source": [
        "optimizer = BertAdam(optimizer_grouped_parameters,\n",
        "                     lr=LEARNING_RATE,\n",
        "                     warmup=WARMUP)"
      ],
      "execution_count": 60,
      "outputs": [
        {
          "output_type": "stream",
          "text": [
            "t_total value of -1 results in schedule not being applied\n"
          ],
          "name": "stderr"
        }
      ]
    },
    {
      "cell_type": "code",
      "metadata": {
        "id": "uMEbb1g5Wrsd",
        "outputId": "dad54c2c-a825-4ff3-e75e-2acf070cb63b",
        "colab": {
          "base_uri": "https://localhost:8080/",
          "height": 170
        }
      },
      "source": [
        "t = [] \n",
        "\n",
        "# Store our loss and accuracy for plotting\n",
        "train_loss_set = []\n",
        "\n",
        "# trange is a tqdm wrapper around the normal python range\n",
        "for _ in trange(EPOCHS, desc=\"Epoch\"):\n",
        "  \n",
        "  # Training\n",
        "  \n",
        "  # Set our model to training mode (as opposed to evaluation mode)\n",
        "  model.train()\n",
        "  \n",
        "  # Tracking variables\n",
        "  tr_loss = 0\n",
        "  nb_tr_examples, nb_tr_steps = 0, 0\n",
        "  \n",
        "  # Train the data for one epoch\n",
        "  for step, batch in enumerate(train_dataloader):\n",
        "    # Add batch to GPU\n",
        "    batch = tuple(t.to(device) for t in batch)\n",
        "    # Unpack the inputs from our dataloader\n",
        "    b_input_ids, b_input_mask, b_labels = batch\n",
        "    # Clear out the gradients (by default they accumulate)\n",
        "    optimizer.zero_grad()\n",
        "    # Forward pass\n",
        "    loss = model(b_input_ids, token_type_ids=None, attention_mask=b_input_mask, labels=b_labels)\n",
        "    train_loss_set.append(loss.item())    \n",
        "    # Backward pass\n",
        "    loss.backward()\n",
        "    # Update parameters and take a step using the computed gradient\n",
        "    optimizer.step()\n",
        "    \n",
        "    # Update tracking variables\n",
        "    tr_loss += loss.item()\n",
        "    nb_tr_examples += b_input_ids.size(0)\n",
        "    nb_tr_steps += 1\n",
        "\n",
        "  print(\"Train loss: {}\".format(tr_loss/nb_tr_steps))\n",
        "    \n",
        "    \n",
        "  # Validation\n",
        "\n",
        "  # Put model in evaluation mode to evaluate loss on the validation set\n",
        "  model.eval()\n",
        "\n",
        "  # Tracking variables \n",
        "  eval_loss, eval_accuracy = 0, 0\n",
        "  nb_eval_steps, nb_eval_examples = 0, 0\n",
        "\n",
        "  # Evaluate data for one epoch\n",
        "  for batch in validation_dataloader:\n",
        "    # Add batch to GPU\n",
        "    batch = tuple(t.to(device) for t in batch)\n",
        "    # Unpack the inputs from our dataloader\n",
        "    b_input_ids, b_input_mask, b_labels = batch\n",
        "    # Telling the model not to compute or store gradients, saving memory and speeding up validation\n",
        "    with torch.no_grad():\n",
        "      # Forward pass, calculate logit predictions\n",
        "      logits = model(b_input_ids, token_type_ids=None, attention_mask=b_input_mask)\n",
        "    \n",
        "    # Move logits and labels to CPU\n",
        "    logits = logits.detach().cpu().numpy()\n",
        "    label_ids = b_labels.to('cpu').numpy()\n",
        "\n",
        "    tmp_eval_accuracy = flat_accuracy(logits, label_ids)\n",
        "    \n",
        "    eval_accuracy += tmp_eval_accuracy\n",
        "    nb_eval_steps += 1\n",
        "\n",
        "  print(\"Validation Accuracy: {}\".format(eval_accuracy/nb_eval_steps))"
      ],
      "execution_count": 61,
      "outputs": [
        {
          "output_type": "stream",
          "text": [
            "\rEpoch:   0%|          | 0/4 [00:00<?, ?it/s]"
          ],
          "name": "stderr"
        },
        {
          "output_type": "stream",
          "text": [
            "Train loss: 2.9103747714649546\n"
          ],
          "name": "stdout"
        },
        {
          "output_type": "stream",
          "text": [
            "\rEpoch:  25%|██▌       | 1/4 [01:15<03:45, 75.11s/it]"
          ],
          "name": "stderr"
        },
        {
          "output_type": "stream",
          "text": [
            "Validation Accuracy: 0.5691964285714286\n",
            "Train loss: 1.2159557580114244\n"
          ],
          "name": "stdout"
        },
        {
          "output_type": "stream",
          "text": [
            "\rEpoch:  50%|█████     | 2/4 [02:30<02:30, 75.14s/it]"
          ],
          "name": "stderr"
        },
        {
          "output_type": "stream",
          "text": [
            "Validation Accuracy: 0.5851004464285714\n",
            "Train loss: 1.0198802326942658\n"
          ],
          "name": "stdout"
        },
        {
          "output_type": "stream",
          "text": [
            "\rEpoch:  75%|███████▌  | 3/4 [03:45<01:15, 75.12s/it]"
          ],
          "name": "stderr"
        },
        {
          "output_type": "stream",
          "text": [
            "Validation Accuracy: 0.5691964285714286\n",
            "Train loss: 0.8990634829847963\n"
          ],
          "name": "stdout"
        },
        {
          "output_type": "stream",
          "text": [
            "Epoch: 100%|██████████| 4/4 [05:00<00:00, 75.13s/it]"
          ],
          "name": "stderr"
        },
        {
          "output_type": "stream",
          "text": [
            "Validation Accuracy: 0.5731026785714286\n"
          ],
          "name": "stdout"
        },
        {
          "output_type": "stream",
          "text": [
            "\n"
          ],
          "name": "stderr"
        }
      ]
    },
    {
      "cell_type": "markdown",
      "metadata": {
        "id": "iW-99ItFn6Ti"
      },
      "source": [
        "Now we will evaluate the instances guessed valid with the valid-trained BERT."
      ]
    },
    {
      "cell_type": "code",
      "metadata": {
        "id": "hOEfaDDF_smP",
        "outputId": "bd646822-637a-437b-a8a9-33b7ccf3329e",
        "colab": {
          "base_uri": "https://localhost:8080/",
          "height": 136
        }
      },
      "source": [
        "sentences_test_valid = df_multi_test_valid.sentence.values\n",
        "sentences_test_valid = [\"[CLS] \" + sentence + \" [SEP]\" for sentence in sentences_test_valid]\n",
        "\n",
        "tokenized_texts_test_valid = [tokenizer.tokenize(sentence) for sentence in sentences_test_valid]\n",
        "labels_test_valid = df_multi_test_valid.relation.values\n",
        "labels_test_valid[:50]"
      ],
      "execution_count": 62,
      "outputs": [
        {
          "output_type": "execute_result",
          "data": {
            "text/plain": [
              "array(['1,50', '1,2', '5,50', '5,50', '2,50', '1,2', '3,50', '3,4',\n",
              "       '5,50', '6,50', '2,50', '3,50', '3,6', '5,6', '5,6', '1,2', '1,50',\n",
              "       '5,50', '2,5', '5,6', '5,50', '2,50', '2,50', '5,50', '6,5',\n",
              "       '2,50', '2,50', '1,2', '1,2', '1,50', '2,6', '11,12', '11,12',\n",
              "       '11,12', '5,6', '1,2', 'O', '3,6', '3,50', '5,6', '4,5', '6,50',\n",
              "       'O', '2,50', '2,5', '2,50', '2,3', '3,4', '3,50', '5,50'],\n",
              "      dtype=object)"
            ]
          },
          "metadata": {
            "tags": []
          },
          "execution_count": 62
        }
      ]
    },
    {
      "cell_type": "code",
      "metadata": {
        "id": "5I-OFsFCHBx1",
        "outputId": "ec38e943-738c-4d1d-d40c-121e77d7a886",
        "colab": {
          "base_uri": "https://localhost:8080/",
          "height": 139
        }
      },
      "source": [
        "# Now map each label to its corresponding integer\n",
        "print(\"Old labels: \",str(labels_test_valid[:50]))\n",
        "labels_test_valid = [relations.index(l) if l in relations else 999 for l in labels_test_valid]\n",
        "print(\"New labels: \",str(labels_test_valid))"
      ],
      "execution_count": 63,
      "outputs": [
        {
          "output_type": "stream",
          "text": [
            "Old labels:  ['1,50' '1,2' '5,50' '5,50' '2,50' '1,2' '3,50' '3,4' '5,50' '6,50' '2,50'\n",
            " '3,50' '3,6' '5,6' '5,6' '1,2' '1,50' '5,50' '2,5' '5,6' '5,50' '2,50'\n",
            " '2,50' '5,50' '6,5' '2,50' '2,50' '1,2' '1,2' '1,50' '2,6' '11,12'\n",
            " '11,12' '11,12' '5,6' '1,2' 'O' '3,6' '3,50' '5,6' '4,5' '6,50' 'O'\n",
            " '2,50' '2,5' '2,50' '2,3' '3,4' '3,50' '5,50']\n",
            "New labels:  [5, 0, 19, 19, 10, 0, 14, 11, 19, 25, 10, 14, 13, 18, 18, 0, 5, 19, 8, 18, 19, 10, 10, 19, 999, 10, 10, 0, 0, 5, 9, 20, 20, 20, 18, 0, 999, 13, 14, 18, 15, 25, 999, 10, 8, 10, 6, 11, 14, 19, 15, 0, 0, 6, 19, 15, 18, 19, 10, 7, 999, 999, 10, 6, 999, 999, 10, 10, 0, 11, 15, 18, 18, 0, 19, 25, 999, 18, 0, 5, 25, 15, 18, 17, 25, 5, 0, 20, 999, 20, 5, 0, 0, 18, 10, 10, 999, 18, 18, 14, 19, 19, 10, 10, 999, 20, 999, 18, 18, 5, 0, 0, 1, 999, 14, 6, 11, 10, 999, 20, 20, 10, 10, 0, 10, 11, 999, 0, 0, 20, 20, 18, 18, 15, 10, 14, 5, 0, 0, 6, 20, 20, 19, 19, 20, 0, 0, 10, 7, 10, 0, 1, 0, 1, 13, 20, 20, 18, 18, 19, 5, 999, 5, 10, 18, 14, 0, 0, 7, 0, 999, 999, 12, 5, 6, 999, 19, 0, 6, 10, 19, 18, 19, 19, 19, 10, 5, 0, 0, 19, 15, 18, 18, 10, 10, 14, 10, 15, 19, 5, 10, 0, 0, 999, 10, 19, 12, 6, 11, 25, 19, 999, 0, 999, 20, 14, 5, 10, 5, 10, 999, 999, 25, 19, 5, 12, 5, 0, 10, 8, 10, 6, 8, 18, 18, 19, 5, 3, 0, 6, 11, 19, 16, 19, 5, 999, 10, 10, 999, 10, 19, 999, 5, 11, 5, 0, 6, 8, 18, 25, 19, 15, 18, 15, 19, 15, 24, 10, 5, 0, 999, 11, 999, 15, 18, 18, 19, 19, 999, 19, 19, 15, 19, 10, 999, 25, 13, 0, 999, 18, 999, 10, 0, 0, 6, 19, 5, 0, 22, 22, 5, 0, 19, 19, 19, 19, 15, 18, 18, 19, 18, 19, 15, 19, 18, 19, 20, 2, 17, 10, 8, 0, 10, 19, 7, 18, 7, 7, 11, 20, 999, 10, 10, 5, 14, 11, 12, 19, 1, 0, 14, 10, 14, 6, 0, 5, 11, 20, 999, 999, 18, 19, 5, 5, 10, 14, 5, 14, 19, 18, 25, 19, 14, 999, 20, 1, 999, 999, 14, 12, 12, 7, 19, 12, 25, 0, 10, 18, 999, 999, 0, 20, 19, 15, 25, 7, 5, 999, 18, 5, 999, 10, 5, 5, 0, 0, 19, 25, 25, 14, 11, 13, 19, 14, 6, 14, 5, 0, 999, 8, 15, 18, 18, 25, 10, 14, 1, 1, 19, 19, 8, 6, 8, 19, 19, 19, 10, 0, 16, 10, 19, 10, 0, 5, 5, 0, 6, 19, 14, 1, 0, 19, 18, 25, 20, 999, 20, 5, 5, 19, 5, 7, 0, 6, 11, 20, 20, 7, 999, 25, 10, 10, 13, 8, 10, 10, 999, 999, 5, 999, 999, 6, 11, 20, 20, 19, 18, 19, 19, 999, 999, 20, 19, 19, 15, 25, 19, 19, 14, 11, 19, 15, 18, 999, 0, 5, 10, 25, 14, 10, 19, 25, 5, 5, 19, 22, 14, 0, 5, 999, 13, 14, 18, 15, 25, 999, 14, 0, 19, 0, 0, 10, 999, 0, 19, 18, 19, 19, 19, 0, 999, 22, 19, 25, 19, 11, 11, 14, 14, 0, 999, 14, 6, 10, 0, 14, 10, 999, 5, 999, 999, 7, 25, 19, 20, 14, 999, 8, 6, 11, 10, 5, 5, 999, 0, 0, 14, 8, 18, 25, 11, 20, 19, 11, 19, 999, 12, 8, 999, 999, 19, 15, 18, 0, 0, 19, 19, 999, 999, 999, 0, 15, 18, 18, 19, 999, 999, 14, 10, 0, 8, 0, 0, 6, 999, 15, 19, 10, 999, 19, 10, 11, 999, 999, 17, 0, 11, 20, 18, 18, 15, 10, 10, 14, 10, 19, 20, 14, 19, 18, 19, 0, 19, 19, 19, 15, 999, 0, 6, 999, 11, 18, 19, 14, 19, 15, 18, 999, 19, 5, 0, 0, 6, 14, 17, 999, 20, 20, 19, 19, 18, 18, 25, 5, 16, 999, 19, 19, 19, 5, 5, 17, 10, 0, 0, 13, 19, 18, 19, 10, 10, 10, 10, 999, 5, 5, 14, 10, 6, 11, 16, 16, 10, 1, 20, 999, 19, 999, 10, 0, 999, 999, 11, 20, 0, 10, 0, 999, 999, 5, 6, 18, 14, 11, 19, 18, 19, 0, 5, 10, 10, 10, 999, 10, 0, 14, 19, 18, 999, 0, 999, 18, 19, 10, 5, 0, 14, 11, 11, 19, 7, 10, 25, 19, 10, 14, 19, 999, 18, 19, 11, 19, 19, 19, 999, 19, 15, 14, 18, 17, 5, 5, 5, 5, 14, 14, 20, 15, 18, 10, 999, 15, 18, 0, 15, 999, 19, 11, 20, 20, 19, 19, 19, 999, 999, 1, 19, 19, 0, 19, 18, 25, 19, 19, 999, 19, 6, 6, 999, 5, 0, 10, 999, 19, 19, 18, 18, 19, 999, 0, 5, 18, 14, 6, 14, 5, 19, 999, 5, 20, 18, 999, 10, 0, 6, 11, 19, 18, 15, 999, 0, 15, 999, 19, 18, 14, 10, 6, 19, 25, 19, 999, 0, 18, 19, 19, 15, 7, 15, 10, 11, 0, 15, 18, 18, 19, 10, 10, 20, 20, 1, 0, 1, 19, 18, 10, 24, 19, 18, 19, 10, 0, 0, 5, 19, 25, 15, 18, 14, 10, 25, 19, 19, 11, 5, 5, 10, 19, 18, 19, 19, 5, 15, 18, 18, 18, 19, 11, 999, 20, 3, 999, 0, 999, 5, 0, 5, 11, 18, 15, 15, 18, 19, 19, 15, 18, 10, 0, 5, 6, 6, 19, 999, 999, 17, 10, 18, 5, 5, 0, 0, 5, 19, 15, 18, 18, 22, 20, 20, 14, 999, 1, 999, 8, 6, 18, 25, 5, 0, 19, 17, 17, 999, 18, 19, 19, 17, 0, 0, 1, 25, 19, 17, 10, 19, 8, 11, 999, 5, 5, 18, 17, 19, 8, 17]\n"
          ],
          "name": "stdout"
        }
      ]
    },
    {
      "cell_type": "code",
      "metadata": {
        "id": "EPDGWq1WHCH6"
      },
      "source": [
        "input_ids_test_valid = [tokenizer.convert_tokens_to_ids(x) for x in tokenized_texts_test_valid]\n",
        "input_ids_test_valid = pad_sequences(input_ids_test_valid, maxlen=MAX_LEN, dtype=\"long\", truncating=\"post\", padding=\"post\")"
      ],
      "execution_count": 64,
      "outputs": []
    },
    {
      "cell_type": "code",
      "metadata": {
        "id": "bwhFVpPrHCAX"
      },
      "source": [
        "attention_masks_test_valid = []\n",
        "\n",
        "for seq in input_ids_test_valid:\n",
        "  seq_mask = [float(i>0) for i in seq]\n",
        "  attention_masks_test_valid.append(seq_mask)"
      ],
      "execution_count": 65,
      "outputs": []
    },
    {
      "cell_type": "code",
      "metadata": {
        "id": "umYINSxdI-yj"
      },
      "source": [
        "prediction_inputs_valid = torch.tensor(input_ids_test_valid)\n",
        "prediction_masks_valid = torch.tensor(attention_masks_test_valid)\n",
        "prediction_labels_valid = torch.tensor(labels_test_valid)\n",
        "\n",
        "prediction_data_valid = TensorDataset(prediction_inputs_valid, prediction_masks_valid, prediction_labels_valid)\n",
        "prediction_sampler_valid = SequentialSampler(prediction_data_valid)\n",
        "prediction_dataloader_valid = DataLoader(prediction_data_valid, sampler=prediction_sampler_valid, batch_size=BATCH_SIZE)"
      ],
      "execution_count": 66,
      "outputs": []
    },
    {
      "cell_type": "code",
      "metadata": {
        "id": "Chf5Q8Df7N1v"
      },
      "source": [
        "model.eval()\n",
        "\n",
        "predictions_test_valid, true_labels_test_valid = [], []\n",
        "\n",
        "# Predict \n",
        "for batch in prediction_dataloader_valid:\n",
        "  # Add batch to GPU\n",
        "  batch = tuple(t.to(device) for t in batch)\n",
        "  # Unpack the inputs from our dataloader\n",
        "  b_input_ids, b_input_mask, b_labels = batch\n",
        "  # Telling the model not to compute or store gradients, saving memory and speeding up prediction\n",
        "  with torch.no_grad():\n",
        "    # Forward pass, calculate logit predictions\n",
        "    logits = model(b_input_ids, token_type_ids=None, attention_mask=b_input_mask)\n",
        "\n",
        "  # Move logits and labels to CPU\n",
        "  logits_test = logits.detach().cpu().numpy()\n",
        "  label_ids_test = b_labels.to('cpu').numpy()\n",
        "  \n",
        "  # Store predictions and true labels\n",
        "  predictions_test_valid.append(logits_test)\n",
        "  true_labels_test_valid.append(label_ids_test)"
      ],
      "execution_count": 67,
      "outputs": []
    },
    {
      "cell_type": "code",
      "metadata": {
        "id": "w2v82SWToac6",
        "outputId": "d36395cc-0a6d-4300-d460-4559a564e44b",
        "colab": {
          "base_uri": "https://localhost:8080/",
          "height": 751
        }
      },
      "source": [
        "flat_predictions_test_valid = [item for sublist in predictions_test_valid for item in sublist]\n",
        "flat_predictions_test_valid = np.argmax(flat_predictions_test_valid, axis=1).flatten()\n",
        "flat_true_labels_test_valid = [item for sublist in true_labels_test_valid for item in sublist]\n",
        "\n",
        "y_pred_valid = flat_predictions_test_valid\n",
        "y_valid = flat_true_labels_test_valid\n",
        "\n",
        "print(y_pred_valid)\n",
        "print(y_valid)"
      ],
      "execution_count": 68,
      "outputs": [
        {
          "output_type": "stream",
          "text": [
            "[10  0 19  5 14  0 14 11 18 25  0 14 11 18 18  0  5 19 10 18 19 10  0 19\n",
            " 18 10 10  0  1  5 11 20 20 20 19 10  5 11 14 18 15 25  5 17 25 10  6 11\n",
            " 14 19 15 10  0  6 19 15 25 19 10 11 10  5 10 11 20 19 14 10  0 11 15 18\n",
            " 18  0 15 18 19 25  0  5 25 15 18 17 25  5  0 20 20 20  5 19  0 25 10 10\n",
            " 19 18 18 14 19 19 10  0 11 20 19 18 25  5  0  0  1  0 14 11 11 10 20 20\n",
            " 20 10 10  0 25 11 19  0  1 20 20 18 18 15 10  6  5  0  0  6 20 20 19 19\n",
            " 20  0  1 10  7 10  0  1  0  0 11 20 20 25 18 19  5  5  5 19 18 14  0  0\n",
            "  7 10 18 11 19 19  0 19 14  0  6 10 19 18 19 19 25 14  5  0  0 19 15 18\n",
            " 18 10 10 14 10 15 25 10 10  0  0 19  7 19 12  6 11 25 19  5  0 22 20 14\n",
            " 22 10  5 10 10 16 25 19  0 19  5  0 25  8 10 14  7 18 18 19 19 19  0 14\n",
            " 11 19 25 19 19 19 10 10 19 10 19 15 19 11  5  0 12  8 11 25 19 15 18 15\n",
            " 19 15 10 10  0  1  5 11 19 15 18 18 19 19 20 19 19 15 19 10 19 25 11  0\n",
            "  0 18 10 10  0  0  1 19  5  0 22 22 19  1 19 19 19 19 15 18 25 15 18 19\n",
            " 15 19 25 19 20  7 17 19 25  0 10 19  7 18  7  8 11 20 20  0 10  5 14 11\n",
            " 25 19  1  0 14 10 14  6  0  5 11 20 20 20 18 19 14  5 14 14  5  1 19 18\n",
            " 25 19 14 20 20  1 14  0 14 11  8  7 19  0 25  0 10 18  8  5  0 20 19 15\n",
            " 25  7  5 20 25  5 10 10  5 14  0  0 19 18 25 14 11 16 19 14 11 14  5  0\n",
            " 14  8 11 18 18 25 10 14 14  1 18 19  8 11  8 19 19 19 10  0 11 10 19 10\n",
            " 10  5  5  0  6 14 14  1  1 19 18 25 20 20 20  5  5 15  5 10  0 14 11 20\n",
            " 20 15 18 25 10 10 11 19 19 10 14 10  5  7  0  6 11 20 20 19 18 19 19 14\n",
            " 14 20 14 19 15 25 19 10 14 11 19 18 25  8  0 10  0 25 14 10 19 25  5  0\n",
            " 19 20 19 10  5 14 11 14 18 15 25  5 14  0 10 10 10  5  1  0 15 18 25 19\n",
            " 10 10  5 14 19 25 19 11 11 14 14  0 10 14  6 10  0 17 10  5  5 15 25 15\n",
            " 19 19 20 11 10  8  6 11 10  5  5  0  0  0 14  8 18 25 11 20 19 11 19  0\n",
            "  8 19  1 19 19 15 18  0  0 18 19  0 10 19  0 15 18 18 19 19  5 14 10  0\n",
            "  8  0  0  6 11 15 18 10 18 25 19 11 19 17 17  0 11 20 18 18 15 10 10 14\n",
            " 10 14 20 14 19 25 19  0 19 19 19 15 10  0  6  5 11 18 19 14 19 15 18 15\n",
            " 19 19  0  0  6 14 11 20 20 20 19  7 19 18 19 19 15 16 19 17 19  5 10 25\n",
            " 10  0  0 11 19 18 19 10 19 10 14 20  5  5  1 10 14 11 18 25 10  1 20 19\n",
            " 19 19  0 10  6 20 11 20  0 14  0 11  0  5  6 18 14 11 18 18 19  0  5 10\n",
            " 19  0 11 25 10 14 15 25 10  0 15 18 19 14  0  0 14 11 11 19  0 10 25 19\n",
            " 10 14 19 15 18 19 11  0 19 19 14 19 15 11 25 17 10  5  5  5 14 14 20 15\n",
            " 25 10 11 15 18 10 15 18 19 11 20 20 19 19 19 14  5  1 19 19  0 19 18 25\n",
            " 19 19 11 19  6  6  5  5  0  5 10 14 19 18 18 19 19  0 11 18 14  6 14  5\n",
            " 18 19  5 20 25 19 10  0  6 11 19 15 15 20  0 15 19 19 18 14 10  6 19 25\n",
            " 18 10 14 25 19 19 15  8 15 10 11  0 15 18 18 19 10 10 20 20  0 10  1 19\n",
            " 18  0 20 19 25 19 10  0  0  5 19 25 15 18 14 19 25 19 19 11  5  5  0 19\n",
            " 25 19 19 14 15 18 18 18 19 11 25 20 19  0 10  5 14 10  5 11 18 11 19 25\n",
            " 19 19 15 18 10  0  5  6  6 19 15 18 17 10 18 22  5  0  0  5 19 15 18 18\n",
            " 22 20 20 14  0 19  0 19 11 18 10  5  0  5 11 10 18 18 19 19 17 10  0  1\n",
            " 25 18 19 10 19 10 11  0  5  0 25 17 19 19 19]\n",
            "[5, 0, 19, 19, 10, 0, 14, 11, 19, 25, 10, 14, 13, 18, 18, 0, 5, 19, 8, 18, 19, 10, 10, 19, 999, 10, 10, 0, 0, 5, 9, 20, 20, 20, 18, 0, 999, 13, 14, 18, 15, 25, 999, 10, 8, 10, 6, 11, 14, 19, 15, 0, 0, 6, 19, 15, 18, 19, 10, 7, 999, 999, 10, 6, 999, 999, 10, 10, 0, 11, 15, 18, 18, 0, 19, 25, 999, 18, 0, 5, 25, 15, 18, 17, 25, 5, 0, 20, 999, 20, 5, 0, 0, 18, 10, 10, 999, 18, 18, 14, 19, 19, 10, 10, 999, 20, 999, 18, 18, 5, 0, 0, 1, 999, 14, 6, 11, 10, 999, 20, 20, 10, 10, 0, 10, 11, 999, 0, 0, 20, 20, 18, 18, 15, 10, 14, 5, 0, 0, 6, 20, 20, 19, 19, 20, 0, 0, 10, 7, 10, 0, 1, 0, 1, 13, 20, 20, 18, 18, 19, 5, 999, 5, 10, 18, 14, 0, 0, 7, 0, 999, 999, 12, 5, 6, 999, 19, 0, 6, 10, 19, 18, 19, 19, 19, 10, 5, 0, 0, 19, 15, 18, 18, 10, 10, 14, 10, 15, 19, 5, 10, 0, 0, 999, 10, 19, 12, 6, 11, 25, 19, 999, 0, 999, 20, 14, 5, 10, 5, 10, 999, 999, 25, 19, 5, 12, 5, 0, 10, 8, 10, 6, 8, 18, 18, 19, 5, 3, 0, 6, 11, 19, 16, 19, 5, 999, 10, 10, 999, 10, 19, 999, 5, 11, 5, 0, 6, 8, 18, 25, 19, 15, 18, 15, 19, 15, 24, 10, 5, 0, 999, 11, 999, 15, 18, 18, 19, 19, 999, 19, 19, 15, 19, 10, 999, 25, 13, 0, 999, 18, 999, 10, 0, 0, 6, 19, 5, 0, 22, 22, 5, 0, 19, 19, 19, 19, 15, 18, 18, 19, 18, 19, 15, 19, 18, 19, 20, 2, 17, 10, 8, 0, 10, 19, 7, 18, 7, 7, 11, 20, 999, 10, 10, 5, 14, 11, 12, 19, 1, 0, 14, 10, 14, 6, 0, 5, 11, 20, 999, 999, 18, 19, 5, 5, 10, 14, 5, 14, 19, 18, 25, 19, 14, 999, 20, 1, 999, 999, 14, 12, 12, 7, 19, 12, 25, 0, 10, 18, 999, 999, 0, 20, 19, 15, 25, 7, 5, 999, 18, 5, 999, 10, 5, 5, 0, 0, 19, 25, 25, 14, 11, 13, 19, 14, 6, 14, 5, 0, 999, 8, 15, 18, 18, 25, 10, 14, 1, 1, 19, 19, 8, 6, 8, 19, 19, 19, 10, 0, 16, 10, 19, 10, 0, 5, 5, 0, 6, 19, 14, 1, 0, 19, 18, 25, 20, 999, 20, 5, 5, 19, 5, 7, 0, 6, 11, 20, 20, 7, 999, 25, 10, 10, 13, 8, 10, 10, 999, 999, 5, 999, 999, 6, 11, 20, 20, 19, 18, 19, 19, 999, 999, 20, 19, 19, 15, 25, 19, 19, 14, 11, 19, 15, 18, 999, 0, 5, 10, 25, 14, 10, 19, 25, 5, 5, 19, 22, 14, 0, 5, 999, 13, 14, 18, 15, 25, 999, 14, 0, 19, 0, 0, 10, 999, 0, 19, 18, 19, 19, 19, 0, 999, 22, 19, 25, 19, 11, 11, 14, 14, 0, 999, 14, 6, 10, 0, 14, 10, 999, 5, 999, 999, 7, 25, 19, 20, 14, 999, 8, 6, 11, 10, 5, 5, 999, 0, 0, 14, 8, 18, 25, 11, 20, 19, 11, 19, 999, 12, 8, 999, 999, 19, 15, 18, 0, 0, 19, 19, 999, 999, 999, 0, 15, 18, 18, 19, 999, 999, 14, 10, 0, 8, 0, 0, 6, 999, 15, 19, 10, 999, 19, 10, 11, 999, 999, 17, 0, 11, 20, 18, 18, 15, 10, 10, 14, 10, 19, 20, 14, 19, 18, 19, 0, 19, 19, 19, 15, 999, 0, 6, 999, 11, 18, 19, 14, 19, 15, 18, 999, 19, 5, 0, 0, 6, 14, 17, 999, 20, 20, 19, 19, 18, 18, 25, 5, 16, 999, 19, 19, 19, 5, 5, 17, 10, 0, 0, 13, 19, 18, 19, 10, 10, 10, 10, 999, 5, 5, 14, 10, 6, 11, 16, 16, 10, 1, 20, 999, 19, 999, 10, 0, 999, 999, 11, 20, 0, 10, 0, 999, 999, 5, 6, 18, 14, 11, 19, 18, 19, 0, 5, 10, 10, 10, 999, 10, 0, 14, 19, 18, 999, 0, 999, 18, 19, 10, 5, 0, 14, 11, 11, 19, 7, 10, 25, 19, 10, 14, 19, 999, 18, 19, 11, 19, 19, 19, 999, 19, 15, 14, 18, 17, 5, 5, 5, 5, 14, 14, 20, 15, 18, 10, 999, 15, 18, 0, 15, 999, 19, 11, 20, 20, 19, 19, 19, 999, 999, 1, 19, 19, 0, 19, 18, 25, 19, 19, 999, 19, 6, 6, 999, 5, 0, 10, 999, 19, 19, 18, 18, 19, 999, 0, 5, 18, 14, 6, 14, 5, 19, 999, 5, 20, 18, 999, 10, 0, 6, 11, 19, 18, 15, 999, 0, 15, 999, 19, 18, 14, 10, 6, 19, 25, 19, 999, 0, 18, 19, 19, 15, 7, 15, 10, 11, 0, 15, 18, 18, 19, 10, 10, 20, 20, 1, 0, 1, 19, 18, 10, 24, 19, 18, 19, 10, 0, 0, 5, 19, 25, 15, 18, 14, 10, 25, 19, 19, 11, 5, 5, 10, 19, 18, 19, 19, 5, 15, 18, 18, 18, 19, 11, 999, 20, 3, 999, 0, 999, 5, 0, 5, 11, 18, 15, 15, 18, 19, 19, 15, 18, 10, 0, 5, 6, 6, 19, 999, 999, 17, 10, 18, 5, 5, 0, 0, 5, 19, 15, 18, 18, 22, 20, 20, 14, 999, 1, 999, 8, 6, 18, 25, 5, 0, 19, 17, 17, 999, 18, 19, 19, 17, 0, 0, 1, 25, 19, 17, 10, 19, 8, 11, 999, 5, 5, 18, 17, 19, 8, 17]\n"
          ],
          "name": "stdout"
        }
      ]
    },
    {
      "cell_type": "markdown",
      "metadata": {
        "id": "bcojJiATJmo1"
      },
      "source": [
        "Extract stats."
      ]
    },
    {
      "cell_type": "code",
      "metadata": {
        "id": "s7w_wefFJls4",
        "outputId": "fd9711c5-e1e3-4e23-a955-43ac6cffe1db",
        "colab": {
          "base_uri": "https://localhost:8080/",
          "height": 598
        }
      },
      "source": [
        "from sklearn.metrics import classification_report\n",
        "valid_class_report = classification_report(y_valid, y_pred_valid)\n",
        "print(valid_class_report)"
      ],
      "execution_count": 69,
      "outputs": [
        {
          "output_type": "stream",
          "text": [
            "              precision    recall  f1-score   support\n",
            "\n",
            "           0       0.72      0.78      0.75       106\n",
            "           1       0.48      0.71      0.57        14\n",
            "           2       0.00      0.00      0.00         1\n",
            "           3       0.00      0.00      0.00         2\n",
            "           5       0.74      0.69      0.71        77\n",
            "           6       0.91      0.64      0.75        33\n",
            "           7       0.55      0.46      0.50        13\n",
            "           8       0.57      0.47      0.52        17\n",
            "           9       0.00      0.00      0.00         1\n",
            "          10       0.63      0.70      0.66        99\n",
            "          11       0.54      1.00      0.70        37\n",
            "          12       0.50      0.12      0.20         8\n",
            "          13       0.00      0.00      0.00         8\n",
            "          14       0.59      0.86      0.70        51\n",
            "          15       0.71      0.90      0.80        41\n",
            "          16       0.00      0.00      0.00         5\n",
            "          17       0.64      0.54      0.58        13\n",
            "          18       0.78      0.75      0.77        92\n",
            "          19       0.71      0.81      0.76       159\n",
            "          20       0.74      1.00      0.85        45\n",
            "          22       0.50      0.60      0.55         5\n",
            "          24       0.00      0.00      0.00         2\n",
            "          25       0.44      0.84      0.58        32\n",
            "         999       0.00      0.00      0.00       114\n",
            "\n",
            "    accuracy                           0.67       975\n",
            "   macro avg       0.45      0.50      0.46       975\n",
            "weighted avg       0.59      0.67      0.62       975\n",
            "\n"
          ],
          "name": "stdout"
        },
        {
          "output_type": "stream",
          "text": [
            "/usr/local/lib/python3.6/dist-packages/sklearn/metrics/_classification.py:1272: UndefinedMetricWarning: Precision and F-score are ill-defined and being set to 0.0 in labels with no predicted samples. Use `zero_division` parameter to control this behavior.\n",
            "  _warn_prf(average, modifier, msg_start, len(result))\n"
          ],
          "name": "stderr"
        }
      ]
    },
    {
      "cell_type": "markdown",
      "metadata": {
        "id": "dmWfDCVnLR35"
      },
      "source": [
        "Extract accuracy of valid relations."
      ]
    },
    {
      "cell_type": "code",
      "metadata": {
        "id": "TxdJyixCn5uC",
        "outputId": "df26af11-c3e4-494a-a20e-444aa37ce7a6",
        "colab": {
          "base_uri": "https://localhost:8080/",
          "height": 85
        }
      },
      "source": [
        "p = 0\n",
        "n = 0\n",
        "for i in range(len(y_pred_valid)):\n",
        "  if y_pred_valid[i] == y_valid[i]:\n",
        "    p += 1\n",
        "  else:\n",
        "    n += 1\n",
        "\n",
        "print(\"Valid guessed correctly:\",p)\n",
        "print(\"Valid guessed incorrectly:\",n)\n",
        "print(\"Total valid:\", p + n)\n",
        "print(\"Valid accuracy:\", p/(p+n))"
      ],
      "execution_count": 70,
      "outputs": [
        {
          "output_type": "stream",
          "text": [
            "Valid guessed correctly: 649\n",
            "Valid guessed incorrectly: 326\n",
            "Total valid: 975\n",
            "Valid accuracy: 0.6656410256410257\n"
          ],
          "name": "stdout"
        }
      ]
    },
    {
      "cell_type": "markdown",
      "metadata": {
        "id": "X7nFrfwiMQNO"
      },
      "source": [
        "Let's recap with the negative and valid classes."
      ]
    },
    {
      "cell_type": "code",
      "metadata": {
        "id": "BdGH0tUFn5qq",
        "outputId": "06b1c6fa-8770-4e77-95b7-aa908992ca18",
        "colab": {
          "base_uri": "https://localhost:8080/",
          "height": 85
        }
      },
      "source": [
        "print(\"Negatives predicted correctly:\", neg_correct)\n",
        "print(\"Negatives predicted incorrectly:\", neg_incorrect)\n",
        "print(\"Total predicted negative:\",num_neg_predict)\n",
        "print(\"Negative accuracy:\", neg_correct/num_neg_predict)"
      ],
      "execution_count": 71,
      "outputs": [
        {
          "output_type": "stream",
          "text": [
            "Negatives predicted correctly: 1098\n",
            "Negatives predicted incorrectly: 114\n",
            "Total predicted negative: 1212\n",
            "Negative accuracy: 0.905940594059406\n"
          ],
          "name": "stdout"
        }
      ]
    },
    {
      "cell_type": "code",
      "metadata": {
        "id": "E5dv2aeYn5nD",
        "outputId": "2ae3d042-cc77-4de8-e581-9ce17cbe24c2",
        "colab": {
          "base_uri": "https://localhost:8080/",
          "height": 34
        }
      },
      "source": [
        "# Total accuracy with valid and no relation\n",
        "\n",
        "print((neg_correct+p)/(num_neg_predict+p+n))"
      ],
      "execution_count": 72,
      "outputs": [
        {
          "output_type": "stream",
          "text": [
            "0.7988111568358482\n"
          ],
          "name": "stdout"
        }
      ]
    },
    {
      "cell_type": "markdown",
      "metadata": {
        "id": "iWkdFQarYEiU"
      },
      "source": [
        "Now for the invalid relations."
      ]
    },
    {
      "cell_type": "code",
      "metadata": {
        "id": "LB1nLxH5bv_w",
        "outputId": "e819821a-5ef3-409e-f23f-de5931d8dfc0",
        "colab": {
          "base_uri": "https://localhost:8080/",
          "height": 204
        }
      },
      "source": [
        "# First must edit relations \n",
        "\n",
        "df_valid = df.copy(deep=True)\n",
        "\n",
        "# Going to edit iteratively (lazily)...will fix later.\n",
        "\n",
        "for i, row in df_valid.iterrows():\n",
        "  r = row.relation\n",
        "\n",
        "  if r == 'O': continue\n",
        "  r_split = r.split(\"-\")\n",
        "  r = r_split[1] + \",\" + r_split[2]\n",
        "  df_valid.at[i, \"relation\"] = r\n",
        "  \n",
        "df_valid.head()"
      ],
      "execution_count": 73,
      "outputs": [
        {
          "output_type": "execute_result",
          "data": {
            "text/html": [
              "<div>\n",
              "<style scoped>\n",
              "    .dataframe tbody tr th:only-of-type {\n",
              "        vertical-align: middle;\n",
              "    }\n",
              "\n",
              "    .dataframe tbody tr th {\n",
              "        vertical-align: top;\n",
              "    }\n",
              "\n",
              "    .dataframe thead th {\n",
              "        text-align: right;\n",
              "    }\n",
              "</style>\n",
              "<table border=\"1\" class=\"dataframe\">\n",
              "  <thead>\n",
              "    <tr style=\"text-align: right;\">\n",
              "      <th></th>\n",
              "      <th>essay</th>\n",
              "      <th>relation</th>\n",
              "      <th>s_num</th>\n",
              "      <th>sentence</th>\n",
              "    </tr>\n",
              "  </thead>\n",
              "  <tbody>\n",
              "    <tr>\n",
              "      <th>0</th>\n",
              "      <td>EBA1415_TFHC_1_SC_ES-05947</td>\n",
              "      <td>O</td>\n",
              "      <td>1.0</td>\n",
              "      <td>This essay is about skin damage, latitude and ...</td>\n",
              "    </tr>\n",
              "    <tr>\n",
              "      <th>1</th>\n",
              "      <td>EBA1415_TFHC_1_SC_ES-05947</td>\n",
              "      <td>O</td>\n",
              "      <td>2.0</td>\n",
              "      <td>The skin damage is on our bodies that have num...</td>\n",
              "    </tr>\n",
              "    <tr>\n",
              "      <th>2</th>\n",
              "      <td>EBA1415_TFHC_1_SC_ES-05947</td>\n",
              "      <td>O</td>\n",
              "      <td>3.0</td>\n",
              "      <td>There are three main varieties of skin cancer ...</td>\n",
              "    </tr>\n",
              "    <tr>\n",
              "      <th>3</th>\n",
              "      <td>EBA1415_TFHC_1_SC_ES-05947</td>\n",
              "      <td>O</td>\n",
              "      <td>4.0</td>\n",
              "      <td>That would be what skin damage is.</td>\n",
              "    </tr>\n",
              "    <tr>\n",
              "      <th>4</th>\n",
              "      <td>EBA1415_TFHC_1_SC_ES-05947</td>\n",
              "      <td>1,2</td>\n",
              "      <td>5.0</td>\n",
              "      <td>Latitude and direct sunlight would be the cols...</td>\n",
              "    </tr>\n",
              "  </tbody>\n",
              "</table>\n",
              "</div>"
            ],
            "text/plain": [
              "                        essay  ...                                           sentence\n",
              "0  EBA1415_TFHC_1_SC_ES-05947  ...  This essay is about skin damage, latitude and ...\n",
              "1  EBA1415_TFHC_1_SC_ES-05947  ...  The skin damage is on our bodies that have num...\n",
              "2  EBA1415_TFHC_1_SC_ES-05947  ...  There are three main varieties of skin cancer ...\n",
              "3  EBA1415_TFHC_1_SC_ES-05947  ...                 That would be what skin damage is.\n",
              "4  EBA1415_TFHC_1_SC_ES-05947  ...  Latitude and direct sunlight would be the cols...\n",
              "\n",
              "[5 rows x 4 columns]"
            ]
          },
          "metadata": {
            "tags": []
          },
          "execution_count": 73
        }
      ]
    },
    {
      "cell_type": "code",
      "metadata": {
        "id": "I_UgSnj7bwie",
        "outputId": "c886baea-ceb3-4b57-9ab8-4649e3836473",
        "colab": {
          "base_uri": "https://localhost:8080/",
          "height": 824
        }
      },
      "source": [
        "# Now isolate the valid ones\n",
        "\n",
        "df_valid = df_valid[~df_valid['relation'].isin(relations)]\n",
        "df_valid = df_valid[df_valid['relation'] != \"O\"]\n",
        "df_valid.head(25)"
      ],
      "execution_count": 74,
      "outputs": [
        {
          "output_type": "execute_result",
          "data": {
            "text/html": [
              "<div>\n",
              "<style scoped>\n",
              "    .dataframe tbody tr th:only-of-type {\n",
              "        vertical-align: middle;\n",
              "    }\n",
              "\n",
              "    .dataframe tbody tr th {\n",
              "        vertical-align: top;\n",
              "    }\n",
              "\n",
              "    .dataframe thead th {\n",
              "        text-align: right;\n",
              "    }\n",
              "</style>\n",
              "<table border=\"1\" class=\"dataframe\">\n",
              "  <thead>\n",
              "    <tr style=\"text-align: right;\">\n",
              "      <th></th>\n",
              "      <th>essay</th>\n",
              "      <th>relation</th>\n",
              "      <th>s_num</th>\n",
              "      <th>sentence</th>\n",
              "    </tr>\n",
              "  </thead>\n",
              "  <tbody>\n",
              "    <tr>\n",
              "      <th>8</th>\n",
              "      <td>EBA1415_TFHC_1_SC_ES-05947</td>\n",
              "      <td>12,3</td>\n",
              "      <td>9.0</td>\n",
              "      <td>Your skin does have some denses against solar ...</td>\n",
              "    </tr>\n",
              "    <tr>\n",
              "      <th>166</th>\n",
              "      <td>EBA1415_TWJB_7_SC_ES-05059</td>\n",
              "      <td>12,3</td>\n",
              "      <td>190.2</td>\n",
              "      <td>Melanin is a special pigment in the epidermis ...</td>\n",
              "    </tr>\n",
              "    <tr>\n",
              "      <th>207</th>\n",
              "      <td>EBA1415_KNKC_1_SC_ES-05428</td>\n",
              "      <td>4,4</td>\n",
              "      <td>226.1</td>\n",
              "      <td>If normal uvb radiations are causing damage to...</td>\n",
              "    </tr>\n",
              "    <tr>\n",
              "      <th>245</th>\n",
              "      <td>EBA1415_TFHC_1_SC_ES-05966</td>\n",
              "      <td>12,3</td>\n",
              "      <td>258.0</td>\n",
              "      <td>It protects us from extreme temperatures, dama...</td>\n",
              "    </tr>\n",
              "    <tr>\n",
              "      <th>293</th>\n",
              "      <td>EBA1415_TRJA_11_SC_ES-06100</td>\n",
              "      <td>5,4</td>\n",
              "      <td>297.0</td>\n",
              "      <td>Sunburn can also be a skin disease because it ...</td>\n",
              "    </tr>\n",
              "    <tr>\n",
              "      <th>384</th>\n",
              "      <td>EBA1415_LRJE_5_SC_ES-05537</td>\n",
              "      <td>5,4</td>\n",
              "      <td>373.0</td>\n",
              "      <td>Sunburns cause damage to genetic molecules whi...</td>\n",
              "    </tr>\n",
              "    <tr>\n",
              "      <th>392</th>\n",
              "      <td>EBA1415_BGJD_2_SC_ES-5976_9</td>\n",
              "      <td>12,3</td>\n",
              "      <td>381.0</td>\n",
              "      <td>It also protects the body against extreme temp...</td>\n",
              "    </tr>\n",
              "    <tr>\n",
              "      <th>404</th>\n",
              "      <td>EBA1415_SWCT_7_SC_ES-04891</td>\n",
              "      <td>5,4</td>\n",
              "      <td>391.2</td>\n",
              "      <td>One way to increase the chance is to get sunbu...</td>\n",
              "    </tr>\n",
              "    <tr>\n",
              "      <th>405</th>\n",
              "      <td>EBA1415_SWCT_7_SC_ES-04891</td>\n",
              "      <td>5,4</td>\n",
              "      <td>392.0</td>\n",
              "      <td>This will damage skin cells and makes the chan...</td>\n",
              "    </tr>\n",
              "    <tr>\n",
              "      <th>420</th>\n",
              "      <td>EBA1415_WSKT_6_SC_ES-05345</td>\n",
              "      <td>12,2</td>\n",
              "      <td>406.0</td>\n",
              "      <td>The way people see their skin isn't really how...</td>\n",
              "    </tr>\n",
              "    <tr>\n",
              "      <th>500</th>\n",
              "      <td>EBA1415_RDCS_2_SC_ES-05693</td>\n",
              "      <td>5,4</td>\n",
              "      <td>474.1</td>\n",
              "      <td>These two causes connect because if a person s...</td>\n",
              "    </tr>\n",
              "    <tr>\n",
              "      <th>547</th>\n",
              "      <td>EBA1415_TWPK_3_SC_ES-05047</td>\n",
              "      <td>12,3</td>\n",
              "      <td>516.2</td>\n",
              "      <td>Melanin is produced in the epidermis and helps...</td>\n",
              "    </tr>\n",
              "    <tr>\n",
              "      <th>619</th>\n",
              "      <td>EBA1415_ERSK_1_SC_ES-05777</td>\n",
              "      <td>12,3</td>\n",
              "      <td>579.0</td>\n",
              "      <td>Skin protects everyone it defenses against sol...</td>\n",
              "    </tr>\n",
              "    <tr>\n",
              "      <th>680</th>\n",
              "      <td>EBA1415_SYMS_3_SC_ES-05898</td>\n",
              "      <td>6,5</td>\n",
              "      <td>631.0</td>\n",
              "      <td>When this happens, your cells try to repair th...</td>\n",
              "    </tr>\n",
              "    <tr>\n",
              "      <th>714</th>\n",
              "      <td>EBA1415_WSAL_2_SC_ES-05362</td>\n",
              "      <td>5,4</td>\n",
              "      <td>652.1</td>\n",
              "      <td>Sunburns can kill skin cells, but when the ski...</td>\n",
              "    </tr>\n",
              "    <tr>\n",
              "      <th>823</th>\n",
              "      <td>EBA1415_SWCT_7_SC_ES-04884</td>\n",
              "      <td>12,3</td>\n",
              "      <td>746.2</td>\n",
              "      <td>Our melanin helps to protect us from solar rad...</td>\n",
              "    </tr>\n",
              "    <tr>\n",
              "      <th>826</th>\n",
              "      <td>EBA1415_SWCT_7_SC_ES-04884</td>\n",
              "      <td>12,3</td>\n",
              "      <td>748.2</td>\n",
              "      <td>The bad part about it is it decreases our chan...</td>\n",
              "    </tr>\n",
              "    <tr>\n",
              "      <th>855</th>\n",
              "      <td>EBA1415_BLRW_3_SC_ES-05480</td>\n",
              "      <td>12,3</td>\n",
              "      <td>773.2</td>\n",
              "      <td>But what's worse is that it decrease our chanc...</td>\n",
              "    </tr>\n",
              "    <tr>\n",
              "      <th>862</th>\n",
              "      <td>EBA1415_TWMD_67_SC_ES-05010</td>\n",
              "      <td>12,3</td>\n",
              "      <td>780.0</td>\n",
              "      <td>UVb radiation is an example of what your skin ...</td>\n",
              "    </tr>\n",
              "    <tr>\n",
              "      <th>886</th>\n",
              "      <td>EBA1415_KNKC_1_SC_ES-5418_9</td>\n",
              "      <td>12,3</td>\n",
              "      <td>801.2</td>\n",
              "      <td>Also people who have melanin are protected fro...</td>\n",
              "    </tr>\n",
              "    <tr>\n",
              "      <th>934</th>\n",
              "      <td>EBA1415_KYLS_5_SC_ES-05646</td>\n",
              "      <td>12,3</td>\n",
              "      <td>843.0</td>\n",
              "      <td>Even though the skin is very tough &amp; is an imp...</td>\n",
              "    </tr>\n",
              "    <tr>\n",
              "      <th>988</th>\n",
              "      <td>EBA1415_TFBM_2_SC_ES-05553</td>\n",
              "      <td>12,3</td>\n",
              "      <td>889.2</td>\n",
              "      <td>Melanin helps to protect us from solar radiation.</td>\n",
              "    </tr>\n",
              "    <tr>\n",
              "      <th>1003</th>\n",
              "      <td>EBA1415_SDLC_8_SC_ES-04749</td>\n",
              "      <td>12,3</td>\n",
              "      <td>903.2</td>\n",
              "      <td>Your outter most skin the epidermis creates a ...</td>\n",
              "    </tr>\n",
              "    <tr>\n",
              "      <th>1011</th>\n",
              "      <td>EBA1415_SDLC_8_SC_ES-04749</td>\n",
              "      <td>5,5</td>\n",
              "      <td>910.0</td>\n",
              "      <td>Even one sunburn of the sunburn is bad enough ...</td>\n",
              "    </tr>\n",
              "    <tr>\n",
              "      <th>1056</th>\n",
              "      <td>EBA1415_TWMD_4-5_SC_ES-04996</td>\n",
              "      <td>12,3</td>\n",
              "      <td>950.0</td>\n",
              "      <td>Even though your skin has some protection agan...</td>\n",
              "    </tr>\n",
              "  </tbody>\n",
              "</table>\n",
              "</div>"
            ],
            "text/plain": [
              "                             essay  ...                                           sentence\n",
              "8       EBA1415_TFHC_1_SC_ES-05947  ...  Your skin does have some denses against solar ...\n",
              "166     EBA1415_TWJB_7_SC_ES-05059  ...  Melanin is a special pigment in the epidermis ...\n",
              "207     EBA1415_KNKC_1_SC_ES-05428  ...  If normal uvb radiations are causing damage to...\n",
              "245     EBA1415_TFHC_1_SC_ES-05966  ...  It protects us from extreme temperatures, dama...\n",
              "293    EBA1415_TRJA_11_SC_ES-06100  ...  Sunburn can also be a skin disease because it ...\n",
              "384     EBA1415_LRJE_5_SC_ES-05537  ...  Sunburns cause damage to genetic molecules whi...\n",
              "392    EBA1415_BGJD_2_SC_ES-5976_9  ...  It also protects the body against extreme temp...\n",
              "404     EBA1415_SWCT_7_SC_ES-04891  ...  One way to increase the chance is to get sunbu...\n",
              "405     EBA1415_SWCT_7_SC_ES-04891  ...  This will damage skin cells and makes the chan...\n",
              "420     EBA1415_WSKT_6_SC_ES-05345  ...  The way people see their skin isn't really how...\n",
              "500     EBA1415_RDCS_2_SC_ES-05693  ...  These two causes connect because if a person s...\n",
              "547     EBA1415_TWPK_3_SC_ES-05047  ...  Melanin is produced in the epidermis and helps...\n",
              "619     EBA1415_ERSK_1_SC_ES-05777  ...  Skin protects everyone it defenses against sol...\n",
              "680     EBA1415_SYMS_3_SC_ES-05898  ...  When this happens, your cells try to repair th...\n",
              "714     EBA1415_WSAL_2_SC_ES-05362  ...  Sunburns can kill skin cells, but when the ski...\n",
              "823     EBA1415_SWCT_7_SC_ES-04884  ...  Our melanin helps to protect us from solar rad...\n",
              "826     EBA1415_SWCT_7_SC_ES-04884  ...  The bad part about it is it decreases our chan...\n",
              "855     EBA1415_BLRW_3_SC_ES-05480  ...  But what's worse is that it decrease our chanc...\n",
              "862    EBA1415_TWMD_67_SC_ES-05010  ...  UVb radiation is an example of what your skin ...\n",
              "886    EBA1415_KNKC_1_SC_ES-5418_9  ...  Also people who have melanin are protected fro...\n",
              "934     EBA1415_KYLS_5_SC_ES-05646  ...  Even though the skin is very tough & is an imp...\n",
              "988     EBA1415_TFBM_2_SC_ES-05553  ...  Melanin helps to protect us from solar radiation.\n",
              "1003    EBA1415_SDLC_8_SC_ES-04749  ...  Your outter most skin the epidermis creates a ...\n",
              "1011    EBA1415_SDLC_8_SC_ES-04749  ...  Even one sunburn of the sunburn is bad enough ...\n",
              "1056  EBA1415_TWMD_4-5_SC_ES-04996  ...  Even though your skin has some protection agan...\n",
              "\n",
              "[25 rows x 4 columns]"
            ]
          },
          "metadata": {
            "tags": []
          },
          "execution_count": 74
        }
      ]
    },
    {
      "cell_type": "code",
      "metadata": {
        "id": "-iD4-6f7bwyL"
      },
      "source": [
        "# Create sentence and label lists\n",
        "sentences = df_valid.sentence.values\n",
        "\n",
        "# Add special tokens at the beginning and end of each sentence to comply with BERT\n",
        "sentences = [\"[CLS] \" + sentence + \" [SEP]\" for sentence in sentences]\n",
        "labels = df_valid.relation.values"
      ],
      "execution_count": 75,
      "outputs": []
    },
    {
      "cell_type": "code",
      "metadata": {
        "id": "zlYQ00oWbwsl",
        "outputId": "b0ba7983-c1c7-4814-82eb-345ee557f1f7",
        "colab": {
          "base_uri": "https://localhost:8080/",
          "height": 54
        }
      },
      "source": [
        "# Now that our [CLS] and [SEP] tokens are in place, we are ready for tokenization\n",
        "tokenizer = BertTokenizer.from_pretrained('bert-base-uncased', do_lower_case=True)\n",
        "tokenized_texts = [tokenizer.tokenize(sent) for sent in sentences]\n",
        "print (\"First sentence tokenized: \",tokenized_texts[0])"
      ],
      "execution_count": 76,
      "outputs": [
        {
          "output_type": "stream",
          "text": [
            "First sentence tokenized:  ['[CLS]', 'your', 'skin', 'does', 'have', 'some', 'dense', '##s', 'against', 'solar', 'radiation', 'though', '.', '[SEP]']\n"
          ],
          "name": "stdout"
        }
      ]
    },
    {
      "cell_type": "code",
      "metadata": {
        "id": "2i51bkv2bwpW",
        "outputId": "6da28045-10bf-4a15-84da-8109961362a8",
        "colab": {
          "base_uri": "https://localhost:8080/",
          "height": 34
        }
      },
      "source": [
        "'''\n",
        "For each tokenized input sentence, we need to create:\n",
        "\n",
        "1. input ids:\n",
        "    a sequence of integers identifying each input token to its index number \n",
        "    in the BERT tokenizer vocabulary\n",
        "\n",
        "2. segment mask: (optional) a sequence of 1s and 0s used to identify whether the input is one \n",
        "    sentence or two sentences long. For one sentence inputs, this is simply a sequence of 0s. \n",
        "    For two sentence inputs, there is a 0 for each token of the first sentence, followed by a \n",
        "    1 for each token of the second sentence\n",
        "\n",
        "3. attention mask: (optional) \n",
        "    a sequence of 1s and 0s, with 1s for all input tokens and 0s for all padding tokens \n",
        "\n",
        "4. labels: based on the labels from the data set\n",
        "'''\n",
        "\n",
        "# For now, we will simply delete the tokenized_texts greater than MAX_LEN.\n",
        "\n",
        "# We need to strip out the sentences greater than MAX_LEN tokens\n",
        "original_length = len(tokenized_texts)\n",
        "\n",
        "labels = [labels[i] for i in range(len(tokenized_texts)) if len(tokenized_texts[i]) <= MAX_LEN]\n",
        "tokenized_texts = [tokenized_texts[i] for i in range(len(tokenized_texts)) if len(tokenized_texts[i]) <= MAX_LEN]\n",
        "print(\"Removed {0} sentences greater than {1}\".format(original_length - len(tokenized_texts),MAX_LEN))"
      ],
      "execution_count": 77,
      "outputs": [
        {
          "output_type": "stream",
          "text": [
            "Removed 0 sentences greater than 128\n"
          ],
          "name": "stdout"
        }
      ]
    },
    {
      "cell_type": "code",
      "metadata": {
        "id": "6zm8c-QsdhIX"
      },
      "source": [
        "# Use the BERT tokenizer to convert the tokens to their index numbers in the BERT vocabulary\n",
        "input_ids = [tokenizer.convert_tokens_to_ids(x) for x in tokenized_texts]"
      ],
      "execution_count": 78,
      "outputs": []
    },
    {
      "cell_type": "code",
      "metadata": {
        "id": "tGI5o9GldhTn"
      },
      "source": [
        "# Pad our input tokens\n",
        "input_ids = pad_sequences(input_ids, maxlen=MAX_LEN, dtype=\"long\", truncating=\"post\", padding=\"post\")"
      ],
      "execution_count": 79,
      "outputs": []
    },
    {
      "cell_type": "code",
      "metadata": {
        "id": "7MnDtCQddhj8"
      },
      "source": [
        "# Create attention masks\n",
        "attention_masks = []\n",
        "\n",
        "# Create a mask of 1s for each token followed by 0s for padding\n",
        "for seq in input_ids:\n",
        "  seq_mask = [float(i>0) for i in seq]\n",
        "  attention_masks.append(seq_mask)"
      ],
      "execution_count": 80,
      "outputs": []
    },
    {
      "cell_type": "code",
      "metadata": {
        "id": "hcao4S31d3m5",
        "outputId": "ef0c4634-be65-467a-ece3-d381b66f43ca",
        "colab": {
          "base_uri": "https://localhost:8080/",
          "height": 71
        }
      },
      "source": [
        "# At this point we must convert our labels from strings to ints (required for tensorization)\n",
        "\n",
        "# First we are going to create an array of all possible labels\n",
        "label_types_invalid = {}\n",
        "for i in range(len(labels)):\n",
        "  if labels[i] not in label_types_invalid:\n",
        "    label_types_invalid.update({labels[i] : len(label_types_invalid)})\n",
        "print(\"Total labels_types: {0}\\nLabels: {1}\".format(len(label_types_invalid),str(label_types_invalid)))"
      ],
      "execution_count": 81,
      "outputs": [
        {
          "output_type": "stream",
          "text": [
            "Total labels_types: 27\n",
            "Labels: {'12,3': 0, '4,4': 1, '5,4': 2, '12,2': 3, '6,5': 4, '5,5': 5, '12,12': 6, '11,3': 7, '12,5': 8, '11,5': 9, '50,2': 10, '2,2': 11, '11,4': 12, '6,4': 13, '50,5': 14, '12,4': 15, '5,11': 16, '50,4': 17, '6,3': 18, '4,11': 19, '2,1': 20, '50,3': 21, '5,12': 22, '2,11': 23, '3,11': 24, '3,2': 25, '50,1': 26}\n"
          ],
          "name": "stdout"
        }
      ]
    },
    {
      "cell_type": "code",
      "metadata": {
        "id": "qQ5j-mF6dhgR",
        "outputId": "136546ad-249d-47f4-e77a-e4d14e72f6e4",
        "colab": {
          "base_uri": "https://localhost:8080/",
          "height": 71
        }
      },
      "source": [
        "# Now map each label to its corresponding integer\n",
        "print(\"Old labels: \",str(labels))\n",
        "labels = [label_types_invalid[l] if l in label_types_invalid else 999 for l in labels]\n",
        "print(\"New labels: \",str(labels))"
      ],
      "execution_count": 82,
      "outputs": [
        {
          "output_type": "stream",
          "text": [
            "Old labels:  ['12,3', '12,3', '4,4', '12,3', '5,4', '5,4', '12,3', '5,4', '5,4', '12,2', '5,4', '12,3', '12,3', '6,5', '5,4', '12,3', '12,3', '12,3', '12,3', '12,3', '12,3', '12,3', '12,3', '5,5', '12,3', '5,4', '5,4', '12,3', '12,3', '12,3', '12,3', '12,12', '11,3', '12,3', '12,2', '12,3', '12,5', '11,5', '12,3', '12,3', '11,3', '12,3', '5,4', '5,4', '12,3', '12,3', '12,3', '50,2', '50,2', '12,3', '12,3', '2,2', '12,3', '12,3', '12,3', '11,4', '12,3', '12,3', '12,3', '6,4', '12,3', '6,5', '11,3', '5,4', '12,3', '11,3', '12,3', '12,3', '5,4', '12,3', '12,3', '12,3', '12,3', '5,4', '12,3', '2,2', '5,4', '5,4', '5,4', '12,3', '12,3', '50,2', '12,2', '12,3', '12,3', '12,3', '12,3', '6,5', '12,3', '12,3', '12,2', '12,3', '11,3', '11,3', '12,3', '50,5', '5,4', '5,4', '12,3', '12,3', '12,3', '12,3', '12,3', '12,3', '5,4', '12,3', '12,3', '12,3', '12,3', '12,3', '12,3', '12,3', '12,3', '12,3', '12,3', '12,3', '12,3', '12,3', '12,3', '12,3', '12,3', '12,3', '12,3', '11,5', '12,2', '12,3', '12,3', '12,3', '12,2', '5,4', '12,4', '12,3', '5,11', '5,11', '12,3', '12,2', '12,3', '12,3', '5,4', '12,5', '5,4', '50,4', '12,3', '11,3', '12,3', '12,3', '12,3', '5,4', '6,3', '12,3', '12,3', '12,3', '12,3', '12,3', '12,2', '12,2', '5,4', '5,4', '11,5', '12,3', '11,3', '5,4', '5,4', '12,3', '12,3', '12,3', '12,3', '12,3', '12,3', '12,3', '12,3', '5,5', '12,3', '5,4', '5,4', '12,3', '12,3', '12,3', '12,3', '12,3', '12,3', '5,4', '4,11', '12,3', '11,5', '12,3', '12,3', '12,3', '12,3', '12,3', '12,3', '12,3', '12,3', '12,3', '2,1', '5,4', '12,3', '5,4', '12,2', '12,2', '6,5', '5,4', '11,5', '12,5', '12,3', '12,3', '12,3', '12,3', '2,1', '2,1', '12,3', '5,4', '12,3', '5,4', '50,5', '50,5', '50,5', '50,5', '12,3', '5,4', '12,3', '12,3', '12,3', '12,3', '5,4', '12,3', '12,3', '12,3', '5,4', '12,3', '5,4', '12,2', '5,4', '5,4', '12,3', '12,3', '5,4', '5,5', '12,3', '12,3', '12,3', '12,3', '12,3', '11,3', '11,3', '12,3', '12,5', '5,4', '11,3', '12,3', '11,5', '12,3', '12,3', '12,3', '12,3', '11,3', '12,3', '12,2', '12,3', '12,3', '12,3', '5,4', '12,3', '12,3', '12,3', '5,4', '12,3', '12,3', '12,3', '11,3', '12,3', '12,3', '12,3', '12,3', '6,4', '12,3', '12,3', '12,3', '12,3', '12,3', '12,3', '12,3', '12,3', '12,3', '12,3', '12,3', '12,3', '12,2', '12,3', '5,5', '5,4', '5,4', '12,3', '12,3', '12,3', '12,3', '12,3', '12,4', '12,3', '5,4', '11,5', '12,3', '12,3', '12,3', '12,2', '5,4', '5,4', '12,3', '12,3', '12,2', '12,3', '50,3', '5,4', '12,3', '12,3', '5,12', '12,3', '2,11', '3,11', '12,3', '12,3', '12,3', '3,2', '5,4', '12,3', '12,3', '12,3', '12,2', '12,3', '12,3', '5,4', '12,5', '12,3', '5,4', '5,5', '12,3', '5,4', '12,3', '12,3', '12,3', '12,3', '12,3', '12,3', '2,1', '12,3', '5,4', '12,3', '12,3', '12,3', '12,3', '6,5', '50,1', '12,3', '12,3', '12,3', '5,5', '5,4', '12,3', '12,3', '12,3', '12,3', '50,5', '12,3', '12,3', '12,3', '5,4', '5,4']\n",
            "New labels:  [0, 0, 1, 0, 2, 2, 0, 2, 2, 3, 2, 0, 0, 4, 2, 0, 0, 0, 0, 0, 0, 0, 0, 5, 0, 2, 2, 0, 0, 0, 0, 6, 7, 0, 3, 0, 8, 9, 0, 0, 7, 0, 2, 2, 0, 0, 0, 10, 10, 0, 0, 11, 0, 0, 0, 12, 0, 0, 0, 13, 0, 4, 7, 2, 0, 7, 0, 0, 2, 0, 0, 0, 0, 2, 0, 11, 2, 2, 2, 0, 0, 10, 3, 0, 0, 0, 0, 4, 0, 0, 3, 0, 7, 7, 0, 14, 2, 2, 0, 0, 0, 0, 0, 0, 2, 0, 0, 0, 0, 0, 0, 0, 0, 0, 0, 0, 0, 0, 0, 0, 0, 0, 0, 9, 3, 0, 0, 0, 3, 2, 15, 0, 16, 16, 0, 3, 0, 0, 2, 8, 2, 17, 0, 7, 0, 0, 0, 2, 18, 0, 0, 0, 0, 0, 3, 3, 2, 2, 9, 0, 7, 2, 2, 0, 0, 0, 0, 0, 0, 0, 0, 5, 0, 2, 2, 0, 0, 0, 0, 0, 0, 2, 19, 0, 9, 0, 0, 0, 0, 0, 0, 0, 0, 0, 20, 2, 0, 2, 3, 3, 4, 2, 9, 8, 0, 0, 0, 0, 20, 20, 0, 2, 0, 2, 14, 14, 14, 14, 0, 2, 0, 0, 0, 0, 2, 0, 0, 0, 2, 0, 2, 3, 2, 2, 0, 0, 2, 5, 0, 0, 0, 0, 0, 7, 7, 0, 8, 2, 7, 0, 9, 0, 0, 0, 0, 7, 0, 3, 0, 0, 0, 2, 0, 0, 0, 2, 0, 0, 0, 7, 0, 0, 0, 0, 13, 0, 0, 0, 0, 0, 0, 0, 0, 0, 0, 0, 0, 3, 0, 5, 2, 2, 0, 0, 0, 0, 0, 15, 0, 2, 9, 0, 0, 0, 3, 2, 2, 0, 0, 3, 0, 21, 2, 0, 0, 22, 0, 23, 24, 0, 0, 0, 25, 2, 0, 0, 0, 3, 0, 0, 2, 8, 0, 2, 5, 0, 2, 0, 0, 0, 0, 0, 0, 20, 0, 2, 0, 0, 0, 0, 4, 26, 0, 0, 0, 5, 2, 0, 0, 0, 0, 14, 0, 0, 0, 2, 2]\n"
          ],
          "name": "stdout"
        }
      ]
    },
    {
      "cell_type": "code",
      "metadata": {
        "id": "HVcvhjFNeVCX"
      },
      "source": [
        "# Use train_test_split to split our data into train and validation sets for training\n",
        "\n",
        "train_inputs, validation_inputs, train_labels, validation_labels = train_test_split(input_ids, labels, \n",
        "                                                            random_state=2018, test_size=0.1)\n",
        "train_masks, validation_masks, _, _ = train_test_split(attention_masks, input_ids,\n",
        "                                             random_state=2018, test_size=0.1)"
      ],
      "execution_count": 83,
      "outputs": []
    },
    {
      "cell_type": "code",
      "metadata": {
        "id": "eJu4Ab0Gdhc0"
      },
      "source": [
        "# Convert all of our data into torch tensors, the required datatype for our model\n",
        "\n",
        "train_inputs = torch.tensor(train_inputs)\n",
        "validation_inputs = torch.tensor(validation_inputs)\n",
        "train_labels = torch.tensor(train_labels)\n",
        "validation_labels = torch.tensor(validation_labels)\n",
        "train_masks = torch.tensor(train_masks)\n",
        "validation_masks = torch.tensor(validation_masks)"
      ],
      "execution_count": 84,
      "outputs": []
    },
    {
      "cell_type": "code",
      "metadata": {
        "id": "9wE8R6nNehby"
      },
      "source": [
        "# Create an iterator of our data with torch DataLoader. This helps save on memory during training because, unlike a for loop, \n",
        "# with an iterator the entire dataset does not need to be loaded into memory\n",
        "\n",
        "train_data = TensorDataset(train_inputs, train_masks, train_labels)\n",
        "train_sampler = RandomSampler(train_data)\n",
        "train_dataloader = DataLoader(train_data, sampler=train_sampler, batch_size=BATCH_SIZE)\n",
        "\n",
        "validation_data = TensorDataset(validation_inputs, validation_masks, validation_labels)\n",
        "validation_sampler = SequentialSampler(validation_data)\n",
        "validation_dataloader = DataLoader(validation_data, sampler=validation_sampler, batch_size=BATCH_SIZE)"
      ],
      "execution_count": 85,
      "outputs": []
    },
    {
      "cell_type": "code",
      "metadata": {
        "id": "x7PTr8LVehlr",
        "outputId": "307c0fc4-e250-4416-9c08-54e595513988",
        "colab": {
          "base_uri": "https://localhost:8080/",
          "height": 1000
        }
      },
      "source": [
        "# This is where the fine-tuning comes in. We must train the model for our specific task.\n",
        "\n",
        "# We will first modify pre-trained BERT for our specific task, then continue training on our data until the entire model\n",
        "#   is well-suited for our task.\n",
        "\n",
        "model = BertForSequenceClassification.from_pretrained(\"bert-base-uncased\", num_labels=len(labels))\n",
        "model.cuda()"
      ],
      "execution_count": 86,
      "outputs": [
        {
          "output_type": "execute_result",
          "data": {
            "text/plain": [
              "BertForSequenceClassification(\n",
              "  (bert): BertModel(\n",
              "    (embeddings): BertEmbeddings(\n",
              "      (word_embeddings): Embedding(30522, 768, padding_idx=0)\n",
              "      (position_embeddings): Embedding(512, 768)\n",
              "      (token_type_embeddings): Embedding(2, 768)\n",
              "      (LayerNorm): BertLayerNorm()\n",
              "      (dropout): Dropout(p=0.1, inplace=False)\n",
              "    )\n",
              "    (encoder): BertEncoder(\n",
              "      (layer): ModuleList(\n",
              "        (0): BertLayer(\n",
              "          (attention): BertAttention(\n",
              "            (self): BertSelfAttention(\n",
              "              (query): Linear(in_features=768, out_features=768, bias=True)\n",
              "              (key): Linear(in_features=768, out_features=768, bias=True)\n",
              "              (value): Linear(in_features=768, out_features=768, bias=True)\n",
              "              (dropout): Dropout(p=0.1, inplace=False)\n",
              "            )\n",
              "            (output): BertSelfOutput(\n",
              "              (dense): Linear(in_features=768, out_features=768, bias=True)\n",
              "              (LayerNorm): BertLayerNorm()\n",
              "              (dropout): Dropout(p=0.1, inplace=False)\n",
              "            )\n",
              "          )\n",
              "          (intermediate): BertIntermediate(\n",
              "            (dense): Linear(in_features=768, out_features=3072, bias=True)\n",
              "          )\n",
              "          (output): BertOutput(\n",
              "            (dense): Linear(in_features=3072, out_features=768, bias=True)\n",
              "            (LayerNorm): BertLayerNorm()\n",
              "            (dropout): Dropout(p=0.1, inplace=False)\n",
              "          )\n",
              "        )\n",
              "        (1): BertLayer(\n",
              "          (attention): BertAttention(\n",
              "            (self): BertSelfAttention(\n",
              "              (query): Linear(in_features=768, out_features=768, bias=True)\n",
              "              (key): Linear(in_features=768, out_features=768, bias=True)\n",
              "              (value): Linear(in_features=768, out_features=768, bias=True)\n",
              "              (dropout): Dropout(p=0.1, inplace=False)\n",
              "            )\n",
              "            (output): BertSelfOutput(\n",
              "              (dense): Linear(in_features=768, out_features=768, bias=True)\n",
              "              (LayerNorm): BertLayerNorm()\n",
              "              (dropout): Dropout(p=0.1, inplace=False)\n",
              "            )\n",
              "          )\n",
              "          (intermediate): BertIntermediate(\n",
              "            (dense): Linear(in_features=768, out_features=3072, bias=True)\n",
              "          )\n",
              "          (output): BertOutput(\n",
              "            (dense): Linear(in_features=3072, out_features=768, bias=True)\n",
              "            (LayerNorm): BertLayerNorm()\n",
              "            (dropout): Dropout(p=0.1, inplace=False)\n",
              "          )\n",
              "        )\n",
              "        (2): BertLayer(\n",
              "          (attention): BertAttention(\n",
              "            (self): BertSelfAttention(\n",
              "              (query): Linear(in_features=768, out_features=768, bias=True)\n",
              "              (key): Linear(in_features=768, out_features=768, bias=True)\n",
              "              (value): Linear(in_features=768, out_features=768, bias=True)\n",
              "              (dropout): Dropout(p=0.1, inplace=False)\n",
              "            )\n",
              "            (output): BertSelfOutput(\n",
              "              (dense): Linear(in_features=768, out_features=768, bias=True)\n",
              "              (LayerNorm): BertLayerNorm()\n",
              "              (dropout): Dropout(p=0.1, inplace=False)\n",
              "            )\n",
              "          )\n",
              "          (intermediate): BertIntermediate(\n",
              "            (dense): Linear(in_features=768, out_features=3072, bias=True)\n",
              "          )\n",
              "          (output): BertOutput(\n",
              "            (dense): Linear(in_features=3072, out_features=768, bias=True)\n",
              "            (LayerNorm): BertLayerNorm()\n",
              "            (dropout): Dropout(p=0.1, inplace=False)\n",
              "          )\n",
              "        )\n",
              "        (3): BertLayer(\n",
              "          (attention): BertAttention(\n",
              "            (self): BertSelfAttention(\n",
              "              (query): Linear(in_features=768, out_features=768, bias=True)\n",
              "              (key): Linear(in_features=768, out_features=768, bias=True)\n",
              "              (value): Linear(in_features=768, out_features=768, bias=True)\n",
              "              (dropout): Dropout(p=0.1, inplace=False)\n",
              "            )\n",
              "            (output): BertSelfOutput(\n",
              "              (dense): Linear(in_features=768, out_features=768, bias=True)\n",
              "              (LayerNorm): BertLayerNorm()\n",
              "              (dropout): Dropout(p=0.1, inplace=False)\n",
              "            )\n",
              "          )\n",
              "          (intermediate): BertIntermediate(\n",
              "            (dense): Linear(in_features=768, out_features=3072, bias=True)\n",
              "          )\n",
              "          (output): BertOutput(\n",
              "            (dense): Linear(in_features=3072, out_features=768, bias=True)\n",
              "            (LayerNorm): BertLayerNorm()\n",
              "            (dropout): Dropout(p=0.1, inplace=False)\n",
              "          )\n",
              "        )\n",
              "        (4): BertLayer(\n",
              "          (attention): BertAttention(\n",
              "            (self): BertSelfAttention(\n",
              "              (query): Linear(in_features=768, out_features=768, bias=True)\n",
              "              (key): Linear(in_features=768, out_features=768, bias=True)\n",
              "              (value): Linear(in_features=768, out_features=768, bias=True)\n",
              "              (dropout): Dropout(p=0.1, inplace=False)\n",
              "            )\n",
              "            (output): BertSelfOutput(\n",
              "              (dense): Linear(in_features=768, out_features=768, bias=True)\n",
              "              (LayerNorm): BertLayerNorm()\n",
              "              (dropout): Dropout(p=0.1, inplace=False)\n",
              "            )\n",
              "          )\n",
              "          (intermediate): BertIntermediate(\n",
              "            (dense): Linear(in_features=768, out_features=3072, bias=True)\n",
              "          )\n",
              "          (output): BertOutput(\n",
              "            (dense): Linear(in_features=3072, out_features=768, bias=True)\n",
              "            (LayerNorm): BertLayerNorm()\n",
              "            (dropout): Dropout(p=0.1, inplace=False)\n",
              "          )\n",
              "        )\n",
              "        (5): BertLayer(\n",
              "          (attention): BertAttention(\n",
              "            (self): BertSelfAttention(\n",
              "              (query): Linear(in_features=768, out_features=768, bias=True)\n",
              "              (key): Linear(in_features=768, out_features=768, bias=True)\n",
              "              (value): Linear(in_features=768, out_features=768, bias=True)\n",
              "              (dropout): Dropout(p=0.1, inplace=False)\n",
              "            )\n",
              "            (output): BertSelfOutput(\n",
              "              (dense): Linear(in_features=768, out_features=768, bias=True)\n",
              "              (LayerNorm): BertLayerNorm()\n",
              "              (dropout): Dropout(p=0.1, inplace=False)\n",
              "            )\n",
              "          )\n",
              "          (intermediate): BertIntermediate(\n",
              "            (dense): Linear(in_features=768, out_features=3072, bias=True)\n",
              "          )\n",
              "          (output): BertOutput(\n",
              "            (dense): Linear(in_features=3072, out_features=768, bias=True)\n",
              "            (LayerNorm): BertLayerNorm()\n",
              "            (dropout): Dropout(p=0.1, inplace=False)\n",
              "          )\n",
              "        )\n",
              "        (6): BertLayer(\n",
              "          (attention): BertAttention(\n",
              "            (self): BertSelfAttention(\n",
              "              (query): Linear(in_features=768, out_features=768, bias=True)\n",
              "              (key): Linear(in_features=768, out_features=768, bias=True)\n",
              "              (value): Linear(in_features=768, out_features=768, bias=True)\n",
              "              (dropout): Dropout(p=0.1, inplace=False)\n",
              "            )\n",
              "            (output): BertSelfOutput(\n",
              "              (dense): Linear(in_features=768, out_features=768, bias=True)\n",
              "              (LayerNorm): BertLayerNorm()\n",
              "              (dropout): Dropout(p=0.1, inplace=False)\n",
              "            )\n",
              "          )\n",
              "          (intermediate): BertIntermediate(\n",
              "            (dense): Linear(in_features=768, out_features=3072, bias=True)\n",
              "          )\n",
              "          (output): BertOutput(\n",
              "            (dense): Linear(in_features=3072, out_features=768, bias=True)\n",
              "            (LayerNorm): BertLayerNorm()\n",
              "            (dropout): Dropout(p=0.1, inplace=False)\n",
              "          )\n",
              "        )\n",
              "        (7): BertLayer(\n",
              "          (attention): BertAttention(\n",
              "            (self): BertSelfAttention(\n",
              "              (query): Linear(in_features=768, out_features=768, bias=True)\n",
              "              (key): Linear(in_features=768, out_features=768, bias=True)\n",
              "              (value): Linear(in_features=768, out_features=768, bias=True)\n",
              "              (dropout): Dropout(p=0.1, inplace=False)\n",
              "            )\n",
              "            (output): BertSelfOutput(\n",
              "              (dense): Linear(in_features=768, out_features=768, bias=True)\n",
              "              (LayerNorm): BertLayerNorm()\n",
              "              (dropout): Dropout(p=0.1, inplace=False)\n",
              "            )\n",
              "          )\n",
              "          (intermediate): BertIntermediate(\n",
              "            (dense): Linear(in_features=768, out_features=3072, bias=True)\n",
              "          )\n",
              "          (output): BertOutput(\n",
              "            (dense): Linear(in_features=3072, out_features=768, bias=True)\n",
              "            (LayerNorm): BertLayerNorm()\n",
              "            (dropout): Dropout(p=0.1, inplace=False)\n",
              "          )\n",
              "        )\n",
              "        (8): BertLayer(\n",
              "          (attention): BertAttention(\n",
              "            (self): BertSelfAttention(\n",
              "              (query): Linear(in_features=768, out_features=768, bias=True)\n",
              "              (key): Linear(in_features=768, out_features=768, bias=True)\n",
              "              (value): Linear(in_features=768, out_features=768, bias=True)\n",
              "              (dropout): Dropout(p=0.1, inplace=False)\n",
              "            )\n",
              "            (output): BertSelfOutput(\n",
              "              (dense): Linear(in_features=768, out_features=768, bias=True)\n",
              "              (LayerNorm): BertLayerNorm()\n",
              "              (dropout): Dropout(p=0.1, inplace=False)\n",
              "            )\n",
              "          )\n",
              "          (intermediate): BertIntermediate(\n",
              "            (dense): Linear(in_features=768, out_features=3072, bias=True)\n",
              "          )\n",
              "          (output): BertOutput(\n",
              "            (dense): Linear(in_features=3072, out_features=768, bias=True)\n",
              "            (LayerNorm): BertLayerNorm()\n",
              "            (dropout): Dropout(p=0.1, inplace=False)\n",
              "          )\n",
              "        )\n",
              "        (9): BertLayer(\n",
              "          (attention): BertAttention(\n",
              "            (self): BertSelfAttention(\n",
              "              (query): Linear(in_features=768, out_features=768, bias=True)\n",
              "              (key): Linear(in_features=768, out_features=768, bias=True)\n",
              "              (value): Linear(in_features=768, out_features=768, bias=True)\n",
              "              (dropout): Dropout(p=0.1, inplace=False)\n",
              "            )\n",
              "            (output): BertSelfOutput(\n",
              "              (dense): Linear(in_features=768, out_features=768, bias=True)\n",
              "              (LayerNorm): BertLayerNorm()\n",
              "              (dropout): Dropout(p=0.1, inplace=False)\n",
              "            )\n",
              "          )\n",
              "          (intermediate): BertIntermediate(\n",
              "            (dense): Linear(in_features=768, out_features=3072, bias=True)\n",
              "          )\n",
              "          (output): BertOutput(\n",
              "            (dense): Linear(in_features=3072, out_features=768, bias=True)\n",
              "            (LayerNorm): BertLayerNorm()\n",
              "            (dropout): Dropout(p=0.1, inplace=False)\n",
              "          )\n",
              "        )\n",
              "        (10): BertLayer(\n",
              "          (attention): BertAttention(\n",
              "            (self): BertSelfAttention(\n",
              "              (query): Linear(in_features=768, out_features=768, bias=True)\n",
              "              (key): Linear(in_features=768, out_features=768, bias=True)\n",
              "              (value): Linear(in_features=768, out_features=768, bias=True)\n",
              "              (dropout): Dropout(p=0.1, inplace=False)\n",
              "            )\n",
              "            (output): BertSelfOutput(\n",
              "              (dense): Linear(in_features=768, out_features=768, bias=True)\n",
              "              (LayerNorm): BertLayerNorm()\n",
              "              (dropout): Dropout(p=0.1, inplace=False)\n",
              "            )\n",
              "          )\n",
              "          (intermediate): BertIntermediate(\n",
              "            (dense): Linear(in_features=768, out_features=3072, bias=True)\n",
              "          )\n",
              "          (output): BertOutput(\n",
              "            (dense): Linear(in_features=3072, out_features=768, bias=True)\n",
              "            (LayerNorm): BertLayerNorm()\n",
              "            (dropout): Dropout(p=0.1, inplace=False)\n",
              "          )\n",
              "        )\n",
              "        (11): BertLayer(\n",
              "          (attention): BertAttention(\n",
              "            (self): BertSelfAttention(\n",
              "              (query): Linear(in_features=768, out_features=768, bias=True)\n",
              "              (key): Linear(in_features=768, out_features=768, bias=True)\n",
              "              (value): Linear(in_features=768, out_features=768, bias=True)\n",
              "              (dropout): Dropout(p=0.1, inplace=False)\n",
              "            )\n",
              "            (output): BertSelfOutput(\n",
              "              (dense): Linear(in_features=768, out_features=768, bias=True)\n",
              "              (LayerNorm): BertLayerNorm()\n",
              "              (dropout): Dropout(p=0.1, inplace=False)\n",
              "            )\n",
              "          )\n",
              "          (intermediate): BertIntermediate(\n",
              "            (dense): Linear(in_features=768, out_features=3072, bias=True)\n",
              "          )\n",
              "          (output): BertOutput(\n",
              "            (dense): Linear(in_features=3072, out_features=768, bias=True)\n",
              "            (LayerNorm): BertLayerNorm()\n",
              "            (dropout): Dropout(p=0.1, inplace=False)\n",
              "          )\n",
              "        )\n",
              "      )\n",
              "    )\n",
              "    (pooler): BertPooler(\n",
              "      (dense): Linear(in_features=768, out_features=768, bias=True)\n",
              "      (activation): Tanh()\n",
              "    )\n",
              "  )\n",
              "  (dropout): Dropout(p=0.1, inplace=False)\n",
              "  (classifier): Linear(in_features=768, out_features=367, bias=True)\n",
              ")"
            ]
          },
          "metadata": {
            "tags": []
          },
          "execution_count": 86
        }
      ]
    },
    {
      "cell_type": "code",
      "metadata": {
        "id": "Fi_AIorWehv0"
      },
      "source": [
        "'''\n",
        "Now that we have our model loaded we need to grab the training hyperparameters from within the stored model.\n",
        "\n",
        "For the purposes of fine-tuning, the authors recommend the following hyperparameter ranges:\n",
        "\n",
        "Batch size: 16, 32\n",
        "Learning rate (Adam): 5e-5, 3e-5, 2e-5\n",
        "Number of epochs: 2, 3, 4\n",
        "'''\n",
        "\n",
        "param_optimizer = list(model.named_parameters())\n",
        "no_decay = ['bias', 'gamma', 'beta']\n",
        "optimizer_grouped_parameters = [\n",
        "    {'params': [p for n, p in param_optimizer if not any(nd in n for nd in no_decay)],\n",
        "     'weight_decay_rate': 0.01},\n",
        "    {'params': [p for n, p in param_optimizer if any(nd in n for nd in no_decay)],\n",
        "     'weight_decay_rate': 0.0}\n",
        "]"
      ],
      "execution_count": 87,
      "outputs": []
    },
    {
      "cell_type": "code",
      "metadata": {
        "id": "8Yx_qyEzeh5Y",
        "outputId": "beb1b47e-57e9-4220-a71d-1dff96e833dd",
        "colab": {
          "base_uri": "https://localhost:8080/",
          "height": 34
        }
      },
      "source": [
        "optimizer = BertAdam(optimizer_grouped_parameters,\n",
        "                     lr=LEARNING_RATE,\n",
        "                     warmup=WARMUP)"
      ],
      "execution_count": 88,
      "outputs": [
        {
          "output_type": "stream",
          "text": [
            "t_total value of -1 results in schedule not being applied\n"
          ],
          "name": "stderr"
        }
      ]
    },
    {
      "cell_type": "code",
      "metadata": {
        "id": "YQSMlvKTeiFK",
        "outputId": "4daa63ae-2513-45d4-d411-4cb6aba0042c",
        "colab": {
          "base_uri": "https://localhost:8080/",
          "height": 170
        }
      },
      "source": [
        "t = [] \n",
        "\n",
        "# Store our loss and accuracy for plotting\n",
        "train_loss_set = []\n",
        "\n",
        "# trange is a tqdm wrapper around the normal python range\n",
        "for _ in trange(EPOCHS, desc=\"Epoch\"):\n",
        "  \n",
        "  # Training\n",
        "  \n",
        "  # Set our model to training mode (as opposed to evaluation mode)\n",
        "  model.train()\n",
        "  \n",
        "  # Tracking variables\n",
        "  tr_loss = 0\n",
        "  nb_tr_examples, nb_tr_steps = 0, 0\n",
        "  \n",
        "  # Train the data for one epoch\n",
        "  for step, batch in enumerate(train_dataloader):\n",
        "    # Add batch to GPU\n",
        "    batch = tuple(t.to(device) for t in batch)\n",
        "    # Unpack the inputs from our dataloader\n",
        "    b_input_ids, b_input_mask, b_labels = batch\n",
        "    # Clear out the gradients (by default they accumulate)\n",
        "    optimizer.zero_grad()\n",
        "    # Forward pass\n",
        "    loss = model(b_input_ids, token_type_ids=None, attention_mask=b_input_mask, labels=b_labels)\n",
        "    train_loss_set.append(loss.item())    \n",
        "    # Backward pass\n",
        "    loss.backward()\n",
        "    # Update parameters and take a step using the computed gradient\n",
        "    optimizer.step()\n",
        "    \n",
        "    # Update tracking variables\n",
        "    tr_loss += loss.item()\n",
        "    nb_tr_examples += b_input_ids.size(0)\n",
        "    nb_tr_steps += 1\n",
        "\n",
        "  print(\"Train loss: {}\".format(tr_loss/nb_tr_steps))\n",
        "    \n",
        "    \n",
        "  # Validation\n",
        "\n",
        "  # Put model in evaluation mode to evaluate loss on the validation set\n",
        "  model.eval()\n",
        "\n",
        "  # Tracking variables \n",
        "  eval_loss, eval_accuracy = 0, 0\n",
        "  nb_eval_steps, nb_eval_examples = 0, 0\n",
        "\n",
        "  # Evaluate data for one epoch\n",
        "  for batch in validation_dataloader:\n",
        "    # Add batch to GPU\n",
        "    batch = tuple(t.to(device) for t in batch)\n",
        "    # Unpack the inputs from our dataloader\n",
        "    b_input_ids, b_input_mask, b_labels = batch\n",
        "    # Telling the model not to compute or store gradients, saving memory and speeding up validation\n",
        "    with torch.no_grad():\n",
        "      # Forward pass, calculate logit predictions\n",
        "      logits = model(b_input_ids, token_type_ids=None, attention_mask=b_input_mask)\n",
        "    \n",
        "    # Move logits and labels to CPU\n",
        "    logits = logits.detach().cpu().numpy()\n",
        "    label_ids = b_labels.to('cpu').numpy()\n",
        "\n",
        "    tmp_eval_accuracy = flat_accuracy(logits, label_ids)\n",
        "    \n",
        "    eval_accuracy += tmp_eval_accuracy\n",
        "    nb_eval_steps += 1\n",
        "\n",
        "  print(\"Validation Accuracy: {}\".format(eval_accuracy/nb_eval_steps))"
      ],
      "execution_count": 89,
      "outputs": [
        {
          "output_type": "stream",
          "text": [
            "Epoch:  25%|██▌       | 1/4 [00:05<00:16,  5.56s/it]"
          ],
          "name": "stderr"
        },
        {
          "output_type": "stream",
          "text": [
            "Train loss: 4.236918752843684\n",
            "Validation Accuracy: 0.31875\n"
          ],
          "name": "stdout"
        },
        {
          "output_type": "stream",
          "text": [
            "\rEpoch:  50%|█████     | 2/4 [00:11<00:11,  5.55s/it]"
          ],
          "name": "stderr"
        },
        {
          "output_type": "stream",
          "text": [
            "Train loss: 1.885524489662864\n",
            "Validation Accuracy: 0.5125\n"
          ],
          "name": "stdout"
        },
        {
          "output_type": "stream",
          "text": [
            "\rEpoch:  75%|███████▌  | 3/4 [00:16<00:05,  5.55s/it]"
          ],
          "name": "stderr"
        },
        {
          "output_type": "stream",
          "text": [
            "Train loss: 1.2936657612973994\n",
            "Validation Accuracy: 0.528125\n"
          ],
          "name": "stdout"
        },
        {
          "output_type": "stream",
          "text": [
            "Epoch: 100%|██████████| 4/4 [00:22<00:00,  5.54s/it]"
          ],
          "name": "stderr"
        },
        {
          "output_type": "stream",
          "text": [
            "Train loss: 1.0524784218181262\n",
            "Validation Accuracy: 0.528125\n"
          ],
          "name": "stdout"
        },
        {
          "output_type": "stream",
          "text": [
            "\n"
          ],
          "name": "stderr"
        }
      ]
    },
    {
      "cell_type": "code",
      "metadata": {
        "id": "AAKswcVdezqq",
        "outputId": "b9925af7-413b-4a84-9248-9d56e9f73ff8",
        "colab": {
          "base_uri": "https://localhost:8080/",
          "height": 102
        }
      },
      "source": [
        "sentences_test_valid = df_multi_test_invalid.sentence.values\n",
        "sentences_test_valid = [\"[CLS] \" + sentence + \" [SEP]\" for sentence in sentences_test_valid]\n",
        "\n",
        "tokenized_texts_test_valid = [tokenizer.tokenize(sentence) for sentence in sentences_test_valid]\n",
        "labels_test_valid = df_multi_test_invalid.relation.values\n",
        "labels_test_valid[:50]"
      ],
      "execution_count": 90,
      "outputs": [
        {
          "output_type": "execute_result",
          "data": {
            "text/plain": [
              "array(['12,3', '5,4', '12,3', '12,3', '12,3', '2,5', '11,12', 'O', '12,3',\n",
              "       '12,3', '12,3', '12,3', '12,3', 'O', '12,3', '2,3', '11,12',\n",
              "       '12,3', 'O', '12,3', '12,3', '12,2', '5,4', '3,4', '12,3', 'O',\n",
              "       'O', '12,3', '12,3', 'O', '12,3', '5,4', '12,2', '5,4', '4,50',\n",
              "       'O', '4,50'], dtype=object)"
            ]
          },
          "metadata": {
            "tags": []
          },
          "execution_count": 90
        }
      ]
    },
    {
      "cell_type": "code",
      "metadata": {
        "id": "M8po6BKpez3m",
        "outputId": "1840360f-7b85-4759-f741-e20493c3e546",
        "colab": {
          "base_uri": "https://localhost:8080/",
          "height": 122
        }
      },
      "source": [
        "# Now map each label to its corresponding integer\n",
        "print(\"Old labels: \",str(labels_test_valid[:50]))\n",
        "labels_test_valid = [label_types_invalid[l] if l in label_types_invalid else 999 for l in labels_test_valid]\n",
        "print(\"New labels: \",str(labels_test_valid))"
      ],
      "execution_count": 91,
      "outputs": [
        {
          "output_type": "stream",
          "text": [
            "Old labels:  ['12,3' '5,4' '12,3' '12,3' '12,3' '2,5' '11,12' 'O' '12,3' '12,3' '12,3'\n",
            " '12,3' '12,3' 'O' '12,3' '2,3' '11,12' '12,3' 'O' '12,3' '12,3' '12,2'\n",
            " '5,4' '3,4' '12,3' 'O' 'O' '12,3' '12,3' 'O' '12,3' '5,4' '12,2' '5,4'\n",
            " '4,50' 'O' '4,50']\n",
            "New labels:  [0, 2, 0, 0, 0, 999, 999, 999, 0, 0, 0, 0, 0, 999, 0, 999, 999, 0, 999, 0, 0, 3, 2, 999, 0, 999, 999, 0, 0, 999, 0, 2, 3, 2, 999, 999, 999]\n"
          ],
          "name": "stdout"
        }
      ]
    },
    {
      "cell_type": "code",
      "metadata": {
        "id": "e0p3IpCVe0EQ"
      },
      "source": [
        "input_ids_test_valid = [tokenizer.convert_tokens_to_ids(x) for x in tokenized_texts_test_valid]\n",
        "input_ids_test_valid = pad_sequences(input_ids_test_valid, maxlen=MAX_LEN, dtype=\"long\", truncating=\"post\", padding=\"post\")"
      ],
      "execution_count": 92,
      "outputs": []
    },
    {
      "cell_type": "code",
      "metadata": {
        "id": "QGUdwkm5e0Tt"
      },
      "source": [
        "attention_masks_test_valid = []\n",
        "\n",
        "for seq in input_ids_test_valid:\n",
        "  seq_mask = [float(i>0) for i in seq]\n",
        "  attention_masks_test_valid.append(seq_mask)"
      ],
      "execution_count": 93,
      "outputs": []
    },
    {
      "cell_type": "code",
      "metadata": {
        "id": "1-UNkY1CgI1p"
      },
      "source": [
        "prediction_inputs_valid = torch.tensor(input_ids_test_valid)\n",
        "prediction_masks_valid = torch.tensor(attention_masks_test_valid)\n",
        "prediction_labels_valid = torch.tensor(labels_test_valid)\n",
        "\n",
        "prediction_data_valid = TensorDataset(prediction_inputs_valid, prediction_masks_valid, prediction_labels_valid)\n",
        "prediction_sampler_valid = SequentialSampler(prediction_data_valid)\n",
        "prediction_dataloader_valid = DataLoader(prediction_data_valid, sampler=prediction_sampler_valid, batch_size=BATCH_SIZE)"
      ],
      "execution_count": 94,
      "outputs": []
    },
    {
      "cell_type": "code",
      "metadata": {
        "id": "784AsRMlgJIQ"
      },
      "source": [
        "model.eval()\n",
        "\n",
        "predictions_test_valid, true_labels_test_valid = [], []\n",
        "\n",
        "# Predict \n",
        "for batch in prediction_dataloader_valid:\n",
        "  # Add batch to GPU\n",
        "  batch = tuple(t.to(device) for t in batch)\n",
        "  # Unpack the inputs from our dataloader\n",
        "  b_input_ids, b_input_mask, b_labels = batch\n",
        "  # Telling the model not to compute or store gradients, saving memory and speeding up prediction\n",
        "  with torch.no_grad():\n",
        "    # Forward pass, calculate logit predictions\n",
        "    logits = model(b_input_ids, token_type_ids=None, attention_mask=b_input_mask)\n",
        "\n",
        "  # Move logits and labels to CPU\n",
        "  logits_test = logits.detach().cpu().numpy()\n",
        "  label_ids_test = b_labels.to('cpu').numpy()\n",
        "  \n",
        "  # Store predictions and true labels\n",
        "  predictions_test_valid.append(logits_test)\n",
        "  true_labels_test_valid.append(label_ids_test)"
      ],
      "execution_count": 95,
      "outputs": []
    },
    {
      "cell_type": "code",
      "metadata": {
        "id": "B4i-Fnn6gJDR",
        "outputId": "6dbd5d77-c9ed-4d7f-edc7-8acc64316851",
        "colab": {
          "base_uri": "https://localhost:8080/",
          "height": 71
        }
      },
      "source": [
        "flat_predictions_test_valid = [item for sublist in predictions_test_valid for item in sublist]\n",
        "flat_predictions_test_valid = np.argmax(flat_predictions_test_valid, axis=1).flatten()\n",
        "flat_true_labels_test_valid = [item for sublist in true_labels_test_valid for item in sublist]\n",
        "\n",
        "y_pred_invalid = flat_predictions_test_valid\n",
        "y_invalid = flat_true_labels_test_valid\n",
        "\n",
        "print(y_pred_invalid)\n",
        "print(y_invalid)"
      ],
      "execution_count": 96,
      "outputs": [
        {
          "output_type": "stream",
          "text": [
            "[0 2 0 0 0 0 0 2 0 0 0 0 0 0 0 0 0 0 2 0 0 0 2 2 0 2 0 0 0 2 0 2 0 2 2 2 2]\n",
            "[0, 2, 0, 0, 0, 999, 999, 999, 0, 0, 0, 0, 0, 999, 0, 999, 999, 0, 999, 0, 0, 3, 2, 999, 0, 999, 999, 0, 0, 999, 0, 2, 3, 2, 999, 999, 999]\n"
          ],
          "name": "stdout"
        }
      ]
    },
    {
      "cell_type": "code",
      "metadata": {
        "id": "ubOu2h00gI9k",
        "outputId": "591eb074-2c76-451f-e898-076ab3024124",
        "colab": {
          "base_uri": "https://localhost:8080/",
          "height": 258
        }
      },
      "source": [
        "from sklearn.metrics import classification_report\n",
        "invalid_class_report = classification_report(y_invalid, y_pred_invalid)\n",
        "print(invalid_class_report)"
      ],
      "execution_count": 97,
      "outputs": [
        {
          "output_type": "stream",
          "text": [
            "              precision    recall  f1-score   support\n",
            "\n",
            "           0       0.68      1.00      0.81        17\n",
            "           2       0.33      1.00      0.50         4\n",
            "           3       0.00      0.00      0.00         2\n",
            "         999       0.00      0.00      0.00        14\n",
            "\n",
            "    accuracy                           0.57        37\n",
            "   macro avg       0.25      0.50      0.33        37\n",
            "weighted avg       0.35      0.57      0.43        37\n",
            "\n"
          ],
          "name": "stdout"
        },
        {
          "output_type": "stream",
          "text": [
            "/usr/local/lib/python3.6/dist-packages/sklearn/metrics/_classification.py:1272: UndefinedMetricWarning: Precision and F-score are ill-defined and being set to 0.0 in labels with no predicted samples. Use `zero_division` parameter to control this behavior.\n",
            "  _warn_prf(average, modifier, msg_start, len(result))\n"
          ],
          "name": "stderr"
        }
      ]
    },
    {
      "cell_type": "code",
      "metadata": {
        "id": "RnsKHzwFe0cV",
        "outputId": "01eec145-60fc-4b79-84e9-cf101ce5e69b",
        "colab": {
          "base_uri": "https://localhost:8080/",
          "height": 85
        }
      },
      "source": [
        "p_i = 0\n",
        "n_i = 0\n",
        "for i in range(len(y_pred_invalid)):\n",
        "  if y_pred_invalid[i] == y_invalid[i]:\n",
        "    p_i += 1\n",
        "  else:\n",
        "    n_i += 1\n",
        "\n",
        "print(\"Invalid guessed correctly:\",p_i)\n",
        "print(\"Invalid guessed incorrectly:\",n_i)\n",
        "print(\"Total invalid:\", p_i + n_i)\n",
        "print(\"Invalid accuracy:\", p_i/(p_i+n_i))"
      ],
      "execution_count": 98,
      "outputs": [
        {
          "output_type": "stream",
          "text": [
            "Invalid guessed correctly: 21\n",
            "Invalid guessed incorrectly: 16\n",
            "Total invalid: 37\n",
            "Invalid accuracy: 0.5675675675675675\n"
          ],
          "name": "stdout"
        }
      ]
    },
    {
      "cell_type": "markdown",
      "metadata": {
        "id": "4_hz3TvpRDAp"
      },
      "source": [
        "Let's recap with the negative and valid classes."
      ]
    },
    {
      "cell_type": "code",
      "metadata": {
        "id": "HPm2k8fmRDAr",
        "outputId": "14bb2592-02b0-43df-8882-d61ee2e1a431",
        "colab": {
          "base_uri": "https://localhost:8080/",
          "height": 85
        }
      },
      "source": [
        "print(\"Negatives predicted correctly:\", neg_correct)\n",
        "print(\"Negatives predicted incorrectly:\", neg_incorrect)\n",
        "print(\"Total predicted negative:\",num_neg_predict)\n",
        "print(\"Negative accuracy:\", neg_correct/num_neg_predict)"
      ],
      "execution_count": 99,
      "outputs": [
        {
          "output_type": "stream",
          "text": [
            "Negatives predicted correctly: 1098\n",
            "Negatives predicted incorrectly: 114\n",
            "Total predicted negative: 1212\n",
            "Negative accuracy: 0.905940594059406\n"
          ],
          "name": "stdout"
        }
      ]
    },
    {
      "cell_type": "code",
      "metadata": {
        "id": "1EEkh5RDaS0W",
        "outputId": "e929b700-93b7-4182-c052-c9a51b3eb283",
        "colab": {
          "base_uri": "https://localhost:8080/",
          "height": 85
        }
      },
      "source": [
        "print(\"Valid guessed correctly:\",p)\n",
        "print(\"Valid guessed incorrectly:\",n)\n",
        "print(\"Total valid:\", p + n)\n",
        "print(\"Valid accuracy:\", p/(p+n))"
      ],
      "execution_count": 100,
      "outputs": [
        {
          "output_type": "stream",
          "text": [
            "Valid guessed correctly: 649\n",
            "Valid guessed incorrectly: 326\n",
            "Total valid: 975\n",
            "Valid accuracy: 0.6656410256410257\n"
          ],
          "name": "stdout"
        }
      ]
    },
    {
      "cell_type": "markdown",
      "metadata": {
        "id": "RaaGueWhafzz"
      },
      "source": [
        "Total accuracy"
      ]
    },
    {
      "cell_type": "code",
      "metadata": {
        "id": "E4ib5TMZRDAt",
        "outputId": "8c49a656-758e-4188-8ff0-e2d58cf88c70",
        "colab": {
          "base_uri": "https://localhost:8080/",
          "height": 323
        }
      },
      "source": [
        "total_preds = num_neg_predict + p + n + p_i + n_i\n",
        "print(\"Total guesses:\", total_preds)\n",
        "\n",
        "print(\"\\nCorrect negative guesses:\", neg_correct)\n",
        "print(\"Incorrect negative guesses:\", neg_incorrect)\n",
        "print(\"Total negative guesses:\", neg_correct + neg_incorrect)\n",
        "print(\"Negatige accuracy:\", neg_correct/num_neg_predict)\n",
        "\n",
        "print(\"\\nCorrect valid guesses:\", p)\n",
        "print(\"Incorrect valid guesses:\", n)\n",
        "print(\"Total valid guesses:\", p + n)\n",
        "print(\"Valid accuracy:\", p/(p+n))\n",
        "\n",
        "print(\"\\nCorrect invalid guesses:\", p_i)\n",
        "print(\"Incorrect invalid guesses:\", n_i)\n",
        "print(\"Total invalid guesses:\", p_i + n_i)\n",
        "print(\"Invalid accuracy:\", p_i/(p_i+n_i) if p_i+n_i else 0)\n",
        "\n",
        "print(\"\\nTotal accuracy:\", (neg_correct+p+p_i)/total_preds)"
      ],
      "execution_count": 101,
      "outputs": [
        {
          "output_type": "stream",
          "text": [
            "Total guesses: 2224\n",
            "\n",
            "Correct negative guesses: 1098\n",
            "Incorrect negative guesses: 114\n",
            "Total negative guesses: 1212\n",
            "Negatige accuracy: 0.905940594059406\n",
            "\n",
            "Correct valid guesses: 649\n",
            "Incorrect valid guesses: 326\n",
            "Total valid guesses: 975\n",
            "Valid accuracy: 0.6656410256410257\n",
            "\n",
            "Correct invalid guesses: 21\n",
            "Incorrect invalid guesses: 16\n",
            "Total invalid guesses: 37\n",
            "Invalid accuracy: 0.5675675675675675\n",
            "\n",
            "Total accuracy: 0.7949640287769785\n"
          ],
          "name": "stdout"
        }
      ]
    },
    {
      "cell_type": "markdown",
      "metadata": {
        "id": "S0F6KoUpr4Wk"
      },
      "source": [
        "Next we will calculate the precisions, recalls, and metrics for each class. We will start with the no relation class."
      ]
    },
    {
      "cell_type": "code",
      "metadata": {
        "id": "lV0FXQJIr8qf",
        "outputId": "bfc8ebaa-a3e6-4ae2-85eb-ef9b3c677c3e",
        "colab": {
          "base_uri": "https://localhost:8080/",
          "height": 238
        }
      },
      "source": [
        "tp_nor = 0\n",
        "tn_nor = 0\n",
        "fp_nor = 0\n",
        "fn_nor = 0\n",
        "\n",
        "for i in range(len(y_pred)):\n",
        "  if y_pred[i] == 0 and y[i] == 0:\n",
        "    tp_nor += 1\n",
        "  elif y_pred[i] == 0 and y[i] != 0:\n",
        "    fp_nor += 1\n",
        "  elif y_pred[i] != 0 and y[i] == 0:\n",
        "    fn_nor += 1\n",
        "  else: \n",
        "    tn_nor += 1\n",
        "\n",
        "prec_nor = tp_nor/(tp_nor+fp_nor)\n",
        "rec_nor = tp_nor/(tp_nor+fn_nor)\n",
        "f1_nor = 2*prec_nor*rec_nor / (prec_nor + rec_nor)\n",
        "\n",
        "tnr_nor = tn_nor/(tn_nor+fp_nor)\n",
        "fpr_nor = fp_nor/(fp_nor+tn_nor)\n",
        "\n",
        "print(\"No relation total:           \",tp_nor + tn_nor + fp_nor + fn_nor)\n",
        "print(\"No relation true positive:   \",tp_nor)\n",
        "print(\"No relation false positive:  \",fp_nor)\n",
        "print(\"No relation false negative:  \",fn_nor)\n",
        "print(\"No relation true negative:   \",tn_nor)\n",
        "\n",
        "print(\"\\nNo relation precision:       \", prec_nor)\n",
        "print(\"No relation recall:          \", rec_nor)\n",
        "print(\"No relation f1:              \", f1_nor)\n",
        "\n",
        "print(\"\\nNo relation specificity:     \", tnr_nor)\n",
        "print(\"No relation specificity:     \", tnr_nor)\n",
        "print(\"No relation FPR:             \", fpr_nor)"
      ],
      "execution_count": 102,
      "outputs": [
        {
          "output_type": "stream",
          "text": [
            "No relation total:            2224\n",
            "No relation true positive:    1098\n",
            "No relation false positive:   114\n",
            "No relation false negative:   106\n",
            "No relation true negative:    906\n",
            "\n",
            "No relation precision:        0.905940594059406\n",
            "No relation recall:           0.9119601328903655\n",
            "No relation f1:               0.9089403973509934\n",
            "\n",
            "No relation specificity:      0.888235294117647\n",
            "No relation specificity:      0.888235294117647\n",
            "No relation FPR:              0.11176470588235295\n"
          ],
          "name": "stdout"
        }
      ]
    },
    {
      "cell_type": "code",
      "metadata": {
        "id": "IKqGQ-272pn2",
        "outputId": "0e83e18d-feba-4b32-8e3c-7407ce9e0ac1",
        "colab": {
          "base_uri": "https://localhost:8080/",
          "height": 187
        }
      },
      "source": [
        "invalid_class_report_str = invalid_class_report.splitlines()\n",
        "invalid_class_report_str"
      ],
      "execution_count": 103,
      "outputs": [
        {
          "output_type": "execute_result",
          "data": {
            "text/plain": [
              "['              precision    recall  f1-score   support',\n",
              " '',\n",
              " '           0       0.68      1.00      0.81        17',\n",
              " '           2       0.33      1.00      0.50         4',\n",
              " '           3       0.00      0.00      0.00         2',\n",
              " '         999       0.00      0.00      0.00        14',\n",
              " '',\n",
              " '    accuracy                           0.57        37',\n",
              " '   macro avg       0.25      0.50      0.33        37',\n",
              " 'weighted avg       0.35      0.57      0.43        37']"
            ]
          },
          "metadata": {
            "tags": []
          },
          "execution_count": 103
        }
      ]
    },
    {
      "cell_type": "code",
      "metadata": {
        "id": "ZoS-18bjSuhv",
        "outputId": "0ec4a4ee-70bf-4d51-9da9-5dd8f77350a7",
        "colab": {
          "base_uri": "https://localhost:8080/",
          "height": 34
        }
      },
      "source": [
        "invalid_class_macro = np.array(invalid_class_report_str[len(invalid_class_report_str) - 2].split()[2:-1]).astype(np.float)\n",
        "invalid_class_macro"
      ],
      "execution_count": 104,
      "outputs": [
        {
          "output_type": "execute_result",
          "data": {
            "text/plain": [
              "array([0.25, 0.5 , 0.33])"
            ]
          },
          "metadata": {
            "tags": []
          },
          "execution_count": 104
        }
      ]
    },
    {
      "cell_type": "code",
      "metadata": {
        "id": "tYSRmmOsTpbH",
        "outputId": "50f3ba1f-c989-4c47-99f8-a2f1fa5338dd",
        "colab": {
          "base_uri": "https://localhost:8080/",
          "height": 34
        }
      },
      "source": [
        "invalid_class_weighted = np.array(invalid_class_report_str[len(invalid_class_report_str) - 1].split()[2:-1]).astype(np.float)\n",
        "invalid_class_weighted"
      ],
      "execution_count": 105,
      "outputs": [
        {
          "output_type": "execute_result",
          "data": {
            "text/plain": [
              "array([0.35, 0.57, 0.43])"
            ]
          },
          "metadata": {
            "tags": []
          },
          "execution_count": 105
        }
      ]
    },
    {
      "cell_type": "code",
      "metadata": {
        "id": "Z2whD2oPT7oO",
        "outputId": "6e7ed6c7-eeab-4c1c-af2e-bfa2572b1db8",
        "colab": {
          "base_uri": "https://localhost:8080/",
          "height": 34
        }
      },
      "source": [
        "invalid_class_support = int(invalid_class_report_str[-1].split()[-1])\n",
        "invalid_class_weighted\n",
        "invalid_class_support"
      ],
      "execution_count": 106,
      "outputs": [
        {
          "output_type": "execute_result",
          "data": {
            "text/plain": [
              "37"
            ]
          },
          "metadata": {
            "tags": []
          },
          "execution_count": 106
        }
      ]
    },
    {
      "cell_type": "code",
      "metadata": {
        "id": "qx8iPQ9pbGU_",
        "outputId": "7aa2a8f1-7548-4123-dade-502636e1f004",
        "colab": {
          "base_uri": "https://localhost:8080/",
          "height": 527
        }
      },
      "source": [
        "valid_class_report_str = valid_class_report.splitlines()\n",
        "valid_class_report_str"
      ],
      "execution_count": 107,
      "outputs": [
        {
          "output_type": "execute_result",
          "data": {
            "text/plain": [
              "['              precision    recall  f1-score   support',\n",
              " '',\n",
              " '           0       0.72      0.78      0.75       106',\n",
              " '           1       0.48      0.71      0.57        14',\n",
              " '           2       0.00      0.00      0.00         1',\n",
              " '           3       0.00      0.00      0.00         2',\n",
              " '           5       0.74      0.69      0.71        77',\n",
              " '           6       0.91      0.64      0.75        33',\n",
              " '           7       0.55      0.46      0.50        13',\n",
              " '           8       0.57      0.47      0.52        17',\n",
              " '           9       0.00      0.00      0.00         1',\n",
              " '          10       0.63      0.70      0.66        99',\n",
              " '          11       0.54      1.00      0.70        37',\n",
              " '          12       0.50      0.12      0.20         8',\n",
              " '          13       0.00      0.00      0.00         8',\n",
              " '          14       0.59      0.86      0.70        51',\n",
              " '          15       0.71      0.90      0.80        41',\n",
              " '          16       0.00      0.00      0.00         5',\n",
              " '          17       0.64      0.54      0.58        13',\n",
              " '          18       0.78      0.75      0.77        92',\n",
              " '          19       0.71      0.81      0.76       159',\n",
              " '          20       0.74      1.00      0.85        45',\n",
              " '          22       0.50      0.60      0.55         5',\n",
              " '          24       0.00      0.00      0.00         2',\n",
              " '          25       0.44      0.84      0.58        32',\n",
              " '         999       0.00      0.00      0.00       114',\n",
              " '',\n",
              " '    accuracy                           0.67       975',\n",
              " '   macro avg       0.45      0.50      0.46       975',\n",
              " 'weighted avg       0.59      0.67      0.62       975']"
            ]
          },
          "metadata": {
            "tags": []
          },
          "execution_count": 107
        }
      ]
    },
    {
      "cell_type": "code",
      "metadata": {
        "id": "0_4Lt96RUZhQ",
        "outputId": "ce8bbc28-8250-4611-e1b6-a1085a5feaba",
        "colab": {
          "base_uri": "https://localhost:8080/",
          "height": 34
        }
      },
      "source": [
        "valid_class_macro = np.array(valid_class_report_str[len(valid_class_report_str) - 2].split()[2:-1]).astype(np.float)\n",
        "valid_class_macro"
      ],
      "execution_count": 108,
      "outputs": [
        {
          "output_type": "execute_result",
          "data": {
            "text/plain": [
              "array([0.45, 0.5 , 0.46])"
            ]
          },
          "metadata": {
            "tags": []
          },
          "execution_count": 108
        }
      ]
    },
    {
      "cell_type": "code",
      "metadata": {
        "id": "YVA3MicnbMo3",
        "outputId": "38637ec5-ef46-425a-d459-e3d809abe8fc",
        "colab": {
          "base_uri": "https://localhost:8080/",
          "height": 34
        }
      },
      "source": [
        "valid_class_weighted = np.array(valid_class_report_str[len(valid_class_report_str) - 1].split()[2:-1]).astype(np.float)\n",
        "valid_class_weighted"
      ],
      "execution_count": 109,
      "outputs": [
        {
          "output_type": "execute_result",
          "data": {
            "text/plain": [
              "array([0.59, 0.67, 0.62])"
            ]
          },
          "metadata": {
            "tags": []
          },
          "execution_count": 109
        }
      ]
    },
    {
      "cell_type": "code",
      "metadata": {
        "id": "t9NdKeohbVnY",
        "outputId": "1ffd1866-d20f-4133-c3f5-cf6ba92874c6",
        "colab": {
          "base_uri": "https://localhost:8080/",
          "height": 34
        }
      },
      "source": [
        "valid_class_support = int(valid_class_report_str[-1].split()[-1])\n",
        "valid_class_weighted\n",
        "valid_class_support"
      ],
      "execution_count": 110,
      "outputs": [
        {
          "output_type": "execute_result",
          "data": {
            "text/plain": [
              "975"
            ]
          },
          "metadata": {
            "tags": []
          },
          "execution_count": 110
        }
      ]
    },
    {
      "cell_type": "code",
      "metadata": {
        "id": "bDJFBKwWegQ3"
      },
      "source": [
        "valid_precision_macro = valid_class_macro[0]\n",
        "valid_recall_macro = valid_class_macro[1]\n",
        "valid_f1_macro = valid_class_macro[2]\n",
        "\n",
        "invalid_precision_macro = invalid_class_macro[0]\n",
        "invalid_recall_macro = invalid_class_macro[1]\n",
        "invalid_f1_macro = invalid_class_macro[2]\n",
        "\n",
        "valid_precision_micro = valid_class_weighted[0]\n",
        "valid_recall_micro = valid_class_weighted[1]\n",
        "valid_f1_micro = valid_class_weighted[2]\n",
        "\n",
        "invalid_precision_micro = invalid_class_weighted[0]\n",
        "invalid_recall_micro = invalid_class_weighted[1]\n",
        "invalid_f1_micro = invalid_class_weighted[2]"
      ],
      "execution_count": 111,
      "outputs": []
    },
    {
      "cell_type": "code",
      "metadata": {
        "id": "ly0dI1umq4xZ",
        "outputId": "9445697f-bbfb-4512-d25e-821df623f43b",
        "colab": {
          "base_uri": "https://localhost:8080/",
          "height": 51
        }
      },
      "source": [
        "total_macro_prec = valid_precision_macro + invalid_precision_macro + neg_prec\n",
        "total_macro_prec /= 3\n",
        "print(\"Total macro precision:\",total_macro_prec)\n",
        "\n",
        "total_micro_prec = (valid_precision_micro*valid_class_support) + (invalid_precision_micro*invalid_class_support) + (neg_prec*num_neg_predict)\n",
        "total_micro_prec /= valid_class_support + invalid_class_support + num_neg_predict\n",
        "print(\"Total micro precision:\",total_micro_prec)"
      ],
      "execution_count": 112,
      "outputs": [
        {
          "output_type": "stream",
          "text": [
            "Total macro precision: 0.5353135313531353\n",
            "Total micro precision: 0.7581834532374101\n"
          ],
          "name": "stdout"
        }
      ]
    },
    {
      "cell_type": "code",
      "metadata": {
        "id": "WXTMZ6gnu4B5",
        "outputId": "d078546b-d8ae-47b0-f76d-c3700d11aaf8",
        "colab": {
          "base_uri": "https://localhost:8080/",
          "height": 51
        }
      },
      "source": [
        "total_macro_rec = valid_recall_macro + invalid_recall_macro + neg_rec\n",
        "total_macro_rec /= 3\n",
        "print(\"Total macro recall:\",total_macro_rec)\n",
        "\n",
        "total_micro_rec = (valid_recall_micro*valid_class_support) + (invalid_recall_micro*invalid_class_support) + (neg_rec*num_neg_predict)\n",
        "total_micro_rec /= valid_class_support + invalid_class_support + num_neg_predict\n",
        "print(\"Total micro recall:\",total_micro_rec)"
      ],
      "execution_count": 113,
      "outputs": [
        {
          "output_type": "stream",
          "text": [
            "Total macro recall: 0.6373200442967885\n",
            "Total micro recall: 0.8001958997585984\n"
          ],
          "name": "stdout"
        }
      ]
    },
    {
      "cell_type": "code",
      "metadata": {
        "id": "aI4B9efInYUR",
        "outputId": "b158539c-8cd3-41c6-9393-1409b2f338b1",
        "colab": {
          "base_uri": "https://localhost:8080/",
          "height": 51
        }
      },
      "source": [
        "total_macro_f1 = valid_f1_macro + invalid_f1_macro + neg_rec\n",
        "total_macro_f1 /= 3\n",
        "print(\"Total macro f1:\",total_macro_f1)\n",
        "\n",
        "total_micro_f1 = (valid_f1_micro*valid_class_support) + (invalid_f1_micro*invalid_class_support) + (neg_f1*num_neg_predict)\n",
        "total_micro_f1 /= valid_class_support + invalid_class_support + num_neg_predict\n",
        "print(\"Total micro f1:\",total_micro_f1)"
      ],
      "execution_count": 114,
      "outputs": [
        {
          "output_type": "stream",
          "text": [
            "Total macro f1: 0.5673200442967885\n",
            "Total micro f1: 0.7743011517937967\n"
          ],
          "name": "stdout"
        }
      ]
    },
    {
      "cell_type": "code",
      "metadata": {
        "id": "jGfutCA6spjy",
        "outputId": "be5883b3-bede-4fba-9175-61196d5afff7",
        "colab": {
          "base_uri": "https://localhost:8080/",
          "height": 170
        }
      },
      "source": [
        "print(\"Total metrics (macro):\")\n",
        "print(\"Total macro precision:\",total_macro_prec)\n",
        "print(\"Total macro recall:\",total_macro_rec)\n",
        "print(\"Total macro f1:\",total_macro_f1)\n",
        "\n",
        "print(\"\\nTotal metrics (micro):\")\n",
        "print(\"Total micro precision:\",total_micro_prec)\n",
        "print(\"Total micro recall:\",total_micro_rec)\n",
        "print(\"Total micro f1:\",total_micro_f1)"
      ],
      "execution_count": 115,
      "outputs": [
        {
          "output_type": "stream",
          "text": [
            "Total metrics (macro):\n",
            "Total macro precision: 0.5353135313531353\n",
            "Total macro recall: 0.6373200442967885\n",
            "Total macro f1: 0.5673200442967885\n",
            "\n",
            "Total metrics (micro):\n",
            "Total micro precision: 0.7581834532374101\n",
            "Total micro recall: 0.8001958997585984\n",
            "Total micro f1: 0.7743011517937967\n"
          ],
          "name": "stdout"
        }
      ]
    }
  ]
}